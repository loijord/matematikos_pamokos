{
 "cells": [
  {
   "cell_type": "markdown",
   "metadata": {},
   "source": [
    "# ,,Kaip spręsti, kaip nežinai kaip\" apžvalga"
   ]
  },
  {
   "cell_type": "markdown",
   "metadata": {},
   "source": [
    "Knygoje yra 50 uždavinių su sprendimais ir komentarais. \n",
    "Nusprendžiau juos pasibandyti persispręsti, kad geriau prisiminčiau, kokie \n",
    "aplanko etapai besprendžiant, kokie loginiai pagrindai yra lengvesni, sunkesni ar \n",
    "populiaresni.\n",
    "\n",
    "Bandysiu užfiksuoti:\n",
    "    * R. Kašubos pančlainus, skirtus apibūdinti uždavinių sprendimo momentus\n",
    "    * Kokie yra esminiai bottlenekai, po kurių uždavinys tampa išsprendžiamu\n",
    "    * Kaip skaitytojas yra vedamas per tyrinėjimo procesą, kaip skaitytojas (aš) nueina savarankiškai, be vedimo."
   ]
  },
  {
   "cell_type": "markdown",
   "metadata": {},
   "source": [
    "### 1. Latviški septyneto kartotiniai ir jų skaitmenų sumos\n",
    "**Kokie skaičiai gali būti iš 7 besidalijančio skaičiaus skaitmenų sumomis?**\n",
    "\n",
    "Konkretizavimas:\n",
    "* Ar gali būti 10?\n",
    "* Ar gali būti 100?\n",
    "* Ar gali būti 2006?\n",
    "* Kokia yra mažiausia tokia suma?\n",
    "\n",
    "Generalizavimas:\n",
    "* Kokia gali būti iš 23 besidalijančio skaičiaus skaitmenų suma? (II Lietuvos jaunesniųjų klasių moksleivių olimpiada)\n",
    "* Kaip atvejais 99, 5, 101?\n",
    "\n",
    "#### Punchlines\n",
    "* Žmogui paprastai prieinama daug daugiau, nei jis įsivaizduoja\n",
    "* Yra situacijų, kai profesionalas nuo mėgėjo tesiskiria tuo, kad žino viena smulkmena daugiau ir ta smulkmena dažniausiai būna lemiama\n",
    "* Nuo didingo iki juokingo vienas žingsnis\n",
    "* Ne vien šventieji puodus lipdo\n",
    "* Spręsti uždavinį ir ieškoti tiesos - tas pats\n",
    "* Galynėtis su uždaviniu visada pamokoma, įdomu ir prasminga, ypač, jei pavyksta rasti tiesą, kurią buvome prašome rasti\n",
    "* Iš pradžių klausia paprasto, akivaizdaus, skatina įsitraukti į veiksmą, susidomėti, paliesti mąstymo, vaizduotės, ambicijos stygas\n",
    "* Uždavinio sprendimas - tai lyg mokslo teorijos kūrimas: iš pradžių yra kaupiami faktai ir eksperimentiniai duomenys, toliau, remiantis tam tikromis idėjomis ar veiksmais, gaunami tam tikri tarpiniai rezultatai ir daromos išvados\n",
    "* Sukurtoji teorija paprastai kelia naujus uždavinius, o gera teorija jų prikelia daugiau, negu reikia\n",
    "\n",
    "#### Bottlenecks\n",
    "* Bendru atveju - imami skaičiai 1, 10, 100..., $\\mod n$, žiūrimas ciklo ilgis, ieškoma, ar cikle yra liekanos -1, -2."
   ]
  },
  {
   "cell_type": "markdown",
   "metadata": {},
   "source": [
    "### 2. Nepastebimi virptelėjimai arba mikrojudesiai\n",
    "\n",
    "**Sudedant tam tikrus penkis natūraliuosius skaičius $a$, $b$, $c$, $d$ ir $e$ visais galimais būdais po tris, gaunamos 7 skirtingos sumos, o po keturis - penkios. Reikia įrodyti, kad visų tų penkių skaičių suma dalijasi iš 5** (Minskas, 2004, 7klasė)\n",
    "\n",
    "Varijavimas\n",
    "\n",
    "* Ar galima skaičių 2004 užrašyti kelių skirtingų dėmenų suma taip, kad dėliodami tuos dėmenis visais galimais būdais po 2, gautume lygiai 7 skirtingas sumas?\n",
    "* Duota 100 skirtingų realiųjų skaičių. Yra žinoma, kad mažiausias iš jų yra 0,08, o didžiausias iš jų 40, o dėliodami visais galimais būdais juos po du, iš viso gautume 197 skirtingas sumas.\n",
    "* Raskite duotųjų 100 skaičių suma.\n",
    "* Raskite ir patį didžiausią, ir patį mažiausią natūralųjį skaičių $n$ tokius, jog būtų galima nurodyti $n$ tokių skirtingų realiųjų skaičių, kad juos sudėję visais galimais būdais po du, gautume 2004 skirtingas sumas\n",
    "\n",
    "#### Punchlines\n",
    "* Dažnai apie ką nors mes sakome, kad tai tokia smulkmena, kad ją vos galima įžiūrėti, tačiau net ir mažytis kauburėlis alpinistui gali turėti lemiamos reikšmės.\n",
    "\n",
    "#### Bottlenecks\n",
    "* Atvejui $a<b<c<d<e$ ieškoma, kiek daugiausia porų galima surašyti, kad jos eitų didėjimo tvarka ir paaiškėja, kad netgi įmanoma nustatyti, kokios tos sumos tiksliai yra.\n",
    "* Man pavyko nustatyti kitokiu būdu, atsakant į klausimą, kokie skaičiai iš 4 didėjimo tvarka duotų gali būti lygūs."
   ]
  },
  {
   "cell_type": "markdown",
   "metadata": {},
   "source": [
    "### 3. Nežiniuko pašto ženklų albumai\n",
    "\n",
    "**Dedant penkis skaičius po tris, gautos trys skirtingos sumos - 13, 18 ir 23. Rasti tuos penkis skaičius.**\n",
    "\n",
    "#### Bottlenecks\n",
    "Iš visų sumų derinių bent 4 bus skirtingi, jei $a<b<c<d<e$."
   ]
  },
  {
   "cell_type": "markdown",
   "metadata": {},
   "source": [
    "### 4. Ir kokios yra mano galimybių ribos?\n",
    "\n",
    "* **Kiek daugiausia iš eilės einančių natūraliųjų skaičių galima parašyti, kad jų skaitmenų suma nesidalintų iš 5?**\n",
    "\n",
    "Generalizavimas \n",
    "* O kiek mažiausia?\n",
    "* Kaip su 6?\n",
    "* Kaip su 9?\n",
    "* Kaip su 11?\n",
    "* Kaip su 13? (Baltijos kelias)\n",
    "\n",
    "\n",
    "#### Punchlines\n",
    "* Matematika teikia beveik neribotas galimybes pasitreniruoti besiaiškinant, kas galima, ir kas neįmanoma.\n",
    "* Pirmiausia į galvą prisistato mintis...\n",
    "* Jei pabandytume eksperimentą...\n",
    "* Ar kas pastebimai keisis lyginant su ankstesniu pavyzdžiu?...\n",
    "\n",
    "#### Bottlenecks\n",
    "* Kiekvienoje dešimtyje gali būti ne daugiau kaip 5 tokie skaičiai.\n",
    "* Stengiamės, kad paskutinio skaičiaus paskutinėje dešimtyje liekana būtų $n-1$, o sekančio 1 dalijant iš $n$.\n",
    "* Nėra sunku rasti visus galimus skaičius, kuriais gali sumažėti skaitmenų suma pridedant 1 (Simonas)"
   ]
  },
  {
   "cell_type": "code",
   "execution_count": null,
   "metadata": {},
   "outputs": [],
   "source": []
  }
 ],
 "metadata": {
  "kernelspec": {
   "display_name": "Python 3",
   "language": "python",
   "name": "python3"
  },
  "language_info": {
   "codemirror_mode": {
    "name": "ipython",
    "version": 3
   },
   "file_extension": ".py",
   "mimetype": "text/x-python",
   "name": "python",
   "nbconvert_exporter": "python",
   "pygments_lexer": "ipython3",
   "version": "3.7.4"
  }
 },
 "nbformat": 4,
 "nbformat_minor": 2
}
