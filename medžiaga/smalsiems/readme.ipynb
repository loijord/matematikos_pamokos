{
 "cells": [
  {
   "cell_type": "markdown",
   "metadata": {},
   "source": [
    "### Apie kosmosą\n",
    "\n",
    "Jei kamuoja klausimai apie visatą ir norisi labiau pažinti kosmosą, štai keletas įdomių nuorodų:\n",
    "    \n",
    "* Rekomenduoju [Mokslo sriubą](https://www.youtube.com/user/mokslosriuba). Ten gausybė įdomiausių temų, įskaitant tokias, kaip [Apollo 11 skrydis į Mėnulį](https://www.youtube.com/watch?v=uEbGlIdV-7s) arba [JAV ir SSRS lenktynės](https://www.youtube.com/watch?v=iLMZD84Qf7k&t=11s)\n",
    "* [Kelionė po visatą](https://www.youtube.com/watch?v=Afthg488n0E) beklausant techno garsų iš Jeff Mills albumo\n",
    "* [Juodosios skylės vizualizacija](https://www.youtube.com/watch?v=8XEhtTr5Ud4)\n",
    "* [Kassavaitinės naujienos](http://www.konstanta.lt/) astronominiuose atradimuose\n",
    "* [Celestia kompiuterinė programa](https://celestia.space/) ir [sutrumpinta instrukcija](Celestia/celestia.pdf), kaip ja naudotis.\n",
    "* [Straipsnelis apie dangų](http://www.konstanta.lt/2019/12/skaitant-dangaus-zenklus-mokslo-populiarinimo-konkursas/)"
   ]
  },
  {
   "cell_type": "code",
   "execution_count": null,
   "metadata": {},
   "outputs": [],
   "source": []
  }
 ],
 "metadata": {
  "kernelspec": {
   "display_name": "Python 3",
   "language": "python",
   "name": "python3"
  },
  "language_info": {
   "codemirror_mode": {
    "name": "ipython",
    "version": 3
   },
   "file_extension": ".py",
   "mimetype": "text/x-python",
   "name": "python",
   "nbconvert_exporter": "python",
   "pygments_lexer": "ipython3",
   "version": "3.7.7"
  }
 },
 "nbformat": 4,
 "nbformat_minor": 4
}
