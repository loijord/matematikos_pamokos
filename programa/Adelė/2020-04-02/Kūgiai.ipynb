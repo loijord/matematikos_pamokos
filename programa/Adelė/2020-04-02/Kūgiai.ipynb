{
 "cells": [
  {
   "cell_type": "markdown",
   "metadata": {},
   "source": [
    "## Kūgiai - geometrijos formulių įsiminimas per eksperimentus"
   ]
  },
  {
   "cell_type": "markdown",
   "metadata": {},
   "source": [
    "### Ką reikia prisiminti prieš sprendžiant uždavinius\n",
    "* Apskritimo ilgio formulė $C = 2\\pi r$\n",
    "* Skritulio ploto formulė $S = \\pi r^2$\n",
    "* Skritulio išpjovos ploto formulė $S = \\pi r^2 \\times \\frac{\\alpha}{360^o}$\n",
    "* Pitagoro teorema $a^2+b^2=c^2$\n",
    "* Geometrinė vaizduotė"
   ]
  },
  {
   "cell_type": "markdown",
   "metadata": {},
   "source": [
    "### Kaip veikia atmintis mokantis geometriją\n",
    "Išmokus savybes, kurias tenkina kūgiai, jos gali pasirodyti sudėtingos ir greitai užsimiršti.\n",
    "\n",
    "**Nors patirtis yra būtina intelektualinio vystymosi dalis, tačiau galime atsidurti iliuzijoje, kad patirties suteikimas subjektui yra pakankamas jam atskirti struktūras. To nepakanka. Subjektas turi būti aktyvus, gebėti keisti daiktus ir atrasti struktūras savo paties sąveikoje su objektais. (Piaget 1964)**\n",
    "\n",
    "Suprantamiau: mokantis vien taisyklių apie kūgius negalime gerai jų perprasti. Turime pamatyti, kaip kūgis gali būti sulankstomas iš jo išklotinės, kaip keičiasi skritulio plotas keičiant išpjovos kampą ir t.t. "
   ]
  },
  {
   "cell_type": "markdown",
   "metadata": {},
   "source": [
    "### Tipinė situacija:\n",
    "Klausimas: Kokia skritulio ploto formulė?\n",
    "\n",
    "Atsakymas: Užmiršau, bet man regis kažkas su $\\pi$ ir $r$"
   ]
  },
  {
   "cell_type": "markdown",
   "metadata": {},
   "source": [
    "### Kaip išvengti tipinės situacijos?\n",
    "Pasirinkti teisingą įsiminimo schemą. \n",
    "* Dalis formulių įsimenamos interpretuojant mintinių eksperimentų rezultatus. \n",
    "* Kita dalis - įsimenant žodžių derinį, simbolių vietas, spalvas.\n",
    "\n",
    "Svarbu: aktyviai įsitraukti į eksperimentus"
   ]
  },
  {
   "cell_type": "markdown",
   "metadata": {},
   "source": [
    "### Pagalbiniai įrankiai, skirti mokytis geometriją\n",
    "* [Geometrinę vaizduotę lavinantis žaidimas Euclidea](www.euclidea.xyz/)\n",
    "* [Mintinių eksperimentų vizualizacijos](https://www.geogebra.org/materials)\n",
    "* [Programa, su kuria galima braižyti brėžinius - Geogebra Classic  6](https://www.geogebra.org/download)"
   ]
  },
  {
   "cell_type": "markdown",
   "metadata": {},
   "source": [
    "### Eksperimentai\n",
    "* Jei atliekame mintyse - mintiniai experimentai\n",
    "* Jei stebime kompiuteryje - vizualizacijos\n",
    "* Kiti - braižymai, konstravimai, karpymai\n",
    "\n",
    "Šie eksperimentai nereikalauja specialių geometrinių žinių, bet be jų neįmanoma suprasti geometrijos."
   ]
  },
  {
   "cell_type": "markdown",
   "metadata": {},
   "source": [
    "### Eksperimentų pavyzdžiai"
   ]
  },
  {
   "cell_type": "markdown",
   "metadata": {},
   "source": [
    "1\\. **Mintinis eksperimentas**:\n",
    "    Ar pavyks iš šios skritulio išpjovos mintyse išlankstyti geometrinį kūną?\n",
    "\n",
    "   ![išpjova](išpjova.png)\n",
    "\n",
    "   Pasirodo, kad eksperimentą lengva atlikti mintyse.\n",
    "\n",
    "2\\. **Vizualizacija** \n",
    "Tam pačiam eksperimentui galime surasti vizualizaciją. Parodysiu, kaip nesunkiai tą galima padaryti:\n",
    "* Eikime į [geogebros resursus](https://www.geogebra.org/materials)\n",
    "* Pasirinkime tokį kelią: *Math -> Geometry -> Solids (erdviniai kūnai) -> Cone (kūgis) -> Net of a cone (išklotinė)*\n",
    "* Turėjome patekti į šią [vizualizaciją](https://www.geogebra.org/m/yzGzrUxs)"
   ]
  },
  {
   "cell_type": "markdown",
   "metadata": {},
   "source": [
    "3\\. **Mintinis eksperimentas**\n",
    "Sukarpykime skritulį, kurio spindulys yra $r$ į $n$ lygių dalių ir sudėliokime tas dalis į stačiakampį gardelį. Į ką artėja gardelio kraštinės ir plotas, kai $n$ artėja į begalybę?\n",
    "\n",
    "4\\. **Vizualizacija**\n",
    "Eksperimento atlikti mintyse nepavyko, nes sunku suprasti sąlygą. Tuomet einame į *Math -> Geometry -> Plane figures -> Circle-> Area of a Circle - Wedge/Sector*, [pasirenkame vizualizaciją](https://www.geogebra.org/m/ksVtb9x7)\n",
    "\n",
    "   ![vizualizacija](chinese.png)\n",
    "\n",
    "Aišku, kad tuščios vietos gardelyje mažėja, o kraštinių ilgiai artėja į $r$ ir $\\pi r$. Tuomet stačiakampio gardelio plotas artėja į $\\pi r^2$. \n",
    "\n",
    "5\\. **Mintinis eksperimentas**. Ar tikrai matosi, kokią liniją atitinka viršutinis ir apatinis gardelio kraštai žiūrint į pradinį skritulį?"
   ]
  },
  {
   "cell_type": "markdown",
   "metadata": {},
   "source": [
    "6\\. **Mintinis eksperimentas**. Kaip keičiasi apskritimo ilgio ir skersmens santykis, kai keičiame spindulio ilgį?  Atsakymas: nesikeičia, visuomet išlieka lygus $\\pi$\n",
    "\n",
    "7\\. **Vizualizacija** Tai suprasti geriau padės [ši vizualizacija](https://www.geogebra.org/m/Qz9CuJT8)\n",
    "(Circle -> TRUE MEANING of π)\n",
    "\n",
    "   ![diametrisation](diametrisation.png)\n",
    "    \n",
    "Ar dabar matyti, kad visada į apskritimo perimetrą telpa trys skersmenys su trupučiu nepriklausomai nuo apskritimo spindulio?"
   ]
  },
  {
   "cell_type": "markdown",
   "metadata": {},
   "source": [
    "8\\. **Mintinis eksperimentas**. Kaip priklauso išpjovos plotas nuo jos vidinio kampo? \n",
    "\n",
    "![pjuvis](pjūvis.png)\n",
    "\n",
    "Atsakymą galima suformuluoti įvairiais būdais: \n",
    "\n",
    "$$ \\text{išpjovos plotas ir išpjovos vidinis kampas - proporcingi dydžiai}$$ \n",
    "\n",
    "$$ \\text{santykiai } \\frac{\\alpha^o}{360^o}\\text{ ir }\\frac{\\text{išpjovos plotos}}{\\text{visas plotas}}\\text{ yra vienodi.}$$ \n",
    "\n",
    "$$360^{o} \\text{ kampo dalis} = \\text{išpjovos ploto dalis}$$ \n",
    "\n",
    "$$\\text{į $360^o$ telpa tiek }\\alpha\\text{ kampų, kiek išpjovų telpa į visą skritulį}$$ \n",
    "\n",
    "Pastaba: nepažįstant proporcingumo savybės, ją reiktų atrasti atliekant per konkrečių $\\alpha$ reikšmių stebėjimą:\n",
    "\n",
    "| $\\alpha$  | $\\large{\\frac{\\alpha}{360^o}}$| išpjovos ploto dalis| Kiek $\\alpha$ kampų sudaro $360^{o}$?| Kiek išpjovų sudaro skritulį?|\n",
    "| :----: | :----: | :----: | :----: | :----: |\n",
    "| $60^{o}$ | $\\frac{1}{6}$ |$\\frac{1}{6}$| 6 | 6 |\n",
    "| $90^{o}$ | $\\frac{1}{4}$ |$\\frac{1}{4}$| 4 | 4 |\n",
    "| $180^{o}$ | $\\frac{1}{2}$ |$\\frac{1}{2}$| 2 | 2 |\n",
    "| $50^{o}$ | $\\frac{5}{36}$ |$\\frac{5}{36}$| 7,2 | 7,2 |"
   ]
  },
  {
   "cell_type": "markdown",
   "metadata": {},
   "source": [
    "9\\. **Klausimas**. Kaip įsiminti Pitagoro teoremą? Atsakymas: lygybei $a^2+b^2=c^2$ įsiminti galima naudoti vaizdą\n",
    "    \n",
    "  ![pitagoras](pitagoras.png)\n",
    "  \n",
    "  Pitagoro teorema teigia, kad, jei $c$ yra stačiojo trikampio įžambinė, o $a$ ir $b$ statiniai, tai $a^2+b^2=c^2$. Jos išaiškinimas užtruktų laiko, tad vaizdą įsiminti lengviau. "
   ]
  }
 ],
 "metadata": {
  "kernelspec": {
   "display_name": "Python 3",
   "language": "python",
   "name": "python3"
  },
  "language_info": {
   "codemirror_mode": {
    "name": "ipython",
    "version": 3
   },
   "file_extension": ".py",
   "mimetype": "text/x-python",
   "name": "python",
   "nbconvert_exporter": "python",
   "pygments_lexer": "ipython3",
   "version": "3.7.4"
  }
 },
 "nbformat": 4,
 "nbformat_minor": 2
}
