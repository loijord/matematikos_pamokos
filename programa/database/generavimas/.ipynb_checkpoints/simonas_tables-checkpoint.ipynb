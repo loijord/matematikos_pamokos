{
 "cells": [
  {
   "cell_type": "code",
   "execution_count": 1,
   "metadata": {},
   "outputs": [],
   "source": [
    "import json\n",
    "import os\n",
    "from IPython.display import display, Markdown\n",
    "\n",
    "def read_json(file):\n",
    "    with open(file, encoding='utf-8') as fh:\n",
    "        data = json.loads(fh.read())\n",
    "    return data\n",
    "\n",
    "def document_it(clusters, branches):\n",
    "    clusters = read_json(clusters)\n",
    "    branches = read_json(branches)\n",
    "    headings = dict(zip([clusters[n][0] for n in clusters], clusters))\n",
    "    docstring = ''\n",
    "    for branch in branches:\n",
    "        if branch in headings:\n",
    "            docstring += f'\\n### {headings[branch]}\\n\\n'\n",
    "        docstring += f'* **{branch}.** {branches[branch]}\\n'\n",
    "    return docstring\n",
    "\n",
    "def show_problem(complect, id, show_solution=True):\n",
    "    problem = read_json(f'{complect}.txt')[id]\n",
    "    step = '**Užduotis.**\\n\\n' + problem[\"Sąlyga\"]\n",
    "    if show_solution: step += ('\\n\\n**Sprendimas.**\\n' + '\\n'.join([f'* {n}' for n in problem[\"Sprendimas\"]]))\n",
    "    return step\n",
    "\n",
    "def show_case(complect, id, which=1, show_solution=True):\n",
    "    skills = read_json(f'{complect}.txt')[id][\"Gebėjimai\"][which-1]\n",
    "    step = '**Uždavinio dalis ' + f\"{which}, kurioje yra {skills['Gebėjimas']}\" + '.**\\n\\n' + skills['Atitikmuo']\n",
    "    if show_solution: step += ('\\n\\n**Sprendimas.**\\n\\n' + skills['Sprendimas'])\n",
    "    return step\n",
    "\n",
    "def check(name, problem_id, extension='.txt'):\n",
    "    display(Markdown(show_problem(name, problem_id, show_solution=True)))\n",
    "    problem = read_json(name + extension)\n",
    "    for i in range(len(problem[problem_id]['Gebėjimai'])): \n",
    "        display(Markdown('-'*100))\n",
    "        display(Markdown(show_case(name, problem_id, which=i+1, show_solution=True)))"
   ]
  },
  {
   "cell_type": "code",
   "execution_count": 2,
   "metadata": {},
   "outputs": [
    {
     "data": {
      "text/markdown": [
       "\n",
       "### Skaičiai ir skaičiavimai\n",
       "\n",
       "* **Dalumas.** Atpažinti ir naudoti natūraliuosius skaičius. Taikyti dalumo iš 2, 3, 5, 9 ir 10 požymius. Atpažinti pirminius ir sudėtinius skaičius. Sudėtinius skaičius skaidyti pirminiais dauginamaisiais. Taikyti sąvokas: dviejų skaičių (didžiausiasis) bendrasis daliklis ar (mažiausiasis) bendrasis kartotinis.\n",
       "* **$\\mathbb{Z}$ ir $\\mathbb{Q}$ operacijos.** Atlikti aritmetinius veiksmus su sveikaisiais ir trupmeniniais skaičiais. Taikyti šias sąvokas skaičiams: priešingas, atvirkštinis, lyginis (nelyginis), modulis. Taikyti pagrindinę proporcijos savybę\n",
       "* **Procentai.** Suvokti procento sąvoką. Rasti skaičių, kai žinomi jo procentai, rasti skaičiaus procentą.\n",
       "* **Šaknys ir laipsniai.** Taikyti žinias apie skaičiaus kėlimą sveikuoju laipsniu, kvadratinės ir kubinės šaknies traukimą. Atlikti nesudėtingus veiksmus su laipsniais.\n",
       "\n",
       "### Reiškiniai, lygtys, nelygybės\n",
       "\n",
       "* **Vienanarių ir daugianarių operacijos.** Atlikti vienanarių ir daugianarių sudėtį, atimtį ir daugybą.\n",
       "* **Laipsnių taikymas reiškiniuose.** Prastinant reiškinius taikyti veiksmų su laipsniais, kurių rodiklis sveikasis skaičius, savybes.\n",
       "* **Skaidymas dauginamaisiais.** Nesudėtingais atvejais skaidyti daugianarius daugikliais.\n",
       "* **Greitosios daugybos formulės.** Taikyti greitosios daugybos formules.\n",
       "* **Lygtys ir nelygybės.** Sudaryti ir spręsti tiesines lygtis, nelygybes. Taip pat nepilnąsias kvadratines lygtis. Jų sprendinius vaizduoti skaičių tiesėje.\n",
       "* **Lygčių ir nelygybių sudarymas.** Spręsti tekstinius uždavinius sudarant lygtis, nelygybes.\n",
       "\n",
       "### Geometrija\n",
       "\n",
       "* **Figūrų pažinimas.** Atpažinti, pavaizduoti, apibūdinti paprasčiausias geometrines figūras.\n",
       "* **Kampų rūšys.** Taikyti gretutinių, kryžminių kampų ir kampų, gautų dvi lygiagrečias tieses perkirtus trečiąja, savybes.\n",
       "* **Trikampių savybės.** Taikyti žinias apie trikampį, jo aukštines, pusiaukraštines, pusiaukampines. Taikyti lygiašonio ir lygiakraščio trikampio savybes, trikampių lygumo požymius. Skaičiuoti trikampio perimetrą ir plotą.\n",
       "* **Keturkampių savybės.** Taikyti keturkampių (kvadrato, stačiakampio, lygiagretainio, rombo, trapecijos) savybes ir skaičiuoti jų perimetrus bei plotus.\n",
       "* **Pitagoro teorema.** Taikyti Pitagoro ir jai atvirkštinę teoremas.\n",
       "* **Apskritimo ir skritulio savybės.** Taikyti žinias apie apskritimą ir skritulį. Skaičiuoti apskritimo ilgį ir skritulio plotą.\n",
       "* **Erdvės geometrija.** Paprastais atvejais apskaičiuoti kubo, stačiakampio gretasienio, taisyklingosios piramidės, ritinio ir kūgio elementus.\n",
       "\n",
       "### Kombinatorika\n",
       "\n",
       "* **Sudėties ir daugybos taisyklės.** Taikyti kombinatorines sudėties ir daugybos taisykles, sprendžiant paprastus uždavinius. (pvz. nustatyti, kiek yra palindrominių penkiaženklių skaičių).\n"
      ],
      "text/plain": [
       "<IPython.core.display.Markdown object>"
      ]
     },
     "metadata": {},
     "output_type": "display_data"
    }
   ],
   "source": [
    "display(Markdown(document_it(r'..\\licejus\\clusters.txt', r'..\\licejus\\branches.txt')))"
   ]
  },
  {
   "cell_type": "code",
   "execution_count": 3,
   "metadata": {},
   "outputs": [],
   "source": [
    "name = 'simonas/tables'\n",
    "fullname = name + '.txt'\n",
    "if os.path.basename(os.getcwd()) == 'generavimas':\n",
    "    os.chdir('..')\n",
    "if os.path.dirname(fullname) not in os.listdir():\n",
    "    os.mkdir(os.path.dirname(fullname))\n",
    "if os.path.basename(fullname) not in os.listdir(os.path.dirname(fullname)):\n",
    "    f=open(fullname, 'w')\n",
    "    f.write('{}')\n",
    "    f.close()\n",
    "content = read_json(fullname)"
   ]
  },
  {
   "cell_type": "code",
   "execution_count": 15,
   "metadata": {},
   "outputs": [],
   "source": [
    "problem_id = '1'\n",
    "text = 'Išskleiskite: $(x-2)(x+2)$'\n",
    "solution = ['$(x-2)(x+2)=\\\\begin{array}{c|c|c} &x&-2 \\\\\\\\ \\\\hline x&x^2&-2x \\\\\\\\ \\\\hline 2&2x&-4\\\\end{array} = x^2 - 4$']\n",
    "\n",
    "problem = {problem_id: {'Sąlyga': text, 'Gebėjimai': [dict()], 'Sprendimas': solution}}\n",
    "\n",
    "problem[problem_id]['Gebėjimai'][0]['Gebėjimas'] = 'Vienanarių ir daugianarių operacijos'\n",
    "problem[problem_id]['Gebėjimai'][0]['Atitikmuo'] = ''\n",
    "problem[problem_id]['Gebėjimai'][0]['Sprendimas'] = ''\n",
    "content.update(problem)\n",
    "\n",
    "\n",
    "with open(f\"{name}.txt\", \"w\", encoding='utf-8') as out_file:\n",
    "    json.dump(content, out_file, indent = 4, ensure_ascii=False)\n",
    "    \n",
    "#check(name, problem_id)"
   ]
  },
  {
   "cell_type": "code",
   "execution_count": 17,
   "metadata": {},
   "outputs": [],
   "source": [
    "problem_id = '2'\n",
    "text = 'Išskleiskite: $(x+2)(x+2)$'\n",
    "solution = ['$(x+2)(x+2)=\\\\begin{array}{c|c|c} &x&2 \\\\\\\\ \\\\hline x&x^2&2x \\\\\\\\ \\\\hline 2&2x&4\\\\end{array} = x^2 +4x + 4$']\n",
    "\n",
    "problem = {problem_id: {'Sąlyga': text, 'Gebėjimai': [dict()], 'Sprendimas': solution}}\n",
    "\n",
    "problem[problem_id]['Gebėjimai'][0]['Gebėjimas'] = 'Vienanarių ir daugianarių operacijos'\n",
    "problem[problem_id]['Gebėjimai'][0]['Atitikmuo'] = ''\n",
    "problem[problem_id]['Gebėjimai'][0]['Sprendimas'] = ''\n",
    "content.update(problem)\n",
    "\n",
    "\n",
    "with open(f\"{name}.txt\", \"w\", encoding='utf-8') as out_file:\n",
    "    json.dump(content, out_file, indent = 4, ensure_ascii=False)\n",
    "    \n",
    "#check(name, problem_id)"
   ]
  },
  {
   "cell_type": "code",
   "execution_count": 20,
   "metadata": {},
   "outputs": [],
   "source": [
    "problem_id = '3'\n",
    "text = 'Išskleiskite: $(x-\\\\sqrt{3})(x+\\\\sqrt{3})$'\n",
    "solution = ['$(x-\\\\sqrt{3})(x+\\\\sqrt{3})=\\\\begin{array}{c|c|c} &x&-\\\\sqrt{3} \\\\\\\\ \\\\hline x&x^2&-x\\\\sqrt{3} \\\\\\\\ \\\\hline \\\\sqrt{3}&x\\\\sqrt{3}&-3\\\\end{array} = x^2 - 3$']\n",
    "\n",
    "problem = {problem_id: {'Sąlyga': text, 'Gebėjimai': [dict()], 'Sprendimas': solution}}\n",
    "\n",
    "problem[problem_id]['Gebėjimai'][0]['Gebėjimas'] = 'Vienanarių ir daugianarių operacijos'\n",
    "problem[problem_id]['Gebėjimai'][0]['Atitikmuo'] = ''\n",
    "problem[problem_id]['Gebėjimai'][0]['Sprendimas'] = ''\n",
    "content.update(problem)\n",
    "\n",
    "\n",
    "with open(f\"{name}.txt\", \"w\", encoding='utf-8') as out_file:\n",
    "    json.dump(content, out_file, indent = 4, ensure_ascii=False)\n",
    "    \n",
    "#check(name, problem_id)"
   ]
  },
  {
   "cell_type": "code",
   "execution_count": 23,
   "metadata": {},
   "outputs": [],
   "source": [
    "problem_id = '4'\n",
    "text = 'Išskleiskite: $(x-3)(x+3)$'\n",
    "solution = ['$(x-3)(x+3)=\\\\begin{array}{c|c|c} &x&-3 \\\\\\\\ \\\\hline x&x^2&-3x \\\\\\\\ \\\\hline 3&3x&-9\\\\end{array} = x^2 - 9$']\n",
    "\n",
    "problem = {problem_id: {'Sąlyga': text, 'Gebėjimai': [dict()], 'Sprendimas': solution}}\n",
    "\n",
    "problem[problem_id]['Gebėjimai'][0]['Gebėjimas'] = 'Vienanarių ir daugianarių operacijos'\n",
    "problem[problem_id]['Gebėjimai'][0]['Atitikmuo'] = ''\n",
    "problem[problem_id]['Gebėjimai'][0]['Sprendimas'] = ''\n",
    "content.update(problem)\n",
    "\n",
    "\n",
    "with open(f\"{name}.txt\", \"w\", encoding='utf-8') as out_file:\n",
    "    json.dump(content, out_file, indent = 4, ensure_ascii=False)\n",
    "    \n",
    "#check(name, problem_id)"
   ]
  },
  {
   "cell_type": "code",
   "execution_count": 27,
   "metadata": {},
   "outputs": [],
   "source": [
    "problem_id = '5'\n",
    "text = 'Išskleiskite: $(a-b)(a+b)$'\n",
    "solution = ['$(a-b)(a+b)=\\\\begin{array}{c|c|c} &a&-b \\\\\\\\ \\\\hline a&a^2&-ab \\\\\\\\ \\\\hline b&ab&-b^2\\\\end{array} = a^2 - b^2$']\n",
    "\n",
    "problem = {problem_id: {'Sąlyga': text, 'Gebėjimai': [dict()], 'Sprendimas': solution}}\n",
    "\n",
    "problem[problem_id]['Gebėjimai'][0]['Gebėjimas'] = 'Vienanarių ir daugianarių operacijos'\n",
    "problem[problem_id]['Gebėjimai'][0]['Atitikmuo'] = ''\n",
    "problem[problem_id]['Gebėjimai'][0]['Sprendimas'] = ''\n",
    "content.update(problem)\n",
    "\n",
    "\n",
    "with open(f\"{name}.txt\", \"w\", encoding='utf-8') as out_file:\n",
    "    json.dump(content, out_file, indent = 4, ensure_ascii=False)\n",
    "    \n",
    "#check(name, problem_id)"
   ]
  },
  {
   "cell_type": "code",
   "execution_count": 30,
   "metadata": {},
   "outputs": [],
   "source": [
    "problem_id = '6'\n",
    "text = 'Išskleiskite: $(a-b)(a-b)$'\n",
    "solution = ['$(a-b)(a+b)=\\\\begin{array}{c|c|c} &a&-b \\\\\\\\ \\\\hline a&a^2&-ab \\\\\\\\ \\\\hline -b&-ab&b^2\\\\end{array} = a^2 -2ab +b^2$']\n",
    "\n",
    "problem = {problem_id: {'Sąlyga': text, 'Gebėjimai': [dict()], 'Sprendimas': solution}}\n",
    "\n",
    "problem[problem_id]['Gebėjimai'][0]['Gebėjimas'] = 'Vienanarių ir daugianarių operacijos'\n",
    "problem[problem_id]['Gebėjimai'][0]['Atitikmuo'] = ''\n",
    "problem[problem_id]['Gebėjimai'][0]['Sprendimas'] = ''\n",
    "content.update(problem)\n",
    "\n",
    "\n",
    "with open(f\"{name}.txt\", \"w\", encoding='utf-8') as out_file:\n",
    "    json.dump(content, out_file, indent = 4, ensure_ascii=False)\n",
    "    \n",
    "#check(name, problem_id)"
   ]
  },
  {
   "cell_type": "code",
   "execution_count": 32,
   "metadata": {},
   "outputs": [],
   "source": [
    "problem_id = '7'\n",
    "text = 'Išskleiskite: $(a-b)(a-b)$'\n",
    "solution = ['$(a+b)(a+b)=\\\\begin{array}{c|c|c} &a&b \\\\\\\\ \\\\hline a&a^2&ab \\\\\\\\ \\\\hline b&ab&b^2\\\\end{array} = a^2 +2ab +b^2$']\n",
    "\n",
    "problem = {problem_id: {'Sąlyga': text, 'Gebėjimai': [dict()], 'Sprendimas': solution}}\n",
    "\n",
    "problem[problem_id]['Gebėjimai'][0]['Gebėjimas'] = 'Vienanarių ir daugianarių operacijos'\n",
    "problem[problem_id]['Gebėjimai'][0]['Atitikmuo'] = ''\n",
    "problem[problem_id]['Gebėjimai'][0]['Sprendimas'] = ''\n",
    "content.update(problem)\n",
    "\n",
    "\n",
    "with open(f\"{name}.txt\", \"w\", encoding='utf-8') as out_file:\n",
    "    json.dump(content, out_file, indent = 4, ensure_ascii=False)\n",
    "    \n",
    "#check(name, problem_id)"
   ]
  },
  {
   "cell_type": "code",
   "execution_count": 35,
   "metadata": {},
   "outputs": [],
   "source": [
    "problem_id = '8'\n",
    "text = 'Išskleiskite: $(a+b)(a^2-ab+b^2)$'\n",
    "solution = ['$(a+b)(a^2-ab+b^2)=\\\\begin{array}{c|c|c} &a&b \\\\\\\\ \\\\hline a^2&a^3&a^2b \\\\\\\\ \\\\hline -ab&-a^2b&-ab^2 \\\\\\\\ \\\\hline b^2&ab^2&b^3 \\\\end{array} = a^3+b^3$']\n",
    "\n",
    "problem = {problem_id: {'Sąlyga': text, 'Gebėjimai': [dict()], 'Sprendimas': solution}}\n",
    "\n",
    "problem[problem_id]['Gebėjimai'][0]['Gebėjimas'] = 'Vienanarių ir daugianarių operacijos'\n",
    "problem[problem_id]['Gebėjimai'][0]['Atitikmuo'] = ''\n",
    "problem[problem_id]['Gebėjimai'][0]['Sprendimas'] = ''\n",
    "content.update(problem)\n",
    "\n",
    "\n",
    "with open(f\"{name}.txt\", \"w\", encoding='utf-8') as out_file:\n",
    "    json.dump(content, out_file, indent = 4, ensure_ascii=False)\n",
    "    \n",
    "#check(name, problem_id)"
   ]
  },
  {
   "cell_type": "code",
   "execution_count": 36,
   "metadata": {},
   "outputs": [],
   "source": [
    "problem_id = '9'\n",
    "text = 'Išskleiskite: $(a-b)(a^2+ab+b^2)$'\n",
    "solution = ['$(a-b)(a^2+ab+b^2)=\\\\begin{array}{c|c|c} &a&-b \\\\\\\\ \\\\hline a^2&a^3&-a^2b \\\\\\\\ \\\\hline ab&a^2b&-ab^2 \\\\\\\\ \\\\hline b^2&ab^2&-b^3 \\\\end{array} = a^3-b^3$']\n",
    "\n",
    "problem = {problem_id: {'Sąlyga': text, 'Gebėjimai': [dict()], 'Sprendimas': solution}}\n",
    "\n",
    "problem[problem_id]['Gebėjimai'][0]['Gebėjimas'] = 'Vienanarių ir daugianarių operacijos'\n",
    "problem[problem_id]['Gebėjimai'][0]['Atitikmuo'] = ''\n",
    "problem[problem_id]['Gebėjimai'][0]['Sprendimas'] = ''\n",
    "content.update(problem)\n",
    "\n",
    "\n",
    "with open(f\"{name}.txt\", \"w\", encoding='utf-8') as out_file:\n",
    "    json.dump(content, out_file, indent = 4, ensure_ascii=False)\n",
    "    \n",
    "#check(name, problem_id)"
   ]
  },
  {
   "cell_type": "code",
   "execution_count": 39,
   "metadata": {},
   "outputs": [
    {
     "data": {
      "text/markdown": [
       "**Užduotis.**\n",
       "\n",
       "Išskleiskite: $(x-1)(x^3+x^2+x+1)$\n",
       "\n",
       "**Sprendimas.**\n",
       "* $(x-1)(x^3+x^2+x+1)=\\begin{array}{c|c|c} &x&-1 \\\\ \\hline x^3&x^4&-x^3 \\\\ \\hline x^2&x^3&-x^2 \\\\ \\hline x&x^2&-x \\\\ \\hline\\ 1&x&-1 \\end{array} = x^4-1$"
      ],
      "text/plain": [
       "<IPython.core.display.Markdown object>"
      ]
     },
     "metadata": {},
     "output_type": "display_data"
    },
    {
     "data": {
      "text/markdown": [
       "----------------------------------------------------------------------------------------------------"
      ],
      "text/plain": [
       "<IPython.core.display.Markdown object>"
      ]
     },
     "metadata": {},
     "output_type": "display_data"
    },
    {
     "data": {
      "text/markdown": [
       "**Uždavinio dalis 1, kurioje yra Vienanarių ir daugianarių operacijos.**\n",
       "\n",
       "\n",
       "\n",
       "**Sprendimas.**\n",
       "\n"
      ],
      "text/plain": [
       "<IPython.core.display.Markdown object>"
      ]
     },
     "metadata": {},
     "output_type": "display_data"
    }
   ],
   "source": [
    "problem_id = '10'\n",
    "text = 'Išskleiskite: $(x-1)(x^3+x^2+x+1)$'\n",
    "solution = ['$(x-1)(x^3+x^2+x+1)=\\\\begin{array}{c|c|c} &x&-1 \\\\\\\\ \\\\hline x^3&x^4&-x^3 \\\\\\\\ \\\\hline x^2&x^3&-x^2 \\\\\\\\ \\\\hline x&x^2&-x \\\\\\\\ \\\\hline\\ 1&x&-1 \\\\end{array} = x^4-1$']\n",
    "\n",
    "problem = {problem_id: {'Sąlyga': text, 'Gebėjimai': [dict()], 'Sprendimas': solution}}\n",
    "\n",
    "problem[problem_id]['Gebėjimai'][0]['Gebėjimas'] = 'Vienanarių ir daugianarių operacijos'\n",
    "problem[problem_id]['Gebėjimai'][0]['Atitikmuo'] = ''\n",
    "problem[problem_id]['Gebėjimai'][0]['Sprendimas'] = ''\n",
    "content.update(problem)\n",
    "\n",
    "\n",
    "with open(f\"{name}.txt\", \"w\", encoding='utf-8') as out_file:\n",
    "    json.dump(content, out_file, indent = 4, ensure_ascii=False)\n",
    "    \n",
    "check(name, problem_id)"
   ]
  },
  {
   "cell_type": "code",
   "execution_count": 42,
   "metadata": {},
   "outputs": [
    {
     "data": {
      "text/markdown": [
       "**Užduotis.**\n",
       "\n",
       "Išskleiskite: $(x^2-2x+2)(x^2+2x+2)$\n",
       "\n",
       "**Sprendimas.**\n",
       "* $(x^2-2x+2)(x^2+2x+2)=\\begin{array}{c|c|c|c} &x^2&-2x&2 \\\\ \\hline x^2&x^4&-2x^3&2x^2 \\\\ \\hline 2x&2x^3&-4x^2&4x \\\\ \\hline 2&2x^2&-4x&4 \\end{array} = x^4+4$"
      ],
      "text/plain": [
       "<IPython.core.display.Markdown object>"
      ]
     },
     "metadata": {},
     "output_type": "display_data"
    },
    {
     "data": {
      "text/markdown": [
       "----------------------------------------------------------------------------------------------------"
      ],
      "text/plain": [
       "<IPython.core.display.Markdown object>"
      ]
     },
     "metadata": {},
     "output_type": "display_data"
    },
    {
     "data": {
      "text/markdown": [
       "**Uždavinio dalis 1, kurioje yra Vienanarių ir daugianarių operacijos.**\n",
       "\n",
       "\n",
       "\n",
       "**Sprendimas.**\n",
       "\n"
      ],
      "text/plain": [
       "<IPython.core.display.Markdown object>"
      ]
     },
     "metadata": {},
     "output_type": "display_data"
    }
   ],
   "source": [
    "problem_id = '11'\n",
    "text = 'Išskleiskite: $(x^2-2x+2)(x^2+2x+2)$'\n",
    "solution = ['$(x^2-2x+2)(x^2+2x+2)=\\\\begin{array}{c|c|c|c} &x^2&-2x&2 \\\\\\\\ \\\\hline x^2&x^4&-2x^3&2x^2 \\\\\\\\ \\\\hline 2x&2x^3&-4x^2&4x \\\\\\\\ \\\\hline 2&2x^2&-4x&4 \\\\end{array} = x^4+4$']\n",
    "\n",
    "problem = {problem_id: {'Sąlyga': text, 'Gebėjimai': [dict()], 'Sprendimas': solution}}\n",
    "\n",
    "problem[problem_id]['Gebėjimai'][0]['Gebėjimas'] = 'Vienanarių ir daugianarių operacijos'\n",
    "problem[problem_id]['Gebėjimai'][0]['Atitikmuo'] = ''\n",
    "problem[problem_id]['Gebėjimai'][0]['Sprendimas'] = ''\n",
    "content.update(problem)\n",
    "\n",
    "\n",
    "with open(f\"{name}.txt\", \"w\", encoding='utf-8') as out_file:\n",
    "    json.dump(content, out_file, indent = 4, ensure_ascii=False)\n",
    "    \n",
    "check(name, problem_id)"
   ]
  },
  {
   "cell_type": "code",
   "execution_count": 46,
   "metadata": {},
   "outputs": [],
   "source": [
    "problem_id = '12'\n",
    "text = 'Išskleiskite: $(a^2+b^2+c^2-ab-bc-ca)(a+b+c)$'\n",
    "solution = ['$(a^2+b^2+c^2-ab-bc-ca)(a+b+c) = \\\\begin{array}{c|c|c|c|c|c|c|c} &a^2&b^2&c^2&-ab&-bc&-ca \\\\\\\\ \\\\hline a&a^3&ab^2&ac^2&-a^2b&-abc&-a^2c \\\\\\\\ \\\\hline b&a^2b&b^3&bc^2&-ab^2&-b^2c&-abc \\\\\\\\ \\\\hline c&a^2c&b^2c&c^3&-abc&-bc^2&-ac^2 \\\\end{array} = a^3+b^3+c^3-3abc$']\n",
    "\n",
    "problem = {problem_id: {'Sąlyga': text, 'Gebėjimai': [dict()], 'Sprendimas': solution}}\n",
    "\n",
    "problem[problem_id]['Gebėjimai'][0]['Gebėjimas'] = 'Vienanarių ir daugianarių operacijos'\n",
    "problem[problem_id]['Gebėjimai'][0]['Atitikmuo'] = ''\n",
    "problem[problem_id]['Gebėjimai'][0]['Sprendimas'] = ''\n",
    "content.update(problem)\n",
    "\n",
    "\n",
    "with open(f\"{name}.txt\", \"w\", encoding='utf-8') as out_file:\n",
    "    json.dump(content, out_file, indent = 4, ensure_ascii=False)\n",
    "    \n",
    "#check(name, problem_id)"
   ]
  },
  {
   "cell_type": "code",
   "execution_count": 47,
   "metadata": {},
   "outputs": [
    {
     "data": {
      "text/markdown": [
       "**Užduotis.**\n",
       "\n",
       "Išskleiskite: $(\\sqrt{3}-\\sqrt{2})(\\sqrt{3}+\\sqrt{2})$\n",
       "\n",
       "**Sprendimas.**\n",
       "* $(\\sqrt{3}-\\sqrt{2})(\\sqrt{3}+\\sqrt{2})=\\begin{array}{c|c|c} &\\sqrt{3}&-\\sqrt{2} \\\\ \\hline \\sqrt{3}&3&-\\sqrt{3}\\sqrt{2} \\\\ \\hline \\sqrt{2}&\\sqrt{3}\\sqrt{2}&-2\\end{array} = 3-2=1$"
      ],
      "text/plain": [
       "<IPython.core.display.Markdown object>"
      ]
     },
     "metadata": {},
     "output_type": "display_data"
    },
    {
     "data": {
      "text/markdown": [
       "----------------------------------------------------------------------------------------------------"
      ],
      "text/plain": [
       "<IPython.core.display.Markdown object>"
      ]
     },
     "metadata": {},
     "output_type": "display_data"
    },
    {
     "data": {
      "text/markdown": [
       "**Uždavinio dalis 1, kurioje yra Vienanarių ir daugianarių operacijos.**\n",
       "\n",
       "\n",
       "\n",
       "**Sprendimas.**\n",
       "\n"
      ],
      "text/plain": [
       "<IPython.core.display.Markdown object>"
      ]
     },
     "metadata": {},
     "output_type": "display_data"
    }
   ],
   "source": [
    "problem_id = '13'\n",
    "text = 'Išskleiskite: $(\\\\sqrt{3}-\\\\sqrt{2})(\\\\sqrt{3}+\\\\sqrt{2})$'\n",
    "solution = ['$(\\\\sqrt{3}-\\\\sqrt{2})(\\\\sqrt{3}+\\\\sqrt{2})=\\\\begin{array}{c|c|c} &\\\\sqrt{3}&-\\\\sqrt{2} \\\\\\\\ \\\\hline \\\\sqrt{3}&3&-\\\\sqrt{3}\\\\sqrt{2} \\\\\\\\ \\\\hline \\\\sqrt{2}&\\\\sqrt{3}\\\\sqrt{2}&-2\\\\end{array} = 3-2=1$']\n",
    "\n",
    "problem = {problem_id: {'Sąlyga': text, 'Gebėjimai': [dict()], 'Sprendimas': solution}}\n",
    "\n",
    "problem[problem_id]['Gebėjimai'][0]['Gebėjimas'] = 'Vienanarių ir daugianarių operacijos'\n",
    "problem[problem_id]['Gebėjimai'][0]['Atitikmuo'] = ''\n",
    "problem[problem_id]['Gebėjimai'][0]['Sprendimas'] = ''\n",
    "content.update(problem)\n",
    "\n",
    "\n",
    "with open(f\"{name}.txt\", \"w\", encoding='utf-8') as out_file:\n",
    "    json.dump(content, out_file, indent = 4, ensure_ascii=False)\n",
    "    \n",
    "check(name, problem_id)"
   ]
  }
 ],
 "metadata": {
  "kernelspec": {
   "display_name": "Python 3",
   "language": "python",
   "name": "python3"
  },
  "language_info": {
   "codemirror_mode": {
    "name": "ipython",
    "version": 3
   },
   "file_extension": ".py",
   "mimetype": "text/x-python",
   "name": "python",
   "nbconvert_exporter": "python",
   "pygments_lexer": "ipython3",
   "version": "3.8.3"
  }
 },
 "nbformat": 4,
 "nbformat_minor": 4
}
