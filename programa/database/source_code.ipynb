{
 "cells": [
  {
   "cell_type": "markdown",
   "metadata": {},
   "source": [
    "## Source code"
   ]
  },
  {
   "cell_type": "markdown",
   "metadata": {},
   "source": [
    "### Užklausos, su kuriomis galima peržiūrinėti uždavinius, jų komplektus ir sprendimus"
   ]
  },
  {
   "cell_type": "code",
   "execution_count": 1,
   "metadata": {},
   "outputs": [],
   "source": [
    "import json\n",
    "from IPython.display import display, Markdown\n",
    "import os\n",
    "from collections import defaultdict\n",
    "import matplotlib.pyplot as plt\n",
    "import matplotlib.colors as mlc\n",
    "import numpy as np\n",
    "from itertools import chain, compress\n",
    "from io import StringIO\n",
    "import pandas as pd\n",
    "import scipy.stats\n",
    "\n",
    "\n",
    "def read_json(file):\n",
    "    with open(file, encoding='utf-8') as fh:\n",
    "        data = json.loads(fh.read())\n",
    "    return data\n",
    "\n",
    "def document_it(clusters, branches):\n",
    "    clusters = read_json(clusters)\n",
    "    branches = read_json(branches)\n",
    "    headings = dict(zip([clusters[n][0] for n in clusters], clusters))\n",
    "    docstring = ''\n",
    "    for branch in branches:\n",
    "        if branch in headings:\n",
    "            docstring += f'\\n### {headings[branch]}\\n\\n'\n",
    "        docstring += f'* **{branch}.** {branches[branch]}\\n'\n",
    "    return docstring\n",
    "\n",
    "def make_some_bank(*files, extention='.txt', show_solution=False):\n",
    "    docstring = ''\n",
    "    for file in files:\n",
    "        heading = os.path.splitext(file)[0]\n",
    "        docstring += f'\\n### {heading}\\n'\n",
    "        bank = read_json(file + extention)\n",
    "        for užduotis in bank:\n",
    "            docstring += f\"{užduotis}\\\\. {bank[užduotis]['Sąlyga']}\"+'\\n\\n'\n",
    "            if show_solution:\n",
    "                docstring+=('\\n\\n**Sprendimas.**\\n' + '\\n'.join([f'* {n}' for n in bank[užduotis][\"Sprendimas\"]])+'\\n\\n')\n",
    "    return docstring\n",
    "\n",
    "def show_problem(complect, id, show_solution=True):\n",
    "    problem = read_json(f'{complect}.txt')[id]\n",
    "    step = '**Užduotis.**\\n\\n' + problem[\"Sąlyga\"]\n",
    "    if show_solution: step += ('\\n\\n**Sprendimas.**\\n' + '\\n'.join([f'* {n}' for n in problem[\"Sprendimas\"]]))\n",
    "    return step\n",
    "\n",
    "def show_case(complect, id, which=1, show_solution=True):\n",
    "    skills = read_json(f'{complect}.txt')[id][\"Gebėjimai\"][which-1]\n",
    "    step = '**Uždavinio dalis ' + f\"{which}, kurioje yra {skills['Gebėjimas']}\" + '.**\\n\\n' + skills['Atitikmuo']\n",
    "    if show_solution: step += ('\\n\\n**Sprendimas.**\\n\\n' + skills['Sprendimas'])\n",
    "    return step\n",
    "    \n",
    "def show_skill(skill, *files, extention='.txt'):\n",
    "    counter = 0\n",
    "    docstring = f'### Uždaviniai[@], kuriuose yra {skill}: \\n\\n'\n",
    "    for file in files:\n",
    "        heading = os.path.splitext(file)[0]\n",
    "        bank = read_json(file + extention)\n",
    "        for užduotis in bank:\n",
    "            for idx, gebėjimas in enumerate(bank[užduotis]['Gebėjimai']):\n",
    "                if gebėjimas['Gebėjimas'] == skill:\n",
    "                    counter +=1 \n",
    "                    if len(bank[užduotis]['Gebėjimai'])!=1:\n",
    "                        docstring += f\"**{heading}.{užduotis}->{idx+1}** {gebėjimas['Atitikmuo']}\\n\\n\"\n",
    "                    else: \n",
    "                        docstring += f\"**{heading}.{užduotis}->{idx+1}** {bank[užduotis]['Sąlyga']}\\n\\n\"\n",
    "                else: #expects to have just a list of skills without dict of descriptions - OUTDATED\n",
    "                    if gebėjimas == skill:\n",
    "                        counter +=1\n",
    "                        docstring += f\"**{heading}.{užduotis}->{idx+1}** {bank[užduotis]['Sąlyga']}\\n\\n\"\n",
    "    return docstring.replace('@', str(counter))\n",
    "\n",
    "def get_analysis(*files, extension='.txt'):\n",
    "    skills = defaultdict(list)\n",
    "    for file in files:\n",
    "        heading = os.path.splitext(file)[0]\n",
    "        bank = read_json(file + extension)\n",
    "        for užduotis in bank:\n",
    "            for idx, gebėjimas in enumerate(bank[užduotis]['Gebėjimai']):\n",
    "                if type(gebėjimas) is dict:\n",
    "                    skills[gebėjimas['Gebėjimas']].append(f\"{heading}.{užduotis}->{idx+1}\")\n",
    "                else:\n",
    "                    skills[gebėjimas].append(f\"{heading}.{užduotis}->{idx+1}\")\n",
    "    return skills\n",
    "\n",
    "def check(name, problem_id, extension='.txt'):\n",
    "    display(Markdown(show_problem(name, problem_id, show_solution=True)))\n",
    "    problem = read_json(name + extension)\n",
    "    for i in range(len(problem[problem_id]['Gebėjimai'])): \n",
    "        display(Markdown('-'*100))\n",
    "        display(Markdown(show_case(name, problem_id, which=i+1, show_solution=True)))\n",
    "\n",
    "def check_skills(name, problem_id, extension='.txt'):\n",
    "    problem = read_json(name + extension)\n",
    "    return [n['Gebėjimas'] for n in problem[problem_id]['Gebėjimai']]\n",
    "\n",
    "def get_distribution(cluster_file, *files):\n",
    "    analysis = get_analysis(*files)\n",
    "    branch_counts = defaultdict(int)\n",
    "    for branch in analysis:\n",
    "        branch_counts[branch] += len(analysis[branch])\n",
    "    clusters = read_json(cluster_file)\n",
    "    d = dict()\n",
    "    for cluster in clusters:\n",
    "        bc = dict()\n",
    "        for branch in clusters[cluster]:\n",
    "            bc[branch] = branch_counts[branch]\n",
    "            branch_counts.pop(branch)\n",
    "        d[cluster] = bc\n",
    "    if len(branch_counts):\n",
    "        print('WARNING! Some problems contain skills that are not in clusters:\\n', branch_counts)\n",
    "    return d\n",
    "\n",
    "class Skills:\n",
    "    kw = dict(bbox=dict(boxstyle=\"square, pad=0.3\", fc=\"w\", ec=\"k\", lw=0.72),\n",
    "          arrowprops=dict(arrowstyle=\"-\"), zorder=0, va=\"center\")\n",
    "    cmap = plt.get_cmap(\"jet\")\n",
    "    \n",
    "    def __init__(self, clusters_file, *files):\n",
    "        self.distribution = get_distribution(clusters_file, *files)\n",
    "        \n",
    "    def set_diagram(self):\n",
    "        self.inner_names = list(self.distribution.keys()) #clusters\n",
    "        self.outer_names = list(chain(*[list(n.keys()) for n in self.distribution.values()])) #branches of clusters\n",
    "        \n",
    "        self.outer_values = np.array(list(chain(*[list(n.values()) for n in self.distribution.values()]))) #sizes of branches in each cluster\n",
    "        self.inner_values = np.array([sum(n.values()) for n in self.distribution.values()]) #sizes of clusters\n",
    "        \n",
    "        self.inner_idx = np.flatnonzero(self.inner_values) #idx of nonzero inner values\n",
    "        self.outer_idx = np.flatnonzero(self.outer_values) #idx of nonzero outer values\n",
    "\n",
    "    def set_colors(self):\n",
    "        self.set_diagram()\n",
    "        marker_idx = np.cumsum([len(n) for n in self.distribution.values()])[:-1] #idx where to split flat data\n",
    "        outer_spectrum = np.linspace(0, 1, len(self.outer_values))\n",
    "        inner_spectrum = np.array([np.mean(n) for n in np.split(outer_spectrum, marker_idx)])        \n",
    "        self.inner_colors = self.cmap(inner_spectrum)\n",
    "        self.outer_colors = self.cmap(outer_spectrum)\n",
    "\n",
    "    def flatnonzero(self):\n",
    "        #remove zero pieces which is illegal\n",
    "        self.inner_names = np.array(self.inner_names)[self.inner_idx]\n",
    "        self.outer_names = np.array(self.outer_names)[self.outer_idx]\n",
    "        self.inner_values = self.inner_values[self.inner_idx]\n",
    "        self.outer_values = self.outer_values[self.outer_idx]\n",
    "        self.inner_colors = self.inner_colors[self.inner_idx]\n",
    "        self.outer_colors = self.outer_colors[self.outer_idx]\n",
    "                                  \n",
    "    def get_inner_pie(self):\n",
    "        wedges, text = plt.gca().pie(self.inner_values, labels = self.inner_names, labeldistance=0.5, \n",
    "                                     radius=0.4, colors=self.inner_colors, wedgeprops=dict(width=0.2, edgecolor='k', linewidth=5), \n",
    "                                     textprops=dict(fontsize=15, fontweight='bold'))\n",
    "        return wedges\n",
    "    \n",
    "    def add_ranges(self, intervals):\n",
    "        #add mid coloring that marks knoledge\n",
    "        for i in range(len(self.outer_values)):\n",
    "            none = np.empty_like(self.outer_colors)\n",
    "            none[:] = np.nan\n",
    "            none[:,3] = np.nan\n",
    "            none[i] = self.outer_colors[i]/2\n",
    "            none[i,3] = 1\n",
    "            plt.gca().pie(self.outer_values, radius=0.5+0.5*intervals[i][1], colors=none, \n",
    "                                wedgeprops=dict(width=0.5*(intervals[i][1] - intervals[i][0]), edgecolor='none'))\n",
    "        \n",
    "        \n",
    "    def add_mids(self, midvalues, width=0.01):\n",
    "        #add mid coloring that marks knoledge\n",
    "        for i in range(len(self.outer_values)):\n",
    "            #double line\n",
    "            none = np.empty_like(self.outer_colors)\n",
    "            none[:] = np.nan\n",
    "            none[:,3] = np.nan\n",
    "            none[i] = [0,0,0,1]\n",
    "            plt.gca().pie(self.outer_values, radius=0.5+0.5*midvalues[i]+2*width/2, colors=none, \n",
    "                                wedgeprops=dict(width=2*width, edgecolor='none'))\n",
    "            #mid line\n",
    "            none = np.empty_like(self.outer_colors)\n",
    "            none[:] = np.nan\n",
    "            none[:,3] = np.nan\n",
    "            none[i] = [1,0,1,1]\n",
    "            plt.gca().pie(self.outer_values, radius=0.5+0.5*midvalues[i]+width/2, colors=none, \n",
    "                                wedgeprops=dict(width=width, edgecolor='none'))\n",
    "            \n",
    "    def draw_rates(self, distribution=None, Q=0.7):\n",
    "        #take dict like self.distribution with values (a, t) where a=answered, t=total\n",
    "        #draw rates with 70% confidence\n",
    "        ranges, mids = [], []\n",
    "        for a, t in distribution.values():\n",
    "            p = a/t\n",
    "            q = 1-p\n",
    "            n = t\n",
    "            v1=2*(n*q+1)\n",
    "            v2=2*n*p\n",
    "            v3=2*(n*p+1)\n",
    "            v4=2*n*q\n",
    "            CL = 1/(1 + (scipy.stats.f.ppf((1+Q)/2, v1, v2)*(q + 1/n)/p)) # CL\n",
    "            CU = 1/(1+(q/(1/n+p)/scipy.stats.f.ppf((1+Q)/2, v3, v4))) # CU\n",
    "            if p==0: CL=0\n",
    "            if p==1: CU=1\n",
    "            ranges.append((CL, CU))\n",
    "            mids.append(p)\n",
    "        self.add_ranges(ranges)\n",
    "        self.add_mids(mids)\n",
    "        \n",
    "    def get_outer_pie(self):\n",
    "        wedges, text = plt.gca().pie(self.outer_values, radius=1, colors=self.outer_colors, \n",
    "                                wedgeprops=dict(width=0.5, edgecolor='k'))\n",
    "        return wedges\n",
    "                     \n",
    "    def add_labels(self, wedges):\n",
    "        for i, p in enumerate(wedges):\n",
    "            ang = (p.theta2 - p.theta1)/2. + p.theta1\n",
    "            y = np.sin(np.deg2rad(ang))\n",
    "            x = np.cos(np.deg2rad(ang))\n",
    "            horizontalalignment = {-1: \"right\", 1: \"left\"}[int(np.sign(x))]\n",
    "            connectionstyle = f\"angle, angleA=0, angleB={ang}\"\n",
    "            self.kw[\"arrowprops\"].update({\"connectionstyle\": connectionstyle})\n",
    "            plt.gca().annotate(self.outer_names[i], xy=(x, y), xytext=(1.35*np.sin(x), 1.4*y),\n",
    "                        horizontalalignment=horizontalalignment, fontsize=11, fontweight='bold', **self.kw)\n",
    "                                  \n",
    "    def plot(self, intervals=None):\n",
    "        #additional data adds a piece of knowledge\n",
    "        fig = plt.figure(figsize=(6, 6))\n",
    "        plt.gca().set(aspect=\"equal\")\n",
    "        self.set_diagram()\n",
    "        self.set_colors()\n",
    "        self.flatnonzero()\n",
    "        self.get_inner_pie()\n",
    "        wedges = self.get_outer_pie()\n",
    "        self.add_labels(wedges)\n",
    "        \n",
    "    \n",
    "def get_data(text):\n",
    "    df = pd.read_csv(StringIO(text), sep=\" \")\n",
    "    df.set_index(['author', 'topic','problem_id'], inplace=True)\n",
    "    df1 = df[df['part']==0]\n",
    "    df2 = df[df['part']!=0]\n",
    "    df3 = pd.concat([df1, df2]).sort_values(by=['part'])\n",
    "    df3 = df3[~df3.index.duplicated(keep='first')]\n",
    "    df3['solved'][df3['part']!=0] = None\n",
    "    df3 = df3.drop('part', 1)\n",
    "    df3['skills'] = [tuple([n['Gebėjimas'] for n in read_json(f'{x}/{y}.txt')[str(z)]['Gebėjimai']]) for x,y,z in df3.index]\n",
    "    df3['pts'] = [len(n) for n in df3['skills']]\n",
    "    df4 = df3.copy()\n",
    "    part = df3.loc[df3.index.repeat(df3['pts'])].groupby(['author', 'topic', 'problem_id']).cumcount() + 1\n",
    "    df4 = pd.DataFrame(part, columns=['part'])\n",
    "    df4['skill'] = list(chain(*df3['skills']))\n",
    "    df5 = df4.merge(df2, on=['author', 'topic', 'problem_id', 'part'], how='outer')\n",
    "    for n in df3[df3['solved']==True].index: \n",
    "        df5.loc[n, 'solved'] = True\n",
    "    return df3, df5\n",
    "\n",
    "def achievements(df5, df3, colors):\n",
    "    vals_big = np.array([n if n == n else -1 for n in df5['solved'].values.tolist()]).astype(int)\n",
    "    vals_small = np.array([n if n == n else -1 for n in df3['solved'].values.tolist()]).astype(int)\n",
    "    img = vals_big[:, None]\n",
    "    completed = df3['pts'].values\n",
    "    shape = img.shape\n",
    "\n",
    "    figure, ax = plt.subplots(figsize=(6,8))\n",
    "\n",
    "    #x.set_xlabel('Activity', fontsize=13)\n",
    "    #ax.set_yticklabels(list(df5['skill'].values), rotation='horizontal', fontsize=12, fontweight='bold', minor=False)\n",
    "    ax.set_yticks(np.arange(-0.5+0.5, img.shape[0]+0.5, 1)) #borders between edges\n",
    "    ax.set_yticklabels(list(df5['skill'].values), rotation='horizontal', fontsize=12, fontweight='bold')\n",
    "    ax.set_ylim(-0.5, img.shape[0]-0.5)\n",
    "    #ax.set_xticklabels(np.arange(1, img.shape[1] + 1, 1))\n",
    "\n",
    "    #ax.set_ylabel('States', fontsize=13)\n",
    "    ax.set_xticks(np.arange(0, 1, 1))\n",
    "    ax.get_xaxis().set_visible(False)\n",
    "    ax.set_xlim(-0.5, 0.5)\n",
    "    #ax.set_yticks(np.arange(-.5, img.shape[0], 1), minor=True)\n",
    "    #ax.set_yticklabels(states)\n",
    "\n",
    "    a=0.05\n",
    "    pal = {1: 'none', 0: 'red', -1: 'grey'}\n",
    "    for idx, clr in enumerate(colors):\n",
    "        if vals_big[idx]!=-1:\n",
    "            ax.add_patch(plt.Rectangle((-0.5, -0.5+idx), 1, 1, facecolor=clr, edgecolor = pal[vals_big[idx]], hatch=r'xxx', zorder=0))\n",
    "        else:\n",
    "            ax.add_patch(plt.Rectangle((-0.5, -0.5+idx), 1, 1, facecolor='none', edgecolor = pal[vals_big[idx]], hatch=r'xxx'))\n",
    "        \n",
    "    pallete = {1: 'limegreen', 0: 'crimson', -1: 'none'}\n",
    "    starts, sizes = np.cumsum(np.r_[0, df3['pts'].values[:-1]]), np.r_[df3['pts'].values]\n",
    "    for start, size, solved in zip(starts, sizes, vals_small):\n",
    "        ax.add_patch(plt.Rectangle((-0.5+a, start-0.5+a), 1-2*a, size-2*a, \n",
    "                                   facecolor='none', edgecolor = pallete[solved], zorder=1, lw=4, linestyle='--'))\n",
    "    \n",
    "    #ax.yaxis.set_label_position(\"right\")\n",
    "    #ax.yaxis.tick_right()\n",
    "\n",
    "    \n",
    "    ax.grid(which='minor', color='k')\n",
    "    ax.set_title('Pasiekimai', fontsize=15, fontweight='bold')\n",
    "    plt.gca().invert_yaxis()\n",
    "    #plt.gca().majorticks_off()\n",
    "    plt.show()"
   ]
  },
  {
   "cell_type": "markdown",
   "metadata": {},
   "source": [
    "### Klasė, su kuria galima pasivaizduoti, ką sprendėme"
   ]
  },
  {
   "cell_type": "code",
   "execution_count": 2,
   "metadata": {},
   "outputs": [],
   "source": [
    "import math\n",
    "import matplotlib.patches as patches \n",
    "from matplotlib.offsetbox import AnnotationBbox, AuxTransformBox\n",
    "from matplotlib.colors import ListedColormap\n",
    "import matplotlib.cm as cm \n",
    "import textwrap\n",
    "\n",
    "class Summary:\n",
    "    def __init__(self, lesson_df):\n",
    "        self.lesson_df = lesson_df\n",
    "        \n",
    "    def get_colors(self, clusters):\n",
    "        skills = []\n",
    "        for n in read_json(clusters).values():\n",
    "            skills.extend(n)\n",
    "\n",
    "        idx = [skills.index(n) for n in self.lesson_df['skill']]\n",
    "        palette = plt.get_cmap('jet')(np.linspace(0, 1, len(skills)))\n",
    "        colors = palette[idx]\n",
    "        return colors\n",
    "        \n",
    "    def add_summary(self, colors, mode = 'abstract', height=10, width=30, \n",
    "                    fixes={'\\\\boxed': '', '\\\\sin': '\\\\cos'}, figsize=(6,8), wrapping=50):\n",
    "        groupby = self.lesson_df.groupby(['author', 'topic', 'problem_id'], sort=False)\n",
    "        chunk_sizes = groupby.size().values\n",
    "        chunk_values = groupby.nth(0)['solved_fully'].values\n",
    "        figure, ax = plt.subplots(figsize = figsize, dpi=100)\n",
    "\n",
    "\n",
    "        ax.set_xticks(np.arange(0, width, width))\n",
    "        ax.get_xaxis().set_visible(False)\n",
    "        ax.set_xlim(0, width)\n",
    "\n",
    "        a=0.05\n",
    "        \n",
    "        # Full rectangles\n",
    "        pallete = {1: 'green', 0: 'brown'}\n",
    "        yticks = []\n",
    "        for start, size, solved in zip(np.cumsum(np.r_[0, chunk_sizes[:-1]]), chunk_sizes, chunk_values):\n",
    "            box_position = height * (start+size/2)\n",
    "            yticks.append(box_position)\n",
    "            if not math.isnan(solved):\n",
    "                rect = patches.Rectangle((-0.5*width, start*height+ height/2), width, size*height, facecolor='none')\n",
    "                offsetbox = AuxTransformBox(ax.transData)\n",
    "                offsetbox.add_artist(rect)\n",
    "                ab = AnnotationBbox(offsetbox, (width/2, box_position),\n",
    "                                    boxcoords=\"data\", pad=-0.62,fontsize=4,\n",
    "                                    bboxprops=dict(facecolor = \"none\", edgecolor=pallete[solved], \n",
    "                                              lw = 4))\n",
    "                ax.add_artist(ab)\n",
    "                \n",
    "                \n",
    "            else:\n",
    "                ax.add_patch(plt.Rectangle((0, (start-0.5)*height), width, size*height, \n",
    "                                           facecolor='none', edgecolor = 'none', zorder=1, lw=4, linestyle='--'))\n",
    "        \n",
    "        # Partial rectangles\n",
    "        for idx, clr in enumerate(colors):\n",
    "            point = self.lesson_df['solved_partially'][idx]\n",
    "            if math.isnan(point):\n",
    "                ax.add_patch(plt.Rectangle((0, idx*height), width, height, facecolor='none', edgecolor = 'grey', hatch=r'xxx'))\n",
    "            else:\n",
    "                s = {True: 0.65, False: 0}[point]\n",
    "                rectangle = patches.Rectangle((0, idx*height), width, height, facecolor=clr, \n",
    "                                           edgecolor = 'k', hatch=r'xxx', zorder=0)\n",
    "                ax.add_patch(rectangle)\n",
    "                \n",
    "                #clip your colors here\n",
    "                cell = (np.sin(np.linspace(0, np.pi, height)[:, np.newaxis]) * np.cos(np.linspace(-np.pi/2, np.pi/2, width))**0.5)\n",
    "                col = np.c_[np.linspace(clr[0], clr[0]*s, 20),\n",
    "                          np.linspace(clr[1], clr[1]*s, 20), \n",
    "                          np.linspace(clr[2], clr[2]*s, 20),\n",
    "                          np.ones(20)]\n",
    "                im = ax.imshow(cell, interpolation ='bicubic', cmap = ListedColormap(col), extent = (0, width, idx*height, (idx+1)*height))\n",
    "                im.set_clip_path(rectangle)\n",
    "              \n",
    "        ax.yaxis.set_label_position(\"right\")\n",
    "        ax.yaxis.tick_right()\n",
    "        \n",
    "        if mode == 'abstract':\n",
    "            ax.set_yticks(np.linspace(height/2, len(self.lesson_df) * height - height/2, len(self.lesson_df)))\n",
    "            ax.set_yticklabels(self.lesson_df['skill'].values, rotation='horizontal', fontsize=12, fontweight='bold')\n",
    "\n",
    "        elif mode == 'real':\n",
    "            problems = []\n",
    "            for author, topic, problem_id in groupby.nth(0).index:\n",
    "                u = read_json(f'{author}/{topic}.txt')[str(problem_id)]['Sąlyga']\n",
    "                problems.append(self.entering(self.parse_exception(u, fixes), wrapping=wrapping))\n",
    "\n",
    "            ax.set_yticks(yticks)\n",
    "            ax.set_yticklabels(problems, rotation='horizontal', fontsize=10, fontweight='bold')\n",
    "        \n",
    "        elif mode == 'full':\n",
    "            problems = []\n",
    "            for author, topic, problem_id in groupby.nth(0).index:\n",
    "                u = read_json(f'{author}/{topic}.txt')[str(problem_id)]\n",
    "                point_names = [self.entering(self.parse_exception(p['Atitikmuo'], fixes), wrapping=wrapping) for p in u['Gebėjimai']]\n",
    "                if len(point_names) == 1:\n",
    "                    problems.append(self.entering(self.parse_exception(u['Sąlyga'], fixes), wrapping=wrapping))\n",
    "                else:\n",
    "                    problems.extend(point_names)\n",
    "                    \n",
    "            ax.set_yticks(np.linspace(height/2, len(self.lesson_df) * height - height/2, len(self.lesson_df)))\n",
    "            ax.set_yticklabels(problems, rotation='horizontal', fontsize=10, fontweight='bold')\n",
    "\n",
    "        ax.set_ylim(0, len(self.lesson_df) * height)\n",
    "        \n",
    "        ax.set_title('Pasiekimai', fontsize=15, fontweight='bold')\n",
    "        #ax.tick_params(axis='y', which='major', right=False) #might this help to extend plot\n",
    "        plt.gca().invert_yaxis()\n",
    "        plt.show()\n",
    "    \n",
    "    @staticmethod\n",
    "    def parse_exception(text, fixes={}):\n",
    "        for n in fixes:\n",
    "            text = text.replace(n, fixes[n])\n",
    "        return text\n",
    "    \n",
    "    @staticmethod\n",
    "    def entering(text, wrapping=100):\n",
    "        se = np.array([m.start() for m in re.finditer(r\"(?=\\$)\", text)])\n",
    "        if len(se):\n",
    "            se = se.reshape(-1, 2) + (0, 1)\n",
    "            forward = dict((text[s[0]:s[1]], str(np.random.randint(1000000000))) for s in se)\n",
    "            backward = dict((forward[n], n) for n in forward)\n",
    "\n",
    "            for n in forward:\n",
    "                text = text.replace(n, forward[n])\n",
    "            out_text = '\\n'.join(textwrap.wrap(text, width=wrapping))\n",
    "            \n",
    "            for n in backward:\n",
    "                out_text = out_text.replace(n, backward[n])\n",
    "            return out_text\n",
    "        else:\n",
    "            return '\\n'.join(textwrap.wrap(text, width=wrapping))\n",
    "    \n",
    "    \n",
    "        \n",
    "#Jei prireiks - uždavinių rūšiavimas pagal numerius\n",
    "import re\n",
    "def argsort_problems(problem_ids):\n",
    "    keys = [re.match(r'(\\d*)(.*)', s).groups() for s in problem_ids]\n",
    "    keys = [(int(num), ord(letters)) if letters else (int(num), 0) for num, letters in keys]\n",
    "    sorter = np.ravel_multi_index(np.array(keys).T, (256, 256))\n",
    "    return np.argsort(sorter)"
   ]
  },
  {
   "cell_type": "markdown",
   "metadata": {},
   "source": [
    "### Klasė, kuri nuskaito pamokos duomenis"
   ]
  },
  {
   "cell_type": "code",
   "execution_count": 3,
   "metadata": {},
   "outputs": [],
   "source": [
    "class Lesson:\n",
    "    def __init__(self, text):\n",
    "        self.df = pd.read_csv(StringIO(text), sep=\" \")\n",
    "        self.df.set_index(['author', 'topic','problem_id'], inplace=True)\n",
    "\n",
    "    def analyse_problems(self):\n",
    "        # analysis on every problem_id or its part attempted based on metadata; no scoring\n",
    "        skills, pts = [], []\n",
    "        for problem in self.df.index.unique():\n",
    "            author, topic, problem_id = problem\n",
    "            metadata = read_json(f'{author}/{topic}.txt')\n",
    "            problem_data = metadata[str(problem_id)]['Gebėjimai']\n",
    "            problem_skills = [n['Gebėjimas'] for n in problem_data]\n",
    "            skills.append(problem_skills)\n",
    "            pts.append(len(problem_skills))\n",
    "        self.problems_df = pd.DataFrame({'skills': skills, 'pts': pts}, index = self.df.index.unique())\n",
    "\n",
    "    def analyse_points(self):\n",
    "        # creates a span of point_ids for every problem_id and extracts skills from self.problems_df; no scoring\n",
    "        self.analyse_problems()\n",
    "        multi_idx = self.problems_df.index\n",
    "        point_series = self.problems_df.loc[multi_idx.repeat(self.problems_df['pts'])].groupby(multi_idx.names).cumcount() + 1\n",
    "        skill = list(chain(*self.problems_df['skills']))\n",
    "        self.points_df = pd.DataFrame({'point_id': point_series.values, 'skill': skill}, index = point_series.index)\n",
    "\n",
    "    def check_solutions(self):\n",
    "        # scoring of full solutions + partial solutions; combines solution with metadata of problems & points\n",
    "        self.analyse_points()\n",
    "        df1 = self.df[self.df['point_id']==0]\n",
    "        df2 = self.df[self.df['point_id']!=0]\n",
    "        df2 = df2.reset_index().set_index(['author', 'topic', 'problem_id', 'point_id'])\n",
    "        self.points_df.loc[df1.index, 'solved_fully'] = df1['solved']\n",
    "        self.points_df = self.points_df.reset_index().set_index(['author', 'topic', 'problem_id','point_id'])\n",
    "        self.points_df.loc[df2.index, 'solved_partially'] = df2['solved']\n",
    "\n",
    "    def fix_typos(self):\n",
    "        # typos of any of these kinds:\n",
    "        # * if solved fully, all the partial solutions becomes right\n",
    "        # * if any partial solution not right, it's not solved fully\n",
    "        # * except the case there are not attempted partial solutions; it makes a full solution not attempted as well\n",
    "        self.check_solutions()\n",
    "        df = self.points_df\n",
    "        df.loc[df['solved_fully'] == True, 'solved_partially'] = True\n",
    "        df = df.reset_index().set_index(['author', 'topic', 'problem_id'])\n",
    "        df.loc[(df['solved_partially'] == False).index, 'solved_fully'] = False\n",
    "        df.loc[df['solved_partially'].isnull().index, 'solved_fully'] = np.nan\n",
    "    \n",
    "    def get_lesson(self):\n",
    "        self.fix_typos()\n",
    "        return self.points_df"
   ]
  },
  {
   "cell_type": "markdown",
   "metadata": {},
   "source": [
    "## Usage"
   ]
  },
  {
   "cell_type": "markdown",
   "metadata": {},
   "source": [
    "### Parodyk reikalavimų sąrašą"
   ]
  },
  {
   "cell_type": "code",
   "execution_count": 321,
   "metadata": {},
   "outputs": [
    {
     "data": {
      "text/markdown": [
       "\n",
       "### Skaičiai ir skaičiavimai\n",
       "\n",
       "* **Dalumas.** Atpažinti ir naudoti natūraliuosius skaičius. Taikyti dalumo iš 2, 3, 5, 9 ir 10 požymius. Atpažinti pirminius ir sudėtinius skaičius. Sudėtinius skaičius skaidyti pirminiais dauginamaisiais. Taikyti sąvokas: dviejų skaičių (didžiausiasis) bendrasis daliklis ar (mažiausiasis) bendrasis kartotinis.\n",
       "* **$\\mathbb{Z}$ ir $\\mathbb{Q}$ operacijos.** Atlikti aritmetinius veiksmus su sveikaisiais ir trupmeniniais skaičiais. Taikyti šias sąvokas skaičiams: priešingas, atvirkštinis, lyginis (nelyginis), modulis. Taikyti pagrindinę proporcijos savybę\n",
       "* **Procentai.** Suvokti procento sąvoką. Rasti skaičių, kai žinomi jo procentai, rasti skaičiaus procentą.\n",
       "* **Šaknys ir laipsniai.** Taikyti žinias apie skaičiaus kėlimą sveikuoju laipsniu, kvadratinės ir kubinės šaknies traukimą. Atlikti nesudėtingus veiksmus su laipsniais.\n",
       "\n",
       "### Reiškiniai, lygtys, nelygybės\n",
       "\n",
       "* **Vienanarių ir daugianarių operacijos.** Atlikti vienanarių ir daugianarių sudėtį, atimtį ir daugybą.\n",
       "* **Laipsnių taikymas reiškiniuose.** Prastinant reiškinius taikyti veiksmų su laipsniais, kurių rodiklis sveikasis skaičius, savybes.\n",
       "* **Skaidymas dauginamaisiais.** Nesudėtingais atvejais skaidyti daugianarius daugikliais.\n",
       "* **Greitosios daugybos formulės.** Taikyti greitosios daugybos formules.\n",
       "* **Lygtys ir nelygybės.** Sudaryti ir spręsti tiesines lygtis, nelygybes. Taip pat nepilnąsias kvadratines lygtis. Jų sprendinius vaizduoti skaičių tiesėje.\n",
       "* **Lygčių ir nelygybių sudarymas.** Spręsti tekstinius uždavinius sudarant lygtis, nelygybes.\n",
       "\n",
       "### Geometrija\n",
       "\n",
       "* **Figūrų pažinimas.** Atpažinti, pavaizduoti, apibūdinti paprasčiausias geometrines figūras.\n",
       "* **Kampų rūšys.** Taikyti gretutinių, kryžminių kampų ir kampų, gautų dvi lygiagrečias tieses perkirtus trečiąja, savybes.\n",
       "* **Trikampių savybės.** Taikyti žinias apie trikampį, jo aukštines, pusiaukraštines, pusiaukampines. Taikyti lygiašonio ir lygiakraščio trikampio savybes, trikampių lygumo požymius. Skaičiuoti trikampio perimetrą ir plotą.\n",
       "* **Keturkampių savybės.** Taikyti keturkampių (kvadrato, stačiakampio, lygiagretainio, rombo, trapecijos) savybes ir skaičiuoti jų perimetrus bei plotus.\n",
       "* **Pitagoro teorema.** Taikyti Pitagoro ir jai atvirkštinę teoremas.\n",
       "* **Apskritimo ir skritulio savybės.** Taikyti žinias apie apskritimą ir skritulį. Skaičiuoti apskritimo ilgį ir skritulio plotą.\n",
       "* **Erdvės geometrija.** Paprastais atvejais apskaičiuoti kubo, stačiakampio gretasienio, taisyklingosios piramidės, ritinio ir kūgio elementus.\n",
       "\n",
       "### Kombinatorika\n",
       "\n",
       "* **Sudėties ir daugybos taisyklės.** Taikyti kombinatorines sudėties ir daugybos taisykles, sprendžiant paprastus uždavinius. (pvz. nustatyti, kiek yra palindrominių penkiaženklių skaičių).\n"
      ],
      "text/plain": [
       "<IPython.core.display.Markdown object>"
      ]
     },
     "metadata": {},
     "output_type": "display_data"
    }
   ],
   "source": [
    "display(Markdown(document_it(r'licejus\\clusters.txt', r'licejus\\branches.txt')))"
   ]
  },
  {
   "cell_type": "markdown",
   "metadata": {},
   "source": [
    "### Parodyk uždavinių komplektą"
   ]
  },
  {
   "cell_type": "code",
   "execution_count": 27,
   "metadata": {},
   "outputs": [
    {
     "data": {
      "text/markdown": [
       "\n",
       "### licejus/2017\n",
       "1a\\. Kiek yra skirtingų triženklių skaičių, kurių vienetų skaitmuo nelyginis? (1 tšk.)\n",
       "\n",
       "1b\\. Kokiu skaitmeniu baigiasi sandauga 318 dauginamųjų, kurių kiekvienas lygus 3? (1 tšk.)\n",
       "\n",
       "1c\\. Kokį dviženklį skaičių reikia pridėti prie $10^{2017}$, kad gautasis skaičius dalintųsi iš 90? (1 tšk.)\n",
       "\n",
       "1d\\. Kiek kartų padidės sandauga $ab$, jeigu dauginamąjį $a$ padidinsime 250%, o dauginamajį $b$ sumažinsime 40%? (1 tšk.)\n",
       "\n",
       "2\\. Jonas išlanksto lėktuvėlį per 3 minutes, o Zigmas tokį pat lėktuvėlį išlanksto per 4 minutes. Per kiek laiko Jonas ir Zigmas išlankstytų 14 lėktuvėlių, jei dirbtų kartu? (3tšk.)\n",
       "\n",
       "3a\\. Suprastinkite reiškinį $\\displaystyle\\frac{1}{2}xy^{2}\\cdot (-2x^2y)^{8}$ (2tšk.)\n",
       "\n",
       "3b\\. Suprastinkite reiškinį $\\displaystyle\\frac{n\\cdot 2^{1+n}}{2^{3-n}}$, kur $n$ - sveikasis skaičius (2tšk.)\n",
       "\n",
       "4a\\. Lygiašonės trapecijos $ABCD$ trumpesnysis pagrindas $BC$ lygus šoninėms kraštinėms. Trapecijos perimetras lygus 124 cm, o pagrindų ilgiai sutinka santykiu 13:23. Parodykite, kad trumpesnysis trapecijos pagrindas lygus 26cm. [1tšk.]\n",
       "\n",
       "4b\\. Lygiašonės trapecijos $ABCD$ trumpesnysis pagrindas $BC$ yra tokio paties ilgio kaip šoninės kraštinės ir lygus 26 cm. Trapecijos pagrindų ilgiai sutinka santykiu 13:23. Raskite šios trapecijos plotą. [3tšk.]\n",
       "\n",
       "5\\. Važiuodamas pastoviu greičiu Saulius per 15min nuvažiuoja 2 kilometrais mažiau, nei trečdalį kelio iki namų, o per 45min. - 3 kilometrais daugiau, nei pusę to paties atstumo. Apskaičiuokite Sauliaus važiavimo greitį (kilometrais per valandą) ir atstumą ligi namų [4tšk.]\n",
       "\n",
       "6\\. Žinoma, kad merginos sudarė daugiau nei 20%, bet mažiau nei 25% visų ekskursijos dalyvių skaičiaus. Raskite mažiausią galimą šios ekskursijos dalyvių skaičių [3tšk.]\n",
       "\n"
      ],
      "text/plain": [
       "<IPython.core.display.Markdown object>"
      ]
     },
     "metadata": {},
     "output_type": "display_data"
    }
   ],
   "source": [
    "display(Markdown(make_some_bank('licejus/2017')))"
   ]
  },
  {
   "cell_type": "markdown",
   "metadata": {},
   "source": [
    "### Parodyk tam tikrą uždavinį, jei reikia, su sprendimu"
   ]
  },
  {
   "cell_type": "code",
   "execution_count": 323,
   "metadata": {},
   "outputs": [
    {
     "data": {
      "text/markdown": [
       "**Užduotis.**\n",
       "\n",
       "Kiek yra skirtingų triženklių skaičių, kurių vienetų skaitmuo nelyginis? (1 tšk.)\n",
       "\n",
       "**Sprendimas.**\n",
       "* $5 \\times 10 \\times 10= 500$\n",
       "* **Paaiškinimas:** $\\begin{cases} \\text{Pirmas skaitmuo: 5 variantai (1,3,5,7,9)} \\\\ \\text{Pirmas skaitmuo: 10 variantų} \\\\ \\text{Pirmas skaitmuo: 10 variantų} \\end{cases}$"
      ],
      "text/plain": [
       "<IPython.core.display.Markdown object>"
      ]
     },
     "metadata": {},
     "output_type": "display_data"
    }
   ],
   "source": [
    "display(Markdown(show_problem('licejus/2017', '1a', show_solution=True)))"
   ]
  },
  {
   "cell_type": "markdown",
   "metadata": {},
   "source": [
    "### Parodyk tam tikrą uždavinio dalį, jei reikia, su sprendimu"
   ]
  },
  {
   "cell_type": "code",
   "execution_count": 7,
   "metadata": {},
   "outputs": [
    {
     "data": {
      "text/markdown": [
       "**Uždavinio dalis 1, kurioje yra $\\mathbb{Z}$ ir $\\mathbb{Q}$ operacijos.**\n",
       "\n",
       "Jonas išlanksto lėktuvėlį per 3 minutes, o Zigmas tokį pat lėktuvėlį išlanksto per 4 minutes. Kurią dalį lėktuvėlio išlankstys per minutę kiekvienas atskirai ir kurią dirbdami kartu?\n",
       "\n",
       "**Sprendimas.**\n",
       "\n",
       "Jonas - $\\displaystyle\\frac{1}{3}$ lėktuvėlio, Zigmas - $\\displaystyle\\frac{1}{4}$, abu - $\\displaystyle\\frac{1}{3}+\\frac{1}{4}=\\frac{7}{12}$"
      ],
      "text/plain": [
       "<IPython.core.display.Markdown object>"
      ]
     },
     "metadata": {},
     "output_type": "display_data"
    }
   ],
   "source": [
    "display(Markdown(show_case('licejus/2017', '2', which=1, show_solution=True)))"
   ]
  },
  {
   "cell_type": "markdown",
   "metadata": {},
   "source": [
    "### Išmesk kopijuojamą tekstą, kuris parodo rinkinį [gebėjimas -> uždavinių sąrašas]"
   ]
  },
  {
   "cell_type": "code",
   "execution_count": 324,
   "metadata": {},
   "outputs": [
    {
     "data": {
      "text/plain": [
       "defaultdict(list,\n",
       "            {'Sudėties ir daugybos taisyklės': ['licejus/2017.1a->1'],\n",
       "             'Dalumas': ['licejus/2017.1b->1', 'licejus/2017.1c->1'],\n",
       "             'Procentai': ['licejus/2017.1d->1'],\n",
       "             '$\\\\mathbb{Z}$ ir $\\\\mathbb{Q}$ operacijos': ['licejus/2017.2->1',\n",
       "              'licejus/2017.2->2',\n",
       "              'licejus/2017.2->3'],\n",
       "             'Laipsnių taikymas reiškiniuose': ['licejus/2017.3a->1',\n",
       "              'licejus/2017.3a->2',\n",
       "              'licejus/2017.3b->1',\n",
       "              'licejus/2017.3b->2']})"
      ]
     },
     "execution_count": 324,
     "metadata": {},
     "output_type": "execute_result"
    }
   ],
   "source": [
    "get_analysis('licejus/2017')"
   ]
  },
  {
   "cell_type": "markdown",
   "metadata": {},
   "source": [
    "### Parodyk visus uždavinius, kuriems reikia tam tikro gebėjimo [veikia su klaidomis, nerodo variantų]"
   ]
  },
  {
   "cell_type": "code",
   "execution_count": 12,
   "metadata": {},
   "outputs": [
    {
     "data": {
      "text/markdown": [
       "### Uždaviniai[2], kuriuose yra Dalumas: \n",
       "\n",
       "**licejus/2017.1b->1** Kokiu skaitmeniu baigiasi sandauga 318 dauginamųjų, kurių kiekvienas lygus 3? (1 tšk.)\n",
       "\n",
       "**licejus/2017.1c->1** Kokį dviženklį skaičių reikia pridėti prie $10^{2017}$, kad gautasis skaičius dalintųsi iš 90? (1 tšk.)\n",
       "\n"
      ],
      "text/plain": [
       "<IPython.core.display.Markdown object>"
      ]
     },
     "metadata": {},
     "output_type": "display_data"
    }
   ],
   "source": [
    "display(Markdown(show_skill('Dalumas', 'licejus/2017'))) #additional files allowed"
   ]
  },
  {
   "cell_type": "markdown",
   "metadata": {},
   "source": [
    "### Pavaizduok duoto uždavinių komplekto gebėjimų pasiskirstymą"
   ]
  },
  {
   "cell_type": "code",
   "execution_count": 28,
   "metadata": {},
   "outputs": [
    {
     "name": "stdout",
     "output_type": "stream",
     "text": [
      "WARNING! Some problems contain skills that are not in clusters:\n",
      " defaultdict(<class 'int'>, {'Lygčių ir nelygybių sudarymas.': 1})\n"
     ]
    },
    {
     "data": {
      "image/png": "[encoded data removed]",
      "text/plain": [
       "<Figure size 432x432 with 1 Axes>"
      ]
     },
     "metadata": {},
     "output_type": "display_data"
    }
   ],
   "source": [
    "Skills('licejus/clusters.txt', 'licejus/2017').plot()"
   ]
  },
  {
   "cell_type": "markdown",
   "metadata": {},
   "source": [
    "### Pavaizduok per pamoką spręstus uždavinius"
   ]
  },
  {
   "cell_type": "code",
   "execution_count": 33,
   "metadata": {},
   "outputs": [
    {
     "data": {
      "text/markdown": [
       "\n",
       "### licejus/2017\n",
       "1a\\. Kiek yra skirtingų triženklių skaičių, kurių vienetų skaitmuo nelyginis? (1 tšk.)\n",
       "\n",
       "1b\\. Kokiu skaitmeniu baigiasi sandauga 318 dauginamųjų, kurių kiekvienas lygus 3? (1 tšk.)\n",
       "\n",
       "1c\\. Kokį dviženklį skaičių reikia pridėti prie $10^{2017}$, kad gautasis skaičius dalintųsi iš 90? (1 tšk.)\n",
       "\n",
       "1d\\. Kiek kartų padidės sandauga $ab$, jeigu dauginamąjį $a$ padidinsime 250%, o dauginamajį $b$ sumažinsime 40%? (1 tšk.)\n",
       "\n",
       "2\\. Jonas išlanksto lėktuvėlį per 3 minutes, o Zigmas tokį pat lėktuvėlį išlanksto per 4 minutes. Per kiek laiko Jonas ir Zigmas išlankstytų 14 lėktuvėlių, jei dirbtų kartu? (3tšk.)\n",
       "\n",
       "3a\\. Suprastinkite reiškinį $\\displaystyle \\frac{1}{2}xy^2\\cdot (-2x^2y)^8$ (2tšk.)\n",
       "\n",
       "3b\\. Suprastinkite reiškinį $\\displaystyle \\frac{n\\cdot 2^{1+n}}{2^{3-n}}$, kur $n$ - sveikasis skaičius (2tšk.)\n",
       "\n"
      ],
      "text/plain": [
       "<IPython.core.display.Markdown object>"
      ]
     },
     "metadata": {},
     "output_type": "display_data"
    }
   ],
   "source": [
    "display(Markdown(make_some_bank('licejus/2017')))"
   ]
  },
  {
   "cell_type": "markdown",
   "metadata": {},
   "source": [
    "### Detaliausia įmanoma uždavinio analizė"
   ]
  },
  {
   "cell_type": "code",
   "execution_count": 333,
   "metadata": {},
   "outputs": [
    {
     "data": {
      "text/markdown": [
       "**Užduotis.**\n",
       "\n",
       "Suprastinkite reiškinį $\\displaystyle\\frac{1}{2}xy^{2}\\cdot (-2x^2y)^{8}$ (2tšk.)\n",
       "\n",
       "**Sprendimas.**\n",
       "* $\\displaystyle\\frac{1}{2}xy^2\\cdot (-2x^2y)^8 = 2^{-1}xy^2 \\cdot 2^8x^{16}y^8 = 2^7x^{17}y^{10}=128x^{17}y^{10}$"
      ],
      "text/plain": [
       "<IPython.core.display.Markdown object>"
      ]
     },
     "metadata": {},
     "output_type": "display_data"
    },
    {
     "data": {
      "text/markdown": [
       "----------------------------------------------------------------------------------------------------"
      ],
      "text/plain": [
       "<IPython.core.display.Markdown object>"
      ]
     },
     "metadata": {},
     "output_type": "display_data"
    },
    {
     "data": {
      "text/markdown": [
       "**Uždavinio dalis 1, kurioje yra Laipsnių taikymas reiškiniuose.**\n",
       "\n",
       "$(-2x^2y)^8 = ?$\n",
       "\n",
       "**Sprendimas.**\n",
       "\n",
       "$(-2x^2y)^8 = 2^8x^{16}y^8=256x^{16}y^8$"
      ],
      "text/plain": [
       "<IPython.core.display.Markdown object>"
      ]
     },
     "metadata": {},
     "output_type": "display_data"
    },
    {
     "data": {
      "text/markdown": [
       "----------------------------------------------------------------------------------------------------"
      ],
      "text/plain": [
       "<IPython.core.display.Markdown object>"
      ]
     },
     "metadata": {},
     "output_type": "display_data"
    },
    {
     "data": {
      "text/markdown": [
       "**Uždavinio dalis 2, kurioje yra Laipsnių taikymas reiškiniuose.**\n",
       "\n",
       "$2^{-1}xy^2 \\cdot 2^8x^{16}y^8=?$\n",
       "\n",
       "**Sprendimas.**\n",
       "\n",
       "$2^{-1}xy^2 \\cdot 2^8x^{16}y^8 = 2^7x^{17}y^{10}=128x^{17}y^{10}$"
      ],
      "text/plain": [
       "<IPython.core.display.Markdown object>"
      ]
     },
     "metadata": {},
     "output_type": "display_data"
    },
    {
     "data": {
      "text/plain": [
       "['Laipsnių taikymas reiškiniuose', 'Laipsnių taikymas reiškiniuose']"
      ]
     },
     "execution_count": 333,
     "metadata": {},
     "output_type": "execute_result"
    }
   ],
   "source": [
    "check('licejus/2017', '3a') # detaliausia analizė\n",
    "check_skills('licejus/2017', '3b') #tik reikiami gebėjimai"
   ]
  },
  {
   "cell_type": "markdown",
   "metadata": {},
   "source": [
    "### Pamokoje spręstų uždavinių duomenų bazė"
   ]
  },
  {
   "cell_type": "code",
   "execution_count": 9,
   "metadata": {},
   "outputs": [
    {
     "data": {
      "text/html": [
       "<div>\n",
       "<style scoped>\n",
       "    .dataframe tbody tr th:only-of-type {\n",
       "        vertical-align: middle;\n",
       "    }\n",
       "\n",
       "    .dataframe tbody tr th {\n",
       "        vertical-align: top;\n",
       "    }\n",
       "\n",
       "    .dataframe thead th {\n",
       "        text-align: right;\n",
       "    }\n",
       "</style>\n",
       "<table border=\"1\" class=\"dataframe\">\n",
       "  <thead>\n",
       "    <tr style=\"text-align: right;\">\n",
       "      <th></th>\n",
       "      <th></th>\n",
       "      <th></th>\n",
       "      <th></th>\n",
       "      <th>skill</th>\n",
       "      <th>solved_fully</th>\n",
       "      <th>solved_partially</th>\n",
       "    </tr>\n",
       "    <tr>\n",
       "      <th>author</th>\n",
       "      <th>topic</th>\n",
       "      <th>problem_id</th>\n",
       "      <th>point_id</th>\n",
       "      <th></th>\n",
       "      <th></th>\n",
       "      <th></th>\n",
       "    </tr>\n",
       "  </thead>\n",
       "  <tbody>\n",
       "    <tr>\n",
       "      <th rowspan=\"11\" valign=\"top\">licejus</th>\n",
       "      <th rowspan=\"11\" valign=\"top\">2017</th>\n",
       "      <th>1a</th>\n",
       "      <th>1</th>\n",
       "      <td>Sudėties ir daugybos taisyklės</td>\n",
       "      <td>False</td>\n",
       "      <td>False</td>\n",
       "    </tr>\n",
       "    <tr>\n",
       "      <th>1b</th>\n",
       "      <th>1</th>\n",
       "      <td>Dalumas</td>\n",
       "      <td>False</td>\n",
       "      <td>False</td>\n",
       "    </tr>\n",
       "    <tr>\n",
       "      <th>1c</th>\n",
       "      <th>1</th>\n",
       "      <td>Dalumas</td>\n",
       "      <td>False</td>\n",
       "      <td>False</td>\n",
       "    </tr>\n",
       "    <tr>\n",
       "      <th>1d</th>\n",
       "      <th>1</th>\n",
       "      <td>Procentai</td>\n",
       "      <td>False</td>\n",
       "      <td>False</td>\n",
       "    </tr>\n",
       "    <tr>\n",
       "      <th rowspan=\"3\" valign=\"top\">2</th>\n",
       "      <th>1</th>\n",
       "      <td>$\\mathbb{Z}$ ir $\\mathbb{Q}$ operacijos</td>\n",
       "      <td>False</td>\n",
       "      <td>False</td>\n",
       "    </tr>\n",
       "    <tr>\n",
       "      <th>2</th>\n",
       "      <td>$\\mathbb{Z}$ ir $\\mathbb{Q}$ operacijos</td>\n",
       "      <td>False</td>\n",
       "      <td>False</td>\n",
       "    </tr>\n",
       "    <tr>\n",
       "      <th>3</th>\n",
       "      <td>$\\mathbb{Z}$ ir $\\mathbb{Q}$ operacijos</td>\n",
       "      <td>False</td>\n",
       "      <td>False</td>\n",
       "    </tr>\n",
       "    <tr>\n",
       "      <th rowspan=\"2\" valign=\"top\">3a</th>\n",
       "      <th>1</th>\n",
       "      <td>Laipsnių taikymas reiškiniuose</td>\n",
       "      <td>False</td>\n",
       "      <td>False</td>\n",
       "    </tr>\n",
       "    <tr>\n",
       "      <th>2</th>\n",
       "      <td>Laipsnių taikymas reiškiniuose</td>\n",
       "      <td>False</td>\n",
       "      <td>False</td>\n",
       "    </tr>\n",
       "    <tr>\n",
       "      <th rowspan=\"2\" valign=\"top\">3b</th>\n",
       "      <th>1</th>\n",
       "      <td>Laipsnių taikymas reiškiniuose</td>\n",
       "      <td>False</td>\n",
       "      <td>False</td>\n",
       "    </tr>\n",
       "    <tr>\n",
       "      <th>2</th>\n",
       "      <td>Laipsnių taikymas reiškiniuose</td>\n",
       "      <td>False</td>\n",
       "      <td>False</td>\n",
       "    </tr>\n",
       "  </tbody>\n",
       "</table>\n",
       "</div>"
      ],
      "text/plain": [
       "                                                                     skill  \\\n",
       "author  topic problem_id point_id                                            \n",
       "licejus 2017  1a         1                  Sudėties ir daugybos taisyklės   \n",
       "              1b         1                                         Dalumas   \n",
       "              1c         1                                         Dalumas   \n",
       "              1d         1                                       Procentai   \n",
       "              2          1         $\\mathbb{Z}$ ir $\\mathbb{Q}$ operacijos   \n",
       "                         2         $\\mathbb{Z}$ ir $\\mathbb{Q}$ operacijos   \n",
       "                         3         $\\mathbb{Z}$ ir $\\mathbb{Q}$ operacijos   \n",
       "              3a         1                  Laipsnių taikymas reiškiniuose   \n",
       "                         2                  Laipsnių taikymas reiškiniuose   \n",
       "              3b         1                  Laipsnių taikymas reiškiniuose   \n",
       "                         2                  Laipsnių taikymas reiškiniuose   \n",
       "\n",
       "                                   solved_fully  solved_partially  \n",
       "author  topic problem_id point_id                                  \n",
       "licejus 2017  1a         1                False             False  \n",
       "              1b         1                False             False  \n",
       "              1c         1                False             False  \n",
       "              1d         1                False             False  \n",
       "              2          1                False             False  \n",
       "                         2                False             False  \n",
       "                         3                False             False  \n",
       "              3a         1                False             False  \n",
       "                         2                False             False  \n",
       "              3b         1                False             False  \n",
       "                         2                False             False  "
      ]
     },
     "execution_count": 9,
     "metadata": {},
     "output_type": "execute_result"
    }
   ],
   "source": [
    "text = \"\"\"\n",
    "author topic problem_id point_id solved\n",
    "licejus 2017 1a 0 False\n",
    "licejus 2017 1a 1 False\n",
    "licejus 2017 1b 0 False\n",
    "licejus 2017 1b 1 False\n",
    "licejus 2017 1c 0 False\n",
    "licejus 2017 1c 1 False\n",
    "licejus 2017 1d 0 False\n",
    "licejus 2017 1d 1 False\n",
    "licejus 2017 2 0 False\n",
    "licejus 2017 2 1 False\n",
    "licejus 2017 2 2 False\n",
    "licejus 2017 2 3 False\n",
    "licejus 2017 3a 0 False\n",
    "licejus 2017 3a 1 False\n",
    "licejus 2017 3a 2 False\n",
    "licejus 2017 3b 0 False\n",
    "licejus 2017 3b 1 False\n",
    "licejus 2017 3b 2 False\n",
    "\"\"\" \n",
    "Lesson(text).get_lesson()"
   ]
  },
  {
   "cell_type": "markdown",
   "metadata": {},
   "source": [
    "### Trys būdai pavaizduoti pamokos darbą"
   ]
  },
  {
   "cell_type": "code",
   "execution_count": 10,
   "metadata": {
    "scrolled": false
   },
   "outputs": [],
   "source": [
    "#nepamiršti iš pradžių įrašyti pamokos duomenų į text kintamąjį\n",
    "lesson_df = Lesson(text).get_lesson()\n",
    "summary = Summary(lesson_df)\n",
    "colors = summary.get_colors('licejus/clusters.txt')\n"
   ]
  },
  {
   "cell_type": "code",
   "execution_count": 21,
   "metadata": {},
   "outputs": [
    {
     "data": {
      "image/png": "[encoded data removed]",
      "text/plain": [
       "<Figure size 130x900 with 1 Axes>"
      ]
     },
     "metadata": {
      "needs_background": "light"
     },
     "output_type": "display_data"
    }
   ],
   "source": [
    "summary.add_summary(colors, mode = 'abstract', figsize=(1.3,9))\n",
    "#summary.add_summary(colors, mode = 'real', fixes={'\\\\boxed': '', '\\\\displaystyle': ''}, figsize=(3,9))\n",
    "#summary.add_summary(colors, mode = 'full', fixes={'\\\\boxed': '', '\\\\displaystyle': ''}, figsize=(3,9), wrapping=100)"
   ]
  },
  {
   "cell_type": "code",
   "execution_count": 336,
   "metadata": {},
   "outputs": [
    {
     "data": {
      "text/markdown": [
       "\n",
       "### licejus/2017\n",
       "1a\\. Kiek yra skirtingų triženklių skaičių, kurių vienetų skaitmuo nelyginis? (1 tšk.)\n",
       "\n",
       "1b\\. Kokiu skaitmeniu baigiasi sandauga 318 dauginamųjų, kurių kiekvienas lygus 3? (1 tšk.)\n",
       "\n",
       "1c\\. Kokį dviženklį skaičių reikia pridėti prie $10^{2017}$, kad gautasis skaičius dalintųsi iš 90? (1 tšk.)\n",
       "\n",
       "1d\\. Kiek kartų padidės sandauga $ab$, jeigu dauginamąjį $a$ padidinsime 250%, o dauginamajį $b$ sumažinsime 40%? (1 tšk.)\n",
       "\n",
       "2\\. Jonas išlanksto lėktuvėlį per 3 minutes, o Zigmas tokį pat lėktuvėlį išlanksto per 4 minutes. Per kiek laiko Jonas ir Zigmas išlankstytų 14 lėktuvėlių, jei dirbtų kartu? (3tšk.)\n",
       "\n",
       "3a\\. Suprastinkite reiškinį $\\displaystyle\\frac{1}{2}xy^{2}\\cdot (-2x^2y)^{8}$ (2tšk.)\n",
       "\n",
       "3b\\. Suprastinkite reiškinį $\\displaystyle\\frac{n\\cdot 2^{1+n}}{2^{3-n}}$, kur $n$ - sveikasis skaičius (2tšk.)\n",
       "\n"
      ],
      "text/plain": [
       "<IPython.core.display.Markdown object>"
      ]
     },
     "metadata": {},
     "output_type": "display_data"
    }
   ],
   "source": [
    "display(Markdown(make_some_bank('licejus/2017')))"
   ]
  },
  {
   "cell_type": "code",
   "execution_count": 29,
   "metadata": {
    "scrolled": true
   },
   "outputs": [
    {
     "data": {
      "text/markdown": [
       "**Uždavinio dalis 1, kurioje yra Lygčių ir nelygybių sudarymas..**\n",
       "\n",
       "\n",
       "\n",
       "**Sprendimas.**\n",
       "\n"
      ],
      "text/plain": [
       "<IPython.core.display.Markdown object>"
      ]
     },
     "metadata": {},
     "output_type": "display_data"
    }
   ],
   "source": [
    "#display(Markdown(show_case('licejus/2017', '4a', which=1, show_solution=True)))\n",
    "#display(Markdown(show_problem('licejus/2017', '2', show_solution=True)))\n",
    "#check('licejus/2017', '2') # detaliausia analizė\n",
    "#check_skills('simonas/susipažinimas', '8') #tik reikiami gebėjimai"
   ]
  },
  {
   "cell_type": "code",
   "execution_count": null,
   "metadata": {},
   "outputs": [],
   "source": []
  }
 ],
 "metadata": {
  "kernelspec": {
   "display_name": "Python 3",
   "language": "python",
   "name": "python3"
  },
  "language_info": {
   "codemirror_mode": {
    "name": "ipython",
    "version": 3
   },
   "file_extension": ".py",
   "mimetype": "text/x-python",
   "name": "python",
   "nbconvert_exporter": "python",
   "pygments_lexer": "ipython3",
   "version": "3.8.3"
  }
 },
 "nbformat": 4,
 "nbformat_minor": 4
}
