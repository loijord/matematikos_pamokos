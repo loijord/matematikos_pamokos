{
 "cells": [
  {
   "cell_type": "markdown",
   "metadata": {},
   "source": [
    "### Modelis\n",
    "$\\hat\\mu = \\hat{p} \\pm  z_\\alpha \\sqrt{\\frac{\\hat{p}(1-\\hat{p})}{n}}$\n",
    "\n",
    "$\\displaystyle \\begin{cases} \\hat{p} \\leftarrow \\text{imties proporcija}\\\\ \n",
    "n \\leftarrow \\text{imties dydis}\\\\\n",
    "z_\\alpha \\leftarrow \\alpha \\text{ binominio skirstinio kritinė reikšmė iš lentelės pagal formulę} \\frac{1-Q}{2} \\text{surastam }\\alpha\\\\\n",
    "Q \\leftarrow \\text{garantija}\\end{cases}$"
   ]
  },
  {
   "cell_type": "code",
   "execution_count": 55,
   "metadata": {},
   "outputs": [
    {
     "data": {
      "text/plain": [
       "'0.8 ± 0.313'"
      ]
     },
     "execution_count": 55,
     "metadata": {},
     "output_type": "execute_result"
    }
   ],
   "source": [
    "import scipy.stats\n",
    "import numpy as np\n",
    "\n",
    "def big_estimate(X, Q = 0.9):\n",
    "    '''\n",
    "    **Wald interval** tinka didelėms imtims. Randa paklaidą su 90% garantija: 5% šansų, kad viršys \n",
    "    vidurkį kartu su paklaida ir 5% šansų, kad bus žemiau vidurkio kartu su paklaida'''\n",
    "    t = scipy.stats.t.ppf((1+Q)/2, len(X)-1)\n",
    "    p = np.mean(X)\n",
    "    error = t * np.sqrt(p*(1-p) / len(X))\n",
    "    if len(X)<50:\n",
    "        error += 1/2/len(X)\n",
    "    return f'{round(p, 3)} ± {round(error, 3)}'\n",
    "\n",
    "big_estimate([1,1,1,1,0], Q=0.7)"
   ]
  },
  {
   "cell_type": "markdown",
   "metadata": {},
   "source": [
    "[Apie Clopper-Pearson](https://influentialpoints.com/Training/confidence_intervals_of_proportions.htm)"
   ]
  },
  {
   "cell_type": "code",
   "execution_count": 66,
   "metadata": {},
   "outputs": [],
   "source": [
    "def small_evaluate(X, Q=0.9):\n",
    "    '''**Clopper-Pearson interval** tinka mažoms imtims. Randa paklaidą su 90% garantija: 5% šansų, kad viršys \n",
    "    vidurkį + paklaidą ir 5% šansų, kad bus žemiau vidurkio - paklaida'''\n",
    "    p = np.mean(X)\n",
    "    q = 1-p\n",
    "    n = len(X)\n",
    "    v1=2*(n*q+1)\n",
    "    v2=2*n*p\n",
    "    v3=2*(n*p+1)\n",
    "    v4=2*n*q\n",
    "    \n",
    "    CL = 1/(1 + (scipy.stats.f.ppf((1+Q)/2, v1, v2)*(q + 1/n)/p)) # CL\n",
    "    CU = 1/(1+(q/(1/n+p)/scipy.stats.f.ppf((1+Q)/2, v3, v4))) # CU\n",
    "    return round(CL,3), round(CU,3)"
   ]
  }
 ],
 "metadata": {
  "kernelspec": {
   "display_name": "Python 3",
   "language": "python",
   "name": "python3"
  },
  "language_info": {
   "codemirror_mode": {
    "name": "ipython",
    "version": 3
   },
   "file_extension": ".py",
   "mimetype": "text/x-python",
   "name": "python",
   "nbconvert_exporter": "python",
   "pygments_lexer": "ipython3",
   "version": "3.8.3"
  }
 },
 "nbformat": 4,
 "nbformat_minor": 4
}
