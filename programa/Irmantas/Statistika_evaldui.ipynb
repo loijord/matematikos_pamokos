{
 "cells": [
  {
   "cell_type": "markdown",
   "id": "8c8fe2b3",
   "metadata": {},
   "source": [
    "1\\. Tegu $X$ yra absoliučiai tolydus atsitiktinis dydis su tankio funkcija $$f(x)=\\left\\{\\begin{array}{lr}0,&&x\\le -1 \\\\ \\frac{3}{4}\\left(1-x^2\\right),&&-1<x\\le 1\\\\0,&&x>1\\end{array}\\right..$$ Užrašykite ant popieriaus pasiskirstymo funkciją, nubraižykite jos ir tankio funkcijos grafiką. Apskaičiuokite atsitikitinio dydžio vidurkį $EX$, modą $M_o$ $X$, pasiskirstymo funkcijos reikšmę $F(0.5)$.\n",
    "\n",
    "***Sprendimas*** (pagal skaidrių apie atsitiktinius dydžius 17psl.).\n",
    "$\\displaystyle F(x)=\\left\\{\\begin{array}{lr}\\int_{-\\infty}^{x}0 \\mathrm{\\,dx},&&x\\le -1 \\\\ \\int_{-\\infty}^{-1}0 \\mathrm{\\,dx}+\\int_{-1}^{x}\\frac{3}{4}\\left(1-x^2\\right) \\mathrm{\\,dx},&&-1<x\\le 1\\\\ \\int_{-\\infty}^{-1}0 \\mathrm{\\,dx}+\\int_{-1}^{1}\\frac{3}{4}\\left(1-x^2\\right)\\mathrm{\\,dx}+\\int_{1}^{x}0 \\mathrm{\\,dx},&&x>1\\end{array}\\right.=$ \n",
    "\n",
    "$=\\left\\{\\begin{array}{lr}0,&&x\\le -1 \\\\ \\frac{3}{4}\\left(x-\\frac{x^3}{3}\\right)\\Bigg|_{-1}^{x},&&-1<x\\le 1\\\\ 1,&&x>1\\end{array}\\right. = $\n",
    "\n",
    "$=\\left\\{\\begin{array}{lr}0,&&x\\le -1 \\\\ \\frac{3}{4}\\left(x-\\frac{x^3}{3}\\right)-\\frac{3}{4}\\left(-\\frac{2}{3}\\right),&&-1<x\\le 1\\\\ 1,&&x>1\\end{array}\\right. = $\n",
    "\n",
    "$=\\left\\{\\begin{array}{lr}0,&&x\\le -1 \\\\ \\frac{3x}{4}-\\frac{x^3}{4}+\\frac{1}{2},&&-1<x\\le 1\\\\ 1,&&x>1\\end{array}\\right.$\n",
    "\n",
    "Tankio funkcijos brėžinys:"
   ]
  },
  {
   "cell_type": "code",
   "execution_count": 33,
   "id": "5812d9e6",
   "metadata": {},
   "outputs": [
    {
     "data": {
      "image/png": "[encoded data removed]",
      "text/plain": [
       "<Figure size 432x288 with 1 Axes>"
      ]
     },
     "metadata": {
      "needs_background": "light"
     },
     "output_type": "display_data"
    }
   ],
   "source": [
    "plot_pieces([(-4,-1),(-1,1),(1,4)], [lambda x:0, lambda x: 3/4 * (1-x*x), lambda x: 0], empties=[], \n",
    "            fullies=[], name='f(x)')"
   ]
  },
  {
   "cell_type": "code",
   "execution_count": 34,
   "id": "7d601a5a",
   "metadata": {},
   "outputs": [
    {
     "data": {
      "image/png": "[encoded data removed]",
      "text/plain": [
       "<Figure size 432x288 with 1 Axes>"
      ]
     },
     "metadata": {
      "needs_background": "light"
     },
     "output_type": "display_data"
    }
   ],
   "source": [
    "plot_pieces([(-4,-1),(-1,1),(1,4)], [lambda x:0, lambda x: 3*x/4-x**3/4+1/2, lambda x: 1], empties=[], \n",
    "            fullies=[])"
   ]
  },
  {
   "cell_type": "markdown",
   "id": "f8444e0a",
   "metadata": {},
   "source": [
    "2\\. Pabaikite formulę: $P(A|B)$\n",
    "\n",
    "***Sprendimas*** (pagal [angl. Vikipediją](https://en.wikipedia.org/wiki/Conditional_probability)). $\\displaystyle P(A|B)=\\frac{P(A\\bigcap B)}{P(B)}$."
   ]
  },
  {
   "cell_type": "markdown",
   "id": "94ade3dc",
   "metadata": {},
   "source": [
    "3\\. Tarp 10 loterijos bilietų yra 4 laimingi. Nusipirkite 3 bilietus. Atsitiktinis dydis $X$ - laimingų bilietų skaičius tarp nupirktųjų. Užrašykite ant popieriaus $X$ skirstinį lentele (įgyjamos reikšmės ir įgyjimo tikimybės). Užrašykite atsitiktinio dydžio pasiskirstymo funkciją ir nubrėžkite jos grafiką.\n",
    "\n",
    "$\\displaystyle\\begin{array}{|r||cccc|}\\hline X&0&1&2&3\\\\ \\hline P(X)&\\frac{C_4^0C_6^3}{C_{10}^3}&\\frac{C_4^1C_6^2}{C_{10}^3}&\\frac{C_4^2C_6^1}{C_{10}^3}&\\frac{C_4^3C_6^0}{C_{10}^3}\\\\ \\hline \\end{array} = \n",
    "\\begin{array}{|r||cccc|}\\hline X&0&1&2&3\\\\ \\hline P(X)&\\frac{1\\times 20}{120}&\\frac{4\\times 15}{120}&\\frac{6\\times 6}{120}&\\frac{4\\times 1}{120}\\\\ \\hline \\end{array}=\n",
    "\\begin{array}{|r||cccc|}\\hline X&0&1&2&3\\\\ \\hline P(X)&0.167&0.5&0.3&0.033\\\\ \\hline \\end{array}$\n",
    "\n",
    "Pasiskirstymo funkcija:\n",
    "\n",
    "$\\displaystyle F(x)=\\left\\{\\begin{array}{lr}0,&&x< 0 \\\\0.167,&&0\\le x<1\\\\ 0.667,&&1\\le x<2 \\\\ 0.967,&&2\\le x<3 \\\\ 1,&&x\\ge 3 \\end{array}\\right.$\n",
    "\n",
    "Pasiskirstymo funkcijos grafikas:"
   ]
  },
  {
   "cell_type": "code",
   "execution_count": 41,
   "id": "456af3ca",
   "metadata": {},
   "outputs": [
    {
     "data": {
      "image/png": "[encoded data removed]",
      "text/plain": [
       "<Figure size 432x288 with 1 Axes>"
      ]
     },
     "metadata": {
      "needs_background": "light"
     },
     "output_type": "display_data"
    }
   ],
   "source": [
    "plot_pieces([(-2,0),(0,1),(1,2),(2,3),(3,5)], \n",
    "            [lambda x:0, lambda x: 0.167, lambda x: 0.667, lambda x: 0.967, lambda x:1], \n",
    "            empties=[(0,0),(1,0.167),(2,0.667),(3,0.967)], \n",
    "            fullies=[(0,0.167),(1,0.667),(2,0.967),(3,1.02)])"
   ]
  },
  {
   "cell_type": "markdown",
   "id": "a41625fc",
   "metadata": {},
   "source": [
    "4\\. Studentas žaidžia kompiuterinį žaidimą, kurio laimėjimo tikimybė yra $0.2$. Atsitiktinis dydis $X$ žymi laimėjimų skaičių sužaidus žaidimą 10 kartų. Apskaičiuokite atsitiktinio dydžio $X$ vidurkį $EX$ ir dispersiją $DX$. Kaip vadinasi atsitiktinio dydžio $X$ skirstinys?\n",
    "\n",
    "***Sprendimas*** (pagal skaidrių apie atsitiktinius dydžius 40psl.). Toks skirstinys vadinamas binominiu. $p=0.2$, $n=10$, $EX=np=2$, $DX=np(1-p)=1.6$"
   ]
  },
  {
   "cell_type": "markdown",
   "id": "a2b26e3f",
   "metadata": {},
   "source": [
    "5\\. Pateikite junginių, kurie vadinasi deriniais be pasikartojimų, apibrėžimą. Nurodykite, kaip randamas jų skaičius. Pateikite savo sugalvotą derinių pavyzdį.\n",
    "\n",
    "***Sprendimas*** (pagal [ematematikas.lt](https://www.ematematikas.lt/forumas/tikimybiu-teorijos-ir-statistikos-formules-t13702.html)). Deriniai be pasikartojimų iš $n$ po $k$ - tai galimybių pasirinkti $k$ narių iš $n$ elementų aibės, kai eilės tvarka nesvarbi. Jų skaičius randamas pagal formulę $C_n^k=\\frac{n\\cdot(n-1)\\cdot...\\cdot(n-k+1)}{k\\cdot(k-1)\\cdot...\\cdot 1}$. Pavyzdžiui kolį perlaikinėja 7 studentai, dėstytojas nusprendė sukirsti 3 iš jų. Jis tai gali padaryti $C_7^3=\\frac{7\\cdot 6\\cdot 5}{1\\cdot 2\\cdot 3}=35$ būdais."
   ]
  },
  {
   "cell_type": "markdown",
   "id": "86c4bb9b",
   "metadata": {},
   "source": [
    "6\\. Tegu $Z$ - standartinis normalusis atsitiktinis dydis: $Z \\sim N(0,1)$. Išspręskite lygtį $P(Z>z_o)=0.43$. "
   ]
  },
  {
   "cell_type": "markdown",
   "id": "ed234917",
   "metadata": {},
   "source": [
    "7\\. Užrašykite ant popieriaus ir paaiškinkite, kokio atsitiktinio dydžio skirstinys vadinamas hipergeometriniu. Ar jis yra absoliučiai tolydus, ar diskretus? Užrašykite, kaip skaičiuojamos hipergeometrinį skirstinį turinčio atsitiktinio dydžio įgyjamų reikšmių tikimybės."
   ]
  },
  {
   "cell_type": "markdown",
   "id": "f5a012c2",
   "metadata": {},
   "source": [
    "8\\. Pateikite geometrinės tikimybės apibrėžimą ir užrašykite formulę tokiai tikimybei skaičiuoti. Užrašykite savo sugalvotą pavyzdį geometrinei tikimybei skaičiuoti."
   ]
  },
  {
   "cell_type": "markdown",
   "id": "70341fdc",
   "metadata": {},
   "source": [
    "9\\. Tegu atsitiktinis dydis $X\\sim N(10,16)$. Apskaičiuokite tikimybę $P(1<X<15)$."
   ]
  },
  {
   "cell_type": "code",
   "execution_count": 32,
   "id": "c414f125",
   "metadata": {},
   "outputs": [],
   "source": [
    "import matplotlib.pyplot as plt\n",
    "import numpy as np\n",
    "def plot_pieces(intervals, lambdas, empties=[], fullies=[], name='F(x)'):\n",
    "    plt.ylim(-0.5,1.5)\n",
    "    plt.ylabel(name)\n",
    "    plt.xlabel('x')\n",
    "    \n",
    "    for n,m in zip(intervals, lambdas): \n",
    "        plt.scatter(np.linspace(*n,100), [m(x) for x in np.linspace(*n,100)], c='k', s=10)\n",
    "    for n in empties:\n",
    "        plt.scatter(*n, s=150, marker='o', edgecolors='k', facecolors='white', linewidth=2.5)\n",
    "    for n in fullies:\n",
    "        plt.scatter(*n, s=150, marker='o', edgecolors='k', facecolors='k', linewidth=2.5)"
   ]
  },
  {
   "cell_type": "code",
   "execution_count": null,
   "id": "204a1ba5",
   "metadata": {},
   "outputs": [],
   "source": []
  }
 ],
 "metadata": {
  "kernelspec": {
   "display_name": "Python 3",
   "language": "python",
   "name": "python3"
  },
  "language_info": {
   "codemirror_mode": {
    "name": "ipython",
    "version": 3
   },
   "file_extension": ".py",
   "mimetype": "text/x-python",
   "name": "python",
   "nbconvert_exporter": "python",
   "pygments_lexer": "ipython3",
   "version": "3.8.3"
  }
 },
 "nbformat": 4,
 "nbformat_minor": 5
}
