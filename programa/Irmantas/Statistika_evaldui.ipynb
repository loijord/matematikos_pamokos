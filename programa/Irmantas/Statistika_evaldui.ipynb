{
 "cells": [
  {
   "cell_type": "markdown",
   "id": "506d952b",
   "metadata": {},
   "source": [
    "### Testas 1\n",
    "\n",
    "1\\. Tegu $X$ yra absoliučiai tolydus atsitiktinis dydis su tankio funkcija $$f(x)=\\left\\{\\begin{array}{ll}0,&&x\\le -1 \\\\ \\frac{3}{4}\\left(1-x^2\\right),&&-1<x\\le 1\\\\0,&&x>1\\end{array}\\right..$$ Užrašykite ant popieriaus pasiskirstymo funkciją, nubraižykite jos ir tankio funkcijos grafiką. Apskaičiuokite atsitikitinio dydžio vidurkį $EX$, modą $M_o$ $X$, pasiskirstymo funkcijos reikšmę $F(0.5)$.\n",
    "\n",
    "***Sprendimas*** (pagal skaidres apie atsitiktinius dydžius 17psl.).\n",
    "\n",
    "$\\displaystyle F(x)=\\left\\{\\begin{array}{ll}\\int_{-\\infty}^{x}0 \\mathrm{\\,dx},&&x\\le -1 \\\\ \\int_{-\\infty}^{-1}0 \\mathrm{\\,dx}+\\int_{-1}^{x}\\frac{3}{4}\\left(1-x^2\\right) \\mathrm{\\,dx},&&-1<x\\le 1\\\\ \\int_{-\\infty}^{-1}0 \\mathrm{\\,dx}+\\int_{-1}^{1}\\frac{3}{4}\\left(1-x^2\\right)\\mathrm{\\,dx}+\\int_{1}^{x}0 \\mathrm{\\,dx},&&x>1\\end{array}\\right.\\quad= \n",
    "\\left\\{\\begin{array}{ll}0,&&x\\le -1 \\\\ \\frac{3}{4}\\left(x-\\frac{x^3}{3}\\right)\\Bigg|_{-1}^{x},&&-1<x\\le 1\\\\ 1,&&x>1\\end{array}\\right. = $\n",
    "\n",
    "$=\\left\\{\\begin{array}{ll}0,&&x\\le -1 \\\\ \\frac{3}{4}\\left(x-\\frac{x^3}{3}\\right)-\\frac{3}{4}\\left(-\\frac{2}{3}\\right),&&-1<x\\le 1\\\\ 1,&&x>1\\end{array}\\right. \\quad= \\left\\{\\begin{array}{ll}0,&&x\\le -1 \\\\ \\frac{3x}{4}-\\frac{x^3}{4}+\\frac{1}{2},&&-1<x\\le 1\\\\ 1,&&x>1\\end{array}\\right.$\n",
    "\n",
    "Tankio ir pasiskirstymo funkcijų grafikai"
   ]
  },
  {
   "cell_type": "code",
   "execution_count": 73,
   "id": "492dc273",
   "metadata": {},
   "outputs": [
    {
     "data": {
      "image/png": "[encoded data removed]",
      "text/plain": [
       "<Figure size 864x216 with 2 Axes>"
      ]
     },
     "metadata": {
      "needs_background": "light"
     },
     "output_type": "display_data"
    }
   ],
   "source": [
    "fig, (ax1, ax2) = plt.subplots(1, 2, figsize=(12,3))\n",
    "ax1 = plot_pieces(ax1, [(-4,-1),(-1,1),(1,4)], [lambda x:0, lambda x: 3/4 * (1-x*x), lambda x: 0], empties=[], \n",
    "            fullies=[], name='f(x)', title='Tankio funkcija')\n",
    "ax2 = plot_pieces(ax2, [(-4,-1),(-1,1),(1,4)], [lambda x:0, lambda x: 3*x/4-x**3/4+1/2, lambda x: 1], empties=[], \n",
    "            fullies=[], name='F(x)', title='Pasiskirstymo funkcija')\n",
    "plt.show()"
   ]
  },
  {
   "cell_type": "markdown",
   "id": "348476c4",
   "metadata": {},
   "source": [
    "$\\begin{array}{rrll}EX = \\int_{-\\infty}^{\\infty}xf(x)\\mathrm{\\,dx}=&\n",
    "\\int_{-\\infty}^{-1}0x \\mathrm{\\,dx}&+\\int_{-1}^{1}\\frac{3}{4}x\\left(1-x^2\\right)\\mathrm{\\,dx}&+\\int_{1}^{+\\infty}0x \\mathrm{\\,dx}=\\\\\n",
    "=&0&+\\int_{-1}^{1}\\frac{3}{4}x\\left(1-x^2\\right)&+0=\\\\\n",
    "=&&\\frac{3}{4}\\int_{-1}^{1}\\left(x-x^3\\right)&=\\frac{3}{4}\\left(\\frac{x^2}{2}-\\frac{x^4}{4}\\right)\\Big|_{-1}^{1}=\\frac{3}{4}\\left(\\frac{1}{4}-\\left(-\\frac{1}{4}\\right)\\right)=\\frac{3}{8}\\end{array}$\n",
    "\n",
    "Moda $M_0X$($x$, su kuriuo $f(x)$ įgyja max) = 0.\n",
    "\n",
    "$F(0.5)=\\frac{3\\cdot 0.5}{4}-\\frac{0.5^3}{4}+\\frac{1}{2}=\\frac{3}{8}-\\frac{1}{32}+\\frac{1}{2}=\\frac{12}{32}-\\frac{1}{32}+\\frac{16}{32}=\\frac{27}{32}$"
   ]
  },
  {
   "cell_type": "markdown",
   "id": "201e1162",
   "metadata": {},
   "source": [
    "2\\. Pabaikite formulę: $P(A|B)$\n",
    "\n",
    "***Sprendimas*** (pagal [angl. Vikipediją](https://en.wikipedia.org/wiki/Conditional_probability)). $\\displaystyle P(A|B)=\\frac{P(A\\bigcap B)}{P(B)}$."
   ]
  },
  {
   "cell_type": "markdown",
   "id": "1b54d37b",
   "metadata": {},
   "source": [
    "3\\. Tarp 10 loterijos bilietų yra 4 laimingi. Nusipirkite 3 bilietus. Atsitiktinis dydis $X$ - laimingų bilietų skaičius tarp nupirktųjų. Užrašykite ant popieriaus $X$ skirstinį lentele (įgyjamos reikšmės ir įgyjimo tikimybės). Užrašykite atsitiktinio dydžio pasiskirstymo funkciją ir nubrėžkite jos grafiką.\n",
    "\n",
    "$\\displaystyle\\begin{array}{|r||cccc|}\\hline X&0&1&2&3\\\\ \\hline P(X)&\\frac{C_4^0C_6^3}{C_{10}^3}&\\frac{C_4^1C_6^2}{C_{10}^3}&\\frac{C_4^2C_6^1}{C_{10}^3}&\\frac{C_4^3C_6^0}{C_{10}^3}\\\\ \\hline \\end{array} = \n",
    "\\begin{array}{|r||cccc|}\\hline X&0&1&2&3\\\\ \\hline P(X)&\\frac{1\\times 20}{120}&\\frac{4\\times 15}{120}&\\frac{6\\times 6}{120}&\\frac{4\\times 1}{120}\\\\ \\hline \\end{array}=\n",
    "\\begin{array}{|r||cccc|}\\hline X&0&1&2&3\\\\ \\hline P(X)&0.167&0.5&0.3&0.033\\\\ \\hline \\end{array}$\n",
    "\n",
    "Pasiskirstymo funkcija:\n",
    "\n",
    "$\\displaystyle F(x)=\\left\\{\\begin{array}{lr}0,&&x< 0 \\\\0.167,&&0\\le x<1\\\\ 0.667,&&1\\le x<2 \\\\ 0.967,&&2\\le x<3 \\\\ 1,&&x\\ge 3 \\end{array}\\right.$\n",
    "\n",
    "Pasiskirstymo funkcijos grafikas:"
   ]
  },
  {
   "cell_type": "code",
   "execution_count": 74,
   "id": "3e4684d7",
   "metadata": {},
   "outputs": [
    {
     "data": {
      "image/png": "[encoded data removed]",
      "text/plain": [
       "<Figure size 432x288 with 1 Axes>"
      ]
     },
     "metadata": {
      "needs_background": "light"
     },
     "output_type": "display_data"
    }
   ],
   "source": [
    "plot_pieces(plt.axes(), [(-2,0),(0,1),(1,2),(2,3),(3,5)], \n",
    "            [lambda x:0, lambda x: 0.167, lambda x: 0.667, lambda x: 0.967, lambda x:1], \n",
    "            empties=[(0,0),(1,0.167),(2,0.667),(3,0.967)], \n",
    "            fullies=[(0,0.167),(1,0.667),(2,0.967),(3,1.02)], title='Pasiskirstymo funkcija')\n",
    "plt.show()"
   ]
  },
  {
   "cell_type": "markdown",
   "id": "d540bf6c",
   "metadata": {},
   "source": [
    "4\\. Studentas žaidžia kompiuterinį žaidimą, kurio laimėjimo tikimybė yra $0.2$. Atsitiktinis dydis $X$ žymi laimėjimų skaičių sužaidus žaidimą 10 kartų. Apskaičiuokite atsitiktinio dydžio $X$ vidurkį $EX$ ir dispersiją $DX$. Kaip vadinasi atsitiktinio dydžio $X$ skirstinys?\n",
    "\n",
    "***Sprendimas*** (pagal skaidres apie atsitiktinius dydžius 40psl.). Toks skirstinys vadinamas binominiu. $p=0.2$, $n=10$, $EX=np=2$, $DX=np(1-p)=1.6$"
   ]
  },
  {
   "cell_type": "markdown",
   "id": "3c90f561",
   "metadata": {},
   "source": [
    "5\\. Pateikite junginių, kurie vadinasi deriniais be pasikartojimų, apibrėžimą. Nurodykite, kaip randamas jų skaičius. Pateikite savo sugalvotą derinių pavyzdį.\n",
    "\n",
    "***Sprendimas*** (pagal [ematematikas.lt](https://www.ematematikas.lt/forumas/tikimybiu-teorijos-ir-statistikos-formules-t13702.html)). Deriniai be pasikartojimų iš $n$ po $k$ - tai galimybių pasirinkti $k$ narių iš $n$ elementų aibės, kai eilės tvarka nesvarbi. Jų skaičius randamas pagal formulę $C_n^k=\\frac{n\\cdot(n-1)\\cdot...\\cdot(n-k+1)}{k\\cdot(k-1)\\cdot...\\cdot 1}$. Pavyzdžiui kolį perlaikinėja 7 studentai, dėstytojas nusprendė sukirsti 3 iš jų. Jis tai gali padaryti $C_7^3=\\frac{7\\cdot 6\\cdot 5}{1\\cdot 2\\cdot 3}=35$ būdais."
   ]
  },
  {
   "cell_type": "code",
   "execution_count": 1,
   "id": "56513cbb",
   "metadata": {},
   "outputs": [
    {
     "data": {
      "application/vnd.jupyter.widget-view+json": {
       "model_id": "9edf7b97da1847939d315cfc01619a02",
       "version_major": 2,
       "version_minor": 0
      },
      "text/plain": [
       "CytoscapeWidget(cytoscape_layout={'name': 'cola'}, cytoscape_style=[{'selector': 'node', 'css': {'background-c…"
      ]
     },
     "metadata": {},
     "output_type": "display_data"
    }
   ],
   "source": [
    "from ipycytoscape import CytoscapeWidget\n",
    "import networkx as nx\n",
    "G = nx.complete_graph(5)\n",
    "cyto = CytoscapeWidget()\n",
    "cyto.graph.add_graph_from_networkx(G)\n",
    "display(cyto)"
   ]
  },
  {
   "cell_type": "markdown",
   "id": "8ccb7622",
   "metadata": {},
   "source": [
    "6\\. Tegu $Z$ - standartinis normalusis atsitiktinis dydis: $Z \\sim N(0,1)$. Išspręskite lygtį $P(Z>z_o)=0.43$. "
   ]
  },
  {
   "cell_type": "markdown",
   "id": "87788b88",
   "metadata": {},
   "source": [
    "7\\. Užrašykite ant popieriaus ir paaiškinkite, kokio atsitiktinio dydžio skirstinys vadinamas hipergeometriniu. Ar jis yra absoliučiai tolydus, ar diskretus? Užrašykite, kaip skaičiuojamos hipergeometrinį skirstinį turinčio atsitiktinio dydžio įgyjamų reikšmių tikimybės."
   ]
  },
  {
   "cell_type": "markdown",
   "id": "00e17f89",
   "metadata": {},
   "source": [
    "8\\. Pateikite geometrinės tikimybės apibrėžimą ir užrašykite formulę tokiai tikimybei skaičiuoti. Užrašykite savo sugalvotą pavyzdį geometrinei tikimybei skaičiuoti."
   ]
  },
  {
   "cell_type": "markdown",
   "id": "f9640ff1",
   "metadata": {},
   "source": [
    "9\\. Tegu atsitiktinis dydis $X\\sim N(10,16)$. Apskaičiuokite tikimybę $P(1<X<15)$.\n",
    "\n",
    "***Sprendimas.*** $[a,b]=[1,15]$, $\\mu=10$, $\\sigma=4$; $P(1<X<15)=\\Phi_{10,16}(15) - \\Phi_{10,16}(1)=\\Phi_{0,1}(\\) - \\Phi_{0,1}(1)$"
   ]
  },
  {
   "cell_type": "markdown",
   "id": "c6a83c90",
   "metadata": {},
   "source": [
    "### Palengvinimai\n",
    "Apsirašiau funkciją, kuri padeda greit nubraižyti tankio ir pasiskirstymo funkcijų grafikus"
   ]
  },
  {
   "cell_type": "code",
   "execution_count": 64,
   "id": "8852dd1d",
   "metadata": {},
   "outputs": [],
   "source": [
    "import matplotlib.pyplot as plt\n",
    "import numpy as np\n",
    "def plot_pieces(ax, intervals, lambdas, empties=[], fullies=[], name='F(x)', title=''):\n",
    "    ax.set_ylim(-0.5,1.5)\n",
    "    ax.set_ylabel(name)\n",
    "    ax.set_xlabel('x')\n",
    "    ax.set_title(title)\n",
    "    \n",
    "    for n,m in zip(intervals, lambdas): \n",
    "        X = np.linspace(*n,100)\n",
    "        ax.scatter(X, [m(x) for x in X], c='k', s=10)\n",
    "    for n in empties:\n",
    "        ax.scatter(*n, s=150, marker='o', edgecolors='k', facecolors='white', linewidth=2.5)\n",
    "    for n in fullies:\n",
    "        ax.scatter(*n, s=150, marker='o', edgecolors='k', facecolors='k', linewidth=2.5)\n",
    "    return ax"
   ]
  },
  {
   "cell_type": "markdown",
   "id": "d5a19572",
   "metadata": {},
   "source": [
    "$\\int_{-\\infty}^{+\\infty}f(x)=1$"
   ]
  },
  {
   "cell_type": "markdown",
   "id": "87286836",
   "metadata": {},
   "source": [
    "absoliučiai tolydaus dydžio pasiskirstymo funkcija $F(x)$ apibrėžiama kaip $\\int_{-\\infty}^xf(x)$ reikšmė su sąlyga, \n",
    "\n",
    "kad atsitiktinio dydžio reikšmės tolydžios"
   ]
  },
  {
   "cell_type": "markdown",
   "id": "ae4d87a1",
   "metadata": {},
   "source": [
    "$$f(x)=\\left\\{\\begin{array}{lr}0,&&x\\le -2 \\\\ 1/4,&&-2<x\\le 2\\\\0,&&x>2\\end{array}\\right..$$"
   ]
  },
  {
   "cell_type": "markdown",
   "id": "115c4cf0",
   "metadata": {},
   "source": [
    "$$F(x)=\\left\\{\\begin{array}{lr}0,&&x\\le -2 \\\\ \\frac{x+2}{4},&&-2<x\\le 2\\\\0,&&x>2\\end{array}\\right..$$"
   ]
  },
  {
   "cell_type": "code",
   "execution_count": 48,
   "id": "2762a06e",
   "metadata": {},
   "outputs": [
    {
     "data": {
      "image/png": "[encoded data removed]",
      "text/plain": [
       "<Figure size 432x288 with 1 Axes>"
      ]
     },
     "metadata": {
      "needs_background": "light"
     },
     "output_type": "display_data"
    }
   ],
   "source": [
    "plot_pieces([(-4,-2),(-2,2),(2,4)], [lambda x:0, lambda x: (x+2)/4, lambda x: 1], empties=[], \n",
    "            fullies=[], name='F(x)')"
   ]
  },
  {
   "cell_type": "markdown",
   "id": "a26259f3",
   "metadata": {},
   "source": [
    "$P(X>1)=F(+\\infty) - F(1) = 1-3/4=1/4=0.25$"
   ]
  },
  {
   "cell_type": "markdown",
   "id": "9b87ad3d",
   "metadata": {},
   "source": [
    "$\\displaystyle\\begin{array}{|r||cccc|}\\hline X&0&1&2&3\\\\ \\hline skirstinys &\\frac{8}{27}\\times &\\frac{4}{27}\\times 3&\\frac{2}{27}\\times 1 &\\frac{2}{27}\\times 1\\\\ \\hline \\end{array}$"
   ]
  },
  {
   "cell_type": "code",
   "execution_count": 39,
   "id": "945f06ef",
   "metadata": {},
   "outputs": [
    {
     "name": "stdout",
     "output_type": "stream",
     "text": [
      "[(0, 0, 0, 0, 1), (0, 0, 0, 2, 2), (0, 0, 0, 3, 3), (0, 0, 0, 4, 4), (0, 0, 0, 5, 5), (0, 0, 0, 6, 6), (0, 0, 0, 7, 7), (0, 0, 0, 8, 8), (0, 0, 0, 9, 9), (0, 0, 1, 1, 1), (0, 0, 1, 2, 3), (0, 0, 1, 4, 5), (0, 0, 1, 6, 7), (0, 0, 1, 8, 9), (0, 0, 2, 4, 6), (0, 0, 2, 5, 7), (0, 0, 3, 4, 7), (0, 0, 3, 5, 6), (0, 1, 1, 2, 2), (0, 1, 1, 3, 3), (0, 1, 1, 4, 4), (0, 1, 1, 5, 5), (0, 1, 1, 6, 6), (0, 1, 1, 7, 7), (0, 1, 1, 8, 8), (0, 1, 1, 9, 9), (0, 1, 2, 4, 7), (0, 1, 2, 5, 6), (0, 1, 3, 4, 6), (0, 1, 3, 5, 7), (0, 2, 2, 2, 2), (0, 2, 2, 3, 3), (0, 2, 2, 4, 4), (0, 2, 2, 5, 5), (0, 2, 2, 6, 6), (0, 2, 2, 7, 7), (0, 2, 2, 8, 8), (0, 2, 2, 9, 9), (0, 2, 3, 4, 5), (0, 2, 3, 6, 7), (0, 2, 3, 8, 9), (0, 3, 3, 3, 3), (0, 3, 3, 4, 4), (0, 3, 3, 5, 5), (0, 3, 3, 6, 6), (0, 3, 3, 7, 7), (0, 3, 3, 8, 8), (0, 3, 3, 9, 9), (0, 4, 4, 4, 4), (0, 4, 4, 5, 5), (0, 4, 4, 6, 6), (0, 4, 4, 7, 7), (0, 4, 4, 8, 8), (0, 4, 4, 9, 9), (0, 4, 5, 6, 7), (0, 4, 5, 8, 9), (0, 5, 5, 5, 5), (0, 5, 5, 6, 6), (0, 5, 5, 7, 7), (0, 5, 5, 8, 8), (0, 5, 5, 9, 9), (0, 6, 6, 6, 6), (0, 6, 6, 7, 7), (0, 6, 6, 8, 8), (0, 6, 6, 9, 9), (0, 6, 7, 8, 9), (0, 7, 7, 7, 7), (0, 7, 7, 8, 8), (0, 7, 7, 9, 9), (0, 8, 8, 8, 8), (0, 8, 8, 9, 9), (0, 9, 9, 9, 9), (1, 1, 1, 1, 1), (1, 1, 1, 2, 3), (1, 1, 1, 4, 5), (1, 1, 1, 6, 7), (1, 1, 1, 8, 9), (1, 1, 2, 4, 6), (1, 1, 2, 5, 7), (1, 1, 3, 4, 7), (1, 1, 3, 5, 6), (1, 2, 2, 2, 3), (1, 2, 2, 4, 5), (1, 2, 2, 6, 7), (1, 2, 2, 8, 9), (1, 2, 3, 3, 3), (1, 2, 3, 4, 4), (1, 2, 3, 5, 5), (1, 2, 3, 6, 6), (1, 2, 3, 7, 7), (1, 2, 3, 8, 8), (1, 2, 3, 9, 9), (1, 3, 3, 4, 5), (1, 3, 3, 6, 7), (1, 3, 3, 8, 9), (1, 4, 4, 4, 5), (1, 4, 4, 6, 7), (1, 4, 4, 8, 9), (1, 4, 5, 5, 5), (1, 4, 5, 6, 6), (1, 4, 5, 7, 7), (1, 4, 5, 8, 8), (1, 4, 5, 9, 9), (1, 5, 5, 6, 7), (1, 5, 5, 8, 9), (1, 6, 6, 6, 7), (1, 6, 6, 8, 9), (1, 6, 7, 7, 7), (1, 6, 7, 8, 8), (1, 6, 7, 9, 9), (1, 7, 7, 8, 9), (1, 8, 8, 8, 9), (1, 8, 9, 9, 9), (2, 2, 2, 4, 6), (2, 2, 2, 5, 7), (2, 2, 3, 4, 7), (2, 2, 3, 5, 6), (2, 3, 3, 4, 6), (2, 3, 3, 5, 7), (2, 4, 4, 4, 6), (2, 4, 4, 5, 7), (2, 4, 5, 5, 6), (2, 4, 6, 6, 6), (2, 4, 6, 7, 7), (2, 4, 6, 8, 8), (2, 4, 6, 9, 9), (2, 4, 7, 8, 9), (2, 5, 5, 5, 7), (2, 5, 6, 6, 7), (2, 5, 6, 8, 9), (2, 5, 7, 7, 7), (2, 5, 7, 8, 8), (2, 5, 7, 9, 9), (3, 3, 3, 4, 7), (3, 3, 3, 5, 6), (3, 4, 4, 4, 7), (3, 4, 4, 5, 6), (3, 4, 5, 5, 7), (3, 4, 6, 6, 7), (3, 4, 6, 8, 9), (3, 4, 7, 7, 7), (3, 4, 7, 8, 8), (3, 4, 7, 9, 9), (3, 5, 5, 5, 6), (3, 5, 6, 6, 6), (3, 5, 6, 7, 7), (3, 5, 6, 8, 8), (3, 5, 6, 9, 9), (3, 5, 7, 8, 9)]\n"
     ]
    }
   ],
   "source": [
    "from itertools import chain\n",
    "import numpy as np\n",
    "loses=set([1])\n",
    "wins=set([0])\n",
    "ultrawins=[]\n",
    "X, d = 10, 5\n",
    "dim = (X,)*d\n",
    "for i in range(2,X**d):\n",
    "    geomspace = X**np.arange(d)\n",
    "    next_moves = chain(*[range(i-s,i-(i%(X*s))-1,-s) for s in geomspace])\n",
    "    chances = (n in loses for n in next_moves)\n",
    "    if any(chances): \n",
    "        wins.add(i)\n",
    "        #ultrawins.append((np.unravel_index(i,dim), np.unravel_index(next_moves[chances.index(True)], dim)))\n",
    "    else: loses.add(i)\n",
    "        \n",
    "nice_reprs=[]\n",
    "for i in loses:\n",
    "    bad_position = np.unravel_index(i, dim)\n",
    "    if np.all(np.diff(bad_position)>=0): \n",
    "        nice_reprs.append(bad_position)\n",
    "\n",
    "nice_repr = sorted(nice_reprs)\n",
    "\n",
    "print([n for n in ])# if n[0]<=1 and n[1]<=3 and n[2]<=5 and n[3]<=7])"
   ]
  },
  {
   "cell_type": "code",
   "execution_count": 38,
   "id": "7691c9ed",
   "metadata": {},
   "outputs": [
    {
     "name": "stdout",
     "output_type": "stream",
     "text": [
      "(0, 0) \t [[0, 0, 0, 0], [0, 0, 0, 1], [0, 0, 1, 1], [0, 0, 2, 2], [0, 0, 3, 3]]\n",
      "\n",
      "(0, 1) \t [[0, 1, 0, 1], [0, 1, 1, 0], [0, 1, 1, 1], [0, 1, 2, 3], [0, 1, 3, 2]]\n",
      "\n",
      "(0, 2) \t [[0, 2, 0, 2], [0, 2, 1, 3], [0, 2, 2, 0], [0, 2, 3, 1]]\n",
      "\n",
      "(0, 3) \t [[0, 3, 0, 3], [0, 3, 1, 2], [0, 3, 2, 1], [0, 3, 3, 0]]\n",
      "\n",
      "(1, 0) \t [[1, 0, 0, 1], [1, 0, 1, 0], [1, 0, 2, 3], [1, 0, 3, 2]]\n",
      "\n",
      "(1, 1) \t [[1, 1, 0, 0], [1, 1, 1, 1], [1, 1, 2, 2], [1, 1, 3, 3]]\n",
      "\n",
      "(1, 2) \t [[1, 2, 0, 3], [1, 2, 1, 2], [1, 2, 2, 1], [1, 2, 3, 0]]\n",
      "\n",
      "(1, 3) \t [[1, 3, 0, 2], [1, 3, 1, 3], [1, 3, 2, 0], [1, 3, 3, 1]]\n",
      "\n",
      "(2, 0) \t [[2, 0, 0, 2], [2, 0, 1, 3], [2, 0, 2, 0], [2, 0, 3, 1]]\n",
      "\n",
      "(2, 1) \t [[2, 1, 0, 3], [2, 1, 1, 2], [2, 1, 2, 1], [2, 1, 3, 0]]\n",
      "\n",
      "(2, 2) \t [[2, 2, 0, 0], [2, 2, 1, 1], [2, 2, 2, 2], [2, 2, 3, 3]]\n",
      "\n",
      "(2, 3) \t [[2, 3, 0, 1], [2, 3, 1, 0], [2, 3, 2, 3], [2, 3, 3, 2]]\n",
      "\n",
      "(3, 0) \t [[3, 0, 0, 3], [3, 0, 1, 2], [3, 0, 2, 1], [3, 0, 3, 0]]\n",
      "\n",
      "(3, 1) \t [[3, 1, 0, 2], [3, 1, 1, 3], [3, 1, 2, 0], [3, 1, 3, 1]]\n",
      "\n",
      "(3, 2) \t [[3, 2, 0, 1], [3, 2, 1, 0], [3, 2, 2, 3], [3, 2, 3, 2]]\n",
      "\n",
      "(3, 3) \t [[3, 3, 0, 0], [3, 3, 1, 1], [3, 3, 2, 2], [3, 3, 3, 3]]\n",
      "\n"
     ]
    }
   ],
   "source": [
    "import pandas as pd\n",
    "nice_reprs = np.array(nice_reprs)%4\n",
    "grouper = pd.DataFrame(nice_reprs).groupby([0,1]).groups\n",
    "result = {n:nice_reprs[grouper[n]] for n in grouper.keys()}\n",
    "for n in result:\n",
    "    print(n, '\\t', np.unique(result[n], axis=0).tolist())\n",
    "    print()"
   ]
  },
  {
   "cell_type": "markdown",
   "id": "e84b18f9",
   "metadata": {},
   "source": [
    "Apibendrinam. \n",
    "\n",
    "* Laikykime seriją porų (4b, 4b+3) ir (4b+1, 4b+2) įdomybe, (4b, 4b+2) ir (4b+1, 4b+3) nuobodybe, (b+1, b+1) standartu, (2b, 2b+1) šiftu.\n",
    "\n",
    "Nagrinėkime visas įmanomas žaidimo pradžias, neprasidedančias (0,:\n",
    "\n",
    "* (0, 3) ir ir (1,2) pradžios pralaimi tais ir tik tais atvejais, kai prie jų prirašytos įdomybės.\n",
    "* (0, 0) ir (1, 1) - tais ir tik tais atvejais, kai standartai arba (0, 1)\n",
    "* (0, 1) - tais ir tik tais atvejais, kai šiftai arba (1, 1)\n",
    "* (0, 2) - tais ir tik tais atvejais, kai nuobodybės\n",
    "* (1, 3) - su (1,3,5,7) arba (1,3,4,6)\n"
   ]
  },
  {
   "cell_type": "code",
   "execution_count": null,
   "id": "f7f67e44",
   "metadata": {},
   "outputs": [],
   "source": []
  }
 ],
 "metadata": {
  "kernelspec": {
   "display_name": "Python 3",
   "language": "python",
   "name": "python3"
  },
  "language_info": {
   "codemirror_mode": {
    "name": "ipython",
    "version": 3
   },
   "file_extension": ".py",
   "mimetype": "text/x-python",
   "name": "python",
   "nbconvert_exporter": "python",
   "pygments_lexer": "ipython3",
   "version": "3.8.3"
  }
 },
 "nbformat": 4,
 "nbformat_minor": 5
}
