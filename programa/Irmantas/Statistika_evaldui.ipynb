{
 "cells": [
  {
   "cell_type": "markdown",
   "id": "506d952b",
   "metadata": {},
   "source": [
    "### Testas 1\n",
    "\n",
    "1\\. Tegu $X$ yra absoliučiai tolydus atsitiktinis dydis su tankio funkcija $$f(x)=\\left\\{\\begin{array}{ll}0,&&x\\le -1 \\\\ \\frac{3}{4}\\left(1-x^2\\right),&&-1<x\\le 1\\\\0,&&x>1\\end{array}\\right..$$ Užrašykite ant popieriaus pasiskirstymo funkciją, nubraižykite jos ir tankio funkcijos grafiką. Apskaičiuokite atsitikitinio dydžio vidurkį $EX$, modą $M_o$ $X$, pasiskirstymo funkcijos reikšmę $F(0.5)$.\n",
    "\n",
    "***Sprendimas*** (pagal skaidres apie atsitiktinius dydžius 17psl.).\n",
    "\n",
    "$\\displaystyle F(x)=\\left\\{\\begin{array}{ll}\\int_{-\\infty}^{x}0 \\mathrm{\\,dx},&&x\\le -1 \\\\ \\int_{-\\infty}^{-1}0 \\mathrm{\\,dx}+\\int_{-1}^{x}\\frac{3}{4}\\left(1-x^2\\right) \\mathrm{\\,dx},&&-1<x\\le 1\\\\ \\int_{-\\infty}^{-1}0 \\mathrm{\\,dx}+\\int_{-1}^{1}\\frac{3}{4}\\left(1-x^2\\right)\\mathrm{\\,dx}+\\int_{1}^{x}0 \\mathrm{\\,dx},&&x>1\\end{array}\\right.\\quad= \n",
    "\\left\\{\\begin{array}{ll}0,&&x\\le -1 \\\\ \\frac{3}{4}\\left(x-\\frac{x^3}{3}\\right)\\Bigg|_{-1}^{x},&&-1<x\\le 1\\\\ 1,&&x>1\\end{array}\\right. = $\n",
    "\n",
    "$=\\left\\{\\begin{array}{ll}0,&&x\\le -1 \\\\ \\frac{3}{4}\\left(x-\\frac{x^3}{3}\\right)-\\frac{3}{4}\\left(-\\frac{2}{3}\\right),&&-1<x\\le 1\\\\ 1,&&x>1\\end{array}\\right. \\quad= \\left\\{\\begin{array}{ll}0,&&x\\le -1 \\\\ \\frac{3x}{4}-\\frac{x^3}{4}+\\frac{1}{2},&&-1<x\\le 1\\\\ 1,&&x>1\\end{array}\\right.$\n",
    "\n",
    "Tankio ir pasiskirstymo funkcijų grafikai"
   ]
  },
  {
   "cell_type": "code",
   "execution_count": 73,
   "id": "492dc273",
   "metadata": {},
   "outputs": [
    {
     "data": {
      "image/png": "[encoded data removed]",
      "text/plain": [
       "<Figure size 864x216 with 2 Axes>"
      ]
     },
     "metadata": {
      "needs_background": "light"
     },
     "output_type": "display_data"
    }
   ],
   "source": [
    "fig, (ax1, ax2) = plt.subplots(1, 2, figsize=(12,3))\n",
    "ax1 = plot_pieces(ax1, [(-4,-1),(-1,1),(1,4)], [lambda x:0, lambda x: 3/4 * (1-x*x), lambda x: 0], empties=[], \n",
    "            fullies=[], name='f(x)', title='Tankio funkcija')\n",
    "ax2 = plot_pieces(ax2, [(-4,-1),(-1,1),(1,4)], [lambda x:0, lambda x: 3*x/4-x**3/4+1/2, lambda x: 1], empties=[], \n",
    "            fullies=[], name='F(x)', title='Pasiskirstymo funkcija')\n",
    "plt.show()"
   ]
  },
  {
   "cell_type": "markdown",
   "id": "348476c4",
   "metadata": {},
   "source": [
    "$\\begin{array}{rrll}EX = \\int_{-\\infty}^{\\infty}xf(x)\\mathrm{\\,dx}=&\n",
    "\\int_{-\\infty}^{-1}0x \\mathrm{\\,dx}&+\\int_{-1}^{1}\\frac{3}{4}x\\left(1-x^2\\right)\\mathrm{\\,dx}&+\\int_{1}^{+\\infty}0x \\mathrm{\\,dx}=\\\\\n",
    "=&0&+\\int_{-1}^{1}\\frac{3}{4}x\\left(1-x^2\\right)&+0=\\\\\n",
    "=&&\\frac{3}{4}\\int_{-1}^{1}\\left(x-x^3\\right)&=\\frac{3}{4}\\left(\\frac{x^2}{2}-\\frac{x^4}{4}\\right)\\Big|_{-1}^{1}=\\frac{3}{4}\\left(\\frac{1}{4}-\\left(-\\frac{1}{4}\\right)\\right)=\\frac{3}{8}\\end{array}$\n",
    "\n",
    "Moda $M_0X$($x$, su kuriuo $f(x)$ įgyja max) = 0.\n",
    "\n",
    "$F(0.5)=\\frac{3\\cdot 0.5}{4}-\\frac{0.5^3}{4}+\\frac{1}{2}=\\frac{3}{8}-\\frac{1}{32}+\\frac{1}{2}=\\frac{12}{32}-\\frac{1}{32}+\\frac{16}{32}=\\frac{27}{32}$"
   ]
  },
  {
   "cell_type": "markdown",
   "id": "201e1162",
   "metadata": {},
   "source": [
    "2\\. Pabaikite formulę: $P(A|B)$\n",
    "\n",
    "***Sprendimas*** (pagal [angl. Vikipediją](https://en.wikipedia.org/wiki/Conditional_probability)). $\\displaystyle P(A|B)=\\frac{P(A\\bigcap B)}{P(B)}$."
   ]
  },
  {
   "cell_type": "markdown",
   "id": "1b54d37b",
   "metadata": {},
   "source": [
    "3\\. Tarp 10 loterijos bilietų yra 4 laimingi. Nusipirkite 3 bilietus. Atsitiktinis dydis $X$ - laimingų bilietų skaičius tarp nupirktųjų. Užrašykite ant popieriaus $X$ skirstinį lentele (įgyjamos reikšmės ir įgyjimo tikimybės). Užrašykite atsitiktinio dydžio pasiskirstymo funkciją ir nubrėžkite jos grafiką.\n",
    "\n",
    "$\\displaystyle\\begin{array}{|r||cccc|}\\hline X&0&1&2&3\\\\ \\hline P(X)&\\frac{C_4^0C_6^3}{C_{10}^3}&\\frac{C_4^1C_6^2}{C_{10}^3}&\\frac{C_4^2C_6^1}{C_{10}^3}&\\frac{C_4^3C_6^0}{C_{10}^3}\\\\ \\hline \\end{array} = \n",
    "\\begin{array}{|r||cccc|}\\hline X&0&1&2&3\\\\ \\hline P(X)&\\frac{1\\times 20}{120}&\\frac{4\\times 15}{120}&\\frac{6\\times 6}{120}&\\frac{4\\times 1}{120}\\\\ \\hline \\end{array}=\n",
    "\\begin{array}{|r||cccc|}\\hline X&0&1&2&3\\\\ \\hline P(X)&0.167&0.5&0.3&0.033\\\\ \\hline \\end{array}$\n",
    "\n",
    "Pasiskirstymo funkcija:\n",
    "\n",
    "$\\displaystyle F(x)=\\left\\{\\begin{array}{lr}0,&&x< 0 \\\\0.167,&&0\\le x<1\\\\ 0.667,&&1\\le x<2 \\\\ 0.967,&&2\\le x<3 \\\\ 1,&&x\\ge 3 \\end{array}\\right.$\n",
    "\n",
    "Pasiskirstymo funkcijos grafikas:"
   ]
  },
  {
   "cell_type": "code",
   "execution_count": 74,
   "id": "3e4684d7",
   "metadata": {},
   "outputs": [
    {
     "data": {
      "image/png": "[encoded data removed]",
      "text/plain": [
       "<Figure size 432x288 with 1 Axes>"
      ]
     },
     "metadata": {
      "needs_background": "light"
     },
     "output_type": "display_data"
    }
   ],
   "source": [
    "plot_pieces(plt.axes(), [(-2,0),(0,1),(1,2),(2,3),(3,5)], \n",
    "            [lambda x:0, lambda x: 0.167, lambda x: 0.667, lambda x: 0.967, lambda x:1], \n",
    "            empties=[(0,0),(1,0.167),(2,0.667),(3,0.967)], \n",
    "            fullies=[(0,0.167),(1,0.667),(2,0.967),(3,1.02)], title='Pasiskirstymo funkcija')\n",
    "plt.show()"
   ]
  },
  {
   "cell_type": "markdown",
   "id": "d540bf6c",
   "metadata": {},
   "source": [
    "4\\. Studentas žaidžia kompiuterinį žaidimą, kurio laimėjimo tikimybė yra $0.2$. Atsitiktinis dydis $X$ žymi laimėjimų skaičių sužaidus žaidimą 10 kartų. Apskaičiuokite atsitiktinio dydžio $X$ vidurkį $EX$ ir dispersiją $DX$. Kaip vadinasi atsitiktinio dydžio $X$ skirstinys?\n",
    "\n",
    "***Sprendimas*** (pagal skaidres apie atsitiktinius dydžius 40psl.). Toks skirstinys vadinamas binominiu. $p=0.2$, $n=10$, $EX=np=2$, $DX=np(1-p)=1.6$"
   ]
  },
  {
   "cell_type": "markdown",
   "id": "3c90f561",
   "metadata": {},
   "source": [
    "5\\. Pateikite junginių, kurie vadinasi deriniais be pasikartojimų, apibrėžimą. Nurodykite, kaip randamas jų skaičius. Pateikite savo sugalvotą derinių pavyzdį.\n",
    "\n",
    "***Sprendimas*** (pagal [ematematikas.lt](https://www.ematematikas.lt/forumas/tikimybiu-teorijos-ir-statistikos-formules-t13702.html)). Deriniai be pasikartojimų iš $n$ po $k$ - tai galimybių pasirinkti $k$ narių iš $n$ elementų aibės, kai eilės tvarka nesvarbi. Jų skaičius randamas pagal formulę $C_n^k=\\frac{n\\cdot(n-1)\\cdot...\\cdot(n-k+1)}{k\\cdot(k-1)\\cdot...\\cdot 1}$. Pavyzdžiui kolį perlaikinėja 7 studentai, dėstytojas nusprendė sukirsti 3 iš jų. Jis tai gali padaryti $C_7^3=\\frac{7\\cdot 6\\cdot 5}{1\\cdot 2\\cdot 3}=35$ būdais."
   ]
  },
  {
   "cell_type": "markdown",
   "id": "8ccb7622",
   "metadata": {},
   "source": [
    "6\\. Tegu $Z$ - standartinis normalusis atsitiktinis dydis: $Z \\sim N(0,1)$. Išspręskite lygtį $P(Z>z_o)=0.43$. \n",
    "\n",
    "***Sprendimas*** (pagal skaidres apie atsitiktinius dydžius 55psl) Kai $Z \\sim N(0,1)$, tai $P(Z>z_o)=1-P(Z<z_o)=0.43 \\Leftrightarrow P(Z<z_o)=0.57$. Lentelėje pateikta $\\Phi(x)$ reikšmė $0.57$, kai $x$ lygus apie $0.18$. Todėl $z_o=0.18$"
   ]
  },
  {
   "cell_type": "markdown",
   "id": "87788b88",
   "metadata": {},
   "source": [
    "7\\. Užrašykite ant popieriaus ir paaiškinkite, kokio atsitiktinio dydžio skirstinys vadinamas hipergeometriniu. Ar jis yra absoliučiai tolydus, ar diskretus? Užrašykite, kaip skaičiuojamos hipergeometrinį skirstinį turinčio atsitiktinio dydžio įgyjamų reikšmių tikimybės.\n",
    "\n",
    "***Sprendimas*** (pagal skaidres apie atsitiktinius dydžius 41psl). Tarkime aibėje yra $N$ elementų, iš jų $K$ turi tam tikrą savybę ($N-K$ elementų šios savybės neturi). Hipergeometrinį skirstinį turintis atsitiktinis dydis $Z$ – savybę turinčių elementų skaičius tarp $n$ atsitiktinai išrinktųjų. Dydis diskretus, nes su kiekviena $k \\not\\in Z$ reikšme $P(Z=k)=0$. Hipergeometrinį skirstinį turinčio atsitiktinio dydžio įgyjamų reikšmių tikimybės skaičiuojamos pagal formulę $\\displaystyle P(Z=k)=\\frac{C^k_K \\times C^{n-k}_{N-K}}{C^n_N}$"
   ]
  },
  {
   "cell_type": "markdown",
   "id": "00e17f89",
   "metadata": {},
   "source": [
    "8\\. Pateikite geometrinės tikimybės apibrėžimą ir užrašykite formulę tokiai tikimybei skaičiuoti. Užrašykite savo sugalvotą pavyzdį geometrinei tikimybei skaičiuoti.\n",
    "\n",
    "***Sprendimas*** (pagal [papildomą šaltinį](http://web.vu.lt/mif/a.balciunas/files/2019/12/Taikomoji-statistika4-1.pdf)). Tarkime, kad elementariųjų įvykių erdvė yra keturkampis $\\Omega$ ir šiame keturkampyje yra\n",
    "geometrinė figūra $A \\subset \\Omega$ . Galimybės parinkti bet kurį keturkampio $\\Omega$ tašką yra vienodos. Tuomet tikimybė $P(A)$ lygi figūrų $A$ ir $\\Omega$ plotų santykiui. Pavyzdys: jei $A$ yra vienetinis skritulys, įbrėžtas į vienetinį kvadratą $\\Omega = [0; 1]\\times [0; 1]$, tai tikimybė, kad atsitiktinai parinktas šio kvadrato taškas priklausys skrituliui $\\displaystyle P(A)=\\frac{S_A}{S_\\Omega}=\\frac{\\pi}{4}$"
   ]
  },
  {
   "cell_type": "markdown",
   "id": "f9640ff1",
   "metadata": {},
   "source": [
    "9\\. Tegu atsitiktinis dydis $X\\sim N(10,16)$. Apskaičiuokite tikimybę $P(1<X<15)$.\n",
    "\n",
    "***Sprendimas.*** $[a,b]=[1,15]$, $\\mu=10$, $\\sigma=4$; $P(1<X<15)=\\Phi_{10,16}(15) - \\Phi_{10,16}(1)=\\Phi_{0,1}(ąį) - \\Phi_{0,1}(1)$"
   ]
  },
  {
   "cell_type": "markdown",
   "id": "90649994",
   "metadata": {},
   "source": [
    "### Egzamino pavyzdys\n",
    "\n",
    "1\\. už [1 tšk.]\n",
    "  * Kaip gaunamas atsitiktinis dydis $T$, kurio skirstinys yra Stjudento su penkiais laisvės laipsniais $t_5$? \n",
    "  * Kam lygus jo vidurkis ir dispersija? \n",
    "\n",
    "2\\. už [2 tšk.]\n",
    "\n",
    "$n=6$ imtis gauta stebint dviejų kintamųjų porą:\n",
    "\n",
    "  |x|9|5|7|3|2|4|\n",
    "  |:--:|:--:|:--:|:--:|:--:|:--:|:--:|\n",
    "  |y|6|1|5|4|9|4|\n",
    "  \n",
    "  * Apskaičiuokite kintamųjų $x$ ir $y$ koreliacijos koeficientą. \n",
    "  * Nubrėžkite tų kintamųjų sklaidos diagramą ir patikrinkite    hipotezę apie tai, kad atitinkamas koreliacijos koeficientas lygus 0 su $\\alpha=0.1$. Pakomentuokite situaciją \n",
    "  \n",
    "3\\. už [2.5 tšk.] Sugrupuokite duomenis į 5 intervalus. Apskaičiuokite grupuotų duomenų imties vidurkį ir grupuotų duomenų empirinę dispersiją, užrašykite empirinių grupuotų duomenų pasiskirstymo funkciją, nubraižykite jos grafiką, santykinių dažnių histogramą, sukauptųjų santykinių dažnių laužtę.\n",
    "\n",
    "  [3.0, 4.0, 4.1, 4.6, 5.0, 5.2, 5.3, 5.7, 5.7, 6.0, 6.0, 6.4, 6.6, 6.8, 6.9, 7.4, 7.6, 8.1, 8.1, 8.7, 8.8, 9.3, 10.1, 10.8, 12.0, 12.7, 13.0]\n",
    "  \n",
    "4\\. už [2.5 tšk.] Parduotuvės lentynoje guli atsitiktinai iš sandėlio paimtos 9 knygos, kurių kainos eurais yra: [4.0, 5.5, 5.6, 5.9, 6.1, 6.4, 7.7, 7.5, 5.5]. \n",
    "\n",
    "  * Apskaičiuokite imties vidurkį, standartinį nuokrypį. \n",
    "  * Laikydami, kad populiacijos skirstinys normalusis, apskaičiuokite sandėlio knygos vidurkio pasikliautinojo intervalo ilgį su patikimumu $1-\\alpha=0.9$. Paaiškinkite jo prasmę. \n",
    "  * Anksčiau tokių knygų kainos vidurkis buvo 5.5 euro, o standartinis nuokrypis $\\sigma = 1$. Ar tokios knygos vidutiniškai pabrango? Atsakykite su reikšmingumo lygmeniu $\\alpha = 0.1$\n",
    "\n",
    "5\\. už [1 tšk.] Kaip statistikoje klasifikuojami kintamieji pagal turinį ir matavimo skalę? Pateikite kiekvienos kintamųjų rūšies pavyzdžių.\n",
    "\n",
    "6\\. už [1 tšk.]\n",
    "  * Kaip apibrėžiamas kintamojo $x$ variacijos koeficientas ir kuo jis naudingas? \n",
    "  * Apskaičiuokite kintamojo $x$ su imties reikšmėmis [7, 6, 9, 8, 1, 12] variacijos koeficientą.\n",
    " "
   ]
  },
  {
   "cell_type": "markdown",
   "id": "1d6edc9d",
   "metadata": {},
   "source": [
    "### Egzamino sprendimai"
   ]
  },
  {
   "cell_type": "markdown",
   "id": "9ccca685",
   "metadata": {},
   "source": [
    "1\\. Kaip gaunamas atsitiktinis dydis $T$, kurio skirstinys yra Stjudento su penkiais laisvės laipsniais $t_5$? Kam lygus jo vidurkis ir dispersija? \n",
    " \n",
    "***Sprendimas*** (pagal skaidres ,,Statistika7\", 33psl.)\n",
    " Stjudento su penkiais laisvės laipsniais $t_5$ skirstinys gaunamas imant $X, X_1, X_2, X_3, X_4, X_5 \\sim N(0, 1)$ ir taikant formulę $\\displaystyle T = \\frac{X}{\\sqrt{(X_1^2+X_2^2+X_3^2+X_4^2+X_5^2)/5}}$. Jo vidurkis $EX=0$ ir dispersija $\\displaystyle DX = \\frac{5}{3}$"
   ]
  },
  {
   "cell_type": "markdown",
   "id": "5d5a8a0e",
   "metadata": {},
   "source": [
    "2\\. $n=6$ imtis gauta stebint dviejų kintamųjų porą:\n",
    "\n",
    "  |x|9|5|7|3|2|4|\n",
    "  |:--:|:--:|:--:|:--:|:--:|:--:|:--:|\n",
    "  |y|6|1|5|4|9|4|\n",
    "  \n",
    "  * Apskaičiuokite kintamųjų $x$ ir $y$ koreliacijos koeficientą. \n",
    "  \n",
    "  * Nubrėžkite tų kintamųjų sklaidos diagramą ir patikrinkite hipotezę apie tai, kad atitinkamas koreliacijos koeficientas lygus 0 su $\\alpha=0.1$. Pakomentuokite situaciją \n",
    "  \n",
    "***Sprendimas.*** (pagal formulę, pateiktą [Vikipedijoje](https://en.wikipedia.org/wiki/Correlation_and_dependence#Sample_correlation_coefficient) ir hipotezių tikrinimo skaidres, 29psl.)\n",
    "\n",
    "$EX=(9+5+7+3+2+4)/6=5.0$\n",
    "\n",
    "$EY=(6+1+5+4+9+4)/6=4.83$\n",
    "\n",
    "$X-EX =  [4.0, 0.0, 2.0, -2.0, -3.0, -1.0]$\n",
    "\n",
    "$Y-EY =  [1.17, -3.83, 0.17, -0.83, 4.17, -0.83]$\n",
    "\n",
    "$(X-EX)(Y-EY) =  4.68+0+0.34+1.66-12.51+0.83 = -5$\n",
    "\n",
    "$(X-EX)² =  16+0+4+4+9+1 = 34$\n",
    "\n",
    "$(Y-EY)² =  1.37+14.67+0.03+0.69+17.39+0.69 = 34.84$\n",
    "\n",
    "$\\displaystyle \\rho_{X,Y}=\\frac{-5.0}{\\sqrt{34.0\\times 34.84}}=-0.1453$\n",
    "\n",
    "Sklaidos diagrama:"
   ]
  },
  {
   "cell_type": "code",
   "execution_count": 42,
   "id": "322199fe",
   "metadata": {},
   "outputs": [
    {
     "data": {
      "image/png": "[encoded data removed]",
      "text/plain": [
       "<Figure size 432x288 with 1 Axes>"
      ]
     },
     "metadata": {
      "needs_background": "light"
     },
     "output_type": "display_data"
    }
   ],
   "source": [
    "import matplotlib.pyplot as plt\n",
    "plt.scatter(np.array([9,5,7,3,2,4]), np.array([6,1,5,4,9,4]))\n",
    "plt.show()"
   ]
  },
  {
   "cell_type": "markdown",
   "id": "e3607fe3",
   "metadata": {},
   "source": [
    "Tikrinsime hipotezę apie koreliacijos lygybę 0:\n",
    "\n",
    "$\\begin{cases}H_0:\\rho_{X,Y}=0\\\\H_1:\\rho_{X,Y}\\neq 0\\end{cases}$\n",
    "\n",
    "$\\displaystyle T_{emp}=\\hat\\rho\\sqrt{\\frac{n-2}{1-\\hat\\rho^2}}=-0.15\\sqrt{\\frac{4}{1-0.15^2}}=-0.314$\n",
    "\n",
    "$t_{\\alpha/2, n-2}=t_{0.05, 4}=2.132$ pagal pirmą lentelę, paskelbtą [čia](https://nbviewer.jupyter.org/github/loijord/matematikos_pamokos/blob/master/statistika/statistika.ipynb)\n",
    "\n",
    "$|T_{emp}| \\le t_{\\alpha/2, n-2}$, todėl su 90% tikimybe galime tvirtinti, kad imtys yra tiesiškai nepriklausomos."
   ]
  },
  {
   "cell_type": "markdown",
   "id": "18296b0b",
   "metadata": {},
   "source": [
    "3\\. už [2.5 tšk.] Sugrupuokite duomenis į 5 intervalus. Apskaičiuokite grupuotų duomenų imties vidurkį ir grupuotų duomenų empirinę dispersiją, užrašykite empirinių grupuotų duomenų pasiskirstymo funkciją, nubraižykite jos grafiką, santykinių dažnių histogramą, sukauptųjų santykinių dažnių laužtę.\n",
    "\n",
    "  [3.0, 4.0, 4.1, 4.6, 5.0, 5.2, 5.3, 5.7, 5.7, 6.0, 6.0, 6.4, 6.6, 6.8, 6.9, 7.4, 7.6, 8.1, 8.1, 8.7, 8.8, 9.3, 10.1, 10.8, 12.0, 12.7, 13.0]\n",
    "  \n",
    "***Sprendimas*** (pagal ,,Statistika7\" skaidrių 14 - 19psl.) Sugrupuojame duomenis į intervalus ir pasidarome pagalbinę lentelę:"
   ]
  },
  {
   "cell_type": "code",
   "execution_count": 151,
   "id": "d81169af",
   "metadata": {},
   "outputs": [
    {
     "name": "stdout",
     "output_type": "stream",
     "text": [
      "[3.0; 5.0]: [3.0, 4.0, 4.1, 4.6, 5.0]\n",
      "(5.0; 7.0]: [5.2, 5.3, 5.7, 5.7, 6.0, 6.0, 6.4, 6.6, 6.8, 6.9]\n",
      "(7.0; 9.0]: [7.4, 7.6, 8.1, 8.1, 8.7, 8.8]\n",
      "(9.0; 11.0]: [9.3, 10.1, 10.8]\n",
      "(11.0; 13.0]: [12.0, 12.7, 13.0]\n"
     ]
    },
    {
     "data": {
      "text/html": [
       "<table border=\"1\" class=\"dataframe\">\n",
       "  <tbody>\n",
       "    <tr>\n",
       "      <th>Intervalai</th>\n",
       "      <td>[3.0; 5.0]</td>\n",
       "      <td>(5.0; 7.0]</td>\n",
       "      <td>(7.0; 9.0]</td>\n",
       "      <td>(9.0; 11.0]</td>\n",
       "      <td>(11.0; 13.0]</td>\n",
       "    </tr>\n",
       "    <tr>\n",
       "      <th>Dažniai $f_i$</th>\n",
       "      <td>5</td>\n",
       "      <td>10</td>\n",
       "      <td>6</td>\n",
       "      <td>3</td>\n",
       "      <td>3</td>\n",
       "    </tr>\n",
       "    <tr>\n",
       "      <th>Santykiniai dažniai</th>\n",
       "      <td>5/27</td>\n",
       "      <td>10/27</td>\n",
       "      <td>6/27</td>\n",
       "      <td>3/27</td>\n",
       "      <td>3/27</td>\n",
       "    </tr>\n",
       "    <tr>\n",
       "      <th>Sukauptieji santykiniai dažniai</th>\n",
       "      <td>5/27</td>\n",
       "      <td>15/27</td>\n",
       "      <td>21/27</td>\n",
       "      <td>24/27</td>\n",
       "      <td>27/27</td>\n",
       "    </tr>\n",
       "    <tr>\n",
       "      <th>Intervalų vidurio taškai $x^*$</th>\n",
       "      <td>4.0</td>\n",
       "      <td>6.0</td>\n",
       "      <td>8.0</td>\n",
       "      <td>10.0</td>\n",
       "      <td>12.0</td>\n",
       "    </tr>\n",
       "  </tbody>\n",
       "</table>"
      ],
      "text/plain": [
       "<IPython.core.display.HTML object>"
      ]
     },
     "execution_count": 151,
     "metadata": {},
     "output_type": "execute_result"
    }
   ],
   "source": [
    "X = [3.0, 4.0, 4.1, 4.6, 5.0, 5.2, 5.3, 5.7, 5.7, 6.0, 6.0, 6.4, 6.6, 6.8, 6.9, 7.4, 7.6, 8.1, 8.1, 8.7, 8.8, 9.3, 10.1, 10.8, 12.0, 12.7, 13.0]\n",
    "interval_names, f, fd, sd, x = group_bins(X, n)\n",
    "df = pd.DataFrame([interval_names, f, fd, sd, x], \n",
    "                  index=['Intervalai', 'Dažniai $f_i$', 'Santykiniai dažniai', \n",
    "                         'Sukauptieji santykiniai dažniai', 'Intervalų vidurio taškai $x^*$'])\n",
    "HTML(df.to_html(header=False))"
   ]
  },
  {
   "cell_type": "markdown",
   "id": "fd6641e6",
   "metadata": {},
   "source": [
    "Dabar:\n",
    "\n",
    "* Grupuotų duomenų imties vidurkis: $\\displaystyle \\overline{x}^* = \\frac{5\\times 4 + 10\\times 6 + 6\\times 8+3\\times 10+3\\times 12}{27}=\\frac{20+ 60+ 48+30+36}{27}=\\frac{194}{27}=7.19$\n",
    "\n",
    "* Grupuotų duomenų empirinė dispersija: $\\displaystyle {s^{*}}^2=\\frac{n}{n-1}\\times(\\overline{{x^2}^*}-\\overline{x}^{*2})=\n",
    "\\frac{27}{26}\\times\\left(\\frac{5\\times 4^2 + 10\\times 6^2 + 6\\times 8^2+3\\times 10^2+3\\times 12^2}{27} - 7.19^2\\right)=$\n",
    "$=\\frac{27}{26}\\times\\left(\\frac{80 + 360 + 384+300+432}{27} - 7.19^2\\right)= \\frac{27}{26}\\times(57.62-51.7)=6.15$\n",
    "\n",
    "***Liko užrašyti empirinių grupuotų duomenų pasiskirstymo funkciją, nubraižyti jos grafiką, santykinių dažnių histogramą, sukauptųjų santykinių dažnių laužtę.***\n",
    "\n",
    "* Grupuotų duomenų empirinė pasiskirstymo funkcija: $$f(x)=\\left\\{\\begin{array}{lr}0,&&x\\le 4 \\\\ 5/27,&&4<x\\le 6\\\\ 15/27,&&6<x\\le 8 \\\\ 21/27,&&8<x\\le 10 \\\\ 24/27,&&10<x\\le 12 \\\\ 1,&&x>12\\end{array}\\right.$$\n",
    "\n",
    "* Grupuotų duomenų empirinė pasiskirstymo funkcijos grafikas:"
   ]
  },
  {
   "cell_type": "code",
   "execution_count": 147,
   "id": "dec1df88",
   "metadata": {},
   "outputs": [
    {
     "data": {
      "image/png": "[encoded data removed]",
      "text/plain": [
       "<Figure size 432x216 with 1 Axes>"
      ]
     },
     "metadata": {
      "needs_background": "light"
     },
     "output_type": "display_data"
    }
   ],
   "source": [
    "fig, ax = plt.subplots(figsize=(6,3))\n",
    "ax = plot_pieces(ax, [(2,4),(4,6),(6,8), (8,10), (10,12), (12,14)], \n",
    "                 [lambda x:0, lambda x: 5/27, lambda x: 15/27, lambda x: 21/27, lambda x: 24/27, lambda x: 1], \n",
    "                 empties=[(4,5/27),(6,15/27),(8,21/27),(10,24/27), (12,1)], \n",
    "                 fullies=[(4,0),(6,5/27),(8,15/27),(10,21/27),(12,24/27)], \n",
    "                 name='F(x) empirinė', title='Empirinė pasiskirstymo funkcija')\n",
    "plt.show()"
   ]
  },
  {
   "cell_type": "markdown",
   "id": "13b8b19b",
   "metadata": {},
   "source": [
    "* Santykinių dažnių histograma (būtų gerai pavaizduoti pilnus stulpelius)"
   ]
  },
  {
   "cell_type": "code",
   "execution_count": 161,
   "id": "96859903",
   "metadata": {},
   "outputs": [
    {
     "data": {
      "image/png": "[encoded data removed]",
      "text/plain": [
       "<Figure size 432x216 with 1 Axes>"
      ]
     },
     "metadata": {
      "needs_background": "light"
     },
     "output_type": "display_data"
    }
   ],
   "source": [
    "fig, ax = plt.subplots(figsize=(6,3))\n",
    "ax.plot([2,14],[0,0], zorder=0)\n",
    "ax = plot_pieces(ax, [(2,4),(4,6),(6,8), (8,10), (10,12), (12,14), (14,16)], \n",
    "                 [lambda x:0, lambda x: 5/27, lambda x: 10/27, lambda x: 6/27, lambda x: 3/27, lambda x: 3/27, lambda x:0], \n",
    "                 empties=[], fullies=[], \n",
    "                 name='f(x) empirinė', title='Santykinių dažnių histograma')\n",
    "plt.show()"
   ]
  },
  {
   "cell_type": "markdown",
   "id": "1c250b4b",
   "metadata": {},
   "source": [
    "* Sukauptųjų santykinių dažnių laužtė"
   ]
  },
  {
   "cell_type": "code",
   "execution_count": 169,
   "id": "23e6e034",
   "metadata": {},
   "outputs": [
    {
     "data": {
      "image/png": "[encoded data removed]",
      "text/plain": [
       "<Figure size 432x216 with 1 Axes>"
      ]
     },
     "metadata": {
      "needs_background": "light"
     },
     "output_type": "display_data"
    }
   ],
   "source": [
    "fig, ax = plt.subplots(figsize=(6,3))\n",
    "ax.plot([4.0, 6.0, 8.0, 10.0, 12.0], [5/27, 10/27, 6/27, 3/27, 3/27], marker='o')\n",
    "ax.set_ylim([0,0.5])\n",
    "ax.set_xlabel('x')\n",
    "ax.set_ylabel('Dažniai f')\n",
    "plt.show()"
   ]
  },
  {
   "cell_type": "markdown",
   "id": "c216dc9d",
   "metadata": {},
   "source": [
    "  4\\. už [2.5 tšk.] Parduotuvės lentynoje guli atsitiktinai iš sandėlio paimtos 9 knygos, kurių kainos eurais yra: [4.0, 5.5, 5.6, 5.9, 6.1, 6.4, 7.7, 7.5, 5.5]. \n",
    "\n",
    "***Sprendimas***\n",
    "\n",
    "  * Apskaičiuokite imties vidurkį, standartinį nuokrypį. \n",
    "  * Laikydami, kad populiacijos skirstinys normalusis, apskaičiuokite sandėlio knygos vidurkio pasikliautinojo intervalo ilgį su patikimumu $1-\\alpha=0.9$. Paaiškinkite jo prasmę. \n",
    "  * Anksčiau tokių knygų kainos vidurkis buvo 5.5 euro, o standartinis nuokrypis $\\sigma = 1$. Ar tokios knygos vidutiniškai pabrango? Atsakykite su reikšmingumo lygmeniu $\\alpha = 0.1$"
   ]
  },
  {
   "cell_type": "markdown",
   "id": "f289485d",
   "metadata": {},
   "source": [
    "* Imties vidurkis (pagal ,,Statistika7\" skaidrių 20psl.):\n",
    "\n",
    "$\\displaystyle\\overline{x} = \\frac{4.0+5.5+5.6+5.9+6.1+6.4+7.7+7.5+5.5}{9}=6.02$;\n",
    "\n",
    "* Imties standartinis nuokrypis (pagal ,,Statistika7\" skaidrių 23psl.):\n",
    "\n",
    "$s_{X}^2 = \\frac{(4.0 - 6.02)^2 + (5.5 - 6.02)^2 + (5.6 - 6.02)^2 + (5.9 - 6.02)^2 + (6.1 - 6.02)^2 + (6.4 - 6.02)^2 + (7.7 - 6.02)^2 + (7.5 - 6.02)^2 + (5.5 - 6.02)^2}{8} = \\frac{(-2.02)^2 + (-0.52)^2 + (-0.42)^2 + (-0.12)^2 + (0.08)^2 + (0.38)^2 + (1.68)^2 + (1.48)^2 + (-0.52)^2}{8} = \\frac{9.98}{8} = 1.25 \\Leftrightarrow s_X = \\sqrt{1.25} = 1.12$\n",
    "\n",
    "* Pasikliautinasis intervalas su $\\alpha=0.1$ (pagal ,,Statistika7\" skaidrių 46psl.): \n",
    "\n",
    "$PI_{0.9} = \\displaystyle\\left(\\overline{x}-t_{\\alpha/2,n-1}\\cdot\\frac{S}{\\sqrt{n}};\\overline{x}+t_{\\alpha/2,n-1}\\cdot\\frac{S}{\\sqrt{n}}\\right)=\\left(6.02-1.86\\cdot \\frac{1.12}{3}; 6.02+1.86\\cdot \\frac{1.12}{3}\\right)$\n",
    "\n",
    "* Pasikliautinasis intervalo ilgis:  $2\\times 1.86\\cdot \\frac{1.12}{3}$\n",
    "\n",
    "* Hipotezės tikrinimas (pagal Hipotezių tikrinimo skaidres 8 psl.) ..."
   ]
  },
  {
   "cell_type": "markdown",
   "id": "1847a916",
   "metadata": {},
   "source": [
    "5\\. Kaip statistikoje klasifikuojami kintamieji pagal turinį ir matavimo skalę? Pateikite kiekvienos kintamųjų rūšies pavyzdžių.\n",
    "\n",
    "***Sprendimas*** (pagal ,,Statistika7\" skaidrių 5psl.) Klausimas nesunkus, galima remtis skaidrėmis:\n",
    "\n",
    "![](kintamieji.png)"
   ]
  },
  {
   "cell_type": "markdown",
   "id": "194cd73f",
   "metadata": {},
   "source": [
    "6\\. \n",
    "  * Kaip apibrėžiamas kintamojo $x$ variacijos koeficientas ir kuo jis naudingas? \n",
    "  * Apskaičiuokite kintamojo $x$ su imties reikšmėmis [7, 6, 9, 8, 1, 12] variacijos koeficientą.\n",
    "  \n",
    "***Sprendimas*** Visą reikiamą medžiagą galima rasti [Vikipedijoje](https://lt.wikipedia.org/wiki/Variacijos_koeficientas):\n",
    "\n",
    "![](variacija.PNG)"
   ]
  },
  {
   "cell_type": "markdown",
   "id": "161e7c3e",
   "metadata": {},
   "source": [
    "### Pastabos dėl sprendimų\n",
    "1\\., 5., 6. Nieko ypatingo, tik šaltinio nurašymas.\n",
    "\n",
    "2\\. Koreliacijos koeficientas parodo tiesinio priklausomumo laipsnį tarp dviejų atsitiktinių dydžių. Įeik į [https://rpsychologist.com/correlation/](https://rpsychologist.com/correlation/) ir pamėgink išsiaiškinti, kaip atrodo ryšys tarp sekų su pasirinktais koreliacijos koeficientais. Internete yra krūva skaičiuoklių, kur galima pasitikrinti atsakymą, [štai viena iš jų](https://www.socscistatistics.com/tests/pearson/default2.aspx)\n",
    "\n",
    "Taip pat galima įsivesti centruotos, normuotos ir standartizuotos imties sąvokas:\n",
    "\n",
    "* Centruoti imtį reiškia iš visų jos narių atimti vidurkį. Taip gaunama nauja imtis, kurio vidurkis yra nulis (centras)\n",
    "* Normuoti imtį reiškia visus jos narius padalinti iš standartinio tos imties nuokrypio. Taip gaunama nauja imtis, kurios standartinis nuokrypis lygus 1.\n",
    "* Standartizuoti imtį reiškia ją centruoti, o po to normuoti. \n",
    "\n",
    "Kalbant apie šiuos procesus, siūlau pergalvoti susijusius klausimus ([pirma dalis](https://github.com/loijord/matematikos_pamokos/blob/master/programa/Mantas/2019-metai/10-02/laikinas_pratimas1.PNG), [antra dalis](https://github.com/loijord/matematikos_pamokos/blob/master/programa/Mantas/2019-metai/10-02/laikinas_pratimas1.PNG))\n",
    "Galima taip pat įsitikinti, kad standartinis imties nuokrypis yra lygus kvadratiniam išcentruotos imties vidurkiui. Kvadratinio sekos $(x_1, x_2,..., x_n)$ vidurkio formulė: $\\sqrt{\\frac{x_1^2+x_2^2+...+x_n^2}{n}}$. Intuityviai sekos $(x_1, x_2,..., x_n)$ kvadratinį vidurkį galima įsivaizduoti kaip reikšmę, parodančią vidutinę reikšmių sklaidą apie nulį (paprastas aritmetinis vidurkis $\\sqrt{\\frac{x_1+x_2+...+x_n}{n}}$ parodytų ne sklaidą, o jos centrą)\n",
    "\n",
    "Dalimi šių sąvokų galima pasiremti norint paprasčiau apibūdinti koreliacijos skaičiavimo procesą. Tarkime išcentravus $X$ gauname $X_c$, o išcentravus $Y$ gauname $Y_c$. Apskaičiuojame skaliarines sandaugas $X_c\\cdot Y_c$, $X_c\\cdot X_c$, $Y_c\\cdot Y_c$. Tuomet koreliacijos koeficientas $\\displaystyle \\rho_{X,Y}=\\frac{X_c\\cdot Y_c}{\\sqrt{(X_c\\cdot X_c)\\times (Y_c\\cdot Y_c)}}$. Peržiūrėjus daug šaltinių nepavyko aptikti gero centruotos imties žymėjimo, rašau tiesiog $X-EX$ vietoj $X_c$, $Y-EY$ vietoj $Y_c$.\n",
    "\n",
    "Tolimesnė užduoties eiga - nulinės hipotezės, kad koreliacija nulinė, tikrinimas. Įprastai tikrinant hipotezę žiūrima, ar tam tikra specifinė kriterijaus statistika (skaičius) pakliūva į tam tikrą kritinę sritį $W$. Šios srities kraštai identifikuojami remiantis duomenimis iš lentelių. Jei pakliūva, nulinė hipotezė atmetama, nuokrypiai nuo spėjamos parametro reikšmės (vidurkio, dispersijos, koreliacijos, kt...) negali būti paaiškinti imties atsitiktinumu. Kuo didesnė imtis, tuo mažesni nuokrypiai yra statistiškai reikšmingi.\n",
    "\n",
    "3\\. Trečio kodas: įmanoma automatiškai parodyti grupavimą ir pagalbinę lentelę, paleisto kodo pavyzdys:"
   ]
  },
  {
   "cell_type": "code",
   "execution_count": 133,
   "id": "ae612b8d",
   "metadata": {},
   "outputs": [
    {
     "name": "stdout",
     "output_type": "stream",
     "text": [
      "[3.0; 5.0]: [3.0, 4.0, 4.1, 4.6, 5.0]\n",
      "(5.0; 7.0]: [5.2, 5.3, 5.7, 5.7, 6.0, 6.0, 6.4, 6.6, 6.8, 6.9]\n",
      "(7.0; 9.0]: [7.4, 7.6, 8.1, 8.1, 8.7, 8.8]\n",
      "(9.0; 11.0]: [9.3, 10.1, 10.8]\n",
      "(11.0; 13.0]: [12.0, 12.7, 13.0]\n"
     ]
    },
    {
     "data": {
      "text/html": [
       "<table border=\"1\" class=\"dataframe\">\n",
       "  <tbody>\n",
       "    <tr>\n",
       "      <th>Intervalai</th>\n",
       "      <td>[3.0; 5.0]</td>\n",
       "      <td>(5.0; 7.0]</td>\n",
       "      <td>(7.0; 9.0]</td>\n",
       "      <td>(9.0; 11.0]</td>\n",
       "      <td>(11.0; 13.0]</td>\n",
       "    </tr>\n",
       "    <tr>\n",
       "      <th>Dažniai $f_i$</th>\n",
       "      <td>5</td>\n",
       "      <td>10</td>\n",
       "      <td>6</td>\n",
       "      <td>3</td>\n",
       "      <td>3</td>\n",
       "    </tr>\n",
       "    <tr>\n",
       "      <th>Santykiniai dažniai</th>\n",
       "      <td>5/27</td>\n",
       "      <td>10/27</td>\n",
       "      <td>6/27</td>\n",
       "      <td>3/27</td>\n",
       "      <td>3/27</td>\n",
       "    </tr>\n",
       "    <tr>\n",
       "      <th>Sukauptieji santykiniai dažniai</th>\n",
       "      <td>5/27</td>\n",
       "      <td>15/27</td>\n",
       "      <td>21/27</td>\n",
       "      <td>24/27</td>\n",
       "      <td>27/27</td>\n",
       "    </tr>\n",
       "    <tr>\n",
       "      <th>Intervalų vidurio taškai $x^*$</th>\n",
       "      <td>4.0</td>\n",
       "      <td>6.0</td>\n",
       "      <td>8.0</td>\n",
       "      <td>10.0</td>\n",
       "      <td>12.0</td>\n",
       "    </tr>\n",
       "  </tbody>\n",
       "</table>"
      ],
      "text/plain": [
       "<IPython.core.display.HTML object>"
      ]
     },
     "execution_count": 133,
     "metadata": {},
     "output_type": "execute_result"
    }
   ],
   "source": [
    "import pandas as pd\n",
    "from IPython.display import HTML\n",
    "\n",
    "n=5\n",
    "X=np.array([3.0, 4.0, 4.1, 4.6, 5.0, 5.2, 5.3, 5.7, 5.7, 6.0, 6.0, 6.4, 6.6, 6.8, 6.9, 7.4, 7.6, 8.1, 8.1, 8.7, 8.8, 9.3, 10.1, 10.8, 12.0, 12.7, 13.0])\n",
    "\n",
    "def group_bins(X, n):\n",
    "    #prints groups; returns interval_names, midvalues and frequencies\n",
    "    X=np.sort(X)\n",
    "    bins = np.linspace(np.min(X), np.max(X), n + 1)\n",
    "    for i in range(1, len(bins)):\n",
    "        bins[i] += 1000000*np.finfo(float).eps\n",
    "    density, ints = np.histogram(X, bins = bins)\n",
    "    intervals = np.transpose([ints[:-1], ints[1:]])\n",
    "    groups = np.split(X, np.cumsum(density)[:-1])\n",
    "    interval_names=[]\n",
    "    for i, n, m in zip(range(len(intervals)), intervals, groups):\n",
    "        if i==0: \n",
    "            interval_names.append(f'[{round(n[0], 3)}; {round(n[1], 3)}]')\n",
    "        else:\n",
    "            interval_names.append(f'({round(n[0], 3)}; {round(n[1], 3)}]')\n",
    "        print(interval_names[-1]+':', m.tolist())\n",
    "    return interval_names, [len(n) for n in groups], [f'{len(n)}/{len(X)}' for n in groups], [f'{n}/{len(X)}' for n in np.cumsum([len(n) for n in groups])], [round(np.mean(n), 3) for n in intervals]"
   ]
  },
  {
   "cell_type": "markdown",
   "id": "1d0cc8fa",
   "metadata": {},
   "source": [
    "4\\. Rasti pasikliautiniuosius intervalus - tai tas pats, kas pasakyti, kad su 90% garantija (ar kita) reikšmės į juos paklius. Ši dalis nesunki, yra formulė skaidrėse. Kol kas neaišku, tik kaip patikrinti hipotezę, kai duotas vidurkis ir dispersija."
   ]
  },
  {
   "cell_type": "markdown",
   "id": "c6a83c90",
   "metadata": {},
   "source": [
    "### Palengvinimai\n",
    "Apsirašiau funkciją, kuri padeda greit nubraižyti tankio ir pasiskirstymo funkcijų grafikus"
   ]
  },
  {
   "cell_type": "code",
   "execution_count": 142,
   "id": "8852dd1d",
   "metadata": {},
   "outputs": [],
   "source": [
    "import matplotlib.pyplot as plt\n",
    "import numpy as np\n",
    "def plot_pieces(ax, intervals, lambdas, empties=[], fullies=[], name='F(x)', title=''):\n",
    "    ax.set_ylim(-0.5,1.5)\n",
    "    ax.set_ylabel(name)\n",
    "    ax.set_xlabel('x')\n",
    "    ax.set_title(title)\n",
    "    \n",
    "    for n,m in zip(intervals, lambdas): \n",
    "        X = np.linspace(*n,100)\n",
    "        ax.scatter(X, [m(x) for x in X], c='k', s=10)\n",
    "    for n in empties:\n",
    "        ax.scatter(*n, s=150, marker='o', edgecolors='k', facecolors='white', linewidth=2.5)\n",
    "    for n in fullies:\n",
    "        ax.scatter(*n, s=150, marker='o', edgecolors='k', facecolors='k', linewidth=2.5)\n",
    "    return ax"
   ]
  },
  {
   "cell_type": "markdown",
   "id": "87286836",
   "metadata": {},
   "source": [
    "absoliučiai tolydaus dydžio pasiskirstymo funkcija $F(x)$ apibrėžiama kaip $\\int_{-\\infty}^xf(x)$ reikšmė su sąlyga, \n",
    "\n",
    "kad atsitiktinio dydžio reikšmės tolydžios"
   ]
  },
  {
   "cell_type": "markdown",
   "id": "ae4d87a1",
   "metadata": {},
   "source": [
    "$$f(x)=\\left\\{\\begin{array}{lr}0,&&x\\le -2 \\\\ 1/4,&&-2<x\\le 2\\\\0,&&x>2\\end{array}\\right.$$"
   ]
  },
  {
   "cell_type": "markdown",
   "id": "115c4cf0",
   "metadata": {},
   "source": [
    "$$F(x)=\\left\\{\\begin{array}{lr}0,&&x\\le -2 \\\\ \\frac{x+2}{4},&&-2<x\\le 2\\\\0,&&x>2\\end{array}\\right..$$"
   ]
  },
  {
   "cell_type": "code",
   "execution_count": 48,
   "id": "2762a06e",
   "metadata": {},
   "outputs": [
    {
     "data": {
      "image/png": "[encoded data removed]",
      "text/plain": [
       "<Figure size 432x288 with 1 Axes>"
      ]
     },
     "metadata": {
      "needs_background": "light"
     },
     "output_type": "display_data"
    }
   ],
   "source": [
    "plot_pieces([(-4,-2),(-2,2),(2,4)], [lambda x:0, lambda x: (x+2)/4, lambda x: 1], empties=[], \n",
    "            fullies=[], name='F(x)')"
   ]
  },
  {
   "cell_type": "markdown",
   "id": "a26259f3",
   "metadata": {},
   "source": [
    "$P(X>1)=F(+\\infty) - F(1) = 1-3/4=1/4=0.25$"
   ]
  },
  {
   "cell_type": "markdown",
   "id": "9b87ad3d",
   "metadata": {},
   "source": [
    "$\\displaystyle\\begin{array}{|r||cccc|}\\hline X&0&1&2&3\\\\ \\hline skirstinys &\\frac{8}{27}\\times &\\frac{4}{27}\\times 3&\\frac{2}{27}\\times 1 &\\frac{2}{27}\\times 1\\\\ \\hline \\end{array}$"
   ]
  },
  {
   "cell_type": "markdown",
   "id": "c94637db",
   "metadata": {},
   "source": [
    "### Stjudento skirstinio $\\alpha$ lygmens kritinės reikšmės $t_\\alpha(n)$"
   ]
  },
  {
   "cell_type": "markdown",
   "id": "95b8a36a",
   "metadata": {},
   "source": [
    "### \n",
    "![](stjudentas.PNG)"
   ]
  },
  {
   "cell_type": "markdown",
   "id": "aadf20e6",
   "metadata": {},
   "source": [
    "* Radau naudingą nuorodą mokymuisi: https://mokymai.github.io/biostatistika/\n",
    "\n",
    "* Radau kitą nuorodą, kur bent jau bandoma paaiškinti, iš kur atsiranda stjudento skirstinys: https://www.vdu.lt/cris/bitstream/20.500.12259/271/1/ISBN9789955125587.pdf"
   ]
  },
  {
   "cell_type": "code",
   "execution_count": 69,
   "id": "09fd8f29",
   "metadata": {},
   "outputs": [
    {
     "data": {
      "text/plain": [
       "(array([16.,  0.,  4.,  4.,  9.,  1.]),\n",
       " array([  4.66666667,  -0.        ,   0.33333333,   1.66666667,\n",
       "        -12.5       ,   0.83333333]),\n",
       " array([ 1.36111111, 14.69444444,  0.02777778,  0.69444444, 17.36111111,\n",
       "         0.69444444]))"
      ]
     },
     "execution_count": 69,
     "metadata": {},
     "output_type": "execute_result"
    }
   ],
   "source": [
    "def koreliacija(x,y):\n",
    "    #Atspausdina koreliacijos skaičiavimo mechanizmą\n",
    "    EX = np.mean(x)\n",
    "    EY= np.mean(y)\n",
    "    z = (x - EX)*(y-EY)\n",
    "    mx = '('+'+'.join([str(n) for n in x])+')/'+str(len(x))\n",
    "    my = '('+'+'.join([str(n) for n in y])+')/'+str(len(x))\n",
    "    print(f'EX={mx}={round(EX,2)}')\n",
    "    print(f'EY={my}={round(EY,2)}')\n",
    "    print()\n",
    "    print('X-EX = ', np.around(x - EX, 2).tolist())\n",
    "    print('Y-EY = ', np.around(y - EY, 2).tolist())\n",
    "    print()\n",
    "    r1 = np.around(np.around(x - EX, 2) * np.around(y - EY, 2), 2).tolist()\n",
    "    r2 = np.around(np.around(x - EX, 2) * np.around(x - EX, 2), 2).tolist()\n",
    "    r3 = np.around(np.around(y - EY, 2) * np.around(y - EY, 2), 2).tolist()\n",
    "    R1, R2, R3 = round(sum(r1), 2), round(sum(r2), 2), round(sum(r3), 2)\n",
    "    print('(X-EX)(Y-EY) = ', '+'.join([str(n) for n in r1]), '=', R1)\n",
    "    print('(X-EX)² = ', '+'.join([str(n) for n in r2]), '=', R2)\n",
    "    print('(X-EY)² = ', '+'.join([str(n) for n in r3]), '=', R3)\n",
    "    frac='\\\\frac'\n",
    "    sqrt='\\\\sqrt'\n",
    "    times='\\\\times '\n",
    "    print('$\\displaystyle \\\\rho_{X,Y}='+f'{frac}{{{R1}}}{{{sqrt}{{{str(R2)+times+str(R3)}}}}}={round(R1/(R2*R3)**0.5,4)}$')\n",
    "    \n",
    "koreliacija(np.array([9,5,7,3,2,4]), np.array([6,1,5,4,9,4]))"
   ]
  },
  {
   "cell_type": "code",
   "execution_count": 177,
   "id": "b4200960",
   "metadata": {},
   "outputs": [
    {
     "data": {
      "text/markdown": [
       "\n",
       "    * $a = 5.5$\n",
       "    * $n = 9$\n",
       "    * $\\overline{X} = \\frac{4.0 + 5.5 + 5.6 + 5.9 + 6.1 + 6.4 + 7.7 + 7.5 + 5.5}{9} = 6.02$\n",
       "* $S_{X}^2 = \\frac{(4.0 - 6.0)^2 + (5.5 - 6.0)^2 + (5.6 - 6.0)^2 + (5.9 - 6.0)^2 + (6.1 - 6.0)^2 + (6.4 - 6.0)^2 + (7.7 - 6.0)^2 + (7.5 - 6.0)^2 + (5.5 - 6.0)^2}{8} = \\frac{(-2.02)^2 + (-0.52)^2 + (-0.42)^2 + (-0.12)^2 + (0.08)^2 + (0.38)^2 + (1.68)^2 + (1.48)^2 + (-0.52)^2}{8} = \\frac{9.98}{8} = 1.25$* $S_X = \\sqrt{1.25} = 1.12$\n",
       "    * $\\sqrt{n} = \\sqrt{9} = 3.0$\n",
       "    * Tikrinama hipotezė: $\\begin{cases} H_0: \\mu = 5.5 \\\\ H_1: \\mu < 5.5 \\end{cases}$ (alternatyva vienpusė iš kairės)\n",
       "    * $\\displaystyle T = \\frac{\\overline{X} - a}{S_X^2/\\sqrt{n}} = \\frac{6.02-5.5}{1.12/3.0} = \\boxed{1.39}$\n",
       "* $-t_{0.01}(8) = -2.896$"
      ],
      "text/plain": [
       "<IPython.core.display.Markdown object>"
      ]
     },
     "metadata": {},
     "output_type": "display_data"
    }
   ],
   "source": [
    "import scipy.stats\n",
    "import numpy as np\n",
    "alpha = 0.01\n",
    "X = np.array([4.0, 5.5, 5.6, 5.9, 6.1, 6.4, 7.7, 7.5, 5.5])\n",
    "a = 5.5\n",
    "alternative = 2\n",
    "\n",
    "import numpy as np\n",
    "from IPython.display import display, Latex, Markdown\n",
    "\n",
    "def pr(x):\n",
    "    display(Markdown(x))\n",
    "    \n",
    "def vidurkis(name, X):\n",
    "    name = 'X'\n",
    "    A, B, C = ' + '.join(map(str, X)), len(X), np.around(np.sum(X), 2)\n",
    "    D = ' + '.join(f'({str(x)} - {np.around(np.sum(X), 1)})^2' for x in X)\n",
    "    E = ' + '.join(f'({x - C})^2' for x in X)\n",
    "    F = np.around(np.sum((X-C)**2), 2)\n",
    "    G = np.around(F/(B-1), 2)\n",
    "    return fr'''* $\\overline{{{name}}} = \\frac{{{A}}}{{{B}}} = {C}$'''\n",
    "    \n",
    "def dispersija(name, X):\n",
    "    name = 'X'\n",
    "    A, B, C = ' + '.join(map(str, X)), len(X), np.around(np.sum(X)/len(X), 2)\n",
    "    D = ' + '.join(f'({str(x)} - {np.around(np.sum(X)/len(X), 1)})^2' for x in X)\n",
    "    E = ' + '.join(f'({np.around(x - C, 2)})^2' for x in X)\n",
    "    F = np.around(np.sum((X-C)**2), 2)\n",
    "    G = np.around(F/(B-1), 2)\n",
    "    return fr'''* $\\overline{{{name}}} = \\frac{{{A}}}{{{B}}} = {C}$\n",
    "* $S_{{{name}}}^2 = \\frac{{{D}}}{{{B-1}}} = \\frac{{{E}}}{{{B-1}}} = \\frac{{{F}}}{{{B-1}}} = {G}$'''\n",
    "    \n",
    "def hip1(X, a, alpha, alternative=1):\n",
    "    S = np.around(np.sum((X-np.mean(X))**2)/(len(X)-1), 2)\n",
    "    s = round(S**0.5, 2)\n",
    "    sn = round(len(X)**0.5, 2)\n",
    "    d = {0: 'dvipusė', 1: 'vienpusė iš kairės', 2: 'vienpusė iš dešinės'}\n",
    "    e = {0: r'\\neq', 1: '<', 2: '>'}\n",
    "    f = {0: 1-alpha/2, 1: 1-alpha, 2: 1-alpha}\n",
    "    m = np.around(np.mean(X), 2)\n",
    "    case1 = fr'$-t_{{{round(1-f[alternative], 3)}}}({len(X)-1}) = {round(-scipy.stats.t.ppf(round(f[alternative],3), len(X)-1), 3)}$'\n",
    "    case2 = fr'$t_{{{round(1-f[alternative], 3)}}}({len(X)-1}) = {round(scipy.stats.t.ppf(round(f[alternative],3), len(X)-1), 3)}$'\n",
    "\n",
    "    if alternative==0:\n",
    "        case = f'* {case1}, {case2}'\n",
    "    elif alternative==1:\n",
    "        case = f'* {case1}'\n",
    "    else:\n",
    "        case= f'* {case2}'\n",
    "\n",
    "    return fr'''\n",
    "    * $a = {a}$\n",
    "    * $n = {len(X)}$\n",
    "    ''' +\\\n",
    "    dispersija('X', X) +\\\n",
    "    fr'''* $S_X = \\sqrt{{{S}}} = {round(S**0.5, 2)}$\n",
    "    * $\\sqrt{{{'n'}}} = \\sqrt{{{len(X)}}} = {round(len(X)**0.5, 2)}$\n",
    "    * Tikrinama hipotezė: $\\begin{{{'cases'}}} H_0: \\mu = {a} \\\\ H_1: \\mu {e[alternative]} {a} \\end{{{'cases'}}}$ (alternatyva {d[alternative]})\n",
    "    ''' + r'* $\\displaystyle T = \\frac{\\overline{X} - a}{S_X^2/\\sqrt{n}} = ' + \\\n",
    "    r'\\frac{' + f'{m}-{a}'+r'}{'+f'{s}/{sn}'+r'} = \\boxed{'+f'{round((m-a)/(s/sn), 2)}'+r'}$'''+f'\\n'+ case\n",
    "    #* $W = (1.667, \\infty)$\n",
    "    #* $\\boxed{4.69}$ priklauso $W$, nulinė hipotezė atmetama, vadinasi užduotis nutekėjo.)\n",
    "    \n",
    "pr(hip1(X, a, alpha))"
   ]
  },
  {
   "cell_type": "markdown",
   "id": "51a2d556",
   "metadata": {},
   "source": [
    "$DX=EX^2-(EX)^2$\n",
    "\n",
    "$DX=\\frac{4.0^2 + 5.5^2 + 5.6^2 + 5.9^2 + 6.1^2 + 6.4^2 + 7.7^2 + 7.5^2 + 5.5^2}{9}-6.02^2$"
   ]
  }
 ],
 "metadata": {
  "kernelspec": {
   "display_name": "Python 3",
   "language": "python",
   "name": "python3"
  },
  "language_info": {
   "codemirror_mode": {
    "name": "ipython",
    "version": 3
   },
   "file_extension": ".py",
   "mimetype": "text/x-python",
   "name": "python",
   "nbconvert_exporter": "python",
   "pygments_lexer": "ipython3",
   "version": "3.8.3"
  }
 },
 "nbformat": 4,
 "nbformat_minor": 5
}
