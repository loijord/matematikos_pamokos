{
 "cells": [
  {
   "cell_type": "markdown",
   "metadata": {},
   "source": [
    "## Ką mokomės\n",
    "\n",
    "||||\n",
    "|:----:|:-----:|:------:|\n",
    "|![](sam1.png)|![](sam2.png)|![](sam3.png)|\n",
    "\n",
    "||||\n",
    "|:----:|:-----:|:------:|\n",
    "|![](int1.png)|![](int2.png)|![](int3.png)|"
   ]
  },
  {
   "cell_type": "markdown",
   "metadata": {},
   "source": [
    "## Užrašai\n",
    "Užrašuose yra 5 sąsiuvinio nuotraukos su Irmanto paskaitų sprendimais. Jos padės suprasti, kokias integravimo metodikas naudoja per paskaitas.\n",
    "\n",
    "||||||\n",
    "|:----:|:-----:|:------:|:-----:|:------:|\n",
    "|![](notes1.png)|![](notes2.png)|![](notes3.png)|![](notes4.png)|![](notes5.png)|"
   ]
  },
  {
   "cell_type": "markdown",
   "metadata": {},
   "source": [
    "## Šį susitikimą sprendžiame\n",
    "Irmantui: turėk atsidaręs tas pačias nuotraukas pas save, nes man netelpa atsakymai\n",
    "\n",
    "||||\n",
    "|:----:|:-----:|:------:|\n",
    "|![](ribos1.jpg)|![](ribos2.jpg)|![](ribos3.jpg)|"
   ]
  },
  {
   "cell_type": "markdown",
   "metadata": {},
   "source": [
    "## Ribų tipai"
   ]
  },
  {
   "cell_type": "markdown",
   "metadata": {},
   "source": [
    "## Tigrų lenktynės\n",
    "Lenktyniauja du tigrai. Galimos trys baigtys:\n",
    "    \n",
    "|Pirmas galingesnis >>>>>>>>>>>>>>>>| Antras galingesnis >>>>>>>>>>>>>>>>| Fotofinišas - reik žiūrėt kofus >>>>>>>>>>>>>>>>|\n",
    "|:---:|:---:|:---:|\n",
    "|$\\displaystyle\\lim_{x\\to+\\infty}\\frac{10n^4-7n+1}{4n^3-3n^2+10n-4}=\\frac{+\\infty}{1}$|$\\displaystyle\\lim_{n \\rightarrow \\infty} \\frac{\\sqrt[3]{n^{2}+2n-1}+\\sqrt{n}}{\\sqrt[4]{n^{3}+n^{2}+1}-\\sqrt{n-1}}=\\frac{1}{+\\infty}$|$\\displaystyle\\lim_{x\\to+\\infty}\\frac{8n^3+3n^2+5}{6-7n^2+10n^3} = \\frac{8}{10}$|\n",
    "\n",
    "Po to atsiranda papildomų momentų:\n",
    "* Jei nori patikrint, kodėl vienas ar kitas laimės, tai dalini abu iš didžiausio surasto laipsnio:\n",
    "  \n",
    "  $\\displaystyle\\lim_{x\\to+\\infty}\\frac{8n^3+3n^2+5}{6-7n^2+10n^3}=\\lim_{x\\to+\\infty}\\frac{8n^3/n^3+3n^2/n^3+5/n^3}{6/n^3-7n^2/n^3+10n^3/n^3} = \\lim_{x\\to+\\infty}\\frac{8+3/n+5/n^3}{6/n^3-7/n+10}=\\frac{8}{10}$\n",
    "* Remiantis panašiomis idėjomis, kai skaičiuoji ribą $\\displaystyle\\lim_{x\\to+\\infty}\\frac{8^n+3^n}{9^n-5^n}$ irgi gali panašiai surasti galingiausią narį ir iš jo padalinti likusius narius.\n",
    "* **Išvada 1.** Jei nori įvertint reiškinių ribą, pvz. šaknies iš kito reiškinio ribą, tai galima panašiai naikinti nykstamai mažus narius.\n",
    "\n",
    "  Kai $x\\to+\\infty$, tai $\\sqrt{4x^3+x+1} \\to \\sqrt{4x^3} = 2x^{3/2}$\n",
    "* **Išvada 2.** Nykstamus narius galime naikinti visada vos tik pamatome, kad vyksta tigrų lenktynės.\n",
    "\n",
    "**Pavydys 1.** $\\displaystyle\\lim_{n \\rightarrow \\infty} \\frac{\\sqrt{n+2}+\\sqrt[3]{n+1}}{\\sqrt[4]{n^{2}-n+3}-\\sqrt[5]{n^2}}$\n",
    "\n",
    "**Pavydys 2.**$\\displaystyle\\lim_{n \\rightarrow \\infty} \\frac{2^n-4^n}{4^{n+2}-3^n}$"
   ]
  },
  {
   "cell_type": "markdown",
   "metadata": {},
   "source": [
    "$\\displaystyle \\frac{\\sqrt{n+2}+\\sqrt[3]{n+1}}{\\sqrt[4]{n^{2}-n+3}-\\sqrt[5]{n^2}} \\to \\frac{\\sqrt{n}+\\sqrt[3]{n}}{\\sqrt[4]{n^{2}}-\\sqrt[5]{n^2}} \\to \\frac{\\sqrt{n}}{\\sqrt[4]{n^{2}}}$, kai $n \\to +\\infty$"
   ]
  },
  {
   "cell_type": "markdown",
   "metadata": {},
   "source": [
    "$\\displaystyle \\frac{\\sqrt{n/n+2/n}+\\sqrt[3]{n/n^{3/2}+1/n^{3/2}}}{\\sqrt[4]{n^{2}-n+3}-\\sqrt[5]{n^2}}$"
   ]
  },
  {
   "cell_type": "markdown",
   "metadata": {},
   "source": [
    "$\\sqrt[3]{n} / \\sqrt{n} = n^{{1/3} - {1/2}}=n^{-1/6}\\to 0$"
   ]
  },
  {
   "cell_type": "markdown",
   "metadata": {},
   "source": [
    "### Konjunkcijos\n",
    "* Konjunkcijos? Tai [ne dangaus kūnų](https://en.wikipedia.org/wiki/Conjunction_(astronomy)), o greičiau lygybės $ab=c$ kitų formų tarpusavio ryšys. \n",
    "* Tiksliau lygybių $\\boxed{(a-b)(a+b)=a^2-b^2}$, $\\boxed{(a-b)(a^2+ab+b^2)=a^3-b^3}$ ir $\\boxed{(a+b)(a^2-ab+b^2)=a^3+b^3}$\n",
    "* $(a+b)(a-b) = \\begin{array}{c||c|c} & a & b \\\\ \\hline a & a^2 & ab \\\\ \\hline -b & -ab & -b^2 \\end{array} = a^2-b^2$\n",
    "* $(a+b)(a^2-ab+b^2) = \\begin{array}{c||c|c} & a & b \\\\ \\hline a^2 & a^3 & a^2b \\\\ \\hline -ab & -a^2b & -ab^2 \\\\ \\hline b^2 & ab^2 & b^3 \\end{array} = a^3+b^3$\n",
    "* $(a-b)(a^2+ab+b^2) = \\begin{array}{c||c|c} & a & -b \\\\ \\hline a^2 & a^3 & -a^2b \\\\ \\hline ab & a^2b & -ab^2 \\\\ \\hline b^2 & ab^2 & -b^3 \\end{array} = a^3-b^3$"
   ]
  },
  {
   "cell_type": "markdown",
   "metadata": {},
   "source": [
    "**Pavyzdys 1.** Kai skaičiuoji $\\displaystyle\\lim_{n\\to+\\infty} \\left(\\sqrt[3]{n^3-1} - n\\right)\\cdot n$, tai paimk $\\displaystyle a-b=\\frac{a^3-b^3}{a^2+ab+b^2}$ ir įstatyk $\\begin{cases} a \\to \\sqrt[3]{n^3-1} \\\\ b \\to n\\end{cases}$"
   ]
  },
  {
   "cell_type": "markdown",
   "metadata": {},
   "source": [
    "Gausi $\\displaystyle \\sqrt[3]{n^3-1}-n=\\frac{n^3-1-n^3}{\\sqrt[3]{(n^3-1)^2}+n\\sqrt[3]{n^3-1}+n^2}$. Po to vyks tigrų lenktynės."
   ]
  },
  {
   "cell_type": "markdown",
   "metadata": {},
   "source": [
    "**Pavyzdys 2.** Kai skaičiuoji $\\displaystyle\\lim_{n\\to+2} \\frac{\\sqrt{n} - \\sqrt{2}}{n-2}$, tai paimk $\\displaystyle a-b=\\frac{a^2-b^2}{a+b}$ ir įstatyk $\\begin{cases} a \\to \\sqrt{n} \\\\ b \\to \\sqrt{2}\\end{cases}$"
   ]
  },
  {
   "cell_type": "markdown",
   "metadata": {},
   "source": [
    "Gausi $\\displaystyle \\frac{\\sqrt{n} - \\sqrt{2}}{n-2} = \\frac{(n - 2)/(\\sqrt{n} + \\sqrt{2})}{n-2} = \\frac{1}{\\sqrt{n} + \\sqrt{2}}$. "
   ]
  },
  {
   "cell_type": "markdown",
   "metadata": {},
   "source": [
    "**Pavyzdys 3.** Kai skaičiuoji $\\displaystyle\\lim_{n\\to+\\infty} \\frac{(n-1)^3+(n+3)^3}{(n-2)^4-(n+4)^4}$, tai paimk $\\displaystyle a^4-b^4=(a-b)(a^3+a^2b+ab^2+b^3)$ ir įstatyk $\\begin{cases} a \\to n-2 \\\\ b \\to n+4\\end{cases}$. Vėliau tigrų lenktynės, naikiname nykstamai mažus narius ir gauname atsakymą."
   ]
  },
  {
   "cell_type": "markdown",
   "metadata": {},
   "source": [
    "Gausi $\\displaystyle (n-2)^4-(n+4)^4=-6\\left((n-2)^3+(n-2)^2(n+4)+(n-2)(n+4)^2+(n+4)^3\\right)$."
   ]
  },
  {
   "cell_type": "markdown",
   "metadata": {},
   "source": [
    "**Pavyzdys 4.** $\\displaystyle\\lim_{n\\to+3} \\frac{\\sqrt{x}+\\sqrt{x-3}-\\sqrt{3}}{\\sqrt{x^2-9}}$\n",
    "\n",
    "**Pavyzdys 5.** $\\displaystyle\\lim_{n\\to+3} \\frac{\\sqrt[3]{x-30}+3}{x^3-27}$"
   ]
  },
  {
   "cell_type": "markdown",
   "metadata": {},
   "source": [
    "### Dalyba kampu\n",
    "* Jei $P(a)=0$, tai $P(x)$ dalijasi iš $x-a$\n",
    "* Kitais žodžiais, jei \n",
    "$$a_0a^n+a_{1}a^{n-1}+a_{2}a^{n-2}+\\dots a_{n-2}a^2+a_{n-1}a+a_n = 0\\text{, tai }$$\n",
    "$$a_0x^n+a_{1}x^{n-1}+a_{2}x^{n-2}+\\dots a_{n-2}x^2+a_{n-1}x+a_n\\text{, dalijasi iš }x-a$$\n",
    "* Įrodymas: \n",
    "  * $P(x) = P(x)-P(a) = a_0(x^n-a^n)+a_{1}(x^{n-1}-a^{n-1})+a_{2}(x^{n-2}-a^{n-2})+\\dots a_{n-2}(x^2-a^2)+a_{n-1}(x-a) = 0$\n",
    "  * Kiekvienas dėmuo dalijasi iš $x-a$\n",
    "  \n",
    "**Dalybos pavyzdys** \n",
    "\n",
    "<img src=\"kampas.png\" width=\"400\">"
   ]
  },
  {
   "cell_type": "markdown",
   "metadata": {},
   "source": [
    "### Mistinis vieneto prieaugis"
   ]
  },
  {
   "cell_type": "markdown",
   "metadata": {},
   "source": [
    "Niutono laikais (prieš 400m.), kai buvo įvestas ribos žymėjimas, buvo stengiamasi kiekvienam reiškiniui surasti metodiką, leidžiančią apskaičiuoti to reiškinio ribą. Tačiau numatyti visas galimas technikas reikėtų labai daug žinių. Kaip pavyzdį mokinomės pagrįsti, kodėl $\\sin x\\to x$, kai $x \\to 0$ ir sprendimas buvo specifinis, nematytas jokiuose kituose uždaviniuose (reikėjo suvokti, kad vienetiniame skritulyje pusė lanko ($x$) artėja į pusę stygos ($\\sin x$), kai mažiname išpjovos kampą $x$). Čia pasitarnauja Lopitalio atrasta taisyklė, su kuria galime apskaičiuoti labai daug ribų: \n",
    "\n",
    "* Jei $x\\to a$ ir $f(x)$ kartu su $g(x)$ artėja į 0 arba $f(x)$ kartu su $g(x)$ artėja į $+\\infty$, tai $\\displaystyle\\lim_{x\\to a} \\frac{f(x)}{g(x)} = \\lim_{x\\to a} \\frac{f'(x)}{g'(x)}$\n",
    "\n",
    "Nors ši taisyklė ir galingas įrankis, tačiau ne visuomet veikia lengvai. Kartais reikia numatyti kelias formas, kaip pertvarkyti reiškinį.Pvz:\n",
    "\n",
    "* $\\displaystyle\\lim_{x\\to +\\infty} xe^{-x}=\\lim_{x\\to +\\infty} \\frac{e^{-x}}{1/x} = \\lim_{x\\to +\\infty} \\frac{-e^{-x}}{-1/x^2}=\\lim_{x\\to +\\infty} \\frac{e^{-x}}{2/x^3}=\\lim_{x\\to +\\infty} \\frac{-e^{-x}}{-6/x^4}=\\dots$, todėl patenkame į niekad nesibaigiantį procesą. Bet:\n",
    "* $\\displaystyle\\lim_{x\\to +\\infty} xe^{-x}=\\lim_{x\\to +\\infty} \\frac{x}{e^x} = \\lim_{x\\to +\\infty} \\frac{1}{e^x}=0$ - pavyksta.\n",
    "\n",
    "Tarp ribų, kurios nepasiduoda jokioms ankstesnėms technikoms ir netgi Lopitaliui, atsiranda viena populiari situacija."
   ]
  },
  {
   "cell_type": "code",
   "execution_count": 51,
   "metadata": {},
   "outputs": [
    {
     "data": {
      "text/markdown": [
       "Kai $x=1$, tai $\\left(1+\\frac{1}{x}\\right)^x = \\left(1+\\frac{1}{1}\\right)^{1} = 2.0$"
      ],
      "text/plain": [
       "<IPython.core.display.Markdown object>"
      ]
     },
     "metadata": {},
     "output_type": "display_data"
    },
    {
     "data": {
      "text/markdown": [
       "Kai $x=2$, tai $\\left(1+\\frac{1}{x}\\right)^x = \\left(1+\\frac{1}{2}\\right)^{2} = 2.25$"
      ],
      "text/plain": [
       "<IPython.core.display.Markdown object>"
      ]
     },
     "metadata": {},
     "output_type": "display_data"
    },
    {
     "data": {
      "text/markdown": [
       "Kai $x=3$, tai $\\left(1+\\frac{1}{x}\\right)^x = \\left(1+\\frac{1}{3}\\right)^{3} = 2.3703703704$"
      ],
      "text/plain": [
       "<IPython.core.display.Markdown object>"
      ]
     },
     "metadata": {},
     "output_type": "display_data"
    },
    {
     "data": {
      "text/markdown": [
       "Kai $x=5$, tai $\\left(1+\\frac{1}{x}\\right)^x = \\left(1+\\frac{1}{5}\\right)^{5} = 2.48832$"
      ],
      "text/plain": [
       "<IPython.core.display.Markdown object>"
      ]
     },
     "metadata": {},
     "output_type": "display_data"
    },
    {
     "data": {
      "text/markdown": [
       "Kai $x=10$, tai $\\left(1+\\frac{1}{x}\\right)^x = \\left(1+\\frac{1}{10}\\right)^{10} = 2.5937424601$"
      ],
      "text/plain": [
       "<IPython.core.display.Markdown object>"
      ]
     },
     "metadata": {},
     "output_type": "display_data"
    },
    {
     "data": {
      "text/markdown": [
       "Kai $x=20$, tai $\\left(1+\\frac{1}{x}\\right)^x = \\left(1+\\frac{1}{20}\\right)^{20} = 2.6532977051$"
      ],
      "text/plain": [
       "<IPython.core.display.Markdown object>"
      ]
     },
     "metadata": {},
     "output_type": "display_data"
    },
    {
     "data": {
      "text/markdown": [
       "Kai $x=50$, tai $\\left(1+\\frac{1}{x}\\right)^x = \\left(1+\\frac{1}{50}\\right)^{50} = 2.6915880291$"
      ],
      "text/plain": [
       "<IPython.core.display.Markdown object>"
      ]
     },
     "metadata": {},
     "output_type": "display_data"
    },
    {
     "data": {
      "text/markdown": [
       "Kai $x=100$, tai $\\left(1+\\frac{1}{x}\\right)^x = \\left(1+\\frac{1}{100}\\right)^{100} = 2.7048138294$"
      ],
      "text/plain": [
       "<IPython.core.display.Markdown object>"
      ]
     },
     "metadata": {},
     "output_type": "display_data"
    },
    {
     "data": {
      "text/markdown": [
       "Kai $x=200$, tai $\\left(1+\\frac{1}{x}\\right)^x = \\left(1+\\frac{1}{200}\\right)^{200} = 2.7115171229$"
      ],
      "text/plain": [
       "<IPython.core.display.Markdown object>"
      ]
     },
     "metadata": {},
     "output_type": "display_data"
    },
    {
     "data": {
      "text/markdown": [
       "Kai $x=500$, tai $\\left(1+\\frac{1}{x}\\right)^x = \\left(1+\\frac{1}{500}\\right)^{500} = 2.7155685207$"
      ],
      "text/plain": [
       "<IPython.core.display.Markdown object>"
      ]
     },
     "metadata": {},
     "output_type": "display_data"
    },
    {
     "data": {
      "text/markdown": [
       "Kai $x=1000$, tai $\\left(1+\\frac{1}{x}\\right)^x = \\left(1+\\frac{1}{1000}\\right)^{1000} = 2.7169239322$"
      ],
      "text/plain": [
       "<IPython.core.display.Markdown object>"
      ]
     },
     "metadata": {},
     "output_type": "display_data"
    },
    {
     "data": {
      "text/markdown": [
       "Kai $x=1000000$, tai $\\left(1+\\frac{1}{x}\\right)^x = \\left(1+\\frac{1}{1000000}\\right)^{1000000} = 2.7182804691$"
      ],
      "text/plain": [
       "<IPython.core.display.Markdown object>"
      ]
     },
     "metadata": {},
     "output_type": "display_data"
    },
    {
     "data": {
      "text/markdown": [
       "Kai $x \\to +\\infty$, tai $\\left(1+\\frac{1}{x}\\right)^x \\to 2.718281828459045$"
      ],
      "text/plain": [
       "<IPython.core.display.Markdown object>"
      ]
     },
     "metadata": {},
     "output_type": "display_data"
    }
   ],
   "source": [
    "from IPython.display import display, Latex, Markdown\n",
    "import numpy as np\n",
    "\n",
    "for x in [1,2,3,5,10,20,50,100,200,500,1000,1000000]:\n",
    "    display(Markdown(fr'Kai $x={x}$, tai $\\left(1+\\frac{{{1}}}{{{\"x\"}}}\\right)^x = \\left({1}+\\frac{{{1}}}{{{x}}}\\right)^{{{x}}} = {round((1+1/x)**x, 10)}$'))\n",
    "    \n",
    "display(Markdown(fr'Kai $x \\to +\\infty$, tai $\\left(1+\\frac{{{1}}}{{{\"x\"}}}\\right)^x \\to {np.e}$'))"
   ]
  },
  {
   "cell_type": "code",
   "execution_count": 52,
   "metadata": {},
   "outputs": [
    {
     "data": {
      "text/markdown": [
       "Kai $x=2$, tai $\\left(1+\\frac{1}{-x}\\right)^{-x} = \\left(1+\\frac{1}{-2}\\right)^{-2} = 4.0$"
      ],
      "text/plain": [
       "<IPython.core.display.Markdown object>"
      ]
     },
     "metadata": {},
     "output_type": "display_data"
    },
    {
     "data": {
      "text/markdown": [
       "Kai $x=3$, tai $\\left(1+\\frac{1}{-x}\\right)^{-x} = \\left(1+\\frac{1}{-3}\\right)^{-3} = 3.375$"
      ],
      "text/plain": [
       "<IPython.core.display.Markdown object>"
      ]
     },
     "metadata": {},
     "output_type": "display_data"
    },
    {
     "data": {
      "text/markdown": [
       "Kai $x=5$, tai $\\left(1+\\frac{1}{-x}\\right)^{-x} = \\left(1+\\frac{1}{-5}\\right)^{-5} = 3.0517578125$"
      ],
      "text/plain": [
       "<IPython.core.display.Markdown object>"
      ]
     },
     "metadata": {},
     "output_type": "display_data"
    },
    {
     "data": {
      "text/markdown": [
       "Kai $x=10$, tai $\\left(1+\\frac{1}{-x}\\right)^{-x} = \\left(1+\\frac{1}{-10}\\right)^{-10} = 2.8679719908$"
      ],
      "text/plain": [
       "<IPython.core.display.Markdown object>"
      ]
     },
     "metadata": {},
     "output_type": "display_data"
    },
    {
     "data": {
      "text/markdown": [
       "Kai $x=20$, tai $\\left(1+\\frac{1}{-x}\\right)^{-x} = \\left(1+\\frac{1}{-20}\\right)^{-20} = 2.7895098175$"
      ],
      "text/plain": [
       "<IPython.core.display.Markdown object>"
      ]
     },
     "metadata": {},
     "output_type": "display_data"
    },
    {
     "data": {
      "text/markdown": [
       "Kai $x=50$, tai $\\left(1+\\frac{1}{-x}\\right)^{-x} = \\left(1+\\frac{1}{-50}\\right)^{-50} = 2.7459727009$"
      ],
      "text/plain": [
       "<IPython.core.display.Markdown object>"
      ]
     },
     "metadata": {},
     "output_type": "display_data"
    },
    {
     "data": {
      "text/markdown": [
       "Kai $x=100$, tai $\\left(1+\\frac{1}{-x}\\right)^{-x} = \\left(1+\\frac{1}{-100}\\right)^{-100} = 2.7319990264$"
      ],
      "text/plain": [
       "<IPython.core.display.Markdown object>"
      ]
     },
     "metadata": {},
     "output_type": "display_data"
    },
    {
     "data": {
      "text/markdown": [
       "Kai $x=200$, tai $\\left(1+\\frac{1}{-x}\\right)^{-x} = \\left(1+\\frac{1}{-200}\\right)^{-200} = 2.7251088294$"
      ],
      "text/plain": [
       "<IPython.core.display.Markdown object>"
      ]
     },
     "metadata": {},
     "output_type": "display_data"
    },
    {
     "data": {
      "text/markdown": [
       "Kai $x=500$, tai $\\left(1+\\frac{1}{-x}\\right)^{-x} = \\left(1+\\frac{1}{-500}\\right)^{-500} = 2.7210051033$"
      ],
      "text/plain": [
       "<IPython.core.display.Markdown object>"
      ]
     },
     "metadata": {},
     "output_type": "display_data"
    },
    {
     "data": {
      "text/markdown": [
       "Kai $x=1000$, tai $\\left(1+\\frac{1}{-x}\\right)^{-x} = \\left(1+\\frac{1}{-1000}\\right)^{-1000} = 2.7196422164$"
      ],
      "text/plain": [
       "<IPython.core.display.Markdown object>"
      ]
     },
     "metadata": {},
     "output_type": "display_data"
    },
    {
     "data": {
      "text/markdown": [
       "Kai $x=1000000$, tai $\\left(1+\\frac{1}{-x}\\right)^{-x} = \\left(1+\\frac{1}{-1000000}\\right)^{-1000000} = 2.7182831877$"
      ],
      "text/plain": [
       "<IPython.core.display.Markdown object>"
      ]
     },
     "metadata": {},
     "output_type": "display_data"
    },
    {
     "data": {
      "text/markdown": [
       "Kai $x \\to +\\infty$, tai $\\left(1+\\frac{1}{-x}\\right)^{-x} \\to 2.718281828459045$"
      ],
      "text/plain": [
       "<IPython.core.display.Markdown object>"
      ]
     },
     "metadata": {},
     "output_type": "display_data"
    }
   ],
   "source": [
    "for x in [2,3,5,10,20,50,100,200,500,1000,1000000]:\n",
    "    display(Markdown(fr'Kai $x={x}$, tai $\\left(1+\\frac{{{1}}}{{{\"-x\"}}}\\right)^{{{\"-x\"}}} = \\left({1}+\\frac{{{1}}}{{{-x}}}\\right)^{{{-x}}} = {round((1-1/x)**(-x), 10)}$'))\n",
    "    \n",
    "display(Markdown(fr'Kai $x \\to +\\infty$, tai $\\left(1+\\frac{{{1}}}{{{\"-x\"}}}\\right)^{{{\"-x\"}}} \\to {np.e}$'))"
   ]
  },
  {
   "cell_type": "markdown",
   "metadata": {},
   "source": [
    "Kaip įprasta matematikoje, naujam, niekaip prieš tai matytais metodais nepaaiškinamam skaičiui rezervuojamas atskiras žymėjimas (panašiai atsitiko su šaknies, laipsnio, skaičių $i$ ir $\\pi$ žymėjimais). Abejose situacijose galima tvirtinti, kad:\n",
    "\n",
    "Kai $x\\to \\infty$, tai $\\left(1+\\frac{1}{x}\\right)^x \\to e$, kur $e\\approx 2.718281828$\n",
    "\n",
    "Šią taisyklę galime suformuluoti ir dar paprasčiau:\n",
    "\n",
    "Jei tik $a\\to 0$ ir $ab=1$, tai $(1+a)^b\\to e$"
   ]
  },
  {
   "cell_type": "markdown",
   "metadata": {},
   "source": [
    "**Pavyzdys** $\\displaystyle\\lim_{x\\to\\infty} \\left(\\frac{x^2+3}{x^2+1}\\right)^{4x^2} = \\lim_{x\\to\\infty} \\left(\\frac{x^2+1}{x^2+1}+\\frac{2}{x^2+1}\\right)^{4x^2} = \\lim_{x\\to\\infty} \\left(1+\\frac{2}{x^2+1}\\right)^{4x^2} = \\lim_{x\\to\\infty} \\left(\\left(1+\\frac{2}{x^2+1}\\right)^\\frac{x^2+1}{2}\\right)^{\\frac{2}{x^2+1}\\cdot 4x^2} = \\lim_{x\\to\\infty} e^{\\frac{2}{x^2+1}\\cdot 4x^2} = e^8$\n",
    "\n",
    "Skaičiuojant šią ribą reikėjo pastebėti, kad $\\displaystyle\\frac{2}{x^2+1}\\to 0$, kai $x\\to +\\infty$ ir $\\displaystyle\\frac{2}{x^2+1} \\times \\frac{x^2+1}{2}=1$"
   ]
  },
  {
   "cell_type": "markdown",
   "metadata": {},
   "source": [
    "### Papildomos taisyklės\n",
    "\n",
    "* $\\sin(x) \\to x$, kai $x\\to 0$\n",
    "* $\\arcsin(\\sin x) = x$\n",
    "* $(a^x)'=\\ln(a)\\cdot a^x$\n",
    "* $\\displaystyle\\frac{a^x-1}{x} \\to \\ln(a)$, kai $x\\to 0$ (Pagal Lopitalį). Kita forma $a^x \\to x\\ln(a)+1,$ kai $x\\to 0$\n",
    "* $\\sin^2(x)+\\cos^2(x) = 1$\n",
    "* $\\frac{\\sin(x)}{\\cos(x)}=\\text{tg}(x)$\n",
    "* [Lopitalio taisyklė](https://en.wikipedia.org/wiki/L%27Hôpital%27s_rule)\n",
    "* Skaidymas dauginamaisiais grupavimo būdu (jei nepatinka, dalyba kampu iš $t-\\sqrt{3}$)"
   ]
  },
  {
   "cell_type": "markdown",
   "metadata": {},
   "source": [
    "### Keverzonės apie sudėtinių išvestinių skaičiavimą\n",
    "\n",
    "$\\displaystyle e^{-x^2/2}\\cdot \\ln(x) = \\frac{e^{-x^2/2}}{1/\\ln(x)} = \\frac{\\ln(x)}{1/e^{-x^2/2}} = \\frac{\\ln(x)}{e^{x^2/2}}$\n",
    "\n",
    "$f(g(x))' = f'(g(x))\\cdot g'(x)$\n",
    "\n",
    "$\\begin{cases} f(x) = e^x \\\\ g(x) = x^2/2 \\\\ f'(x)=e^x \\\\ g'(x) = x\\end{cases}$\n",
    "\n",
    "$f'(g(x))=e^{x^2/2}$ ir $g'(x)=x$\n",
    "\n",
    "$f'(g(x))\\cdot g'(x)=x = e^{x^2/2}\\cdot x$"
   ]
  }
 ],
 "metadata": {
  "kernelspec": {
   "display_name": "Python 3",
   "language": "python",
   "name": "python3"
  },
  "language_info": {
   "codemirror_mode": {
    "name": "ipython",
    "version": 3
   },
   "file_extension": ".py",
   "mimetype": "text/x-python",
   "name": "python",
   "nbconvert_exporter": "python",
   "pygments_lexer": "ipython3",
   "version": "3.8.3"
  }
 },
 "nbformat": 4,
 "nbformat_minor": 4
}
