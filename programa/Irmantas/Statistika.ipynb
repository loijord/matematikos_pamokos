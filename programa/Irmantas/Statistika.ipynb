{
 "cells": [
  {
   "cell_type": "markdown",
   "metadata": {},
   "source": [
    "### Binominis skirstinys\n",
    "\n",
    "$P(X=k) = C^k_np^k(1-p)^{n-k}$\n",
    "\n",
    "Tai yra modelis, kuriame eksperimentas su baigtimi, kurios tikimybė lygi $p$, yra kartojamas $n$ kartų. Reikia rasti tikimybę, kad baigtis (įvykis) įvyks $k$ kartų.\n",
    "\n",
    "$\\begin{cases} \n",
    "p \\to \\text{ įvykio tikimybė} \\\\ \n",
    "q = 1-p \\to \\text{ priešingo įvykio tikimybė} \\\\ \n",
    "k \\to \\text{ kiek kartų įvyks įvykis}\\\\\n",
    "n-k \\to \\text{ kiek kartų įvyks priešingas įvykis}\\\\\n",
    "n \\to \\text{ kiek kartų kartojamas eksperimentas}\\\\\n",
    "P(X=k) \\to \\text{ tikimybė, kad įvykis įvyko $k$ kartų}\\\\\n",
    "X=k \\to \\text{įvykis, kad įvykis įvyko $k$ kartų}\n",
    "\\end{cases}$\n",
    "\n",
    "Formulė yra sukonstruota pagal kombinatorinę daugybos taisyklę. Tarkime $n = 10, k=3$. Tarkime $x$ - įvykio įvykimas, o $y$ - neįvykimas. Tuomet įvykiui $X=k$ viena iš palankių baigčių yra $xxxyyyyyyy$. Kiekviename eksperimente paskesnis įvykis niekaip nepriklauso nuo ankstesnio, todėl galime dauginti tikimybes: \n",
    "\n",
    "$$P(xxxyyyyyyy) = P(x)P(x)P(x)P(y)P(y)P(y)P(y)P(y)P(y)P(y) = P(x)^3P(y)^7=p^3(1-p)^7$$\n",
    "\n",
    "Tačiau galimos ir kitokios baigtys, pavyzdžiui $xyyyxyxyyyy$. Šiai baigtis palanki ir jai $P(xyyyxyxyyyy)$ būtų tokia pati. Reikia surasti, kiek yra tokių baigčių. Paleisiu kodą, kuris išrašo visas tokias palankias baigtis:"
   ]
  },
  {
   "cell_type": "code",
   "execution_count": 3,
   "metadata": {},
   "outputs": [
    {
     "name": "stdout",
     "output_type": "stream",
     "text": [
      "OOO.......\n",
      "OO.O......\n",
      "OO..O.....\n",
      "OO...O....\n",
      "OO....O...\n",
      "OO.....O..\n",
      "OO......O.\n",
      "OO.......O\n",
      "O.OO......\n",
      "O.O.O.....\n",
      "O.O..O....\n",
      "O.O...O...\n",
      "O.O....O..\n",
      "O.O.....O.\n",
      "O.O......O\n",
      "O..OO.....\n",
      "O..O.O....\n",
      "O..O..O...\n",
      "O..O...O..\n",
      "O..O....O.\n",
      "O..O.....O\n",
      "O...OO....\n",
      "O...O.O...\n",
      "O...O..O..\n",
      "O...O...O.\n",
      "O...O....O\n",
      "O....OO...\n",
      "O....O.O..\n",
      "O....O..O.\n",
      "O....O...O\n",
      "O.....OO..\n",
      "O.....O.O.\n",
      "O.....O..O\n",
      "O......OO.\n",
      "O......O.O\n",
      "O.......OO\n",
      ".OOO......\n",
      ".OO.O.....\n",
      ".OO..O....\n",
      ".OO...O...\n",
      ".OO....O..\n",
      ".OO.....O.\n",
      ".OO......O\n",
      ".O.OO.....\n",
      ".O.O.O....\n",
      ".O.O..O...\n",
      ".O.O...O..\n",
      ".O.O....O.\n",
      ".O.O.....O\n",
      ".O..OO....\n",
      ".O..O.O...\n",
      ".O..O..O..\n",
      ".O..O...O.\n",
      ".O..O....O\n",
      ".O...OO...\n",
      ".O...O.O..\n",
      ".O...O..O.\n",
      ".O...O...O\n",
      ".O....OO..\n",
      ".O....O.O.\n",
      ".O....O..O\n",
      ".O.....OO.\n",
      ".O.....O.O\n",
      ".O......OO\n",
      "..OOO.....\n",
      "..OO.O....\n",
      "..OO..O...\n",
      "..OO...O..\n",
      "..OO....O.\n",
      "..OO.....O\n",
      "..O.OO....\n",
      "..O.O.O...\n",
      "..O.O..O..\n",
      "..O.O...O.\n",
      "..O.O....O\n",
      "..O..OO...\n",
      "..O..O.O..\n",
      "..O..O..O.\n",
      "..O..O...O\n",
      "..O...OO..\n",
      "..O...O.O.\n",
      "..O...O..O\n",
      "..O....OO.\n",
      "..O....O.O\n",
      "..O.....OO\n",
      "...OOO....\n",
      "...OO.O...\n",
      "...OO..O..\n",
      "...OO...O.\n",
      "...OO....O\n",
      "...O.OO...\n",
      "...O.O.O..\n",
      "...O.O..O.\n",
      "...O.O...O\n",
      "...O..OO..\n",
      "...O..O.O.\n",
      "...O..O..O\n",
      "...O...OO.\n",
      "...O...O.O\n",
      "...O....OO\n",
      "....OOO...\n",
      "....OO.O..\n",
      "....OO..O.\n",
      "....OO...O\n",
      "....O.OO..\n",
      "....O.O.O.\n",
      "....O.O..O\n",
      "....O..OO.\n",
      "....O..O.O\n",
      "....O...OO\n",
      ".....OOO..\n",
      ".....OO.O.\n",
      ".....OO..O\n",
      ".....O.OO.\n",
      ".....O.O.O\n",
      ".....O..OO\n",
      "......OOO.\n",
      "......OO.O\n",
      "......O.OO\n",
      ".......OOO\n"
     ]
    }
   ],
   "source": [
    "from itertools import combinations\n",
    "idx = list(combinations(range(10), 3))\n",
    "for i in idx:\n",
    "    a = ['.']*10\n",
    "    for p in i:\n",
    "        a[p]='O'\n",
    "    print(''.join(a))"
   ]
  },
  {
   "cell_type": "markdown",
   "metadata": {},
   "source": [
    "Kiekvienos iš šių palankių baigčių tikimybė yra $p^3(1-p)^7$. Lieka suskaičiuoti, kiek yra tokių baigčių. Rezultatui gauti galime taikyti kitą formuluotę: keliais būdais galime pasirinkti tris žmones iš 10 žmonių grupės? Atsakymas: $C^3_{10}$. Vadinasi, $P(X=3)=C^3_{10}p^3(1-p)^7$"
   ]
  },
  {
   "cell_type": "markdown",
   "metadata": {},
   "source": [
    "### Binominio skirstinio generuojanti funkcija\n",
    "\n",
    "Turint galvą galima suprasti, kad dvinario $px + (1-p)$ kėlimas $n$ laipsniu duoda daugianarį $a_nx^n+a_{n-1}x^{n-1}+...+a_2x^2+a_1x+a_0$, kurio koeficientai prie $x^n$, $x^{n-1}$,...,$x$,$x^0$ parodo tikimybes, kad įvykis įvyks $n$, $n-1$, $n-2$, ..., $1$, $0$ kartų. Taip yra todėl, kad Niutono binomas atitinka pakartotinių baigčių, kai palankus įvykis reiškia posūkį į kairę, o priešingas - į dešinę, sumavimą:\n",
    "\n",
    "![](pascal.png)\n",
    "\n",
    "Pvz. atveju $n=10$, $p=0.5$ būtų $$(px+(1-p))^{10} = (0.5x+0.5)^{10} = 0.000976563 x^{10} + 0.00976563 x^9 + 0.0439453 x^8 + 0.117188 x^7 + 0.205078 x^6 + 0.246094 x^5 + 0.205078 x^4 + 0.117188 x^3 + 0.0439453 x^2 + 0.00976563 x + 0.000976563$$\n",
    "\n",
    "Koeficientai parodo tikimybes, kad metant monetą skaičius atvirs $0$, $1$, ..., $10$ kartų.\n",
    "\n",
    "Kad geriau įsivaizduotume, kaip atrodo skirstinys, galime nusibraižyti šių 11 tikimybių diagramą:"
   ]
  },
  {
   "cell_type": "code",
   "execution_count": 10,
   "metadata": {},
   "outputs": [
    {
     "data": {
      "text/plain": [
       "[<matplotlib.lines.Line2D at 0x2059b1cde80>]"
      ]
     },
     "execution_count": 10,
     "metadata": {},
     "output_type": "execute_result"
    },
    {
     "data": {
      "image/png": "[encoded data removed]",
      "text/plain": [
       "<Figure size 432x288 with 1 Axes>"
      ]
     },
     "metadata": {
      "needs_background": "light"
     },
     "output_type": "display_data"
    }
   ],
   "source": [
    "import matplotlib.pyplot as plt\n",
    "\n",
    "probabilities = [0.000976563,0.00976563,0.0439453,0.117188,0.205078,0.246094,0.205078,0.117188,0.0439453,0.00976563,0.000976563]\n",
    "plt.bar(range(11), probabilities)\n",
    "plt.plot(range(11), probabilities, color = 'red')"
   ]
  },
  {
   "cell_type": "markdown",
   "metadata": {},
   "source": [
    "1\\. Ridensime 10 kauliukų. Raskite tikimybes, kad atvirs nulis vienetų, vienas vienetas, du vienetai, ir t.t iki 10 vienetų.\n",
    "\n",
    "* Atsakymas - skaičiai $C^0_{10}\\cdot\\frac{1}{6^0}\\cdot\\frac{5^{10}}{6^{10}}$, $C^1_{10}\\cdot\\frac{1}{6^1}\\cdot\\frac{5^{9}}{6^{9}}$, $C^2_{8}\\cdot\\frac{1}{6^2}\\cdot\\frac{5^{8}}{6^{8}}$,...,$C^{10}_{10}\\cdot\\frac{1}{6^{10}}\\cdot\\frac{5^{0}}{6^{0}}$. Tai bus lygiai tie patys binomo koeficientai:\n",
    "\n",
    "$$px+(1-p)^{10} = (0.5p+0.5)^{10} = 0.000976563 x^{10} + 0.00976563 x^9 + 0.0439453 x^8 + 0.117188 x^7 + 0.205078 x^6 + 0.246094 x^5 + 0.205078 x^4 + 0.117188 x^3 + 0.0439453 x^2 + 0.00976563 x + 0.000976563$$"
   ]
  },
  {
   "cell_type": "markdown",
   "metadata": {},
   "source": [
    "### Puasono skirstinys"
   ]
  },
  {
   "cell_type": "markdown",
   "metadata": {},
   "source": [
    "\n",
    "Atakamos dykumoje lietus pasirodo vienąsyk per 100 metų. Kokia tikimybė, kad lietus per 100 metų pasirodys $k = 0, 1, 2, 3, 4, 5, 6$ kartus?\n",
    "\n",
    "Pagal Niutono binominio skirstinio modelį, atsakymai būtų: \n",
    "* $P(X=0)=C^0_{100}\\Big(\\frac{1}{100}\\Big)^0\\Big(\\frac{99}{100}\\Big)^{100} = 0.36603$\n",
    "* $P(X=1)=C^1_{100}\\Big(\\frac{1}{100}\\Big)^1\\Big(\\frac{99}{100}\\Big)^{99} = 0.36973$\n",
    "* $P(X=2)=C^2_{100}\\Big(\\frac{1}{100}\\Big)^2\\Big(\\frac{99}{100}\\Big)^{98} = 0.18486$\n",
    "* $P(X=3)=C^3_{100}\\Big(\\frac{1}{100}\\Big)^3\\Big(\\frac{99}{100}\\Big)^{97} = 0.061$\n",
    "* $P(X=4)=C^4_{100}\\Big(\\frac{1}{100}\\Big)^4\\Big(\\frac{99}{100}\\Big)^{96} = 0.01494$\n",
    "* $P(X=5)=C^5_{100}\\Big(\\frac{1}{100}\\Big)^5\\Big(\\frac{99}{100}\\Big)^{95} = 0.0029$\n",
    "* $P(X=6)=C^6_{100}\\Big(\\frac{1}{100}\\Big)^6\\Big(\\frac{99}{100}\\Big)^{94} = 0.00046$"
   ]
  },
  {
   "cell_type": "markdown",
   "metadata": {},
   "source": [
    "Tačiau šiuos rezultatus su paprastu kalkuliatoriumi atlikti yra sudėtinga, ypač, kai $k$ yra didesni."
   ]
  },
  {
   "cell_type": "code",
   "execution_count": 62,
   "metadata": {},
   "outputs": [
    {
     "data": {
      "text/plain": [
       "[0.36603, 0.36973, 0.18486, 0.061, 0.01494, 0.0029, 0.00046]"
      ]
     },
     "execution_count": 62,
     "metadata": {},
     "output_type": "execute_result"
    }
   ],
   "source": [
    "from scipy.special import comb\n",
    "[round(comb(100, i, exact=True)*(0.01**i)*0.99**(100-i), 5) for i in range(7)]"
   ]
  },
  {
   "cell_type": "markdown",
   "metadata": {},
   "source": [
    "Norint supaprastinti skaičiavimus buvo pasiremta formule $\\displaystyle\\lim_{n\\to \\infty} \\Big(1+\\frac{1}{n}\\Big)^n = e$ ir išvestas artinys, vadinamas Puasono skirstiniu:\n",
    "$$P(X=k) =\\frac{\\lambda^ke^{-\\lambda}}{k!}$$\n",
    "\n",
    "Modelis tas pats: eksperimentas yra kartojamas $n$ kartų. Reikia rasti tikimybę, kad palanki baigtis (įvykis) įvyks $k$ kartų. Tik vietoj tikimybės $p$ yra duodama, kad eksperimentas vidutiniškai palankiai baigiasi $\\lambda$ kartų, jei jis pakartojamas $n$ kartų.\n",
    "\n",
    "$\\begin{cases} \n",
    "\\lambda \\to \\text{ vidutinis palankių įvykių skaičius po $n$ eksperimentų} \\\\  \n",
    "k \\to \\text{ kiek kartų įvyks palankus įvykis}\\\\\n",
    "n \\to \\text{ kiek kartų kartojamas eksperimentas}\\\\\n",
    "P(X=k) \\to \\text{ tikimybė, kad įvykis įvyko $k$ kartų}\\\\\n",
    "e \\to \\text{konstanta 2.718281828}\n",
    "\\end{cases}$"
   ]
  },
  {
   "cell_type": "markdown",
   "metadata": {},
   "source": [
    "Taikant šią formulę gautųsi jau kitokie, apytiksliai atsakymai:"
   ]
  },
  {
   "cell_type": "code",
   "execution_count": 38,
   "metadata": {},
   "outputs": [
    {
     "data": {
      "text/plain": [
       "[0.36788, 0.36788, 0.18394, 0.06131, 0.01533, 0.00307, 0.00051]"
      ]
     },
     "execution_count": 38,
     "metadata": {},
     "output_type": "execute_result"
    }
   ],
   "source": [
    "import numpy as np\n",
    "l=1\n",
    "[round(l**i*(np.e**(-l))/np.prod(np.arange(1,i+1)), 5) for i in range(0,7)]"
   ]
  },
  {
   "cell_type": "markdown",
   "metadata": {},
   "source": [
    "## Sąlyga 1\n",
    "Padaryti grubią rašybos klaidą viename knygos puslapyje tikimybė lygi 0.03. Koks tikėtiniausias klaidų skaičius 161 puslapių knygoje?\n",
    "\n",
    "**Pirmas būdas - brutal force** (visų variantų perrinkimas) \n",
    "\n",
    "Pagal Binominio skirstinio modelį, tikimybės, kad per visą knygą yra 0, 1, 2, 3, 4, 5, 6 klaidos būtų: \n",
    "* $P(X=0)=C^0_{161}\\cdot 0.03^0\\cdot 0.97^{161} = 0.00742$\n",
    "* $P(X=1)=C^1_{161}\\cdot 0.03^1\\cdot 0.97^{160} = 0.03693$\n",
    "* $P(X=2)=C^2_{161}\\cdot 0.03^2\\cdot 0.97^{159} = 0.09138$\n",
    "* $P(X=3)=C^3_{161}\\cdot 0.03^3\\cdot 0.97^{158} = 0.14979$\n",
    "* $P(X=4)=C^4_{161}\\cdot 0.03^4\\cdot 0.97^{157} = 0.18299$\n",
    "* $P(X=5)=C^5_{161}\\cdot 0.03^5\\cdot 0.97^{156} = 0.17771$\n",
    "* $P(X=6)=C^6_{161}\\cdot 0.03^6\\cdot 0.97^{155} = 0.1429$\n",
    "\n",
    "Va grafikas, kuris parodo šias tikimybes:"
   ]
  },
  {
   "cell_type": "code",
   "execution_count": 58,
   "metadata": {},
   "outputs": [
    {
     "data": {
      "text/plain": [
       "[<matplotlib.lines.Line2D at 0x2059b6ce400>]"
      ]
     },
     "execution_count": 58,
     "metadata": {},
     "output_type": "execute_result"
    },
    {
     "data": {
      "image/png": "[encoded data removed]",
      "text/plain": [
       "<Figure size 432x288 with 1 Axes>"
      ]
     },
     "metadata": {
      "needs_background": "light"
     },
     "output_type": "display_data"
    }
   ],
   "source": [
    "plt.scatter(range(7), [0.00742, 0.03693, 0.09138, 0.14979, 0.18299, 0.17771, 0.1429])\n",
    "plt.plot(range(7), [0.00742, 0.03693, 0.09138, 0.14979, 0.18299, 0.17771, 0.1429])"
   ]
  },
  {
   "cell_type": "markdown",
   "metadata": {},
   "source": [
    "Didžiausią tikimybę turi 4 klaidos."
   ]
  },
  {
   "cell_type": "markdown",
   "metadata": {},
   "source": [
    "**Antras būdas - pasiremti viena išvada**"
   ]
  },
  {
   "cell_type": "markdown",
   "metadata": {},
   "source": [
    "Bernulio eksperimento išvada: tikėtiniausiai baigčių skaičiui $k_0$, kai atliekama $n$ eksperimentų, egzistuoja įvertis. Labiausiai tikėtina Bernulio eksperientų baigtis yra vadinama moda. Ją galima rasti pagal formulę:\n",
    "\n",
    "$np-q\\le k_0 \\le np+p$"
   ]
  },
  {
   "cell_type": "markdown",
   "metadata": {},
   "source": [
    "Įstatę reikšmes $p = 0.03, q=0.97, n=161$ gauname sprendinį:"
   ]
  },
  {
   "cell_type": "markdown",
   "metadata": {},
   "source": [
    "$161\\cdot 0.03 - 0.97 \\le k_0 \\le 161\\cdot 0.03 + 0.03$\n",
    "\n",
    "$3.86 \\le k_0 \\le 4.86$\n",
    "\n"
   ]
  },
  {
   "cell_type": "markdown",
   "metadata": {},
   "source": [
    "Atsakymas: $k_0=4$"
   ]
  },
  {
   "cell_type": "markdown",
   "metadata": {},
   "source": [
    "## Sąlyga 2\n",
    "\n",
    "Studentai įskaitai gauti turi atsakyti ne mažiau kaip 3 klausimus iš 5. Kokia tikimybė, kad studentas gaus įskaitą, jei jis iš 15 pateiktų klausimų pasiruošė tik 10 klausimų?"
   ]
  },
  {
   "cell_type": "markdown",
   "metadata": {},
   "source": [
    "**Sprendimas**\n",
    "\n",
    "\n",
    "\n",
    "* $P(X=3) = \\displaystyle C^3_{5}\\cdot \\Big(\\frac{2}{3}\\Big)^3\\cdot \\Big(\\frac{1}{3}\\Big)^2 = 10\\cdot\\frac{8}{27}\\cdot\\frac{1}{9}=\\frac{80}{243}$\n",
    "* $P(X=4) = \\displaystyle C^4_{5}\\cdot \\Big(\\frac{2}{3}\\Big)^4\\cdot \\Big(\\frac{1}{3}\\Big)^1 = 5\\cdot\\frac{16}{81}\\cdot\\frac{1}{3}=\\frac{80}{243}$\n",
    "* $P(X=5) = \\displaystyle C^5_{5}\\cdot \\Big(\\frac{2}{3}\\Big)^5\\cdot \\Big(\\frac{1}{3}\\Big)^0 = 1\\cdot\\frac{32}{243}\\cdot\\frac{1}{1}=\\frac{32}{243}$\n",
    "\n",
    "Studentas gali atsakyti į 3, 4 arba 5 klausimus. Atsakymas - tikimybė $P(K\\ge 3) = \\displaystyle \\frac{80}{243} + \\frac{80}{243} + \\frac{32}{243} = \\frac{192}{243}$"
   ]
  },
  {
   "cell_type": "markdown",
   "metadata": {},
   "source": [
    "## Sąlyga 3. \n",
    "Tikimybė, kad krepšininkas atskiru metimu įmes baudą lygi 0.8. Varžybu metu jis meta 4 baudas. Kam lygi tikimybė, kad jis įmes ne mažiau, nei 3 baudas:"
   ]
  },
  {
   "cell_type": "markdown",
   "metadata": {},
   "source": [
    "**Pirmas būdas.**\n",
    "\n",
    "Rasime baigčių xxx-, xx-x,x-xx,-xxx, xxxx tikimybes: \n",
    "    \n",
    "* $P(xxx-)=0.8^3\\cdot 0.2$, $P(xx-x)=0.8^3\\cdot 0.2$, $P(x-xx)=0.8^3\\cdot 0.2$, $P(-xxx)=0.8^3\\cdot 0.2$\n",
    "* $P(xxx-)=0.8^4$\n",
    "\n",
    "Atsakymas: $4\\cdot 0.8^3\\cdot 0.2 + 0.8^4$\n",
    "\n",
    "**Antras būdas.** \n",
    "\n",
    "Sukonstruoti binomus su tikimybe $p=0.8$ atvejams $(k=3, n=4)$, $(k=4, n=4)$. \n",
    "Atsakymas: $C^3_4\\cdot 0.8^3\\cdot 0.2 + C^4_4\\cdot 0.8^4\\cdot 0.2^0$"
   ]
  },
  {
   "cell_type": "markdown",
   "metadata": {},
   "source": [
    "## Sąlyga 4\n",
    "Darbo kabinete yra 5 dienos šviesos lempos. Tikimybė, kad per mėnesį lempa perdegs yra $\\displaystyle\\frac{1}{5}$. Kam lygi tikimybė, kad per mėnesį perdegs ne daugiau, nei dvi lempos?"
   ]
  },
  {
   "cell_type": "markdown",
   "metadata": {},
   "source": [
    "**Pirmas būdas.**\n",
    "\n",
    "Rasime baigčių tikimybes\n",
    "* (xx---, x-x--, x--x-, x---x, -xx--, -x-x-, -x--x, --xx-, --x-x, ---xx)\n",
    "* (x----, -x---, --x--, ---x-, ----x)\n",
    "* (-----) \n",
    "\n",
    "Kiekviena baigtis pirmame variante turi tikimybę $0.2^2\\cdot 0.8^3$, o variantų yra 10.\n",
    "\n",
    "Kiekviena baigtis antrame variante turi tikimybę $0.2\\cdot 0.8^4$, o variantų yra 5.\n",
    "\n",
    "Trečios varianto tikimybė $0.8^5$.\n",
    "\n",
    "Atsakymas: $10\\cdot 0.2^2\\cdot 0.8^3 + 5\\cdot 0.2^1\\cdot 0.8^4 + 0.2^0\\cdot 0.8^5$\n",
    "\n",
    "**Antras būdas.** \n",
    "\n",
    "Sukonstruoti binomus su tikimybe $p=0.2$ atvejams $(k=2, n=5)$, $(k=1, n=5)$, $(k=0, n=5)$. \n",
    "\n",
    "Atsakymas: $C^2_5\\cdot 0.2^2\\cdot 0.8^3 + C^1_5\\cdot 0.2^1\\cdot 0.8^4 + C^0_5\\cdot 0.2^0\\cdot 0.8^5$"
   ]
  }
 ],
 "metadata": {
  "kernelspec": {
   "display_name": "Python 3",
   "language": "python",
   "name": "python3"
  },
  "language_info": {
   "codemirror_mode": {
    "name": "ipython",
    "version": 3
   },
   "file_extension": ".py",
   "mimetype": "text/x-python",
   "name": "python",
   "nbconvert_exporter": "python",
   "pygments_lexer": "ipython3",
   "version": "3.8.3"
  }
 },
 "nbformat": 4,
 "nbformat_minor": 4
}
