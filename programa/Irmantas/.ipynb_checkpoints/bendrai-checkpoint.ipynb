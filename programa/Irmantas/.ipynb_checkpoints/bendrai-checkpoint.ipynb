{
 "cells": [
  {
   "cell_type": "markdown",
   "metadata": {},
   "source": [
    "## Matematika - ir vėl...\n",
    "\n",
    "Irmantas - studentas, kurį kankina klausimas, kaip išlaikyti matematikos egzaminus. Matematika, kaip ir daugeliui jo grupiokų, kelia stresą, nes neaišku, kokių mąstymo savybių reikia, norint gauti patenkinamą pažymį. Laikas iki egzamino senka, kursas darosi vis sudėtingesnis, tad streso vis daugėja.\n",
    "\n",
    "Minėta situacija būdinga daugybei Lietuvos studentų, turinčių reikalų su aukštąja matematika. Tarp mokyklinės ir aukštosios matematikos yra per didelis šuolis, kuriam būsimi studentai nėra paruošiami: norint suprasti aukštąją matematiką neužtenka vien tokių mąstymo savybių, kurių reikėjo norint išlaikyti matematikos brandos egzaminą. Tai - labai didelė švietimo problema.\n",
    "\n",
    "Šiame tekste pasistengsiu kuo paprasčiau papasakoti apie mąstymą, kuris būtų produktyvus norint pasiekti gerų rezultatų tiek mokyklinėje, tiek aukštojoje matematikoje.\n",
    "\n",
    "## Kaip išmokti spręsti uždavinius?\n",
    "\n",
    "![](memprocesses.PNG)\n",
    "\n",
    "### Atminties teorijos taikymas matematikos mokymesi\n",
    "\n",
    "Perkrova įvyksta, jei darbinėje atmintyje bandome saugoti per daug\n",
    "informacijos. Krūvio sumažinimas - rėmimasis tuo, ką jau mokame.\n",
    "\n",
    "* **Ar verta mokytis daugybos lentelę?**\n",
    "Mokant daugybos lentelę darbinės atminties krūvį galime sumažinti $43 × 7 = 280 + 21 = 301$, todėl informacijos apdorojimas\n",
    "greitesnis yra pakankamai mažos apimties, kad būtų galima mintinai gauti atsakymą. Tuo tarpu, jei užmirštume $3\\times 7 = 21$, tai galėtume pasakyti, kad \n",
    "$43 × 7 = 280 + 3\\times 7$, tačiau informacijos būtų per daug norint mintinai užbaigti procesą (reikėtų skaičiuotuvo, popieriaus). \n",
    "* **Kaip sumažinti žioplų klaidų savo sprendimuose?**\n",
    "Trumpalaikis sprendimas: sprendimą stengtis suskaidyti į atskiras dalis, į kiekvieną jų įtraukiant laiką rašymui ir pasitikrinimui. Ilgalaikis sprendimas: praktikuotis, kol sprendimas tampa savaiminiu procesu\n",
    "* **Kokiu būdu mokytis spręsti, norint kuo greičiau išmokti?**\n",
    "Iš pradžių patiriame išspręsto uždavinio efektą. T.y. nagrinėti išspręstą uždavinį yra produktyviau, nei spręsti pačiam. \n",
    "Po to patiriame kompetencijos pasikeitimo efektą - negalime sparčiai daryti progreso naujos informacijos įsisavinime, kai vien tik skaitom sprendimus, todėl spręsti pačiam tampa būtina.\n",
    "\n",
    "### Kas įeina į matematinį supratimą?\n",
    "* Objektų savybių pažinimas: vizuali ar dinamiškai vizuali informacija, gebėjimas atskirti objektų, taisyklių, situacijų, savybes, panašumus, skirtumus. Taip pat matematinių situacijų apibūdinimas naudojant vis platesnę kalbą.\n",
    "* Operacijų savybių pažinimas: procesų darymas, kol tai tampa atminties neapkraunančiu veiksmu. Jis reikalingas, kad informacija pereitų (gal būt kelis) kompresijos etapus, kurie reikalingi norint medžiagą suprasti pilnai ir pasitikėti.\n",
    "\n",
    "### Iš ko susideda sugebėjimas mąstyti matematiškai?\n",
    "* Faktinės žinios - daugybos lentelė, veiksmų rezultatai, mintinai žinomos sąvokos, taisyklės, formulės.\n",
    "* Sąvokinės žinios - gebėjimas operuoti talpesnėmis atminties struktūromis, dažniausiai suprantamomis kaip atskiros matematinės sąvokos, sprendimų bendri bruožai ir kt. Šis gebėjimas reikalingas tam, kad pavyktų sugalvoti uždavinių sprendimus tais atvejais, kai sprendimo būdai nebuvo pristatyti pamokoje.\n",
    "* Procedūrinės žinios - vien gebėjimas taikyti procedūras, žingsnis po žingsnio.\n",
    "* Metakognityvinės žinios - bendras suvokimas apie mąstymo procesus bei uždavinių sprendimo intuicija.\n",
    "\n",
    "### Kodėl nesigauna mokytis matematikos taip kaip kitų dalykų?\n",
    "Tai sudėtingas klausimas, į kurį norint atsakyti, galima remtis daugybe požiūrių ir parašyti daugybę mokslinių straipsnių. Pateiksiu du man būdingus požiūrius.\n",
    "\n",
    "**Požiūris A.** Matematikos pamokose yra naudojami klaidingi mokymo metodai, kai į smegeninę krauname kuo daugiau informacijos. Jie nesiskiria nuo kitų dalykų mokymo: laikoma, kad matematikos mokėjimas susideda iš:\n",
    "\n",
    "* įsiminimas\n",
    "* supratimas\n",
    "* taikymas\n",
    "* analizė\n",
    "* vertinimas\n",
    "* kūrimas\n",
    "\n",
    "Toks skirstymas laikomas [Blumo taksonomija](https://g.co/kgs/M9Qu5p), kurią pedagogai taiko mokydami įvairius dalykus. Pagal šią [facebook diskusiją](https://www.facebook.com/rimas.norvaisa/posts/1964118053816795) tai būtų tarsi akiniai skirti žiūrėti į tolį. Bet norint mokytis matematiką reiktų akinių skaitymui. Turima mintyje, reiktų užtikrinti, kad būtų kreipiamas dėmesys į anksčiau minėtas mokėjimo savybes:\n",
    "\n",
    "* Faktinės žinios\n",
    "* Sąvokinės žinios\n",
    "* Procedūrinės žinios\n",
    "* Metakognityvinės žinios\n",
    "\n",
    "Mokykloje didžiausias dėmesys tenka procedūrinėms žinioms, tačiau jų nepakanka norint pasiekti aukštų rezultatų mokyklinėje matematikoje.\n",
    "\n",
    "**Požiūris B.** \n",
    "\n",
    "* Kiekvienos matematinės temos supratimas privalo pereiti atskirus supratimo lygmenis.\n",
    "* Kiekvienas perėjimas galimas tik tada, kai smegenyse gimsta schema, leidžianti įsiminti informaciją talpesnėmis atminties struktūromis. Tokios talpesnės struktūros susikonstravimas galvoje vadinamas žinių kompresija. \n",
    "* Žinių kompresija įmanoma tik sąveikaujant dviems mokymosi metodams: kategorizacijai ir enkapsuliacijai. Pagal **požiūrį A** kategorizacija - tai sąvokinių žinių analogas, o enkapsuliacija - procedūrinių. Tiksliau: kategorizacija - tai objektų savybių pažinimas, o enkapsuliacija - operacijų savybių pažinimas [šie du dalykai taip pat buvo paaiškinti pastraipoje ,,Kas įeina į matematinį supratimą?\"]\n",
    "* Matematikos mokymasis sudėtingesnis už kitų dalykų, nes jai būdingas itin aukštas poreikis kompresuoti žinias. Taip pat galimas daiktas, kad kiekviena kompresija pareikalauja kur kas didesnio mąstymo bruožų spektro, nei kiti dalykai. Vis dėlto, nors šie bruožai gali pasirodyti gana skirtingi, tačiau šiame **požiūryje B** siūloma kiekvieną iš jų priskirti tik kategorizacijai arba enkapsuliacijai. Pagrindinė mokyklinės matematikos problema - per mažas dėmesys mokymuisi kategorizacijos būdu.\n",
    "* Remiantis šiuo **požiūriu B** mokyklinės matematikos sunkumą paaiškinti ir kitaip: ji labai plati, bet sekli. Platumas pasireškia mąstymo bruožų ir turinio gausa, o seklumas - per mažu įsigilinimu į jį: kiekvienos temos supratimo lygmenų moksleiviai pereina nepakankamai. \n",
    "\n",
    "**Apibendrinimas.** Tiek pagal požiūrį A, tiek pagal požiūrį B, pagrindiniai sunkumai matematikoje kyla dėl per mažo dėmesio sąvokoms ir aiškinimosi ne tik kaip spręsti uždavinius, bet ir kodėl jie taip sprendžiami. \n",
    "\n",
    "Daugiau informacijos apie **požiūrį B** pateikiama [Mokslo Populiarinimo Konkurso 2021m. rašinyje](http://www.konstanta.lt/2021/04/kodel-mokykline-matematika-tokia-sudetinga-palyginus-su-kitais-mokslais-mokslo-populiarinimo-konkursas/).\n",
    "\n",
    "### Kaip reikėtų žiūrėti į kiekvieną uždavinį\n",
    "\n",
    "Sprendžiant bet kurį uždavinį, taikome krūva taisyklių, kurias mokame arba nemokame. Taisykles, kurių nemokame, būtų gerai įtraukti į atskirą sąrašą ir skirti papildomą laiką su jomis praktikuotis. Pavyzdžiui, jei mums reiktų suprasti, kodėl $(a^n)^m$ lygu $a^{nm}$, tai dalį sprendimo suprastume, dalį ne. Vietas, kurių nesuprantame, reiktų žymėti raudona spalva ir joms skirti atskiro laiko įsisavinimui. Apačioje - pilnas aiškinimo pavyzdys su visais fragmentais.\n",
    "\n",
    "<img src=\"neuro_output.png\" width=\"800\">"
   ]
  },
  {
   "cell_type": "markdown",
   "metadata": {},
   "source": [
    "## Resursai\n",
    "* [Analizės vadovėlis su sprendimais](https://tutorial.math.lamar.edu)\n",
    "* [Mano bandymas apibendrinti ribų uždavinius](ribos.pdf)\n",
    "* Patarimai kaip mokytis matematiką ir kitus dalykus (reikia nuorodos?)\n",
    "* [grafikų vaizdavimas online](https://www.desmos.com/calculator)\n",
    "* [WolframAlpha skaičiuoklė](https://www.wolframalpha.com)\n",
    "* [Lopitalio užrašai](https://tutorial.math.lamar.edu/classes/calci/lhospitalsrule.aspx?fbclid=IwAR29BIo_jQmkgHpznsn08l8B72GguwjCu4XfcwiKavbuDeEXt5eIgZ67z70)"
   ]
  },
  {
   "cell_type": "markdown",
   "metadata": {},
   "source": [
    "## Kaip naudotis WolframAlpha skaičiuokle\n",
    "* [$\\frac{115.94 - 120}{12.277 / 4}$](https://www.wolframalpha.com/input/?i=%28115.94+-+120%29%2F%2812.277+%2F+4%29)\n",
    "* [$\\frac{(10 - 10.5)^2 + (7 - 10.5)^2 + (14 - 10.5)^2 + (12 - 10.5)^2 + (11 - 10.5)^2 + (9-10.5)^2}{5}$](https://www.wolframalpha.com/input/?i=%28%2810+-+10.5%29%5E2+%2B+%287+-+10.5%29%5E2+%2B+%2814+-+10.5%29%5E2+%2B+%2812+-+10.5%29%5E2+%2B+%2811+-+10.5%29%5E2+%2B+%289-10.5%29%5E2%29%2F5)\n",
    "* [$\\sqrt{6}$](https://www.wolframalpha.com/input/?i=6%5E0.5)\n",
    "* [$\\displaystyle\\int\\frac{2x}{x^2+1}\\mathrm{d}x$](https://www.wolframalpha.com/input/?i=integral+of+2x%2F%28x%5E2%2B1%29)\n",
    "* [$\\displaystyle\\lim_{x\\to 0} \\frac{1-\\cos x^2}{\\arcsin x^2}$](https://www.wolframalpha.com/input/?i=limit+of+%281-cos+x%5E2%29%2F%28arcsin+x%5E2%29+as+x->0)"
   ]
  },
  {
   "cell_type": "markdown",
   "metadata": {},
   "source": [
    "## Kaip mokytis aukštąją matematiką (papildomas straipsnis anglų k.)\n",
    "\n",
    "* Straipsnis pateikiamas [anglų kalba](https://tutorial.math.lamar.edu/Extras/StudyMath/HowToStudyMath.aspx). Jo autorius - dėstytojas, parengęs [vienus geriausių](https://tutorial.math.lamar.edu) aukštosios matematikos konspektų pasaulyje. "
   ]
  }
 ],
 "metadata": {
  "kernelspec": {
   "display_name": "Python 3",
   "language": "python",
   "name": "python3"
  },
  "language_info": {
   "codemirror_mode": {
    "name": "ipython",
    "version": 3
   },
   "file_extension": ".py",
   "mimetype": "text/x-python",
   "name": "python",
   "nbconvert_exporter": "python",
   "pygments_lexer": "ipython3",
   "version": "3.8.3"
  }
 },
 "nbformat": 4,
 "nbformat_minor": 4
}
