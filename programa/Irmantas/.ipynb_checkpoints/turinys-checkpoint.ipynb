{
 "cells": [
  {
   "cell_type": "markdown",
   "metadata": {},
   "source": [
    "Čia įkelsiu viską, kas tik buvo dokumentuota per užsiėmimus\n",
    "\n",
    "* [Diskusijos, kaip mokytis aukštąją matematiką](bendrai.ipynb)\n",
    "\n",
    "* [Analizės kurso 1 dalis: ribos](analize.ipynb)\n",
    "\n",
    "* [Analizės kurso 2 dalis: išvestinės ir integralai](analize_plius.ipynb)\n",
    "\n",
    "* [Statistikos kurso 1 dalis: Bernulio eksperimentai ir Binominis skirstinys](Statistika.ipynb)\n",
    "\n",
    "* [Statistikos kurso 2 dalis: Kiti skirstiniai ir jų savybės](Statistika2.ipynb)"
   ]
  },
  {
   "cell_type": "code",
   "execution_count": null,
   "metadata": {},
   "outputs": [],
   "source": []
  }
 ],
 "metadata": {
  "kernelspec": {
   "display_name": "Python 3",
   "language": "python",
   "name": "python3"
  },
  "language_info": {
   "codemirror_mode": {
    "name": "ipython",
    "version": 3
   },
   "file_extension": ".py",
   "mimetype": "text/x-python",
   "name": "python",
   "nbconvert_exporter": "python",
   "pygments_lexer": "ipython3",
   "version": "3.8.3"
  }
 },
 "nbformat": 4,
 "nbformat_minor": 4
}
