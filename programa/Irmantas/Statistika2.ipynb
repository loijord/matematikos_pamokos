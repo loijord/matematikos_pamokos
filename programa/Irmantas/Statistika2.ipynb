{
 "cells": [
  {
   "cell_type": "markdown",
   "metadata": {},
   "source": [
    "## Ką mokomės\n",
    "\n",
    "|||\n",
    "|:----:|:-----:|\n",
    "|![](st_5b.jpg)|![](st_6b.jpg)|"
   ]
  },
  {
   "cell_type": "markdown",
   "metadata": {},
   "source": [
    "![](st_7k.jpg)\n",
    "\n",
    "![](st_8k.jpg)\n",
    "\n",
    "![](st_9k.jpg)"
   ]
  },
  {
   "cell_type": "markdown",
   "metadata": {},
   "source": [
    "### Problemos...\n",
    "\n",
    "Statistikos namų darbų iš įvairių skirstinių savybių atlikti nesigavo nei Irmantui, nei man net ir turint panašių uždavinių sprendimus. Labai trūko sąvokų supratimo ir tik po kurio paaiškėjo, kad yra atskira teorinė medžiaga, kur sąvokos visai neblogai paaiškintos, pateikta pavyzdžių. Irmantui šie paaiškinimai atrodė per sudėtingi, o aš tvirtinau, kad juos galima suprasti laikantis tam tikros nuoseklios matematinio teksto skaitymo struktūros. Pabandysiu išdėstyti tą pačią medžiagą taip, kad geriau atsispindėtų procesai, kaip ją reiktų studijuoti. "
   ]
  },
  {
   "cell_type": "markdown",
   "metadata": {},
   "source": [
    "### Apibrėžimai: dydis ir matas\n",
    "Matematiniai apibrėžimai pasižymi tuo, kad galima vienareikšmiškai patikrinti, ar koks nors objektas juos tenkina. Geras jų supratimas yra būtina mokymosi dalis! Daugumą matematinių objektų sudaro žymėjimas, sąvokos apibrėžimas ir vaizdinys. Skaitant aukštosios matematikos tekstą turime nuolat save tikrinti, ar gerai suprantame, kaip jie susiję tarpusavyje.\n",
    "\n",
    "* **Dydis** - tai savybė, kuriai priskiriamas skaičius pasirenkant matavimo vienetą. \n",
    "\n",
    "Pvz. jėga yra dydis, matuojamas niutonais, o norint pakelti kibirą vandens man reikia apie $100N$ jėgos. Mano kambario plotas $12m^2$ - tai vidutinio didumo kambarys daugiabutyje. Temperatūra gali būti vandens savybė (dydis): $20^oC$ vanduo yra per šaltas plauti indams. Matome, kad eilę dydžių galime suvokti jusliškai. Toks įsiminimo būdas - vienas efektyviausių.\n",
    "\n",
    "Kitą dalį dydžių jusliškai patirti negalime - padeda tik samprotavimas. Pvz. kaip pasikeis kubo tūris, jei jo kraštinę padidinsime du kartus? Reikia samprotauti, įjungti vaizduotę, pamatyti vaizdinius. Tiesiogiai pajusti sunku. Tinkamo įsiminimo priemonė - mintinis eksperimentas, kurį turime atlikti.\n",
    "\n",
    "* **Matas** - tai aibės savybė, tenkinanti šias ypatybes:\n",
    "  * tuščios aibės matas lygus 0\n",
    "  * bet kurios aibės matas negali būti neigiamas\n",
    "  * adityvumo savybė: jei aibės nesusikerta, tai jų sąjungos matas lygus atskirų matų sumai\n",
    "  \n",
    "Iš esmės matą galime laikyti aibės dydžiu, kuris negali būti neigiamas. Tik prisideda kitokiems dydžiams nebūdinga adityvumo savybė. Norint pajusti šią savybę, geriausia įsivaizduoti plotus. Tai yra dažniausiai gyvenime pasitaikantis mato pavyzdys. Tokiu atveju paskutinę savybę lengva perfrazuoti į suvokiamesnę: **jei figūros A ir B neturi bendrų taškų, tai jų bendras (sąjungos) plotas lygus atskirų A ir B plotų sumai**: $S(A\\bigcup B) = S(A) + S(B)$"
   ]
  },
  {
   "cell_type": "markdown",
   "metadata": {},
   "source": [
    "### Mato taikymo pavyzdys\n",
    "Tegu duota, kad mėlyna kreive apriboto stačiakampio plotas lygus 1, o abu trikampiai $B$ ir $C$ lygūs. Raskite užtušuotos trapecijos plotą. ![](matas.png)\n",
    "\n",
    "**Sprendimas.** Taikysim mato savybes, analogiškas plotų savybėms: $S(A\\bigcup C)=S(A)+S(C)=S(A)+S(B)=S(A\\bigcup B)=1$"
   ]
  },
  {
   "cell_type": "markdown",
   "metadata": {},
   "source": [
    "### Apibrėžimai: tikimybė ir įvykis\n",
    "Įvedus teoriją apie matus atsirado lankstesni būdai aprašyti tikimybėms, negu buvo lig tol. Aibės, kurioms skaičiuojami tikimybiniai matai, įprastai laikomos įvykiais. Taip, kaip plotu laikėme geometrinės figūros matą, taip tikimybe laikome įvykio matą.\n",
    "\n",
    "* **Tikimybė** - tai matas, kurio reikšmė lygi 1, kai aibė yra pilna. \n",
    "\n",
    "* **Įvykis** - tai aibė, sudaryta iš tam tikrų eksperimento baigčių. \n",
    "\n",
    "Pvz. kauliuko akučių skaičių aibės $A=\\{1, 3, 4\\}$ ir $B=\\{2, 6\\}$. Be to, tokių aibių sąjungą $A\\bigcup B = \\{1, 2, 3, 4, 6\\}$ galime drąsiai laikyti dar vienu įvykiu.\n",
    "\n",
    "Tarkime $P$ yra tikimybė, kad po vieno kauliuko ridenimo įvyks tam tikras įvykis $C$. Jei $C=\\{1, 2, 3, 4, 5, 6\\}$, tai galime šią aibę laikyti pilnąja ir *negriežtai* žymėti: $P(\\{1, 2, 3, 4, 5, 6\\}) = 1$.\n",
    "\n",
    "### Apibrėžimai: elementarusis įvykis ir atsitiktinis dydis\n",
    "* **Elementarusis įvykis** - tai viena kažkuri eksperimento baigtis $\\omega$.\n",
    "\n",
    "* **Atsitiktinis dydis** - tai atitiktis, pagal kurią eksperimento baigčiai $\\omega$ priskiriamas skaičius $X(\\omega)$.\n",
    "\n",
    "Kaip pasiekti, kad žymėjimas $P(\\{1, 2, 3, 4, 5, 6\\}) = 1$ būtų griežtas? Vienas iš būdų įvesti griežtumą yra susitarti dėl tokios atitikties:\n",
    "\n",
    "|$\\omega$|$X(\\omega)$|\n",
    "|:---:|:---:|\n",
    "|baigtis, kai iškrito 1|$1$|\n",
    "|baigtis, kai iškrito 2|$2$|\n",
    "|baigtis, kai iškrito 3|$3$|\n",
    "|baigtis, kai iškrito 4|$4$|\n",
    "|baigtis, kai iškrito 5|$5$|\n",
    "|baigtis, kai iškrito 6|$6$|\n",
    "\n",
    "Įvykį, kurio tikimės, galime aprašyti: $X(\\omega)\\in \\{1, 2, 3, 4, 5, 6\\}$. \n",
    "\n",
    "Dabar jau galime lygybę su tikimybe užrašyti griežtai: $P(X(\\omega) \\in \\{1, 2, 3, 4, 5, 6\\}) = 1$. Praktikoje yra naudojami paprastesni žymėjimai tokie, kaip: \n",
    "\n",
    "$P(X \\in \\{1, 2, 3, 4, 5, 6\\}) = 1$; $P(2 \\le X < 5) = 0.5$; $P(X = 6) = 1/6$\n",
    "\n",
    "* **Atsitiktinių dydžių rūšys.** Jei priskiriami skaičiai yra iš baigtinės arba skaičios aibės, tai atsitiktinis dydis yra laikomas **diskrečiuoju**. Kitu atveju jis laikomas tolydžiuoju.\n",
    "\n",
    "Anksčiau minėtas atitikties įvedimas davė diskretųjį atsitiktinį dydį. Jei būtume matavę kauliuko svorį, gautume be galo didelį įvykių skaičių, vadinasi dydis būtų tolydusis:\n",
    "\n",
    "|$\\omega$|$$X(\\omega)$$|\n",
    "|:---:|:---:|\n",
    "|baigtis, kai svoris lygus 1gr. |$1$|\n",
    "|baigtis, kai svoris lygus 2gr. |$2$|\n",
    "|baigtis, kai svoris lygus 1.5gr. |$1.5$|\n",
    "|baigtis, kai svoris lygus 1.78913gr. |$1.78913$|\n",
    "|... |...|\n",
    "\n",
    "Tiesą sakant tikimybė $P(X=2)$ turi būti nulinė, nes niekad neįmanoma pataikyti į šį svorį be jokių paklaidų. Tolydžiojo atsitiktinio dydžio atveju $P(X=a)=0$. Tikimybės yra nelygios nuliui tik tada, jei jos apima baigtinius intervalus, pvz.,  gamintojas nurodo, kad kauliukas sveria tarp 1.9gr. ir 2.1gr. su 98% tikimybe: $P(1.9<X<2.1)=0.9$. Tačiau anstesniu diskrečiojo dydžio atveju turėtume $P(X=2) = 1/6$."
   ]
  },
  {
   "cell_type": "markdown",
   "metadata": {},
   "source": [
    "# Testo klausimai\n",
    "\n",
    "1\\. Žinomas diskrečiojo dydžio skirstinys:\n",
    "    \n",
    "|$$x_i$$| $$1$$| $$3$$| $$5$$|\n",
    "|:--:|:--:|:--:|:--:|\n",
    "|$$p_i$$| $$0.5$$| $$0.3$$| $$0.2$$|\n",
    "\n",
    "Rasti $EX$ ir $DX$\n",
    "\n",
    "**Sprendimas:** \n",
    "\n",
    "$EX = x_1p_1 + x_2p_2 + x_3p_3$; $DX = EX^2 - (EX)^2 = x_1^2p_1 + x_2^2p_2 + x_3^2p_3 - (x_1p_1 + x_2p_2 + x_3p_3)^2$\n",
    "\n",
    "**Pastaba:**\n",
    "\n",
    "Alternatyvi išraiška $DX = E(X-EX)^2=(x_1-EX)^2p_1+(x_2-EX)^2p_2+(x_3-EX)^2p_3$, bet skaičiavimuose ji nepatogi naudoti. Todėl naudoja iš jos išvestą išraišką $DX = EX^2 - (EX)^2$\n",
    "                                "
   ]
  },
  {
   "cell_type": "markdown",
   "metadata": {},
   "source": [
    "2\\. Atsitiktinio dydžio reikšmės yra $-3, 1, 3$. Apskaičiuoti šių reikšmių įgyjimo tikimybes $p_1, p_2, p_3$, jei $EX=0.2$, $DX=4.96$. Taip pat rasti: $EX^2$, $D(2X)$, $D(2-X)$.\n",
    "\n",
    "**Sprendimas:** $(x_1, x_2, x_3)=-3,1,3$ ir $\\begin{cases}p_1+p_2+p_3=1\\\\x_1p_1 + x_2p_2 + x_3p_3=0.2\\\\x_1^2p_1 + x_2^2p_2 + x_3^2p_3-(x_1p_1 + x_2p_2 + x_3p_3)^2=4.96\\end{cases} \\Rightarrow $ $\\Rightarrow \\begin{cases}p_1+p_2+p_3=1\\\\x_1p_1 + x_2p_2 + x_3p_3=0.2\\\\x_1^2p_1 + x_2^2p_2 + x_3^2p_3=5\\end{cases} \\Rightarrow \\begin{cases}p_1+p_2+p_3=1\\\\-3p_1 + p_2 + 3p_3=0.2\\\\9p_1 + p_2 + 9p_3=5\\end{cases} \\Rightarrow (p_1, p_2, p_3) = (0.3, 0.5, 0.2)$\n",
    "\n",
    "Skirstinio lentelė:\n",
    "\n",
    "|$$x_i$$| $$-3$$| $$1$$| $$3$$|\n",
    "|:--:|:--:|:--:|:--:|\n",
    "|$$p_i$$| $$0.3$$| $$0.5$$| $$0.2$$|\n",
    "\n",
    "Norint atsakyti į likusius klausimus reiks remtis savybėmis:\n",
    "  * $EX^2 = x_1^2p_1 + x_2^2p_2 + x_3^2p_3$ (jau anksčiau matyta)\n",
    "  * $DX = EX^2 - (EX)^2 = x_1^2p_1 + x_2^2p_2 + x_3^2p_3 - (x_1p_1 + x_2p_2 + x_3p_3)^2$ (jau anksčiau matyta)\n",
    "  * $D(cX) = c^2DX$ (vadinasi $D(2X)=4DX$)\n",
    "  * $D(X+Y) = DX+DY$ jei $X$ ir $Y$ nepriklausomi\n",
    "  * $D(c)$ = 0 (vadinasi $D(-X+2) = D(-X)+D(2)=D(X)+0=DX$"
   ]
  },
  {
   "cell_type": "markdown",
   "metadata": {},
   "source": [
    "3\\. Tolygusis atsitiktinis dydis pasiskirstęs intervale $[26, 47]$. Raskite $EX$, $DX$, $EX(5X+4)$, $DX(5X+4)$, $P(28\\le X \\le 35)$, $P(28\\le X \\le 35)$, $P(X=32)$.\n",
    "\n",
    "**Pastaba.** Uždavinyje kalba apie tolydų šio tolygiojo skirstinio atvejį. Kad būtų lengviau įsivaizduoti, pateiksiu diskretųjį šio skirstinio variantą\n",
    "\n",
    "|$$x_i$$| $$26$$| $$27$$| $$28$$| $$29$$| $$30$$| $$31$$| $$32$$| $$33$$| $$34$$| $$35$$| $$36$$| $$37$$| $$38$$| $$39$$| $$40$$| $$41$$| $$42$$| $$43$$| $$44$$| $$45$$| $$46$$| $$47$$|\n",
    "|:--:|:--:|:--:|:--:|:--:|:--:|:--:|:--:|:--:|:--:|:--:|:--:|:--:|:--:|:--:|:--:|:--:|:--:|:--:|:--:|:--:|:--:|:--:|\n",
    "|$$p_i$$| $$\\frac{1}{22}$$| $$\\frac{1}{22}$$| $$\\frac{1}{22}$$| $$\\frac{1}{22}$$| $$\\frac{1}{22}$$| $$\\frac{1}{22}$$|$$\\frac{1}{22}$$| $$\\frac{1}{22}$$| $$\\frac{1}{22}$$|$$\\frac{1}{22}$$| $$\\frac{1}{22}$$| $$\\frac{1}{22}$$|$$\\frac{1}{22}$$| $$\\frac{1}{22}$$| $$\\frac{1}{22}$$|$$\\frac{1}{22}$$| $$\\frac{1}{22}$$| $$\\frac{1}{22}$$|$$\\frac{1}{22}$$| $$\\frac{1}{22}$$| $$\\frac{1}{22}$$|$$\\frac{1}{22}$$|\n",
    "\n",
    "Tuo tarpu tolydusis variantas pagal skaidres būtų pateikiamas tokia išraiška: $f(x)=\\begin{cases} 0\\text{, }x\\le 25 \\\\ \\frac{1}{22}\\text{, }25< x\\le 47 \\\\ 0 \\text{, }x>47\\end{cases}$"
   ]
  },
  {
   "cell_type": "markdown",
   "metadata": {},
   "source": [
    "# Juodraštis\n",
    "### Apibrėžimai: atsitiktinio dydžio skirstinys ir pasiskirstymo funkcija, paskui tankio funkcija\n",
    "A discrete probability distribution is a probability distribution that can take on a countable number of value\n",
    "\n",
    "Kokios reikšme˙s ir su kokiomis tikimybe˙mis jos˛igyjamos,\n",
    "nurodama lentel˙eje, kuri vadinama atsitiktinio dydžio X skirstinio lentele:\n",
    "    \n",
    "Atsitiktinio dydžio X pasiskirstymo funkcija\n",
    "vadinama tikimybe˙ $F(x) = P(X<x)$\n",
    "\n",
    "Bernulio eksperimentai, Binominis skirstinys"
   ]
  },
  {
   "cell_type": "code",
   "execution_count": 53,
   "metadata": {},
   "outputs": [
    {
     "data": {
      "text/markdown": [
       "P(x)=\\begin{cases} 0 & \\text{for}\\: x \\leq -3 \\\\- \\frac{3}{x^{3}} & \\text{for}\\: x \\leq -1 \\\\0 & \\text{otherwise} \\end{cases}"
      ],
      "text/plain": [
       "<IPython.core.display.Markdown object>"
      ]
     },
     "metadata": {},
     "output_type": "display_data"
    },
    {
     "data": {
      "image/png": "[encoded data removed]",
      "text/plain": [
       "<Figure size 432x288 with 1 Axes>"
      ]
     },
     "metadata": {
      "needs_background": "light"
     },
     "output_type": "display_data"
    },
    {
     "data": {
      "text/plain": [
       "<sympy.plotting.plot.Plot at 0x1f362760490>"
      ]
     },
     "execution_count": 53,
     "metadata": {},
     "output_type": "execute_result"
    }
   ],
   "source": [
    "import sympy as sp\n",
    "from IPython.display import display, Markdown\n",
    "x = sp.symbols('x')\n",
    "Fx= sp.Piecewise((0, x <= -3), (-a/(x*x*x), x <= -1), (0, True))\n",
    "display(Markdown('P(x)='+sp.latex(Fx)))\n",
    "sp.plot(Fx)"
   ]
  },
  {
   "cell_type": "code",
   "execution_count": 54,
   "metadata": {},
   "outputs": [
    {
     "data": {
      "text/latex": [
       "$\\displaystyle \\begin{cases} 0 & \\text{for}\\: x \\leq -3 \\\\- \\frac{1}{6} + \\frac{3}{2 x^{2}} & \\text{for}\\: x \\leq -1 \\\\\\frac{4}{3} & \\text{otherwise} \\end{cases}$"
      ],
      "text/plain": [
       "Piecewise((0, x <= -3), (-1/6 + 3/(2*x**2), x <= -1), (4/3, True))"
      ]
     },
     "execution_count": 54,
     "metadata": {},
     "output_type": "execute_result"
    }
   ],
   "source": [
    "N=sp.integrate(Fx, x)\n",
    "N"
   ]
  },
  {
   "cell_type": "code",
   "execution_count": 37,
   "metadata": {},
   "outputs": [],
   "source": [
    "N = 1/sp.sqrt(2*sp.pi)*sp.exp(-x*x/2)"
   ]
  },
  {
   "cell_type": "code",
   "execution_count": 51,
   "metadata": {},
   "outputs": [
    {
     "data": {
      "image/png": "[encoded data removed]",
      "text/plain": [
       "<Figure size 432x288 with 1 Axes>"
      ]
     },
     "metadata": {
      "needs_background": "light"
     },
     "output_type": "display_data"
    },
    {
     "data": {
      "text/plain": [
       "<sympy.plotting.plot.Plot at 0x1f362981f70>"
      ]
     },
     "execution_count": 51,
     "metadata": {},
     "output_type": "execute_result"
    }
   ],
   "source": [
    "sp.plot(N)"
   ]
  },
  {
   "cell_type": "code",
   "execution_count": 39,
   "metadata": {},
   "outputs": [
    {
     "data": {
      "text/latex": [
       "$\\displaystyle \\frac{\\operatorname{erf}{\\left(\\frac{\\sqrt{2} x}{2} \\right)}}{2}$"
      ],
      "text/plain": [
       "erf(sqrt(2)*x/2)/2"
      ]
     },
     "execution_count": 39,
     "metadata": {},
     "output_type": "execute_result"
    }
   ],
   "source": [
    "sp.integrate(N, x)"
   ]
  },
  {
   "cell_type": "code",
   "execution_count": 43,
   "metadata": {},
   "outputs": [
    {
     "data": {
      "text/latex": [
       "$\\displaystyle \\frac{\\sqrt{2} e^{- \\frac{x^{2}}{2}}}{2 \\sqrt{\\pi}}$"
      ],
      "text/plain": [
       "sqrt(2)*exp(-x**2/2)/(2*sqrt(pi))"
      ]
     },
     "execution_count": 43,
     "metadata": {},
     "output_type": "execute_result"
    }
   ],
   "source": [
    "N"
   ]
  },
  {
   "cell_type": "code",
   "execution_count": 2,
   "metadata": {},
   "outputs": [
    {
     "data": {
      "text/plain": [
       "50.00000000000001"
      ]
     },
     "execution_count": 2,
     "metadata": {},
     "output_type": "execute_result"
    }
   ],
   "source": [
    "7.07106781186547524400844362104856594893792798272947597420407"
   ]
  },
  {
   "cell_type": "markdown",
   "metadata": {},
   "source": [
    "2\\. Atsitiktinio dydžio reikšmės yra $-3, 1, 2$. Apskaičiuoti šių reikšmių įgyjimo tikimybes $p_1, p_2, p_3$, jei $EX=1.1$, $EX^2=3.3$. Taip pat rasti: $DX$, $D(4X)$, $D(4+X)$.\n",
    "\n",
    "**Sprendimas:** $(x_1, x_2, x_3)=-3,1,2$ ir $\\begin{cases}p_1+p_2+p_3=1\\\\x_1p_1 + x_2p_2 + x_3p_3=1.1\\\\x_1^2p_1 + x_2^2p_2 + x_3^2p_3=3.3\\end{cases} \\Rightarrow $ $\\Rightarrow \\begin{cases}p_1+p_2+p_3=1\\\\-3p_1 + p_2 + 2p_3=1.1\\\\9p_1 + p_2 + 4p_3=3.3\\end{cases} \\Rightarrow (p_1, p_2, p_3) = (0.5, 0.4, 0.1)$\n",
    "\n",
    "Skirstinio lentelė:\n",
    "\n",
    "|$$x_i$$| $$-3$$| $$1$$| $$2$$|\n",
    "|:--:|:--:|:--:|:--:|\n",
    "|$$p_i$$| $$0.1$$| $$0.4$$| $$0.5$$|\n",
    "\n",
    "Norint atsakyti į likusius klausimus:\n",
    "  * $DX = EX^2 - (EX)^2 = 3.3-1.1^2=2.09$\n",
    "  * $D(4X) = 16DX = 33.44$\n",
    "  * $D(X+4) = DX = 2.09$"
   ]
  },
  {
   "cell_type": "markdown",
   "metadata": {},
   "source": [
    "Apie tolygųjį skirstinį intervale $[30, 42]$. Reikia spręst pagal skaidrėse išvardytas lygybes ir bendrą supratimą apie skirstinius. $(a, b) = (30, 42)$.\n",
    "\n",
    "* $EX = \\frac{a+b}{2} = 36$\n",
    "* $DX = \\frac{1}{12}(b-a) = 1$\n",
    "* $E(5X+4)=5EX+4=184$\n",
    "* $D(5X+4)=25DX = 25$\n",
    "* $P(32\\le X \\le 35) = \\frac{35-32}{42-30}=0.25$\n",
    "* $P(X=34)=0$"
   ]
  },
  {
   "cell_type": "markdown",
   "metadata": {},
   "source": [
    "Šeštas uždavinys su rutuliukais\n",
    "\n",
    "Skirstinio lentelė bus tokia:\n",
    "\n",
    "|$$x_i$$| $$x_1$$| $$x_2$$| $$x_3$$|\n",
    "|:--:|:--:|:--:|:--:|\n",
    "|$$p_i$$| $$p_1$$| $$p_2$$| $$p_3$$|\n",
    "\n",
    "Įrašius skaičius pagal situaciją:\n",
    "    \n",
    "|$$x_i$$| $$0$$| $$1$$| $$2$$|\n",
    "|:--:|:--:|:--:|:--:|\n",
    "|$$p_i$$| $$\\frac{C_2^0C_5^3}{C_7^3}$$| $$\\frac{C_2^1C_5^2}{C_7^3}$$| $$\\frac{C_2^2C_5^1}{C_7^3}$$|\n",
    "\n",
    "Apskaičiavus gaunasi: $p_1, p_2, p_3 = 10/35, 20/35, 5/35 = 2/7, 4/7, 1/7$\n",
    "\n"
   ]
  },
  {
   "cell_type": "code",
   "execution_count": 4,
   "metadata": {},
   "outputs": [
    {
     "data": {
      "text/plain": [
       "0.3932160000000002"
      ]
     },
     "execution_count": 4,
     "metadata": {},
     "output_type": "execute_result"
    }
   ],
   "source": [
    "6*0.2*0.8**5"
   ]
  },
  {
   "cell_type": "code",
   "execution_count": 6,
   "metadata": {},
   "outputs": [
    {
     "data": {
      "text/plain": [
       "0.2457600000000001"
      ]
     },
     "execution_count": 6,
     "metadata": {},
     "output_type": "execute_result"
    }
   ],
   "source": [
    "15*0.2*0.2*0.8**4"
   ]
  },
  {
   "cell_type": "code",
   "execution_count": null,
   "metadata": {},
   "outputs": [],
   "source": [
    "Šešto atsakymas: 0.2857;0.5714;0.1429"
   ]
  }
 ],
 "metadata": {
  "kernelspec": {
   "display_name": "Python 3",
   "language": "python",
   "name": "python3"
  },
  "language_info": {
   "codemirror_mode": {
    "name": "ipython",
    "version": 3
   },
   "file_extension": ".py",
   "mimetype": "text/x-python",
   "name": "python",
   "nbconvert_exporter": "python",
   "pygments_lexer": "ipython3",
   "version": "3.8.3"
  }
 },
 "nbformat": 4,
 "nbformat_minor": 4
}
