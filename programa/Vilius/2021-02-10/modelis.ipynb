{
 "cells": [
  {
   "cell_type": "markdown",
   "metadata": {},
   "source": [
    "### Modelis\n",
    "$\\hat\\mu = \\hat{p} \\pm  z_\\alpha \\sqrt{\\frac{\\hat{p}(1-\\hat{p})}{n}}$\n",
    "\n",
    "$\\displaystyle \\begin{cases} \\hat{p} \\leftarrow \\text{imties proporcija}\\\\ \n",
    "n \\leftarrow \\text{imties dydis}\\\\\n",
    "z_\\alpha \\leftarrow \\alpha \\text{ binominio skirstinio kritinė reikšmė iš lentelės pagal formulę} \\frac{1-Q}{2} \\text{surastam }\\alpha\\\\\n",
    "Q \\leftarrow \\text{garantija}\\end{cases}$"
   ]
  },
  {
   "cell_type": "code",
   "execution_count": 1,
   "metadata": {},
   "outputs": [
    {
     "data": {
      "text/plain": [
       "'0.8 ± 0.213'"
      ]
     },
     "execution_count": 1,
     "metadata": {},
     "output_type": "execute_result"
    }
   ],
   "source": [
    "import scipy.stats\n",
    "import numpy as np\n",
    "\n",
    "def evaluate(X, Q = 0.9):\n",
    "    '''Randa paklaidą su 90% garantija: 5% šansų, kad viršys \n",
    "    vidurkį + paklaidą ir 5% šansų, kad bus žemiau vidurkio - paklaida'''\n",
    "    t = scipy.stats.t.ppf((1+Q)/2, len(X)-1)\n",
    "    p = np.mean(X)\n",
    "    return f'{round(p, 3)} ± {round(t*np.sqrt(p*(1-p) / len(X)), 3)}'\n",
    "\n",
    "evaluate([1,1,1,1,0], Q=0.7)"
   ]
  }
 ],
 "metadata": {
  "kernelspec": {
   "display_name": "Python 3",
   "language": "python",
   "name": "python3"
  },
  "language_info": {
   "codemirror_mode": {
    "name": "ipython",
    "version": 3
   },
   "file_extension": ".py",
   "mimetype": "text/x-python",
   "name": "python",
   "nbconvert_exporter": "python",
   "pygments_lexer": "ipython3",
   "version": "3.8.3"
  }
 },
 "nbformat": 4,
 "nbformat_minor": 4
}
