{
 "cells": [
  {
   "cell_type": "code",
   "execution_count": 4,
   "metadata": {},
   "outputs": [],
   "source": [
    "import json\n",
    "import os\n",
    "from IPython.display import display, Markdown\n",
    "\n",
    "def read_json(file):\n",
    "    with open(file, encoding='utf-8') as fh:\n",
    "        data = json.loads(fh.read())\n",
    "    return data\n",
    "\n",
    "def document_it(clusters, branches):\n",
    "    clusters = read_json(clusters)\n",
    "    branches = read_json(branches)\n",
    "    headings = dict(zip([clusters[n][0] for n in clusters], clusters))\n",
    "    docstring = ''\n",
    "    for branch in branches:\n",
    "        if branch in headings:\n",
    "            docstring += f'\\n### {headings[branch]}\\n\\n'\n",
    "        docstring += f'* **{branch}.** {branches[branch]}\\n'\n",
    "    return docstring\n",
    "\n",
    "def show_problem(complect, id, show_solution=True):\n",
    "    problem = read_json(f'{complect}.txt')[id]\n",
    "    step = '**Užduotis.**\\n\\n' + problem[\"Sąlyga\"]\n",
    "    if show_solution: step += ('\\n\\n**Sprendimas.**\\n' + '\\n'.join([f'* {n}' for n in problem[\"Sprendimas\"]]))\n",
    "    return step\n",
    "\n",
    "def show_case(complect, id, which=1, show_solution=True):\n",
    "    skills = read_json(f'{complect}.txt')[id][\"Gebėjimai\"][which-1]\n",
    "    step = '**Uždavinio dalis ' + f\"{which}, kurioje yra {skills['Gebėjimas']}\" + '.**\\n\\n' + skills['Atitikmuo']\n",
    "    if show_solution: step += ('\\n\\n**Sprendimas.**\\n\\n' + skills['Sprendimas'])\n",
    "    return step\n",
    "\n",
    "def check(name, problem_id, extension='.txt'):\n",
    "    display(Markdown(show_problem(name, problem_id, show_solution=True)))\n",
    "    problem = read_json(name + extension)\n",
    "    for i in range(len(problem[problem_id]['Gebėjimai'])): \n",
    "        display(Markdown('-'*100))\n",
    "        display(Markdown(show_case(name, problem_id, which=i+1, show_solution=True)))"
   ]
  },
  {
   "cell_type": "code",
   "execution_count": 10,
   "metadata": {},
   "outputs": [
    {
     "data": {
      "text/markdown": [
       "\n",
       "### Algebra\n",
       "\n",
       "* **Elementariosios matematikos gebėjimai.** Tiesinės ir kvadratinės lygtys, nelygybės ir jų sistemos, daugianarių sudėtis ir daugyba, reiškinių prastinimai, elementarūs aritmetiniai veiksmai.\n",
       "* **Reiškinių sudarymas.** Gebėjimas pagal uždavinio sąlygą sudaryti nesudėtingus raidinius arba skaitinius reiškinius, lygtis, nelygybes arba jų sistemas, reikšmių kontroliavimas (stebėjimas, kaip pakinta vienas dydis kintant kitam). Sudarytų reiškinių interpretavimas. Greičio, kelio ir laiko sąryšiai.\n",
       "* **Progresijos.** Aritmetinės ir geometrinės progresijos savybių taikymas.\n",
       "* **Palūkanos ir procentai.** Raidinių arba skaitinių reiškinių sudarymas panaudojant procentus, sudėtinės palūkanos.\n",
       "* **Logaritmai.** Logaritmų tapatybių taikymas, logaritminės lygtys ir nelygybės.\n",
       "* **Laipsniai ir šaknys.** Laipsnių ir šaknų savybių taikymas.\n",
       "\n",
       "### Funkcijos\n",
       "\n",
       "* **Funkcijos.** Reikšmės radimas žinant argumentą ir argumento radimas žinant reikšmę, skaičiaus, kintamojo, reiškinio ar funkcijos įstatymas į įvairias išraiškas, funkcijų grafikų interpretavimas, apibrėžimo sritis, veiksmai su intervalais.\n",
       "* **Išvestinės.** Išvestinių savybės, išvestinių skaičiavimas, funkcijų minimumai ir maksimumai, liestinių lygtys, geometrinė išvestinės interpretacija.\n",
       "* **Integralai.** Integralo panaudojimas funkcijų ribojamam plotui skaičiuoti, nesudėtingų reiškinių integravimas.\n",
       "\n",
       "### Geometrija\n",
       "\n",
       "* **Geometrija.** Plokštumos figūrų savybės.\n",
       "* **Trigonometrija.** Kampų konvertavimas į radianus ir atvirkščiai. Trigometrinių funkcijų ir joms atvirkštinių reikšmių radimas, kai žinomas jų argumentas. Trigonometrinių tapatybių taikymas, kraštinių sąryšiai stačiajame trikampyje, Sinusų ir Kosinusų teoremos, atvirkštinės trigonometrinės funkcijos, trigonometrinės lygtys ir nelygybės.\n",
       "* **Vektoriai.** Vektorių sudėtis ir atimtis, vektorinė ir skaliarinė sandaugos, kolinearumas, statmenumas, vieno vektoriaus išreiškimas per kitus, vektoriaus modulis.\n",
       "* **Erdvės geometrija.** Erdvinių kūnų tūriai ir paviršiaus plotai, uždaviniai su keliomis plokštumomis.\n",
       "\n",
       "### Kombinatorika\n",
       "\n",
       "* **Tikimybių teorija.** Tiesiog tikimybės\n",
       "* **Statistika.** Imtis, moda, mediana, vidurkis, dispersija, dažnių lentelės.\n",
       "* **Kombinatorika.** Deriniai, kėliniai, gretiniai.\n"
      ],
      "text/plain": [
       "<IPython.core.display.Markdown object>"
      ]
     },
     "metadata": {},
     "output_type": "display_data"
    }
   ],
   "source": [
    "display(Markdown(document_it(r'vbe\\clusters.txt', r'vbe\\branches.txt')))"
   ]
  },
  {
   "cell_type": "code",
   "execution_count": 11,
   "metadata": {},
   "outputs": [],
   "source": [
    "name = 'vbe/2015'\n",
    "fullname = name + '.txt'\n",
    "if os.path.basename(fullname) not in os.listdir(os.path.dirname(fullname)):\n",
    "    f=open(fullname, 'w')\n",
    "    f.write('{}')\n",
    "    f.close()\n",
    "content = read_json(fullname)"
   ]
  },
  {
   "cell_type": "code",
   "execution_count": 102,
   "metadata": {},
   "outputs": [
    {
     "data": {
      "text/markdown": [
       "**Užduotis.**\n",
       "\n",
       "Kuris iš pateiktų eskizų yra funkcijos grafiko $y=2^x$ eskizas? ![](vbe\\VBE2015_1.PNG)\n",
       "\n",
       "**Sprendimas.**\n",
       "* Reikia rinktis tokį grafiką, kuriame pastebimi tokie dėsningumai: funkcijos reikšmės teigiamos ir kyla laipsniškai, kai argumentas didėja kas 1"
      ],
      "text/plain": [
       "<IPython.core.display.Markdown object>"
      ]
     },
     "metadata": {},
     "output_type": "display_data"
    },
    {
     "data": {
      "text/markdown": [
       "----------------------------------------------------------------------------------------------------"
      ],
      "text/plain": [
       "<IPython.core.display.Markdown object>"
      ]
     },
     "metadata": {},
     "output_type": "display_data"
    },
    {
     "data": {
      "text/markdown": [
       "**Uždavinio dalis 1, kurioje yra Funkcijos.**\n",
       "\n",
       "\n",
       "\n",
       "**Sprendimas.**\n",
       "\n"
      ],
      "text/plain": [
       "<IPython.core.display.Markdown object>"
      ]
     },
     "metadata": {},
     "output_type": "display_data"
    }
   ],
   "source": [
    "problem_id = '1'\n",
    "text = 'Kuris iš pateiktų eskizų yra funkcijos grafiko $y=2^x$ eskizas? ![](vbe\\VBE2015_1.PNG)'\n",
    "solution = ['Reikia rinktis tokį grafiką, kuriame pastebimi tokie dėsningumai: funkcijos reikšmės teigiamos ir kyla laipsniškai, kai argumentas didėja kas 1']\n",
    "\n",
    "problem = {problem_id: {'Sąlyga': text, 'Gebėjimai': [dict()], 'Sprendimas': solution}}\n",
    "\n",
    "problem[problem_id]['Gebėjimai'][0]['Gebėjimas'] = 'Funkcijos'\n",
    "problem[problem_id]['Gebėjimai'][0]['Atitikmuo'] = ''\n",
    "problem[problem_id]['Gebėjimai'][0]['Sprendimas'] = ''\n",
    "content.update(problem)\n",
    "\n",
    "with open(f\"{name}.txt\", \"w\", encoding='utf-8') as out_file:\n",
    "    json.dump(content, out_file, indent = 4, ensure_ascii=False)\n",
    "    \n",
    "check(name, problem_id)"
   ]
  },
  {
   "cell_type": "code",
   "execution_count": 103,
   "metadata": {},
   "outputs": [
    {
     "data": {
      "text/markdown": [
       "**Užduotis.**\n",
       "\n",
       "Sekos bendrasis narys užrašomas formule $a_n=3n-1$ $(n=1,2,3,\\dots)$. Kam lygus jos penktasis narys $a_5$?\n",
       "\n",
       "**Sprendimas.**\n",
       "* Reikia atlikti formulėje įstatymą $n \\to 5$ ir turėsime $a_5 = 14$"
      ],
      "text/plain": [
       "<IPython.core.display.Markdown object>"
      ]
     },
     "metadata": {},
     "output_type": "display_data"
    },
    {
     "data": {
      "text/markdown": [
       "----------------------------------------------------------------------------------------------------"
      ],
      "text/plain": [
       "<IPython.core.display.Markdown object>"
      ]
     },
     "metadata": {},
     "output_type": "display_data"
    },
    {
     "data": {
      "text/markdown": [
       "**Uždavinio dalis 1, kurioje yra Funkcijos.**\n",
       "\n",
       "\n",
       "\n",
       "**Sprendimas.**\n",
       "\n"
      ],
      "text/plain": [
       "<IPython.core.display.Markdown object>"
      ]
     },
     "metadata": {},
     "output_type": "display_data"
    }
   ],
   "source": [
    "problem_id = '2'\n",
    "text = 'Sekos bendrasis narys užrašomas formule $a_n=3n-1$ $(n=1,2,3,\\\\dots)$. Kam lygus jos penktasis narys $a_5$?'\n",
    "solution = ['Reikia atlikti formulėje įstatymą $n \\\\to 5$ ir turėsime $a_5 = 14$']\n",
    "\n",
    "problem = {problem_id: {'Sąlyga': text, 'Gebėjimai': [dict()], 'Sprendimas': solution}}\n",
    "\n",
    "problem[problem_id]['Gebėjimai'][0]['Gebėjimas'] = 'Funkcijos'\n",
    "problem[problem_id]['Gebėjimai'][0]['Atitikmuo'] = ''\n",
    "problem[problem_id]['Gebėjimai'][0]['Sprendimas'] = ''\n",
    "content.update(problem)\n",
    "\n",
    "with open(f\"{name}.txt\", \"w\", encoding='utf-8') as out_file:\n",
    "    json.dump(content, out_file, indent = 4, ensure_ascii=False)\n",
    "\n",
    "check(name, problem_id)"
   ]
  },
  {
   "cell_type": "code",
   "execution_count": 105,
   "metadata": {},
   "outputs": [
    {
     "data": {
      "text/markdown": [
       "**Užduotis.**\n",
       "\n",
       " Diagramoje pavaizduotas šeimos vieno mėnesio visų išlaidų paskirstymas procentais. Tą mėnesį **maistui** šeima išleido 420 eurų. Kiek eurų šeima išleido rūbams? ![](vbe\\VBE2015_3.PNG)\n",
       "\n",
       "**Sprendimas.**\n",
       "* Sudarome proporciją: $\\boxed{\\begin{array}{rcl} 420 & - & 30\\% \\\\ ? & - & 25\\% \\end{array}}$\n",
       "* Ją išsprendę turėtume gauti 350 eurų"
      ],
      "text/plain": [
       "<IPython.core.display.Markdown object>"
      ]
     },
     "metadata": {},
     "output_type": "display_data"
    },
    {
     "data": {
      "text/markdown": [
       "----------------------------------------------------------------------------------------------------"
      ],
      "text/plain": [
       "<IPython.core.display.Markdown object>"
      ]
     },
     "metadata": {},
     "output_type": "display_data"
    },
    {
     "data": {
      "text/markdown": [
       "**Uždavinio dalis 1, kurioje yra Palūkanos ir procentai.**\n",
       "\n",
       "\n",
       "\n",
       "**Sprendimas.**\n",
       "\n"
      ],
      "text/plain": [
       "<IPython.core.display.Markdown object>"
      ]
     },
     "metadata": {},
     "output_type": "display_data"
    }
   ],
   "source": [
    "problem_id = '3'\n",
    "text = ' Diagramoje pavaizduotas šeimos vieno mėnesio visų išlaidų paskirstymas procentais. Tą mėnesį **maistui** šeima išleido 420 eurų. Kiek eurų šeima išleido rūbams? ![](vbe\\VBE2015_3.PNG)'\n",
    "solution = ['Sudarome proporciją: $\\\\boxed{\\\\begin{array}{rcl} 420 & - & 30\\\\% \\\\\\\\ ? & - & 25\\\\% \\\\end{array}}$', 'Ją išsprendę turėtume gauti 350 eurų']\n",
    "\n",
    "problem = {problem_id: {'Sąlyga': text, 'Gebėjimai': [dict()], 'Sprendimas': solution}}\n",
    "\n",
    "problem[problem_id]['Gebėjimai'][0]['Gebėjimas'] = 'Palūkanos ir procentai'\n",
    "problem[problem_id]['Gebėjimai'][0]['Atitikmuo'] = ''\n",
    "problem[problem_id]['Gebėjimai'][0]['Sprendimas'] = ''\n",
    "content.update(problem)\n",
    "\n",
    "with open(f\"{name}.txt\", \"w\", encoding='utf-8') as out_file:\n",
    "    json.dump(content, out_file, indent = 4, ensure_ascii=False)\n",
    "check(name, problem_id)"
   ]
  },
  {
   "cell_type": "code",
   "execution_count": 106,
   "metadata": {},
   "outputs": [
    {
     "data": {
      "text/markdown": [
       "**Užduotis.**\n",
       "\n",
       "Kam lygi imties 5;14;11;6;5;10;12 mediana?\n",
       "\n",
       "**Sprendimas.**\n",
       "* Surikiuojame duomenis: 5,5,6,10,11,12,14\n",
       "* Mediana bus vidurinysis duomuo 10"
      ],
      "text/plain": [
       "<IPython.core.display.Markdown object>"
      ]
     },
     "metadata": {},
     "output_type": "display_data"
    },
    {
     "data": {
      "text/markdown": [
       "----------------------------------------------------------------------------------------------------"
      ],
      "text/plain": [
       "<IPython.core.display.Markdown object>"
      ]
     },
     "metadata": {},
     "output_type": "display_data"
    },
    {
     "data": {
      "text/markdown": [
       "**Uždavinio dalis 1, kurioje yra Statistika.**\n",
       "\n",
       "\n",
       "\n",
       "**Sprendimas.**\n",
       "\n"
      ],
      "text/plain": [
       "<IPython.core.display.Markdown object>"
      ]
     },
     "metadata": {},
     "output_type": "display_data"
    }
   ],
   "source": [
    "problem_id = '4'\n",
    "text = 'Kam lygi imties 5;14;11;6;5;10;12 mediana?'\n",
    "solution = ['Surikiuojame duomenis: 5,5,6,10,11,12,14', 'Mediana bus vidurinysis duomuo 10']\n",
    "\n",
    "problem = {problem_id: {'Sąlyga': text, 'Gebėjimai': [dict()], 'Sprendimas': solution}}\n",
    "\n",
    "problem[problem_id]['Gebėjimai'][0]['Gebėjimas'] = 'Statistika'\n",
    "problem[problem_id]['Gebėjimai'][0]['Atitikmuo'] = ''\n",
    "problem[problem_id]['Gebėjimai'][0]['Sprendimas'] = ''\n",
    "content.update(problem)\n",
    "\n",
    "with open(f\"{name}.txt\", \"w\", encoding='utf-8') as out_file:\n",
    "    json.dump(content, out_file, indent = 4, ensure_ascii=False)\n",
    "check(name, problem_id)"
   ]
  },
  {
   "cell_type": "code",
   "execution_count": 107,
   "metadata": {},
   "outputs": [
    {
     "data": {
      "text/markdown": [
       "**Užduotis.**\n",
       "\n",
       "Vandens čiaupo pajėgumas yra toks, kad stačiakampio gretasienio formos baseinas, kurio matmenys yra $a$, $b$ ir $c$, pripildomas per 1 valandą. Per kiek laiko iš to paties vandens čiaupo, veikiančio tokiu pačiu pajėgumu, galima būtų pripildyti stačiakampio gretasienio formos $2a$, $2b$ ir $2c$ matmenų baseiną?\n",
       "\n",
       "**Sprendimas.**\n",
       "* Atsakymas bus tiek kartų didesnis, kiek didesnis naujo kubo tūris\n",
       "* Naujo kubo tūris: $2a\\times 2b \\times 2c=8abc$\n",
       "* Seno kubo tūris: $a\\times b \\times c=abc$\n",
       "* Atsakymas 8 val"
      ],
      "text/plain": [
       "<IPython.core.display.Markdown object>"
      ]
     },
     "metadata": {},
     "output_type": "display_data"
    },
    {
     "data": {
      "text/markdown": [
       "----------------------------------------------------------------------------------------------------"
      ],
      "text/plain": [
       "<IPython.core.display.Markdown object>"
      ]
     },
     "metadata": {},
     "output_type": "display_data"
    },
    {
     "data": {
      "text/markdown": [
       "**Uždavinio dalis 1, kurioje yra Reiškinių sudarymas.**\n",
       "\n",
       "\n",
       "\n",
       "**Sprendimas.**\n",
       "\n"
      ],
      "text/plain": [
       "<IPython.core.display.Markdown object>"
      ]
     },
     "metadata": {},
     "output_type": "display_data"
    }
   ],
   "source": [
    "problem_id = '5'\n",
    "text = 'Vandens čiaupo pajėgumas yra toks, kad stačiakampio gretasienio formos baseinas, kurio matmenys yra $a$, $b$ ir $c$, pripildomas per 1 valandą. Per kiek laiko iš to paties vandens čiaupo, veikiančio tokiu pačiu pajėgumu, galima būtų pripildyti stačiakampio gretasienio formos $2a$, $2b$ ir $2c$ matmenų baseiną?'\n",
    "solution = ['Atsakymas bus tiek kartų didesnis, kiek didesnis naujo kubo tūris', 'Naujo kubo tūris: $2a\\\\times 2b \\\\times 2c=8abc$', 'Seno kubo tūris: $a\\\\times b \\\\times c=abc$', 'Atsakymas 8 val']\n",
    "\n",
    "problem = {problem_id: {'Sąlyga': text, 'Gebėjimai': [dict()], 'Sprendimas': solution}}\n",
    "\n",
    "problem[problem_id]['Gebėjimai'][0]['Gebėjimas'] = 'Reiškinių sudarymas'\n",
    "problem[problem_id]['Gebėjimai'][0]['Atitikmuo'] = ''\n",
    "problem[problem_id]['Gebėjimai'][0]['Sprendimas'] = ''\n",
    "content.update(problem)\n",
    "\n",
    "with open(f\"{name}.txt\", \"w\", encoding='utf-8') as out_file:\n",
    "    json.dump(content, out_file, indent = 4, ensure_ascii=False)\n",
    "check(name, problem_id)"
   ]
  },
  {
   "cell_type": "code",
   "execution_count": 111,
   "metadata": {},
   "outputs": [
    {
     "data": {
      "text/markdown": [
       "**Užduotis.**\n",
       "\n",
       "Išspręskite lygtį $(x+2011)(x+2013)(x+2014)=(x+2013)(x+2014)(x+2015)$\n",
       "\n",
       "**Sprendimas.**\n",
       "* $(x+2011)(x+2013)(x+2014)-(x+2013)(x+2014)(x+2015)=0$\n",
       "* $\\big((x+2011) - (x+2015)\\big)(x+2013)(x+2014)=0$\n",
       "* $-4(x+2013)(x+2014)=0$\n",
       "* $x=-2013$ arba $x=-2014$"
      ],
      "text/plain": [
       "<IPython.core.display.Markdown object>"
      ]
     },
     "metadata": {},
     "output_type": "display_data"
    },
    {
     "data": {
      "text/markdown": [
       "----------------------------------------------------------------------------------------------------"
      ],
      "text/plain": [
       "<IPython.core.display.Markdown object>"
      ]
     },
     "metadata": {},
     "output_type": "display_data"
    },
    {
     "data": {
      "text/markdown": [
       "**Uždavinio dalis 1, kurioje yra Elementariosios matematikos gebėjimai.**\n",
       "\n",
       "\n",
       "\n",
       "**Sprendimas.**\n",
       "\n"
      ],
      "text/plain": [
       "<IPython.core.display.Markdown object>"
      ]
     },
     "metadata": {},
     "output_type": "display_data"
    }
   ],
   "source": [
    "problem_id = '6'\n",
    "text = 'Išspręskite lygtį $(x+2011)(x+2013)(x+2014)=(x+2013)(x+2014)(x+2015)$'\n",
    "solution = ['$(x+2011)(x+2013)(x+2014)-(x+2013)(x+2014)(x+2015)=0$', '$\\\\big((x+2011) - (x+2015)\\\\big)(x+2013)(x+2014)=0$', '$-4(x+2013)(x+2014)=0$', '$x=-2013$ arba $x=-2014$']\n",
    "\n",
    "problem = {problem_id: {'Sąlyga': text, 'Gebėjimai': [dict()], 'Sprendimas': solution}}\n",
    "\n",
    "problem[problem_id]['Gebėjimai'][0]['Gebėjimas'] = 'Elementariosios matematikos gebėjimai'\n",
    "problem[problem_id]['Gebėjimai'][0]['Atitikmuo'] = ''\n",
    "problem[problem_id]['Gebėjimai'][0]['Sprendimas'] = ''\n",
    "content.update(problem)\n",
    "\n",
    "with open(f\"{name}.txt\", \"w\", encoding='utf-8') as out_file:\n",
    "    json.dump(content, out_file, indent = 4, ensure_ascii=False)\n",
    "check(name, problem_id)"
   ]
  },
  {
   "cell_type": "code",
   "execution_count": 112,
   "metadata": {},
   "outputs": [
    {
     "data": {
      "text/markdown": [
       "**Užduotis.**\n",
       "\n",
       "Su kuria $x$ reikšme vektoriai $\\overrightarrow{a}=(x; 3)$ ir $\\overrightarrow{b}=(-2; 6)$ yra kolinearūs?\n",
       "\n",
       "**Sprendimas.**\n",
       "* $x/3 = -2/6$\n",
       "* $x=-1$"
      ],
      "text/plain": [
       "<IPython.core.display.Markdown object>"
      ]
     },
     "metadata": {},
     "output_type": "display_data"
    },
    {
     "data": {
      "text/markdown": [
       "----------------------------------------------------------------------------------------------------"
      ],
      "text/plain": [
       "<IPython.core.display.Markdown object>"
      ]
     },
     "metadata": {},
     "output_type": "display_data"
    },
    {
     "data": {
      "text/markdown": [
       "**Uždavinio dalis 1, kurioje yra Vektoriai.**\n",
       "\n",
       "\n",
       "\n",
       "**Sprendimas.**\n",
       "\n"
      ],
      "text/plain": [
       "<IPython.core.display.Markdown object>"
      ]
     },
     "metadata": {},
     "output_type": "display_data"
    }
   ],
   "source": [
    "problem_id = '7'\n",
    "text = 'Su kuria $x$ reikšme vektoriai $\\\\overrightarrow{a}=(x; 3)$ ir $\\\\overrightarrow{b}=(-2; 6)$ yra kolinearūs?'\n",
    "solution = ['$x/3 = -2/6$', '$x=-1$']\n",
    "\n",
    "problem = {problem_id: {'Sąlyga': text, 'Gebėjimai': [dict()], 'Sprendimas': solution}}\n",
    "\n",
    "problem[problem_id]['Gebėjimai'][0]['Gebėjimas'] = 'Vektoriai'\n",
    "problem[problem_id]['Gebėjimai'][0]['Atitikmuo'] = ''\n",
    "problem[problem_id]['Gebėjimai'][0]['Sprendimas'] = ''\n",
    "content.update(problem)\n",
    "\n",
    "with open(f\"{name}.txt\", \"w\", encoding='utf-8') as out_file:\n",
    "    json.dump(content, out_file, indent = 4, ensure_ascii=False)\n",
    "check(name, problem_id)"
   ]
  },
  {
   "cell_type": "code",
   "execution_count": 113,
   "metadata": {},
   "outputs": [
    {
     "data": {
      "text/markdown": [
       "**Užduotis.**\n",
       "\n",
       "Paveiksle pavaizduotas kubas $ABCDA_1B_1C_1D_1$ Raskite kampo tarp tiesių, kuriose yra kubo sienų įstrižainės $A_1B$ ir $B_1C$ didumą. ![](vbe\\VBE2015_8.png)\n",
       "\n",
       "**Sprendimas.**\n",
       "* Kampas tarp $A_1B$ ir $B_1C$ lygus kampui tarp $A_1B$ ir $A_1D$\n",
       "* Kampas tarp $A_1B$ ir $A_1D$ priklauso trikampiui $A_1DB$\n",
       "* Visos trikampio kraštinės lygios\n",
       "* Kampas lygus $60^o$"
      ],
      "text/plain": [
       "<IPython.core.display.Markdown object>"
      ]
     },
     "metadata": {},
     "output_type": "display_data"
    },
    {
     "data": {
      "text/markdown": [
       "----------------------------------------------------------------------------------------------------"
      ],
      "text/plain": [
       "<IPython.core.display.Markdown object>"
      ]
     },
     "metadata": {},
     "output_type": "display_data"
    },
    {
     "data": {
      "text/markdown": [
       "**Uždavinio dalis 1, kurioje yra Erdvės geometrija.**\n",
       "\n",
       "\n",
       "\n",
       "**Sprendimas.**\n",
       "\n"
      ],
      "text/plain": [
       "<IPython.core.display.Markdown object>"
      ]
     },
     "metadata": {},
     "output_type": "display_data"
    }
   ],
   "source": [
    "problem_id = '8'\n",
    "text = 'Paveiksle pavaizduotas kubas $ABCDA_1B_1C_1D_1$ Raskite kampo tarp tiesių, kuriose yra kubo sienų įstrižainės $A_1B$ ir $B_1C$ didumą. ![](vbe\\VBE2015_8.png)'\n",
    "solution = ['Kampas tarp $A_1B$ ir $B_1C$ lygus kampui tarp $A_1B$ ir $A_1D$', 'Kampas tarp $A_1B$ ir $A_1D$ priklauso trikampiui $A_1DB$', 'Visos trikampio kraštinės lygios', 'Kampas lygus $60^o$']\n",
    "\n",
    "problem = {problem_id: {'Sąlyga': text, 'Gebėjimai': [dict()], 'Sprendimas': solution}}\n",
    "\n",
    "problem[problem_id]['Gebėjimai'][0]['Gebėjimas'] = 'Erdvės geometrija'\n",
    "problem[problem_id]['Gebėjimai'][0]['Atitikmuo'] = ''\n",
    "problem[problem_id]['Gebėjimai'][0]['Sprendimas'] = ''\n",
    "content.update(problem)\n",
    "\n",
    "with open(f\"{name}.txt\", \"w\", encoding='utf-8') as out_file:\n",
    "    json.dump(content, out_file, indent = 4, ensure_ascii=False)\n",
    "check(name, problem_id)"
   ]
  },
  {
   "cell_type": "code",
   "execution_count": 115,
   "metadata": {},
   "outputs": [
    {
     "data": {
      "text/markdown": [
       "**Užduotis.**\n",
       "\n",
       "Seifo kodą turi sudaryti trys skirtingi skaitmenys, užrašyti didėjimo tvarka. Kiek tokių skirtingų kodų galima sudaryti?\n",
       "\n",
       "**Sprendimas.**\n",
       "* Klausimą galima perfrazuoti: keliais būdais galima išsirinkti tris skirtingus skaitmenis iš 10\n",
       "* Atsakymas: $C^3_{10}=\\frac{10\\cdot 9\\cdot 8}{3 \\cdot 2\\cdot 1}=120$"
      ],
      "text/plain": [
       "<IPython.core.display.Markdown object>"
      ]
     },
     "metadata": {},
     "output_type": "display_data"
    },
    {
     "data": {
      "text/markdown": [
       "----------------------------------------------------------------------------------------------------"
      ],
      "text/plain": [
       "<IPython.core.display.Markdown object>"
      ]
     },
     "metadata": {},
     "output_type": "display_data"
    },
    {
     "data": {
      "text/markdown": [
       "**Uždavinio dalis 1, kurioje yra Kombinatorika.**\n",
       "\n",
       "\n",
       "\n",
       "**Sprendimas.**\n",
       "\n"
      ],
      "text/plain": [
       "<IPython.core.display.Markdown object>"
      ]
     },
     "metadata": {},
     "output_type": "display_data"
    }
   ],
   "source": [
    "problem_id = '9'\n",
    "text = 'Seifo kodą turi sudaryti trys skirtingi skaitmenys, užrašyti didėjimo tvarka. Kiek tokių skirtingų kodų galima sudaryti?'\n",
    "solution = ['Klausimą galima perfrazuoti: keliais būdais galima išsirinkti tris skirtingus skaitmenis iš 10', 'Atsakymas: $C^3_{10}=\\\\frac{10\\\\cdot 9\\\\cdot 8}{3 \\\\cdot 2\\\\cdot 1}=120$']\n",
    "\n",
    "problem = {problem_id: {'Sąlyga': text, 'Gebėjimai': [dict()], 'Sprendimas': solution}}\n",
    "\n",
    "problem[problem_id]['Gebėjimai'][0]['Gebėjimas'] = 'Kombinatorika'\n",
    "problem[problem_id]['Gebėjimai'][0]['Atitikmuo'] = ''\n",
    "problem[problem_id]['Gebėjimai'][0]['Sprendimas'] = ''\n",
    "content.update(problem)\n",
    "\n",
    "with open(f\"{name}.txt\", \"w\", encoding='utf-8') as out_file:\n",
    "    json.dump(content, out_file, indent = 4, ensure_ascii=False)\n",
    "check(name, problem_id)"
   ]
  },
  {
   "cell_type": "code",
   "execution_count": 117,
   "metadata": {},
   "outputs": [
    {
     "data": {
      "text/markdown": [
       "**Užduotis.**\n",
       "\n",
       "Žinoma, kad funkcija $f(x)$ yra lyginė, o $g(x)$ - nelyginė. Apskaičiuokite $g(f(-a))+f(g(b))$, jei $f(a)=-b$, $g(-b)=a$, kur $a\\neq 0$, $b\\neq 0$\n",
       "\n",
       "**Sprendimas.**\n",
       "* $f(-a)=f(a)=-b$ pagal lyginės funkcijos apibrėžimą\n",
       "* $g(b)=g(-b)=a$ pagal nelyginės funkcijos apibrėžimą\n",
       "* $g(f(-a))+f(g(b))=g(-b)+f(a)$ pagal gautus teiginius\n",
       "* $g(-b)+f(a) = a-b$ pagal sąlygą"
      ],
      "text/plain": [
       "<IPython.core.display.Markdown object>"
      ]
     },
     "metadata": {},
     "output_type": "display_data"
    },
    {
     "data": {
      "text/markdown": [
       "----------------------------------------------------------------------------------------------------"
      ],
      "text/plain": [
       "<IPython.core.display.Markdown object>"
      ]
     },
     "metadata": {},
     "output_type": "display_data"
    },
    {
     "data": {
      "text/markdown": [
       "**Uždavinio dalis 1, kurioje yra Kombinatorika.**\n",
       "\n",
       "\n",
       "\n",
       "**Sprendimas.**\n",
       "\n"
      ],
      "text/plain": [
       "<IPython.core.display.Markdown object>"
      ]
     },
     "metadata": {},
     "output_type": "display_data"
    }
   ],
   "source": [
    "problem_id = '10'\n",
    "text = 'Žinoma, kad funkcija $f(x)$ yra lyginė, o $g(x)$ - nelyginė. Apskaičiuokite $g(f(-a))+f(g(b))$, jei $f(a)=-b$, $g(-b)=a$, kur $a\\\\neq 0$, $b\\\\neq 0$'\n",
    "solution = ['$f(-a)=f(a)=-b$ pagal lyginės funkcijos apibrėžimą', '$g(b)=g(-b)=a$ pagal nelyginės funkcijos apibrėžimą', '$g(f(-a))+f(g(b))=g(-b)+f(a)$ pagal gautus teiginius', '$g(-b)+f(a) = a-b$ pagal sąlygą']\n",
    "\n",
    "problem = {problem_id: {'Sąlyga': text, 'Gebėjimai': [dict()], 'Sprendimas': solution}}\n",
    "\n",
    "problem[problem_id]['Gebėjimai'][0]['Gebėjimas'] = 'Kombinatorika'\n",
    "problem[problem_id]['Gebėjimai'][0]['Atitikmuo'] = ''\n",
    "problem[problem_id]['Gebėjimai'][0]['Sprendimas'] = ''\n",
    "content.update(problem)\n",
    "\n",
    "with open(f\"{name}.txt\", \"w\", encoding='utf-8') as out_file:\n",
    "    json.dump(content, out_file, indent = 4, ensure_ascii=False)\n",
    "check(name, problem_id)"
   ]
  },
  {
   "cell_type": "code",
   "execution_count": 119,
   "metadata": {},
   "outputs": [
    {
     "data": {
      "text/markdown": [
       "**Užduotis.**\n",
       "\n",
       "$A=[-2; 4)$ ir $B=(-6;3)$ sankirtą $A\\bigcap B$\n",
       "\n",
       "**Sprendimas.**\n",
       "* Intervalus geriausia žymėti iš abiejų pusių skaičių ašyje\n",
       "* Randame, kad jų bendra zona yra $(-6; 4)$"
      ],
      "text/plain": [
       "<IPython.core.display.Markdown object>"
      ]
     },
     "metadata": {},
     "output_type": "display_data"
    },
    {
     "data": {
      "text/markdown": [
       "----------------------------------------------------------------------------------------------------"
      ],
      "text/plain": [
       "<IPython.core.display.Markdown object>"
      ]
     },
     "metadata": {},
     "output_type": "display_data"
    },
    {
     "data": {
      "text/markdown": [
       "**Uždavinio dalis 1, kurioje yra Funkcijos.**\n",
       "\n",
       "\n",
       "\n",
       "**Sprendimas.**\n",
       "\n"
      ],
      "text/plain": [
       "<IPython.core.display.Markdown object>"
      ]
     },
     "metadata": {},
     "output_type": "display_data"
    }
   ],
   "source": [
    "problem_id = '11'\n",
    "text = '$A=[-2; 4)$ ir $B=(-6;3)$ sankirtą $A\\\\bigcap B$'\n",
    "solution = ['Intervalus geriausia žymėti iš abiejų pusių skaičių ašyje', 'Randame, kad jų bendra zona yra $(-6; 4)$']\n",
    "\n",
    "problem = {problem_id: {'Sąlyga': text, 'Gebėjimai': [dict()], 'Sprendimas': solution}}\n",
    "\n",
    "problem[problem_id]['Gebėjimai'][0]['Gebėjimas'] = 'Funkcijos'\n",
    "problem[problem_id]['Gebėjimai'][0]['Atitikmuo'] = ''\n",
    "problem[problem_id]['Gebėjimai'][0]['Sprendimas'] = ''\n",
    "content.update(problem)\n",
    "\n",
    "with open(f\"{name}.txt\", \"w\", encoding='utf-8') as out_file:\n",
    "    json.dump(content, out_file, indent = 4, ensure_ascii=False)\n",
    "check(name, problem_id)"
   ]
  },
  {
   "cell_type": "code",
   "execution_count": 120,
   "metadata": {},
   "outputs": [
    {
     "data": {
      "text/markdown": [
       "**Užduotis.**\n",
       "\n",
       "Išspręskite lygtį $5^{2x}=125$\n",
       "\n",
       "**Sprendimas.**\n",
       "* $5^{2x}=125$\n",
       "* Remiantis tapatybe $5^{3}=125$ iš ankstesnės lygties gausime $2x=3$\n",
       "* $x=1.5$"
      ],
      "text/plain": [
       "<IPython.core.display.Markdown object>"
      ]
     },
     "metadata": {},
     "output_type": "display_data"
    },
    {
     "data": {
      "text/markdown": [
       "----------------------------------------------------------------------------------------------------"
      ],
      "text/plain": [
       "<IPython.core.display.Markdown object>"
      ]
     },
     "metadata": {},
     "output_type": "display_data"
    },
    {
     "data": {
      "text/markdown": [
       "**Uždavinio dalis 1, kurioje yra Laipsniai ir šaknys.**\n",
       "\n",
       "\n",
       "\n",
       "**Sprendimas.**\n",
       "\n"
      ],
      "text/plain": [
       "<IPython.core.display.Markdown object>"
      ]
     },
     "metadata": {},
     "output_type": "display_data"
    }
   ],
   "source": [
    "problem_id = '12a'\n",
    "text = 'Išspręskite lygtį $5^{2x}=125$'\n",
    "solution = ['$5^{2x}=125$', 'Remiantis tapatybe $5^{3}=125$ iš ankstesnės lygties gausime $2x=3$', '$x=1.5$']\n",
    "\n",
    "problem = {problem_id: {'Sąlyga': text, 'Gebėjimai': [dict()], 'Sprendimas': solution}}\n",
    "\n",
    "problem[problem_id]['Gebėjimai'][0]['Gebėjimas'] = 'Laipsniai ir šaknys'\n",
    "problem[problem_id]['Gebėjimai'][0]['Atitikmuo'] = ''\n",
    "problem[problem_id]['Gebėjimai'][0]['Sprendimas'] = ''\n",
    "content.update(problem)\n",
    "\n",
    "with open(f\"{name}.txt\", \"w\", encoding='utf-8') as out_file:\n",
    "    json.dump(content, out_file, indent = 4, ensure_ascii=False)\n",
    "check(name, problem_id)"
   ]
  },
  {
   "cell_type": "code",
   "execution_count": 122,
   "metadata": {},
   "outputs": [
    {
     "data": {
      "text/markdown": [
       "**Užduotis.**\n",
       "\n",
       "Išspręskite lygtį $|x-2|=5$\n",
       "\n",
       "**Sprendimas.**\n",
       "* $|x-2|=5$\n",
       "* $x-2=5$ arba $x-2=-5$\n",
       "* Iš čia $x=7$ arba $x=-3$"
      ],
      "text/plain": [
       "<IPython.core.display.Markdown object>"
      ]
     },
     "metadata": {},
     "output_type": "display_data"
    },
    {
     "data": {
      "text/markdown": [
       "----------------------------------------------------------------------------------------------------"
      ],
      "text/plain": [
       "<IPython.core.display.Markdown object>"
      ]
     },
     "metadata": {},
     "output_type": "display_data"
    },
    {
     "data": {
      "text/markdown": [
       "**Uždavinio dalis 1, kurioje yra Elementariosios matematikos gebėjimai.**\n",
       "\n",
       "\n",
       "\n",
       "**Sprendimas.**\n",
       "\n"
      ],
      "text/plain": [
       "<IPython.core.display.Markdown object>"
      ]
     },
     "metadata": {},
     "output_type": "display_data"
    }
   ],
   "source": [
    "problem_id = '12b'\n",
    "text = 'Išspręskite lygtį $|x-2|=5$'\n",
    "solution = ['$|x-2|=5$', '$x-2=5$ arba $x-2=-5$', 'Iš čia $x=7$ arba $x=-3$']\n",
    "\n",
    "problem = {problem_id: {'Sąlyga': text, 'Gebėjimai': [dict()], 'Sprendimas': solution}}\n",
    "\n",
    "problem[problem_id]['Gebėjimai'][0]['Gebėjimas'] = 'Elementariosios matematikos gebėjimai'\n",
    "problem[problem_id]['Gebėjimai'][0]['Atitikmuo'] = ''\n",
    "problem[problem_id]['Gebėjimai'][0]['Sprendimas'] = ''\n",
    "content.update(problem)\n",
    "\n",
    "with open(f\"{name}.txt\", \"w\", encoding='utf-8') as out_file:\n",
    "    json.dump(content, out_file, indent = 4, ensure_ascii=False)\n",
    "check(name, problem_id)"
   ]
  },
  {
   "cell_type": "code",
   "execution_count": 123,
   "metadata": {},
   "outputs": [
    {
     "data": {
      "text/markdown": [
       "**Užduotis.**\n",
       "\n",
       "Taškas $C$ priklauso apskritimui, kurio centras yra taškas $O$. Iš taško $M$, esančio apskritimo išorėje, nubrėžtos dvi tiesės, liečiančios apskritimą taškuose $A$ ir $B$, $\\angle AOB=80^o$.  Apskaičiukite $\\angle ACB$ didumą ![](vbe\\VBE2015_13.PNG)\n",
       "\n",
       "**Sprendimas.**\n",
       "* Kampas, įbrėžtas į apskritimą iškerta dvigubai mažesnį lanką, nei atitinkamas kampas, einantis iš skersmens\n",
       "* Atsakymas $40^o$"
      ],
      "text/plain": [
       "<IPython.core.display.Markdown object>"
      ]
     },
     "metadata": {},
     "output_type": "display_data"
    },
    {
     "data": {
      "text/markdown": [
       "----------------------------------------------------------------------------------------------------"
      ],
      "text/plain": [
       "<IPython.core.display.Markdown object>"
      ]
     },
     "metadata": {},
     "output_type": "display_data"
    },
    {
     "data": {
      "text/markdown": [
       "**Uždavinio dalis 1, kurioje yra Geometrija.**\n",
       "\n",
       "\n",
       "\n",
       "**Sprendimas.**\n",
       "\n"
      ],
      "text/plain": [
       "<IPython.core.display.Markdown object>"
      ]
     },
     "metadata": {},
     "output_type": "display_data"
    }
   ],
   "source": [
    "problem_id = '13a'\n",
    "text = 'Taškas $C$ priklauso apskritimui, kurio centras yra taškas $O$. Iš taško $M$, esančio apskritimo išorėje, nubrėžtos dvi tiesės, liečiančios apskritimą taškuose $A$ ir $B$, $\\\\angle AOB=80^o$.  Apskaičiukite $\\\\angle ACB$ didumą ![](vbe\\VBE2015_13.PNG)'\n",
    "solution = ['Kampas, įbrėžtas į apskritimą iškerta dvigubai mažesnį lanką, nei atitinkamas kampas, einantis iš skersmens', 'Atsakymas $40^o$']\n",
    "\n",
    "problem = {problem_id: {'Sąlyga': text, 'Gebėjimai': [dict()], 'Sprendimas': solution}}\n",
    "\n",
    "problem[problem_id]['Gebėjimai'][0]['Gebėjimas'] = 'Geometrija'\n",
    "problem[problem_id]['Gebėjimai'][0]['Atitikmuo'] = ''\n",
    "problem[problem_id]['Gebėjimai'][0]['Sprendimas'] = ''\n",
    "content.update(problem)\n",
    "\n",
    "with open(f\"{name}.txt\", \"w\", encoding='utf-8') as out_file:\n",
    "    json.dump(content, out_file, indent = 4, ensure_ascii=False)\n",
    "check(name, problem_id)"
   ]
  },
  {
   "cell_type": "code",
   "execution_count": 124,
   "metadata": {},
   "outputs": [
    {
     "data": {
      "text/markdown": [
       "**Užduotis.**\n",
       "\n",
       "Taškas $C$ priklauso apskritimui, kurio centras yra taškas $O$. Iš taško $M$, esančio apskritimo išorėje, nubrėžtos dvi tiesės, liečiančios apskritimą taškuose $A$ ir $B$, $\\angle AOB=80^o$.  Apskaičiukite $\\angle AMB$ didumą ![](vbe\\VBE2015_13.PNG)\n",
       "\n",
       "**Sprendimas.**\n",
       "* $OA$ ir $OB$ yra statmenos pavaizduotoms liestinėms\n",
       "* Keturkampio $AOBM$ kampų suma lygi $360^o$\n",
       "* Vadinasi, $\\angle AMB = 360^o - 90^o - 90^o - 80^o=100^o$"
      ],
      "text/plain": [
       "<IPython.core.display.Markdown object>"
      ]
     },
     "metadata": {},
     "output_type": "display_data"
    },
    {
     "data": {
      "text/markdown": [
       "----------------------------------------------------------------------------------------------------"
      ],
      "text/plain": [
       "<IPython.core.display.Markdown object>"
      ]
     },
     "metadata": {},
     "output_type": "display_data"
    },
    {
     "data": {
      "text/markdown": [
       "**Uždavinio dalis 1, kurioje yra Geometrija.**\n",
       "\n",
       "\n",
       "\n",
       "**Sprendimas.**\n",
       "\n"
      ],
      "text/plain": [
       "<IPython.core.display.Markdown object>"
      ]
     },
     "metadata": {},
     "output_type": "display_data"
    }
   ],
   "source": [
    "problem_id = '13b'\n",
    "text = 'Taškas $C$ priklauso apskritimui, kurio centras yra taškas $O$. Iš taško $M$, esančio apskritimo išorėje, nubrėžtos dvi tiesės, liečiančios apskritimą taškuose $A$ ir $B$, $\\\\angle AOB=80^o$.  Apskaičiukite $\\\\angle AMB$ didumą ![](vbe\\VBE2015_13.PNG)'\n",
    "solution = ['$OA$ ir $OB$ yra statmenos pavaizduotoms liestinėms', 'Keturkampio $AOBM$ kampų suma lygi $360^o$', 'Vadinasi, $\\\\angle AMB = 360^o - 90^o - 90^o - 80^o=100^o$']\n",
    "\n",
    "problem = {problem_id: {'Sąlyga': text, 'Gebėjimai': [dict()], 'Sprendimas': solution}}\n",
    "\n",
    "problem[problem_id]['Gebėjimai'][0]['Gebėjimas'] = 'Geometrija'\n",
    "problem[problem_id]['Gebėjimai'][0]['Atitikmuo'] = ''\n",
    "problem[problem_id]['Gebėjimai'][0]['Sprendimas'] = ''\n",
    "content.update(problem)\n",
    "\n",
    "with open(f\"{name}.txt\", \"w\", encoding='utf-8') as out_file:\n",
    "    json.dump(content, out_file, indent = 4, ensure_ascii=False)\n",
    "check(name, problem_id)"
   ]
  },
  {
   "cell_type": "code",
   "execution_count": 125,
   "metadata": {},
   "outputs": [
    {
     "data": {
      "text/markdown": [
       "**Užduotis.**\n",
       "\n",
       "Ritinio pagrindo apskritimo ilgis lygus 30, o ritinio aukštinės ilgis lygus 6. Apskaičiuokite šio ritinio šoninio paviršiaus plotą. ![](vbe\\VBE2015_14.PNG)\n",
       "\n",
       "**Sprendimas.**\n",
       "* Reikėtų įsivaizduoti, kokią figūrą atitinka šoninis paviršius ritinio išklotinėje\n",
       "* Tai stačiakampis su kraštinėmis 30 ir 6\n",
       "* Jo plotas 180"
      ],
      "text/plain": [
       "<IPython.core.display.Markdown object>"
      ]
     },
     "metadata": {},
     "output_type": "display_data"
    },
    {
     "data": {
      "text/markdown": [
       "----------------------------------------------------------------------------------------------------"
      ],
      "text/plain": [
       "<IPython.core.display.Markdown object>"
      ]
     },
     "metadata": {},
     "output_type": "display_data"
    },
    {
     "data": {
      "text/markdown": [
       "**Uždavinio dalis 1, kurioje yra Erdvės geometrija.**\n",
       "\n",
       "\n",
       "\n",
       "**Sprendimas.**\n",
       "\n"
      ],
      "text/plain": [
       "<IPython.core.display.Markdown object>"
      ]
     },
     "metadata": {},
     "output_type": "display_data"
    }
   ],
   "source": [
    "problem_id = '14'\n",
    "text = 'Ritinio pagrindo apskritimo ilgis lygus 30, o ritinio aukštinės ilgis lygus 6. Apskaičiuokite šio ritinio šoninio paviršiaus plotą. ![](vbe\\VBE2015_14.PNG)'\n",
    "solution = ['Reikėtų įsivaizduoti, kokią figūrą atitinka šoninis paviršius ritinio išklotinėje', 'Tai stačiakampis su kraštinėmis 30 ir 6', 'Jo plotas 180']\n",
    "\n",
    "problem = {problem_id: {'Sąlyga': text, 'Gebėjimai': [dict()], 'Sprendimas': solution}}\n",
    "\n",
    "problem[problem_id]['Gebėjimai'][0]['Gebėjimas'] = 'Erdvės geometrija'\n",
    "problem[problem_id]['Gebėjimai'][0]['Atitikmuo'] = ''\n",
    "problem[problem_id]['Gebėjimai'][0]['Sprendimas'] = ''\n",
    "content.update(problem)\n",
    "\n",
    "with open(f\"{name}.txt\", \"w\", encoding='utf-8') as out_file:\n",
    "    json.dump(content, out_file, indent = 4, ensure_ascii=False)\n",
    "check(name, problem_id)"
   ]
  },
  {
   "cell_type": "code",
   "execution_count": 126,
   "metadata": {},
   "outputs": [
    {
     "data": {
      "text/markdown": [
       "**Užduotis.**\n",
       "\n",
       "Lentelėje pateikta informacija apie funkcijos $f(x)$ išvestinės $f(x)$ reikšmes. Užrašykite funkcijos reikšmių didėjimo intervalą (-us)\n",
       "\n",
       "**Sprendimas.**\n",
       "* Nėra"
      ],
      "text/plain": [
       "<IPython.core.display.Markdown object>"
      ]
     },
     "metadata": {},
     "output_type": "display_data"
    },
    {
     "data": {
      "text/markdown": [
       "----------------------------------------------------------------------------------------------------"
      ],
      "text/plain": [
       "<IPython.core.display.Markdown object>"
      ]
     },
     "metadata": {},
     "output_type": "display_data"
    },
    {
     "data": {
      "text/markdown": [
       "**Uždavinio dalis 1, kurioje yra Išvestinės.**\n",
       "\n",
       "\n",
       "\n",
       "**Sprendimas.**\n",
       "\n"
      ],
      "text/plain": [
       "<IPython.core.display.Markdown object>"
      ]
     },
     "metadata": {},
     "output_type": "display_data"
    }
   ],
   "source": [
    "problem_id = '15a'\n",
    "text = 'Lentelėje pateikta informacija apie funkcijos $f(x)$ išvestinės $f''(x)$ reikšmes. Užrašykite funkcijos reikšmių didėjimo intervalą (-us)'\n",
    "solution = ['Nėra']\n",
    "\n",
    "problem = {problem_id: {'Sąlyga': text, 'Gebėjimai': [dict()], 'Sprendimas': solution}}\n",
    "\n",
    "problem[problem_id]['Gebėjimai'][0]['Gebėjimas'] = 'Išvestinės'\n",
    "problem[problem_id]['Gebėjimai'][0]['Atitikmuo'] = ''\n",
    "problem[problem_id]['Gebėjimai'][0]['Sprendimas'] = ''\n",
    "content.update(problem)\n",
    "\n",
    "with open(f\"{name}.txt\", \"w\", encoding='utf-8') as out_file:\n",
    "    json.dump(content, out_file, indent = 4, ensure_ascii=False)\n",
    "check(name, problem_id)"
   ]
  },
  {
   "cell_type": "code",
   "execution_count": 89,
   "metadata": {},
   "outputs": [
    {
     "data": {
      "text/markdown": [
       "**Užduotis.**\n",
       "\n",
       "Lentelėje pateikta informacija apie funkcijos $f(x)$ išvestinės $f(x)$ reikšmes. Užrašykite funkcijos minimumo tašką.\n",
       "\n",
       "**Sprendimas.**\n",
       "* Nėra"
      ],
      "text/plain": [
       "<IPython.core.display.Markdown object>"
      ]
     },
     "metadata": {},
     "output_type": "display_data"
    },
    {
     "data": {
      "text/markdown": [
       "----------------------------------------------------------------------------------------------------"
      ],
      "text/plain": [
       "<IPython.core.display.Markdown object>"
      ]
     },
     "metadata": {},
     "output_type": "display_data"
    },
    {
     "data": {
      "text/markdown": [
       "**Uždavinio dalis 1, kurioje yra Išvestinės.**\n",
       "\n",
       "\n",
       "\n",
       "**Sprendimas.**\n",
       "\n"
      ],
      "text/plain": [
       "<IPython.core.display.Markdown object>"
      ]
     },
     "metadata": {},
     "output_type": "display_data"
    }
   ],
   "source": [
    "problem_id = '15b'\n",
    "text = 'Lentelėje pateikta informacija apie funkcijos $f(x)$ išvestinės $f''(x)$ reikšmes. Užrašykite funkcijos minimumo tašką.'\n",
    "solution = ['Nėra']\n",
    "\n",
    "problem = {problem_id: {'Sąlyga': text, 'Gebėjimai': [dict()], 'Sprendimas': solution}}\n",
    "\n",
    "problem[problem_id]['Gebėjimai'][0]['Gebėjimas'] = 'Išvestinės'\n",
    "problem[problem_id]['Gebėjimai'][0]['Atitikmuo'] = ''\n",
    "problem[problem_id]['Gebėjimai'][0]['Sprendimas'] = ''\n",
    "content.update(problem)\n",
    "\n",
    "with open(f\"{name}.txt\", \"w\", encoding='utf-8') as out_file:\n",
    "    json.dump(content, out_file, indent = 4, ensure_ascii=False)\n",
    "check(name, problem_id)"
   ]
  },
  {
   "cell_type": "code",
   "execution_count": 92,
   "metadata": {},
   "outputs": [
    {
     "data": {
      "text/markdown": [
       "**Užduotis.**\n",
       "\n",
       "Keturkampis $ABCD$ yra rombas. Raskite vektorių, lygų vektorių sumai $\\overrightarrow{AB}+\\overrightarrow{AD}$ ![](vbe\\VBE2015_16.PNG)\n",
       "\n",
       "**Sprendimas.**\n",
       "* Nėra"
      ],
      "text/plain": [
       "<IPython.core.display.Markdown object>"
      ]
     },
     "metadata": {},
     "output_type": "display_data"
    },
    {
     "data": {
      "text/markdown": [
       "----------------------------------------------------------------------------------------------------"
      ],
      "text/plain": [
       "<IPython.core.display.Markdown object>"
      ]
     },
     "metadata": {},
     "output_type": "display_data"
    },
    {
     "data": {
      "text/markdown": [
       "**Uždavinio dalis 1, kurioje yra Vektoriai.**\n",
       "\n",
       "\n",
       "\n",
       "**Sprendimas.**\n",
       "\n"
      ],
      "text/plain": [
       "<IPython.core.display.Markdown object>"
      ]
     },
     "metadata": {},
     "output_type": "display_data"
    }
   ],
   "source": [
    "problem_id = '16a'\n",
    "text = 'Keturkampis $ABCD$ yra rombas. Raskite vektorių, lygų vektorių sumai $\\\\overrightarrow{AB}+\\\\overrightarrow{AD}$ ![](vbe\\VBE2015_16.PNG)'\n",
    "solution = ['Nėra']\n",
    "\n",
    "problem = {problem_id: {'Sąlyga': text, 'Gebėjimai': [dict()], 'Sprendimas': solution}}\n",
    "\n",
    "problem[problem_id]['Gebėjimai'][0]['Gebėjimas'] = 'Vektoriai'\n",
    "problem[problem_id]['Gebėjimai'][0]['Atitikmuo'] = ''\n",
    "problem[problem_id]['Gebėjimai'][0]['Sprendimas'] = ''\n",
    "content.update(problem)\n",
    "\n",
    "with open(f\"{name}.txt\", \"w\", encoding='utf-8') as out_file:\n",
    "    json.dump(content, out_file, indent = 4, ensure_ascii=False)\n",
    "check(name, problem_id)"
   ]
  },
  {
   "cell_type": "code",
   "execution_count": 93,
   "metadata": {},
   "outputs": [
    {
     "data": {
      "text/markdown": [
       "**Užduotis.**\n",
       "\n",
       "Keturkampis $ABCD$ yra rombas. Raskite vektorių skaliarinę sandaugą $\\overrightarrow{BD}\\cdot \\overrightarrow{AC}$ ![](vbe\\VBE2015_16.PNG)\n",
       "\n",
       "**Sprendimas.**\n",
       "* Nėra"
      ],
      "text/plain": [
       "<IPython.core.display.Markdown object>"
      ]
     },
     "metadata": {},
     "output_type": "display_data"
    },
    {
     "data": {
      "text/markdown": [
       "----------------------------------------------------------------------------------------------------"
      ],
      "text/plain": [
       "<IPython.core.display.Markdown object>"
      ]
     },
     "metadata": {},
     "output_type": "display_data"
    },
    {
     "data": {
      "text/markdown": [
       "**Uždavinio dalis 1, kurioje yra Vektoriai.**\n",
       "\n",
       "\n",
       "\n",
       "**Sprendimas.**\n",
       "\n"
      ],
      "text/plain": [
       "<IPython.core.display.Markdown object>"
      ]
     },
     "metadata": {},
     "output_type": "display_data"
    }
   ],
   "source": [
    "problem_id = '16b'\n",
    "text = 'Keturkampis $ABCD$ yra rombas. Raskite vektorių skaliarinę sandaugą $\\\\overrightarrow{BD}\\cdot \\\\overrightarrow{AC}$ ![](vbe\\VBE2015_16.PNG)'\n",
    "solution = ['Nėra']\n",
    "\n",
    "problem = {problem_id: {'Sąlyga': text, 'Gebėjimai': [dict()], 'Sprendimas': solution}}\n",
    "\n",
    "problem[problem_id]['Gebėjimai'][0]['Gebėjimas'] = 'Vektoriai'\n",
    "problem[problem_id]['Gebėjimai'][0]['Atitikmuo'] = ''\n",
    "problem[problem_id]['Gebėjimai'][0]['Sprendimas'] = ''\n",
    "content.update(problem)\n",
    "\n",
    "with open(f\"{name}.txt\", \"w\", encoding='utf-8') as out_file:\n",
    "    json.dump(content, out_file, indent = 4, ensure_ascii=False)\n",
    "check(name, problem_id)"
   ]
  },
  {
   "cell_type": "code",
   "execution_count": 97,
   "metadata": {},
   "outputs": [],
   "source": [
    "problem_id = '17a'\n",
    "text = 'Vandens lygis $d$ (metrais) uoste laiko momentu $t$ paros laikotarpyje, pradedant nuo vidurnakčio, apskaičiuojamas pagal formulę $d(t)=10+1,8\\\\cos \\\\left(\\\\frac{\\\\pi}{6}t\\\\right), 0\\\\le t\\\\le 24$. Nustatykite vandens lygį uoste 9 valandą ryto'\n",
    "solution = ['Nėra']\n",
    "\n",
    "problem = {problem_id: {'Sąlyga': text, 'Gebėjimai': [dict()], 'Sprendimas': solution}}\n",
    "\n",
    "problem[problem_id]['Gebėjimai'][0]['Gebėjimas'] = 'Trigonometrija'\n",
    "problem[problem_id]['Gebėjimai'][0]['Atitikmuo'] = ''\n",
    "problem[problem_id]['Gebėjimai'][0]['Sprendimas'] = ''\n",
    "content.update(problem)\n",
    "\n",
    "with open(f\"{name}.txt\", \"w\", encoding='utf-8') as out_file:\n",
    "    json.dump(content, out_file, indent = 4, ensure_ascii=False)\n",
    "#check(name, problem_id)"
   ]
  },
  {
   "cell_type": "code",
   "execution_count": 98,
   "metadata": {},
   "outputs": [
    {
     "data": {
      "text/markdown": [
       "**Užduotis.**\n",
       "\n",
       "Vandens lygis $d$ (metrais) uoste laiko momentu $t$ paros laikotarpyje, pradedant nuo vidurnakčio, apskaičiuojamas pagal formulę $d(t)=10+1,8\\cos \\left(\\frac{\\pi}{6}t\\right), 0\\le t\\le 24$. Didžiausią galimą $d$ reikšmę\n",
       "\n",
       "**Sprendimas.**\n",
       "* Nėra"
      ],
      "text/plain": [
       "<IPython.core.display.Markdown object>"
      ]
     },
     "metadata": {},
     "output_type": "display_data"
    },
    {
     "data": {
      "text/markdown": [
       "----------------------------------------------------------------------------------------------------"
      ],
      "text/plain": [
       "<IPython.core.display.Markdown object>"
      ]
     },
     "metadata": {},
     "output_type": "display_data"
    },
    {
     "data": {
      "text/markdown": [
       "**Uždavinio dalis 1, kurioje yra Trigonometrija.**\n",
       "\n",
       "\n",
       "\n",
       "**Sprendimas.**\n",
       "\n"
      ],
      "text/plain": [
       "<IPython.core.display.Markdown object>"
      ]
     },
     "metadata": {},
     "output_type": "display_data"
    }
   ],
   "source": [
    "problem_id = '17b'\n",
    "text = 'Vandens lygis $d$ (metrais) uoste laiko momentu $t$ paros laikotarpyje, pradedant nuo vidurnakčio, apskaičiuojamas pagal formulę $d(t)=10+1,8\\\\cos \\\\left(\\\\frac{\\\\pi}{6}t\\\\right), 0\\\\le t\\\\le 24$. Didžiausią galimą $d$ reikšmę'\n",
    "solution = ['Nėra']\n",
    "\n",
    "problem = {problem_id: {'Sąlyga': text, 'Gebėjimai': [dict()], 'Sprendimas': solution}}\n",
    "\n",
    "problem[problem_id]['Gebėjimai'][0]['Gebėjimas'] = 'Trigonometrija'\n",
    "problem[problem_id]['Gebėjimai'][0]['Atitikmuo'] = ''\n",
    "problem[problem_id]['Gebėjimai'][0]['Sprendimas'] = ''\n",
    "content.update(problem)\n",
    "\n",
    "with open(f\"{name}.txt\", \"w\", encoding='utf-8') as out_file:\n",
    "    json.dump(content, out_file, indent = 4, ensure_ascii=False)\n",
    "check(name, problem_id)"
   ]
  },
  {
   "cell_type": "code",
   "execution_count": null,
   "metadata": {},
   "outputs": [],
   "source": []
  }
 ],
 "metadata": {
  "kernelspec": {
   "display_name": "Python 3",
   "language": "python",
   "name": "python3"
  },
  "language_info": {
   "codemirror_mode": {
    "name": "ipython",
    "version": 3
   },
   "file_extension": ".py",
   "mimetype": "text/x-python",
   "name": "python",
   "nbconvert_exporter": "python",
   "pygments_lexer": "ipython3",
   "version": "3.8.3"
  }
 },
 "nbformat": 4,
 "nbformat_minor": 4
}
