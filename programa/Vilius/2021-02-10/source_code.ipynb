{
 "cells": [
  {
   "cell_type": "markdown",
   "metadata": {},
   "source": [
    "## Source code"
   ]
  },
  {
   "cell_type": "markdown",
   "metadata": {},
   "source": [
    "### Užklausos, su kuriomis galima peržiūrinėti uždavinius, jų komplektus ir sprendimus"
   ]
  },
  {
   "cell_type": "code",
   "execution_count": 2,
   "metadata": {},
   "outputs": [],
   "source": [
    "import json\n",
    "from IPython.display import display, Markdown\n",
    "import os\n",
    "from collections import defaultdict\n",
    "import matplotlib.pyplot as plt\n",
    "import matplotlib.colors as mlc\n",
    "import numpy as np\n",
    "from itertools import chain, compress\n",
    "from io import StringIO\n",
    "import pandas as pd\n",
    "\n",
    "\n",
    "def read_json(file):\n",
    "    with open(file, encoding='utf-8') as fh:\n",
    "        data = json.loads(fh.read())\n",
    "    return data\n",
    "\n",
    "def document_it(clusters, branches):\n",
    "    clusters = read_json(clusters)\n",
    "    branches = read_json(branches)\n",
    "    headings = dict(zip([clusters[n][0] for n in clusters], clusters))\n",
    "    docstring = ''\n",
    "    for branch in branches:\n",
    "        if branch in headings:\n",
    "            docstring += f'\\n### {headings[branch]}\\n\\n'\n",
    "        docstring += f'* **{branch}.** {branches[branch]}\\n'\n",
    "    return docstring\n",
    "\n",
    "def make_some_bank(*files, extention='.txt'):\n",
    "    docstring = ''\n",
    "    for file in files:\n",
    "        heading = os.path.splitext(file)[0]\n",
    "        docstring += f'\\n### {heading}\\n'\n",
    "        bank = read_json(file + extention)\n",
    "        for užduotis in bank:\n",
    "            docstring += f\"{užduotis}\\\\. {bank[užduotis]['Sąlyga']}\"+'\\n\\n'\n",
    "    return docstring\n",
    "\n",
    "def show_problem(complect, id, show_solution=True):\n",
    "    problem = read_json(f'{complect}.txt')[id]\n",
    "    step = '**Užduotis.**\\n\\n' + problem[\"Sąlyga\"]\n",
    "    if show_solution: step += ('\\n\\n**Sprendimas.**\\n' + '\\n'.join([f'* {n}' for n in problem[\"Sprendimas\"]]))\n",
    "    return step\n",
    "\n",
    "def show_case(complect, id, which=1, show_solution=True):\n",
    "    skills = read_json(f'{complect}.txt')[id][\"Gebėjimai\"][which-1]\n",
    "    step = '**Uždavinio dalis ' + f\"{which}, kurioje yra {skills['Gebėjimas']}\" + '.**\\n\\n' + skills['Atitikmuo']\n",
    "    if show_solution: step += ('\\n\\n**Sprendimas.**\\n\\n' + skills['Sprendimas'])\n",
    "    return step\n",
    "    \n",
    "def show_skill(skill, *files, extention='.txt'):\n",
    "    counter = 0\n",
    "    docstring = f'### Uždaviniai[@], kuriuose yra {skill}: \\n\\n'\n",
    "    for file in files:\n",
    "        heading = os.path.splitext(file)[0]\n",
    "        bank = read_json(file + extention)\n",
    "        for užduotis in bank:\n",
    "            for idx, gebėjimas in enumerate(bank[užduotis]['Gebėjimai']):\n",
    "                if gebėjimas['Gebėjimas'] == skill:\n",
    "                    counter +=1 \n",
    "                    docstring += f\"**{heading}.{užduotis}->{idx+1}** {gebėjimas['Atitikmuo']}\\n\\n\"\n",
    "                else: #expects to have just a list of skills without dict of descriptions\n",
    "                    if gebėjimas == skill:\n",
    "                        counter +=1\n",
    "                        docstring += f\"**{heading}.{užduotis}->{idx+1}** {bank[užduotis]['Sąlyga']}\\n\\n\"\n",
    "    return docstring.replace('@', str(counter))\n",
    "\n",
    "def get_analysis(*files, extension='.txt'):\n",
    "    skills = defaultdict(list)\n",
    "    for file in files:\n",
    "        heading = os.path.splitext(file)[0]\n",
    "        bank = read_json(file + extension)\n",
    "        for užduotis in bank:\n",
    "            for idx, gebėjimas in enumerate(bank[užduotis]['Gebėjimai']):\n",
    "                if type(gebėjimas) is dict:\n",
    "                    skills[gebėjimas['Gebėjimas']].append(f\"{heading}.{užduotis}->{idx+1}\")\n",
    "                else:\n",
    "                    skills[gebėjimas].append(f\"{heading}.{užduotis}->{idx+1}\")\n",
    "    return skills\n",
    "\n",
    "def check(name, problem_id, extension='.txt'):\n",
    "    display(Markdown(show_problem(name, problem_id, show_solution=True)))\n",
    "    problem = read_json(name + extension)\n",
    "    for i in range(len(problem[problem_id]['Gebėjimai'])): \n",
    "        display(Markdown('-'*100))\n",
    "        display(Markdown(show_case(name, problem_id, which=i+1, show_solution=True)))\n",
    "\n",
    "def check_skills(name, problem_id, extension='.txt'):\n",
    "    problem = read_json(name + extension)\n",
    "    return [n['Gebėjimas'] for n in problem[problem_id]['Gebėjimai']]\n",
    "\n",
    "def get_distribution(cluster_file, *files):\n",
    "    analysis = get_analysis(*files)\n",
    "    print(analysis)\n",
    "    branch_counts = defaultdict(int)\n",
    "    for branch in analysis:\n",
    "        branch_counts[branch] += len(analysis[branch])\n",
    "    clusters = read_json(cluster_file)\n",
    "    d = dict()\n",
    "    for cluster in clusters:\n",
    "        bc = dict()\n",
    "        for branch in clusters[cluster]:\n",
    "            bc[branch] = branch_counts[branch]\n",
    "            branch_counts.pop(branch)\n",
    "        d[cluster] = bc\n",
    "    if len(branch_counts):\n",
    "        print('WARNING! Some problems contain skills that are not in clusters:\\n', branch_counts)\n",
    "    return d\n",
    "\n",
    "class Skills:\n",
    "    kw = dict(bbox=dict(boxstyle=\"square, pad=0.3\", fc=\"w\", ec=\"k\", lw=0.72),\n",
    "          arrowprops=dict(arrowstyle=\"-\"), zorder=0, va=\"center\")\n",
    "    cmap = plt.get_cmap(\"jet\")\n",
    "    \n",
    "    def __init__(self, clusters_file, *files):\n",
    "        self.distribution = get_distribution(clusters_file, *files)\n",
    "        \n",
    "    def set_diagram(self):\n",
    "        self.inner_names = list(self.distribution.keys()) #clusters\n",
    "        self.outer_names = list(chain(*[list(n.keys()) for n in self.distribution.values()])) #branches of clusters\n",
    "        \n",
    "        self.outer_values = np.array(list(chain(*[list(n.values()) for n in self.distribution.values()]))) #sizes of branches in each cluster\n",
    "        self.inner_values = np.array([sum(n.values()) for n in self.distribution.values()]) #sizes of clusters\n",
    "        \n",
    "        self.inner_idx = np.flatnonzero(self.inner_values) #idx of nonzero inner values\n",
    "        self.outer_idx = np.flatnonzero(self.outer_values) #idx of nonzero outer values\n",
    "\n",
    "    def set_colors(self):\n",
    "        self.set_diagram()\n",
    "        marker_idx = np.cumsum([len(n) for n in self.distribution.values()])[:-1] #idx where to split flat data\n",
    "        outer_spectrum = np.linspace(0, 1, len(self.outer_values))\n",
    "        inner_spectrum = np.array([np.mean(n) for n in np.split(outer_spectrum, marker_idx)])        \n",
    "        self.inner_colors = self.cmap(inner_spectrum)\n",
    "        self.outer_colors = self.cmap(outer_spectrum)\n",
    "\n",
    "    def flatnonzero(self):\n",
    "        #remove zero pieces which is illegal\n",
    "        self.inner_names = np.array(self.inner_names)[self.inner_idx]\n",
    "        self.outer_names = np.array(self.outer_names)[self.outer_idx]\n",
    "        self.inner_values = self.inner_values[self.inner_idx]\n",
    "        self.outer_values = self.outer_values[self.outer_idx]\n",
    "        self.inner_colors = self.inner_colors[self.inner_idx]\n",
    "        self.outer_colors = self.outer_colors[self.outer_idx]\n",
    "                                  \n",
    "    def get_inner_pie(self):\n",
    "        wedges, text = plt.gca().pie(self.inner_values, labels = self.inner_names, labeldistance=0.5, radius=0.5, colors=self.inner_colors, \n",
    "                                wedgeprops=dict(width=0.2, edgecolor='w'), textprops=dict(fontsize=15, fontweight='bold'))\n",
    "        return wedges\n",
    "    \n",
    "    def get_outer_pie(self):\n",
    "        wedges, text = plt.gca().pie(self.outer_values, radius=1, colors=self.outer_colors, \n",
    "                                wedgeprops=dict(width=0.5, edgecolor='w'))\n",
    "        return wedges\n",
    "                     \n",
    "    def add_labels(self, wedges):\n",
    "        for i, p in enumerate(wedges):\n",
    "            ang = (p.theta2 - p.theta1)/2. + p.theta1\n",
    "            y = np.sin(np.deg2rad(ang))\n",
    "            x = np.cos(np.deg2rad(ang))\n",
    "            horizontalalignment = {-1: \"right\", 1: \"left\"}[int(np.sign(x))]\n",
    "            connectionstyle = f\"angle, angleA=0, angleB={ang}\"\n",
    "            self.kw[\"arrowprops\"].update({\"connectionstyle\": connectionstyle})\n",
    "            plt.gca().annotate(self.outer_names[i], xy=(x, y), xytext=(1.35*np.sin(x), 1.4*y),\n",
    "                        horizontalalignment=horizontalalignment, fontsize=11, fontweight='bold', **self.kw)\n",
    "                                  \n",
    "    def plot(self):\n",
    "        fig = plt.figure(figsize=(6, 6))\n",
    "        plt.gca().set(aspect=\"equal\")\n",
    "        self.set_diagram()\n",
    "        self.set_colors()\n",
    "        self.flatnonzero()\n",
    "        wedges = self.get_outer_pie()\n",
    "        self.get_inner_pie()\n",
    "        self.add_labels(wedges)\n",
    "        plt.show()\n",
    "    \n",
    "def get_data(text):\n",
    "    df = pd.read_csv(StringIO(text), sep=\" \")\n",
    "    df.set_index(['author', 'topic','problem_id'], inplace=True)\n",
    "    df1 = df[df['part']==0]\n",
    "    df2 = df[df['part']!=0]\n",
    "    df3 = pd.concat([df1, df2]).sort_values(by=['part'])\n",
    "    df3 = df3[~df3.index.duplicated(keep='first')]\n",
    "    df3['solved'][df3['part']!=0] = None\n",
    "    df3 = df3.drop('part', 1)\n",
    "    df3['skills'] = [tuple([n['Gebėjimas'] for n in read_json(f'{x}/{y}.txt')[str(z)]['Gebėjimai']]) for x,y,z in df3.index]\n",
    "    df3['pts'] = [len(n) for n in df3['skills']]\n",
    "    df4 = df3.copy()\n",
    "    part = df3.loc[df3.index.repeat(df3['pts'])].groupby(['author', 'topic', 'problem_id']).cumcount() + 1\n",
    "    df4 = pd.DataFrame(part, columns=['part'])\n",
    "    df4['skill'] = list(chain(*df3['skills']))\n",
    "    df5 = df4.merge(df2, on=['author', 'topic', 'problem_id', 'part'], how='outer')\n",
    "    for n in df3[df3['solved']==True].index: \n",
    "        df5.loc[n, 'solved'] = True\n",
    "    return df3, df5\n",
    "\n",
    "def achievements(df5, df3, colors):\n",
    "    vals_big = np.array([n if n == n else -1 for n in df5['solved'].values.tolist()]).astype(int)\n",
    "    vals_small = np.array([n if n == n else -1 for n in df3['solved'].values.tolist()]).astype(int)\n",
    "    img = vals_big[:, None]\n",
    "    completed = df3['pts'].values\n",
    "    shape = img.shape\n",
    "\n",
    "    figure, ax = plt.subplots(figsize=(6,8))\n",
    "\n",
    "    #x.set_xlabel('Activity', fontsize=13)\n",
    "    #ax.set_yticklabels(list(df5['skill'].values), rotation='horizontal', fontsize=12, fontweight='bold', minor=False)\n",
    "    ax.set_yticks(np.arange(-0.5+0.5, img.shape[0]+0.5, 1)) #borders between edges\n",
    "    ax.set_yticklabels(list(df5['skill'].values), rotation='horizontal', fontsize=12, fontweight='bold')\n",
    "    ax.set_ylim(-0.5, img.shape[0]-0.5)\n",
    "    #ax.set_xticklabels(np.arange(1, img.shape[1] + 1, 1))\n",
    "\n",
    "    #ax.set_ylabel('States', fontsize=13)\n",
    "    ax.set_xticks(np.arange(0, 1, 1))\n",
    "    ax.get_xaxis().set_visible(False)\n",
    "    ax.set_xlim(-0.5, 0.5)\n",
    "    #ax.set_yticks(np.arange(-.5, img.shape[0], 1), minor=True)\n",
    "    #ax.set_yticklabels(states)\n",
    "\n",
    "    a=0.05\n",
    "    pal = {1: 'none', 0: 'red', -1: 'grey'}\n",
    "    for idx, clr in enumerate(colors):\n",
    "        if vals_big[idx]!=-1:\n",
    "            ax.add_patch(plt.Rectangle((-0.5, -0.5+idx), 1, 1, facecolor=clr, edgecolor = pal[vals_big[idx]], hatch=r'xxx', zorder=0))\n",
    "        else:\n",
    "            ax.add_patch(plt.Rectangle((-0.5, -0.5+idx), 1, 1, facecolor='none', edgecolor = pal[vals_big[idx]], hatch=r'xxx'))\n",
    "        \n",
    "    pallete = {1: 'limegreen', 0: 'crimson', -1: 'none'}\n",
    "    starts, sizes = np.cumsum(np.r_[0, df3['pts'].values[:-1]]), np.r_[df3['pts'].values]\n",
    "    for start, size, solved in zip(starts, sizes, vals_small):\n",
    "        ax.add_patch(plt.Rectangle((-0.5+a, start-0.5+a), 1-2*a, size-2*a, \n",
    "                                   facecolor='none', edgecolor = pallete[solved], zorder=1, lw=4, linestyle='--'))\n",
    "    \n",
    "    #ax.yaxis.set_label_position(\"right\")\n",
    "    #ax.yaxis.tick_right()\n",
    "\n",
    "    \n",
    "    ax.grid(which='minor', color='k')\n",
    "    ax.set_title('Pasiekimai', fontsize=15, fontweight='bold')\n",
    "    plt.gca().invert_yaxis()\n",
    "    #plt.gca().majorticks_off()\n",
    "    plt.show()"
   ]
  },
  {
   "cell_type": "markdown",
   "metadata": {},
   "source": [
    "### Klasė, su kuria galima pasivaizduoti, ką sprendėme"
   ]
  },
  {
   "cell_type": "code",
   "execution_count": 3,
   "metadata": {},
   "outputs": [],
   "source": [
    "import math\n",
    "import matplotlib.patches as patches \n",
    "from matplotlib.offsetbox import AnnotationBbox, AuxTransformBox\n",
    "from matplotlib.colors import ListedColormap\n",
    "import matplotlib.cm as cm \n",
    "import textwrap\n",
    "\n",
    "class Summary:\n",
    "    def __init__(self, lesson_df):\n",
    "        self.lesson_df = lesson_df\n",
    "        \n",
    "    def get_colors(self, clusters):\n",
    "        skills = []\n",
    "        for n in read_json(clusters).values():\n",
    "            skills.extend(n)\n",
    "\n",
    "        idx = [skills.index(n) for n in self.lesson_df['skill']]\n",
    "        palette = plt.get_cmap('jet')(np.linspace(0, 1, len(skills)))\n",
    "        colors = palette[idx]\n",
    "        return colors\n",
    "        \n",
    "    def add_summary(self, colors, mode = 'abstract', height=10, width=30, \n",
    "                    fixes={'\\\\boxed': '', '\\\\sin': '\\\\cos'}, figsize=(6,8), wrapping=50):\n",
    "        groupby = self.lesson_df.groupby(['author', 'topic', 'problem_id'], sort=False)\n",
    "        chunk_sizes = groupby.size().values\n",
    "        chunk_values = groupby.nth(0)['solved_fully'].values\n",
    "        figure, ax = plt.subplots(figsize = figsize, dpi=100)\n",
    "\n",
    "\n",
    "        ax.set_xticks(np.arange(0, width, width))\n",
    "        ax.get_xaxis().set_visible(False)\n",
    "        ax.set_xlim(0, width)\n",
    "\n",
    "        a=0.05\n",
    "        \n",
    "        # Full rectangles\n",
    "        pallete = {1: 'green', 0: 'brown'}\n",
    "        yticks = []\n",
    "        for start, size, solved in zip(np.cumsum(np.r_[0, chunk_sizes[:-1]]), chunk_sizes, chunk_values):\n",
    "            box_position = height * (start+size/2)\n",
    "            yticks.append(box_position)\n",
    "            if not math.isnan(solved):\n",
    "                rect = patches.Rectangle((-0.5*width, start*height+ height/2), width, size*height, facecolor='none')\n",
    "                offsetbox = AuxTransformBox(ax.transData)\n",
    "                offsetbox.add_artist(rect)\n",
    "                ab = AnnotationBbox(offsetbox, (width/2, box_position),\n",
    "                                    boxcoords=\"data\", pad=-0.62,fontsize=4,\n",
    "                                    bboxprops=dict(facecolor = \"none\", edgecolor=pallete[solved], \n",
    "                                              lw = 4))\n",
    "                ax.add_artist(ab)\n",
    "                \n",
    "                \n",
    "            else:\n",
    "                ax.add_patch(plt.Rectangle((0, (start-0.5)*height), width, size*height, \n",
    "                                           facecolor='none', edgecolor = 'none', zorder=1, lw=4, linestyle='--'))\n",
    "        \n",
    "        # Partial rectangles\n",
    "        for idx, clr in enumerate(colors):\n",
    "            point = self.lesson_df['solved_partially'][idx]\n",
    "            if math.isnan(point):\n",
    "                ax.add_patch(plt.Rectangle((0, idx*height), width, height, facecolor='none', edgecolor = 'grey', hatch=r'xxx'))\n",
    "            else:\n",
    "                s = {True: 0.65, False: 0}[point]\n",
    "                rectangle = patches.Rectangle((0, idx*height), width, height, facecolor=clr, \n",
    "                                           edgecolor = 'k', hatch=r'xxx', zorder=0)\n",
    "                ax.add_patch(rectangle)\n",
    "                \n",
    "                #clip your colors here\n",
    "                cell = (np.sin(np.linspace(0, np.pi, height)[:, np.newaxis]) * np.cos(np.linspace(-np.pi/2, np.pi/2, width))**0.5)\n",
    "                col = np.c_[np.linspace(clr[0], clr[0]*s, 20),\n",
    "                          np.linspace(clr[1], clr[1]*s, 20), \n",
    "                          np.linspace(clr[2], clr[2]*s, 20),\n",
    "                          np.ones(20)]\n",
    "                im = ax.imshow(cell, interpolation ='bicubic', cmap = ListedColormap(col), extent = (0, width, idx*height, (idx+1)*height))\n",
    "                im.set_clip_path(rectangle)\n",
    "              \n",
    "        ax.yaxis.set_label_position(\"right\")\n",
    "        ax.yaxis.tick_right()\n",
    "        \n",
    "        if mode == 'abstract':\n",
    "            ax.set_yticks(np.linspace(height/2, len(self.lesson_df) * height - height/2, len(self.lesson_df)))\n",
    "            ax.set_yticklabels(self.lesson_df['skill'].values, rotation='horizontal', fontsize=12, fontweight='bold')\n",
    "\n",
    "        elif mode == 'real':\n",
    "            problems = []\n",
    "            for author, topic, problem_id in groupby.nth(0).index:\n",
    "                u = read_json(f'{author}/{topic}.txt')[str(problem_id)]['Sąlyga']\n",
    "                problems.append(self.entering(self.parse_exception(u, fixes), wrapping=wrapping))\n",
    "\n",
    "            ax.set_yticks(yticks)\n",
    "            ax.set_yticklabels(problems, rotation='horizontal', fontsize=10, fontweight='bold')\n",
    "        \n",
    "        elif mode == 'full':\n",
    "            problems = []\n",
    "            for author, topic, problem_id in groupby.nth(0).index:\n",
    "                u = read_json(f'{author}/{topic}.txt')[str(problem_id)]\n",
    "                point_names = [self.entering(self.parse_exception(p['Atitikmuo'], fixes), wrapping=wrapping) for p in u['Gebėjimai']]\n",
    "                if len(point_names) == 1:\n",
    "                    problems.append(self.entering(self.parse_exception(u['Sąlyga'], fixes), wrapping=wrapping))\n",
    "                else:\n",
    "                    problems.extend(point_names)\n",
    "                    \n",
    "            ax.set_yticks(np.linspace(height/2, len(self.lesson_df) * height - height/2, len(self.lesson_df)))\n",
    "            ax.set_yticklabels(problems, rotation='horizontal', fontsize=10, fontweight='bold')\n",
    "\n",
    "        ax.set_ylim(0, len(self.lesson_df) * height)\n",
    "        \n",
    "        ax.set_title('Pasiekimai', fontsize=15, fontweight='bold')\n",
    "        #ax.tick_params(axis='y', which='major', right=False) #might this help to extend plot\n",
    "        plt.gca().invert_yaxis()\n",
    "        plt.show()\n",
    "    \n",
    "    @staticmethod\n",
    "    def parse_exception(text, fixes={}):\n",
    "        for n in fixes:\n",
    "            text = text.replace(n, fixes[n])\n",
    "        return text\n",
    "    \n",
    "    @staticmethod\n",
    "    def entering(text, wrapping=100):\n",
    "        se = np.array([m.start() for m in re.finditer(r\"(?=\\$)\", text)])\n",
    "        if len(se):\n",
    "            se = se.reshape(-1, 2) + (0, 1)\n",
    "            forward = dict((text[s[0]:s[1]], str(np.random.randint(1000000000))) for s in se)\n",
    "            backward = dict((forward[n], n) for n in forward)\n",
    "\n",
    "            for n in forward:\n",
    "                text = text.replace(n, forward[n])\n",
    "            out_text = '\\n'.join(textwrap.wrap(text, width=wrapping))\n",
    "            \n",
    "            for n in backward:\n",
    "                out_text = out_text.replace(n, backward[n])\n",
    "            return out_text\n",
    "        else:\n",
    "            return '\\n'.join(textwrap.wrap(text, width=wrapping))\n",
    "    \n",
    "    \n",
    "        \n",
    "#Jei prireiks - uždavinių rūšiavimas pagal numerius\n",
    "import re\n",
    "def argsort_problems(problem_ids):\n",
    "    keys = [re.match(r'(\\d*)(.*)', s).groups() for s in problem_ids]\n",
    "    keys = [(int(num), ord(letters)) if letters else (int(num), 0) for num, letters in keys]\n",
    "    sorter = np.ravel_multi_index(np.array(keys).T, (256, 256))\n",
    "    return np.argsort(sorter)"
   ]
  },
  {
   "cell_type": "markdown",
   "metadata": {},
   "source": [
    "### Klasė, kuri nuskaito pamokos duomenis"
   ]
  },
  {
   "cell_type": "code",
   "execution_count": 4,
   "metadata": {},
   "outputs": [],
   "source": [
    "class Lesson:\n",
    "    def __init__(self, text):\n",
    "        self.df = pd.read_csv(StringIO(text), sep=\" \")\n",
    "        self.df.set_index(['author', 'topic','problem_id'], inplace=True)\n",
    "\n",
    "    def analyse_problems(self):\n",
    "        # analysis on every problem_id or its part attempted based on metadata; no scoring\n",
    "        skills, pts = [], []\n",
    "        for problem in self.df.index.unique():\n",
    "            author, topic, problem_id = problem\n",
    "            metadata = read_json(f'{author}/{topic}.txt')\n",
    "            problem_data = metadata[str(problem_id)]['Gebėjimai']\n",
    "            problem_skills = [n['Gebėjimas'] for n in problem_data]\n",
    "            skills.append(problem_skills)\n",
    "            pts.append(len(problem_skills))\n",
    "        self.problems_df = pd.DataFrame({'skills': skills, 'pts': pts}, index = self.df.index.unique())\n",
    "\n",
    "    def analyse_points(self):\n",
    "        # creates a span of point_ids for every problem_id and extracts skills from self.problems_df; no scoring\n",
    "        self.analyse_problems()\n",
    "        multi_idx = self.problems_df.index\n",
    "        point_series = self.problems_df.loc[multi_idx.repeat(self.problems_df['pts'])].groupby(multi_idx.names).cumcount() + 1\n",
    "        skill = list(chain(*self.problems_df['skills']))\n",
    "        self.points_df = pd.DataFrame({'point_id': point_series.values, 'skill': skill}, index = point_series.index)\n",
    "\n",
    "    def check_solutions(self):\n",
    "        # scoring of full solutions + partial solutions; combines solution with metadata of problems & points\n",
    "        self.analyse_points()\n",
    "        df1 = self.df[self.df['point_id']==0]\n",
    "        df2 = self.df[self.df['point_id']!=0]\n",
    "        df2 = df2.reset_index().set_index(['author', 'topic', 'problem_id', 'point_id'])\n",
    "        self.points_df.loc[df1.index, 'solved_fully'] = df1['solved']\n",
    "        self.points_df = self.points_df.reset_index().set_index(['author', 'topic', 'problem_id','point_id'])\n",
    "        self.points_df.loc[df2.index, 'solved_partially'] = df2['solved']\n",
    "\n",
    "    def fix_typos(self):\n",
    "        # typos of any of these kinds:\n",
    "        # * if solved fully, all the partial solutions becomes right\n",
    "        # * if any partial solution not right, it's not solved fully\n",
    "        # * except the case there are not attempted partial solutions; it makes a full solution not attempted as well\n",
    "        self.check_solutions()\n",
    "        df = self.points_df\n",
    "        df.loc[df['solved_fully'] == True, 'solved_partially'] = True\n",
    "        df = df.reset_index().set_index(['author', 'topic', 'problem_id'])\n",
    "        df.loc[(df['solved_partially'] == False).index, 'solved_fully'] = False\n",
    "        df.loc[df['solved_partially'].isnull().index, 'solved_fully'] = np.nan\n",
    "    \n",
    "    def get_lesson(self):\n",
    "        self.fix_typos()\n",
    "        return self.points_df"
   ]
  },
  {
   "cell_type": "markdown",
   "metadata": {},
   "source": [
    "## Usage"
   ]
  },
  {
   "cell_type": "markdown",
   "metadata": {},
   "source": [
    "### Parodyk reikalavimų sąrašą"
   ]
  },
  {
   "cell_type": "code",
   "execution_count": 30,
   "metadata": {},
   "outputs": [
    {
     "data": {
      "text/markdown": [
       "\n",
       "### Algebra\n",
       "\n",
       "* **Elementariosios matematikos gebėjimai.** Tiesinės ir kvadratinės lygtys, nelygybės ir jų sistemos, daugianarių sudėtis ir daugyba, reiškinių prastinimai, elementarūs aritmetiniai veiksmai.\n",
       "* **Reiškinių sudarymas.** Gebėjimas pagal uždavinio sąlygą sudaryti nesudėtingus raidinius arba skaitinius reiškinius, lygtis, nelygybes arba jų sistemas, reikšmių kontroliavimas (stebėjimas, kaip pakinta vienas dydis kintant kitam). Sudarytų reiškinių interpretavimas. Greičio, kelio ir laiko sąryšiai.\n",
       "* **Progresijos.** Aritmetinės ir geometrinės progresijos savybių taikymas.\n",
       "* **Palūkanos ir procentai.** Raidinių arba skaitinių reiškinių sudarymas panaudojant procentus, sudėtinės palūkanos.\n",
       "* **Logaritmai.** Logaritmų tapatybių taikymas, logaritminės lygtys ir nelygybės.\n",
       "* **Laipsniai ir šaknys.** Laipsnių ir šaknų savybių taikymas.\n",
       "\n",
       "### Funkcijos\n",
       "\n",
       "* **Funkcijos.** Reikšmės radimas žinant argumentą ir argumento radimas žinant reikšmę, skaičiaus, kintamojo, reiškinio ar funkcijos įstatymas į įvairias išraiškas, funkcijų grafikų interpretavimas, apibrėžimo sritis, veiksmai su intervalais.\n",
       "* **Išvestinės.** Išvestinių savybės, išvestinių skaičiavimas, funkcijų minimumai ir maksimumai, liestinių lygtys, geometrinė išvestinės interpretacija.\n",
       "* **Integralai.** Integralo panaudojimas funkcijų ribojamam plotui skaičiuoti, nesudėtingų reiškinių integravimas.\n",
       "\n",
       "### Geometrija\n",
       "\n",
       "* **Geometrija.** Plokštumos figūrų savybės.\n",
       "* **Trigonometrija.** Kampų konvertavimas į radianus ir atvirkščiai. Trigometrinių funkcijų ir joms atvirkštinių reikšmių radimas, kai žinomas jų argumentas. Trigonometrinių tapatybių taikymas, kraštinių sąryšiai stačiajame trikampyje, Sinusų ir Kosinusų teoremos, atvirkštinės trigonometrinės funkcijos, trigonometrinės lygtys ir nelygybės.\n",
       "* **Vektoriai.** Vektorių sudėtis ir atimtis, vektorinė ir skaliarinė sandaugos, kolinearumas, statmenumas, vieno vektoriaus išreiškimas per kitus, vektoriaus modulis.\n",
       "* **Erdvės geometrija.** Erdvinių kūnų tūriai ir paviršiaus plotai, uždaviniai su keliomis plokštumomis.\n",
       "\n",
       "### Kombinatorika\n",
       "\n",
       "* **Tikimybių teorija.** Tiesiog tikimybės\n",
       "* **Statistika.** Imtis, moda, mediana, vidurkis, dispersija, dažnių lentelės.\n",
       "* **Kombinatorika.** Deriniai, kėliniai, gretiniai.\n"
      ],
      "text/plain": [
       "<IPython.core.display.Markdown object>"
      ]
     },
     "metadata": {},
     "output_type": "display_data"
    }
   ],
   "source": [
    "display(Markdown(document_it(r'vbe\\clusters.txt', r'vbe\\branches.txt')))"
   ]
  },
  {
   "cell_type": "markdown",
   "metadata": {},
   "source": [
    "### Parodyk uždavinių komplektą"
   ]
  },
  {
   "cell_type": "code",
   "execution_count": 9,
   "metadata": {},
   "outputs": [
    {
     "data": {
      "text/markdown": [
       "\n",
       "### vbe/2015\n",
       "1\\. Kuris iš pateiktų eskizų yra funkcijos grafiko $y=2^x$ eskizas? ![](vbe\\VBE2015_1.PNG)\n",
       "\n",
       "2\\. Sekos bendrasis narys užrašomas formule $a_n=3n-1$ $(n=1,2,3,\\dots)$. Kam lygus jos penktasis narys $a_5$?\n",
       "\n",
       "3\\.  Diagramoje pavaizduotas šeimos vieno mėnesio visų išlaidų paskirstymas procentais. Tą mėnesį **maistui** šeima išleido 420 eurų. Kiek eurų šeima išleido rūbams? ![](vbe\\VBE2015_3.PNG)\n",
       "\n",
       "4\\. Kam lygi imties 5;14;11;6;5;10;12 mediana?\n",
       "\n",
       "5\\. Vandens čiaupo pajėgumas yra toks, kad stačiakampio gretasienio formos baseinas, kurio matmenys yra $a$, $b$ ir $c$, pripildomas per 1 valandą. Per kiek laiko iš to paties vandens čiaupo, veikiančio tokiu pačiu pajėgumu, galima būtų pripildyti stačiakampio gretasienio formos $2a$, $2b$ ir $2c$ matmenų baseiną?\n",
       "\n",
       "6\\. Išspręskite lygtį $(x+2011)(x+2013)(x+2014)=(x+2013)(x+2014)(x+2015)$\n",
       "\n",
       "7\\. Su kuria $x$ reikšme vektoriai $\\overrightarrow{a}=(x; 3)$ ir $\\overrightarrow{b}=(-2; 6)$ yra kolinearūs?\n",
       "\n",
       "8\\. Paveiksle pavaizduotas kubas $ABCDA_1B_1C_1D_1$ Raskite kampo tarp tiesių, kuriose yra kubo sienų įstrižainės $A_1B$ ir $B_1C$ didumą. ![](vbe\\VBE2015_8.png)\n",
       "\n",
       "9\\. Seifo kodą turi sudaryti trys skirtingi skaitmenys, užrašyti didėjimo tvarka. Kiek tokių skirtingų kodų galima sudaryti?\n",
       "\n",
       "10\\. Žinoma, kad funkcija $f(x)$ yra lyginė, o $g(x)$ - nelyginė. Apskaičiuokite $g(f(-a))+f(g(b))$, jei $f(a)=-b$, $g(-b)=a$, kur $a\\neq 0$, $b\\neq 0$\n",
       "\n",
       "11\\. $A=[-2; 4)$ ir $B=(-6;3)$ sankirtą $A\\bigcap B$\n",
       "\n",
       "12a\\. Išspręskite lygtį $5^{2x}=125$\n",
       "\n",
       "12b\\. Išspręskite lygtį $|x-2|=5$\n",
       "\n",
       "13a\\. Taškas $C$ priklauso apskritimui, kurio centras yra taškas $O$. Iš taško $M$, esančio apskritimo išorėje, nubrėžtos dvi tiesės, liečiančios apskritimą taškuose $A$ ir $B$, $\\angle AOB=80^o$.  Apskaičiukite $\\angle ACB$ didumą ![](vbe\\VBE2015_13.PNG)\n",
       "\n",
       "13b\\. Taškas $C$ priklauso apskritimui, kurio centras yra taškas $O$. Iš taško $M$, esančio apskritimo išorėje, nubrėžtos dvi tiesės, liečiančios apskritimą taškuose $A$ ir $B$, $\\angle AOB=80^o$.  Apskaičiukite $\\angle AMB$ didumą ![](vbe\\VBE2015_13.PNG)\n",
       "\n",
       "14\\. Ritinio pagrindo apskritimo ilgis lygus 30, o ritinio aukštinės ilgis lygus 6. Apskaičiuokite šio ritinio šoninio paviršiaus plotą. ![](vbe\\VBE2015_14.PNG)\n",
       "\n",
       "15a\\. Lentelėje pateikta informacija apie funkcijos $f(x)$ išvestinės $f(x)$ reikšmes. Užrašykite funkcijos reikšmių didėjimo intervalą (-us)\n",
       "\n",
       "15b\\. Lentelėje pateikta informacija apie funkcijos $f(x)$ išvestinės $f(x)$ reikšmes. Užrašykite funkcijos minimumo tašką.\n",
       "\n",
       "16a\\. Keturkampis $ABCD$ yra rombas. Raskite vektorių, lygų vektorių sumai $\\overrightarrow{AB}+\\overrightarrow{AD}$ ![](vbe\\VBE2015_16.PNG)\n",
       "\n",
       "16b\\. Keturkampis $ABCD$ yra rombas. Raskite vektorių skaliarinę sandaugą $\\overrightarrow{BD}\\cdot \\overrightarrow{AC}$ ![](vbe\\VBE2015_16.PNG)\n",
       "\n",
       "17a\\. Vandens lygis $d$ (metrais) uoste laiko momentu $t$ paros laikotarpyje, pradedant nuo vidurnakčio, apskaičiuojamas pagal formulę $d(t)=10+1,8\\cos \\left(\\frac{\\pi}{6}t\\right), 0\\le t\\le 24$. Nustatykite vandens lygį uoste 9 valandą ryto\n",
       "\n",
       "17b\\. Vandens lygis $d$ (metrais) uoste laiko momentu $t$ paros laikotarpyje, pradedant nuo vidurnakčio, apskaičiuojamas pagal formulę $d(t)=10+1,8\\cos \\left(\\frac{\\pi}{6}t\\right), 0\\le t\\le 24$. Didžiausią galimą $d$ reikšmę\n",
       "\n"
      ],
      "text/plain": [
       "<IPython.core.display.Markdown object>"
      ]
     },
     "metadata": {},
     "output_type": "display_data"
    }
   ],
   "source": [
    "display(Markdown(make_some_bank('vbe/2015')))"
   ]
  },
  {
   "cell_type": "markdown",
   "metadata": {},
   "source": [
    "### Parodyk tam tikrą uždavinį, jei reikia, su sprendimu"
   ]
  },
  {
   "cell_type": "code",
   "execution_count": 10,
   "metadata": {},
   "outputs": [
    {
     "data": {
      "text/markdown": [
       "**Užduotis.**\n",
       "\n",
       "Žinoma, kad funkcija $f(x)$ yra lyginė, o $g(x)$ - nelyginė. Apskaičiuokite $g(f(-a))+f(g(b))$, jei $f(a)=-b$, $g(-b)=a$, kur $a\\neq 0$, $b\\neq 0$\n",
       "\n",
       "**Sprendimas.**\n",
       "* $f(-a)=f(a)=-b$ pagal lyginės funkcijos apibrėžimą\n",
       "* $g(b)=g(-b)=a$ pagal nelyginės funkcijos apibrėžimą\n",
       "* $g(f(-a))+f(g(b))=g(-b)+f(a)$ pagal gautus teiginius\n",
       "* $g(-b)+f(a) = a-b$ pagal sąlygą"
      ],
      "text/plain": [
       "<IPython.core.display.Markdown object>"
      ]
     },
     "metadata": {},
     "output_type": "display_data"
    }
   ],
   "source": [
    "display(Markdown(show_problem('vbe/2015', '10', show_solution=True)))"
   ]
  },
  {
   "cell_type": "markdown",
   "metadata": {},
   "source": [
    "### Parodyk tam tikrą uždavinio dalį, jei reikia, su sprendimu"
   ]
  },
  {
   "cell_type": "code",
   "execution_count": 7,
   "metadata": {},
   "outputs": [
    {
     "data": {
      "text/markdown": [
       "**Uždavinio dalis 1, kurioje yra $\\mathbb{Z}$ ir $\\mathbb{Q}$ operacijos.**\n",
       "\n",
       "Jonas išlanksto lėktuvėlį per 3 minutes, o Zigmas tokį pat lėktuvėlį išlanksto per 4 minutes. Kurią dalį lėktuvėlio išlankstys per minutę kiekvienas atskirai ir kurią dirbdami kartu?\n",
       "\n",
       "**Sprendimas.**\n",
       "\n",
       "Jonas - $\\displaystyle\\frac{1}{3}$ lėktuvėlio, Zigmas - $\\displaystyle\\frac{1}{4}$, abu - $\\displaystyle\\frac{1}{3}+\\frac{1}{4}=\\frac{7}{12}$"
      ],
      "text/plain": [
       "<IPython.core.display.Markdown object>"
      ]
     },
     "metadata": {},
     "output_type": "display_data"
    }
   ],
   "source": [
    "display(Markdown(show_case('licejus/2017', '2', which=1, show_solution=True)))"
   ]
  },
  {
   "cell_type": "markdown",
   "metadata": {},
   "source": [
    "### Išmesk kopijuojamą tekstą, kuris parodo rinkinį [gebėjimas -> uždavinių sąrašas]"
   ]
  },
  {
   "cell_type": "code",
   "execution_count": 11,
   "metadata": {},
   "outputs": [
    {
     "data": {
      "text/plain": [
       "defaultdict(list,\n",
       "            {'Funkcijos': ['vbe/2015.1->1', 'vbe/2015.2->1', 'vbe/2015.11->1'],\n",
       "             'Palūkanos ir procentai': ['vbe/2015.3->1'],\n",
       "             'Statistika': ['vbe/2015.4->1'],\n",
       "             'Reiškinių sudarymas': ['vbe/2015.5->1'],\n",
       "             'Elementariosios matematikos gebėjimai': ['vbe/2015.6->1',\n",
       "              'vbe/2015.12b->1'],\n",
       "             'Vektoriai': ['vbe/2015.7->1',\n",
       "              'vbe/2015.16a->1',\n",
       "              'vbe/2015.16b->1'],\n",
       "             'Erdvės geometrija': ['vbe/2015.8->1', 'vbe/2015.14->1'],\n",
       "             'Kombinatorika': ['vbe/2015.9->1', 'vbe/2015.10->1'],\n",
       "             'Laipsniai ir šaknys': ['vbe/2015.12a->1'],\n",
       "             'Geometrija': ['vbe/2015.13a->1', 'vbe/2015.13b->1'],\n",
       "             'Išvestinės': ['vbe/2015.15a->1', 'vbe/2015.15b->1'],\n",
       "             'Trigonometrija': ['vbe/2015.17a->1', 'vbe/2015.17b->1']})"
      ]
     },
     "execution_count": 11,
     "metadata": {},
     "output_type": "execute_result"
    }
   ],
   "source": [
    "get_analysis('vbe/2015')"
   ]
  },
  {
   "cell_type": "markdown",
   "metadata": {},
   "source": [
    "### Parodyk visus uždavinius, kuriems reikia tam tikro gebėjimo [veikia su klaidomis, nerodo variantų]"
   ]
  },
  {
   "cell_type": "code",
   "execution_count": 13,
   "metadata": {},
   "outputs": [
    {
     "data": {
      "text/markdown": [
       "### Uždaviniai[2], kuriuose yra Kombinatorika: \n",
       "\n",
       "**vbe/2015.9->1** \n",
       "\n",
       "**vbe/2015.10->1** \n",
       "\n"
      ],
      "text/plain": [
       "<IPython.core.display.Markdown object>"
      ]
     },
     "metadata": {},
     "output_type": "display_data"
    }
   ],
   "source": [
    "display(Markdown(show_skill('Kombinatorika', 'vbe/2015'))) #additional files allowed"
   ]
  },
  {
   "cell_type": "markdown",
   "metadata": {},
   "source": [
    "### Pavaizduok duoto uždavinių komplekto gebėjimų pasiskirstymą"
   ]
  },
  {
   "cell_type": "code",
   "execution_count": 14,
   "metadata": {},
   "outputs": [
    {
     "name": "stdout",
     "output_type": "stream",
     "text": [
      "defaultdict(<class 'list'>, {'Funkcijos': ['vbe/2015.1->1', 'vbe/2015.2->1', 'vbe/2015.11->1'], 'Palūkanos ir procentai': ['vbe/2015.3->1'], 'Statistika': ['vbe/2015.4->1'], 'Reiškinių sudarymas': ['vbe/2015.5->1'], 'Elementariosios matematikos gebėjimai': ['vbe/2015.6->1', 'vbe/2015.12b->1'], 'Vektoriai': ['vbe/2015.7->1', 'vbe/2015.16a->1', 'vbe/2015.16b->1'], 'Erdvės geometrija': ['vbe/2015.8->1', 'vbe/2015.14->1'], 'Kombinatorika': ['vbe/2015.9->1', 'vbe/2015.10->1'], 'Laipsniai ir šaknys': ['vbe/2015.12a->1'], 'Geometrija': ['vbe/2015.13a->1', 'vbe/2015.13b->1'], 'Išvestinės': ['vbe/2015.15a->1', 'vbe/2015.15b->1'], 'Trigonometrija': ['vbe/2015.17a->1', 'vbe/2015.17b->1']})\n"
     ]
    },
    {
     "data": {
      "image/png": "[encoded data removed]",
      "text/plain": [
       "<Figure size 432x432 with 1 Axes>"
      ]
     },
     "metadata": {},
     "output_type": "display_data"
    }
   ],
   "source": [
    "Skills('vbe/clusters.txt', 'vbe/2015').plot()"
   ]
  },
  {
   "cell_type": "markdown",
   "metadata": {},
   "source": [
    "### Pavaizduok per pamoką spręstus uždavinius"
   ]
  },
  {
   "cell_type": "code",
   "execution_count": 15,
   "metadata": {},
   "outputs": [
    {
     "data": {
      "text/markdown": [
       "\n",
       "### vbe/2015\n",
       "1\\. Kuris iš pateiktų eskizų yra funkcijos grafiko $y=2^x$ eskizas? ![](vbe\\VBE2015_1.PNG)\n",
       "\n",
       "2\\. Sekos bendrasis narys užrašomas formule $a_n=3n-1$ $(n=1,2,3,\\dots)$. Kam lygus jos penktasis narys $a_5$?\n",
       "\n",
       "3\\.  Diagramoje pavaizduotas šeimos vieno mėnesio visų išlaidų paskirstymas procentais. Tą mėnesį **maistui** šeima išleido 420 eurų. Kiek eurų šeima išleido rūbams? ![](vbe\\VBE2015_3.PNG)\n",
       "\n",
       "4\\. Kam lygi imties 5;14;11;6;5;10;12 mediana?\n",
       "\n",
       "5\\. Vandens čiaupo pajėgumas yra toks, kad stačiakampio gretasienio formos baseinas, kurio matmenys yra $a$, $b$ ir $c$, pripildomas per 1 valandą. Per kiek laiko iš to paties vandens čiaupo, veikiančio tokiu pačiu pajėgumu, galima būtų pripildyti stačiakampio gretasienio formos $2a$, $2b$ ir $2c$ matmenų baseiną?\n",
       "\n",
       "6\\. Išspręskite lygtį $(x+2011)(x+2013)(x+2014)=(x+2013)(x+2014)(x+2015)$\n",
       "\n",
       "7\\. Su kuria $x$ reikšme vektoriai $\\overrightarrow{a}=(x; 3)$ ir $\\overrightarrow{b}=(-2; 6)$ yra kolinearūs?\n",
       "\n",
       "8\\. Paveiksle pavaizduotas kubas $ABCDA_1B_1C_1D_1$ Raskite kampo tarp tiesių, kuriose yra kubo sienų įstrižainės $A_1B$ ir $B_1C$ didumą. ![](vbe\\VBE2015_8.png)\n",
       "\n",
       "9\\. Seifo kodą turi sudaryti trys skirtingi skaitmenys, užrašyti didėjimo tvarka. Kiek tokių skirtingų kodų galima sudaryti?\n",
       "\n",
       "10\\. Žinoma, kad funkcija $f(x)$ yra lyginė, o $g(x)$ - nelyginė. Apskaičiuokite $g(f(-a))+f(g(b))$, jei $f(a)=-b$, $g(-b)=a$, kur $a\\neq 0$, $b\\neq 0$\n",
       "\n",
       "11\\. $A=[-2; 4)$ ir $B=(-6;3)$ sankirtą $A\\bigcap B$\n",
       "\n",
       "12a\\. Išspręskite lygtį $5^{2x}=125$\n",
       "\n",
       "12b\\. Išspręskite lygtį $|x-2|=5$\n",
       "\n",
       "13a\\. Taškas $C$ priklauso apskritimui, kurio centras yra taškas $O$. Iš taško $M$, esančio apskritimo išorėje, nubrėžtos dvi tiesės, liečiančios apskritimą taškuose $A$ ir $B$, $\\angle AOB=80^o$.  Apskaičiukite $\\angle ACB$ didumą ![](vbe\\VBE2015_13.PNG)\n",
       "\n",
       "13b\\. Taškas $C$ priklauso apskritimui, kurio centras yra taškas $O$. Iš taško $M$, esančio apskritimo išorėje, nubrėžtos dvi tiesės, liečiančios apskritimą taškuose $A$ ir $B$, $\\angle AOB=80^o$.  Apskaičiukite $\\angle AMB$ didumą ![](vbe\\VBE2015_13.PNG)\n",
       "\n",
       "14\\. Ritinio pagrindo apskritimo ilgis lygus 30, o ritinio aukštinės ilgis lygus 6. Apskaičiuokite šio ritinio šoninio paviršiaus plotą. ![](vbe\\VBE2015_14.PNG)\n",
       "\n",
       "15a\\. Lentelėje pateikta informacija apie funkcijos $f(x)$ išvestinės $f(x)$ reikšmes. Užrašykite funkcijos reikšmių didėjimo intervalą (-us)\n",
       "\n",
       "15b\\. Lentelėje pateikta informacija apie funkcijos $f(x)$ išvestinės $f(x)$ reikšmes. Užrašykite funkcijos minimumo tašką.\n",
       "\n",
       "16a\\. Keturkampis $ABCD$ yra rombas. Raskite vektorių, lygų vektorių sumai $\\overrightarrow{AB}+\\overrightarrow{AD}$ ![](vbe\\VBE2015_16.PNG)\n",
       "\n",
       "16b\\. Keturkampis $ABCD$ yra rombas. Raskite vektorių skaliarinę sandaugą $\\overrightarrow{BD}\\cdot \\overrightarrow{AC}$ ![](vbe\\VBE2015_16.PNG)\n",
       "\n",
       "17a\\. Vandens lygis $d$ (metrais) uoste laiko momentu $t$ paros laikotarpyje, pradedant nuo vidurnakčio, apskaičiuojamas pagal formulę $d(t)=10+1,8\\cos \\left(\\frac{\\pi}{6}t\\right), 0\\le t\\le 24$. Nustatykite vandens lygį uoste 9 valandą ryto\n",
       "\n",
       "17b\\. Vandens lygis $d$ (metrais) uoste laiko momentu $t$ paros laikotarpyje, pradedant nuo vidurnakčio, apskaičiuojamas pagal formulę $d(t)=10+1,8\\cos \\left(\\frac{\\pi}{6}t\\right), 0\\le t\\le 24$. Didžiausią galimą $d$ reikšmę\n",
       "\n"
      ],
      "text/plain": [
       "<IPython.core.display.Markdown object>"
      ]
     },
     "metadata": {},
     "output_type": "display_data"
    }
   ],
   "source": [
    "display(Markdown(make_some_bank('vbe/2015')))"
   ]
  },
  {
   "cell_type": "markdown",
   "metadata": {},
   "source": [
    "### Detaliausia įmanoma uždavinio analizė"
   ]
  },
  {
   "cell_type": "code",
   "execution_count": 333,
   "metadata": {},
   "outputs": [
    {
     "data": {
      "text/markdown": [
       "**Užduotis.**\n",
       "\n",
       "Suprastinkite reiškinį $\\displaystyle\\frac{1}{2}xy^{2}\\cdot (-2x^2y)^{8}$ (2tšk.)\n",
       "\n",
       "**Sprendimas.**\n",
       "* $\\displaystyle\\frac{1}{2}xy^2\\cdot (-2x^2y)^8 = 2^{-1}xy^2 \\cdot 2^8x^{16}y^8 = 2^7x^{17}y^{10}=128x^{17}y^{10}$"
      ],
      "text/plain": [
       "<IPython.core.display.Markdown object>"
      ]
     },
     "metadata": {},
     "output_type": "display_data"
    },
    {
     "data": {
      "text/markdown": [
       "----------------------------------------------------------------------------------------------------"
      ],
      "text/plain": [
       "<IPython.core.display.Markdown object>"
      ]
     },
     "metadata": {},
     "output_type": "display_data"
    },
    {
     "data": {
      "text/markdown": [
       "**Uždavinio dalis 1, kurioje yra Laipsnių taikymas reiškiniuose.**\n",
       "\n",
       "$(-2x^2y)^8 = ?$\n",
       "\n",
       "**Sprendimas.**\n",
       "\n",
       "$(-2x^2y)^8 = 2^8x^{16}y^8=256x^{16}y^8$"
      ],
      "text/plain": [
       "<IPython.core.display.Markdown object>"
      ]
     },
     "metadata": {},
     "output_type": "display_data"
    },
    {
     "data": {
      "text/markdown": [
       "----------------------------------------------------------------------------------------------------"
      ],
      "text/plain": [
       "<IPython.core.display.Markdown object>"
      ]
     },
     "metadata": {},
     "output_type": "display_data"
    },
    {
     "data": {
      "text/markdown": [
       "**Uždavinio dalis 2, kurioje yra Laipsnių taikymas reiškiniuose.**\n",
       "\n",
       "$2^{-1}xy^2 \\cdot 2^8x^{16}y^8=?$\n",
       "\n",
       "**Sprendimas.**\n",
       "\n",
       "$2^{-1}xy^2 \\cdot 2^8x^{16}y^8 = 2^7x^{17}y^{10}=128x^{17}y^{10}$"
      ],
      "text/plain": [
       "<IPython.core.display.Markdown object>"
      ]
     },
     "metadata": {},
     "output_type": "display_data"
    },
    {
     "data": {
      "text/plain": [
       "['Laipsnių taikymas reiškiniuose', 'Laipsnių taikymas reiškiniuose']"
      ]
     },
     "execution_count": 333,
     "metadata": {},
     "output_type": "execute_result"
    }
   ],
   "source": [
    "check('licejus/2017', '3a') # detaliausia analizė\n",
    "check_skills('licejus/2017', '3b') #tik reikiami gebėjimai"
   ]
  },
  {
   "cell_type": "markdown",
   "metadata": {},
   "source": [
    "### Pamokoje spręstų uždavinių duomenų bazė"
   ]
  },
  {
   "cell_type": "code",
   "execution_count": 16,
   "metadata": {},
   "outputs": [
    {
     "data": {
      "text/html": [
       "<div>\n",
       "<style scoped>\n",
       "    .dataframe tbody tr th:only-of-type {\n",
       "        vertical-align: middle;\n",
       "    }\n",
       "\n",
       "    .dataframe tbody tr th {\n",
       "        vertical-align: top;\n",
       "    }\n",
       "\n",
       "    .dataframe thead th {\n",
       "        text-align: right;\n",
       "    }\n",
       "</style>\n",
       "<table border=\"1\" class=\"dataframe\">\n",
       "  <thead>\n",
       "    <tr style=\"text-align: right;\">\n",
       "      <th></th>\n",
       "      <th></th>\n",
       "      <th></th>\n",
       "      <th></th>\n",
       "      <th>skill</th>\n",
       "      <th>solved_fully</th>\n",
       "      <th>solved_partially</th>\n",
       "    </tr>\n",
       "    <tr>\n",
       "      <th>author</th>\n",
       "      <th>topic</th>\n",
       "      <th>problem_id</th>\n",
       "      <th>point_id</th>\n",
       "      <th></th>\n",
       "      <th></th>\n",
       "      <th></th>\n",
       "    </tr>\n",
       "  </thead>\n",
       "  <tbody>\n",
       "    <tr>\n",
       "      <th rowspan=\"11\" valign=\"top\">vbe</th>\n",
       "      <th rowspan=\"11\" valign=\"top\">2015</th>\n",
       "      <th>1</th>\n",
       "      <th>1</th>\n",
       "      <td>Funkcijos</td>\n",
       "      <td>False</td>\n",
       "      <td>False</td>\n",
       "    </tr>\n",
       "    <tr>\n",
       "      <th>2</th>\n",
       "      <th>1</th>\n",
       "      <td>Funkcijos</td>\n",
       "      <td>False</td>\n",
       "      <td>False</td>\n",
       "    </tr>\n",
       "    <tr>\n",
       "      <th>3</th>\n",
       "      <th>1</th>\n",
       "      <td>Palūkanos ir procentai</td>\n",
       "      <td>False</td>\n",
       "      <td>False</td>\n",
       "    </tr>\n",
       "    <tr>\n",
       "      <th>4</th>\n",
       "      <th>1</th>\n",
       "      <td>Statistika</td>\n",
       "      <td>False</td>\n",
       "      <td>False</td>\n",
       "    </tr>\n",
       "    <tr>\n",
       "      <th>5</th>\n",
       "      <th>1</th>\n",
       "      <td>Reiškinių sudarymas</td>\n",
       "      <td>False</td>\n",
       "      <td>False</td>\n",
       "    </tr>\n",
       "    <tr>\n",
       "      <th>6</th>\n",
       "      <th>1</th>\n",
       "      <td>Elementariosios matematikos gebėjimai</td>\n",
       "      <td>False</td>\n",
       "      <td>False</td>\n",
       "    </tr>\n",
       "    <tr>\n",
       "      <th>7</th>\n",
       "      <th>1</th>\n",
       "      <td>Vektoriai</td>\n",
       "      <td>False</td>\n",
       "      <td>False</td>\n",
       "    </tr>\n",
       "    <tr>\n",
       "      <th>8</th>\n",
       "      <th>1</th>\n",
       "      <td>Erdvės geometrija</td>\n",
       "      <td>False</td>\n",
       "      <td>False</td>\n",
       "    </tr>\n",
       "    <tr>\n",
       "      <th>9</th>\n",
       "      <th>1</th>\n",
       "      <td>Kombinatorika</td>\n",
       "      <td>False</td>\n",
       "      <td>False</td>\n",
       "    </tr>\n",
       "    <tr>\n",
       "      <th>10</th>\n",
       "      <th>1</th>\n",
       "      <td>Kombinatorika</td>\n",
       "      <td>False</td>\n",
       "      <td>False</td>\n",
       "    </tr>\n",
       "    <tr>\n",
       "      <th>11</th>\n",
       "      <th>1</th>\n",
       "      <td>Funkcijos</td>\n",
       "      <td>False</td>\n",
       "      <td>False</td>\n",
       "    </tr>\n",
       "  </tbody>\n",
       "</table>\n",
       "</div>"
      ],
      "text/plain": [
       "                                                                  skill  \\\n",
       "author topic problem_id point_id                                          \n",
       "vbe    2015  1          1                                     Funkcijos   \n",
       "             2          1                                     Funkcijos   \n",
       "             3          1                        Palūkanos ir procentai   \n",
       "             4          1                                    Statistika   \n",
       "             5          1                           Reiškinių sudarymas   \n",
       "             6          1         Elementariosios matematikos gebėjimai   \n",
       "             7          1                                     Vektoriai   \n",
       "             8          1                             Erdvės geometrija   \n",
       "             9          1                                 Kombinatorika   \n",
       "             10         1                                 Kombinatorika   \n",
       "             11         1                                     Funkcijos   \n",
       "\n",
       "                                  solved_fully  solved_partially  \n",
       "author topic problem_id point_id                                  \n",
       "vbe    2015  1          1                False             False  \n",
       "             2          1                False             False  \n",
       "             3          1                False             False  \n",
       "             4          1                False             False  \n",
       "             5          1                False             False  \n",
       "             6          1                False             False  \n",
       "             7          1                False             False  \n",
       "             8          1                False             False  \n",
       "             9          1                False             False  \n",
       "             10         1                False             False  \n",
       "             11         1                False             False  "
      ]
     },
     "execution_count": 16,
     "metadata": {},
     "output_type": "execute_result"
    }
   ],
   "source": [
    "text = \"\"\"\n",
    "author topic problem_id point_id solved\n",
    "vbe 2015 1 0 False\n",
    "vbe 2015 1 1 False\n",
    "vbe 2015 2 0 False\n",
    "vbe 2015 2 1 False\n",
    "vbe 2015 3 0 False\n",
    "vbe 2015 3 1 False\n",
    "vbe 2015 4 0 False\n",
    "vbe 2015 4 1 False\n",
    "vbe 2015 5 0 False\n",
    "vbe 2015 5 1 False\n",
    "vbe 2015 6 0 False\n",
    "vbe 2015 6 1 False\n",
    "vbe 2015 7 0 False\n",
    "vbe 2015 7 1 False\n",
    "vbe 2015 8 0 False\n",
    "vbe 2015 8 1 False\n",
    "vbe 2015 9 0 False\n",
    "vbe 2015 9 1 False\n",
    "vbe 2015 10 0 False\n",
    "vbe 2015 10 1 False\n",
    "vbe 2015 11 0 False\n",
    "vbe 2015 11 1 False\n",
    "\"\"\" \n",
    "Lesson(text).get_lesson()"
   ]
  },
  {
   "cell_type": "markdown",
   "metadata": {},
   "source": [
    "### Trys būdai pavaizduoti pamokos darbą"
   ]
  },
  {
   "cell_type": "code",
   "execution_count": 19,
   "metadata": {
    "scrolled": false
   },
   "outputs": [],
   "source": [
    "#nepamiršti iš pradžių įrašyti pamokos duomenų į text kintamąjį\n",
    "lesson_df = Lesson(text).get_lesson()\n",
    "summary = Summary(lesson_df)\n",
    "colors = summary.get_colors('vbe/clusters.txt')\n",
    "\n",
    "# Nepainioti šakos su šakelėm! Kombinatorika nėra tas pats, kas sudėties ir daugybos taisyklės"
   ]
  },
  {
   "cell_type": "code",
   "execution_count": 33,
   "metadata": {},
   "outputs": [
    {
     "data": {
      "image/png": "[encoded data removed]",
      "text/plain": [
       "<Figure size 130x900 with 1 Axes>"
      ]
     },
     "metadata": {
      "needs_background": "light"
     },
     "output_type": "display_data"
    }
   ],
   "source": [
    "summary.add_summary(colors, mode = 'abstract', figsize=(1.3,9))\n",
    "#summary.add_summary(colors, mode = 'real', fixes={'\\\\boxed': '', '\\\\displaystyle': ''}, figsize=(5,9), wrapping=100)\n",
    "#summary.add_summary(colors, mode = 'full', fixes={'\\\\boxed': '', '\\\\displaystyle': ''}, figsize=(3,9), wrapping=100)"
   ]
  },
  {
   "cell_type": "code",
   "execution_count": 22,
   "metadata": {},
   "outputs": [
    {
     "data": {
      "text/markdown": [
       "\n",
       "### vbe/2015\n",
       "1\\. Kuris iš pateiktų eskizų yra funkcijos grafiko $y=2^x$ eskizas? ![](vbe\\VBE2015_1.PNG)\n",
       "\n",
       "2\\. Sekos bendrasis narys užrašomas formule $a_n=3n-1$ $(n=1,2,3,\\dots)$. Kam lygus jos penktasis narys $a_5$?\n",
       "\n",
       "3\\.  Diagramoje pavaizduotas šeimos vieno mėnesio visų išlaidų paskirstymas procentais. Tą mėnesį **maistui** šeima išleido 420 eurų. Kiek eurų šeima išleido rūbams? ![](vbe\\VBE2015_3.PNG)\n",
       "\n",
       "4\\. Kam lygi imties 5;14;11;6;5;10;12 mediana?\n",
       "\n",
       "5\\. Vandens čiaupo pajėgumas yra toks, kad stačiakampio gretasienio formos baseinas, kurio matmenys yra $a$, $b$ ir $c$, pripildomas per 1 valandą. Per kiek laiko iš to paties vandens čiaupo, veikiančio tokiu pačiu pajėgumu, galima būtų pripildyti stačiakampio gretasienio formos $2a$, $2b$ ir $2c$ matmenų baseiną?\n",
       "\n",
       "6\\. Išspręskite lygtį $(x+2011)(x+2013)(x+2014)=(x+2013)(x+2014)(x+2015)$\n",
       "\n",
       "7\\. Su kuria $x$ reikšme vektoriai $\\overrightarrow{a}=(x; 3)$ ir $\\overrightarrow{b}=(-2; 6)$ yra kolinearūs?\n",
       "\n",
       "8\\. Paveiksle pavaizduotas kubas $ABCDA_1B_1C_1D_1$ Raskite kampo tarp tiesių, kuriose yra kubo sienų įstrižainės $A_1B$ ir $B_1C$ didumą. ![](vbe\\VBE2015_8.png)\n",
       "\n",
       "9\\. Seifo kodą turi sudaryti trys skirtingi skaitmenys, užrašyti didėjimo tvarka. Kiek tokių skirtingų kodų galima sudaryti?\n",
       "\n",
       "10\\. Žinoma, kad funkcija $f(x)$ yra lyginė, o $g(x)$ - nelyginė. Apskaičiuokite $g(f(-a))+f(g(b))$, jei $f(a)=-b$, $g(-b)=a$, kur $a\\neq 0$, $b\\neq 0$\n",
       "\n",
       "11\\. $A=[-2; 4)$ ir $B=(-6;3)$ sankirtą $A\\bigcap B$\n",
       "\n",
       "12a\\. Išspręskite lygtį $5^{2x}=125$\n",
       "\n",
       "12b\\. Išspręskite lygtį $|x-2|=5$\n",
       "\n",
       "13a\\. Taškas $C$ priklauso apskritimui, kurio centras yra taškas $O$. Iš taško $M$, esančio apskritimo išorėje, nubrėžtos dvi tiesės, liečiančios apskritimą taškuose $A$ ir $B$, $\\angle AOB=80^o$.  Apskaičiukite $\\angle ACB$ didumą ![](vbe\\VBE2015_13.PNG)\n",
       "\n",
       "13b\\. Taškas $C$ priklauso apskritimui, kurio centras yra taškas $O$. Iš taško $M$, esančio apskritimo išorėje, nubrėžtos dvi tiesės, liečiančios apskritimą taškuose $A$ ir $B$, $\\angle AOB=80^o$.  Apskaičiukite $\\angle AMB$ didumą ![](vbe\\VBE2015_13.PNG)\n",
       "\n",
       "14\\. Ritinio pagrindo apskritimo ilgis lygus 30, o ritinio aukštinės ilgis lygus 6. Apskaičiuokite šio ritinio šoninio paviršiaus plotą. ![](vbe\\VBE2015_14.PNG)\n",
       "\n",
       "15a\\. Lentelėje pateikta informacija apie funkcijos $f(x)$ išvestinės $f(x)$ reikšmes. Užrašykite funkcijos reikšmių didėjimo intervalą (-us)\n",
       "\n",
       "15b\\. Lentelėje pateikta informacija apie funkcijos $f(x)$ išvestinės $f(x)$ reikšmes. Užrašykite funkcijos minimumo tašką.\n",
       "\n",
       "16a\\. Keturkampis $ABCD$ yra rombas. Raskite vektorių, lygų vektorių sumai $\\overrightarrow{AB}+\\overrightarrow{AD}$ ![](vbe\\VBE2015_16.PNG)\n",
       "\n",
       "16b\\. Keturkampis $ABCD$ yra rombas. Raskite vektorių skaliarinę sandaugą $\\overrightarrow{BD}\\cdot \\overrightarrow{AC}$ ![](vbe\\VBE2015_16.PNG)\n",
       "\n",
       "17a\\. Vandens lygis $d$ (metrais) uoste laiko momentu $t$ paros laikotarpyje, pradedant nuo vidurnakčio, apskaičiuojamas pagal formulę $d(t)=10+1,8\\cos \\left(\\frac{\\pi}{6}t\\right), 0\\le t\\le 24$. Nustatykite vandens lygį uoste 9 valandą ryto\n",
       "\n",
       "17b\\. Vandens lygis $d$ (metrais) uoste laiko momentu $t$ paros laikotarpyje, pradedant nuo vidurnakčio, apskaičiuojamas pagal formulę $d(t)=10+1,8\\cos \\left(\\frac{\\pi}{6}t\\right), 0\\le t\\le 24$. Didžiausią galimą $d$ reikšmę\n",
       "\n"
      ],
      "text/plain": [
       "<IPython.core.display.Markdown object>"
      ]
     },
     "metadata": {},
     "output_type": "display_data"
    }
   ],
   "source": [
    "display(Markdown(make_some_bank('vbe/2015')))"
   ]
  },
  {
   "cell_type": "code",
   "execution_count": 23,
   "metadata": {
    "scrolled": true
   },
   "outputs": [
    {
     "data": {
      "text/markdown": [
       "**Užduotis.**\n",
       "\n",
       "Kuris iš pateiktų eskizų yra funkcijos grafiko $y=2^x$ eskizas? ![](vbe\\VBE2015_1.PNG)\n",
       "\n",
       "**Sprendimas.**\n",
       "* Reikia rinktis tokį grafiką, kuriame pastebimi tokie dėsningumai: funkcijos reikšmės teigiamos ir kyla laipsniškai, kai argumentas didėja kas 1"
      ],
      "text/plain": [
       "<IPython.core.display.Markdown object>"
      ]
     },
     "metadata": {},
     "output_type": "display_data"
    }
   ],
   "source": [
    "#display(Markdown(show_case('vbe/2015', '2', which=1, show_solution=True)))\n",
    "display(Markdown(show_problem('vbe/2015', '1', show_solution=True)))\n",
    "#check('licejus/2017', '2') # detaliausia analizė\n",
    "#check_skills('simonas/susipažinimas', '8') #tik reikiami gebėjimai"
   ]
  },
  {
   "cell_type": "code",
   "execution_count": null,
   "metadata": {},
   "outputs": [],
   "source": []
  }
 ],
 "metadata": {
  "kernelspec": {
   "display_name": "Python 3",
   "language": "python",
   "name": "python3"
  },
  "language_info": {
   "codemirror_mode": {
    "name": "ipython",
    "version": 3
   },
   "file_extension": ".py",
   "mimetype": "text/x-python",
   "name": "python",
   "nbconvert_exporter": "python",
   "pygments_lexer": "ipython3",
   "version": "3.8.3"
  }
 },
 "nbformat": 4,
 "nbformat_minor": 4
}
