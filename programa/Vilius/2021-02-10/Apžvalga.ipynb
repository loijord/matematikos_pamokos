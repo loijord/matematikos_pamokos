{
 "cells": [
  {
   "cell_type": "markdown",
   "metadata": {},
   "source": [
    "## Apie\n",
    "Per įžanginį užsiėmimą papasakojau:\n",
    "\n",
    "* **Apie tai, kaip yra vertinamas moksleivis per egzaminą.**\n",
    "* **Apie tai, kaip galima taikyti statistinę analizę ruošiantis egzaminui.**\n",
    "* **Apie tai, nuo ko priklauso galimybės pasiruošti vieną ar kitą temą.**\n",
    "* **Apie egzistuojančius įrankius, palengvinančius uždavinių sprendimą**\n",
    "\n",
    "Taip pat aptarėme testo uždavinių sprendimą, sunkumus įsimenant formules, silpnąsias ir stipriąsias puses.\n",
    "\n",
    "## Detaliau\n",
    "### Apie tai, kaip yra vertinamas moksleivis per egzaminą.\n",
    "Svarbiausi momentai:\n",
    "  * Egzaminas vertinamas maždaug 60 taškų, jį sudaro 3 dalys (užduotys su pasirenkamais atsakymais, užduotys su atsakymais (be sprendimų) ir užduotys su sprendimais). Svarbu, kad užduotys su sprendimais sudaro maždaug 2/3 visų egzamino taškų.\n",
    "  * Egzaminas yra standartizuotas. Tai reiškia, kad kiekviena užduotis su sprendimu yra padalijama į smulkesnius sprendimo žingsnius ir vertinama, ar moksleivis juos išpildė. Pvz. jei yra trijų taškų uždavinys, tai jį galima pilnai išspręsti ir gauti visus taškus, bet nežinant, kaip pilnai spręsti, vistiek įmanoma gauti taškų, jei užrašai taiklų žingsnį (ar kelis) ir paaiškėja, kad to žingsnio reikėjo, norint uždavinį išspręsti pilnai. Matematikos egzamino vertinime mažai paliekama vietos vertintojo subjektyvumui, tiesiog žiūrima, ar moksleivis atliko vertinimo instrukcijoje nurodytus sprendimo žingsnius. Jei uždavinyje reikia tik atsakymo, galima gauti tik visus taškus arba nei vieno.\n",
    "  * Svarbu susipažinti, kaip atrodo vertinimo instrukcijos. Pavyzdžiui, gali peržiūrėti 2020 metų VBE vertinimo instrukcijas [oficialiame puslapyje](https://www.egzaminai.lt/703/)\n",
    "  \n",
    "### Apie tai, kaip galima taikyti statistinę analizę ruošiantis egzaminui.\n",
    "Svarbiausi momentai:\n",
    "  * **Privalumas**. Galima pasižiūrėti, kaip pasiskirsto temos egzamine ir pagal tai vertinti, kiek laiko verta investuoti į kiekvieną temą.\n",
    "  * **Privalumas** Galima pasižiūrėti, kiek procentaliai moki kiekvieną temą.\n",
    "  * **Trūkumas**. Jei turime nedaug duomenų, prielaidos nepatikimos. Pvz. iš vieno egzamino negali užtikrintai spręsti apie visus arba išsprendęs pora kombinatorikos uždavinių negali sakyti, kad moki visą kombinatoriką. Tad gera egzaminų analizė kainuoja daug laiko (Simonas užsibrėžęs stengtis).\n",
    "  * **Privalumas**. Egzistuoja patikimimi statistiniai metodai, leidžiantys apskaičiuoti vidurkį su paklaida. Pvz., jei išsisprendžiame 3 egzaminus, tai galime su 95% tikimybe galime pasakyti, kad ten bus 15% $\\pm$ 10% funkcijų, o jei išsispręstume 10 egzaminų, tai paklaidą galėtume sumažinti iki 15% $\\pm$ 5%.\n",
    "  * **Trūkumas**. Paklaidos yra didelės, nes daug kas priklauso nuo egzamino sudarinėtojo kompetencijos. Pvz. vienam imponuoja geometrija, kitas labai reiklus ir sudaro sunkų egzaminą, o kartais uždaviniai imami iš per kelis metus kauptų uždavinių bazės.\n",
    "  * **Trūkumas**. Egzamino vertinimas netikslus. Kas vienais metais įvertinama vienu tašku, kitąmet gali būti įvertinta dviem.\n",
    "  * **Trūkumas**. Dąrsyk su vertinimo netikslumu. Daugiataškiuose uždaviniuose nepastebėjus pirmo lemiamo žingsnio moksleivis netenka galimybės atskleisti likusių gebėjimų. Gaunasi, kad egzaminas tiria ne tik gebėjimus konkrečioje srityje, bet ir tai, kiek tam tikra tema yra linkusi/nelinkusi būti antroje sprendimo dalyje. \n",
    "  \n",
    "### Apie tai, nuo ko priklauso galimybės pasiruošti vieną ar kitą temą\n",
    "\n",
    "* Egzaminų sudarinėtojams nerekomenduojama dėti uždavinių už 4 taškus ir daugiau dar ir dėl kitų priežasčių: net jei moksleiviai geba atlikti kiekvieną žingsnį, jie gali negebėti jų kombinuoti. Tai geras pavyzdys, rodantis, kad egzaminuojamos ne tik turinio žinios, bet ir gebėjimas taikyti procedūras naujose situacijose. Toks gebėjimas - tai aukštesnis matematikos supratimas ir kiti intelektualiniai gabumai, kuriems neužtenka trumpo laiko ruošiantis egzaminui\n",
    "* Intelektualiniams gabumams galima priskirti gebėjimą interpretuoti žodinius uždavinius, mintyse transformuoti geometrines figūras, matyti reiškinius keliomis formomis, vertinti atsakymo adekvatumą. Iš esmės viskas sukasi apie matematinių objektų transformavimą patogia linkme, neturint išankstinių instrukcijų, kaip tą daryti.\n",
    "* Daug inteletualinių gabumų ir matematikos supratimo reikalauja tokios sritys, kaip tekstiniai uždaviniai, geometrija, trigonometrija, kombinatorika, šiek tiek mažiau funkcijos, išvestinės, integralai, vektoriai. \n",
    "* Neužtenka vien mokytis taisykles (nebent įdedama daug pastangų arba labai gera atmintis). Jų įsiminimas turi būti palengvintas įsidėmint tarp taisyklių tam tikrus ryšius. \n",
    "* Loginiai ryšiai tarp atskirų matematikos temų sudaryti iš loginių ir kitų intuityviai suvokiamų ryšių tarp taisyklių.\n",
    "* Apibendrinant: lengviau įsisavinti temas, kuriose užtenka mokėti atlikti standartines procedūras, sunkiau, kur jų taikymas - intelektualinių gabumų klausimas. Taip pat dar reiktų atsižvelgti į tai, ar norint mokytis tam tikrą temą netrukdys spragos iš ankstesnių temų.\n",
    "* **Atviras klausimas:** kiek investuosime laiko į ryšių tarp taisyklių aiškinimąsi, o kiek į uždavinių sprendimą.\n",
    "\n",
    "### Egzistuojantys įrankiai\n",
    "\n",
    "* Matematikos egzamino uždavinių sprendimai pažingsniui: [http://www.mat.lt](http://www.mat.lt)\n",
    "* Parsisiunčiama programa, sprendžianti algebros uždavinius pažingsniui: [https://www.universalmathsolver.com](https://www.universalmathsolver.com)\n",
    "* Online veikianti programa, kurios pagrindu yra sukurta daug eksperimentų su figūromis: [https://www.geogebra.org/materials](https://www.geogebra.org/materials)\n",
    "* Šios programos pagrindu sukurtas žaidimas, lavinantis geometrijos įgūdžius [https://www.euclidea.xyz](https://www.euclidea.xyz)\n",
    "* Funkcijų grafikų braižyklė [https://www.desmos.com/calculator](https://www.desmos.com/calculator)\n",
    "* Visų tipų algebros uždavinių sprendyklė (tik be žingsnių aiškinimo) [https://www.wolframalpha.com](https://www.wolframalpha.com)\n",
    "* Svarbiausia - egzaminų centro puslapis [https://www.nec.lt](https://www.nec.lt)\n",
    "\n"
   ]
  },
  {
   "cell_type": "markdown",
   "metadata": {},
   "source": [
    "## Statistinė gebėjimų analizė\n",
    "\n",
    "### Įverčiai + užduotys\n",
    "\n",
    "* Žalias apibraukimas - pilnai išspręstas uždavinys\n",
    "* Raudonas apibraukimas - nepilnai išspręstas uždavinys\n",
    "* Juoda skylė per vidurį - sprendimo žingsnis, kuris nepasidarė\n",
    "\n",
    "![](vbe/review_real.png)\n",
    "\n",
    "### Įverčiai + testuojami gebėjimai\n",
    "\n",
    "Galima peržiūrėti rezultatus ir kitame režime:\n",
    "\n",
    "![](vbe/review_abstract.png)\n",
    "\n",
    "### Testuojamų gebėjimų pasiskirstymas\n",
    "\n",
    "Technologijos leidžia pasižiūrėti, kas įėjo į atliktą 22 taškų testą:\n",
    "\n",
    "![](vbe/distribution.png)\n",
    "\n",
    "### Testuojamų gebėjimų įverčiai\n",
    "\n",
    "Kiekvienam gebėjimui galima pasiskaičiuoti, kiek vidutiniškai "
   ]
  },
  {
   "cell_type": "code",
   "execution_count": null,
   "metadata": {},
   "outputs": [],
   "source": []
  }
 ],
 "metadata": {
  "kernelspec": {
   "display_name": "Python 3",
   "language": "python",
   "name": "python3"
  },
  "language_info": {
   "codemirror_mode": {
    "name": "ipython",
    "version": 3
   },
   "file_extension": ".py",
   "mimetype": "text/x-python",
   "name": "python",
   "nbconvert_exporter": "python",
   "pygments_lexer": "ipython3",
   "version": "3.8.3"
  }
 },
 "nbformat": 4,
 "nbformat_minor": 4
}
