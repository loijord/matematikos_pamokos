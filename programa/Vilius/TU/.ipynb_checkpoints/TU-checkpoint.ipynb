{
 "cells": [
  {
   "cell_type": "markdown",
   "metadata": {},
   "source": [
    "# Tekstiniai uždaviniai"
   ]
  },
  {
   "cell_type": "markdown",
   "metadata": {},
   "source": [
    "Tekstiniai uždaviniai (TU) - viena sunkiausiai besisekančių temų abiturientams. Šio straipsnio tikslai tokie:\n",
    "    \n",
    "* Apžvelgti įvairius tyrimus, atliktus apie TU.\n",
    "* Išrinkti visus tekstinius uždavinius iš tam tikro laikotarpio VBE.\n",
    "* Įvertinti, kaip tekstiniai uždaviniai sekasi abiturientams, kas juose sunkiausia, ko tikisi vertintojai."
   ]
  },
  {
   "cell_type": "markdown",
   "metadata": {},
   "source": [
    "### Apibrėžimas\n",
    "\n",
    "**Apibrėžimas.** Tekstinis uždavinys - tai uždavinys, kuriame reikia:\n",
    "* įvardytus teiginius išreikšti matematiniais sąryšiais\n",
    "* pasinaudojant šiais sąryšiais rasti nežinomus dydžius\n",
    "\n",
    "<img src=\"TU_1.png\" width=\"500\">\n",
    "\n",
    "Diagramoje pavaizduota, iš ko tiksliai susideda TU sprendimas. Žaliai pažymėta, ko reikia VBE ir kas ugdoma mokykloje, o raudonai - ko reikia, bet neugdoma. Oranžinis stačiakampis - viena VBE populiariausių grandžių, kuriai programoje skiriama per mažai dėmesio.\n",
    "\n",
    "**Nežinomų dydžių ieškojimas** \n",
    "\n",
    "Dalį matematinių sąryšių TU sprendime galima užrašyti reiškinių pagalba. Ruošiantis egzaminui didžiausias dėmesys (mental energy) turėtų būti nukreiptas tokių sąryšių ieškojimui. Prieš pradedant spręsti TU rekomenduotina iš pradžių su jais susipažinti. Jie pavadinti elementariaisiais gebėjimais ir juos galima rasti [egzanalizes faile 6psl.](https://github.com/loijord/egzanalysis/blob/master/egzanalize_beta.pdf).\n",
    "\n",
    "Pradinių klasių uždaviniuose arba kai kuriuose nestandartiniuose uždaviniuose sąryšius galima išreikšti kitaip nei naudojant reiškinius (verbališkai). Pavyzdžiui nagrinėdami [kvadratines lygtis](kvadratai.ipynb) sutikome tokį sąryšį: \n",
    "\n",
    "* *Jei duoti du nevienodi skaičiai, tai vienas iš jų bus tiek didesnis už judviejų vidurkį, kiek kitas mažesnis*\n",
    "\n",
    "Šiuo atveju TU sprendime ieškant tam tikro nežinomojo sąryšis išreiškiamas logišku sakiniu ir naudojamas vietoj lygties. Pradinėse klasėse tekstiniai uždaviniai sprendžiami be lygčių pagalbos. Pavyzdžiui:\n",
    "\n",
    "* *Jei duotas upės tėkmės greitis ir baidarės greitis stovinčiame vandenyje, tai baidarės greitis plaukiant pasroviui bus lygus šių greičių sumai*\n",
    "\n",
    "**Tiesioginis teiginių reiškimas sąryšiais** \n",
    "\n",
    "Ši dalis sudėtingiausia sprendžiant TU. Teiginių formuluotes, kuriose tam tikri raktiniai žodžiai leidžia lengvai atpažinti aritmetinius veiksmus, laikau **standartinėmis**. Standartinių formuluočių pavyzdžiai iš 11 klasės kurso:\n",
    "\n",
    "<img src=\"reiskiniai.PNG\" width=\"300\">\n",
    "\n",
    "Remiantis panašiais pavyzdžiais galima spręsti nesudėtingus uždavinius:\n",
    "\n",
    "* [Apšilimas](nezinomieji.pdf) \n",
    "* [Simono instrukcijos, kaip spręsti](https://github.com/loijord/matematikos_pamokos/blob/master/strategijos/zodinis.pdf)\n",
    "\n",
    "Instrukcijas galima pamatyti tik atsiuntus Adobe Acrobat Reader programą. Sprendimo metu yra pateikiamos užuominos, kuriomis remiantis pasimato TU sprendimo samprotavimo eiga. Pavyzdžiui pirmame uždavinyje ji yra tokia:\n",
    "\n",
    "* Į kokius raktinius žodžius reikia atkreipti dėmesį?\n",
    "* Kokius raidinius reiškinius panaudosime?\n",
    "* Kokios šių raidinių reiškinių prasmės? Užrašykite jas.\n",
    "* Kokių kitų teiginių randate sąlygoje?\n",
    "* Papildomam teiginiui, kurį radote, sudarykite jį atitinkančią lygtį.\n",
    "* Pagal surastą sprendinį užrašykite atsakymą.\n",
    "\n",
    "**Netiesioginis teiginių reiškimas sąryšiais** \n",
    "\n",
    "Kitais atvejais dažniausiai prireikia arba turinio žinių, arba gerų interpretavimo įgūdžių norint paversti nestandartines formuluotes į standartines.\n",
    "\n",
    "Pavyzdys, kur reikia gerų **interpretavimo įgūdžių**: [TU apie tavo ir mano amžius](https://www.ematematikas.lt/forumas/apie-uzdavini-kur-paminetas-metaskai-man-buvo-tiek-metu-kiek-jums-dabar-t14483.html). Sunkiausi šio TU sprendimo dalis buvo nestandartinę formuluotę:\n",
    "\n",
    "* *Kiek metų jums buvo tada, kai man buvo tiek metų, kiek Jums dabar?*\n",
    "\n",
    "pakeisti standartine:\n",
    "\n",
    "* *Kiek metų jums buvo prieš metų skaičių, lygų mūsų amžių skirtumui?*\n",
    "\n",
    "Nestandartinę formuluotę labai sunku išreikšti reiškiniu. Tuo tarpu standartinę - lengva ir tai yra mokoma mokykloje. Pažymėjus dabartinį mano amžių $x$, o jūsų - $y$, standartinė formuluotė leistų nustatyti, kad amžių skirtumas yra lygus $x-y$ (reikia papildomai atkreipti dėmesį, kad aš vyresnis). Vadinasi, jei dabar Jums $y$ metų, tai prieš $x-y$ metų Jums buvo $y-(x-y)$ metų.\n",
    "\n",
    "Pavyzdys, kur reikia gerų **turinio žinių** iš 2020m. VBE:\n",
    "\n",
    "* *Įmonė paskelbė ieškanti studentų darbui vasarą. Į jos skelbimą atsiliepė 3 kartus daugiau vaikinų negu merginų. Jeigu iš atsiliepusiųjų įmonė atsitiktinai pasirinktų du studentus, tikimybė, kad ji pasirinktų dvi merginas, lygi 1/20. Apskaičiuokite, kiek merginų ir kiek vaikinų atsiliepė į skelbimą*.\n",
    "\n",
    "Sąlygoje sutinkamas žodžių junginys *3 kartus daugiau* yra standartinė formuluotė. Ji sufleruoja, kad kalbama apie du kintamuosius. Vieną iš jų galima pasižymėti $n$, kitą $3n$. Tačiau tolimesnėje dalyje pateikiamą tikimybinį sąryšį pavyks išreikšti lygybe tik tada, jei turime specifinių turinio žinių apie tikimybes (reikėjo sudaryti lygtį $\\frac{n(n-1)}{4n(4n-1)} = \\frac{1}{20}$ ir gauti $n=4$).\n",
    "\n",
    "**Nestandartinis mąstymas, būtinas TU išreikšti sąryšiais - ar tai pogrindinė veikla?**\n",
    "\n",
    "Mokyklinėje programoje nėra aiškaus plano, kaip įgyti intuiciją, kurios prireikia, kai verčiame TU sąlygose nurodytus teiginius į sąryšius, pakankamus rasti nežinomiesiems. Todėl didėja atskirtis tarp suprantančių matematiką ir nesuprantančių.\n",
    "\n",
    "Panašios idėjos atsipindi ir profesoriaus Rimo N. tekstuose. Jei į programą, kuria remiantis reikia spręsti TU, nėra įtrauktas loginis samprotavimas, tai moksleivių pasiekimai [gali augti tik iki tam tikro lygio](https://norvaisa.lt/svietimas/ebpo-ir-smm-poziuriai-i-svietimo-problemas/):\n",
    "\n",
    "*Mokyklinis matematinis samprotavimas yra loginis samprotavimas vartojant vaiko amžių atitinkančias sąvokas. EBPO siūlymas matematinį samprotavimą padaryti pagrindine mokyklinio raštingumo dalimi grįstas tyrimų rezultatais* [šie rezultatai mūsų šalyje ignoruojami]. *Matematikos taikymu kasdieniniame gyvenime grindžiamas mokymo turinys be logikos mokinių pasiekimus augina tik iki tam tikro lygio. Tolesnis logikos ignoravimas veda prie mokinių pasiekimų kritimo. Tai paaiškinama tuo, kad atminties ir elementarių pavyzdžių nepakanka motyvacijai mokytis ir įsisavinant net standartinį mokyklinės matematikos turinį.*\n",
    "\n",
    "Mintimis pasidalijo ir Vilniaus licėjuje dirbusi mokytoja Zina Š. (dabar dirba Jėzuitų gimnazijoje). Jos mokiniai VBE surenka aukščiausius balus iš TU sprendimo. Dalis jos sėkmės recepto - atkovoti iš kitų matematikos temų 3 mėnesius laiko ir skirti juos TU. Tačiau kita dalis - netradicinė mokymosi metodika:\n",
    "\n",
    "*Aš nerodau, kaip reikia spręsti uždavinį. Aš paprašau jį išspręsti ir dažniausiai duodu atsakymą. Tada jie patys atranda būdą, kaip gauti atsakymą. Atsakymą žinoti yra gerai dar ir dėl kitos priežasties: jei negauni atsakymo, ieškai, kur buvo tavo loginės klaidos. Jei moksleivis pats suranda loginę klaidą, tai jam pačiam naudinga, nes tada jis ieško kito sprendimo, kad gautų tą teisingą atsakymą. Po to jis sprendimą pristato klasei arba atsiunčia man (žiūrint, ar tai kontrolinis, ar eilinė pamoka) ir po to žiūrime ar sprendimas geras. Paprastai sprendimas geras, jei atsakymas geras. Tik vaikai nemoka aprašyti uždavinių, pakomentuoti savo kintamųjų. Jie turi galvoje viena, o parašo kita, bet, kai pasikalbame, pasidaro aišku.*\n",
    "\n",
    "*Nežinau, ar verta pasakinėti sprendimo būdus. Dar nebuvo taip, kad vienas sprendimo būdas suveiktų visai klasei. Kol supranta visa klasė, reikia eiti ir iš vieno kampo, ir iš antro, ir iš trečio, ir iš ketvirto, kartais ir visai nusileisti iki kalbos, kuri net nėra matematinė, kažkokiais buitiniais pavyzdžiais ir tada supranta tie paskutiniai. Aišku, jeigu tu nori, kad jie suprastų. Jeigu nenori, tai gali vieną būdą parodyt, išmokyt ir viskas. Ir darykim visus uždavinius vienodai. Kodėl su mokytojais dėl eskalatoriaus uždavinio yra problema? Su mokytojais, ne su vaikais! Todėl, kad mokytojas stengiasi išmokti sprendimo būdą. Kaip tik pavasaris, abiturientų ruošimas, taip gaunu skambutį iš kokios nors kolegės: kaip, Zina, spręsti eskalatoriaus uždavinį? Tu man sakei, bet pamiršau. Dėl to sakyti sprendimus yra blogai. Kam aš sakiau? Nereikėjo sakyt. Yra atsakymas ir tu jį gauni. Esi kvalifikuota matematikos mokytoja. Tavo užduotis - gaut atsakymą. Bet kai tu matai sprendimą, viskas tuo ir pasibaigia. Pamiršau, - sako. Tu jį vėl man pasakyk.*"
   ]
  },
  {
   "cell_type": "markdown",
   "metadata": {},
   "source": [
    "**Nestandartinis mąstymas, būtinas TU išreikšti sąryšiais - koks jis galėtų būti?**\n",
    "\n",
    "Jau minėjau, kad TU sprendimo metu galima vadovautis užuominomis, kuriomis remiantis pasimato TU sprendimo samprotavimo eiga. Sprendžiant daug TU įgyjama intuicija pasižymi žingsnių numatymu nepriklausomai nuo sprendžiamo TU temos. Pasirodo, šią intuiciją galima aprašyti labai detaliai. Tai pirmasis padarė George Pólya, parašęs knygą ***How to solve it***. Jis turi pasekėją ir Lietuvoje -  su mažaisiais olimpiadininkais daug dirbantį Romualdą K., parašiusį panašią knygą ***Kaip spręsti, kai nežinai kaip***. [Pagrindinė jų darbų mintis](https://www.zurnalai.vu.lt/LMR/article/view/17130) yra ta, kad uždavinio sprendimas - tai sumažinta mokslinio tyrimo versija, išlaikanti tam tikrą tyrinėjimo struktūrą, su kuria galima susipažinti paskaičius šias dvi knygas. Labiausiai tokie sprendimo būdai tinkami [Kengūros konkurso uždaviniams](https://github.com/loijord/General/blob/master/READING/concept_vivat_cangaroo/demo%20-%20database%20of%20problems/vivat_cangaroo.pdf). Nuo mūsų testų ir egzaminų tai labai toli, tai veikiau tam tikra kūrybinės matematikos rūšis, dažniausiai sutinkama olimpiadose, bet kartais netyčia ima ir pasirodo kokiame egzamine uždavinys, kur reikia perrinkinėti variantus ir kuris puikiai atitiktų šios teorijos pamatus. Visgi, pacituojant Romualdą K., nėra geresnio būdo išmokti spręsti uždavinius, kaip tik juos imti, skaityti ir spręsti mėginti. Čia pateiksiu detalią TU nagrinėjimo struktūrą pagal ***How to solve it*** knygą:\n",
    "\n",
    "|||\n",
    "|:---|:---|\n",
    "|UŽDAVINIO SUPRATIMAS|Kokį nežinomąjį reikia rasti? Kokie duomenys duoti? Kokia sąlyga? Ar įmanoma ją išpildyti? Ar sąlyga pakankama rasti nežinomajam, ar nepakankama? O gal perteklinė ar prieštaringa? Nusibrėžkite iliustraciją. Pasirinkite tinkamus žymėjimus. Išskirkite atskiras sąlygos dalis. Ar įmanoma jas užrašyti?|\n",
    "|PLANO SUDARYMAS|Ar uždavinys prieš tai matytas? Arba matytas truputį kitoks uždavinys? Ar žinai giminingą uždavinį arba naudingą teoremą, kuri būtų naudinga? Pasižiūrėk į kintamąjį. Pabandyk sugalvoti pažįstamą uždavinį, turintį tą patį ar panašų nežinomąjį. Tarkim radai panašų prieš tai išspręstą uždavinį. Ar gali juo pasinaudoti? Ar gali panaudoti jo rezultatą, sprendimo metodą? Ar reikia įvesti papildomą elementą į turimą sprendimą, kad pavyktų juo pasinaudoti? Ar gali kitaip suformuluoti uždavinį? Arba dar kitaip? Grįžk prie apibrėžimų. Jei negalui išspręsti uždavinio, pradėk nuo susijusio uždavinio. Ar įsivaizduoji artimesnį susijusį uždavinį? Konkretesnį uždavinį? Analogišką uždavinį? Pabandyk spręsti tik vieną sąlygos dalį nenagrinėdamas kitos. Kaip tada apibrėžtas nežinomasis ir kaip jis gali keistis? Ae gali išvesti ką nors naudingo iš šių duomenų? Ar gali sugalvoti kitus duomenis apibrėžti šiam nežinomajam. Ar gali pakeisti nežinomąjį, arba duomenis, arba abu, kad nežinomasis būtų labiau susijęs su duomenimis? Ar panaudojai visus duomenis? Ar pasinaudojai visomis esminėmis mintimis, įtrauktomis į uždavinį?|\n",
    "|PLANO VYKDYMAS|Vykdydamas sprendimo planą patikrink kiekvieną žingsnį. Ar esi tikras, kad kiekvienas žingsnis teisingas, ar gali paaiškinti, kodėl teisingas?|\n",
    "|SPRENDIMO APŽVALGA|Ar gali patikrinti rezultatą? Ar gali patikrinti įrodymą? Ar gali gauti rezultatą kitu būdu? Ar kitas būdas matomas akimirksniu? Ar gali pasiremti rezultatu arba sprendimo metodu kituose uždaviniuose?|"
   ]
  },
  {
   "cell_type": "markdown",
   "metadata": {},
   "source": [
    "# TU pavyzdžiai iš 2015 - 2020m. VBE egzaminų\n",
    "Šie pavyzdžiai turi [pažingsninius sprendimus](http://www.mat.lt), [sprendimų video įrašus](https://matematika.lt\n",
    ") ir [vertinimo instrukcijas](https://www.nec.lt/716/). Specifinio turinio žinios nebūtinos, tačiau gali prireikti uždavinių sprendimo intuicijos, samprotavimo ir interpretavimo įgūdžių. Kiekvienais iš šių metų egzamino bendra taškų suma būdavo 60 balų.\n",
    "\n",
    "* **VBE 2020 - 4** Buvo nupirkta $a$ knygų po $b$ eurų ir $b$ knygų po $a$ eurų. Kokia vidutinė vienos knygos kaina? [1tšk.]\n",
    "* **VBE 2020 - 18** Sporto klube viena treniruotė kainuoja 15 Eur. Šiame sporto klube vyksta akcija – kas penktai treniruotei taikoma 60 % nuolaida. Simas treniruotėms skyrė 250 Eur. Apskaičiuokite, kiek daugiausia treniruočių akcijos metu jis gali apmokėti už šiuos pinigus. [2tšk.]\n",
    "* **VBE 2020 - 20.1** Jurgita gamina ir parduoda apyrankes. Vienos apyrankės pagaminimo išlaidos (savikaina) yra 20 Eur. Iš pradžių Jurgita pardavinėjo apyrankes po 38 Eur ir per mėnesį parduodavo vidutiniškai 10 apyrankių. Ji pastebėjo, kad kiekvienas pardavimo kainos sumažinimas x eurų mėnesio pardavimus vidutiniškai padidina x apyrankių. Čia $0\\le x\\le 18$. Tarkime, kad apyrankės pardavimo kainą Jurgita sumažino x eurų. Parodykite, kad už parduotas apyrankes gautas mėnesio pelnas apskaičiuojamas pagal formulę $f(x)=-x^2+8x+180$ [2tšk.]\n",
    "* **VBE 2019 - 4** Per mokinių prezidento rinkimus balsuoti turi teisę visi mokyklos mokiniai ir mokytojai. Tačiau į rinkimus atėjo ir balsavo tik 84 % turinčiųjų teisę balsuoti. Iš jų 75 % balsavo už Manto kandidatūrą. Kiek procentų **visų** mokyklos mokinių ir mokytojų balsavo už Manto kandidatūrą? [1tšk.]\n",
    "* **VBE 2019 - 11** Dažnių lentelėje pateikti vienos bendrovės darbuotojų mėnesio atlyginimai eurais. Apskaičiuokite vidutinį šios bendrovės darbuotojo mėnesio atlyginimą. [1tšk.]\n",
    "\n",
    "|Mėnesio atlyginimas, Eur|1000|1200|1500|2000|2500|\n",
    "|:---:|:---:|:---:|:---:|:---:|:---:|\n",
    "|Darbuotojų, gaunančių nurodyto dydžio atlyginimą, skaičius|20|17|12|8|3|\n",
    "\n",
    "* **VBE 2019 - 12** Vaikui kelionė kainuoja 60 eurų. Tai 20% mažiau negu šios kelionės kaina suaugusiajam. Kiek ši kelionė kainuoja suaugusiajam? [1tšk.]\n",
    "* **VBE 2018 - 3** Mažylis vienas tortą suvalgo per 30 min., o kartu su Karlsonu – per 5 min. Per kiek minučių\n",
    "Karlsonas vienas suvalgo tortą? [1tšk.]\n",
    "* **VBE 2018 - 5** Telefonas kainuoja 300 eurų. Perkant išsimokėtinai, 2 metus kas mėnesį reikia mokėti 15 eurų\n",
    "įmoką. Keliais procentais telefono kaina išauga, perkant jį išsimokėtinai? [1tšk.]\n",
    "* **VBE 2018 - 17.1** Cukrus sudaro 6 % arbatos gėrimo „iTea“ masės. Rugilė nusipirko 1,5 kg gėrimo „iTea“. Kiek gramų cukraus yra jos nusipirktame gėrime? [1tšk.]\n",
    "* **VBE 2018 - 17.2** Rugilė į 250 g gėrimo „iTea“ įspaudė 5 g citrinos sulčių ir įpylė tiek vandens, kad cukrus sudarytų 4 % gauto gėrimo masės. Kiek gramų vandens įpylė Rugilė? [2tšk.]\n",
    "* **VBE 2018 - 18** Dvi sesutės – Irutė ir Birutė – kurį laiką gaudė pokemonus. Irutė kasdien sugaudavo po x pokemonų, o Birutė – trimis pokemonais daugiau. Irutė pokemonus gaudė viena diena ilgiau negu Birutė. Birutė iš viso sugavo 484 pokemonus, o Irutė iš viso sugavo 437 pokemonus. Apskaičiuokite x reikšmę. [4tšk.]\n",
    "* **VBE 2017 - 15** Vandens siurblys rutulio formos talpą pripildo per 162 sekundes. Per kiek sekundžių siurblys\n",
    "pripildytų kitą tris kartus mažesnio skersmens rutulio formos talpą? Siurblys dirba tolygiai, t. y. per vienodus laikotarpius pripildo vandeniu vienodus tūrius. [1tšk.]\n",
    "* **VBE 2017 - 18** Jonas ketina paimti 600 eurų paskolą. Paskola būtų grąžinama mėnesio įmokomis. Kiekvieno mėnesio įmoką sudarytų dvi dalys: 4 % mokestis nuo pasiskolintos sumos (600 eurų) ir kiekvienam grąžinimo mėnesiui po lygiai išdalyta 600 eurų suma. \n",
    "  * **18.1** Kiek iš viso eurų tektų sumokėti Jonui, jeigu jis nuspręstų paskolą grąžinti per 5 mėnesius? [2tšk.]\n",
    "  * **18.2** Per kelis mėnesius Jonas turėtų grąžinti 600 eurų paskolą, jei kiekvieno mėnesio įmoka būtų 99 eurai? [2tšk.]\n",
    "  \n",
    "* **VBE 2017 - 20** Mokinių kontrolinio darbo rezultatai (taškai) pateikti dažnių lentele. Apskaičiuokite mokinių\n",
    "surinktų taškų vidurkį. [2tšk.]\n",
    "\n",
    "|Taškai|5|6|7|8|9|\n",
    "|:---:|:---:|:---:|:---:|:---:|:---:|\n",
    "|Mokinių skaičius|4|5|10|5|1|\n",
    "\n",
    "* **VBE 2017 - 25** Per sausio ir kovo mėnesius kartu paėmus buvo pagaminta dvigubai daugiau produkcijos negu per vasario mėnesį. Per vasario ir kovo mėnesius kartu paėmus buvo pagaminta trigubai daugiau produkcijos negu per sausio mėnesį. Kurį iš šių mėnesių buvo pagaminta daugiausia produkcijos, o kurį – mažiausia? Atsakymą argumentuokite. [4tšk.]\n",
    "* **VBE 2016 - 2**  Lėktuvas skrenda pučiant pastovaus greičio vėjui. Naudodamas tiek pat galios, pavėjui jis gali skristi 650 km/h greičiu, o prieš vėją gali skristi 600 km/h greičiu. Koks vėjo greitis? [1tšk.]\n",
    "* **VBE 2016 - 3** Koks skaičių 2; 2; 3; 4; 5; 9; 9; 10 aritmetinis vidurkis? [1tšk.]\n",
    "* **VBE 2016 - 8** Supakuotos trys vienodos bandelės kainavo 1 Eur. Kokia vienos bandelės kaina pritaikius 40 % nuolaidą? [1tšk.]\n",
    "* **VBE 2016 - 13** Klientas greitųjų paskolų bendrovėje pasiskolino 900 eurų vienam mėnesiui su 10% mėnesio palūkanomis.\n",
    "  * **13.1** Kiek iš viso eurų klientas turės grąžinti bendrovei, praėjus vienam mėnesiui? [1tšk.]\n",
    "  * **13.2** Klientui pavėlavus grąžinti paskolą, už kiekvieną uždelstą dieną priskaičiuojama po 0,05 % delspinigių nuo pasiskolintos sumos (900 eurų). Kiek dienų klientas uždelsė grąžinti paskolą, jei susidariusi delspinigių suma sutapo su mėnesio palūkanų suma? [1tšk.]\n",
    "* **VBE 2016 - 20** Močiutė primelžė 12 kilogramų 4,25 % riebumo pieno, t. y. pieno, kurio 4,25 % masės sudaro riebalai. Kitą dieną močiutė nugriebė susidariusį viršutinį grietinėlės sluoksnį. Nugriebtos grietinėlės riebumas buvo 20 %, o likusio pieno riebumas buvo 2,5 %.\n",
    "  * **20.1** Kiek kilogramų riebalų buvo primelžtame piene? [1tšk.]\n",
    "  * **20.2** Kiek kilogramų grietinėlės močiutė nugriebė? [3tšk.]\n",
    "* **VBE 2016 - 21.2** Ronaldas svajoja motorine skraidykle apskristi pasaulį. Jis kelionę pradėtų Kuršėnuose. Ronaldas skristų virš 56° lygiagretės ir įveiktų 24039.84km atstumą. Skrisdamas pastoviu 90 km/h greičiu, jis jau pirmą dieną pasiektų Arnborgą (Danija). Kiek laiko Ronaldas skristų nuo Kuršėnų iki Arnborgo, jeigu iki jo būtų įveikta $\\frac{7}{180}$ visos kelionės aplink pasaulį atstumo? Atsakymą pateikite valandų tikslumu. [2tšk.]\n",
    "* **VBE 2016 - 23** 100 metrų plaukimo varžybose dalyvavo Rūta, Julija ir Džesika. Rūta **savo finišo momentu** lenkė Juliją 2 metrais, o Julija **savo finišo momentu** lenkė Džesiką metru. Tarkime, kad jos distanciją plaukė pastoviais greičiais. Keliais metrais Rūta **savo finišo momentu** lenkė Džesiką? Skaičiuodami laikykite, kad plaukikės yra materialūs taškai, t. y. plaukikių matmenų nepaisykite. [4tšk.]\n",
    "* **VBE 2015 - 3** Diagramoje pavaizduotas šeimos vieno mėnesio visų išlaidų paskirstymas procentais. Tą mėnesį\n",
    "maistui šeima išleido 420 eurų. Kiek eurų šeima išleido rūbams? [1tšk.]\n",
    "<img src=\"VBE2015_3.PNG\" width=\"100\">\n",
    "* **VBE 2015 - 5** Vandens čiaupo pajėgumas yra toks, kad stačiakampio gretasienio formos baseinas, kurio\n",
    "matmenys yra a, b ir c, pripildomas per 1 valandą. Per kiek laiko iš to paties vandens čiaupo,\n",
    "veikiančio tokiu pačiu pajėgumu, galima būtų pripildyti stačiakampio gretasienio formos 2a, 2b ir 2c matmenų baseiną? [1tšk.]\n",
    "* **VBE 2015 - 25** Tuo pačiu metu iš miestelių $A$ ir $B$ pastoviais greičiais vienas priešais kitą išvažiavo du\n",
    "dviratininkai. Pirmasis važiavo iš miestelio $A$ į miestelį $B$, o antrasis – iš miestelio $B$ į miestelį $A$. Pakeliui jie susitiko. Po susitikimo pirmasis dviratininkas į miestelį $B$ atvyko po 36 minučių, o antrasis į miestelį $A$ atvyko po 25 minučių. Kiek minučių pirmasis dviratininkas važiavo iš miestelio $A$ iki susitikimo su antruoju dviratininku? [3tšk.]"
   ]
  },
  {
   "cell_type": "markdown",
   "metadata": {},
   "source": [
    "## Abiturientų rezultatai 2015 - 2020m.\n",
    "Iš pradžių parodysiu, kiek buvo įmanoma surinkti taškų iš TU ankstesniuose egzaminuose."
   ]
  },
  {
   "cell_type": "code",
   "execution_count": 103,
   "metadata": {},
   "outputs": [
    {
     "data": {
      "image/png": "[encoded data removed]",
      "text/plain": [
       "<Figure size 432x288 with 1 Axes>"
      ]
     },
     "metadata": {
      "needs_background": "light"
     },
     "output_type": "display_data"
    }
   ],
   "source": [
    "x, y = [2020, 2019, 2018, 2017, 2016, 2015], [5, 3, 9, 11, 15, 4]\n",
    "pasiskirstymas(x, y)"
   ]
  },
  {
   "cell_type": "markdown",
   "metadata": {},
   "source": [
    "Dabar parodysiu, kaip sekėsi abiturientams 2015m. - 2020m."
   ]
  },
  {
   "cell_type": "code",
   "execution_count": 120,
   "metadata": {},
   "outputs": [
    {
     "data": {
      "image/png": "[encoded data removed]",
      "text/plain": [
       "<Figure size 432x288 with 1 Axes>"
      ]
     },
     "metadata": {},
     "output_type": "display_data"
    }
   ],
   "source": [
    "results = [0.5,0.6,0.5,0.6,0.5,0.6,0.5]\n",
    "titles = [\"225 g flour\", \"90 g sugar\", \"1 egg\", \"60 g butter\", \"100 ml milk\", \"1/2 package of yeast\", 'additives']\n",
    "sizes = [1] * len(results)\n",
    "name ='2020m. VBE mokinių pasiekimai'\n",
    "show_results(results, titles, sizes, name)"
   ]
  },
  {
   "cell_type": "code",
   "execution_count": 119,
   "metadata": {},
   "outputs": [],
   "source": [
    "import numpy as np\n",
    "import matplotlib.pyplot as plt\n",
    "\n",
    "def pasiskirstymas(x, y):\n",
    "    line = plt.bar(x, y)\n",
    "    plt.title('Taškų skaičius už TU kasmet')\n",
    "    plt.ylabel('Taškai')\n",
    "    plt.xlabel('Metai')\n",
    "    plt.gca().set_yticks([])\n",
    "    for i in range(len(y)):\n",
    "        plt.annotate(str(y[i]), xy=(x[i],y[i]), ha='center', va='bottom')\n",
    "    plt.show()\n",
    "    \n",
    "def show_results(results, titles, sizes, name):\n",
    "    ax = plt.gca()\n",
    "    ax.set_title(name, y=1.08, fontsize=15)\n",
    "    colors = plt.get_cmap(\"jet\")(np.linspace(0, 1, len(titles)))\n",
    "    wedges = []\n",
    "    for i in range(len(outer_values)):\n",
    "        #whole part\n",
    "        none = np.empty_like(colors)\n",
    "        none[:] = np.nan\n",
    "        none[:,3] = np.nan\n",
    "        none[i] = [0.3,0.3,0.3,1]\n",
    "        wedge, text = ax.pie(sizes, radius=1, colors=none)\n",
    "        wedges.append(wedge[i])\n",
    "\n",
    "        #actual part\n",
    "        none = np.empty_like(colors)\n",
    "        none[:] = np.nan\n",
    "        none[:,3] = np.nan\n",
    "        none[i] = [0.2,0.8,0,1] #black color\n",
    "        ax.pie(sizes, radius=results[i], colors=none)\n",
    "    add_labels(ax, wedges, titles)\n",
    "    plt.show()\n",
    "        \n",
    "    \n",
    "def add_labels(ax, wedges, titles):\n",
    "    bbox_props = dict(boxstyle=\"square,pad=0.3\", fc=\"w\", ec=\"k\", lw=0.72)\n",
    "    kw = dict(arrowprops=dict(arrowstyle=\"-\"),\n",
    "              bbox=bbox_props, zorder=0, va=\"center\")\n",
    "\n",
    "    for i, p in enumerate(wedges):\n",
    "        ang = (p.theta2 - p.theta1)/2. + p.theta1\n",
    "        y = np.sin(np.deg2rad(ang))\n",
    "        x = np.cos(np.deg2rad(ang))\n",
    "        horizontalalignment = {-1: \"right\", 1: \"left\"}[int(np.sign(x))]\n",
    "        connectionstyle = \"angle,angleA=0,angleB={}\".format(ang)\n",
    "        kw[\"arrowprops\"].update({\"connectionstyle\": connectionstyle})\n",
    "        ax.annotate(titles[i], xy=(x, y), xytext=(1.35*np.sign(x), 1.4*y),\n",
    "                    horizontalalignment=horizontalalignment, **kw)"
   ]
  },
  {
   "cell_type": "markdown",
   "metadata": {},
   "source": [
    "## TU pavyzdžiai iš 2014m., 2006m., 2005m., 2004m. VBE egzaminų\n",
    "Šiems pavyzdžiams egzistuoja kokybinė moksleivių sprendimų analizė."
   ]
  }
 ],
 "metadata": {
  "kernelspec": {
   "display_name": "Python 3",
   "language": "python",
   "name": "python3"
  },
  "language_info": {
   "codemirror_mode": {
    "name": "ipython",
    "version": 3
   },
   "file_extension": ".py",
   "mimetype": "text/x-python",
   "name": "python",
   "nbconvert_exporter": "python",
   "pygments_lexer": "ipython3",
   "version": "3.8.3"
  }
 },
 "nbformat": 4,
 "nbformat_minor": 4
}
