{
 "cells": [
  {
   "cell_type": "markdown",
   "metadata": {},
   "source": [
    "## Ką veikėme per užsiėmimą"
   ]
  },
  {
   "cell_type": "markdown",
   "metadata": {},
   "source": [
    "### Pradžia \n",
    "Simonas paminėjo, kad pradėjo mokytis apie pusiaukraštines ir kad gavo iš savarankiško darbo 6. Praeitą sykį savarankiškam darbui ruošėmės - išsprendėme 3 užduotis iš pirmo savarankiško darbo.\n",
    "\n",
    "Paklausinėjus, ką jis prisimena iš praeito užsiėmimo, paaiškėjo, pagrindiniai jo trūkumai: **reikiamos sąvokos išmoktos buitiniais terminais arba neišmoktos**. Šlubavo sąvokos, kurias Simonas ėjo:\n",
    "\n",
    "* Lygiagrečios tiesės\n",
    "* Kryžminiai kampai\n",
    "* Gretutiniai kampai\n",
    "* Priešiniai kampai\n",
    "* Vienašaliai kampai"
   ]
  },
  {
   "cell_type": "markdown",
   "metadata": {},
   "source": [
    "### Nesusišnekėjimai sprendžiant\n",
    "* Lygiagretūs kampai - vienas prieš kitą...\n",
    "* Kryžminiai kampai: ![krsim](krsim.png)\n",
    "* Kryžminis kampas - tas, kur apačioje po kaire ![krysim](krysim.png)\n",
    "* Spindulys - tai, kas eina iš apskritimo centro į kraštą. Dar gali būti kaip šviesa.\n",
    "* Gretutinis kampas - kampas, kuris yra sekantis, greta\n",
    "* Jei kampai $3x-24$ ir $x-16$ kartu sudaro $180^o$, tai rašome $3x-24 = x-16$, kaip ankstesniam variante.\n",
    "* ABCD - trikampis."
   ]
  },
  {
   "cell_type": "markdown",
   "metadata": {},
   "source": [
    "### Pastabos\n",
    "\n",
    "* Praeitą pamoką tvirtinau, kad atlikti mintinius eksperimentus (transformuoti figūras mintyse) padės lavinti geometrinį matymą.\n",
    "\n",
    "* Šį kartą tenka papildyti: eksperimentavimas gali nepadėti, jei nemokėsim sąvokų."
   ]
  },
  {
   "cell_type": "markdown",
   "metadata": {},
   "source": [
    "## Medžiaga savarankiškam skaitymuisi"
   ]
  },
  {
   "cell_type": "markdown",
   "metadata": {},
   "source": [
    "### Kampas - dviprasmiškas dalykas\n",
    "\n",
    "* Matematikoje stengiamasi, kad sąvokos būtų nedviprasmiškos. Tačiau kampo sąvoka nepaiso taisyklių: tai ir geometrinė konstrukcija, ir dydis:\n",
    " 1. *plokštumos dalis, esanti tarp dviejų viename taške prasidedančių spindulių.*\n",
    " 2. *dydis, apibrėžiantis šią plokštumos dalį arba posūkį.*\n",
    "* Kiekvieną sąvoką galime gerai suprasti tik tada, kai suprantame visus į apibrėžimą įeinančius žodžius (Simonas pamiršo žodžio ,,spindulys\" prasmę):\n",
    "  * *Spindulys - tai tiesės dalis, turinti pradžią, bet neturinti pabaigos.*\n",
    "* Kas yra dydis, vadovėlyje niekur nenurodyta, nors nuolat apie juos mokomės:\n",
    "  * *Dydis - tai objekto savybė, kuriai priskiriamas skaičius pasirenkant matavimo vienetą.*\n",
    "  \n",
    "  Pavyzdžiui: atkarpos ilgis $3$cm, trikampio kampas $60^o$, automobilio greitis $3$km/h."
   ]
  },
  {
   "cell_type": "markdown",
   "metadata": {},
   "source": [
    "### Sąvokos\n",
    "|Sąvoka|Apibrėžimas|Vaizdas|\n",
    "|:-----|:-----|:-----|\n",
    "|**Kampo kraštinės**|Spinduliai, tarp kurių yra kampo vidinė dalis.|<img src=\"concept_pics/pic1.PNG\" width=70/>|\n",
    "|**Kampo viršūnė**|Taškas, iš kurio išeina kampo kraštinės.|<img src=\"concept_pics/pic2.PNG\" width=\"70\"/>|\n",
    "|**Ištiestinis kampas**|Kampas, kurio kraštinės sudaro tiesę.|<img src=\"concept_pics/pic3.PNG\" width=\"70\"/>|\n",
    "|**Statusis kampas**|Kampas, lygus pusei ištiestinio kampo (dydžio).|<img src=\"concept_pics/pic4.PNG\"  width=\"70\"/>|\n",
    "|**Smailusis kampas**|Kampas, mažesnis už statųjį kampą.|<img src=\"concept_pics/pic5.PNG\" width=\"70\"/>|\n",
    "|**Bukasis kampas**|Kampas, didesnis už statųjį, bet mažesnis už ištiestinį.|<img src=\"concept_pics/pic6.PNG\" width=\"70\"/>|\n",
    "|**Pusiaukampinė**|Spindulys, išeinantis iš kampo viršūnės ir dalijantis kampą pusiau.|<img src=\"concept_pics/pic7.PNG\" width=\"70\"/>|\n",
    "|**Gretutiniai kampai** (du galimi apibrėžimai)|<ul><li>Du kampai, kuriuose viena pora kraštinių sudaro ištiestinį kampą, o kita pora - bendra</li><li>Du kampai, sudaryti nubrėžus spindulį iš ištiestinio kampo viršūnės</li></ul>|<img src=\"concept_pics/pic8.PNG\" width=\"100\"/>|\n",
    "|**Kryžminiai kampai** (du galimi apibrėžimai)|<ul><li>Priešingieji(?) kampai, sudaryti iš susikertančių dviejų tiesių</li><li>Du kampai su nesutampančiomis kraštinėmis, sudaryti iš susikertančių dviejų tiesių</li></ul>|<img src=\"concept_pics/pic9.PNG\" width=\"100\"/>|\n",
    "|**Lygiagrečios tiesės**|Jomis vadinamos tokios plokštumos tiesės, kurios nesikerta.|<img src=\"concept_pics/pic10.PNG\" width=\"100\"/>|\n",
    "|**Kirstinė**|Jomis vadinamos tokios plokštumos tiesės, kurios nesikerta.|<img src=\"concept_pics/pic11.PNG\" width=\"70\"/>|\n",
    "|**Vidaus kampai**|Tai kampai, esantys tarp dviejų lygiagrečių tiesių, kurių viena kraštinė sutampa su kirstine|<img src=\"concept_pics/pic12.PNG\" width=\"100\"/>|\n",
    "|**Priešiniai kampai**|Tai vidaus kampai, esantys priešingose kirstinės pusėse (ir nesantys gretutiniai)|<img src=\"concept_pics/pic13.PNG\" width=\"100\"/>|\n",
    "|**Vienašaliai kampai**|Tai vidaus kampai, esantys toje pačioje kirstinės pusėje.|<img src=\"concept_pics/pic14.PNG\" width=\"100\"/>|\n",
    "|**Atitinkamieji kampai**|Tai kampai, esantys toje pačioje kirstinės pusėje ir toje pačioje lygiagrečių tiesių pusėje.|<img src=\"concept_pics/pic15.PNG\" width=100/>|"
   ]
  },
  {
   "cell_type": "markdown",
   "metadata": {},
   "source": [
    "### Savybės\n",
    "* Kryžminiai kampai tarpusavyje lygūs.\n",
    "* Gretutinių kampų suma lygi $180^o$.\n",
    "* Vienašalių kampų suma lygi $180^o$.\n",
    "* Priešiniai kampai lygūs.\n",
    "* Dvi tiesės lygiagrečios, jei vienašalių kampų suma lygi $180^o$.\n",
    "* Dvi tiesės lygiagrečios, jei priešiniai kampai lygūs."
   ]
  },
  {
   "cell_type": "markdown",
   "metadata": {},
   "source": [
    "## Ko tikiuosi iš Simono\n",
    "\n",
    "Atsiliekame! Reikia vytis. Pasimokyti reiktų ne tik per mano užsiėmimą.\n",
    "Norėčiau, kad Simonas atliktų šiuos dalykus:\n",
    "\n",
    "* Pabaigtų spręsti antro savarankiško darbo ketvirtą užduotį pagal duotą formą ir atsiųstų sprendimą paštu.\n",
    "* Pasiskaityti čia esančią medžiagą savarankiškam skaitymuisi.\n",
    "* Pasiskaitytų skyrelį apie matematinę kalbą ir galėtų trumpai paaiškinti jos bruožus.\n",
    "* Galėtų atpažinti sąvokas: \n",
    "  * duosiu tuos pačius paveikslėlius, reikės įvardyti sąvokas.\n",
    "  * duosiu apibrėžimus, reikės įvardyti tas pačias sąvokas.\n",
    "* Pasikartotų lygčių sprendimą per Pycharm.\n",
    "* Pasikeltų lygį [Euclidea](http://www.euclidea.xyz) žaidime."
   ]
  }
 ],
 "metadata": {
  "kernelspec": {
   "display_name": "Python 3",
   "language": "python",
   "name": "python3"
  },
  "language_info": {
   "codemirror_mode": {
    "name": "ipython",
    "version": 3
   },
   "file_extension": ".py",
   "mimetype": "text/x-python",
   "name": "python",
   "nbconvert_exporter": "python",
   "pygments_lexer": "ipython3",
   "version": "3.7.4"
  }
 },
 "nbformat": 4,
 "nbformat_minor": 2
}
