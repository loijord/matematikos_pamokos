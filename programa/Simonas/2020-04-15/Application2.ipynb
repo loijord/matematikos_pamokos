{
 "cells": [
  {
   "cell_type": "code",
   "execution_count": null,
   "metadata": {},
   "outputs": [
    {
     "name": "stdout",
     "output_type": "stream",
     "text": [
      "Šiame pratime bus duota 15 apibrėžimų.\n",
      "Reikės nurodyti, kokios sąvokos buvo apibrėžtos.\n",
      "Jei pasiruošęs, paspausk Enter.\n",
      "---------------------------------------------------------\n",
      "Kas čia apibrėžta?\n"
     ]
    },
    {
     "data": {
      "text/markdown": [
       "*Tai vidaus kampai, esantys priešingose kirstinės pusėse (ir nesantys gretutiniai)*"
      ],
      "text/plain": [
       "<IPython.core.display.Markdown object>"
      ]
     },
     "metadata": {},
     "output_type": "display_data"
    },
    {
     "name": "stdout",
     "output_type": "stream",
     "text": [
      "priešiniai kampai\n",
      "Teisingai\n",
      "---------------------------------------------------------\n",
      "Kas čia apibrėžta?\n"
     ]
    },
    {
     "data": {
      "text/markdown": [
       "*Spinduliai, tarp kurių yra kampo vidinė dalis.*"
      ],
      "text/plain": [
       "<IPython.core.display.Markdown object>"
      ]
     },
     "metadata": {},
     "output_type": "display_data"
    },
    {
     "name": "stdout",
     "output_type": "stream",
     "text": [
      "kampo kraštinės\n",
      "Teisingai\n",
      "---------------------------------------------------------\n",
      "Kas čia apibrėžta?\n"
     ]
    },
    {
     "data": {
      "text/markdown": [
       "*Spindulys, išeinantis iš kampo viršūnės ir dalijantis kampą pusiau.*"
      ],
      "text/plain": [
       "<IPython.core.display.Markdown object>"
      ]
     },
     "metadata": {},
     "output_type": "display_data"
    },
    {
     "name": "stdout",
     "output_type": "stream",
     "text": [
      "pusiaukraštinė\n",
      "Neteisingai, atsakymas buvo pusiaukampinė\n",
      "---------------------------------------------------------\n",
      "Kas čia apibrėžta?\n"
     ]
    },
    {
     "data": {
      "text/markdown": [
       "*Tai kampai, esantys toje pačioje kirstinės pusėje ir toje pačioje lygiagrečių tiesių pusėje.*"
      ],
      "text/plain": [
       "<IPython.core.display.Markdown object>"
      ]
     },
     "metadata": {},
     "output_type": "display_data"
    },
    {
     "name": "stdout",
     "output_type": "stream",
     "text": [
      "???\n",
      "Neteisingai, atsakymas buvo atitinkamieji kampai\n",
      "---------------------------------------------------------\n",
      "Kas čia apibrėžta?\n"
     ]
    },
    {
     "data": {
      "text/markdown": [
       "*Jomis vadinamos tokios plokštumos tiesės, kurios nesikerta.*"
      ],
      "text/plain": [
       "<IPython.core.display.Markdown object>"
      ]
     },
     "metadata": {},
     "output_type": "display_data"
    }
   ],
   "source": [
    "import numpy as np\n",
    "from IPython.display import Markdown\n",
    "from random import shuffle\n",
    "\n",
    "with open('table.txt','r', encoding='utf-8') as t:\n",
    "    table = t.read()\n",
    "table_cells = np.array([[x.replace('**','') for x in n[1:-1].split('|')] for n in table.split('\\n')[2:]])\n",
    "\n",
    "def klausimas(i, x):\n",
    "    print('---------------------------------------------------------')\n",
    "    print('Kas čia apibrėžta?')\n",
    "    display(Markdown('*'+table_cells[i,1]+'*'))\n",
    "    inp = input()\n",
    "    print({True: 'Teisingai', False: 'Neteisingai, atsakymas buvo '+x.lower()}[inp.lower()==x.lower()])\n",
    "    return int(inp.lower()==x.lower())\n",
    "    \n",
    "R = list(range(len(table_cells)))\n",
    "shuffle(R)\n",
    "score = 0\n",
    "\n",
    "input('Šiame pratime bus duota 15 apibrėžimų.\\n\\\n",
    "Reikės nurodyti, kokios sąvokos buvo apibrėžtos.\\n\\\n",
    "Jei pasiruošęs, paspausk Enter.')\n",
    "\n",
    "for r in R: \n",
    "    score += klausimas(r, table_cells[r,0])\n",
    "\n",
    "print(f'Gavai taškų: {score}/{len(table_cells)}')"
   ]
  },
  {
   "cell_type": "code",
   "execution_count": null,
   "metadata": {},
   "outputs": [],
   "source": []
  }
 ],
 "metadata": {
  "kernelspec": {
   "display_name": "Python 3",
   "language": "python",
   "name": "python3"
  },
  "language_info": {
   "codemirror_mode": {
    "name": "ipython",
    "version": 3
   },
   "file_extension": ".py",
   "mimetype": "text/x-python",
   "name": "python",
   "nbconvert_exporter": "python",
   "pygments_lexer": "ipython3",
   "version": "3.7.4"
  }
 },
 "nbformat": 4,
 "nbformat_minor": 2
}
