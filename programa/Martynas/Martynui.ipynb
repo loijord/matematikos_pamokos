{
 "cells": [
  {
   "cell_type": "markdown",
   "metadata": {},
   "source": [
    "# Pirmos pamokos tema - tiesinės lygtys"
   ]
  },
  {
   "cell_type": "markdown",
   "metadata": {},
   "source": [
    "### Pamokos struktūra:\n",
    "\n",
    "    * Susipažįstame su lygties sąvoka, į ją įeinančiais objektais ir kitais svarbiausiais matematiniais objektais\n",
    "    * Susipažįstame su lygties vaizdiniu (svarstyklėmis), jo prieštaringomis dalimis\n",
    "    * Susipažįstame su mokyklinėmis tiesinių lygčių sprendimo taisyklėmis\n",
    "    * Praktikuojamės su mokykliniais uždaviniais ir automatiškai sugeneruotomis lygtimis\n",
    "    * Susipažįstame su lygčių sudarinėjimo tekstiniuose uždaviniuose taisyklėmis\n",
    "    * Praktikuojamės su uždaviniais, kuriuose galima (bet nebūtina taikyti) tiesines lygtis.\n",
    "    \n",
    "### Papildomai:\n",
    "    * Mano siūlomas variantas, kaip galima apibrėžti matematinį vaizdinį.\n",
    "    * Mano rekomendacijos, į ką reikėtų atkreipti dėmesį mokantis matematines sąvokas.\n",
    "    * Bandymai apibrėžti, kuo skiriasi matematiniai objektai nuo kitokių.\n",
    "\n",
    "*Mano manymu, intelektinis poreikis taikyti tiesines lygtis kyla, kai susiduriame su buitinėmis situacijomis, kuriose įvairiomis buitine prasme suvokiamomis formomis pasitaiko tiesiniai ryšiai tarp dydžių. Toliau kiekvienai plano daliai įgyvendinti skirsiu po atskirą sekciją.*"
   ]
  },
  {
   "cell_type": "markdown",
   "metadata": {},
   "source": [
    "## Sąvokos"
   ]
  },
  {
   "cell_type": "markdown",
   "metadata": {},
   "source": [
    "Nors pagal dabartinę programą matematinių sąvokų mokytis neprivaloma arba jų supratimas vadovėlyje formuojamas nagrinėjant analogijas toms sąvokoms, aš rekomenduočiau kiekvieną pamoką pasikartoti visų prieš tai išmoktų sąvokų apibrėžimus.\n",
    "\n",
    "#### Svarbiausių dalykų apibrėžimai"
   ]
  },
  {
   "cell_type": "markdown",
   "metadata": {},
   "source": [
    "* Pačią **matematiką** galima apibrėžti įvairiai, nes priimto vieningo apibrėžimo nėra. Pavyzdžiui:\n",
    "  - 1) tiksliai apibrėžtų objektų tyrimas remiantis dedukciniu samprotavimu arba tokiu būdu gautos žinios.\n",
    "  - 2) kultūros dalis, samprotavimu įprasminanti žmonijos praktinę ir pažintinę veiklą.\n",
    "* Objektas - tai, į ką nukreipta pažintinė veikla.\n",
    "* Procedūra - tai žingsnių seka, kurios laikantis iš vienos ar kelių reikšmių išvedama (vienareikšmiškai apibrėžta) viena reikšmė, vadinama jos rezultatu.\n",
    "* Atsakymas - (ne visai sutampa su rezultatu) pateikiama informacija arba uždavinio sprendimo rezultatas.\n",
    "* Operacija - funkcija (atitiktis), pagal kurią iš vienos ar kelių reikšmių gaunama viena reikšmė.\n",
    "* Skaičius - tai matematinis objektas naudojamas skaičiavime, matavime arba žymėjimui.\n",
    "* Skaičiavimas - procedūra, kurios metu objektams yra priskiriami skaičių vardai.\n",
    "* Matavimas - procedūra, kurios metu objektų savybėms yra priskiriami dydžiai.\n",
    "* Dydis - tai savybė, kuriai prisikiriamas skaičius pasirenkant matavimo vienetą. Pvz. 3 cm, 2 laipsniai, 220 voltų.\n",
    "* Reikšmė tai savybė, kuriai prisikiriamas matematinis objektas (dažniausiai skaičius).\n",
    "* Aibė - (supaprastintai), skirtingų objektų, vadinamų jos elementais, rinkinys.\n",
    "* Kintamasis arba kintamasis dydis - kuriuo žymimas bet kuris objektas iš kurios nors aibės, vadinamos kitimo sritimi. Pvz. atstumas tarp dviejų taškų priklauso teigiamų skaičių aibei.\n",
    "* Reiškinys - tai matematinė frazė, sudaryta iš skaičių, veiksmų, skliaustų ir kt."
   ]
  },
  {
   "cell_type": "markdown",
   "metadata": {},
   "source": [
    "#### Lygties sąvoka ir į ją įeinančių objektų sąvokos"
   ]
  },
  {
   "cell_type": "markdown",
   "metadata": {},
   "source": [
    "Susipažinę su dažniausiai prireikiančių objektų apibrėžimais galime eiti prie lygties sąvokos ir jos komponentų.\n",
    "\n",
    "* Matematinis teiginys - tai kintamasis, galintis įgyti tik dvi reikšmes (teisinga, neteisinga)\n",
    "* Lygybė - tai matematinis teiginys, kuriuo nurodoma, kad dvi skirtingos išraiškos turi tą pačią reikšmę.\n",
    "* Lygtis - tai lygybė, kuriai yra prasminga ieškoti nežinomojo reikšmių, su kuriomis ji tampa teisinga.\n",
    "* Nežinomasis - tai kintamasis, kurio reikšmės ieškojimas yra prasmingas.\n",
    "\n",
    "*Daugiau apie sąvokų konstravimą yra papildomame skyrelyje*"
   ]
  },
  {
   "cell_type": "markdown",
   "metadata": {},
   "source": [
    "### Lygties vaizdinys"
   ]
  },
  {
   "cell_type": "markdown",
   "metadata": {},
   "source": [
    "Šįsyk nagrinėsime tik tiesines lygtis, t.y. tik tokias, kurias galima suvesti į formą $Ax+B=0$. Lygtį galima sieti su svarstyklėmis, o analogijos būtų tokios:"
   ]
  },
  {
   "cell_type": "markdown",
   "metadata": {},
   "source": [
    "  * Svarstyklių atvejis. Jei svarstyklės pusiausvyros, tai atlikus tą patį veiksmą su abiem lyginamais svoriais, jos išliks pusiausvyros. Galima pridėti po tą patį svorį, atimti po tą patį svorį, padidinti svorius po tiek pat kartų arba sumažinti po tiek pat kartų. Panašiai, jei jos nėra pusiausvyros, tai atlikus tą patį veiksmą su abiem svoriais, jos negali tapti pusiausvyromis.\n",
    "  * Lygties atvejis. Jei lygybė yra teisinga su kažkuriomis nežinomojo reikšmėmis, tai atlikus tą patį veiksmą su abejomis jos pusėmis ji taip pat bus teisinga su tomis pačiomis nežinomojo reikšmėmis."
   ]
  },
  {
   "cell_type": "markdown",
   "metadata": {},
   "source": [
    "Pravartu žinoti būdą identifikuoti klaidas sprendžiant lygtis: pvz. galime atkreipti dėmesį, kad jei lygtis tampa teisinga lygybe, kai $x=3$, o atlikus pertvarkymą taip nėra, tai yra rimtas signalas, kad atliekant pertvarkymą įsivėlė aritmetinė klaida."
   ]
  },
  {
   "cell_type": "markdown",
   "metadata": {},
   "source": [
    "Tačiau taip pat svarbu, kad lygties siejimas su svarstyklėmis turi prieštaringų vietų: svarstyklėse, ne taip kaip lygtyse, atėmimas iš abiejų pusių ne visada pavyksta, nes svoriai negali būti neigiami. Apačioje pateiksiu skaidres, trumpai pailiustruojančias vaizdinio idėją. Ką darytum paskutinėje skaidrėje pavaizduotoje situacijoje?\n",
    "\n",
    "![](dt19.PNG)\n",
    "\n",
    "![](dt20.PNG)\n",
    "\n",
    "![](dt21.PNG)"
   ]
  },
  {
   "cell_type": "markdown",
   "metadata": {},
   "source": [
    "### Tiesinių lygčių sprendimo taisyklės"
   ]
  },
  {
   "cell_type": "markdown",
   "metadata": {},
   "source": [
    "Galime panagrinėti iliustracijoje pavaizduotos lygties $4x+1=2x+7$ sprendimo pavyzdį:\n",
    "    \n",
    "$4x+1=2x+7$ (atimti 1)\n",
    "\n",
    "$4x=2x+6$ (atimti $2x$)\n",
    "\n",
    "$2x=6$ (sumažinti perpus)\n",
    "\n",
    "$x=3$"
   ]
  },
  {
   "cell_type": "markdown",
   "metadata": {},
   "source": [
    "Ar aišku, kaip jis siejasi su svarstyklėmis?"
   ]
  },
  {
   "cell_type": "markdown",
   "metadata": {},
   "source": [
    "* Daugiau lygčių sprendimo taisyklių galite atrasti tekste [tlygtys.pdf](tlygtys.pdf), 1 skyriuje."
   ]
  },
  {
   "cell_type": "markdown",
   "metadata": {},
   "source": [
    "* Dar keletas aiškinamųjų pavyzdžių prieinami parsisiuntus mokomąją programą [Universal Math Solver](http://www.universalmathsolver.com) anglų kalba. Jie prieinami suradus sprendimo pavyzdžius per meniu (Problem -> Choose Problem...)"
   ]
  },
  {
   "cell_type": "markdown",
   "metadata": {},
   "source": [
    "* Jei norime pasitikrinti, ar lygties sprendinys teisingas, galime pasitikrinti atsakymą suvedus lygtį į [WolframAlpha](https://www.wolframalpha.com/)"
   ]
  },
  {
   "cell_type": "markdown",
   "metadata": {},
   "source": [
    "### Lygčių pavyzdžiai"
   ]
  },
  {
   "cell_type": "markdown",
   "metadata": {},
   "source": [
    "* Dalį lygčių pasitreniravimui galima susigeneruoti paleidus programą, kuri automatiškai parenka koeficientus (pridedu 50 lygčių pavyzdžius).\n",
    "* [**Bus papildyta**] Vėliau aptarsime, kaip spręsti lygčių pavyzdžius iš kontrolinių ir savarankiškų darbų 7kl. knygutės.\n",
    "* Jei stinga lygčių sprendimas ir neužtenka pavyzdžių, pranešk paštu."
   ]
  },
  {
   "cell_type": "markdown",
   "metadata": {},
   "source": [
    "#### Lygis 1 (atsakymai - sveikieji skaičiai)\n",
    "1. $32=-x$\n",
    "\n",
    "2. $-8=2x$\n",
    "\n",
    "3. $36=-3x$\n",
    "\n",
    "4. $5x=-30$\n",
    "\n",
    "5. $-36=4x$\n",
    "\n",
    "6. $-14=2x$\n",
    "\n",
    "7. $-28=4x$\n",
    "\n",
    "8. $36=6x$\n",
    "\n",
    "9. $-3x=-27$\n",
    "\n",
    "10. $24=6x$\n",
    "\n",
    "#### Lygis 2 (atsakymai - nebūtinai sveikieji skaičiai)\n",
    "1. $-32=9x$\n",
    "\n",
    "2. $-x=9$\n",
    "\n",
    "3. $-6x=32$\n",
    "\n",
    "4. $-30=-8x$\n",
    "\n",
    "5. $-35=4x$\n",
    "\n",
    "6. $-24=-2x$\n",
    "\n",
    "7. $18=-4x$\n",
    "\n",
    "8. $8x=-40$\n",
    "\n",
    "9. $-5x=-36$\n",
    "\n",
    "10. $8=4x$\n",
    "\n",
    "#### Lygis 3 (atsakymai - sveikieji skaičiai)\n",
    "1. $-6=x + 5$\n",
    "\n",
    "2. $-6=x - 6$\n",
    "\n",
    "3. $1=x + 8$\n",
    "\n",
    "4. $x - 1=-2$\n",
    "\n",
    "5. $4=x - 8$\n",
    "\n",
    "6. $x - 1=5$\n",
    "\n",
    "7. $x + 2=-7$\n",
    "\n",
    "8. $-2=x + 3$\n",
    "\n",
    "9. $9=x + 1$\n",
    "\n",
    "10. $x + 8=9$\n",
    "\n",
    "#### Lygis 4 (atsakymai - sveikieji skaičiai)\n",
    "1. $x=2x - 4$\n",
    "\n",
    "2. $3x + 6=4x$\n",
    "\n",
    "3. $2x - 7=x$\n",
    "\n",
    "4. $-4x - 2=-5x$\n",
    "\n",
    "5. $-6x - 3=-3x$\n",
    "\n",
    "6. $-x=7x - 8$\n",
    "\n",
    "7. $4x=5x + 9$\n",
    "\n",
    "8. $5x=7x + 8$\n",
    "\n",
    "9. $3 - 7x=-4x$\n",
    "\n",
    "10. $-2x - 4=-4x$\n",
    "\n",
    "#### Lygis 5 (atsakymai - sveikieji skaičiai)\n",
    "1. $2x + 3=3x + 5$\n",
    "\n",
    "2. $1 - 4x=5x - 8$\n",
    "\n",
    "3. $4x - 3=3x - 8$\n",
    "\n",
    "4. $9x + 9=7x + 1$\n",
    "\n",
    "5. $6 - 6x=2 - 5x$\n",
    "\n",
    "6. $x + 4=2x + 4$\n",
    "\n",
    "7. $9x + 2=2x - 5$\n",
    "\n",
    "8. $4x - 2=6x - 2$\n",
    "\n",
    "9. $-2x - 3=x + 9$\n",
    "\n",
    "10. $x - 2=2x - 1$"
   ]
  },
  {
   "cell_type": "markdown",
   "metadata": {},
   "source": [
    "### Kaip spręsti tekstinius uždavinius sudarant lygtis?"
   ]
  },
  {
   "cell_type": "markdown",
   "metadata": {},
   "source": [
    "Yra du pagrindiniai šaltiniai, kuriais siūlau remtis. Nuo kurio geriau pradėti, siūlau nuspręsti savarankiškai.\n",
    "\n",
    "* Norint pramokti tinkamai interpretuoti tekstinius uždavinius, siūlau panagrinėti medžiagą, esančią faile [zodinis.pdf](zodinis.pdf), pirmus septynis puslapius. Kiekvienas uždavinys yra naujame puslapyje, o į kiekvieną puslapį yra įdiegtos mygtukų funkcijos, leidžiančios matyti sprendimo žingsnius. **Būtina sąlyga:** failą reikia parsisiųsti į kompiuterį ir atidaryti su [Adobe Acrobat Reader](https://get.adobe.com/reader/), kitaip sprendimų neišeis peržiūrėti naudojant įdiegtas mygtukų funkcijas.\n",
    "\n",
    "* Kitame faile nuosekliai aptariamas reiškinių sudarymas, pasiūloma su pagalba sudaryti pirmąsias lygtis, o toliau jas sudaryti ir spręsti pačiam. Failas yra pavadinimu [nezinomieji.pdf](nezinomieji.pdf)"
   ]
  },
  {
   "cell_type": "markdown",
   "metadata": {},
   "source": [
    "### Kas toliau?"
   ]
  },
  {
   "cell_type": "markdown",
   "metadata": {},
   "source": [
    "Pamokos planas didžiąja dalimi išpildytas, tačiau dar norėčiau apsitvarkyti savo failuose ir įkelti papildomą dalį (tiesiogiai su lygtimis nesusijusią). Taip pat norėčiau savo užrašuose paieškoti daugiau tekstinių uždavinių iš Kengūros konkurso, kur atsispindėtų tiesiniai ryšiai tarp įvairių dydžių. \n",
    "\n",
    "Atnaujinimus gali sekti GitHube. Jei yra pastabų, pasiūlymų, klausimų, planų užsiėmimui ar kitai temai, jų lauksiu el. paštu. Sėkmės darbuojantis."
   ]
  }
 ],
 "metadata": {
  "kernelspec": {
   "display_name": "Python 3",
   "language": "python",
   "name": "python3"
  },
  "language_info": {
   "codemirror_mode": {
    "name": "ipython",
    "version": 3
   },
   "file_extension": ".py",
   "mimetype": "text/x-python",
   "name": "python",
   "nbconvert_exporter": "python",
   "pygments_lexer": "ipython3",
   "version": "3.7.7"
  }
 },
 "nbformat": 4,
 "nbformat_minor": 4
}
