{
 "cells": [
  {
   "cell_type": "markdown",
   "metadata": {},
   "source": [
    "# Studijavimui\n",
    "\n",
    "* **G. Polya. How to Solve It**\n",
    "\n",
    "*Knygoje nagrinėjama, iš kokių etapų susidaro kiekvieno uždavinio sprendimas nepriklausomai nuo uždavinio turinio (27 eur)*\n",
    "\n",
    "* **D. Tall. How humans learn to think mathematically**\n",
    "\n",
    "*Knygoje apibendrinamos naujausios matematinės studijos apie matematikos mokymosi procesus. Detalesnė apžvalga - faile [review.pdf](review.pdf)*\n",
    "\n",
    "* **D. O'bryan. Atminties galimybės**\n",
    "\n",
    "*Knygoje aptariamos įsiminimo technikos, kurias naudojo pasaulio atminties čempionatų 8x čempionas (10 eur)*\n",
    "* **Vilius Stakėnas. Matematinės istorijos skiautiniai**\n",
    "\n",
    "*Knygoje pristatoma matematikos istorija: kokia ji buvo, kaip gyveno ją kūrę matematikai, kaip veikė jų protai, kaip buvo atrastos matematinės idėjos (18 eur arba pasiskolinti iš bibliotekos)*\n",
    "\n",
    "* **David G. Myers - Psichologija** [nuoroda atsisiuntimui](https://www.dropbox.com/s/vyghsx7k1ivd86g/David%20G.%20Myers%20Psichologija%202008.pdf?dl=0)\n",
    "\n",
    "*Tai 1000 puslapių ilgio psichologijos pamatai. Artimiausios mokymuisi temos - elgesio ir pažinimo procesai, smegenų veikla, intelektas, motyvacija, kūrybiškumas ir kt. (12 eur arba pasiskolinti iš bibliotekos)*\n",
    "\n",
    "* **Liping Ma - Knowing and Teaching elementary mathematics** [nuoroda atsisiuntimui](https://www.dropbox.com/s/w0m9haikka8trpq/tuxdoc.com_liping-ma-knowing-and-teaching-elementary-mathematics-teachers-understanding-of-fundamental-mathematics-in-china-and-the-united-states.pdf?dl=0)\n",
    "\n",
    "*Knygoje atliekamas kokybinis tyrimas, kuriame lygina Kinijos ir Amerikos matematikos mokytojų žinių skirtumus. Knygoje pateikiama, kuo skiriasi teisingas matematinių procedūrų aiškinimas nuo neteisingo, sudaromas bendras vaizdas apie sąvokinį matematikos supratimą. (nuo 10 eur)*\n",
    "\n",
    "* **Learning How to Learn: Powerful mental tools to help you master tough subjects** [nuoroda](https://www.coursera.org/learn/learning-how-to-learn)\n",
    "\n",
    "*Tai yra pati populiariausia paskaita Courseroje. Joje aptariamos bet kurių dalykų mokymuisi būdingos mąstymo savybės neaplenkiant ir matematikos. Kursas nemokamas*"
   ]
  },
  {
   "cell_type": "markdown",
   "metadata": {},
   "source": [
    "# Praeitas susitikimas\n",
    "Kiekvieno susitikimo tikslas yra vis geriau pažinti mąstymo procesus, taip pat stengtis prisimintį vienokį ar kitokį mokyklinės matematikos turinį.\n",
    "\n",
    "## Mąstymo procesai\n",
    "Praeitą susitikimą aptarėme:\n",
    "\n",
    "* Pagrindines D. Tall knygoje įvardintas matematinio mąstymo pakopas.\n",
    "* Darbinės ir ilgosios atminties ryšį.\n",
    "\n",
    "### Matematinio mąstymo pakopos. \n",
    "* **Objektų ir jų savybių pažinimas.** Jis įgyjamas per **kategorizavimo procesą**: atpažįstamos objektų savybės, apibendrinami objektų panašumai ir skirtumai. Ypač didelis šiam suvokimui yra kalbos vaidmuo, nes matematiniai objektai yra apibrėžiami sąvokomis, o matematinių sąvokų apibrėžimai pasižymi panašiomis savybėmis kaip ir mokantis kalbėti.\n",
    "* **Operacijų ir jų savybių pažinimas.** Jis įgyjamas per **enkapsuliacijos procesą**: procedūros kartojamos tol, kol jos tampa savaime atliekamomis. Toks perėjimas leidžia informaciją apdoroti naudojant daug talpesnes atminties struktūras. Šiose struktūrose informacija yra abstraktesnė už prieš tai naudotas atminties struktūras, todėl tokius pokyčius taip pat galime vadinti abstrahavimu. Įvairūs teoretiniai matematinės informacijos abstrahavimo modeliai tvirtina, kad abstrahavimo eiga nėra nuosekli, o pasižymi keliais staigesniais mentalinių struktūrų kompresijos etapais.\n",
    "\n",
    "  Dar vienas pėdsakas, bylojantis apie tokį matematinio mąstymo būdą yra unikalios, niekur kitur nesutinkamos kalbos dalys, vartojamos matematikoje. Jas apie 2000m. D. Tall pavadino **proceptais** (process + object/concept). T.y. matematines sąvokas ir jų žymėjimus lydintis dviprasmiškumas, atsirandantis dėl dvejopo (spėjusio ir dar nespėjusio kompresuotis) supratimo. Pvz.: 27 + 52 yra tiek sudėtis (procedūra, kurią galime realizuoti sudėdami stulpeliu), tiek suma (objektas arba sąvoka, vartojama, kai kalbame apie bendrą tam tikrų objektų kiekį). Tuo tarpu **proceptual thinking** - tai matematinio mąstymo savybė, kuomet gebame įvairius objektus pažinti matydami juos skirtingomis formomis.\n",
    "* **Formalusis mąstymas.** Tai mąstymas, kuris gali vykti tik paskutiniuose abstrahavimo laipteliuose, kai gerai pažįstamos tiek objektų, tiek jų operacijų savybės. Tokio mąstymo reikia, kai norime suprasti matematikos įrodymus arba spręsti sudėtingesnius uždavinius. Nagrinėjome įrodymo, kad $\\left(a^n\\right)^m = a^{nm}$, schemos komponentus. Mano pasiūlytame modelyje schemos dalį $\\boxed{A} \\stackrel{\\begin{array}{c}\\boxed{C} \\\\ \\big\\downarrow \\end{array}}{\\longrightarrow} \\boxed{B}$ reikėtų interpretuoti kaip ***jei faktas A teisingas, tai taikant faktą C bus teisingas faktas B***. Pats taikymas gali būti sudėtingesnis, todėl kartais į rodyklę, einančią iš C, yra nukreipiama dar viena rodyklė, eiinanti iš D, parodanti, kad taikant C reikės remtis dar vienu faktu D. Panaši hierarchinė struktūra išsilaiko ir braižant ne įrodymų, o matematinių sąvokų tarpusavio ryšio planą. Sprendžiant uždavinius įprastai turime tam tikrą maršrutą, pvz. $A \\to B \\to C \\to D$, kuriame žingsniai $A\\to B$, $B\\to C$, $C\\to D$ gali būti sudėtingesni. Pakartotinai nagrinėjant tai, kas atlikta arba sprendžiant panašius uždavinius žinios **kompresuojasi**, dažnai kelias $A \\to D$ tampa vientisesniu atminties vienetu su gana ryškiai matomu **loginiu pagrindu** - esmine užuomina, be kurios kitaip sprendimas užstrigtų."
   ]
  },
  {
   "cell_type": "markdown",
   "metadata": {},
   "source": [
    "### Darbinės ir ilgosios atminties ryšys\n",
    "Apie darbinės ir ilgosios atminties ryšį Martynas jau yra girdėjęs. Galėtume prisiminti tik kai kurias esmines vietas: naudojimasis darbine atmintimi yra valingas procesas, tuo tarpu bet kokio mokymosi rezultatas - informacijos išsaugojimas ilgojoje atmintyje yra nevalingas procesas. Jis priklauso tik nuo to, kokie procesai vyko darbinėje atmintyje. Darbinė atmintis savo veikimo trukme ir talpa yra ribota, todėl reikia skirti daug dėmesio, kad informacija, kuria manipuliuojame darbinėje atmintyje, būtų supakuota į kuo mažiau atminties vienetų. Tai padidins informacijos apdorojimo galimybes ir saugomos informacijos ilgojoje atmintyje ilgaamžiškumą.\n",
    "\n",
    "Darbinės ir ilgosios atminties ryšį galime priskirti elementarioms psichologijos kurso žinioms. Aišku, studijos apie atminties veiklą gerokai pasistūmėjo. Pavyzdžiui psichologijos bakalaurai Riomerio universitete mokosi Svelerio pažintinės įkrūvos teoriją (cognitive load theory; Sweller). Šiuo teoriniu modeliu grindžiama, kodėl nepasiteisina dabartinė mūsų šalies švietimo ideologija, teigianti, kad mokymas yra efektyviausias tada, kai vaikas mokosi pats, o ne tada, kai mokytojas jam tiesiogiai perduoda žinias. Pagrindiniai prieštaraujantys argumentai - mokymosi metodai turi būti pasirinkti priklausomai nuo klasės, dalyko ir svarbiausia nuo jau turimų vaiko žinių. Būtina atsižvelgti į tokias mąstymo savybes, kaip **išspręsto pavyzdžio efektas** arba **kompetencijos pasikeitimo efektas**"
   ]
  },
  {
   "cell_type": "markdown",
   "metadata": {},
   "source": [
    "![](atmskaidres.png)"
   ]
  },
  {
   "cell_type": "markdown",
   "metadata": {},
   "source": [
    "### Mąstymo trajektorijos\n",
    "Kalbėdamas apie David Tall knygą paminėjau, kad didžioji dalis knygos yra skiriama matematinio mąstymo trajektorijoms tyrinėti. Nagrinėjant trajektoriją tam tikroje matematikos temoje yra aiškinamasi, kokias anksčiau minėtų trijų pasaulių mąstymo fazes reikia pereiti. Įdomu, kad tas pats teorinis modelis tinka ir algebrai ir geometrijai: algebrą pradedame mokytis enkapsuliacijos būdu per aritmetiką ir tik tada pasukame link kategorizacijos, o geometrijoje - atvirkščiai. Galutinis rezultatas - abejose disciplinose galutinė mąstymo stadija yra formalusis mąstymas."
   ]
  },
  {
   "cell_type": "markdown",
   "metadata": {},
   "source": [
    "## Matematikos turinys\n",
    "\n",
    "Su Martyno matematinėmis žiniomis šiek tiek susipažinti pavyko nagrinėjant vieną trumputį pavyzdį, iliustruojantį **proceptual thinking** taikymą realiuose uždaviniuose. Sprendėme uždavinį $(x+2)^2 - (x-2)^2$:\n",
    "\n",
    "<img src=\"uzdavinys.png\" width=\"600\">"
   ]
  },
  {
   "cell_type": "markdown",
   "metadata": {},
   "source": [
    "Pagrindiniai momentai:\n",
    "* Kiekvienai lygybei paaiškinti tinka anksčiau nagrinėtos schemos. \n",
    "* Lygybė - tai teiginys, patvirtinantis, kad vienas reiškinys su visomis kintamųjų reikšmėmis įgyja tokią pat reikšmę, kaip ir kitas.\n",
    "* $\\boxed{A} \\stackrel{\\begin{array}{c}\\boxed{C} \\\\ \\big\\downarrow \\end{array}}{\\longrightarrow} \\boxed{B}$ - šiuo atveju faktas C buvo tam tikra iš mokyklinių laikų žinoma formulė. Norint ją taikyti, reikia žinoti, kaip veikia kintamųjų įstatymas į formulę.\n",
    "* ***Proceptual thinking*** čia būtų gebėjimas reiškinį dukart pritaikyti $(a+b)^2 = a^2+2ab+b^2$ formulę ir atimti gautus rezultatus, bet ir reiškinį pamatyti forma $a^2-b^2$, kur $a=x+2$, $b=x-2$ ir tada taikyti formulę $a^2-b^2=(a-b)(a+b)$ reiškinių $x+2$ ir $x-2$ atžvilgiu.\n",
    "* ***Į proceptual thinking*** taip pat įeina gebėjimas pasirinkti, kuris iš kelių sprendimo būdų bus produktyvesnis.\n",
    "* Martynui buvo sunku iškomunikuoti, kuri būtent dalis nesiseka.\n",
    "* Apačioje bandyta paaiškinti taikytų formų priežastingumą ir juo remiantis pasiūlyti trečią sprendimo būdą. Apie jį kalbėsime, kai nagrinėsime daugianarių daugybos paaiškinimą."
   ]
  },
  {
   "cell_type": "markdown",
   "metadata": {},
   "source": [
    "## Medžiaga\n",
    "Ši medžiaga turėtų papildyti tai, būtent kas buvo šnekėta per susitikimą. Netrukus pridėsiu nuorodas.\n",
    "\n",
    "* [Kuo skiriasi matematikos žinių vertinimas nuo kitų dalykų žinių vertinimo](https://www.facebook.com/rimas.norvaisa/posts/1964118053816795)\n",
    "\n",
    "* [Detalesnis kategorizacijos ir enkapsuliacijos procesų paaiškinimas, sąvokų anatomija](santrauka.pdf)\n",
    "\n",
    "* Kategorizacijos komponentai: akomodacija ir asimiliacija. 198 - 199 puslapiai iš G. Myers Psichologijos skyrelio **Pažintinė raida**\n",
    "\n",
    "* [Per užsiėmimą nagrinėta laipsnio savybės įrodymo schema](https://github.com/loijord/matematikos_pamokos/blob/master/programa/Mantas/2020-09-08/neuro_output.png)\n",
    "\n",
    "* [Dar vienas įrodymo schemos pavyzdys ir aptarimas atminties požiūriu](https://github.com/loijord/General/blob/master/READING/proofs_and_memory/kaip_atkurti_matematika_atmintyje.pdf)\n",
    "\n",
    "* [Originalios instrukcijos mokytojams, kaip taikyti Cognitive load theory](https://www.cese.nsw.gov.au/publications-filter/cognitive-load-theory-research-that-teachers-really-need-to-understand) (tik pasižvalgymui)\n",
    "\n",
    "* [Cognitive load theory paaiškinimas plačiajai visuomenei](https://theconversation.com/why-students-make-silly-mistakes-in-class-and-what-can-be-done-48826)\n",
    "\n",
    "* [Apie mokymosi paradigmą mokyklinėje matematikoje ir kaip Cognitive load theory jai prieštarauja](http://norvaisa.lt/matematika/mokykline-matematika/mokyklines-matematikos-turinio-gilinimas-kaip-tai-imanoma/)\n",
    "\n",
    "### Kita\n",
    "\n",
    "* [Benjamino video](http://www.youtube.com/watch?v=M4vqr3_ROIk&t=12m27s) (labiau jį tiktų nagrinėti dauginimų kontekste prie matematikos turinio)\n",
    "\n",
    "* [Labai geras saitas, padedantis greit sustiprinti programavimo žinias](https://app.codesignal.com). Codefriend *simonas_m*?\n",
    "\n",
    "* [Rimo Norvaišos blogas](http://www.norvaisa.lt)"
   ]
  },
  {
   "cell_type": "markdown",
   "metadata": {},
   "source": [
    "## Ateičiai siūlomos mąstymo procesų temos\n",
    "* Tarp intelekto ir matematikos. Intelekto savybės. Mentalinių schemų vystymosi etapai pagal Piaget. Kaip atrodo uždaviniai, kuriuose dirba ne matematiniai, o kognityviniai sugebėjimai.\n",
    "* Žmogiškųjų faktorių įtaka matematikos mokymuisi (emocijos, motyvacija, prokrastinacija, elgesio modeliai). Skinerio biheviorizmo idėjos. Skempo tikslų ir antitikslų teorinis modelis, matematinio nerimo sąvoka.\n",
    "* Pagrindiniai matematinio samprotavimo bruožai (euristinis samprotavimas pagal Polya vs dedukcinis samprotavimas), kuo skiriasi matematiniai objektai nuo nematematinių (pvz. fizikinių).\n",
    "\n",
    "## Ateičiai siūlomos matematinio turinio temos\n",
    "* Daugianarių daugybos ir skaidymo procedūrų aiškinimasis. [Plačiau](https://github.com/loijord/matematikos_pamokos/blob/master/programa/Mantas/Projektas2)\n",
    "* Lygčių sprendimo procedūrų aiškinimasis. [Plačiau](https://github.com/loijord/matematikos_pamokos/blob/master/programa/Martynas/Martynui.ipynb)"
   ]
  }
 ],
 "metadata": {
  "kernelspec": {
   "display_name": "Python 3",
   "language": "python",
   "name": "python3"
  },
  "language_info": {
   "codemirror_mode": {
    "name": "ipython",
    "version": 3
   },
   "file_extension": ".py",
   "mimetype": "text/x-python",
   "name": "python",
   "nbconvert_exporter": "python",
   "pygments_lexer": "ipython3",
   "version": "3.8.3"
  }
 },
 "nbformat": 4,
 "nbformat_minor": 4
}
