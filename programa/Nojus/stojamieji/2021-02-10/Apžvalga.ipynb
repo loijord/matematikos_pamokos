{
 "cells": [
  {
   "cell_type": "markdown",
   "metadata": {},
   "source": [
    "### Ką veikėme\n",
    "\n",
    "Didžiąją pamokos dalį skyrėme treniravimuisi spręsti nepilnąsias kvadratines lygtis. Ši tema leidžia:\n",
    "\n",
    "* Stebėti, kaip keičiasi sprendimo metodai priklausomai nuo lygties. \n",
    "* Užtvirtinti kitų temų įgūdžius, kurių reikia daug kur matematikoje.\n",
    "\n",
    "Mokymasis čia yra dvejopas: eksperimentuojame su tam tikru **objektu** (čia būtų lygtis), norėdami išsiaiškinti jo savybes, ir atliekame daug **operacijų** (skaidome dauginamaisiais, nagrinėjame atskirus atvejus) tol, kol pavyksta jas atlikti automatiškai. Todėl įvairius Nojui kylančius sunkumus aiškinu remdamasis ta pačia schema:\n",
    "\n",
    "![](matematika.png)"
   ]
  },
  {
   "cell_type": "markdown",
   "metadata": {},
   "source": [
    "### Kaip sekėsi\n",
    "\n",
    "* Nojus namuose teisingai atliko visus 7 pratimus, kur reikėjo **skaidyti daugianarius dauginamaisiais**. Pvz. $x^3+x^2 = x^2(x+1)$. \n",
    "* Vieną pratimą $2^8+2^{10} = 2^8(1+2^2)$ atliko neteisingai: tam reikėjo žinių iš **laipsnių** temos.\n",
    "* **Skaidymo dauginamaisiais** reikia norint spręsti lygtis:\n",
    "    \n",
    "$\\boxed{x^2+2x=0} \\stackrel{\\boxed{\\text{skaidymas dauginamaisiais}}}{\\Rightarrow} \\boxed{x(x+2)=0} \\stackrel{\\boxed{\\text{atskirų atvejų nagrinėjimas}}}{\\Rightarrow} \\boxed{x=0 \\text{ arba } x+2=0}$\n",
    "* Nojui sunkiai sekėsi namuose įgytas žinias (skaidymą dauginamaisiais) pritaikyti sprendžiant lygtis\n",
    "* **Gebėjimas taikyti tai, ką mokėmės anksčiau - Nojaus silpnoji vieta.**\n",
    "* Ieškojome sprendimo, ką daryti. Iš pradžių gelbėjo atkaklus darbas sprendžiant, kuo daugiau lygčių (**Žalia zona**). Kantriai dirbome.\n",
    "* Pamokai artėjant į pabaigą priminiau Nojui, kad tai, ką sužinojome šiandien, gali būti pamiršta kitą užsiėmimą. Paveikslėlyje parodytas vienas iš šios problemos sprendimo būdų: stengtis apibūdinti tai, ką jis atlieka, naudojant matematines sąvokas (**Raudona zona**). Tokiu būdu atmintyje bus sukuriamos analogijos, kurios padės išlaikyti atmintyje tvirtesnes, ilgiau išliekančias žinių struktūras."
   ]
  },
  {
   "cell_type": "markdown",
   "metadata": {},
   "source": [
    "### Namų darbai kitam susitikimui\n",
    "\n",
    "1\\. Pabandyti stebėti savo mąstymą per šios savaitės matematikos pamokas. Kas padeda įsiminti naujas matematikos taisykles? \n",
    "Galbūt yra kokių nors analogijų.\n",
    "\n",
    "2\\. Išspręsti kvadratines lygtis naudojant vieną iš trijų technikų:\n",
    "* $\\boxed{x^2-9x=0}$\n",
    "* $\\boxed{x^2-9=0}$\n",
    "* $\\boxed{x^2+9=0}$\n",
    "* $\\boxed{x^2+9x=0}$\n",
    "* $\\boxed{9x^2+9=0}$\n",
    "* $\\boxed{9x^2-9=0}$\n",
    "\n",
    "3\\. Pasirinkti lygtį, kuri turi realiųjų sprendinių ir pamėginti apibūdinti:\n",
    "* kokius objektus gauname kiekviename jos sprendimo žingsnyje. ***Užuomina: žiūrėti į raudoną sritį paveikslėlyje***\n",
    "* ką atliekame norint juos gauti."
   ]
  },
  {
   "cell_type": "markdown",
   "metadata": {},
   "source": [
    "### Kaip atlikti namų darbą\n",
    "Galima remtis pavyzdžiais, panašiais į tuos, kuriuos darėme per pamoką:\n",
    "    \n",
    "**Pirma technika.** \n",
    "* $\\boxed{x^2-4x=0} \\Rightarrow \\boxed{x(x-4)=0} \\Rightarrow \\boxed{\\boxed{x=0} \\text{ arba } \\boxed{x-4=0}} \\Rightarrow \\boxed{\\boxed{x=0} \\text{ arba } \\boxed{x=4}}$\n",
    "* $\\boxed{3x^2-9x=0} \\Rightarrow \\boxed{3x(x-3)=0} \\Rightarrow \\boxed{\\boxed{3x=0} \\text{ arba } \\boxed{x-3=0}} \\Rightarrow \\boxed{\\boxed{x=0} \\text{ arba } \\boxed{x=3}}$\n",
    "\n",
    "**Antra technika.** \n",
    "* $\\boxed{x^2-4=0} \\Rightarrow \\boxed{(x-2)(x+2)=0} \\Rightarrow \\boxed{\\boxed{x-2=0} \\text{ arba } \\boxed{x+2=0}} \\Rightarrow \\boxed{\\boxed{x=2} \\text{ arba } \\boxed{x=-2}}$\n",
    "* $\\boxed{3x^2-9=0} \\Rightarrow \\boxed{3(x^2-3)=0} \\Rightarrow \\boxed{x^2-3=0} \\Rightarrow \\boxed{(x-\\sqrt{3})(x+\\sqrt{3})=0} \\Rightarrow \\boxed{\\boxed{x=\\sqrt{3}} \\text{ arba } \\boxed{x=-\\sqrt{3}}}$\n",
    "\n",
    "**Trečia technika.** \n",
    "* $\\boxed{x^2+4=0} \\Rightarrow x^2\\ge 0 \\text{ ir } 4>0 \\Rightarrow \\text{Lygtis neturi realiųjų}$\n",
    "* $\\boxed{4x^2+4=0} \\Rightarrow 4x^2\\ge 0 \\text{ ir } 4>0 \\Rightarrow \\text{Lygtis neturi realiųjų}$\n",
    "\n",
    "***Pastaba.*** Kieno kvadratas yra 6? Gali būti $\\sqrt{6}$, bet gali būti ir $-\\sqrt{6}$."
   ]
  },
  {
   "cell_type": "markdown",
   "metadata": {},
   "source": [
    "### Tolimesni papildymai\n",
    "\n",
    "* Per pamoką dar turėjome pavyzdžių:\n",
    "    * pavyzdį su kubo tūrio skaičiavimu\n",
    "    * šuns, kaip keturkojo, atpažinimu\n",
    "    * sumos, kaip objekto, atpažinimą\n",
    "    * sandaugos matymą keliais būdais\n",
    "    * laipsnio įsivaizdavimą\n",
    "    \n",
    "Apie šiuos dalykus trumpai parašysiu kitą dieną."
   ]
  }
 ],
 "metadata": {
  "kernelspec": {
   "display_name": "Python 3",
   "language": "python",
   "name": "python3"
  },
  "language_info": {
   "codemirror_mode": {
    "name": "ipython",
    "version": 3
   },
   "file_extension": ".py",
   "mimetype": "text/x-python",
   "name": "python",
   "nbconvert_exporter": "python",
   "pygments_lexer": "ipython3",
   "version": "3.8.3"
  }
 },
 "nbformat": 4,
 "nbformat_minor": 4
}
