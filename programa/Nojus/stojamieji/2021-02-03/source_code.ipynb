{
 "cells": [
  {
   "cell_type": "markdown",
   "metadata": {},
   "source": [
    "## Source code"
   ]
  },
  {
   "cell_type": "code",
   "execution_count": 44,
   "metadata": {},
   "outputs": [],
   "source": [
    "import json\n",
    "from IPython.display import display, Markdown\n",
    "import os\n",
    "from collections import defaultdict\n",
    "import matplotlib.pyplot as plt\n",
    "import matplotlib.colors as mlc\n",
    "import numpy as np\n",
    "from itertools import chain, compress\n",
    "from io import StringIO\n",
    "import pandas as pd\n",
    "\n",
    "\n",
    "def read_json(file):\n",
    "    with open(file, encoding='utf-8') as fh:\n",
    "        data = json.loads(fh.read())\n",
    "    return data\n",
    "\n",
    "def document_it(clusters, branches):\n",
    "    clusters = read_json(clusters)\n",
    "    branches = read_json(branches)\n",
    "    headings = dict(zip([clusters[n][0] for n in clusters], clusters))\n",
    "    docstring = ''\n",
    "    for branch in branches:\n",
    "        if branch in headings:\n",
    "            docstring += f'\\n### {headings[branch]}\\n\\n'\n",
    "        docstring += f'* **{branch}.** {branches[branch]}\\n'\n",
    "    return docstring\n",
    "\n",
    "def make_some_bank(*files, extention='.txt'):\n",
    "    docstring = ''\n",
    "    for file in files:\n",
    "        heading = os.path.splitext(file)[0]\n",
    "        docstring += f'\\n### {heading}\\n'\n",
    "        bank = read_json(file + extention)\n",
    "        for užduotis in bank:\n",
    "            docstring += f\"{užduotis}\\\\. {bank[užduotis]['Sąlyga']}\"+'\\n\\n'\n",
    "    return docstring\n",
    "\n",
    "def show_problem(complect, id, show_solution=True):\n",
    "    problem = read_json(f'{complect}.txt')[id]\n",
    "    step = '**Užduotis.**\\n\\n' + problem[\"Sąlyga\"]\n",
    "    if show_solution: step += ('\\n\\n**Sprendimas.**\\n' + '\\n'.join([f'* {n}' for n in problem[\"Sprendimas\"]]))\n",
    "    return step\n",
    "\n",
    "def show_case(complect, id, which=1, show_solution=True):\n",
    "    skills = read_json(f'{complect}.txt')[id][\"Gebėjimai\"][which-1]\n",
    "    step = '**Uždavinio dalis ' + f\"{which}, kurioje yra {skills['Gebėjimas']}\" + '.**\\n\\n' + skills['Atitikmuo']\n",
    "    if show_solution: step += ('\\n\\n**Sprendimas.**\\n\\n' + skills['Sprendimas'])\n",
    "    return step\n",
    "    \n",
    "def show_skill(skill, *files, extention='.txt'):\n",
    "    counter = 0\n",
    "    docstring = f'### Uždaviniai[@], kuriuose yra {skill}: \\n\\n'\n",
    "    for file in files:\n",
    "        heading = os.path.splitext(file)[0]\n",
    "        bank = read_json(file + extention)\n",
    "        for užduotis in bank:\n",
    "            for idx, gebėjimas in enumerate(bank[užduotis]['Gebėjimai']):\n",
    "                if gebėjimas['Gebėjimas'] == skill:\n",
    "                    counter +=1 \n",
    "                    docstring += f\"**{heading}.{užduotis}->{idx+1}** {gebėjimas['Atitikmuo']}\\n\\n\"\n",
    "                else: #expects to have just a list of skills without dict of descriptions\n",
    "                    if gebėjimas == skill:\n",
    "                        counter +=1\n",
    "                        docstring += f\"**{heading}.{užduotis}->{idx+1}** {bank[užduotis]['Sąlyga']}\\n\\n\"\n",
    "    return docstring.replace('@', str(counter))\n",
    "\n",
    "def get_analysis(*files, extension='.txt'):\n",
    "    skills = defaultdict(list)\n",
    "    for file in files:\n",
    "        heading = os.path.splitext(file)[0]\n",
    "        bank = read_json(file + extension)\n",
    "        for užduotis in bank:\n",
    "            for idx, gebėjimas in enumerate(bank[užduotis]['Gebėjimai']):\n",
    "                if type(gebėjimas) is dict:\n",
    "                    skills[gebėjimas['Gebėjimas']].append(f\"{heading}.{užduotis}->{idx+1}\")\n",
    "                else:\n",
    "                    skills[gebėjimas].append(f\"{heading}.{užduotis}->{idx+1}\")\n",
    "    return skills\n",
    "\n",
    "def check(name, problem_id, extension='.txt'):\n",
    "    display(Markdown(show_problem(name, problem_id, show_solution=True)))\n",
    "    problem = read_json(name + extension)\n",
    "    for i in range(len(problem[problem_id]['Gebėjimai'])): \n",
    "        display(Markdown('-'*100))\n",
    "        display(Markdown(show_case(name, problem_id, which=i+1, show_solution=True)))\n",
    "\n",
    "def check_skills(name, problem_id, extension='.txt'):\n",
    "    problem = read_json(name + extension)\n",
    "    return [n['Gebėjimas'] for n in problem[problem_id]['Gebėjimai']]\n",
    "\n",
    "def get_distribution(cluster_file, *files):\n",
    "    analysis = get_analysis(*files)\n",
    "    branch_counts = defaultdict(int)\n",
    "    for branch in analysis:\n",
    "        branch_counts[branch] += len(analysis[branch])\n",
    "    clusters = read_json(cluster_file)\n",
    "    d = dict()\n",
    "    for cluster in clusters:\n",
    "        bc = dict()\n",
    "        for branch in clusters[cluster]:\n",
    "            bc[branch] = branch_counts[branch]\n",
    "            branch_counts.pop(branch)\n",
    "        d[cluster] = bc\n",
    "    if len(branch_counts):\n",
    "        print('WARNING! Some problems contain skills that are not in clusters:\\n', branch_counts)\n",
    "    return d\n",
    "\n",
    "class Skills:\n",
    "    kw = dict(bbox=dict(boxstyle=\"square, pad=0.3\", fc=\"w\", ec=\"k\", lw=0.72),\n",
    "          arrowprops=dict(arrowstyle=\"-\"), zorder=0, va=\"center\")\n",
    "    cmap = plt.get_cmap(\"jet\")\n",
    "    \n",
    "    def __init__(self, clusters_file, *files):\n",
    "        self.distribution = get_distribution(clusters_file, *files)\n",
    "        \n",
    "    def set_diagram(self):\n",
    "        self.inner_names = list(self.distribution.keys()) #clusters\n",
    "        self.outer_names = list(chain(*[list(n.keys()) for n in self.distribution.values()])) #branches of clusters\n",
    "        \n",
    "        self.outer_values = np.array(list(chain(*[list(n.values()) for n in self.distribution.values()]))) #sizes of branches in each cluster\n",
    "        self.inner_values = np.array([sum(n.values()) for n in self.distribution.values()]) #sizes of clusters\n",
    "        \n",
    "        self.inner_idx = np.flatnonzero(self.inner_values) #idx of nonzero inner values\n",
    "        self.outer_idx = np.flatnonzero(self.outer_values) #idx of nonzero outer values\n",
    "\n",
    "    def set_colors(self):\n",
    "        self.set_diagram()\n",
    "        marker_idx = np.cumsum([len(n) for n in self.distribution.values()])[:-1] #idx where to split flat data\n",
    "        outer_spectrum = np.linspace(0, 1, len(self.outer_values))\n",
    "        inner_spectrum = np.array([np.mean(n) for n in np.split(outer_spectrum, marker_idx)])        \n",
    "        self.inner_colors = self.cmap(inner_spectrum)\n",
    "        self.outer_colors = self.cmap(outer_spectrum)\n",
    "\n",
    "    def flatnonzero(self):\n",
    "        #remove zero pieces which is illegal\n",
    "        self.inner_names = np.array(self.inner_names)[self.inner_idx]\n",
    "        self.outer_names = np.array(self.outer_names)[self.outer_idx]\n",
    "        self.inner_values = self.inner_values[self.inner_idx]\n",
    "        self.outer_values = self.outer_values[self.outer_idx]\n",
    "        self.inner_colors = self.inner_colors[self.inner_idx]\n",
    "        self.outer_colors = self.outer_colors[self.outer_idx]\n",
    "                                  \n",
    "    def get_inner_pie(self):\n",
    "        wedges, text = plt.gca().pie(self.inner_values, labels = self.inner_names, labeldistance=0.5, radius=0.5, colors=self.inner_colors, \n",
    "                                wedgeprops=dict(width=0.2, edgecolor='w'), textprops=dict(fontsize=15, fontweight='bold'))\n",
    "        return wedges\n",
    "    \n",
    "    def get_outer_pie(self):\n",
    "        wedges, text = plt.gca().pie(self.outer_values, radius=1, colors=self.outer_colors, \n",
    "                                wedgeprops=dict(width=0.5, edgecolor='w'))\n",
    "        return wedges\n",
    "                     \n",
    "    def add_labels(self, wedges):\n",
    "        for i, p in enumerate(wedges):\n",
    "            ang = (p.theta2 - p.theta1)/2. + p.theta1\n",
    "            y = np.sin(np.deg2rad(ang))\n",
    "            x = np.cos(np.deg2rad(ang))\n",
    "            horizontalalignment = {-1: \"right\", 1: \"left\"}[int(np.sign(x))]\n",
    "            connectionstyle = f\"angle, angleA=0, angleB={ang}\"\n",
    "            self.kw[\"arrowprops\"].update({\"connectionstyle\": connectionstyle})\n",
    "            plt.gca().annotate(self.outer_names[i], xy=(x, y), xytext=(1.35*np.sin(x), 1.4*y),\n",
    "                        horizontalalignment=horizontalalignment, fontsize=11, fontweight='bold', **self.kw)\n",
    "                                  \n",
    "    def plot(self):\n",
    "        fig = plt.figure(figsize=(6, 6))\n",
    "        plt.gca().set(aspect=\"equal\")\n",
    "        self.set_diagram()\n",
    "        self.set_colors()\n",
    "        self.flatnonzero()\n",
    "        wedges = self.get_outer_pie()\n",
    "        self.get_inner_pie()\n",
    "        self.add_labels(wedges)\n",
    "        plt.show()\n",
    "    \n",
    "def get_data(text):\n",
    "    df = pd.read_csv(StringIO(text), sep=\" \")\n",
    "    df.set_index(['author', 'topic','problem_id'], inplace=True)\n",
    "    df1 = df[df['part']==0]\n",
    "    df2 = df[df['part']!=0]\n",
    "    df3 = pd.concat([df1, df2]).sort_values(by=['part'])\n",
    "    df3 = df3[~df3.index.duplicated(keep='first')]\n",
    "    df3['solved'][df3['part']!=0] = None\n",
    "    df3 = df3.drop('part', 1)\n",
    "    df3['skills'] = [tuple([n['Gebėjimas'] for n in read_json(f'{x}/{y}.txt')[str(z)]['Gebėjimai']]) for x,y,z in df3.index]\n",
    "    df3['pts'] = [len(n) for n in df3['skills']]\n",
    "    df4 = df3.copy()\n",
    "    part = df3.loc[df3.index.repeat(df3['pts'])].groupby(['author', 'topic', 'problem_id']).cumcount() + 1\n",
    "    df4 = pd.DataFrame(part, columns=['part'])\n",
    "    df4['skill'] = list(chain(*df3['skills']))\n",
    "    df5 = df4.merge(df2, on=['author', 'topic', 'problem_id', 'part'], how='outer')\n",
    "    for n in df3[df3['solved']==True].index: \n",
    "        df5.loc[n, 'solved'] = True\n",
    "    return df3, df5\n",
    "\n",
    "def achievements(df5, df3, colors):\n",
    "    vals_big = np.array([n if n == n else -1 for n in df5['solved'].values.tolist()]).astype(int)\n",
    "    vals_small = np.array([n if n == n else -1 for n in df3['solved'].values.tolist()]).astype(int)\n",
    "    img = vals_big[:, None]\n",
    "    completed = df3['pts'].values\n",
    "    shape = img.shape\n",
    "\n",
    "    figure, ax = plt.subplots(figsize=(6,8))\n",
    "\n",
    "    #x.set_xlabel('Activity', fontsize=13)\n",
    "    #ax.set_yticklabels(list(df5['skill'].values), rotation='horizontal', fontsize=12, fontweight='bold', minor=False)\n",
    "    ax.set_yticks(np.arange(-0.5+0.5, img.shape[0]+0.5, 1)) #borders between edges\n",
    "    ax.set_yticklabels(list(df5['skill'].values), rotation='horizontal', fontsize=12, fontweight='bold')\n",
    "    ax.set_ylim(-0.5, img.shape[0]-0.5)\n",
    "    #ax.set_xticklabels(np.arange(1, img.shape[1] + 1, 1))\n",
    "\n",
    "    #ax.set_ylabel('States', fontsize=13)\n",
    "    ax.set_xticks(np.arange(0, 1, 1))\n",
    "    ax.get_xaxis().set_visible(False)\n",
    "    ax.set_xlim(-0.5, 0.5)\n",
    "    #ax.set_yticks(np.arange(-.5, img.shape[0], 1), minor=True)\n",
    "    #ax.set_yticklabels(states)\n",
    "\n",
    "    a=0.05\n",
    "    pal = {1: 'none', 0: 'red', -1: 'grey'}\n",
    "    for idx, clr in enumerate(colors):\n",
    "        if vals_big[idx]!=-1:\n",
    "            ax.add_patch(plt.Rectangle((-0.5, -0.5+idx), 1, 1, facecolor=clr, edgecolor = pal[vals_big[idx]], hatch=r'xxx', zorder=0))\n",
    "        else:\n",
    "            ax.add_patch(plt.Rectangle((-0.5, -0.5+idx), 1, 1, facecolor='none', edgecolor = pal[vals_big[idx]], hatch=r'xxx'))\n",
    "        \n",
    "    pallete = {1: 'limegreen', 0: 'crimson', -1: 'none'}\n",
    "    starts, sizes = np.cumsum(np.r_[0, df3['pts'].values[:-1]]), np.r_[df3['pts'].values]\n",
    "    for start, size, solved in zip(starts, sizes, vals_small):\n",
    "        ax.add_patch(plt.Rectangle((-0.5+a, start-0.5+a), 1-2*a, size-2*a, \n",
    "                                   facecolor='none', edgecolor = pallete[solved], zorder=1, lw=4, linestyle='--'))\n",
    "    \n",
    "    #ax.yaxis.set_label_position(\"right\")\n",
    "    #ax.yaxis.tick_right()\n",
    "\n",
    "    \n",
    "    ax.grid(which='minor', color='k')\n",
    "    ax.set_title('Pasiekimai', fontsize=15, fontweight='bold')\n",
    "    plt.gca().invert_yaxis()\n",
    "    #plt.gca().majorticks_off()\n",
    "    plt.show()"
   ]
  },
  {
   "cell_type": "markdown",
   "metadata": {},
   "source": [
    "## Usage"
   ]
  },
  {
   "cell_type": "markdown",
   "metadata": {},
   "source": [
    "### Parodyk reikalavimų sąrašą"
   ]
  },
  {
   "cell_type": "code",
   "execution_count": 3,
   "metadata": {},
   "outputs": [
    {
     "data": {
      "text/markdown": [
       "\n",
       "### Skaičiai ir skaičiavimai\n",
       "\n",
       "* **Dalumas.** Atpažinti ir naudoti natūraliuosius skaičius. Taikyti dalumo iš 2, 3, 5, 9 ir 10 požymius. Atpažinti pirminius ir sudėtinius skaičius. Sudėtinius skaičius skaidyti pirminiais dauginamaisiais. Taikyti sąvokas: dviejų skaičių (didžiausiasis) bendrasis daliklis ar (mažiausiasis) bendrasis kartotinis.\n",
       "* **$\\mathbb{Z}$ ir $\\mathbb{Q}$ operacijos.** Atlikti aritmetinius veiksmus su sveikaisiais ir trupmeniniais skaičiais. Taikyti šias sąvokas skaičiams: priešingas, atvirkštinis, lyginis (nelyginis), modulis. Taikyti pagrindinę proporcijos savybę\n",
       "* **Procentai.** Suvokti procento sąvoką. Rasti skaičių, kai žinomi jo procentai, rasti skaičiaus procentą.\n",
       "* **Šaknys ir laipsniai.** Taikyti žinias apie skaičiaus kėlimą sveikuoju laipsniu, kvadratinės ir kubinės šaknies traukimą. Atlikti nesudėtingus veiksmus su laipsniais.\n",
       "\n",
       "### Reiškiniai, lygtys, nelygybės\n",
       "\n",
       "* **Vienanarių ir daugianarių operacijos.** Atlikti vienanarių ir daugianarių sudėtį, atimtį ir daugybą.\n",
       "* **Laipsnių taikymas reiškiniuose.** Prastinant reiškinius taikyti veiksmų su laipsniais, kurių rodiklis sveikasis skaičius, savybes.\n",
       "* **Skaidymas dauginamaisiais.** Nesudėtingais atvejais skaidyti daugianarius daugikliais.\n",
       "* **Greitosios daugybos formulės.** Taikyti greitosios daugybos formules.\n",
       "* **Lygtys ir nelygybės.** Sudaryti ir spręsti tiesines lygtis, nelygybes. Taip pat nepilnąsias kvadratines lygtis. Jų sprendinius vaizduoti skaičių tiesėje.\n",
       "* **Lygčių ir nelygybių sudarymas.** Spręsti tekstinius uždavinius sudarant lygtis, nelygybes.\n",
       "\n",
       "### Geometrija\n",
       "\n",
       "* **Figūrų pažinimas.** Atpažinti, pavaizduoti, apibūdinti paprasčiausias geometrines figūras.\n",
       "* **Kampų rūšys.** Taikyti gretutinių, kryžminių kampų ir kampų, gautų dvi lygiagrečias tieses perkirtus trečiąja, savybes.\n",
       "* **Trikampių savybės.** Taikyti žinias apie trikampį, jo aukštines, pusiaukraštines, pusiaukampines. Taikyti lygiašonio ir lygiakraščio trikampio savybes, trikampių lygumo požymius. Skaičiuoti trikampio perimetrą ir plotą.\n",
       "* **Keturkampių savybės.** Taikyti keturkampių (kvadrato, stačiakampio, lygiagretainio, rombo, trapecijos) savybes ir skaičiuoti jų perimetrus bei plotus.\n",
       "* **Pitagoro teorema.** Taikyti Pitagoro ir jai atvirkštinę teoremas.\n",
       "* **Apskritimo ir skritulio savybės.** Taikyti žinias apie apskritimą ir skritulį. Skaičiuoti apskritimo ilgį ir skritulio plotą.\n",
       "* **Erdvės geometrija.** Paprastais atvejais apskaičiuoti kubo, stačiakampio gretasienio, taisyklingosios piramidės, ritinio ir kūgio elementus.\n",
       "\n",
       "### Kombinatorika\n",
       "\n",
       "* **Sudėties ir daugybos taisyklės.** Taikyti kombinatorines sudėties ir daugybos taisykles, sprendžiant paprastus uždavinius. (pvz. nustatyti, kiek yra palindrominių penkiaženklių skaičių).\n"
      ],
      "text/plain": [
       "<IPython.core.display.Markdown object>"
      ]
     },
     "metadata": {},
     "output_type": "display_data"
    }
   ],
   "source": [
    "display(Markdown(document_it(r'simonas\\clusters.txt', r'simonas\\branches.txt')))"
   ]
  },
  {
   "cell_type": "markdown",
   "metadata": {},
   "source": [
    "### Parodyk uždavinių komplektą"
   ]
  },
  {
   "cell_type": "code",
   "execution_count": 7,
   "metadata": {},
   "outputs": [
    {
     "data": {
      "text/markdown": [
       "\n",
       "### simonas/susipažinimas\n",
       "1\\. Kas yra Pitagoro teorema?\n",
       "\n",
       "2\\. Stačiojo trikampio statiniai lygūs $12$ ir $5$. Taikydami Pitagoro teoremą raskite šio trikampio įžambinę.\n",
       "\n",
       "3\\. Išspręskite lygtį $x^2=169$\n",
       "\n",
       "4\\. Pratęskite šią greitosios daugybos formulę: $a^2-b^2=\\dots$\n",
       "\n",
       "5\\. Sudauginkite $(x-13)(x+13)$\n",
       "\n",
       "6\\. Greitosios daugybos formulės. Kodėl daugyba vadinama greitąja?\n",
       "\n",
       "7\\. Duota, kad $ab=0$. Ką galime pasakyti apie skaičius $a$ ir $b$?\n",
       "\n",
       "8\\. Išspręskite lygtį $x^3-x^2=0$\n",
       "\n",
       "9a\\. Įvardykite lygties sprendinius: $x^2=169$\n",
       "\n",
       "9b\\. Įvardykite lygties sprendinius: $x^2=0$\n",
       "\n",
       "10\\. Ar yra tokie du vienodi skaičiai, kuriuos sudauginę gausime $-9$?\n",
       "\n",
       "11\\. Lygtis neturi realiųjų sprendinių. Ką reiškia žodis **realusis**?\n",
       "\n",
       "13\\. Kaip skirstomi skaičiai?\n",
       "\n",
       "9c\\. Įvardykite lygties sprendinius: $x^2=-1$\n",
       "\n"
      ],
      "text/plain": [
       "<IPython.core.display.Markdown object>"
      ]
     },
     "metadata": {},
     "output_type": "display_data"
    }
   ],
   "source": [
    "display(Markdown(make_some_bank('simonas/susipažinimas')))"
   ]
  },
  {
   "cell_type": "markdown",
   "metadata": {},
   "source": [
    "### Parodyk tam tikrą uždavinį, jei reikia, su sprendimu"
   ]
  },
  {
   "cell_type": "code",
   "execution_count": null,
   "metadata": {},
   "outputs": [],
   "source": [
    "display(Markdown(show_problem('licėjus/2007_copy', '1', show_solution=True)))"
   ]
  },
  {
   "cell_type": "markdown",
   "metadata": {},
   "source": [
    "### Parodyk tam tikrą uždavinio dalį, jei reikia, su sprendimu"
   ]
  },
  {
   "cell_type": "code",
   "execution_count": null,
   "metadata": {},
   "outputs": [],
   "source": [
    "display(Markdown(show_case('licėjus/2007_copy', '2', which=1, show_solution=True)))"
   ]
  },
  {
   "cell_type": "markdown",
   "metadata": {},
   "source": [
    "### Išmesk kopijuojamą tekstą, kuris parodo rinkinį [gebėjimas -> uždavinių sąrašas]"
   ]
  },
  {
   "cell_type": "code",
   "execution_count": 9,
   "metadata": {},
   "outputs": [
    {
     "data": {
      "text/plain": [
       "defaultdict(list,\n",
       "            {'Pitagoro teorema': ['simonas/susipažinimas.1->1',\n",
       "              'simonas/susipažinimas.2->1'],\n",
       "             'Lygtys ir nelygybės': ['simonas/susipažinimas.2->2',\n",
       "              'simonas/susipažinimas.3->1',\n",
       "              'simonas/susipažinimas.3->3',\n",
       "              'simonas/susipažinimas.7->1',\n",
       "              'simonas/susipažinimas.8->3',\n",
       "              'simonas/susipažinimas.9a->1',\n",
       "              'simonas/susipažinimas.9b->1',\n",
       "              'simonas/susipažinimas.11->1',\n",
       "              'simonas/susipažinimas.9c->1'],\n",
       "             'Greitosios daugybos formulės': ['simonas/susipažinimas.3->2',\n",
       "              'simonas/susipažinimas.4->1',\n",
       "              'simonas/susipažinimas.5->1',\n",
       "              'simonas/susipažinimas.6->1'],\n",
       "             'Laipsnių savybės': ['simonas/susipažinimas.8->1'],\n",
       "             'Skaidymas dauginamaisiais': ['simonas/susipažinimas.8->2'],\n",
       "             '$\\\\mathbb{Z}$ ir $\\\\mathbb{Q}$ operacijos': ['simonas/susipažinimas.10->1'],\n",
       "             'Kita': ['simonas/susipažinimas.13->1']})"
      ]
     },
     "execution_count": 9,
     "metadata": {},
     "output_type": "execute_result"
    }
   ],
   "source": [
    "get_analysis('simonas/susipažinimas')"
   ]
  },
  {
   "cell_type": "markdown",
   "metadata": {},
   "source": [
    "### Parodyk visus uždavinius, kuriems reikia tam tikro gebėjimo"
   ]
  },
  {
   "cell_type": "code",
   "execution_count": 13,
   "metadata": {},
   "outputs": [
    {
     "data": {
      "text/markdown": [
       "### Uždaviniai[3], kuriuose yra Procentai: \n",
       "\n",
       "**licėjus/2007_copy.5->1** a) Skaičius $a$ didesnis $20\\%$ už skaičių $b$. Kelis procentus skaičiaus $b$ sudaro skaičius $a$? \n",
       "\n",
       " b) Skaičius $b$ sudaro $83\\frac{1}{3}\\%$ skaičiaus $a$. Keliais procentais skaičius $b$ mažesnis už skaičių $a$?\n",
       "\n",
       "**licėjus/2007_copy.5->3** Išspręskite proporciją $\\boxed{\\begin{array}{rcl} 100\\% & - & 120\\% \\\\ x\\% & - & 100\\% \\end{array}}$\n",
       "\n",
       "**licėjus/2017_copy.1d->1** \n",
       "\n"
      ],
      "text/plain": [
       "<IPython.core.display.Markdown object>"
      ]
     },
     "metadata": {},
     "output_type": "display_data"
    }
   ],
   "source": [
    "display(Markdown(show_skill('Procentai', 'licėjus/2007_copy', 'licėjus/2017_copy')))"
   ]
  },
  {
   "cell_type": "markdown",
   "metadata": {},
   "source": [
    "### Pavaizduok duoto uždavinių komplekto gebėjimų pasiskirstymą"
   ]
  },
  {
   "cell_type": "code",
   "execution_count": 10,
   "metadata": {},
   "outputs": [
    {
     "name": "stdout",
     "output_type": "stream",
     "text": [
      "WARNING! Some problems contain skills that are not in clusters:\n",
      " defaultdict(<class 'int'>, {'Laipsnių savybės': 1, 'Kita': 1})\n"
     ]
    },
    {
     "data": {
      "image/png": "[encoded data removed]",
      "text/plain": [
       "<Figure size 432x432 with 1 Axes>"
      ]
     },
     "metadata": {},
     "output_type": "display_data"
    }
   ],
   "source": [
    "Skills('simonas/clusters.txt', 'simonas/susipažinimas').plot()"
   ]
  },
  {
   "cell_type": "code",
   "execution_count": 35,
   "metadata": {},
   "outputs": [
    {
     "data": {
      "text/markdown": [
       "\n",
       "### simonas/susipažinimas\n",
       "1\\. Kas yra Pitagoro teorema?\n",
       "\n",
       "2\\. Stačiojo trikampio statiniai lygūs $12$ ir $5$. Taikydami Pitagoro teoremą raskite šio trikampio įžambinę.\n",
       "\n",
       "3\\. Išspręskite lygtį $x^2=169$\n",
       "\n",
       "4\\. Pratęskite šią greitosios daugybos formulę: $a^2-b^2=\\dots$\n",
       "\n",
       "5\\. Sudauginkite $(x-13)(x+13)$\n",
       "\n",
       "6\\. Greitosios daugybos formulės. Kodėl daugyba vadinama greitąja?\n",
       "\n",
       "7\\. Duota, kad $ab=0$. Ką galime pasakyti apie skaičius $a$ ir $b$?\n",
       "\n",
       "8\\. Išspręskite lygtį $x^3-x^2=0$\n",
       "\n",
       "9a\\. Įvardykite lygties sprendinius: $x^2=169$\n",
       "\n",
       "9b\\. Įvardykite lygties sprendinius: $x^2=0$\n",
       "\n",
       "9c\\. Įvardykite lygties sprendinius: $x^2=-1$\n",
       "\n",
       "10\\. Ar yra tokie du vienodi skaičiai, kuriuos sudauginę gausime $-9$?\n",
       "\n",
       "11\\. Lygtis neturi realiųjų sprendinių. Ką reiškia žodis **realusis**?\n",
       "\n",
       "12\\. Kaip skirstomi skaičiai?\n",
       "\n"
      ],
      "text/plain": [
       "<IPython.core.display.Markdown object>"
      ]
     },
     "metadata": {},
     "output_type": "display_data"
    }
   ],
   "source": [
    "display(Markdown(make_some_bank('simonas/susipažinimas')))"
   ]
  },
  {
   "cell_type": "markdown",
   "metadata": {},
   "source": [
    "### Pagal įvestus uždavinių sprendimo rezultatus sugeneruok pamokos ataskaitą"
   ]
  },
  {
   "cell_type": "code",
   "execution_count": 34,
   "metadata": {},
   "outputs": [
    {
     "data": {
      "text/plain": [
       "['Šaknys ir laipsniai', 'Skaidymas dauginamaisiais', 'Lygtys ir nelygybės']"
      ]
     },
     "execution_count": 34,
     "metadata": {},
     "output_type": "execute_result"
    }
   ],
   "source": [
    "check_skills('simonas/susipažinimas', '8')"
   ]
  },
  {
   "cell_type": "code",
   "execution_count": 113,
   "metadata": {},
   "outputs": [
    {
     "name": "stderr",
     "output_type": "stream",
     "text": [
      "C:\\Users\\Vartotojas\\anaconda3\\lib\\site-packages\\IPython\\core\\interactiveshell.py:3071: PerformanceWarning: indexing past lexsort depth may impact performance.\n",
      "  has_raised = await self.run_ast_nodes(code_ast.body, cell_name,\n"
     ]
    },
    {
     "name": "stdout",
     "output_type": "stream",
     "text": [
      "WARNING! Some problems contain skills that are not in clusters:\n",
      " defaultdict(<class 'int'>, {'Kita': 1})\n"
     ]
    },
    {
     "data": {
      "image/png": "[encoded data removed]",
      "text/plain": [
       "<Figure size 432x576 with 1 Axes>"
      ]
     },
     "metadata": {
      "needs_background": "light"
     },
     "output_type": "display_data"
    }
   ],
   "source": [
    "text = \"\"\"\n",
    "author topic problem_id part solved\n",
    "Simonas susipažinimas 1 0 False\n",
    "Simonas susipažinimas 1 1 False\n",
    "Simonas susipažinimas 2 0 True\n",
    "Simonas susipažinimas 3 0 False\n",
    "Simonas susipažinimas 3 1 True\n",
    "Simonas susipažinimas 3 2 False\n",
    "Simonas susipažinimas 3 3 False\n",
    "Simonas susipažinimas 4 0 False\n",
    "Simonas susipažinimas 4 1 False\n",
    "Simonas susipažinimas 5 0 True\n",
    "Simonas susipažinimas 6 0 False\n",
    "Simonas susipažinimas 6 1 False\n",
    "Simonas susipažinimas 7 0 True\n",
    "Simonas susipažinimas 8 0 False\n",
    "Simonas susipažinimas 8 1 False\n",
    "Simonas susipažinimas 8 2 False\n",
    "Simonas susipažinimas 8 3 True\n",
    "Simonas susipažinimas 9a 0 False\n",
    "Simonas susipažinimas 9a 1 False\n",
    "Simonas susipažinimas 9b 0 True\n",
    "Simonas susipažinimas 9c 0 False\n",
    "Simonas susipažinimas 9c 1 False\n",
    "Simonas susipažinimas 10 0 True\n",
    "Simonas susipažinimas 11 0 True\n",
    "\"\"\"\n",
    "\n",
    "df3, df5 = get_data(text)\n",
    "df3.sort_values('problem_id', inplace=True)\n",
    "df5.sort_values('problem_id', inplace=True)\n",
    "dst = get_distribution('simonas/clusters.txt', 'simonas/susipažinimas')\n",
    "possible_skills = list(chain(*[list(dst[n].keys()) for n in dst]))\n",
    "idx = [possible_skills.index(n) for n in df5['skill']]\n",
    "palette = plt.get_cmap('jet')(np.linspace(0,1,len(possible_skills)))\n",
    "colors = palette[idx]\n",
    "achievements(df5, df3, colors)"
   ]
  },
  {
   "cell_type": "code",
   "execution_count": 109,
   "metadata": {},
   "outputs": [],
   "source": []
  },
  {
   "cell_type": "code",
   "execution_count": 112,
   "metadata": {},
   "outputs": [
    {
     "data": {
      "text/html": [
       "<div>\n",
       "<style scoped>\n",
       "    .dataframe tbody tr th:only-of-type {\n",
       "        vertical-align: middle;\n",
       "    }\n",
       "\n",
       "    .dataframe tbody tr th {\n",
       "        vertical-align: top;\n",
       "    }\n",
       "\n",
       "    .dataframe thead th {\n",
       "        text-align: right;\n",
       "    }\n",
       "</style>\n",
       "<table border=\"1\" class=\"dataframe\">\n",
       "  <thead>\n",
       "    <tr style=\"text-align: right;\">\n",
       "      <th></th>\n",
       "      <th></th>\n",
       "      <th></th>\n",
       "      <th>part</th>\n",
       "      <th>skill</th>\n",
       "      <th>solved</th>\n",
       "    </tr>\n",
       "    <tr>\n",
       "      <th>author</th>\n",
       "      <th>topic</th>\n",
       "      <th>problem_id</th>\n",
       "      <th></th>\n",
       "      <th></th>\n",
       "      <th></th>\n",
       "    </tr>\n",
       "  </thead>\n",
       "  <tbody>\n",
       "    <tr>\n",
       "      <th rowspan=\"18\" valign=\"top\">Simonas</th>\n",
       "      <th rowspan=\"18\" valign=\"top\">susipažinimas</th>\n",
       "      <th>1</th>\n",
       "      <td>1</td>\n",
       "      <td>Pitagoro teorema</td>\n",
       "      <td>False</td>\n",
       "    </tr>\n",
       "    <tr>\n",
       "      <th>10</th>\n",
       "      <td>1</td>\n",
       "      <td>$\\mathbb{Z}$ ir $\\mathbb{Q}$ operacijos</td>\n",
       "      <td>True</td>\n",
       "    </tr>\n",
       "    <tr>\n",
       "      <th>11</th>\n",
       "      <td>1</td>\n",
       "      <td>Lygtys ir nelygybės</td>\n",
       "      <td>True</td>\n",
       "    </tr>\n",
       "    <tr>\n",
       "      <th>2</th>\n",
       "      <td>2</td>\n",
       "      <td>Lygtys ir nelygybės</td>\n",
       "      <td>True</td>\n",
       "    </tr>\n",
       "    <tr>\n",
       "      <th>2</th>\n",
       "      <td>1</td>\n",
       "      <td>Pitagoro teorema</td>\n",
       "      <td>True</td>\n",
       "    </tr>\n",
       "    <tr>\n",
       "      <th>3</th>\n",
       "      <td>1</td>\n",
       "      <td>Lygtys ir nelygybės</td>\n",
       "      <td>True</td>\n",
       "    </tr>\n",
       "    <tr>\n",
       "      <th>3</th>\n",
       "      <td>2</td>\n",
       "      <td>Greitosios daugybos formulės</td>\n",
       "      <td>False</td>\n",
       "    </tr>\n",
       "    <tr>\n",
       "      <th>3</th>\n",
       "      <td>3</td>\n",
       "      <td>Lygtys ir nelygybės</td>\n",
       "      <td>False</td>\n",
       "    </tr>\n",
       "    <tr>\n",
       "      <th>4</th>\n",
       "      <td>1</td>\n",
       "      <td>Greitosios daugybos formulės</td>\n",
       "      <td>False</td>\n",
       "    </tr>\n",
       "    <tr>\n",
       "      <th>5</th>\n",
       "      <td>1</td>\n",
       "      <td>Greitosios daugybos formulės</td>\n",
       "      <td>True</td>\n",
       "    </tr>\n",
       "    <tr>\n",
       "      <th>6</th>\n",
       "      <td>1</td>\n",
       "      <td>Greitosios daugybos formulės</td>\n",
       "      <td>False</td>\n",
       "    </tr>\n",
       "    <tr>\n",
       "      <th>7</th>\n",
       "      <td>1</td>\n",
       "      <td>Lygtys ir nelygybės</td>\n",
       "      <td>True</td>\n",
       "    </tr>\n",
       "    <tr>\n",
       "      <th>8</th>\n",
       "      <td>1</td>\n",
       "      <td>Šaknys ir laipsniai</td>\n",
       "      <td>False</td>\n",
       "    </tr>\n",
       "    <tr>\n",
       "      <th>8</th>\n",
       "      <td>2</td>\n",
       "      <td>Skaidymas dauginamaisiais</td>\n",
       "      <td>False</td>\n",
       "    </tr>\n",
       "    <tr>\n",
       "      <th>8</th>\n",
       "      <td>3</td>\n",
       "      <td>Lygtys ir nelygybės</td>\n",
       "      <td>True</td>\n",
       "    </tr>\n",
       "    <tr>\n",
       "      <th>9a</th>\n",
       "      <td>1</td>\n",
       "      <td>Lygtys ir nelygybės</td>\n",
       "      <td>False</td>\n",
       "    </tr>\n",
       "    <tr>\n",
       "      <th>9b</th>\n",
       "      <td>1</td>\n",
       "      <td>Lygtys ir nelygybės</td>\n",
       "      <td>True</td>\n",
       "    </tr>\n",
       "    <tr>\n",
       "      <th>9c</th>\n",
       "      <td>1</td>\n",
       "      <td>Lygtys ir nelygybės</td>\n",
       "      <td>NaN</td>\n",
       "    </tr>\n",
       "  </tbody>\n",
       "</table>\n",
       "</div>"
      ],
      "text/plain": [
       "                                  part  \\\n",
       "author  topic         problem_id         \n",
       "Simonas susipažinimas 1              1   \n",
       "                      10             1   \n",
       "                      11             1   \n",
       "                      2              2   \n",
       "                      2              1   \n",
       "                      3              1   \n",
       "                      3              2   \n",
       "                      3              3   \n",
       "                      4              1   \n",
       "                      5              1   \n",
       "                      6              1   \n",
       "                      7              1   \n",
       "                      8              1   \n",
       "                      8              2   \n",
       "                      8              3   \n",
       "                      9a             1   \n",
       "                      9b             1   \n",
       "                      9c             1   \n",
       "\n",
       "                                                                    skill  \\\n",
       "author  topic         problem_id                                            \n",
       "Simonas susipažinimas 1                                  Pitagoro teorema   \n",
       "                      10          $\\mathbb{Z}$ ir $\\mathbb{Q}$ operacijos   \n",
       "                      11                              Lygtys ir nelygybės   \n",
       "                      2                               Lygtys ir nelygybės   \n",
       "                      2                                  Pitagoro teorema   \n",
       "                      3                               Lygtys ir nelygybės   \n",
       "                      3                      Greitosios daugybos formulės   \n",
       "                      3                               Lygtys ir nelygybės   \n",
       "                      4                      Greitosios daugybos formulės   \n",
       "                      5                      Greitosios daugybos formulės   \n",
       "                      6                      Greitosios daugybos formulės   \n",
       "                      7                               Lygtys ir nelygybės   \n",
       "                      8                               Šaknys ir laipsniai   \n",
       "                      8                         Skaidymas dauginamaisiais   \n",
       "                      8                               Lygtys ir nelygybės   \n",
       "                      9a                              Lygtys ir nelygybės   \n",
       "                      9b                              Lygtys ir nelygybės   \n",
       "                      9c                              Lygtys ir nelygybės   \n",
       "\n",
       "                                 solved  \n",
       "author  topic         problem_id         \n",
       "Simonas susipažinimas 1           False  \n",
       "                      10           True  \n",
       "                      11           True  \n",
       "                      2            True  \n",
       "                      2            True  \n",
       "                      3            True  \n",
       "                      3           False  \n",
       "                      3           False  \n",
       "                      4           False  \n",
       "                      5            True  \n",
       "                      6           False  \n",
       "                      7            True  \n",
       "                      8           False  \n",
       "                      8           False  \n",
       "                      8            True  \n",
       "                      9a          False  \n",
       "                      9b           True  \n",
       "                      9c            NaN  "
      ]
     },
     "execution_count": 112,
     "metadata": {},
     "output_type": "execute_result"
    }
   ],
   "source": [
    "df5"
   ]
  },
  {
   "cell_type": "code",
   "execution_count": null,
   "metadata": {},
   "outputs": [],
   "source": []
  }
 ],
 "metadata": {
  "kernelspec": {
   "display_name": "Python 3",
   "language": "python",
   "name": "python3"
  },
  "language_info": {
   "codemirror_mode": {
    "name": "ipython",
    "version": 3
   },
   "file_extension": ".py",
   "mimetype": "text/x-python",
   "name": "python",
   "nbconvert_exporter": "python",
   "pygments_lexer": "ipython3",
   "version": "3.8.3"
  }
 },
 "nbformat": 4,
 "nbformat_minor": 4
}
