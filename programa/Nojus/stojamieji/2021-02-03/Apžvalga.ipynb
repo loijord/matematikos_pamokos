{
 "cells": [
  {
   "cell_type": "markdown",
   "metadata": {},
   "source": [
    "### Apie\n",
    "\n",
    "* Nojus mėgsta laisvalaikį leisti su draugais ir domisi pardavimais. Jam matematika atrodo sunkiau už kitus dalykus, nes ten daug skaičiavimų.\n",
    "* Simonas studijuoja matematiką ir domisi žmogaus intelektu bei dirbtiniu intelektu. Todėl pamokose turėtų būti gausu pastebėjimų apie smegenų procesus, kurie vyksta sprendžiant matematikos uždavinius"
   ]
  },
  {
   "cell_type": "markdown",
   "metadata": {},
   "source": [
    "### Kaip sekėsi pamokoje\n",
    "\n",
    "Sprendėme įvairius uždavinius iš temų, kurias Nojus ėjo anksčiau. Paaiškėjo kas sekėsi sunkiau, kas lengviau ir kai kurie Nojaus mokymosi ypatumai.\n",
    "\n",
    "![](ataskaita.PNG)"
   ]
  },
  {
   "cell_type": "markdown",
   "metadata": {},
   "source": [
    "* Dešinėje pusėje surašyti uždaviniai, kuriuos darėme per pamoką.\n",
    "* Kairėje pusėje surašyti gebėjimai, kurių reikia norint atlikti uždavinius.\n",
    "* Kai kuriems uždaviniams atlikti nepakanka vieno žingsnio. Žalias punktyrinis apibraukimas atitinka įveiktą uždavinį, raudonas - neįveiktą.\n",
    "* Vieną žingsnį atitinka viena eilutė. Jei eilutė užspalvinta raudonai, Nojus to žingsnio savarankiškai neatliko."
   ]
  },
  {
   "cell_type": "markdown",
   "metadata": {},
   "source": [
    "Į duomenų bazę įvedus Nojaus sprendimo rezultatus, buvo nustatytas jo žinių lygis. \n",
    "    \n",
    "![](įverčiai.png)"
   ]
  },
  {
   "cell_type": "markdown",
   "metadata": {},
   "source": [
    "Šie duomenys leis geriau suprasti Nojaus trūkumus ir nuspręsti, ką reikia mokytis kitose pamokose."
   ]
  },
  {
   "cell_type": "markdown",
   "metadata": {},
   "source": [
    "### Nojaus mokymosi ypatumai\n",
    "* Nojui gerai sekasi mintinas skaičiavimas. Taip pat neigiamų skaičių veiksmai (7kl.)\n",
    "* Nojus prastai atsimena matematines taisykles: \n",
    "  * Pitagoro teorema (8kl.)\n",
    "  * greitosios daugybos formulės (8kl.) \n",
    "  * laipsnio savybes ($x^3$ painiojasi su $3x$) (8kl.)\n",
    "* Jei Nojui taisyklė yra parodyta prieš nosį, jos taikymas sekasi labai gerai.\n",
    "* Dalis procedūrų (neturinčių tiesioginių taisyklių) Nojui sunkiai savarankiškai sekasi:\n",
    "  * lygties $ab=0$ sprendimas (8kl.)\n",
    "  * dauginamojo iškėlimas prieš skliaustus (8kl.)\n",
    "* Vienoje vietoje Nojus pamiršo, ką sprendėme prieš pusvalandį ir to paties išspręsti negalėjo.\n",
    "* Kaip ir dauguma moksleivių, Nojus mano, kad suprasti matematiką reiškia kuo geriau daryti skaičiavimus ir nedaryti klaidų. Atsispindi matematikos baimė (per kontrolinį bijo, kad neteks taškų už klaidas)\n",
    "* Simono nuomone matematikos supratimas yra gebėjimas taikyti išmoktas procedūras naujose situacijose. Todėl vertingiau yra perprasti kuo daugiau matematinių idėjų, nei apsiriboti spręsti ribotus uždavinius su kuo mažiau klaidų."
   ]
  },
  {
   "cell_type": "markdown",
   "metadata": {},
   "source": [
    "### Šiek tiek apie tai, kuo matematika skiriasi nuo kitų mokslų\n",
    "Matematika skiriasi nuo kitų mokslų tuo, kad jai suprasti neužtenka vieno mokymosi stiliaus. Reikia ne tik gerai atlikti skaičiavimus, bet ir išmanyti sąvokas. Matematikos supratimas laikosi ant šių dviejų pamatų, kurie turi sietis tarpusavyje.\n",
    "Jei mokomės vien skaičiavimus, taisyklės nesisieja tarpusavyje ir neaišku, kaip įsidėmėti ddelius jų kiekius.\n",
    "\n",
    "![](matematika.png)\n"
   ]
  },
  {
   "cell_type": "markdown",
   "metadata": {},
   "source": [
    "Kitame paveikslėlyje yra pavyzdys, kaip tą patį dalyką matematikoje galima suprasti vis talpesnėmis atminties struktūromis\n",
    "\n",
    "\n",
    "<img src=\"kompresija.png\" width=\"500\">"
   ]
  },
  {
   "cell_type": "markdown",
   "metadata": {},
   "source": [
    "### Uždavinių sprendimai"
   ]
  },
  {
   "cell_type": "code",
   "execution_count": 7,
   "metadata": {},
   "outputs": [
    {
     "data": {
      "text/markdown": [
       "**Užduotis.**\n",
       "\n",
       "Kas yra Pitagoro teorema?\n",
       "\n",
       "**Sprendimas.**\n",
       "* Jei $a$ ir $b$ yra stačiojo trikampio statiniai, o $c$ yra įžambinė, tai $a^2+b^2=c^2$ ![](simonas\\pitagoras.PNG)"
      ],
      "text/plain": [
       "<IPython.core.display.Markdown object>"
      ]
     },
     "metadata": {},
     "output_type": "display_data"
    }
   ],
   "source": [
    "1."
   ]
  },
  {
   "cell_type": "code",
   "execution_count": 8,
   "metadata": {},
   "outputs": [
    {
     "data": {
      "text/markdown": [
       "**Užduotis.**\n",
       "\n",
       "Stačiojo trikampio statiniai lygūs $12$ ir $5$. Taikydami Pitagoro teoremą raskite šio trikampio įžambinę.\n",
       "\n",
       "**Sprendimas.**\n",
       "* Tegu $c$ yra ieškoma įžambinė\n",
       "* $\\boxed{12^2+5^2 = c^2}\\Rightarrow \\boxed{169=c^2}\\Rightarrow\\boxed{c=13}$"
      ],
      "text/plain": [
       "<IPython.core.display.Markdown object>"
      ]
     },
     "metadata": {},
     "output_type": "display_data"
    }
   ],
   "source": [
    "2."
   ]
  },
  {
   "cell_type": "code",
   "execution_count": 9,
   "metadata": {},
   "outputs": [
    {
     "data": {
      "text/markdown": [
       "**Užduotis.**\n",
       "\n",
       "Išspręskite lygtį $x^2=169$\n",
       "\n",
       "**Sprendimas.**\n",
       "* $x^2=169$\n",
       "* $x^2-169=0$\n",
       "* $(x-13)(x+13)=0$\n",
       "* $\\boxed{x-13=0}$ arba $\\boxed{x+13=0}$\n",
       "* $\\boxed{x=13}$ arba $\\boxed{x=-13}$"
      ],
      "text/plain": [
       "<IPython.core.display.Markdown object>"
      ]
     },
     "metadata": {},
     "output_type": "display_data"
    }
   ],
   "source": [
    "3."
   ]
  },
  {
   "cell_type": "code",
   "execution_count": 10,
   "metadata": {},
   "outputs": [
    {
     "data": {
      "text/markdown": [
       "**Užduotis.**\n",
       "\n",
       "Pratęskite šią greitosios daugybos formulę: $a^2-b^2=\\dots$\n",
       "\n",
       "**Sprendimas.**\n",
       "* $a^2-b^2=(a-b)(a+b)$"
      ],
      "text/plain": [
       "<IPython.core.display.Markdown object>"
      ]
     },
     "metadata": {},
     "output_type": "display_data"
    }
   ],
   "source": [
    "4."
   ]
  },
  {
   "cell_type": "code",
   "execution_count": 11,
   "metadata": {},
   "outputs": [
    {
     "data": {
      "text/markdown": [
       "**Užduotis.**\n",
       "\n",
       "Sudauginkite $(x-13)(x+13)$\n",
       "\n",
       "**Sprendimas.**\n",
       "* Taikome greitosios daugybos formulę $a^2-b^2=(a-b)(a+b)$\n",
       "* Gauname: $(x-13)(x+13) = x^2 - 13^2 = x^2 - 169$"
      ],
      "text/plain": [
       "<IPython.core.display.Markdown object>"
      ]
     },
     "metadata": {},
     "output_type": "display_data"
    }
   ],
   "source": [
    "5."
   ]
  },
  {
   "cell_type": "code",
   "execution_count": 12,
   "metadata": {},
   "outputs": [
    {
     "data": {
      "text/markdown": [
       "**Užduotis.**\n",
       "\n",
       "Greitosios daugybos formulės. Kodėl daugyba vadinama greitąja?\n",
       "\n",
       "**Sprendimas.**\n",
       "* Jei sudaugintume $(x+1)(x-2)$, gautume 4 narių sumą $x^2+x-2x-2$, kuri susitraukia iki trijų narių sumos $x^2-x-2$\n",
       "* Jei sudaugintume $(x-13)(x+13)$, taip pat gautume reiškinį, kurį galima suprastinti iki $x^2-169$\n",
       "* Greitosios daugybos formulės leidžia atskliaudimą ir sutraukimą atlikti greičiau: galime taikyti formules, kurios leidžia gauti du ar tris narius atliekant tik vieną žingsnį\n",
       "* Pavyzdžiui $(x-13)(x+13)=x^2-169$ - šiam dvinariui gauti nereikėjo atskliaudimo ir sutraukimo."
      ],
      "text/plain": [
       "<IPython.core.display.Markdown object>"
      ]
     },
     "metadata": {},
     "output_type": "display_data"
    }
   ],
   "source": [
    "6."
   ]
  },
  {
   "cell_type": "code",
   "execution_count": 13,
   "metadata": {},
   "outputs": [
    {
     "data": {
      "text/markdown": [
       "**Užduotis.**\n",
       "\n",
       "Duota, kad $ab=0$. Ką galime pasakyti apie skaičius $a$ ir $b$?\n",
       "\n",
       "**Sprendimas.**\n",
       "* Kad galioja lygybės $\\boxed{a=0}$ arba $\\boxed{b=0}$"
      ],
      "text/plain": [
       "<IPython.core.display.Markdown object>"
      ]
     },
     "metadata": {},
     "output_type": "display_data"
    }
   ],
   "source": [
    "7."
   ]
  },
  {
   "cell_type": "code",
   "execution_count": 14,
   "metadata": {},
   "outputs": [
    {
     "data": {
      "text/markdown": [
       "**Užduotis.**\n",
       "\n",
       "Išspręskite lygtį $x^3-x^2=0$\n",
       "\n",
       "**Sprendimas.**\n",
       "* $x^3-x^2=0$\n",
       "* $x\\cdot x^2-x^2=0$\n",
       "* $x^2(x-1)=0$\n",
       "* $\\boxed{x^2=0}$ arba $\\boxed{x-1=0}$\n",
       "* $\\boxed{x=0}$ arba $\\boxed{x=1}$"
      ],
      "text/plain": [
       "<IPython.core.display.Markdown object>"
      ]
     },
     "metadata": {},
     "output_type": "display_data"
    }
   ],
   "source": [
    "8."
   ]
  },
  {
   "cell_type": "code",
   "execution_count": 15,
   "metadata": {},
   "outputs": [
    {
     "data": {
      "text/markdown": [
       "**Užduotis.**\n",
       "\n",
       "Įvardykite lygties sprendinius: $x^2=169$\n",
       "\n",
       "**Sprendimas.**\n",
       "* $x=13$ arba $x=-13$"
      ],
      "text/plain": [
       "<IPython.core.display.Markdown object>"
      ]
     },
     "metadata": {},
     "output_type": "display_data"
    }
   ],
   "source": [
    "9a."
   ]
  },
  {
   "cell_type": "code",
   "execution_count": 16,
   "metadata": {},
   "outputs": [
    {
     "data": {
      "text/markdown": [
       "**Užduotis.**\n",
       "\n",
       "Įvardykite lygties sprendinius: $x^2=0$\n",
       "\n",
       "**Sprendimas.**\n",
       "* $x=0$"
      ],
      "text/plain": [
       "<IPython.core.display.Markdown object>"
      ]
     },
     "metadata": {},
     "output_type": "display_data"
    }
   ],
   "source": [
    "9b."
   ]
  },
  {
   "cell_type": "code",
   "execution_count": 17,
   "metadata": {},
   "outputs": [
    {
     "data": {
      "text/markdown": [
       "**Užduotis.**\n",
       "\n",
       "Įvardykite lygties sprendinius: $x^2=-1$\n",
       "\n",
       "**Sprendimas.**\n",
       "* Nėra realiųjų sprendinių"
      ],
      "text/plain": [
       "<IPython.core.display.Markdown object>"
      ]
     },
     "metadata": {},
     "output_type": "display_data"
    }
   ],
   "source": [
    "9c."
   ]
  },
  {
   "cell_type": "code",
   "execution_count": 18,
   "metadata": {},
   "outputs": [
    {
     "data": {
      "text/markdown": [
       "**Užduotis.**\n",
       "\n",
       "Ar yra tokie du vienodi skaičiai, kuriuos sudauginę gausime $-9$?\n",
       "\n",
       "**Sprendimas.**\n",
       "* Jei dauginsime $-3$ ir $-3$, gausime 9\n",
       "* Jei dauginsime $3$ ir $3$, gausime irgi 9\n",
       "* Išvada: niekada daugindami du vienodus skaičius negausime neigiamo skaičiaus"
      ],
      "text/plain": [
       "<IPython.core.display.Markdown object>"
      ]
     },
     "metadata": {},
     "output_type": "display_data"
    }
   ],
   "source": [
    "10."
   ]
  },
  {
   "cell_type": "code",
   "execution_count": 19,
   "metadata": {},
   "outputs": [
    {
     "data": {
      "text/markdown": [
       "**Užduotis.**\n",
       "\n",
       "Lygtis neturi realiųjų sprendinių. Ką reiškia žodis **realusis**?\n",
       "\n",
       "**Sprendimas.**\n",
       "* Sprendinys yra tam tikras skaičius. Jis priklauso realiųjų skaičių aibei $\\mathbb{R}$"
      ],
      "text/plain": [
       "<IPython.core.display.Markdown object>"
      ]
     },
     "metadata": {},
     "output_type": "display_data"
    }
   ],
   "source": [
    "11."
   ]
  },
  {
   "cell_type": "code",
   "execution_count": 20,
   "metadata": {},
   "outputs": [
    {
     "data": {
      "text/markdown": [
       "**Užduotis.**\n",
       "\n",
       "Kaip skirstomi skaičiai?\n",
       "\n",
       "**Sprendimas.**\n",
       "* Jie gali būti skirstomi į teigiamus ir neigiamus, tik dar reiktų išskirti nulį (jis nei teigiamas, nei neigiamas)\n",
       "* Matematikoje žinomas daug išsamesnis jų skirstymas: natūralieji, sveikieji, racionalieji ir realieji\n",
       "* Natūralieji ($\\mathbb{N}$): $1,2,3,\\dots$\n",
       "* Sveikieji ($\\mathbb{Z}$): $\\dots -3,-2,-1,0,1,2,3 \\dots$\n",
       "* Racionalieji ($\\mathbb{Q}$): visi, išreiškiami sveikųjų skaičių santykiu $\\frac{a}{b}$\n",
       "* Realieji ($\\mathbb{R}$): visi likę, kuriuos galima pažymėti skaičių ašyje"
      ],
      "text/plain": [
       "<IPython.core.display.Markdown object>"
      ]
     },
     "metadata": {},
     "output_type": "display_data"
    }
   ],
   "source": [
    "12."
   ]
  },
  {
   "cell_type": "markdown",
   "metadata": {},
   "source": [
    "### Namų darbai"
   ]
  },
  {
   "cell_type": "markdown",
   "metadata": {},
   "source": [
    "Išskaidykite dauginamaisiais\n"
   ]
  },
  {
   "cell_type": "markdown",
   "metadata": {},
   "source": [
    "* $3x^2-12x$\n",
    "* $27a^2bc+23ab^2c-25abc^2$\n",
    "* $x^2-x^2y$\n",
    "* $a^4+a^3+a^2$\n",
    "* $a^3+6a$\n",
    "* $6x^2+6x$\n",
    "* $a^2b^2+ab$\n",
    "* $2^{10}+2^8$"
   ]
  },
  {
   "cell_type": "markdown",
   "metadata": {},
   "source": [
    "Sprendimo pavyzdys:"
   ]
  },
  {
   "cell_type": "markdown",
   "metadata": {},
   "source": [
    "$9x^4-6x^2=x^2(9x^2-6)=3x^2(3x^2-2)$"
   ]
  },
  {
   "cell_type": "markdown",
   "metadata": {},
   "source": [
    "Įrankis, kuriuo galima naudotis: [WolframAlpha](https://www.wolframalpha.com/input/?i=9x%5E4-6x%5E2)"
   ]
  }
 ],
 "metadata": {
  "kernelspec": {
   "display_name": "Python 3",
   "language": "python",
   "name": "python3"
  },
  "language_info": {
   "codemirror_mode": {
    "name": "ipython",
    "version": 3
   },
   "file_extension": ".py",
   "mimetype": "text/x-python",
   "name": "python",
   "nbconvert_exporter": "python",
   "pygments_lexer": "ipython3",
   "version": "3.8.3"
  }
 },
 "nbformat": 4,
 "nbformat_minor": 4
}
