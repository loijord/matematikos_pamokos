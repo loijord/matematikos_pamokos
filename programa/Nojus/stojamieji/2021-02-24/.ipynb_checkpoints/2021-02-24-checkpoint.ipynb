{
 "cells": [
  {
   "cell_type": "markdown",
   "metadata": {},
   "source": [
    "### Apie\n",
    "\n",
    "Užsiėmimo pradžioje sužinojau, kad turime mažai laiko, tik 45 minutes, todėl nusprendžiau nepradėti naujų temų. \n",
    "Dirbome tik su sąvokų nagrinėjimu. "
   ]
  },
  {
   "cell_type": "markdown",
   "metadata": {},
   "source": [
    "### Kaip sekėsi?\n",
    "Namų darbas buvo suformuluotas maždaug taip: \n",
    "\n",
    "***Paskaityti apie matematines sąvokas, išmokti apibūdinti pasirinktą jų dalį. Imsiu atskiras matematikos sąvokas ir klausiu: kas tai yra, kaip skamba likusi paaiškinamojo sakinio dalis, kokių yra pavyzdžių***\n",
    "\n",
    "Nojus sąvokas paskaitė, tačiau savarankiškai apibūdinti jų negalėjo. Taip pat imant konkrečią sąvoką ir klausiant apie jos pavyzdžius, Nojus atsakinėjo labai ribotai. Pavyzdžiui Nojus atsakė, kad dydis gali būti ilgis arba plotas, bet priversti jį pateikti daugiau pavyzdžių būdavo nelengva. Tekdavo jam padėti:\n",
    "\n",
    "* Slėgis - tai dydis, kurį galima pamatuoti barometru\n",
    "* Greitis matuojamas spidometru\n",
    "* Jėga - niutonmetru\n",
    "* Pagreitis irgi dydis, bet į galvą nešauna jį matuojantis prietaisas. Matyt jį daug paprasčiau apskaičiuoti, nei išmatuoti\n",
    "* Nojaus darbingumas penkiabalėje sistemoje yra 2, o Simono 4. Darbingumo savybei yra priskiriami skaičiai, galima juos palyginti, vadinasi gauti skaičiai išreiškia dydžius.\n",
    "\n",
    "Taip pat netrumpai aptarinėjome ir kitus klausimus, pvz. kuo skiriasi rezultatas nuo atsakymo, nors įdėmiai skaitant apibrėžimų aprašymus, tikrai buvo galima atrasti paaiškinimą.\n",
    "\n",
    "Dar vienas diskusijų objektas buvo reikšmės ir prasmės skirtumai. Uždavinyne galima rasti daug uždavinių, skambančių maždaug taip: *apskaičiuokite reiškinio $x(x+1)$ **reikšmę**, kai $x=2$*. Tuo tarpu reiškinio **prasmė** - visiškai kitas dalykas.\n",
    "\n",
    "Kažkuriuo momentu lyginome, kuo skiriasi [lietuviškoje Vikipedijoje](https://lt.wikipedia.org/wiki/Skaičius) ir [angliškoje Vikipedijoje](https://en.wikipedia.org/wiki/Number) pateikiami skaičiaus apibrėžimai. Paaiškinau, kodėl anglų kalba pateiktas apibrėžimas daug tikslesnis už lietuvišką jo variantą.\n",
    "\n",
    "Taip bediskutuojant prabėgo visas užsiėmimas. Kitus užsiėmimus tokių nekonkrečių namų darbų nepaliksiu, nes dažnai jie nepasiekia tikslo."
   ]
  },
  {
   "cell_type": "markdown",
   "metadata": {},
   "source": [
    "### Ką toliau darome su sąvokomis?\n",
    "\n",
    "Šįsyk palieku dar šiek tiek darbo su sąvokomis namuose. Reikės: \n",
    "\n",
    "* Užsirašyti kiekvieną sąvoką ir jos apibrėžime rasti žodžių junginį, atsakantį į klausimą ***kas tai yra?***. Pvz. **reiškinys - tai matematinė frazė**, arba **procedūra - tai žingsnių rinkinys**.\n",
    "* Savais žodžiais raštu atsakyti, kuo skiriasi:\n",
    " * Lygtis nuo lygybės\n",
    " * Reikšmė nuo prasmės\n",
    " * Dydis nuo skaičiaus\n",
    " * Rezultatas nuo atsakymo\n",
    " \n",
    "Per ateinančius užsiėmimus sąvokas nagrinėsime tik papildomai, nes reikia skubėti vytis mokyklos kursą. Artimiausiose pamokose esu numatęs užbaigti nagrinėti tiesines lygtis (7kl.), panagrinėti dauginamų reiškinių prasmę geometriškai (7-8kl.) ir tada pereiti prie geometrijos (7-8kl.)\n",
    "\n",
    "Sąvokų žodynėlis kol kas preinamas [trečios pamokos aprašyme](.\\2021-02-17\\2021-02-17.ipynb)"
   ]
  },
  {
   "cell_type": "markdown",
   "metadata": {},
   "source": [
    "### Svarbiausi dalykai, kuriuos mokėmės\n",
    "* Sąvoką sudaro atsakymas į klausimą **kas tai yra?** ir paaiškinimas, kaip tai atskirti nuo kitų objektų\n",
    "* Matematinėms sąvokoms būdingas vienareikšmiškumas (žr. trečios pamokos aprašymo [pavyzdį su trikampio sąvoka](.\\2021-02-17\\2021-02-17.ipynb))\n",
    "* Matematikos mokymąsi taip pat lydi daug prieštaravimų, atsirandančių painiojant matematines sąvokas tarpusavyje.\n",
    " * Reikšmė painiojasi su prasme\n",
    " * $2+1$ turi rezultatą, o $2x+1$ neturi.\n",
    " * $2x+1$ gali įgyti skirtingas reikšmes (su skirtingais $x$), o $2+1$ negali."
   ]
  },
  {
   "cell_type": "markdown",
   "metadata": {},
   "source": [
    "### Kaip sudaryti matematikos sąvoką?\n",
    "Per pamoką ėmėme kaip pavyzdį kvadrato sąvoką ir tikslinome ją, kol gavome korektišką variantą.\n",
    "\n",
    "***Nojus.*** Kvadratas - tai figūra, turinti 4 kraštines ir 4 kampus.\n",
    "\n",
    "***Simonas.*** Neteisingai, nes tuomet ši figūra irgi bus kvadratas: ![](kv1.PNG)\n",
    "    "
   ]
  },
  {
   "cell_type": "markdown",
   "metadata": {},
   "source": [
    "### Simono pastaba\n",
    "Vien liepti mokiniui kalti sąvokų apibrėžimus matyt nepakanka. Sąvokų mokymasis ne tik yra labai svarbus mokyklinėje matematikoje, bet ir reikalauja sudaryti atskiras jo mokymo ir pasiekimų vertinimo metodikas. Tam reikėtų ilgalaikių tyrimų matematikos mokymo srityje. Tai, ką atlikome pamokoje, labiau primena šių metodikų paieškas  "
   ]
  }
 ],
 "metadata": {
  "kernelspec": {
   "display_name": "Python 3",
   "language": "python",
   "name": "python3"
  },
  "language_info": {
   "codemirror_mode": {
    "name": "ipython",
    "version": 3
   },
   "file_extension": ".py",
   "mimetype": "text/x-python",
   "name": "python",
   "nbconvert_exporter": "python",
   "pygments_lexer": "ipython3",
   "version": "3.8.3"
  }
 },
 "nbformat": 4,
 "nbformat_minor": 4
}
