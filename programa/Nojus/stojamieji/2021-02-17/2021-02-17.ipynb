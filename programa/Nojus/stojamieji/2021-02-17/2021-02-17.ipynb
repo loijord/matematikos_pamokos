{
 "cells": [
  {
   "cell_type": "markdown",
   "metadata": {},
   "source": [
    "### Kaip sekėsi\n",
    "\n",
    "Praeitą susitikimą aptarėme namų darbus. Nojų galiu pagirti, kad visi trys nepilnųjų kvadratinių lygčių variantai (iš kiekvieno po dvi lygtis) buvo išspręsti teisingai. Tačiau namų darbas nesusidėjo vien iš mechaniškai išmokto lygčių sprendimo, bet dar ir įvardijimo, kas buvo gauta sprendžiant ir kokias procedūras reikėjo atlikti. Ši dalis Nojui iš pradžių sekėsi sunkiai ir tai laikau pagrindine priežastimi, kodėl Nojus pamiršta, ką mokėsi prieš savaitę arba kodėl sunkiai taiko išmoktus dalykus naujose temose.\n",
    "\n",
    "### Problemų šaknys\n",
    "\n",
    "Dėl šios problemos yra kaltas ne vien Nojus, bet ir dabartinis matematikos pamokų organizavinimas. Tarybiniu laikotarpiu per matematikos atsiskaitymus būdavo reikalaujama:\n",
    "\n",
    "* kruopštumo moksleivių sprendimuose ir brėžiniuose\n",
    "* sudaryti klausimus, pakomentuojančius sprendimo žingsnius (pradinėse klasėse)\n",
    "* užrašyti matematinių sąvokų apibrėžimus\n",
    "* ne tik mokėti matematines taisykles ir teoremas, bet ir pateikti jų įrodymus\n",
    "* apsiginti kai kuriuos atsiskaitymus žodžiu\n",
    "\n",
    "Išnykus šiems reikalavimams turime stipriai per 20 metų nukritusius mokinių pasiekimus. Bendras prastų sugebėjimų bruožas, atsispindintis matematikos egzamine (ir man dirbant su mažesniaisiais) yra nesugebėjimas prisiminti, kaip jungti kelis žingsnius daugiau sprendimo žingsnių reikalaujančiuose uždaviniuose. Nors Nojus rodo pažangą, išmoko, kaip spręsti trijų žingsnių reikalaujančias kvadratines lygtis, tačiau norint pašalinti spragas reikia daug didesnio mokymosi efektyvumo.\n",
    "\n",
    "### Būdai, kaip keisti mokymosi įpročius\n",
    "\n",
    "Kadangi Nojui atostogos, atsirado galimybė atitrūkti nuo dabartinės mokyklinės programos ir panagrinėti matematinių sąvokų prasmę. Priminsiu dvi pagrindines kolonas, ant kurių turėtų stovėti matematikos supratimas:\n",
    "\n",
    "![](matematika.png)\n",
    "\n",
    "Per šį užsiėmimą, priešingai nei per ankstesnius, gilinomės, kaip atrodo raudona spalva pažymėta kolona. T.y. mokėmės matematines sąvokas, nagrinėjome, kur jos taikomos. Norint, kad mokymasis ateityje būtų efektyvesnis, reikėtų jas pažinti ir vartoti matematinėje kalboje. Jų studijavimas lieka ne tik Nojaus klasės darbu, bet ir namų darbu.\n",
    "\n",
    "### Apie sąvokų matematiškumą\n",
    "\n",
    "Kiekvienos sąvokos apibrėžimas yra sudarytas iš **kategorijos** (atsakymą į klausimą, kas tai yra) ir **korektiško paaiškinimo** (kaip atskiriame, kad tai būtent šis objektas). Pavyzdžiui:\n",
    "\n",
    "**Pilis - tai uždaras gynybinių įrenginių bei gyvenamųjų, ūkinio, kulto ir kt. pastatų kompleksas.**\n",
    "\n",
    "Čia **pastatų kompleksas** apibūdina, kas tai yra, o likusi sakinio dalis apibūdina, koks tai turi būti pastatų kompleksas, kad tai būtų pilis. Pavyzdžiui Gedimino pilis pagal šį apibrėžimą tikrai būtų pilis. Tačiau apie daugelį objektų Vilniuje ir jo apylinkėse būtų sunku vienareikšmiškai tvirtinti, ar tai yra pilis, ar ne. Todėl pilies sąvoka apibrėžta tik bendrinėje kalboje.\n",
    "\n",
    "Sąvoka laikome matematine, jei iš apibrėžimo apie objektą galima vienareikšmiškai pasakyti, kad tai būtent šis objektas. Pavyzdžiui: \n",
    "\n",
    "**Trikampis, tai geometrinė figūra, kurią sudarys trys atkarpos ir trys kampai** yra geras ir korektiškas matematinės sąvokos pavyzdys.\n",
    "\n",
    "Tuo tarpu **Trikampis, tai geometrinė figūra, kurią sudaro trys atkarpos** yra nekorektiškos matematinės sąvokos pavyzdys, nes pagal šį apibrėžimą trikampiais galėtume laikyti ir tokią figūrą: \n",
    "\n",
    "![](trik.png)\n",
    "\n",
    "# Namų darbai\n",
    "\n",
    "Išnagrinėti žemiau pateiktas 26 matematines ir bendrinės kalbos sąvokas. Per kitą susitikimą imsiu atskiras matematikos sąvokas ir klausiu: kas tai yra, kaip skamba likusi paaiškinamojo sakinio dalis, kokių yra pavyzdžių. Manau jog pilnai išmokti visas sąvokas yra kelių užsiėmimų darbas, todėl Nojui siūlau visus apibrėžimus išsinagrinėti, o išmokti apibūdinti tik tam tikrą dalį."
   ]
  },
  {
   "cell_type": "markdown",
   "metadata": {},
   "source": [
    "### Matematika \n",
    "**Tai kultūros dalis, samprotavimu įprasminanti žmonijos praktinę ir pažintinę veiklą.**"
   ]
  },
  {
   "cell_type": "markdown",
   "metadata": {},
   "source": [
    "### Objektas\n",
    "**Tai, į ką nukreipta pažintinė veikla.**"
   ]
  },
  {
   "cell_type": "markdown",
   "metadata": {},
   "source": [
    "### Reiškinys\n",
    "1\\. **Tai matematinė frazė, sudaryta iš skaičių, kintamųjų, aritmetinių operacijų ir kitų matematinių objektų.** \n",
    "* Reiškinys gali būti konkretus skaičius, toks, kaip -2.\n",
    "\n",
    "* Reiškinys $x+8$ atitinka frazę ,,skaičius plius aštuoni''\n",
    "\n",
    "2\\. **Tai tam tikras mūsų aplinkoje vykstantis procesas.**\n",
    "\n",
    "* Pavyzdžiui lietus arba dronų lenktynės"
   ]
  },
  {
   "cell_type": "markdown",
   "metadata": {},
   "source": [
    "### Procedūra\n",
    "**Žingsnių rinkinys, kurį atliekant įprasta spręsti tam tikrą problemą ar uždavinį, keisti tam tikrus objektus**\n",
    "* Pavyzdžiui kvadratinės lygties sprendimo procedūrą sudaro skaidymas dauginamaisiais ir atskirų lygčių sprendimas"
   ]
  },
  {
   "cell_type": "markdown",
   "metadata": {},
   "source": [
    "### Rezultatas\n",
    "**Tai, kas gaunama atlikus su objektais procedūrą**\n",
    "* Pavyzdžiui išsprendus kvadratinę lygtį yra gaunamas rezultatas: tam tikri du sprendiniai\n",
    "* Veiksmo rezultatas - skaičius, gautas atlikus tam tikrą aritmetinį veiksmą"
   ]
  },
  {
   "cell_type": "markdown",
   "metadata": {},
   "source": [
    "### Atsakymas\n",
    "**Tai tam tikro klausimo, problemos sprendimas arba tai, kas gaunama išsprendus matematikos uždavinį**\n",
    "* Frydrichas pusę metų ieškojo **atsakymo**, kaip spręsti bet kokias kubines lygtis. Vienąsyk bibliotekos enciklopedijoje jis aptiko Kardano formules. Tada pabandė pagal jas išspręsti lygtį $x^3-6x^2+11x-6=0$ ir gavo **atsakymą**: tris sprendinius 1, 2 ir 3.\n",
    "* Leonardas pabandė nubrėžti dvi lygiagrečias tieses, tada dvi nelygiagrečias ir patikrino, kokią figūrą iškerta nubrėžtos keturios tiesės. Jo gautas **atsakymas** - trapecija. Labiau tinka sakyti, kad jo gautas **rezultatas** - trapecija, nes jis atliko tam tikrą procedūrą (ankstesniame pavyzdyje taip pat)."
   ]
  },
  {
   "cell_type": "markdown",
   "metadata": {},
   "source": [
    "### Skaičiavimas\n",
    "1\\. **Tai skaičiaus priskyrimas tam tikram objektų kiekiui.**\n",
    "* Dažnas atvejis: pirštų skaičiavimas iš eilės\n",
    "\n",
    "2\\. **Tai formali ženklų vartojimo sistema, leidžianti nusakyti problemas ir pateikti jų išsprendimo būdus.**\n",
    "* Tarkime duota, per kiek laiko įsibėgėjo automobilis ir koks buvo jo galutinis greitis. Tuomet yra užrašoma pagreičio formulė, iš jos **apskaičiuojamas** pagreitis"
   ]
  },
  {
   "cell_type": "markdown",
   "metadata": {},
   "source": [
    "### Matavimas\n",
    "**Tai lygintino skaičiaus priskyrimas objekto ar reiškinio savybei**\n",
    "* Naudojantis liniuote išmatuojamas pėdos ilgis. Matavimo rezultatas - 22 centimetrai.\n",
    "* Intelektas matuojamas pagal tai, į kiek klausimų atsakė dalyvis. Matavimo rezultatas - 102 intelekto balai."
   ]
  },
  {
   "cell_type": "markdown",
   "metadata": {},
   "source": [
    "### Skaičius\n",
    "**Tai matematinis objektas, naudojamas matavime, skaičiavime arba žymėjime**\n",
    "* Be minėtų matavimo ir skaičiavimo pavyzdžių, skaičiais taip pat gali būti žymimi skirtingi objektai: trikampyje viršūnes žymimos raidėmis A, B ir C, o kampus galima pažymėti skaičiais 1, 2 ir 3."
   ]
  },
  {
   "cell_type": "markdown",
   "metadata": {},
   "source": [
    "### Kvantifikavimas (bendram išsilavinimui)\n",
    "**Tai skaičiaus priskyrimas savybei, suvokiamai per juslę, vaizduotę ar kitaip.**\n",
    "\n",
    "* Matavimas yra vienas iš kvantifikavimo pavyzdžių\n",
    "* Kvantifikavimas taip pat atsispindi mūsų samprotavime: jei man šiandien pavyko išspręsti **bent vieną** uždavinį iš **5**, tai **trisdešimčia** procentų bus tikėtina, kad ryt man nepavyks išspręsti **nei vieno** uždavinio."
   ]
  },
  {
   "cell_type": "markdown",
   "metadata": {},
   "source": [
    "### Kvantorius (bendram išsilavinimui)\n",
    "Tai kvantifikavimą išreiškiantis žodis pvz. ***kiekvienas, kai kurie, daug, keletas, pusė, du, egzistuoja, visiems*** ir t.t. "
   ]
  },
  {
   "cell_type": "markdown",
   "metadata": {},
   "source": [
    "### Aibė\n",
    "**Tai nebūtinai baigtinis objektų rinkinys**\n",
    "\n",
    "* Baigtinių aibių pavyzdžiai: Saulės sistemos planetų aibė, turimos lygties sprendinių aibė, skaičių nuo 7 iki 77 aibė.\n",
    "* Begalinės aibės pavyzdys: visų skaičių, esančių skaičių ašyje, aibė. Ši aibė valinama **realiųjų skaičių aibe**. "
   ]
  },
  {
   "cell_type": "markdown",
   "metadata": {},
   "source": [
    "### Elementai\n",
    "**Tai aibę sudarantys objektai**"
   ]
  },
  {
   "cell_type": "markdown",
   "metadata": {},
   "source": [
    "### Dydis \n",
    "**Tai objekto ar reiškinio savybė, kuriai įprasta priskirti lygintiną skaičių pasirenkant matavimo vienetą**\n",
    "* Dydžiai skirstomi į pastoviuosius ir kintamuosius.\n",
    "* Kintamieji dydžiai: per parą kintanti oro temperatūra, važiavimo greitis.\n",
    "* Pastovus dydis: duoto apskritimo spindulys.\n",
    "* Priskiriamas lygintinas skaičius vadinamas (skaitine) reikšme.\n",
    "* **trys** - skaitinė reikšmė, o **centimetrai** - matavimo vienetas."
   ]
  },
  {
   "cell_type": "markdown",
   "metadata": {},
   "source": [
    "### Kintamasis arba kintamasis dydis\n",
    "1\\. **Tai dydis, kurio reikšmę susitarta laikyti kintama.**\n",
    "* Pavyzdžiui atstumas iki mokyklos einant\n",
    "\n",
    "2\\.  **Tai simbolis, kuriuo žymimas bet kuris elementas iš kokios nors aibės.**\n",
    "* Pavyzdžiui apskritimo spindulį žymime raide $r$, kur $r$ yra bet kuris skaičius iš teigiamų realiųjų skaičių aibės.\n"
   ]
  },
  {
   "cell_type": "markdown",
   "metadata": {},
   "source": [
    "### Matavimo vienetas\n",
    "**Tai bendru sutarimu apibrėžtas dydis, naudojamas kaip etalonas tam tikram matmeniui skaičiuoti.** (Atsako į klausimą kuo matuojame?)\n",
    "* Šviesos stiprio matavimo vienetas yra kandela, nes taip susitarė fizikai. Etalonu laikomas dydis - 1cd."
   ]
  },
  {
   "cell_type": "markdown",
   "metadata": {},
   "source": [
    "### Narys\n",
    "1\\. **Tai matematinis objektas, esantis tam tikro reiškinio dalimi**\n",
    "* Sandaugos $3\\times b$ nariai yra dauginamieji $3$ ir $b$\n",
    "* Sumos $3 + b$ nariai yra dėmenys $3$ ir $b$\n",
    "\n",
    "2\\. **Tas pats, kas vienanaris**\n",
    "* Daugianario $3x^2 + 3x+3$ nariai yra vienanariai $3x^2$, $3x$ ir $3$"
   ]
  },
  {
   "cell_type": "markdown",
   "metadata": {},
   "source": [
    "### Formulė\n",
    "**Tai tam tikras prasmę turinčių matematinių simbolių rinkinys**\n",
    "* $a^2+b^2=c^2$ - tai formulė, aprašanti stačiojo trikampio kraštinių tarpusavio ryšį"
   ]
  },
  {
   "cell_type": "markdown",
   "metadata": {},
   "source": [
    "### Veiksmas arba operacija\n",
    "**Procedūra, kurią taikant vienam ar keliems nariams yra gaunamas rezultatas - dar vienas narys**\n",
    "* Pavyzdžiai: šaknies traukimas iš skaičiaus, dviejų skaičių atimtis, trupmenos apvertimas."
   ]
  },
  {
   "cell_type": "markdown",
   "metadata": {},
   "source": [
    "### Nežinomasis\n",
    "**Tai kintamasis, kuriam prasminga ieškoti reikšmės, su kuriuo lygtis tampa teisinga lygybe**\n",
    "* šios reikšmės vadinamos sprendiniais\n",
    "* jei lygtis tampa teisinga lygybė, tai galima trumpiau pasakyti, kad ji tenkinama"
   ]
  },
  {
   "cell_type": "markdown",
   "metadata": {},
   "source": [
    "### Reikšmė\n",
    "**Tai skaičius, kurį įprasta priskirti tam tikram dydžiui, kintamajam arba reiškiniui.**\n",
    "* Jei $x=2$, tai reiškinys $\\sqrt{x+2}+x^2$ įgyja reikšmę 6 \n",
    "* Pamokos trukmės skaitinė reikšmė lygi $45$, matavimo vienetas - minutės.\n",
    "* Lygtis $x(x-1)=0$ tampa teisinga lygybe, kai $x$ reikšmė yra lygi $0$ arba $1$."
   ]
  },
  {
   "cell_type": "markdown",
   "metadata": {},
   "source": [
    "### Prasmė\n",
    "**Tai vidinis loginis turinys**\n",
    "* Suteikus matematiniams objektams ar procedūroms prasmę atsiranda daugiau aiškumo sprendžiant tam tikrą problemą ar uždavinį.\n",
    "* Lygybės $3 - 5 = -2$ nariams galima suteikti prasmes: 3 žingsniai pirmyn ir 5 atgal atitinka 2 žingsnius atgal. Tai padeda geriau suprasti, kodėl veiksmo rezultatas yra $-2$."
   ]
  },
  {
   "cell_type": "markdown",
   "metadata": {},
   "source": [
    "### Lygybė\n",
    "**Tai teiginys, kad du skirtingi reiškiniai turi tą pačią reikšmę**\n",
    "* Teiginys $2+3=4$ neteisingas, todėl lygybė $2+3=4$ neteisinga\n",
    "* Lygybė $x=x^2$ yra teisinga, kai $x$ reikšmė lygi $0$ arba $1$"
   ]
  },
  {
   "cell_type": "markdown",
   "metadata": {},
   "source": [
    "### Tapatybė\n",
    "**Tai lygybė, kuri teisinga su visomis kintamųjų reikšmėmis**\n",
    "* Pavyzdžiai: $ab=ba$ ir $(a+b)^2=a^2+2ab+b^2$ "
   ]
  },
  {
   "cell_type": "markdown",
   "metadata": {},
   "source": [
    "### Lygtis\n",
    "**Tai lygybė, turinti nežinomųjų**\n",
    "* Pavyzdžiui $3x-2=3-2x$ arba $(ab-1)^2=a^2+b^2$"
   ]
  },
  {
   "cell_type": "markdown",
   "metadata": {},
   "source": [
    "### Sprendinys\n",
    "**Tai nežinomojo reikšmė, su kuria lygtis tampa teisinga lygybe**\n",
    "* Lygties $x^2=9$ sprendiniai yra $x=-3$ ir $x=3$\n",
    "* Lygtis $x^2+9=0$ neturi realiųjų sprendinių (bet turi kompleksinius $\\sqrt{-3}$ ir $-\\sqrt{-3}$, kurie neegzistuoja nei skaičių ašyje, nei tikrovėje)"
   ]
  },
  {
   "cell_type": "markdown",
   "metadata": {},
   "source": [
    "# Neaprašyti dalykai\n",
    "\n",
    "* pavyzdys su kubo tūrio skaičiavimu\n",
    "* šuns, kaip keturkojo, atpažinimu\n",
    "* sumos, kaip objekto, atpažinimą\n",
    "* sandaugos matymą keliais būdais\n",
    "* laipsnio įsivaizdavimą\n",
    "* teoremos įrodymo imitacija su atkarpa ir tašku (prieštaros metodu) "
   ]
  }
 ],
 "metadata": {
  "kernelspec": {
   "display_name": "Python 3",
   "language": "python",
   "name": "python3"
  },
  "language_info": {
   "codemirror_mode": {
    "name": "ipython",
    "version": 3
   },
   "file_extension": ".py",
   "mimetype": "text/x-python",
   "name": "python",
   "nbconvert_exporter": "python",
   "pygments_lexer": "ipython3",
   "version": "3.8.3"
  }
 },
 "nbformat": 4,
 "nbformat_minor": 4
}
