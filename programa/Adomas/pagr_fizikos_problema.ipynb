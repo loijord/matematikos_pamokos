{
 "cells": [
  {
   "cell_type": "markdown",
   "id": "3530566e",
   "metadata": {},
   "source": [
    "**Fizikiniai dydžiai** skirstomi į pagrindinius ir išvestinius. Pagrindinių dydžių dimensija gali būti tik viena iš septynių: $L$, $M$, $T$, $I$, $\\Theta$, $N$, $J$. Bet kurio išvestinio dydžio dimensija privalo būti išraiškos $L^{a_1}M^{a_2}T^{a_3}I^{a_4}\\Theta^{a_5}N^{a_6}J^{a_7}$, čia $a_i\\in \\mathbb{Z}$ visiems $i\\in [1,7]$.\n",
    "Pagrindinių dydžių (dar vadinamų SI sistemos dydžiais) lentelė iš metronomijos žodyno:\n",
    "\n",
    "|Base quantity|Symbol for dimension|\n",
    "|:---:|:---:|\n",
    "|length|L|\n",
    "|mass|M|\n",
    "|time|T|\n",
    "|electric current|I|\n",
    "|thermodynamic temperature|Θ|\n",
    "|amount of substance|N|\n",
    "|luminous intensity|J|\n",
    "\n",
    "Tuo tarpu dėl **matematinio dydžio** sąvokos nėra visuotiškai sutarta, matematikai nėra įsivedę tvarkingos dydžio apibrėžimų sistemos. Vietoje *apibrėžimų* galima vartoti *apibūdinimus*. Dydį galima apibūdinti taip:\n",
    "\n",
    "*Dydis - tai objekto ar reiškinio savybė, kuriai priskiriama lygintina skaitinė reikšmė (skaičius) pasirenkant matavimo vienetą*\n",
    "\n",
    "Ne taip kaip fizikoje, matematikoje dydžiai nebūtinai yra laikas, ilgis, tūris, temperatūra, masė, jėga ir kt. savybės, telpančios į pagrindinių ir išvestinių dydžių sąvokas. Tai gali būti ir nefizikinės savybės, tokios kaip kaina, matuojama eurais, arba pintinėlės vaisių kiekis, matuojamas kriaušėmis, obuoliais ir kt. Dalį matematikos vadovėliuose sutinkamų žodinių uždavinių galima išspręsti atliekant tik vieną veiksmą: dviejų dydžių atimtį, sudėtį, daugybą arba dalybą. Kiekvieną atliekamą veiksmą nustatome pagal tekstinio uždavinio formuluotę, tačiau bet kuriam veiksmui (pvz. $3\\times \\frac{1}{2}$) galimų veiksmo pasitaikymo situacijų, rinkinys yra pakankamai nedidelis. Simonas mano, kad išanalizavus visas tokias galimas formuluotes, jomis galėtume pasiremti norint perprasti fizikinių formulių išvedimą."
   ]
  },
  {
   "cell_type": "markdown",
   "id": "e3a88ab7",
   "metadata": {},
   "source": [
    "### Tekstinių uždavinių klasifikacija: dydžių dalijimas\n",
    "Kaip klasifikuojamos situacijos, kuriose reikia dalinti du dydžius? Čia pateiksiu visus uždavinių pavyzdžius iš Kieren (1976) pasiūlytos klasifikacijos, [papildytos](https://link.springer.com/article/10.1007/s10649-021-10030-7) Pedersen & Bjerre (2021 kovas):\n",
    "\n",
    "|Kategorija|Veiksmo pavyzdys|Sąlygos pavyzdys|\n",
    "|---:|:---:|:---|\n",
    "|Dalmuo, skaidymo kontekstas|$3:15$|$3$ kg sausainių supakavo į 15 pakuočių. Koks pakuotės svoris?|\n",
    "|Dalmuo, matavimo kontekstas|$3:\\frac{1}{6}$|3 kg sausainių supakavo po 1/6 kg. Kiek pakuočių panaudota?|\n",
    "|Matavimas, pirmas kontekstas|$3/5$|Atkarpa padalinta į 5 lygias dalis, 3 iš jų nuspalvintos. Kuri atkarpos dalis nuspalvinta?|\n",
    "|Matavimas, antras kontekstas|$3/5$|3 žingsnių nuotolį padalijo į penkias lygias dalis. Kiek žingsnių sudaro vieną dalį?\n",
    "|Operacija, didinimo/mažinimo kontekstas|$10\\times 3/5$|Nepilnai įtemptos spyruoklės ilgis - $10$ cm. Koks bus jos ilgis, kai jį padidinsime trissyk, o paskui sumažinsime penkissyk?|\n",
    "|Operacija, kopijavimo/skaidymo kontekstas|$10\\times 3/5$|Spyruoklės ilgis - $10$ cm. Kam lygus penktadalis ilgio, kurį sudaro $3$ spyruoklės?|\n",
    "|Santykis|$0.9/1.8$|Pasiskiepijo $0.9$ mln. žmonių, o nepasiskiepijo $1.8$ mln. žmonių. Koks pasiskiepijusių ir nepasiskiepijusių žmonių santykis?|\n",
    "\n",
    "Atkreipsiu dėmesį, kad čia pateiktos situacijos yra paprastesnės, nei sprendžiant fizikos uždavinius, nes visose situacijose atsispindi tik ryšys tarp bendramačių (tais pačiais matavimo vienetais matuojamų) dydžių. Fizikos pamokose dažniausiai reikia perprasti ryšius tarp nebendramačių dydžių. Apie tai - vėliau."
   ]
  },
  {
   "cell_type": "markdown",
   "id": "6b797127",
   "metadata": {},
   "source": [
    "### Tekstinių uždavinių klasifikacija: dydžių dauginimas\n",
    "\n",
    "Kaip klasifikuojamos situacijos, kuriose reikia dauginti du dydžius? Čia pateiksiu uždavinių pavyzdžius pagal plačiai naudojamą [patobulintą](https://roomtodiscover.com/meanings-of-multiplication/) Greer (1992) klasifikaciją.\n",
    "\n",
    "|Kategorija|Veiksmo pavyzdys|Sąlygos pavyzdys|\n",
    "|---:|:---:|:---|\n",
    "|Grupavimas|$6\\times 45$|Kiek minučių trunka $6$ pamokos?|\n",
    "|Dauginamasis palyginimas|$3 \\times 90$|Pertraukos tarp pamokų trunka $90$ min. Tai tris kartus mažiau už pamokų trukmę. Kiek trunka pamokos?|\n",
    "|Rodikliai*|$1.5 \\times 80$|Kokį atstumą įveiks automobilis per pusantros valandos važiuodamas $80$ km/h greičiu?|\n",
    "|Stačiakampiai, skaičiuotinas kontekstas|$15 \\times 18$|Kino salėje - $15$ eilių po $18$ kėdžių. Kiek vietų yra kino salėje?\n",
    "|Stačiakampiai, neskaičiuotinas kontekstas*|$15 \\times 18$|Stačiakampio ilgis $18$ cm, o plotis $15$ cm. Koks stačiakampio plotas?\n",
    "|Kombinacijos|$10\\times 12$|Keliais būdais galima sudaryti porą iš $10$ mergaičių ir $12$ berniukų?|\n",
    "\n",
    "Žvaigždute pažymėtuose variantuose rezultatas yra nebendramatis dydis. Naudojamos formulės $s=vt$ ir $S=ab$, *km/h* sudauginus su *h* gaunami *km*, o *cm* sudauginus su *cm* gaunami *cm*$^2$. Lietuvių kalba neturi gero žodžio ***rate*** vertinio, todėl verčiu jį kaip rodiklį - juo gali būti kilometrai per valandą (km/h), eurai už prekės kilogramą (3€/kg) ir pan."
   ]
  },
  {
   "cell_type": "markdown",
   "id": "1af75c9c",
   "metadata": {},
   "source": [
    "### Namų darbai Nojui\n",
    "\n",
    "1) Pamėgink pateiktoms fizikos formulėms užrašyti paaiškinimus taip, kaip pateikta viename pavyzdyje.\n",
    "\n",
    "2) Palygink užrašytus apibūdinimus. Kokių panašumų ir skirtumų randi?\n",
    "\n",
    "Į šiuos klausimus nėra vienintelio atsakymo. Atsakymų ieškojimas primena veiklą, panašią į mokslinį tyrimą. Užuomina: tai pačiai kategorijai priskiriami paaiškinimai labai panašūs.\n",
    "\n",
    "Fizikinių dydžių žymėjimai:\n",
    "* $m$ - masė\n",
    "* $V$ - tūris\n",
    "* $t$ - laikas\n",
    "* $\\rho$ - tankis\n",
    "* $a$ - pagreitis\n",
    "* $N$ - galia\n",
    "* $A$ - mechaninis darbas\n",
    "* $P$ - slėgis"
   ]
  },
  {
   "cell_type": "markdown",
   "id": "c754deb7",
   "metadata": {},
   "source": [
    "### Namų darbas\n",
    "\n",
    "|Kategorija|Formulė|Intepretacija|\n",
    "|---:|:---:|:---|\n",
    "|A|$$v=\\frac{s}{t}$$|Kokį atstumą kūnas įveikia per tam tikrą laiką?|\n",
    "|B|$$\\rho=\\frac{m}{V}$$|...|\n",
    "|A|$$a=\\frac{v-v_0}{t}$$|...|\n",
    "|A|$$N=\\frac{A}{t}$$|...|\n",
    "|B|$$P=\\frac{F}{S}$$|...|\n",
    "|A|$$\\text{upės debitas}=\\frac{m}{t}$$|... [Užuomina](https://www.vle.lt/straipsnis/debitas/)|\n",
    "|B|$$\\text{kaina}=\\frac{\\text{€}}{m}$$|... |"
   ]
  },
  {
   "cell_type": "markdown",
   "id": "f52c7188",
   "metadata": {},
   "source": [
    "### Namų darbo aptarimas\n",
    "Namų darbas buvo per sudėtingas. Aptarėme jį per pamoką.\n",
    "\n",
    "|Kategorija|Formulė|Intepretacija|\n",
    "|---:|:---:|:---|\n",
    "|A|$$v=\\frac{s}{t}$$|Kokį atstumą kūnas ***įveikia*** per tam tikrą laiką?|\n",
    "|B|$$\\rho=\\frac{m}{V}$$|Kiek ***sveria*** tam tikras medžiagos tūrio vienetas?|\n",
    "|A|$$a=\\frac{v-v_0}{t}$$|Kiek ***pasikeitė kūno greitis*** per tam tikrą laiką?|\n",
    "|A|$$N=\\frac{A}{t}$$|Kokio dydžio mechaninį ***darbą atlieka*** kūnas per tam tikrą laiką?|\n",
    "|B|$$P=\\frac{F}{S}$$|Kokio didumo ***jėga slegia*** tam tikrą ploto vienetą?|\n",
    "|A|$$\\text{upės debitas}=\\frac{V}{t}$$|Kiek vandens ***prateka*** per tam tikrą laiką? [Užuomina](https://www.vle.lt/straipsnis/debitas/)|\n",
    "|B|$$\\text{kaina}=\\frac{\\text{€}}{m}$$|Kiek ***kainuoja*** tam tikro svorio prekė?|"
   ]
  },
  {
   "cell_type": "markdown",
   "id": "e7e76be2",
   "metadata": {},
   "source": [
    "### Namų darbo išvados"
   ]
  },
  {
   "cell_type": "markdown",
   "id": "51fae967",
   "metadata": {},
   "source": [
    "1\\. Norint įsiminti fizikinius procesus vartojame tinkamai juos apibūdinančius žodžius:\n",
    "\n",
    "    * pagreitis - įsibėgėja, stabdo, keičia greitį\n",
    "    * tūris - prateka\n",
    "    * greitis - įveikia (atstumą)\n",
    "    * galia - atlieka (darbą)\n",
    "    * tankis - yra, telpa, sveria\n",
    "    * slėgis - (kokio didumo jėga) slegia\n",
    "\n",
    "2\\. Daugumoje atvejų apibūdinant santykius galima vartoti neutralų žodį ***tenka***.\n",
    "\n",
    "3\\. Nojui sunkiai sekėsi su šiomis dydžių dalijimo atskiromis tekstinių uždavinių klasėmis: dalmens, matavimo kontekste (*Kiek pakuočių gausis padalijus 3 kg sausainių po 1/6 kg?*), operatoriaus (*pavaizduok transformacijas, kurias atlieki su 10 cm spyruokle norėdamas gauti $10\\times \\frac{3}{5}$ ilgį)*.\n",
    "\n",
    "4\\. Fizikos formulių nagrinėjimas turėjo atskleisti, kaip galima matematines formuluotes taikyti norint įsiminti fizikos formules. Aiškinomės *rate problems* tipą, kuris buvo namų darbo užduotyje. Iš pradžių sekėsi sunkiai, bet vėliau šiaip taip pavyko.\n",
    "\n",
    "5\\. Norint toliau turėti reikalų su fizika Nojui reikėtų pasikartoti žymėjimus (aukščiau)."
   ]
  },
  {
   "cell_type": "markdown",
   "id": "57999429",
   "metadata": {},
   "source": [
    "### Fizikos formulės su sandaugomis\n",
    "Sudėtingesnių 8kl. fizikos formulių pavyzdžiai: $F=ma$, $A=Fs$, $E=mgh$, $P=\\rho gh$\n",
    "\n",
    "Simono manymu, šių formulių interpretavimas aštuntokui per sudėtingas - reikia pažinti vektorius arba integravimą, kurie bus tik bent 11 klasėje. Vektoriai glaudžiai susiję su dydžių dalijimo operatoriaus kategorija, su kuria yra sunkumu. Pamokos užbaigimui trumpai [pademonstravau](https://www.geogebra.org/m/yUpHvBYc) integravimo principą."
   ]
  },
  {
   "cell_type": "markdown",
   "id": "f5a218be",
   "metadata": {},
   "source": [
    "### Gero poilsio Nojui!"
   ]
  }
 ],
 "metadata": {
  "kernelspec": {
   "display_name": "Python 3",
   "language": "python",
   "name": "python3"
  },
  "language_info": {
   "codemirror_mode": {
    "name": "ipython",
    "version": 3
   },
   "file_extension": ".py",
   "mimetype": "text/x-python",
   "name": "python",
   "nbconvert_exporter": "python",
   "pygments_lexer": "ipython3",
   "version": "3.8.3"
  }
 },
 "nbformat": 4,
 "nbformat_minor": 5
}
