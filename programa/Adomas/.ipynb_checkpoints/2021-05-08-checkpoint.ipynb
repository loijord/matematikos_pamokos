{
 "cells": [
  {
   "cell_type": "markdown",
   "metadata": {},
   "source": [
    "## Mokymasis\n",
    "\n",
    "Mokantis fiziką reikia tokių pat smegenų resursų kaip ir kitiems dalykams. Vadinasi, turime suprasti, kaip vyksta mokymasis. Pagrindinis visų mokslų iššūkis - kaip sutalpinti į atmintį tiek daug informacijos? Vėliau matysime, kad matematinis/loginis/abstraktus mąstymas turi išskirtinių savybių, leidžiančių manipuliuoti talpesnėmis atminties struktūromis. O dabar - apie pirmą svarbią mokymosi savybę.\n",
    "\n",
    "**Lengviausia įsiminti tai, kas kelia pojūčius, emocijas**\n",
    "\n",
    "Jei galime kažką pajusti savo juslėmis: paliesti, pamatyti, išgirsti - tai įsimenama lengviausiai. Pvz. [pasižiūrėjus šį įrašą](https://www.youtube.com/watch?v=rkM4tLtJg78)[1] būtų sunku užmiršti, kaip dainuoja ledas. Arba pamačius iš arti stumbrą. Šiek tiek sudėtingiau įsiminti pačias emocijas, tokias kaip meilė ar pyktis, nes tai - mūsų smegenų rezultatas, o ne aplinkoje egzistuojantis reiškinys. Dar sudėtingesnė abstrakcija būtų mintiniai eksperimentai: ar galima remiantis žiniomis įsivaizduoti, kokius pojūčius patirtumėte, [būdamas pirmas žmogus kosmose (32min.)](https://www.youtube.com/watch?v=rkM4tLtJg78)[2] arba [kas vyksta tolimoje kometoje](http://www.youtube.com/watch?v=Afthg488n0E&t=11m40s)[3], priartėjusioje prie Saulės? Mūsų smegenys - unikalus aparatas, leidžiantis įsivaizduoti pojūčius tokiose situacijose, kuriose galbūt niekur neatsidursime. Mano patirtis parodė, kad mintinių eksperimentų dėka galima pasiekti aukštų rezultatų tiksliuosiuose moksluose.\n",
    "\n",
    "Kitaip įgytos žinios ne taip efektyviai įsimena. Iš esmės įsiminimo efektyvumas priklauso nuo to, kiek žinios mums prasmingos. Jei prasmės mažai, galime arba bandyti dirbtinai paversti jas prasmingomis, arba kartotis informaciją tol, kol jos tampa prasmingomis. \n",
    "\n",
    "**Kaip galima žinias paversti prasmingomis?**\n",
    "\n",
    "**Pavyzdys 1.** Tony Buzan siūlė naudoti minčių žemėlapius kaip išsigelbėjimą, padedantį struktūriškai įsiminti didelius informacijos kiekius mokantis bet kokį dalyką [4]\n",
    "\n",
    "![](buzan.jpg)\n",
    "\n",
    "**Pavyzdys 2.** Ši sistema man atrodo nepilna mokantis tiksliuosius mokslus, nes reiktų įtraukti ir dalis, rodančias priežastingumą (paaiškinimus, kodėl tam tikros taisyklės galioja). Tam galima naudoti [Toulmino schemas](https://owl.purdue.edu/owl/general_writing/academic_writing/historical_perspectives_on_argumentation/toulmin_argument.html) [5]. Kol dar nebuvau pažįstamas su šiuo modeliu, pamėginau sukurti keletą pavyzdžių pagal ne tokią pilną schemą:\n",
    "\n",
    "$\\boxed{\\text{Viena objekto forma}} \\stackrel{\\boxed{\\text{Mąstymo procesai}}}{\\Rightarrow} \\boxed{\\text{Kita objekto forma}}$\n",
    "\n",
    "Štai, kas pavyko:\n",
    "\n",
    "![](neuro_output.png)\n",
    "\n",
    "Vėliau, susipažinus su šiuo modeliu, paaiškėjo, kad yra ir kitų reikšmingų komponentų. Svarbu ne tik pats mokymosi turinys, bet ir besimokančiojo požiūris į jį. Pavyzdžiui, ar mes abejojame tam tikra taisykle, ar randame išimčių. Knygoje *Approaches to Qualitative Research in Mathematic Education* galima pasiskaityti, kaip atrodytų Pitagoro teoremos įrodymo eiga pagal klasikinį Toulmino modelį.\n",
    "\n",
    "**Pavyzdys 3.** Atminties čempionatų dalyviai sugeba sukurti atminties technikas net tokiai neprasmingai informacijai kaip skaičiaus $\\pi$ skaitmenų įsiminimas, kortų kaladžių įsiminimas. Arthur Benjamin pritaikė panašias schemas keldamas penkiaženklius skaičius kvadratu mintinai [6, 7]. Viena efektyviausių schemų milžiniškiems skaitmenų kiekiams įsiminti yra Major Memory System [8]. Ši sistema veikia tokiu būdu:\n",
    "* 1415926535 -> trtlbnšl -> oTTeR, TooLbox, BeaNs, SHeLL (ūdra, dėžė, pupos, kriauklė)-> \n",
    "\n",
    "![](onpi.jpg) \n",
    "\n",
    "Šios sistemos veiksmingumo paslaptis - sieti skaitmenis su orientavimusi erdvėje. Taip neprasminga informacija perkeliama į pojūčius, o pojūčiai yra daug įsimintinesni už kitą informaciją. Lietuvos rekordas - 10000 skaičiaus $\\pi$ skaitmenų priklauso vienuoliktokui Andriui Gegužiui. Gal būt jis rėmėsi šia technika.\n",
    "\n",
    "**Pavyzdys 4.** Skaitant bet kurį tekstą mes taip pat ieškome prasmingų atminties vienetų. Atskiros raidės būtų sunkiai perskaitomos, jei jų nejungtume į prasmingus žodžius. Atskiri žodžiai būtų sunkiai suprantami, jeigu nesijungtų į žodžių junginius.\n",
    "\n",
    "**Kaip įsiminti informaciją, turinčią nedaug prasmės?**\n",
    "\n",
    "Visada reiktų stengtis ieškoti prasmių. Tačiau, jei nepavyksta, nėra kito recepto, nei kartojimas. Šalutinis tokio mokymosi poveikis - po kurio laiko nukritusi motyvacija. Tačiau net ir matematikos šakos pasižymi skirtingomis mokymosi proceso kryptimis. Štai algebra ir aritmetika pradedama mokytis nuo operacijų kartojimo, kol jos tampa savaimiu procesu. Ir tik tada geriau suprantame, su kokiais objektais šias operacijas atliekame. O geometrijoje mokymosi krypties eiga atvirkščia: iš pradžių reikia pažinti geometrinius objektus ir tik tada galime spręsti uždavinius, kuriuose su jais reikia atlikti įvairias operacijas [9]. Neseniai apie šias dvi pagrindines mokymosi technikas pasakojau ir mokslo populiarinimo konkurse [10]\n",
    "\n",
    "Psichologijos pradininkai, fiziologai, bihevioristai, o galiausiai ir raidos specialistai praleido kone visą XXa., kol tyrimais pagrindė tvirtas žinias apie atmintį. Iš pradžių praeito amžiaus pradžioje rusų tautybės fiziologas Pavlovas įvairiais eksperimentais pagrindė, kad informacijos suvokimas pasižymi tam tikrais procesais: pirminiu išmokimu, blėsimu, savaiminiu atsinaujinimu, apibendrinimu ir atskyrimu. Tačiau pati informacija su mokslu daug bendro neturėjo, tai buvo tiesiog mokymasis, kai įvairūs organizmai yra mokomi sieti dirgiklius. Gerai žinomas Pavlovo eksperimentas, kurio metu buvo patvirtinta, kad šuniui išsiskiria seilės, jei jis supranta signalą, perspėjantį apie netrukus pasirodysiantį ėdalą. Psichologų žinioms apie išmokimą pažengus, imta domėtis, kaip galima pastiprinti pageidaujamą elgesį arba susilpninti nepageidaujamą. Tuomet atrodė, jog atsakymas aiškus: reikia teigiamas emocijas keliančio atpildo (apdovanojimo) ir neigiamas emocijas keliančio atpildo (bausmės). Šias priemones galima laikyti elgesio formavimu arba tiesiog dresūra. Jų galia neįtikėtina: kuriant įvaizdžius reklamose ir filmuose galima iš esmės pakeisti visuomenės įpročius; gyvūnus galima išmokyti atlikti neįmanomus triukus, o moksleivius - paskatinti mokytis jiems rašant pažymius. Galiausiai buvo ekperimentiškai įrodyta, kad mokymasis yra sudėtingesnis reiškinys nei atsako susiejimas su padariniais. Motyvacija gali būti ir vidinė: galime norėti ką nors pažinti neatlygintinai. Pastarąjį pusę amžiaus psichologų dėmesio centre atsidūrė ne tik mokymosi, bet ir pažinimo procesas. Supratome, kad naivu tikėtis, jog moksleiviai pajėgs ir bus motyvuoti įsiminti bet kokį mokyklinį turinį. Iš vienos pusės žinios turi būti suderintos su jauno žmogaus vystymosi tarpsniais. Iš kitos pusės vien išoriškai motyvuojami įsiminti didžiulius informacijos kiekius negalėsime to daryti pilnavertiškai.\n",
    "\n",
    "Natūralu, kad įvairūs patarimai, kaip pagerinti atmintį kartojantis, bus veiksmingi, jei juos galima pagrįsti tyrimais arba psichologijos klasikų idėjomis. Pateiksiu keletą mano manymu vertingiausių patarimų\n",
    "\n",
    "**Pavyzdys 1.** Informacija (ypač mažai prasminga) atmintyje greitai blėsta, jei jos reguliariai nekartojame. Geriausia tą daryti [tam tikrais reguliariais intervalais](https://www.pasimokome.lt/2017/12/20/kaip-nepamirsti-ka-ismokai/)[12]:\n",
    "\n",
    "![](pataria.PNG)\n",
    "\n",
    "**Pavyzdys 2.** Kai nukrenta motyvacija, ieškome įvairių priežasčių atidėlioti nemalonius darbus. Tai vadinama prokrastinacija. Neuromokslininkai nustatė, kad prisiminus nemalonią veiklą yra aktyvuojamos smegenų dalys, atsakingos už skausmo pojūčius, o tai panašu į neigiamą dirgiklį, kurios stengsimės vengti. Atidėliojimas paskatina tolimesnius nemalonumus. Norint išeiti iš šio užburto rato galime taikyti [Pomodoro techniką](https://www.pasimokome.lt/tag/pomodoro/)[13] Pagrindinė technikos esmė – jūs skiriate 25 minutes užduočiai. Per šias 25 minutes jums niekas neturi trukdyti – telefonas, kompiuteris, televizorius, pašaliniai žmonės. Šios 25 minutės ir yra vadinamos pomodorais. Praėjus 25 minutėms, pailsėkite 5 minutes. Po to vėl 25 minutes susikoncentruokite tik į užduotį. Kartokite šiuos veiksmus 4 kartus. Po 4 kartų pasidarykite ilgesnę pertraukėlę. \n",
    "\n",
    "**Pavyzdys 3.** Neuromokslininkai taip pat nustatė, kad mokymosi proceso dalis yra ir poilsis (miegas, pasivaikščiojimas, įdomus pokalbis). Mąstymas gali būti ne tik fokusuotas, bet ir difuzinis. Smegenų sandara neleidžia dirbti šiais dviem režimais vienu metu. Arba gilinamės į tam tikrą problemą, arba esame poilsyje. Poilsio metu neuronai stimuliuojami ne konkrečioje dalyje, o chaotiškesnėse dalyse, todėl po miego esame daug geriau pasiruošę priimti naują informaciją. Iš dalies todėl ir mokymasis paskutinę naktį neduoda tokių gerų rezultatų kaip trumpesni reguliarūs kartojimai."
   ]
  },
  {
   "cell_type": "markdown",
   "metadata": {},
   "source": [
    "## Kiti atminties procesai\n",
    "\n",
    "Per užsiėmimą papasakojau, kad darbinėje atmintyje telpa tik labai mažas informacijos kiekis. Jei norime, kad uždavinių sprendimas taptų nesudėtingu, savaiminiu procesu, turime žinias kompresuoti: surasti būdą operuoti talpesnėmis atminties struktūromis, sujungiančiomis kelias atminties vienetus į vieną. Toks virsmas gali įgyti tik saveikaujant dviem mokymosi būdams: kategorizavimui ir įsisavinimui. Kaip pavyzdį nagrinėjome, kokie būna kompresijos etapai, kai sudedame du skaičius. Taip pat minėjau, kad jei ilgesnį laiką nesigauna kompresuoti žinių, tai pereinama prie vengiančio stiliaus mokymosi, kuris apsiriboja vien procedūrų atlikimu ir siekimu mokytis tik tam, kad nesusigadintume pažymio. Plačiau apie apie kategorizavimui ir įsisavinimą siūlau paskaityti Mokslo Populiarinimo Konkurso straipnyje."
   ]
  },
  {
   "cell_type": "markdown",
   "metadata": {},
   "source": [
    "## Fizika"
   ]
  },
  {
   "cell_type": "markdown",
   "metadata": {},
   "source": [
    "Pažintį su fizika pradėjome nuo filmuko apie mikroskopinį pasaulį. Šiame pasaulyje niekad neatsidursime, tad vieninteliai būdai jį pažinti yra žiūrėti simuliacijas, atlikti mintinius eksperimentus, asocijuoti, nagrinėti objektų savybes, apibrėžimus. Stebėtame pavyzdyje vienas po kito buvo priartinti įvairūs objektai, kurių plika akimi pamatyti neįmanoma.\n",
    "\n"
   ]
  },
  {
   "cell_type": "markdown",
   "metadata": {},
   "source": [
    "|Objektas|Apibrėžimas|\n",
    "|:---:|:---|\n",
    "|Ląstelė|Gyvų organizmų struktūrinis vienetas, gebantis savarankiškai egzistuoti, vystytis ir daugintis|\n",
    "|Makrofibrilės, mikrofibrilės, protofibrilės|Kai kurių ląstelių arba tarpląstelinės medžiagos skaidulėlės, susidedančios iš baltymo molekulių|\n",
    "|Baltymas|Iš aminorūgščių sudarytos makromolekulės|\n",
    "|Aminorūgštys|Grupė organinių junginių, kurie turi mažiausiai po vieną amino grupę ($-NH_2$) bei karboksilo grupę ($-COOH$)|\n",
    "|Makromolekulės, mikromolekulės|Molekulės, kurios gali turėti labai daug arba ne tiek daug atomų|\n",
    "|Atomas|Mažiausias medžiagos elementas, neskaidomas į kitas medžiagas|\n",
    "|Elektronas|Elementarioji (subatominė) neigiamo krūvio dalelė, skriejanti aplink atomo branduolį|\n",
    "|Orbitalė|Trajektorija, kuria elektronas skrieja apie atomo branduolį|\n",
    "|Protonas|Elementarioji teigiamo krūvio elektringoji dalelė, esanti atomo branduolyje|\n",
    "|Neutronas|Elementarioji neturinti krūvio dalelė, esanti atomo branduolyje|\n",
    "|Neutrinas|Elementarioji dalelė, turinti masę, bet mažesnę už kitas žinomas elementariąsias daleles|\n",
    "|Krintantieji ir kylantieji kvarkai|Elementariosios dalelės, esančios protonų ir neutronų sudėtyje|"
   ]
  },
  {
   "cell_type": "markdown",
   "metadata": {},
   "source": [
    "Norint geriau pažinti įvairius fizikinius reiškinius, reiktų pagalvoti, kaip elgiasi įvairių dydžių objektai. Skirtingi masteliai mus supančiame pasaulyje pateikia skirtingų reiškinių, turinčių daug bendro. Pavyzdžiuose yra pateikiamos situacijos, kurias galima suprasti tik kuriant objektus ir reiškinius mintyse, t.y. atliekant mintinius eksperimentus.\n",
    "\n",
    "**Pavyzdys 1** Sunku įsivaizduoti, kodėl supernovos sprogsta, o galiausiai kolapsuoja į keliasdešimt kilometrų skersmens neutronines žvaigždes arba juodąsias skyles. Tačiau esame girdėję, kad traukos ir stūmos jėgos padeda tarp elekronų ir protonų išlaikyti atstumą. Kolapso metu gravitacija tampa tokia stipria, kad elektronai prisispaudžia prie protonų ir sudaro naujas daleles: neutronus ir neutrinus. Nieko keisto, kad netikėtai pasikeitusios sandaros materija ir elgsis netikėtai: taps 50km skersmens kūnu, sveriančiu kelias Saulės mases. Tai - geras pavyzdys, kai $10^{24}$ didesniuose masteliuose vykstantys reiškiniai gali būti paaiškinti remiantis elementariųjų dalelių fizika.\n",
    "\n",
    "**Pavyzdys 2** Kodėl elektronai sukasi apie protoną? Paprasčiau yra įsivaizduoti Žemės ir Mėnulio sąveiką. Žemės trauka iškreipia tiesiaeigį Mėnulio judėjimą taip, kad jis suktųsi ratu. Jėga, kuria du kosminiai kūnai vienas kitą veikia, vadinama gravitacijos jėga, yra proporcinga jų masėms ir atvirkščiai proporcinga atstumams. Tuo tarpu elektronas ir protonas vienas kitą veikia elektrostatine jėga, proporcinga jų krūviams ir atvirkščiai proporcinga atstumui tarp jų. Turime dvi sistemas, besielgiančias labai panašiai. Krūvio savybės šioje sistemoje labai panašios į masės. Tik skiriasi masteliai: jei protonas būtų kaip krepšinio kamuolys, tai elektronas būtų tokio dydžio kaip žirnis, nutolęs iki 50km nuo protono. Mokydamiesi suprasti naują nematytą reiškinį, **asimiliuojame:** aiškiname naują patyrimą pagal tas schemas, kurias jau turime.\n",
    "\n",
    "https://chem.libretexts.org/Bookshelves/Physical_and_Theoretical_Chemistry_Textbook_Maps/Supplemental_Modules_(Physical_and_Theoretical_Chemistry)/Quantum_Mechanics/09._The_Hydrogen_Atom/Atomic_Theory/Why_atoms_do_not_Collapse\n",
    "\n",
    "**Pavyzdys 3** Anksčiau matėme, kad elektronų orbitalės, ne taip kaip planetų, skriejančių aplink Saulę, orbitos, yra labai keistų formų. Vadinasi, tam tikri dėsniai veikia kitaip. Kas nulemia šį neatitikimą? Pasirodo, elektronas, judėdamas apskrita trajektorija, išspinduliuoja elektromagnetinę energiją, todėl netenka dalies kinetinės energijos, o kartu ir greičio. Tuo tarpu priartėjęs prie protono elektromagnetinę energiją kaip tik sugeria ir dėl to įgreitėja. Reikia nepamiršti, kad, jei elektronų yra daugiau, jie veiks vienas kitą tarpusavyje, dėl to ir judėjimas vyks ne vienoje plokštumoje. Išvada: elektronai elgiasi ne tik kaip kosminiai kūnai, bet ir kaip bangos. **Asimiliavimo** šiuo atveju nepakako, reikėjo ir **akomoduoti** - keisti savo supratimo schemas, kad jos tiktų naujų potyrių detalėms.\n",
    "\n",
    "**Pavyzdys 4** Dar daugiau, elektronai stengiasi skrieti tokiomis orbitalėmis, kuriomis nebūtų sugeriama ar išspinduliuojama elektromagnetinė energija. Tokios nusistovėjusios orbitalės gali būti kelių skirtingai nutolusių nuo protono lygių, priklausomai nuo to, ar elektronas sugėrė energiją pernešančią elementarią dalelę fotoną. Cheminių reakcijų metu susidaro molekulės, atsiranda daugiau protonų, todėl orbitalės gali pasiskirstyti ir tarp kelių atomų.\n",
    "\n",
    "**Pavyzdys 5** Laisvieji ir kiti elektronai juda 2200km/s greičiu. Tai šiek tiek mažiau nei 1% šviesos greičio. Tačiau laidu tekant elektros srovei šie elektronai turi sąveikauti su begale kitų elektronų ir protonų, todėl kryptingas elektrono judėjimas tesiekia milimetro dalis per sekundę. O elektrinis signalas skrenda artišviesiniu greičiu. Kaip tai gali atsitikti? Geriausiai šį reiškinį įsivaizduoti padeda tiesia linija sustatyta rutuliukų krūvelė. Galime stumtelti vieną rutuliuką labai lėtai, tačiau signalas bus perduotas beveik akimirkniu: paskutinis rutuliukas pasislinks vos palietus pirmąjį.\n",
    "\n",
    "**Pavyzdys 6** Kas vyksta su atomais, kai stumiame daiktą tam tikra jėga? Kiekvienoje medžiagoje atomus veikia traukos ir stūmos jėgos, perduodamos per protonų ir elektronų sąveikas. Todėl atomai nuolat susiduria ir keičia judėjimą įvairiomis kryptimis. Kai pastumiame kokį nors daiktą, atstumai tarp atomų sumažėja, padaugėja susidūrimų. Atomai stengiasi išlaikyti rimties būseną, kurioje buvo ir taip padidėja stūmos jėgos tarp atomų. \n",
    "\n"
   ]
  },
  {
   "cell_type": "markdown",
   "metadata": {},
   "source": [
    "## Praktika\n",
    "Labai daug kalbėjome apie atminties ir mąstymo savybes, tinkamas fizikai, tai dabar metas išbandyti šias žinias praktiškai studijuojant fizikos vadovėlį. Iš pradžių pateiksiu dydžio apibrėžimą:\n",
    "\n",
    "**Dydis - tai objekto ar reiškinio savybė, kuriai priskiriame skaičių pasirinkdami matavimo vienetą**\n",
    "\n",
    "Panaši dydžio samprata buvo pasiūlyta maždaug prieš 200m. Dydis atsako į klausimą *kas matuojama*, matavimo vienetas - *kuo matuojama*, skaičius - tai kas gaunama išmatavus ar kitaip suskaičiavus dydžio skaitinę reikšmę. Struktūriškai dydžių sudėtis ir atimtis yra labai panaši tiek su vienanarių analogiškomis operacijomis, tiek su suskaičiuojamų objektų operacijomis, o kiti aritmetiniai veiksmai duoda naujus dydžius. Pavyzdžiui greičio pokytis per laiką duos pagreitį, kuris matuojamas $m/s^2$. Kiekviename fizikos skyriuje dažnai kalbame apie kokį nors dydį. Visada verta pagalvoti:\n",
    "\n",
    "* kaip galėtų atrodyti eksperimentas, pagrindžiantis jo prasmę?\n",
    "* kaip galėtų atrodyti eksperimentas, pagrindžiantis jo ryšį su kitais dydžiais? (kartais tai yra tas pats eksperimentas)\n",
    "* kokių analogiškų sistemų, turinčių kitokius dydžius galime rasti?\n",
    "* ar šio sistemos turi kokių nors esminių skirtumų?\n",
    "* ar duotoje sąryšio formulėje galima lengvai rasti kitus dydžius (jei jie būtų nežinomieji)?\n",
    "* kaip buvo apsispręsta, kas bus matavimo vienetas?\n",
    "* apie istorinį laikotarpį, per kurį buvo įvestas dydis ar sąryšis (jei įdomu)?"
   ]
  }
 ],
 "metadata": {
  "kernelspec": {
   "display_name": "Python 3",
   "language": "python",
   "name": "python3"
  },
  "language_info": {
   "codemirror_mode": {
    "name": "ipython",
    "version": 3
   },
   "file_extension": ".py",
   "mimetype": "text/x-python",
   "name": "python",
   "nbconvert_exporter": "python",
   "pygments_lexer": "ipython3",
   "version": "3.8.3"
  }
 },
 "nbformat": 4,
 "nbformat_minor": 4
}
