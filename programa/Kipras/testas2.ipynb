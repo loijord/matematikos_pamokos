{
 "cells": [
  {
   "cell_type": "code",
   "execution_count": 7,
   "metadata": {},
   "outputs": [],
   "source": [
    "#check_skills('licejus/2017', '4b') #Nusistatome, kiek dalių turi uždavinys, ką joms reikia mokėti\n",
    "#display(Markdown(show_case('licejus/2017', '2', which=1, show_solution=True))) # Paprašome suflerio\n",
    "#display(Markdown(show_problem('licejus/2017', '6', show_solution=True))) # Pilnas sprendimas\n",
    "problems = [('licejus/2017', '7a')]"
   ]
  },
  {
   "cell_type": "code",
   "execution_count": 20,
   "metadata": {},
   "outputs": [
    {
     "data": {
      "text/markdown": [
       "# Uždaviniai"
      ],
      "text/plain": [
       "<IPython.core.display.Markdown object>"
      ]
     },
     "metadata": {},
     "output_type": "display_data"
    },
    {
     "data": {
      "text/markdown": [
       "**Užduotis 4a.**\n",
       "\n",
       "Lygiašonės trapecijos $ABCD$ trumpesnysis pagrindas $BC$ lygus šoninėms kraštinėms. Trapecijos perimetras lygus 124 cm, o pagrindų ilgiai sutinka santykiu 13:23. Parodykite, kad trumpesnysis trapecijos pagrindas lygus 26cm. [1tšk.]"
      ],
      "text/plain": [
       "<IPython.core.display.Markdown object>"
      ]
     },
     "metadata": {},
     "output_type": "display_data"
    },
    {
     "data": {
      "text/markdown": [
       "**Užduotis 4b.**\n",
       "\n",
       "Lygiašonės trapecijos $ABCD$ trumpesnysis pagrindas $BC$ yra tokio paties ilgio kaip šoninės kraštinės ir lygus 26 cm. Trapecijos pagrindų ilgiai sutinka santykiu 13:23. Raskite šios trapecijos plotą. [3tšk.]"
      ],
      "text/plain": [
       "<IPython.core.display.Markdown object>"
      ]
     },
     "metadata": {},
     "output_type": "display_data"
    },
    {
     "data": {
      "text/markdown": [
       "**Užduotis 7a.**\n",
       "\n",
       "Taškas $P$ yra stačiakampio $ABCD$ $(AB<BC)$ kraštinės $BC$ taškas, $AP$ - kampo $BAD$ pusiaukampinė. Žinoma, kad $PO$ yra statmena stačiakampio įstrižainei $AC$ ir taškas $O$ dalija šią įstrižainę pusiau. Apskaičiuokite kampo $CAD$ didumą [4tšk.]"
      ],
      "text/plain": [
       "<IPython.core.display.Markdown object>"
      ]
     },
     "metadata": {},
     "output_type": "display_data"
    },
    {
     "data": {
      "text/markdown": [
       "**Užduotis 7b.**\n",
       "\n",
       "Taškas $P$ yra stačiakampio $ABCD$ $(AB<BC)$ kraštinės $BC$ taškas, $AP$ - kampo $BAD$ pusiaukampinė. Žinoma, kad $PO$ yra statmena stačiakampio įstrižainei $AC$ ir taškas $O$ dalija šią įstrižainę pusiau. Užrašykite formulę, kuria remiantis būtų galima apskaičiuoti trikampio $APO$ plotą, kai žinomos stačiakampio kraštinės $AB = a$ ir $BC = b$ [2tšk.]"
      ],
      "text/plain": [
       "<IPython.core.display.Markdown object>"
      ]
     },
     "metadata": {},
     "output_type": "display_data"
    },
    {
     "data": {
      "text/markdown": [
       "**Užduotis 1a.**\n",
       "\n",
       "DEMONSTRACIJA. Stačiakampis padalintas į keturis stačiakampius atkarpomis, lygiagrečiomis jo kraštinėms, kaip pavaizduota. Viena iš atkarpų dalija stačiakampio kraštinę į atkarpas, kurių ilgiai yra $a$ ir $b$, o kita - į atkarpas, kurių ilgiai yra $c$ ir $d$. Remdamiesi geometrijos žiniomis įrodykite tapatybę $(a+b)(c+d)=ac+ad+bc+bd$ ![](simonas\\proof_distr_basic.PNG)"
      ],
      "text/plain": [
       "<IPython.core.display.Markdown object>"
      ]
     },
     "metadata": {},
     "output_type": "display_data"
    },
    {
     "data": {
      "text/markdown": [
       "**Užduotis 1b.**\n",
       "\n",
       "GEOMETRINIS UŽDAVINYS. Stačiakampis padalintas į keturis stačiakampius atkarpomis, lygiagrečiomis jo kraštinėms, kaip pavaizduota. Viena iš atkarpų dalija stačiakampio kraštinę į atkarpas, kurių ilgiai yra $a$ ir $b$, o kita - į atkarpas, kurių ilgiai yra $c$ ir $d$. Remdamiesi geometrijos žiniomis įrodykite tapatybę $(a+b)(c+d)=ac+ad+bc+bd$ ![](simonas\\proof_distr_basic.PNG)"
      ],
      "text/plain": [
       "<IPython.core.display.Markdown object>"
      ]
     },
     "metadata": {},
     "output_type": "display_data"
    },
    {
     "data": {
      "text/markdown": [
       "**Užduotis 2.**\n",
       "\n",
       "Į kvadratą yra įbrėžtas kitas kvadratas iškerta jame keturis stačiuosius trikampius. Vieno iš trikampių statiniai lygūs $a$ ir $b$. Įrodykite, kad įbrėžto kvadrato kraštinės ilgis lygus $\\sqrt{a^2+b^2}$"
      ],
      "text/plain": [
       "<IPython.core.display.Markdown object>"
      ]
     },
     "metadata": {},
     "output_type": "display_data"
    },
    {
     "data": {
      "text/markdown": [
       "**Užduotis 2.**\n",
       "\n",
       "Į kvadratą yra įbrėžtas kitas kvadratas iškerta jame keturis stačiuosius trikampius. Vieno iš trikampių statiniai lygūs $a$ ir $b$. Įrodykite, kad įbrėžto kvadrato kraštinės ilgis lygus $\\sqrt{a^2+b^2}$"
      ],
      "text/plain": [
       "<IPython.core.display.Markdown object>"
      ]
     },
     "metadata": {},
     "output_type": "display_data"
    },
    {
     "data": {
      "text/markdown": [
       "# Uždavinių dalys"
      ],
      "text/plain": [
       "<IPython.core.display.Markdown object>"
      ]
     },
     "metadata": {},
     "output_type": "display_data"
    },
    {
     "data": {
      "text/markdown": [
       "**Užduotis 4a.**\n",
       "\n",
       "Lygiašonės trapecijos $ABCD$ trumpesnysis pagrindas $BC$ lygus šoninėms kraštinėms. Trapecijos perimetras lygus 124 cm, o pagrindų ilgiai sutinka santykiu 13:23. Parodykite, kad trumpesnysis trapecijos pagrindas lygus 26cm. [1tšk.]"
      ],
      "text/plain": [
       "<IPython.core.display.Markdown object>"
      ]
     },
     "metadata": {},
     "output_type": "display_data"
    },
    {
     "data": {
      "text/markdown": [
       "**Uždavinio dalis 1 iš 4b, kurioje yra Keturkampių savybės.**\n",
       "\n",
       "![](licejus\\lic2017_4b_step1.PNG)"
      ],
      "text/plain": [
       "<IPython.core.display.Markdown object>"
      ]
     },
     "metadata": {},
     "output_type": "display_data"
    },
    {
     "data": {
      "text/markdown": [
       "**Uždavinio dalis 2 iš 4b, kurioje yra Pitagoro teorema.**\n",
       "\n",
       "Stačiojo trikampio įžambinės ilgis lygus 26 cm, o vieno statinio ilgis lygus 10 cm. Raskite kito statinio ilgį"
      ],
      "text/plain": [
       "<IPython.core.display.Markdown object>"
      ]
     },
     "metadata": {},
     "output_type": "display_data"
    },
    {
     "data": {
      "text/markdown": [
       "**Uždavinio dalis 3 iš 4b, kurioje yra Keturkampių savybės.**\n",
       "\n",
       "Trapecijos pagrindų ilgiai lygūs 26cm ir 46cm, o aukštinės ilgis yra 10cm. Raskite šios trapecijos plotą"
      ],
      "text/plain": [
       "<IPython.core.display.Markdown object>"
      ]
     },
     "metadata": {},
     "output_type": "display_data"
    },
    {
     "data": {
      "text/markdown": [
       "**Uždavinio dalis 1 iš 7a, kurioje yra Trikampių savybės.**\n",
       "\n",
       "Įrodykite, kad $\\triangle APO = \\triangle POC$ ![](licejus\\lic2017_7a.PNG)"
      ],
      "text/plain": [
       "<IPython.core.display.Markdown object>"
      ]
     },
     "metadata": {},
     "output_type": "display_data"
    },
    {
     "data": {
      "text/markdown": [
       "**Uždavinio dalis 2 iš 7a, kurioje yra Trikampių savybės.**\n",
       "\n",
       "Duota, kad $\\triangle APO = \\triangle POC$. Įrodykite, kad $\\angle PAO=\\angle PCO$ ![](licejus\\lic2017_7a.PNG)"
      ],
      "text/plain": [
       "<IPython.core.display.Markdown object>"
      ]
     },
     "metadata": {},
     "output_type": "display_data"
    },
    {
     "data": {
      "text/markdown": [
       "**Uždavinio dalis 3 iš 7a, kurioje yra Trikampių savybės.**\n",
       "\n",
       "Duota, kad $\\angle PAO=\\angle PCO$. Raskite šiuos kampus remdamiesi brėžiniu"
      ],
      "text/plain": [
       "<IPython.core.display.Markdown object>"
      ]
     },
     "metadata": {},
     "output_type": "display_data"
    },
    {
     "data": {
      "text/markdown": [
       "**Uždavinio dalis 4 iš 7a, kurioje yra Kampų rūšys.**\n",
       "\n",
       "Stačiakampio vienas iš kampų yra padalytas į tris kampus, iš kurių du lygūs $45^o$ ir $22.5$. Kam lygus trečiasis kampas?"
      ],
      "text/plain": [
       "<IPython.core.display.Markdown object>"
      ]
     },
     "metadata": {},
     "output_type": "display_data"
    },
    {
     "data": {
      "text/markdown": [
       "**Uždavinio dalis 1 iš 7b, kurioje yra Pitagoro teorema.**\n",
       "\n",
       "BRĖŽINYS: ![](licejus\\lic2017_7a.PNG) | **DUOTA:** <ul><li> $ABCD$ - stačiakampis </li><li>$$\\angle BAP=\\angle PAD$$ </li><li> $$PO\\perp AC$$ </li><li>$$AO = OC$$</li><li>$$AB=a$$</li><li>$$BC=b$$</ul> **RASTI:** <ul><li>$AP$, $AO$</li></ul> \n",
       " :---|:---"
      ],
      "text/plain": [
       "<IPython.core.display.Markdown object>"
      ]
     },
     "metadata": {},
     "output_type": "display_data"
    },
    {
     "data": {
      "text/markdown": [
       "**Uždavinio dalis 2 iš 7b, kurioje yra Pitagoro teorema.**\n",
       "\n",
       "BRĖŽINYS: ![](licejus\\lic2017_7a.PNG) | **DUOTA:** <ul><li> $\\angle AOP = 90^o$ </li><li>$$AP=a\\sqrt{2}$$</li><li>$$AO=\\frac{\\sqrt{a^2+b^2}}{2}$$</ul> **RASTI:** <ul><li>$$S_{\\triangle APO}$$</li></ul> \n",
       " :---|:---"
      ],
      "text/plain": [
       "<IPython.core.display.Markdown object>"
      ]
     },
     "metadata": {},
     "output_type": "display_data"
    },
    {
     "data": {
      "text/markdown": [
       "**Uždavinio dalis 1 iš 1a, kurioje yra Keturkampių savybės.**\n",
       "\n",
       "Remdamiesi brėžiniu raskite kiekvieno spalvoto stačiakampio plotą ir tada užrašykite jų bendrą plotą ![](simonas\\proof_distr_basic.PNG)"
      ],
      "text/plain": [
       "<IPython.core.display.Markdown object>"
      ]
     },
     "metadata": {},
     "output_type": "display_data"
    },
    {
     "data": {
      "text/markdown": [
       "**Uždavinio dalis 2 iš 1a, kurioje yra Keturkampių savybės.**\n",
       "\n",
       "Remdamiesi brėžiniu raskite stačiakampio plotą ![](simonas\\proof_distr_basic_step2.PNG)"
      ],
      "text/plain": [
       "<IPython.core.display.Markdown object>"
      ]
     },
     "metadata": {},
     "output_type": "display_data"
    },
    {
     "data": {
      "text/markdown": [
       "**Uždavinio dalis 1 iš 1b, kurioje yra Keturkampių savybės.**\n",
       "\n",
       "BRĖŽINYS: ![](simonas\\proof_distr.PNG) | **DUOTA:** <ul><li> $ABCD$ - kvadratas </li><li>$$EG||BC$$ </li><li> $$FH||AB$$</li><li> $$AE=a, EB=b, BF=c, FC=d$$</ul> **ĮRODYTI:** <ul><li>$EBFO$, $OFCG$, $OGDH$ ir $OHAE$ - stačiakampiai</li></ul> \n",
       " :---|:--- \n"
      ],
      "text/plain": [
       "<IPython.core.display.Markdown object>"
      ]
     },
     "metadata": {},
     "output_type": "display_data"
    },
    {
     "data": {
      "text/markdown": [
       "**Uždavinio dalis 2 iš 1b, kurioje yra Keturkampių savybės.**\n",
       "\n",
       "BRĖŽINYS: ![](simonas\\proof_distr.PNG) | **DUOTA:** <ul><li> $ABCD$ - kvadratas </li><li>$$EG||BC$$ </li><li> $$FH||AB$$</li><li> $$AE=a, EB=b, BF=c, FC=d$$</ul> **RASTI:** <ul><li>$$S_{EBFO}+S_{OFCG}+S_{OGDH}+S_{OHAE}$$</li></ul> \n",
       " :---|:--- \n"
      ],
      "text/plain": [
       "<IPython.core.display.Markdown object>"
      ]
     },
     "metadata": {},
     "output_type": "display_data"
    },
    {
     "data": {
      "text/markdown": [
       "**Uždavinio dalis 3 iš 1b, kurioje yra Keturkampių savybės.**\n",
       "\n",
       "BRĖŽINYS: ![](simonas\\proof_distr_step2.PNG) | **DUOTA:** <ul><li> $ABCD$ - kvadratas </li><li> $$AE=a, EB=b, BF=c, FC=d$$</ul> **RASTI:** <ul><li>$$S_{ABCD}$$</li></ul> \n",
       " :---|:--- \n"
      ],
      "text/plain": [
       "<IPython.core.display.Markdown object>"
      ]
     },
     "metadata": {},
     "output_type": "display_data"
    },
    {
     "data": {
      "text/markdown": [
       "**Uždavinio dalis 1 iš 2, kurioje yra Trikampių savybės.**\n",
       "\n",
       "BRĖŽINYS: ![](simonas\\proof_pyth.PNG) | **DUOTA:** <ul><li> $ABCD$ ir $XYZT$ - kvadratai </li><li>$$AX=a$$ </li><li> $$AY=b$$</ul> **ĮRODYTI:** <ul><li>$\\angle BXY = \\angle CYZ$</li></ul> \n",
       " :---|:--- \n"
      ],
      "text/plain": [
       "<IPython.core.display.Markdown object>"
      ]
     },
     "metadata": {},
     "output_type": "display_data"
    },
    {
     "data": {
      "text/markdown": [
       "**Uždavinio dalis 2 iš 2, kurioje yra Trikampių savybės.**\n",
       "\n",
       "BRĖŽINYS: ![](simonas\\proof_pyth_2.PNG) | **DUOTA:** <ul><li> $ABCD$ ir $XYZT$ - kvadratai </li><li>$$AX=a$$ </li><li> $$AY=b$$ </li><li>$\\angle BXY = \\angle CYZ$</ul> **ĮRODYTI:** <ul><li>$\\triangle BXY =\\triangle CYZ = \\triangle CYZ = \\triangle ZDT$</li></ul> \n",
       " :---|:--- \n"
      ],
      "text/plain": [
       "<IPython.core.display.Markdown object>"
      ]
     },
     "metadata": {},
     "output_type": "display_data"
    },
    {
     "data": {
      "text/markdown": [
       "**Uždavinio dalis 3 iš 2, kurioje yra Trikampių savybės.**\n",
       "\n",
       "BRĖŽINYS: ![](simonas\\proof_pyth_3.PNG) | **DUOTA:** <ul><li> $ABCD$ ir $XYZT$ - kvadratai </li><li>$$AX=a$$ </li><li> $$AY=b$$ </li><li>$$\\triangle BXY = \\triangle CYZ = \\triangle CYZ = \\triangle ZDT$$</ul> **RASTI:** <ul><li>$$S_{\\triangle BXY} + S_{\\triangle CYZ} + S_{\\triangle CYZ} + S_{\\triangle ZDT}$$</li></ul> \n",
       " :---|:--- \n"
      ],
      "text/plain": [
       "<IPython.core.display.Markdown object>"
      ]
     },
     "metadata": {},
     "output_type": "display_data"
    },
    {
     "data": {
      "text/markdown": [
       "**Uždavinio dalis 4 iš 2, kurioje yra Keturkampių savybės.**\n",
       "\n",
       "BRĖŽINYS: ![](simonas\\proof_pyth_3.PNG) | **DUOTA:** <ul><li> $ABCD$ ir $XYZT$ - kvadratai </li><li>$$AX=a$$ </li><li> $$AY=b$$ </li><li>$$\\triangle BXY = \\triangle CYZ = \\triangle CYZ = \\triangle ZDT$$</ul> **RASTI:** <ul><li>$$S_{ABCD}$$</li></ul> \n",
       " :---|:--- \n"
      ],
      "text/plain": [
       "<IPython.core.display.Markdown object>"
      ]
     },
     "metadata": {},
     "output_type": "display_data"
    },
    {
     "data": {
      "text/markdown": [
       "**Uždavinio dalis 5 iš 2, kurioje yra Keturkampių savybės.**\n",
       "\n",
       "BRĖŽINYS: ![](simonas\\proof_pyth_5.PNG) | **DUOTA:** <ul><li> $ABCD$ ir $XYZT$ - kvadratai </li><li> $$XY=c$$ </li><li>$$S_{\\triangle BXY} + S_{\\triangle CYZ}+ S_{\\triangle CYZ} + S_{\\triangle ZDT}=2ab$$</ul> **RASTI:** <ul><li>$$S_{ABCD}$$</li></ul> \n",
       " :---|:--- \n"
      ],
      "text/plain": [
       "<IPython.core.display.Markdown object>"
      ]
     },
     "metadata": {},
     "output_type": "display_data"
    },
    {
     "data": {
      "text/markdown": [
       "**Uždavinio dalis 6 iš 2, kurioje yra Greitosios daugybos formulės.**\n",
       "\n",
       "Duota, kad $(a+b)^2=c^2+2ab$, kur $a$ ir $b$ yra tam tikri žinomi dydžiai. Raskite nežinomojo $c$ reikšmę"
      ],
      "text/plain": [
       "<IPython.core.display.Markdown object>"
      ]
     },
     "metadata": {},
     "output_type": "display_data"
    },
    {
     "data": {
      "text/markdown": [
       "**Uždavinio dalis 1 iš 2, kurioje yra Trikampių savybės.**\n",
       "\n",
       "BRĖŽINYS: ![](simonas\\proof_pyth.PNG) | **DUOTA:** <ul><li> $ABCD$ ir $XYZT$ - kvadratai </li><li>$$AX=a$$ </li><li> $$AY=b$$</ul> **ĮRODYTI:** <ul><li>$\\angle BXY = \\angle CYZ$</li></ul> \n",
       " :---|:--- \n"
      ],
      "text/plain": [
       "<IPython.core.display.Markdown object>"
      ]
     },
     "metadata": {},
     "output_type": "display_data"
    },
    {
     "data": {
      "text/markdown": [
       "**Uždavinio dalis 2 iš 2, kurioje yra Trikampių savybės.**\n",
       "\n",
       "BRĖŽINYS: ![](simonas\\proof_pyth_2.PNG) | **DUOTA:** <ul><li> $ABCD$ ir $XYZT$ - kvadratai </li><li>$$AX=a$$ </li><li> $$AY=b$$ </li><li>$\\angle BXY = \\angle CYZ$</ul> **ĮRODYTI:** <ul><li>$\\triangle BXY =\\triangle CYZ = \\triangle CYZ = \\triangle ZDT$</li></ul> \n",
       " :---|:--- \n"
      ],
      "text/plain": [
       "<IPython.core.display.Markdown object>"
      ]
     },
     "metadata": {},
     "output_type": "display_data"
    },
    {
     "data": {
      "text/markdown": [
       "**Uždavinio dalis 3 iš 2, kurioje yra Trikampių savybės.**\n",
       "\n",
       "BRĖŽINYS: ![](simonas\\proof_pyth_3.PNG) | **DUOTA:** <ul><li> $ABCD$ ir $XYZT$ - kvadratai </li><li>$$AX=a$$ </li><li> $$AY=b$$ </li><li>$$\\triangle BXY = \\triangle CYZ = \\triangle CYZ = \\triangle ZDT$$</ul> **RASTI:** <ul><li>$$S_{\\triangle BXY} + S_{\\triangle CYZ} + S_{\\triangle CYZ} + S_{\\triangle ZDT}$$</li></ul> \n",
       " :---|:--- \n"
      ],
      "text/plain": [
       "<IPython.core.display.Markdown object>"
      ]
     },
     "metadata": {},
     "output_type": "display_data"
    },
    {
     "data": {
      "text/markdown": [
       "**Uždavinio dalis 4 iš 2, kurioje yra Keturkampių savybės.**\n",
       "\n",
       "BRĖŽINYS: ![](simonas\\proof_pyth_3.PNG) | **DUOTA:** <ul><li> $ABCD$ ir $XYZT$ - kvadratai </li><li>$$AX=a$$ </li><li> $$AY=b$$ </li><li>$$\\triangle BXY = \\triangle CYZ = \\triangle CYZ = \\triangle ZDT$$</ul> **RASTI:** <ul><li>$$S_{ABCD}$$</li></ul> \n",
       " :---|:--- \n"
      ],
      "text/plain": [
       "<IPython.core.display.Markdown object>"
      ]
     },
     "metadata": {},
     "output_type": "display_data"
    },
    {
     "data": {
      "text/markdown": [
       "**Uždavinio dalis 5 iš 2, kurioje yra Keturkampių savybės.**\n",
       "\n",
       "BRĖŽINYS: ![](simonas\\proof_pyth_5.PNG) | **DUOTA:** <ul><li> $ABCD$ ir $XYZT$ - kvadratai </li><li> $$XY=c$$ </li><li>$$S_{\\triangle BXY} + S_{\\triangle CYZ}+ S_{\\triangle CYZ} + S_{\\triangle ZDT}=2ab$$</ul> **RASTI:** <ul><li>$$S_{ABCD}$$</li></ul> \n",
       " :---|:--- \n"
      ],
      "text/plain": [
       "<IPython.core.display.Markdown object>"
      ]
     },
     "metadata": {},
     "output_type": "display_data"
    },
    {
     "data": {
      "text/markdown": [
       "**Uždavinio dalis 6 iš 2, kurioje yra Greitosios daugybos formulės.**\n",
       "\n",
       "Duota, kad $(a+b)^2=c^2+2ab$, kur $a$ ir $b$ yra tam tikri žinomi dydžiai. Raskite nežinomojo $c$ reikšmę"
      ],
      "text/plain": [
       "<IPython.core.display.Markdown object>"
      ]
     },
     "metadata": {},
     "output_type": "display_data"
    },
    {
     "data": {
      "text/markdown": [
       "# Uždavinių sprendimai"
      ],
      "text/plain": [
       "<IPython.core.display.Markdown object>"
      ]
     },
     "metadata": {},
     "output_type": "display_data"
    },
    {
     "data": {
      "text/markdown": [
       "**Užduotis 4a.**\n",
       "\n",
       "Lygiašonės trapecijos $ABCD$ trumpesnysis pagrindas $BC$ lygus šoninėms kraštinėms. Trapecijos perimetras lygus 124 cm, o pagrindų ilgiai sutinka santykiu 13:23. Parodykite, kad trumpesnysis trapecijos pagrindas lygus 26cm. [1tšk.]\n",
       "\n",
       "**Sprendimas.**\n",
       "* Tegu šie pagrindai lygūs 13x ir 23x.\n",
       "* Sudarome lygtį, aprašančią trapecijos perimetrą: $13x+13x+13x+23x=124$\n",
       "* $\\boxed{13x+13x+13x+23x=124} \\Rightarrow \\boxed{62x=124} \\Rightarrow \\boxed{x=2}$\n",
       "* Trumpesnysis trapecijos pagrindas: 13x=26(cm)"
      ],
      "text/plain": [
       "<IPython.core.display.Markdown object>"
      ]
     },
     "metadata": {},
     "output_type": "display_data"
    },
    {
     "data": {
      "text/markdown": [
       "**Užduotis 4b.**\n",
       "\n",
       "Lygiašonės trapecijos $ABCD$ trumpesnysis pagrindas $BC$ yra tokio paties ilgio kaip šoninės kraštinės ir lygus 26 cm. Trapecijos pagrindų ilgiai sutinka santykiu 13:23. Raskite šios trapecijos plotą. [3tšk.]\n",
       "\n",
       "**Sprendimas.**\n",
       "* BRĖŽINYS: ![](licejus\\lic2017_4b.PNG)\n",
       "* Sudarome proporciją ir nustatome likusią kraštinę: $\\boxed{\\begin{array}{rcl}26 cm &-& 13\\\\ x cm &-& 23\\end{array}} \\Rightarrow 13x=26\\cdot 23 \\Rightarrow x=2\\cdot 23 = 46$\n",
       "* Įbrėžiame į trapeciją lygiagretainį $ABCE$. $AB=CE=CD$, vadinasi $\\angle FEC = \\angle CDF$. Aukštinė dalija $ED$ pusiau.\n",
       "* $FD = \\frac{AD-AE}{2} = \\frac{AD-BC}{2}=\\frac{46-26}{2}=10 \\text{(cm)}$\n",
       "* Pagal Pitagoro teoremą $\\boxed{FD^2+CF^2 = CD^2} \\Rightarrow CF = \\sqrt{CD^2-FD^2} = \\sqrt{26^2-10^2} = 12$\n",
       "* Trapecijos plotas: $CF \\cdot \\frac{BC+AD}{2} = 10 \\cdot \\frac{26+46}{2} = 360 \\text{ (cm}^2)$"
      ],
      "text/plain": [
       "<IPython.core.display.Markdown object>"
      ]
     },
     "metadata": {},
     "output_type": "display_data"
    },
    {
     "data": {
      "text/markdown": [
       "**Užduotis 7a.**\n",
       "\n",
       "Taškas $P$ yra stačiakampio $ABCD$ $(AB<BC)$ kraštinės $BC$ taškas, $AP$ - kampo $BAD$ pusiaukampinė. Žinoma, kad $PO$ yra statmena stačiakampio įstrižainei $AC$ ir taškas $O$ dalija šią įstrižainę pusiau. Apskaičiuokite kampo $CAD$ didumą [4tšk.]\n",
       "\n",
       "**Sprendimas.**\n",
       "* BRĖŽINYS: ![](licejus\\lic2017_7a.PNG) | **DUOTA:** <ul><li> $ABCD$ - stačiakampis </li><li>$$\\angle BAP=\\angle PAD$$ </li><li> $$PO\\perp AC$$ </li><li>$$AO = OC$$</ul> **RASTI:** <ul><li>$\\angle CAD$</li></ul> \n",
       " :---|:--- \n",
       "\n",
       "* $\\triangle APO = \\triangle POC$, nes turi bendrą kraštinę $PO$, $AO=OC$ ir $\\angle AOP = POC = 90^o$\n",
       "* $\\triangle APC$ lygiašonis, todėl $\\angle PAO=\\angle PCO$\n",
       "* Turime $\\angle BAP=\\angle BAD/2=45^o$. Tegu $\\angle PAO = x$. Tada $\\angle BAP + \\angle PAC + \\angle ACB + \\angle CBA = 135^o + 2x = 180^o \\Rightarrow x=22.5^o$\n",
       "* Galiausiai $\\angle CAD = 90^o - \\angle BAP - \\angle PAO = 22.5^o$"
      ],
      "text/plain": [
       "<IPython.core.display.Markdown object>"
      ]
     },
     "metadata": {},
     "output_type": "display_data"
    },
    {
     "data": {
      "text/markdown": [
       "**Užduotis 7b.**\n",
       "\n",
       "Taškas $P$ yra stačiakampio $ABCD$ $(AB<BC)$ kraštinės $BC$ taškas, $AP$ - kampo $BAD$ pusiaukampinė. Žinoma, kad $PO$ yra statmena stačiakampio įstrižainei $AC$ ir taškas $O$ dalija šią įstrižainę pusiau. Užrašykite formulę, kuria remiantis būtų galima apskaičiuoti trikampio $APO$ plotą, kai žinomos stačiakampio kraštinės $AB = a$ ir $BC = b$ [2tšk.]\n",
       "\n",
       "**Sprendimas.**\n",
       "* BRĖŽINYS: ![](licejus\\lic2017_7a.PNG) | **DUOTA:** <ul><li> $ABCD$ - stačiakampis </li><li>$$\\angle BAP=\\angle PAD$$ </li><li> $$PO\\perp AC$$ </li><li>$$AO = OC$$</li><li>$$AB=a$$</li><li>$$BC=b$$</ul> **RASTI:** <ul><li>$S_{\\triangle APO}$</li></ul> \n",
       " :---|:--- \n",
       "\n",
       "* $\\triangle ABP$ kampai lygūs $90^o$, $45^o$ ir $180^o-90^0-45^o=45^o$. Todėl jis lygiašonis.\n",
       "* $AB=BP=a$. Pagal Pitagoro teoremą $AP=\\sqrt{a^2+a^2}=a\\sqrt{2}$\n",
       "* Pagal Pitagoro teoremą $AO = OC/2=\\frac{\\sqrt{a^2+b^2}}{2}$\n",
       "* Pagal Pitagoro teoremą $PO = \\sqrt{AP^2-AO^2} = \\sqrt{2a^2 - \\frac{a^2+b^2}{4}}=\\sqrt{\\frac{8a^2}{4} - \\frac{a^2+b^2}{4}} = \\sqrt{\\frac{7a^2-b^2}{4}}=\\frac{\\sqrt{7a^2-b^2}}{2}$$S_{\\triangle APO}=\\frac{AO \\cdot PO}{2}=\\frac{\\sqrt{a^2+b^2}}{2}\\cdot \\frac{\\sqrt{7a^2-b^2}}{2} \\cdot \\frac{1}{2} = \\frac{\\sqrt{(a^2+b^2)(7a^2-b^2)}}{8}$"
      ],
      "text/plain": [
       "<IPython.core.display.Markdown object>"
      ]
     },
     "metadata": {},
     "output_type": "display_data"
    },
    {
     "data": {
      "text/markdown": [
       "**Užduotis 1a.**\n",
       "\n",
       "DEMONSTRACIJA. Stačiakampis padalintas į keturis stačiakampius atkarpomis, lygiagrečiomis jo kraštinėms, kaip pavaizduota. Viena iš atkarpų dalija stačiakampio kraštinę į atkarpas, kurių ilgiai yra $a$ ir $b$, o kita - į atkarpas, kurių ilgiai yra $c$ ir $d$. Remdamiesi geometrijos žiniomis įrodykite tapatybę $(a+b)(c+d)=ac+ad+bc+bd$ ![](simonas\\proof_distr_basic.PNG)\n",
       "\n",
       "**Sprendimas.**\n",
       "* Spalvotų stačiakampių plotai lygūs $bc$, $bd$, $ac$, $ad$. Juos sudėję gauname $ac+ad+bc+bd$\n",
       "* Viso stačiakampio plotas lygus jo kraštinių ilgių sandaugai: $(a+b)(c+d)$. Vadinasi $(a+b)(c+d)=ac+ad+bc+bd$"
      ],
      "text/plain": [
       "<IPython.core.display.Markdown object>"
      ]
     },
     "metadata": {},
     "output_type": "display_data"
    },
    {
     "data": {
      "text/markdown": [
       "**Užduotis 1b.**\n",
       "\n",
       "GEOMETRINIS UŽDAVINYS. Stačiakampis padalintas į keturis stačiakampius atkarpomis, lygiagrečiomis jo kraštinėms, kaip pavaizduota. Viena iš atkarpų dalija stačiakampio kraštinę į atkarpas, kurių ilgiai yra $a$ ir $b$, o kita - į atkarpas, kurių ilgiai yra $c$ ir $d$. Remdamiesi geometrijos žiniomis įrodykite tapatybę $(a+b)(c+d)=ac+ad+bc+bd$ ![](simonas\\proof_distr_basic.PNG)\n",
       "\n",
       "**Sprendimas.**\n",
       "* BRĖŽINYS: ![](simonas\\proof_distr.PNG) | **DUOTA:** <ul><li> $ABCD$ - kvadratas </li><li>$$EG||BC$$ </li><li> $$FH||AB$$</li><li> $$AE=a, EB=b, BF=c, FC=d$$</ul> **ĮRODYTI:** <ul><li>$$(a+b)(c+d)=ac+ad+bc+bd$$</li></ul> \n",
       " :---|:--- \n",
       "\n",
       "* Keturkampis $EBFO$ turi dvi poras lygiagrečių kraštinių, todėl jis lygiagretainis. $\\angle ABC = 90^o$, todėl šis lygiagretainis yra stačiakampis. Analogiškai $OFCG$, $OGDH$ ir $OHAE$ - stačiakampiai.\n",
       "* $S_{EBFO}+S_{OFCG}+S_{OGDH}+S_{OHAE}=bc+bd+ac+ad$\n",
       "* $S_{EBFO}+S_{OFCG}+S_{OGDH}+S_{OHAE} = S_{ABCD}=(a+b)(c+d)$. Vadinasi, $(a+b)(c+d)=ac+ad+bc+bd$"
      ],
      "text/plain": [
       "<IPython.core.display.Markdown object>"
      ]
     },
     "metadata": {},
     "output_type": "display_data"
    },
    {
     "data": {
      "text/markdown": [
       "**Užduotis 2.**\n",
       "\n",
       "Į kvadratą yra įbrėžtas kitas kvadratas iškerta jame keturis stačiuosius trikampius. Vieno iš trikampių statiniai lygūs $a$ ir $b$. Įrodykite, kad įbrėžto kvadrato kraštinės ilgis lygus $\\sqrt{a^2+b^2}$\n",
       "\n",
       "**Sprendimas.**\n",
       "* BRĖŽINYS: ![](simonas\\proof_pyth.PNG) | **DUOTA:** <ul><li> $ABCD$ ir $XYZT$ - kvadratai </li><li>$$AX=a$$ </li><li> $$AY=b$$</ul> **ĮRODYTI:** <ul><li>$XY=\\sqrt{a^2+b^2}$</li></ul> \n",
       " :---|:--- \n",
       "\n",
       "* $\\begin{cases}\\angle BXY + \\angle BYX = 180^o - \\angle XBY = 180^o-90^o=90^o \\\\ \\angle CYZ + \\angle BYX = 180^o - \\angle XYZ = 180^o-90^o=90^o\\end{cases}$. Iš čia $\\angle BXY = \\angle CYZ$\n",
       "* Dvi $\\triangle BXY$ ir $\\triangle CYZ$ kampų poros sutampa, todėl sutampa ir trečioji pora. Taip pat $XY=YZ$. Vadinasi $\\triangle BXY = \\triangle CYZ$. Analogiškai $\\triangle CYZ = \\triangle ZDT$ ir $\\triangle ZDT = \\triangle XAT$\n",
       "* $S_{\\triangle BXY} + S_{\\triangle CYZ} + S_{\\triangle CYZ} + S_{\\triangle ZDT} = 4S_{\\triangle BXY} = 4\\cdot \\frac{ab}{2} = 2ab$\n",
       "* $BX=YC=a$, todėl kvadrato ploto formulę turime $S_{ABCD}=(a+b)^2$\n",
       "* Tegu $c$ yra įbrėžto kvadrato kraštinė. Tuomet $S_{ABCD}=S_{\\triangle BXY} + S_{\\triangle CYZ} + S_{\\triangle CYZ} + S_{\\triangle ZDT}+S_{XYZT}=2ab+c^2$\n",
       "* Užrašome lygybę, kurioje $S_{ABCD}$ skaičiuojamas dviem skirtingais būdais ir iš jos surandame $c$ reikšmę: \n",
       " $\\boxed{2ab+c^2 = (a+b)^2} \\Rightarrow \\boxed{2ab+c^2 = a^2+2ab+b^2} \\Rightarrow \\boxed{c^2 = a^2+b^2} \\Rightarrow \\boxed{c= \\sqrt{a^2+b^2}}$"
      ],
      "text/plain": [
       "<IPython.core.display.Markdown object>"
      ]
     },
     "metadata": {},
     "output_type": "display_data"
    },
    {
     "data": {
      "text/markdown": [
       "**Užduotis 2.**\n",
       "\n",
       "Į kvadratą yra įbrėžtas kitas kvadratas iškerta jame keturis stačiuosius trikampius. Vieno iš trikampių statiniai lygūs $a$ ir $b$. Įrodykite, kad įbrėžto kvadrato kraštinės ilgis lygus $\\sqrt{a^2+b^2}$\n",
       "\n",
       "**Sprendimas.**\n",
       "* BRĖŽINYS: ![](simonas\\proof_pyth.PNG) | **DUOTA:** <ul><li> $ABCD$ ir $XYZT$ - kvadratai </li><li>$$AX=a$$ </li><li> $$AY=b$$</ul> **ĮRODYTI:** <ul><li>$XY=\\sqrt{a^2+b^2}$</li></ul> \n",
       " :---|:--- \n",
       "\n",
       "* $\\begin{cases}\\angle BXY + \\angle BYX = 180^o - \\angle XBY = 180^o-90^o=90^o \\\\ \\angle CYZ + \\angle BYX = 180^o - \\angle XYZ = 180^o-90^o=90^o\\end{cases}$. Iš čia $\\angle BXY = \\angle CYZ$\n",
       "* Dvi $\\triangle BXY$ ir $\\triangle CYZ$ kampų poros sutampa, todėl sutampa ir trečioji pora. Taip pat $XY=YZ$. Vadinasi $\\triangle BXY = \\triangle CYZ$. Analogiškai $\\triangle CYZ = \\triangle ZDT$ ir $\\triangle ZDT = \\triangle XAT$\n",
       "* $S_{\\triangle BXY} + S_{\\triangle CYZ} + S_{\\triangle CYZ} + S_{\\triangle ZDT} = 4S_{\\triangle BXY} = 4\\cdot \\frac{ab}{2} = 2ab$\n",
       "* $BX=YC=a$, todėl kvadrato ploto formulę turime $S_{ABCD}=(a+b)^2$\n",
       "* Tegu $c$ yra įbrėžto kvadrato kraštinė. Tuomet $S_{ABCD}=S_{\\triangle BXY} + S_{\\triangle CYZ} + S_{\\triangle CYZ} + S_{\\triangle ZDT}+S_{XYZT}=2ab+c^2$\n",
       "* Užrašome lygybę, kurioje $S_{ABCD}$ skaičiuojamas dviem skirtingais būdais ir iš jos surandame $c$ reikšmę: \n",
       " $\\boxed{2ab+c^2 = (a+b)^2} \\Rightarrow \\boxed{2ab+c^2 = a^2+2ab+b^2} \\Rightarrow \\boxed{c^2 = a^2+b^2} \\Rightarrow \\boxed{c= \\sqrt{a^2+b^2}}$"
      ],
      "text/plain": [
       "<IPython.core.display.Markdown object>"
      ]
     },
     "metadata": {},
     "output_type": "display_data"
    },
    {
     "data": {
      "text/markdown": [
       "# Uždavinio dalių sprendimai"
      ],
      "text/plain": [
       "<IPython.core.display.Markdown object>"
      ]
     },
     "metadata": {},
     "output_type": "display_data"
    },
    {
     "data": {
      "text/markdown": [
       "**Užduotis 4a.**\n",
       "\n",
       "Lygiašonės trapecijos $ABCD$ trumpesnysis pagrindas $BC$ lygus šoninėms kraštinėms. Trapecijos perimetras lygus 124 cm, o pagrindų ilgiai sutinka santykiu 13:23. Parodykite, kad trumpesnysis trapecijos pagrindas lygus 26cm. [1tšk.]"
      ],
      "text/plain": [
       "<IPython.core.display.Markdown object>"
      ]
     },
     "metadata": {},
     "output_type": "display_data"
    },
    {
     "data": {
      "text/markdown": [
       "**Uždavinio dalis 1 iš 4b, kurioje yra Keturkampių savybės.**\n",
       "\n",
       "![](licejus\\lic2017_4b_step1.PNG)\n",
       "\n",
       "**Sprendimas.**\n",
       "\n",
       "![](licejus\\lic2017_4b_step1sol.png) Įbrėžiame į trapeciją lygiagretainį $ABCE$. $AB=CE=CD$, vadinasi $\\angle FEC = \\angle CDF$. Todėl aukštinė dalija $ED$ pusiau. Turime: $AD-BC = AD-AE = ED = 2FD$"
      ],
      "text/plain": [
       "<IPython.core.display.Markdown object>"
      ]
     },
     "metadata": {},
     "output_type": "display_data"
    },
    {
     "data": {
      "text/markdown": [
       "**Uždavinio dalis 2 iš 4b, kurioje yra Pitagoro teorema.**\n",
       "\n",
       "Stačiojo trikampio įžambinės ilgis lygus 26 cm, o vieno statinio ilgis lygus 10 cm. Raskite kito statinio ilgį\n",
       "\n",
       "**Sprendimas.**\n",
       "\n",
       "Pagal Pitagoro teoremą $\\boxed{FD^2+CF^2 = CD^2} \\Rightarrow CF = \\sqrt{CD^2-FD^2} = \\sqrt{26^2-10^2} = 12$"
      ],
      "text/plain": [
       "<IPython.core.display.Markdown object>"
      ]
     },
     "metadata": {},
     "output_type": "display_data"
    },
    {
     "data": {
      "text/markdown": [
       "**Uždavinio dalis 3 iš 4b, kurioje yra Keturkampių savybės.**\n",
       "\n",
       "Trapecijos pagrindų ilgiai lygūs 26cm ir 46cm, o aukštinės ilgis yra 10cm. Raskite šios trapecijos plotą\n",
       "\n",
       "**Sprendimas.**\n",
       "\n",
       "$CF \\cdot \\frac{BC+AD}{2} = 10 \\cdot \\frac{26+46}{2} = 360 \\text{ (cm}^2)$"
      ],
      "text/plain": [
       "<IPython.core.display.Markdown object>"
      ]
     },
     "metadata": {},
     "output_type": "display_data"
    },
    {
     "data": {
      "text/markdown": [
       "**Uždavinio dalis 1 iš 7a, kurioje yra Trikampių savybės.**\n",
       "\n",
       "Įrodykite, kad $\\triangle APO = \\triangle POC$ ![](licejus\\lic2017_7a.PNG)\n",
       "\n",
       "**Sprendimas.**\n",
       "\n",
       "Taikome dviejų kraštinių ir kampo tarp jų lygumo požymį: \n",
       " bendra kraštinė $PO$, $AO=OC$ ir $\\angle AOP = POC = 90^o$"
      ],
      "text/plain": [
       "<IPython.core.display.Markdown object>"
      ]
     },
     "metadata": {},
     "output_type": "display_data"
    },
    {
     "data": {
      "text/markdown": [
       "**Uždavinio dalis 2 iš 7a, kurioje yra Trikampių savybės.**\n",
       "\n",
       "Duota, kad $\\triangle APO = \\triangle POC$. Įrodykite, kad $\\angle PAO=\\angle PCO$ ![](licejus\\lic2017_7a.PNG)\n",
       "\n",
       "**Sprendimas.**\n",
       "\n",
       "$\\triangle APC$ lygiašonis, todėl $\\angle PAO=\\angle PCO$"
      ],
      "text/plain": [
       "<IPython.core.display.Markdown object>"
      ]
     },
     "metadata": {},
     "output_type": "display_data"
    },
    {
     "data": {
      "text/markdown": [
       "**Uždavinio dalis 3 iš 7a, kurioje yra Trikampių savybės.**\n",
       "\n",
       "Duota, kad $\\angle PAO=\\angle PCO$. Raskite šiuos kampus remdamiesi brėžiniu\n",
       "\n",
       "**Sprendimas.**\n",
       "\n",
       "Turime $\\angle BAP=\\angle BAD/2=45^o$. Tegu $\\angle PAO = x$. Tada $\\angle BAP + \\angle PAC + \\angle ACB + \\angle CBA = 135^o + 2x = 180^o \\Rightarrow x=22.5^o$"
      ],
      "text/plain": [
       "<IPython.core.display.Markdown object>"
      ]
     },
     "metadata": {},
     "output_type": "display_data"
    },
    {
     "data": {
      "text/markdown": [
       "**Uždavinio dalis 4 iš 7a, kurioje yra Kampų rūšys.**\n",
       "\n",
       "Stačiakampio vienas iš kampų yra padalytas į tris kampus, iš kurių du lygūs $45^o$ ir $22.5$. Kam lygus trečiasis kampas?\n",
       "\n",
       "**Sprendimas.**\n",
       "\n",
       "$\\angle CAD = 90^o - 45^0 - 22.5^o = 22.5^o$"
      ],
      "text/plain": [
       "<IPython.core.display.Markdown object>"
      ]
     },
     "metadata": {},
     "output_type": "display_data"
    },
    {
     "data": {
      "text/markdown": [
       "**Uždavinio dalis 1 iš 7b, kurioje yra Pitagoro teorema.**\n",
       "\n",
       "BRĖŽINYS: ![](licejus\\lic2017_7a.PNG) | **DUOTA:** <ul><li> $ABCD$ - stačiakampis </li><li>$$\\angle BAP=\\angle PAD$$ </li><li> $$PO\\perp AC$$ </li><li>$$AO = OC$$</li><li>$$AB=a$$</li><li>$$BC=b$$</ul> **RASTI:** <ul><li>$AP$, $AO$</li></ul> \n",
       " :---|:---\n",
       "\n",
       "**Sprendimas.**\n",
       "\n",
       "* $\\triangle ABP$ kampai lygūs $90^o$, $45^o$ ir $180^o-90^0-45^o=45^o$. Todėl jis lygiašonis ir $AB=BP=a$. Pagal Pitagoro teoremą $AP=\\sqrt{a^2+a^2}=a\\sqrt{2}$ \n",
       "* Pagal Pitagoro teoremą $AO=\\frac{AC}{2}=\\frac{\\sqrt{a^2+b^2}}{2}$"
      ],
      "text/plain": [
       "<IPython.core.display.Markdown object>"
      ]
     },
     "metadata": {},
     "output_type": "display_data"
    },
    {
     "data": {
      "text/markdown": [
       "**Uždavinio dalis 2 iš 7b, kurioje yra Pitagoro teorema.**\n",
       "\n",
       "BRĖŽINYS: ![](licejus\\lic2017_7a.PNG) | **DUOTA:** <ul><li> $\\angle AOP = 90^o$ </li><li>$$AP=a\\sqrt{2}$$</li><li>$$AO=\\frac{\\sqrt{a^2+b^2}}{2}$$</ul> **RASTI:** <ul><li>$$S_{\\triangle APO}$$</li></ul> \n",
       " :---|:---\n",
       "\n",
       "**Sprendimas.**\n",
       "\n",
       "* Pagal Pitagoro teoremą $PO = \\sqrt{AP^2-AO^2} = \\sqrt{2a^2 - \\frac{a^2+b^2}{4}}=\\sqrt{\\frac{8a^2}{4} - \\frac{a^2+b^2}{4}} = \\sqrt{\\frac{7a^2-b^2}{4}}=\\frac{\\sqrt{7a^2-b^2}}{2}$\n",
       "* $S_{\\triangle APO}=\\frac{AO \\cdot PO}{2}=\\frac{\\sqrt{a^2+b^2}}{2}\\cdot \\frac{\\sqrt{7a^2-b^2}}{2} \\cdot \\frac{1}{2} = \\frac{\\sqrt{(a^2+b^2)(7a^2-b^2)}}{8}$"
      ],
      "text/plain": [
       "<IPython.core.display.Markdown object>"
      ]
     },
     "metadata": {},
     "output_type": "display_data"
    },
    {
     "data": {
      "text/markdown": [
       "**Uždavinio dalis 1 iš 1a, kurioje yra Keturkampių savybės.**\n",
       "\n",
       "Remdamiesi brėžiniu raskite kiekvieno spalvoto stačiakampio plotą ir tada užrašykite jų bendrą plotą ![](simonas\\proof_distr_basic.PNG)\n",
       "\n",
       "**Sprendimas.**\n",
       "\n",
       "Spalvotų stačiakampių plotai lygūs $bc$, $bd$, $ac$, $ad$. Juos sudėję gauname $ac+ad+bc+bd$"
      ],
      "text/plain": [
       "<IPython.core.display.Markdown object>"
      ]
     },
     "metadata": {},
     "output_type": "display_data"
    },
    {
     "data": {
      "text/markdown": [
       "**Uždavinio dalis 2 iš 1a, kurioje yra Keturkampių savybės.**\n",
       "\n",
       "Remdamiesi brėžiniu raskite stačiakampio plotą ![](simonas\\proof_distr_basic_step2.PNG)\n",
       "\n",
       "**Sprendimas.**\n",
       "\n",
       "$S_{ABCD}=(a+b)(c+d)$"
      ],
      "text/plain": [
       "<IPython.core.display.Markdown object>"
      ]
     },
     "metadata": {},
     "output_type": "display_data"
    },
    {
     "data": {
      "text/markdown": [
       "**Uždavinio dalis 1 iš 1b, kurioje yra Keturkampių savybės.**\n",
       "\n",
       "BRĖŽINYS: ![](simonas\\proof_distr.PNG) | **DUOTA:** <ul><li> $ABCD$ - kvadratas </li><li>$$EG||BC$$ </li><li> $$FH||AB$$</li><li> $$AE=a, EB=b, BF=c, FC=d$$</ul> **ĮRODYTI:** <ul><li>$EBFO$, $OFCG$, $OGDH$ ir $OHAE$ - stačiakampiai</li></ul> \n",
       " :---|:--- \n",
       "\n",
       "\n",
       "**Sprendimas.**\n",
       "\n",
       "Keturkampis $EBFO$ turi dvi poras lygiagrečių kraštinių, todėl jis lygiagretainis. $\\angle ABC = 90^o$, todėl šis lygiagretainis yra stačiakampis. Analogiškai $OFCG$, $OGDH$ ir $OHAE$ - stačiakampiai."
      ],
      "text/plain": [
       "<IPython.core.display.Markdown object>"
      ]
     },
     "metadata": {},
     "output_type": "display_data"
    },
    {
     "data": {
      "text/markdown": [
       "**Uždavinio dalis 2 iš 1b, kurioje yra Keturkampių savybės.**\n",
       "\n",
       "BRĖŽINYS: ![](simonas\\proof_distr.PNG) | **DUOTA:** <ul><li> $ABCD$ - kvadratas </li><li>$$EG||BC$$ </li><li> $$FH||AB$$</li><li> $$AE=a, EB=b, BF=c, FC=d$$</ul> **RASTI:** <ul><li>$$S_{EBFO}+S_{OFCG}+S_{OGDH}+S_{OHAE}$$</li></ul> \n",
       " :---|:--- \n",
       "\n",
       "\n",
       "**Sprendimas.**\n",
       "\n",
       "$S_{EBFO}+S_{OFCG}+S_{OGDH}+S_{OHAE}=bc+bd+ac+ad$"
      ],
      "text/plain": [
       "<IPython.core.display.Markdown object>"
      ]
     },
     "metadata": {},
     "output_type": "display_data"
    },
    {
     "data": {
      "text/markdown": [
       "**Uždavinio dalis 3 iš 1b, kurioje yra Keturkampių savybės.**\n",
       "\n",
       "BRĖŽINYS: ![](simonas\\proof_distr_step2.PNG) | **DUOTA:** <ul><li> $ABCD$ - kvadratas </li><li> $$AE=a, EB=b, BF=c, FC=d$$</ul> **RASTI:** <ul><li>$$S_{ABCD}$$</li></ul> \n",
       " :---|:--- \n",
       "\n",
       "\n",
       "**Sprendimas.**\n",
       "\n",
       "$S_{ABCD}=(a+b)(c+d)$"
      ],
      "text/plain": [
       "<IPython.core.display.Markdown object>"
      ]
     },
     "metadata": {},
     "output_type": "display_data"
    },
    {
     "data": {
      "text/markdown": [
       "**Uždavinio dalis 1 iš 2, kurioje yra Trikampių savybės.**\n",
       "\n",
       "BRĖŽINYS: ![](simonas\\proof_pyth.PNG) | **DUOTA:** <ul><li> $ABCD$ ir $XYZT$ - kvadratai </li><li>$$AX=a$$ </li><li> $$AY=b$$</ul> **ĮRODYTI:** <ul><li>$\\angle BXY = \\angle CYZ$</li></ul> \n",
       " :---|:--- \n",
       "\n",
       "\n",
       "**Sprendimas.**\n",
       "\n",
       "$\\begin{cases}\\angle BXY + \\angle BYX = 180^o - \\angle XBY = 180^o-90^o=90^o \\\\ \\angle CYZ + \\angle BYX = 180^o - \\angle XYZ = 180^o-90^o=90^o\\end{cases}$. Iš čia $\\angle BXY = \\angle CYZ$"
      ],
      "text/plain": [
       "<IPython.core.display.Markdown object>"
      ]
     },
     "metadata": {},
     "output_type": "display_data"
    },
    {
     "data": {
      "text/markdown": [
       "**Uždavinio dalis 2 iš 2, kurioje yra Trikampių savybės.**\n",
       "\n",
       "BRĖŽINYS: ![](simonas\\proof_pyth_2.PNG) | **DUOTA:** <ul><li> $ABCD$ ir $XYZT$ - kvadratai </li><li>$$AX=a$$ </li><li> $$AY=b$$ </li><li>$\\angle BXY = \\angle CYZ$</ul> **ĮRODYTI:** <ul><li>$\\triangle BXY =\\triangle CYZ = \\triangle CYZ = \\triangle ZDT$</li></ul> \n",
       " :---|:--- \n",
       "\n",
       "\n",
       "**Sprendimas.**\n",
       "\n",
       "Dvi $\\triangle BXY$ ir $\\triangle CYZ$ kampų poros sutampa, todėl sutampa ir trečioji pora. Taip pat $XY=YZ$. Vadinasi $\\triangle BXY = \\triangle CYZ$. Analogiškai $\\triangle CYZ = \\triangle ZDT$ ir $\\triangle ZDT = \\triangle XAT$"
      ],
      "text/plain": [
       "<IPython.core.display.Markdown object>"
      ]
     },
     "metadata": {},
     "output_type": "display_data"
    },
    {
     "data": {
      "text/markdown": [
       "**Uždavinio dalis 3 iš 2, kurioje yra Trikampių savybės.**\n",
       "\n",
       "BRĖŽINYS: ![](simonas\\proof_pyth_3.PNG) | **DUOTA:** <ul><li> $ABCD$ ir $XYZT$ - kvadratai </li><li>$$AX=a$$ </li><li> $$AY=b$$ </li><li>$$\\triangle BXY = \\triangle CYZ = \\triangle CYZ = \\triangle ZDT$$</ul> **RASTI:** <ul><li>$$S_{\\triangle BXY} + S_{\\triangle CYZ} + S_{\\triangle CYZ} + S_{\\triangle ZDT}$$</li></ul> \n",
       " :---|:--- \n",
       "\n",
       "\n",
       "**Sprendimas.**\n",
       "\n",
       "$S_{\\triangle BXY} + S_{\\triangle CYZ} + S_{\\triangle CYZ} + S_{\\triangle ZDT} = 4S_{\\triangle BXY} = 4\\cdot \\frac{ab}{2} = 2ab$"
      ],
      "text/plain": [
       "<IPython.core.display.Markdown object>"
      ]
     },
     "metadata": {},
     "output_type": "display_data"
    },
    {
     "data": {
      "text/markdown": [
       "**Uždavinio dalis 4 iš 2, kurioje yra Keturkampių savybės.**\n",
       "\n",
       "BRĖŽINYS: ![](simonas\\proof_pyth_3.PNG) | **DUOTA:** <ul><li> $ABCD$ ir $XYZT$ - kvadratai </li><li>$$AX=a$$ </li><li> $$AY=b$$ </li><li>$$\\triangle BXY = \\triangle CYZ = \\triangle CYZ = \\triangle ZDT$$</ul> **RASTI:** <ul><li>$$S_{ABCD}$$</li></ul> \n",
       " :---|:--- \n",
       "\n",
       "\n",
       "**Sprendimas.**\n",
       "\n",
       "$BX=YC=a$, todėl kvadrato ploto formulę turime $S_{ABCD}=(a+b)^2$"
      ],
      "text/plain": [
       "<IPython.core.display.Markdown object>"
      ]
     },
     "metadata": {},
     "output_type": "display_data"
    },
    {
     "data": {
      "text/markdown": [
       "**Uždavinio dalis 5 iš 2, kurioje yra Keturkampių savybės.**\n",
       "\n",
       "BRĖŽINYS: ![](simonas\\proof_pyth_5.PNG) | **DUOTA:** <ul><li> $ABCD$ ir $XYZT$ - kvadratai </li><li> $$XY=c$$ </li><li>$$S_{\\triangle BXY} + S_{\\triangle CYZ}+ S_{\\triangle CYZ} + S_{\\triangle ZDT}=2ab$$</ul> **RASTI:** <ul><li>$$S_{ABCD}$$</li></ul> \n",
       " :---|:--- \n",
       "\n",
       "\n",
       "**Sprendimas.**\n",
       "\n",
       "$S_{ABCD}=S_{\\triangle BXY} + S_{\\triangle CYZ} + S_{\\triangle CYZ} + S_{\\triangle ZDT}+S_{XYZT}=2ab+c^2$"
      ],
      "text/plain": [
       "<IPython.core.display.Markdown object>"
      ]
     },
     "metadata": {},
     "output_type": "display_data"
    },
    {
     "data": {
      "text/markdown": [
       "**Uždavinio dalis 6 iš 2, kurioje yra Greitosios daugybos formulės.**\n",
       "\n",
       "Duota, kad $(a+b)^2=c^2+2ab$, kur $a$ ir $b$ yra tam tikri žinomi dydžiai. Raskite nežinomojo $c$ reikšmę\n",
       "\n",
       "**Sprendimas.**\n",
       "\n",
       "$\\boxed{2ab+c^2 = (a+b)^2} \\Rightarrow \\boxed{2ab+c^2 = a^2+2ab+b^2} \\Rightarrow \\boxed{c^2 = a^2+b^2} \\Rightarrow \\boxed{c= \\sqrt{a^2+b^2}}$"
      ],
      "text/plain": [
       "<IPython.core.display.Markdown object>"
      ]
     },
     "metadata": {},
     "output_type": "display_data"
    },
    {
     "data": {
      "text/markdown": [
       "**Uždavinio dalis 1 iš 2, kurioje yra Trikampių savybės.**\n",
       "\n",
       "BRĖŽINYS: ![](simonas\\proof_pyth.PNG) | **DUOTA:** <ul><li> $ABCD$ ir $XYZT$ - kvadratai </li><li>$$AX=a$$ </li><li> $$AY=b$$</ul> **ĮRODYTI:** <ul><li>$\\angle BXY = \\angle CYZ$</li></ul> \n",
       " :---|:--- \n",
       "\n",
       "\n",
       "**Sprendimas.**\n",
       "\n",
       "$\\begin{cases}\\angle BXY + \\angle BYX = 180^o - \\angle XBY = 180^o-90^o=90^o \\\\ \\angle CYZ + \\angle BYX = 180^o - \\angle XYZ = 180^o-90^o=90^o\\end{cases}$. Iš čia $\\angle BXY = \\angle CYZ$"
      ],
      "text/plain": [
       "<IPython.core.display.Markdown object>"
      ]
     },
     "metadata": {},
     "output_type": "display_data"
    },
    {
     "data": {
      "text/markdown": [
       "**Uždavinio dalis 2 iš 2, kurioje yra Trikampių savybės.**\n",
       "\n",
       "BRĖŽINYS: ![](simonas\\proof_pyth_2.PNG) | **DUOTA:** <ul><li> $ABCD$ ir $XYZT$ - kvadratai </li><li>$$AX=a$$ </li><li> $$AY=b$$ </li><li>$\\angle BXY = \\angle CYZ$</ul> **ĮRODYTI:** <ul><li>$\\triangle BXY =\\triangle CYZ = \\triangle CYZ = \\triangle ZDT$</li></ul> \n",
       " :---|:--- \n",
       "\n",
       "\n",
       "**Sprendimas.**\n",
       "\n",
       "Dvi $\\triangle BXY$ ir $\\triangle CYZ$ kampų poros sutampa, todėl sutampa ir trečioji pora. Taip pat $XY=YZ$. Vadinasi $\\triangle BXY = \\triangle CYZ$. Analogiškai $\\triangle CYZ = \\triangle ZDT$ ir $\\triangle ZDT = \\triangle XAT$"
      ],
      "text/plain": [
       "<IPython.core.display.Markdown object>"
      ]
     },
     "metadata": {},
     "output_type": "display_data"
    },
    {
     "data": {
      "text/markdown": [
       "**Uždavinio dalis 3 iš 2, kurioje yra Trikampių savybės.**\n",
       "\n",
       "BRĖŽINYS: ![](simonas\\proof_pyth_3.PNG) | **DUOTA:** <ul><li> $ABCD$ ir $XYZT$ - kvadratai </li><li>$$AX=a$$ </li><li> $$AY=b$$ </li><li>$$\\triangle BXY = \\triangle CYZ = \\triangle CYZ = \\triangle ZDT$$</ul> **RASTI:** <ul><li>$$S_{\\triangle BXY} + S_{\\triangle CYZ} + S_{\\triangle CYZ} + S_{\\triangle ZDT}$$</li></ul> \n",
       " :---|:--- \n",
       "\n",
       "\n",
       "**Sprendimas.**\n",
       "\n",
       "$S_{\\triangle BXY} + S_{\\triangle CYZ} + S_{\\triangle CYZ} + S_{\\triangle ZDT} = 4S_{\\triangle BXY} = 4\\cdot \\frac{ab}{2} = 2ab$"
      ],
      "text/plain": [
       "<IPython.core.display.Markdown object>"
      ]
     },
     "metadata": {},
     "output_type": "display_data"
    },
    {
     "data": {
      "text/markdown": [
       "**Uždavinio dalis 4 iš 2, kurioje yra Keturkampių savybės.**\n",
       "\n",
       "BRĖŽINYS: ![](simonas\\proof_pyth_3.PNG) | **DUOTA:** <ul><li> $ABCD$ ir $XYZT$ - kvadratai </li><li>$$AX=a$$ </li><li> $$AY=b$$ </li><li>$$\\triangle BXY = \\triangle CYZ = \\triangle CYZ = \\triangle ZDT$$</ul> **RASTI:** <ul><li>$$S_{ABCD}$$</li></ul> \n",
       " :---|:--- \n",
       "\n",
       "\n",
       "**Sprendimas.**\n",
       "\n",
       "$BX=YC=a$, todėl kvadrato ploto formulę turime $S_{ABCD}=(a+b)^2$"
      ],
      "text/plain": [
       "<IPython.core.display.Markdown object>"
      ]
     },
     "metadata": {},
     "output_type": "display_data"
    },
    {
     "data": {
      "text/markdown": [
       "**Uždavinio dalis 5 iš 2, kurioje yra Keturkampių savybės.**\n",
       "\n",
       "BRĖŽINYS: ![](simonas\\proof_pyth_5.PNG) | **DUOTA:** <ul><li> $ABCD$ ir $XYZT$ - kvadratai </li><li> $$XY=c$$ </li><li>$$S_{\\triangle BXY} + S_{\\triangle CYZ}+ S_{\\triangle CYZ} + S_{\\triangle ZDT}=2ab$$</ul> **RASTI:** <ul><li>$$S_{ABCD}$$</li></ul> \n",
       " :---|:--- \n",
       "\n",
       "\n",
       "**Sprendimas.**\n",
       "\n",
       "$S_{ABCD}=S_{\\triangle BXY} + S_{\\triangle CYZ} + S_{\\triangle CYZ} + S_{\\triangle ZDT}+S_{XYZT}=2ab+c^2$"
      ],
      "text/plain": [
       "<IPython.core.display.Markdown object>"
      ]
     },
     "metadata": {},
     "output_type": "display_data"
    },
    {
     "data": {
      "text/markdown": [
       "**Uždavinio dalis 6 iš 2, kurioje yra Greitosios daugybos formulės.**\n",
       "\n",
       "Duota, kad $(a+b)^2=c^2+2ab$, kur $a$ ir $b$ yra tam tikri žinomi dydžiai. Raskite nežinomojo $c$ reikšmę\n",
       "\n",
       "**Sprendimas.**\n",
       "\n",
       "$\\boxed{2ab+c^2 = (a+b)^2} \\Rightarrow \\boxed{2ab+c^2 = a^2+2ab+b^2} \\Rightarrow \\boxed{c^2 = a^2+b^2} \\Rightarrow \\boxed{c= \\sqrt{a^2+b^2}}$"
      ],
      "text/plain": [
       "<IPython.core.display.Markdown object>"
      ]
     },
     "metadata": {},
     "output_type": "display_data"
    }
   ],
   "source": [
    "problems = [('licejus/2017', '4a'), ('licejus/2017', '4b'), ('licejus/2017', '7a'), ('licejus/2017', '7b'), ('simonas/proofs', '1a'), ('simonas/proofs', '1b'),\n",
    "           ('simonas/proofs', '2'), ('simonas/proofs', '2')]\n",
    "display(Markdown('# Uždaviniai'))\n",
    "for dir, id in problems: display(Markdown(show_problem(dir, id, show_solution=False).replace('Užduotis', 'Užduotis '+id)))\n",
    "display(Markdown('# Uždavinių dalys'))\n",
    "for dir, id in problems: \n",
    "    skills = check_skills(dir, id)\n",
    "    for which in range(1, len(skills)+1):\n",
    "        if len(skills)!=1: display(Markdown(show_case(dir, id, which=which, show_solution=False).replace(', kurioje yra', f' iš {id}, kurioje yra')))\n",
    "        else: display(Markdown(show_problem(dir, id, show_solution=False).replace('Užduotis', 'Užduotis '+id)))\n",
    "display(Markdown('# Uždavinių sprendimai'))\n",
    "for dir, id in problems: display(Markdown(show_problem(dir, id, show_solution=True).replace('Užduotis', 'Užduotis '+id)))\n",
    "display(Markdown('# Uždavinio dalių sprendimai'))\n",
    "for dir, id in problems: \n",
    "    skills = check_skills(dir, id)\n",
    "    for which in range(1, len(skills)+1):\n",
    "        if len(skills)!=1: display(Markdown(show_case(dir, id, which=which, show_solution=True).replace(', kurioje yra', f' iš {id}, kurioje yra')))\n",
    "        else: display(Markdown(show_problem(dir, id, show_solution=False).replace('Užduotis', 'Užduotis '+id)))"
   ]
  },
  {
   "cell_type": "code",
   "execution_count": 29,
   "metadata": {},
   "outputs": [
    {
     "data": {
      "text/markdown": [
       "**Uždavinio dalis 3, kurioje yra Keturkampių savybės.**\n",
       "\n",
       "BRĖŽINYS: ![](simonas\\proof_distr_step2.PNG) | **DUOTA:** <ul><li> $ABCD$ - kvadratas </li><li> $$AE=a, EB=b, BF=c, FC=d$$</ul> **RASTI:** <ul><li>$$S_{ABCD}$$</li></ul> \n",
       " :---|:--- \n",
       "\n",
       "\n",
       "**Sprendimas.**\n",
       "\n",
       "$S_{ABCD}=(a+b)(c+d)$"
      ],
      "text/plain": [
       "<IPython.core.display.Markdown object>"
      ]
     },
     "metadata": {},
     "output_type": "display_data"
    }
   ],
   "source": [
    "problems = [('licejus/2017', '5'), ('licejus/2017', '7a'), \n",
    "            ('licejus/2017', '7b'), ('simonas/proofs', '1a'), \n",
    "            ('simonas/proofs', '1b'), ('simonas/proofs', '2')]\n",
    "#check_skills('licejus/2017', '4b') #Nusistatome, kiek dalių turi uždavinys, ką joms reikia mokėti\n",
    "#display(Markdown(show_case('licejus/2017', '2', which=1, show_solution=True))) # Paprašome suflerio\n",
    "display(Markdown(show_case('simonas/proofs', '1b', which=3, show_solution=True))) # Pilnas sprendimas\n",
    "#display(Markdown(make_some_bank('licejus/2017'))) # Pilnas uždavinių setas"
   ]
  },
  {
   "cell_type": "code",
   "execution_count": null,
   "metadata": {},
   "outputs": [],
   "source": []
  }
 ],
 "metadata": {
  "kernelspec": {
   "display_name": "Python 3",
   "language": "python",
   "name": "python3"
  },
  "language_info": {
   "codemirror_mode": {
    "name": "ipython",
    "version": 3
   },
   "file_extension": ".py",
   "mimetype": "text/x-python",
   "name": "python",
   "nbconvert_exporter": "python",
   "pygments_lexer": "ipython3",
   "version": "3.8.3"
  }
 },
 "nbformat": 4,
 "nbformat_minor": 4
}
