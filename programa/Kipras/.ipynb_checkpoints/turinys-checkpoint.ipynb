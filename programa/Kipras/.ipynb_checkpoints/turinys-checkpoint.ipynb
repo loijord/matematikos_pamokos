{
 "cells": [
  {
   "cell_type": "markdown",
   "metadata": {},
   "source": [
    "### Turinys\n",
    "* [Metodai, pagal kuriuos dirbam pamokose](darbo_planas.ipynb)\n",
    "* [Egzamino turinio tyrimo metodai](https://nbviewer.jupyter.org/github/loijord/matematikos_pamokos/blob/master/programa/Vilius/2021-02-10/Apžvalga.ipynb)\n",
    "\n",
    "\n",
    "* [Pirmo susitikimo užduotys](susitikimas1.ipynb)\n",
    "* [Pirmo susitikimo rezultatai](rezultatai1.ipynb)\n",
    "* [Pirmo susitikimo namų darbai](homeworks1.ipynb)"
   ]
  },
  {
   "cell_type": "markdown",
   "metadata": {},
   "source": [
    "* [Uždavinių bazės surinkinėjimas (Simonui)](generavimas.ipynb)\n",
    "* [Pagrindinis programos kodas (Simonui)](source_code.ipynb)"
   ]
  },
  {
   "cell_type": "markdown",
   "metadata": {},
   "source": [
    "### Informacija dėl VBE\n",
    "* [2021-02-25 duomenys apie VBE tvarką](https://www.facebook.com/watch/live/?v=268129058037612&ref=watch_permalink)\n",
    "* [VBE vertinimo gairės šiemet](https://www.nsa.smm.lt/wp-content/uploads/2021/02/Matematikos-VBE-vertinimo-gaires.pdf)\n",
    "\n",
    "* Iš [nec.lt](www.nec.lt/) tinklalapio galima išpešti šią informaciją apie matematikos VBE:\n",
    " * [Buvusių egzaminų pavyzdžiai](https://www.nec.lt/712/)\n",
    " * [Buvusių egzaminų statistinės analizės](https://www.nec.lt/714/)\n",
    " * Buvusių egzaminų kokybinės analizės: [2014m.](https://www.nec.lt/438/), [2006m.](https://www.nec.lt/73/), [2005m.](https://www.nec.lt/74/), [2004m.](https://www.nec.lt/75/)\n",
    " * [Buvusių egzaminų vertinimo instrukcijos](https://www.nec.lt/716/)\n",
    "\n",
    "* Simonas atlieka nepriklausomą egzamino turinio analizę ir konkretaus mokinio gebėjimų bei progreso analizę\n",
    "\n",
    "* Simonas taip pat pildo [matematikos turinį](https://github.com/loijord/egzanalysis/tree/master/READING), kuris padeda kuo efektyviau praeiti egzaminui reikalingas temas."
   ]
  }
 ],
 "metadata": {
  "kernelspec": {
   "display_name": "Python 3",
   "language": "python",
   "name": "python3"
  },
  "language_info": {
   "codemirror_mode": {
    "name": "ipython",
    "version": 3
   },
   "file_extension": ".py",
   "mimetype": "text/x-python",
   "name": "python",
   "nbconvert_exporter": "python",
   "pygments_lexer": "ipython3",
   "version": "3.8.3"
  }
 },
 "nbformat": 4,
 "nbformat_minor": 4
}
