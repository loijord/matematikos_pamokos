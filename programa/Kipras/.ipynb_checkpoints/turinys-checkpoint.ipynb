{
 "cells": [
  {
   "cell_type": "markdown",
   "metadata": {},
   "source": [
    "### Turinys\n",
    "* [Metodai, pagal kuriuos dirbam pamokose](darbo_planas.ipynb)\n",
    "* Nuorodos į mokomąją medžiagą\n",
    "* [Pirmo testo užduotys](testas1.ipynb)\n",
    "* [Pirmo testo rezultatai](rezultatai1.ipynb)"
   ]
  },
  {
   "cell_type": "markdown",
   "metadata": {},
   "source": [
    "* [Uždavinių bazės surinkinėjimas (Simonui)](generavimas.ipynb)\n",
    "* [Pagrindinis programos kodas (Simonui)](source_code.ipynb)"
   ]
  },
  {
   "cell_type": "markdown",
   "metadata": {},
   "source": [
    "### Informacija dėl stojimo į vbe\n",
    "\n",
    "* Laikomas egzaminas, kurį sudaro keturi mokomieji dalykai: lietuvių kalba, matematika, istorija ir biologija;\n",
    "* Prašymai dėl stojimo priimami nuo einamųjų metų kovo 1 d. iki kovo 31 d.\n",
    "* Oficiali priėmimo ir stojamųjų egzaminų organizavimo į I licėjaus klasę tvarka bus patvirtinta iki kovo 1 d. iki kovo 31 d. \n",
    "* Matematikos stojamųjų reikalavimai yra neprieinami, bet Simonas juos turi išsisaugojęs savo kompiuteryje.\n",
    "* Simonas taip pat turi kitų dalykų stojamųjų užduočių pavyzdžius iš buvusių metų.\n",
    "* Vasario 22 d. pranešimas. Stojantiems į I licėjaus klasę atvirų durų diena – kovo 13 d. (šeštadienį) 10.00 val. nuotoliniu būdu. Nuoroda bus paskelbta licėjaus interneto svetainėje kovo 12 d."
   ]
  },
  {
   "cell_type": "code",
   "execution_count": null,
   "metadata": {},
   "outputs": [],
   "source": []
  }
 ],
 "metadata": {
  "kernelspec": {
   "display_name": "Python 3",
   "language": "python",
   "name": "python3"
  },
  "language_info": {
   "codemirror_mode": {
    "name": "ipython",
    "version": 3
   },
   "file_extension": ".py",
   "mimetype": "text/x-python",
   "name": "python",
   "nbconvert_exporter": "python",
   "pygments_lexer": "ipython3",
   "version": "3.8.3"
  }
 },
 "nbformat": 4,
 "nbformat_minor": 4
}
