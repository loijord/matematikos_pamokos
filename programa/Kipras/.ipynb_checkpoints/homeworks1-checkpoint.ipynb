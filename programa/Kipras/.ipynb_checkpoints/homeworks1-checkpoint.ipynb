{
 "cells": [
  {
   "cell_type": "markdown",
   "metadata": {},
   "source": [
    "Namų darbai\n",
    "\n",
    "* Išspręsti visus uždavinius su [daugianarių dauginimais](https://github.com/loijord/matematikos_pamokos/blob/master/programa/Mantas/Projektas2/dauginimas.pdf)\n",
    "* Išspręsti keletą geometrijos uždavinių: VBE 2015m. 23 uždavinys. Vėliau pateiksiu daugiau.\n",
    "* Jei norisi, pasidomėti dažniausiai matematikoje sutinkamomis sąvokomis. Kol kas jį galima pasiekti [šioje nuorodoje](https://github.com/loijord/matematikos_pamokos/blob/master/programa/Nojus/stojamieji/2021-02-17/2021-02-17.ipynb), gale."
   ]
  }
 ],
 "metadata": {
  "kernelspec": {
   "display_name": "Python 3",
   "language": "python",
   "name": "python3"
  },
  "language_info": {
   "codemirror_mode": {
    "name": "ipython",
    "version": 3
   },
   "file_extension": ".py",
   "mimetype": "text/x-python",
   "name": "python",
   "nbconvert_exporter": "python",
   "pygments_lexer": "ipython3",
   "version": "3.8.3"
  }
 },
 "nbformat": 4,
 "nbformat_minor": 4
}
