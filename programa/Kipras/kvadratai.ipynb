{
 "cells": [
  {
   "cell_type": "markdown",
   "metadata": {},
   "source": [
    "Svarbiausia dalis apie greitesnį kvadratinių lygčių sprendimą lieka patalpinta [kitoje temoje](https://github.com/loijord/matematikos_pamokos/blob/master/programa/Mantas/Projektas2/komplektas.pdf). O čia bus tik pora pavyzdžių, kaip spręsti kvadratines lygtis be diskriminanto: vienas - sudėtingesnis skaidymo pavyzdys, o kitas - galinga technika, tinkanti bet kokiai kvadratinei lygčiai."
   ]
  },
  {
   "cell_type": "markdown",
   "metadata": {},
   "source": [
    "### Apie kvadratinių lygčių greitesnį sprendimą\n",
    "* 8 klasėje mokomės spręsti nepilnąsias kvadratines lygtis tik nepilnąsias.\n",
    "* 9 klasėje mokomės spręsti pilnąsias kvadratines lygtis skaičiuojant diskrimantą. Taip pat mokomės greitesnio sprendimo taikant Vieto teoremą.\n",
    "\n",
    "Vis dėlto, iš kur atsiranda diskriminanto formulė, lieka neaišku. Pasirodo, kad ją galima gauti išskiriant pilną kvadratą:\n",
    "\n",
    "$$\\boxed{x^2+px+q=0} \\Leftrightarrow \\boxed{x^2+px+\\frac{p^2}{4} + q - \\frac{p^2}{4}=0} \\Leftrightarrow \\boxed{\\left(x+\\frac{p}{2}\\right)^2 = \\frac{p^2}{4}-q} \\Leftrightarrow \\boxed{x+\\frac{p}{2} = \\pm\\sqrt{\\frac{p^2}{4}-q}} \\Leftrightarrow \\boxed{x = -\\frac{p}{2}\\pm\\sqrt{\\frac{p^2}{4}-q}}$$\n",
    "\n",
    "Pilnosios kvadratinės lygties $\\boxed{ax^2+bx+c=0}$ atveju reiktų naudoti $p=\\frac{b}{a}$, $q=\\frac{c}{a}$. Tada gautume $\\boxed{x = \\frac{-b\\pm\\sqrt{b^2-4ac}}{2a}}$. \n",
    "\n",
    "Kvadratą galima išskirti ir geometriniais metodais. Būtent taip ir [buvo daroma](https://en.wikipedia.org/wiki/Completing_the_square) tada, [kai dar nebuvo](https://en.wikipedia.org/wiki/Muhammad_ibn_Musa_al-Khwarizmi) mums įprastų algebrinių žymėjimų.\n",
    "\n",
    "Pagrindinis dalykas, kurį verta įsidėmėti - tai, kad mums įprastas diskriminanto skaičiavimas gali būti paaiškintas remiantis pilno kvadrato išskyrimu. \n",
    "\n",
    "Kvadratines lygtis galima spręsti ir daug greitesniu būdu išvengiant diskriminanto skaičiavimo arba kvadratų išskyrinėjimo. Reikia atspėti du sveikuosius sprendinius, kai žinoma jų suma ir sandauga:\n",
    "\n",
    "$$\\boxed{x^2+3x-70=0}\\Leftrightarrow \\boxed{(x-7)(x+10)=0}\\text{, nes galima atspėti, kad } -7\\times 10=-70\\text{ ir }-7+10=3$$\n",
    "\n",
    "Nors tokia sprendimo technika suveikia 80% - 90% egzamine esančių kvadratinių lygčių, tačiau spėlioti matematikoje - bloga praktika. Jei koks nors metodas veikia ne visais atvejais, reikia rasti kitą metodą, kuris veiks likusiais atvejais. Būtent toks yra diskriminanto skaičiavimas. Šiuo atveju galima pagudrauti - mokytis, kaip greitai įvertinti, ar egzistuoja lengvas būdas išskaidyti remiantis spėjimu ir taikyti diskriminanto skaičiavimą, jei neegzistuoja. Pavyzdžiui lygties $x^2+3x-71=0$ lengvas skaidymo būdas neegzistuoja. \n",
    "\n",
    "Apie tai, kaip galima atspėti kvadratinės lygties sprendinius, [rašau kitame tekste](https://github.com/loijord/matematikos_pamokos/blob/master/programa/Mantas/Projektas2/komplektas.pdf)."
   ]
  },
  {
   "cell_type": "code",
   "execution_count": null,
   "metadata": {},
   "outputs": [],
   "source": []
  },
  {
   "cell_type": "markdown",
   "metadata": {},
   "source": [
    "Pateiksiu du pavyzdžius, kai sprendinių spėliojimas yra sudėtingesnis, bet galima apsieiti be diskriminanto skaičiavimo.\n",
    "\n",
    "## Pavyzdys 1.\n",
    "2010m. VBE 21 uždavinyje su aritmetine progresija reikėjo spręsti kvadratinę lygtį: $x^2+9x-8722$. Tegu $pq=8722$. Sprendinių spėliojimas būtų labai varginantis:\n",
    "        "
   ]
  },
  {
   "cell_type": "code",
   "execution_count": 1,
   "metadata": {},
   "outputs": [
    {
     "name": "stdout",
     "output_type": "stream",
     "text": [
      "8722 = 1*8722.0\n",
      "8722 = 2*4361.0\n",
      "8722 = 3*2907.333\n",
      "8722 = 4*2180.5\n",
      "8722 = 5*1744.4\n",
      "8722 = 6*1453.667\n",
      "8722 = 7*1246.0\n",
      "8722 = 8*1090.25\n",
      "8722 = 9*969.111\n",
      "8722 = 10*872.2\n",
      "8722 = 11*792.909\n",
      "8722 = 12*726.833\n",
      "8722 = 13*670.923\n",
      "8722 = 14*623.0\n",
      "8722 = 15*581.467\n",
      "8722 = 16*545.125\n",
      "8722 = 17*513.059\n",
      "8722 = 18*484.556\n",
      "8722 = 19*459.053\n",
      "8722 = 20*436.1\n",
      "8722 = 21*415.333\n",
      "8722 = 22*396.455\n",
      "8722 = 23*379.217\n",
      "8722 = 24*363.417\n",
      "8722 = 25*348.88\n",
      "8722 = 26*335.462\n",
      "8722 = 27*323.037\n",
      "8722 = 28*311.5\n",
      "8722 = 29*300.759\n",
      "8722 = 30*290.733\n",
      "8722 = 31*281.355\n",
      "8722 = 32*272.562\n",
      "8722 = 33*264.303\n",
      "8722 = 34*256.529\n",
      "8722 = 35*249.2\n",
      "8722 = 36*242.278\n",
      "8722 = 37*235.73\n",
      "8722 = 38*229.526\n",
      "8722 = 39*223.641\n",
      "8722 = 40*218.05\n",
      "8722 = 41*212.732\n",
      "8722 = 42*207.667\n",
      "8722 = 43*202.837\n",
      "8722 = 44*198.227\n",
      "8722 = 45*193.822\n",
      "8722 = 46*189.609\n",
      "8722 = 47*185.574\n",
      "8722 = 48*181.708\n",
      "8722 = 49*178.0\n",
      "8722 = 50*174.44\n",
      "8722 = 51*171.02\n",
      "8722 = 52*167.731\n",
      "8722 = 53*164.566\n",
      "8722 = 54*161.519\n",
      "8722 = 55*158.582\n",
      "8722 = 56*155.75\n",
      "8722 = 57*153.018\n",
      "8722 = 58*150.379\n",
      "8722 = 59*147.831\n",
      "8722 = 60*145.367\n",
      "8722 = 61*142.984\n",
      "8722 = 62*140.677\n",
      "8722 = 63*138.444\n",
      "8722 = 64*136.281\n",
      "8722 = 65*134.185\n",
      "8722 = 66*132.152\n",
      "8722 = 67*130.179\n",
      "8722 = 68*128.265\n",
      "8722 = 69*126.406\n",
      "8722 = 70*124.6\n",
      "8722 = 71*122.845\n",
      "8722 = 72*121.139\n",
      "8722 = 73*119.479\n",
      "8722 = 74*117.865\n",
      "8722 = 75*116.293\n",
      "8722 = 76*114.763\n",
      "8722 = 77*113.273\n",
      "8722 = 78*111.821\n",
      "8722 = 79*110.405\n",
      "8722 = 80*109.025\n",
      "8722 = 81*107.679\n",
      "8722 = 82*106.366\n",
      "8722 = 83*105.084\n",
      "8722 = 84*103.833\n",
      "8722 = 85*102.612\n",
      "8722 = 86*101.419\n",
      "8722 = 87*100.253\n",
      "8722 = 88*99.114\n",
      "8722 = 89*98.0\n",
      "8722 = 90*96.911\n",
      "8722 = 91*95.846\n",
      "8722 = 92*94.804\n",
      "8722 = 93*93.785\n",
      "8722 = 94*92.787\n",
      "8722 = 95*91.811\n"
     ]
    }
   ],
   "source": []
  },
  {
   "cell_type": "markdown",
   "metadata": {},
   "source": [
    "Kažkurį narį pakeitę jam neigiamu gausime sandaugą $-pq$, lygią $-8722$. Nemažinant bendrumo, tegu tai bus skaičius $p$ ir ieškosime tokių $p$ ir $q$, kad $q-p=9$. Matome, kad tinka $p=89$ ir $q=98$. Iš tiesų, $x^2+9x-8722 = (x-89)(x+98)$. \n",
    "\n",
    "Tačiau norėtųsi išvengti tokio ilgo perrinkimo. Tai įmanoma tik tada, jei atkreipiame dėmesį į šią svarbią perrinkimo savybę: jį užtenka vykdyti iki tol, kol turime $8722 = \\sqrt{8722}\\times \\sqrt{8722}$. Jei jį tęstume, pirmas daugiklis pralenktų antrąjį. Kadangi $8722$ didelis skaičius, tai galioja apytikslė lygybė:\n",
    "\n",
    "$$8722 = \\sqrt{8722}\\times \\sqrt{8722} \\approx (\\sqrt{8722}-t)\\times (\\sqrt{8722}+t).$$ Jei parinksime $t=4.5$, tai gausime $p$ ir $q$, kurių skirtumas yra 9, o sandauga apytiksliai lygi 8722:\n",
    "\n",
    "$p=\\sqrt{8722}-4.5\\approx 88.8916; q=\\sqrt{8722}+4.5\\approx 97.8916$. Juos suapvalinę matome, kad $89$ ir $98$ išlaiko tą patį skirtumą, o sandauga tampa tiksliai lygi $8722$"
   ]
  },
  {
   "cell_type": "markdown",
   "metadata": {},
   "source": [
    "## Pavyzdys 2. \n",
    "\n",
    "Imkime ir pakeiskime lygtį į $x^2+9x-8723$. Dabar sveikųjų sprendinių, tenkinančių šią lygtį nebus, vadinasi, išskaidymo spėliojimas nepadės. Pateiksiu pavyzdį, kaip galima apsieiti be diskriminanto skaičiavimo. Turime, kad $x^2+9x-8723 = (x+p)(x+q)$, iš čia:\n",
    "\n",
    "$\\begin{cases}p+q=9\\\\pq=-8723\\end{cases}$\n",
    "\n",
    "Norint išvengti apvalinimų, galime tarti, kad $p$ ir $q$ yra nukrypę per $t$ nuo savo vidurkio (jei $p$ yra $z$ mažesnis už $\\frac{p+q}{2}$, tai $q$ bus tiek pat didesnis). Tada:\n",
    "\n",
    "$\\begin{cases}p=4.5-t\\\\q=4.5+t\\\\pq=(4.5-t)(4.5+t)=-8723\\end{cases}$\n",
    "\n",
    "Belieka rasti $z$ reikšmę, su kuria paskutinė lygybė teisinga: $\\boxed{(4.5-t)(4.5+t)=-8723} \\Leftrightarrow \\boxed{20.25-t^2=-8723} \\Leftrightarrow \\boxed{t=\\sqrt{8743.25}}$\n",
    "\n",
    "Vadinasi, $x^2+9x-8723 = (x+p)(x+q) = (x+4.5-\\sqrt{8743.25})(x+4.5+\\sqrt{8743.25})$"
   ]
  },
  {
   "cell_type": "markdown",
   "metadata": {},
   "source": [
    "## Apibendrinimas\n",
    "Pavyzdys 2 sugriauna įsitikinimą, kad spręsti pilnosioms kvadratinėms lygtims reikia pilno kvadrato išskyrimo arba diskriminanto skaičiavimo. Pastebėjimas, kuriuo remiamasi siūlant naują metodą, yra ši rečiau pasitaikanti įžvalga apie du skaičius:\n",
    "\n",
    "***Bet kuriems dviems skaičiams galioja savybė: vienas jų yra didesnis už jų vidurkį tiek pat, kiek kitas mažesnis***\n",
    "\n",
    "Siūlomas metodas nereikalauja jokių žinių, kurios būtų neprieinamos aštuntokui. Tik nespęskit taip per VBE, nes vertintojai nuskalpuos :D"
   ]
  }
 ],
 "metadata": {
  "kernelspec": {
   "display_name": "Python 3",
   "language": "python",
   "name": "python3"
  },
  "language_info": {
   "codemirror_mode": {
    "name": "ipython",
    "version": 3
   },
   "file_extension": ".py",
   "mimetype": "text/x-python",
   "name": "python",
   "nbconvert_exporter": "python",
   "pygments_lexer": "ipython3",
   "version": "3.8.3"
  }
 },
 "nbformat": 4,
 "nbformat_minor": 4
}
