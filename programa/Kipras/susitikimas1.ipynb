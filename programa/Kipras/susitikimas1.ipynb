{
 "cells": [
  {
   "cell_type": "code",
   "execution_count": 38,
   "metadata": {},
   "outputs": [
    {
     "data": {
      "text/markdown": [
       "# Uždaviniai"
      ],
      "text/plain": [
       "<IPython.core.display.Markdown object>"
      ]
     },
     "metadata": {},
     "output_type": "display_data"
    },
    {
     "data": {
      "text/markdown": [
       "**Užduotis 1a.**\n",
       "\n",
       "DEMONSTRACIJA. Stačiakampis padalintas į keturis stačiakampius atkarpomis, lygiagrečiomis jo kraštinėms, kaip pavaizduota. Viena iš atkarpų dalija stačiakampio kraštinę į atkarpas, kurių ilgiai yra $a$ ir $b$, o kita - į atkarpas, kurių ilgiai yra $c$ ir $d$. Remdamiesi geometrijos žiniomis įrodykite tapatybę $(a+b)(c+d)=ac+ad+bc+bd$ ![](simonas\\proof_distr_basic.PNG)"
      ],
      "text/plain": [
       "<IPython.core.display.Markdown object>"
      ]
     },
     "metadata": {},
     "output_type": "display_data"
    },
    {
     "data": {
      "text/markdown": [
       "**Užduotis 1b.**\n",
       "\n",
       "GEOMETRINIS UŽDAVINYS. Stačiakampis padalintas į keturis stačiakampius atkarpomis, lygiagrečiomis jo kraštinėms, kaip pavaizduota. Viena iš atkarpų dalija stačiakampio kraštinę į atkarpas, kurių ilgiai yra $a$ ir $b$, o kita - į atkarpas, kurių ilgiai yra $c$ ir $d$. Remdamiesi geometrijos žiniomis įrodykite tapatybę $(a+b)(c+d)=ac+ad+bc+bd$ ![](simonas\\proof_distr_basic.PNG)"
      ],
      "text/plain": [
       "<IPython.core.display.Markdown object>"
      ]
     },
     "metadata": {},
     "output_type": "display_data"
    },
    {
     "data": {
      "text/markdown": [
       "**Užduotis 2.**\n",
       "\n",
       "Į kvadratą yra įbrėžtas kitas kvadratas iškerta jame keturis stačiuosius trikampius. Vieno iš trikampių statiniai lygūs $a$ ir $b$. Įrodykite, kad įbrėžto kvadrato kraštinės ilgis lygus $\\sqrt{a^2+b^2}$"
      ],
      "text/plain": [
       "<IPython.core.display.Markdown object>"
      ]
     },
     "metadata": {},
     "output_type": "display_data"
    },
    {
     "data": {
      "text/markdown": [
       "# Uždavinių dalys"
      ],
      "text/plain": [
       "<IPython.core.display.Markdown object>"
      ]
     },
     "metadata": {},
     "output_type": "display_data"
    },
    {
     "data": {
      "text/markdown": [
       "**Uždavinio dalis 1 iš 1a, kurioje yra Keturkampių savybės.**\n",
       "\n",
       "Remdamiesi brėžiniu raskite kiekvieno spalvoto stačiakampio plotą ir tada užrašykite jų bendrą plotą ![](simonas\\proof_distr_basic.PNG)"
      ],
      "text/plain": [
       "<IPython.core.display.Markdown object>"
      ]
     },
     "metadata": {},
     "output_type": "display_data"
    },
    {
     "data": {
      "text/markdown": [
       "**Uždavinio dalis 2 iš 1a, kurioje yra Keturkampių savybės.**\n",
       "\n",
       "Remdamiesi brėžiniu raskite stačiakampio plotą ![](simonas\\proof_distr_basic_step2.PNG)"
      ],
      "text/plain": [
       "<IPython.core.display.Markdown object>"
      ]
     },
     "metadata": {},
     "output_type": "display_data"
    },
    {
     "data": {
      "text/markdown": [
       "**Uždavinio dalis 1 iš 1b, kurioje yra Keturkampių savybės.**\n",
       "\n",
       "BRĖŽINYS: ![](simonas\\proof_distr.PNG) | **DUOTA:** <ul><li> $ABCD$ - kvadratas </li><li>$$EG||BC$$ </li><li> $$FH||AB$$</li><li> $$AE=a, EB=b, BF=c, FC=d$$</ul> **ĮRODYTI:** <ul><li>$EBFO$, $OFCG$, $OGDH$ ir $OHAE$ - stačiakampiai</li></ul> \n",
       " :---|:--- \n"
      ],
      "text/plain": [
       "<IPython.core.display.Markdown object>"
      ]
     },
     "metadata": {},
     "output_type": "display_data"
    },
    {
     "data": {
      "text/markdown": [
       "**Uždavinio dalis 2 iš 1b, kurioje yra Keturkampių savybės.**\n",
       "\n",
       "BRĖŽINYS: ![](simonas\\proof_distr.PNG) | **DUOTA:** <ul><li> $ABCD$ - kvadratas </li><li>$$EG||BC$$ </li><li> $$FH||AB$$</li><li> $$AE=a, EB=b, BF=c, FC=d$$</ul> **RASTI:** <ul><li>$$S_{EBFO}+S_{OFCG}+S_{OGDH}+S_{OHAE}$$</li></ul> \n",
       " :---|:--- \n"
      ],
      "text/plain": [
       "<IPython.core.display.Markdown object>"
      ]
     },
     "metadata": {},
     "output_type": "display_data"
    },
    {
     "data": {
      "text/markdown": [
       "**Uždavinio dalis 3 iš 1b, kurioje yra Keturkampių savybės.**\n",
       "\n",
       "BRĖŽINYS: ![](simonas\\proof_distr_step2.PNG) | **DUOTA:** <ul><li> $ABCD$ - kvadratas </li><li> $$AE=a, EB=b, BF=c, FC=d$$</ul> **RASTI:** <ul><li>$$S_{ABCD}$$</li></ul> \n",
       " :---|:--- \n"
      ],
      "text/plain": [
       "<IPython.core.display.Markdown object>"
      ]
     },
     "metadata": {},
     "output_type": "display_data"
    },
    {
     "data": {
      "text/markdown": [
       "**Uždavinio dalis 1 iš 2, kurioje yra Trikampių savybės.**\n",
       "\n",
       "BRĖŽINYS: ![](simonas\\proof_pyth.PNG) | **DUOTA:** <ul><li> $ABCD$ ir $XYZT$ - kvadratai </li><li>$$AX=a$$ </li><li> $$AY=b$$</ul> **ĮRODYTI:** <ul><li>$\\angle BXY = \\angle CYZ$</li></ul> \n",
       " :---|:--- \n"
      ],
      "text/plain": [
       "<IPython.core.display.Markdown object>"
      ]
     },
     "metadata": {},
     "output_type": "display_data"
    },
    {
     "data": {
      "text/markdown": [
       "**Uždavinio dalis 2 iš 2, kurioje yra Trikampių savybės.**\n",
       "\n",
       "BRĖŽINYS: ![](simonas\\proof_pyth_2.PNG) | **DUOTA:** <ul><li> $ABCD$ ir $XYZT$ - kvadratai </li><li>$$AX=a$$ </li><li> $$AY=b$$ </li><li>$\\angle BXY = \\angle CYZ$</ul> **ĮRODYTI:** <ul><li>$\\triangle BXY =\\triangle CYZ = \\triangle CYZ = \\triangle ZDT$</li></ul> \n",
       " :---|:--- \n"
      ],
      "text/plain": [
       "<IPython.core.display.Markdown object>"
      ]
     },
     "metadata": {},
     "output_type": "display_data"
    },
    {
     "data": {
      "text/markdown": [
       "**Uždavinio dalis 3 iš 2, kurioje yra Trikampių savybės.**\n",
       "\n",
       "BRĖŽINYS: ![](simonas\\proof_pyth_3.PNG) | **DUOTA:** <ul><li> $ABCD$ ir $XYZT$ - kvadratai </li><li>$$AX=a$$ </li><li> $$AY=b$$ </li><li>$$\\triangle BXY = \\triangle CYZ = \\triangle CYZ = \\triangle ZDT$$</ul> **RASTI:** <ul><li>$$S_{\\triangle BXY} + S_{\\triangle CYZ} + S_{\\triangle CYZ} + S_{\\triangle ZDT}$$</li></ul> \n",
       " :---|:--- \n"
      ],
      "text/plain": [
       "<IPython.core.display.Markdown object>"
      ]
     },
     "metadata": {},
     "output_type": "display_data"
    },
    {
     "data": {
      "text/markdown": [
       "**Uždavinio dalis 4 iš 2, kurioje yra Keturkampių savybės.**\n",
       "\n",
       "BRĖŽINYS: ![](simonas\\proof_pyth_3.PNG) | **DUOTA:** <ul><li> $ABCD$ ir $XYZT$ - kvadratai </li><li>$$AX=a$$ </li><li> $$AY=b$$ </li><li>$$\\triangle BXY = \\triangle CYZ = \\triangle CYZ = \\triangle ZDT$$</ul> **RASTI:** <ul><li>$$S_{ABCD}$$</li></ul> \n",
       " :---|:--- \n"
      ],
      "text/plain": [
       "<IPython.core.display.Markdown object>"
      ]
     },
     "metadata": {},
     "output_type": "display_data"
    },
    {
     "data": {
      "text/markdown": [
       "**Uždavinio dalis 5 iš 2, kurioje yra Keturkampių savybės.**\n",
       "\n",
       "BRĖŽINYS: ![](simonas\\proof_pyth_5.PNG) | **DUOTA:** <ul><li> $ABCD$ ir $XYZT$ - kvadratai </li><li> $$XY=c$$ </li><li>$$S_{\\triangle BXY} + S_{\\triangle CYZ}+ S_{\\triangle CYZ} + S_{\\triangle ZDT}=2ab$$</ul> **RASTI:** <ul><li>$$S_{ABCD}$$</li></ul> \n",
       " :---|:--- \n"
      ],
      "text/plain": [
       "<IPython.core.display.Markdown object>"
      ]
     },
     "metadata": {},
     "output_type": "display_data"
    },
    {
     "data": {
      "text/markdown": [
       "**Uždavinio dalis 6 iš 2, kurioje yra Greitosios daugybos formulės.**\n",
       "\n",
       "Duota, kad $(a+b)^2=c^2+2ab$, kur $a$ ir $b$ yra tam tikri žinomi dydžiai. Raskite nežinomojo $c$ reikšmę"
      ],
      "text/plain": [
       "<IPython.core.display.Markdown object>"
      ]
     },
     "metadata": {},
     "output_type": "display_data"
    },
    {
     "data": {
      "text/markdown": [
       "# Uždavinių sprendimai"
      ],
      "text/plain": [
       "<IPython.core.display.Markdown object>"
      ]
     },
     "metadata": {},
     "output_type": "display_data"
    },
    {
     "data": {
      "text/markdown": [
       "**Užduotis 1a.**\n",
       "\n",
       "DEMONSTRACIJA. Stačiakampis padalintas į keturis stačiakampius atkarpomis, lygiagrečiomis jo kraštinėms, kaip pavaizduota. Viena iš atkarpų dalija stačiakampio kraštinę į atkarpas, kurių ilgiai yra $a$ ir $b$, o kita - į atkarpas, kurių ilgiai yra $c$ ir $d$. Remdamiesi geometrijos žiniomis įrodykite tapatybę $(a+b)(c+d)=ac+ad+bc+bd$ ![](simonas\\proof_distr_basic.PNG)\n",
       "\n",
       "**Sprendimas.**\n",
       "* Spalvotų stačiakampių plotai lygūs $bc$, $bd$, $ac$, $ad$. Juos sudėję gauname $ac+ad+bc+bd$\n",
       "* Viso stačiakampio plotas lygus jo kraštinių ilgių sandaugai: $(a+b)(c+d)$. Vadinasi $(a+b)(c+d)=ac+ad+bc+bd$"
      ],
      "text/plain": [
       "<IPython.core.display.Markdown object>"
      ]
     },
     "metadata": {},
     "output_type": "display_data"
    },
    {
     "data": {
      "text/markdown": [
       "**Užduotis 1b.**\n",
       "\n",
       "GEOMETRINIS UŽDAVINYS. Stačiakampis padalintas į keturis stačiakampius atkarpomis, lygiagrečiomis jo kraštinėms, kaip pavaizduota. Viena iš atkarpų dalija stačiakampio kraštinę į atkarpas, kurių ilgiai yra $a$ ir $b$, o kita - į atkarpas, kurių ilgiai yra $c$ ir $d$. Remdamiesi geometrijos žiniomis įrodykite tapatybę $(a+b)(c+d)=ac+ad+bc+bd$ ![](simonas\\proof_distr_basic.PNG)\n",
       "\n",
       "**Sprendimas.**\n",
       "* BRĖŽINYS: ![](simonas\\proof_distr.PNG) | **DUOTA:** <ul><li> $ABCD$ - kvadratas </li><li>$$EG||BC$$ </li><li> $$FH||AB$$</li><li> $$AE=a, EB=b, BF=c, FC=d$$</ul> **ĮRODYTI:** <ul><li>$$(a+b)(c+d)=ac+ad+bc+bd$$</li></ul> \n",
       " :---|:--- \n",
       "\n",
       "* Keturkampis $EBFO$ turi dvi poras lygiagrečių kraštinių, todėl jis lygiagretainis. $\\angle ABC = 90^o$, todėl šis lygiagretainis yra stačiakampis. Analogiškai $OFCG$, $OGDH$ ir $OHAE$ - stačiakampiai.\n",
       "* $S_{EBFO}+S_{OFCG}+S_{OGDH}+S_{OHAE}=bc+bd+ac+ad$\n",
       "* $S_{EBFO}+S_{OFCG}+S_{OGDH}+S_{OHAE} = S_{ABCD}=(a+b)(c+d)$. Vadinasi, $(a+b)(c+d)=ac+ad+bc+bd$"
      ],
      "text/plain": [
       "<IPython.core.display.Markdown object>"
      ]
     },
     "metadata": {},
     "output_type": "display_data"
    },
    {
     "data": {
      "text/markdown": [
       "**Užduotis 2.**\n",
       "\n",
       "Į kvadratą yra įbrėžtas kitas kvadratas iškerta jame keturis stačiuosius trikampius. Vieno iš trikampių statiniai lygūs $a$ ir $b$. Įrodykite, kad įbrėžto kvadrato kraštinės ilgis lygus $\\sqrt{a^2+b^2}$\n",
       "\n",
       "**Sprendimas.**\n",
       "* BRĖŽINYS: ![](simonas\\proof_pyth.PNG) | **DUOTA:** <ul><li> $ABCD$ ir $XYZT$ - kvadratai </li><li>$$AX=a$$ </li><li> $$AY=b$$</ul> **ĮRODYTI:** <ul><li>$XY=\\sqrt{a^2+b^2}$</li></ul> \n",
       " :---|:--- \n",
       "\n",
       "* $\\begin{cases}\\angle BXY + \\angle BYX = 180^o - \\angle XBY = 180^o-90^o=90^o \\\\ \\angle CYZ + \\angle BYX = 180^o - \\angle XYZ = 180^o-90^o=90^o\\end{cases}$. Iš čia $\\angle BXY = \\angle CYZ$\n",
       "* Dvi $\\triangle BXY$ ir $\\triangle CYZ$ kampų poros sutampa, todėl sutampa ir trečioji pora. Taip pat $XY=YZ$. Vadinasi $\\triangle BXY = \\triangle CYZ$. Analogiškai $\\triangle CYZ = \\triangle ZDT$ ir $\\triangle ZDT = \\triangle XAT$\n",
       "* $S_{\\triangle BXY} + S_{\\triangle CYZ} + S_{\\triangle CYZ} + S_{\\triangle ZDT} = 4S_{\\triangle BXY} = 4\\cdot \\frac{ab}{2} = 2ab$\n",
       "* $BX=YC=a$, todėl kvadrato ploto formulę turime $S_{ABCD}=(a+b)^2$\n",
       "* Tegu $c$ yra įbrėžto kvadrato kraštinė. Tuomet $S_{ABCD}=S_{\\triangle BXY} + S_{\\triangle CYZ} + S_{\\triangle CYZ} + S_{\\triangle ZDT}+S_{XYZT}=2ab+c^2$\n",
       "* Užrašome lygybę, kurioje $S_{ABCD}$ skaičiuojamas dviem skirtingais būdais ir iš jos surandame $c$ reikšmę: \n",
       " $\\boxed{2ab+c^2 = (a+b)^2} \\Rightarrow \\boxed{2ab+c^2 = a^2+2ab+b^2} \\Rightarrow \\boxed{c^2 = a^2+b^2} \\Rightarrow \\boxed{c= \\sqrt{a^2+b^2}}$"
      ],
      "text/plain": [
       "<IPython.core.display.Markdown object>"
      ]
     },
     "metadata": {},
     "output_type": "display_data"
    },
    {
     "data": {
      "text/markdown": [
       "# Uždavinio dalių sprendimai"
      ],
      "text/plain": [
       "<IPython.core.display.Markdown object>"
      ]
     },
     "metadata": {},
     "output_type": "display_data"
    },
    {
     "data": {
      "text/markdown": [
       "**Uždavinio dalis 1 iš 1a, kurioje yra Keturkampių savybės.**\n",
       "\n",
       "Remdamiesi brėžiniu raskite kiekvieno spalvoto stačiakampio plotą ir tada užrašykite jų bendrą plotą ![](simonas\\proof_distr_basic.PNG)\n",
       "\n",
       "**Sprendimas.**\n",
       "\n",
       "Spalvotų stačiakampių plotai lygūs $bc$, $bd$, $ac$, $ad$. Juos sudėję gauname $ac+ad+bc+bd$"
      ],
      "text/plain": [
       "<IPython.core.display.Markdown object>"
      ]
     },
     "metadata": {},
     "output_type": "display_data"
    },
    {
     "data": {
      "text/markdown": [
       "**Uždavinio dalis 2 iš 1a, kurioje yra Keturkampių savybės.**\n",
       "\n",
       "Remdamiesi brėžiniu raskite stačiakampio plotą ![](simonas\\proof_distr_basic_step2.PNG)\n",
       "\n",
       "**Sprendimas.**\n",
       "\n",
       "$S_{ABCD}=(a+b)(c+d)$"
      ],
      "text/plain": [
       "<IPython.core.display.Markdown object>"
      ]
     },
     "metadata": {},
     "output_type": "display_data"
    },
    {
     "data": {
      "text/markdown": [
       "**Uždavinio dalis 1 iš 1b, kurioje yra Keturkampių savybės.**\n",
       "\n",
       "BRĖŽINYS: ![](simonas\\proof_distr.PNG) | **DUOTA:** <ul><li> $ABCD$ - kvadratas </li><li>$$EG||BC$$ </li><li> $$FH||AB$$</li><li> $$AE=a, EB=b, BF=c, FC=d$$</ul> **ĮRODYTI:** <ul><li>$EBFO$, $OFCG$, $OGDH$ ir $OHAE$ - stačiakampiai</li></ul> \n",
       " :---|:--- \n",
       "\n",
       "\n",
       "**Sprendimas.**\n",
       "\n",
       "Keturkampis $EBFO$ turi dvi poras lygiagrečių kraštinių, todėl jis lygiagretainis. $\\angle ABC = 90^o$, todėl šis lygiagretainis yra stačiakampis. Analogiškai $OFCG$, $OGDH$ ir $OHAE$ - stačiakampiai."
      ],
      "text/plain": [
       "<IPython.core.display.Markdown object>"
      ]
     },
     "metadata": {},
     "output_type": "display_data"
    },
    {
     "data": {
      "text/markdown": [
       "**Uždavinio dalis 2 iš 1b, kurioje yra Keturkampių savybės.**\n",
       "\n",
       "BRĖŽINYS: ![](simonas\\proof_distr.PNG) | **DUOTA:** <ul><li> $ABCD$ - kvadratas </li><li>$$EG||BC$$ </li><li> $$FH||AB$$</li><li> $$AE=a, EB=b, BF=c, FC=d$$</ul> **RASTI:** <ul><li>$$S_{EBFO}+S_{OFCG}+S_{OGDH}+S_{OHAE}$$</li></ul> \n",
       " :---|:--- \n",
       "\n",
       "\n",
       "**Sprendimas.**\n",
       "\n",
       "$S_{EBFO}+S_{OFCG}+S_{OGDH}+S_{OHAE}=bc+bd+ac+ad$"
      ],
      "text/plain": [
       "<IPython.core.display.Markdown object>"
      ]
     },
     "metadata": {},
     "output_type": "display_data"
    },
    {
     "data": {
      "text/markdown": [
       "**Uždavinio dalis 3 iš 1b, kurioje yra Keturkampių savybės.**\n",
       "\n",
       "BRĖŽINYS: ![](simonas\\proof_distr_step2.PNG) | **DUOTA:** <ul><li> $ABCD$ - kvadratas </li><li> $$AE=a, EB=b, BF=c, FC=d$$</ul> **RASTI:** <ul><li>$$S_{ABCD}$$</li></ul> \n",
       " :---|:--- \n",
       "\n",
       "\n",
       "**Sprendimas.**\n",
       "\n",
       "$S_{ABCD}=(a+b)(c+d)$"
      ],
      "text/plain": [
       "<IPython.core.display.Markdown object>"
      ]
     },
     "metadata": {},
     "output_type": "display_data"
    },
    {
     "data": {
      "text/markdown": [
       "**Uždavinio dalis 1 iš 2, kurioje yra Trikampių savybės.**\n",
       "\n",
       "BRĖŽINYS: ![](simonas\\proof_pyth.PNG) | **DUOTA:** <ul><li> $ABCD$ ir $XYZT$ - kvadratai </li><li>$$AX=a$$ </li><li> $$AY=b$$</ul> **ĮRODYTI:** <ul><li>$\\angle BXY = \\angle CYZ$</li></ul> \n",
       " :---|:--- \n",
       "\n",
       "\n",
       "**Sprendimas.**\n",
       "\n",
       "$\\begin{cases}\\angle BXY + \\angle BYX = 180^o - \\angle XBY = 180^o-90^o=90^o \\\\ \\angle CYZ + \\angle BYX = 180^o - \\angle XYZ = 180^o-90^o=90^o\\end{cases}$. Iš čia $\\angle BXY = \\angle CYZ$"
      ],
      "text/plain": [
       "<IPython.core.display.Markdown object>"
      ]
     },
     "metadata": {},
     "output_type": "display_data"
    },
    {
     "data": {
      "text/markdown": [
       "**Uždavinio dalis 2 iš 2, kurioje yra Trikampių savybės.**\n",
       "\n",
       "BRĖŽINYS: ![](simonas\\proof_pyth_2.PNG) | **DUOTA:** <ul><li> $ABCD$ ir $XYZT$ - kvadratai </li><li>$$AX=a$$ </li><li> $$AY=b$$ </li><li>$\\angle BXY = \\angle CYZ$</ul> **ĮRODYTI:** <ul><li>$\\triangle BXY =\\triangle CYZ = \\triangle CYZ = \\triangle ZDT$</li></ul> \n",
       " :---|:--- \n",
       "\n",
       "\n",
       "**Sprendimas.**\n",
       "\n",
       "Dvi $\\triangle BXY$ ir $\\triangle CYZ$ kampų poros sutampa, todėl sutampa ir trečioji pora. Taip pat $XY=YZ$. Vadinasi $\\triangle BXY = \\triangle CYZ$. Analogiškai $\\triangle CYZ = \\triangle ZDT$ ir $\\triangle ZDT = \\triangle XAT$"
      ],
      "text/plain": [
       "<IPython.core.display.Markdown object>"
      ]
     },
     "metadata": {},
     "output_type": "display_data"
    },
    {
     "data": {
      "text/markdown": [
       "**Uždavinio dalis 3 iš 2, kurioje yra Trikampių savybės.**\n",
       "\n",
       "BRĖŽINYS: ![](simonas\\proof_pyth_3.PNG) | **DUOTA:** <ul><li> $ABCD$ ir $XYZT$ - kvadratai </li><li>$$AX=a$$ </li><li> $$AY=b$$ </li><li>$$\\triangle BXY = \\triangle CYZ = \\triangle CYZ = \\triangle ZDT$$</ul> **RASTI:** <ul><li>$$S_{\\triangle BXY} + S_{\\triangle CYZ} + S_{\\triangle CYZ} + S_{\\triangle ZDT}$$</li></ul> \n",
       " :---|:--- \n",
       "\n",
       "\n",
       "**Sprendimas.**\n",
       "\n",
       "$S_{\\triangle BXY} + S_{\\triangle CYZ} + S_{\\triangle CYZ} + S_{\\triangle ZDT} = 4S_{\\triangle BXY} = 4\\cdot \\frac{ab}{2} = 2ab$"
      ],
      "text/plain": [
       "<IPython.core.display.Markdown object>"
      ]
     },
     "metadata": {},
     "output_type": "display_data"
    },
    {
     "data": {
      "text/markdown": [
       "**Uždavinio dalis 4 iš 2, kurioje yra Keturkampių savybės.**\n",
       "\n",
       "BRĖŽINYS: ![](simonas\\proof_pyth_3.PNG) | **DUOTA:** <ul><li> $ABCD$ ir $XYZT$ - kvadratai </li><li>$$AX=a$$ </li><li> $$AY=b$$ </li><li>$$\\triangle BXY = \\triangle CYZ = \\triangle CYZ = \\triangle ZDT$$</ul> **RASTI:** <ul><li>$$S_{ABCD}$$</li></ul> \n",
       " :---|:--- \n",
       "\n",
       "\n",
       "**Sprendimas.**\n",
       "\n",
       "$BX=YC=a$, todėl kvadrato ploto formulę turime $S_{ABCD}=(a+b)^2$"
      ],
      "text/plain": [
       "<IPython.core.display.Markdown object>"
      ]
     },
     "metadata": {},
     "output_type": "display_data"
    },
    {
     "data": {
      "text/markdown": [
       "**Uždavinio dalis 5 iš 2, kurioje yra Keturkampių savybės.**\n",
       "\n",
       "BRĖŽINYS: ![](simonas\\proof_pyth_5.PNG) | **DUOTA:** <ul><li> $ABCD$ ir $XYZT$ - kvadratai </li><li> $$XY=c$$ </li><li>$$S_{\\triangle BXY} + S_{\\triangle CYZ}+ S_{\\triangle CYZ} + S_{\\triangle ZDT}=2ab$$</ul> **RASTI:** <ul><li>$$S_{ABCD}$$</li></ul> \n",
       " :---|:--- \n",
       "\n",
       "\n",
       "**Sprendimas.**\n",
       "\n",
       "$S_{ABCD}=S_{\\triangle BXY} + S_{\\triangle CYZ} + S_{\\triangle CYZ} + S_{\\triangle ZDT}+S_{XYZT}=2ab+c^2$"
      ],
      "text/plain": [
       "<IPython.core.display.Markdown object>"
      ]
     },
     "metadata": {},
     "output_type": "display_data"
    },
    {
     "data": {
      "text/markdown": [
       "**Uždavinio dalis 6 iš 2, kurioje yra Greitosios daugybos formulės.**\n",
       "\n",
       "Duota, kad $(a+b)^2=c^2+2ab$, kur $a$ ir $b$ yra tam tikri žinomi dydžiai. Raskite nežinomojo $c$ reikšmę\n",
       "\n",
       "**Sprendimas.**\n",
       "\n",
       "$\\boxed{2ab+c^2 = (a+b)^2} \\Rightarrow \\boxed{2ab+c^2 = a^2+2ab+b^2} \\Rightarrow \\boxed{c^2 = a^2+b^2} \\Rightarrow \\boxed{c= \\sqrt{a^2+b^2}}$"
      ],
      "text/plain": [
       "<IPython.core.display.Markdown object>"
      ]
     },
     "metadata": {},
     "output_type": "display_data"
    }
   ],
   "source": [
    "problems = [('simonas/proofs', '1a'), ('simonas/proofs', '1b'), ('simonas/proofs', '2')]\n",
    "display(Markdown('# Uždaviniai'))\n",
    "for dir, id in problems: display(Markdown(show_problem(dir, id, show_solution=False).replace('Užduotis', 'Užduotis '+id)))\n",
    "display(Markdown('# Uždavinių dalys'))\n",
    "for dir, id in problems: \n",
    "    skills = check_skills(dir, id)\n",
    "    for which in range(1, len(skills)+1):\n",
    "        if len(skills)!=1: display(Markdown(show_case(dir, id, which=which, show_solution=False).replace(', kurioje yra', f' iš {id}, kurioje yra')))\n",
    "        else: display(Markdown(show_problem(dir, id, show_solution=False).replace('Užduotis', 'Užduotis '+id)))\n",
    "display(Markdown('# Uždavinių sprendimai'))\n",
    "for dir, id in problems: display(Markdown(show_problem(dir, id, show_solution=True).replace('Užduotis', 'Užduotis '+id)))\n",
    "display(Markdown('# Uždavinio dalių sprendimai'))\n",
    "for dir, id in problems: \n",
    "    skills = check_skills(dir, id)\n",
    "    for which in range(1, len(skills)+1):\n",
    "        if len(skills)!=1: display(Markdown(show_case(dir, id, which=which, show_solution=True).replace(', kurioje yra', f' iš {id}, kurioje yra')))\n",
    "        else: display(Markdown(show_problem(dir, id, show_solution=False).replace('Užduotis', 'Užduotis '+id)))"
   ]
  },
  {
   "cell_type": "markdown",
   "metadata": {},
   "source": [
    "### Papildomi komentarai\n",
    "* Visą informaciją šio testo rezultatus ateityje bus galima rasti [nuorodoje](rezultatai1.ipynb). Jeigu nuoroda neatsidaro, reikia eiti į https://nbviewer.jupyter.org, nukopijuoti nuorodos adresą į ten esantį laukelį ir paspausti Go!"
   ]
  },
  {
   "cell_type": "code",
   "execution_count": null,
   "metadata": {},
   "outputs": [],
   "source": [
    "#check_skills('licejus/2017', '4b') #Nusistatome, kiek dalių turi uždavinys, ką joms reikia mokėti\n",
    "#display(Markdown(show_problem('simonas/proofs', '2', show_solution=False))) # Paprašome suflerio\n",
    "display(Markdown(show_case('simonas/proofs', '2', which=6, show_solution=True))) # Pilnas sprendimas\n",
    "#display(Markdown(show_problem('licejus/2017', '6', show_solution=True))) # Pilnas sprendimas\n",
    "problems = [('licejus/2017', '4a'), ('licejus/2017', '4b'), ('licejus/2017', '7a'), ('licejus/2017', '7b'), ('simonas/proofs', '1a'), ('simonas/proofs', '1b'),\n",
    "           ('simonas/proofs', '2'), ('simonas/proofs', '3')]"
   ]
  }
 ],
 "metadata": {
  "kernelspec": {
   "display_name": "Python 3",
   "language": "python",
   "name": "python3"
  },
  "language_info": {
   "codemirror_mode": {
    "name": "ipython",
    "version": 3
   },
   "file_extension": ".py",
   "mimetype": "text/x-python",
   "name": "python",
   "nbconvert_exporter": "python",
   "pygments_lexer": "ipython3",
   "version": "3.8.3"
  }
 },
 "nbformat": 4,
 "nbformat_minor": 4
}
