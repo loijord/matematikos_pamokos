{
 "cells": [
  {
   "cell_type": "markdown",
   "metadata": {},
   "source": [
    "Namų darbai\n",
    "\n",
    "* Išspręsti visus uždavinius su [daugianarių dauginimais](https://github.com/loijord/matematikos_pamokos/blob/master/programa/Mantas/Projektas2/dauginimas.pdf)\n",
    "* Išspręsti keletą geometrijos uždavinių:\n",
    " * VBE 2015m. 23 uždavinys. \n",
    " * Duotas trikampis, kurio kraštinių ilgiai lygūs $a$, $b$ ir $c$, o vienas iš kampų lygus $C$. Remdamasis [šio teksto 9 psl.](https://github.com/loijord/egzanalysis/blob/master/READING/trigonometrija/trigonometrija.pdf) užuominomis įrodyk kosinusų teoremą. Kosinusų teorema iš tiesų yra bendresnis Pitagoro teoremos atvejis.\n",
    " * Taip pat alikti 2 uždavinius (4a, 4b, 7a, 7b) iš stojamųjų į licėjų. Juos pridedu apačioje. **Pastaba: kol kas brėžinių įkėlimas uždaviniuose užlūžęs, mėginsiu artimiausiu metu šiuos techninius nesklandumus išspręsti.** \n",
    "* Jei norisi, gali pasidomėti dažniausiai matematikoje [sutinkamomis sąvokomis](https://github.com/loijord/matematikos_pamokos/blob/master/programa/Nojus/stojamieji/sąvokų_žodynėlis.ipynb)."
   ]
  },
  {
   "cell_type": "code",
   "execution_count": 5,
   "metadata": {},
   "outputs": [
    {
     "data": {
      "text/markdown": [
       "# Uždaviniai"
      ],
      "text/plain": [
       "<IPython.core.display.Markdown object>"
      ]
     },
     "metadata": {},
     "output_type": "display_data"
    },
    {
     "data": {
      "text/markdown": [
       "**Užduotis 4a.**\n",
       "\n",
       "Lygiašonės trapecijos $ABCD$ trumpesnysis pagrindas $BC$ lygus šoninėms kraštinėms. Trapecijos perimetras lygus 124 cm, o pagrindų ilgiai sutinka santykiu 13:23. Parodykite, kad trumpesnysis trapecijos pagrindas lygus 26cm. [1tšk.]"
      ],
      "text/plain": [
       "<IPython.core.display.Markdown object>"
      ]
     },
     "metadata": {},
     "output_type": "display_data"
    },
    {
     "data": {
      "text/markdown": [
       "**Užduotis 4b.**\n",
       "\n",
       "Lygiašonės trapecijos $ABCD$ trumpesnysis pagrindas $BC$ yra tokio paties ilgio kaip šoninės kraštinės ir lygus 26 cm. Trapecijos pagrindų ilgiai sutinka santykiu 13:23. Raskite šios trapecijos plotą. [3tšk.]"
      ],
      "text/plain": [
       "<IPython.core.display.Markdown object>"
      ]
     },
     "metadata": {},
     "output_type": "display_data"
    },
    {
     "data": {
      "text/markdown": [
       "**Užduotis 7a.**\n",
       "\n",
       "Taškas $P$ yra stačiakampio $ABCD$ $(AB<BC)$ kraštinės $BC$ taškas, $AP$ - kampo $BAD$ pusiaukampinė. Žinoma, kad $PO$ yra statmena stačiakampio įstrižainei $AC$ ir taškas $O$ dalija šią įstrižainę pusiau. Apskaičiuokite kampo $CAD$ didumą [4tšk.]"
      ],
      "text/plain": [
       "<IPython.core.display.Markdown object>"
      ]
     },
     "metadata": {},
     "output_type": "display_data"
    },
    {
     "data": {
      "text/markdown": [
       "**Užduotis 7b.**\n",
       "\n",
       "Taškas $P$ yra stačiakampio $ABCD$ $(AB<BC)$ kraštinės $BC$ taškas, $AP$ - kampo $BAD$ pusiaukampinė. Žinoma, kad $PO$ yra statmena stačiakampio įstrižainei $AC$ ir taškas $O$ dalija šią įstrižainę pusiau. Užrašykite formulę, kuria remiantis būtų galima apskaičiuoti trikampio $APO$ plotą, kai žinomos stačiakampio kraštinės $AB = a$ ir $BC = b$ [2tšk.]"
      ],
      "text/plain": [
       "<IPython.core.display.Markdown object>"
      ]
     },
     "metadata": {},
     "output_type": "display_data"
    },
    {
     "data": {
      "text/markdown": [
       "# Uždavinių dalys"
      ],
      "text/plain": [
       "<IPython.core.display.Markdown object>"
      ]
     },
     "metadata": {},
     "output_type": "display_data"
    },
    {
     "data": {
      "text/markdown": [
       "**Užduotis 4a.**\n",
       "\n",
       "Lygiašonės trapecijos $ABCD$ trumpesnysis pagrindas $BC$ lygus šoninėms kraštinėms. Trapecijos perimetras lygus 124 cm, o pagrindų ilgiai sutinka santykiu 13:23. Parodykite, kad trumpesnysis trapecijos pagrindas lygus 26cm. [1tšk.]"
      ],
      "text/plain": [
       "<IPython.core.display.Markdown object>"
      ]
     },
     "metadata": {},
     "output_type": "display_data"
    },
    {
     "data": {
      "text/markdown": [
       "**Uždavinio dalis 1 iš 4b, kurioje yra Keturkampių savybės.**\n",
       "\n",
       "![](licejus\\lic2017_4b_step1.PNG)"
      ],
      "text/plain": [
       "<IPython.core.display.Markdown object>"
      ]
     },
     "metadata": {},
     "output_type": "display_data"
    },
    {
     "data": {
      "text/markdown": [
       "**Uždavinio dalis 2 iš 4b, kurioje yra Pitagoro teorema.**\n",
       "\n",
       "Stačiojo trikampio įžambinės ilgis lygus 26 cm, o vieno statinio ilgis lygus 10 cm. Raskite kito statinio ilgį"
      ],
      "text/plain": [
       "<IPython.core.display.Markdown object>"
      ]
     },
     "metadata": {},
     "output_type": "display_data"
    },
    {
     "data": {
      "text/markdown": [
       "**Uždavinio dalis 3 iš 4b, kurioje yra Keturkampių savybės.**\n",
       "\n",
       "Trapecijos pagrindų ilgiai lygūs 26cm ir 46cm, o aukštinės ilgis yra 10cm. Raskite šios trapecijos plotą"
      ],
      "text/plain": [
       "<IPython.core.display.Markdown object>"
      ]
     },
     "metadata": {},
     "output_type": "display_data"
    },
    {
     "data": {
      "text/markdown": [
       "**Uždavinio dalis 1 iš 7a, kurioje yra Trikampių savybės.**\n",
       "\n",
       "Įrodykite, kad $\\triangle APO = \\triangle POC$ ![](licejus\\lic2017_7a.PNG)"
      ],
      "text/plain": [
       "<IPython.core.display.Markdown object>"
      ]
     },
     "metadata": {},
     "output_type": "display_data"
    },
    {
     "data": {
      "text/markdown": [
       "**Uždavinio dalis 2 iš 7a, kurioje yra Trikampių savybės.**\n",
       "\n",
       "Duota, kad $\\triangle APO = \\triangle POC$. Įrodykite, kad $\\angle PAO=\\angle PCO$ ![](licejus\\lic2017_7a.PNG)"
      ],
      "text/plain": [
       "<IPython.core.display.Markdown object>"
      ]
     },
     "metadata": {},
     "output_type": "display_data"
    },
    {
     "data": {
      "text/markdown": [
       "**Uždavinio dalis 3 iš 7a, kurioje yra Trikampių savybės.**\n",
       "\n",
       "Duota, kad $\\angle PAO=\\angle PCO$. Raskite šiuos kampus remdamiesi brėžiniu"
      ],
      "text/plain": [
       "<IPython.core.display.Markdown object>"
      ]
     },
     "metadata": {},
     "output_type": "display_data"
    },
    {
     "data": {
      "text/markdown": [
       "**Uždavinio dalis 4 iš 7a, kurioje yra Kampų rūšys.**\n",
       "\n",
       "Stačiakampio vienas iš kampų yra padalytas į tris kampus, iš kurių du lygūs $45^o$ ir $22.5$. Kam lygus trečiasis kampas?"
      ],
      "text/plain": [
       "<IPython.core.display.Markdown object>"
      ]
     },
     "metadata": {},
     "output_type": "display_data"
    },
    {
     "data": {
      "text/markdown": [
       "**Uždavinio dalis 1 iš 7b, kurioje yra Pitagoro teorema.**\n",
       "\n",
       "BRĖŽINYS: ![](licejus\\lic2017_7a.PNG) | **DUOTA:** <ul><li> $ABCD$ - stačiakampis </li><li>$$\\angle BAP=\\angle PAD$$ </li><li> $$PO\\perp AC$$ </li><li>$$AO = OC$$</li><li>$$AB=a$$</li><li>$$BC=b$$</ul> **RASTI:** <ul><li>$AP$, $AO$</li></ul> \n",
       " :---|:---"
      ],
      "text/plain": [
       "<IPython.core.display.Markdown object>"
      ]
     },
     "metadata": {},
     "output_type": "display_data"
    },
    {
     "data": {
      "text/markdown": [
       "**Uždavinio dalis 2 iš 7b, kurioje yra Pitagoro teorema.**\n",
       "\n",
       "BRĖŽINYS: ![](licejus\\lic2017_7a.PNG) | **DUOTA:** <ul><li> $\\angle AOP = 90^o$ </li><li>$$AP=a\\sqrt{2}$$</li><li>$$AO=\\frac{\\sqrt{a^2+b^2}}{2}$$</ul> **RASTI:** <ul><li>$$S_{\\triangle APO}$$</li></ul> \n",
       " :---|:---"
      ],
      "text/plain": [
       "<IPython.core.display.Markdown object>"
      ]
     },
     "metadata": {},
     "output_type": "display_data"
    }
   ],
   "source": []
  }
 ],
 "metadata": {
  "kernelspec": {
   "display_name": "Python 3",
   "language": "python",
   "name": "python3"
  },
  "language_info": {
   "codemirror_mode": {
    "name": "ipython",
    "version": 3
   },
   "file_extension": ".py",
   "mimetype": "text/x-python",
   "name": "python",
   "nbconvert_exporter": "python",
   "pygments_lexer": "ipython3",
   "version": "3.8.3"
  }
 },
 "nbformat": 4,
 "nbformat_minor": 4
}
