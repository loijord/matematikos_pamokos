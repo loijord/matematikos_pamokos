{
 "cells": [
  {
   "cell_type": "markdown",
   "metadata": {},
   "source": [
    "Mokytojų noriu paklausti, ar mokyklinėje matematikos ar fizikos programoje skiriate pamokų, kur būtų aiškinama apie atskiruosius atvejus? Taip pat kelintos klasės moksleiviai šį dalyką nagrinėti būtų pasiruošę? \n",
    "\n",
    "Toliau pamėginsiu išdėstyti, kaip aš pats suprantu šią temą."
   ]
  },
  {
   "cell_type": "markdown",
   "metadata": {},
   "source": [
    "### Atskirieji atvejai - kas tai yra?\n",
    "***Taisyklės (teiginio/teoremos/formulės) atskiru atveju atveju laikome kitą taisyklę, gautą įvedus papildomą sąlygą.*** Pavyzdžiai, nuo kurių būtų galima pradėti studijuoti šią sąvoką:\n",
    "\n",
    "|Taisyklė| Sąlyga | Atskiras atvejis |\n",
    "|:---:|:---:|:---:|\n",
    "|Tarkime trikampis, kurio statinių ilgiai lygūs $a$ ir $b$, o įžambinės ilgis lygus $c$, status. Tada $a^2+b^2=c^2$|Atvejis $\\boxed{a=b}$|Tarkime trikampis, kurio abiejų statinių ilgiai lygūs $a$, o įžambinės ilgis lygus $c$, status. Tada $2a^2=c^2$|\n",
    "|$(x+y)^2=x^2+2xy+y^2$|Atvejis $\\boxed{y=2}$|$(x+2)^2=x^2+4x+4$|\n",
    "|$a^n = \\underbrace{a \\times a \\times \\dots \\times a}_{n}$ |Atvejis $\\boxed{a \\to a^m}$ | $\\left(a^m\\right)^n = \\underbrace{a^m \\times a^m \\times \\dots \\times a^m}_{n}$|\n",
    "|Jei kūno neveikia išorinės jėgos, pradinis greitis lygus galutiniam greičiui |Atvejis, kai pradinis greitis nulinis | Jei kūno neveikia išorinės jėgos ir jo pradinis greitis nulinis, tai nulinis bus ir galutinis greitis|\n",
    "|$(a+b)^2=a^2+2ab+b^2$|Atvejis, kai $a^2+b^2=1$|$(a+b)^2=2ab+1$|\n",
    "\n",
    "Dar viena įdomesnė mintis būtų tvirtinimas, kad kvadratas yra atskiras stačiakampio atvejis. Žodžiuose ***kvadratas*** ir ***stačiakampis*** taisyklė/teiginys/teorema/formulė neatsispindi, bet vietoje jų reiktų panagrinėti jų apibrėžimus:\n",
    "\n",
    "|Apibrėžimas| Sąlyga | Atskiras atvejis |\n",
    "|:---:|:---:|:---:|\n",
    "|Stačiakampis - tai keturkampis, kurio visi kampai statūs|Atvejis, kai kraštinės lygios|Kvadratas - tai keturkampis, kurio visi kampai statūs ir visos kraštinės lygios|"
   ]
  },
  {
   "cell_type": "markdown",
   "metadata": {},
   "source": [
    "### Atskirieji atvejai: patogesnis būdas juos iliustruoti\n",
    "Varginančiai ilgiems matematinių samprotavimų dėstymams sugalvojau vieną daugiau aiškumo suteikiantį būdą: logines konstrukcijas ***jei A teisinga tai teisinga B pagal teiginį C*** vaizduoti: $$\\boxed{A} \\stackrel{\\begin{array}{c}\\boxed{C} \\\\ \\big\\downarrow \\end{array}}{\\longrightarrow} \\boxed{B}$$\n",
    "\n",
    "Šį vaizdavimą galime taikyti ir kalbant apie atskiruosius atvejus:\n",
    "\n",
    "$$\\boxed{\\text{taisyklė}} \\stackrel{\\begin{array}{c}\\boxed{\\text{sąlyga}} \\\\ \\big\\downarrow \\end{array}}{\\longrightarrow} \\boxed{\\text{atskiras atvejis}}$$\n",
    "\n",
    "Tad prieš tai minėtus pavyzdžius galėtume pavaizduoti ir schematiškai.\n",
    "\n",
    "***Pavyzdys 1.***\n",
    "\n",
    "$$\\begin{array}{ccc}\n",
    "\\boxed{\\stackrel{\\stackrel{\\boxed{\\text{jei trikampis status, tai } a^2+b^2=c^2}}{\\big\\downarrow\\longleftarrow\\boxed{a=b}}}{\\boxed{\\text{jei trikampis status, tai } 2a^2=c^2}}}\n",
    "&\\text{  arba   }& \n",
    "\\boxed{\\boxed{\\text{jei trikampis status, tai } a^2+b^2=c^2} \\stackrel{\\begin{array}{c}\\boxed{a = b} \\\\ \\big\\downarrow \\end{array}}{\\longrightarrow} \\boxed{\\text{jei trikampis status, tai } 2a^2=c^2}}\n",
    "\\end{array}$$\n",
    "\n",
    "***Pavyzdys 2.***\n",
    "\n",
    "$$\\begin{array}{ccc}\n",
    "\\boxed{\\stackrel{\\stackrel{\\boxed{(x+y)^2 = x^2+2xy+y^2}}{\\big\\downarrow\\longleftarrow\\boxed{y=2}}}{\\boxed{(x+2)^2 = x^2+4x+4}}}\n",
    "&\\text{  arba   }& \n",
    "\\boxed{\\boxed{(x+y)^2 = x^2+2xy+y^2} \\stackrel{\\begin{array}{c}\\boxed{y = 2} \\\\ \\big\\downarrow \\end{array}}{\\longrightarrow} \\boxed{(x+2)^2 = x^2+4x+4}}\n",
    "\\end{array}$$\n",
    "\n",
    "***Pavyzdys 3.***\n",
    "\n",
    "$$\\begin{array}{ccc}\n",
    "\\boxed{\\stackrel{\\stackrel{\\boxed{u = v}\\phantom{xxxxxxxxx}}{\\big\\downarrow\\longleftarrow\\boxed{u = 0}}}{\\boxed{v = 0}\\phantom{xxxxxx}}}\n",
    "&\\text{  arba   }& \n",
    "\\boxed{\\boxed{u = v} \\stackrel{\\begin{array}{c}\\boxed{u = 0} \\\\ \\big\\downarrow \\end{array}}{\\longrightarrow} \\boxed{v = 0}}\n",
    "\\end{array}$$\n",
    "\n",
    "***Pavyzdys 4.***\n",
    "\n",
    "$$\\begin{array}{ccc}\n",
    "\\boxed{\\stackrel{\\stackrel{\\boxed{a^n = \\underbrace{a \\times a \\times \\dots \\times a}_{n}}}{\\big\\downarrow\\longleftarrow\\boxed{a \\to a^m}}}{\\boxed{\\left(a^m\\right)^n = \\underbrace{a^m \\times a^m \\times \\dots \\times a^m}_{n}}}}\n",
    "&\\text{  arba   }& \n",
    "\\boxed{\\boxed{a^n = \\underbrace{a \\times a \\times \\dots \\times a}_{n}} \\stackrel{\\begin{array}{c}\\boxed{a \\to a^m} \\\\ \\big\\downarrow \\end{array}}{\\longrightarrow} \\boxed{\\left(a^m\\right)^n = \\underbrace{a^m \\times a^m \\times \\dots \\times a^m}_{n}}}\n",
    "\\end{array}$$\n",
    "\n",
    "***Pavyzdys 5.***\n",
    "\n",
    "$$\\begin{array}{ccc}\n",
    "\\boxed{\\stackrel{\\stackrel{\\boxed{(a+b)^2=a^2+2ab+b^2}}{\\big\\downarrow\\longleftarrow\\boxed{a^2+b^2 = 1}}}{\\boxed{(a+b)^2=2ab+1}}}\n",
    "&\\text{  arba   }& \n",
    "\\boxed{\\boxed{(a+b)^2=a^2+2ab+b^2} \\stackrel{\\begin{array}{c}\\boxed{a^2+b^2 = 1} \\\\ \\big\\downarrow \\end{array}}{\\longrightarrow} \\boxed{(a+b)^2=2ab+1}}\n",
    "\\end{array}$$"
   ]
  },
  {
   "cell_type": "markdown",
   "metadata": {},
   "source": [
    "### Atskirieji atvejai: taikymo pavyzdys"
   ]
  },
  {
   "cell_type": "markdown",
   "metadata": {},
   "source": [
    "Pavaizduotas schemas galime taikyti, kai bandome pagrįsti įvairias taisykles, įeinančias į matematikos pamokų turinį. Pavyzdžiui:\n",
    "    \n",
    "![](neuro_output.PNG)"
   ]
  }
 ],
 "metadata": {
  "kernelspec": {
   "display_name": "Python 3",
   "language": "python",
   "name": "python3"
  },
  "language_info": {
   "codemirror_mode": {
    "name": "ipython",
    "version": 3
   },
   "file_extension": ".py",
   "mimetype": "text/x-python",
   "name": "python",
   "nbconvert_exporter": "python",
   "pygments_lexer": "ipython3",
   "version": "3.8.3"
  }
 },
 "nbformat": 4,
 "nbformat_minor": 4
}
