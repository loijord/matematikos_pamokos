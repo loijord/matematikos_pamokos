{
 "cells": [
  {
   "cell_type": "markdown",
   "metadata": {},
   "source": [
    "## Pastabos Rimui dėl turinio\n",
    "* Savo darbe aš apibrėžiau, kad bet kuris narys $(x,y)\\in X$, čia $X$ - sąryšis, tenkina tam tikras savybes. Tolimesnėje darbo dalyje priklausomai nuo konteksto, bus įvardyta, kokioms aibėms priklauso dvejetų, priklausančių $X$, nariai - ar teigiamų realiųjų skaičių, ar visų realiųjų, ar dydžiai su tam tikromis skaitinėmis dalimis. Ar man tikrai būtina dabar apibrėžinėti aibes? Nežinau, kaip tai ,,švariai\" padaryti. Nario $(x,y)\\in X$ pavyzdys: (4 pieštukai, 6 pieštukai).\n",
    "* Darbo citata: **Kitais [ne fizikinių dydžių] atvejais dydis dažnai buna susijes su objektu: picų, obuolių, žmonių, geometrinių figurų ir pan. skaičiavimu, todel matavimo vienetais laikomi tam tikri objektai.** Čia aš įvedu savo deklaraciją, dėl kurios visuotinio priimtinumo abejoju. 4 pieštukai man - dydis, turintis skaitinę reikšmę 4 ir matavimo vienetą - pieštuką. Bet kurio ETU veiksmo kategorizavime $(a*b=c)$ siekiu paaiškinti, kokius dydžius ženklina kintamieji. Jei $a$ = 4 pieštukai ne dydis, tai nėra kaip toliau kalbėti apie realaus pasaulio konteksto uždavinius.\n",
    "* Du dydžiai nėra dauginami ar dalijami. Apibrėžtas tik jų santykis (ir sandauga)? O gal santykis - taip pat ne dydis, o tik palyginimas arba skaičius? Minties dėl dalijimu, dauginimo taip ir nesupratau. Kontrargumentai:\n",
    "\n",
    "  * Paskaičiau ***Ratios, proportions, and angles skyrelį*** ir jis tik patvirtino bedimensio dydžio supratimą: jie dažnai išreiškiami santykiais dviejų dydžių, kurie nėra bedimensiai, bet išsiprastina, pvz. funkcijos krypties koeficientas, deformacija, alkoholio stiprumas procentais. \n",
    "  * International dictionary of metrology viskas labai aišku.\n",
    "  * Mano darbe vartojama sąvoka, kad, jei visiems $(x,y)\\in X$ reiškinio reikšmė $x:y$ vienoda, tai $x$ ir $y$ yra susieti santykiu. ETU kontekste $x$ ir $y$ dydžiai. Tuo tarpu esant vienodai $x\\times y$ reikšmei prireikia vieną kintamąjį laikyti bedimensiu dydžiu. Kodėl $x:y$ negalima laikyti dalijimu, o $x\\times y$ - dauginimu, nesuprantu.\n",
    "  \n",
    "* Mišriojo dydžio sąvoką pirmą kartą girdžiu ir nežinau, kur rasti. Bandžiau dar įvesti ***mixed quantity*** - nepavyko. Rodo ***mixed number***, kas yra visai kita sąvoka.\n",
    "* Dėl kategorijų vs subkonstruktų nieko negaliu padaryti - tiesiog poskyrius pervadinau visus vienodai."
   ]
  }
 ],
 "metadata": {
  "kernelspec": {
   "display_name": "Python 3",
   "language": "python",
   "name": "python3"
  },
  "language_info": {
   "codemirror_mode": {
    "name": "ipython",
    "version": 3
   },
   "file_extension": ".py",
   "mimetype": "text/x-python",
   "name": "python",
   "nbconvert_exporter": "python",
   "pygments_lexer": "ipython3",
   "version": "3.8.3"
  }
 },
 "nbformat": 4,
 "nbformat_minor": 4
}
