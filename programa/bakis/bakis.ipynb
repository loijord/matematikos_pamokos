{
 "cells": [
  {
   "cell_type": "markdown",
   "metadata": {},
   "source": [
    "## Pastabos Rimui dėl turinio\n",
    "* Savo darbe aš apibrėžiau, kad bet kuris narys $(x,y)\\in X$, čia $X$ - sąryšis, tenkina tam tikras savybes. Tolimesnėje darbo dalyje priklausomai nuo konteksto, bus įvardyta, kokioms aibėms priklauso dvejetų, priklausančių $X$, nariai - ar teigiamų realiųjų skaičių, ar visų realiųjų, ar dydžiai su tam tikromis skaitinėmis dalimis. Ar man tikrai būtina dabar apibrėžinėti aibes? Nežinau, kaip tai ,,švariai\" padaryti. Nario $(x,y)\\in X$ pavyzdys: (4 pieštukai, 6 pieštukai).\n",
    "* Darbo citata: **Kitais [ne fizikinių dydžių] atvejais dydis dažnai buna susijes su objektu: picų, obuolių, žmonių, geometrinių figurų ir pan. skaičiavimu, todel matavimo vienetais laikomi tam tikri objektai.** Čia aš įvedu savo deklaraciją, dėl kurios visuotinio priimtinumo abejoju. 4 pieštukai man - dydis, turintis skaitinę reikšmę 4 ir matavimo vienetą - pieštuką. Bet kurio ETU veiksmo kategorizavime $(a*b=c)$ siekiu paaiškinti, kokius dydžius ženklina kintamieji. Jei $a$ = 4 pieštukai ne dydis, tai nėra kaip toliau kalbėti apie realaus pasaulio konteksto uždavinius.\n",
    "* Du dydžiai nėra dauginami ar dalijami. Apibrėžtas tik jų santykis (ir sandauga)? O gal santykis - taip pat ne dydis, o tik palyginimas arba skaičius? Minties dėl dalijimu, dauginimo taip ir nesupratau. Kontrargumentai:\n",
    "\n",
    "  * Paskaičiau ***Ratios, proportions, and angles skyrelį*** ir jis tik patvirtino bedimensio dydžio supratimą: jie dažnai išreiškiami santykiais dviejų dydžių, kurie nėra bedimensiai, bet išsiprastina, pvz. funkcijos krypties koeficientas, deformacija, alkoholio stiprumas procentais. \n",
    "  * International dictionary of metrology viskas labai aišku.\n",
    "  * Mano darbe vartojama sąvoka, kad, jei visiems $(x,y)\\in X$ reiškinio reikšmė $x:y$ vienoda, tai $x$ ir $y$ yra susieti santykiu. ETU kontekste $x$ ir $y$ dydžiai. Tuo tarpu esant vienodai $x\\times y$ reikšmei prireikia vieną kintamąjį laikyti bedimensiu dydžiu. Kodėl $x:y$ negalima laikyti dalijimu, o $x\\times y$ - dauginimu, nesuprantu.\n",
    "  \n",
    "* Mišriojo dydžio sąvoką pirmą kartą girdžiu ir nežinau, kur rasti. Bandžiau dar įvesti ***mixed quantity*** - nepavyko. Rodo ***mixed number***, kas yra visai kita sąvoka.\n",
    "* Dėl kategorijų vs subkonstruktų nieko negaliu padaryti - tiesiog poskyrius pervadinau visus vienodai."
   ]
  },
  {
   "cell_type": "code",
   "execution_count": 56,
   "metadata": {},
   "outputs": [
    {
     "name": "stdout",
     "output_type": "stream",
     "text": [
      "\\begin{tabular}{llllll}\n",
      "\\toprule\n",
      "{} &      Tekstas & Veiksmas & Operacija & Kategorija & Subkategorija \\\\\n",
      "\\midrule\n",
      "0 &  Uždavinys 1 &      aAb &         A &         A1 &          A1a2 \\\\\n",
      "1 &  Uždavinys 1 &      aBb &         B &         B3 &            -1 \\\\\n",
      "2 &  Uždavinys 2 &      aCb &         C &         C2 &          C2c3 \\\\\n",
      "3 &  Uždavinys 2 &      aCb &         C &         C1 &          C1c1 \\\\\n",
      "4 &  Uždavinys 2 &      aAb &         A &         A1 &          A1a3 \\\\\n",
      "5 &  Uždavinys 3 &      aCb &         C &         C1 &          C1c2 \\\\\n",
      "6 &  Uždavinys 3 &      aCb &         C &         C2 &          C2c3 \\\\\n",
      "7 &  Uždavinys 3 &      aDb &         D &         D4 &          D4d2 \\\\\n",
      "\\bottomrule\n",
      "\\end{tabular}\n",
      "\n"
     ]
    }
   ],
   "source": [
    "import pandas as pd\n",
    "df = pd.read_excel('test.xlsx', index_col=[0,1]).reset_index()\n",
    "df.fillna(-1, inplace=True)\n",
    "df.set_index(['Operacija', 'Kategorija', 'Subkategorija'])\n",
    "print(df.to_latex())"
   ]
  },
  {
   "cell_type": "code",
   "execution_count": 65,
   "metadata": {
    "scrolled": true
   },
   "outputs": [
    {
     "data": {
      "image/png": "[encoded data removed]",
      "text/plain": [
       "<Figure size 432x288 with 1 Axes>"
      ]
     },
     "metadata": {},
     "output_type": "display_data"
    }
   ],
   "source": [
    "import matplotlib.pyplot as plt\n",
    "fig, ax = plt.subplots()\n",
    "level1_names = ['A', 'B', 'C', 'D']\n",
    "level2_names = ['A1', 'B3', 'C1', 'C2', 'D4']\n",
    "level3_names = ['A1a2', 'A1a3', '', 'C1c1', 'C1c2', 'C2c3', 'D4d2']\n",
    "ax.pie(df.groupby('Operacija').size(), radius=0.4, \n",
    "       labels=level1_names, labeldistance=0.55,\n",
    "       wedgeprops=dict(width=0.3, edgecolor='k', fc='w'))\n",
    "ax.pie(df.groupby(['Operacija', 'Kategorija']).size(), radius=0.7, \n",
    "       labels=level2_names, labeldistance=0.7,\n",
    "       wedgeprops=dict(width=0.3, edgecolor='k', fc='w'))\n",
    "ax.pie(df.groupby(['Operacija', 'Kategorija', 'Subkategorija']).size(), radius=1, \n",
    "       labels=level3_names, labeldistance=0.75,\n",
    "       wedgeprops=dict(width=0.3, edgecolor='k', fc='w'))\n",
    "ax.set(aspect=\"equal\", title='Teorinės ETU taksomijos demonstracija')\n",
    "plt.savefig('yra.png')\n",
    "plt.show()"
   ]
  },
  {
   "cell_type": "code",
   "execution_count": 64,
   "metadata": {},
   "outputs": [
    {
     "data": {
      "text/plain": [
       "<Figure size 432x288 with 0 Axes>"
      ]
     },
     "metadata": {},
     "output_type": "display_data"
    }
   ],
   "source": []
  },
  {
   "cell_type": "code",
   "execution_count": 41,
   "metadata": {},
   "outputs": [
    {
     "ename": "AttributeError",
     "evalue": "'NoneType' object has no attribute 'groupby'",
     "output_type": "error",
     "traceback": [
      "\u001b[1;31m---------------------------------------------------------------------------\u001b[0m",
      "\u001b[1;31mAttributeError\u001b[0m                            Traceback (most recent call last)",
      "\u001b[1;32m<ipython-input-41-b38a54ace19d>\u001b[0m in \u001b[0;36m<module>\u001b[1;34m\u001b[0m\n\u001b[1;32m----> 1\u001b[1;33m \u001b[0mdf\u001b[0m\u001b[1;33m.\u001b[0m\u001b[0mfillna\u001b[0m\u001b[1;33m(\u001b[0m\u001b[1;33m-\u001b[0m\u001b[1;36m1\u001b[0m\u001b[1;33m,\u001b[0m \u001b[0minplace\u001b[0m\u001b[1;33m=\u001b[0m\u001b[1;32mTrue\u001b[0m\u001b[1;33m)\u001b[0m\u001b[1;33m.\u001b[0m\u001b[0mgroupby\u001b[0m\u001b[1;33m(\u001b[0m\u001b[1;33m[\u001b[0m\u001b[1;34m'Operacija'\u001b[0m\u001b[1;33m,\u001b[0m \u001b[1;34m'Kategorija'\u001b[0m\u001b[1;33m,\u001b[0m \u001b[1;34m'Subkategorija'\u001b[0m\u001b[1;33m]\u001b[0m\u001b[1;33m)\u001b[0m\u001b[1;33m.\u001b[0m\u001b[0msize\u001b[0m\u001b[1;33m(\u001b[0m\u001b[1;33m)\u001b[0m\u001b[1;33m\u001b[0m\u001b[1;33m\u001b[0m\u001b[0m\n\u001b[0m",
      "\u001b[1;31mAttributeError\u001b[0m: 'NoneType' object has no attribute 'groupby'"
     ]
    }
   ],
   "source": [
    "df.fillna(-1, inplace=True).groupby(['Operacija', 'Kategorija', 'Subkategorija']).size()"
   ]
  },
  {
   "cell_type": "code",
   "execution_count": 18,
   "metadata": {},
   "outputs": [
    {
     "data": {
      "text/plain": [
       "Operacija  Kategorija  Subkategorija\n",
       "atimtis    a           NaN              1-0\n",
       "sudėtis    b           bah              1+1\n",
       "daugyba    c           bac              1*1\n",
       "           d           NaN              1*0\n",
       "sudėtis    c           bac              1+1\n",
       "Name: Veiksmas, dtype: object"
      ]
     },
     "execution_count": 18,
     "metadata": {},
     "output_type": "execute_result"
    }
   ],
   "source": [
    "df.fillna(-1, inplace=True)\n",
    "df['Veiksmas']"
   ]
  },
  {
   "cell_type": "code",
   "execution_count": 73,
   "metadata": {},
   "outputs": [
    {
     "data": {
      "text/plain": [
       "Operacija  Kategorija  Subkategorija\n",
       "daugyba    c           bac              1\n",
       "sudėtis    b           bah              1\n",
       "           c           bac              1\n",
       "dtype: int64"
      ]
     },
     "execution_count": 73,
     "metadata": {},
     "output_type": "execute_result"
    }
   ],
   "source": [
    "df.groupby(['Operacija', 'Kategorija', 'Subkategorija']).size()"
   ]
  }
 ],
 "metadata": {
  "kernelspec": {
   "display_name": "Python 3",
   "language": "python",
   "name": "python3"
  },
  "language_info": {
   "codemirror_mode": {
    "name": "ipython",
    "version": 3
   },
   "file_extension": ".py",
   "mimetype": "text/x-python",
   "name": "python",
   "nbconvert_exporter": "python",
   "pygments_lexer": "ipython3",
   "version": "3.8.3"
  }
 },
 "nbformat": 4,
 "nbformat_minor": 4
}
