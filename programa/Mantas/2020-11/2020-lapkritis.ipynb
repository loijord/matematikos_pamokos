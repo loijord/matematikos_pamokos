{
 "cells": [
  {
   "cell_type": "markdown",
   "metadata": {},
   "source": [
    "### Aštunta pamoka\n",
    "\n",
    "Aštuntą pamoką tikrinomės Manto anksčiau atliktą [Projekto1](Projektas1) [pirmą testą](testas1.pdf), kuriame buvo kartojamos sunkesnės ankstesnių pamokų dalys. Testo rezultatai:"
   ]
  },
  {
   "cell_type": "markdown",
   "metadata": {},
   "source": [
    "1\\. $\\boxed{+}$ Reiškinio įstatymas į kintamąjį lygybėje\n",
    "\n",
    "2\\. $\\boxed{-}$ Dydžio, išreiškiamo $a^4$, apibūdinimas\n",
    "\n",
    "3\\. $\\boxed{+}$ Pakartotinė laipsnio sudėtis ir daugyba\n",
    "\n",
    "4\\. $\\boxed{+}$ Šaknies traukimo procedūra daugiklius vaizduojant kaip žėtonus\n",
    "\n",
    "5\\. $\\boxed{-}$ Lygybės $\\left(2^{-3}\\right)^{2} = 2^{-6}$ atpažinimas daugiklių (vaizduojamų žėtonais) pagalba\n",
    "\n",
    "6\\. $\\boxed{-}$ 1/2 ir 1/3 prasmė laipsnio rodiklyje\n",
    "\n",
    "7\\. $\\boxed{-}$ Dalinių atvejų pavyzdžiai\n",
    "\n",
    "8\\. $\\boxed{\\approx}$ Taisyklingosios piramidės paviršiaus ploto skaičiavimas, kai žinomos briaunos\n",
    "\n",
    "9\\. $\\boxed{+}$ Pitagoro trejetų apibrėžimas ir praktinis taikymas\n",
    "\n",
    "10\\. $\\boxed{+}$ Daugianarių daugyba\n",
    "\n",
    "11\\. $\\boxed{+}$ Pitagoro teoremos pradinis (antikinis) pavaizdavimas\n",
    "\n",
    "12\\. $\\boxed{-}$ Bandymas nustatyti judančio kūno trajektoriją\n",
    "\n"
   ]
  },
  {
   "cell_type": "markdown",
   "metadata": {},
   "source": [
    "Kiekvienam uždaviniui, kurio Mantas savarankiškai neįveikė, stengiausi surasti kuo daugiau pavyzdžių, padedančių suprasti medžiagą, kuria remiantis buvo sudaryti uždaviniai."
   ]
  },
  {
   "cell_type": "markdown",
   "metadata": {},
   "source": [
    "![](autumn.png)"
   ]
  },
  {
   "cell_type": "markdown",
   "metadata": {},
   "source": [
    "### Dydžiai\n",
    "\n",
    "* $a$ žymimas atkarpos ilgis\n",
    "* $a^2$ žymimas kvadrato plotas\n",
    "* $a^3$ žymimas kubo tūris\n",
    "* $a^4$ sugalvoti sunkiau, nes gyvename tik trimačiame pasaulyje. Galėjome remtis paveikslėliu $a^4$ priskirti tūrį $a$ kubų, kurio kiekvieno kraštinė lygi $a$. Sunkesnis momentas buvo skaičiaus $a$ laikymas skirtingais dalykais priklausomai nuo situacijos.\n",
    "* Vėliau Mantas patvirtino, kad galėtų sugalvoti ir $a^7$ prasmę.\n",
    "\n",
    "***Dydžiu galime vadinti savybę, kuriai priskiriamas skaičius pasirenkant matavimo vienetą***. Pavyzdžiui Saturno temperatūra yra dydis, kuriam galima priskirti skaičių 100 ir matavimo vienetą - kelvinus. Pagal Vikipediją, [fizikinis dydis](https://lt.wikipedia.org/wiki/Fizikinis_dydis) yra išreiškiamas jo skaitinės vertės ir matavimo vieneto sandauga. 1822 metais matavimo vieneto sąvoką pirmasis įvedė prancūzų mokslininkas Furjė."
   ]
  },
  {
   "cell_type": "markdown",
   "metadata": {},
   "source": [
    "### Žėtonai\n",
    "Nors šaknies traukimas įsivaizduojant daugiklius kaip žėtonus jau aiškus, bet laipsnių operacijos dar nepilnai. Prie to galbūt prisideda vienas prieštaravimas.\n",
    "\n",
    "***Sudėtis vs atimtis***. Skaičius -2 turi dvigubą interpretaciją. Tai gali būti ir skaičius, neigiamas skaičiui 2, ir tuo pačiu atėminys iš tam tikro turinio.\n",
    "\n",
    "***Daugyba vs dalyba***. Panašų fokusą gauname ir žaidime su žėtonais, kur leistina tik daugyba arba dalyba, bet ne sudėtis ir atimtis. Apverstas žėtonas $\\boxed{2}$ atitinka skaičių, atvirkštinį 2, t.y. $\\frac{1}{2}$ arba $2^{-1}$. Bet tuo pačiu apverstas dvejetas atitinka ir daliklį, iš kurio dalijamas tam tikras dalinys. Kalbant apie žėtonus anksčiau būdavo labiau akcentuojama, kad apversti žėtoną reiškia pakeisti dalybą į daugybą, bet, kad tai susiję su neigiamu laipsnio rodikliu arba atvirkštiniu skaičiumi, galbūt nebuvo taip aiškiai matyti."
   ]
  },
  {
   "cell_type": "markdown",
   "metadata": {},
   "source": [
    "### Trupmenos rodiklyje\n",
    "Trupmeniniai laipsnių rodikliai plačiai nagrinėjami 11 klasėje, bet šiandienai kol kas pravers žinoti, kokioje situacijoje jie gali atsirasti. Pagal aštuntos klasės programą galime pastebėti:\n",
    "$$3^{1/2} \\times 3^{1/2} = 3$$\n",
    "$$3^{1/3} \\times 3^{1/3} \\times 3^{1/3} = 3$$\n",
    "Manto spėjimas buvo, kad $3^{1/3}$ yra trečdalis trejeto, bet tai nelogiška, nes tai lygu 1. Iš tiesų, kaip anksčiau jau mokėmės, jei $x\\times x = 3$, tai $x$ yra kvadratinė šaknis iš $3$. ($\\approx 1,73$). Be to, jei $x\\times x \\times x = 3$, tai $x$ vadina kubine šaknimi iš $3$ ($\\approx 1,44$)\n",
    "\n",
    "Galbūt nenatūraliai atrodo noras $3$ suskaidyti į tris dalis. Įprastai gyvenime esame įpratę, kad tai atitinka dalybą iš 3. Tačiau žėtonų žaidime net ir suskaidyti dalykai yra ne dedami, o dauginami. Todėl trečdalis daugiklio 3 žėtonų žaidime atitiktų tokį skaičių $x$, kad $x\\times x\\times x=3$.\n",
    "\n",
    "Taip pat norint rasti atitikmenų tokiems skaičiams kaip $2^{3/5}$, galime parašyti: $2^{3/5} = \\left(2^{1/5}\\right)^3 = \\sqrt[5]{2}^3$"
   ]
  },
  {
   "cell_type": "code",
   "execution_count": null,
   "metadata": {},
   "outputs": [],
   "source": []
  }
 ],
 "metadata": {
  "kernelspec": {
   "display_name": "Python 3",
   "language": "python",
   "name": "python3"
  },
  "language_info": {
   "codemirror_mode": {
    "name": "ipython",
    "version": 3
   },
   "file_extension": ".py",
   "mimetype": "text/x-python",
   "name": "python",
   "nbconvert_exporter": "python",
   "pygments_lexer": "ipython3",
   "version": "3.8.3"
  }
 },
 "nbformat": 4,
 "nbformat_minor": 4
}
