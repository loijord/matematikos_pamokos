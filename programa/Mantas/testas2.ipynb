{
 "cells": [
  {
   "cell_type": "markdown",
   "metadata": {},
   "source": [
    "**Šiame faile galima 4 skirtingais režimais peržiūrėti per pamoką spręstus uždavinius**"
   ]
  },
  {
   "cell_type": "code",
   "execution_count": 4,
   "metadata": {},
   "outputs": [],
   "source": [
    "def F(text):\n",
    "    return text.replace('![](', r'![](../database/')\n",
    "import os\n",
    "if os.path.basename(os.getcwd()) == 'Mantas':\n",
    "    os.chdir('../database')\n",
    "\n",
    "problems = [('licejus/2017', '6'), ('licejus/2017', '4b'), ('licejus/2017', '7a'), ('licejus/2017', '7b'), ('simonas/proofs', '1a'), ('simonas/proofs', '1b'), ('simonas/tables', '8')]"
   ]
  },
  {
   "cell_type": "code",
   "execution_count": 5,
   "metadata": {},
   "outputs": [
    {
     "data": {
      "text/markdown": [
       "# Uždaviniai"
      ],
      "text/plain": [
       "<IPython.core.display.Markdown object>"
      ]
     },
     "metadata": {},
     "output_type": "display_data"
    },
    {
     "data": {
      "text/markdown": [
       "**Užduotis 6.**\n",
       "\n",
       "Žinoma, kad merginos sudarė daugiau nei 20%, bet mažiau nei 25% visų ekskursijos dalyvių skaičiaus. Raskite mažiausią galimą šios ekskursijos dalyvių skaičių [3tšk.]"
      ],
      "text/plain": [
       "<IPython.core.display.Markdown object>"
      ]
     },
     "metadata": {},
     "output_type": "display_data"
    },
    {
     "data": {
      "text/markdown": [
       "**Užduotis 4b.**\n",
       "\n",
       "Lygiašonės trapecijos $ABCD$ trumpesnysis pagrindas $BC$ yra tokio paties ilgio kaip šoninės kraštinės ir lygus 26 cm. Trapecijos pagrindų ilgiai sutinka santykiu 13:23. Raskite šios trapecijos plotą. [3tšk.]"
      ],
      "text/plain": [
       "<IPython.core.display.Markdown object>"
      ]
     },
     "metadata": {},
     "output_type": "display_data"
    },
    {
     "data": {
      "text/markdown": [
       "**Užduotis 7a.**\n",
       "\n",
       "Taškas $P$ yra stačiakampio $ABCD$ $(AB<BC)$ kraštinės $BC$ taškas, $AP$ - kampo $BAD$ pusiaukampinė. Žinoma, kad $PO$ yra statmena stačiakampio įstrižainei $AC$ ir taškas $O$ dalija šią įstrižainę pusiau. Apskaičiuokite kampo $CAD$ didumą [4tšk.]"
      ],
      "text/plain": [
       "<IPython.core.display.Markdown object>"
      ]
     },
     "metadata": {},
     "output_type": "display_data"
    },
    {
     "data": {
      "text/markdown": [
       "**Užduotis 7b.**\n",
       "\n",
       "Taškas $P$ yra stačiakampio $ABCD$ $(AB<BC)$ kraštinės $BC$ taškas, $AP$ - kampo $BAD$ pusiaukampinė. Žinoma, kad $PO$ yra statmena stačiakampio įstrižainei $AC$ ir taškas $O$ dalija šią įstrižainę pusiau. Užrašykite formulę, kuria remiantis būtų galima apskaičiuoti trikampio $APO$ plotą, kai žinomos stačiakampio kraštinės $AB = a$ ir $BC = b$ [2tšk.]"
      ],
      "text/plain": [
       "<IPython.core.display.Markdown object>"
      ]
     },
     "metadata": {},
     "output_type": "display_data"
    },
    {
     "data": {
      "text/markdown": [
       "**Užduotis 1a.**\n",
       "\n",
       "DEMONSTRACIJA. Stačiakampis padalintas į keturis stačiakampius atkarpomis, lygiagrečiomis jo kraštinėms, kaip pavaizduota. Viena iš atkarpų dalija stačiakampio kraštinę į atkarpas, kurių ilgiai yra $a$ ir $b$, o kita - į atkarpas, kurių ilgiai yra $c$ ir $d$. Remdamiesi geometrijos žiniomis įrodykite tapatybę $(a+b)(c+d)=ac+ad+bc+bd$ ![](../database/simonas\\proof_distr_basic.PNG)"
      ],
      "text/plain": [
       "<IPython.core.display.Markdown object>"
      ]
     },
     "metadata": {},
     "output_type": "display_data"
    },
    {
     "data": {
      "text/markdown": [
       "**Užduotis 1b.**\n",
       "\n",
       "GEOMETRINIS UŽDAVINYS. Stačiakampis padalintas į keturis stačiakampius atkarpomis, lygiagrečiomis jo kraštinėms, kaip pavaizduota. Viena iš atkarpų dalija stačiakampio kraštinę į atkarpas, kurių ilgiai yra $a$ ir $b$, o kita - į atkarpas, kurių ilgiai yra $c$ ir $d$. Remdamiesi geometrijos žiniomis įrodykite tapatybę $(a+b)(c+d)=ac+ad+bc+bd$ ![](../database/simonas\\proof_distr_basic.PNG)"
      ],
      "text/plain": [
       "<IPython.core.display.Markdown object>"
      ]
     },
     "metadata": {},
     "output_type": "display_data"
    },
    {
     "data": {
      "text/markdown": [
       "**Užduotis 8.**\n",
       "\n",
       "Išskleiskite: $(a+b)(a^2-ab+b^2)$"
      ],
      "text/plain": [
       "<IPython.core.display.Markdown object>"
      ]
     },
     "metadata": {},
     "output_type": "display_data"
    }
   ],
   "source": [
    "display(Markdown('# Uždaviniai'))\n",
    "for dir, id in problems: display(Markdown(F(show_problem(dir, id, show_solution=False)).replace('Užduotis', 'Užduotis '+id)))"
   ]
  },
  {
   "cell_type": "code",
   "execution_count": 6,
   "metadata": {},
   "outputs": [
    {
     "data": {
      "text/markdown": [
       "# Uždavinių dalys"
      ],
      "text/plain": [
       "<IPython.core.display.Markdown object>"
      ]
     },
     "metadata": {},
     "output_type": "display_data"
    },
    {
     "data": {
      "text/markdown": [
       "**Uždavinio dalis 1 iš 6, kurioje yra Lygčių ir nelygybių sudarymas.**\n",
       "\n",
       "Tarkime, kad ekskursijoje yra $9$ dalyviai, dalis jų merginos, dalis vaikinai. Raskite visus galimus variantus, kurią dalį ekskursijos dalyvių gali sudaryti merginos."
      ],
      "text/plain": [
       "<IPython.core.display.Markdown object>"
      ]
     },
     "metadata": {},
     "output_type": "display_data"
    },
    {
     "data": {
      "text/markdown": [
       "**Uždavinio dalis 2 iš 6, kurioje yra Procentai.**\n",
       "\n",
       "Duoti skaičiai: $1/9, 2/9, 3/9, 4/9, 5/9, 6/9, 7/9, 8/9$. Ar tarp jų yra reikšmė, esanti tarp $20\\%$ ir $25\\%$?"
      ],
      "text/plain": [
       "<IPython.core.display.Markdown object>"
      ]
     },
     "metadata": {},
     "output_type": "display_data"
    },
    {
     "data": {
      "text/markdown": [
       "**Uždavinio dalis 3 iš 6, kurioje yra Procentai.**\n",
       "\n",
       "Žinoma, kad sekoje $\\{1/9, 2/9, 3/9, 4/9, 5/9, 6/9, 7/9, 8/9\\}$ narys $2/9$ yra tarp $20\\%$ ir $25\\%$. Ar egzistuoja skaičius, turintis natūralųjį vardiklį, mažesnį už 9 ir esantis tarp $20\\%$ ir $25\\%$"
      ],
      "text/plain": [
       "<IPython.core.display.Markdown object>"
      ]
     },
     "metadata": {},
     "output_type": "display_data"
    },
    {
     "data": {
      "text/markdown": [
       "**Uždavinio dalis 1 iš 4b, kurioje yra Keturkampių savybės.**\n",
       "\n",
       "![](../database/licejus\\lic2017_4b_step1.PNG)"
      ],
      "text/plain": [
       "<IPython.core.display.Markdown object>"
      ]
     },
     "metadata": {},
     "output_type": "display_data"
    },
    {
     "data": {
      "text/markdown": [
       "**Uždavinio dalis 2 iš 4b, kurioje yra Pitagoro teorema.**\n",
       "\n",
       "Stačiojo trikampio įžambinės ilgis lygus 26 cm, o vieno statinio ilgis lygus 10 cm. Raskite kito statinio ilgį"
      ],
      "text/plain": [
       "<IPython.core.display.Markdown object>"
      ]
     },
     "metadata": {},
     "output_type": "display_data"
    },
    {
     "data": {
      "text/markdown": [
       "**Uždavinio dalis 3 iš 4b, kurioje yra Keturkampių savybės.**\n",
       "\n",
       "Trapecijos pagrindų ilgiai lygūs 26cm ir 46cm, o aukštinės ilgis yra 10cm. Raskite šios trapecijos plotą"
      ],
      "text/plain": [
       "<IPython.core.display.Markdown object>"
      ]
     },
     "metadata": {},
     "output_type": "display_data"
    },
    {
     "data": {
      "text/markdown": [
       "**Uždavinio dalis 1 iš 7a, kurioje yra Trikampių savybės.**\n",
       "\n",
       "Įrodykite, kad $\\triangle APO = \\triangle POC$ ![](../database/licejus\\lic2017_7a.PNG)"
      ],
      "text/plain": [
       "<IPython.core.display.Markdown object>"
      ]
     },
     "metadata": {},
     "output_type": "display_data"
    },
    {
     "data": {
      "text/markdown": [
       "**Uždavinio dalis 2 iš 7a, kurioje yra Trikampių savybės.**\n",
       "\n",
       "Duota, kad $\\triangle APO = \\triangle POC$. Įrodykite, kad $\\angle PAO=\\angle PCO$ ![](../database/licejus\\lic2017_7a.PNG)"
      ],
      "text/plain": [
       "<IPython.core.display.Markdown object>"
      ]
     },
     "metadata": {},
     "output_type": "display_data"
    },
    {
     "data": {
      "text/markdown": [
       "**Uždavinio dalis 3 iš 7a, kurioje yra Trikampių savybės.**\n",
       "\n",
       "Duota, kad $\\angle PAO=\\angle PCO$. Raskite šiuos kampus remdamiesi brėžiniu"
      ],
      "text/plain": [
       "<IPython.core.display.Markdown object>"
      ]
     },
     "metadata": {},
     "output_type": "display_data"
    },
    {
     "data": {
      "text/markdown": [
       "**Uždavinio dalis 4 iš 7a, kurioje yra Kampų rūšys.**\n",
       "\n",
       "Stačiakampio vienas iš kampų yra padalytas į tris kampus, iš kurių du lygūs $45^o$ ir $22.5$. Kam lygus trečiasis kampas?"
      ],
      "text/plain": [
       "<IPython.core.display.Markdown object>"
      ]
     },
     "metadata": {},
     "output_type": "display_data"
    },
    {
     "data": {
      "text/markdown": [
       "**Uždavinio dalis 1 iš 7b, kurioje yra Pitagoro teorema.**\n",
       "\n",
       "BRĖŽINYS: ![](../database/licejus\\lic2017_7a.PNG) | **DUOTA:** <ul><li> $ABCD$ - stačiakampis </li><li>$$\\angle BAP=\\angle PAD$$ </li><li> $$PO\\perp AC$$ </li><li>$$AO = OC$$</li><li>$$AB=a$$</li><li>$$BC=b$$</ul> **RASTI:** <ul><li>$AP$, $AO$</li></ul> \n",
       " :---|:---"
      ],
      "text/plain": [
       "<IPython.core.display.Markdown object>"
      ]
     },
     "metadata": {},
     "output_type": "display_data"
    },
    {
     "data": {
      "text/markdown": [
       "**Uždavinio dalis 2 iš 7b, kurioje yra Pitagoro teorema.**\n",
       "\n",
       "BRĖŽINYS: ![](../database/licejus\\lic2017_7a.PNG) | **DUOTA:** <ul><li> $\\angle AOP = 90^o$ </li><li>$$AP=a\\sqrt{2}$$</li><li>$$AO=\\frac{\\sqrt{a^2+b^2}}{2}$$</ul> **RASTI:** <ul><li>$$S_{\\triangle APO}$$</li></ul> \n",
       " :---|:---"
      ],
      "text/plain": [
       "<IPython.core.display.Markdown object>"
      ]
     },
     "metadata": {},
     "output_type": "display_data"
    },
    {
     "data": {
      "text/markdown": [
       "**Uždavinio dalis 1 iš 1a, kurioje yra Keturkampių savybės.**\n",
       "\n",
       "Remdamiesi brėžiniu raskite kiekvieno spalvoto stačiakampio plotą ir tada užrašykite jų bendrą plotą ![](../database/simonas\\proof_distr_basic.PNG)"
      ],
      "text/plain": [
       "<IPython.core.display.Markdown object>"
      ]
     },
     "metadata": {},
     "output_type": "display_data"
    },
    {
     "data": {
      "text/markdown": [
       "**Uždavinio dalis 2 iš 1a, kurioje yra Keturkampių savybės.**\n",
       "\n",
       "Remdamiesi brėžiniu raskite stačiakampio plotą ![](../database/simonas\\proof_distr_basic_step2.PNG)"
      ],
      "text/plain": [
       "<IPython.core.display.Markdown object>"
      ]
     },
     "metadata": {},
     "output_type": "display_data"
    },
    {
     "data": {
      "text/markdown": [
       "**Uždavinio dalis 1 iš 1b, kurioje yra Keturkampių savybės.**\n",
       "\n",
       "BRĖŽINYS: ![](../database/simonas\\proof_distr.PNG) | **DUOTA:** <ul><li> $ABCD$ - kvadratas </li><li>$$EG||BC$$ </li><li> $$FH||AB$$</li><li> $$AE=a, EB=b, BF=c, FC=d$$</ul> **ĮRODYTI:** <ul><li>$EBFO$, $OFCG$, $OGDH$ ir $OHAE$ - stačiakampiai</li></ul> \n",
       " :---|:--- \n"
      ],
      "text/plain": [
       "<IPython.core.display.Markdown object>"
      ]
     },
     "metadata": {},
     "output_type": "display_data"
    },
    {
     "data": {
      "text/markdown": [
       "**Uždavinio dalis 2 iš 1b, kurioje yra Keturkampių savybės.**\n",
       "\n",
       "BRĖŽINYS: ![](../database/simonas\\proof_distr.PNG) | **DUOTA:** <ul><li> $ABCD$ - kvadratas </li><li>$$EG||BC$$ </li><li> $$FH||AB$$</li><li> $$AE=a, EB=b, BF=c, FC=d$$</ul> **RASTI:** <ul><li>$$S_{EBFO}+S_{OFCG}+S_{OGDH}+S_{OHAE}$$</li></ul> \n",
       " :---|:--- \n"
      ],
      "text/plain": [
       "<IPython.core.display.Markdown object>"
      ]
     },
     "metadata": {},
     "output_type": "display_data"
    },
    {
     "data": {
      "text/markdown": [
       "**Uždavinio dalis 3 iš 1b, kurioje yra Keturkampių savybės.**\n",
       "\n",
       "BRĖŽINYS: ![](../database/simonas\\proof_distr_step2.PNG) | **DUOTA:** <ul><li> $ABCD$ - kvadratas </li><li> $$AE=a, EB=b, BF=c, FC=d$$</ul> **RASTI:** <ul><li>$$S_{ABCD}$$</li></ul> \n",
       " :---|:--- \n"
      ],
      "text/plain": [
       "<IPython.core.display.Markdown object>"
      ]
     },
     "metadata": {},
     "output_type": "display_data"
    },
    {
     "data": {
      "text/markdown": [
       "**Užduotis 8.**\n",
       "\n",
       "Išskleiskite: $(a+b)(a^2-ab+b^2)$"
      ],
      "text/plain": [
       "<IPython.core.display.Markdown object>"
      ]
     },
     "metadata": {},
     "output_type": "display_data"
    }
   ],
   "source": [
    "display(Markdown('# Uždavinių dalys'))\n",
    "for dir, id in problems: \n",
    "    skills = check_skills(dir, id)\n",
    "    for which in range(1, len(skills)+1):\n",
    "        if len(skills)!=1: display(Markdown(F(show_case(dir, id, which=which, show_solution=False)).replace(', kurioje yra', f' iš {id}, kurioje yra')))\n",
    "        else: display(Markdown(show_problem(dir, id, show_solution=False).replace('Užduotis', 'Užduotis '+id)))"
   ]
  },
  {
   "cell_type": "code",
   "execution_count": 7,
   "metadata": {},
   "outputs": [
    {
     "data": {
      "text/markdown": [
       "# Uždavinių sprendimai"
      ],
      "text/plain": [
       "<IPython.core.display.Markdown object>"
      ]
     },
     "metadata": {},
     "output_type": "display_data"
    },
    {
     "data": {
      "text/markdown": [
       "**Užduotis 6.**\n",
       "\n",
       "Žinoma, kad merginos sudarė daugiau nei 20%, bet mažiau nei 25% visų ekskursijos dalyvių skaičiaus. Raskite mažiausią galimą šios ekskursijos dalyvių skaičių [3tšk.]\n",
       "\n",
       "**Sprendimas.**\n",
       "* Tarkime, kad ekskursijoje yra $n$ dalyvių, dalis jų merginos, dalis vaikinai\n",
       "* Tuomet merginų gali būti $1/n$, $2/n$, ..., $(n-1)/n$ visų dalyvių skaičiaus\n",
       "* 20%= 0.2, 25%=0.25\n",
       "* Iš eilės perrinkus visas $n$ reikšmes nuo 1 iki 9 matome, kad tik su $n=9$ gauname išdėstymą, turintį reikšmę tarp $0.2$ ir $0.25$\n",
       "* Šis išdėstymas yra $1/9, 2/9, 3/9, ...$, į intervalą $(0.2, 0.25)$ pakliuvusi reikšmė yra $2/9$. Vadinasi, gali būti mažiausiai 9 ekskursijos dalyviai."
      ],
      "text/plain": [
       "<IPython.core.display.Markdown object>"
      ]
     },
     "metadata": {},
     "output_type": "display_data"
    },
    {
     "data": {
      "text/markdown": [
       "**Užduotis 4b.**\n",
       "\n",
       "Lygiašonės trapecijos $ABCD$ trumpesnysis pagrindas $BC$ yra tokio paties ilgio kaip šoninės kraštinės ir lygus 26 cm. Trapecijos pagrindų ilgiai sutinka santykiu 13:23. Raskite šios trapecijos plotą. [3tšk.]\n",
       "\n",
       "**Sprendimas.**\n",
       "* BRĖŽINYS: ![](../database/licejus\\lic2017_4b.PNG)\n",
       "* Sudarome proporciją ir nustatome likusią kraštinę: $\\boxed{\\begin{array}{rcl}26 cm &-& 13\\\\ x cm &-& 23\\end{array}} \\Rightarrow 13x=26\\cdot 23 \\Rightarrow x=2\\cdot 23 = 46$\n",
       "* Įbrėžiame į trapeciją lygiagretainį $ABCE$. $AB=CE=CD$, vadinasi $\\angle FEC = \\angle CDF$. Aukštinė dalija $ED$ pusiau.\n",
       "* $FD = \\frac{AD-AE}{2} = \\frac{AD-BC}{2}=\\frac{46-26}{2}=10 \\text{(cm)}$\n",
       "* Pagal Pitagoro teoremą $\\boxed{FD^2+CF^2 = CD^2} \\Rightarrow CF = \\sqrt{CD^2-FD^2} = \\sqrt{26^2-10^2} = 12$\n",
       "* Trapecijos plotas: $CF \\cdot \\frac{BC+AD}{2} = 10 \\cdot \\frac{26+46}{2} = 360 \\text{ (cm}^2)$"
      ],
      "text/plain": [
       "<IPython.core.display.Markdown object>"
      ]
     },
     "metadata": {},
     "output_type": "display_data"
    },
    {
     "data": {
      "text/markdown": [
       "**Užduotis 7a.**\n",
       "\n",
       "Taškas $P$ yra stačiakampio $ABCD$ $(AB<BC)$ kraštinės $BC$ taškas, $AP$ - kampo $BAD$ pusiaukampinė. Žinoma, kad $PO$ yra statmena stačiakampio įstrižainei $AC$ ir taškas $O$ dalija šią įstrižainę pusiau. Apskaičiuokite kampo $CAD$ didumą [4tšk.]\n",
       "\n",
       "**Sprendimas.**\n",
       "* BRĖŽINYS: ![](../database/licejus\\lic2017_7a.PNG) | **DUOTA:** <ul><li> $ABCD$ - stačiakampis </li><li>$$\\angle BAP=\\angle PAD$$ </li><li> $$PO\\perp AC$$ </li><li>$$AO = OC$$</ul> **RASTI:** <ul><li>$\\angle CAD$</li></ul> \n",
       " :---|:--- \n",
       "\n",
       "* $\\triangle APO = \\triangle POC$, nes turi bendrą kraštinę $PO$, $AO=OC$ ir $\\angle AOP = POC = 90^o$\n",
       "* $\\triangle APC$ lygiašonis, todėl $\\angle PAO=\\angle PCO$\n",
       "* Turime $\\angle BAP=\\angle BAD/2=45^o$. Tegu $\\angle PAO = x$. Tada $\\angle BAP + \\angle PAC + \\angle ACB + \\angle CBA = 135^o + 2x = 180^o \\Rightarrow x=22.5^o$\n",
       "* Galiausiai $\\angle CAD = 90^o - \\angle BAP - \\angle PAO = 22.5^o$"
      ],
      "text/plain": [
       "<IPython.core.display.Markdown object>"
      ]
     },
     "metadata": {},
     "output_type": "display_data"
    },
    {
     "data": {
      "text/markdown": [
       "**Užduotis 7b.**\n",
       "\n",
       "Taškas $P$ yra stačiakampio $ABCD$ $(AB<BC)$ kraštinės $BC$ taškas, $AP$ - kampo $BAD$ pusiaukampinė. Žinoma, kad $PO$ yra statmena stačiakampio įstrižainei $AC$ ir taškas $O$ dalija šią įstrižainę pusiau. Užrašykite formulę, kuria remiantis būtų galima apskaičiuoti trikampio $APO$ plotą, kai žinomos stačiakampio kraštinės $AB = a$ ir $BC = b$ [2tšk.]\n",
       "\n",
       "**Sprendimas.**\n",
       "* BRĖŽINYS: ![](../database/licejus\\lic2017_7a.PNG) | **DUOTA:** <ul><li> $ABCD$ - stačiakampis </li><li>$$\\angle BAP=\\angle PAD$$ </li><li> $$PO\\perp AC$$ </li><li>$$AO = OC$$</li><li>$$AB=a$$</li><li>$$BC=b$$</ul> **RASTI:** <ul><li>$S_{\\triangle APO}$</li></ul> \n",
       " :---|:--- \n",
       "\n",
       "* $\\triangle ABP$ kampai lygūs $90^o$, $45^o$ ir $180^o-90^0-45^o=45^o$. Todėl jis lygiašonis.\n",
       "* $AB=BP=a$. Pagal Pitagoro teoremą $AP=\\sqrt{a^2+a^2}=a\\sqrt{2}$\n",
       "* Pagal Pitagoro teoremą $AO = OC/2=\\frac{\\sqrt{a^2+b^2}}{2}$\n",
       "* Pagal Pitagoro teoremą $PO = \\sqrt{AP^2-AO^2} = \\sqrt{2a^2 - \\frac{a^2+b^2}{4}}=\\sqrt{\\frac{8a^2}{4} - \\frac{a^2+b^2}{4}} = \\sqrt{\\frac{7a^2-b^2}{4}}=\\frac{\\sqrt{7a^2-b^2}}{2}$$S_{\\triangle APO}=\\frac{AO \\cdot PO}{2}=\\frac{\\sqrt{a^2+b^2}}{2}\\cdot \\frac{\\sqrt{7a^2-b^2}}{2} \\cdot \\frac{1}{2} = \\frac{\\sqrt{(a^2+b^2)(7a^2-b^2)}}{8}$"
      ],
      "text/plain": [
       "<IPython.core.display.Markdown object>"
      ]
     },
     "metadata": {},
     "output_type": "display_data"
    },
    {
     "data": {
      "text/markdown": [
       "**Užduotis 1a.**\n",
       "\n",
       "DEMONSTRACIJA. Stačiakampis padalintas į keturis stačiakampius atkarpomis, lygiagrečiomis jo kraštinėms, kaip pavaizduota. Viena iš atkarpų dalija stačiakampio kraštinę į atkarpas, kurių ilgiai yra $a$ ir $b$, o kita - į atkarpas, kurių ilgiai yra $c$ ir $d$. Remdamiesi geometrijos žiniomis įrodykite tapatybę $(a+b)(c+d)=ac+ad+bc+bd$ ![](../database/simonas\\proof_distr_basic.PNG)\n",
       "\n",
       "**Sprendimas.**\n",
       "* Spalvotų stačiakampių plotai lygūs $bc$, $bd$, $ac$, $ad$. Juos sudėję gauname $ac+ad+bc+bd$\n",
       "* Viso stačiakampio plotas lygus jo kraštinių ilgių sandaugai: $(a+b)(c+d)$. Vadinasi $(a+b)(c+d)=ac+ad+bc+bd$"
      ],
      "text/plain": [
       "<IPython.core.display.Markdown object>"
      ]
     },
     "metadata": {},
     "output_type": "display_data"
    },
    {
     "data": {
      "text/markdown": [
       "**Užduotis 1b.**\n",
       "\n",
       "GEOMETRINIS UŽDAVINYS. Stačiakampis padalintas į keturis stačiakampius atkarpomis, lygiagrečiomis jo kraštinėms, kaip pavaizduota. Viena iš atkarpų dalija stačiakampio kraštinę į atkarpas, kurių ilgiai yra $a$ ir $b$, o kita - į atkarpas, kurių ilgiai yra $c$ ir $d$. Remdamiesi geometrijos žiniomis įrodykite tapatybę $(a+b)(c+d)=ac+ad+bc+bd$ ![](../database/simonas\\proof_distr_basic.PNG)\n",
       "\n",
       "**Sprendimas.**\n",
       "* BRĖŽINYS: ![](../database/simonas\\proof_distr.PNG) | **DUOTA:** <ul><li> $ABCD$ - kvadratas </li><li>$$EG||BC$$ </li><li> $$FH||AB$$</li><li> $$AE=a, EB=b, BF=c, FC=d$$</ul> **ĮRODYTI:** <ul><li>$$(a+b)(c+d)=ac+ad+bc+bd$$</li></ul> \n",
       " :---|:--- \n",
       "\n",
       "* Keturkampis $EBFO$ turi dvi poras lygiagrečių kraštinių, todėl jis lygiagretainis. $\\angle ABC = 90^o$, todėl šis lygiagretainis yra stačiakampis. Analogiškai $OFCG$, $OGDH$ ir $OHAE$ - stačiakampiai.\n",
       "* $S_{EBFO}+S_{OFCG}+S_{OGDH}+S_{OHAE}=bc+bd+ac+ad$\n",
       "* $S_{EBFO}+S_{OFCG}+S_{OGDH}+S_{OHAE} = S_{ABCD}=(a+b)(c+d)$. Vadinasi, $(a+b)(c+d)=ac+ad+bc+bd$"
      ],
      "text/plain": [
       "<IPython.core.display.Markdown object>"
      ]
     },
     "metadata": {},
     "output_type": "display_data"
    },
    {
     "data": {
      "text/markdown": [
       "**Užduotis 8.**\n",
       "\n",
       "Išskleiskite: $(a+b)(a^2-ab+b^2)$\n",
       "\n",
       "**Sprendimas.**\n",
       "* $(a+b)(a^2-ab+b^2)=\\begin{array}{c|c|c} &a&b \\\\ \\hline a^2&a^3&a^2b \\\\ \\hline -ab&-a^2b&-ab^2 \\\\ \\hline b^2&ab^2&b^3 \\end{array} = a^3+b^3$"
      ],
      "text/plain": [
       "<IPython.core.display.Markdown object>"
      ]
     },
     "metadata": {},
     "output_type": "display_data"
    }
   ],
   "source": [
    "display(Markdown('# Uždavinių sprendimai'))\n",
    "for dir, id in problems: display(Markdown(F(show_problem(dir, id, show_solution=True)).replace('Užduotis', 'Užduotis '+id)))"
   ]
  },
  {
   "cell_type": "code",
   "execution_count": 8,
   "metadata": {},
   "outputs": [
    {
     "data": {
      "text/markdown": [
       "# Uždavinio dalių sprendimai"
      ],
      "text/plain": [
       "<IPython.core.display.Markdown object>"
      ]
     },
     "metadata": {},
     "output_type": "display_data"
    },
    {
     "data": {
      "text/markdown": [
       "**Uždavinio dalis 1 iš 6, kurioje yra Lygčių ir nelygybių sudarymas.**\n",
       "\n",
       "Tarkime, kad ekskursijoje yra $9$ dalyviai, dalis jų merginos, dalis vaikinai. Raskite visus galimus variantus, kurią dalį ekskursijos dalyvių gali sudaryti merginos.\n",
       "\n",
       "**Sprendimas.**\n",
       "\n",
       "$1/9, 2/9, 3/9, 4/9, 5/9, 6/9, 7/9, 8/9$"
      ],
      "text/plain": [
       "<IPython.core.display.Markdown object>"
      ]
     },
     "metadata": {},
     "output_type": "display_data"
    },
    {
     "data": {
      "text/markdown": [
       "**Uždavinio dalis 2 iš 6, kurioje yra Procentai.**\n",
       "\n",
       "Duoti skaičiai: $1/9, 2/9, 3/9, 4/9, 5/9, 6/9, 7/9, 8/9$. Ar tarp jų yra reikšmė, esanti tarp $20\\%$ ir $25\\%$?\n",
       "\n",
       "**Sprendimas.**\n",
       "\n",
       "Taip, yra: $2/9$. Apytikslė šios skaičiaus reikšmė: $2/9=0.2222 = 22.22\\%$"
      ],
      "text/plain": [
       "<IPython.core.display.Markdown object>"
      ]
     },
     "metadata": {},
     "output_type": "display_data"
    },
    {
     "data": {
      "text/markdown": [
       "**Uždavinio dalis 3 iš 6, kurioje yra Procentai.**\n",
       "\n",
       "Žinoma, kad sekoje $\\{1/9, 2/9, 3/9, 4/9, 5/9, 6/9, 7/9, 8/9\\}$ narys $2/9$ yra tarp $20\\%$ ir $25\\%$. Ar egzistuoja skaičius, turintis natūralųjį vardiklį, mažesnį už 9 ir esantis tarp $20\\%$ ir $25\\%$\n",
       "\n",
       "**Sprendimas.**\n",
       "\n",
       "Neegzistuoja. Jei norisi, galima parodyti, kokių sekų variantus perrinkome: \n",
       "\n",
       " $\\{1/2\\}$, \n",
       "\n",
       " $\\{1/3, 2/3\\}$, \n",
       "\n",
       " $\\{1/4, 2/4, 3/4\\}$, \n",
       "\n",
       " $\\{1/5, 2/5, 3/5, 4/5\\}$, \n",
       "\n",
       " $\\{1/6, 2/6, 3/6, 4/6, 5/6\\}$, \n",
       "\n",
       " $\\{1/7, 2/7, 3/7, 4/7, 5/7, 6/7\\}$, \n",
       "\n",
       " $\\{1/8, 2/8, 3/8, 4/8, 5/8, 6/8, 7/8\\}$"
      ],
      "text/plain": [
       "<IPython.core.display.Markdown object>"
      ]
     },
     "metadata": {},
     "output_type": "display_data"
    },
    {
     "data": {
      "text/markdown": [
       "**Uždavinio dalis 1 iš 4b, kurioje yra Keturkampių savybės.**\n",
       "\n",
       "![](../database/licejus\\lic2017_4b_step1.PNG)\n",
       "\n",
       "**Sprendimas.**\n",
       "\n",
       "![](../database/licejus\\lic2017_4b_step1sol.png) Įbrėžiame į trapeciją lygiagretainį $ABCE$. $AB=CE=CD$, vadinasi $\\angle FEC = \\angle CDF$. Todėl aukštinė dalija $ED$ pusiau. Turime: $AD-BC = AD-AE = ED = 2FD$"
      ],
      "text/plain": [
       "<IPython.core.display.Markdown object>"
      ]
     },
     "metadata": {},
     "output_type": "display_data"
    },
    {
     "data": {
      "text/markdown": [
       "**Uždavinio dalis 2 iš 4b, kurioje yra Pitagoro teorema.**\n",
       "\n",
       "Stačiojo trikampio įžambinės ilgis lygus 26 cm, o vieno statinio ilgis lygus 10 cm. Raskite kito statinio ilgį\n",
       "\n",
       "**Sprendimas.**\n",
       "\n",
       "Pagal Pitagoro teoremą $\\boxed{FD^2+CF^2 = CD^2} \\Rightarrow CF = \\sqrt{CD^2-FD^2} = \\sqrt{26^2-10^2} = 12$"
      ],
      "text/plain": [
       "<IPython.core.display.Markdown object>"
      ]
     },
     "metadata": {},
     "output_type": "display_data"
    },
    {
     "data": {
      "text/markdown": [
       "**Uždavinio dalis 3 iš 4b, kurioje yra Keturkampių savybės.**\n",
       "\n",
       "Trapecijos pagrindų ilgiai lygūs 26cm ir 46cm, o aukštinės ilgis yra 10cm. Raskite šios trapecijos plotą\n",
       "\n",
       "**Sprendimas.**\n",
       "\n",
       "$CF \\cdot \\frac{BC+AD}{2} = 10 \\cdot \\frac{26+46}{2} = 360 \\text{ (cm}^2)$"
      ],
      "text/plain": [
       "<IPython.core.display.Markdown object>"
      ]
     },
     "metadata": {},
     "output_type": "display_data"
    },
    {
     "data": {
      "text/markdown": [
       "**Uždavinio dalis 1 iš 7a, kurioje yra Trikampių savybės.**\n",
       "\n",
       "Įrodykite, kad $\\triangle APO = \\triangle POC$ ![](../database/licejus\\lic2017_7a.PNG)\n",
       "\n",
       "**Sprendimas.**\n",
       "\n",
       "Taikome dviejų kraštinių ir kampo tarp jų lygumo požymį: \n",
       " bendra kraštinė $PO$, $AO=OC$ ir $\\angle AOP = POC = 90^o$"
      ],
      "text/plain": [
       "<IPython.core.display.Markdown object>"
      ]
     },
     "metadata": {},
     "output_type": "display_data"
    },
    {
     "data": {
      "text/markdown": [
       "**Uždavinio dalis 2 iš 7a, kurioje yra Trikampių savybės.**\n",
       "\n",
       "Duota, kad $\\triangle APO = \\triangle POC$. Įrodykite, kad $\\angle PAO=\\angle PCO$ ![](../database/licejus\\lic2017_7a.PNG)\n",
       "\n",
       "**Sprendimas.**\n",
       "\n",
       "$\\triangle APC$ lygiašonis, todėl $\\angle PAO=\\angle PCO$"
      ],
      "text/plain": [
       "<IPython.core.display.Markdown object>"
      ]
     },
     "metadata": {},
     "output_type": "display_data"
    },
    {
     "data": {
      "text/markdown": [
       "**Uždavinio dalis 3 iš 7a, kurioje yra Trikampių savybės.**\n",
       "\n",
       "Duota, kad $\\angle PAO=\\angle PCO$. Raskite šiuos kampus remdamiesi brėžiniu\n",
       "\n",
       "**Sprendimas.**\n",
       "\n",
       "Turime $\\angle BAP=\\angle BAD/2=45^o$. Tegu $\\angle PAO = x$. Tada $\\angle BAP + \\angle PAC + \\angle ACB + \\angle CBA = 135^o + 2x = 180^o \\Rightarrow x=22.5^o$"
      ],
      "text/plain": [
       "<IPython.core.display.Markdown object>"
      ]
     },
     "metadata": {},
     "output_type": "display_data"
    },
    {
     "data": {
      "text/markdown": [
       "**Uždavinio dalis 4 iš 7a, kurioje yra Kampų rūšys.**\n",
       "\n",
       "Stačiakampio vienas iš kampų yra padalytas į tris kampus, iš kurių du lygūs $45^o$ ir $22.5$. Kam lygus trečiasis kampas?\n",
       "\n",
       "**Sprendimas.**\n",
       "\n",
       "$\\angle CAD = 90^o - 45^0 - 22.5^o = 22.5^o$"
      ],
      "text/plain": [
       "<IPython.core.display.Markdown object>"
      ]
     },
     "metadata": {},
     "output_type": "display_data"
    },
    {
     "data": {
      "text/markdown": [
       "**Uždavinio dalis 1 iš 7b, kurioje yra Pitagoro teorema.**\n",
       "\n",
       "BRĖŽINYS: ![](../database/licejus\\lic2017_7a.PNG) | **DUOTA:** <ul><li> $ABCD$ - stačiakampis </li><li>$$\\angle BAP=\\angle PAD$$ </li><li> $$PO\\perp AC$$ </li><li>$$AO = OC$$</li><li>$$AB=a$$</li><li>$$BC=b$$</ul> **RASTI:** <ul><li>$AP$, $AO$</li></ul> \n",
       " :---|:---\n",
       "\n",
       "**Sprendimas.**\n",
       "\n",
       "* $\\triangle ABP$ kampai lygūs $90^o$, $45^o$ ir $180^o-90^0-45^o=45^o$. Todėl jis lygiašonis ir $AB=BP=a$. Pagal Pitagoro teoremą $AP=\\sqrt{a^2+a^2}=a\\sqrt{2}$ \n",
       "* Pagal Pitagoro teoremą $AO=\\frac{AC}{2}=\\frac{\\sqrt{a^2+b^2}}{2}$"
      ],
      "text/plain": [
       "<IPython.core.display.Markdown object>"
      ]
     },
     "metadata": {},
     "output_type": "display_data"
    },
    {
     "data": {
      "text/markdown": [
       "**Uždavinio dalis 2 iš 7b, kurioje yra Pitagoro teorema.**\n",
       "\n",
       "BRĖŽINYS: ![](../database/licejus\\lic2017_7a.PNG) | **DUOTA:** <ul><li> $\\angle AOP = 90^o$ </li><li>$$AP=a\\sqrt{2}$$</li><li>$$AO=\\frac{\\sqrt{a^2+b^2}}{2}$$</ul> **RASTI:** <ul><li>$$S_{\\triangle APO}$$</li></ul> \n",
       " :---|:---\n",
       "\n",
       "**Sprendimas.**\n",
       "\n",
       "* Pagal Pitagoro teoremą $PO = \\sqrt{AP^2-AO^2} = \\sqrt{2a^2 - \\frac{a^2+b^2}{4}}=\\sqrt{\\frac{8a^2}{4} - \\frac{a^2+b^2}{4}} = \\sqrt{\\frac{7a^2-b^2}{4}}=\\frac{\\sqrt{7a^2-b^2}}{2}$\n",
       "* $S_{\\triangle APO}=\\frac{AO \\cdot PO}{2}=\\frac{\\sqrt{a^2+b^2}}{2}\\cdot \\frac{\\sqrt{7a^2-b^2}}{2} \\cdot \\frac{1}{2} = \\frac{\\sqrt{(a^2+b^2)(7a^2-b^2)}}{8}$"
      ],
      "text/plain": [
       "<IPython.core.display.Markdown object>"
      ]
     },
     "metadata": {},
     "output_type": "display_data"
    },
    {
     "data": {
      "text/markdown": [
       "**Uždavinio dalis 1 iš 1a, kurioje yra Keturkampių savybės.**\n",
       "\n",
       "Remdamiesi brėžiniu raskite kiekvieno spalvoto stačiakampio plotą ir tada užrašykite jų bendrą plotą ![](../database/simonas\\proof_distr_basic.PNG)\n",
       "\n",
       "**Sprendimas.**\n",
       "\n",
       "Spalvotų stačiakampių plotai lygūs $bc$, $bd$, $ac$, $ad$. Juos sudėję gauname $ac+ad+bc+bd$"
      ],
      "text/plain": [
       "<IPython.core.display.Markdown object>"
      ]
     },
     "metadata": {},
     "output_type": "display_data"
    },
    {
     "data": {
      "text/markdown": [
       "**Uždavinio dalis 2 iš 1a, kurioje yra Keturkampių savybės.**\n",
       "\n",
       "Remdamiesi brėžiniu raskite stačiakampio plotą ![](../database/simonas\\proof_distr_basic_step2.PNG)\n",
       "\n",
       "**Sprendimas.**\n",
       "\n",
       "$S_{ABCD}=(a+b)(c+d)$"
      ],
      "text/plain": [
       "<IPython.core.display.Markdown object>"
      ]
     },
     "metadata": {},
     "output_type": "display_data"
    },
    {
     "data": {
      "text/markdown": [
       "**Uždavinio dalis 1 iš 1b, kurioje yra Keturkampių savybės.**\n",
       "\n",
       "BRĖŽINYS: ![](../database/simonas\\proof_distr.PNG) | **DUOTA:** <ul><li> $ABCD$ - kvadratas </li><li>$$EG||BC$$ </li><li> $$FH||AB$$</li><li> $$AE=a, EB=b, BF=c, FC=d$$</ul> **ĮRODYTI:** <ul><li>$EBFO$, $OFCG$, $OGDH$ ir $OHAE$ - stačiakampiai</li></ul> \n",
       " :---|:--- \n",
       "\n",
       "\n",
       "**Sprendimas.**\n",
       "\n",
       "Keturkampis $EBFO$ turi dvi poras lygiagrečių kraštinių, todėl jis lygiagretainis. $\\angle ABC = 90^o$, todėl šis lygiagretainis yra stačiakampis. Analogiškai $OFCG$, $OGDH$ ir $OHAE$ - stačiakampiai."
      ],
      "text/plain": [
       "<IPython.core.display.Markdown object>"
      ]
     },
     "metadata": {},
     "output_type": "display_data"
    },
    {
     "data": {
      "text/markdown": [
       "**Uždavinio dalis 2 iš 1b, kurioje yra Keturkampių savybės.**\n",
       "\n",
       "BRĖŽINYS: ![](../database/simonas\\proof_distr.PNG) | **DUOTA:** <ul><li> $ABCD$ - kvadratas </li><li>$$EG||BC$$ </li><li> $$FH||AB$$</li><li> $$AE=a, EB=b, BF=c, FC=d$$</ul> **RASTI:** <ul><li>$$S_{EBFO}+S_{OFCG}+S_{OGDH}+S_{OHAE}$$</li></ul> \n",
       " :---|:--- \n",
       "\n",
       "\n",
       "**Sprendimas.**\n",
       "\n",
       "$S_{EBFO}+S_{OFCG}+S_{OGDH}+S_{OHAE}=bc+bd+ac+ad$"
      ],
      "text/plain": [
       "<IPython.core.display.Markdown object>"
      ]
     },
     "metadata": {},
     "output_type": "display_data"
    },
    {
     "data": {
      "text/markdown": [
       "**Uždavinio dalis 3 iš 1b, kurioje yra Keturkampių savybės.**\n",
       "\n",
       "BRĖŽINYS: ![](../database/simonas\\proof_distr_step2.PNG) | **DUOTA:** <ul><li> $ABCD$ - kvadratas </li><li> $$AE=a, EB=b, BF=c, FC=d$$</ul> **RASTI:** <ul><li>$$S_{ABCD}$$</li></ul> \n",
       " :---|:--- \n",
       "\n",
       "\n",
       "**Sprendimas.**\n",
       "\n",
       "$S_{ABCD}=(a+b)(c+d)$"
      ],
      "text/plain": [
       "<IPython.core.display.Markdown object>"
      ]
     },
     "metadata": {},
     "output_type": "display_data"
    },
    {
     "data": {
      "text/markdown": [
       "**Užduotis 8.**\n",
       "\n",
       "Išskleiskite: $(a+b)(a^2-ab+b^2)$"
      ],
      "text/plain": [
       "<IPython.core.display.Markdown object>"
      ]
     },
     "metadata": {},
     "output_type": "display_data"
    }
   ],
   "source": [
    "display(Markdown('# Uždavinio dalių sprendimai'))\n",
    "for dir, id in problems: \n",
    "    skills = check_skills(dir, id)\n",
    "    for which in range(1, len(skills)+1):\n",
    "        if len(skills)!=1: display(Markdown(F(show_case(dir, id, which=which, show_solution=True)).replace(', kurioje yra', f' iš {id}, kurioje yra')))\n",
    "        else: display(Markdown(show_problem(dir, id, show_solution=False).replace('Užduotis', 'Užduotis '+id)))"
   ]
  },
  {
   "cell_type": "markdown",
   "metadata": {},
   "source": [
    "### Kiti metodai, skirti uždavinių peržiūroms"
   ]
  },
  {
   "cell_type": "code",
   "execution_count": 8,
   "metadata": {},
   "outputs": [],
   "source": [
    "#display(Markdown(make_some_bank('simonas/tables')))\n",
    "#check_skills('licejus/2017', '4b') #Nusistatome, kiek dalių turi uždavinys, ką joms reikia mokėti\n",
    "#display(Markdown(show_problem('simonas/proofs', '2', show_solution=False))) # Paprašome suflerio\n",
    "#display(Markdown(show_case('simonas/proofs', '2', which=6, show_solution=True))) # Pilnas sprendimas\n",
    "#display(Markdown(show_problem('licejus/2017', '6', show_solution=True))) # Pilnas sprendimas"
   ]
  }
 ],
 "metadata": {
  "kernelspec": {
   "display_name": "Python 3",
   "language": "python",
   "name": "python3"
  },
  "language_info": {
   "codemirror_mode": {
    "name": "ipython",
    "version": 3
   },
   "file_extension": ".py",
   "mimetype": "text/x-python",
   "name": "python",
   "nbconvert_exporter": "python",
   "pygments_lexer": "ipython3",
   "version": "3.8.3"
  }
 },
 "nbformat": 4,
 "nbformat_minor": 4
}
