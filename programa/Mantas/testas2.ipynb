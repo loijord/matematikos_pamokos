{
 "cells": [
  {
   "cell_type": "markdown",
   "metadata": {},
   "source": [
    "**Šiame faile galima 4 skirtingais režimais peržiūrėti per pamoką spręstus uždavinius**"
   ]
  },
  {
   "cell_type": "code",
   "execution_count": 5,
   "metadata": {},
   "outputs": [],
   "source": [
    "def F(text):\n",
    "    return text.replace('![](', r'![](..\\\\database\\\\')\n",
    "import os\n",
    "if os.path.basename(os.getcwd()) == 'Mantas':\n",
    "    os.chdir('../database')\n",
    "\n",
    "problems = [('licejus/2017', '6'), ('licejus/2017', '7a'), ('licejus/2017', '7b'), ('simonas/proofs', '1a'), ('simonas/proofs', '1b'), ('simonas/tables', '8')]"
   ]
  },
  {
   "cell_type": "code",
   "execution_count": 6,
   "metadata": {},
   "outputs": [
    {
     "data": {
      "text/markdown": [
       "# Uždaviniai"
      ],
      "text/plain": [
       "<IPython.core.display.Markdown object>"
      ]
     },
     "metadata": {},
     "output_type": "display_data"
    },
    {
     "data": {
      "text/markdown": [
       "**Užduotis 6.**\n",
       "\n",
       "Žinoma, kad merginos sudarė daugiau nei 20%, bet mažiau nei 25% visų ekskursijos dalyvių skaičiaus. Raskite mažiausią galimą šios ekskursijos dalyvių skaičių [3tšk.]"
      ],
      "text/plain": [
       "<IPython.core.display.Markdown object>"
      ]
     },
     "metadata": {},
     "output_type": "display_data"
    },
    {
     "data": {
      "text/markdown": [
       "**Užduotis 7a.**\n",
       "\n",
       "Taškas $P$ yra stačiakampio $ABCD$ $(AB<BC)$ kraštinės $BC$ taškas, $AP$ - kampo $BAD$ pusiaukampinė. Žinoma, kad $PO$ yra statmena stačiakampio įstrižainei $AC$ ir taškas $O$ dalija šią įstrižainę pusiau. Apskaičiuokite kampo $CAD$ didumą [4tšk.]"
      ],
      "text/plain": [
       "<IPython.core.display.Markdown object>"
      ]
     },
     "metadata": {},
     "output_type": "display_data"
    },
    {
     "data": {
      "text/markdown": [
       "**Užduotis 7b.**\n",
       "\n",
       "Taškas $P$ yra stačiakampio $ABCD$ $(AB<BC)$ kraštinės $BC$ taškas, $AP$ - kampo $BAD$ pusiaukampinė. Žinoma, kad $PO$ yra statmena stačiakampio įstrižainei $AC$ ir taškas $O$ dalija šią įstrižainę pusiau. Užrašykite formulę, kuria remiantis būtų galima apskaičiuoti trikampio $APO$ plotą, kai žinomos stačiakampio kraštinės $AB = a$ ir $BC = b$ [2tšk.]"
      ],
      "text/plain": [
       "<IPython.core.display.Markdown object>"
      ]
     },
     "metadata": {},
     "output_type": "display_data"
    },
    {
     "data": {
      "text/markdown": [
       "**Užduotis 1a.**\n",
       "\n",
       "DEMONSTRACIJA. Stačiakampis padalintas į keturis stačiakampius atkarpomis, lygiagrečiomis jo kraštinėms, kaip pavaizduota. Viena iš atkarpų dalija stačiakampio kraštinę į atkarpas, kurių ilgiai yra $a$ ir $b$, o kita - į atkarpas, kurių ilgiai yra $c$ ir $d$. Remdamiesi geometrijos žiniomis įrodykite tapatybę $(a+b)(c+d)=ac+ad+bc+bd$ ![](..\\\\database\\\\simonas\\proof_distr_basic.PNG)"
      ],
      "text/plain": [
       "<IPython.core.display.Markdown object>"
      ]
     },
     "metadata": {},
     "output_type": "display_data"
    },
    {
     "data": {
      "text/markdown": [
       "**Užduotis 1b.**\n",
       "\n",
       "GEOMETRINIS UŽDAVINYS. Stačiakampis padalintas į keturis stačiakampius atkarpomis, lygiagrečiomis jo kraštinėms, kaip pavaizduota. Viena iš atkarpų dalija stačiakampio kraštinę į atkarpas, kurių ilgiai yra $a$ ir $b$, o kita - į atkarpas, kurių ilgiai yra $c$ ir $d$. Remdamiesi geometrijos žiniomis įrodykite tapatybę $(a+b)(c+d)=ac+ad+bc+bd$ ![](..\\\\database\\\\simonas\\proof_distr_basic.PNG)"
      ],
      "text/plain": [
       "<IPython.core.display.Markdown object>"
      ]
     },
     "metadata": {},
     "output_type": "display_data"
    },
    {
     "data": {
      "text/markdown": [
       "**Užduotis 8.**\n",
       "\n",
       "Išskleiskite: $(a+b)(a^2-ab+b^2)$"
      ],
      "text/plain": [
       "<IPython.core.display.Markdown object>"
      ]
     },
     "metadata": {},
     "output_type": "display_data"
    }
   ],
   "source": [
    "display(Markdown('# Uždaviniai'))\n",
    "for dir, id in problems: display(Markdown(F(show_problem(dir, id, show_solution=False)).replace('Užduotis', 'Užduotis '+id)))"
   ]
  },
  {
   "cell_type": "code",
   "execution_count": 7,
   "metadata": {},
   "outputs": [
    {
     "data": {
      "text/markdown": [
       "# Uždavinių dalys"
      ],
      "text/plain": [
       "<IPython.core.display.Markdown object>"
      ]
     },
     "metadata": {},
     "output_type": "display_data"
    },
    {
     "data": {
      "text/markdown": [
       "**Uždavinio dalis 1 iš 6, kurioje yra Lygčių ir nelygybių sudarymas.**\n",
       "\n",
       "Tarkime, kad ekskursijoje yra $9$ dalyviai, dalis jų merginos, dalis vaikinai. Raskite visus galimus variantus, kurią dalį ekskursijos dalyvių gali sudaryti merginos."
      ],
      "text/plain": [
       "<IPython.core.display.Markdown object>"
      ]
     },
     "metadata": {},
     "output_type": "display_data"
    },
    {
     "data": {
      "text/markdown": [
       "**Uždavinio dalis 2 iš 6, kurioje yra Procentai.**\n",
       "\n",
       "Duoti skaičiai: $1/9, 2/9, 3/9, 4/9, 5/9, 6/9, 7/9, 8/9$. Ar tarp jų yra reikšmė, esanti tarp $20\\%$ ir $25\\%$?"
      ],
      "text/plain": [
       "<IPython.core.display.Markdown object>"
      ]
     },
     "metadata": {},
     "output_type": "display_data"
    },
    {
     "data": {
      "text/markdown": [
       "**Uždavinio dalis 3 iš 6, kurioje yra Procentai.**\n",
       "\n",
       "Žinoma, kad sekoje $\\{1/9, 2/9, 3/9, 4/9, 5/9, 6/9, 7/9, 8/9\\}$ narys $2/9$ yra tarp $20\\%$ ir $25\\%$. Ar egzistuoja skaičius, turintis natūralųjį vardiklį, mažesnį už 9 ir esantis tarp $20\\%$ ir $25\\%$"
      ],
      "text/plain": [
       "<IPython.core.display.Markdown object>"
      ]
     },
     "metadata": {},
     "output_type": "display_data"
    },
    {
     "data": {
      "text/markdown": [
       "**Uždavinio dalis 1 iš 7a, kurioje yra Trikampių savybės.**\n",
       "\n",
       "Įrodykite, kad $\\triangle APO = \\triangle POC$ ![](..\\\\database\\\\licejus\\lic2017_7a.PNG)"
      ],
      "text/plain": [
       "<IPython.core.display.Markdown object>"
      ]
     },
     "metadata": {},
     "output_type": "display_data"
    },
    {
     "data": {
      "text/markdown": [
       "**Uždavinio dalis 2 iš 7a, kurioje yra Trikampių savybės.**\n",
       "\n",
       "Duota, kad $\\triangle APO = \\triangle POC$. Įrodykite, kad $\\angle PAO=\\angle PCO$ ![](..\\\\database\\\\licejus\\lic2017_7a.PNG)"
      ],
      "text/plain": [
       "<IPython.core.display.Markdown object>"
      ]
     },
     "metadata": {},
     "output_type": "display_data"
    },
    {
     "data": {
      "text/markdown": [
       "**Uždavinio dalis 3 iš 7a, kurioje yra Trikampių savybės.**\n",
       "\n",
       "Duota, kad $\\angle PAO=\\angle PCO$. Raskite šiuos kampus remdamiesi brėžiniu"
      ],
      "text/plain": [
       "<IPython.core.display.Markdown object>"
      ]
     },
     "metadata": {},
     "output_type": "display_data"
    },
    {
     "data": {
      "text/markdown": [
       "**Uždavinio dalis 4 iš 7a, kurioje yra Kampų rūšys.**\n",
       "\n",
       "Stačiakampio vienas iš kampų yra padalytas į tris kampus, iš kurių du lygūs $45^o$ ir $22.5$. Kam lygus trečiasis kampas?"
      ],
      "text/plain": [
       "<IPython.core.display.Markdown object>"
      ]
     },
     "metadata": {},
     "output_type": "display_data"
    },
    {
     "data": {
      "text/markdown": [
       "**Uždavinio dalis 1 iš 7b, kurioje yra Pitagoro teorema.**\n",
       "\n",
       "BRĖŽINYS: ![](..\\\\database\\\\licejus\\lic2017_7a.PNG) | **DUOTA:** <ul><li> $ABCD$ - stačiakampis </li><li>$$\\angle BAP=\\angle PAD$$ </li><li> $$PO\\perp AC$$ </li><li>$$AO = OC$$</li><li>$$AB=a$$</li><li>$$BC=b$$</ul> **RASTI:** <ul><li>$AP$, $AO$</li></ul> \n",
       " :---|:---"
      ],
      "text/plain": [
       "<IPython.core.display.Markdown object>"
      ]
     },
     "metadata": {},
     "output_type": "display_data"
    },
    {
     "data": {
      "text/markdown": [
       "**Uždavinio dalis 2 iš 7b, kurioje yra Pitagoro teorema.**\n",
       "\n",
       "BRĖŽINYS: ![](..\\\\database\\\\licejus\\lic2017_7a.PNG) | **DUOTA:** <ul><li> $\\angle AOP = 90^o$ </li><li>$$AP=a\\sqrt{2}$$</li><li>$$AO=\\frac{\\sqrt{a^2+b^2}}{2}$$</ul> **RASTI:** <ul><li>$$S_{\\triangle APO}$$</li></ul> \n",
       " :---|:---"
      ],
      "text/plain": [
       "<IPython.core.display.Markdown object>"
      ]
     },
     "metadata": {},
     "output_type": "display_data"
    },
    {
     "data": {
      "text/markdown": [
       "**Uždavinio dalis 1 iš 1a, kurioje yra Keturkampių savybės.**\n",
       "\n",
       "Remdamiesi brėžiniu raskite kiekvieno spalvoto stačiakampio plotą ir tada užrašykite jų bendrą plotą ![](..\\\\database\\\\simonas\\proof_distr_basic.PNG)"
      ],
      "text/plain": [
       "<IPython.core.display.Markdown object>"
      ]
     },
     "metadata": {},
     "output_type": "display_data"
    },
    {
     "data": {
      "text/markdown": [
       "**Uždavinio dalis 2 iš 1a, kurioje yra Keturkampių savybės.**\n",
       "\n",
       "Remdamiesi brėžiniu raskite stačiakampio plotą ![](..\\\\database\\\\simonas\\proof_distr_basic_step2.PNG)"
      ],
      "text/plain": [
       "<IPython.core.display.Markdown object>"
      ]
     },
     "metadata": {},
     "output_type": "display_data"
    },
    {
     "data": {
      "text/markdown": [
       "**Uždavinio dalis 1 iš 1b, kurioje yra Keturkampių savybės.**\n",
       "\n",
       "BRĖŽINYS: ![](..\\\\database\\\\simonas\\proof_distr.PNG) | **DUOTA:** <ul><li> $ABCD$ - kvadratas </li><li>$$EG||BC$$ </li><li> $$FH||AB$$</li><li> $$AE=a, EB=b, BF=c, FC=d$$</ul> **ĮRODYTI:** <ul><li>$EBFO$, $OFCG$, $OGDH$ ir $OHAE$ - stačiakampiai</li></ul> \n",
       " :---|:--- \n"
      ],
      "text/plain": [
       "<IPython.core.display.Markdown object>"
      ]
     },
     "metadata": {},
     "output_type": "display_data"
    },
    {
     "data": {
      "text/markdown": [
       "**Uždavinio dalis 2 iš 1b, kurioje yra Keturkampių savybės.**\n",
       "\n",
       "BRĖŽINYS: ![](..\\\\database\\\\simonas\\proof_distr.PNG) | **DUOTA:** <ul><li> $ABCD$ - kvadratas </li><li>$$EG||BC$$ </li><li> $$FH||AB$$</li><li> $$AE=a, EB=b, BF=c, FC=d$$</ul> **RASTI:** <ul><li>$$S_{EBFO}+S_{OFCG}+S_{OGDH}+S_{OHAE}$$</li></ul> \n",
       " :---|:--- \n"
      ],
      "text/plain": [
       "<IPython.core.display.Markdown object>"
      ]
     },
     "metadata": {},
     "output_type": "display_data"
    },
    {
     "data": {
      "text/markdown": [
       "**Uždavinio dalis 3 iš 1b, kurioje yra Keturkampių savybės.**\n",
       "\n",
       "BRĖŽINYS: ![](..\\\\database\\\\simonas\\proof_distr_step2.PNG) | **DUOTA:** <ul><li> $ABCD$ - kvadratas </li><li> $$AE=a, EB=b, BF=c, FC=d$$</ul> **RASTI:** <ul><li>$$S_{ABCD}$$</li></ul> \n",
       " :---|:--- \n"
      ],
      "text/plain": [
       "<IPython.core.display.Markdown object>"
      ]
     },
     "metadata": {},
     "output_type": "display_data"
    },
    {
     "data": {
      "text/markdown": [
       "**Užduotis 8.**\n",
       "\n",
       "Išskleiskite: $(a+b)(a^2-ab+b^2)$"
      ],
      "text/plain": [
       "<IPython.core.display.Markdown object>"
      ]
     },
     "metadata": {},
     "output_type": "display_data"
    }
   ],
   "source": [
    "display(Markdown('# Uždavinių dalys'))\n",
    "for dir, id in problems: \n",
    "    skills = check_skills(dir, id)\n",
    "    for which in range(1, len(skills)+1):\n",
    "        if len(skills)!=1: display(Markdown(F(show_case(dir, id, which=which, show_solution=False)).replace(', kurioje yra', f' iš {id}, kurioje yra')))\n",
    "        else: display(Markdown(show_problem(dir, id, show_solution=False).replace('Užduotis', 'Užduotis '+id)))"
   ]
  },
  {
   "cell_type": "code",
   "execution_count": 11,
   "metadata": {},
   "outputs": [
    {
     "data": {
      "text/markdown": [
       "# Uždavinių sprendimai"
      ],
      "text/plain": [
       "<IPython.core.display.Markdown object>"
      ]
     },
     "metadata": {},
     "output_type": "display_data"
    },
    {
     "data": {
      "text/markdown": [
       "**Užduotis 1a.**\n",
       "\n",
       "DEMONSTRACIJA. Stačiakampis padalintas į keturis stačiakampius atkarpomis, lygiagrečiomis jo kraštinėms, kaip pavaizduota. Viena iš atkarpų dalija stačiakampio kraštinę į atkarpas, kurių ilgiai yra $a$ ir $b$, o kita - į atkarpas, kurių ilgiai yra $c$ ir $d$. Remdamiesi geometrijos žiniomis įrodykite tapatybę $(a+b)(c+d)=ac+ad+bc+bd$ ![](..\\\\database\\\\simonas\\proof_distr_basic.PNG)\n",
       "\n",
       "**Sprendimas.**\n",
       "* Spalvotų stačiakampių plotai lygūs $bc$, $bd$, $ac$, $ad$. Juos sudėję gauname $ac+ad+bc+bd$\n",
       "* Viso stačiakampio plotas lygus jo kraštinių ilgių sandaugai: $(a+b)(c+d)$. Vadinasi $(a+b)(c+d)=ac+ad+bc+bd$"
      ],
      "text/plain": [
       "<IPython.core.display.Markdown object>"
      ]
     },
     "metadata": {},
     "output_type": "display_data"
    },
    {
     "data": {
      "text/markdown": [
       "**Užduotis 1b.**\n",
       "\n",
       "GEOMETRINIS UŽDAVINYS. Stačiakampis padalintas į keturis stačiakampius atkarpomis, lygiagrečiomis jo kraštinėms, kaip pavaizduota. Viena iš atkarpų dalija stačiakampio kraštinę į atkarpas, kurių ilgiai yra $a$ ir $b$, o kita - į atkarpas, kurių ilgiai yra $c$ ir $d$. Remdamiesi geometrijos žiniomis įrodykite tapatybę $(a+b)(c+d)=ac+ad+bc+bd$ ![](..\\\\database\\\\simonas\\proof_distr_basic.PNG)\n",
       "\n",
       "**Sprendimas.**\n",
       "* BRĖŽINYS: ![](..\\\\database\\\\simonas\\proof_distr.PNG) | **DUOTA:** <ul><li> $ABCD$ - kvadratas </li><li>$$EG||BC$$ </li><li> $$FH||AB$$</li><li> $$AE=a, EB=b, BF=c, FC=d$$</ul> **ĮRODYTI:** <ul><li>$$(a+b)(c+d)=ac+ad+bc+bd$$</li></ul> \n",
       " :---|:--- \n",
       "\n",
       "* Keturkampis $EBFO$ turi dvi poras lygiagrečių kraštinių, todėl jis lygiagretainis. $\\angle ABC = 90^o$, todėl šis lygiagretainis yra stačiakampis. Analogiškai $OFCG$, $OGDH$ ir $OHAE$ - stačiakampiai.\n",
       "* $S_{EBFO}+S_{OFCG}+S_{OGDH}+S_{OHAE}=bc+bd+ac+ad$\n",
       "* $S_{EBFO}+S_{OFCG}+S_{OGDH}+S_{OHAE} = S_{ABCD}=(a+b)(c+d)$. Vadinasi, $(a+b)(c+d)=ac+ad+bc+bd$"
      ],
      "text/plain": [
       "<IPython.core.display.Markdown object>"
      ]
     },
     "metadata": {},
     "output_type": "display_data"
    },
    {
     "data": {
      "text/markdown": [
       "**Užduotis 2.**\n",
       "\n",
       "Į kvadratą yra įbrėžtas kitas kvadratas iškerta jame keturis stačiuosius trikampius. Vieno iš trikampių statiniai lygūs $a$ ir $b$. Įrodykite, kad įbrėžto kvadrato kraštinės ilgis lygus $\\sqrt{a^2+b^2}$\n",
       "\n",
       "**Sprendimas.**\n",
       "* BRĖŽINYS: ![](..\\\\database\\\\simonas\\proof_pyth.PNG) | **DUOTA:** <ul><li> $ABCD$ ir $XYZT$ - kvadratai </li><li>$$AX=a$$ </li><li> $$AY=b$$</ul> **ĮRODYTI:** <ul><li>$XY=\\sqrt{a^2+b^2}$</li></ul> \n",
       " :---|:--- \n",
       "\n",
       "* $\\begin{cases}\\angle BXY + \\angle BYX = 180^o - \\angle XBY = 180^o-90^o=90^o \\\\ \\angle CYZ + \\angle BYX = 180^o - \\angle XYZ = 180^o-90^o=90^o\\end{cases}$. Iš čia $\\angle BXY = \\angle CYZ$\n",
       "* Dvi $\\triangle BXY$ ir $\\triangle CYZ$ kampų poros sutampa, todėl sutampa ir trečioji pora. Taip pat $XY=YZ$. Vadinasi $\\triangle BXY = \\triangle CYZ$. Analogiškai $\\triangle CYZ = \\triangle ZDT$ ir $\\triangle ZDT = \\triangle XAT$\n",
       "* $S_{\\triangle BXY} + S_{\\triangle CYZ} + S_{\\triangle CYZ} + S_{\\triangle ZDT} = 4S_{\\triangle BXY} = 4\\cdot \\frac{ab}{2} = 2ab$\n",
       "* $BX=YC=a$, todėl kvadrato ploto formulę turime $S_{ABCD}=(a+b)^2$\n",
       "* Tegu $c$ yra įbrėžto kvadrato kraštinė. Tuomet $S_{ABCD}=S_{\\triangle BXY} + S_{\\triangle CYZ} + S_{\\triangle CYZ} + S_{\\triangle ZDT}+S_{XYZT}=2ab+c^2$\n",
       "* Užrašome lygybę, kurioje $S_{ABCD}$ skaičiuojamas dviem skirtingais būdais ir iš jos surandame $c$ reikšmę: \n",
       " $\\boxed{2ab+c^2 = (a+b)^2} \\Rightarrow \\boxed{2ab+c^2 = a^2+2ab+b^2} \\Rightarrow \\boxed{c^2 = a^2+b^2} \\Rightarrow \\boxed{c= \\sqrt{a^2+b^2}}$"
      ],
      "text/plain": [
       "<IPython.core.display.Markdown object>"
      ]
     },
     "metadata": {},
     "output_type": "display_data"
    }
   ],
   "source": [
    "display(Markdown('# Uždavinių sprendimai'))\n",
    "for dir, id in problems: display(Markdown(F(show_problem(dir, id, show_solution=True)).replace('Užduotis', 'Užduotis '+id)))"
   ]
  },
  {
   "cell_type": "code",
   "execution_count": 13,
   "metadata": {},
   "outputs": [
    {
     "data": {
      "text/markdown": [
       "# Uždavinio dalių sprendimai"
      ],
      "text/plain": [
       "<IPython.core.display.Markdown object>"
      ]
     },
     "metadata": {},
     "output_type": "display_data"
    },
    {
     "data": {
      "text/markdown": [
       "**Uždavinio dalis 1 iš 6, kurioje yra Lygčių ir nelygybių sudarymas.**\n",
       "\n",
       "Tarkime, kad ekskursijoje yra $9$ dalyviai, dalis jų merginos, dalis vaikinai. Raskite visus galimus variantus, kurią dalį ekskursijos dalyvių gali sudaryti merginos.\n",
       "\n",
       "**Sprendimas.**\n",
       "\n",
       "$1/9, 2/9, 3/9, 4/9, 5/9, 6/9, 7/9, 8/9$"
      ],
      "text/plain": [
       "<IPython.core.display.Markdown object>"
      ]
     },
     "metadata": {},
     "output_type": "display_data"
    },
    {
     "data": {
      "text/markdown": [
       "**Uždavinio dalis 2 iš 6, kurioje yra Procentai.**\n",
       "\n",
       "Duoti skaičiai: $1/9, 2/9, 3/9, 4/9, 5/9, 6/9, 7/9, 8/9$. Ar tarp jų yra reikšmė, esanti tarp $20\\%$ ir $25\\%$?\n",
       "\n",
       "**Sprendimas.**\n",
       "\n",
       "Taip, yra: $2/9$. Apytikslė šios skaičiaus reikšmė: $2/9=0.2222 = 22.22\\%$"
      ],
      "text/plain": [
       "<IPython.core.display.Markdown object>"
      ]
     },
     "metadata": {},
     "output_type": "display_data"
    },
    {
     "data": {
      "text/markdown": [
       "**Uždavinio dalis 3 iš 6, kurioje yra Procentai.**\n",
       "\n",
       "Žinoma, kad sekoje $\\{1/9, 2/9, 3/9, 4/9, 5/9, 6/9, 7/9, 8/9\\}$ narys $2/9$ yra tarp $20\\%$ ir $25\\%$. Ar egzistuoja skaičius, turintis natūralųjį vardiklį, mažesnį už 9 ir esantis tarp $20\\%$ ir $25\\%$\n",
       "\n",
       "**Sprendimas.**\n",
       "\n",
       "Neegzistuoja. Jei norisi, galima parodyti, kokių sekų variantus perrinkome: \n",
       "\n",
       " $\\{1/2\\}$, \n",
       "\n",
       " $\\{1/3, 2/3\\}$, \n",
       "\n",
       " $\\{1/4, 2/4, 3/4\\}$, \n",
       "\n",
       " $\\{1/5, 2/5, 3/5, 4/5\\}$, \n",
       "\n",
       " $\\{1/6, 2/6, 3/6, 4/6, 5/6\\}$, \n",
       "\n",
       " $\\{1/7, 2/7, 3/7, 4/7, 5/7, 6/7\\}$, \n",
       "\n",
       " $\\{1/8, 2/8, 3/8, 4/8, 5/8, 6/8, 7/8\\}$"
      ],
      "text/plain": [
       "<IPython.core.display.Markdown object>"
      ]
     },
     "metadata": {},
     "output_type": "display_data"
    },
    {
     "data": {
      "text/markdown": [
       "**Uždavinio dalis 1 iš 7a, kurioje yra Trikampių savybės.**\n",
       "\n",
       "Įrodykite, kad $\\triangle APO = \\triangle POC$ ![](..\\\\database\\\\licejus\\lic2017_7a.PNG)\n",
       "\n",
       "**Sprendimas.**\n",
       "\n",
       "Taikome dviejų kraštinių ir kampo tarp jų lygumo požymį: \n",
       " bendra kraštinė $PO$, $AO=OC$ ir $\\angle AOP = POC = 90^o$"
      ],
      "text/plain": [
       "<IPython.core.display.Markdown object>"
      ]
     },
     "metadata": {},
     "output_type": "display_data"
    },
    {
     "data": {
      "text/markdown": [
       "**Uždavinio dalis 2 iš 7a, kurioje yra Trikampių savybės.**\n",
       "\n",
       "Duota, kad $\\triangle APO = \\triangle POC$. Įrodykite, kad $\\angle PAO=\\angle PCO$ ![](..\\\\database\\\\licejus\\lic2017_7a.PNG)\n",
       "\n",
       "**Sprendimas.**\n",
       "\n",
       "$\\triangle APC$ lygiašonis, todėl $\\angle PAO=\\angle PCO$"
      ],
      "text/plain": [
       "<IPython.core.display.Markdown object>"
      ]
     },
     "metadata": {},
     "output_type": "display_data"
    },
    {
     "data": {
      "text/markdown": [
       "**Uždavinio dalis 3 iš 7a, kurioje yra Trikampių savybės.**\n",
       "\n",
       "Duota, kad $\\angle PAO=\\angle PCO$. Raskite šiuos kampus remdamiesi brėžiniu\n",
       "\n",
       "**Sprendimas.**\n",
       "\n",
       "Turime $\\angle BAP=\\angle BAD/2=45^o$. Tegu $\\angle PAO = x$. Tada $\\angle BAP + \\angle PAC + \\angle ACB + \\angle CBA = 135^o + 2x = 180^o \\Rightarrow x=22.5^o$"
      ],
      "text/plain": [
       "<IPython.core.display.Markdown object>"
      ]
     },
     "metadata": {},
     "output_type": "display_data"
    },
    {
     "data": {
      "text/markdown": [
       "**Uždavinio dalis 4 iš 7a, kurioje yra Kampų rūšys.**\n",
       "\n",
       "Stačiakampio vienas iš kampų yra padalytas į tris kampus, iš kurių du lygūs $45^o$ ir $22.5$. Kam lygus trečiasis kampas?\n",
       "\n",
       "**Sprendimas.**\n",
       "\n",
       "$\\angle CAD = 90^o - 45^0 - 22.5^o = 22.5^o$"
      ],
      "text/plain": [
       "<IPython.core.display.Markdown object>"
      ]
     },
     "metadata": {},
     "output_type": "display_data"
    },
    {
     "data": {
      "text/markdown": [
       "**Uždavinio dalis 1 iš 7b, kurioje yra Pitagoro teorema.**\n",
       "\n",
       "BRĖŽINYS: ![](..\\\\database\\\\licejus\\lic2017_7a.PNG) | **DUOTA:** <ul><li> $ABCD$ - stačiakampis </li><li>$$\\angle BAP=\\angle PAD$$ </li><li> $$PO\\perp AC$$ </li><li>$$AO = OC$$</li><li>$$AB=a$$</li><li>$$BC=b$$</ul> **RASTI:** <ul><li>$AP$, $AO$</li></ul> \n",
       " :---|:---\n",
       "\n",
       "**Sprendimas.**\n",
       "\n",
       "* $\\triangle ABP$ kampai lygūs $90^o$, $45^o$ ir $180^o-90^0-45^o=45^o$. Todėl jis lygiašonis ir $AB=BP=a$. Pagal Pitagoro teoremą $AP=\\sqrt{a^2+a^2}=a\\sqrt{2}$ \n",
       "* Pagal Pitagoro teoremą $AO=\\frac{AC}{2}=\\frac{\\sqrt{a^2+b^2}}{2}$"
      ],
      "text/plain": [
       "<IPython.core.display.Markdown object>"
      ]
     },
     "metadata": {},
     "output_type": "display_data"
    },
    {
     "data": {
      "text/markdown": [
       "**Uždavinio dalis 2 iš 7b, kurioje yra Pitagoro teorema.**\n",
       "\n",
       "BRĖŽINYS: ![](..\\\\database\\\\licejus\\lic2017_7a.PNG) | **DUOTA:** <ul><li> $\\angle AOP = 90^o$ </li><li>$$AP=a\\sqrt{2}$$</li><li>$$AO=\\frac{\\sqrt{a^2+b^2}}{2}$$</ul> **RASTI:** <ul><li>$$S_{\\triangle APO}$$</li></ul> \n",
       " :---|:---\n",
       "\n",
       "**Sprendimas.**\n",
       "\n",
       "* Pagal Pitagoro teoremą $PO = \\sqrt{AP^2-AO^2} = \\sqrt{2a^2 - \\frac{a^2+b^2}{4}}=\\sqrt{\\frac{8a^2}{4} - \\frac{a^2+b^2}{4}} = \\sqrt{\\frac{7a^2-b^2}{4}}=\\frac{\\sqrt{7a^2-b^2}}{2}$\n",
       "* $S_{\\triangle APO}=\\frac{AO \\cdot PO}{2}=\\frac{\\sqrt{a^2+b^2}}{2}\\cdot \\frac{\\sqrt{7a^2-b^2}}{2} \\cdot \\frac{1}{2} = \\frac{\\sqrt{(a^2+b^2)(7a^2-b^2)}}{8}$"
      ],
      "text/plain": [
       "<IPython.core.display.Markdown object>"
      ]
     },
     "metadata": {},
     "output_type": "display_data"
    },
    {
     "data": {
      "text/markdown": [
       "**Uždavinio dalis 1 iš 1a, kurioje yra Keturkampių savybės.**\n",
       "\n",
       "Remdamiesi brėžiniu raskite kiekvieno spalvoto stačiakampio plotą ir tada užrašykite jų bendrą plotą ![](..\\\\database\\\\simonas\\proof_distr_basic.PNG)\n",
       "\n",
       "**Sprendimas.**\n",
       "\n",
       "Spalvotų stačiakampių plotai lygūs $bc$, $bd$, $ac$, $ad$. Juos sudėję gauname $ac+ad+bc+bd$"
      ],
      "text/plain": [
       "<IPython.core.display.Markdown object>"
      ]
     },
     "metadata": {},
     "output_type": "display_data"
    },
    {
     "data": {
      "text/markdown": [
       "**Uždavinio dalis 2 iš 1a, kurioje yra Keturkampių savybės.**\n",
       "\n",
       "Remdamiesi brėžiniu raskite stačiakampio plotą ![](..\\\\database\\\\simonas\\proof_distr_basic_step2.PNG)\n",
       "\n",
       "**Sprendimas.**\n",
       "\n",
       "$S_{ABCD}=(a+b)(c+d)$"
      ],
      "text/plain": [
       "<IPython.core.display.Markdown object>"
      ]
     },
     "metadata": {},
     "output_type": "display_data"
    },
    {
     "data": {
      "text/markdown": [
       "**Uždavinio dalis 1 iš 1b, kurioje yra Keturkampių savybės.**\n",
       "\n",
       "BRĖŽINYS: ![](..\\\\database\\\\simonas\\proof_distr.PNG) | **DUOTA:** <ul><li> $ABCD$ - kvadratas </li><li>$$EG||BC$$ </li><li> $$FH||AB$$</li><li> $$AE=a, EB=b, BF=c, FC=d$$</ul> **ĮRODYTI:** <ul><li>$EBFO$, $OFCG$, $OGDH$ ir $OHAE$ - stačiakampiai</li></ul> \n",
       " :---|:--- \n",
       "\n",
       "\n",
       "**Sprendimas.**\n",
       "\n",
       "Keturkampis $EBFO$ turi dvi poras lygiagrečių kraštinių, todėl jis lygiagretainis. $\\angle ABC = 90^o$, todėl šis lygiagretainis yra stačiakampis. Analogiškai $OFCG$, $OGDH$ ir $OHAE$ - stačiakampiai."
      ],
      "text/plain": [
       "<IPython.core.display.Markdown object>"
      ]
     },
     "metadata": {},
     "output_type": "display_data"
    },
    {
     "data": {
      "text/markdown": [
       "**Uždavinio dalis 2 iš 1b, kurioje yra Keturkampių savybės.**\n",
       "\n",
       "BRĖŽINYS: ![](..\\\\database\\\\simonas\\proof_distr.PNG) | **DUOTA:** <ul><li> $ABCD$ - kvadratas </li><li>$$EG||BC$$ </li><li> $$FH||AB$$</li><li> $$AE=a, EB=b, BF=c, FC=d$$</ul> **RASTI:** <ul><li>$$S_{EBFO}+S_{OFCG}+S_{OGDH}+S_{OHAE}$$</li></ul> \n",
       " :---|:--- \n",
       "\n",
       "\n",
       "**Sprendimas.**\n",
       "\n",
       "$S_{EBFO}+S_{OFCG}+S_{OGDH}+S_{OHAE}=bc+bd+ac+ad$"
      ],
      "text/plain": [
       "<IPython.core.display.Markdown object>"
      ]
     },
     "metadata": {},
     "output_type": "display_data"
    },
    {
     "data": {
      "text/markdown": [
       "**Uždavinio dalis 3 iš 1b, kurioje yra Keturkampių savybės.**\n",
       "\n",
       "BRĖŽINYS: ![](..\\\\database\\\\simonas\\proof_distr_step2.PNG) | **DUOTA:** <ul><li> $ABCD$ - kvadratas </li><li> $$AE=a, EB=b, BF=c, FC=d$$</ul> **RASTI:** <ul><li>$$S_{ABCD}$$</li></ul> \n",
       " :---|:--- \n",
       "\n",
       "\n",
       "**Sprendimas.**\n",
       "\n",
       "$S_{ABCD}=(a+b)(c+d)$"
      ],
      "text/plain": [
       "<IPython.core.display.Markdown object>"
      ]
     },
     "metadata": {},
     "output_type": "display_data"
    },
    {
     "data": {
      "text/markdown": [
       "**Užduotis 8.**\n",
       "\n",
       "Išskleiskite: $(a+b)(a^2-ab+b^2)$"
      ],
      "text/plain": [
       "<IPython.core.display.Markdown object>"
      ]
     },
     "metadata": {},
     "output_type": "display_data"
    }
   ],
   "source": [
    "display(Markdown('# Uždavinio dalių sprendimai'))\n",
    "for dir, id in problems: \n",
    "    skills = check_skills(dir, id)\n",
    "    for which in range(1, len(skills)+1):\n",
    "        if len(skills)!=1: display(Markdown(F(show_case(dir, id, which=which, show_solution=True)).replace(', kurioje yra', f' iš {id}, kurioje yra')))\n",
    "        else: display(Markdown(show_problem(dir, id, show_solution=False).replace('Užduotis', 'Užduotis '+id)))"
   ]
  },
  {
   "cell_type": "markdown",
   "metadata": {},
   "source": [
    "### Kiti metodai, skirti uždavinių peržiūroms"
   ]
  },
  {
   "cell_type": "code",
   "execution_count": 8,
   "metadata": {},
   "outputs": [],
   "source": [
    "#display(Markdown(make_some_bank('simonas/tables')))\n",
    "#check_skills('licejus/2017', '4b') #Nusistatome, kiek dalių turi uždavinys, ką joms reikia mokėti\n",
    "#display(Markdown(show_problem('simonas/proofs', '2', show_solution=False))) # Paprašome suflerio\n",
    "#display(Markdown(show_case('simonas/proofs', '2', which=6, show_solution=True))) # Pilnas sprendimas\n",
    "#display(Markdown(show_problem('licejus/2017', '6', show_solution=True))) # Pilnas sprendimas"
   ]
  }
 ],
 "metadata": {
  "kernelspec": {
   "display_name": "Python 3",
   "language": "python",
   "name": "python3"
  },
  "language_info": {
   "codemirror_mode": {
    "name": "ipython",
    "version": 3
   },
   "file_extension": ".py",
   "mimetype": "text/x-python",
   "name": "python",
   "nbconvert_exporter": "python",
   "pygments_lexer": "ipython3",
   "version": "3.8.3"
  }
 },
 "nbformat": 4,
 "nbformat_minor": 4
}
