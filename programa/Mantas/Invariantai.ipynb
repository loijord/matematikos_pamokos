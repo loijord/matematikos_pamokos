{
 "cells": [
  {
   "cell_type": "markdown",
   "metadata": {},
   "source": [
    "### Pastebėjimai \n",
    "\n",
    "* Objektas - tai, į ką nukreiptas tyrinėjimas.\n",
    "* Matematika - mokslas apie nekintančius objektus su kintančiomis savybėmis (formomis, dydžiais, reikšmėmis)\n",
    "* Invariantas - tai tam tikra išliekanti pastovi matematinio objekto savybė, kuomet keičiamos to objekto formos. "
   ]
  },
  {
   "cell_type": "markdown",
   "metadata": {},
   "source": [
    "### Objektų pavyzdžiai matematikoje\n",
    "\n",
    "* Lygtys - tai lygybės, kurios tampa teisingomis su tam tikromis kintamųjų reikšmėmis\n",
    "* Reiškiniai - tai matematinės frazės, sudarytos iš skaičių, kintamųjų, operacijų, skliaustų, funkcijų\n",
    "* Kintamieji (arba kintamieji dydžiai) - dydžiai, kuriems aprašyti yra priskiriami skaičiai iš tam tikros aibės (vadinamos kitimo sritimi) pasirenkant prasmes\n",
    "* Dydžiai - tai savybės, kurioms aprašyti yra priskiriami skaičiai pasirenkant matavimo vienetus\n",
    "* Trikampiai - figūros, turinčios tris atkarpas ir tris kampus\n",
    "* Stačiakampiai - keturkampiai, kurių visi kampai statūs\n",
    "* Apskritimai - figūros, kurios visi taškai nutolę vienodu nuotoliu nuo centro\n",
    "* **Matematiniai žaidimai** - kartu ir ėjimų rinkiniai, aprašantys vieno ar kelių žaidėjų galimus veiksmus, ir taisyklės, apibrėžiančios leistinus veiksmus."
   ]
  },
  {
   "cell_type": "markdown",
   "metadata": {},
   "source": [
    "###  Pamokos tikslas\n",
    "\n",
    "Perprasti, kaip veikia invariantai matematikoje. Geriausia praktika - žaidžiant matematinius žaidimus. \n",
    "Bet prieš juos žaidžiant, pasvartykime, kas galėtų būti invariantai aukščiau minėtuose objektuose.\n",
    "\n",
    "\n",
    "* Lygtis - lygybės teisingumas su ta pačia nežinomojo reikšmių aibe (pvz. jei lygtis teisinga, kai $x=2$ ir $x=-2$, tai pertvarkius lygtį negalime gauti $x=2$\n",
    "* Reiškinys - išliekančios vienodos reikšmės su tomis pačiomis kintamųjų reikšmėmis. Pvz. $\\frac{2ab}{2}$ ir $ab$ - abiem atvejais rezultatas yra vienodas, kai $a=2019$ ir $b=2020$.\n",
    "* Kintamieji - nekinta tik prasmė. Pvz. Jei $x$ yra nežinoma trikampio kraštinė, tai išsprendus lygtį ir radus nežinomąjį, jis negali tapti trikampio perimetru (pakeisti prasmės)\n",
    "* Trikampiai, stačiakampiai, apskritimai - jei dvi figūros yra panašios (9kl.) arba lygios (7kl.), tai jose išlaikomos proporcijos. Pvz. jei kraštinės sutinka santykiu $2:3:4$, tai ir panašiame arba lygiame trikampyje santykį turėsime tokį patį. Kitas pvz.: Apskritimo ir skersmens santykis yra nekintantis bet kokiam apskritimui ir lygus $\\pi$.\n",
    "* Matematiniai žaidimai - mokysimės (tikslas - įžvelgti kuo daugiau invariantiškumo scenarijų skirtinguose žaidimuose)."
   ]
  },
  {
   "cell_type": "markdown",
   "metadata": {},
   "source": [
    "### Matematinių žaidimų pavyzdžiai\n",
    "\n",
    "* Ar įmanoma šachmatų lentoje žirgu apeiti visus langelius, jei pradedame nuo apatinio kairiojo kampo ir baigiame viršutiniu dešiniuoju?\n",
    "* Žaiskime žaidimą su 100 akmenėlių su 2 žaidėjais pagal tokias taisykles: bet kuris žaidėjas vienu ėjimu gali iš krūvos pasiimti nuo 1 iki 10 akmenėlių. Ėjimai vyksta pakaitomis, o žaidimą laimi tas, po kurio ėjimo akmenėlių nelieka. Kuris žaidėjas visuomet turi galimybę laimėti?\n",
    "* Kiek yra trikampių, kurių kraštinių ilgiai yra iš eilės einantieji sveikieji skaičiai ir kurių perimetrai neviršija 100?\n",
    "* Kiekvienas didžiojo kvadrato $4 \\times 4$ langelis gali būti tik įžiebtas arba neįžiebtas. Kiekvienu ėjimu tam tikroje sekcijoje visi įžiebti kvadratėliai pasikeičia neįžiebtais, o neįžiebti - įžiebtais. Sekcijos gali būti $2\\times 2$ kvadratai, $1\\times 4$ stačiakampiai arba didžiojo kvadrato įstrižainės. \n",
    "* Du žaidėjai pakaitomis stumdo šaškę šacmatų lentoje. Šaškė iš pradžių stovi apatiniame kairiajame kampe, o laimi tas, kuris pastato šaškę į viršutinį dešinįjį kampą. Leistini ėjimai - kiek nori langelių į dešinę arba kiek nori į viršų. Katras žaidėjas visada turi šansą laimėti protingai žaisdamas?"
   ]
  },
  {
   "cell_type": "markdown",
   "metadata": {},
   "source": [
    "### Uždavinukai 7-8 klasėms\n",
    "\n",
    "1\\. Devyni žvirbliai sulesa mažiau negu 1001 grūdą, o dešimt tokių pačių žvirblių sulesa daugiau negu 1100 grūdų. Po kiek grūdų sulesa kiekvienas žvirblis?\n",
    "\n",
    "2\\. Vaida, Monika, Lukas ir Gytis valgė pyragėlius. Monika suvalgė daugiausia pyragėlių, o Gytis mažiausiai. Kas daugiau suvalgė pyragėlių - mergaitės ar berniukai?\n",
    "\n",
    "3\\. 109 obuoliai sudėti į 20 pakų. Kai kuriuose pakuose sudėta po $x$ obuolių, o kituose - po 3 obuolius. Raskite visas galimas $x$ reikšmes.\n",
    "\n",
    "4\\. Duoti skaičiai, kurių moduliai lygūs $2^0$, $2^1$, $2^2$, $2^4$, $2^5$, $2^6$, o suma lygi 27. Raskite šiuos skaičius.\n",
    "\n",
    "5\\. 15 vaikų surinko 100 riešutų. Ar būtinai kurie nors du iš jų bus surinkę po vienodą kiekį riešutų? Kodėl?\n",
    "\n",
    "6\\. Iš skaičių 1, 2, ..., 49, 50 išrinko 26 skaičius. Ar būtinai tarp jų bus du skaičiai, kurių skirtumas yra 1?\n",
    "\n",
    "7\\. Iš skaičių 1, 2, ..., 49, 50 išrinko 26 skaičius. Įrodykite, kad tarp išrinktų skaičių yra bent vienas skaičius, kuris dalijasi iš kito.\n",
    "\n",
    "8\\. Šalyje yra 4 miestai: A, B, C, D. Iš miesto A į miestą B veda 5 keliai, iš B į C miestą veda 4 keliai, iš A į D - du keliai, o iš D į C - 3 keliai. Keliais būdais galima nuvažiuoti iš miesto A į miestą C būtinai važiuojant per B? O keliais būdais galima nuvažiuoti per B arba D pasirinktinai?\n",
    "\n",
    "9\\. Kuris skaičius didesnis: $1+2+4+8+16+32+64+128+256+512+1024$ ar $2048$?\n",
    "\n",
    "10\\. Iššifruokite: $BA0 \\times BA \\times B = 2002$.\n",
    "\n",
    "11\\. Su kuriomis $x$ reikšmėmis lygybė $|x| = x$ yra tapatybė?\n",
    "\n",
    "12\\. Šeši klasės draugai pasikeitė nuotraukomis. Kiek nuotraukų buvo išdalyta?\n",
    "\n",
    "13\\. Dėžutės matmenys yra $4,8 \\times 4,8 \\times 1,1$. Ar tilps į šią dėžutę keturi vienodi rutuliai, jei kiekvieno rutulio spindulys lygus 0,6 cm?\n",
    "\n",
    "14\\. Vienas darbininkas, dirbdamas atskirai, gali iškasti griovį per 6 valandas, o kitas per 10 valandas. Ar iškas griovį darbininkai kartu dirbdami 4 valandas?\n",
    "\n",
    "15\\. Ar galima išdėstyti į eilę visus domino kauliukus pagal žaidimo taisykles, kad eilė prasidėtų 5, o pasibaigtų 6?"
   ]
  },
  {
   "cell_type": "code",
   "execution_count": null,
   "metadata": {},
   "outputs": [],
   "source": [
    "\\begin{enumerate}\n",
    "\\item \\textit{Devyni žvirbliai sulesa mažiau negu 1001 grūdą, o dešimt tokių pačių žvirblių sulesa daugiau negu 1100 grūdų. Po kiek grūdų sulesa kiekvienas žvirblis?}\n",
    "\n",
    "Čia parodysiu, kaip uždavinio sprendimą aprašyti nelygybių kalba:\n",
    "Devyni žvirbliai sulesa mažiau negu 1001 grūdą: $9ž < 1001 \\leftrightarrow ž<111\\frac{2}{9}$\n",
    "\n",
    "dešimt tokių pačių žvirblių sulesa daugiau negu 1100 grūdų: $10ž > 1100 \\leftrightarrow ž>110$\n",
    "\n",
    "$110<ž<111\\frac{2}{9}$, vadinasi $ž=111$.\n",
    "\\item \\textit{Vaida, Monika, Lukas ir Gytis valgė pyragėlius. Monika suvalgė daugiausia pyragėlių, o Gytis mažiausiai. Kas daugiau suvalgė pyragėlių - mergaitės ar berniukai?}\n",
    "\n",
    "Monika suvalgė daugiau už Luką, o Vaida daugiau už Gytį, tad mergaitės suvalgė daugiau.\n",
    "\\item \\textit{109 obuoliai sudėti į 20 pakų. Kai kuriuose pakuose sudėta po $x$ obuolių, o kituose - po 3 obuolius. Raskite visas galimas $x$ reikšmes.}\n",
    "\n",
    "Būdai spręsti yra keli, nes turime reikalų su tiesiniais sąryšiais, kuriems interpretuoti yra vaizdingų būdų (tam tikrais atvejais galima pilnai apeiti reiškinių sudarymą). \n",
    "\n",
    "Jei $y$ yra maišų kiekis po 3 obuolius, tai likusių maišų yra $20-y$. Galutinį obuolių kiekį skaičiuoja reiškinys, kuris įgyja reikšmę 109 su tam tikrais $x$ir $y$:\n",
    "\n",
    "$$x(20-y) +3y = 109 \\Leftrightarrow x = \\frac{109 - 3y}{20-y}$$\n",
    "\n",
    "Vienas iš būdų būtų tikrinti visas $y$ reikšmes nuo 1 iki 19, su kuriomis $x$ yra sveikasis. \n",
    "\n",
    "\\item Duoti skaičiai, kurių moduliai lygūs $2^0$, $2^1$, $2^2$, $2^4$, $2^5$, $2^6$, o suma lygi 27. Raskite šiuos skaičius.\n",
    "\\item 15 vaikų surinko 100 riešutų. Ar būtinai kurie nors du iš jų bus surinkę po vienodą kiekį riešutų? Kodėl?\n",
    "\\item Iš skaičių 1, 2, ..., 49, 50 išrinko 26 skaičius. Ar būtinai tarp jų bus du skaičiai, kurių skirtumas yra 1?\n",
    "\\item Iš skaičių 1, 2, ..., 49, 50 išrinko 26 skaičius. Įrodykite, kad tarp išrinktų skaičių yra bent vienas skaičius, kuris dalijasi iš kito.\n",
    "\\item Šalyje yra 4 miestai: A, B, C, D. Iš miesto A į miestą B veda 5 keliai, iš B į C miestą veda 4 keliai, iš A į D - du keliai, o iš D į C - 3 keliai. Keliais būdais galima nuvažiuoti iš miesto A į miestą C būtinai važiuojant per B? O keliais būdais galima nuvažiuoti per B arba D pasirinktinai?\n",
    "\\item Kuris skaičius didesnis: $1+2+4+8+16+32+64+128+256+512+1024$ ar $2048$?\n",
    "\\item Iššifruokite: $BA0 \\times BA \\times B = 2002$.\n",
    "\\item Su kuriomis $x$ reikšmėmis lygybė $|x| = x$ yra tapatybė?\n",
    "\\item Šeši klasės draugai pasikeitė nuotraukomis. Kiek nuotraukų buvo išdalyta?\n",
    "\\item Dėžutės matmenys yra $4,8 \\times 4,8 \\times 1,1$. Ar tilps į šią dėžutę keturi vienodi rutuliai, jei kiekvieno rutulio spindulys lygus 0,6 cm?\n",
    "\\item Vienas darbininkas, dirbdamas atskirai, gali iškasti griovį per 6 valandas, o kitas per 10 valandas. Ar iškas griovį darbininkai kartu dirbdami 4 valandas?\n",
    "\n",
    "Sudedame darbo dalis, atliktas per valandą: \n",
    "\\item Ar galima išdėstyti į eilę visus domino kauliukus pagal žaidimo taisykles, kad eilė prasidėtų 5, o pasibaigtų 6?\n",
    "\\end{enumerate}\n",
    "\\end{document}"
   ]
  }
 ],
 "metadata": {
  "kernelspec": {
   "display_name": "Python 3",
   "language": "python",
   "name": "python3"
  },
  "language_info": {
   "codemirror_mode": {
    "name": "ipython",
    "version": 3
   },
   "file_extension": ".py",
   "mimetype": "text/x-python",
   "name": "python",
   "nbconvert_exporter": "python",
   "pygments_lexer": "ipython3",
   "version": "3.7.4"
  }
 },
 "nbformat": 4,
 "nbformat_minor": 2
}
