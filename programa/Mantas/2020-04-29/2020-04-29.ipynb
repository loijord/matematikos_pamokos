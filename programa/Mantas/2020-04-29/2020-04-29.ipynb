{
 "cells": [
  {
   "cell_type": "markdown",
   "metadata": {},
   "source": [
    "### Kaip sekėsi?\n",
    "\n",
    "Per pamoką darbas ėjosi lėtokai, nes kartu su Mantu aiškinomės dalykus, kuriuos buvo numatyta jam pasiaiškinti savarankiškai.\n",
    "Savarankiškai reikėjo pasinagrinėti mažiausius dauginimų kiekius laipsniams: apsiprasti, kaip veikia dauginimas, pabandyti jį pagerinti, \n",
    "atrasti dėsningumus geriausiuose pavykusiuose atvejuose.\n",
    "\n",
    "Mantui bendrai reikėtų įprasti iškilus neaiškumams klausti kuo skubiau, o ne tada, kai namų darbų atlikti \n",
    "nepavyko arba nagrinėjamas pamokos metu klausimas jau įsibėgėjęs."
   ]
  },
  {
   "cell_type": "markdown",
   "metadata": {},
   "source": [
    "### Eksperimentas. Kiek pavyksta prisiminti apie uždavinio sprendimą po 10 dienų?\n",
    "\n",
    "Dėmesio centre buvo uždavinys, kur reikėjo nustatyti, kiek daugiausia galima surašyti iš eilės einančių tegiamų sveikųjų skaičių, kad jų skaitmenų suma nesidalytų iš 5.\n",
    "\n",
    "* Simonas: trys tokie skaičiai yra įsiterpę tarp 19 ir 23.\n",
    "* Mantas: radau pavyzdį su 4 skaičiais.\n",
    "* Mantas (remiasi ankstesne patirtimi): tarp penkių iš eilės einančių skaičių bent vienas dalijasi iš 5.\n",
    "* Mantas (neteisinga prielaida) skaitmenų sumos eina iš eilės.\n",
    "* Simonas (parodo, kad prielaida neteisinga) yra **atvejis**, kada taip nėra.\n",
    "* Simonas (patikslina prielaidą) skaitmenų sumos eina iš eilės, jei skaičiai yra vienoje dešimtyje.\n",
    "* Mantas (neteisinga prielaida) kartojasi ši grandinė: eina 3 tinkami skaičiai, po to 4.\n",
    "* Simonas (parodo, kad prielaida neteisinga) yra **atvejis**, kada taip nėra.\n",
    "* Simonas (**išveda** iš turimų prielaidų atsakymą): vienoje dešimtyje gali būti nedaugiau 4 iš eilės einančių skaičių ir kitoje nedaugiau 4, tai iš viso nedaugiau 8. \n",
    "\n",
    "Eksperimento išvados: nedaug, gal 20\\% iš to, kas čia parašyta. Simono nuomone, informacijos kartotis nereiktų, jei būtų praėję $\\le 3$ dienos."
   ]
  },
  {
   "cell_type": "markdown",
   "metadata": {},
   "source": [
    "### Ką vertėtų atsiminti apie uždavinių sprendimą net ir po ilgo laiko?\n",
    "\n",
    "* **Pradžia.** Prielaidų, kurios buvo teisingos arba neteisingos, kėlimą galima laikyti euristiniu samprotavimu.\n",
    "* **Vystymasis**. Šiuo atveju buvo svarbu nepamesti kelio dėl neteisingų prielaidų, t.y. nedaryti iš jų tolimesnių išvadų.\n",
    "* **Vystymasis**. Prielaidoms patvirtinti reiktų daugiau pavyzdžių, kurie pasufleruotų tam tikrą logiką arba paneigtų prielaidą. (Prisiminkime, kai patikėjome, kad 1003 pirminis, nors paaiškėjo, kad jis dalijasi iš 17)\n",
    "* Nieko baisaus, kad intuicija samprotaujant dar nėra tokia gera, kad pavyktų nuoseklus sprendimas, tam reikia tiesiog daugiau susidūrimų su panašiais tyrinėjimais.\n",
    "* **Pabaiga.** Sprendimas užbagiamas nuosekliu loginiu samprotavimu, apdraudžiančiu nuo klaidų.\n",
    "* **Tęsinys.** Jei manome, kad verta įgyti daugiau žinių galynėjantis su panašaus tipo uždaviniais, žiūrime, ar visada suprantame, kaip spręsti, jei skaičiai yra kokie tik nori."
   ]
  },
  {
   "cell_type": "markdown",
   "metadata": {},
   "source": [
    "### Perspėjimas\n",
    "\n",
    "Teoriją apie tai, kaip reikia spręsti uždavinius galima mokytis, bet ji tikrovėje nepadės, \n",
    "jei patys nebūsime aktyvūs uždavinių sprendimo dalyviai."
   ]
  },
  {
   "cell_type": "markdown",
   "metadata": {},
   "source": [
    "### Kitas teorijos taikymo pavyzdys: laipsnių dauginimai\n",
    "\n",
    "**Simonas.** Pažiūrėkime, kaip šią problemą sekėsi nagrinėti Simonui.\n",
    "\n",
    "* Simonas žino dvejetainį būdą:\n",
    "\n",
    "$$\\begin{array}{c}n \\times n = n^2\\\\\n",
    "n^2 \\times n^2 = n^4\\\\\n",
    "n^4 \\times n^4 = n^8\\\\\n",
    "n^8 \\times n^8 = n^{16}\\\\\n",
    "n^{16} \\times n^4 = n^{20}\\\\\n",
    "n^{20} \\times n^2 = n^{22}\\\\\n",
    "n^{22} \\times n = n^{23}\\end{array}$$\n",
    "\n",
    "* Simonas mano, kad šiuo būdu reikia mažiausiai dauginimų\n",
    "* Simonas randa prieštaraujantį pavyzdį:\n",
    "\n",
    "$$\\begin{array}{c}n \\times n = n^2\\\\\n",
    "n^2 \\times n = n^3\\\\\n",
    "n^3 \\times n^3 = n^6\\\\\n",
    "n^6 \\times n^6 = n^{12}\\\\\n",
    "n^{12} \\times n^3 = n^{15}\\end{array}$$\n",
    "\n",
    "* Simonas išsamiau išanalizuoja gautą rezultatą: iš $n^3$ buvo gauta $n^{15}$ lygiai taip pat, kaip iš $n$ gaunama $n^5$:\n",
    "$$\\begin{array}{c}n \\times n = n^2\\\\\n",
    "n^2 \\times n^2 = n^4\\\\\n",
    "n^4 \\times n = n^5\n",
    "\\end{array} \\Leftrightarrow \n",
    "\\begin{array}{c}n^3 \\times n^3 = n^6\\\\\n",
    "n^6 \\times n^6 = n^{12}\\\\\n",
    "n^{12} \\times n^3 = n^{15}\n",
    "\\end{array}$$\n",
    "* Simonas pastebi sumavimo dėsnį: kadangi $n^{15} = (n^3)^5$, tai jis gaunamas sudedant mažiausią $n^3$ dauginimų skaičių su mažiausiu $n^5$ dauginimų skaičiumi: 2+3=5, vadinasi 5 dauginimai.\n",
    "* Simonas iškelia prielaidą: jei laipsnis lygus $a \\times b$, tai jis gaunamas sudedant mažiausią $n^a$ dauginimų skaičių su mažiausiu $n^b$ dauginimų skaičiumi (su pirminiais $a$ ir $b$)\n",
    "* Prielaida galioja, kai $a$ ir $b$ yra dvejeto laipsniai, pvz. 4 ir 8.\n",
    "* Prielaida sugriūva, kai $a \\times b$ yra pirminis skaičius, pvz. 23.\n",
    "* Simonas bando tikslinti prielaidą, nagrinėdamas pavyzdį su 23:\n",
    "\n",
    "$$\\begin{array}{c}n \\times n = n^2\\\\\n",
    "n^2 \\times n = n^3\\\\\n",
    "n^3 \\times n^2 = n^5\\\\\n",
    "n^5 \\times n^5 = n^{10}\\\\\n",
    "n^{10} \\times n^{10} = n^{20}\\\\\n",
    "n^{20} \\times n^3 = n^{23}\\end{array}$$\n",
    "* Simonas pastebi, kad sumavimas gali būti ,,paslinktas\", iškelia tokią prielaidą: laipsnis $X$ yra gaunamas randant tokį išreiškimą $X=a\\times b + c$, kad $n^a$, $n^b$ ir $n^c$ dauginimų skaičių suma būtų mažiausia ir ši suma bus atsakymas.\n",
    "* Simonas atranda atvejų, kada ir ši prielaida sugriūva.\n",
    "* Simonas **pasiduoda** ieškodamas metodo, kuriame aiškiai matytųsi, kokia ta veiksmų seka turėtų būti.\n",
    "* Simonas paieško informacijos apie šį uždavinį internete ir randa, kad jis gali būti sprendžiamas tik nulaužimo būdu. Pvz. jei laipsnis yra lygus 10000001, tai gali reikėti perrinkti tiek variantų, kad netgi kompiuteris dirbs kelias valandas (perrenkant po kelis milijonus variantų per sekundę).\n",
    "* Simono tolimesnė užduotis lieka sugalvoti be klaidų veikiantį nulaužimo metodą, t.y. be klaidų parašytą algoritmą, kurį vykdys kompiuteris mažiems atvejams (iki 200).\n",
    "* Nulaužimo metodas: kompiuteris kiekvienam skaičiui saugo visus įmanomus jo gavimo variantus ir po to tie variantai yra papildomi einant prie didesnių skaičių."
   ]
  },
  {
   "cell_type": "markdown",
   "metadata": {},
   "source": [
    "### Kas bendro ir kas skirtingo su uždavinių sprendimo taisyklėmis? \n",
    "\n",
    "* Pradžioje svarbu kuo daugiau pavyzdžių\n",
    "* Keliamos prielaidos\n",
    "* Prielaidas geriausia kelti, kai aišku, ką sprendžiame.\n",
    "* Randami pavyzdžiai, su kuriais jos negalioja\n",
    "* Prielaidos tikslinamos, siūlomos naujos, jos vėl atmetamos kaip negaliojančios\n",
    "* Paaiškėja, kad uždavinys buvo ne matematinis, o algoritminis, t.y. veiksmų seką galima apibrėžti kaip algoritmą, \n",
    "bet reikia atlikti daug skaičiavimų\n",
    "* Ne kiekvienas uždavinys turi gražų sprendimą, kai kuriuose samprotavimai lieka tik euristiniais tarsi sudėtinguose žaidimuose.\n",
    "* Kapstydami laipsnių dauginimus iš arčiau pamatėme ir kaip veikia dvejetainiai skaičiai."
   ]
  },
  {
   "cell_type": "markdown",
   "metadata": {},
   "source": [
    "### Ką ruoštis kitam kartui Mantui\n",
    "* Tas, kas liko iš praeito karto. **Matematiniai žaidimai**: parašyti trijų [neišspręstų žaidimų](../matematiniai%20žaidimai/žaidimai.ipynb) laiminčių - pralaiminčių pozicijų sekas ir raštu (arba kompiuteriu) parašyti samprotavimus, kaip parodyta pavyzdyje\n",
    "* **Stojamieji į licėjų**. Kol kas svarbiausi dalykai, ką mokėmės stojamiesiems, buvo dalumo savybės ir darbo uždaviniai. Kol neįkėliau stojamųjų uždavinių, siūlau pasimokyti dar vieną dalyką, reikalingą stojamiesiems: daugianarių sandaugų atskliaudimų. Štai [užduotis iš atskliaudimų](../atskliaudimai.pdf), kurią ką tik įkėliau. Prisijungęs prie [Overleaf](https://www.overleaf.com) mano paštu *simonas.mamaitis@gmail.com* ir slaptažodžiu *99avietes* turėtum atrasti tą patį dokumentą. Kairėje pusėje yra jo redagavimo tekstas. Gal galėtum paredaguoti paskutinio skyrio lenteles taip, kad sumaketuotame dokumente lentelėse vietoj klaustukų atsidurtų reiškiniai? Jei iškyla techninių nesklandumų, klausk manęs, arba atsiųsk ranka darytus sprendimus. Aš prisijungęs prie Overleaf turėčiau matyti pasikeitusį tekstą, kai ką nors atliksi.\n",
    "\n",
    "### Keletas pastabų Mantui\n",
    "* $\\LaTeX$ yra teksto redagavimo komandos, pagal kurias maketuojami moksliniai, dažnai matematiniai tekstai. Jos labiausiai prireikia bandant užrašyti formules matematiniuose forumuose, (pvz.: [Ematematikas](ematematikas.lt), [Math Stackexchange](https://math.stackexchange.com), [Art of Problem Solving](https://artofproblemsolving.com/community)). Tiksliųjų mokslo krypčių studijose $\\LaTeX$ yra pagrindinis įrankis, su kuriuo yra rašomi baigiamieji darbai. Formulės, kurias matai savo pamokose, taip pat yra rinktos su $\\LaTeX$. Be to su $\\LaTeX$ dirba ir teksto redaktoriai, gaunantys už tai atlyginimą. Tad visai siūlau pabandyti juo pasinaudoti, kad būtum kažkiek jį pačiupinėjęs.\n",
    "* Kol kas tavo įsitraukimas į ilgesnio tyrinėjimo reikalaujančius uždavinius yra silpnokas, tai juos atidėsim tolimesnei ateičiai. Tokių uždavinių nauda yra auginti matematinius gabumus, kad aukštesnėse klasėse turėti aukščiausią pažymį iš matematikos netaptų daug pastangų reikalaujančiu procesu (sutinku - dabar kol kas lengva). Man norisi taip pat padidinti tavo galimybes matematiniuose konkursuose. Bet paliksime kol kas tik matematinius žaidimus ir stojamuosius."
   ]
  },
  {
   "cell_type": "code",
   "execution_count": null,
   "metadata": {},
   "outputs": [],
   "source": []
  }
 ],
 "metadata": {
  "kernelspec": {
   "display_name": "Python 3",
   "language": "python",
   "name": "python3"
  },
  "language_info": {
   "codemirror_mode": {
    "name": "ipython",
    "version": 3
   },
   "file_extension": ".py",
   "mimetype": "text/x-python",
   "name": "python",
   "nbconvert_exporter": "python",
   "pygments_lexer": "ipython3",
   "version": "3.7.4"
  }
 },
 "nbformat": 4,
 "nbformat_minor": 2
}
