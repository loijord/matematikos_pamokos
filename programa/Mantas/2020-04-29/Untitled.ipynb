{
 "cells": [
  {
   "cell_type": "markdown",
   "metadata": {},
   "source": [
    "### Uždavinių sprendimo laipteliai\n",
    "\n",
    "Ilgokai nesimatėme, tad šiek tiek prisiminkime praeitos pamokos darbo rezultatus. Dėmesio centre buvo uždavinys, kur reikėjo nustatyti, kiek daugiausia galima surašyti iš eilės einančių tegiamų sveikųjų skaičių, kad jų skaitmenų suma nesidalytų iš 5.\n",
    "\n",
    "* **Pradžia.** Prielaidų, kurios buvo teisingos arba neteisingos, kėlimą galima laikyti euristiniu samprotavimu.\n",
    "* Šiuo atveju buvo svarbu nepamesti kelio dėl neteisingų prielaidų, t.y. nedaryti iš jų tolimesnių išvadų.\n",
    "* Prielaidoms patvirtinti reiktų daugiau pavyzdžių, kurie pasufleruotų tam tikrą logiką arba paneigtų prielaidą. (Prisiminkime, kai patikėjome, kad 1003 pirminis, nors paaiškėjo, kad jis dalijasi iš 17)\n",
    "* Nieko baisaus, kad intuicija samprotaujant dar nėra tokia gera, kad pavyktų nuoseklus sprendimas, tam reikia tiesiog daugiau susidūrimų su panašiais tyrinėjimais.\n",
    "* **Pabaiga.** Sprendimas užbagiamas nuosekliu loginiu samprotavimu, apdraudžiančiu nuo klaidų.\n",
    "* **Tęsinys.** Jei manome, kad verta įgyti daugiau žinių galynėjantis su panašaus tipo uždaviniais, žiūrime, ar visada suprantame, kaip spręsti, jei skaičiai yra kokie tik nori."
   ]
  },
  {
   "cell_type": "markdown",
   "metadata": {},
   "source": [
    "Darsyk pažiūrime, kaip sprendimas atitiko šiuos laiptelius:\n",
    "\n",
    "* Simonas: trys tokie skaičiai yra įsiterpę tarp 19 ir 23.\n",
    "* Mantas: radau pavyzdį su 4 skaičiais.\n",
    "* Mantas (remiasi ankstesne patirtimi): tarp penkių iš eilės einančių skaičių bent vienas dalijasi iš 5.\n",
    "* Mantas (neteisinga prielaida) skaitmenų sumos eina iš eilės.\n",
    "* Simonas (parodo, kad prielaida neteisinga) yra **atvejis**, kada taip nėra.\n",
    "* Simonas (patikslina prielaidą) skaitmenų sumos eina iš eilės, jei skaičiai yra vienoje dešimtyje.\n",
    "* Mantas (neteisinga prielaida) kartojasi ši grandinė: eina 3 tinkami skaičiai, po to 4.\n",
    "* Simonas (parodo, kad prielaida neteisinga) yra **atvejis**, kada taip nėra.\n",
    "* Simonas (**išveda** iš turimų prielaidų atsakymą): vienoje dešimtyje gali būti nedaugiau 4 iš eilės einančių skaičių ir kitoje nedaugiau 4, tai iš viso nedaugiau 8. "
   ]
  },
  {
   "cell_type": "markdown",
   "metadata": {},
   "source": [
    "### Kitas darbinis pavyzdys: laipsnių dauginimai\n",
    "\n",
    "* Simonas žino dvejetainį būdą:\n",
    "\n",
    "$$\\begin{array}{c}n \\times n = n^2\\\\\n",
    "n^2 \\times n^2 = n^4\\\\\n",
    "n^4 \\times n^4 = n^8\\\\\n",
    "n^8 \\times n^8 = n^{16}\\\\\n",
    "n^{16} \\times n^4 = n^{20}\\\\\n",
    "n^{20} \\times n^2 = n^{22}\\\\\n",
    "n^{22} \\times n = n^{23}\\end{array}$$\n",
    "\n",
    "* Simonas mano, kad šiuo būdu reikia mažiausiai dauginimų\n",
    "* Simonas randa prieštaraujantį pavyzdį:\n",
    "\n",
    "$$\\begin{array}{c}n \\times n = n^2\\\\\n",
    "n^2 \\times n = n^3\\\\\n",
    "n^3 \\times n^3 = n^6\\\\\n",
    "n^6 \\times n^6 = n^{12}\\\\\n",
    "n^{12} \\times n^3 = n^{15}\\end{array}$$\n",
    "\n",
    "* Simonas išsamiau išanalizuoja gautą rezultatą: iš $n^3$ buvo gauta $n^{15}$ lygiai taip pat, kaip iš $n$ gaunama $n^5$:\n",
    "$$\\begin{array}{c}n \\times n = n^2\\\\\n",
    "n^2 \\times n^2 = n^4\\\\\n",
    "n^4 \\times n = n^5\n",
    "\\end{array} \\Leftrightarrow \n",
    "\\begin{array}{c}n^3 \\times n^3 = n^6\\\\\n",
    "n^6 \\times n^6 = n^{12}\\\\\n",
    "n^{12} \\times n^3 = n^{15}\n",
    "\\end{array}$$\n",
    "* Simonas pastebi sumavimo dėsnį: kadangi $n^{15} = (n^3)^5$, tai jis gaunamas sudedant mažiausią $n^3$ dauginimų skaičių su mažiausiu $n^5$ dauginimų skaičiumi: 2+3=5, vadinasi 5 dauginimai.\n",
    "* Simonas iškelia prielaidą: jei laipsnis lygus $a \\times b$, tai jis gaunamas sudedant mažiausią $n^a$ dauginimų skaičių su mažiausiu $n^b$ dauginimų skaičiumi (su pirminiais $a$ ir $b$)\n",
    "* Prielaida galioja, kai $a$ ir $b$ yra dvejeto laipsniai, pvz. 4 ir 8.\n",
    "* Prielaida sugriūva, kai $a \\times b$ yra pirminis skaičius, pvz. 23.\n",
    "* Simonas bando tikslinti prielaidą, nagrinėdamas pavyzdį su 23:\n",
    "\n",
    "$$\\begin{array}{c}n \\times n = n^2\\\\\n",
    "n^2 \\times n = n^3\\\\\n",
    "n^3 \\times n^2 = n^5\\\\\n",
    "n^5 \\times n^5 = n^{10}\\\\\n",
    "n^{10} \\times n^{10} = n^{20}\\\\\n",
    "n^{20} \\times n^3 = n^{23}\\end{array}$$\n",
    "* Simonas pastebi, kad sumavimas gali būti ,,paslinktas\", iškelia tokią prielaidą: laipsnis $X$ yra gaunamas randant tokį išreiškimą $X=a\\times b + c$, kad $n^a$, $n^b$ ir $n^c$ dauginimų skaičių suma būtų mažiausia ir ši suma bus atsakymas.\n",
    "* Simonas atranda atvejų, kada ir ši prielaida sugriūva.\n",
    "* Simonas **pasiduoda** ieškodamas metodo, kuriame aiškiai matytųsi, kokia ta veiksmų seka turėtų būti.\n",
    "* Simonas paieško informacijos apie šį uždavinį internete ir randa, kad jis gali būti sprendžiamas tik nulaužimo būdu. Pvz. jei laipsnis yra lygus 10000001, tai gali reikėti perrinkti tiek variantų, kad netgi kompiuteris dirbs kelias valandas (perrenkant po kelis milijonus variantų per sekundę).\n",
    "* Simono tolimesnė užduotis lieka sugalvoti be klaidų veikiantį nulaužimo metodą, t.y. be klaidų parašytą algoritmą, kurį vykdo kompiuteris.\n",
    "* Nulaužimas: kompiuteris kiekvienam skaičiui saugo visus įmanomus jo gavimo variantus ir bet kuriam naujam skaičiui visi jo gavimo variantai yra sudaromi papildant galimo prieš tai buvusio veiksmo variantus."
   ]
  },
  {
   "cell_type": "markdown",
   "metadata": {},
   "source": [
    "### Šiek tiek apie dvetainius skaičius"
   ]
  },
  {
   "cell_type": "code",
   "execution_count": 8,
   "metadata": {},
   "outputs": [
    {
     "name": "stdout",
     "output_type": "stream",
     "text": [
      "1 = 1\n",
      "2 = 10\n",
      "3 = 11\n",
      "4 = 100\n",
      "5 = 101\n",
      "6 = 110\n",
      "7 = 111\n",
      "8 = 1000\n",
      "9 = 1001\n",
      "10 = 1010\n",
      "11 = 1011\n",
      "12 = 1100\n",
      "13 = 1101\n",
      "14 = 1110\n",
      "15 = 1111\n",
      "16 = 10000\n",
      "17 = 10001\n"
     ]
    }
   ],
   "source": [
    "import numpy as np\n",
    "'Skyriai: 1, 2, 4, 8, 16'\n",
    "for i in range(1,18): print(i,'=',np.binary_repr(i))"
   ]
  },
  {
   "cell_type": "code",
   "execution_count": null,
   "metadata": {},
   "outputs": [],
   "source": []
  }
 ],
 "metadata": {
  "kernelspec": {
   "display_name": "Python 3",
   "language": "python",
   "name": "python3"
  },
  "language_info": {
   "codemirror_mode": {
    "name": "ipython",
    "version": 3
   },
   "file_extension": ".py",
   "mimetype": "text/x-python",
   "name": "python",
   "nbconvert_exporter": "python",
   "pygments_lexer": "ipython3",
   "version": "3.7.4"
  }
 },
 "nbformat": 4,
 "nbformat_minor": 2
}
