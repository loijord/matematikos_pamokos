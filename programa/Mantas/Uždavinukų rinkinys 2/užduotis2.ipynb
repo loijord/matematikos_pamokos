{
 "cells": [
  {
   "cell_type": "markdown",
   "metadata": {},
   "source": [
    "### Uždavinukai 7-8 klasėms\n",
    "\n",
    "1\\. Devyni žvirbliai sulesa mažiau negu 1001 grūdą, o dešimt tokių pačių žvirblių sulesa daugiau negu 1100 grūdų. Po kiek grūdų sulesa kiekvienas žvirblis?\n",
    "\n",
    "2\\. Vaida, Monika, Lukas ir Gytis valgė pyragėlius. Monika suvalgė daugiausia pyragėlių, o Gytis mažiausiai. Kas daugiau suvalgė pyragėlių - mergaitės ar berniukai?\n",
    "\n",
    "3\\. 109 obuoliai sudėti į 20 pakų. Kai kuriuose pakuose sudėta po $x$ obuolių, o kituose - po 3 obuolius. Raskite visas galimas $x$ reikšmes.\n",
    "\n",
    "4\\. Duoti skaičiai, kurių moduliai lygūs $2^0$, $2^1$, $2^2$, $2^4$, $2^5$, $2^6$, o suma lygi 27. Raskite šiuos skaičius.\n",
    "\n",
    "5\\. 15 vaikų surinko 100 riešutų. Ar būtinai kurie nors du iš jų bus surinkę po vienodą kiekį riešutų? Kodėl?\n",
    "\n",
    "6\\. Iš skaičių 1, 2, ..., 49, 50 išrinko 26 skaičius. Ar būtinai tarp jų bus du skaičiai, kurių skirtumas yra 1?\n",
    "\n",
    "7\\. Iš skaičių 1, 2, ..., 49, 50 išrinko 26 skaičius. Įrodykite, kad tarp išrinktų skaičių yra bent vienas skaičius, kuris dalijasi iš kito.\n",
    "\n",
    "8\\. Šalyje yra 4 miestai: A, B, C, D. Iš miesto A į miestą B veda 5 keliai, iš B į C miestą veda 4 keliai, iš A į D - du keliai, o iš D į C - 3 keliai. Keliais būdais galima nuvažiuoti iš miesto A į miestą C būtinai važiuojant per B? O keliais būdais galima nuvažiuoti per B arba D pasirinktinai?\n",
    "\n",
    "9\\. Kuris skaičius didesnis: $1+2+4+8+16+32+64+128+256+512+1024$ ar $2048$?\n",
    "\n",
    "10\\. Iššifruokite: $BA0 \\times BA \\times B = 2002$.\n",
    "\n",
    "11\\. Su kuriomis $x$ reikšmėmis lygybė $|x| = x$ yra tapatybė?\n",
    "\n",
    "12\\. Šeši klasės draugai pasikeitė nuotraukomis. Kiek nuotraukų buvo išdalyta?\n",
    "\n",
    "13\\. Dėžutės matmenys yra $4,8 \\times 4,8 \\times 1,1$. Ar tilps į šią dėžutę keturi vienodi rutuliai, jei kiekvieno rutulio spindulys lygus 0,6 cm?\n",
    "\n",
    "14\\. Vienas darbininkas, dirbdamas atskirai, gali iškasti griovį per 6 valandas, o kitas per 10 valandas. Ar iškas griovį darbininkai kartu dirbdami 4 valandas?\n",
    "\n",
    "15\\. Ar galima išdėstyti į eilę visus domino kauliukus pagal žaidimo taisykles, kad eilė prasidėtų 5, o pasibaigtų 6?"
   ]
  },
  {
   "cell_type": "markdown",
   "metadata": {},
   "source": [
    "### Uždavinukų sprendimai"
   ]
  },
  {
   "cell_type": "markdown",
   "metadata": {},
   "source": [
    "1\\. **Devyni žvirbliai sulesa mažiau negu 1001 grūdą, o dešimt tokių pačių žvirblių sulesa daugiau negu 1100 grūdų. Po kiek grūdų sulesa kiekvienas žvirblis?**\n",
    "\n",
    "Čia parodysiu, kaip uždavinio sprendimą aprašyti nelygybių kalba:\n",
    "\n",
    "Devyni žvirbliai sulesa mažiau negu 1001 grūdą: $9z < 1001 \\leftrightarrow z<111\\frac{2}{9}$\n",
    "\n",
    "Dešimt tokių pačių žvirblių sulesa daugiau negu 1100 grūdų: $10z > 1100 \\leftrightarrow z>110$\n",
    "\n",
    "$110<z<111\\frac{2}{9}$, vadinasi $z=111$."
   ]
  },
  {
   "cell_type": "markdown",
   "metadata": {},
   "source": [
    "2\\. **Vaida, Monika, Lukas ir Gytis valgė pyragėlius. Monika suvalgė daugiausia pyragėlių, o Gytis mažiausiai. Kas daugiau suvalgė pyragėlių - mergaitės ar berniukai?**\n",
    "\n",
    "Monika suvalgė daugiau už Luką, o Vaida daugiau už Gytį, tad mergaitės suvalgė daugiau."
   ]
  },
  {
   "cell_type": "markdown",
   "metadata": {},
   "source": [
    "3\\. **109 obuoliai sudėti į 20 pakų. Kai kuriuose pakuose sudėta po $x$ obuolių, o kituose - po 3 obuolius. Raskite visas galimas $x$ reikšmes.**\n",
    "\n",
    "Būdai spręsti yra keli, nes turime reikalų su tiesiniais sąryšiais, kuriems interpretuoti yra vaizdingų būdų \n",
    "(tam tikrais atvejais galima pilnai apeiti reiškinių sudarymą). \n",
    "\n",
    "**Pirmas būdas (brutal force).** Jei $y$ yra maišų kiekis po 3 obuolius, tai likusių maišų yra $20-y$. Galutinį obuolių kiekį skaičiuoja reiškinys, kuris įgyja reikšmę 109 su tam tikrais $x$ ir $y$:\n",
    "\n",
    "$$x(20-y) +3y = 109$$\n",
    "$$x(20-y) = 109 - 3y$$\n",
    "$$x = \\frac{109 - 3y}{20-y}$$\n",
    "\n",
    "Ši dalis yra sudėtingesnė. Ją per pamoką pailiustravome šiuo pavyzdžiu:\n",
    "\n",
    "![konkr](konkret.png)\n",
    "\n",
    "Vienas iš būdų būtų tikrinti visas $y$ reikšmes nuo 1 iki 19, su kuriomis $x$ yra sveikasis. Pabandykime panaudoti kompiuterį:\n"
   ]
  },
  {
   "cell_type": "code",
   "execution_count": 1,
   "metadata": {},
   "outputs": [
    {
     "name": "stdout",
     "output_type": "stream",
     "text": [
      "Kai y = 1, tai x = (109-3y)/(20-y) = 5.5789\n",
      "Kai y = 2, tai x = (109-3y)/(20-y) = 5.7222\n",
      "Kai y = 3, tai x = (109-3y)/(20-y) = 5.8824\n",
      "Kai y = 4, tai x = (109-3y)/(20-y) = 6.0625\n",
      "Kai y = 5, tai x = (109-3y)/(20-y) = 6.2667\n",
      "Kai y = 6, tai x = (109-3y)/(20-y) = 6.5\n",
      "Kai y = 7, tai x = (109-3y)/(20-y) = 6.7692\n",
      "Kai y = 8, tai x = (109-3y)/(20-y) = 7.0833\n",
      "Kai y = 9, tai x = (109-3y)/(20-y) = 7.4545\n",
      "Kai y = 10, tai x = (109-3y)/(20-y) = 7.9\n",
      "Kai y = 11, tai x = (109-3y)/(20-y) = 8.4444\n",
      "Kai y = 12, tai x = (109-3y)/(20-y) = 9.125\n",
      "Kai y = 13, tai x = (109-3y)/(20-y) = 10.0\n",
      "Kai y = 14, tai x = (109-3y)/(20-y) = 11.1667\n",
      "Kai y = 15, tai x = (109-3y)/(20-y) = 12.8\n",
      "Kai y = 16, tai x = (109-3y)/(20-y) = 15.25\n",
      "Kai y = 17, tai x = (109-3y)/(20-y) = 19.3333\n",
      "Kai y = 18, tai x = (109-3y)/(20-y) = 27.5\n",
      "Kai y = 19, tai x = (109-3y)/(20-y) = 52.0\n"
     ]
    }
   ],
   "source": [
    "for y in range(1, 20):\n",
    "    print(f'Kai y = {y}, tai x = (109-3y)/(20-y) = {round((109-3*y)/(20-y), 4)}')"
   ]
  },
  {
   "cell_type": "markdown",
   "metadata": {},
   "source": [
    "Matome, kad $x$ sveikasis tik tada, kai $y=13$ arba $19$. Tačiau 19 netinka, nes likusių maišų yra daugiau nei 1. Vadinasi, $x=10$."
   ]
  },
  {
   "cell_type": "markdown",
   "metadata": {},
   "source": [
    "4\\. **Duoti skaičiai, kurių moduliai lygūs $2^0$, $2^1$, $2^2$, $2^3$, $2^4$, $2^5$, $2^6$, o suma lygi 27. Raskite šiuos skaičius.** "
   ]
  },
  {
   "cell_type": "markdown",
   "metadata": {},
   "source": [
    "Tai yra standartinis skaičiaus vertimo į dvejetainę išraišką uždavinys. Reikšmes galima rasti bandymo keliu, o aš pamėginsiu Python komandą ([Google: Python integer to binary](https://stackoverflow.com/questions/699866/python-int-to-binary-string) -> [Answer](https://stackoverflow.com/a/699891/3044825))\n",
    "\n",
    "\"{0:b}\".format(27)\n",
    "\n",
    "Šią išraišką galima perskaityti taip: $27 = 2^0+2^1+2^3+2^4$. Ar matosi dėsningumas, kaip sudarinėjami skaičiai, jeigu perleidžiu šį kodą?\n",
    "\n",
    "for i in range(1, 32):\n",
    "    print(f'Skaičius i={i}, paverstas dvetaine išraiška: ' + \"{0:b}\".format(i))"
   ]
  },
  {
   "cell_type": "markdown",
   "metadata": {},
   "source": [
    "5\\. **15 vaikų surinko 100 riešutų. Ar būtinai kurie nors du iš jų bus surinkę po vienodą kiekį riešutų? Kodėl?**\n",
    "\n",
    "Įrodysime prieštaros būdu, kad būtinai. Tarkime, vaikai surinko skirtingus kiekius riešutų. Tuomet mažiausias galimas jų surinktas riešutų kiekis lygus $$0+1+2+3+4+5+6+7+8+9+10+11+12+13+14+15 = 105$$ Gavome prieštarą, vadinasi mūsų prielaida, kad visi surinko skirtingą riešutų kiekį, buvo bloga."
   ]
  },
  {
   "cell_type": "markdown",
   "metadata": {},
   "source": [
    "6\\. **Iš skaičių 1, 2, ..., 49, 50 išrinko 26 skaičius. Ar būtinai tarp jų bus du skaičiai, kurių skirtumas yra 1?**\n",
    "\n",
    "Suskirstykime skaičius į grupes $\\{1,2\\}$, $\\{3,4\\}$, ..., $\\{49,50\\}$. Grupių yra 25, todėl pagal Dirichle principą, bent vienoje grupėje bus po du skaičius. Jų skirtumas lygus 1."
   ]
  },
  {
   "cell_type": "code",
   "execution_count": null,
   "metadata": {},
   "outputs": [],
   "source": []
  }
 ],
 "metadata": {
  "kernelspec": {
   "display_name": "Python 3",
   "language": "python",
   "name": "python3"
  },
  "language_info": {
   "codemirror_mode": {
    "name": "ipython",
    "version": 3
   },
   "file_extension": ".py",
   "mimetype": "text/x-python",
   "name": "python",
   "nbconvert_exporter": "python",
   "pygments_lexer": "ipython3",
   "version": "3.7.4"
  }
 },
 "nbformat": 4,
 "nbformat_minor": 2
}
