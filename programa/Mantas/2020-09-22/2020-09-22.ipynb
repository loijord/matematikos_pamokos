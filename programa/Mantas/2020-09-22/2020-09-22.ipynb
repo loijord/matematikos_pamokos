{
 "cells": [
  {
   "cell_type": "markdown",
   "metadata": {},
   "source": [
    "### Užduotys, kur pasitaiko skaičiaus skaidymai, laipsniai, šaknys.\n",
    "\n",
    "Skaičiaus skaidymai, laipsniai ir šaknys remiasi bendra idėja: skaičiaus įsivaizdavimu kaip daugiklių rinkiniu. Pavyzdžiui tiek traukiant šaknį iš 10, tiek ieškant 10 daliklių, tiek atlikdami tam tikrus veiksmus su 10 laipsniai pravartu žinoti, kaip atrodo 10 skaidinys pirminiais dauginamaisiais. Kaip skaidymus galima panaudoti gliaudant sudėtingus uždavinius geriausiai gali paaiškėti tik bandant išspręsti susijusius uždavinius arba bent jau užfiksuoti svarbiausias sprendimų idėjas.\n",
    "\n",
    "Peržiūrėjau visus pastarųjų 3 metų Kengūros užduotis ir radau tokius pavyzdžius."
   ]
  },
  {
   "cell_type": "markdown",
   "metadata": {},
   "source": [
    "1\\. (***K2020_S17 pakeistas***) Ant to paties pagrindo yra brėžiami besiliečiantys kvadratai. Iš pradžių nubrėžiami kvadratai $1\\times 1$ ir $3\\times 3$. Vėliau dvi jų viršūnės yra sujungiamos tiese, o likę besiliečiantys kvadratai yra parenkami tokių aukščių, kad ši tiesė eitų per jų viršūnes. Kokie bus likusių kvadratų kraštinių ilgiai ir kodėl?\n",
    "\n",
    "<img src=\"K2020S.png\" width=\"400\">"
   ]
  },
  {
   "cell_type": "markdown",
   "metadata": {},
   "source": [
    "2\\. (***K2020_J18***) Sveikieji skaičiai $a$, $b$, $c$, $d$ tenkina lygybę $ab = 2cd$. Kuri iš pateiktųjų reikšmių negali būti lygi $abcd$? Variantai: 50, 100, 200, 450, 800."
   ]
  },
  {
   "cell_type": "markdown",
   "metadata": {},
   "source": [
    "3\\. (***K2020_J16***) Skaičius 2020 pasižymi tokia savybe: tarp jo antrojo ir trečiojo skaitmenų įterpus\n",
    "daugybos ženklą, sandaugos reikšmė yra sveikojo skaičiaus kvadratas ($20 \\times 20 = 20^2$).\n",
    "Kiek natūraliųjų skaičių nuo 2010 iki 2099 (įskaitant 2020) pasižymi šia savybe?"
   ]
  },
  {
   "cell_type": "markdown",
   "metadata": {},
   "source": [
    "4\\. (***K2020_K30***) Kam lygi skaičiaus 2020 2020 2020 2020 2020 dalybos iš 808 liekana?"
   ]
  },
  {
   "cell_type": "markdown",
   "metadata": {},
   "source": [
    "5\\. (***K2020_K23***) Kiek yra keturženklių skaičių $A$, kurie turi tokias savybes: pusė skaičiaus $A$ dalijasi iš 2, trečdalis skaičiaus $A$ dalijasi iš 3 ir penktadalis skaičiaus $A$ dalijasi iš 5?"
   ]
  },
  {
   "cell_type": "markdown",
   "metadata": {},
   "source": [
    "6\\. (***K2020_K28***) Kiek mažiausiai skirtingų natūraliųjų skaičių, ne mažesnių už 1 ir ne didesnių už 30, reikia pasirinkti, kad jų sandauga dalytųsi iš kiekvieno natūraliojo skaičiaus nuo 1 iki 30?"
   ]
  },
  {
   "cell_type": "markdown",
   "metadata": {},
   "source": [
    "7\\. (***K2020_K8***) Motiejus iš skaičių $-5$, $-3$, $-1$, 2, 4 ir 6 išsirinko tris skirtingus ir juos sudaugino. Kokią mažiausią sandaugą galėjo gauti Motiejus?"
   ]
  },
  {
   "cell_type": "markdown",
   "metadata": {},
   "source": [
    "8\\. (***K2019_S25***) Kiek yra tokių sveikųjų skaičių $n$, kad skaičius $|n^2-2n-3|$ yra pirminis?"
   ]
  },
  {
   "cell_type": "markdown",
   "metadata": {},
   "source": [
    "9\\. (***K2019_S10***) Kiek natūraliųjų skaičių nuo $2^{10}$ iki $2^{13}$ (įskaitant ir šiuos du skaičius) dalijasi iš $2^{10}$?"
   ]
  },
  {
   "cell_type": "markdown",
   "metadata": {},
   "source": [
    "10\\. (***K2019_S14***) Koks yra didžiausias skaičiaus 3 laipsnis (su natūraliuoju rodikliu), iš kurio dalijasi skaičius $7!+8!+9!$"
   ]
  },
  {
   "cell_type": "markdown",
   "metadata": {},
   "source": [
    "11\\. (***K2019_S19***) Natūraliojo skaičiaus $n$ didžiausias daliklis, mažesnis už $n$, lygus $n-6$. Kiek yra tokių skaičių $n$?"
   ]
  },
  {
   "cell_type": "markdown",
   "metadata": {},
   "source": [
    "12\\. (***K2019_S21***) Skaičiaus 1024 visų teigiamų daliklių suma lygi $a$, o skaičiaus 1024 visų teigiamų daliklių\n",
    "sandauga lygi $b$. Tada"
   ]
  },
  {
   "cell_type": "markdown",
   "metadata": {},
   "source": [
    "13\\. (***K2019_J28***) Aušra nori išmesti iš aibės $\\{10; 20; 30; 40; 50; 60; 70; 80; 90\\}$ kelis skaičius taip, kad likusių skaičių sandauga būtų sveikojo skaičiaus kvadratas. Kiek mažiausiai skaičių ji gali išmesti?"
   ]
  },
  {
   "cell_type": "markdown",
   "metadata": {},
   "source": [
    "14\\. (***K2019_B21***) Trys matomos kubo sienos pažymėtos skaičiais 5, 10, 15, o likusiose - tam tikri natūralieji skaičiai. Bet kurių dviejų priešingų sienų sandaugos lygios. Kokia galima mažiausia visų šešių kuno sienose užrašytų skaičių suma?"
   ]
  },
  {
   "cell_type": "markdown",
   "metadata": {},
   "source": [
    "15\\. (***K2018_S30***) Arkis Medas apskaičiavo $15!=1\\times 2\\times 3 \\times ... \\times 15$ ir sandaugos reikšmę užrašė lentoje. Pitas Goras du skaitmenis nutrynė, ir liko užrašas $1\\boxed{\\phantom{|}} 0767436\\boxed{\\phantom{|}}000$. Kokie yra Arkio Medo skaičiaus antrasis ir dešimtasis skaitmenys?"
   ]
  },
  {
   "cell_type": "markdown",
   "metadata": {},
   "source": [
    "16\\. (***K2018_S18***) Iš kurio skaičiaus nesidalija $18^{2017}+18^{2018}$? Variantai: 8, 18, 28, 38, 48."
   ]
  },
  {
   "cell_type": "markdown",
   "metadata": {},
   "source": [
    "17\\. (***K2018_J5***) Sudėjus 5 iš eilės einančius skaičius gauta suma $10^{2018}$. Kam lygus vidurinis skaičius?"
   ]
  },
  {
   "cell_type": "markdown",
   "metadata": {},
   "source": [
    "18\\. (***K2018_J7***) Senelis iš sodo parnešė 42 obuolius, 60 slyvų ir 90 vyšnių. Senelė išdalijo viską į pintines ir kiekvienam anūkui dave po pintinę. Visi anūkai gavo po tiek pat obuolių, tiek pat\n",
    "slyvų ir tiek pat vyšnių. Kiek daugiausiai anūkų turi seneliai?"
   ]
  },
  {
   "cell_type": "markdown",
   "metadata": {},
   "source": [
    "19\\. (***K2018_J15***) Kiek skaitmenų turi skaitinio reiškinio $\\frac{1}{9} \\times 10^{2018} \\times (10^{2018}-1)$ reikšmė?"
   ]
  },
  {
   "cell_type": "markdown",
   "metadata": {},
   "source": [
    "20\\. (***K2018_J21***) Robotė Rožė, gavusi skaičių sąrašą, apskaičiuoja bei užrašo jų sumą ir sandaugą. Kartą gavusi sveikųjų skaičių sąrašą, kuriame buvo ir skaičius 2018, Rožė abu kartus užrašė rezultatą 2018. Kiek skaičių galėjo būti sąraše, kurį gavo Rožė? Variantai: 2016, 2017, 2018, 2019, 2020."
   ]
  },
  {
   "cell_type": "markdown",
   "metadata": {},
   "source": [
    "21\\. (***K2018_K4***) Kokį skaičių reiškia *, jei lygybė $2 \\times 18 \\times 14 = 6 \\times * \\times 7$ yra teisinga?"
   ]
  },
  {
   "cell_type": "markdown",
   "metadata": {},
   "source": [
    "22\\. (***K2018_B17***) Pirmadienį Mantas sugalvojo slaptažodį ir išsiuntė jį 5 draugams. Kiekvienas, gavęs slaptazodį, rytojaus dieną išsiųsdavo dviem savo draugams, kurie iki tol slaptažodžio nežinojo. Kurią savaitės dieną slaptažodį žinančių asmenų skaičius tapo didesnis už 100?"
   ]
  }
 ],
 "metadata": {
  "kernelspec": {
   "display_name": "Python 3",
   "language": "python",
   "name": "python3"
  },
  "language_info": {
   "codemirror_mode": {
    "name": "ipython",
    "version": 3
   },
   "file_extension": ".py",
   "mimetype": "text/x-python",
   "name": "python",
   "nbconvert_exporter": "python",
   "pygments_lexer": "ipython3",
   "version": "3.8.3"
  }
 },
 "nbformat": 4,
 "nbformat_minor": 4
}
