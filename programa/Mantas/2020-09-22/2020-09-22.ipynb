{
 "cells": [
  {
   "cell_type": "markdown",
   "metadata": {},
   "source": [
    "### Skaičiaus skaidymai, laipsniai, šaknys.\n",
    "\n",
    "Skaičiaus skaidymas pirminiais dauginamaisiais, laipsnio ir šaknies skaičiavimai yra tarpusavyje labai susiję. Juos nagrinėjant skaičių yra prasminga įsivaizduoti kaip daugiklių rinkinį. "
   ]
  },
  {
   "cell_type": "markdown",
   "metadata": {},
   "source": [
    "### Unikalūs rinkiniai\n",
    "\n",
    "Per pamoką taip pat parodžiau vieną įdomų skirtumą tarp sudėties ir daugybos. Imkime, kaip pavyzdį skaičių 10. Bandome jį išskaidyti į atskirus skaičius, apjungtus sudėtimi (šioje vietoje Mantas nelabai suprato mano išsireiškimo, nes mokykloje tiesiog sakytų: bandome išreikšti skaičių kelių dėmenų suma). Štai keletas pavyzdžių: \n",
    "\n",
    " * $10=3+7$\n",
    " * $10=1+1+1+1+1+5$\n",
    " * $10=2+3+5$\n",
    " * $10=-2+12$\n",
    " * $10=\\frac{3}{7}+9\\frac{4}{7}$.\n",
    " \n",
    "Sutarkime, kad dėmenys bus natūralieji skaičiai, nes kitaip tų išreiškimo būdų galėtume prigalvoti pačių sudėtingiausių ir jiems suskaičiuoti nesimatytų galo. O dabar pabandykime 10 išskaidyti į atskirus skaičius, apjungtus daugyba:\n",
    "\n",
    " * $10=2 \\times 5 = 5 \\times 2$\n",
    " * $10=1 \\times 10 = 10 \\times 1$\n",
    " \n",
    "Yra ir kitų būdų, bet juose jau būtų naudojami nenatūralieji skaičiai. Matome, kad buvo tik vienas būdas, kur tarp daugiklių nepasitaikė 10. Jei paimtume, pavyzdžiui, 30, tai galėtume išreikšti, jį kaip $3\\times 10$ arba $5\\times 6$. Bet yra tik vienintelis būdas jį išreikšti pirminiais dauginamaisiais: $$30=2\\times 3\\times 5$$\n",
    "\n",
    "$$\\boxed{\\text{Kiekvienas natūralusis skaičius turi vienintelį būdą išskaidyti jį pirminiais dauginamaisiais}}$$\n",
    "\n",
    "Šį teiginį 1801m. įrodė žymus matematikas Gausas. To tikrai nebūtų galima pasakyti apie skaičiaus išreiškimus tam tikrų dėmenų suma, kaip matėme."
   ]
  },
  {
   "cell_type": "markdown",
   "metadata": {},
   "source": [
    "### Daugianarių daugybos pakartojimas su įdomybėmis\n",
    "Mantas neprisiminė, kaip panaudoti lenteles dauginant daugianarius, tad pasisprendėme vieną pavyzdį $$(1-x)(1+x+x^2+x^3+x^4)$$\n",
    "\n",
    "Šį veiksmą atlikome naudodami lentelę ir gavome atsakymą $1-x^5$. Taip pat aptarėme keletą įdomybių:\n",
    "\n",
    "* Jei būtų $(1-x)(1+x+x^2+x^3+x^4+x^5+...)$, t.y. antrame daugiklyje begalinė suma, tai atsakymas turėtų būti lygi ir toks: $1-x^\\infty$.\n",
    "* Skaičių seka $1,x,x^2,x^3,x^4,x^5...$ vadinama geometrine progresija ir mokykloje nagrinėjama 12 klasėje. Taip pat 12 klasėje nagrinėja, kam bus lygios kai kurių progresijų sumos.\n",
    "* Jei x yra tarp 0 ir 1, tai geometrinės progresijos sumą $1+x+x^2+x^3+x^4+x^5+...$ galima apskaičiuoti. Pavyzdžiui $$1+\\frac{1}{2}+\\frac{1}{4}+\\frac{1}{8}+...=2$$ $$1+\\frac{1}{3}+\\frac{1}{9}+\\frac{1}{27}+...=1,5$$\n",
    "* Galiausiai aptarėme, kaip pasinaudojus tuo, ką sužinojome, rasti šias sumas. Jau sugalvojome, kad $(1-x)(1+x+x^2+x^3+x^4+x^5+...)=1-x^\\infty$. Be to per pamoką įsitikinome, kad $x^\\infty$ yra kiek nori arti 0:\n",
    "\n",
    "$$0.5\\times 0.5 = 0.25$$\n",
    "$$0.5\\times 0.5 \\times 0.5 = 0.125$$\n",
    "$$0.5\\times 0.5 \\times 0.5 \\times 0.5 = 0.0625$$\n",
    "$$0.5\\times 0.5 \\times 0.5 \\times 0.5 \\times 0.5 = 0.03125$$\n",
    "$$\\text{ir t.t., kol lieka beveik 0}$$\n",
    "\n",
    "Vadinasi: \n",
    "\n",
    "$$(1-x)(1+x+x^2+x^3+x^4+x^5+...)=1$$\n",
    "$$1+x+x^2+x^3+x^4+x^5+...=\\frac{1}{1-x}$$\n",
    "\n",
    "Paėmę vietoj $x$ skaičius $\\frac{1}{2}$ arba $\\frac{1}{3}$ galime apskaičiuoti sumas $1+\\frac{1}{2}+\\frac{1}{4}+\\frac{1}{8}+...=2$ ir $1+\\frac{1}{3}+\\frac{1}{9}+\\frac{1}{27}+...=1,5$"
   ]
  },
  {
   "cell_type": "markdown",
   "metadata": {},
   "source": [
    "### Plotai?\n",
    "\n",
    "Mantui per savarankišką darbą nepavyko nustatyti įbrėžto į kvadratą trikampio ploto:\n",
    "\n",
    "<img src=\"plotai.png\" width=\"100\">\n",
    "\n",
    "Prisiminėme, kaip veikia formulė $$S_{trik} = \\frac{ah}{2},$$ kur $a$ yra trikampio pagrindas, o $h$ - jo aukštinė. Pagrindinis dalykas, kurį Mantas buvo pamiršęs - ši formulė veikia su bet kuriais trikampiais, ne tik su stačiaisias.\n",
    "\n",
    "***Pastaba Mantui***: mums ateityje kažkurią pamoką reikės pakartoti plotų ir tūrių skaičiavimą, nes porą kartų per pamokas pastebėjau, kad šitas sąvokas vartoji kiek nedrąsiai. Kol kas gali prisiminti:\n",
    "\n",
    "$$\\boxed{\\begin{array}{c}\\text{Plotas - tai dydis, kuriuo matuojama dvimačio kūno (pvz. trikampio) užimama vieta}\\\\ \\text{Tūris - tai dydis, kuriuo matuojama trimačio kūno (pvz. piramidės) užimama vieta}\\end{array}}$$"
   ]
  },
  {
   "cell_type": "markdown",
   "metadata": {},
   "source": [
    "### Transformuoti pokerio žėtonai"
   ]
  },
  {
   "cell_type": "markdown",
   "metadata": {},
   "source": [
    "***Mantas.*** nori pasakyti sugadinai pokerio žėtonus ir užklijavai skaičius?!\n",
    "\n",
    "***Simonas.*** Taip! Panaudot juos laipsnių aiškinimui juos man pasirodė naudingiau. Kai loši pokerį, reikia daryt statymus: 2 žėtonai reiškia 20, o 4 žėtonai reiškia 40. Tai ne taip įdomu, nes tiesiog sudedame, kas yra krūvoje. O su laipsniais žaidimas daug įdomesnis. Nelieka jokių veiksmų, tik daugyba. Pavyzdžiui 6 žėtonai, ant kurių užrašyta po 2, reiškia $2^6$."
   ]
  },
  {
   "cell_type": "markdown",
   "metadata": {},
   "source": [
    "### Laipsnio ir šaknies vaizdinys: sunkumų sukeliančios dalys\n",
    "\n",
    "Apie pusę pamokos praleidome aptarinėdami praeitos pamokos namų darbus ir bandydami pavaizduoti visas per pamokas praeitas laipsnių savybes mokomosios priemonės (žėtonų) pagalba. Teko išsiaiškinti tokius klausimus, kaip:\n",
    "\n",
    "* Kaip papraščiau užrašyti reiškinį su $n$ dauginamųjų: $a^3 \\times a^3 \\times ... \\times a^3$.\n",
    "* Jei žinome, kaip su žėtonais pavaizduoti $2^4, 2^3, 2^2, 2^1$, tai kaip pavaizduotume $2^0$, $2^{-1}$, $2^{-2}$ ir t.t.?\n",
    "* Kodėl $2^0$ lygu 1, o ne 0?\n",
    "* Kaip pavaizduoti reiškinio $\\Big(2^{-3}\\Big)^{2}$ skaičiavimą?\n",
    "* Kaip pavaizduoti vienas kitam lygius reiškinius $\\Big(\\frac{2}{3}\\Big)^3$ ir $\\frac{2^3}{3^3}$?\n",
    "* Kas yra dalinis taisyklės $a^n\\times a^m = a^{n+m}$ atvejis, kai $n=m=0,5$?\n",
    "* Kas yra pusinis laipsnis? (Pvz.: $3^{0,5}$)\n",
    "* Kaip ištraukti šaknį iš 54?\n",
    "\n",
    "Sunkesnės vietos: \n",
    "\n",
    "* Prieš žėtonų dėliojimus viename iš namų darbų pratimų klausiau, koks bus šios figūros tūris, kai vieno kubiuko kraštinė yra $a$, o didžiojo kubo aukštis yra $a$ kubiukų. Mantas atsakė $a^5$. <img src=\"tensor_mistake.png\" width=\"100\">\n",
    "* Iš pat pradžių buvo sunkoka priprasti prie atvejų, kai laipsniu yra keliama kažkas kita, nei $a$, pvz. $a^3$. Arba koks yra esminis skirtumas tarp rodiklių 2 ir 3, kai reiškinio $(a^2)^3$ skaičiavimą bandome vaizduoti žėtonų pagalba?\n",
    "* Nelabai aiški namų darbo formuluotė: *užrašyti taisyklę $a^na^m=a^{n+m}$, kai $n=m=0.5$*. Nebuvo aišku, kad pateikta lygybė atitinka taisyklę. Taip pat iš pat pradžių nepavyko suprasti, kad reikės atlikti įstatymus $n\\to 0,5$ ir $m\\to 0,5$. Mokymo programoje stinga paaiškinimo, kad įstatymus galime atlikti ne tik reiškiniuose, bet ir lygybėse ir kad atlikę įstatymą taisyklėje gausime tos ***taisyklės dalinį atvejį***."
   ]
  },
  {
   "cell_type": "markdown",
   "metadata": {},
   "source": [
    "### Namų darbai, tolimesnis darbas"
   ]
  },
  {
   "cell_type": "markdown",
   "metadata": {},
   "source": [
    "Namų darbams lieka išspręsti keletą užduotėlių iš Kengūros. Būtų gerai bent 5 iš pateikto sąrašo. Kitą pamoką aptarsime pagrindinius triukus, pasitaikančius laipsnių uždaviniuose tiek iš Kengūros, tiek stojamųjų. Juniorų ir Senjorų grupių uždaviniai ne visada yra sunkūs, dauguma iš jų yra stojamųjų į licėjų lygio."
   ]
  },
  {
   "cell_type": "markdown",
   "metadata": {},
   "source": [
    "### Kengūros užduotys iš paskutinių 3 metų"
   ]
  },
  {
   "cell_type": "markdown",
   "metadata": {},
   "source": [
    "1\\. (***K2020_S17 pakeistas***) Ant to paties pagrindo yra brėžiami besiliečiantys kvadratai. Iš pradžių nubrėžiami kvadratai $1\\times 1$ ir $3\\times 3$. Vėliau dvi jų viršūnės yra sujungiamos tiese, o likę besiliečiantys kvadratai yra parenkami tokių aukščių, kad ši tiesė eitų per jų viršūnes. Kokie bus likusių kvadratų kraštinių ilgiai ir kodėl?\n",
    "\n",
    "<img src=\"K2020S.png\" width=\"400\">"
   ]
  },
  {
   "cell_type": "markdown",
   "metadata": {},
   "source": [
    "2\\. (***K2020_J18***) Sveikieji skaičiai $a$, $b$, $c$, $d$ tenkina lygybę $ab = 2cd$. Kuri iš pateiktųjų reikšmių negali būti lygi $abcd$? Variantai: 50, 100, 200, 450, 800."
   ]
  },
  {
   "cell_type": "markdown",
   "metadata": {},
   "source": [
    "3\\. (***K2020_J16***) Skaičius 2020 pasižymi tokia savybe: tarp jo antrojo ir trečiojo skaitmenų įterpus\n",
    "daugybos ženklą, sandaugos reikšmė yra sveikojo skaičiaus kvadratas ($20 \\times 20 = 20^2$).\n",
    "Kiek natūraliųjų skaičių nuo 2010 iki 2099 (įskaitant 2020) pasižymi šia savybe?"
   ]
  },
  {
   "cell_type": "markdown",
   "metadata": {},
   "source": [
    "4\\. (***K2020_K30***) Kam lygi skaičiaus 2020 2020 2020 2020 2020 dalybos iš 808 liekana?"
   ]
  },
  {
   "cell_type": "markdown",
   "metadata": {},
   "source": [
    "5\\. (***K2020_K23***) Kiek yra keturženklių skaičių $A$, kurie turi tokias savybes: pusė skaičiaus $A$ dalijasi iš 2, trečdalis skaičiaus $A$ dalijasi iš 3 ir penktadalis skaičiaus $A$ dalijasi iš 5?"
   ]
  },
  {
   "cell_type": "markdown",
   "metadata": {},
   "source": [
    "6\\. (***K2020_K28***) Kiek mažiausiai skirtingų natūraliųjų skaičių, ne mažesnių už 1 ir ne didesnių už 30, reikia pasirinkti, kad jų sandauga dalytųsi iš kiekvieno natūraliojo skaičiaus nuo 1 iki 30?"
   ]
  },
  {
   "cell_type": "markdown",
   "metadata": {},
   "source": [
    "7\\. (***K2020_K8***) Motiejus iš skaičių $-5$, $-3$, $-1$, 2, 4 ir 6 išsirinko tris skirtingus ir juos sudaugino. Kokią mažiausią sandaugą galėjo gauti Motiejus?"
   ]
  },
  {
   "cell_type": "markdown",
   "metadata": {},
   "source": [
    "8\\. (***K2019_S25***) Kiek yra tokių sveikųjų skaičių $n$, kad skaičius $|n^2-2n-3|$ yra pirminis?"
   ]
  },
  {
   "cell_type": "markdown",
   "metadata": {},
   "source": [
    "9\\. (***K2019_S10***) Kiek natūraliųjų skaičių nuo $2^{10}$ iki $2^{13}$ (įskaitant ir šiuos du skaičius) dalijasi iš $2^{10}$?"
   ]
  },
  {
   "cell_type": "markdown",
   "metadata": {},
   "source": [
    "10\\. (***K2019_S14***) Koks yra didžiausias skaičiaus 3 laipsnis (su natūraliuoju rodikliu), iš kurio dalijasi skaičius $7!+8!+9!$"
   ]
  },
  {
   "cell_type": "markdown",
   "metadata": {},
   "source": [
    "11\\. (***K2019_S19***) Natūraliojo skaičiaus $n$ didžiausias daliklis, mažesnis už $n$, lygus $n-6$. Kiek yra tokių skaičių $n$?"
   ]
  },
  {
   "cell_type": "markdown",
   "metadata": {},
   "source": [
    "12\\. (***K2019_S21***) Skaičiaus 1024 visų teigiamų daliklių suma lygi $a$, o skaičiaus 1024 visų teigiamų daliklių\n",
    "sandauga lygi $b$. Tada"
   ]
  },
  {
   "cell_type": "markdown",
   "metadata": {},
   "source": [
    "13\\. (***K2019_J28***) Aušra nori išmesti iš aibės $\\{10; 20; 30; 40; 50; 60; 70; 80; 90\\}$ kelis skaičius taip, kad likusių skaičių sandauga būtų sveikojo skaičiaus kvadratas. Kiek mažiausiai skaičių ji gali išmesti?"
   ]
  },
  {
   "cell_type": "markdown",
   "metadata": {},
   "source": [
    "14\\. (***K2019_B21***) Trys matomos kubo sienos pažymėtos skaičiais 5, 10, 15, o likusiose - tam tikri natūralieji skaičiai. Bet kurių dviejų priešingų sienų sandaugos lygios. Kokia galima mažiausia visų šešių kuno sienose užrašytų skaičių suma?"
   ]
  },
  {
   "cell_type": "markdown",
   "metadata": {},
   "source": [
    "15\\. (***K2018_S30***) Arkis Medas apskaičiavo $15!=1\\times 2\\times 3 \\times ... \\times 15$ ir sandaugos reikšmę užrašė lentoje. Pitas Goras du skaitmenis nutrynė, ir liko užrašas $1\\boxed{\\phantom{|}} 0767436\\boxed{\\phantom{|}}000$. Kokie yra Arkio Medo skaičiaus antrasis ir dešimtasis skaitmenys?"
   ]
  },
  {
   "cell_type": "markdown",
   "metadata": {},
   "source": [
    "16\\. (***K2018_S18***) Iš kurio skaičiaus nesidalija $18^{2017}+18^{2018}$? Variantai: 8, 18, 28, 38, 48."
   ]
  },
  {
   "cell_type": "markdown",
   "metadata": {},
   "source": [
    "17\\. (***K2018_J5***) Sudėjus 5 iš eilės einančius skaičius gauta suma $10^{2018}$. Kam lygus vidurinis skaičius?"
   ]
  },
  {
   "cell_type": "markdown",
   "metadata": {},
   "source": [
    "18\\. (***K2018_J7***) Senelis iš sodo parnešė 42 obuolius, 60 slyvų ir 90 vyšnių. Senelė išdalijo viską į pintines ir kiekvienam anūkui dave po pintinę. Visi anūkai gavo po tiek pat obuolių, tiek pat\n",
    "slyvų ir tiek pat vyšnių. Kiek daugiausiai anūkų turi seneliai?"
   ]
  },
  {
   "cell_type": "markdown",
   "metadata": {},
   "source": [
    "19\\. (***K2018_J15***) Kiek skaitmenų turi skaitinio reiškinio $\\frac{1}{9} \\times 10^{2018} \\times (10^{2018}-1)$ reikšmė?"
   ]
  },
  {
   "cell_type": "markdown",
   "metadata": {},
   "source": [
    "20\\. (***K2018_J21***) Robotė Rožė, gavusi skaičių sąrašą, apskaičiuoja bei užrašo jų sumą ir sandaugą. Kartą gavusi sveikųjų skaičių sąrašą, kuriame buvo ir skaičius 2018, Rožė abu kartus užrašė rezultatą 2018. Kiek skaičių galėjo būti sąraše, kurį gavo Rožė? Variantai: 2016, 2017, 2018, 2019, 2020."
   ]
  },
  {
   "cell_type": "markdown",
   "metadata": {},
   "source": [
    "21\\. (***K2018_K4***) Kokį skaičių reiškia $S$, jei lygybė $2 \\times 18 \\times 14 = 6 \\times $S$ \\times 7$ yra teisinga?"
   ]
  },
  {
   "cell_type": "markdown",
   "metadata": {},
   "source": [
    "22\\. (***K2018_B17***) Pirmadienį Mantas sugalvojo slaptažodį ir išsiuntė jį 5 draugams. Kiekvienas, gavęs slaptazodį, rytojaus dieną išsiųsdavo dviem savo draugams, kurie iki tol slaptažodžio nežinojo. Kurią savaitės dieną slaptažodį žinančių asmenų skaičius tapo didesnis už 100?"
   ]
  }
 ],
 "metadata": {
  "kernelspec": {
   "display_name": "Python 3",
   "language": "python",
   "name": "python3"
  },
  "language_info": {
   "codemirror_mode": {
    "name": "ipython",
    "version": 3
   },
   "file_extension": ".py",
   "mimetype": "text/x-python",
   "name": "python",
   "nbconvert_exporter": "python",
   "pygments_lexer": "ipython3",
   "version": "3.8.3"
  }
 },
 "nbformat": 4,
 "nbformat_minor": 4
}
