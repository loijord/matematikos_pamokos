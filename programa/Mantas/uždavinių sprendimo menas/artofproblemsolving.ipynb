{
 "cells": [
  {
   "cell_type": "markdown",
   "metadata": {},
   "source": [
    "#### Ilgesnio tyrinėjimo reikalaujantys uždaviniai"
   ]
  },
  {
   "cell_type": "markdown",
   "metadata": {},
   "source": [
    "* Su Mantu jau esame turėję keletų tokių uždavinių pavyzdžių: \n",
    "   1\\. Raskite visas galimas skaitmenų sumas skaičiaus, kuris dalijasi iš 7.\n",
    "   \n",
    "   2\\. Raskite visus galimus daugiakampių rinkinius, į kuriuos galima padalinti trikampį dviejomis tiesėmis. Pavyzdys:\n",
    "![dala](dala.png)\n",
    "\n",
    "   3\\. Kokius skaičius reiktų įrašyti vietoje žvaigždučių, kad skaičius dalintųsi iš 84: $*36*$\n",
    "   \n",
    "   4\\. Įvairūs matematiniai žaidimai.\n",
    "   \n",
    "   5\\. Lygties $x^{10}=2$ sprendinio paieškos.\n",
    "   \n",
    "   6\\. Kaip dvetainių išraiškų pratęsimą siūlau paspręsti [šį uždavinį](https://projecteuler.net/problem=122). Pavyzdyje yra pateikiama, kaip suskaičiuoti $n^{15}$ su mažiausiu dauginimų skaičiumi naudojant dvejetainį metodą ir parodoma, kaip tą galima padaryti paprasčiau. O koks būtų mažiausias dauginimų skaičius, kai laipsnis yra 23?\n",
    "* Pradedant ieškoti sprendimo įprasta skaidyti klausimą į konkretesnius. Pavyzdžiui sprendžiant pirmą uždavinį yra keliami tokie tarpiniai klausimai:\n",
    "\n",
    "   1\\. Ar gali 7 kartotinio skaitmenų suma būti 10?\n",
    "\n",
    "   2\\. Ar tokia suma gali būti 100?\n",
    "   \n",
    "   3\\. Ar tokia suma gali būti 2006?\n",
    "   \n",
    "   4\\. Kokia mažiausia įmanoma 7 kartotinio suma?\n",
    "   \n",
    "   5\\. Kokie skaičiai gali būti sumomis, kurie ne?\n",
    "* Uždavinio formuluotei suprasti pradedam nuo konkrečių pavyzdžių. Pvz. suma gali būti 3, jei skaičius yra 21.\n",
    "* Matematikai nori apie uždavinį sužinoti viską, todėl sprendžia bendresnius jo variantus, pavyzdžiui:\n",
    "\n",
    "   1\\. Kokia gali būti iš 23 besidalijančio skaičiaus skaitmenų suma?\n",
    "   \n",
    "   2\\. Kokia gali būti iš 5 besidalijančio skaičiaus skaitmenų suma? O 99?"
   ]
  },
  {
   "cell_type": "code",
   "execution_count": null,
   "metadata": {},
   "outputs": [],
   "source": []
  }
 ],
 "metadata": {
  "kernelspec": {
   "display_name": "Python 3",
   "language": "python",
   "name": "python3"
  },
  "language_info": {
   "codemirror_mode": {
    "name": "ipython",
    "version": 3
   },
   "file_extension": ".py",
   "mimetype": "text/x-python",
   "name": "python",
   "nbconvert_exporter": "python",
   "pygments_lexer": "ipython3",
   "version": "3.7.4"
  }
 },
 "nbformat": 4,
 "nbformat_minor": 2
}
