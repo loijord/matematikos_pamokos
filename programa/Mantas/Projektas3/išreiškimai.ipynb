{
 "cells": [
  {
   "cell_type": "markdown",
   "metadata": {},
   "source": [
    "Šio projekto tikslas yra išmokti spręsti lygtis bet kurio pasirinkto kintamojo atžvilgiu. Bandysime nagrinėti teoriją iš Lamar universiteto paskaitų.\n",
    "Taupydamas laiką uždavinių čia nepateiksiu. Juos galite rasti trijose nuorodose:\n",
    "    \n",
    "* [Paskaitų užduotys](https://tutorial.math.lamar.edu/Classes/Alg/SolveMultiVariable.aspx)\n",
    "* [Papildomos užduotys](https://tutorial.math.lamar.edu/Problems/Alg/SolveMultiVariable.aspx)\n",
    "* [Savarankiškos užduotys](https://tutorial.math.lamar.edu/ProblemsNS/Alg/SolveMultiVariable.aspx)"
   ]
  }
 ],
 "metadata": {
  "kernelspec": {
   "display_name": "Python 3",
   "language": "python",
   "name": "python3"
  },
  "language_info": {
   "codemirror_mode": {
    "name": "ipython",
    "version": 3
   },
   "file_extension": ".py",
   "mimetype": "text/x-python",
   "name": "python",
   "nbconvert_exporter": "python",
   "pygments_lexer": "ipython3",
   "version": "3.8.3"
  }
 },
 "nbformat": 4,
 "nbformat_minor": 4
}
