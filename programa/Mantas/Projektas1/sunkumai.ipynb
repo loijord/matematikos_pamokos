{
 "cells": [
  {
   "cell_type": "markdown",
   "metadata": {},
   "source": [
    "#### Pirma pam.\n",
    "\n",
    "* $(a^m)^n$ pertvarkymo plano nagrinėjimas. Vienoje vietoje keblumai kilo norint suprasti, kad visas eiles galima kopijuoti ir dauginti lygiai taip pat. Be to plane matyti, kad ne visur to paties apibrėžimo taikymas yra tiesioginis: vienoje vietoje prireikia vietoje rodiklio $n$ naudoti rodiklį $m$ bei vietoje pagrindo $a$ imti pagrindą $a^n$, o kitoje vietoje prireikia vietoje rodiklio $n$ imti rodiklį $nm$.\n",
    "* Neprisiminė, kam lygu $(a^m)^n$\n",
    "* Koks būtų erdvinis $a^4$ atitikmuo?\n",
    "* Ar aišku, kaip kelti dvinarį kubu naudojant atitikmenį erdvėje?"
   ]
  },
  {
   "cell_type": "markdown",
   "metadata": {},
   "source": [
    "#### Antra pam.\n",
    "\n",
    "* Kaip papraščiau užrašyti reiškinį su $n$ dauginamųjų: $a^3 \\times a^3 \\times ... \\times a^3$.\n",
    "* Jei žinome, kaip su žėtonais pavaizduoti $2^4, 2^3, 2^2, 2^1$, tai kaip pavaizduotume $2^0$, $2^{-1}$, $2^{-2}$ ir t.t.?\n",
    "* Kodėl $2^0$ lygu 1, o ne 0?\n",
    "* Kaip pavaizduoti reiškinio $\\Big(2^{-3}\\Big)^{2}$ skaičiavimą?\n",
    "* Kaip pavaizduoti vienas kitam lygius reiškinius $\\Big(\\frac{2}{3}\\Big)^3$ ir $\\frac{2^3}{3^3}$?\n",
    "* Kas yra dalinis taisyklės $a^n\\times a^m = a^{n+m}$ atvejis, kai $n=m=0,5$?\n",
    "* Kas yra pusinis laipsnis? (Pvz.: $3^{0,5}$)\n",
    "* Kaip ištraukti šaknį iš 54?"
   ]
  },
  {
   "cell_type": "markdown",
   "metadata": {},
   "source": [
    "#### Trečia ir ketvirta pam.\n",
    "* Prieš žėtonų dėliojimus viename iš namų darbų pratimų klausiau, koks bus šios figūros tūris, kai vieno kubiuko kraštinė yra $a$, o didžiojo kubo aukštis yra $a$ kubiukų. Mantas atsakė $a^5$. <img src=\"tensor_mistake.png\" width=\"100\">\n",
    "* Iš pat pradžių buvo sunkoka priprasti prie atvejų, kai laipsniu yra keliama kažkas kita, nei $a$, pvz. $a^3$. Arba koks yra esminis skirtumas tarp rodiklių 2 ir 3, kai reiškinio $(a^2)^3$ skaičiavimą bandome vaizduoti žėtonų pagalba?\n",
    "* Nelabai aiški namų darbo formuluotė: *užrašyti taisyklę $a^na^m=a^{n+m}$, kai $n=m=0.5$*. Nebuvo aišku, kad pateikta lygybė atitinka taisyklę. Taip pat iš pat pradžių nepavyko suprasti, kad reikės atlikti įstatymus $n\\to 0,5$ ir $m\\to 0,5$. Mokymo programoje stinga paaiškinimo, kad įstatymus galime atlikti ne tik reiškiniuose, bet ir lygybėse ir kad atlikę įstatymą taisyklėje gausime tos ***taisyklės dalinį atvejį***.\n",
    "\n",
    "* Neprisiminė kaip skaičiuojamas bet kurio trikampio plotas, kai žinoma jo kraštinė ir į ją išvesta aukštinė. Paminėjo, kad žino kaip tai atlikti tik su stačiaisiais trikampiais.\n",
    "* Ar aišku, kaip dėstomi blokais pertvarkymai?\n",
    "* Nežinau, ar suprato žodžius ***išreikšti*** ir ***priklausomybė***.\n",
    "* Per kontrolinį įvėlė žioplą klaidą ($2x = x^2$)\n",
    "* Taikė daug neteisingų savybių: $(a^2-b^2)^2 = a^4 - b^4$, $(a^2+b^2)^2 = a^4 + b^4$, $\\sqrt{ab} = \\sqrt{a} + \\sqrt{b}$ **Spėlioti taisykles - labai blogai!**\n",
    "* Praėjus 9 dienom nuo aiškinimo neprisiminė, kaip dauginamaisiais skaidomos šaknys: $\\sqrt{18}$, $\\sqrt{54}$ ir pan. \n",
    "* Yra netikslumų nustatinėjant lygius, eiles ir stulpelius languotuose stačiakampiuose gretasieniuose\n",
    "* Klaidingai palaikė variantų perrinkimus spėliojimu\n",
    "* Strigo daugiklio iškėlimas prieš skliaustus\n",
    "* Strigo lygties sprendimas, kai kairė pusė išskaidoma daugikliais, o dešinė lygi 0\n",
    "* $(x-1)^2 - 1$ skaidymas pagal kvadratų skirtumo formulę buvo šiek tiek nauja."
   ]
  }
 ],
 "metadata": {
  "kernelspec": {
   "display_name": "Python 3",
   "language": "python",
   "name": "python3"
  },
  "language_info": {
   "codemirror_mode": {
    "name": "ipython",
    "version": 3
   },
   "file_extension": ".py",
   "mimetype": "text/x-python",
   "name": "python",
   "nbconvert_exporter": "python",
   "pygments_lexer": "ipython3",
   "version": "3.8.3"
  }
 },
 "nbformat": 4,
 "nbformat_minor": 4
}
