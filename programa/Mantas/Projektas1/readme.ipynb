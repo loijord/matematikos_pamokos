{
 "cells": [
  {
   "cell_type": "markdown",
   "metadata": {},
   "source": [
    "### Tikslas\n",
    "\n",
    "* Pasikartoti įvairias taisykles, kurias suprantant Mantui kilo sunkumų (aprašytas praeitų pamokų apžvalgose). \n",
    "* Išstudijuoti šaltinį, kuriame įvardintos [populiariausios amerikiečių mokinių klaidos](https://tutorial.math.lamar.edu/Extras/CommonErrors/AlgebraErrors.aspx)"
   ]
  },
  {
   "cell_type": "markdown",
   "metadata": {},
   "source": [
    "### Darbiniai failai"
   ]
  },
  {
   "cell_type": "markdown",
   "metadata": {},
   "source": [
    "* Iš visų pamokų apžvalgų sudariau apytikslį 1 - 4 pamokos neaiškumų rinkinį, [jis guli čia](sunkumai.ipynb).\n",
    "* Išverčiau ir papildžiau amerikiečių mokinių klaidų apžvalgą, [ji guli čia](klaidos.ipynb)."
   ]
  },
  {
   "cell_type": "markdown",
   "metadata": {},
   "source": [
    "### Kaip sekėsi?\n",
    "Spalio 24 dieną (šeštąją pamoką) nagrinėjome ankstesnių pamokų neaiškumus, bet ne visus iki galo. Tą dieną jautėsi nuovargis, todėl buvo sunkoka susikaupti ir detaliai atsiminti Manto atsakymus. Greičiausiai reikėtų papildomo testuko, kuris padėtų geriau dar geriau įvertinti Manto žinias. Tą patį manau ir apie ateinančią amerikiečių mokinių apžvalgą, todėl vėliau ir jai reiks paruošti testuką (tinkama spausdinimui forma)."
   ]
  },
  {
   "cell_type": "markdown",
   "metadata": {},
   "source": [
    "[Nuoroda į pirmą testuką](testas1.pdf)"
   ]
  },
  {
   "cell_type": "code",
   "execution_count": null,
   "metadata": {},
   "outputs": [],
   "source": []
  }
 ],
 "metadata": {
  "kernelspec": {
   "display_name": "Python 3",
   "language": "python",
   "name": "python3"
  },
  "language_info": {
   "codemirror_mode": {
    "name": "ipython",
    "version": 3
   },
   "file_extension": ".py",
   "mimetype": "text/x-python",
   "name": "python",
   "nbconvert_exporter": "python",
   "pygments_lexer": "ipython3",
   "version": "3.8.3"
  }
 },
 "nbformat": 4,
 "nbformat_minor": 4
}
