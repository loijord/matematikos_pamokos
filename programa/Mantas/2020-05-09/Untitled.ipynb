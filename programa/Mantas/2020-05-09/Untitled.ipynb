{
 "cells": [
  {
   "cell_type": "markdown",
   "metadata": {},
   "source": [
    "Netrukus čia atsiras detalesnis užsiėmimo aprašymas, o kol kas parašysiu, ką nutarėme dėl pasiruošimo kitam kartui\n",
    "\n",
    "* Baigti pildyti atskliaudimų lenteles per [Overleaf](https://www.overleaf.com/project/5eaaee59a31ac400010f35a1)\n",
    "(Overleaf yra pagrindinė platforma internete, kur galima redaguoti .pdf dokumentus nesisiunčiant tam skirtų programų). \n",
    "Sutarėme, kad į lenteles reikės įrašyti tarpinius rezultatus taip, kad gautųsi mano pateikti atsakymai.\n",
    "* Pasinagrinėti atnaujintus sprendimus [laiminčių - pralaiminčių pozicijų skyrelyje](../matematiniai%20žaidimai/žaidimai.ipynb).\n",
    "* Remiantis žiniomis apie matematinių formulių redagavimą ir pavyzdžiais iš [$\\LaTeX$ sintaksės](https://www.ematematikas.lt/forumas/matematiniai-simboliai-latex-sintakse-t1167.html)\n",
    "pabandyti užrašyti sprendimą [matematikos forume](https://www.ematematikas.lt/forumas/matematiniu-zaidimu-tema-du-zaidejai-su-akmeneliais-t13800.html). Prieš tai reikės jame susikurti paskyrą. Norint, kad samprotavimas būtų išbaigtas, nepriekaištingas ir atrodytų kokybiškai reiktų jį rašyti panašiai, kaip mano išspręsto uždavinio (antro) [sprendimo pavyzdyje](../matematiniai%20žaidimai/žaidimai.ipynb), paveikslėliai nebūtini. Tokį sprendimą parašyti nelengva, todėl siūlau konsultuotis forume su manimi (ir galbūt kitais jo dalyviais) parodant, ką bandeisi.\n",
    "* Susipažinti su matematinės indukcijos metodu ir pabandyti pagal jį atlikti 1 - 2 uždavinius **[įkelsiu vėliau]**\n",
    "* Papildomai prasiblaškymui: trumpai pasinagrinėti turinio išdėstymo struktūrą, pagal kurią yra rašomi [moksliniai straipsniai](https://www.researchgate.net/publication/258394879_On_Resistance_and_Inductance_of_Solid_Conductors) ir mano prisistatymo [redagavimo pavyzdį](../../../technologijos/failai/prisistatymas) dokumente **hello.tex**. Jis linksmas, bet pilnai (su nuorodomis) veikia tik išarchyvavus failus savo kompiuteryje atidarinėjant išarchyvuotą dokumentą **hello.pdf** su skaitykle Adobe Acrobat Reader."
   ]
  },
  {
   "cell_type": "code",
   "execution_count": null,
   "metadata": {},
   "outputs": [],
   "source": []
  }
 ],
 "metadata": {
  "kernelspec": {
   "display_name": "Python 3",
   "language": "python",
   "name": "python3"
  },
  "language_info": {
   "codemirror_mode": {
    "name": "ipython",
    "version": 3
   },
   "file_extension": ".py",
   "mimetype": "text/x-python",
   "name": "python",
   "nbconvert_exporter": "python",
   "pygments_lexer": "ipython3",
   "version": "3.7.4"
  }
 },
 "nbformat": 4,
 "nbformat_minor": 2
}
