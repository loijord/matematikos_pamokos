{
 "cells": [
  {
   "cell_type": "markdown",
   "metadata": {},
   "source": [
    "Paskutinių pamokų tikslas - išmokti veisksmus su daugianariais (pagrinde dauginimą ir skaidymą dauginamaisiais)."
   ]
  },
  {
   "cell_type": "markdown",
   "metadata": {},
   "source": [
    "* Anksčiau treniravomės su atskliaudimais. Patariu darsyk peržiūrėti mūsų darbo [rezultatus](atskliaudimai.pdf).\n",
    "* Toliau įkeliu dar detalesnį [paaiškinimą](komplektas.pdf) apie daugianarių dauginimus bei atvirkštinį procesą - skaidymą dauginamaisiais.\n",
    "* [Nuoroda](http://www.universalmathsolver.com/) į programos, kuri automatiškai aiškina reiškinių pertvarkymus, atsisiuntimą.\n",
    "* [Nuoroda](lic_all.pdf) į stojamuosius į licėjų"
   ]
  },
  {
   "cell_type": "markdown",
   "metadata": {},
   "source": [
    "### Uždaviniai iš stojamųjų į licėjų"
   ]
  },
  {
   "cell_type": "markdown",
   "metadata": {},
   "source": [
    "1\\. Išspręskite lygtį $\\frac{3x-16}{12}+\\frac{x+3}{6}=\\frac{x+6}{4}-1$\n",
    "\n",
    "2\\. Įrodykite, kad su visais natūraliaisiais skaičiais $n$ reiškinys $(2+3n)^2-(6-3n)^2$ dalijasi iš 16.\n",
    "\n",
    "3\\. $3,5\\cdot (2x+1) - 0,5\\cdot (1-3x) = 14$\n",
    "\n",
    "4\\. Suprastinkite reiškinį $(6x-1)^2-(3x-4)\\cdot(3x+4)-1.5\\cdot (18x^2+1)+2,5$"
   ]
  },
  {
   "cell_type": "markdown",
   "metadata": {},
   "source": [
    "5\\. * Apskaičiuokite: $\\sqrt{(4-\\sqrt{3})^2-(2\\sqrt{3}-2)^2}$"
   ]
  },
  {
   "cell_type": "markdown",
   "metadata": {},
   "source": [
    "6\\. Koks vienaženklis sveikasis skaičius turi būti parašytas klaustuko vietoje, kad reiškinys\n",
    "\n",
    "$2(x^3-5x+6)-3x^2(2x-4)+2x(2x^2-6x+5)+?$ dalintųsi iš 5?"
   ]
  },
  {
   "cell_type": "markdown",
   "metadata": {},
   "source": [
    "7\\. Suprastinkite šiuos reiškinius: ![](fotom.PNG)"
   ]
  },
  {
   "cell_type": "code",
   "execution_count": null,
   "metadata": {},
   "outputs": [],
   "source": []
  }
 ],
 "metadata": {
  "kernelspec": {
   "display_name": "Python 3",
   "language": "python",
   "name": "python3"
  },
  "language_info": {
   "codemirror_mode": {
    "name": "ipython",
    "version": 3
   },
   "file_extension": ".py",
   "mimetype": "text/x-python",
   "name": "python",
   "nbconvert_exporter": "python",
   "pygments_lexer": "ipython3",
   "version": "3.7.4"
  }
 },
 "nbformat": 4,
 "nbformat_minor": 2
}
