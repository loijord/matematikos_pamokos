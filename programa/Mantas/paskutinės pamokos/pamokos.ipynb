{
 "cells": [
  {
   "cell_type": "markdown",
   "metadata": {},
   "source": [
    "Paskutinių pamokų tikslas - išmokti veisksmus su daugianariais (pagrinde dauginimą ir skaidymą dauginamaisiais)."
   ]
  },
  {
   "cell_type": "markdown",
   "metadata": {},
   "source": [
    "* Anksčiau treniravomės su atskliaudimais. Patariu darsyk peržiūrėti mūsų darbo [rezultatus](atskliaudimai.pdf).\n",
    "* Toliau įkeliu dar detalesnį [paaiškinimą](komplektas.pdf) apie daugianarių dauginimus bei atvirkštinį procesą - skaidymą dauginamaisiais.\n",
    "* [Nuoroda](http://www.universalmathsolver.com/) į programos, kuri automatiškai aiškina reiškinių pertvarkymus, atsisiuntimą.\n",
    "* [Nuoroda](lic_all.pdf) į stojamuosius į licėjų"
   ]
  },
  {
   "cell_type": "markdown",
   "metadata": {},
   "source": [
    "### Uždaviniai iš stojamųjų į licėjų"
   ]
  },
  {
   "cell_type": "markdown",
   "metadata": {},
   "source": [
    "1\\. Išspręskite lygtį $\\frac{3x-16}{12}+\\frac{x+3}{6}=\\frac{x+6}{4}-1$\n",
    "\n",
    "2\\. Įrodykite, kad su visais natūraliaisiais skaičiais $n$ reiškinys $(2+3n)^2-(6-3n)^2$ dalijasi iš 16.\n",
    "\n",
    "3\\. $3,5\\cdot (2x+1) - 0,5\\cdot (1-3x) = 14$\n",
    "\n",
    "4\\. Suprastinkite reiškinį $(6x-1)^2-(3x-4)\\cdot(3x+4)-1.5\\cdot (18x^2+1)+2,5$\n",
    "\n",
    "5\\. * Apskaičiuokite: $\\sqrt{(4-\\sqrt{3})^2-(2\\sqrt{3}-2)^2}$\n",
    "\n",
    "6\\. Koks vienaženklis sveikasis skaičius turi būti parašytas klaustuko vietoje, kad reiškinys\n",
    "\n",
    "$2(x^3-5x+6)-3x^2(2x-4)+2x(2x^2-6x+5)+?$ dalintųsi iš 5?\n",
    "\n",
    "7\\. Suprastinkite šiuos reiškinius: ![](fotom.PNG)"
   ]
  },
  {
   "cell_type": "markdown",
   "metadata": {},
   "source": [
    "### Sprendimai\n",
    "1\\. **Išspręskite lygtį $\\frac{3x-16}{12}+\\frac{x+3}{6}=\\frac{x+6}{4}-1$**\n",
    "\n",
    "$\\begin{array}{rlr}\n",
    "\\frac{3x-16}{12}+\\frac{x+3}{6} &=\\frac{x+6}{4}-1 & \\text{bendravardikliname}\\\\\n",
    "\\frac{3x-16}{12}+\\frac{2(x+3)}{12} &=\\frac{3(x+6)}{12}-1 & \\text{taupus sprendimas būtų dauginti abejas puses iš bendro vardiklio} \\\\ \n",
    "3x-16+2(x+3) &= 3(x+6)-12 & \\text{petvarkymai} \\\\ \n",
    "3x-16+2x+6 &= 3x+18-12 & \\text{darsyk petvarkymai} \\\\\n",
    "5x-10 &= 3x+6 & \\text{perkeliame narius į reikiamas puses} \\\\\n",
    "5x-3x &= 10+6 & \\text{petvarkymai} \\\\\n",
    "2x &= 16 & \\text{dalyba iš 2} \\\\\n",
    "x &= 8 &\n",
    "\\end{array}$"
   ]
  },
  {
   "cell_type": "markdown",
   "metadata": {},
   "source": [
    "2. Įrodykite, kad $(2+3n)^2-(6-3n)^2$ dalijasi iš 16.\n",
    "\n",
    "**Pirmas, mokyklinis, 8 klasės būdas.** Taikome formulę $(a+b)^2=a^2+2ab+b^2$ dusyk kiekvienam skirtumo nariui atskirai: \n",
    "\n",
    "$\\begin{array}{cc}\n",
    "(2+3n)^2-(6-3n)^2&=4+12n+9n^2-(36-36n+9n^2)=\\\\\n",
    "&= 4+12n+9n^2-36+36n-9n^2=\\\\\n",
    "&= 48n - 32\n",
    "\\end{array}$\n",
    "\n",
    "Turinys ir atėminys dalijasi iš 16, vadinasi skirtumas dalijasi iš 16.\n",
    "\n",
    "**Antras nemokyklinis, bet toks, kaip mokėmės, būdas.** Jis padeda geriau suprasti, kaip veikia mokyklinis būdas:\n",
    "\n",
    "$\\begin{array}{cc}\n",
    "(2+3n)^2-(6-3n)^2&=\\begin{array}{|c||c|c|}\n",
    " & 2 & 3n \\\\ \\hline\n",
    " 2 & 4 & 6n\\\\ \\hline\n",
    " 3n & 6n & 9n^2\n",
    "\\end{array} -\\begin{array}{|c||c|c|}\n",
    " & 6 & -3n\\\\ \\hline\n",
    " 6 & 36 & -18n\\\\ \\hline\n",
    " -3n & -18n & 9n^2\\\\\n",
    "\\end{array}=\\\\\n",
    "&= 4+12n+9n^2-(36-36n+9n^2)\\\\\n",
    "&= 4+12n+9n^2-36+36n-9n^2=\\\\\n",
    "&= 48n - 32 \n",
    "\\end{array}$\n",
    "\n",
    "Turinys ir atėminys dalijasi iš 16, vadinasi skirtumas dalijasi iš 16.\n",
    "\n",
    "**Trečias būdas gudresniems.** Jis padeda geriau suprasti, kaip statyti reiškinius vietoj kintamųjų formulėse. Taikome $a^2-b^2=(a-b)(a+b)$ skaičiams $\\begin{cases}a=2+3n\\\\b=6-3n\\end{cases}$. Turime:\n",
    "\n",
    "$\\begin{array}{rl}\n",
    "(2+3n)^2-(6-3n)^2&=((2+3n)-(6-3n))((2+3n)+(6-3n)) =\\\\\n",
    "&= (2+3n-6+3n)(2+3n+6-3n) =\\\\\n",
    "&= (6n-4)\\cdot 8\n",
    "\\end{array}$\n",
    "\n",
    "Pirmas dauginamasis dalijasi iš 2, o antras iš 8, vadinasi sandauga dalijasi iš 16.\n"
   ]
  },
  {
   "cell_type": "markdown",
   "metadata": {},
   "source": [
    "3\\. Išspręskite lygtį $3,5\\cdot (2x+1) - 0,5\\cdot (1-3x) = 14$\n",
    "\n",
    "$\\begin{array}{rrl}\n",
    "3,5\\cdot (2x+1) &- 0,5\\cdot (1-3x)&= 14\\\\\n",
    "7x+3,5 &- (0,5 -1,5x)&= 14\\\\\n",
    "7x+3,5 &- 0,5 + 1,5x&= 14\\\\\n",
    "&8,5x+3&=14\\\\\n",
    "&8,5x&=11\\\\\n",
    "&17x&=22\\\\\n",
    "&x&=\\frac{22}{17}\\\\\n",
    "&x&=1 \\frac{5}{7}\n",
    "\\end{array}$"
   ]
  },
  {
   "cell_type": "markdown",
   "metadata": {},
   "source": [
    "4\\. Suprastinkite reiškinį $(6x-1)^2-(3x-4)\\cdot(3x+4)-1.5\\cdot (18x^2+1)+2,5$"
   ]
  },
  {
   "cell_type": "markdown",
   "metadata": {},
   "source": [
    "5\\. Apskaičiuokite: $\\sqrt{(4-\\sqrt{3})^2-(2\\sqrt{3}-2)^2}$\n",
    "\n",
    "Pagal 8kl. greitosios daugybos formulę $(a+b)^2=a^2+2ab+b^2$:\n",
    "\n",
    "$\\sqrt{(4-\\sqrt{3})^2-(2\\sqrt{3}-2)^2} = \\sqrt{(16-8\\sqrt{3}+3)-(12-8\\sqrt{3}+4)} = \\sqrt{16-8\\sqrt{3}+3-12+8\\sqrt{3}-4}=\\sqrt{3}$\n",
    "\n",
    "Jeigu domina konkretesni žingsneliai, kvadratų skirtumą pošaknyje buvo galima skaičiuoti detalesniu būdu:\n",
    "\n",
    "$(4-\\sqrt{3})^2-(2\\sqrt{3}-2)^2=\\begin{array}{|c||c|c|}\n",
    " & 4 & -\\sqrt{3}\\\\ \\hline\n",
    " 4 & 16 & -2\\sqrt{3}\\\\ \\hline\n",
    " -\\sqrt{3} & -2\\sqrt{3} & 3\n",
    "\\end{array} -\\begin{array}{|c||c|c|}\n",
    " & 2\\sqrt{3} & -2\\\\ \\hline\n",
    " 2\\sqrt{3} & 12 & -4\\sqrt{3}\\\\ \\hline\n",
    " -2 & -4\\sqrt{3} & 4\\\\\n",
    "\\end{array}$"
   ]
  },
  {
   "cell_type": "markdown",
   "metadata": {},
   "source": [
    "6\\. Koks vienaženklis sveikasis skaičius turi būti parašytas klaustuko vietoje, kad reiškinys\n",
    "\n",
    "$2(x^3-5x+6)-3x^2(2x-4)+2x(2x^2-6x+5)+?$ dalintųsi iš 5?\n",
    "\n",
    "Iš pradžių suprastinsime žinomą dalį:\n",
    "\n",
    "$\\begin{array}{rl}\n",
    "2(x^3-5x+6)-3x^2(2x-4)+2x(2x^2-6x+5)&=\\\\\n",
    "2x^3-10x+12-6x^3+12x^2+4x^3-12x^2+10x&=12\n",
    "\\end{array}$\n",
    "\n",
    "Aišku, kad vietoj klaustuko tuomet gali būti 3 arba 8."
   ]
  },
  {
   "cell_type": "markdown",
   "metadata": {},
   "source": [
    "### 7kl kurso apžvalga:\n",
    "\n",
    "Apžvalgą galima atrasti [čia](7_klases_baigimas.ipynb)"
   ]
  },
  {
   "cell_type": "markdown",
   "metadata": {},
   "source": [
    "### Papildomi klausimai Mantui iš 8kl kurso:"
   ]
  },
  {
   "cell_type": "markdown",
   "metadata": {},
   "source": [
    "1. Užrašyk ir suprastink skaičių $a$ ir $b$ sumos kvadrato ir skirtumo kvadrato skirtumą."
   ]
  },
  {
   "cell_type": "markdown",
   "metadata": {},
   "source": [
    "2. Kam lygi sandauga $\\sqrt{27\\sqrt{2}}\\times \\sqrt{3\\sqrt{8}}$?"
   ]
  },
  {
   "cell_type": "markdown",
   "metadata": {},
   "source": [
    "3. Pratęsk lygybes \n",
    "\n",
    "$(a\\pm b)^2=\\dots$, \n",
    "\n",
    "$a^2-b^2=\\dots$. \n",
    "\n",
    "Kodėl šios lygybės vadinamos greitosios daugybos formulėmis?"
   ]
  },
  {
   "cell_type": "markdown",
   "metadata": {},
   "source": [
    "### Kaip tapti atidesniu su reiškinių pertvarkymais?"
   ]
  },
  {
   "cell_type": "markdown",
   "metadata": {},
   "source": [
    "Daug daugiau praktikos nusimato 8 klasėje. Daug teks mokytis apie daugianarius, šaknis ir laipsnius.\n",
    "\n",
    "Jei norisi didesnio tempo ir mažiau klaidų, galima praktikuotis papildomai su uždaviniais iš UMS. Jų sprendimus galima pasitikrinti [parsisiųstoje programoje](http://www.universalmathsolver.com/) nuėjus į *Problem -> Choose problem -> ...*"
   ]
  }
 ],
 "metadata": {
  "kernelspec": {
   "display_name": "Python 3",
   "language": "python",
   "name": "python3"
  },
  "language_info": {
   "codemirror_mode": {
    "name": "ipython",
    "version": 3
   },
   "file_extension": ".py",
   "mimetype": "text/x-python",
   "name": "python",
   "nbconvert_exporter": "python",
   "pygments_lexer": "ipython3",
   "version": "3.8.3"
  }
 },
 "nbformat": 4,
 "nbformat_minor": 2
}
