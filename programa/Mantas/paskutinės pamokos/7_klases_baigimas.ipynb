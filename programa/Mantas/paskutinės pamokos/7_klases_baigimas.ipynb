{
 "cells": [
  {
   "cell_type": "markdown",
   "metadata": {},
   "source": [
    "### Duomenys\n",
    "Ar gali paaiškinti, kas yra moda, mediana, vidurkis ir nustatyti šias charkteristines duomenų savybes, kai duomenų imtis yra -1, 2, 1, 4, 3, 7?"
   ]
  },
  {
   "cell_type": "markdown",
   "metadata": {},
   "source": [
    "### Veiksmai su teigiamais ir neigiamais skaičiais."
   ]
  },
  {
   "cell_type": "markdown",
   "metadata": {},
   "source": [
    "* Tegu $a$ ir $b$ lygūs $\\pm 2$ ir $\\pm 3$ atitinkamai: iš viso turime keturias poras. Kokias? Ar galėtum su kiekviena pora $(a,b)$ atlikti visus 4 galimus veiksmus, užrašomus kaip $a?b$ Kas pasikeistų šių veiksmų rezultatuose, jei apkeisime skaičius vietomis (atliktume veiksmą taip: $b?a$)?\n",
    "* Kas yra skaičiaus modulis? Ar galėtum į šį klausimą atsakyti dviem būdais: ką jis atitinka skaičių ašyje ir kokia yra jo (kaip veiksmo) radimo procedūra bet kokiam skaičiui? Ar gali išspręsti lygtį $|x+3|=4$?\n",
    "* Trupmenų pakartojimas kaip šio skyriaus potemė: užrašyk kuo daugiau skaičiaus $\\frac{36}{11}$ formų. \n",
    "* Kaip suprastum šį reiškinį $a?_1(b?_2c)$, kai: \n",
    " * $?_1$ yra 'minus', $?_2$ yra 'minus'\n",
    " * $?_1$ yra 'plius', $?_2$ yra 'plius'\n",
    " * $?_1$ yra 'kart', $?_2$ yra 'kart'\n",
    " * $?_1$ yra 'dalinti', $?_2$ yra 'dalinti'\n",
    " * $?_1$ yra 'kart', $?_2$ yra 'minus'\n",
    "* Kokie būtų atvirkštiniai ir priešingieji skaičiai minus vienai antrajai?"
   ]
  },
  {
   "cell_type": "markdown",
   "metadata": {},
   "source": [
    "### Laipsniai"
   ]
  },
  {
   "cell_type": "markdown",
   "metadata": {},
   "source": [
    "* Tegu $a$ ir $b$ lygūs $\\pm 2$ ir $\\pm 3$ atitinkamai: iš viso turime keturias poras. Kokias? Ar galėtum apskaičiuoti kiekvieno veiksmo $5^a?5^b$ rezultatą ir jį parašyti išskaidytą pirminiais dauginamaisiais (jei tai gaunasi)? Kas pasikeistų šių veiksmų rezultatuose, jei apkeisime skaičius vietomis (atliktume veiksmą taip: $b?a$)?"
   ]
  },
  {
   "cell_type": "markdown",
   "metadata": {},
   "source": [
    "* ar gali suprastinti reiškinį $(((((2^7)^3)^3)^2)^2)^2)^2)^2$?"
   ]
  },
  {
   "cell_type": "markdown",
   "metadata": {},
   "source": [
    "### Lygtys"
   ]
  },
  {
   "cell_type": "markdown",
   "metadata": {},
   "source": [
    "* Ar moki spręsti visas tiesines lygtis? Jeigu gali pereiti visus žaidimo 'matsymply' lygius - atsakymas taip."
   ]
  },
  {
   "cell_type": "markdown",
   "metadata": {},
   "source": [
    "### Reiškiniai"
   ]
  },
  {
   "cell_type": "markdown",
   "metadata": {},
   "source": [
    "* Ar moki prastinti reiškinius? Jei atlikai namų darbą pats - atsakymas taip. Jeigu dviejų daugianarių (bet ne vienanarių) daugyba buvo per sunki, nieko baisaus, tai bus aštuntoje klasėje."
   ]
  },
  {
   "cell_type": "markdown",
   "metadata": {},
   "source": [
    "* **Ar moki sudaryti reiškinius ir lygtis iš tekstinių uždavinių?** Tai įsivertinti nelengva, tačiau galime pamėginti tai padaryti pagvildenę keletą pavyzdžių iš stojamųjų ir iš savarankiškų darbų."
   ]
  },
  {
   "cell_type": "markdown",
   "metadata": {},
   "source": [
    "### Kampai ir tiesės"
   ]
  },
  {
   "cell_type": "markdown",
   "metadata": {},
   "source": [
    "Šį skyrių moki, jei gali atsakyti į visus šio [testo](../../programa/Simonas/2020-04-15/Application1.ipynb) klausimus."
   ]
  },
  {
   "cell_type": "markdown",
   "metadata": {},
   "source": [
    "## Šie skyriai buvo karantino metu, jų neapžvelgėme:\n",
    "### Procentai\n",
    "### Trikampiai\n",
    "### Trapecijos ir lygiagretainiai\n",
    "### Erdviniai kūnai"
   ]
  }
 ],
 "metadata": {
  "kernelspec": {
   "display_name": "Python 3",
   "language": "python",
   "name": "python3"
  },
  "language_info": {
   "codemirror_mode": {
    "name": "ipython",
    "version": 3
   },
   "file_extension": ".py",
   "mimetype": "text/x-python",
   "name": "python",
   "nbconvert_exporter": "python",
   "pygments_lexer": "ipython3",
   "version": "3.7.9"
  }
 },
 "nbformat": 4,
 "nbformat_minor": 4
}
