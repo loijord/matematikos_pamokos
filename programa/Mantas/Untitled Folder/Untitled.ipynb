{
 "cells": [
  {
   "cell_type": "markdown",
   "metadata": {},
   "source": [
    "### Projektas 1\n",
    "\n",
    "**Tikslas**\n",
    "\n",
    "* Pasikartoti įvairias šių metų temas, kuriose Mantui kilo sunkumų (aprašytas praeitų pamokų apžvalgose). \n",
    "* Apžvelgti šaltinį, kuriame įvardintos [populiariausios amerikiečių mokinių klaidos](https://tutorial.math.lamar.edu/Extras/CommonErrors/AlgebraErrors.aspx)"
   ]
  },
  {
   "cell_type": "markdown",
   "metadata": {},
   "source": [
    "Patariu šia nuorodą atsidaryti [kitu adresu](https://nbviewer.jupyter.org/github/loijord/matematikos_pamokos/blob/master/programa/Mantas/Untitled%20Folder/Untitled.ipynb) - tada ji bus su spalvomis\n",
    "\n",
    "## Populiariausios klaidos"
   ]
  },
  {
   "cell_type": "markdown",
   "metadata": {},
   "source": [
    "### Dalyba iš nulio\n",
    "\n",
    "Aišku, kad $\\frac{0}{2}=0$. Tačiau dažnas supainioja ir sako, kad $\\frac{2}{0}=0$ arba $\\frac{2}{0}=2$. **Dalyba iš nulio neapibrėžta**. Pavyzdys, kur daroma ši klaida:\n",
    "\n",
    "<table> <tr> <td>\n",
    "<span style=\"color:red\">\n",
    "\\begin{array}{c}\n",
    "x^2 + 3x = 0 \\\\\n",
    "x^2 = -3x |:x \\\\\n",
    "\\boxed{x = -3}\n",
    "\\end{array}\n",
    "</span>\n",
    "</td> <td>\n",
    "<span style=\"color:green\">\n",
    "\\begin{array}{ccc}\n",
    "x^2 + 3x = 0 \\\\\n",
    "x(x+3) = 0 \\\\\n",
    "\\boxed{x = 0} &\\text{ arba } & x + 3 = 0 \\\\\n",
    "&& \\boxed{x = -3}\n",
    "\\end{array}\n",
    "</span>\n",
    "</td> <td>\n",
    "<span style=\"color:purple\">\n",
    "\\begin{array}{ccc}\n",
    "x^2 + 3x = 0 && \\\\\n",
    "x^2 = -3x && \\\\\n",
    "\\boxed{x = 0} &\\text{ arba } & x^2 = -3x |:x \\\\\n",
    "&& \\boxed{x = -3}\n",
    "\\end{array}\n",
    "</span>\n",
    "</td> </tr> </table>\n",
    "\n",
    "Kairėje pusėje parodytas blogas sprendimas. Spręsti šią lygtį pagal mokyklinę programą reikėtų taip, kaip viduryje. Dešinėje parodytas pažangesnis sprendimo būdas. \n",
    "\n",
    "Jei smalsu, kodėl dalinimas iš 0 negalimas, siūlau skaitiklį sieti su tam tikru dalinamu daiktu, o vardiklį - su dalių dydžiais. Todėl $\\frac{2}{0}$ atitiks 2 daiktus, dalinamus į nulines dalis. Tai neįmanoma, bet jei dalių dydžiai mikroskopiniai (artimi 0), tai rezultatas bus kiek nori didelis (artimas begalybei). Vadinasi, $\\frac{2}{0}$ yra begalybės atitikmuo.\n",
    "\n",
    "Jei tyčia ignoruotume dalinimo iš nulio klaidą, galėtume įrodyti, kad $1=2$:\n",
    "\n",
    "<table> <tr> <td>\n",
    "\\begin{array}{c}\n",
    "a = b \\\\\n",
    "a^2 = ab \\\\\n",
    "a^2-b^2 = ab - b^2 \\\\\n",
    "(a-b)(a+b) = b(a-b) \\\\\n",
    "a+b = b \\\\\n",
    "2b = b \\\\\n",
    "2 = 1\n",
    "\\end{array} \n",
    "</td> <td>\n",
    "    <span style=\"color:green\">\n",
    "\\begin{array}{l}\n",
    "    \\text{Tarkime, kad du skaičiai lygūs}\\\\\n",
    "\\end{array} \n",
    "    </span>\n",
    "    <span style=\"color:red\">\n",
    "\\begin{array}{l}\n",
    "    \\text{Dauginame abejas lygties puses iš $a$}\n",
    "\\end{array}\n",
    "    </span>\n",
    "    <span style=\"color:green\">\n",
    "\\begin{array}{l}\n",
    "    \\text{Atimame iš abejų lygties pusių $b^2$} \\\\\n",
    "\\end{array}   \n",
    "\\begin{array}{l}\n",
    "    \\text{Išskaidome abejas lygties puses dauginamaisiais}\n",
    "\\end{array}\n",
    "    </span>\n",
    "    <span style=\"color:red\">\n",
    "\\begin{array}{l}\n",
    "    \\text{Daliname abejas lygties puses iš $a-b$}\n",
    "\\end{array}\n",
    "    </span>\n",
    "    <span style=\"color:green\">\n",
    "\\begin{array}{l}\n",
    "    \\text{Prisiminę, kad $a=b$, įstatome $a\\to b$}\n",
    "\\end{array}\n",
    "    </span>\n",
    "    <span style=\"color:red\">\n",
    "\\begin{array}{l}\n",
    "    \\text{Daliname abejas lygties puses iš $b$}\n",
    "\\end{array}\n",
    "    </span>\n",
    "</td> </tr> </table>\n",
    "\n",
    "Šiuose lygybės pertvarkymuose netaisyklingai atlikti net trys dalykai. Ar galėtumėte pasakyti, kurie ir kodėl?"
   ]
  },
  {
   "cell_type": "markdown",
   "metadata": {},
   "source": [
    "### Pražūtingi kvadratai\n",
    "\n",
    "Šitaip kvadratu kelti negalima: <span style=\"color:red\">$(4x)^2 \\neq 4x^2$ </span>. \n",
    "\n",
    "Reikia kelti šitaip: <span style=\"color:green \"> $(4x)^2 = 16x^2$ </span>\n",
    "\n",
    "Taip yra todėl, kad pakelti kvadratu reiškia padauginti skaičių iš savęs: <span style=\"color:blue\">$(4x)^2 = (4x) \\times (4x) = 4 \\times x \\times 4 \\times x = 16x^2$ </span>.\n",
    "\n",
    "--------------------------------------------------------------------------------\n",
    "Kitas blogo veiksmo pavyzdys:\n",
    "\n",
    "<span style=\"color:red\">$(-3)^2 \\neq -9$ </span>. \n",
    "\n",
    "Reikėjo daryti šitaip: <span style=\"color:green \"> $(-3)^2 = 9$ </span>\n",
    "\n",
    "Aiškinimas panašus: <span style=\"color:blue\">$(-3x)^2 = (-3) \\times (-3) = -1 \\times 3 \\times -1 \\times 3 = 9$ </span>."
   ]
  },
  {
   "cell_type": "markdown",
   "metadata": {},
   "source": [
    "### Užmaršumas, kai dedame sandaugas"
   ]
  },
  {
   "cell_type": "markdown",
   "metadata": {},
   "source": [
    "Anksčiau aptarinėjome įdomų dėsnį: *padauginti sudėtus reiškia sudėti padaugintus*. Šis dėsnis užrašomas: $x(y+z) = xy + xz$. Jei atliktume vieną ar keletą įstatymų ($x \\to -x$, $x \\to -1$, $y \\to -y$, $z\\to -z$) tai gautume keletą kitų šio dėsnio variacijų, kuriose mokiniai taip pat dažnai daro klaidas.\n",
    "\n",
    "Deja, dažna klaida būna užmiršimas, kad padauginti reikia visus sudedamus narius, o ne tik dalį.\n",
    "\n",
    "1\\. <span style=\"color:red\"> $4(x^2 - 10) \\neq 4x^2 - 10$ </span>, <span style=\"color:green\"> $4(x^2 - 10) = 4x^2 - 40$ </span>.\n",
    "\n",
    "2\\. <span style=\"color:red\"> $\\frac{3x^2 - x}{x} \\neq 3x - x$ </span> ir <span style=\"color:red\"> $\\frac{3x^2 - x}{x} \\neq 3x^2 - 1$ </span>, <span style=\"color:green\"> $\\frac{3x^2 - x}{x} = 3x - 1$ </span>. Tai buvo taisyklės variacija, naudojamas dauginimas iš $\\frac{1}{x}$, kitaip tariant dalyba iš $x$. Be to $x$ atėmimas atitinka $-x$ pridėjimą.\n",
    "\n",
    "3\\. <span style=\"color:red\"> $\\frac{8 - 3}{2} \\neq 4 - 3$ </span>, <span style=\"color:green\"> $\\frac{8 - 3}{2} = 4 - \\frac{3}{2}$ </span>. Analogiškai ankstesniam atvejui turėjome padalinti visus narius.\n",
    "\n",
    "4\\. <span style=\"color:red\"> $x^2+3x-5-(4x-5) \\neq x^2+3x-5-4x-5$ </span>, <span style=\"color:green\"> $x^2+3x-5-(4x-5) = x^2+3x-5-4x+5$ </span>. Čia buvo atliekama daugyba iš -1, tik pertvarkymuose tai sunkiau pastebėti. Atimti $4x-5$ reiškia pridėti $-(4x-5)$: \n",
    "\n",
    "<span style=\"color:blue\"> $-(4x-5) = -1\\times(4x-5) = 4x \\times (-1) -5 \\times (-1) = -4x + 5$ </span>\n",
    "\n",
    "Jei paskutinės dalies aritmetinis aiškinimas atrodo painus, galime pagalvoti apie tokią situaciją: kaip pasikeistų mano santaupos $...$ po apsipirkimo, jei savo pirkinių išlaidas, lygias $4x$, sumažinčiau 5 eurais? Atsakymas: turėčiau 5 eurais daugiau ir tada santaupos būtų $...-4x+5$."
   ]
  },
  {
   "cell_type": "markdown",
   "metadata": {},
   "source": [
    "### Painioji lingvistika\n",
    "Prieš tai mokėmės tam tikrus painius dėsnius:\n",
    "* ...\n"
   ]
  },
  {
   "cell_type": "markdown",
   "metadata": {},
   "source": [
    "### Sumaišyti operuojami organai"
   ]
  },
  {
   "cell_type": "code",
   "execution_count": null,
   "metadata": {},
   "outputs": [],
   "source": []
  }
 ],
 "metadata": {
  "kernelspec": {
   "display_name": "Python 3",
   "language": "python",
   "name": "python3"
  },
  "language_info": {
   "codemirror_mode": {
    "name": "ipython",
    "version": 3
   },
   "file_extension": ".py",
   "mimetype": "text/x-python",
   "name": "python",
   "nbconvert_exporter": "python",
   "pygments_lexer": "ipython3",
   "version": "3.8.3"
  }
 },
 "nbformat": 4,
 "nbformat_minor": 4
}
