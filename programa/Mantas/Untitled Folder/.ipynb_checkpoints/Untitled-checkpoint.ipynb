{
 "cells": [
  {
   "cell_type": "markdown",
   "metadata": {},
   "source": [
    "### Projektas 1\n",
    "\n",
    "**Tikslas**\n",
    "\n",
    "* Pasikartoti įvairias šių metų temas, kuriose Mantui kilo sunkumų (aprašytas praeitų pamokų apžvalgose). \n",
    "* Apžvelgti šaltinį, kuriame įvardintos [populiariausios amerikiečių mokinių klaidos](https://tutorial.math.lamar.edu/Extras/CommonErrors/AlgebraErrors.aspx)"
   ]
  },
  {
   "cell_type": "markdown",
   "metadata": {},
   "source": [
    "## Populiariausios klaidos"
   ]
  },
  {
   "cell_type": "markdown",
   "metadata": {},
   "source": [
    "### Dalyba iš nulio\n",
    "\n",
    "Aišku, kad $\\frac{0}{2}=0$. Tačiau dažnas supainioja ir sako, kad $\\frac{2}{0}=0$ arba $\\frac{2}{0}=2$. **Dalyba iš nulio neapibrėžta**. Pavyzdys, kur daroma ši klaida:\n",
    "\n",
    "<table> <tr> <td>\n",
    "<span style=\"color:red\">\n",
    "\\begin{array}{c}\n",
    "x^2 + 3x = 0 \\\\\n",
    "x^2 = -3x |:x \\\\\n",
    "\\boxed{x = -3}\n",
    "\\end{array}\n",
    "</span>\n",
    "</td> <td>\n",
    "<span style=\"color:green\">\n",
    "\\begin{array}{ccc}\n",
    "x^2 + 3x = 0 \\\\\n",
    "x(x+3) = 0 \\\\\n",
    "\\boxed{x = 0} &\\text{ arba } & x + 3 = 0 \\\\\n",
    "&& \\boxed{x = -3}\n",
    "\\end{array}\n",
    "</span>\n",
    "</td> <td>\n",
    "<span style=\"color:purple\">\n",
    "\\begin{array}{ccc}\n",
    "x^2 + 3x = 0 && \\\\\n",
    "x^2 = -3x && \\\\\n",
    "\\boxed{x = 0} &\\text{ arba } & x^2 = -3x |:x \\\\\n",
    "&& \\boxed{x = -3}\n",
    "\\end{array}\n",
    "</span>\n",
    "</td> </tr> </table>\n",
    "\n",
    "Kairėje pusėje parodytas blogas sprendimas. Spręsti šią lygtį pagal mokyklinę programą reikėtų taip, kaip viduryje. Dešinėje parodytas pažangesnis sprendimo būdas. \n",
    "\n",
    "Jei smalsu, kodėl dalinimas iš 0 negalimas, siūlau skaitiklį sieti su tam tikru dalinamu daiktu, o vardiklį - su dalių dydžiais. Todėl $\\frac{2}{0}$ atitiks 2 daiktus, dalinamus į nulines dalis. Tai neįmanoma, bet jei dalių dydžiai mikroskopiniai (artimi 0), tai rezultatas bus kiek nori didelis (artimas begalybei). Vadinasi, $\\frac{2}{0}$ yra begalybės atitikmuo."
   ]
  },
  {
   "cell_type": "code",
   "execution_count": null,
   "metadata": {},
   "outputs": [],
   "source": []
  }
 ],
 "metadata": {
  "kernelspec": {
   "display_name": "Python 3",
   "language": "python",
   "name": "python3"
  },
  "language_info": {
   "codemirror_mode": {
    "name": "ipython",
    "version": 3
   },
   "file_extension": ".py",
   "mimetype": "text/x-python",
   "name": "python",
   "nbconvert_exporter": "python",
   "pygments_lexer": "ipython3",
   "version": "3.8.3"
  }
 },
 "nbformat": 4,
 "nbformat_minor": 4
}
