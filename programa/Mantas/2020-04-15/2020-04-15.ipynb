{
 "cells": [
  {
   "cell_type": "markdown",
   "metadata": {},
   "source": [
    "Pamoka buvo sutrumpinta (dalį jos atidėjome kitam kartui)\n",
    "\n",
    "* Prisiminėme, kas yra invariantai\n",
    "* Baigėme nagrinėti matematinių žaidimų sprendimus (su šachmatų lenta, akmenėliais ir trikampių perimetrais). Mantas namuose buvo bandęs nedaug - tik du pirmus matematinius žaidimus.\n",
    "* Uždavinyje su šachmatais buvo neaiški formuluotė, todėl Mantas gavo kitokį atsakymą.\n",
    "* Uždavinyje su akmenėliais Mantas bandė tvirtinti, kad galima nekeisti lyginumo (dalumo iš dviejų), tačiau, kaip įprasta matematiniuose žaidimuose, reikėjo daugiau išradingumo ir patirties.\n",
    "* Žaidimą su akmenėliais pabandėme paimituoti, kad aiškiau pasimatytų laiminčioji strategija\n",
    "* Uždavinys su trikampių perimetrais buvo iš [Lietuvos 5 - 6 klasių moksleivių matematikos olimpiados, 2006m.](http://mif.vu.lt/matematikos-olimpiados/wp-content/uploads/2015/11/jaun06.pdf). Mantui pavyko atrasti visus galimus trikampius pagal duotas sąlygas perimetrui, pastebėti bendrą nekintančią savybę\n",
    "* Antroje sprendimo dalyje reikėjo parodyti, kad trikampis su kraštinėmis 1, 2 ir 3 yra negalimas. Norint tuo įsitikinti, reikėjo atsakyti į klausimą **kaip turint tris atkarpas su duotais ilgiais iš jų sudaryti trikampį?**\n",
    "* Mantą matematiniai žaidimai sudomino, todėl pažadėjau paieškoti daugiau medžiagos iš šios srities."
   ]
  },
  {
   "cell_type": "markdown",
   "metadata": {},
   "source": [
    "### Eksperimentas"
   ]
  },
  {
   "cell_type": "markdown",
   "metadata": {},
   "source": [
    "**Kaip turint tris atkarpas su duotais ilgiais (a, b ir c) iš jų sudaryti trikampį?**\n",
    "\n",
    "Sprendimas. Atidedame atkarpą su ilgiu $a$. Leiskime atkarpoms $b$ ir $c$, einančiomis iš atkarpos $a$ galų, būti laisvai pasirenkamomis. Tada likę atkarpų $b$ ir $c$ galai bus ant apskritimų, kaip parodyta:"
   ]
  },
  {
   "cell_type": "markdown",
   "metadata": {},
   "source": [
    "![tric](triconstruct.png)"
   ]
  },
  {
   "cell_type": "markdown",
   "metadata": {},
   "source": [
    "Trikampį su kraštinėmis $a$, $b$ ir $c$ gausime, jeigu $b$ ir $c$ pasirinksime taip, kad jų galai sutaptų.\n",
    "Tačiau tai įmanoma ne visada. Apskritimai privalo būti susikertantys. Tai įmanoma tik tada, kai $b+c>a$\n",
    "\n",
    "Be to, pamėginę atvejį, kai $a=5$, $a=4$, $a=3$ turėtume pastebėti, kad gautas trikampis statusis. Taip yra todėl, kad tenkinama Pitagoro teorema (galioja $5^2=3^2+4^2$). "
   ]
  },
  {
   "cell_type": "markdown",
   "metadata": {},
   "source": [
    "### Kitam kartui\n",
    "* Susiinstaliuoti [Geogebrą](https://www.geogebra.org)\n",
    "* Pabaigti spręsti [antrą uždavinių rinkinį](https://github.com/loijord/matematikos_pamokos/blob/master/programa/Mantas/Uždavinukų%20rinkinys%202/užduotis2.ipynb)\n",
    "* Pabandyti išspręsti sudėtingesnį uždavinį (gauti $n^{23}$ panaudojant [mažiausią galimą dauginimų kiekį](https://projecteuler.net/problem=122)\n",
    "* Pasinagrinėti trumpą santrauką, kokia yra [sudėtingesnių uždavinių sprendimo strategija](https://github.com/loijord/matematikos_pamokos/blob/master/programa/Mantas/uždavinių%20sprendimo%20menas/artofproblemsolving.ipynb)\n",
    "* *Papildomai: pasikelti lygį [Euclidea](https://www.euclidea.xyz)\n",
    "* *Papildomai: pasiskaityti, kaip atrodo [matematinių žaidimų sprendimai](https://github.com/loijord/matematikos_pamokos/blob/master/programa/Mantas/matematiniai%20žaidimai/Žaidimai.ipynb)"
   ]
  },
  {
   "cell_type": "code",
   "execution_count": null,
   "metadata": {},
   "outputs": [],
   "source": []
  }
 ],
 "metadata": {
  "kernelspec": {
   "display_name": "Python 3",
   "language": "python",
   "name": "python3"
  },
  "language_info": {
   "codemirror_mode": {
    "name": "ipython",
    "version": 3
   },
   "file_extension": ".py",
   "mimetype": "text/x-python",
   "name": "python",
   "nbconvert_exporter": "python",
   "pygments_lexer": "ipython3",
   "version": "3.7.4"
  }
 },
 "nbformat": 4,
 "nbformat_minor": 2
}
