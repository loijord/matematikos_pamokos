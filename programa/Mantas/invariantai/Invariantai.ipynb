{
 "cells": [
  {
   "cell_type": "markdown",
   "metadata": {},
   "source": [
    "### Pastebėjimai \n",
    "\n",
    "* Objektas - tai, į ką nukreiptas tyrinėjimas.\n",
    "* Matematika - mokslas apie nekintančius objektus su kintančiomis savybėmis (formomis, dydžiais, reikšmėmis)\n",
    "* Invariantas - tai tam tikra išliekanti pastovi matematinio objekto savybė, kuomet keičiamos to objekto formos. "
   ]
  },
  {
   "cell_type": "markdown",
   "metadata": {},
   "source": [
    "### Objektų pavyzdžiai matematikoje\n",
    "\n",
    "* Lygtys - tai lygybės, kurios tampa teisingomis su tam tikromis kintamųjų reikšmėmis\n",
    "* Reiškiniai - tai matematinės frazės, sudarytos iš skaičių, kintamųjų, operacijų, skliaustų, funkcijų\n",
    "* Kintamieji (arba kintamieji dydžiai) - dydžiai, kuriems aprašyti yra priskiriami skaičiai iš tam tikros aibės (vadinamos kitimo sritimi) pasirenkant prasmes\n",
    "* Dydžiai - tai savybės, kurioms aprašyti yra priskiriami skaičiai pasirenkant matavimo vienetus\n",
    "* Trikampiai - figūros, turinčios tris atkarpas ir tris kampus\n",
    "* Stačiakampiai - keturkampiai, kurių visi kampai statūs\n",
    "* Apskritimai - figūros, kurios visi taškai nutolę vienodu nuotoliu nuo centro\n",
    "* **Matematiniai žaidimai** - kartu ir ėjimų rinkiniai, aprašantys vieno ar kelių žaidėjų galimus veiksmus, ir taisyklės, apibrėžiančios leistinus veiksmus."
   ]
  },
  {
   "cell_type": "markdown",
   "metadata": {},
   "source": [
    "###  Kas galėtų būti invariantai šiuose objektuose?\n",
    "\n",
    "Perprasti, kaip veikia invariantai matematikoje. Geriausia praktika - žaidžiant matematinius žaidimus. \n",
    "Bet prieš juos žaidžiant, pasvartykime, kas galėtų būti invariantai aukščiau minėtuose objektuose.\n",
    "\n",
    "\n",
    "* Lygtis - lygybės teisingumas su ta pačia nežinomojo reikšmių aibe (pvz. jei lygtis teisinga, kai $x=2$ ir $x=-2$, tai pertvarkius lygtį negalime gauti $x=2$\n",
    "* Reiškinys - išliekančios vienodos reikšmės su tomis pačiomis kintamųjų reikšmėmis. Pvz. $\\frac{2ab}{2}$ ir $ab$ - abiem atvejais rezultatas yra vienodas, kai $a=2019$ ir $b=2020$.\n",
    "* Kintamieji - nekinta tik prasmė. Pvz. Jei $x$ yra nežinoma trikampio kraštinė, tai išsprendus lygtį ir radus nežinomąjį, jis negali tapti trikampio perimetru (pakeisti prasmės)\n",
    "* Trikampiai, stačiakampiai, apskritimai - jei dvi figūros yra panašios (9kl.) arba lygios (7kl.), tai jose išlaikomos proporcijos. \n",
    "   * Jei kraštinės sutinka santykiu $2:3:4$, tai ir panašiame arba lygiame trikampyje santykį turėsime tokį patį. \n",
    "   * Apskritimo ir skersmens santykis yra nekintantis bet kokiam apskritimui ir lygus $\\pi$.\n",
    "* Matematiniai žaidimai - mokysimės (tikslas - įžvelgti kuo daugiau invariantiškumo scenarijų skirtinguose žaidimuose)."
   ]
  },
  {
   "cell_type": "markdown",
   "metadata": {},
   "source": [
    "### Matematinių žaidimų pavyzdžiai\n",
    "\n",
    "* Ar įmanoma šachmatų lentoje žirgu apeiti visus langelius, jei pradedame nuo apatinio kairiojo kampo ir baigiame viršutiniu dešiniuoju?\n",
    "* Žaiskime žaidimą su 100 akmenėlių su 2 žaidėjais pagal tokias taisykles: bet kuris žaidėjas vienu ėjimu gali iš krūvos pasiimti nuo 1 iki 10 akmenėlių. Ėjimai vyksta pakaitomis, o žaidimą laimi tas, po kurio ėjimo akmenėlių nelieka. Kuris žaidėjas visuomet turi galimybę laimėti?\n",
    "* Kiek yra trikampių, kurių kraštinių ilgiai yra iš eilės einantieji sveikieji skaičiai ir kurių perimetrai neviršija 100?\n",
    "* Kiekvienas didžiojo kvadrato $4 \\times 4$ langelis gali būti tik įžiebtas arba neįžiebtas. Kiekvienu ėjimu tam tikroje sekcijoje visi įžiebti kvadratėliai pasikeičia neįžiebtais, o neįžiebti - įžiebtais. Sekcijos gali būti $2\\times 2$ kvadratai, $1\\times 4$ stačiakampiai arba didžiojo kvadrato įstrižainės. \n",
    "* Du žaidėjai pakaitomis stumdo šaškę šachmatų lentoje. Šaškė iš pradžių stovi apatiniame kairiajame kampe, o laimi tas, kuris pastato šaškę į viršutinį dešinįjį kampą. Leistini ėjimai - kiek nori langelių į dešinę arba kiek nori į viršų. Katras žaidėjas visada turi šansą laimėti protingai žaisdamas?"
   ]
  },
  {
   "cell_type": "markdown",
   "metadata": {},
   "source": [
    "### Tęsinys"
   ]
  },
  {
   "cell_type": "markdown",
   "metadata": {},
   "source": [
    "Šių matematinių žaidimų sprendimų ir daugiau žaidimų bus Matematinių žaidimų skiltyje"
   ]
  }
 ],
 "metadata": {
  "kernelspec": {
   "display_name": "Python 3",
   "language": "python",
   "name": "python3"
  },
  "language_info": {
   "codemirror_mode": {
    "name": "ipython",
    "version": 3
   },
   "file_extension": ".py",
   "mimetype": "text/x-python",
   "name": "python",
   "nbconvert_exporter": "python",
   "pygments_lexer": "ipython3",
   "version": "3.7.4"
  }
 },
 "nbformat": 4,
 "nbformat_minor": 2
}
