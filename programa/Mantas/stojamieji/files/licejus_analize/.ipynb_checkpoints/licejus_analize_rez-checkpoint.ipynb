{
 "cells": [
  {
   "cell_type": "markdown",
   "metadata": {},
   "source": [
    "### Kaip gauti kategorijas ir subkategorijas"
   ]
  },
  {
   "cell_type": "code",
   "execution_count": 522,
   "metadata": {},
   "outputs": [
    {
     "data": {
      "text/plain": [
       "{'Skaičiai ir skaičiavimai': ['Dalumas',\n",
       "  '$\\\\mathbb{Z}$ ir $\\\\mathbb{Q}$ operacijos',\n",
       "  'Procentai',\n",
       "  'Šaknys ir laipsniai'],\n",
       " 'Reiškiniai, lygtys, nelygybės': ['Vienanarių ir daugianarių operacijos',\n",
       "  'Laipsnių taikymas reiškiniuose',\n",
       "  'Skaidymas dauginamaisiais',\n",
       "  'Greitosios daugybos formulės',\n",
       "  'Tiesinės lygtys ir nelygybės',\n",
       "  'Lygčių ir nelygybių sudarymas'],\n",
       " 'Geometrija': ['Figūrų pažinimas',\n",
       "  'Kampų rūšys',\n",
       "  'Trikampių savybės',\n",
       "  'Keturkampių savybės',\n",
       "  'Pitagoro teorema',\n",
       "  'Apskritimo ir skritulio savybės',\n",
       "  'Erdvės geometrija'],\n",
       " 'Kombinatorika': ['Sudėties ir daugybos taisyklės']}"
      ]
     },
     "execution_count": 522,
     "metadata": {},
     "output_type": "execute_result"
    }
   ],
   "source": [
    "import json\n",
    "def read_json(file):\n",
    "    with open(file, encoding='utf-8') as fh:\n",
    "        data = json.loads(fh.read())\n",
    "    return data\n",
    "read_json('licėjus\\clusters.txt')"
   ]
  },
  {
   "cell_type": "markdown",
   "metadata": {},
   "source": [
    "### Kaip pavaizduoti kategorijas ir subkategorijas"
   ]
  },
  {
   "cell_type": "code",
   "execution_count": 529,
   "metadata": {},
   "outputs": [
    {
     "data": {
      "text/markdown": [
       "\n",
       "### Skaičiai ir skaičiavimai\n",
       "\n",
       "* **Dalumas.** Atpažinti ir naudoti natūraliuosius skaičius. Taikyti dalumo iš 2, 3, 5, 9 ir 10 požymius. Atpažinti pirminius ir sudėtinius skaičius. Sudėtinius skaičius skaidyti pirminiais dauginamaisiais. Taikyti sąvokas: dviejų skaičių (didžiausiasis) bendrasis daliklis ar (mažiausiasis) bendrasis kartotinis.\n",
       "* **$\\mathbb{Z}$ ir $\\mathbb{Q}$ operacijos.** Atlikti aritmetinius veiksmus su sveikaisiais ir trupmeniniais skaičiais. Taikyti šias sąvokas skaičiams: priešingas, atvirkštinis, lyginis (nelyginis), modulis. Taikyti pagrindinę proporcijos savybę\n",
       "* **Procentai.** Suvokti procento sąvoką. Rasti skaičių, kai žinomi jo procentai, rasti skaičiaus procentą.\n",
       "* **Šaknys ir laipsniai.** Taikyti žinias apie skaičiaus kėlimą sveikuoju laipsniu, kvadratinės ir kubinės šaknies traukimą. Atlikti nesudėtingus veiksmus su laipsniais.\n",
       "\n",
       "### Reiškiniai, lygtys, nelygybės\n",
       "\n",
       "* **Vienanarių ir daugianarių operacijos.** Atlikti vienanarių ir daugianarių sudėtį, atimtį ir daugybą.\n",
       "* **Laipsnių taikymas reiškiniuose.** Prastinant reiškinius taikyti veiksmų su laipsniais, kurių rodiklis sveikasis skaičius, savybes.\n",
       "* **Skaidymas dauginamaisiais.** Nesudėtingais atvejais skaidyti daugianarius daugikliais.\n",
       "* **Greitosios daugybos formulės.** Taikyti greitosios daugybos formules.\n",
       "* **Tiesinės lygtys ir nelygybės.** Sudaryti ir spręsti tiesines lygtis, nelygybes. Jų sprendinius vaizduoti skaičių tiesėje.\n",
       "* **Lygčių ir nelygybių sudarymas.** Spręsti tekstinius uždavinius sudarant lygtis, nelygybes.\n",
       "\n",
       "### Geometrija\n",
       "\n",
       "* **Figūrų pažinimas.** Atpažinti, pavaizduoti, apibūdinti paprasčiausias geometrines figūras.\n",
       "* **Kampų rūšys.** Taikyti gretutinių, kryžminių kampų ir kampų, gautų dvi lygiagrečias tieses perkirtus trečiąja, savybes.\n",
       "* **Trikampių savybės.** Taikyti žinias apie trikampį, jo aukštines, pusiaukraštines, pusiaukampines. Taikyti lygiašonio ir lygiakraščio trikampio savybes, trikampių lygumo požymius. Skaičiuoti trikampio perimetrą ir plotą.\n",
       "* **Keturkampių savybės.** Taikyti keturkampių (kvadrato, stačiakampio, lygiagretainio, rombo, trapecijos) savybes ir skaičiuoti jų perimetrus bei plotus.\n",
       "* **Pitagoro teorema.** Taikyti Pitagoro ir jai atvirkštinę teoremas.\n",
       "* **Apskritimo ir skritulio savybės.** Taikyti žinias apie apskritimą ir skritulį. Skaičiuoti apskritimo ilgį ir skritulio plotą.\n",
       "* **Erdvės geometrija.** Paprastais atvejais apskaičiuoti kubo, stačiakampio gretasienio, taisyklingosios piramidės, ritinio ir kūgio elementus.\n",
       "\n",
       "### Kombinatorika\n",
       "\n",
       "* **Sudėties ir daugybos taisyklės.** Taikyti kombinatorines sudėties ir daugybos taisykles, sprendžiant paprastus uždavinius. (pvz. nustatyti, kiek yra palindrominių penkiaženklių skaičių).\n"
      ],
      "text/plain": [
       "<IPython.core.display.Markdown object>"
      ]
     },
     "metadata": {},
     "output_type": "display_data"
    }
   ],
   "source": [
    "from IPython.display import display, Markdown\n",
    "\n",
    "def document_it(clusters, branches):\n",
    "    clusters = read_json(clusters)\n",
    "    branches = read_json(branches)\n",
    "    headings = dict(zip([clusters[n][0] for n in clusters], clusters))\n",
    "    docstring = ''\n",
    "    for branch in branches:\n",
    "        if branch in headings:\n",
    "            docstring += f'\\n### {headings[branch]}\\n\\n'\n",
    "        docstring += f'* **{branch}.** {branches[branch]}\\n'\n",
    "    return docstring\n",
    "\n",
    "display(Markdown(document_it(r'licėjus\\clusters.txt', r'licėjus\\branches.txt')))"
   ]
  },
  {
   "cell_type": "code",
   "execution_count": 1621,
   "metadata": {},
   "outputs": [],
   "source": [
    "import os\n",
    "from collections import defaultdict\n",
    "\n",
    "def make_some_bank(*files, extention='.txt'):\n",
    "    docstring = ''\n",
    "    for file in files:\n",
    "        heading = os.path.splitext(file)[0]\n",
    "        docstring += f'\\n### {heading}\\n'\n",
    "        bank = read_json(file + extention)\n",
    "        for užduotis in bank:\n",
    "            docstring += f\"{užduotis}\\\\. {bank[užduotis]['Sąlyga']}\"+'\\n\\n'\n",
    "    return docstring\n",
    "\n",
    "def show_problem(complect, id, show_solution=True):\n",
    "    problem = read_json(f'{complect}.txt')[id]\n",
    "    step = '**Užduotis.**\\n\\n' + problem[\"Sąlyga\"]\n",
    "    if show_solution: step += ('\\n\\n**Sprendimas.**\\n' + '\\n'.join([f'* {n}' for n in problem[\"Sprendimas\"]]))\n",
    "    return step\n",
    "\n",
    "def show_case(complect, id, which=1, show_solution=True):\n",
    "    skills = read_json(f'{complect}.txt')[id][\"Gebėjimai\"][which-1]\n",
    "    step = '**Uždavinio dalis ' + f\"{which}, kurioje yra {skills['Gebėjimas']}\" + '.**\\n\\n' + skills['Atitikmuo']\n",
    "    if show_solution: step += ('\\n\\n**Sprendimas.**\\n\\n' + skills['Sprendimas'])\n",
    "    return step\n",
    "    \n",
    "def show_skill(skill, *files, extention='.txt'):\n",
    "    counter = 0\n",
    "    docstring = f'### Uždaviniai[@], kuriuose yra {skill}: \\n\\n'\n",
    "    for file in files:\n",
    "        heading = os.path.splitext(file)[0]\n",
    "        bank = read_json(file + extention)\n",
    "        for užduotis in bank:\n",
    "            for idx, gebėjimas in enumerate(bank[užduotis]['Gebėjimai']):\n",
    "                if gebėjimas['Gebėjimas'] == skill:\n",
    "                    counter +=1 \n",
    "                    docstring += f\"**{heading}.{užduotis}->{idx+1}** {gebėjimas['Atitikmuo']}\\n\\n\"\n",
    "                else: #expects to have just a list of skills without dict of descriptions\n",
    "                    if gebėjimas == skill:\n",
    "                        counter +=1\n",
    "                        docstring += f\"**{heading}.{užduotis}->{idx+1}** {bank[užduotis]['Sąlyga']}\\n\\n\"\n",
    "    return docstring.replace('@', str(counter))\n",
    "\n",
    "def get_analysis(*files, extension='.txt'):\n",
    "    skills = defaultdict(list)\n",
    "    for file in files:\n",
    "        heading = os.path.splitext(file)[0]\n",
    "        bank = read_json(file + extension)\n",
    "        for užduotis in bank:\n",
    "            for idx, gebėjimas in enumerate(bank[užduotis]['Gebėjimai']):\n",
    "                if type(gebėjimas) is dict:\n",
    "                    skills[gebėjimas['Gebėjimas']].append(f\"{heading}.{užduotis}->{idx+1}\")\n",
    "                else:\n",
    "                    skills[gebėjimas].append(f\"{heading}.{užduotis}->{idx+1}\")\n",
    "    return skills"
   ]
  },
  {
   "cell_type": "markdown",
   "metadata": {},
   "source": [
    "### Kaip peržiūrėti duomenis\n",
    "Aprašytos Python komandos leis pažiūrėti, kaip atrodo:\n",
    "* uždavinių bankas\n",
    "* konkretus uždavinys (jei reikia - su sprendimu)\n",
    "* uždavinio dalis (jei reikia - su sprendimu)\n",
    "* visi uždaviniai, kuriuose pasitaiko tam tikras gebėjimas\n",
    "* žodynas, sudarytas iš visų gebėjimų ir uždavinių sąrašų, kur jie yra"
   ]
  },
  {
   "cell_type": "code",
   "execution_count": 1623,
   "metadata": {},
   "outputs": [
    {
     "data": {
      "text/markdown": [
       "\n",
       "### licėjus/2007_copy\n",
       "1\\. Petro sieninis laikrodis per valandą nuskuba 2 minutes, o žadintuvas per valandą vėluoja 1 minutę. Vakare Petras tiksliai nustatė abu laikrodžius. Rytą prabudus, sieninis laikrodis rodė 7 valandas 30 minučių, o žadintuvas – 7 valandas. Kiek laiko buvo iš tikrųjų? (4tšk.)\n",
       "\n",
       "2\\. Viena sekretorė gali perrašyti rankraštį per 5 h 20 min., o kita per 4 h 40 min. Dirbdamos kartu jos perrašė 90 puslapių. Kiek puslapių perrašė kiekviena sekretorė? (3tšk.)\n",
       "\n",
       "3\\. Apskaičiuokite: $\\sqrt{\\frac{8^{10}+4^{10}}{8^4+4^{11}}}$ (3tšk.)\n",
       "\n",
       "4\\. Apskaičiuokite reiškinio $\\frac{n^2-mn}{4m^2}$ skaitinę reikšmę, jeigu žinoma, kad $\\frac{n-2m}{m}=3$ (3tšk.)\n",
       "\n",
       "5\\. Skaičius $a$ didesnis $20\\%$ už skaičių $b$. Keliais procentais skaičius $b$ mažesnis už skaičių $a$? (3tšk.)\n",
       "\n",
       "6\\. Trikampio $ABC$ kampai $\\angle A = 55^o$, $\\angle C = 75^o$. Kraštinėse $AB$ ir $BC$ atitinkamai pažymėti taškai $D$ ir $E$ taip, kad $DB = BE$ . Raskite kampo $\\angle ADE$ didumą. (4tšk.)\n",
       "\n"
      ],
      "text/plain": [
       "<IPython.core.display.Markdown object>"
      ]
     },
     "metadata": {},
     "output_type": "display_data"
    },
    {
     "data": {
      "text/markdown": [
       "----------------------------------------------------------------------------------------------------"
      ],
      "text/plain": [
       "<IPython.core.display.Markdown object>"
      ]
     },
     "metadata": {},
     "output_type": "display_data"
    },
    {
     "data": {
      "text/markdown": [
       "**Užduotis.**\n",
       "\n",
       "Apskaičiuokite: $\\sqrt{\\frac{8^{10}+4^{10}}{8^4+4^{11}}}$ (3tšk.)\n",
       "\n",
       "**Sprendimas.**\n",
       "* $\\displaystyle \\sqrt{\\frac{8^{10}+4^{10}}{8^4+4^{11}}} = \\sqrt{\\frac{\\left(2^3\\right)^{10}+\\left(2^2\\right)^{10}}{\\left(2^3\\right)^4+\\left(2^2\\right)^{11}}} = \\boxed{\\sqrt{\\frac{2^{30}+2^{20}}{2^{12}+2^{22}}}} = \\boxed{\\sqrt{\\frac{2^{20}\\left(1+2^{10}\\right)}{2^{12}\\left(1+2^{10}\\right)}}} = \\sqrt{\\frac{2^{20}}{2^{12}}}=\\sqrt{2^8}=2^4=\\boxed{16}$"
      ],
      "text/plain": [
       "<IPython.core.display.Markdown object>"
      ]
     },
     "metadata": {},
     "output_type": "display_data"
    },
    {
     "data": {
      "text/markdown": [
       "----------------------------------------------------------------------------------------------------"
      ],
      "text/plain": [
       "<IPython.core.display.Markdown object>"
      ]
     },
     "metadata": {},
     "output_type": "display_data"
    },
    {
     "data": {
      "text/markdown": [
       "**Uždavinio dalis 2, kurioje yra NEŽINAU.**\n",
       "\n",
       "Pilnai išskaidykite trupmenos $\\displaystyle\\frac{2^{30}+2^{20}}{2^{12}+2^{22}}$ skaitiklį ir vardiklį\n",
       "\n",
       "**Sprendimas.**\n",
       "\n",
       "$\\displaystyle\\frac{2^{30}+2^{20}}{2^{12}+2^{22}} = \\frac{2^{20}(2^{10}+1)}{2^{12}(1+2^{10})}$"
      ],
      "text/plain": [
       "<IPython.core.display.Markdown object>"
      ]
     },
     "metadata": {},
     "output_type": "display_data"
    },
    {
     "data": {
      "text/markdown": [
       "----------------------------------------------------------------------------------------------------"
      ],
      "text/plain": [
       "<IPython.core.display.Markdown object>"
      ]
     },
     "metadata": {},
     "output_type": "display_data"
    },
    {
     "data": {
      "text/markdown": [
       "### Uždaviniai[0], kuriuose yra Tekstas: \n",
       "\n"
      ],
      "text/plain": [
       "<IPython.core.display.Markdown object>"
      ]
     },
     "metadata": {},
     "output_type": "display_data"
    },
    {
     "data": {
      "text/markdown": [
       "----------------------------------------------------------------------------------------------------"
      ],
      "text/plain": [
       "<IPython.core.display.Markdown object>"
      ]
     },
     "metadata": {},
     "output_type": "display_data"
    },
    {
     "data": {
      "text/plain": [
       "defaultdict(list,\n",
       "            {'$\\\\mathbb{Z}$ ir $\\\\mathbb{Q}$ operacijos': ['licėjus/2007_copy.1->1',\n",
       "              'licėjus/2007_copy.1->3',\n",
       "              'licėjus/2007_copy.1->4',\n",
       "              'licėjus/2007_copy.2->1'],\n",
       "             'Lygčių ir nelygybių sudarymas': ['licėjus/2007_copy.1->2',\n",
       "              'licėjus/2007_copy.2->2'],\n",
       "             'Tiesinės lygtys ir nelygybės': ['licėjus/2007_copy.2->3'],\n",
       "             'NEŽINAU': ['licėjus/2007_copy.3->1',\n",
       "              'licėjus/2007_copy.3->2',\n",
       "              'licėjus/2007_copy.3->3',\n",
       "              'licėjus/2007_copy.4->1',\n",
       "              'licėjus/2007_copy.4->2',\n",
       "              'licėjus/2007_copy.4->3',\n",
       "              'licėjus/2007_copy.5->1',\n",
       "              'licėjus/2007_copy.5->2',\n",
       "              'licėjus/2007_copy.5->3',\n",
       "              'licėjus/2007_copy.6->1',\n",
       "              'licėjus/2007_copy.6->2',\n",
       "              'licėjus/2007_copy.6->3',\n",
       "              'licėjus/2007_copy.6->4']})"
      ]
     },
     "execution_count": 1623,
     "metadata": {},
     "output_type": "execute_result"
    }
   ],
   "source": [
    "display(Markdown(make_some_bank('licėjus/2007_copy')))\n",
    "display(Markdown('-'*100))\n",
    "display(Markdown(show_problem('licėjus/2007_copy', '3', show_solution=True)))\n",
    "display(Markdown('-'*100))\n",
    "display(Markdown(show_case('licėjus/2007_copy', '3', which=2, show_solution=True)))\n",
    "display(Markdown('-'*100))\n",
    "display(Markdown(show_skill('Tekstas', 'licėjus/2007_copy')))\n",
    "display(Markdown('-'*100))\n",
    "get_analysis('licėjus/2007_copy')"
   ]
  },
  {
   "cell_type": "markdown",
   "metadata": {},
   "source": [
    "### Kaip patikrinti, ar uždavinys suvestas teisingai"
   ]
  },
  {
   "cell_type": "code",
   "execution_count": 1617,
   "metadata": {},
   "outputs": [
    {
     "data": {
      "text/plain": [
       "['$\\\\mathbb{Z}$ ir $\\\\mathbb{Q}$ operacijos',\n",
       " 'Lygčių ir nelygybių sudarymas',\n",
       " '$\\\\mathbb{Z}$ ir $\\\\mathbb{Q}$ operacijos',\n",
       " '$\\\\mathbb{Z}$ ir $\\\\mathbb{Q}$ operacijos']"
      ]
     },
     "execution_count": 1617,
     "metadata": {},
     "output_type": "execute_result"
    }
   ],
   "source": [
    "def check(name, problem_id, extension='.txt'):\n",
    "    display(Markdown(show_problem(name, problem_id, show_solution=True)))\n",
    "    problem = read_json(name + extension)\n",
    "    for i in range(len(problem[problem_id]['Gebėjimai'])): \n",
    "        display(Markdown('-'*100))\n",
    "        display(Markdown(show_case(name, problem_id, which=i+1, show_solution=True)))\n",
    "\n",
    "def check_skills(name, problem_id, extension='.txt'):\n",
    "    problem = read_json(name + extension)\n",
    "    return [n['Gebėjimas'] for n in problem[problem_id]['Gebėjimai']]\n",
    "\n",
    "#check(r'licėjus/2007_copy', '1')\n",
    "check_skills(r'licėjus/2007_copy', '1')"
   ]
  },
  {
   "cell_type": "markdown",
   "metadata": {},
   "source": [
    "### Pavyzdys, kaip galima pildyti uždavinių failus"
   ]
  },
  {
   "cell_type": "code",
   "execution_count": 543,
   "metadata": {},
   "outputs": [],
   "source": [
    "name = 'licėjus/2007_copy'\n",
    "content = read_json(f'{name}.txt')"
   ]
  },
  {
   "cell_type": "markdown",
   "metadata": {},
   "source": [
    "Kiekvieną failą sudaro žodynas, kurio raktai yra uždavinių vardai, pvz. '1' arba '1a'. Jo reikšmės yra 'Sąlyga', 'Sprendimas' ir 'Gebėjimai'. 'Gebėjimai' gali būti:\n",
    " * supaprastintu atveju: iš eilės einančių gebėjimų, kuriuos reikia taikyti surinkti kiekvienam uždavinio taškui, sąrašas.\n",
    " * pilnu atveju: sąrašas iš žodynų, turinčių raktus 'Gebėjimas', 'Sprendimas' ir 'Atitikmuo'"
   ]
  },
  {
   "cell_type": "code",
   "execution_count": 545,
   "metadata": {},
   "outputs": [],
   "source": [
    "problem_id = '1'\n",
    "text = 'Petro sieninis laikrodis per valandą nuskuba 2 minutes, o žadintuvas per valandą vėluoja 1 minutę. Vakare Petras tiksliai nustatė abu laikrodžius. Rytą prabudus, sieninis laikrodis rodė 7 valandas 30 minučių, o žadintuvas – 7 valandas. Kiek laiko buvo iš tikrųjų? (4tšk.)'\n",
    "solution = ['Laikrodžių parodymų skirtumas ryte: 7h 30min - 7h = 30(min.)',\n",
    "  'Sudarome proporciją žadintuvo atsilikimo laikui nustatyti: $\\\\boxed{\\\\begin{array}{rcl} 30 & - & 3 \\\\\\\\ x & - & 1 \\\\end{array}}$',\n",
    "  'Proporcijos sprendimas: $30=3x \\\\Rightarrow x=10$',\n",
    "  'Kiek laiko buvo iš tikrųjų: $7\\\\text{h} + 10\\\\text{min} = 7\\\\text{h }10\\\\text{min}$']\n",
    "\n",
    "problem = {problem_id: {'Sąlyga': text, 'Gebėjimai': [dict(), dict(), dict(), dict()], 'Sprendimas': solution}}\n",
    "\n",
    "problem[problem_id]['Gebėjimai'][0]['Gebėjimas'] = '$\\\\mathbb{Z}$ ir $\\\\mathbb{Q}$ operacijos'\n",
    "problem[problem_id]['Gebėjimai'][0]['Atitikmuo'] = 'Petro sieninis laikrodis per valandą nuskuba 2 minutes, o žadintuvas per valandą vėluoja 1 minutę. Vakare Petras tiksliai nustatė abu laikrodžius. Rytą prabudus, sieninis laikrodis rodė 7 valandas 30 minučių, o žadintuvas – 7 valandas. Koks buvo laikrodžių parodymų skirtumas ryte?'\n",
    "problem[problem_id]['Gebėjimai'][0]['Sprendimas'] = 'Laikrodžių parodymų skirtumas ryte: 7h 30min - 7h = 30(min.)'\n",
    "problem[problem_id]['Gebėjimai'][1]['Gebėjimas'] = 'Lygčių ir nelygybių sudarymas'\n",
    "problem[problem_id]['Gebėjimai'][1]['Atitikmuo'] = 'Petro sieninis laikrodis per valandą nuskuba 2 minutes, o žadintuvas per valandą vėluoja 1 minutę. Vakare Petras tiksliai nustatė abu laikrodžius. Ryte laikrodžių parodymų skirtumas buvo 30 min. Sudarykite proporciją žadintuvo vėlavimo laikui nustatyti.'\n",
    "problem[problem_id]['Gebėjimai'][1]['Sprendimas'] = '$\\\\boxed{\\\\begin{array}{rcl} 30 & - & 3 \\\\\\\\ x & - & 1 \\\\end{array}}$'\n",
    "problem[problem_id]['Gebėjimai'][2]['Gebėjimas'] = '$\\\\mathbb{Z}$ ir $\\\\mathbb{Q}$ operacijos'\n",
    "problem[problem_id]['Gebėjimai'][2]['Atitikmuo'] = 'Išspręskite proporciją: $\\\\boxed{\\\\begin{array}{rcl} 30 & - & 3 \\\\\\\\ x & - & 1 \\\\end{array}}$'\n",
    "problem[problem_id]['Gebėjimai'][2]['Sprendimas'] = '$30=3x \\\\Rightarrow x=10$'\n",
    "problem[problem_id]['Gebėjimai'][3]['Gebėjimas'] = '$\\\\mathbb{Z}$ ir $\\\\mathbb{Q}$ operacijos'\n",
    "problem[problem_id]['Gebėjimai'][3]['Atitikmuo'] = 'Petro sieninis laikrodis per valandą nuskuba 2 minutes, o žadintuvas per valandą vėluoja 1 minutę. Vakare Petras tiksliai nustatė abu laikrodžius. Rytą prabudus, sieninis laikrodis rodė 7 valandas 30 minučių, o žadintuvas – 7 valandas. Žadintuvas vėlavo 10 min. Kiek laiko buvo iš tikrųjų?'\n",
    "problem[problem_id]['Gebėjimai'][3]['Sprendimas'] = '$7\\\\text{h} + 10\\\\text{min} = 7\\\\text{h }10\\\\text{min}$'\n",
    "content.update(problem)\n",
    "\n",
    "with open(f\"{name}.txt\", \"w\", encoding='utf-8') as out_file:\n",
    "    json.dump(content, out_file, indent = 4, ensure_ascii=False)\n",
    "    \n",
    "#check(name, problem_id)"
   ]
  },
  {
   "cell_type": "code",
   "execution_count": 1632,
   "metadata": {},
   "outputs": [],
   "source": [
    "problem_id = '2'\n",
    "text = 'Viena sekretorė gali perrašyti rankraštį per 5 h 20 min., o kita per 4 h 40 min. Dirbdamos kartu jos perrašė 90 puslapių. Kiek puslapių perrašė kiekviena sekretorė? (3tšk.)'\n",
    "solution = ['Sekretorių darbo tempų santykis: 5h 20min : 4h 40min. = 320min : 280min = 8 : 7',\n",
    "            'Sudarome lygtį, kurioje $7x$ ir $8x$ atitinka sekretorių atlikto darbo dalis: $\\\\boxed{7x + 8x = 90}$',\n",
    "            'Išsprendžiame lygtį, randame šias darbo dalis: $7x=42$(psl.), $8x=48$(psl.)']\n",
    "\n",
    "problem = {problem_id: {'Sąlyga': text, 'Gebėjimai': [dict(), dict(), dict()], 'Sprendimas': solution}}\n",
    "\n",
    "problem[problem_id]['Gebėjimai'][0]['Gebėjimas'] = '$\\\\mathbb{Z}$ ir $\\\\mathbb{Q}$ operacijos'\n",
    "problem[problem_id]['Gebėjimai'][0]['Atitikmuo'] = 'Viena sekretorė gali perrašyti rankraštį per 5 h 20 min., o kita per 4 h 40 min. Koks sekretorių darbo tempų santykis?'\n",
    "problem[problem_id]['Gebėjimai'][0]['Sprendimas'] = '5h 20min : 4h 40min. = 320min : 280min = 8 : 7'\n",
    "problem[problem_id]['Gebėjimai'][1]['Gebėjimas'] = 'Lygčių ir nelygybių sudarymas'\n",
    "problem[problem_id]['Gebėjimai'][1]['Atitikmuo'] = 'Dviejų sekretorių darbo tempų santykis yra 8 : 7. Dirbdamos kartu jos perrašė 90 puslapių. Sudarykite lygtį, kurią sprendžiant būtų galima rasti šias dalis.'\n",
    "problem[problem_id]['Gebėjimai'][1]['Sprendimas'] = '$\\\\boxed{7x + 8x = 90}$'\n",
    "problem[problem_id]['Gebėjimai'][2]['Gebėjimas'] = 'Tiesinės lygtys ir nelygybės'\n",
    "problem[problem_id]['Gebėjimai'][2]['Atitikmuo'] = 'Lygtyje $\\\\boxed{7x + 8x = 90}$ yra sudedamos dviejų žmonių atlikto darbo dalys. Raskite šias dalis.'\n",
    "problem[problem_id]['Gebėjimai'][2]['Sprendimas'] = '$\\\\boxed{7x + 8x = 90} \\\\Rightarrow \\\\boxed{15x = 90} \\\\Rightarrow \\\\boxed{x = 6} \\\\Rightarrow \\\\boxed{7x = 42\\\\text{ ir }8x=48}$'\n",
    "content.update(problem)\n",
    "\n",
    "with open(f\"{name}.txt\", \"w\", encoding='utf-8') as out_file:\n",
    "    json.dump(content, out_file, indent = 4, ensure_ascii=False)\n",
    "    \n",
    "#check(name, problem_id)"
   ]
  },
  {
   "cell_type": "code",
   "execution_count": 1633,
   "metadata": {},
   "outputs": [],
   "source": [
    "problem_id = '3'\n",
    "text = 'Apskaičiuokite: $\\\\sqrt{\\\\frac{8^{10}+4^{10}}{8^4+4^{11}}}$ (3tšk.)'\n",
    "solution = ['$\\\\displaystyle \\\\sqrt{\\\\frac{8^{10}+4^{10}}{8^4+4^{11}}} = \\\\sqrt{\\\\frac{\\\\left(2^3\\\\right)^{10}+\\\\left(2^2\\\\right)^{10}}{\\\\left(2^3\\\\right)^4+\\\\left(2^2\\\\right)^{11}}} = \\\\boxed{\\\\sqrt{\\\\frac{2^{30}+2^{20}}{2^{12}+2^{22}}}} = \\\\boxed{\\\\sqrt{\\\\frac{2^{20}\\\\left(1+2^{10}\\\\right)}{2^{12}\\\\left(1+2^{10}\\\\right)}}} = \\\\sqrt{\\\\frac{2^{20}}{2^{12}}}=\\\\sqrt{2^8}=2^4=\\\\boxed{16}$']\n",
    "\n",
    "problem = {problem_id: {'Sąlyga': text, 'Gebėjimai': [dict(), dict(), dict()], 'Sprendimas': solution}}\n",
    "\n",
    "problem[problem_id]['Gebėjimai'][0]['Gebėjimas'] = 'Laipsnių taikymas reiškiniuose'\n",
    "problem[problem_id]['Gebėjimai'][0]['Atitikmuo'] = 'Reiškinyje $\\\\frac{8^{10}+4^{10}}{8^4+4^{11}}$ visus ketverto ir aštuoneto laipsnius pakeiskite dvejeto laipsniais'\n",
    "problem[problem_id]['Gebėjimai'][0]['Sprendimas'] = '$\\\\displaystyle \\\\frac{8^{10}+4^{10}}{8^4+4^{11}} = \\\\frac{\\\\left(2^3\\\\right)^{10}+\\\\left(2^2\\\\right)^{10}}{\\\\left(2^3\\\\right)^4+\\\\left(2^2\\\\right)^{11}}=\\\\frac{2^{30}+2^{20}}{2^{12}+2^{22}}$'\n",
    "problem[problem_id]['Gebėjimai'][1]['Gebėjimas'] = 'Skaidymas dauginamaisiais'\n",
    "problem[problem_id]['Gebėjimai'][1]['Atitikmuo'] = 'Pilnai išskaidykite trupmenos $\\\\displaystyle\\\\frac{2^{30}+2^{20}}{2^{12}+2^{22}}$ skaitiklį ir vardiklį'\n",
    "problem[problem_id]['Gebėjimai'][1]['Sprendimas'] = '$\\\\displaystyle\\\\frac{2^{30}+2^{20}}{2^{12}+2^{22}} = \\\\frac{2^{20}(2^{10}+1)}{2^{12}(1+2^{10})}$'\n",
    "problem[problem_id]['Gebėjimai'][2]['Gebėjimas'] = 'Laipsnių taikymas reiškiniuose'\n",
    "problem[problem_id]['Gebėjimai'][2]['Atitikmuo'] = 'Suprastinkite reiškinį $\\\\displaystyle\\\\sqrt{\\\\frac{2^{20}\\\\left(2^{10}+1\\\\right)}{2^{12}\\\\left(1+2^{10}\\\\right)}}$'\n",
    "problem[problem_id]['Gebėjimai'][2]['Sprendimas'] = '$\\\\displaystyle\\\\sqrt{\\\\frac{2^{20}\\\\left(2^{10}+1\\\\right)}{2^{12}\\\\left(1+2^{10}\\\\right)}} = \\\\sqrt{\\\\frac{2^{20}}{2^{12}}}=\\\\sqrt{2^8}=2^4=\\\\boxed{16}$'\n",
    "content.update(problem)\n",
    "\n",
    "with open(f\"{name}.txt\", \"w\", encoding='utf-8') as out_file:\n",
    "    json.dump(content, out_file, indent = 4, ensure_ascii=False)\n",
    "    \n",
    "#check(name, problem_id)"
   ]
  },
  {
   "cell_type": "code",
   "execution_count": 1634,
   "metadata": {},
   "outputs": [],
   "source": [
    "problem_id = '4'\n",
    "text = 'Apskaičiuokite reiškinio $\\\\frac{n^2-mn}{4m^2}$ skaitinę reikšmę, jeigu žinoma, kad $\\\\frac{n-2m}{m}=3$ (3tšk.)'\n",
    "solution = ['$\\\\displaystyle\\\\frac{n-2m}{m}=3 \\\\Rightarrow \\\\frac{n}{m}-\\\\frac{2m}{m}=3 \\\\Rightarrow \\\\frac{n}{m}-2=3 \\\\Rightarrow  \\\\frac{n}{m}=5 \\\\Rightarrow n=5m$',\n",
    "'$\\\\displaystyle \\\\frac{n^2-mn}{4m^2} = \\\\frac{(5m)^2-m\\\\cdot 5m}{4m^2} = \\\\frac{25m^2-5m^2}{4m^2} = \\\\frac{20m^2}{4m^2} = 5$']\n",
    "\n",
    "problem = {problem_id: {'Sąlyga': text, 'Gebėjimai': [dict(), dict(), dict()], 'Sprendimas': solution}}\n",
    "\n",
    "problem[problem_id]['Gebėjimai'][0]['Gebėjimas'] = '$\\\\mathbb{Z}$ ir $\\\\mathbb{Q}$ operacijos'\n",
    "problem[problem_id]['Gebėjimai'][0]['Atitikmuo'] = 'Duotas sąryšis $\\\\displaystyle\\\\frac{n-2m}{m}=3$. Pagal jį nustatykite, kaip $n$ priklauso nuo $m$'\n",
    "problem[problem_id]['Gebėjimai'][0]['Sprendimas'] = '$\\\\displaystyle\\\\frac{n-2m}{m}=3 \\\\Rightarrow \\\\frac{n}{m}-\\\\frac{2m}{m}=3 \\\\Rightarrow \\\\frac{n}{m}-2=3 \\\\Rightarrow  \\\\frac{n}{m}=5 \\\\Rightarrow n=5m$'\n",
    "problem[problem_id]['Gebėjimai'][1]['Gebėjimas'] = '$\\\\mathbb{Z}$ ir $\\\\mathbb{Q}$ operacijos'\n",
    "problem[problem_id]['Gebėjimai'][1]['Atitikmuo'] = 'Reiškinyje $\\\\displaystyle \\\\frac{n^2-mn}{4m^2}$ pakeiskite $n \\\\to 5m$.'\n",
    "problem[problem_id]['Gebėjimai'][1]['Sprendimas'] = '$\\\\displaystyle \\\\frac{n^2-mn}{4m^2} = \\\\frac{(5m)^2-m\\\\cdot 5m}{4m^2}$'\n",
    "problem[problem_id]['Gebėjimai'][2]['Gebėjimas'] = '$\\\\mathbb{Z}$ ir $\\\\mathbb{Q}$ operacijos'\n",
    "problem[problem_id]['Gebėjimai'][2]['Atitikmuo'] = 'Suprastinkite reiškinį $\\\\displaystyle\\\\frac{(5m)^2-m\\\\cdot 5m}{4m^2}$'\n",
    "problem[problem_id]['Gebėjimai'][2]['Sprendimas'] = '$\\\\displaystyle\\\\frac{(5m)^2-m\\\\cdot 5m}{4m^2} = \\\\frac{25m^2-5m^2}{4m^2} = \\\\frac{20m^2}{4m^2} = 5$'\n",
    "content.update(problem)\n",
    "\n",
    "with open(f\"{name}.txt\", \"w\", encoding='utf-8') as out_file:\n",
    "    json.dump(content, out_file, indent = 4, ensure_ascii=False)\n",
    "    \n",
    "#check(name, problem_id)"
   ]
  },
  {
   "cell_type": "code",
   "execution_count": 1635,
   "metadata": {},
   "outputs": [],
   "source": [
    "problem_id = '5'\n",
    "text = 'Skaičius $a$ didesnis $20\\\\%$ už skaičių $b$. Keliais procentais skaičius $b$ mažesnis už skaičių $a$? (3tšk.)'\n",
    "solution = ['$a$ sudaro $120\\\\%$ skaičiaus $b$', 'Sudarome proporciją rasti, kurią dalį skaičiaus $a$ sudaro skaičius $b$: $\\\\boxed{\\\\begin{array}{rcl} 100\\\\% & - & 120\\\\% \\\\\\\\ x\\\\% & - & 100\\\\% \\end{array}}$', 'Teisingai išsprendę proporciją gauname $x = 83\\\\frac{1}{3}\\%$. Vadinasi $b$ yra $16\\\\frac{2}{3}\\\\%$ mažesnis už $a$']\n",
    "\n",
    "problem = {problem_id: {'Sąlyga': text, 'Gebėjimai': [dict(), dict(), dict()], 'Sprendimas': solution}}\n",
    "\n",
    "problem[problem_id]['Gebėjimai'][0]['Gebėjimas'] = 'Procentai'\n",
    "problem[problem_id]['Gebėjimai'][0]['Atitikmuo'] = 'a) Skaičius $a$ didesnis $20\\\\%$ už skaičių $b$. Kelis procentus skaičiaus $b$ sudaro skaičius $a$? \\n\\n b) Skaičius $b$ sudaro $83\\\\frac{1}{3}\\\\%$ skaičiaus $a$. Keliais procentais skaičius $b$ mažesnis už skaičių $a$?'\n",
    "problem[problem_id]['Gebėjimai'][0]['Sprendimas'] = 'a) $a$ sudaro $120\\\\%$ skaičiaus $b$ \\n\\n b) $b$ yra $16\\\\frac{2}{3}\\\\%$ mažesnis už $a$'\n",
    "problem[problem_id]['Gebėjimai'][1]['Gebėjimas'] = 'Lygčių ir nelygybių sudarymas'\n",
    "problem[problem_id]['Gebėjimai'][1]['Atitikmuo'] = '$a$ sudaro $120\\\\%$ skaičiaus $b$. Sudarykite proporciją, pagal kurią galima rasti, kelis procentus skaičius $b$ sudaro skaičiaus $a$'\n",
    "problem[problem_id]['Gebėjimai'][1]['Sprendimas'] = '$\\\\boxed{\\\\begin{array}{rcl} 100\\\\% & - & 120\\\\% \\\\\\\\ x\\\\% & - & 100\\\\% \\\\end{array}}$'\n",
    "problem[problem_id]['Gebėjimai'][2]['Gebėjimas'] = 'Procentai'\n",
    "problem[problem_id]['Gebėjimai'][2]['Atitikmuo'] = 'Išspręskite proporciją $\\\\boxed{\\\\begin{array}{rcl} 100\\\\% & - & 120\\\\% \\\\\\\\ x\\\\% & - & 100\\\\% \\end{array}}$'\n",
    "problem[problem_id]['Gebėjimai'][2]['Sprendimas'] = '$\\\\boxed{120x = 10000} \\Rightarrow \\\\boxed{x = \\\\frac{10000}{120}=\\\\frac{500}{6}=83\\\\frac{1}{3}}$'\n",
    "content.update(problem)\n",
    "\n",
    "with open(f\"{name}.txt\", \"w\", encoding='utf-8') as out_file:\n",
    "    json.dump(content, out_file, indent = 4, ensure_ascii=False)\n",
    "    \n",
    "#check(name, problem_id)"
   ]
  },
  {
   "cell_type": "code",
   "execution_count": 1636,
   "metadata": {},
   "outputs": [],
   "source": [
    "problem_id = '6'\n",
    "text = 'Trikampio $ABC$ kampai $\\\\angle A = 55^o$, $\\\\angle C = 75^o$. Kraštinėse $AB$ ir $BC$ atitinkamai pažymėti taškai $D$ ir $E$ taip, kad $DB = BE$ . Raskite kampo $\\\\angle ADE$ didumą. (4tšk.)'\n",
    "solution = ['BRĖŽINYS: ![](licėjus\\imgeo2007.PNG) | **DUOTA:** <ul><li> $\\\\angle A = 55^o$ </li><li>$\\\\angle C = 75^o$ </li><li> $DB = BE$ </ul> **RASTI:** <ul><li>$\\\\angle ADE$</li></ul> \\n :---|:--- \\n',\n",
    "           '$\\\\angle B = 180^o - \\\\angle A - \\\\angle C = 180^o - 55^o - 75^o = 50^o$',\n",
    "           '$\\\\boxed{\\\\angle BDE + \\\\angle BED} = 180^o - \\\\angle B = 180^o - 50^o = 130^o$',\n",
    "           '$\\\\triangle{DBE}$ lygiašonis, todėl $\\\\displaystyle\\\\angle BDE = \\\\angle BED = \\\\frac{\\\\boxed{\\\\angle BDE + \\\\angle BED}}{2} = \\\\frac{130^o}{2}=65^o$',\n",
    "           '$\\\\angle ADE = 180^o - \\\\angle{BED} = 180^o - 65^o = 115^o$']\n",
    "\n",
    "problem = {problem_id: {'Sąlyga': text, 'Gebėjimai': [dict(), dict(), dict(),dict()], 'Sprendimas': solution}}\n",
    "\n",
    "problem[problem_id]['Gebėjimai'][0]['Gebėjimas'] = 'Trikampių savybės'\n",
    "problem[problem_id]['Gebėjimai'][0]['Atitikmuo'] = 'BRĖŽINYS: ![](licėjus\\imgeo2007.PNG) | **DUOTA:** <ul><li> $\\\\angle A = 55^o$ </li><li>$\\\\angle C = 75^o$ </li><li> $DB = BE$ </ul> **RASTI:** <ul><li>$\\\\angle ADE$</li></ul> \\n :---|:--- \\n Pagal duotą brėžinį raskite kampo $B$ dydį'\n",
    "problem[problem_id]['Gebėjimai'][0]['Sprendimas'] = '$\\\\angle B = 180^o - \\\\angle A - \\\\angle C = 180^o - 55^o - 75^o = 50^o$'\n",
    "problem[problem_id]['Gebėjimai'][1]['Gebėjimas'] = 'Trikampių savybės'\n",
    "problem[problem_id]['Gebėjimai'][1]['Atitikmuo'] = 'BRĖŽINYS: ![](licėjus\\imgeo2007.PNG) | **DUOTA:** <ul><li> $\\\\angle A = 55^o$ </li><li>$\\\\angle C = 75^o$ </li><li> $DB = BE$ </ul> **RASTI:** <ul><li>$\\\\angle ADE$</li></ul> \\n :---|:--- \\n Žinoma, kad $\\\\angle B = 50^o$. Pagal duotą brėžinį raskite $\\\\angle BDE + \\\\angle BED$'\n",
    "problem[problem_id]['Gebėjimai'][1]['Sprendimas'] = '$\\\\boxed{\\\\angle BDE + \\\\angle BED} = 180^o - \\\\angle B = 180^o - 50^o = 130^o$'\n",
    "problem[problem_id]['Gebėjimai'][2]['Gebėjimas'] = 'Trikampių savybės'\n",
    "problem[problem_id]['Gebėjimai'][2]['Atitikmuo'] = 'BRĖŽINYS: ![](licėjus\\imgeo2007.PNG) | **DUOTA:** <ul><li> $\\\\angle A = 55^o$ </li><li>$\\\\angle C = 75^o$ </li><li> $DB = BE$ </ul> **RASTI:** <ul><li>$\\\\angle ADE$</li></ul> \\n :---|:--- \\n Žinoma, kad $\\\\angle BDE + \\\\angle BED = 130^o$. Pagal duotą brėžinį raskite $\\\\angle BDE$'\n",
    "problem[problem_id]['Gebėjimai'][2]['Sprendimas'] = '$\\\\triangle{DBE}$ lygiašonis, todėl $\\\\displaystyle\\\\angle BDE = \\\\angle BED = \\\\frac{\\\\boxed{\\\\angle BDE + \\\\angle BED}}{2} = \\\\frac{130^o}{2}=65^o$'\n",
    "problem[problem_id]['Gebėjimai'][3]['Gebėjimas'] = 'Kampų rūšys'\n",
    "problem[problem_id]['Gebėjimai'][3]['Atitikmuo'] = 'BRĖŽINYS: ![](licėjus\\imgeo2007.PNG) | **DUOTA:** <ul><li> $\\\\angle A = 55^o$ </li><li>$\\\\angle C = 75^o$ </li><li> $DB = BE$ </ul> **RASTI:** <ul><li>$\\\\angle ADE$</li></ul> \\n :---|:--- \\n Žinoma, kad $\\\\angle BDE = 65^o$. Pagal duotą brėžinį raskite $\\\\angle ADE$'\n",
    "problem[problem_id]['Gebėjimai'][3]['Sprendimas'] = '$\\\\angle ADE = 180^o - \\\\angle{BED} = 180^o - 65^o = 115^o$'\n",
    "content.update(problem)\n",
    "\n",
    "with open(f\"{name}.txt\", \"w\", encoding='utf-8') as out_file:\n",
    "    json.dump(content, out_file, indent = 4, ensure_ascii=False)\n",
    "    \n",
    "#check(name, problem_id)"
   ]
  },
  {
   "cell_type": "markdown",
   "metadata": {},
   "source": [
    "### Kaip gauti gebėjimų skirstymą pagal pasitaikiusių uždavinių kiekį"
   ]
  },
  {
   "cell_type": "code",
   "execution_count": 549,
   "metadata": {},
   "outputs": [
    {
     "data": {
      "text/plain": [
       "{'Skaičiai ir skaičiavimai': {'Dalumas': 0,\n",
       "  '$\\\\mathbb{Z}$ ir $\\\\mathbb{Q}$ operacijos': 4,\n",
       "  'Procentai': 0,\n",
       "  'Šaknys ir laipsniai': 0},\n",
       " 'Reiškiniai, lygtys, nelygybės': {'Vienanarių ir daugianarių operacijos': 0,\n",
       "  'Laipsnių taikymas reiškiniuose': 0,\n",
       "  'Skaidymas dauginamaisiais': 0,\n",
       "  'Greitosios daugybos formulės': 0,\n",
       "  'Tiesinės lygtys ir nelygybės': 1,\n",
       "  'Lygčių ir nelygybių sudarymas': 2},\n",
       " 'Geometrija': {'Figūrų pažinimas': 0,\n",
       "  'Kampų rūšys': 0,\n",
       "  'Trikampių savybės': 0,\n",
       "  'Keturkampių savybės': 0,\n",
       "  'Pitagoro teorema': 0,\n",
       "  'Apskritimo ir skritulio savybės': 0,\n",
       "  'Erdvės geometrija': 0},\n",
       " 'Kombinatorika': {'Sudėties ir daugybos taisyklės': 0}}"
      ]
     },
     "execution_count": 549,
     "metadata": {},
     "output_type": "execute_result"
    }
   ],
   "source": [
    "def get_distribution(cluster_file, *files):\n",
    "    analysis = get_analysis(*files)\n",
    "    branch_counts = defaultdict(int)\n",
    "    for branch in analysis:\n",
    "        branch_counts[branch] += len(analysis[branch])\n",
    "    clusters = read_json(cluster_file)\n",
    "    d = dict()\n",
    "    for cluster in clusters:\n",
    "        bc = dict()\n",
    "        for branch in clusters[cluster]:\n",
    "            bc[branch] = branch_counts[branch]\n",
    "            branch_counts.pop(branch)\n",
    "        d[cluster] = bc\n",
    "    if len(branch_counts):\n",
    "        print('WARNING! Some problems contain skills that are not in clusters:\\n', branch_counts)\n",
    "    return d\n",
    "        \n",
    "get_distribution('licėjus/clusters.txt', 'licėjus/2007_copy')"
   ]
  },
  {
   "cell_type": "markdown",
   "metadata": {},
   "source": [
    "### Kaip atvaizduoti gebėjimų skirstymą pagal pasitaikiusių uždavinių kiekį"
   ]
  },
  {
   "cell_type": "code",
   "execution_count": 1642,
   "metadata": {},
   "outputs": [
    {
     "data": {
      "image/png": "[encoded data removed]",
      "text/plain": [
       "<Figure size 432x432 with 1 Axes>"
      ]
     },
     "metadata": {},
     "output_type": "display_data"
    }
   ],
   "source": [
    "import matplotlib.pyplot as plt\n",
    "import numpy as np\n",
    "from itertools import chain, compress\n",
    "\n",
    "class Skills:\n",
    "    kw = dict(bbox=dict(boxstyle=\"square, pad=0.3\", fc=\"w\", ec=\"k\", lw=0.72),\n",
    "          arrowprops=dict(arrowstyle=\"-\"), zorder=0, va=\"center\")\n",
    "    cmap = plt.get_cmap(\"jet\")\n",
    "    \n",
    "    def __init__(self, clusters_file, *files):\n",
    "        self.distribution = get_distribution(clusters_file, *files)\n",
    "        \n",
    "    def set_diagram(self):\n",
    "        self.inner_names = list(self.distribution.keys()) #clusters\n",
    "        self.outer_names = list(chain(*[list(n.keys()) for n in self.distribution.values()])) #branches of clusters\n",
    "        \n",
    "        self.outer_values = np.array(list(chain(*[list(n.values()) for n in self.distribution.values()]))) #sizes of branches in each cluster\n",
    "        self.inner_values = np.array([sum(n.values()) for n in self.distribution.values()]) #sizes of clusters\n",
    "        \n",
    "        self.inner_idx = np.flatnonzero(self.inner_values) #idx of nonzero inner values\n",
    "        self.outer_idx = np.flatnonzero(self.outer_values) #idx of nonzero outer values\n",
    "\n",
    "    def set_colors(self):\n",
    "        self.set_diagram()\n",
    "        marker_idx = np.cumsum([len(n) for n in self.distribution.values()])[:-1] #idx where to split flat data\n",
    "        outer_spectrum = np.linspace(0, 1, len(self.outer_values))\n",
    "        inner_spectrum = np.array([np.mean(n) for n in np.split(outer_spectrum, marker_idx)])        \n",
    "        self.inner_colors = self.cmap(inner_spectrum)\n",
    "        self.outer_colors = self.cmap(outer_spectrum)\n",
    "\n",
    "    def flatnonzero(self):\n",
    "        #remove zero pieces which is illegal\n",
    "        self.inner_names = np.array(self.inner_names)[self.inner_idx]\n",
    "        self.outer_names = np.array(self.outer_names)[self.outer_idx]\n",
    "        self.inner_values = self.inner_values[self.inner_idx]\n",
    "        self.outer_values = self.outer_values[self.outer_idx]\n",
    "        self.inner_colors = self.inner_colors[self.inner_idx]\n",
    "        self.outer_colors = self.outer_colors[self.outer_idx]\n",
    "                                  \n",
    "    def get_inner_pie(self):\n",
    "        wedges, text = plt.gca().pie(self.inner_values, labels = self.inner_names, labeldistance=0.5, radius=0.5, colors=self.inner_colors, \n",
    "                                wedgeprops=dict(width=0.2, edgecolor='w'), textprops=dict(fontsize=15, fontweight='bold'))\n",
    "        return wedges\n",
    "    \n",
    "    def get_outer_pie(self):\n",
    "        wedges, text = plt.gca().pie(self.outer_values, radius=1, colors=self.outer_colors, \n",
    "                                wedgeprops=dict(width=0.5, edgecolor='w'))\n",
    "        return wedges\n",
    "                     \n",
    "    def add_labels(self, wedges):\n",
    "        for i, p in enumerate(wedges):\n",
    "            ang = (p.theta2 - p.theta1)/2. + p.theta1\n",
    "            y = np.sin(np.deg2rad(ang))\n",
    "            x = np.cos(np.deg2rad(ang))\n",
    "            horizontalalignment = {-1: \"right\", 1: \"left\"}[int(np.sign(x))]\n",
    "            connectionstyle = f\"angle, angleA=0, angleB={ang}\"\n",
    "            self.kw[\"arrowprops\"].update({\"connectionstyle\": connectionstyle})\n",
    "            plt.gca().annotate(self.outer_names[i], xy=(x, y), xytext=(1.35*np.sin(x), 1.4*y),\n",
    "                        horizontalalignment=horizontalalignment, fontsize=11, fontweight='bold', **self.kw)\n",
    "                                  \n",
    "    def plot(self):\n",
    "        fig = plt.figure(figsize=(6, 6))\n",
    "        plt.gca().set(aspect=\"equal\")\n",
    "        self.set_diagram()\n",
    "        self.set_colors()\n",
    "        self.flatnonzero()\n",
    "        wedges = self.get_outer_pie()\n",
    "        self.get_inner_pie()\n",
    "        self.add_labels(wedges)\n",
    "        plt.show()\n",
    "\n",
    "    \n",
    "Skills('licėjus/clusters.txt', 'licėjus/2007_copy').plot()"
   ]
  },
  {
   "cell_type": "markdown",
   "metadata": {},
   "source": [
    "## Moksleivio žinių apžvalga\n",
    "### Duomenų failo nusiskaitymas"
   ]
  },
  {
   "cell_type": "code",
   "execution_count": 1305,
   "metadata": {},
   "outputs": [
    {
     "data": {
      "text/html": [
       "<div>\n",
       "<style scoped>\n",
       "    .dataframe tbody tr th:only-of-type {\n",
       "        vertical-align: middle;\n",
       "    }\n",
       "\n",
       "    .dataframe tbody tr th {\n",
       "        vertical-align: top;\n",
       "    }\n",
       "\n",
       "    .dataframe thead th {\n",
       "        text-align: right;\n",
       "    }\n",
       "</style>\n",
       "<table border=\"1\" class=\"dataframe\">\n",
       "  <thead>\n",
       "    <tr style=\"text-align: right;\">\n",
       "      <th></th>\n",
       "      <th></th>\n",
       "      <th></th>\n",
       "      <th>part</th>\n",
       "      <th>solved</th>\n",
       "    </tr>\n",
       "    <tr>\n",
       "      <th>author</th>\n",
       "      <th>topic</th>\n",
       "      <th>problem_id</th>\n",
       "      <th></th>\n",
       "      <th></th>\n",
       "    </tr>\n",
       "  </thead>\n",
       "  <tbody>\n",
       "    <tr>\n",
       "      <th rowspan=\"6\" valign=\"top\">licėjus</th>\n",
       "      <th rowspan=\"6\" valign=\"top\">2007_copy</th>\n",
       "      <th>2</th>\n",
       "      <td>0</td>\n",
       "      <td>True</td>\n",
       "    </tr>\n",
       "    <tr>\n",
       "      <th>1</th>\n",
       "      <td>1</td>\n",
       "      <td>True</td>\n",
       "    </tr>\n",
       "    <tr>\n",
       "      <th>1</th>\n",
       "      <td>2</td>\n",
       "      <td>True</td>\n",
       "    </tr>\n",
       "    <tr>\n",
       "      <th>1</th>\n",
       "      <td>3</td>\n",
       "      <td>False</td>\n",
       "    </tr>\n",
       "    <tr>\n",
       "      <th>1</th>\n",
       "      <td>4</td>\n",
       "      <td>True</td>\n",
       "    </tr>\n",
       "    <tr>\n",
       "      <th>1</th>\n",
       "      <td>0</td>\n",
       "      <td>False</td>\n",
       "    </tr>\n",
       "  </tbody>\n",
       "</table>\n",
       "</div>"
      ],
      "text/plain": [
       "                              part  solved\n",
       "author  topic     problem_id              \n",
       "licėjus 2007_copy 2              0    True\n",
       "                  1              1    True\n",
       "                  1              2    True\n",
       "                  1              3   False\n",
       "                  1              4    True\n",
       "                  1              0   False"
      ]
     },
     "execution_count": 1305,
     "metadata": {},
     "output_type": "execute_result"
    }
   ],
   "source": [
    "from io import StringIO\n",
    "import pandas as pd\n",
    "\n",
    "text = \"\"\"\n",
    "author topic problem_id part solved\n",
    "licėjus 2007_copy 2 0 True\n",
    "licėjus 2007_copy 1 1 True\n",
    "licėjus 2007_copy 1 2 True\n",
    "licėjus 2007_copy 1 3 False\n",
    "licėjus 2007_copy 1 4 True\n",
    "licėjus 2007_copy 1 0 False\n",
    "\"\"\"\n",
    "\n",
    "df = pd.read_csv(StringIO(text), sep=\" \")\n",
    "df.set_index(['author', 'topic','problem_id'], inplace=True)\n",
    "df"
   ]
  },
  {
   "cell_type": "markdown",
   "metadata": {},
   "source": [
    "### DataFrame 1: apytikslė pilnų uždavinių sprendimo statistika"
   ]
  },
  {
   "cell_type": "code",
   "execution_count": 1266,
   "metadata": {},
   "outputs": [
    {
     "data": {
      "text/html": [
       "<div>\n",
       "<style scoped>\n",
       "    .dataframe tbody tr th:only-of-type {\n",
       "        vertical-align: middle;\n",
       "    }\n",
       "\n",
       "    .dataframe tbody tr th {\n",
       "        vertical-align: top;\n",
       "    }\n",
       "\n",
       "    .dataframe thead th {\n",
       "        text-align: right;\n",
       "    }\n",
       "</style>\n",
       "<table border=\"1\" class=\"dataframe\">\n",
       "  <thead>\n",
       "    <tr style=\"text-align: right;\">\n",
       "      <th></th>\n",
       "      <th></th>\n",
       "      <th></th>\n",
       "      <th>part</th>\n",
       "      <th>solved</th>\n",
       "    </tr>\n",
       "    <tr>\n",
       "      <th>author</th>\n",
       "      <th>topic</th>\n",
       "      <th>problem_id</th>\n",
       "      <th></th>\n",
       "      <th></th>\n",
       "    </tr>\n",
       "  </thead>\n",
       "  <tbody>\n",
       "    <tr>\n",
       "      <th rowspan=\"2\" valign=\"top\">licėjus</th>\n",
       "      <th rowspan=\"2\" valign=\"top\">2007_copy</th>\n",
       "      <th>2</th>\n",
       "      <td>0</td>\n",
       "      <td>True</td>\n",
       "    </tr>\n",
       "    <tr>\n",
       "      <th>1</th>\n",
       "      <td>0</td>\n",
       "      <td>False</td>\n",
       "    </tr>\n",
       "  </tbody>\n",
       "</table>\n",
       "</div>"
      ],
      "text/plain": [
       "                              part  solved\n",
       "author  topic     problem_id              \n",
       "licėjus 2007_copy 2              0    True\n",
       "                  1              0   False"
      ]
     },
     "execution_count": 1266,
     "metadata": {},
     "output_type": "execute_result"
    }
   ],
   "source": [
    "df1 = df[df['part']==0]\n",
    "df1"
   ]
  },
  {
   "cell_type": "markdown",
   "metadata": {},
   "source": [
    "### DataFrame 2: apytikslė uždavinio dalių sprendimo statistika"
   ]
  },
  {
   "cell_type": "code",
   "execution_count": 1267,
   "metadata": {},
   "outputs": [
    {
     "data": {
      "text/html": [
       "<div>\n",
       "<style scoped>\n",
       "    .dataframe tbody tr th:only-of-type {\n",
       "        vertical-align: middle;\n",
       "    }\n",
       "\n",
       "    .dataframe tbody tr th {\n",
       "        vertical-align: top;\n",
       "    }\n",
       "\n",
       "    .dataframe thead th {\n",
       "        text-align: right;\n",
       "    }\n",
       "</style>\n",
       "<table border=\"1\" class=\"dataframe\">\n",
       "  <thead>\n",
       "    <tr style=\"text-align: right;\">\n",
       "      <th></th>\n",
       "      <th></th>\n",
       "      <th></th>\n",
       "      <th>part</th>\n",
       "      <th>solved</th>\n",
       "    </tr>\n",
       "    <tr>\n",
       "      <th>author</th>\n",
       "      <th>topic</th>\n",
       "      <th>problem_id</th>\n",
       "      <th></th>\n",
       "      <th></th>\n",
       "    </tr>\n",
       "  </thead>\n",
       "  <tbody>\n",
       "    <tr>\n",
       "      <th rowspan=\"4\" valign=\"top\">licėjus</th>\n",
       "      <th rowspan=\"4\" valign=\"top\">2007_copy</th>\n",
       "      <th>1</th>\n",
       "      <td>1</td>\n",
       "      <td>True</td>\n",
       "    </tr>\n",
       "    <tr>\n",
       "      <th>1</th>\n",
       "      <td>2</td>\n",
       "      <td>True</td>\n",
       "    </tr>\n",
       "    <tr>\n",
       "      <th>1</th>\n",
       "      <td>3</td>\n",
       "      <td>False</td>\n",
       "    </tr>\n",
       "    <tr>\n",
       "      <th>1</th>\n",
       "      <td>4</td>\n",
       "      <td>True</td>\n",
       "    </tr>\n",
       "  </tbody>\n",
       "</table>\n",
       "</div>"
      ],
      "text/plain": [
       "                              part  solved\n",
       "author  topic     problem_id              \n",
       "licėjus 2007_copy 1              1    True\n",
       "                  1              2    True\n",
       "                  1              3   False\n",
       "                  1              4    True"
      ]
     },
     "execution_count": 1267,
     "metadata": {},
     "output_type": "execute_result"
    }
   ],
   "source": [
    "df2 = df[df['part']!=0]\n",
    "df2"
   ]
  },
  {
   "cell_type": "markdown",
   "metadata": {},
   "source": [
    "### DataFrame 3: pilnų uždavinių sandara\n",
    "Tas pats, kaip Dataframe1, tik perteklinė **Part** skiltis išmetama, o vietoj jos rašoma, kiek taškų sudaro uždavinį ir gebėjimai, sudarantys uždavinį. Naudojami ne tik pilni uždaviniai, bet ir tie, kurių bent viena dalis pasirodė sprendime."
   ]
  },
  {
   "cell_type": "code",
   "execution_count": 1285,
   "metadata": {},
   "outputs": [
    {
     "data": {
      "text/html": [
       "<div>\n",
       "<style scoped>\n",
       "    .dataframe tbody tr th:only-of-type {\n",
       "        vertical-align: middle;\n",
       "    }\n",
       "\n",
       "    .dataframe tbody tr th {\n",
       "        vertical-align: top;\n",
       "    }\n",
       "\n",
       "    .dataframe thead th {\n",
       "        text-align: right;\n",
       "    }\n",
       "</style>\n",
       "<table border=\"1\" class=\"dataframe\">\n",
       "  <thead>\n",
       "    <tr style=\"text-align: right;\">\n",
       "      <th></th>\n",
       "      <th></th>\n",
       "      <th></th>\n",
       "      <th>solved</th>\n",
       "      <th>skills</th>\n",
       "      <th>pts</th>\n",
       "    </tr>\n",
       "    <tr>\n",
       "      <th>author</th>\n",
       "      <th>topic</th>\n",
       "      <th>problem_id</th>\n",
       "      <th></th>\n",
       "      <th></th>\n",
       "      <th></th>\n",
       "    </tr>\n",
       "  </thead>\n",
       "  <tbody>\n",
       "    <tr>\n",
       "      <th rowspan=\"2\" valign=\"top\">licėjus</th>\n",
       "      <th rowspan=\"2\" valign=\"top\">2007_copy</th>\n",
       "      <th>2</th>\n",
       "      <td>True</td>\n",
       "      <td>($\\mathbb{Z}$ ir $\\mathbb{Q}$ operacijos, Lygč...</td>\n",
       "      <td>3</td>\n",
       "    </tr>\n",
       "    <tr>\n",
       "      <th>1</th>\n",
       "      <td>False</td>\n",
       "      <td>($\\mathbb{Z}$ ir $\\mathbb{Q}$ operacijos, Lygč...</td>\n",
       "      <td>4</td>\n",
       "    </tr>\n",
       "  </tbody>\n",
       "</table>\n",
       "</div>"
      ],
      "text/plain": [
       "                              solved  \\\n",
       "author  topic     problem_id           \n",
       "licėjus 2007_copy 2             True   \n",
       "                  1            False   \n",
       "\n",
       "                                                                         skills  \\\n",
       "author  topic     problem_id                                                      \n",
       "licėjus 2007_copy 2           ($\\mathbb{Z}$ ir $\\mathbb{Q}$ operacijos, Lygč...   \n",
       "                  1           ($\\mathbb{Z}$ ir $\\mathbb{Q}$ operacijos, Lygč...   \n",
       "\n",
       "                              pts  \n",
       "author  topic     problem_id       \n",
       "licėjus 2007_copy 2             3  \n",
       "                  1             4  "
      ]
     },
     "execution_count": 1285,
     "metadata": {},
     "output_type": "execute_result"
    }
   ],
   "source": [
    "df3 = pd.concat([df1, df2]).sort_values(by=['part'])\n",
    "df3 = df3[~df3.index.duplicated(keep='first')]\n",
    "df3['solved'][df3['part']!=0] = None\n",
    "df3 = df3.drop('part', 1)\n",
    "df3['skills'] = [tuple([n['Gebėjimas'] for n in read_json(f'{x}/{y}.txt')[str(z)]['Gebėjimai']]) for x,y,z in df3.index]\n",
    "df3['pts'] = [len(n) for n in df3['skills']]\n",
    "df3"
   ]
  },
  {
   "cell_type": "markdown",
   "metadata": {},
   "source": [
    "### DataFrame 4: uždavinių dalių sandara\n",
    "Įvardinami gebėjimai kiekvienai uždavinio daliai"
   ]
  },
  {
   "cell_type": "code",
   "execution_count": 1301,
   "metadata": {},
   "outputs": [
    {
     "data": {
      "text/html": [
       "<div>\n",
       "<style scoped>\n",
       "    .dataframe tbody tr th:only-of-type {\n",
       "        vertical-align: middle;\n",
       "    }\n",
       "\n",
       "    .dataframe tbody tr th {\n",
       "        vertical-align: top;\n",
       "    }\n",
       "\n",
       "    .dataframe thead th {\n",
       "        text-align: right;\n",
       "    }\n",
       "</style>\n",
       "<table border=\"1\" class=\"dataframe\">\n",
       "  <thead>\n",
       "    <tr style=\"text-align: right;\">\n",
       "      <th></th>\n",
       "      <th></th>\n",
       "      <th></th>\n",
       "      <th>part</th>\n",
       "      <th>skill</th>\n",
       "    </tr>\n",
       "    <tr>\n",
       "      <th>author</th>\n",
       "      <th>topic</th>\n",
       "      <th>problem_id</th>\n",
       "      <th></th>\n",
       "      <th></th>\n",
       "    </tr>\n",
       "  </thead>\n",
       "  <tbody>\n",
       "    <tr>\n",
       "      <th rowspan=\"7\" valign=\"top\">licėjus</th>\n",
       "      <th rowspan=\"7\" valign=\"top\">2007_copy</th>\n",
       "      <th>2</th>\n",
       "      <td>1</td>\n",
       "      <td>$\\mathbb{Z}$ ir $\\mathbb{Q}$ operacijos</td>\n",
       "    </tr>\n",
       "    <tr>\n",
       "      <th>2</th>\n",
       "      <td>2</td>\n",
       "      <td>Lygčių ir nelygybių sudarymas</td>\n",
       "    </tr>\n",
       "    <tr>\n",
       "      <th>2</th>\n",
       "      <td>3</td>\n",
       "      <td>Tiesinės lygtys ir nelygybės</td>\n",
       "    </tr>\n",
       "    <tr>\n",
       "      <th>1</th>\n",
       "      <td>1</td>\n",
       "      <td>$\\mathbb{Z}$ ir $\\mathbb{Q}$ operacijos</td>\n",
       "    </tr>\n",
       "    <tr>\n",
       "      <th>1</th>\n",
       "      <td>2</td>\n",
       "      <td>Lygčių ir nelygybių sudarymas</td>\n",
       "    </tr>\n",
       "    <tr>\n",
       "      <th>1</th>\n",
       "      <td>3</td>\n",
       "      <td>$\\mathbb{Z}$ ir $\\mathbb{Q}$ operacijos</td>\n",
       "    </tr>\n",
       "    <tr>\n",
       "      <th>1</th>\n",
       "      <td>4</td>\n",
       "      <td>$\\mathbb{Z}$ ir $\\mathbb{Q}$ operacijos</td>\n",
       "    </tr>\n",
       "  </tbody>\n",
       "</table>\n",
       "</div>"
      ],
      "text/plain": [
       "                              part                                    skill\n",
       "author  topic     problem_id                                               \n",
       "licėjus 2007_copy 2              1  $\\mathbb{Z}$ ir $\\mathbb{Q}$ operacijos\n",
       "                  2              2            Lygčių ir nelygybių sudarymas\n",
       "                  2              3             Tiesinės lygtys ir nelygybės\n",
       "                  1              1  $\\mathbb{Z}$ ir $\\mathbb{Q}$ operacijos\n",
       "                  1              2            Lygčių ir nelygybių sudarymas\n",
       "                  1              3  $\\mathbb{Z}$ ir $\\mathbb{Q}$ operacijos\n",
       "                  1              4  $\\mathbb{Z}$ ir $\\mathbb{Q}$ operacijos"
      ]
     },
     "execution_count": 1301,
     "metadata": {},
     "output_type": "execute_result"
    }
   ],
   "source": [
    "df4 = df3.copy()\n",
    "part = df3.loc[df3.index.repeat(df3['pts'])].groupby(['author', 'topic', 'problem_id']).cumcount() + 1\n",
    "df4 = pd.DataFrame(part, columns=['part'])\n",
    "df4['skill'] = list(chain(*df3['skills']))\n",
    "df4"
   ]
  },
  {
   "cell_type": "markdown",
   "metadata": {},
   "source": [
    "### DataFrame 5: patikslintas moksleivio uždavinių sprendimo eiliškumas\n",
    "Ten, kur buvo spręstas tik pilnas uždavinys, bet ne jo dalys, ir rezultatas buvo teigiamas, visos dalys taip pat pažymimos kaip išspręstos."
   ]
  },
  {
   "cell_type": "code",
   "execution_count": 1308,
   "metadata": {},
   "outputs": [
    {
     "name": "stderr",
     "output_type": "stream",
     "text": [
      "C:\\Users\\Vartotojas\\anaconda3\\lib\\site-packages\\IPython\\core\\async_helpers.py:68: PerformanceWarning: indexing past lexsort depth may impact performance.\n",
      "  coro.send(None)\n"
     ]
    },
    {
     "data": {
      "text/html": [
       "<div>\n",
       "<style scoped>\n",
       "    .dataframe tbody tr th:only-of-type {\n",
       "        vertical-align: middle;\n",
       "    }\n",
       "\n",
       "    .dataframe tbody tr th {\n",
       "        vertical-align: top;\n",
       "    }\n",
       "\n",
       "    .dataframe thead th {\n",
       "        text-align: right;\n",
       "    }\n",
       "</style>\n",
       "<table border=\"1\" class=\"dataframe\">\n",
       "  <thead>\n",
       "    <tr style=\"text-align: right;\">\n",
       "      <th></th>\n",
       "      <th></th>\n",
       "      <th></th>\n",
       "      <th>part</th>\n",
       "      <th>skill</th>\n",
       "      <th>solved</th>\n",
       "    </tr>\n",
       "    <tr>\n",
       "      <th>author</th>\n",
       "      <th>topic</th>\n",
       "      <th>problem_id</th>\n",
       "      <th></th>\n",
       "      <th></th>\n",
       "      <th></th>\n",
       "    </tr>\n",
       "  </thead>\n",
       "  <tbody>\n",
       "    <tr>\n",
       "      <th rowspan=\"7\" valign=\"top\">licėjus</th>\n",
       "      <th rowspan=\"7\" valign=\"top\">2007_copy</th>\n",
       "      <th>2</th>\n",
       "      <td>1</td>\n",
       "      <td>$\\mathbb{Z}$ ir $\\mathbb{Q}$ operacijos</td>\n",
       "      <td>True</td>\n",
       "    </tr>\n",
       "    <tr>\n",
       "      <th>2</th>\n",
       "      <td>2</td>\n",
       "      <td>Lygčių ir nelygybių sudarymas</td>\n",
       "      <td>True</td>\n",
       "    </tr>\n",
       "    <tr>\n",
       "      <th>2</th>\n",
       "      <td>3</td>\n",
       "      <td>Tiesinės lygtys ir nelygybės</td>\n",
       "      <td>True</td>\n",
       "    </tr>\n",
       "    <tr>\n",
       "      <th>1</th>\n",
       "      <td>1</td>\n",
       "      <td>$\\mathbb{Z}$ ir $\\mathbb{Q}$ operacijos</td>\n",
       "      <td>True</td>\n",
       "    </tr>\n",
       "    <tr>\n",
       "      <th>1</th>\n",
       "      <td>2</td>\n",
       "      <td>Lygčių ir nelygybių sudarymas</td>\n",
       "      <td>True</td>\n",
       "    </tr>\n",
       "    <tr>\n",
       "      <th>1</th>\n",
       "      <td>3</td>\n",
       "      <td>$\\mathbb{Z}$ ir $\\mathbb{Q}$ operacijos</td>\n",
       "      <td>False</td>\n",
       "    </tr>\n",
       "    <tr>\n",
       "      <th>1</th>\n",
       "      <td>4</td>\n",
       "      <td>$\\mathbb{Z}$ ir $\\mathbb{Q}$ operacijos</td>\n",
       "      <td>True</td>\n",
       "    </tr>\n",
       "  </tbody>\n",
       "</table>\n",
       "</div>"
      ],
      "text/plain": [
       "                              part                                    skill  \\\n",
       "author  topic     problem_id                                                  \n",
       "licėjus 2007_copy 2              1  $\\mathbb{Z}$ ir $\\mathbb{Q}$ operacijos   \n",
       "                  2              2            Lygčių ir nelygybių sudarymas   \n",
       "                  2              3             Tiesinės lygtys ir nelygybės   \n",
       "                  1              1  $\\mathbb{Z}$ ir $\\mathbb{Q}$ operacijos   \n",
       "                  1              2            Lygčių ir nelygybių sudarymas   \n",
       "                  1              3  $\\mathbb{Z}$ ir $\\mathbb{Q}$ operacijos   \n",
       "                  1              4  $\\mathbb{Z}$ ir $\\mathbb{Q}$ operacijos   \n",
       "\n",
       "                             solved  \n",
       "author  topic     problem_id         \n",
       "licėjus 2007_copy 2            True  \n",
       "                  2            True  \n",
       "                  2            True  \n",
       "                  1            True  \n",
       "                  1            True  \n",
       "                  1           False  \n",
       "                  1            True  "
      ]
     },
     "execution_count": 1308,
     "metadata": {},
     "output_type": "execute_result"
    }
   ],
   "source": [
    "df5 = df4.merge(df2, on=['author', 'topic', 'problem_id', 'part'], how='outer')\n",
    "for n in df3[df3['solved']==True].index: df5.loc[n, 'solved'] = True\n",
    "df5 #takes 'solved' (cell color) and 'skill' (name + stars)"
   ]
  },
  {
   "cell_type": "code",
   "execution_count": 1372,
   "metadata": {},
   "outputs": [
    {
     "data": {
      "text/html": [
       "<div>\n",
       "<style scoped>\n",
       "    .dataframe tbody tr th:only-of-type {\n",
       "        vertical-align: middle;\n",
       "    }\n",
       "\n",
       "    .dataframe tbody tr th {\n",
       "        vertical-align: top;\n",
       "    }\n",
       "\n",
       "    .dataframe thead th {\n",
       "        text-align: right;\n",
       "    }\n",
       "</style>\n",
       "<table border=\"1\" class=\"dataframe\">\n",
       "  <thead>\n",
       "    <tr style=\"text-align: right;\">\n",
       "      <th></th>\n",
       "      <th></th>\n",
       "      <th></th>\n",
       "      <th>solved</th>\n",
       "      <th>skills</th>\n",
       "      <th>pts</th>\n",
       "    </tr>\n",
       "    <tr>\n",
       "      <th>author</th>\n",
       "      <th>topic</th>\n",
       "      <th>problem_id</th>\n",
       "      <th></th>\n",
       "      <th></th>\n",
       "      <th></th>\n",
       "    </tr>\n",
       "  </thead>\n",
       "  <tbody>\n",
       "    <tr>\n",
       "      <th rowspan=\"2\" valign=\"top\">licėjus</th>\n",
       "      <th rowspan=\"2\" valign=\"top\">2007_copy</th>\n",
       "      <th>2</th>\n",
       "      <td>True</td>\n",
       "      <td>($\\mathbb{Z}$ ir $\\mathbb{Q}$ operacijos, Lygč...</td>\n",
       "      <td>3</td>\n",
       "    </tr>\n",
       "    <tr>\n",
       "      <th>1</th>\n",
       "      <td>False</td>\n",
       "      <td>($\\mathbb{Z}$ ir $\\mathbb{Q}$ operacijos, Lygč...</td>\n",
       "      <td>4</td>\n",
       "    </tr>\n",
       "  </tbody>\n",
       "</table>\n",
       "</div>"
      ],
      "text/plain": [
       "                              solved  \\\n",
       "author  topic     problem_id           \n",
       "licėjus 2007_copy 2             True   \n",
       "                  1            False   \n",
       "\n",
       "                                                                         skills  \\\n",
       "author  topic     problem_id                                                      \n",
       "licėjus 2007_copy 2           ($\\mathbb{Z}$ ir $\\mathbb{Q}$ operacijos, Lygč...   \n",
       "                  1           ($\\mathbb{Z}$ ir $\\mathbb{Q}$ operacijos, Lygč...   \n",
       "\n",
       "                              pts  \n",
       "author  topic     problem_id       \n",
       "licėjus 2007_copy 2             3  \n",
       "                  1             4  "
      ]
     },
     "execution_count": 1372,
     "metadata": {},
     "output_type": "execute_result"
    }
   ],
   "source": [
    "df3 #takes 'solved' (rectangle color) and 'pts' (rectangle size)"
   ]
  },
  {
   "cell_type": "code",
   "execution_count": 1643,
   "metadata": {},
   "outputs": [
    {
     "data": {
      "image/png": "[encoded data removed]",
      "text/plain": [
       "<Figure size 648x864 with 1 Axes>"
      ]
     },
     "metadata": {
      "needs_background": "light"
     },
     "output_type": "display_data"
    }
   ],
   "source": [
    "import numpy as np\n",
    "import matplotlib.colors as mlc\n",
    "\n",
    "def achievements(df5, df3, colors):\n",
    "    img = df5['solved'].values.astype(int)[:, None]\n",
    "    completed = df3['pts'].values\n",
    "    shape = img.shape\n",
    "\n",
    "    figure, ax = plt.subplots(figsize=(9,12))\n",
    "\n",
    "    color_map = mlc.LinearSegmentedColormap.from_list('ColorMap', ['mistyrose', 'mediumslateblue'])\n",
    "    e = ax.imshow(img, cmap=color_map, interpolation='mitchell')\n",
    "\n",
    "    #x.set_xlabel('Activity', fontsize=13)\n",
    "    ax.set_yticks(np.arange(0, img.shape[0], 1))\n",
    "    ax.set_yticklabels(list(df5['skill'].values), rotation='horizontal', fontsize=12, fontweight='bold')\n",
    "    ax.set_yticks(np.arange(-0.5, img.shape[0], 1), minor=True) #borders between edges\n",
    "    #ax.set_xticklabels(np.arange(1, img.shape[1] + 1, 1))\n",
    "\n",
    "    #ax.set_ylabel('States', fontsize=13)\n",
    "    ax.set_xticks(np.arange(0, 1, 1))\n",
    "    ax.get_xaxis().set_visible(False)\n",
    "    ax.set_xlim(-0.5, 0.5)\n",
    "    #ax.set_yticks(np.arange(-.5, img.shape[0], 1), minor=True)\n",
    "    #ax.set_yticklabels(states)\n",
    "\n",
    "    a=0.03\n",
    "    pal = {True: 'none', False: 'red'}\n",
    "    for idx, clr in enumerate(colors):\n",
    "        ax.add_patch(plt.Rectangle((-0.5, -0.5+idx), 1, 1, facecolor=clr, edgecolor = pal[df5['solved'][idx]], hatch=r'xxx'))\n",
    "\n",
    "        \n",
    "    pallete = {True: 'limegreen', False: 'crimson'}\n",
    "    for start, size, solved in zip(np.r_[0, df3['pts'].values[:-1]], np.r_[df3['pts'].values], df3['solved'].values):\n",
    "        ax.add_patch(plt.Rectangle((-0.5+a, start-0.5+a), 1-2*a, size-2*a,\n",
    "                               facecolor='none', edgecolor = pallete[solved], zorder=1, lw=10, linestyle='--'))\n",
    "\n",
    "    ax.grid(which='minor', color='k')\n",
    "    ax.set_title('Pasiekimai', fontsize=15, fontweight='bold')\n",
    "    plt.show()\n",
    "    \n",
    "    \n",
    "dst = get_distribution('licėjus/clusters.txt', 'licėjus/2007_copy')\n",
    "possible_skills = list(chain(*[list(dst[n].keys()) for n in dst]))\n",
    "idx = [possible_skills.index(n) for n in df5['skill']]\n",
    "palette = plt.get_cmap('jet')(np.linspace(0,1,len(possible_skills)))\n",
    "colors = palette[idx]\n",
    "\n",
    "achievements(df5, df3, colors)"
   ]
  },
  {
   "cell_type": "markdown",
   "metadata": {},
   "source": [
    "### Kaip patikrinti uždavinio komponentams reikiamus gebėjimus ir gauti apytikslį jų įvertį mokiniui?"
   ]
  },
  {
   "cell_type": "markdown",
   "metadata": {},
   "source": [
    "### Kaip atrinkti pilnus uždavinius, kur reikia gebėjimo X ir kurių visi komponentai turi stiprius sprendimo įgūdžius?"
   ]
  },
  {
   "cell_type": "markdown",
   "metadata": {},
   "source": [
    "### Kaip galėtų atrodyti realios matematikos žinių mutacijos\n",
    "![](virusology.PNG)"
   ]
  },
  {
   "cell_type": "markdown",
   "metadata": {},
   "source": [
    "### Kitos mintys"
   ]
  },
  {
   "cell_type": "code",
   "execution_count": 1,
   "metadata": {},
   "outputs": [
    {
     "data": {
      "image/png": "[encoded data removed]",
      "text/plain": [
       "<Figure size 1440x216 with 1 Axes>"
      ]
     },
     "metadata": {
      "needs_background": "light"
     },
     "output_type": "display_data"
    }
   ],
   "source": [
    "import numpy as np\n",
    "import matplotlib.pyplot as plt\n",
    "\n",
    "def ema(data, window):\n",
    "    #ema with lag at the beginning\n",
    "    z = np.zeros(len(data))\n",
    "    z[:] = np.NaN\n",
    "    z[len(window)-1:] = np.convolve(data, window[::-1], mode='valid')\n",
    "    return z\n",
    "\n",
    "def get_window(N):\n",
    "    # increasing sequence for window of ema\n",
    "    a = 2 / (N+1)\n",
    "    w = np.cumprod(np.repeat([1,1-a], [1, N-1]))\n",
    "    return (w/np.sum(w))[::-1]\n",
    "\n",
    "pts = [1,0,0,1,0,1,1,0,1,1,0,1,1,1]\n",
    "problems = ['2012.7', '2017.6', '2010.2', '2017.2', '2017.9', '2010.5', '2020.2', '2019.6', \n",
    "            '2014.3', '2017.3', '2016.6', '2019.3', '2015.5', '2016.2']\n",
    "plt.figure(figsize=(20,3))\n",
    "plt.bar(problems, pts)\n",
    "\n",
    "line1, = plt.plot(ema(pts, get_window(5)), color = 'lightblue', linewidth=5, alpha=0.4)\n",
    "line2, = plt.plot(ema(pts, get_window(7)), color = 'lightblue', linewidth=5)\n",
    "plt.legend([line1, line2], ['EMA, 5tšk atmintis', 'EMA, 10tšk atmintis'])\n",
    "plt.grid(True)\n",
    "plt.show()"
   ]
  },
  {
   "cell_type": "markdown",
   "metadata": {},
   "source": [
    "**Pasiūlymas: šalia kiekvieno atsakymo rašyti atlikimo ir aptarimo laiką**"
   ]
  }
 ],
 "metadata": {
  "kernelspec": {
   "display_name": "Python 3",
   "language": "python",
   "name": "python3"
  },
  "language_info": {
   "codemirror_mode": {
    "name": "ipython",
    "version": 3
   },
   "file_extension": ".py",
   "mimetype": "text/x-python",
   "name": "python",
   "nbconvert_exporter": "python",
   "pygments_lexer": "ipython3",
   "version": "3.8.3"
  }
 },
 "nbformat": 4,
 "nbformat_minor": 4
}
