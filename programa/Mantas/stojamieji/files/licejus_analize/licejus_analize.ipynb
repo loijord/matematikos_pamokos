{
 "cells": [
  {
   "cell_type": "markdown",
   "metadata": {},
   "source": [
    "## Gebėjimų sąrašas\n",
    "Šie reikalavimai buvo pateikti per praeitus mokslo metus licėjaus tinklalapyje\n",
    "\n",
    "### Skaičiai ir skaičiavimai\n",
    "* Atpažinti ir naudoti natūraliuosius skaičius. Taikyti dalumo iš 2, 3, 5, 9 ir 10 požymius. Atpažinti pirminius ir sudėtinius skaičius. Sudėtinius skaičius skaidyti pirminiais dauginamaisiais. Taikyti sąvokas: dviejų skaičių (didžiausiasis) bendrasis daliklis ar (mažiausiasis) bendrasis kartotinis.\n",
    "* Atlikti aritmetinius veiksmus su sveikaisiais ir trupmeniniais skaičiais. Taikyti šias sąvokas skaičiams: priešingas, atvirkštinis, lyginis (nelyginis), modulis. Taikyti pagrindinę proporcijos savybę.\n",
    "* Suvokti procento sąvoką. Rasti skaičių, kai žinomi jo procentai, rasti skaičiaus procentą.\n",
    "* Taikyti žinias apie skaičiaus kėlimą sveikuoju laipsniu, kvadratinės ir kubinės šaknies traukimą. Atlikti nesudėtingus veiksmus su laipsniais.\n",
    "\n",
    "### Reiškiniai, lygtys, nelygybės\n",
    "* Atlikti vienanarių ir daugianarių sudėtį, atimtį ir daugybą.\n",
    "* Prastinant reiškinius taikyti veiksmų su laipsniais, kurių rodiklis sveikasis skaičius, savybes.\n",
    "* Nesudėtingais atvejais skaidyti daugianarius daugikliais.\n",
    "* Taikyti greitosios daugybos formules.\n",
    "* Sudaryti ir spręsti tiesines lygtis, nelygybes. Jų sprendinius vaizduoti skaičių tiesėje.\n",
    "* Spręsti tekstinius uždavinius, sudarant lygtis, nelygybes.\n",
    "\n",
    "### Geometrija\n",
    "* Atpažinti, pavaizduoti, apibūdinti paprasčiausias geometrines figūras.\n",
    "* Taikyti gretutinių, kryžminių kampų ir kampų, gautų dvi lygiagrečias tieses perkirtus trečiąja, savybes.\n",
    "* Taikyti žinias apie trikampį, jo aukštines, pusiaukraštines, pusiaukampines. Taikyti lygiašonio ir lygiakraščio trikampio savybes, trikampių lygumo požymius. Skaičiuoti trikampio perimetrą ir plotą.\n",
    "* Taikyti Pitagoro ir jai atvirkštinę teoremas.\n",
    "* Taikyti keturkampių (kvadrato, stačiakampio, lygiagretainio, rombo, trapecijos) savybes ir skaičiuoti jų perimetrus bei plotus.\n",
    "* Taikyti žinias apie apskritimą ir skritulį. Skaičiuoti apskritimo ilgį ir skritulio plotą.\n",
    "* Paprastais atvejais apskaičiuoti kubo, stačiakampio gretasienio, taisyklingosios piramidės, ritinio ir kūgio elementus.\n",
    "\n",
    "### Kombinatorika\n",
    "* Taikyti kombinatorines sudėties ir daugybos taisykles, sprendžiant paprastus uždavinius. (pvz. nustatyti, kiek yra palindrominių penkiaženklių skaičių)."
   ]
  },
  {
   "cell_type": "markdown",
   "metadata": {},
   "source": [
    "## Ruošimosi planas\n",
    "* Surenkami ir išsprendžiami uždaviniai, išanalizuojama, kaip galėtų būti vertinami sprendimai, kiekvienam taškui priskiriamas gebėjimas, kurio reikia norint jį gauti.\n",
    "* Įvertinama:\n",
    "  * koks tikrinamų gebėjimų pasiskirstymas stojamuosiuose.\n",
    "  * kokios moksleivio žinios kiekviename gebėjime.\n",
    "  * kiek reikia pamokų, norint, kad kiekvienas gebėjimas būtų pilnai įgytas.\n",
    "* Pagal gautus įvertinimus apskaičiuojama gebėjimų trūkumo kaina ir mokymosi efektyvumas.\n",
    "* Rezultatai leidžia pamatyti, kokias sritis mokytis svarbiausia. Jei galime įvertinti reikalingų pamokų skaičių, tai geriausia būtų spręsti pagal efektyvumą. Pateiktame pavyzdyje daug labiau verta pradėti mokytis nuo kombinatorikos, nei dalumo:\n",
    "\n",
    "|Gebėjimas|Pasiskirstymas|Moksleivio žinios|Moksleivio žinių trūkumo kaina|Reikalingų pamokų skaičius|Mokymosi efektyvumas|\n",
    "|:---:|:---:|:---:|:---:|:---:|:---:|\n",
    "|Dalumo suvokimas| $0.08$ |$0.7$| $0.08 \\times (1 - 0.7) = 0.024$| $3$ | $0.024/3 = 0.008$|\n",
    "|Kombinatorikos suvokimas| $0.1$ |$0.3$| $0.1 \\times (1 - 0.3) = 0.07$| $1$ | $0.07/1 = 0.07$|\n",
    "  \n",
    "## Vertinimo metodai\n",
    "Norint nustatyti mokymosi planą, reikia įvertinti ***reikalaujamų gebėjimų pasiskirtymą***, ***moksleivio žinių lygį*** ir ***kiek reikės pamokų pilnam išmokimui***. Kiekvienas iš vertinimų yra sudėtingas, ne visada duodantis tikslius rezultatus, procesas.\n",
    "\n",
    "* Norint sužinoti ***gebėjimų pasiskirtymą*** geriausia užrašinėti uždavinių sprendimus, nagrinėti, kaip jie vertinami ir taškus priskirti konkretiems gebėjimams. Planuoju, kad apdoroti duomenys atrodys maždaug taip (pavyzdys iš valstybinio egzamino):\n",
    "<img src=\"anpvz.PNG\" width=\"400\">\n",
    "* ***Moksleivio žinių lygį patikrinti*** galima pagal tai, kurią dalį uždavinių jis savarankiškai įveikia tam tikrose stojamųjų srityse. Jei moksleivis neturi galimybių persispręsti kiekvienos temos uždavinius, galima remtis ir kitais kriterijais: kaip jis pats vertina savo supratimą ir ką rodo papildomas klausinėjimas apie sąvokas ir procedūras.\n",
    "* ***Laiką tam tikram gebėjimui išmokti*** įvertinti sunkiausia. Galimi tik netiesioginiai būdai atsižvelgiant į:\n",
    "  * Moksleivio nuomonę.\n",
    "  * Mokomos temos sudėtingumą \n",
    "  * Kokia moksleivio motyvacija savarankiškai kartotis.\n",
    "  \n",
    "## Mokymosi efektyvumą lemiantys veiksniai\n",
    "### Gebėjimo pobūdis\n",
    "  Pavyzdžiui sprendžiant žodinius uždavinius sprendimo įgūdžiai lavėja greitai, kol nesusiduriame su uždaviniais, kuriems reikia labiau ištobulintų (sukompresuotų) atminties struktūrų. Kompresavimosi sparta priklauso ne vien nuo pamokų, bet ir nuo intelektinių gabumų. Pateiktoje ilustracijoje matyti, kad produktyvi būna tik pamoka, kurioje atrandami nauji mąstymo būdai, o toliau tęsti mokymosi neverta, nes likusi uždavinių dalis yra per sudėtinga.\n",
    "  ![](kompresija.png)\n",
    "  Kitiems gebėjimams, tokiems, kaip lygčių sprendimas, lankstesni įsiminimo būdai tokios didelės įtakos neturi.\n",
    "### Kartojimosi dažnumas\n",
    "  *  Neatliekant namų darbų ir nesikartojant savaitę laiko dažnai ,,išgaruoja\" $60 - 70\\%$ medžiagos. Jei yra problemų su namų darbais arba ankstesnių pamokų prisiminimu, sudėtingesnes temas galima mokytis neribotą laiką ir nieko neišmokti. Tuomet sudėtingesnės medžiagos pradėti mokytis neverta.\n",
    "  <img src=\"atmintis.PNG\" width=\"500\">"
   ]
  }
 ],
 "metadata": {
  "kernelspec": {
   "display_name": "Python 3",
   "language": "python",
   "name": "python3"
  },
  "language_info": {
   "codemirror_mode": {
    "name": "ipython",
    "version": 3
   },
   "file_extension": ".py",
   "mimetype": "text/x-python",
   "name": "python",
   "nbconvert_exporter": "python",
   "pygments_lexer": "ipython3",
   "version": "3.8.3"
  }
 },
 "nbformat": 4,
 "nbformat_minor": 4
}
