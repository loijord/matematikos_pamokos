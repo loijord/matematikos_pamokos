{
 "cells": [
  {
   "cell_type": "markdown",
   "metadata": {},
   "source": [
    "Priešpaskutinį susitikimą prieš stojamajį į licėjų turėjome tokios veiklos:\n",
    "    \n",
    "* Atlikti dvi likusias užduotis iš stojamųjų. Jos vienos sunkiausių ir vertos daugiausia taškų.\n",
    "* Treniruotis su 7kl. testais iš Ematematikas.\n",
    "* Spręstis žodinius uždavinius iš valstybinio egzamino.\n",
    "\n",
    "### Stojamieji\n",
    "Stojamuosius buvau uždavęs namų darbams, bet Mantas jų nepaskaitė ir pratimus teko atidėti kitam kartui. Per užsiėmimą pasiūliau panagrinėti ir uždavinį su penkiakampiu, todėl dabar turim tris dėmesio vertus, sudėtingus uždavinius.\n",
    "\n",
    "***2013m. 7užd.*** Trapecijos $ABCD$ pagrindai $AD$ ir $BC$ atitinkamai lygūs 12 cm ir 4 cm. Per viršūnę $B$ ir kraštinės $CD$ vidurio tašką $O$ nubrėžta tiesė iki susikirtimo su kraštinės $AD$ tęsiniu taške $E$. Kampas $ABE$ yra status, o kampas $CBE$ lygus $30^o$. Apskaičiuokite trapecijos perimetrą. (6tšk.)\n",
    "\n",
    "***Užuominos***\n",
    "\n",
    "Prieš tai esame aptarę panašią situaciją su kvadratu:\n",
    "\n",
    "![](analogous.PNG)\n",
    "\n",
    "Kai aš pats sprendžiau šį uždavinį stengdamasis pritaikyti šią situaciją, užtrukau labai ilgai. Po to paaiškėjo, kad ši idėja buvo nereikalinga ir klaidinanti. Man padėjo kita idėja - trapecijos papildymas iki lygiagretainio.\n",
    "\n",
    "***2013m. 8užd.***  Du keliautojai 3 valandą dienos išėjo iš viešbučio ir grįžo tik 9 valandą vakaro. Bekeliaudami jie buvo įkopę į vieną kalną. Lygia vietove keliautojai ėjo 4 mylias per valandą, į kalną - 3 mylias per valandą, į pakalnę - 6 mylias per valandą. Kiek mylių jie nuėjo iš viso? (5tšk.)\n",
    "\n",
    "***Užuominos*** \n",
    "\n",
    "Uždavinyje atsispindi išskirtinė situacija, kuomet uždavinys turi vienareikšmį atsakymą tik dėl to, kad buvo parintos palankios $v_1$, $v_2$ ir $v_3$ reikšmės. Su kitomis greičių reikšmėmis dažniausiai nepavyktų vienareikšmiškai nustatyti nueito atstumo. Kodėl taip yra, geriausiai paaiškės tik pilnai išsprendus uždavinį. O kol kas, kad būtų paprasčiau, galima remtis sąryšiais:\n",
    "\n",
    "* $v_1=4$; $v_2=3$, $v_3=6$\n",
    "* $s_2=s_3$ (gali būti sunkiau pastebėti iš situacijos)\n",
    "* $t_1+t_2+t_3=6$\n",
    "* $s_1+s_2+s_3=?$\n",
    "\n",
    "***Papildomas uždavinys.*** Taisyklingojo penkiakampio bet kurios įstrižainės ilgis lygus 1. Įrodykite, kad įstrižainės dalo kiekvieną šio penkiakampio kampą į tris lygias dalis ir tuo remdamiesi raskite šio penkiakampio kraštinės ilgį.\n",
    "\n",
    "***Užuominos***\n",
    "\n",
    "Šio uždavinio sprendimas labai sudėtingas. Jei tai nebūtų plačiai žinoma situacija ([atsakymas pateiktas Vikipedijoje](https://en.wikipedia.org/wiki/Pentagon#Regular_pentagons)), jis tiktų į vyresnių moksleivių šalies olimpiadą. Nuoseklus samprotavimas labai ilgas, todėl siūlau jį skaidyti į lemas (pagalbinius teiginius). \n",
    "\n",
    "![](pentagon_problem.PNG)\n",
    "* **Lema 1.** Bet kurios trapecijos įstrižainės iškerta panašiųjų trikampių porą (trikampius, kurių visi kampai lygūs), kaip pavaizduota.\n",
    "\n",
    "*Šią lemą įrodėme per pamoką. Siūlau pasikartoti įrodymą, nes gali prireikti per stojamuosius. Taip pat paaiškinti, kodėl lygiašonės trapecijos atveju likusi trikampių pora bus sudaryta iš lygių trikampių.*\n",
    "\n",
    "* **Lema 2.** Taisyklingo penkiakampio įstrižainės kiekvieną jo kampą dalija į tris lygius kampus po $36^o$.\n",
    "\n",
    "*Šią lemą įrodėme per pamoką; įrodymas remiasi lema 1 ir analogiškais samprotavimais*\n",
    "\n",
    "* **Lema 3.** Tarkime turime du stačiuosius trikampius, kurių įžambinės ilgis lygus 1. Pirmo trikampio pagrindo ilgis lygus $a$. Įrodykite, kad jei kito trikampio kampas prie pagrindo yra **dvigubai** didesnis, tai jo pagrindo ilgis lygus $2a^2-1$\n",
    "\n",
    "![](doubling.PNG)\n",
    "\n",
    "*Šią lemą įrodėme per ankstesnius užsiėmimus nusibraižę tam tikrą konstrukciją. Prisiminti įrodymo nebūtina* \n",
    "\n",
    "* **Lema 4.** Tarkime turime du stačiuosius trikampius, kurių įžambinės ilgis lygus 1. Pirmo trikampio pagrindo ilgis lygus $a$. Įrodykite, kad jei antro trikampio kampas prie pagrindo yra **keturgubai** didesnis, tai šio trikampio pagrindo ilgis lygus $8a^4-8a^2+1$\n",
    "\n",
    "*Įrodymas paremtas lema 3, siūlau pamėginti*\n",
    "\n",
    "* **Lema 5.** Tarkime turime du stačiuosius trikampius, kurių įžambinės ilgis lygus 1. Įrodykite, kad jei kito trikampio kampas prie pagrindo yra **keturgubai** didesnis ir lygus $72^o$, tai šie trikampiai lygūs.\n",
    "\n",
    "*Labai lengva*\n",
    "\n",
    "* **Lema 6.** Stačiojo trikampio įžambinės ilgis lygus 1, o vienas smailusis kampas lygus $72^o$. Įrodykite, kad prieš jį esančio statinio ilgis yra lygties $a^2 + (8a^4-8a^2+1)^2=1$ sprendinys\n",
    "\n",
    "*Galima remtis lema 4 ir lema 5*\n",
    "\n",
    "* **Papildomos pastabos.** Vienas lemos 6 lygties [sprendinys](https://www.wolframalpha.com/input/?i=%288a%5E4-8a%5E2%2B1%29%5E2%2Ba%5E2%3D1) yra $a_1=\\frac{1}{2}\\sqrt{\\frac{5-\\sqrt{5}}{2}}$. [Pasirodo](https://www.wolframalpha.com/input/?i=%5Csqrt%7B1-%281%2F2+sqrt%285%2F2+-+sqrt%285%29%2F2%29%29%5E2%7D), $\\sqrt{1-a_1^2}=\\frac{1+\\sqrt{5}}{4}$. Sudėję du pavaizduotus trikampius vieną šalia kito gausime lygiašonį trikampį, kurį iškerta penkiakampio įstrižainės. Jo pagrindas sutaps su penkiakampio kraštine. Ar įmanoma apsieiti be tokios sudėtingos lygties sprendimo? Taip, jeigu praplėstume **lemą 3** taip, kad padvigubinti kampai galėtų būti daugiau už $90^o$. Tačiau kažin, ar tokie taikymai nepasirodys dar sudėtingesni, kol nesame pažįstami su trigonometrija. Vietoj trigonometrijos yra būdas pasinaudoti panašumo koeficientais, kurie yra įprasti 9 klasėje. Kol kas tokių sprendimų neieškosime.\n",
    "\n",
    "![](contriangle.png)"
   ]
  },
  {
   "cell_type": "markdown",
   "metadata": {},
   "source": [
    "### Ematematikas\n",
    "Didžiąją pamokos dalį kartojome trapecijas ir lygiagretainius iš 7kl. Kai kuriuos dalykus buvo sunkiau prisiminti arba suprasti:\n",
    "* Lygiagretainio įstrižainės dalija viena kitą pusiau (pagal trikampių lygumo požymius)\n",
    "* Lygiagretainio įstrižainės neturi būti vienodos\n",
    "* Priešingi lygiagretainio kampai lygūs\n",
    "* Rombas - keturkampis, kurioje visos kraštinės lygios\n",
    "* Dalis rombų - kvadratai\n",
    "\n",
    "Lieka kartotis kitas temas iš 7 kl."
   ]
  },
  {
   "cell_type": "markdown",
   "metadata": {},
   "source": [
    "### Tekstiniai uždaviniai\n",
    "Lieka, kiek dar yra laiko treniruotis su [brandos egzamino uždaviniais](https://nbviewer.jupyter.org/github/loijord/matematikos_pamokos/blob/master/programa/Vilius/TU/TU.ipynb). Pvz. abiturientai vidutiniškai praleis 30min prie 2017m. egzamino tekstinių uždavinių (visus vėlesnių metų egzaminus jau darėm)."
   ]
  },
  {
   "cell_type": "markdown",
   "metadata": {},
   "source": [
    "### Pabaigai"
   ]
  },
  {
   "cell_type": "markdown",
   "metadata": {},
   "source": [
    "Gal sudomins šis uždavinukas? ![](ketvirtoji.PNG)"
   ]
  }
 ],
 "metadata": {
  "kernelspec": {
   "display_name": "Python 3",
   "language": "python",
   "name": "python3"
  },
  "language_info": {
   "codemirror_mode": {
    "name": "ipython",
    "version": 3
   },
   "file_extension": ".py",
   "mimetype": "text/x-python",
   "name": "python",
   "nbconvert_exporter": "python",
   "pygments_lexer": "ipython3",
   "version": "3.8.3"
  }
 },
 "nbformat": 4,
 "nbformat_minor": 4
}
