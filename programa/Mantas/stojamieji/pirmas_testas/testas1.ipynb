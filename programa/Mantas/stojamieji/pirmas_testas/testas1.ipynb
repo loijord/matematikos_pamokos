{
 "cells": [
  {
   "cell_type": "code",
   "execution_count": 7,
   "metadata": {},
   "outputs": [],
   "source": [
    "#check_skills('licejus/2017', '4b') #Nusistatome, kiek dalių turi uždavinys, ką joms reikia mokėti\n",
    "#display(Markdown(show_case('licejus/2017', '2', which=1, show_solution=True))) # Paprašome suflerio\n",
    "#display(Markdown(show_problem('licejus/2017', '6', show_solution=True))) # Pilnas sprendimas\n",
    "problems = [('licejus/2017', n) for n in ('1a', '1b', '1c', '1d', '2', '3a', '3b', '3c', '4a', '4b','6')]"
   ]
  },
  {
   "cell_type": "markdown",
   "metadata": {},
   "source": [
    "# Uždaviniai"
   ]
  },
  {
   "cell_type": "code",
   "execution_count": 8,
   "metadata": {},
   "outputs": [
    {
     "data": {
      "text/markdown": [
       "**Užduotis 1a.**\n",
       "\n",
       "Kiek yra skirtingų triženklių skaičių, kurių vienetų skaitmuo nelyginis? (1 tšk.)"
      ],
      "text/plain": [
       "<IPython.core.display.Markdown object>"
      ]
     },
     "metadata": {},
     "output_type": "display_data"
    },
    {
     "data": {
      "text/markdown": [
       "**Užduotis 1b.**\n",
       "\n",
       "Kokiu skaitmeniu baigiasi sandauga 318 dauginamųjų, kurių kiekvienas lygus 3? (1 tšk.)"
      ],
      "text/plain": [
       "<IPython.core.display.Markdown object>"
      ]
     },
     "metadata": {},
     "output_type": "display_data"
    },
    {
     "data": {
      "text/markdown": [
       "**Užduotis 1c.**\n",
       "\n",
       "Kokį dviženklį skaičių reikia pridėti prie $10^{2017}$, kad gautasis skaičius dalintųsi iš 90? (1 tšk.)"
      ],
      "text/plain": [
       "<IPython.core.display.Markdown object>"
      ]
     },
     "metadata": {},
     "output_type": "display_data"
    },
    {
     "data": {
      "text/markdown": [
       "**Užduotis 1d.**\n",
       "\n",
       "Kiek kartų padidės sandauga $ab$, jeigu dauginamąjį $a$ padidinsime 250%, o dauginamajį $b$ sumažinsime 40%? (1 tšk.)"
      ],
      "text/plain": [
       "<IPython.core.display.Markdown object>"
      ]
     },
     "metadata": {},
     "output_type": "display_data"
    },
    {
     "data": {
      "text/markdown": [
       "**Užduotis 2.**\n",
       "\n",
       "Jonas išlanksto lėktuvėlį per 3 minutes, o Zigmas tokį pat lėktuvėlį išlanksto per 4 minutes. Per kiek laiko Jonas ir Zigmas išlankstytų 14 lėktuvėlių, jei dirbtų kartu? (3tšk.)"
      ],
      "text/plain": [
       "<IPython.core.display.Markdown object>"
      ]
     },
     "metadata": {},
     "output_type": "display_data"
    },
    {
     "data": {
      "text/markdown": [
       "**Užduotis 3a.**\n",
       "\n",
       "Suprastinkite reiškinį $\\displaystyle\\frac{1}{2}xy^{2}\\cdot (-2x^2y)^{8}$ (2tšk.)"
      ],
      "text/plain": [
       "<IPython.core.display.Markdown object>"
      ]
     },
     "metadata": {},
     "output_type": "display_data"
    },
    {
     "data": {
      "text/markdown": [
       "**Užduotis 3b.**\n",
       "\n",
       "Suprastinkite reiškinį $\\displaystyle\\frac{n\\cdot 2^{1+n}}{2^{3-n}}$, kur $n$ - sveikasis skaičius (2tšk.)"
      ],
      "text/plain": [
       "<IPython.core.display.Markdown object>"
      ]
     },
     "metadata": {},
     "output_type": "display_data"
    },
    {
     "data": {
      "text/markdown": [
       "**Užduotis 3c.**\n",
       "\n",
       "Suprastinkite reiškinį $(3x-2y)^2 - (y+3x)(3x-y)$ [2tšk.]"
      ],
      "text/plain": [
       "<IPython.core.display.Markdown object>"
      ]
     },
     "metadata": {},
     "output_type": "display_data"
    },
    {
     "data": {
      "text/markdown": [
       "**Užduotis 4a.**\n",
       "\n",
       "Lygiašonės trapecijos $ABCD$ trumpesnysis pagrindas $BC$ lygus šoninėms kraštinėms. Trapecijos perimetras lygus 124 cm, o pagrindų ilgiai sutinka santykiu 13:23. Parodykite, kad trumpesnysis trapecijos pagrindas lygus 26cm. [1tšk.]"
      ],
      "text/plain": [
       "<IPython.core.display.Markdown object>"
      ]
     },
     "metadata": {},
     "output_type": "display_data"
    },
    {
     "data": {
      "text/markdown": [
       "**Užduotis 4b.**\n",
       "\n",
       "Lygiašonės trapecijos $ABCD$ trumpesnysis pagrindas $BC$ yra tokio paties ilgio kaip šoninės kraštinės ir lygus 26 cm. Trapecijos pagrindų ilgiai sutinka santykiu 13:23. Raskite šios trapecijos plotą. [3tšk.]"
      ],
      "text/plain": [
       "<IPython.core.display.Markdown object>"
      ]
     },
     "metadata": {},
     "output_type": "display_data"
    },
    {
     "data": {
      "text/markdown": [
       "**Užduotis 6.**\n",
       "\n",
       "Žinoma, kad merginos sudarė daugiau nei 20%, bet mažiau nei 25% visų ekskursijos dalyvių skaičiaus. Raskite mažiausią galimą šios ekskursijos dalyvių skaičių [3tšk.]"
      ],
      "text/plain": [
       "<IPython.core.display.Markdown object>"
      ]
     },
     "metadata": {},
     "output_type": "display_data"
    }
   ],
   "source": [
    "for dir, id in problems: display(Markdown(show_problem(dir, id, show_solution=False).replace('Užduotis', 'Užduotis '+id)))"
   ]
  },
  {
   "cell_type": "markdown",
   "metadata": {},
   "source": [
    "# Uždavinių dalys"
   ]
  },
  {
   "cell_type": "code",
   "execution_count": 9,
   "metadata": {},
   "outputs": [
    {
     "data": {
      "text/markdown": [
       "**Užduotis 1a.**\n",
       "\n",
       "Kiek yra skirtingų triženklių skaičių, kurių vienetų skaitmuo nelyginis? (1 tšk.)"
      ],
      "text/plain": [
       "<IPython.core.display.Markdown object>"
      ]
     },
     "metadata": {},
     "output_type": "display_data"
    },
    {
     "data": {
      "text/markdown": [
       "**Užduotis 1b.**\n",
       "\n",
       "Kokiu skaitmeniu baigiasi sandauga 318 dauginamųjų, kurių kiekvienas lygus 3? (1 tšk.)"
      ],
      "text/plain": [
       "<IPython.core.display.Markdown object>"
      ]
     },
     "metadata": {},
     "output_type": "display_data"
    },
    {
     "data": {
      "text/markdown": [
       "**Užduotis 1c.**\n",
       "\n",
       "Kokį dviženklį skaičių reikia pridėti prie $10^{2017}$, kad gautasis skaičius dalintųsi iš 90? (1 tšk.)"
      ],
      "text/plain": [
       "<IPython.core.display.Markdown object>"
      ]
     },
     "metadata": {},
     "output_type": "display_data"
    },
    {
     "data": {
      "text/markdown": [
       "**Užduotis 1d.**\n",
       "\n",
       "Kiek kartų padidės sandauga $ab$, jeigu dauginamąjį $a$ padidinsime 250%, o dauginamajį $b$ sumažinsime 40%? (1 tšk.)"
      ],
      "text/plain": [
       "<IPython.core.display.Markdown object>"
      ]
     },
     "metadata": {},
     "output_type": "display_data"
    },
    {
     "data": {
      "text/markdown": [
       "**Uždavinio dalis 1 iš 2, kurioje yra $\\mathbb{Z}$ ir $\\mathbb{Q}$ operacijos.**\n",
       "\n",
       "Jonas išlanksto lėktuvėlį per 3 minutes, o Zigmas tokį pat lėktuvėlį išlanksto per 4 minutes. Kurią dalį lėktuvėlio išlankstys per minutę kiekvienas atskirai ir kurią dirbdami kartu?"
      ],
      "text/plain": [
       "<IPython.core.display.Markdown object>"
      ]
     },
     "metadata": {},
     "output_type": "display_data"
    },
    {
     "data": {
      "text/markdown": [
       "**Uždavinio dalis 2 iš 2, kurioje yra $\\mathbb{Z}$ ir $\\mathbb{Q}$ operacijos.**\n",
       "\n",
       "Jonas ir Zigmas dirbdami kartu per minutę išlanksto $\\displaystyle\\frac{7}{12}$ lėktuvėlio. Kiek laiko jie užtrunka, kol išlanksto vieną lėktuvėlį?"
      ],
      "text/plain": [
       "<IPython.core.display.Markdown object>"
      ]
     },
     "metadata": {},
     "output_type": "display_data"
    },
    {
     "data": {
      "text/markdown": [
       "**Uždavinio dalis 3 iš 2, kurioje yra $\\mathbb{Z}$ ir $\\mathbb{Q}$ operacijos.**\n",
       "\n",
       "Vieną lėktuvėlį užtrunka išlankstyti vidutiniškai $\\displaystyle\\frac{12}{7}$ minutės. Kiek laiko užtruks išlankstyti 14 lėktuvėlių?"
      ],
      "text/plain": [
       "<IPython.core.display.Markdown object>"
      ]
     },
     "metadata": {},
     "output_type": "display_data"
    },
    {
     "data": {
      "text/markdown": [
       "**Uždavinio dalis 1 iš 3a, kurioje yra Laipsnių taikymas reiškiniuose.**\n",
       "\n",
       "$(-2x^2y)^8 = ?$"
      ],
      "text/plain": [
       "<IPython.core.display.Markdown object>"
      ]
     },
     "metadata": {},
     "output_type": "display_data"
    },
    {
     "data": {
      "text/markdown": [
       "**Uždavinio dalis 2 iš 3a, kurioje yra Laipsnių taikymas reiškiniuose.**\n",
       "\n",
       "$2^{-1}xy^2 \\cdot 2^8x^{16}y^8=?$"
      ],
      "text/plain": [
       "<IPython.core.display.Markdown object>"
      ]
     },
     "metadata": {},
     "output_type": "display_data"
    },
    {
     "data": {
      "text/markdown": [
       "**Uždavinio dalis 1 iš 3b, kurioje yra Laipsnių taikymas reiškiniuose.**\n",
       "\n",
       "Reiškinius $2^{1+n}$ ir $2^{3-n}$ pakeiskite į dviejų laipsnių sandaugas taip, kad tų laipsnių rodikliuose liktų tik po vieną narį"
      ],
      "text/plain": [
       "<IPython.core.display.Markdown object>"
      ]
     },
     "metadata": {},
     "output_type": "display_data"
    },
    {
     "data": {
      "text/markdown": [
       "**Uždavinio dalis 2 iš 3b, kurioje yra Laipsnių taikymas reiškiniuose.**\n",
       "\n",
       "Supratinkite reiškinį $\\displaystyle\\frac{2^n}{2^{-n}}$ užrašydami jį kaip ketverto laipsnį"
      ],
      "text/plain": [
       "<IPython.core.display.Markdown object>"
      ]
     },
     "metadata": {},
     "output_type": "display_data"
    },
    {
     "data": {
      "text/markdown": [
       "**Uždavinio dalis 1 iš 3c, kurioje yra Vienanarių ir daugianarių operacijos.**\n",
       "\n",
       "Atskliauskite reiškinius $(3x-2y)^2$ ir $(y+3x)(3x-y)$"
      ],
      "text/plain": [
       "<IPython.core.display.Markdown object>"
      ]
     },
     "metadata": {},
     "output_type": "display_data"
    },
    {
     "data": {
      "text/markdown": [
       "**Uždavinio dalis 2 iš 3c, kurioje yra Vienanarių ir daugianarių operacijos.**\n",
       "\n",
       "Atimkite reiškinį $9x^2 - y^2$ iš reiškinio $9x^2-12xy+4y^2$"
      ],
      "text/plain": [
       "<IPython.core.display.Markdown object>"
      ]
     },
     "metadata": {},
     "output_type": "display_data"
    },
    {
     "data": {
      "text/markdown": [
       "**Užduotis 4a.**\n",
       "\n",
       "Lygiašonės trapecijos $ABCD$ trumpesnysis pagrindas $BC$ lygus šoninėms kraštinėms. Trapecijos perimetras lygus 124 cm, o pagrindų ilgiai sutinka santykiu 13:23. Parodykite, kad trumpesnysis trapecijos pagrindas lygus 26cm. [1tšk.]"
      ],
      "text/plain": [
       "<IPython.core.display.Markdown object>"
      ]
     },
     "metadata": {},
     "output_type": "display_data"
    },
    {
     "data": {
      "text/markdown": [
       "**Uždavinio dalis 1 iš 4b, kurioje yra Trikampių savybės.**\n",
       "\n",
       "![](licejus\\lic2017_4b_step1.PNG)"
      ],
      "text/plain": [
       "<IPython.core.display.Markdown object>"
      ]
     },
     "metadata": {},
     "output_type": "display_data"
    },
    {
     "data": {
      "text/markdown": [
       "**Uždavinio dalis 2 iš 4b, kurioje yra Pitagoro teorema.**\n",
       "\n",
       "Stačiojo trikampio įžambinės ilgis lygus 26 cm, o vieno statinio ilgis lygus 10 cm. Raskite kito statinio ilgį"
      ],
      "text/plain": [
       "<IPython.core.display.Markdown object>"
      ]
     },
     "metadata": {},
     "output_type": "display_data"
    },
    {
     "data": {
      "text/markdown": [
       "**Uždavinio dalis 3 iš 4b, kurioje yra Keturkampių savybės.**\n",
       "\n",
       "Trapecijos pagrindų ilgiai lygūs 26cm ir 46cm, o aukštinės ilgis yra 10cm. Raskite šios trapecijos plotą"
      ],
      "text/plain": [
       "<IPython.core.display.Markdown object>"
      ]
     },
     "metadata": {},
     "output_type": "display_data"
    },
    {
     "data": {
      "text/markdown": [
       "**Uždavinio dalis 1 iš 6, kurioje yra Lygčių ir nelygybių sudarymas.**\n",
       "\n",
       "Tarkime, kad ekskursijoje yra $9$ dalyviai, dalis jų merginos, dalis vaikinai. Raskite visus galimus variantus, kurią dalį ekskursijos dalyvių gali sudaryti merginos."
      ],
      "text/plain": [
       "<IPython.core.display.Markdown object>"
      ]
     },
     "metadata": {},
     "output_type": "display_data"
    },
    {
     "data": {
      "text/markdown": [
       "**Uždavinio dalis 2 iš 6, kurioje yra Procentai.**\n",
       "\n",
       "Duoti skaičiai: $1/9, 2/9, 3/9, 4/9, 5/9, 6/9, 7/9, 8/9$. Ar tarp jų yra reikšmė, esanti tarp $20\\%$ ir $25\\%$?"
      ],
      "text/plain": [
       "<IPython.core.display.Markdown object>"
      ]
     },
     "metadata": {},
     "output_type": "display_data"
    },
    {
     "data": {
      "text/markdown": [
       "**Uždavinio dalis 3 iš 6, kurioje yra Procentai.**\n",
       "\n",
       "Žinoma, kad sekoje $\\{1/9, 2/9, 3/9, 4/9, 5/9, 6/9, 7/9, 8/9\\}$ narys $2/9$ yra tarp $20\\%$ ir $25\\%$. Ar egzistuoja skaičius, turintis natūralųjį vardiklį, mažesnį už 9 ir esantis tarp $20\\%$ ir $25\\%$"
      ],
      "text/plain": [
       "<IPython.core.display.Markdown object>"
      ]
     },
     "metadata": {},
     "output_type": "display_data"
    }
   ],
   "source": [
    "for dir, id in problems: \n",
    "    skills = check_skills(dir, id)\n",
    "    for which in range(1, len(skills)+1):\n",
    "        if len(skills)!=1: display(Markdown(show_case(dir, id, which=which, show_solution=False).replace(', kurioje yra', f' iš {id}, kurioje yra')))\n",
    "        else: display(Markdown(show_problem(dir, id, show_solution=False).replace('Užduotis', 'Užduotis '+id)))"
   ]
  },
  {
   "cell_type": "markdown",
   "metadata": {},
   "source": [
    "# Uždavinių sprendimai"
   ]
  },
  {
   "cell_type": "code",
   "execution_count": 10,
   "metadata": {},
   "outputs": [
    {
     "data": {
      "text/markdown": [
       "**Užduotis 1a.**\n",
       "\n",
       "Kiek yra skirtingų triženklių skaičių, kurių vienetų skaitmuo nelyginis? (1 tšk.)\n",
       "\n",
       "**Sprendimas.**\n",
       "* $9 \\times 10 \\times 5= 450$\n",
       "* **Paaiškinimas:** $\\begin{cases} \\text{Pirmas skaitmuo: 9 variantai (1,3,5,7,9)} \\\\ \\text{Antras skaitmuo: 10 variantų} \\\\ \\text{Trečias skaitmuo: 5 variantai} \\end{cases}$"
      ],
      "text/plain": [
       "<IPython.core.display.Markdown object>"
      ]
     },
     "metadata": {},
     "output_type": "display_data"
    },
    {
     "data": {
      "text/markdown": [
       "**Užduotis 1b.**\n",
       "\n",
       "Kokiu skaitmeniu baigiasi sandauga 318 dauginamųjų, kurių kiekvienas lygus 3? (1 tšk.)\n",
       "\n",
       "**Sprendimas.**\n",
       "* Skaitmenys, kurie pasirodo pabaigoje dauginant: $3, 9, 7, 1, 3, 9, 7, 1, 3, 9, 7, 1, 3\\dots$\n",
       "* Reikia pastebėti, kad skaitmenys kartojasi kas 4\n",
       "* 318 duoda liekaną 2 dalijant iš 4, todėl 318 dauginamųjų sandaugos paskutinis skaitmuo bus toks pats, kaip ir 2 dauginamųjų sandaugos: $\\boxed{9}$"
      ],
      "text/plain": [
       "<IPython.core.display.Markdown object>"
      ]
     },
     "metadata": {},
     "output_type": "display_data"
    },
    {
     "data": {
      "text/markdown": [
       "**Užduotis 1c.**\n",
       "\n",
       "Kokį dviženklį skaičių reikia pridėti prie $10^{2017}$, kad gautasis skaičius dalintųsi iš 90? (1 tšk.)\n",
       "\n",
       "**Sprendimas.**\n",
       "* $\\overline{1000\\dots 000ab}$ dalijasi 90, tada ir tik tada, kai dalijasi iš 9 ir 10\n",
       "* Kad dalintųsi iš 10, reikia, kad $b$ būtų lygus 0\n",
       "* Kad dalintųsi iš 9, reikia, kad skaitmenų suma dalintųsi iš 9. Yra tik vienas toks atvejis: $\\overline{ab}=80$"
      ],
      "text/plain": [
       "<IPython.core.display.Markdown object>"
      ]
     },
     "metadata": {},
     "output_type": "display_data"
    },
    {
     "data": {
      "text/markdown": [
       "**Užduotis 1d.**\n",
       "\n",
       "Kiek kartų padidės sandauga $ab$, jeigu dauginamąjį $a$ padidinsime 250%, o dauginamajį $b$ sumažinsime 40%? (1 tšk.)\n",
       "\n",
       "**Sprendimas.**\n",
       "* Skaičius $a$, padidintas 250% lygu 350% skaičiaus $a$ = $3.5a$\n",
       "* Skaičius $a$, sumažintas 40% lygu 60% skaičiaus $b$ = $0.6b$\n",
       "* $3.5a\\times 0.6b = 2.1ab$, vadinasi $ab$ padidės $2.1$ karto"
      ],
      "text/plain": [
       "<IPython.core.display.Markdown object>"
      ]
     },
     "metadata": {},
     "output_type": "display_data"
    },
    {
     "data": {
      "text/markdown": [
       "**Užduotis 2.**\n",
       "\n",
       "Jonas išlanksto lėktuvėlį per 3 minutes, o Zigmas tokį pat lėktuvėlį išlanksto per 4 minutes. Per kiek laiko Jonas ir Zigmas išlankstytų 14 lėktuvėlių, jei dirbtų kartu? (3tšk.)\n",
       "\n",
       "**Sprendimas.**\n",
       "* Per minutę Jonas išlanksto $\\displaystyle\\frac{1}{3}$ lėktuvėlio, o Zigmas $\\displaystyle\\frac{1}{4}$\n",
       "* Jie abu per minutę išlanksto $\\displaystyle\\frac{1}{3} + \\frac{1}{4} = \\frac{7}{12}$ lėktuvėlio\n",
       "* Jiems abiems lėktuvėlį užtrunka sulankstyti $\\displaystyle\\frac{12}{7}$ minutės\n",
       "* 14 lėktuvėlių sulankstyti užtrunka $14\\times\\displaystyle\\frac{12}{7}=24$ minutes"
      ],
      "text/plain": [
       "<IPython.core.display.Markdown object>"
      ]
     },
     "metadata": {},
     "output_type": "display_data"
    },
    {
     "data": {
      "text/markdown": [
       "**Užduotis 3a.**\n",
       "\n",
       "Suprastinkite reiškinį $\\displaystyle\\frac{1}{2}xy^{2}\\cdot (-2x^2y)^{8}$ (2tšk.)\n",
       "\n",
       "**Sprendimas.**\n",
       "* $\\displaystyle\\frac{1}{2}xy^2\\cdot (-2x^2y)^8 = 2^{-1}xy^2 \\cdot 2^8x^{16}y^8 = 2^7x^{17}y^{10}=128x^{17}y^{10}$"
      ],
      "text/plain": [
       "<IPython.core.display.Markdown object>"
      ]
     },
     "metadata": {},
     "output_type": "display_data"
    },
    {
     "data": {
      "text/markdown": [
       "**Užduotis 3b.**\n",
       "\n",
       "Suprastinkite reiškinį $\\displaystyle\\frac{n\\cdot 2^{1+n}}{2^{3-n}}$, kur $n$ - sveikasis skaičius (2tšk.)\n",
       "\n",
       "**Sprendimas.**\n",
       "* $\\displaystyle \\frac{n\\cdot 2^{1+n}}{2^{3-n}} = \\frac{n\\cdot 2\\cdot 2^n}{2^3\\cdot2^{-n}}= \\frac{n\\cdot 2^n \\cdot 2^n}{4} = \\frac{n\\cdot 2^{2n}}{4} = \\frac{n\\cdot 4^n}{4} = n\\cdot 4^{n-1}$"
      ],
      "text/plain": [
       "<IPython.core.display.Markdown object>"
      ]
     },
     "metadata": {},
     "output_type": "display_data"
    },
    {
     "data": {
      "text/markdown": [
       "**Užduotis 3c.**\n",
       "\n",
       "Suprastinkite reiškinį $(3x-2y)^2 - (y+3x)(3x-y)$ [2tšk.]\n",
       "\n",
       "**Sprendimas.**\n",
       "* $(3x-2y)^2 - (y+3x)(3x-y) = 9x^2-12xy+4y^2 - (9x^2 - y^2) = 9x^2-12xy+4y^2 - 9x^2 + y^2 = 5y^2-12xy$"
      ],
      "text/plain": [
       "<IPython.core.display.Markdown object>"
      ]
     },
     "metadata": {},
     "output_type": "display_data"
    },
    {
     "data": {
      "text/markdown": [
       "**Užduotis 4a.**\n",
       "\n",
       "Lygiašonės trapecijos $ABCD$ trumpesnysis pagrindas $BC$ lygus šoninėms kraštinėms. Trapecijos perimetras lygus 124 cm, o pagrindų ilgiai sutinka santykiu 13:23. Parodykite, kad trumpesnysis trapecijos pagrindas lygus 26cm. [1tšk.]\n",
       "\n",
       "**Sprendimas.**\n",
       "* Tegu šie pagrindai lygūs 13x ir 23x.\n",
       "* Sudarome lygtį, aprašančią trapecijos perimetrą: $13x+13x+13x+23x=124$\n",
       "* $\\boxed{13x+13x+13x+23x=124} \\Rightarrow \\boxed{62x=124} \\Rightarrow \\boxed{x=2}$\n",
       "* Trumpesnysis trapecijos pagrindas: 13x=26(cm)"
      ],
      "text/plain": [
       "<IPython.core.display.Markdown object>"
      ]
     },
     "metadata": {},
     "output_type": "display_data"
    },
    {
     "data": {
      "text/markdown": [
       "**Užduotis 4b.**\n",
       "\n",
       "Lygiašonės trapecijos $ABCD$ trumpesnysis pagrindas $BC$ yra tokio paties ilgio kaip šoninės kraštinės ir lygus 26 cm. Trapecijos pagrindų ilgiai sutinka santykiu 13:23. Raskite šios trapecijos plotą. [3tšk.]\n",
       "\n",
       "**Sprendimas.**\n",
       "* BRĖŽINYS: ![](licejus\\lic2017_4b.PNG)\n",
       "* Sudarome proporciją ir nustatome likusią kraštinę: $\\boxed{\\begin{array}{rcl}26 cm &-& 13\\\\ x cm &-& 23\\end{array}} \\Rightarrow 13x=26\\cdot 23 \\Rightarrow x=2\\cdot 23 = 46$\n",
       "* Įbrėžiame į trapeciją lygiagretainį $ABCE$. $AB=CE=CD$, vadinasi $\\angle FEC = \\angle CDF$. Aukštinė dalija $ED$ pusiau.\n",
       "* $FD = \\frac{AD-AE}{2} = \\frac{AD-BC}{2}=\\frac{46-26}{2}=10 \\text{(cm)}$\n",
       "* Pagal Pitagoro teoremą $\\boxed{FD^2+CF^2 = CD^2} \\Rightarrow CF = \\sqrt{CD^2-FD^2} = \\sqrt{26^2-10^2} = 12$\n",
       "* Trapecijos plotas: $CF \\cdot \\frac{BC+AD}{2} = 10 \\cdot \\frac{26+46}{2} = 360 \\text{ (cm}^2)$"
      ],
      "text/plain": [
       "<IPython.core.display.Markdown object>"
      ]
     },
     "metadata": {},
     "output_type": "display_data"
    },
    {
     "data": {
      "text/markdown": [
       "**Užduotis 6.**\n",
       "\n",
       "Žinoma, kad merginos sudarė daugiau nei 20%, bet mažiau nei 25% visų ekskursijos dalyvių skaičiaus. Raskite mažiausią galimą šios ekskursijos dalyvių skaičių [3tšk.]\n",
       "\n",
       "**Sprendimas.**\n",
       "* Tarkime, kad ekskursijoje yra $n$ dalyvių, dalis jų merginos, dalis vaikinai\n",
       "* Tuomet merginų gali būti $1/n$, $2/n$, ..., $(n-1)/n$ visų dalyvių skaičiaus\n",
       "* 20%= 0.2, 25%=0.25\n",
       "* Iš eilės perrinkus visas $n$ reikšmes nuo 1 iki 9 matome, kad tik su $n=9$ gauname išdėstymą, turintį reikšmę tarp $0.2$ ir $0.25$\n",
       "* Šis išdėstymas yra $1/9, 2/9, 3/9, ...$, į intervalą $(0.2, 0.25)$ pakliuvusi reikšmė yra $2/9$. Vadinasi, gali būti mažiausiai 9 ekskursijos dalyviai."
      ],
      "text/plain": [
       "<IPython.core.display.Markdown object>"
      ]
     },
     "metadata": {},
     "output_type": "display_data"
    }
   ],
   "source": [
    "for dir, id in problems: display(Markdown(show_problem(dir, id, show_solution=True).replace('Užduotis', 'Užduotis '+id)))"
   ]
  },
  {
   "cell_type": "markdown",
   "metadata": {},
   "source": [
    "# Uždavinio dalių sprendimai"
   ]
  },
  {
   "cell_type": "code",
   "execution_count": 13,
   "metadata": {},
   "outputs": [
    {
     "data": {
      "text/markdown": [
       "**Užduotis 1a.**\n",
       "\n",
       "Kiek yra skirtingų triženklių skaičių, kurių vienetų skaitmuo nelyginis? (1 tšk.)"
      ],
      "text/plain": [
       "<IPython.core.display.Markdown object>"
      ]
     },
     "metadata": {},
     "output_type": "display_data"
    },
    {
     "data": {
      "text/markdown": [
       "**Užduotis 1b.**\n",
       "\n",
       "Kokiu skaitmeniu baigiasi sandauga 318 dauginamųjų, kurių kiekvienas lygus 3? (1 tšk.)"
      ],
      "text/plain": [
       "<IPython.core.display.Markdown object>"
      ]
     },
     "metadata": {},
     "output_type": "display_data"
    },
    {
     "data": {
      "text/markdown": [
       "**Užduotis 1c.**\n",
       "\n",
       "Kokį dviženklį skaičių reikia pridėti prie $10^{2017}$, kad gautasis skaičius dalintųsi iš 90? (1 tšk.)"
      ],
      "text/plain": [
       "<IPython.core.display.Markdown object>"
      ]
     },
     "metadata": {},
     "output_type": "display_data"
    },
    {
     "data": {
      "text/markdown": [
       "**Užduotis 1d.**\n",
       "\n",
       "Kiek kartų padidės sandauga $ab$, jeigu dauginamąjį $a$ padidinsime 250%, o dauginamajį $b$ sumažinsime 40%? (1 tšk.)"
      ],
      "text/plain": [
       "<IPython.core.display.Markdown object>"
      ]
     },
     "metadata": {},
     "output_type": "display_data"
    },
    {
     "data": {
      "text/markdown": [
       "**Uždavinio dalis 1 iš 2, kurioje yra $\\mathbb{Z}$ ir $\\mathbb{Q}$ operacijos.**\n",
       "\n",
       "Jonas išlanksto lėktuvėlį per 3 minutes, o Zigmas tokį pat lėktuvėlį išlanksto per 4 minutes. Kurią dalį lėktuvėlio išlankstys per minutę kiekvienas atskirai ir kurią dirbdami kartu?\n",
       "\n",
       "**Sprendimas.**\n",
       "\n",
       "Jonas - $\\displaystyle\\frac{1}{3}$ lėktuvėlio, Zigmas - $\\displaystyle\\frac{1}{4}$, abu - $\\displaystyle\\frac{1}{3}+\\frac{1}{4}=\\frac{7}{12}$"
      ],
      "text/plain": [
       "<IPython.core.display.Markdown object>"
      ]
     },
     "metadata": {},
     "output_type": "display_data"
    },
    {
     "data": {
      "text/markdown": [
       "**Uždavinio dalis 2 iš 2, kurioje yra $\\mathbb{Z}$ ir $\\mathbb{Q}$ operacijos.**\n",
       "\n",
       "Jonas ir Zigmas dirbdami kartu per minutę išlanksto $\\displaystyle\\frac{7}{12}$ lėktuvėlio. Kiek laiko jie užtrunka, kol išlanksto vieną lėktuvėlį?\n",
       "\n",
       "**Sprendimas.**\n",
       "\n",
       "$\\displaystyle\\frac{12}{7}$"
      ],
      "text/plain": [
       "<IPython.core.display.Markdown object>"
      ]
     },
     "metadata": {},
     "output_type": "display_data"
    },
    {
     "data": {
      "text/markdown": [
       "**Uždavinio dalis 3 iš 2, kurioje yra $\\mathbb{Z}$ ir $\\mathbb{Q}$ operacijos.**\n",
       "\n",
       "Vieną lėktuvėlį užtrunka išlankstyti vidutiniškai $\\displaystyle\\frac{12}{7}$ minutės. Kiek laiko užtruks išlankstyti 14 lėktuvėlių?\n",
       "\n",
       "**Sprendimas.**\n",
       "\n",
       "$14\\times \\displaystyle\\frac{12}{7} = 24$"
      ],
      "text/plain": [
       "<IPython.core.display.Markdown object>"
      ]
     },
     "metadata": {},
     "output_type": "display_data"
    },
    {
     "data": {
      "text/markdown": [
       "**Uždavinio dalis 1 iš 3a, kurioje yra Laipsnių taikymas reiškiniuose.**\n",
       "\n",
       "$(-2x^2y)^8 = ?$\n",
       "\n",
       "**Sprendimas.**\n",
       "\n",
       "$(-2x^2y)^8 = 2^8x^{16}y^8=256x^{16}y^8$"
      ],
      "text/plain": [
       "<IPython.core.display.Markdown object>"
      ]
     },
     "metadata": {},
     "output_type": "display_data"
    },
    {
     "data": {
      "text/markdown": [
       "**Uždavinio dalis 2 iš 3a, kurioje yra Laipsnių taikymas reiškiniuose.**\n",
       "\n",
       "$2^{-1}xy^2 \\cdot 2^8x^{16}y^8=?$\n",
       "\n",
       "**Sprendimas.**\n",
       "\n",
       "$2^{-1}xy^2 \\cdot 2^8x^{16}y^8 = 2^7x^{17}y^{10}=128x^{17}y^{10}$"
      ],
      "text/plain": [
       "<IPython.core.display.Markdown object>"
      ]
     },
     "metadata": {},
     "output_type": "display_data"
    },
    {
     "data": {
      "text/markdown": [
       "**Uždavinio dalis 1 iš 3b, kurioje yra Laipsnių taikymas reiškiniuose.**\n",
       "\n",
       "Reiškinius $2^{1+n}$ ir $2^{3-n}$ pakeiskite į dviejų laipsnių sandaugas taip, kad tų laipsnių rodikliuose liktų tik po vieną narį\n",
       "\n",
       "**Sprendimas.**\n",
       "\n",
       "$2^{1+n} = 2\\cdot 2^n$ ir $2^3\\cdot 2^{-n}$"
      ],
      "text/plain": [
       "<IPython.core.display.Markdown object>"
      ]
     },
     "metadata": {},
     "output_type": "display_data"
    },
    {
     "data": {
      "text/markdown": [
       "**Uždavinio dalis 2 iš 3b, kurioje yra Laipsnių taikymas reiškiniuose.**\n",
       "\n",
       "Supratinkite reiškinį $\\displaystyle\\frac{2^n}{2^{-n}}$ užrašydami jį kaip ketverto laipsnį\n",
       "\n",
       "**Sprendimas.**\n",
       "\n",
       "$\\displaystyle\\frac{2^n}{2^{-n}} = 2^n \\cdot 2^n = 2^{2n} = \\left(2^2\\right)^n = 4^n$"
      ],
      "text/plain": [
       "<IPython.core.display.Markdown object>"
      ]
     },
     "metadata": {},
     "output_type": "display_data"
    },
    {
     "data": {
      "text/markdown": [
       "**Uždavinio dalis 1 iš 3c, kurioje yra Vienanarių ir daugianarių operacijos.**\n",
       "\n",
       "Atskliauskite reiškinius $(3x-2y)^2$ ir $(y+3x)(3x-y)$\n",
       "\n",
       "**Sprendimas.**\n",
       "\n",
       "$9x^2-12xy+4y^2$ ir $9x^2 - y^2$"
      ],
      "text/plain": [
       "<IPython.core.display.Markdown object>"
      ]
     },
     "metadata": {},
     "output_type": "display_data"
    },
    {
     "data": {
      "text/markdown": [
       "**Uždavinio dalis 2 iš 3c, kurioje yra Vienanarių ir daugianarių operacijos.**\n",
       "\n",
       "Atimkite reiškinį $9x^2 - y^2$ iš reiškinio $9x^2-12xy+4y^2$\n",
       "\n",
       "**Sprendimas.**\n",
       "\n",
       "$9x^2-12xy+4y^2 - (9x^2 - y^2) = 9x^2-12xy+4y^2 - 9x^2 + y^2 = 5y^2-12xy$"
      ],
      "text/plain": [
       "<IPython.core.display.Markdown object>"
      ]
     },
     "metadata": {},
     "output_type": "display_data"
    },
    {
     "data": {
      "text/markdown": [
       "**Užduotis 4a.**\n",
       "\n",
       "Lygiašonės trapecijos $ABCD$ trumpesnysis pagrindas $BC$ lygus šoninėms kraštinėms. Trapecijos perimetras lygus 124 cm, o pagrindų ilgiai sutinka santykiu 13:23. Parodykite, kad trumpesnysis trapecijos pagrindas lygus 26cm. [1tšk.]"
      ],
      "text/plain": [
       "<IPython.core.display.Markdown object>"
      ]
     },
     "metadata": {},
     "output_type": "display_data"
    },
    {
     "data": {
      "text/markdown": [
       "**Uždavinio dalis 1 iš 4b, kurioje yra Trikampių savybės.**\n",
       "\n",
       "![](licejus\\lic2017_4b_step1.PNG)\n",
       "\n",
       "**Sprendimas.**\n",
       "\n",
       "Įbrėžiame į trapeciją lygiagretainį $ABCE$. $AB=CE=CD$, vadinasi $\\angle FEC = \\angle CDF$. Aukštinė dalija $ED$ pusiau."
      ],
      "text/plain": [
       "<IPython.core.display.Markdown object>"
      ]
     },
     "metadata": {},
     "output_type": "display_data"
    },
    {
     "data": {
      "text/markdown": [
       "**Uždavinio dalis 2 iš 4b, kurioje yra Pitagoro teorema.**\n",
       "\n",
       "Stačiojo trikampio įžambinės ilgis lygus 26 cm, o vieno statinio ilgis lygus 10 cm. Raskite kito statinio ilgį\n",
       "\n",
       "**Sprendimas.**\n",
       "\n",
       "Pagal Pitagoro teoremą $\\boxed{FD^2+CF^2 = CD^2} \\Rightarrow CF = \\sqrt{CD^2-FD^2} = \\sqrt{26^2-10^2} = 12$"
      ],
      "text/plain": [
       "<IPython.core.display.Markdown object>"
      ]
     },
     "metadata": {},
     "output_type": "display_data"
    },
    {
     "data": {
      "text/markdown": [
       "**Uždavinio dalis 3 iš 4b, kurioje yra Keturkampių savybės.**\n",
       "\n",
       "Trapecijos pagrindų ilgiai lygūs 26cm ir 46cm, o aukštinės ilgis yra 10cm. Raskite šios trapecijos plotą\n",
       "\n",
       "**Sprendimas.**\n",
       "\n",
       "$CF \\cdot \\frac{BC+AD}{2} = 10 \\cdot \\frac{26+46}{2} = 360 \\text{ (cm}^2)$"
      ],
      "text/plain": [
       "<IPython.core.display.Markdown object>"
      ]
     },
     "metadata": {},
     "output_type": "display_data"
    },
    {
     "data": {
      "text/markdown": [
       "**Uždavinio dalis 1 iš 6, kurioje yra Lygčių ir nelygybių sudarymas.**\n",
       "\n",
       "Tarkime, kad ekskursijoje yra $9$ dalyviai, dalis jų merginos, dalis vaikinai. Raskite visus galimus variantus, kurią dalį ekskursijos dalyvių gali sudaryti merginos.\n",
       "\n",
       "**Sprendimas.**\n",
       "\n",
       "$1/9, 2/9, 3/9, 4/9, 5/9, 6/9, 7/9, 8/9$"
      ],
      "text/plain": [
       "<IPython.core.display.Markdown object>"
      ]
     },
     "metadata": {},
     "output_type": "display_data"
    },
    {
     "data": {
      "text/markdown": [
       "**Uždavinio dalis 2 iš 6, kurioje yra Procentai.**\n",
       "\n",
       "Duoti skaičiai: $1/9, 2/9, 3/9, 4/9, 5/9, 6/9, 7/9, 8/9$. Ar tarp jų yra reikšmė, esanti tarp $20\\%$ ir $25\\%$?\n",
       "\n",
       "**Sprendimas.**\n",
       "\n",
       "Taip, yra: $2/9$. Apytikslė šios skaičiaus reikšmė: $2/9=0.2222 = 22.22\\%$"
      ],
      "text/plain": [
       "<IPython.core.display.Markdown object>"
      ]
     },
     "metadata": {},
     "output_type": "display_data"
    },
    {
     "data": {
      "text/markdown": [
       "**Uždavinio dalis 3 iš 6, kurioje yra Procentai.**\n",
       "\n",
       "Žinoma, kad sekoje $\\{1/9, 2/9, 3/9, 4/9, 5/9, 6/9, 7/9, 8/9\\}$ narys $2/9$ yra tarp $20\\%$ ir $25\\%$. Ar egzistuoja skaičius, turintis natūralųjį vardiklį, mažesnį už 9 ir esantis tarp $20\\%$ ir $25\\%$\n",
       "\n",
       "**Sprendimas.**\n",
       "\n",
       "Neegzistuoja. Jei norisi, galima parodyti, kokių sekų variantus perrinkome: \n",
       "\n",
       " $\\{1/2\\}$, \n",
       "\n",
       " $\\{1/3, 2/3\\}$, \n",
       "\n",
       " $\\{1/4, 2/4, 3/4\\}$, \n",
       "\n",
       " $\\{1/5, 2/5, 3/5, 4/5\\}$, \n",
       "\n",
       " $\\{1/6, 2/6, 3/6, 4/6, 5/6\\}$, \n",
       "\n",
       " $\\{1/7, 2/7, 3/7, 4/7, 5/7, 6/7\\}$, \n",
       "\n",
       " $\\{1/8, 2/8, 3/8, 4/8, 5/8, 6/8, 7/8\\}$"
      ],
      "text/plain": [
       "<IPython.core.display.Markdown object>"
      ]
     },
     "metadata": {},
     "output_type": "display_data"
    }
   ],
   "source": [
    "for dir, id in problems: \n",
    "    skills = check_skills(dir, id)\n",
    "    for which in range(1, len(skills)+1):\n",
    "        if len(skills)!=1: display(Markdown(show_case(dir, id, which=which, show_solution=True).replace(', kurioje yra', f' iš {id}, kurioje yra')))\n",
    "        else: display(Markdown(show_problem(dir, id, show_solution=False).replace('Užduotis', 'Užduotis '+id)))"
   ]
  },
  {
   "cell_type": "markdown",
   "metadata": {},
   "source": [
    "# Stojamojo originalas\n",
    "Per susitikimą aptarėme tik 5 stojamojo užduotis iš 7. Nespėjome išnagrinėti 5 ir 7 uždavinių (jas nagrinėsim kitą pamoką). Čia pateikiamas stojamojo originalas."
   ]
  },
  {
   "cell_type": "code",
   "execution_count": 16,
   "metadata": {},
   "outputs": [
    {
     "data": {
      "text/markdown": [
       "\n",
       "### licejus/2017\n",
       "1a\\. Kiek yra skirtingų triženklių skaičių, kurių vienetų skaitmuo nelyginis? (1 tšk.)\n",
       "\n",
       "1b\\. Kokiu skaitmeniu baigiasi sandauga 318 dauginamųjų, kurių kiekvienas lygus 3? (1 tšk.)\n",
       "\n",
       "1c\\. Kokį dviženklį skaičių reikia pridėti prie $10^{2017}$, kad gautasis skaičius dalintųsi iš 90? (1 tšk.)\n",
       "\n",
       "1d\\. Kiek kartų padidės sandauga $ab$, jeigu dauginamąjį $a$ padidinsime 250%, o dauginamajį $b$ sumažinsime 40%? (1 tšk.)\n",
       "\n",
       "2\\. Jonas išlanksto lėktuvėlį per 3 minutes, o Zigmas tokį pat lėktuvėlį išlanksto per 4 minutes. Per kiek laiko Jonas ir Zigmas išlankstytų 14 lėktuvėlių, jei dirbtų kartu? (3tšk.)\n",
       "\n",
       "3a\\. Suprastinkite reiškinį $\\displaystyle\\frac{1}{2}xy^{2}\\cdot (-2x^2y)^{8}$ (2tšk.)\n",
       "\n",
       "3b\\. Suprastinkite reiškinį $\\displaystyle\\frac{n\\cdot 2^{1+n}}{2^{3-n}}$, kur $n$ - sveikasis skaičius (2tšk.)\n",
       "\n",
       "3c\\. Suprastinkite reiškinį $(3x-2y)^2 - (y+3x)(3x-y)$ [2tšk.]\n",
       "\n",
       "4a\\. Lygiašonės trapecijos $ABCD$ trumpesnysis pagrindas $BC$ lygus šoninėms kraštinėms. Trapecijos perimetras lygus 124 cm, o pagrindų ilgiai sutinka santykiu 13:23. Parodykite, kad trumpesnysis trapecijos pagrindas lygus 26cm. [1tšk.]\n",
       "\n",
       "4b\\. Lygiašonės trapecijos $ABCD$ trumpesnysis pagrindas $BC$ yra tokio paties ilgio kaip šoninės kraštinės ir lygus 26 cm. Trapecijos pagrindų ilgiai sutinka santykiu 13:23. Raskite šios trapecijos plotą. [3tšk.]\n",
       "\n",
       "5\\. Važiuodamas pastoviu greičiu Saulius per 15min nuvažiuoja 2 kilometrais mažiau, nei trečdalį kelio iki namų, o per 45min. - 3 kilometrais daugiau, nei pusę to paties atstumo. Apskaičiuokite Sauliaus važiavimo greitį (kilometrais per valandą) ir atstumą ligi namų [4tšk.]\n",
       "\n",
       "6\\. Žinoma, kad merginos sudarė daugiau nei 20%, bet mažiau nei 25% visų ekskursijos dalyvių skaičiaus. Raskite mažiausią galimą šios ekskursijos dalyvių skaičių [3tšk.]\n",
       "\n",
       "7a\\. Taškas $P$ yra stačiakampio $ABCD$ $(AB<BC)$ kraštinės $BC$ taškas, $AP$ - kampo $BAD$ pusiaukampinė. Žinoma, kad $PO$ yra statmena stačiakampio įstrižainei $AC$ ir taškas $O$ dalija šią įstrižainę pusiau. Apskaičiuokite kampo $CAD$ didumą [4tšk.]\n",
       "\n",
       "7b\\. Taškas $P$ yra stačiakampio $ABCD$ $(AB<BC)$ kraštinės $BC$ taškas, $AP$ - kampo $BAD$ pusiaukampinė. Žinoma, kad $PO$ yra statmena stačiakampio įstrižainei $AC$ ir taškas $O$ dalija šią įstrižainę pusiau. Užrašykite formulę, kuria remiantis būtų galima apskaičiuoti trikampio $APO$ plotą, kai žinomos stačiakampio kraštinės $AB = a$ ir $BC = b$ [2tšk.]\n",
       "\n"
      ],
      "text/plain": [
       "<IPython.core.display.Markdown object>"
      ]
     },
     "metadata": {},
     "output_type": "display_data"
    }
   ],
   "source": [
    "display(Markdown(make_some_bank('licejus/2017')))"
   ]
  },
  {
   "cell_type": "markdown",
   "metadata": {},
   "source": [
    "### Papildomi komentarai\n",
    "* Visą informaciją šio testo rezultatus galima rasti [nuorodoje](rezultatai1.ipynb). Jeigu nuoroda neatsidaro, reikia eiti į https://nbviewer.jupyter.org, nukopijuoti nuorodos adresą į ten esantį laukelį ir paspausti Go!"
   ]
  }
 ],
 "metadata": {
  "kernelspec": {
   "display_name": "Python 3",
   "language": "python",
   "name": "python3"
  },
  "language_info": {
   "codemirror_mode": {
    "name": "ipython",
    "version": 3
   },
   "file_extension": ".py",
   "mimetype": "text/x-python",
   "name": "python",
   "nbconvert_exporter": "python",
   "pygments_lexer": "ipython3",
   "version": "3.8.3"
  }
 },
 "nbformat": 4,
 "nbformat_minor": 4
}
