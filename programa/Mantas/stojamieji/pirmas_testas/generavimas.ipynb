{
 "cells": [
  {
   "cell_type": "code",
   "execution_count": 1,
   "metadata": {},
   "outputs": [],
   "source": [
    "import json\n",
    "import os\n",
    "from IPython.display import display, Markdown\n",
    "\n",
    "def read_json(file):\n",
    "    with open(file, encoding='utf-8') as fh:\n",
    "        data = json.loads(fh.read())\n",
    "    return data\n",
    "\n",
    "def document_it(clusters, branches):\n",
    "    clusters = read_json(clusters)\n",
    "    branches = read_json(branches)\n",
    "    headings = dict(zip([clusters[n][0] for n in clusters], clusters))\n",
    "    docstring = ''\n",
    "    for branch in branches:\n",
    "        if branch in headings:\n",
    "            docstring += f'\\n### {headings[branch]}\\n\\n'\n",
    "        docstring += f'* **{branch}.** {branches[branch]}\\n'\n",
    "    return docstring\n",
    "\n",
    "def show_problem(complect, id, show_solution=True):\n",
    "    problem = read_json(f'{complect}.txt')[id]\n",
    "    step = '**Užduotis.**\\n\\n' + problem[\"Sąlyga\"]\n",
    "    if show_solution: step += ('\\n\\n**Sprendimas.**\\n' + '\\n'.join([f'* {n}' for n in problem[\"Sprendimas\"]]))\n",
    "    return step\n",
    "\n",
    "def show_case(complect, id, which=1, show_solution=True):\n",
    "    skills = read_json(f'{complect}.txt')[id][\"Gebėjimai\"][which-1]\n",
    "    step = '**Uždavinio dalis ' + f\"{which}, kurioje yra {skills['Gebėjimas']}\" + '.**\\n\\n' + skills['Atitikmuo']\n",
    "    if show_solution: step += ('\\n\\n**Sprendimas.**\\n\\n' + skills['Sprendimas'])\n",
    "    return step\n",
    "\n",
    "def check(name, problem_id, extension='.txt'):\n",
    "    display(Markdown(show_problem(name, problem_id, show_solution=True)))\n",
    "    problem = read_json(name + extension)\n",
    "    for i in range(len(problem[problem_id]['Gebėjimai'])): \n",
    "        display(Markdown('-'*100))\n",
    "        display(Markdown(show_case(name, problem_id, which=i+1, show_solution=True)))"
   ]
  },
  {
   "cell_type": "code",
   "execution_count": 2,
   "metadata": {},
   "outputs": [
    {
     "data": {
      "text/markdown": [
       "\n",
       "### Skaičiai ir skaičiavimai\n",
       "\n",
       "* **Dalumas.** Atpažinti ir naudoti natūraliuosius skaičius. Taikyti dalumo iš 2, 3, 5, 9 ir 10 požymius. Atpažinti pirminius ir sudėtinius skaičius. Sudėtinius skaičius skaidyti pirminiais dauginamaisiais. Taikyti sąvokas: dviejų skaičių (didžiausiasis) bendrasis daliklis ar (mažiausiasis) bendrasis kartotinis.\n",
       "* **$\\mathbb{Z}$ ir $\\mathbb{Q}$ operacijos.** Atlikti aritmetinius veiksmus su sveikaisiais ir trupmeniniais skaičiais. Taikyti šias sąvokas skaičiams: priešingas, atvirkštinis, lyginis (nelyginis), modulis. Taikyti pagrindinę proporcijos savybę\n",
       "* **Procentai.** Suvokti procento sąvoką. Rasti skaičių, kai žinomi jo procentai, rasti skaičiaus procentą.\n",
       "* **Šaknys ir laipsniai.** Taikyti žinias apie skaičiaus kėlimą sveikuoju laipsniu, kvadratinės ir kubinės šaknies traukimą. Atlikti nesudėtingus veiksmus su laipsniais.\n",
       "\n",
       "### Reiškiniai, lygtys, nelygybės\n",
       "\n",
       "* **Vienanarių ir daugianarių operacijos.** Atlikti vienanarių ir daugianarių sudėtį, atimtį ir daugybą.\n",
       "* **Laipsnių taikymas reiškiniuose.** Prastinant reiškinius taikyti veiksmų su laipsniais, kurių rodiklis sveikasis skaičius, savybes.\n",
       "* **Skaidymas dauginamaisiais.** Nesudėtingais atvejais skaidyti daugianarius daugikliais.\n",
       "* **Greitosios daugybos formulės.** Taikyti greitosios daugybos formules.\n",
       "* **Lygtys ir nelygybės.** Sudaryti ir spręsti tiesines lygtis, nelygybes. Taip pat nepilnąsias kvadratines lygtis. Jų sprendinius vaizduoti skaičių tiesėje.\n",
       "* **Lygčių ir nelygybių sudarymas.** Spręsti tekstinius uždavinius sudarant lygtis, nelygybes.\n",
       "\n",
       "### Geometrija\n",
       "\n",
       "* **Figūrų pažinimas.** Atpažinti, pavaizduoti, apibūdinti paprasčiausias geometrines figūras.\n",
       "* **Kampų rūšys.** Taikyti gretutinių, kryžminių kampų ir kampų, gautų dvi lygiagrečias tieses perkirtus trečiąja, savybes.\n",
       "* **Trikampių savybės.** Taikyti žinias apie trikampį, jo aukštines, pusiaukraštines, pusiaukampines. Taikyti lygiašonio ir lygiakraščio trikampio savybes, trikampių lygumo požymius. Skaičiuoti trikampio perimetrą ir plotą.\n",
       "* **Keturkampių savybės.** Taikyti keturkampių (kvadrato, stačiakampio, lygiagretainio, rombo, trapecijos) savybes ir skaičiuoti jų perimetrus bei plotus.\n",
       "* **Pitagoro teorema.** Taikyti Pitagoro ir jai atvirkštinę teoremas.\n",
       "* **Apskritimo ir skritulio savybės.** Taikyti žinias apie apskritimą ir skritulį. Skaičiuoti apskritimo ilgį ir skritulio plotą.\n",
       "* **Erdvės geometrija.** Paprastais atvejais apskaičiuoti kubo, stačiakampio gretasienio, taisyklingosios piramidės, ritinio ir kūgio elementus.\n",
       "\n",
       "### Kombinatorika\n",
       "\n",
       "* **Sudėties ir daugybos taisyklės.** Taikyti kombinatorines sudėties ir daugybos taisykles, sprendžiant paprastus uždavinius. (pvz. nustatyti, kiek yra palindrominių penkiaženklių skaičių).\n"
      ],
      "text/plain": [
       "<IPython.core.display.Markdown object>"
      ]
     },
     "metadata": {},
     "output_type": "display_data"
    }
   ],
   "source": [
    "display(Markdown(document_it(r'licejus\\clusters.txt', r'licejus\\branches.txt')))"
   ]
  },
  {
   "cell_type": "code",
   "execution_count": 3,
   "metadata": {},
   "outputs": [],
   "source": [
    "name = 'licejus/2017'\n",
    "fullname = name + '.txt'\n",
    "if os.path.basename(fullname) not in os.listdir(os.path.dirname(fullname)):\n",
    "    f=open(fullname, 'w')\n",
    "    f.write('{}')\n",
    "    f.close()\n",
    "content = read_json(fullname)"
   ]
  },
  {
   "cell_type": "code",
   "execution_count": 67,
   "metadata": {},
   "outputs": [],
   "source": [
    "problem_id = '4a'\n",
    "text = 'Lygiašonės trapecijos $ABCD$ trumpesnysis pagrindas $BC$ lygus šoninėms kraštinėms. Trapecijos perimetras lygus 124 cm, o pagrindų ilgiai sutinka santykiu 13:23. Parodykite, kad trumpesnysis trapecijos pagrindas lygus 26cm. [1tšk.]'\n",
    "solution = ['Tegu šie pagrindai lygūs 13x ir 23x.', \n",
    "            'Sudarome lygtį, aprašančią trapecijos perimetrą: $13x+13x+13x+23x=124$', \n",
    "            '$\\\\boxed{13x+13x+13x+23x=124} \\\\Rightarrow \\\\boxed{62x=124} \\\\Rightarrow \\\\boxed{x=2}$',\n",
    "           'Trumpesnysis trapecijos pagrindas: 13x=26(cm)']\n",
    "\n",
    "problem = {problem_id: {'Sąlyga': text, 'Gebėjimai': [dict()], 'Sprendimas': solution}}\n",
    "\n",
    "problem[problem_id]['Gebėjimai'][0]['Gebėjimas'] = 'Lygčių ir nelygybių sudarymas'\n",
    "problem[problem_id]['Gebėjimai'][0]['Atitikmuo'] = ''\n",
    "problem[problem_id]['Gebėjimai'][0]['Sprendimas'] = ''\n",
    "content.update(problem)\n",
    "\n",
    "with open(f\"{name}.txt\", \"w\", encoding='utf-8') as out_file:\n",
    "    json.dump(content, out_file, indent = 4, ensure_ascii=False)\n",
    "    \n",
    "#check(name, problem_id)"
   ]
  },
  {
   "cell_type": "code",
   "execution_count": 32,
   "metadata": {},
   "outputs": [],
   "source": [
    "problem_id = '4b'\n",
    "text = 'Lygiašonės trapecijos $ABCD$ trumpesnysis pagrindas $BC$ yra tokio paties ilgio kaip šoninės kraštinės ir lygus 26 cm. Trapecijos pagrindų ilgiai sutinka santykiu 13:23. Raskite šios trapecijos plotą. [3tšk.]'\n",
    "solution = [\"BRĖŽINYS: ![](licejus\\lic2017_4b.PNG)\",\n",
    "            'Sudarome proporciją ir nustatome likusią kraštinę: $\\\\boxed{\\\\begin{array}{rcl}26 cm &-& 13\\\\\\\\ x cm &-& 23\\\\end{array}} \\\\Rightarrow 13x=26\\\\cdot 23 \\\\Rightarrow x=2\\\\cdot 23 = 46$',\n",
    "            'Įbrėžiame į trapeciją lygiagretainį $ABCE$. $AB=CE=CD$, vadinasi $\\\\angle FEC = \\\\angle CDF$. Aukštinė dalija $ED$ pusiau.',\n",
    "            '$FD = \\\\frac{AD-AE}{2} = \\\\frac{AD-BC}{2}=\\\\frac{46-26}{2}=10 \\\\text{(cm)}$',\n",
    "            'Pagal Pitagoro teoremą $\\\\boxed{FD^2+CF^2 = CD^2} \\Rightarrow CF = \\\\sqrt{CD^2-FD^2} = \\\\sqrt{26^2-10^2} = 12$',\n",
    "            'Trapecijos plotas: $CF \\\\cdot \\\\frac{BC+AD}{2} = 10 \\\\cdot \\\\frac{26+46}{2} = 360 \\\\text{ (cm}^2)$']\n",
    "\n",
    "problem = {problem_id: {'Sąlyga': text, 'Gebėjimai': [dict(), dict(), dict()], 'Sprendimas': solution}}\n",
    "\n",
    "problem[problem_id]['Gebėjimai'][0]['Gebėjimas'] = 'Trikampių savybės'\n",
    "problem[problem_id]['Gebėjimai'][0]['Atitikmuo'] = '![](licejus\\lic2017_4b_step1.PNG)'\n",
    "problem[problem_id]['Gebėjimai'][0]['Sprendimas'] = 'Įbrėžiame į trapeciją lygiagretainį $ABCE$. $AB=CE=CD$, vadinasi $\\\\angle FEC = \\\\angle CDF$. Aukštinė dalija $ED$ pusiau.'\n",
    "problem[problem_id]['Gebėjimai'][1]['Gebėjimas'] = 'Pitagoro teorema'\n",
    "problem[problem_id]['Gebėjimai'][1]['Atitikmuo'] = 'Stačiojo trikampio įžambinės ilgis lygus 26 cm, o vieno statinio ilgis lygus 10 cm. Raskite kito statinio ilgį'\n",
    "problem[problem_id]['Gebėjimai'][1]['Sprendimas'] = 'Pagal Pitagoro teoremą $\\\\boxed{FD^2+CF^2 = CD^2} \\Rightarrow CF = \\\\sqrt{CD^2-FD^2} = \\\\sqrt{26^2-10^2} = 12$'\n",
    "problem[problem_id]['Gebėjimai'][2]['Gebėjimas'] = 'Keturkampių savybės'\n",
    "problem[problem_id]['Gebėjimai'][2]['Atitikmuo'] = 'Trapecijos pagrindų ilgiai lygūs 26cm ir 46cm, o aukštinės ilgis yra 10cm. Raskite šios trapecijos plotą'\n",
    "problem[problem_id]['Gebėjimai'][2]['Sprendimas'] = '$CF \\\\cdot \\\\frac{BC+AD}{2} = 10 \\\\cdot \\\\frac{26+46}{2} = 360 \\\\text{ (cm}^2)$'\n",
    "content.update(problem)\n",
    "\n",
    "with open(f\"{name}.txt\", \"w\", encoding='utf-8') as out_file:\n",
    "    json.dump(content, out_file, indent = 4, ensure_ascii=False)\n",
    "    \n",
    "#check(name, problem_id)"
   ]
  },
  {
   "cell_type": "code",
   "execution_count": 68,
   "metadata": {},
   "outputs": [],
   "source": [
    "problem_id = '5'\n",
    "text = 'Važiuodamas pastoviu greičiu Saulius per 15min nuvažiuoja 2 kilometrais mažiau, nei trečdalį kelio iki namų, o per 45min. - 3 kilometrais daugiau, nei pusę to paties atstumo. Apskaičiuokite Sauliaus važiavimo greitį (kilometrais per valandą) ir atstumą ligi namų [4tšk.]'\n",
    "solution = ['Tegu $x$ yra kilometrų kiekis, įveiktas per pilną kelionę', \n",
    "            'Sudarome proporciją jam rasti: $\\\\boxed{\\\\begin{array}{rcl} 15 &-& \\\\frac{x}{3}-2 \\\\\\\\ 45 &-& \\\\frac{x}{2}+3 \\\\end{array}}$',\n",
    "            'Taikome pagrindinę proporcijos savybę: $\\\\boxed{45\\\\left(\\\\frac{x}{3}-2\\\\right) = 15\\\\left(\\\\frac{x}{2}+3\\\\right)} \\\\Rightarrow \\\\boxed{3\\\\left(\\\\frac{x}{3}-2\\\\right) = \\\\frac{x}{2}+3} \\\\Rightarrow \\\\boxed{x - 6 = \\\\frac{x}{2}+3} \\\\Rightarrow \\\\boxed{\\\\frac{x}{2} = 9}\\\\Rightarrow \\\\boxed{x = 18}$',\n",
    "            'Į proporcijos pirmą eilutę įstatę gautą $x$ reikšmę turime, kad per 15min buvo įveikti 4 kilometrai',\n",
    "            'Vadinasi, greitis yra 16km/h, o atstumas 18km (greitį galime rasti pagal formulę $v=s\\t$ arba sudarius proporciją)']\n",
    "\n",
    "problem = {problem_id: {'Sąlyga': text, 'Gebėjimai': [dict(), dict(), dict(), dict()], 'Sprendimas': solution}}\n",
    "\n",
    "problem[problem_id]['Gebėjimai'][0]['Gebėjimas'] = 'Lygčių ir nelygybių sudarymas'\n",
    "problem[problem_id]['Gebėjimai'][0]['Atitikmuo'] = 'Važiuodamas pastoviu greičiu Saulius per 15min nuvažiuoja 2 kilometrais mažiau, nei trečdalį kelio iki namų, o per 45min. - 3 kilometrais daugiau, nei pusę to paties atstumo. Sudarykite proporciją, kuri leidžia rasti atstumą iki namų.'\n",
    "problem[problem_id]['Gebėjimai'][0]['Sprendimas'] = '$\\\\boxed{\\\\begin{array}{rcl} 15 &-& \\\\frac{x}{3}-2 \\\\\\\\ 45 &-& \\\\frac{x}{2}+3 \\\\end{array}}$'\n",
    "problem[problem_id]['Gebėjimai'][1]['Gebėjimas'] = '$\\\\mathbb{Z}$ ir $\\\\mathbb{Q}$ operacijos'\n",
    "problem[problem_id]['Gebėjimai'][1]['Atitikmuo'] = 'Užrašykite lygtį, gaunamą pritaikius pagrindinę proporcijos savybę proporcijai $\\\\boxed{\\\\begin{array}{rcl} 15 &-& \\\\frac{x}{3}-2 \\\\\\\\ 45 &-& \\\\frac{x}{2}+3 \\\\end{array}}$'\n",
    "problem[problem_id]['Gebėjimai'][1]['Sprendimas'] = '$\\\\boxed{45\\\\left(\\\\frac{x}{3}-2\\\\right) = 15\\\\left(\\\\frac{x}{2}+3\\\\right)}$'\n",
    "problem[problem_id]['Gebėjimai'][2]['Gebėjimas'] = 'Lygtys ir nelygybės'\n",
    "problem[problem_id]['Gebėjimai'][2]['Atitikmuo'] = 'Išspręskite lygtį $\\\\boxed{45\\\\left(\\\\frac{x}{3}-2\\\\right) = 15\\\\left(\\\\frac{x}{2}+3\\\\right)}$'\n",
    "problem[problem_id]['Gebėjimai'][2]['Sprendimas'] = '$\\\\boxed{45\\\\left(\\\\frac{x}{3}-2\\\\right) = 15\\\\left(\\\\frac{x}{2}+3\\\\right)} \\\\Rightarrow \\\\boxed{3\\\\left(\\\\frac{x}{3}-2\\\\right) = \\\\frac{x}{2}+3} \\\\Rightarrow \\\\boxed{x - 6 = \\\\frac{x}{2}+3} \\\\Rightarrow \\\\boxed{\\\\frac{x}{2} = 9}\\\\Rightarrow \\\\boxed{x = 18}$'\n",
    "problem[problem_id]['Gebėjimai'][3]['Gebėjimas'] = '$\\\\mathbb{Z}$ ir $\\\\mathbb{Q}$ operacijos'\n",
    "problem[problem_id]['Gebėjimai'][3]['Atitikmuo'] = 'Važiuodamas pastoviu greičiu Saulius per 15min įveikia 4 kilometrus. Raskite jo važiavimo greitį.'\n",
    "problem[problem_id]['Gebėjimai'][3]['Sprendimas'] = '$v=s/t$ = 4km / 15min = 4km/0.25h = 16km/h'\n",
    "content.update(problem)\n",
    "\n",
    "with open(f\"{name}.txt\", \"w\", encoding='utf-8') as out_file:\n",
    "    json.dump(content, out_file, indent = 4, ensure_ascii=False)\n",
    "    \n",
    "#check(name, problem_id)"
   ]
  },
  {
   "cell_type": "code",
   "execution_count": 69,
   "metadata": {},
   "outputs": [],
   "source": [
    "problem_id = '6'\n",
    "text = 'Žinoma, kad merginos sudarė daugiau nei 20%, bet mažiau nei 25% visų ekskursijos dalyvių skaičiaus. Raskite mažiausią galimą šios ekskursijos dalyvių skaičių [3tšk.]'\n",
    "solution = ['Tarkime, kad ekskursijoje yra $n$ dalyvių, dalis jų merginos, dalis vaikinai', \n",
    "            'Tuomet merginų gali būti $1/n$, $2/n$, ..., $(n-1)/n$ visų dalyvių skaičiaus',\n",
    "            '20%= 0.2, 25%=0.25',\n",
    "            'Iš eilės perrinkus visas $n$ reikšmes nuo 1 iki 9 matome, kad tik su $n=9$ gauname išdėstymą, turintį reikšmę tarp $0.2$ ir $0.25$',\n",
    "            'Šis išdėstymas yra $1/9, 2/9, 3/9, ...$, į intervalą $(0.2, 0.25)$ pakliuvusi reikšmė yra $2/9$. Vadinasi, gali būti mažiausiai 9 ekskursijos dalyviai.']\n",
    "\n",
    "problem = {problem_id: {'Sąlyga': text, 'Gebėjimai': [dict(), dict(), dict()], 'Sprendimas': solution}}\n",
    "\n",
    "problem[problem_id]['Gebėjimai'][0]['Gebėjimas'] = 'Lygčių ir nelygybių sudarymas'\n",
    "problem[problem_id]['Gebėjimai'][0]['Atitikmuo'] = 'Tarkime, kad ekskursijoje yra $9$ dalyviai, dalis jų merginos, dalis vaikinai. Raskite visus galimus variantus, kurią dalį ekskursijos dalyvių gali sudaryti merginos.'\n",
    "problem[problem_id]['Gebėjimai'][0]['Sprendimas'] = '$1/9, 2/9, 3/9, 4/9, 5/9, 6/9, 7/9, 8/9$'\n",
    "problem[problem_id]['Gebėjimai'][1]['Gebėjimas'] = 'Procentai'\n",
    "problem[problem_id]['Gebėjimai'][1]['Atitikmuo'] = 'Duoti skaičiai: $1/9, 2/9, 3/9, 4/9, 5/9, 6/9, 7/9, 8/9$. Ar tarp jų yra reikšmė, esanti tarp $20\\\\%$ ir $25\\\\%$?'\n",
    "problem[problem_id]['Gebėjimai'][1]['Sprendimas'] = 'Taip, yra: $2/9$. Apytikslė šios skaičiaus reikšmė: $2/9=0.2222 = 22.22\\\\%$'\n",
    "problem[problem_id]['Gebėjimai'][2]['Gebėjimas'] = 'Procentai'\n",
    "problem[problem_id]['Gebėjimai'][2]['Atitikmuo'] = 'Žinoma, kad sekoje $\\\\{1/9, 2/9, 3/9, 4/9, 5/9, 6/9, 7/9, 8/9\\\\}$ narys $2/9$ yra tarp $20\\\\%$ ir $25\\\\%$. Ar egzistuoja skaičius, turintis natūralųjį vardiklį, mažesnį už 9 ir esantis tarp $20\\\\%$ ir $25\\\\%$'\n",
    "problem[problem_id]['Gebėjimai'][2]['Sprendimas'] = 'Neegzistuoja. Jei norisi, galima parodyti, kokių sekų variantus perrinkome: \\n\\n $\\\\{1/2\\\\}$, \\n\\n $\\\\{1/3, 2/3\\\\}$, \\n\\n $\\\\{1/4, 2/4, 3/4\\\\}$, \\n\\n $\\\\{1/5, 2/5, 3/5, 4/5\\\\}$, \\n\\n $\\\\{1/6, 2/6, 3/6, 4/6, 5/6\\\\}$, \\n\\n $\\\\{1/7, 2/7, 3/7, 4/7, 5/7, 6/7\\\\}$, \\n\\n $\\\\{1/8, 2/8, 3/8, 4/8, 5/8, 6/8, 7/8\\\\}$'\n",
    "content.update(problem)\n",
    "\n",
    "with open(f\"{name}.txt\", \"w\", encoding='utf-8') as out_file:\n",
    "    json.dump(content, out_file, indent = 4, ensure_ascii=False)\n",
    "    \n",
    "#check(name, problem_id)"
   ]
  },
  {
   "cell_type": "code",
   "execution_count": 70,
   "metadata": {},
   "outputs": [
    {
     "ename": "SyntaxError",
     "evalue": "EOL while scanning string literal (<ipython-input-70-cdbf87ababc1>, line 2)",
     "output_type": "error",
     "traceback": [
      "\u001b[1;36m  File \u001b[1;32m\"<ipython-input-70-cdbf87ababc1>\"\u001b[1;36m, line \u001b[1;32m2\u001b[0m\n\u001b[1;33m    text = 'Taškas $P$ yra stačiakampio $ABCD$ $(AB<BC)$ kraštinės $BC$ taškas, $AP$ - kampo $BAD$ pusiaukampinė. Žinomas, kad $PO$ yra statmena stačiakampio įstrižainei $AC$ ir taškas $O$ dalija šią įstrižainę pusiau. Apskaičiuokite kampo $CAD$ didumą [4tšk.]\u001b[0m\n\u001b[1;37m                                                                                                                                                                                                                                                                    ^\u001b[0m\n\u001b[1;31mSyntaxError\u001b[0m\u001b[1;31m:\u001b[0m EOL while scanning string literal\n"
     ]
    }
   ],
   "source": [
    "problem_id = '7'\n",
    "text = 'Taškas $P$ yra stačiakampio $ABCD$ $(AB<BC)$ kraštinės $BC$ taškas, $AP$ - kampo $BAD$ pusiaukampinė. Žinomas, kad $PO$ yra statmena stačiakampio įstrižainei $AC$ ir taškas $O$ dalija šią įstrižainę pusiau. Apskaičiuokite kampo $CAD$ didumą [4tšk.]\n",
    "solution = ['blank.']\n",
    "\n",
    "problem = {problem_id: {'Sąlyga': text, 'Gebėjimai': [dict(), dict(), dict(), dict()], 'Sprendimas': solution}}\n",
    "\n",
    "problem[problem_id]['Gebėjimai'][0]['Gebėjimas'] = 'Lygčių ir nelygybių sudarymas'\n",
    "problem[problem_id]['Gebėjimai'][0]['Atitikmuo'] = 'Tarkime, kad ekskursijoje yra $9$ dalyviai, dalis jų merginos, dalis vaikinai. Raskite visus galimus variantus, kurią dalį ekskursijos dalyvių gali sudaryti merginos.'\n",
    "problem[problem_id]['Gebėjimai'][0]['Sprendimas'] = '$1/9, 2/9, 3/9, 4/9, 5/9, 6/9, 7/9, 8/9$'\n",
    "problem[problem_id]['Gebėjimai'][1]['Gebėjimas'] = 'Procentai'\n",
    "problem[problem_id]['Gebėjimai'][1]['Atitikmuo'] = 'Duoti skaičiai: $1/9, 2/9, 3/9, 4/9, 5/9, 6/9, 7/9, 8/9$. Ar tarp jų yra reikšmė, esanti tarp $20\\\\%$ ir $25\\\\%$?'\n",
    "problem[problem_id]['Gebėjimai'][1]['Sprendimas'] = 'Taip, yra: $2/9$. Apytikslė šios skaičiaus reikšmė: $2/9=0.2222 = 22.22\\\\%$'\n",
    "problem[problem_id]['Gebėjimai'][2]['Gebėjimas'] = 'Procentai'\n",
    "problem[problem_id]['Gebėjimai'][2]['Atitikmuo'] = 'Žinoma, kad sekoje $\\\\{1/9, 2/9, 3/9, 4/9, 5/9, 6/9, 7/9, 8/9\\\\}$ narys $2/9$ yra tarp $20\\\\%$ ir $25\\\\%$. Ar egzistuoja skaičius, turintis natūralųjį vardiklį, mažesnį už 9 ir esantis tarp $20\\\\%$ ir $25\\\\%$'\n",
    "problem[problem_id]['Gebėjimai'][2]['Sprendimas'] = 'Neegzistuoja. Jei norisi, galima parodyti, kokių sekų variantus perrinkome: \\n\\n $\\\\{1/2\\\\}$, \\n\\n $\\\\{1/3, 2/3\\\\}$, \\n\\n $\\\\{1/4, 2/4, 3/4\\\\}$, \\n\\n $\\\\{1/5, 2/5, 3/5, 4/5\\\\}$, \\n\\n $\\\\{1/6, 2/6, 3/6, 4/6, 5/6\\\\}$, \\n\\n $\\\\{1/7, 2/7, 3/7, 4/7, 5/7, 6/7\\\\}$, \\n\\n $\\\\{1/8, 2/8, 3/8, 4/8, 5/8, 6/8, 7/8\\\\}$'\n",
    "problem[problem_id]['Gebėjimai'][3]['Gebėjimas'] = 'Procentai'\n",
    "problem[problem_id]['Gebėjimai'][3]['Atitikmuo'] = 'Žinoma, kad sekoje $\\\\{1/9, 2/9, 3/9, 4/9, 5/9, 6/9, 7/9, 8/9\\\\}$ narys $2/9$ yra tarp $20\\\\%$ ir $25\\\\%$. Ar egzistuoja skaičius, turintis natūralųjį vardiklį, mažesnį už 9 ir esantis tarp $20\\\\%$ ir $25\\\\%$'\n",
    "problem[problem_id]['Gebėjimai'][3]['Sprendimas'] = 'Neegzistuoja. Jei norisi, galima parodyti, kokių sekų variantus perrinkome: \\n\\n $\\\\{1/2\\\\}$, \\n\\n $\\\\{1/3, 2/3\\\\}$, \\n\\n $\\\\{1/4, 2/4, 3/4\\\\}$, \\n\\n $\\\\{1/5, 2/5, 3/5, 4/5\\\\}$, \\n\\n $\\\\{1/6, 2/6, 3/6, 4/6, 5/6\\\\}$, \\n\\n $\\\\{1/7, 2/7, 3/7, 4/7, 5/7, 6/7\\\\}$, \\n\\n $\\\\{1/8, 2/8, 3/8, 4/8, 5/8, 6/8, 7/8\\\\}$'\n",
    "content.update(problem)\n",
    "\n",
    "with open(f\"{name}.txt\", \"w\", encoding='utf-8') as out_file:\n",
    "    json.dump(content, out_file, indent = 4, ensure_ascii=False)\n",
    "    \n",
    "check(name, problem_id)"
   ]
  },
  {
   "cell_type": "code",
   "execution_count": null,
   "metadata": {},
   "outputs": [],
   "source": []
  }
 ],
 "metadata": {
  "kernelspec": {
   "display_name": "Python 3",
   "language": "python",
   "name": "python3"
  },
  "language_info": {
   "codemirror_mode": {
    "name": "ipython",
    "version": 3
   },
   "file_extension": ".py",
   "mimetype": "text/x-python",
   "name": "python",
   "nbconvert_exporter": "python",
   "pygments_lexer": "ipython3",
   "version": "3.8.3"
  }
 },
 "nbformat": 4,
 "nbformat_minor": 4
}
