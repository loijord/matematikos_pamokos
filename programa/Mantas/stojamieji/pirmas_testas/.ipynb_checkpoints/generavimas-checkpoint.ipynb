{
 "cells": [
  {
   "cell_type": "code",
   "execution_count": 1,
   "metadata": {},
   "outputs": [],
   "source": [
    "import json\n",
    "import os\n",
    "from IPython.display import display, Markdown\n",
    "\n",
    "def read_json(file):\n",
    "    with open(file, encoding='utf-8') as fh:\n",
    "        data = json.loads(fh.read())\n",
    "    return data\n",
    "\n",
    "def document_it(clusters, branches):\n",
    "    clusters = read_json(clusters)\n",
    "    branches = read_json(branches)\n",
    "    headings = dict(zip([clusters[n][0] for n in clusters], clusters))\n",
    "    docstring = ''\n",
    "    for branch in branches:\n",
    "        if branch in headings:\n",
    "            docstring += f'\\n### {headings[branch]}\\n\\n'\n",
    "        docstring += f'* **{branch}.** {branches[branch]}\\n'\n",
    "    return docstring\n",
    "\n",
    "def show_problem(complect, id, show_solution=True):\n",
    "    problem = read_json(f'{complect}.txt')[id]\n",
    "    step = '**Užduotis.**\\n\\n' + problem[\"Sąlyga\"]\n",
    "    if show_solution: step += ('\\n\\n**Sprendimas.**\\n' + '\\n'.join([f'* {n}' for n in problem[\"Sprendimas\"]]))\n",
    "    return step\n",
    "\n",
    "def show_case(complect, id, which=1, show_solution=True):\n",
    "    skills = read_json(f'{complect}.txt')[id][\"Gebėjimai\"][which-1]\n",
    "    step = '**Uždavinio dalis ' + f\"{which}, kurioje yra {skills['Gebėjimas']}\" + '.**\\n\\n' + skills['Atitikmuo']\n",
    "    if show_solution: step += ('\\n\\n**Sprendimas.**\\n\\n' + skills['Sprendimas'])\n",
    "    return step\n",
    "\n",
    "def check(name, problem_id, extension='.txt'):\n",
    "    display(Markdown(show_problem(name, problem_id, show_solution=True)))\n",
    "    problem = read_json(name + extension)\n",
    "    for i in range(len(problem[problem_id]['Gebėjimai'])): \n",
    "        display(Markdown('-'*100))\n",
    "        display(Markdown(show_case(name, problem_id, which=i+1, show_solution=True)))"
   ]
  },
  {
   "cell_type": "code",
   "execution_count": 2,
   "metadata": {},
   "outputs": [
    {
     "data": {
      "text/markdown": [
       "\n",
       "### Skaičiai ir skaičiavimai\n",
       "\n",
       "* **Dalumas.** Atpažinti ir naudoti natūraliuosius skaičius. Taikyti dalumo iš 2, 3, 5, 9 ir 10 požymius. Atpažinti pirminius ir sudėtinius skaičius. Sudėtinius skaičius skaidyti pirminiais dauginamaisiais. Taikyti sąvokas: dviejų skaičių (didžiausiasis) bendrasis daliklis ar (mažiausiasis) bendrasis kartotinis.\n",
       "* **$\\mathbb{Z}$ ir $\\mathbb{Q}$ operacijos.** Atlikti aritmetinius veiksmus su sveikaisiais ir trupmeniniais skaičiais. Taikyti šias sąvokas skaičiams: priešingas, atvirkštinis, lyginis (nelyginis), modulis. Taikyti pagrindinę proporcijos savybę\n",
       "* **Procentai.** Suvokti procento sąvoką. Rasti skaičių, kai žinomi jo procentai, rasti skaičiaus procentą.\n",
       "* **Šaknys ir laipsniai.** Taikyti žinias apie skaičiaus kėlimą sveikuoju laipsniu, kvadratinės ir kubinės šaknies traukimą. Atlikti nesudėtingus veiksmus su laipsniais.\n",
       "\n",
       "### Reiškiniai, lygtys, nelygybės\n",
       "\n",
       "* **Vienanarių ir daugianarių operacijos.** Atlikti vienanarių ir daugianarių sudėtį, atimtį ir daugybą.\n",
       "* **Laipsnių taikymas reiškiniuose.** Prastinant reiškinius taikyti veiksmų su laipsniais, kurių rodiklis sveikasis skaičius, savybes.\n",
       "* **Skaidymas dauginamaisiais.** Nesudėtingais atvejais skaidyti daugianarius daugikliais.\n",
       "* **Greitosios daugybos formulės.** Taikyti greitosios daugybos formules.\n",
       "* **Lygtys ir nelygybės.** Sudaryti ir spręsti tiesines lygtis, nelygybes. Taip pat nepilnąsias kvadratines lygtis. Jų sprendinius vaizduoti skaičių tiesėje.\n",
       "* **Lygčių ir nelygybių sudarymas.** Spręsti tekstinius uždavinius sudarant lygtis, nelygybes.\n",
       "\n",
       "### Geometrija\n",
       "\n",
       "* **Figūrų pažinimas.** Atpažinti, pavaizduoti, apibūdinti paprasčiausias geometrines figūras.\n",
       "* **Kampų rūšys.** Taikyti gretutinių, kryžminių kampų ir kampų, gautų dvi lygiagrečias tieses perkirtus trečiąja, savybes.\n",
       "* **Trikampių savybės.** Taikyti žinias apie trikampį, jo aukštines, pusiaukraštines, pusiaukampines. Taikyti lygiašonio ir lygiakraščio trikampio savybes, trikampių lygumo požymius. Skaičiuoti trikampio perimetrą ir plotą.\n",
       "* **Keturkampių savybės.** Taikyti keturkampių (kvadrato, stačiakampio, lygiagretainio, rombo, trapecijos) savybes ir skaičiuoti jų perimetrus bei plotus.\n",
       "* **Pitagoro teorema.** Taikyti Pitagoro ir jai atvirkštinę teoremas.\n",
       "* **Apskritimo ir skritulio savybės.** Taikyti žinias apie apskritimą ir skritulį. Skaičiuoti apskritimo ilgį ir skritulio plotą.\n",
       "* **Erdvės geometrija.** Paprastais atvejais apskaičiuoti kubo, stačiakampio gretasienio, taisyklingosios piramidės, ritinio ir kūgio elementus.\n",
       "\n",
       "### Kombinatorika\n",
       "\n",
       "* **Sudėties ir daugybos taisyklės.** Taikyti kombinatorines sudėties ir daugybos taisykles, sprendžiant paprastus uždavinius. (pvz. nustatyti, kiek yra palindrominių penkiaženklių skaičių).\n"
      ],
      "text/plain": [
       "<IPython.core.display.Markdown object>"
      ]
     },
     "metadata": {},
     "output_type": "display_data"
    }
   ],
   "source": [
    "display(Markdown(document_it(r'licejus\\clusters.txt', r'licejus\\branches.txt')))"
   ]
  },
  {
   "cell_type": "code",
   "execution_count": 3,
   "metadata": {},
   "outputs": [],
   "source": [
    "name = 'licejus/2017'\n",
    "fullname = name + '.txt'\n",
    "if os.path.basename(fullname) not in os.listdir(os.path.dirname(fullname)):\n",
    "    f=open(fullname, 'w')\n",
    "    f.write('{}')\n",
    "    f.close()\n",
    "content = read_json(fullname)"
   ]
  },
  {
   "cell_type": "markdown",
   "metadata": {},
   "source": [
    "### Uždaviniai\n",
    "* Kas yra Pitagoro teorema?\n",
    "* Stačiojo trikampio statiniai lygūs $12$ ir $5$. Taikydami Pitagoro teoremą raskite šio trikampio įžambinę\n",
    "* Išspręskite lygtį $x^2=169$\n",
    "* Sudauginkite: $(x-13)(x+13)$\n",
    "* Pratęskite šią greitosios daugybos formulę: $a^2-b^2=\\dots$\n",
    "* Greitosios daugybos formulės. Kodėl daugyba vadinama greitąja?\n",
    "* Duota, kad $ab=0$. Ką galime pasakyti apie skaičius $a$ ir $b$?\n",
    "* Išspręskite lygtį $x^3-x^2=0$\n",
    "* Įvardykite lygties sprendinius: $x^2=169$\n",
    "* Įvardykite lygties sprendinius: $x^2=0$\n",
    "* Įvardykite lygties sprendinius: $x^2=-1$\n",
    "* Ar yra tokie du vienodi skaičiai, kuriuos sudauginę gausime $-9$?\n",
    "* Lygtis neturi realiųjų sprendinių. Ką reiškia žodis **realusis**?\n",
    "* Kaip skirstomi skaičiai?"
   ]
  },
  {
   "cell_type": "code",
   "execution_count": 10,
   "metadata": {},
   "outputs": [
    {
     "data": {
      "text/markdown": [
       "**Užduotis.**\n",
       "\n",
       "Lygiašonės trapecijos $ABCD$ trumpesnysis pagrindas $BC$ lygus šoninėms kraštinėms. Trapecijos perimetras lygus 124 cm, o pagrindų ilgiai sutinka santykiu 13:23. Parodykite, kad trumpesnysis trapecijos pagrindas lygus 26cm. [1tšk.]\n",
       "\n",
       "**Sprendimas.**\n",
       "* Tegu šie pagrindai lygūs 13x ir 23x.\n",
       "* Sudarome lygtį, aprašančią trapecijos perimetrą: $13x+13x+13x+23x=124$\n",
       "* $\\boxed{13x+13x+13x+23x=124} \\Rightarrow \\boxed{62x=124} \\Rightarrow \\boxed{x=2}$\n",
       "* Trumpesnysis trapecijos pagrindas: 13x=26(cm)"
      ],
      "text/plain": [
       "<IPython.core.display.Markdown object>"
      ]
     },
     "metadata": {},
     "output_type": "display_data"
    },
    {
     "data": {
      "text/markdown": [
       "----------------------------------------------------------------------------------------------------"
      ],
      "text/plain": [
       "<IPython.core.display.Markdown object>"
      ]
     },
     "metadata": {},
     "output_type": "display_data"
    },
    {
     "data": {
      "text/markdown": [
       "**Uždavinio dalis 1, kurioje yra Lygčių ir nelygybių sudarymas..**\n",
       "\n",
       "\n",
       "\n",
       "**Sprendimas.**\n",
       "\n"
      ],
      "text/plain": [
       "<IPython.core.display.Markdown object>"
      ]
     },
     "metadata": {},
     "output_type": "display_data"
    }
   ],
   "source": [
    "problem_id = '4a'\n",
    "text = 'Lygiašonės trapecijos $ABCD$ trumpesnysis pagrindas $BC$ lygus šoninėms kraštinėms. Trapecijos perimetras lygus 124 cm, o pagrindų ilgiai sutinka santykiu 13:23. Parodykite, kad trumpesnysis trapecijos pagrindas lygus 26cm. [1tšk.]'\n",
    "solution = ['Tegu šie pagrindai lygūs 13x ir 23x.', \n",
    "            'Sudarome lygtį, aprašančią trapecijos perimetrą: $13x+13x+13x+23x=124$', \n",
    "            '$\\\\boxed{13x+13x+13x+23x=124} \\\\Rightarrow \\\\boxed{62x=124} \\\\Rightarrow \\\\boxed{x=2}$',\n",
    "           'Trumpesnysis trapecijos pagrindas: 13x=26(cm)']\n",
    "\n",
    "problem = {problem_id: {'Sąlyga': text, 'Gebėjimai': [dict()], 'Sprendimas': solution}}\n",
    "\n",
    "problem[problem_id]['Gebėjimai'][0]['Gebėjimas'] = 'Lygčių ir nelygybių sudarymas.'\n",
    "problem[problem_id]['Gebėjimai'][0]['Atitikmuo'] = ''\n",
    "problem[problem_id]['Gebėjimai'][0]['Sprendimas'] = ''\n",
    "content.update(problem)\n",
    "\n",
    "with open(f\"{name}.txt\", \"w\", encoding='utf-8') as out_file:\n",
    "    json.dump(content, out_file, indent = 4, ensure_ascii=False)\n",
    "    \n",
    "check(name, problem_id)"
   ]
  },
  {
   "cell_type": "code",
   "execution_count": null,
   "metadata": {},
   "outputs": [],
   "source": [
    "problem_id = '4b'\n",
    "text = 'Lygiašonės trapecijos $ABCD$ trumpesnysis pagrindas $BC$ yra tokio paties ilgio kaip šoninės kraštinės ir lygus 26 cm. Trapecijos pagrindų ilgiai sutinka santykiu 13:23. Raskite šios trapecijos plotą. [3tšk.]'\n",
    "solution = ['![](lic2017_4b.PNG)', \n",
    "            'Sudarome proporciją ir nustatome likusią kraštinę: $\\\\boxed{\\\\begin{array}{rcl}26 cm &-& 13\\\\\\\\ x cm &-& 23} \\\\Rightarrow 13x=26\\\\cdot 23 \\\\Rightarrow x=2\\\\cdot 23 = 46$',\n",
    "           ]\n",
    "\n",
    "**Sprendimas.** \n",
    "* $\\angle B = 180^o - \\angle A - \\angle C = 180^o - 55^o - 75^o = 50^o$\n",
    "* $\\boxed{\\angle BDE + \\angle BED} = 180^o - \\angle B = 180^o - 50^o = 130^o$\n",
    "* $\\triangle{DBE}$ lygiašonis, todėl $\\displaystyle\\angle BDE = \\angle BED = \\frac{\\boxed{\\angle BDE + \\angle BED}}{2} = \\frac{130^o}{2}=65^o$\n",
    "* $\\angle ADE = 180^o - \\angle{BED} = 180^o - 65^o = 115^o$']\n",
    "\n",
    "problem = {problem_id: {'Sąlyga': text, 'Gebėjimai': [dict(),dict(),dict()], 'Sprendimas': solution}}\n",
    "\n",
    "problem[problem_id]['Gebėjimai'][0]['Gebėjimas'] = 'Lygčių ir nelygybių sudarymas.'\n",
    "problem[problem_id]['Gebėjimai'][0]['Atitikmuo'] = ''\n",
    "problem[problem_id]['Gebėjimai'][0]['Sprendimas'] = ''\n",
    "content.update(problem)\n",
    "\n",
    "with open(f\"{name}.txt\", \"w\", encoding='utf-8') as out_file:\n",
    "    json.dump(content, out_file, indent = 4, ensure_ascii=False)\n",
    "    \n",
    "check(name, problem_id)"
   ]
  }
 ],
 "metadata": {
  "kernelspec": {
   "display_name": "Python 3",
   "language": "python",
   "name": "python3"
  },
  "language_info": {
   "codemirror_mode": {
    "name": "ipython",
    "version": 3
   },
   "file_extension": ".py",
   "mimetype": "text/x-python",
   "name": "python",
   "nbconvert_exporter": "python",
   "pygments_lexer": "ipython3",
   "version": "3.8.3"
  }
 },
 "nbformat": 4,
 "nbformat_minor": 4
}
