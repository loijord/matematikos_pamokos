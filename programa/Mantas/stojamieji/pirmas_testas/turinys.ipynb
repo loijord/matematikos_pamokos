{
 "cells": [
  {
   "cell_type": "markdown",
   "metadata": {},
   "source": [
    "### Turinys\n",
    "* [Metodai, pagal kuriuos dirbam pamokose](darbo_planas.ipynb)\n",
    "* [Stojamųjų užduotys, kurias sprendžiame](licejus_uzdaviniai.ipynb)\n",
    "* [Pirmo testo užduotys](testas1.ipynb)\n",
    "* [Pirmo testo rezultatai](rezultatai1.ipynb)"
   ]
  },
  {
   "cell_type": "markdown",
   "metadata": {},
   "source": [
    "* [Uždavinių bazės surinkinėjimas (Simonui)](generavimas.ipynb)\n",
    "* [Pagrindinis programos kodas (Simonui)](source_code.ipynb)"
   ]
  }
 ],
 "metadata": {
  "kernelspec": {
   "display_name": "Python 3",
   "language": "python",
   "name": "python3"
  },
  "language_info": {
   "codemirror_mode": {
    "name": "ipython",
    "version": 3
   },
   "file_extension": ".py",
   "mimetype": "text/x-python",
   "name": "python",
   "nbconvert_exporter": "python",
   "pygments_lexer": "ipython3",
   "version": "3.8.3"
  }
 },
 "nbformat": 4,
 "nbformat_minor": 4
}
