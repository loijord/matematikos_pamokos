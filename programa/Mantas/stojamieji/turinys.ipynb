{
 "cells": [
  {
   "cell_type": "markdown",
   "metadata": {},
   "source": [
    "### Turinys\n",
    "Šiame faile yra nuorodos į viską, kas susiję su stojamaisiais\n",
    "* [Licėjaus stojamųjų užduotys](./files/licejus_uzduotys/licejus_uzduotys.ipynb)\n",
    "* [Licėjaus stojamųjų sprendimų pavyzdžiai](./files/licejus_sprendimai/licejus_sprendimai.ipynb)\n",
    "* [Licėjaus stojamųjų analizės planas](./files/licejus_analize/licejus_analize.ipynb)\n",
    "* [KTUG stojamųjų užduotys](./files/greitkelis.pdf)\n",
    "* [Geometrijos uždaviniai](./files/geometrija.pdf)\n",
    "* **Nauja!** [Priešpaskutinio užsiėmimo pastebėjimai](./files/priespaskutinis.ipynb)"
   ]
  },
  {
   "cell_type": "markdown",
   "metadata": {},
   "source": [
    "Dar neįkelta:\n",
    "* Licėjaus stojamųjų analizės rezultatai\n",
    "* Stojamieji į kitas gimnazijas\n",
    "* Kitos disciplinos"
   ]
  }
 ],
 "metadata": {
  "kernelspec": {
   "display_name": "Python 3",
   "language": "python",
   "name": "python3"
  },
  "language_info": {
   "codemirror_mode": {
    "name": "ipython",
    "version": 3
   },
   "file_extension": ".py",
   "mimetype": "text/x-python",
   "name": "python",
   "nbconvert_exporter": "python",
   "pygments_lexer": "ipython3",
   "version": "3.8.3"
  }
 },
 "nbformat": 4,
 "nbformat_minor": 4
}
