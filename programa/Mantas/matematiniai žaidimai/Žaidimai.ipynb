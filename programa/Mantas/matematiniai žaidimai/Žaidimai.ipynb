{
 "cells": [
  {
   "cell_type": "markdown",
   "metadata": {},
   "source": [
    "### Matematinių žaidimų pavyzdžiai\n",
    "\n",
    "* Ar įmanoma šachmatų lentoje žirgu apeiti visus langelius apsilankant juose po vieną kartą, jei pradedame nuo apatinio kairiojo kampo ir baigiame viršutiniu dešiniuoju?\n",
    "* Žaiskime žaidimą su 100 akmenėlių su 2 žaidėjais pagal tokias taisykles: bet kuris žaidėjas vienu ėjimu gali iš krūvos pasiimti nuo 1 iki 10 akmenėlių. Ėjimai vyksta pakaitomis, o žaidimą laimi tas, po kurio ėjimo akmenėlių nelieka. Kuris žaidėjas visuomet turi galimybę laimėti?\n",
    "* Kiek yra trikampių, kurių kraštinių ilgiai yra iš eilės einantieji sveikieji skaičiai ir kurių perimetrai neviršija 100?\n",
    "* Kiekvienas didžiojo kvadrato $4 \\times 4$ langelis gali būti tik įžiebtas arba neįžiebtas. Kiekvienu ėjimu tam tikroje sekcijoje visi įžiebti kvadratėliai pasikeičia neįžiebtais, o neįžiebti - įžiebtais. Sekcijos gali būti $2\\times 2$ kvadratai, $1\\times 4$ stačiakampiai arba didžiojo kvadrato įstrižainės. \n",
    "* Du žaidėjai pakaitomis stumdo šaškę šachmatų lentoje. Šaškė iš pradžių stovi apatiniame kairiajame kampe, o laimi tas, kuris pastato šaškę į viršutinį dešinįjį kampą. Leistini ėjimai - kiek nori langelių į dešinę arba kiek nori į viršų. Katras žaidėjas visada turi šansą laimėti protingai žaisdamas?"
   ]
  },
  {
   "cell_type": "code",
   "execution_count": null,
   "metadata": {},
   "outputs": [],
   "source": []
  }
 ],
 "metadata": {
  "kernelspec": {
   "display_name": "Python 3",
   "language": "python",
   "name": "python3"
  },
  "language_info": {
   "codemirror_mode": {
    "name": "ipython",
    "version": 3
   },
   "file_extension": ".py",
   "mimetype": "text/x-python",
   "name": "python",
   "nbconvert_exporter": "python",
   "pygments_lexer": "ipython3",
   "version": "3.7.4"
  }
 },
 "nbformat": 4,
 "nbformat_minor": 2
}
