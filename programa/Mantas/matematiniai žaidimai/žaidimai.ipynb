{
 "cells": [
  {
   "cell_type": "markdown",
   "metadata": {},
   "source": [
    "# Matematiniai žaidimai"
   ]
  },
  {
   "cell_type": "markdown",
   "metadata": {},
   "source": [
    "## Apšilimas su nebūtinai dviem žaidėjais"
   ]
  },
  {
   "cell_type": "markdown",
   "metadata": {},
   "source": [
    "Kiekvieno sprendimo pagrindinė idėja yra atrasti, kas gali išlikti invariantiška darant ėjimus."
   ]
  },
  {
   "cell_type": "markdown",
   "metadata": {},
   "source": [
    "1\\. **Ar įmanoma šachmatų lentoje žirgu apeiti visus langelius apsilankant juose po vieną kartą, jei pradedame nuo apatinio kairiojo kampo ir baigiame viršutiniu dešiniuoju?**\n",
    "\n",
    "Kas du ėjimus nesikeičia spalva, todėl neįmanoma pradėti juodu ir baigti juodu langeliais, kai lentoje iš viso yra 64 langeliai."
   ]
  },
  {
   "cell_type": "markdown",
   "metadata": {},
   "source": [
    "**2\\. Žaiskime žaidimą su 100 akmenėlių su 2 žaidėjais pagal tokias taisykles: bet kuris žaidėjas vienu ėjimu gali iš krūvos pasiimti nuo 1 iki 10 akmenėlių. Ėjimai vyksta pakaitomis, o žaidimą laimi tas, po kurio ėjimo akmenėlių nelieka. Kuris žaidėjas visuomet turi galimybę laimėti?**\n",
    "\n",
    "Pirmas žaidėjas. Iš pradžių jis nuima vieną akmenėlį, palikdamas 99, o kiekvieną kitą ėjimą jis gali atlikti taip, \n",
    "kad atlikus ėjimą priešininkui, o po to jam, akmenukų skaičius mažėtų po 11."
   ]
  },
  {
   "cell_type": "markdown",
   "metadata": {},
   "source": [
    "**3\\. Kiek yra trikampių, kurių kraštinių ilgiai yra iš eilės einantieji sveikieji skaičiai ir kurių perimetrai neviršija 100?**\n",
    "\n",
    "*Pastaba: tai, ne matematinis žaidimas, nes nėra žaidėjų, atliekančių vienas po kito einančius ėjimus. Tačiau geras invariantiškumo pavyzdys*\n",
    "\n",
    "Bet kuriam tokiam trikampiui perimetras bus trijų kartotinis, be to, padidinus jo kraštines po vieną, perimetras padidės 3. \n",
    "Štai visų trikampių sąrašas:"
   ]
  },
  {
   "cell_type": "code",
   "execution_count": 10,
   "metadata": {},
   "outputs": [
    {
     "name": "stdout",
     "output_type": "stream",
     "text": [
      "trikampis (1, 2, 3) su perimetru 5\n",
      "trikampis (2, 3, 4) su perimetru 8\n",
      "trikampis (3, 4, 5) su perimetru 11\n",
      "trikampis (4, 5, 6) su perimetru 14\n",
      "trikampis (5, 6, 7) su perimetru 17\n",
      "trikampis (6, 7, 8) su perimetru 20\n",
      "trikampis (7, 8, 9) su perimetru 23\n",
      "trikampis (8, 9, 10) su perimetru 26\n",
      "trikampis (9, 10, 11) su perimetru 29\n",
      "trikampis (10, 11, 12) su perimetru 32\n",
      "trikampis (11, 12, 13) su perimetru 35\n",
      "trikampis (12, 13, 14) su perimetru 38\n",
      "trikampis (13, 14, 15) su perimetru 41\n",
      "trikampis (14, 15, 16) su perimetru 44\n",
      "trikampis (15, 16, 17) su perimetru 47\n",
      "trikampis (16, 17, 18) su perimetru 50\n",
      "trikampis (17, 18, 19) su perimetru 53\n",
      "trikampis (18, 19, 20) su perimetru 56\n",
      "trikampis (19, 20, 21) su perimetru 59\n",
      "trikampis (20, 21, 22) su perimetru 62\n",
      "trikampis (21, 22, 23) su perimetru 65\n",
      "trikampis (22, 23, 24) su perimetru 68\n",
      "trikampis (23, 24, 25) su perimetru 71\n",
      "trikampis (24, 25, 26) su perimetru 74\n",
      "trikampis (25, 26, 27) su perimetru 77\n",
      "trikampis (26, 27, 28) su perimetru 80\n",
      "trikampis (27, 28, 29) su perimetru 83\n",
      "trikampis (28, 29, 30) su perimetru 86\n",
      "trikampis (29, 30, 31) su perimetru 89\n",
      "trikampis (30, 31, 32) su perimetru 92\n",
      "trikampis (31, 32, 33) su perimetru 95\n",
      "trikampis (32, 33, 34) su perimetru 98\n"
     ]
    }
   ],
   "source": [
    "for i in range(1, 33):\n",
    "    print(f'trikampis {i,i+1,i+2} su perimetru {3*i+2}')"
   ]
  },
  {
   "cell_type": "markdown",
   "metadata": {},
   "source": [
    "Iš viso yra 32 trikampiai. Tačiau trikampis su kraštinėmis 1, 2, 3 negalimas, nes turi dvi kraštines, kurių suma neviršija trečiosios. Todėl uždavinio atsakymas yra 31."
   ]
  },
  {
   "cell_type": "markdown",
   "metadata": {},
   "source": [
    "4\\. **Kiekvienas didžiojo kvadrato $4 \\times 4$ langelis gali būti tik įžiebtas arba neįžiebtas. Kiekvienu ėjimu tam tikroje sekcijoje visi įžiebti kvadratėliai pasikeičia neįžiebtais, o neįžiebti - įžiebtais. Sekcijos gali būti $2\\times 2$ kvadratai, $1\\times 4$ stačiakampiai arba didžiojo kvadrato įstrižainės. Iš pradžių lentoje dega tik viršutinis langelis kairėje. Ar įmanoma įžiebti visus langelius lentoje?**\n",
    "\n",
    "Invariantiška savybė: po kiekvieno keitimo nesikeičia įžiebtų kvadratėlių lyginumas. Todėl negalime 1 įžiebto kvadratėlio pakeisti į 16.\n",
    "\n",
    "Štai iliustacija įsitikinti, kad lyginumas nesikeičia:\n",
    "\n",
    "NNNN -> ĮĮĮĮ, padidėjo 4\n",
    "\n",
    "ĮNNN -> NĮĮĮ, padidėjo 2\n",
    "\n",
    "ĮĮNN -> NNĮĮ, nepasikeitė\n",
    "\n",
    "ĮĮĮN -> NNNĮ, sumažėjo 2\n",
    "\n",
    "ĮĮĮĮ -> NNNN, sumažėjo 4"
   ]
  },
  {
   "cell_type": "markdown",
   "metadata": {},
   "source": [
    "5\\. **Du žaidėjai pakaitomis stumdo šaškę šachmatų lentoje. Šaškė iš pradžių stovi apatiniame kairiajame kampe, o laimi tas, kuris pastato šaškę į viršutinį dešinįjį kampą. Leistini ėjimai - kiek nori langelių į dešinę arba kiek nori į viršų. Katras žaidėjas visada turi šansą laimėti protingai žaisdamas?**\n",
    "\n",
    "Antras žaidėjas visuomet gali pasiekti, kad šaškė atsidurtų ant įstrižainės nepriklausomai nuo to, kaip ėjo pirmasis žaidėjas, todėl visuomet laimės."
   ]
  },
  {
   "cell_type": "markdown",
   "metadata": {},
   "source": [
    "## Matematinių žaidimų teorija\n",
    "\n",
    "Plačiau matematikos žaidimus nagrinėsime pagal [šią knygą](http://mif.vu.lt/matematikos-olimpiados/wp-content/uploads/2015/10/matknyga.pdf), trečią skyrių. \n",
    "\n",
    "Kairiajame apatiniame 5×5 lentos langelyje stovi šaškė. Arklys Dominykas ir Asiliukas\n",
    "Dainius pakaitomis perkėlinėja tą šaškę į kaimyninį pagal kraštinę langelį; pradeda\n",
    "visada Dominykas. Pralaimėjusiu Kielė Kamilė garsiai paskelbia tą, kuris perkelia šaškę\n",
    "į tokį laukelį, kuriame ta šaškė jau yra pabuvojusi. Ar gali kuris nors iš jų – Arklys\n",
    "Dominykas arba Asiliukas Dainius – perkėlinėti šaškę taip, kad jis visada laimėtų, nors\n",
    "ir ką bedarytų kitas žaidėjas ir kaip jis tada turėtų perkėlinėti tą šaškę? - ***Lietuvos 5-6 klasių moksleivių matematikos olimpiada, 2011m***\n",
    "\n",
    "*Jeigu asilas eina į viršų, tai ir arklys turi eiti į viršų, o jei negali, tai į kurį nors šoną*, - taip prasideda, deja, nelabai sėkmingas bandymas aprašyti strategiją, kuria turėtų\n",
    "vadovautis Dominykas, norėdamas laimėti."
   ]
  },
  {
   "cell_type": "markdown",
   "metadata": {},
   "source": [
    "Norint susipažinti, kokiomis technikomis remiantis yra gliaudomi tokie uždaviniai, studijuosime šiuos skyrius:\n",
    "* Laiminčios ir pralaiminčios pozicijos\n",
    "* Simetrija\n",
    "* Netiesioginiai sprendimai\n",
    "* NIM žaidimai"
   ]
  },
  {
   "cell_type": "markdown",
   "metadata": {},
   "source": [
    "### Laiminčios ir pralaiminčios pozicijos"
   ]
  },
  {
   "cell_type": "markdown",
   "metadata": {},
   "source": [
    "Pasistengsiu aprašyti tą pačią sprendimo strategiją net keletui žaidimų. Visais atvejais tarsime, kad:\n",
    "\n",
    "* kiekvienai situacijai galime rasti, kuris žaidėjas yra laiminčioje pozicijoje ir kuris pralaiminčioje.\n",
    "* abu žaidėjai žaidžia nedarydami kvailų ėjimų, t.y. tokių, kad netektų laiminčios pozicijos.\n",
    "\n",
    "**Ant stalo yra $n$ akmenukų. Du žaidėjai pakaitomis iš šios krūvos ima tam tikrą kiekį akmenukų. \n",
    "Laimi atlikęs paskutinį ėjimą. Rasti, su kuriais $n$ pirmas žaidėjas laimės, jeigu vienu ėjimu leidžiama:**\n",
    "    \n",
    "1\\. nuimti bet kurį skaičių akmenukų nuo 1 iki 10.\n",
    "\n",
    "2\\. nuimti 1, 2, 4, 8, 16 ir t.t. akmenukų\n",
    "\n",
    "3\\. nuimti vieną akmenuką arba bet kurį pirminį jų skaičių (1, 2, 3, 5, 7, 11, 13 ir t.t.)\n",
    "\n",
    "4\\. nuimti 1 akmenuką, pirminį skaičių akmenukų arba pirminio skaičiaus laipsnį akmenukų (1, 2, 3, 4, 5, 7, 8, 9, 11, 13, 16 ir t.t.)\n",
    "\n",
    "5\\. nuimti pirminį skaičių akmenukų arba pirminio skaičiaus laipsnį (didesnį už 1) akmenukų (2, 3, 4, 5, 7, 8, 9, 11, 13, 16 ir t.t.)\n",
    "\n",
    "**Patarimai, kaip spręsti**:\n",
    "* Visas atvejais galime sudaryti pozicijų seką nurodant jų rūšį: laiminti arba pralaiminti.\n",
    "* Pozicija yra priskiriama laiminčiai, jeigu galioja vienas iš atvejų:\n",
    "\n",
    "  (1) Pirmasis žaidėjas gali atlikti paskutinį ėjimą \n",
    "  \n",
    "  (2) Egzistuoja bent vienas pirmojo žaidėjo ėjimas, kad antrasis žaidėjas atsidurtų pralaiminčioje pozicijoje\n",
    " \n",
    "* Pozicija yra priskiriama pralaiminčiai, jeigu:\n",
    "\n",
    "  (3) Visi galimi pirmo žaidėjo ėjimai atveda antrą žaidėją į laiminčią poziciją."
   ]
  },
  {
   "cell_type": "markdown",
   "metadata": {},
   "source": [
    "### Uždavinių sprendimai"
   ]
  },
  {
   "cell_type": "markdown",
   "metadata": {},
   "source": [
    "1\\. Rasti laiminčius ir pralaiminčius skaičius (pirmo žaidėjo atžvilgiu), kai galima nuimti bet kurį skaičių akmenukų nuo 1 iki 10.\n",
    "\n",
    "* **Sudarome seką (galime juodraštyje)**:\n",
    " - Pagal taisyklę (1), skaičiai 1,2,3,4,5,6,7,8,9,10 yra laimintys\n",
    " - Pagal taisyklę (3), skaičius 11, yra pralaimintis\n",
    " - Pagal taisyklę (2), skaičiai 12,13,14,15,16,17,18,19,20,21 yra laimintys\n",
    " - Pagal taisyklę (3), skaičius 22, yra pralaimintis\n",
    " - Pagal taisyklę (2), skaičiai 23,24,25,26,27,28,29,30,31,32 yra laimintys\n",
    " - Pagal taisyklę (3), skaičius 33, yra pralaimintis\n",
    " - Pagal taisyklę (2), skaičiai 34,35,36,37,38,39,40,41,42,43 yra laimintys\n",
    " - Pagal taisyklę (3), skaičius 44, yra pralaimintis\n",
    " - t.t.\n",
    " \n",
    " **Apibendriname rezultatus**:\n",
    "  Kiekvienu atveju, kai $n$ dalijasi iš 11, pirmasis žaidėjas pralaimės, o visai kitais atvejais laimės. Taip yra todėl, kad jei pirmajam žaidėjui reikia eiti, kai ant stalo yra 11 kartotinis, tai jis vienu ėjimu negali laimėti, o antrasis žaidėjas (po jo ėjimo) visada gali pasiekti, kad liktų mažesnis 11 kartotinis arba nieko neliktų ir jis laimėtų. Visais kitais atvejais antrasis žaidėjas gali gauti 11 kartotinį, t.y. atsidurti laiminčioje pozicijoje. \n",
    " \n",
    "2\\. Rasti laiminčius ir pralaiminčius skaičius (pirmo žaidėjo atžvilgiu), kai galima nuimti 1, 2, 4, 8, 16 ir t.t. akmenukų.\n",
    "\n",
    "* **Sudarome seką:** LLNLLNLLNLLNLLNLLNLLNLLN... (galima ir trumpesnę, turi matytis dėsningumas)\n",
    "* Tegu visiems $x$, nedidesniems už trijų kartotinį $n$, yra žinoma, kad pirmas žaidėjas laimės, jei $x$ nesidalija iš 3 ir pralaimės, kai dalijasi.\n",
    "![](ln.png)\n",
    "* Įrodysime, kad tas pats teiginys bus teisingas ir visiems skaičiams, didesniems už $n$\n",
    "* Jei ant stalo yra $n+1$ arba $n+2$ akmenėlių, tai pirmas žaidėjas laimės, nes nuimdamas 1 arba 2 akmenėlius gali palikti $n$ akmenėlių, o tai yra pralaimintis skaičius antram žaidėjui. **Pirmas žaidėjas laimi**.\n",
    "* Jei ant stalo yra $n+3$ akmenėliai, tai pirmam žaidėjui nuėmus kažkokį skaičių $2^m$ akmenėlių liks $n+3-2^m$ akmenėlių. $n+3$ dalijasi iš 3, o $2^m$ nesidalija, todėl šis skaičius nėra trijų kartotinis. Todėl pagal teiginį, tai bus laimintis skaičius antram žaidėjui. **Pirmas žaidėjas pralaimi**\n",
    "* Gavome, kad jei teiginys yra teisingas visiems skaičiams, nedidesniems už trijų kartotinį, tai jis teisingas ir visiems skaičiams, nedidesniems už gretimą trijų kartotinį. Vadinasi, jei teisingas ir visiems skaičiams.\n",
    "![](lm.png)\n",
    "  **Pastaba.** Nurodytas sprendimo būdas yra pirmasis įrodymo matematinės indukcijos metodu pavyzdys, aptartas su Mantu.\n",
    "\n",
    "3\\. Rasti laiminčius ir pralaiminčius skaičius (pirmo žaidėjo atžvilgiu), kai galima nuimti pirminį skaičių akmenukų arba pirminio skaičiaus laipsnį (didesnį už 1) akmenukų (2, 3, 4, 5, 7, 8, 9, 11, 13, 16 ir t.t.)\n",
    "\n",
    "* Laiminčių ir pralaiminčių pozicijų seka atrodo šitaip: NLLLLLLLLLLLLLNLLLLLNLLLLLLLLN... (nelaimintys skaičiai: 1,15,21,35,45,55,69,75,89,95,...). Šiame uždavinyje skaičių išsidėstymas nenuspėjamas, bet situacija labai pasikeistų, jeigu būtų leistina nuimti vieną akmenėlį. Nuspėti neįmanoma, nes pirminiai skaičiai taip pat neturi aiškaus išsidėstymo.\n",
    "\n",
    "4\\. nuimti vieną akmenuką arba bet kurį pirminį jų skaičių (1, 2, 3, 5, 7, 11, 13 ir t.t.)\n",
    "\n",
    "  *Užuomina:* LLLNLLLNLLLNLLLNLLLNLLLN... \n",
    "\n",
    "5\\. Rasti laiminčius ir pralaiminčius skaičius (pirmo žaidėjo atžvilgiu), kai galima nuimti 1 akmenuką, pirminį skaičių akmenukų arba pirminio skaičiaus laipsnį akmenukų (1, 2, 3, 4, 5, 7, 8, 9, 11, 13, 16 ir t.t.)\n",
    "\n",
    "  *Užuomina:* LLLLLNLLLLLNLLLLLNLLLLL...\n",
    "  \n",
    "**Paskutiniuosius du uždavinio variantų sprendimus su pirminiais skaičiais aptarsime** [matematikos forume](https://www.ematematikas.lt/forumas/matematiniu-zaidimu-tema-du-zaidejai-su-akmeneliais-t13800.html)."
   ]
  },
  {
   "cell_type": "markdown",
   "metadata": {},
   "source": [
    "### Simetrija (nagrinėsime ateityje)\n",
    "\n",
    "* Žaidėjai A ir B stačiakampėje lentelėje 2 × n paeiliui spalvina po vieną\n",
    "langelį arba du bendrą sieną turinčius langelius. Nuspalvinto langelio spalvinti nebegalima. Pralaimi tas žaidėjas, kuris nebegali atlikti ėjimo. Nurodykite, kuris žaidėjas turės\n",
    "laiminčią strategiją su atitinkamais $n$\n",
    "\n",
    "![](symmetry.png)"
   ]
  }
 ],
 "metadata": {
  "kernelspec": {
   "display_name": "Python 3",
   "language": "python",
   "name": "python3"
  },
  "language_info": {
   "codemirror_mode": {
    "name": "ipython",
    "version": 3
   },
   "file_extension": ".py",
   "mimetype": "text/x-python",
   "name": "python",
   "nbconvert_exporter": "python",
   "pygments_lexer": "ipython3",
   "version": "3.7.4"
  }
 },
 "nbformat": 4,
 "nbformat_minor": 2
}
