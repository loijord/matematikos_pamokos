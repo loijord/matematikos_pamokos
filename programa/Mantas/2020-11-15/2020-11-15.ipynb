{
 "cells": [
  {
   "cell_type": "markdown",
   "metadata": {},
   "source": [
    "Lapkričio 15 dienos devintąją pamoką aptarėme [dauginimų užduotį](../Projektas2/dauginimas.pdf) ir [teorinę medžiagą](../Projektas2/komplektas.pdf) apie bet kurio kvadratinio reiškinio skaidymą. Iki galo aptarti antras ir trečias skyrius."
   ]
  },
  {
   "cell_type": "markdown",
   "metadata": {},
   "source": [
    "### Sunkumai\n",
    "* Sprendimus Mantui įkelti pavyko, tačiau būtų gerai, kad taupant laiką tai vyktų ne pamokos metu\n",
    "* Su namų darbais atsiliekame. Dauginimus atlikti jau buvau prašęs ir spalio 31d., ir lapkričio 8d.\n",
    "* Darant pratimą $(x-\\sqrt{3})(x+\\sqrt{3})$ dauginant $\\sqrt{3}\\times \\sqrt{3}$ Mantui vietoje 3 gavosi $2\\sqrt{3}$. Tai atidumo klaida, atsirandanti esant per mažai praktikos su šaknų pratimais. [Juos darysime ateityje](../Projektas2/UMS_užduotys.ipynb)\n",
    "* Sunkokai sekėsi perprasti taisyklės ***jei $x^2+ax+b = (x+p)(x+q)$, tai $p+q=a$ ir $pq=b$*** aiškinimą. Galbūt tai yra dėl to, kad naudojama dar nematyta technika - vieno daugianario lyginimas su kitu: \n",
    "$$(x+p)(x+q) = x^2+px+qx+pq = x^2+(p+q)x+pq \\stackrel{\\begin{array}{c}\\text{daugianarių}\\\\ \\text{lyginimas}\\end{array}}{=} x^2+ax+b \\Rightarrow \\boxed{p+q=a\\text{ ir }pq=b}$$\n",
    "Galbūt tai yra ir dėl to, kad reiktų geriau įsivaizduoti vaizdą, kurie langeliai susideda ir kaip jie buvo gaunami dauginant pagal lenteles.\n",
    "* Kai praėjome medžiagą, Mantas buvo kuriam laikui užmiršęs, kaip susitvarkyti su paprastesniais atvejais: $x^2+x=x(x+1)$\n",
    "* Aptariamoje medžiagoje idėja, kad du skaičiai yra nutolę po tiek pat nuo savo vidurkio, Mantui pasirodė pirmąsyk matyta.\n",
    "\n",
    "![](nuotoliai.PNG)"
   ]
  },
  {
   "cell_type": "markdown",
   "metadata": {},
   "source": [
    "### Tai, kas sekėsi\n",
    "Be sunkumų buvo ir lengvųjų vietų, parodančių tvirtesnes Manto žinias\n",
    "* Dvinariai $x^2+ax$ ir $x^2+b$ - tai atskirieji trinario $x^2+ax+b$ atvejai, kai $a=0$ arba $b=0$. Su šių atvejų aptarimu susitvarkėme sparčiai. \n",
    "* Mantas lengvai susitvarkė su pratimais $x^2-17 = (x-\\sqrt{17})(x+\\sqrt{17})$ ir $(0.5 - \\sqrt{43.25})(0.5 + \\sqrt{43.25}) = -43$. Tai rodo, kad jis gerai supranta, kaip taikyti formulę $(a-b)(a+b)=a^2-b^2$\n",
    "* Džiugu, kad atskliaudimas $(x+0.5-\\sqrt{43.25})(x+0.5+\\sqrt{43.25}) = x^2+x-43$ pavyko nesunkiai. "
   ]
  },
  {
   "cell_type": "markdown",
   "metadata": {},
   "source": [
    "### Namų darbai\n",
    "* Užbaigti [dauginimų užduotis](../Projektas2/dauginimas.pdf) ir papildomų subtilybių skyrelyje (galima rašyti į spausdintą lapą)\n",
    "* Persiskaityti [teorinę medžiagą](../Projektas2/komplektas.pdf) apie dauginimus ir atlikti visus ten esančius pratimus\n",
    "* Persiskaityti [aštuntos pamokos apžvalgą](../2020-11-08/2020-11-08.ipynb)"
   ]
  },
  {
   "cell_type": "markdown",
   "metadata": {},
   "source": [
    "### Naujienos\n",
    "* Praeitą savaitę įkėliau daug naujos medžiagos: [uždavinius iš UMS](../Projektas2/UMS_užduotys.ipynb), [Benjamino triukų aptarimą](../Projektas2/matemagic_squaring.ipynb) ir [nuorodas į išreiškimų uždavinius](../Projektas3/išreiškimai.ipynb)\n",
    "* Šią savaitę planuoju įkelti geometrijos uždavinių sprendimo pavyzdžius ir stojamuosius."
   ]
  },
  {
   "cell_type": "markdown",
   "metadata": {},
   "source": [
    "### Ankstesnės pamokos\n",
    "Iš ankstesnių pamokų liko neaprašyti keletas dalykų:\n",
    "    \n",
    "* Geometrinis stojamasis\n",
    "* Laiko skaičiavimas\n",
    "* Languotieji stačiakampiai\n",
    "* Penkiamatė daugyba\n",
    "\n",
    "Jų aprašymai pasirodys šią savaitę"
   ]
  }
 ],
 "metadata": {
  "kernelspec": {
   "display_name": "Python 3",
   "language": "python",
   "name": "python3"
  },
  "language_info": {
   "codemirror_mode": {
    "name": "ipython",
    "version": 3
   },
   "file_extension": ".py",
   "mimetype": "text/x-python",
   "name": "python",
   "nbconvert_exporter": "python",
   "pygments_lexer": "ipython3",
   "version": "3.8.3"
  }
 },
 "nbformat": 4,
 "nbformat_minor": 4
}
