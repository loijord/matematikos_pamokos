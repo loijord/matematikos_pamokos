{
 "cells": [
  {
   "cell_type": "markdown",
   "metadata": {},
   "source": [
    "### Darbai, darbai...\n",
    "\n",
    "Dešimtą pamoką apie 15 min praleidome kalbėdami apie tai, kad Mantui reiktų daugiau dėmesio skirti namų darbams. Jie yra būtini, kad dabartinės užduotys būtų išmoktos be spragų. Taip pat priminiau, kad be stojamųjų ir geometrijos sprendimų kol kas yra daug darbo prie šių temų:\n",
    "\n",
    "* Projektas 1 - klaidų aptarinėjimas\n",
    "* Projektas 2 - praktikavimasis su lygtimis ir reiškiniais\n",
    "* Projektas 3 - kintamųjų išreiškimai formulėse\n",
    "\n",
    "Kol kas labiausiai pasistūmėme ties pirmu projektu (aptarėme Manto 1 - 4 pamokų sunkumus ir parašėme iš jų testą). Namuose uždaviau pasistūmėti su likusia to projekto dalimi: išsinagrinėti, kokios yra visų moksleivių populiariausios klaidos.\n",
    "\n",
    "Antro projekto pirmą dalį sudaro dauginimai ir skaidymai. Juos beveik užbaigėme, tik Mantui trūksta tas žinias užtvirtinti - atlikti namų darbus (pratimus teorinėje medžiagoje bei papildomų subtilybių skyrelį). Likusioje antro projekto dalyje turime ilgą neišspręstų uždavinių sąrašą.\n",
    "\n",
    "Ilgą neišspręstų uždavinių sąrašą turime ir trečiame projekte. Per šią pamoką su juo ,,startavome\" ir išsprendėme 6 išreiškimų pavyzdžius. Namuose uždaviau pasinagrinėti dar 4.\n",
    "\n",
    "Tiek antrame, tiek trečiame projekte Mantas turi galimybes peržiūrėti tų uždavinių sprendimus.\n",
    "\n",
    "### Labai svarbu!\n",
    "\n",
    "Antrame ir trečiame projekte likęs darbas yra išspręsti didelius kiekius uždavinių. Jų sprendimas per nuotolinę pamoką yra daug lėtesnis nei gyvai, todėl labai prašau Manto treniruotis su uždaviniai spačiam, tikrintis sprendimus ir per pamoką pačiam klausinėti, kas nesigauna. Taip išvengtume ilgai trunkančio kiekvieno uždavinio aptarinėjimo.\n",
    "\n",
    "\n"
   ]
  },
  {
   "cell_type": "markdown",
   "metadata": {},
   "source": [
    "### Grįžtam prie matematikos\n",
    "\n",
    "Per pamoką nagrinėjome šešias lygybes, sudarytas iš kelių kintamųjų ir jose ieškojome priklausomybių kurio nors vieno iš jų atžvilgiu:\n",
    "\n",
    "1\\. Išspręsti lygtį $A = P(1+rt)$ nežinomojo $r$ atžvilgiu.\n",
    "\n",
    "2\\. Išspręsti lygtį $a+b=ab$ nežinomojo $b$ atžvilgiu.\n",
    "\n",
    "3\\. Išspręsti lygtį $V=m\\left(\\frac{1}{b}-\\frac{5aR}{m}\\right)$ nežinomojo $b$ atžvilgiu.\n",
    "\n",
    "4\\. Išspręsti lygtį $\\frac{1}{a}=\\frac{1}{b}+\\frac{1}{c}$ nežinomojo $c$ atžvilgiu.\n",
    "\n",
    "5\\. Išspręsti lygtį $y = \\frac{4}{5x-9}$ nežinomojo $x$ atžvilgiu.\n",
    "\n",
    "6\\. Išspręsti lygtį $y = \\frac{4-3x}{1+8x}$ nežinomojo $x$ atžvilgiu."
   ]
  },
  {
   "cell_type": "markdown",
   "metadata": {},
   "source": [
    "Pagal mokyklinę matematikos programą Mantas turėtų mokėti spręsti šias lygtis, jei yra duotos likusių nežinomųjų reikšmės. Uždaviniai, kai šios reikšmės neduotos, per matematiką yra nagrinėjami tik vyresnėse klasėse, tačiau 8 klasėje su tokiais uždaviniais labai dažnai yra susiduriama per fiziką. Sprendimo planas:\n",
    "\n",
    "1\\. Bandome pertvarkyti lygtį. \n",
    "\n",
    "2\\. Jei pavyksta, sprendžiame toliau iki kol prieiname sunkesnę dalį. \n",
    "\n",
    "3\\. Jei nepavyksta, lygtį perrašome juodraštyje įstatę kokias nors likusių kintamųjų reikšmes.\n",
    "\n",
    "4\\. Bandome pertvarkyti sudarytą paprastesnę lygtį. Jei nepavyksta, einame kartotis mokyklinės programos. \n",
    "\n",
    "5\\. Jei pavyksta, atkartojame pakeitimą toje pirminėje lygtyje, iš kurios gavome paprastesnę lygtį.\n",
    "\n",
    "6\\. Kartojame žingsnius 2 - 5 tol, kol gauname rezultatą.\n",
    "\n",
    "7\\. Patartina visus žingsnius, kuriems prireikė pagalbos juodraštyje, užsirašyti savais žodžiais. Jų prireiks sprendžiant kitus uždavinius."
   ]
  },
  {
   "cell_type": "markdown",
   "metadata": {},
   "source": [
    "### Sprendimo pavyzdys"
   ]
  },
  {
   "cell_type": "markdown",
   "metadata": {},
   "source": [
    "<img src=\"mantui.png\" width=\"600\">"
   ]
  },
  {
   "cell_type": "markdown",
   "metadata": {},
   "source": [
    "### Manto sunkumai\n",
    "* Reikėtų priprasti prie 1, 2, 3 pažymėtų pertvarkymų\n",
    "* Taip pat prisiminti kintamojo iškėlimą prieš sklaustus: $8xy^2+9x^2 = x(8y^2+9x)$"
   ]
  }
 ],
 "metadata": {
  "kernelspec": {
   "display_name": "Python 3",
   "language": "python",
   "name": "python3"
  },
  "language_info": {
   "codemirror_mode": {
    "name": "ipython",
    "version": 3
   },
   "file_extension": ".py",
   "mimetype": "text/x-python",
   "name": "python",
   "nbconvert_exporter": "python",
   "pygments_lexer": "ipython3",
   "version": "3.8.3"
  }
 },
 "nbformat": 4,
 "nbformat_minor": 4
}
