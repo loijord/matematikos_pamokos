{
 "cells": [
  {
   "cell_type": "markdown",
   "metadata": {},
   "source": [
    "# Sveikas sugrįžęs"
   ]
  },
  {
   "cell_type": "markdown",
   "metadata": {},
   "source": [
    "* Ar pasiruošęs kibti į darbus?\n",
    "\n",
    "* Kaip manai, kokie sugebėjimai padės įveikti sunkumus? \n",
    "\n",
    "* Kaip manai, kokie sunkumai mokantis matematiką nusimato?\n",
    "\n",
    "* Kaip manai, kurias temas moki ir kurių nemoki?"
   ]
  },
  {
   "cell_type": "markdown",
   "metadata": {},
   "source": [
    "***Mantas.*** *Šiek tiek pavyko apšilti ir paspręsti kontrolinių knygutes. Labiausiai strigo laipsniai, bet juos pasikartojome su tėčiu ir prisiminiau.*\n",
    "\n",
    "***Simonas.*** Ta tema yra sunkoka, nes sunku suprasti, kodėl veikia taisyklės. Pamėginkime pasikartoti vieną iš taisyklių: $$\\text{Kam lygu }(a^n)^m?$$.\n",
    "\n",
    "***Mantas.*** *Gal tai būtų $a^{n+m}?$*.\n",
    "\n",
    "***Simonas.*** *Neteisingai. Iš tiesų tai būtų $a^{nm}$.*\n",
    "\n",
    "***Mantas.*** *Ai, ten, pasirodo, buvo daugyba.*\n",
    "\n",
    "***Simonas.*** *Na va, tai pasirodo, kad žinios buvo ne tokios ir tvirtos. Tu užmiršti tokias ir panašias taisykles, nes jos nereiškia nieko daugiau, nei nurodymus, kaip reikia perstatyti simbolius. Tai yra simbolinis įsiminimo būdas. Duosiu panašų uždavinį su trupmenomis:* $$\\frac{2}{3} + \\frac{3}{5} = ?$$\n",
    "\n",
    "***Mantas.*** (Skaičiuoja mintyse) *atsakymas: $\\text{1}\\frac{4}{15}$.*\n",
    "\n",
    "***Simonas.*** *Taikliai. Tai va, abu žinom dauginamų ir sudedamų simbolių vietas pagal taisyklę, tai mąstom taip pat. Tačiau tai nėra pats geriausias būdas įsiminti visoms matematinėms taisyklėms. Dažniausiai informaciją prisimename tik kartodamiesi sprendžiant uždavinius, bet nuolat to nedarant, ta informacija išblėsta.*\n",
    "\n",
    "***Simonas.*** *Kaip įkvepiantį pavyzdį pateiksiu įsiminimo formas, kurias naudoja atminties pasaulio čempionatų dalyviai darydami tokias užduotis kaip dešimčių sumaišytų kortų kaladžių įsiminimas ar tiesiog skaičiaus $\\pi$ skaitmenų įsiminimas. Įsimenant skaičiaus $\\pi$ skaitmenis galime kiekvieną trijų skaitmenų grupę paversti į 3 priebalses pagal taisykles, pavadintas [Mnemonic major system](https://en.wikipedia.org/wiki/Mnemonic_major_system#The_system) Tada iš šių 3 priebalsių galima sudaryti daiktavardį, o iš po to einančių priebalsių - jį atitinkantį veiksmą ar būdvardį. Taip šešiais skaitmenimis galima aprašyti vieną vaizdą, vieną situaciją. Šios situacijos vėliau yra siejamos su maršrutais, kuriuose jos vyko. Jei taip sudėliotume įvykių grandinę nuo namų iki mokyklos, tai gautume vaizdingą pasakojimą, padedantį įsiminti labai daug $\\pi$ skaitmenų.*"
   ]
  },
  {
   "cell_type": "markdown",
   "metadata": {},
   "source": [
    "***Simonas.*** *Tad ir matematikoje taisyklių įsiminimas turėtų būti praturtintas vaizdiniais. Tik tokiu būdu šias taisykles galime priversti neužsimiršti. Šiandien prisiminsime, kokių vaizdinių reikia norint lengviau atkurti laipsnių taisykles*."
   ]
  },
  {
   "cell_type": "markdown",
   "metadata": {},
   "source": [
    "## Startas!"
   ]
  },
  {
   "cell_type": "markdown",
   "metadata": {},
   "source": [
    "Nagrinėsime pačius įvairiausius pavyzdžius, pailiustruojančius, kaip galima iš matematikos uždavinių galima pasisemti daug daugiau, nei iš pamokose mokomų taisyklių. "
   ]
  },
  {
   "cell_type": "markdown",
   "metadata": {},
   "source": [
    "## Uždavinys 1.\n",
    "Ankstesnėje klasėje bandėme spręsti [užduotis, kai iš anksto nežinojome, kaip](../2020-04-29/2020-04-29.ipynb). Pavyzdžiui aptarėme, kiek daugiausia galima surašyti iš eilės einančių teigiamų sveikųjų skaičių, kad jų skaitmenų suma nesidalytų iš 5? Nuo aptarimo praėjo 4 mėnesiai - ~~ką pavyko prisiminti?~~ kokius įspūdžius apie uždavinio sprendimą atsimeni?\n",
    "#### Uždavinio sprendimas kantriai renkant duomenis:"
   ]
  },
  {
   "cell_type": "code",
   "execution_count": 8,
   "metadata": {},
   "outputs": [
    {
     "name": "stdout",
     "output_type": "stream",
     "text": [
      "1 -> 1 Liekana: 1 \n",
      "2 -> 2 Liekana: 2 \n",
      "3 -> 3 Liekana: 3 \n",
      "4 -> 4 Liekana: 4 \n",
      "5 -> 5 Liekana: 0 , dalijasi iš 5\n",
      "6 -> 6 Liekana: 1 \n",
      "7 -> 7 Liekana: 2 \n",
      "8 -> 8 Liekana: 3 \n",
      "9 -> 9 Liekana: 4 \n",
      "10 -> 1 Liekana: 1 \n",
      "11 -> 2 Liekana: 2 \n",
      "12 -> 3 Liekana: 3 \n",
      "13 -> 4 Liekana: 4 \n",
      "14 -> 5 Liekana: 0 , dalijasi iš 5\n",
      "15 -> 6 Liekana: 1 \n",
      "16 -> 7 Liekana: 2 \n",
      "17 -> 8 Liekana: 3 \n",
      "18 -> 9 Liekana: 4 \n",
      "19 -> 10 Liekana: 0 , dalijasi iš 5\n",
      "20 -> 2 Liekana: 2 \n",
      "21 -> 3 Liekana: 3 \n",
      "22 -> 4 Liekana: 4 \n",
      "23 -> 5 Liekana: 0 , dalijasi iš 5\n",
      "24 -> 6 Liekana: 1 \n",
      "25 -> 7 Liekana: 2 \n",
      "26 -> 8 Liekana: 3 \n",
      "27 -> 9 Liekana: 4 \n",
      "28 -> 10 Liekana: 0 , dalijasi iš 5\n",
      "29 -> 11 Liekana: 1 \n",
      "30 -> 3 Liekana: 3 \n",
      "31 -> 4 Liekana: 4 \n",
      "32 -> 5 Liekana: 0 , dalijasi iš 5\n",
      "33 -> 6 Liekana: 1 \n",
      "34 -> 7 Liekana: 2 \n",
      "35 -> 8 Liekana: 3 \n",
      "36 -> 9 Liekana: 4 \n",
      "37 -> 10 Liekana: 0 , dalijasi iš 5\n",
      "38 -> 11 Liekana: 1 \n",
      "39 -> 12 Liekana: 2 \n",
      "40 -> 4 Liekana: 4 \n",
      "41 -> 5 Liekana: 0 , dalijasi iš 5\n",
      "42 -> 6 Liekana: 1 \n",
      "43 -> 7 Liekana: 2 \n",
      "44 -> 8 Liekana: 3 \n",
      "45 -> 9 Liekana: 4 \n",
      "46 -> 10 Liekana: 0 , dalijasi iš 5\n",
      "47 -> 11 Liekana: 1 \n",
      "48 -> 12 Liekana: 2 \n",
      "49 -> 13 Liekana: 3 \n",
      "50 -> 5 Liekana: 0 , dalijasi iš 5\n"
     ]
    }
   ],
   "source": [
    "for i in range(1,51):\n",
    "    k = sum(int(n) for n in str(i))\n",
    "    print(i,'->', k, f'Liekana: {k%5}', {True: ', dalijasi iš 5', False: ''}[k%5==0])"
   ]
  },
  {
   "cell_type": "markdown",
   "metadata": {},
   "source": [
    "#### Gautų duomenų nagrinėjimas\n",
    "Sprendžiant uždavinį reikėjo:\n",
    "* mintyse nepainioti skaičiaus dalumo iš 5 su jo skaitmenų sumos dalumu iš 5\n",
    "* reikėjo daugiau paeksperimentuoti ir paneigti neteisingą prielaidą, kad tarpai kartojasi tvarka: 3, 4, 3, 4, 3, 4..."
   ]
  },
  {
   "cell_type": "markdown",
   "metadata": {},
   "source": [
    "#### Išvados\n",
    "\n",
    "Užsiėmimas nenuėjo veltui, nes sužinojome pravartų dalyką, kad:\n",
    "* iš eilės einančių skaičiaus skaitmenų sumos liekanos neina iš eilės, o tam tikru būdu yra peršokamos (kokiu?)\n",
    "\n",
    "Gali būti ir keli pravartūs dalykai. Jie veikia, kaip užuominos, kurios padeda pasistūmėti su sprendimu. $$\\boxed{\\begin{array}{l}\\text{Paprastai viena iš užuominų būna kertinė, norint išspręsti uždavinį ir ją galima vadinti loginiu pagrindu}\\\\\n",
    "\\text{Kiekvienas išspręstas uždavinys - gera proga atrasti loginius pagrindus arba įsitikinti, kad tokius jau mokame gliaudyti}\\end{array}\n",
    "}$$"
   ]
  },
  {
   "cell_type": "markdown",
   "metadata": {},
   "source": [
    "### Uždavinys 2. Paaiškinti, kodėl Pitagoro teorema yra teisinga¶"
   ]
  },
  {
   "cell_type": "markdown",
   "metadata": {},
   "source": [
    "Ankstesniame uždavinyje atsispindėjo tokie laipteliai:\n",
    "- Kantrus duomenų rinkimas\n",
    "- Duomenų nagrinėjimas\n",
    "- Išvados\n",
    "\n",
    "Gal pavyks pamatyti, kaip šie laipteliai atsisipindi nagrinėjant labai stambų uždavinį: Pitagoro teoremos įrodymą? Teoremoje tvirtinama, kad jei kvadratai sudėlioti tokiu būdu, kad vidinis trikampis yra statusis, tai sudėję mažesniųjų kvadratų plotus gausime trečiojo kvadrato plotą.\n",
    "\n",
    "<img src=\"pitagoras.png\" width=\"100\">\n",
    "\n",
    "Iš tiesų, suprasti įrodymą - tai jau didelis, daug žinių reikalaujantis uždavinys. Būdamas mokykloje prieš ėjimą į gimnaziją bandžiau pats paaiškinti tos teoremos veikimą, bet nepavyko, kol mokytoja to neparodė lentoje. Štai pilnas Pitagoro teoremos supratimo žemėlapis - nuo pirminės supratimo stadijos iki galutinės.\n",
    "\n",
    "1 žingsnis.\n",
    "![](teor1.png)\n",
    "\n",
    "2 žingsnis.\n",
    "<img src=\"teor2.png\" width=\"600\">\n",
    "\n",
    "3 žingsnis.\n",
    "<img src=\"teor3.png\" width=\"450\">\n",
    "\n",
    "4 žingsnis.\n",
    "![](teor4.png)"
   ]
  },
  {
   "cell_type": "markdown",
   "metadata": {},
   "source": [
    "Pirmasis planas atrodo baisiai. Bet nieko tokio - baisiai atrodo ir vairavimas mieste pirmą sykį, kol nepažįstame kelio ženklų. Po to galime vairuoti užmiršę stresą ir pasitikėdami, kad esame saugūs, panašiai, kaip pavaizduota paskutiniajame žingsnyje.\n",
    "\n",
    "Vis dėlto, atrodo, kad patiems sugalvoti Pitagoro teoremos įrodymą nebaigus 8 klasių pavyksta tik genijams, tad apsiribosime tik šio įrodymo aiškinimusi. Šiuo atveju gvildenimas atrodytų šitaip:\n",
    "\n",
    "- Kantrus duomenų rinkimas. Kad ir koks painus būtų pirmąsyk stebėtas įrodymo planas, jame galime atskirti oranžine spalva pažymėtus komponentus. Jie parodo, kokius duomenis (taisykles) prieš tai jau turėjome žinoti. Tai būtų: **trikampio lygumo požymis pagal 2 kraštines ir kampą tarp jų**, **trikampio ir kvadrato plotų formulės**, **to paties atėmimas iš abejų lygties pusių**, **greitosios daugybos formulė**. Be šių žinių pateikto įrodymo suprasti nepavyktų ir tai yra aiški nuoroda į temas, kurias moksleiviai turėtų pasikartoti prieš Pitagorą.\n",
    "- Duomenų nagrinėjimas. Įrodymas yra skaidomas į dalis, bandome ieškoti tokio suskirstymo į kuo mažiau dalių, kuris būtų suprantamesnis, paprastesnis apibūdinti žingsnius.\n",
    "- $\\boxed{\\text{Išvados.}}$ Loginis pagrindas buvo ploto skaičiavimas pavaizduotoje konstrukcijoje dviem būdais. Jį galime naudoti kaip esminę užuominą įrodyti Pitagoro teoremai. Tačiau norint taikyti Pitagoro teoremą mintinai atgaminti visus įrodymo žingsnius yra labai sudėtinga. Todėl sprendžiant mokyklinius uždavinius, kur reikia taikyti Pitagoro teoremą, aiškinimo atgaminti nesistengiame. Galime remtis dviem būdais: **simboliniu** ir **vaizdiniu**, kaip parodyta.\n",
    "\n",
    "<img src=\"pythagorean_memorization.png\" width=\"400\">"
   ]
  },
  {
   "cell_type": "markdown",
   "metadata": {},
   "source": [
    "Tarp kitko, vaizdinis būdas yra vertesnis dėmesio, nes taip jį suvokdavo prieš mūsų erą egzistavę žmonės iš Senovės Graikijos - šalies, kurioje pirmąsyk buvo įrodyta Pitagoro teorema."
   ]
  },
  {
   "cell_type": "markdown",
   "metadata": {},
   "source": [
    "### Uždavinys 3.\n",
    "***Simonas.*** *Mantai, ar moki spręsti kvadratines lygtis?*\n",
    "\n",
    "***Mantas.*** *Nemoku*\n",
    "\n",
    "***Simonas.*** Aš tuo abejoju. Bent jau nepilnąsias kvadratines lygtis tikrai turėtum įveikti. \n",
    "Duosiu tau pavyzdį pasibandyti. Pabandyk pagalvoti su štai tokios lygties pavyzdžiu: $$(x+7)(x-3)=0$$\n",
    "\n",
    "***Mantas.*** *Bandau:*\n",
    "$$(x+7)(x-3)=0$$\n",
    "\n",
    "$$\\boxed{x+7=0}\\text{ arba } \\boxed{x-3=0}$$\n",
    "\n",
    "$$\\boxed{x = -7}\\text{ arba } \\boxed{x = 3}$$\n",
    "\n",
    "***Simonas.*** *Na matai, šis tas pavyko. Bet man dar šiek tiek įdomu, kaip tai pavyko. Ar supranti, kaip šis ,,arba\" triukas veikia?*\n",
    "\n",
    "***Mantas.*** *Manau kad taip, mokėmės mokykloje.*\n",
    "\n",
    "***Simonas.*** *Ar supranti, kada sudauginę du skaičius gausime nulį?*\n",
    "\n",
    "***Mantas.*** *Taip, kai vienas yra nulis arba kitas nulis.*\n",
    "\n",
    "***Simonas.*** *Šaunu, tau viskas aišku. O kas padėjo suprasti? Apie ką būtent galvoji, kad prisimintum šią taisyklę.*\n",
    "\n",
    "***Mantas.*** *Nežinau, tiesiog gaunasi.*\n",
    "\n",
    "***Simonas.*** *Galbūt imanoma tai susieti su kokia nors situacija gyvenime, pavyzdžiui situacija parduotuvėje?*\n",
    "\n",
    "***Mantas.*** *Nežinau.* (Abejodamas) *aš nusipirkau nulį tetrapakų po pusantro euro, tai gaunasi, kad nieko nemoku?*\n",
    "\n",
    "***Simonas.*** *Taip, teisingai. Tik drąsiau! Nors atvirai, nors ir supranti apie tą triuką, visai tau nereikia galvoti apie parduotuvę. Tau nereikia galvoti apie konkrečias situacijas, reiškia nereikia mintyse turėti jokio vaizdo, tik galbūt simbolius. Ar apie simbolius ir galvojai?*\n",
    "\n",
    "***Mantas.*** *Taip, panašu.*\n",
    "\n",
    "***Simonas.*** *Džiaugiuosi. Tavo mąstymas jau abstraktus. Vaizdinių neprireikė tam kad supratimas palengvėtų. Dabar jie tik trukdo. Matai, kai gerai supranti, skaičiams vaizdas ne visada padeda. Verčiau jau juos įsivaizduoti kaip simbolius, o kitokio įsivaizdavimo prireikia, kai taisyklė dar nėra aiški ir nori surasti situacijų, kurios apie ją primintų.*"
   ]
  },
  {
   "cell_type": "markdown",
   "metadata": {},
   "source": [
    "$$\\boxed{\\text{Išvada: daug ką matematikoje galime gerai suprasti negalvodami apie nieką kitą, tik skaičius ir jų operacijas}}$$"
   ]
  },
  {
   "cell_type": "markdown",
   "metadata": {},
   "source": [
    "### Uždavinys 4.\n",
    "Kiek patvarus yra laipsnių įsivazdavimas per giminės medį?\n",
    "\n",
    "***Simonas.*** *Duodamas ankstesnį pavyzdį norėjau pasakyti, kad panašiai gaunasi ir su laipsniais. Pats geriausias būdas juos suprasti yra negalvoti apie nieką kitą, tik apie skaičių išdėliojimus. Bet neskubėkime. Gal pradėkime nuo pačių paprasčiausių pavyzdžių. Gal prisimeni kokį nors laipsnio pasitaikymo pavyzdį, Mantai?*\n",
    "\n",
    "***Mantas.*** *Na pavyzdžiui, aš turiu du tėvus ir keturis senelius. Kiekvieną sykį reikia dauginti iš dviejų, tai laipsniai man - kaip giminės medis.*\n",
    "\n",
    "***Simonas.*** *Taip čia geras pavyzdys, bet jis ribotas, nes pavaizduoja tik pakartotinį dauginimą iš dviejų. O kaip su trimis ar su kitais norimais skaičiais?*\n",
    "\n",
    "***Mantas.*** *Tada nežinau.*\n",
    "\n",
    "***Simonas.*** *Vadinasi, giminės medžiai leidžia tik parodyti atvejus $2^n$. Bet gal jie bus pakankamai stiprūs paaiškinti laipsnių savybėms? Imkime pavyzdžiui šią taisyklę: $$2^n \\times 2^m = 2^{nm}$$ Ar galima ją pritaikyti bandant atsakyti, kiek $\\underbrace{propro\\dots pro}_{100}senelių$ iš viso tu turi?*\n",
    "\n",
    "***Mantas.*** *Turbūt ne, bet pabandysiu paskaičiuoti. Yra 2 tėvai, tada 4 seneliai. Tada dauginame dar šimtą kartų.*\n",
    "\n",
    "***Simonas.*** *O jei tą skaičių užrašytume?*\n",
    "\n",
    "***Mantas.*** Va: $4 \\times 2\\times 2\\times ... \\times 2 = 4 \\times 2^{100}$\n",
    "\n",
    "***Simonas.*** *Tai teisinga, bet kol kas dar negalutinė išraiška.*\n",
    "\n",
    "***Mantas.*** *Gal atsakymas $2^{102}$? Nes aš galiu padauginti $2^{100}$ iš 2 ir dar iš 2?*\n",
    "\n",
    "***Simonas.*** *Taip teisingai. Nors užtrukome ilgokai. Iš tiesų, čia buvo skaičiaus $2^2 \\times 2^{100}$ pavertimas į skaičių $2^{102}$ remiantis protėvių skaičiavimu. Nors tai įdomu, bet kažin, ar padėtų atsiminti laipsnių sudėties taisyklę $2^n \\times 2^m = 2^{nm}$, jei ją pamirštume.* Kaip sakiau, reiktų kažko, kas būtų labiau panašu tiesiog į simbolius."
   ]
  },
  {
   "cell_type": "markdown",
   "metadata": {},
   "source": [
    "$$\\boxed{\\begin{array}{l}\\text{Išvada: giminės medis yra vaizdingas būdas laipsniui aiškinti,}\\\\  \\text{bet komplikuotas, kai norime prisiminti laipsnių savybes}\\end{array}}$$"
   ]
  },
  {
   "cell_type": "markdown",
   "metadata": {},
   "source": [
    "### Uždavinys 5.\n",
    "Kitas laipsnių pasitaikymo pavyzdys. Kiek jis stiprus?\n",
    "\n",
    "***Simonas.*** *Ar teko susidurti su tokiu laipsnių skaičiavimo pavyzdžiu?* Kaip manai, kaip šie paveikslėliai atspindi laipsnius?\n",
    "\n",
    "<img src=\"tensors.png\" width=\"400\">\n",
    "\n",
    "***Mantas.*** *Nežinau, kaip tai susiję.*\n",
    "\n",
    "***Simonas.*** *Gaila, kad neatsimeni.* Praeitais metais kalbėjome apie tokių išraiškų kaip $(a+b)^2$ skaičiavimą naudojant kvadratus. Po to dar bandėme su $(a+b)^3$ naudojant kubus. Nors buvo painoka, bet tai tikrai esi matęs. Gali dar sykį žvilgterti į [pavyzdžius](../paskutinės%20pamokos/atskliaudimai.pdf) su kėlimu kvadratu ir kubu iš praeitų metų (ypač į galą). Be to, juk pats skaičiaus kėlimas kvadratu ar kubu turėtų kažkaip reikšti, kad laipsniai yra susiję ir su geometrinėmis figūromis. Kokios yra kvadrato ploto ir kubo tūrio formulės?\n",
    "\n",
    "***Mantas.*** *Kvadrato $a \\times a$, o kubo $a \\times a \\times a$.*\n",
    "\n",
    "***Simonas.*** *O kaip su kitomis figūromis? Gal yra matyti, kas skaičiuojama? Pavyzdžiui, ką reiškia $a^4$ ketvirtame paveikslėlyje?*\n",
    "\n",
    "***Mantas.*** *Nematyti, nežinau*\n",
    "\n",
    "***Simonas.*** *Gal padės supratimas, kad plotas ir tūris iš tiesų atspindi užimamą vietą. Visuose paveikslėliuose bandoma parodyti, kad yra skaičiuojama būtent nupieštų kūnų užimama vieta. Pavyzdžiui atkarpos neturi pločio, o tik ilgį, tai užtenka vieno matmens $a$, kvadrato plotą atitiks $a^2$, o kubo tūrį - $a^3$. Laipsnio rodiklius šiame pavyzdyje galima vadinti dimensijomis arba, kitaip, matmenų skaičiumi. Tad pirmuose trijuose paveikslėliuose pavaizduoti vienos, dviejų ir trijų dimensijų kūnai. O nuo keturių dimensijų atsiranda tam tikrų prieštaravimų. Ketvirtos dimensijos neįmanoma įsivaizduoti, nes mus supančioje erdvėje yra tik trys (vienas kitam statmeni) matmenys: ilgis, plotis ir aukštis. Tačiau paveikslėlyje siūloma apeiti šį prieštaravimą ir įsivaizduoti, kad $a$ kubų su kraštine $a$ užims $a^4$ vietos, o penkta ir šešta figūros užims $a^5$ ir $a^6$ vietos. Vietoje likusių dimensijų nauji matmenys nenaudojami, vietoj to apsieinama su jau sukonstruotų figūrų kiekiais dėliojant jas pagal plotį, ilgį ir aukštį* (jau buvusiais dimensijas).\n",
    "\n",
    "***Simonas.*** *Ir nors šie vaizdai nepadeda suprasti laipsnių savybių, tačiau yra labai įdomus pratimas. Matematikai panašiu būdu gali įsivaizduoti kiek nori dimensijų. Tačiau matematikai ir fizikai ima nebesutarti dėl to, kas yra ketvirtoji dimensija. Fizikai tvirtina, kad tai yra laikas. Toks požiūris yra gana aiškiai perteiktas [filmuke apie Einšteino reliatyvumo teoriją](https://www.youtube.com/watch?v=ev9zrt__lec).*\n",
    "\n",
    "$$\\boxed{\\text{Išvada: laipsnis - tai tam tikru požiūriu ir dimensija}}$$"
   ]
  },
  {
   "cell_type": "markdown",
   "metadata": {},
   "source": [
    "### Uždavinys 6 - visos pamokos apibendrinimas.\n",
    "Paaiškinti, kodėl $(a^n)^m$ lygu $a^{nm}$. "
   ]
  },
  {
   "cell_type": "markdown",
   "metadata": {},
   "source": [
    "Apibendriname, ką išmokome per pamoką:\n",
    "\n",
    "- protėvių skaičiavimas arba dimensijų įsivaizdavimas yra geri laipsnio aiškinimo būdai, tačiau nepakankamai stiprūs, kad juos būtų galima lengvai susieti su visomis pagrindinėmis laipsnių savybėmis. \n",
    "- sudėtingesnius paaiškinimus dažnai sudaro keli pagrindiniai komponentai, iš kurių matyti, kokios žinios iš tiesų yra reikalingos samprotaujant apie taisykles ar uždavinius\n",
    "- vienas iš komponentų būna esminis. Tai gali būti pagrindinė sprendimo užuomina, loginis pagrindas, išgryninta pagrindinė idėja ar vaizdinys.\n",
    "- taisyklių įsiminimas geriausiai veikia, jei mūsų susikurtas vaizdinys paaiškina kiek galima daugiau savybių, nėra ribotas ir veikiantis tik su tam tikrais skaičiais.\n",
    "- kalbant apie abstraktesnius veiksmus tvirtam supratimui nėra būtina apie skaičius galvoti kaip apie kainas, atstumus, plotus, greičius ir kitus dydžius (t.y. visa, kam priskiriame matavimo vienetus), galima jį įsivaizduoti kaip simbolį - kortelę, padėtą tam tikroje pozicijoje tarp kitų kortelių ir aritmetinių veiksmų."
   ]
  },
  {
   "cell_type": "markdown",
   "metadata": {},
   "source": [
    "Taikydamas šias įžvalgas siūlau tokį planą paaiškinti lygybei $(a^n)^m$ lygu $a^{nm}$:\n",
    "\n",
    "![](neuro_output.png)\n",
    "\n",
    "Planą aptarėme pamokos metu. Mantui siūlau darsyk jį peržvelgti ir pasakyti, kurios dalys atrodo painios. \n",
    "\n",
    "Vienoje vietoje keblumai kilo norint suprasti, kad visas eiles galima kopijuoti ir dauginti lygiai taip pat. Be to plane matyti, kad ne visur to paties apibrėžimo taikymas yra tiesioginis: vienoje vietoje prireikia vietoje rodiklio $n$ naudoti rodiklį $m$ bei vietoje pagrindo $a$ imti pagrindą $a^n$, o kitoje vietoje prireikia vietoje rodiklio $n$ imti rodiklį $nm$.\n",
    "\n",
    "Kaip ir stebėtame Pitagoro teoremos įrodyme, galime pamatyti, kurie komponentai buvo esminiai. Tai būtų laipsnio apibrėžimas ir vaizdinys, kurį bandome matyti dviem būdais taikydami tą apibrėžimą:\n",
    "\n",
    "| Apibrėžimas |\n",
    "|:--:| \n",
    "| ![](power_def.png)|\n",
    "\n",
    "| Vaizdinys |\n",
    "|:--:| \n",
    "| ![](power_permute.png) |"
   ]
  },
  {
   "cell_type": "markdown",
   "metadata": {},
   "source": [
    "### Namų darbai\n",
    "\n",
    "<img src=\"tensors.png\" width=\"300\">\n",
    "\n",
    "- Kaip atrodytų dar trys kūnai, gauti pratęsus paveikslėlyje pavaizduotą seką?\n",
    "- Pirmąsyk aš sukonstravau kubą, kurio kraštinės ilgis yra $a$. Antrąsyk sukonstravau kitą kubą, kurio aukštį sudaro $a$ prieš tai gautų kubų. Tai pakartojau daug kartų, kol $n$-tąjį sykį vėl gavau kubą, kurio aukštį sudaro $a$ prieš tai gautų kubų. Kokio tūrio bus mano galiausiai gautas kubas?\n",
    "- Pirmąsyk aš sukonstravau kubą, kurio kraštinės ilgis yra $a_1$. Antrąsyk sukonstravau kitą kubą, kurio aukštį sudaro $a_2$ prieš tai gautų kubų. Tai pakartojau daug kartų, kol $n$-tąjį sykį gavau kubą, kurio aukštį sudaro $a_n$ prieš tai gautų kubų. Kokio tūrio bus mano galiausiai gautas kubas? Koks jo kraštinės ilgis? \n",
    "- Uždavinio su $\\underbrace{propro\\dots pro}_{100}seneliais$ gautame atsakyme yra netikslumas: $$2^{102} > 5 000 000 000 000 000 000 000 000 000 000$$ Tiek žmonių Žemėje niekad negyveno. Iš kur šis netikslumas galėjo atsirasti?\n",
    "- Kaip užrašoma taisyklė $a^na^m=a^{n+m}$, kai $n=m=0.5$?\n",
    "- Kaip užrašoma taisyklė $a^na^m=a^{n+m}$, kai $n=m$?\n",
    "- Kaip užrašoma taisyklė $(a^n)^m = a^{nm}$, kai $n=0.5, m=2$?"
   ]
  },
  {
   "cell_type": "markdown",
   "metadata": {},
   "source": [
    "### Šaltiniai"
   ]
  },
  {
   "cell_type": "markdown",
   "metadata": {},
   "source": [
    "1. Dominic O'Brien. Atminties galimybės.\n",
    "2. Tony Buzan. Mokykitės mąstyti.\n",
    "3. [Einstein's theory of relativity](https://www.youtube.com/watch?v=ev9zrt__lec)\n",
    "4. David Tall. How Humans Learn to Think Mathematically."
   ]
  }
 ],
 "metadata": {
  "kernelspec": {
   "display_name": "Python 3",
   "language": "python",
   "name": "python3"
  },
  "language_info": {
   "codemirror_mode": {
    "name": "ipython",
    "version": 3
   },
   "file_extension": ".py",
   "mimetype": "text/x-python",
   "name": "python",
   "nbconvert_exporter": "python",
   "pygments_lexer": "ipython3",
   "version": "3.8.3"
  }
 },
 "nbformat": 4,
 "nbformat_minor": 4
}
