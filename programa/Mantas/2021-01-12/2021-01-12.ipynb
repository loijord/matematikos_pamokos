{
 "cells": [
  {
   "cell_type": "markdown",
   "metadata": {},
   "source": [
    "1\\. $\\sqrt{2}(\\sqrt{8}-\\sqrt{2})$\n",
    "\n",
    "2\\. $\\sqrt[5]{2^{10}\\cdot 3^{15}}$\n",
    "\n",
    "3\\. $\\sqrt{2}\\cdot \\sqrt{18}$\n",
    "\n",
    "4\\. $\\sqrt[4]{27}\\cdot \\sqrt[4]{3}$\n",
    "\n",
    "5\\. $\\sqrt{30\\cdot 66 \\cdot 220}$\n",
    "\n",
    "6\\. $2\\sqrt{8} - \\sqrt{32}$\n",
    "\n",
    "7\\. $\\left(\\sqrt{2}+\\sqrt{3}\\right)\\left(\\sqrt{2}-\\sqrt{3}\\right)$\n",
    "\n",
    "8\\. $\\left(\\sqrt{5}+1\\right)^2-\\sqrt{20}$\n",
    "\n",
    "9\\. $^*\\frac{1}{\\sqrt{2}-1} - \\sqrt{2}$\n",
    "\n",
    "Mantas bandė namuose spręsti 9 pratimus su šaknimis."
   ]
  },
  {
   "cell_type": "markdown",
   "metadata": {},
   "source": [
    "$\\boxed{1}$ **Manto spr.:** $\\sqrt{2}(\\sqrt{8}-\\sqrt{2}) = \\sqrt{2}(\\sqrt{2\\cdot 4}-\\sqrt{2}) = \\sqrt{2}(\\sqrt{2}\\sqrt{4}-\\sqrt{2}) = \\sqrt{2}(\\sqrt{2}\\sqrt{2}\\sqrt{2}-\\sqrt{2}) = \\sqrt{2}(2\\sqrt{2}-\\sqrt{2}) = \\sqrt{2}\\sqrt{2}=2$\n",
    "\n",
    "$\\boxed{3}$ **Manto spr.:** $\\sqrt{2}\\sqrt{18} = \\sqrt{2}\\sqrt{18} = \\sqrt{2}\\sqrt{2\\cdot 9} = \\sqrt{2}\\sqrt{2}\\cdot \\sqrt{9} = 2\\sqrt{3}\\sqrt{3} = 2\\cdot 3 = 6$\n",
    "\n",
    "$\\boxed{5}$ $\\sqrt{30 \\cdot 66 \\cdot 220}=...$ **Manto spr. labai ilgas. Simonas: reikia žiūrėti į pošaknį kaip į daugiklių rinkinį:** $\\boxed{2\\cdot 5 \\cdot 3 \\cdot 3 \\cdot 2 \\cdot 11 \\cdot 11 \\cdot 2 \\cdot 2 \\cdot 5}$\n",
    "\n",
    "$\\boxed{6}$ **Manto spr. :** $2\\sqrt{8} - \\sqrt{32} = 2\\sqrt{8} - \\sqrt{2\\cdot 16} = 2\\sqrt{8} - \\sqrt{2} \\cdot \\sqrt{16} = 2\\sqrt{8} - 2 \\cdot \\sqrt{8} = 0$\n",
    "\n",
    "$\\boxed{7}$ **Manto spr. :** $\\left(\\sqrt{2}+\\sqrt{3}\\right)\\left(\\sqrt{2}-\\sqrt{3}\\right) = 2 - 3= -1$\n",
    "\n",
    "$\\boxed{8}$ **Manto spr. :** $\\left(\\sqrt{5}+1\\right)^2-\\sqrt{20} = 5 + 2\\sqrt{5} + 1 - \\sqrt{20} = 5 + 2\\sqrt{5} + 1 - 2\\sqrt{5} = 6$\n",
    "\n",
    "**Komentarai, kuriuos duosiu Mantui aptarus namų darbą:** \n",
    "\n",
    "* 7 ir 8 uždavinyje atsispindi greitosios daugybos formulių taikymas. Mantui jis sekasi puikiai. \n",
    "* 1,3, 5 ir 6 uždavinyje galima remtis 5 pirmomis žemiau išvardintomis taisyklėmis. Tačiau iš Manto sprendimų matosi, kad taikymas panašus į atsitiktinį klaidžiojimą, kol pasirodo kelias į atsakymą. Iš tiesų šioms taisylėms reikėtų tolimesnės ***žinių kompresijos***: žiūrėjimo į šaknį kaip į skaičiaus daugiklių dalybą į dvi grupes, taip pat gebėjimo skaičių keisti į daugiklių rinkinį ir atgal. Ši žinių kompresija leidžia manipuliuoti ne 5 taisyklėmis bet kuria tvarka, o matyti objektus skirtingomis formomis, suteikiant atliekamoms operacijoms kitokią prasmę:\n",
    "  * Skaičius -> daugiklių rinkinys\n",
    "  * Daugiklių rinkinys -> skaičius\n",
    "  * $\\sqrt{\\text{daugiklių rinkinys}}$ -> daugiklių rinkinys, sumažintas per pusę\n",
    "  * Daugiklių be poros mažinimas pusiau -> šaknies traukimas iš tų daugiklių.\n",
    "  \n",
    "  Pavyzdys: $\\sqrt{8} = \\sqrt{2\\cdot 2\\cdot 2} = \\boxed{\\text{3 daugikliai ,,2\" pusiau}} = \\boxed{\\text{pusantro daugiklio 2}} = \\boxed{\\text{1 daugiklis ,,2\", sudaugintas su puse jo\"}} = 2\\sqrt{2}$\n",
    "* 2 ir 4 uždavinyje taip pat reikėjo pošaknius matyti kaip daugiklių rinkinį. Taip pat prisidėjo mokykloje neišeitas dalykas: ***n tojo laipsnio šaknis dalina daugiklių rinkinį į n dalių**\n",
    "\n",
    "* 9 uždavinyje - rečiau sutinkamas, įdomus triukas. Jį vadina iracionalumo pašalinimu iš vardiklio. $a-b$ yra paranku matyti kaip $a^2-b^2$ ir $a+b$ santykį. Atitinkamai trupmenoje $\\frac{1}{a-b}$ vertinga skaitiklį ir vardiklį dauginti iš $a+b$."
   ]
  },
  {
   "cell_type": "markdown",
   "metadata": {},
   "source": [
    "Manto žinios: \n",
    "* Taisyklė $\\sqrt{nm} = \\sqrt{n}\\sqrt{m}$ - 5 taikymai, keletas be tikslo\n",
    "* Sveikojo skaičiaus iškėlimas prieš pošaknį: $\\sqrt{n^2m} = \\sqrt{n^2}\\sqrt{m}=n\\sqrt{m}$ - 2 taikymai, 1 per aplinkui\n",
    "* $\\sqrt{2}\\cdot \\sqrt{16} = 2\\sqrt{8}$ ? -2 taikymai (kažkas panašaus į $\\sqrt{(ka) \\cdot (b/k)} = \\sqrt{ab}$)\n",
    "* $\\left(\\sqrt{n}\\right)^2 = n$ - 5 taikymai\n",
    "* $\\sqrt{abc} = \\sqrt{a}\\sqrt{b}\\sqrt{c}$ - 1 taikymas\n",
    "* $(a+b)^2 = a^2+2ab+b^2$ - 1 taikymas\n",
    "* $(a+b)(a-b) = a^2-b^2$"
   ]
  },
  {
   "cell_type": "markdown",
   "metadata": {},
   "source": [
    "Makroskopinio ir mikroskopinio pasaulio panašumai - [įdomus kompresijos pavyzdys](https://www.youtube.com/watch?v=LRfXCZm1UOc)"
   ]
  },
  {
   "cell_type": "code",
   "execution_count": null,
   "metadata": {},
   "outputs": [],
   "source": []
  }
 ],
 "metadata": {
  "kernelspec": {
   "display_name": "Python 3",
   "language": "python",
   "name": "python3"
  },
  "language_info": {
   "codemirror_mode": {
    "name": "ipython",
    "version": 3
   },
   "file_extension": ".py",
   "mimetype": "text/x-python",
   "name": "python",
   "nbconvert_exporter": "python",
   "pygments_lexer": "ipython3",
   "version": "3.8.3"
  }
 },
 "nbformat": 4,
 "nbformat_minor": 4
}
