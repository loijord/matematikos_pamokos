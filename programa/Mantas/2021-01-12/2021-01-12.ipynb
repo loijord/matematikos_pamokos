{
 "cells": [
  {
   "cell_type": "markdown",
   "metadata": {},
   "source": [
    "1\\. $\\sqrt{2}(\\sqrt{8}-\\sqrt{2})$\n",
    "\n",
    "2\\. $\\sqrt[5]{2^{10}\\cdot 3^{15}}$\n",
    "\n",
    "3\\. $\\sqrt{2}\\cdot \\sqrt{18}$\n",
    "\n",
    "4\\. $\\sqrt[4]{27}\\cdot \\sqrt[4]{3} = \\sqrt[4]{27\\cdot 3} = \\sqrt[4]{3\\cdot 3\\cdot 3\\cdot 3} = 3$\n",
    "\n",
    "5\\. $\\sqrt{30\\cdot 66 \\cdot 220}$\n",
    "\n",
    "6\\. $2\\sqrt{8} - \\sqrt{32}$\n",
    "\n",
    "7\\. $\\left(\\sqrt{2}+\\sqrt{3}\\right)\\left(\\sqrt{2}-\\sqrt{3}\\right)$\n",
    "\n",
    "8\\. $\\left(\\sqrt{5}+1\\right)^2-\\sqrt{20}$\n",
    "\n",
    "9\\. $^*\\frac{1}{\\sqrt{2}-1} - \\sqrt{2}$\n",
    "\n",
    "Mantas bandė namuose spręsti šiuos 9 pratimus su šaknimis."
   ]
  },
  {
   "cell_type": "markdown",
   "metadata": {},
   "source": [
    "**Manto taikytos taisyklės sprendimuose**: \n",
    "* Taisyklė $\\sqrt{nm} = \\sqrt{n}\\sqrt{m}$ - 5 taikymai, keletas be tikslo\n",
    "* Sveikojo skaičiaus iškėlimas prieš pošaknį: $\\sqrt{n^2m} = \\sqrt{n^2}\\sqrt{m}=n\\sqrt{m}$ - 2 taikymai, 1 per aplinkui\n",
    "* $\\sqrt{2}\\cdot \\sqrt{16} = 2\\sqrt{8}$ ? -2 taikymai (kažkas panašaus į $\\sqrt{(ka) \\cdot (b/k)} = \\sqrt{ab}$)\n",
    "* $\\left(\\sqrt{n}\\right)^2 = n$ - 5 taikymai\n",
    "* $\\sqrt{abc} = \\sqrt{a}\\sqrt{b}\\sqrt{c}$ - 1 taikymas\n",
    "* $(a+b)^2 = a^2+2ab+b^2$ - 1 taikymas\n",
    "* $(a+b)(a-b) = a^2-b^2$ - 1 taikymas"
   ]
  },
  {
   "cell_type": "markdown",
   "metadata": {},
   "source": [
    "$\\boxed{1}$ **Manto spr.:** $\\sqrt{2}(\\sqrt{8}-\\sqrt{2}) = \\sqrt{2}(\\sqrt{2\\cdot 4}-\\sqrt{2}) = \\sqrt{2}(\\sqrt{2}\\sqrt{4}-\\sqrt{2}) = \\sqrt{2}(\\sqrt{2}\\sqrt{2}\\sqrt{2}-\\sqrt{2}) = \\sqrt{2}(2\\sqrt{2}-\\sqrt{2}) = \\sqrt{2}\\sqrt{2}=2$\n",
    "\n",
    "$\\boxed{3}$ **Manto spr.:** $\\sqrt{2}\\sqrt{18} = \\sqrt{2}\\sqrt{18} = \\sqrt{2}\\sqrt{2\\cdot 9} = \\sqrt{2}\\sqrt{2}\\cdot \\sqrt{9} = 2\\sqrt{3}\\sqrt{3} = 2\\cdot 3 = 6$\n",
    "\n",
    "$\\boxed{5}$ $\\sqrt{30 \\cdot 66 \\cdot 220}=...$ **Manto spr. labai ilgas. Simonas: reikia žiūrėti į pošaknį kaip į daugiklių rinkinį:** $\\boxed{2\\cdot 5 \\cdot 3 \\cdot 3 \\cdot 2 \\cdot 11 \\cdot 11 \\cdot 2 \\cdot 2 \\cdot 5}$\n",
    "\n",
    "$\\boxed{6}$ **Manto spr. :** $2\\sqrt{8} - \\sqrt{32} = 2\\sqrt{8} - \\sqrt{2\\cdot 16} = 2\\sqrt{8} - \\sqrt{2} \\cdot \\sqrt{16} = 2\\sqrt{8} - 2 \\cdot \\sqrt{8} = 0$\n",
    "\n",
    "$\\boxed{7}$ **Manto spr. :** $\\left(\\sqrt{2}+\\sqrt{3}\\right)\\left(\\sqrt{2}-\\sqrt{3}\\right) = 2 - 3= -1$\n",
    "\n",
    "$\\boxed{8}$ **Manto spr. :** $\\left(\\sqrt{5}+1\\right)^2-\\sqrt{20} = 5 + 2\\sqrt{5} + 1 - \\sqrt{20} = 5 + 2\\sqrt{5} + 1 - 2\\sqrt{5} = 6$\n",
    "\n",
    "**Komentarai, kuriuos duosiu Mantui aptarus namų darbą:** \n",
    "\n",
    "* 7 ir 8 uždavinyje atsispindi greitosios daugybos formulių taikymas. Mantui jis sekasi puikiai. \n",
    "* 1,3, 5 ir 6 uždavinyje galima remtis 5 pirmomis žemiau išvardintomis taisyklėmis. Tačiau iš Manto sprendimų matosi, kad taikymas panašus į atsitiktinį klaidžiojimą, kol pasirodo kelias į atsakymą. Iš tiesų šioms taisylėms reikėtų tolimesnės ***žinių kompresijos***: žiūrėjimo į šaknį kaip į skaičiaus daugiklių dalybą į dvi grupes, taip pat gebėjimo skaičių keisti į daugiklių rinkinį ir atgal. Ši žinių kompresija leidžia manipuliuoti ne 5 taisyklėmis bet kuria tvarka, o matyti objektus skirtingomis formomis, suteikiant atliekamoms operacijoms glaustesnę prasmę:\n",
    "  * Skaičius -> daugiklių rinkinys\n",
    "  * Daugiklių rinkinys -> skaičius\n",
    "  * $\\sqrt{\\text{daugiklių rinkinys}}$ -> daugiklių rinkinys, sumažintas per pusę\n",
    "  * Daugiklių be poros mažinimas pusiau -> šaknies traukimas iš tų daugiklių.\n",
    "  \n",
    "  Pavyzdys: $\\sqrt{8} = \\sqrt{2\\cdot 2\\cdot 2} = \\boxed{\\text{3 daugikliai ,,2\" pusiau}} = \\boxed{\\text{pusantro daugiklio 2}} = \\boxed{\\text{1 daugiklis ,,2\", sudaugintas su puse jo\"}} = 2\\sqrt{2}$\n",
    "  \n",
    "  Kitas pavyzdys: $\\sqrt{3\\cdot 3\\cdot 3\\cdot 3 \\cdot 5\\cdot 5\\cdot 5\\cdot 5\\cdot 5} = 3\\cdot 3\\cdot 5 \\cdot 5 \\sqrt{5}$\n",
    "* 2 ir 4 uždavinyje taip pat reikėjo pošaknius matyti kaip daugiklių rinkinį. Taip pat prisidėjo mokykloje neišeitas dalykas: ***n tojo laipsnio šaknis dalina daugiklių rinkinį į n dalių***\n",
    "\n",
    "* 9 uždavinyje - rečiau sutinkamas, įdomus triukas. Jį vadina iracionalumo pašalinimu iš vardiklio. "
   ]
  },
  {
   "cell_type": "markdown",
   "metadata": {},
   "source": [
    "Per pamoką šiek tiek daugiau laiko skyrėme 9 uždaviniui aptarti. $a-b$ yra paranku matyti kaip $a^2-b^2$ ir $a+b$ santykį. Taip žiūrėdami turėtume: $\\displaystyle \\frac{1}{\\sqrt{2}-1} = \\frac{1}{\\frac{2-1}{\\sqrt{2}+1}} = \\frac{\\sqrt{2}+1}{2-1}$ \n",
    "\n",
    "Galime elgtis ir kitaip skaitiklį ir vardiklį daugindami iš to paties skaičiaus: $\\displaystyle \\frac{1}{\\sqrt{2}-1} = \\frac{\\sqrt{2}+1}{(\\sqrt{2}-1)(\\sqrt{2}+1)} = \\frac{\\sqrt{2}+1}{2-1}$\n",
    "\n",
    "Pirmo būdo aptarimas rodo, kad Mantas turi mažai patirties su situacija $\\frac{a}{\\frac{b}{c}} = \\frac{a\\times c}{b}$ arba kitaip $a:(b:c) = a:b\\times c$. Apie šį dėsningumą mokykloje kalba retai, bet jis naudingas ypač pertvarkant fizikos formules. Buitinis pavyzdys su $18:(6:2)=18:6\\times 2$: *jei 18 eurų išdalinčiau ne 6 žmonėms o perpus mažiau žmonių, tai vienam žmogui atitektų dvigubai didesnis rezultatas.*"
   ]
  },
  {
   "cell_type": "markdown",
   "metadata": {},
   "source": [
    "Tam, kad darsyk užtvirtume pagrindines idėjas apie šaknų pertvarkymus, panagrinėjome, kuo skiriasi šie sprendimai:\n",
    "\n",
    "***Simonas:*** $\\sqrt{2}\\sqrt{18}= \\sqrt{2}\\sqrt{2\\cdot 3\\cdot 3}=\\sqrt{2\\cdot 2\\cdot 3\\cdot 3} = 2\\cdot 3$\n",
    "\n",
    "***Mantas:*** $\\sqrt{2}\\sqrt{18}= \\sqrt{2}\\cdot 3\\sqrt{2}= 2\\cdot 3$\n",
    "\n",
    "***Išvados:*** Manto būdas rekomenduotinas ir taupus laiko prasme, o Simono truputį sudėtingesnis. Bet Simono sprendime atsispindi skaičiaus matymas kaip daugiklių rinkinio. Šiuo sprendimu remiantis galėtume taip pat paaiškinti, kodėl $\\sqrt{18}=3\\sqrt{2}$, kaip sprendė Mantas.\n",
    "\n",
    "Vienoje vietoje nesusikalbėjome, kai paprašiau $18$ įsivaizduoti kaip pirminių daugiklių rinkinį. Tai yra tas pats, kaip išskaidyti 18 pirminiais dauginamaisiais."
   ]
  },
  {
   "cell_type": "markdown",
   "metadata": {},
   "source": [
    "### Skaidymas dauginamaisiais.\n",
    "Šaknis aptarinėjome apie valandą laiko. Likusias 45 minutes skyrėme susipažinimui su pagrindiniais skaidymo dauginamaisiais būdais. Iš pradžių Mantas buvo užmiršęs dauginamojo iškėlimą prieš skliaustus, bet po to lengvai prisiminė. Panašiai sekėsi su nepilnųjų kvadratinių lygčių sprendimu (teko prisiminti). Nagrinėjome, kaip spręsti lygtis $x^2-3=0$, $3x^2+9=0$ ir $9x^2-4x=0$. Taip pat prisinėme, kad sprendžiant lygtį $x^2=3$ iš abejų lygties pusių neužtenka traukti šaknį. Visose iš šių spręstų lygčių pasitaikydavo situacija $ab=0 \\Leftrightarrow a=0 \\text{ arba } b=0$.\n",
    "\n",
    "Priminiau, kad atveju $x^2+3=0$ sakome ***lygtis neturi realiųjų sprendinių***. Bet gali turėti kitokių (kompleksinių): $x=\\sqrt{-3}=\\sqrt{-1}\\cdot \\sqrt{3} = i\\sqrt{3}$. Skaičius $i$ - vienas įdomesnių objektų matematikoje, pagimdantis ir fraktalus, ir vieną mistiškiausių matematinių tapatybių: $e^{i\\pi}=-1$, kur $e$ yra reiškinio $\\left(x+\\frac{1}{x}\\right)^x$ riba, kai $x$ artėja į begalybę, o $\\pi$ - apskritimo ilgio ir skersmens santykis."
   ]
  },
  {
   "cell_type": "markdown",
   "metadata": {},
   "source": [
    "Prisiminus lygčių sprendimą tęsėme su skaidymais:\n",
    "    \n",
    "1\\. $3x^2 - 12x = 3x(x-4)$\n",
    "\n",
    "2\\. $27a^2bc + 23ab^2c - 25abc^2 -11abc^2-33a^2bc + 48ab^2c = -6a^2bc+71ab^2c-36abc^2 = abc(-6a+71b-36c)$\n",
    "\n",
    "3\\. $x^2 - 3 = (x-3)(x+3)$\n",
    "\n",
    "4\\. $4a^4 - 9b^4 = (2a^2)^2 - (3b^2)^2 = (2a^2-3b^2)\\times (2a^2+3b^2)$\n",
    "\n",
    "5\\. $100m^4-m^2 = ...$\n",
    "\n",
    "6\\. $(x+y)^2-z^2 = ...$\n",
    "\n",
    "7\\. $5x(x+y)^2-6y(x+y)^2 = (5x-6y)(x+y)^2$\n",
    "\n",
    "8\\. $x^2-x^2y-x+y = ...$\n",
    "\n",
    "9\\. $4a+4b-a^2+b^2 = 4a+4b +b^2-a^2 = 4(a+b)+(b-a)(b+a) = (a+b)(4 + b - a)$\n",
    "\n",
    "10\\. $12x^2+12y-16x-9xy = 12x^2-16x+12y-9xy=4x(3x-4)+3y(4-3x) = 4x(3x-4)-3y(3x-4) = (4-3x)(4x-3y)$\n",
    "\n",
    "23\\. $x^4+x^2+1 = x^4+2x^2+1 -x^2 = (x^2+1)^2-x^2 = (x^2-x+1)(x^2+x+1)$"
   ]
  },
  {
   "cell_type": "markdown",
   "metadata": {},
   "source": [
    "**Svarbu.** Dvejose vietose prireikė pakeisti $-a^2+b^2=b^2-a^2$ ir $3x-4 = -(4-3x)$. Tai dažnas momentas skaidant dauginamaisiais.\n",
    "\n",
    "Mantas savarankiškai pastebėjo, kad galima daugikliu laikyti ne tik vienanarį, bet ir kitus reiškinius taip, kaip 7 arba 9 uždaviniuose. 4 uždaviniui reikėjo užuominos, kad užrašytas reiškinys yra kvadratų skirtumas. \n",
    "\n",
    "10 uždavinys - nauja skaidymo technika, vadinama grupavimu. Dėmenis reikia perstatyti, kad vienanario iškėlimas prieš skliaustus geriau matytųsi. Kartais tenka ,,prigaminti\" ir daugiau dėmenų taip, kaip 23 uždvinyje.\n",
    "\n",
    "Namuose liko įveikti didesnę dalį šių uždavinių:\n",
    "\n",
    "1\\. $100m^4-m^2 = ...$\n",
    "\n",
    "2\\. $(x+y)^2-z^2 = ...$\n",
    "\n",
    "3\\. $x^2-x^2y-x+y = ...$\n",
    "\n",
    "4\\. $bc^2-2c^2-b^3+2b^2$\n",
    "\n",
    "5\\. $ax+aby+cx+cyb$\n",
    "\n",
    "6\\. $15ax - 14by +10bx - 21ay$\n",
    "\n",
    "7\\. $3y^2x^2+3z^2x^2-3y^2z^2-3z^4$\n",
    "\n",
    "8\\. $ab^3-3b^3+ay-3y$\n",
    "\n",
    "9\\. $24a^4x-6b^2x-12a^4y+3b^2y$\n",
    "\n",
    "10\\. $7a^{20}-a^{15}-7a^{10}+a^5$\n",
    "\n",
    "11\\. $m^2-5m-n^2+5n$\n",
    "\n",
    "12\\. $a^2-4ax+4x^2-9$\n",
    "\n",
    "13\\. $x^2-z^2+y^2-2xy$\n",
    "\n",
    "14\\. $x^4+2ax^2+a^2-c^2$\n",
    "\n",
    "15\\. $b^4+11b^2+10$\n",
    "\n",
    "16\\. $x^4-(1-ab)x^2-ab$\n",
    "\n",
    "Mantas taip pat turi galimybę sprendimus pasitikrinti savo kompiuteryje per UMS programą."
   ]
  }
 ],
 "metadata": {
  "kernelspec": {
   "display_name": "Python 3",
   "language": "python",
   "name": "python3"
  },
  "language_info": {
   "codemirror_mode": {
    "name": "ipython",
    "version": 3
   },
   "file_extension": ".py",
   "mimetype": "text/x-python",
   "name": "python",
   "nbconvert_exporter": "python",
   "pygments_lexer": "ipython3",
   "version": "3.8.3"
  }
 },
 "nbformat": 4,
 "nbformat_minor": 4
}
