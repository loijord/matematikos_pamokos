{
 "cells": [
  {
   "cell_type": "markdown",
   "metadata": {},
   "source": [
    "Gruodžio mėnesį:\n",
    "    \n",
    "* tyrinėjau skaičiaus kaip kelių dauginamųjų rinkinio supratimą\n",
    "* klausiau paskaitas ir apie mokymąsi kaip mokytis, ir apie matematikos mokymąsi, dariau jų apžvalgas\n",
    "* atlikau bandomąją užduotį darbinantis į Python programuotojo specialybę\n",
    "* skyriau daug dienų padedant studentams su matematika\n",
    "* nagrinėjau statistinių hipotezių tikrinimo metodus\n",
    "\n",
    "Dėl padidėjusio užimtumo pritrūko laiko pamokų aprašymams. Tarp lapkričio 25 - gruodžio 31 d. turėjome 4 pamokas. Trumpai apžvelgsiu, ką per jas veikėme.\n",
    "\n",
    "### 11 pamoka - išreiškimai\n",
    "Dalį pamokos praleidome kalbėdami apie išreiškimus. Kelias sprendžiant šiuos uždavinius dažniausiai būna nelengvas. Mantas klaidų daro nedaug, bet labai dažnai prieina vietas, kai nežino kaip toliau spręsti.\n",
    "\n",
    "<img src=\"sunku.png\" width=\"400\">\n",
    "\n",
    "Nieko tokio, kad ši tema sunki, nes ją kruopščiai nagrinėja tik 11 klasėje, tačiau bent dalinai šią temą išmanyti reikėtų fizikoje. Norint palengvinti sunkų sprendimo kelią patariama:\n",
    "\n",
    "* vietas, kuriose buvo užstrigta, pasižymėti ir užsirašyti, kas padėjo pajudėti su sprendimu toliau.\n",
    "* pamėginti juodraštyje pasižiūrėti, kaip atrodytų sprendimas, jeigu spręstume su konkrečiomis kintamųjų reikšmėmis\n",
    "\n",
    "Priminsiu, kad sunkiausių vietų apžvalga atrodo taip:\n",
    "\n",
    "<img src=\"mantui.png\" width=\"700\">\n",
    "\n",
    "Likusią pamokos dalį nagrinėjome skaidres. Trumpa apžvalga:\n",
    "\n",
    "* Įvairūs matematiniai procesai, kad ir kokie sudėtingi ar paprasti būtų, yra linkę būti ne palaipsniui, o keliais ryškesniais etapais. Tai stebėjome su skaičių sudėtimi, bet iš esmės tuo pasižymi beveik kiekviena mokyklinės matematikos tema.\n",
    "* Smegenys sudarytos iš nervinių ląstelių neuronų, kurios turi kūną (dendritą), ataugėles (aksonus) ir tarpusavyje bendrauja aksonų jungtimis (sinapsėmis). Sinapsėse vyksta biocheminės reakcijos, paskatinančios impulsus, t.y. staigų signalo perdavimą iš vienos ląstelės į kitą.\n",
    "* Mantas: kuo tai susiję su matematika? Čia juk biologija.\n",
    "* Simonas: susiję tuo, kad šis mechanizmas tinka apibūdinti taip pat ir matematinių minčių vaikščiojimą galvoje. Spręsdami uždavinį turime priversti mintis pereiti tam tikrais keliais. Jei šiais keliais anksčiau vaikščiojo impulsai, tai tikėtina, kad ir mintys mus sėkmingai atves nuo sprendimo pradžios iki pabaigos.\n",
    "* Fokusuotame režime gilinamės į tam tikrą problemą, todėl mintys chaotiškai šokinėja tam tikroje srityje.\n",
    "* Pasklidame režime ilsimės. Mintys šokinėja didesniais žingsniai, netvarkingiau, bet prasivaikšto vietos, ties kuriomis prieš tai mažiau buvo mąstyta. Dėl to poilsis būtinas.\n",
    "* Analogijos - tai tam tikras būdas įsiminti kabliukus, užvedančius ant kelio sprendžiant problemas.\n",
    "* Kuo susijusi moneta su vairuotoju ir keleiviu mašinoje? Tuo, kad tiek moneta gali būti atvirtusi tik viena puse, tiek vairuotojas gali būti tik vienas. Tai puiki analogija su pasklidu ir fokusuotu mąstymu. Ji mums padeda įsidėmėti, kad vienu metu galime mąstyti tik vienu būdu, o ne dviem.\n",
    "* Kaip žmonės sužinojo tiek daug apie smegenų veiklą? Yra tam tikri aparatai, fiksuojantys smegenų aktyvumą skirtingose srityse. Taip pat yra matematiniai būdai palyginti, kuriose zonose impulsai sutampa, o kuriose skiriasi.\n",
    "* Prokrastinacija - tai ne vien nenoras atlikti nemėgstamus darbus. Yra moksliškai patikrinta, kad prokrastinacijos metu aktyvuojamos su skausmo pojūčiais susijusios smegenų sritys. Tokiu būdu šis nenoras - išmoktas dalykas, kuriam reikia taikyti persimokymo technikas.\n",
    "* Pomodoro technika - būdas permokyti nenorimos veiklos siejimą su skausmo pojūčiais. Jos metu nustatomas 25 minučių trukmės susikaupimo laikotarpius, kurio metu neturi būti blaškančių dirgiklių. Pasibaigus laikui save apdovanojame skanėstu, pašnekesiu ar kompiuteriniu žaidimu.\n",
    "* Baigėme klausimu, kodėl matematika sunki. Vienas iš atsakymų: jos objektų neįmanoma įsisavinti siejant su jutimais arba emocijomis. "
   ]
  },
  {
   "cell_type": "markdown",
   "metadata": {},
   "source": [
    "### 12 pamoka - simetrija ir kompresija\n",
    "\n",
    "<img src=\"sim.png\" width=\"500\">\n",
    "\n",
    "Pamokos pradžioje nagrinėjome uždavinį $\\displaystyle \\frac{1}{a} = \\frac{1}{b} + \\frac{1}{c}$. Jį Mantas puikiai savarankiškai išsprendė ir paminėjo, kad spręsta užduotis buvo įdomi. Tai paskatino pradėti diskusiją apie simetriją.\n",
    "\n",
    "***Simetrija algebroje***. Reiškinys vadinamas simetrišku, jei atlikus bet kokį kintamųjų perstatymą gaunamas tas pats reiškinys. Toks yra pavyzdžiui reiškinys $ab+bc+ca$. Simetriški reiškiniai dažnai įgyja prasmę, kai kalbame apie geometrinius kūnus. Pavyzdžiui:\n",
    "\n",
    "* $\\sqrt{x^2+y^2}$ - stačiakampio įstrižainė\n",
    "* $\\sqrt{x^2+y^2+z^2}$ - stačiakampio gretasienio įstrižainė\n",
    "* $xy+yz+zx$ - pusė stačiakampio gretasienio paviršiaus ploto\n",
    "* $xyz$ - stačiakampio gretasienio tūris\n",
    "* $\\sqrt{\\frac{x+y+z}{2}\\left(\\frac{x+y+z}{2}-x\\right)\\left(\\frac{x+y+z}{2}-y\\right)\\left(\\frac{x+y+z}{2}-z\\right)}$ - trikampio plotas\n",
    "\n",
    "***Simetrija geometrijoje***\n",
    "Mantas užsiminė, kad kaip tik tuo pat metu mokykloje eina simetriją (ten mažai, kas veikti). Pabandėme pavaizduoti funkcijos $f(x)=x^2$ grafiką.\n",
    "\n",
    "Iš pradžių sekėsi sunkokai, nes mokykloje braižydavo tik taškines diagramas. Bet idėją sprendimo eigoje Mantas prisiminė. Braižant funkcijas:\n",
    "* Sudaroma reikšmių lentelė\n",
    "* Vaizduojamos tam tikros reikšmės"
   ]
  },
  {
   "cell_type": "markdown",
   "metadata": {},
   "source": [
    "**Lentelės sudarymas**"
   ]
  },
  {
   "cell_type": "code",
   "execution_count": 50,
   "metadata": {},
   "outputs": [
    {
     "data": {
      "text/html": [
       "<div>\n",
       "<style scoped>\n",
       "    .dataframe tbody tr th:only-of-type {\n",
       "        vertical-align: middle;\n",
       "    }\n",
       "\n",
       "    .dataframe tbody tr th {\n",
       "        vertical-align: top;\n",
       "    }\n",
       "\n",
       "    .dataframe thead th {\n",
       "        text-align: right;\n",
       "    }\n",
       "</style>\n",
       "<table border=\"1\" class=\"dataframe\">\n",
       "  <thead>\n",
       "    <tr style=\"text-align: right;\">\n",
       "      <th></th>\n",
       "      <th>0</th>\n",
       "      <th>1</th>\n",
       "      <th>2</th>\n",
       "      <th>3</th>\n",
       "      <th>4</th>\n",
       "      <th>5</th>\n",
       "      <th>6</th>\n",
       "      <th>7</th>\n",
       "      <th>8</th>\n",
       "    </tr>\n",
       "  </thead>\n",
       "  <tbody>\n",
       "    <tr>\n",
       "      <th>x reikšmės</th>\n",
       "      <td>-4</td>\n",
       "      <td>-3</td>\n",
       "      <td>-2</td>\n",
       "      <td>-1</td>\n",
       "      <td>0</td>\n",
       "      <td>1</td>\n",
       "      <td>2</td>\n",
       "      <td>3</td>\n",
       "      <td>4</td>\n",
       "    </tr>\n",
       "    <tr>\n",
       "      <th>y reikšmės</th>\n",
       "      <td>16</td>\n",
       "      <td>9</td>\n",
       "      <td>4</td>\n",
       "      <td>1</td>\n",
       "      <td>0</td>\n",
       "      <td>1</td>\n",
       "      <td>4</td>\n",
       "      <td>9</td>\n",
       "      <td>16</td>\n",
       "    </tr>\n",
       "  </tbody>\n",
       "</table>\n",
       "</div>"
      ],
      "text/plain": [
       "             0  1  2  3  4  5  6  7   8\n",
       "x reikšmės  -4 -3 -2 -1  0  1  2  3   4\n",
       "y reikšmės  16  9  4  1  0  1  4  9  16"
      ]
     },
     "execution_count": 50,
     "metadata": {},
     "output_type": "execute_result"
    }
   ],
   "source": [
    "import numpy as np\n",
    "import pandas as pd\n",
    "import matplotlib.pyplot as plt\n",
    "x = np.arange(-4, 5)\n",
    "y = x**2\n",
    "pd.DataFrame([x,y], index = ['x reikšmės','y reikšmės'])"
   ]
  },
  {
   "cell_type": "markdown",
   "metadata": {},
   "source": [
    "**Grafiko braižymas**"
   ]
  },
  {
   "cell_type": "code",
   "execution_count": 51,
   "metadata": {},
   "outputs": [
    {
     "data": {
      "text/plain": [
       "<function matplotlib.pyplot.show(*args, **kw)>"
      ]
     },
     "execution_count": 51,
     "metadata": {},
     "output_type": "execute_result"
    },
    {
     "data": {
      "image/png": "[encoded data removed]",
      "text/plain": [
       "<Figure size 432x288 with 1 Axes>"
      ]
     },
     "metadata": {
      "needs_background": "light"
     },
     "output_type": "display_data"
    }
   ],
   "source": [
    "plt.scatter(x, y)\n",
    "plt.plot(np.arange(-4, 4.1, 0.1), np.arange(-4, 4.1, 0.1)**2)\n",
    "plt.show"
   ]
  },
  {
   "cell_type": "markdown",
   "metadata": {},
   "source": [
    "Pabandykime funkcijos $y=x^2$ išraiškoje atlikti kintamųjų $x$ ir $y$ perstatymą. Dabar turėsime lygybę $y=x^2$. Grafiškai tai reiškia $x$ ir $y$ ašių apsukimą. Koordinačių ašis tokiu atveju apsukama apie tiesę, kuri sudaro $45^o$ kampą su $Ox$ ašimi. Per pamoką nagrinėjome, kaip tokia simetrija atrodo:\n",
    "\n",
    "<img src=\"simetrija.png\" width=\"300\">"
   ]
  },
  {
   "cell_type": "markdown",
   "metadata": {},
   "source": [
    "Per pamoką taip pat prisiminėme dviejų skaičių analogiją su sverto galais: turint du skaičius mažesnysis iš jų yra tiek mažesnis už vidurkį, kiek didesnis didesnysis. Šis pastebėjimas kartais pasitaiko matematikoje, juo remiantis taip pat galima spręsti sudėtingesnes kvadratines lygtis."
   ]
  },
  {
   "cell_type": "markdown",
   "metadata": {},
   "source": [
    "Likusią pamokos dalį toliau nagrinėjome skaidres. Nemažai laiko skyrėme pasikartoti, kas buvo praeita, nes per savaitę labai daug užsimiršo. Svarbiausia atskirti fokusuotą ir pasklidą mąstymus."
   ]
  },
  {
   "cell_type": "code",
   "execution_count": null,
   "metadata": {},
   "outputs": [],
   "source": [
    "### 13 pamoka - kompresija ir atminties procesai\n",
    "\n",
    "<img src=\"chest.png\" width=\"500\">\n",
    "\n",
    "### 14 pamoka - praktiniai darbinės atminties optimizavimo pavyzdžiai\n",
    "+ Oilerio tapatybė"
   ]
  },
  {
   "cell_type": "markdown",
   "metadata": {},
   "source": [
    "### 15 pamoka - apžvalga, ką veikėme 4 ankstesnes pamokas\n",
    "\n",
    "**Namuose**\n",
    "\n",
    "Pradėsiu nuo namų darbų kitam kartui (šaknų prastinimų). Šiuos ir daugiau šaknų prastinimų galima rasti (***UMSolver -> Problem -> Choose problem -> Simplification of Numeric, Radical, Logarithmic and Trigonometric Expressions***).\n",
    "\n",
    "1\\. $\\sqrt{2}(\\sqrt{8}-\\sqrt{2})$\n",
    "\n",
    "2\\. $\\sqrt[5]{2^{10}\\cdot 3^{15}}$\n",
    "\n",
    "3\\. $\\sqrt{2}\\cdot \\sqrt{18}$\n",
    "\n",
    "4\\. $\\sqrt[4]{27}\\cdot \\sqrt[4]{3}$\n",
    "\n",
    "5\\. $\\sqrt{30\\cdot 66 \\cdot 220}$\n",
    "\n",
    "6\\. $2\\sqrt{8} - \\sqrt{32}$\n",
    "\n",
    "7\\. $\\left(\\sqrt{2}+\\sqrt{3}\\right)\\left(\\sqrt{2}-\\sqrt{3}\\right)$\n",
    "\n",
    "8\\. $\\left(\\sqrt{5}+1\\right)^2-\\sqrt{20}$\n",
    "\n",
    "9\\. $^*\\frac{1}{\\sqrt{2}-1} - \\sqrt{2}$\n",
    "\n",
    "Namų darbų tikrinimas nuotoliniu būdu labai lėtas, bet yra galimybė uždavinių sprendimą pasitikrinti su UMS programa. Užteks atsakyti į šiuos klausimus:\n",
    "\n",
    "* Kuriuos iš šių uždavinių pavyko išspręsti teisingai?\n",
    "* Kurių sprendimai buvo neteisingi?\n",
    "* Kurie nepavyko?\n",
    "* Iš nepavykusių, kokios pagrindinės mintys, dėl kurių strigo sprendimas?\n",
    "* Iš neteisingų, kokios pagrindinės klaidos?"
   ]
  },
  {
   "cell_type": "markdown",
   "metadata": {},
   "source": [
    "**Ką mokėmės**"
   ]
  },
  {
   "cell_type": "markdown",
   "metadata": {},
   "source": [
    "Per pamoką bandėme apžvelgti gruodžio mėnesio temas. Tą padaryti pavyko, tik kalbantis matėsi, kad nemažai informacijos buvo užmiršta. Dalis tokių klausimų:\n",
    "\n",
    "* Kuo skiriasi fokusuotas mąstymas nuo pasklido?\n",
    "* Kaip vyksta žinių kompresija?\n",
    "* Kas bendro tarp monetos, keleivio/vairuotojo ir pasklido/fokusuoto mąstymo?\n",
    "* kuo skiriasi informacija, esanti darbinėje atmintyje nuo informacijos, esančios ilgojoje atmintyje?\n",
    "* Benjamino triukai pamoko, kaip galima optimizuoti darbinę atmintį. Kuriuos iš jų pameni?\n",
    "\n",
    "Pastaba: norint, kad Mantas geriau įsisavintų medžiagą, reiktų rengti testukus (tai reikalauja papildomo pasiruošimo)"
   ]
  },
  {
   "cell_type": "markdown",
   "metadata": {},
   "source": [
    "Panašūs užmiršti dalykai matėsi ir kalbant apie matematiką. Pvz. funkcijos grafiko braižymas buvo lygiai taip pat primirštas kaip ir prieš tris pamokas. Arba reiškinio $ab+bc+ca$ prasmė."
   ]
  },
  {
   "cell_type": "markdown",
   "metadata": {},
   "source": [
    "Iš praeitos pamokos liko tik ***dauginti iš penkių reiškia dalinti 10x didesnį iš 2*** triukas ir formulės $(a+b)^2$ taikymas keliant penkiaženklį kvadratu, nors buvo ir kitokių triukų."
   ]
  },
  {
   "cell_type": "markdown",
   "metadata": {},
   "source": [
    "Be ankstesnių pamokų apžvalgos taip pat plačiau panagrinėjome funkcijas. Mantas nesuprato, kas tai yra, todėl paaiškinau, kad funkciją galima laikyti tiesiog reiškiniu. Panagrinėjome keletą paprastų funkcijų:"
   ]
  },
  {
   "cell_type": "code",
   "execution_count": 36,
   "metadata": {},
   "outputs": [
    {
     "data": {
      "image/png": "[encoded data removed]",
      "text/plain": [
       "<Figure size 432x288 with 1 Axes>"
      ]
     },
     "metadata": {
      "needs_background": "light"
     },
     "output_type": "display_data"
    }
   ],
   "source": [
    "import numpy as np\n",
    "import matplotlib.pyplot as plt\n",
    "x = np.arange(-10,10, 1)\n",
    "y = x**2\n",
    "plt.scatter(x, y)\n",
    "plt.title('Funkcija $y = x^2$')\n",
    "plt.show()"
   ]
  },
  {
   "cell_type": "code",
   "execution_count": 40,
   "metadata": {},
   "outputs": [
    {
     "data": {
      "image/png": "[encoded data removed]",
      "text/plain": [
       "<Figure size 432x288 with 1 Axes>"
      ]
     },
     "metadata": {
      "needs_background": "light"
     },
     "output_type": "display_data"
    }
   ],
   "source": [
    "x = np.arange(-10.25,11, 0.5)\n",
    "y = 1/x\n",
    "plt.scatter(x, y)\n",
    "plt.title('Funkcija $y = 1/x$')\n",
    "plt.show()"
   ]
  },
  {
   "cell_type": "markdown",
   "metadata": {},
   "source": [
    "Taip pat paminėjau, kad mokykloje yra nagrinėjamos tik kreivės, kai atskiri taškai skaičiuojami $y$ reikšmėms. Tačiau universitete dėsto apie atvejus, kai tą daro ir $x$ ir $y$ reikšmėms. Vienas toks pavyzdys būtų:"
   ]
  },
  {
   "cell_type": "code",
   "execution_count": 47,
   "metadata": {},
   "outputs": [
    {
     "data": {
      "image/png": "[encoded data removed]",
      "text/plain": [
       "<Figure size 432x288 with 1 Axes>"
      ]
     },
     "metadata": {
      "needs_background": "light"
     },
     "output_type": "display_data"
    }
   ],
   "source": [
    "x = np.arange(-10.25,11, 0.5)\n",
    "y = np.sin(x)\n",
    "z = np.cos(5*x)\n",
    "plt.scatter(y, z)\n",
    "plt.show()"
   ]
  },
  {
   "cell_type": "markdown",
   "metadata": {},
   "source": [
    "Matome, kad taškų išsidėstymas chaotiškas. Jei paimtume gerokai tankesnes parametro reikšmes (ne kas 0.5, o kas 0.05), tai kreivės forma taptų atpažįstama:"
   ]
  },
  {
   "cell_type": "code",
   "execution_count": 48,
   "metadata": {},
   "outputs": [
    {
     "data": {
      "image/png": "[encoded data removed]",
      "text/plain": [
       "<Figure size 432x288 with 1 Axes>"
      ]
     },
     "metadata": {
      "needs_background": "light"
     },
     "output_type": "display_data"
    }
   ],
   "source": [
    "x = np.arange(-10.25,11, 0.05)\n",
    "y = np.sin(x)\n",
    "z = np.cos(5*x)\n",
    "plt.scatter(y, z)\n",
    "plt.show()"
   ]
  },
  {
   "cell_type": "markdown",
   "metadata": {},
   "source": [
    "**Išvada: funkcijos grafikas - tai ribinis taškų išsidėstymas, kai taškų tankis kiek nori didelis.**"
   ]
  },
  {
   "cell_type": "markdown",
   "metadata": {},
   "source": [
    "## Šių metų tikslai\n",
    "* Spręsti uždavinius iš UMS uždavinių bazės.\n",
    "* Treniruotis geometrinių uždavinių sprendimą.\n",
    "* Susiskirstyti stojamuosius į potemes ir jas gvildenti.\n",
    "* Papildomos temos, kiek pavyks joms pasiruošti. Pvz.:\n",
    "  * Paveikslėlių atkūrimas kompiuteriuose skaičių pagalba (tobulinsiu neuromap įrankį, skirtą vaizduoti schemas)\n",
    "  * Tolimesnis matematikos mokymosi procesų nagrinėjimas\n",
    "  * Įdomybių aplankas. Gal pavyks sudėti įvairias įdomius puslapius į vieną vietą."
   ]
  },
  {
   "cell_type": "markdown",
   "metadata": {},
   "source": [
    "### Mantui\n",
    "Skaidrių į GitHub nekeliu, nes jos užima vietos, o vieta kainuoja. Pasitikrink, ar jas turi (esu siuntęs per Skype)"
   ]
  }
 ],
 "metadata": {
  "kernelspec": {
   "display_name": "Python 3",
   "language": "python",
   "name": "python3"
  },
  "language_info": {
   "codemirror_mode": {
    "name": "ipython",
    "version": 3
   },
   "file_extension": ".py",
   "mimetype": "text/x-python",
   "name": "python",
   "nbconvert_exporter": "python",
   "pygments_lexer": "ipython3",
   "version": "3.8.3"
  }
 },
 "nbformat": 4,
 "nbformat_minor": 4
}
