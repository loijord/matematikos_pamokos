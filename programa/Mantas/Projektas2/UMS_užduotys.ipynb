{
 "cells": [
  {
   "cell_type": "markdown",
   "metadata": {},
   "source": [
    "### UMS challenge\n",
    "Universal Math Solver turi uždavinių su sprendimais bazę, jie yra įvairių klasių lygio arba nemokykliniai. Čia atrinksiu tik tuos, kurie turėtų būti įveikiami aštuntokui.\n",
    "\n",
    "Jei yra problemų atidarant, pamėginkite [nbviewer](https://nbviewer.jupyter.org/github/loijord/matematikos_pamokos/blob/master/programa/Mantas/Projektas2/UMS_užduotys.ipynb) variantą.\n"
   ]
  },
  {
   "cell_type": "markdown",
   "metadata": {},
   "source": [
    "### Lygtys\n",
    "Žvaigždute pažymėti 9 klasės lygio uždaviniai, bet juos galima išspręsti aiškesniu metodu, įvardintu paskutiniame [komplektas.pdf](komplektas.pdf) skyrelyje. Šias ir daugiau lygčių galima rasti (***UMSolver -> Problem -> Choose problem -> Equations***).\n",
    "\n",
    "1\\. $368 + 3k =401$\n",
    "\n",
    "2\\. $5x+7 = 28 - 2x$\n",
    "\n",
    "3\\. $5\\frac{1}{3} x - \\frac{2}{3} \\left(x+\\frac{3}{7}\\right) = 1$\n",
    "\n",
    "4\\. $45,7x-2,4+0,3x=89,6$\n",
    "\n",
    "5\\. $\\frac{169}{x-3} = 13$\n",
    "\n",
    "6\\. $5x^2 - 125 = 0$\n",
    "\n",
    "7\\. $4x^2 - 12x = 0$\n",
    "\n",
    "8\\. $^*5(x^2 - 1,6x + 4,2)=0$ \n",
    "\n",
    "9\\. $^*x^3+2x^2 = 3x$\n",
    "\n",
    "10\\. $^*x^4+5x^2+6 = 0$"
   ]
  },
  {
   "cell_type": "markdown",
   "metadata": {},
   "source": [
    "$-a^2+b^2 = b^2-a^2 = (b-a)(b+a)$"
   ]
  },
  {
   "cell_type": "markdown",
   "metadata": {},
   "source": [
    "$(a+b)(b-a+4)$"
   ]
  },
  {
   "cell_type": "markdown",
   "metadata": {},
   "source": [
    "$12x^2+12y-16x-9xy = (12x^2-16x) + (-9xy+12y) = 4x(3x-4)+3y(-3x+4) =  4x(3x-4)-3y(3x-4) = (4x-3y)(3x-4)$"
   ]
  },
  {
   "cell_type": "markdown",
   "metadata": {},
   "source": [
    "### Skaidymas dauginamaisiais\n",
    "Šiuos ir daugiau skaidymų galima rasti (***UMSolver -> Problem -> Choose problem -> Factorization of polynomial***).\n",
    "\n",
    "1\\. $3x^2 - 12x$\n",
    "\n",
    "2\\. $27a^2bc + 23ab^2c - 25abc^2 -11abc^2-33a^2bc + 48ab^2c$\n",
    "\n",
    "3\\. $x^2 - 3$\n",
    "\n",
    "4\\. $4a^4 - 9b^4$\n",
    "\n",
    "5\\. $100m^4-m^2$\n",
    "\n",
    "6\\. $(x+y)^2-z^2$\n",
    "\n",
    "7\\. $5x(x+y)^2-6y(x+y)^2$\n",
    "\n",
    "8\\. $x^2-x^2y-x+y$\n",
    "\n",
    "9\\. $4a+4b-a^2+b^2$\n",
    "\n",
    "10\\. $12x^2+12y-16x-9xy$\n",
    "\n",
    "11\\. $bc^2-2c^2-b^3+2b^2$\n",
    "\n",
    "12\\. $ax+aby+cx+cyb$\n",
    "\n",
    "13\\. $15ax - 14by +10bx - 21ay$\n",
    "\n",
    "14\\. $3y^2x^2+3z^2x^2-3y^2z^2-3z^4$\n",
    "\n",
    "15\\. $ab^3-3b^3+ay-3y$\n",
    "\n",
    "16\\. $24a^4x-6b^2x-12a^4y+3b^2y$\n",
    "\n",
    "17\\. $7a^{20}-a^{15}-7a^{10}+a^5$\n",
    "\n",
    "18\\. $m^2-5m-n^2+5n$\n",
    "\n",
    "19\\. $a^2-4ax+4x^2-9$\n",
    "\n",
    "20\\. $x^2-z^2+y^2-2xy$\n",
    "\n",
    "21\\. $x^4+2ax^2+a^2-c^2$\n",
    "\n",
    "22\\. $b^4+11b^2+10$\n",
    "\n",
    "23\\. $n^4+n^2+1$\n",
    "\n",
    "24\\. $x^4-(1-ab)x^2-ab$"
   ]
  },
  {
   "cell_type": "markdown",
   "metadata": {},
   "source": [
    "### Šaknų prastinimai\n",
    "Šiuos ir daugiau šaknų prastinimų galima rasti (***UMSolver -> Problem -> Choose problem -> Simplification of Numeric, Radical, Logarithmic and Trigonometric Expressions***).\n",
    "\n",
    "1\\. $\\sqrt{2}(\\sqrt{8}-\\sqrt{2})$\n",
    "\n",
    "2\\. $\\sqrt[5]{2^{10}\\cdot 3^{15}}$\n",
    "\n",
    "3\\. $\\sqrt{2}\\cdot \\sqrt{18}$\n",
    "\n",
    "4\\. $\\sqrt[4]{27}\\cdot \\sqrt[4]{3}$\n",
    "\n",
    "5\\. $\\sqrt{30\\cdot 66 \\cdot 220}$\n",
    "\n",
    "6\\. $2\\sqrt{8} - \\sqrt{32}$\n",
    "\n",
    "7\\. $\\left(\\sqrt{2}+\\sqrt{3}\\right)\\left(\\sqrt{2}-\\sqrt{3}\\right)$\n",
    "\n",
    "8\\. $\\left(\\sqrt{5}+1\\right)^2-\\sqrt{20}$\n",
    "\n",
    "9\\. $^*\\frac{1}{\\sqrt{2}-1} - \\sqrt{2}$"
   ]
  }
 ],
 "metadata": {
  "kernelspec": {
   "display_name": "Python 3",
   "language": "python",
   "name": "python3"
  },
  "language_info": {
   "codemirror_mode": {
    "name": "ipython",
    "version": 3
   },
   "file_extension": ".py",
   "mimetype": "text/x-python",
   "name": "python",
   "nbconvert_exporter": "python",
   "pygments_lexer": "ipython3",
   "version": "3.8.3"
  }
 },
 "nbformat": 4,
 "nbformat_minor": 4
}
