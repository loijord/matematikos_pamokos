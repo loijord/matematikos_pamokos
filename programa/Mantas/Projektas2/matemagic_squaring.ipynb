{
 "cells": [
  {
   "cell_type": "markdown",
   "metadata": {},
   "source": [
    "### 57683 kvadratu lygu ...?\n",
    "\n",
    "[Šiame video](http://www.youtube.com/watch?v=M4vqr3_ROIk&t=13m55s) matemagas Arthur Benjamin mintinai pakelia penkiaženklį skaičių 57683 kvadratu per minutę. Kaip jam tai pavyksta?\n",
    "\n",
    "Norėdami suprasti, kokius triukus jis naudoja, taikysime dauginimus, kuriuos mokėmės šiame projekte ir nagrinėsime, kaip jis aiškina procesą.\n",
    "\n"
   ]
  },
  {
   "cell_type": "markdown",
   "metadata": {},
   "source": [
    "### Benjamino aiškinimas"
   ]
  },
  {
   "cell_type": "markdown",
   "metadata": {},
   "source": [
    "Pradėsiu skaičiuoti nuo vidurio 57 dauginu iš 683. Dabar $57 \\times 68 = 3400 + 476 = 3876$. Tai 38760 + 171 = 38931. Padvigubinu ir gaunu 77862. Tai tampa ***cookie fission*** (sausainio skilimas). Darsyk patikrinu: ***cookie fission*** yra 77862. Atrodo teisingai, tęsiam. Toliau $57^2 = 3249$. Todėl pradedu rašyti: $\\boxed{\\text{trys}}$ milijardai. Dabar paimu likusius 249, pridedu į ***cookie***, bet pamečiau vieną mintyje, tai 250 + 77 yra $\\boxed{327}$ milijonai.. ***fission***, ***fission***, ok. Galiausiai $683^2 = 700 \\times 666 + 17^2 = 466489$. ***Rave up*** if I need it. Imu 466, pridedu tai prie ***fission***, kad gaučiau $\\boxed{328489}$. \n",
    "\n",
    "Pabaigus aiškinimą matyti užrašytas teisingas rezultatas:\n",
    "\n",
    "$$3327328489$$"
   ]
  },
  {
   "cell_type": "markdown",
   "metadata": {},
   "source": [
    "### Procesai, kurie vyko\n",
    "Svarbu veiksmą susmulkinti į nedideles dalis, kurios tilptų darbinėje atmintyje. Dalys buvo tokios:"
   ]
  },
  {
   "cell_type": "markdown",
   "metadata": {},
   "source": [
    "* Greitoji daugyba: $57683^2 = (57000+683)^2 = 57^2 \\text{ milijonų} + 2\\times 57\\times 683 \\text{ tūkstančių} + 683^2$\n",
    "* Vidurinio dėmens gavimas: $57 \\times 683 = 57\\times 680 + 57\\times 3 = ...$\n",
    "* Pirma dalis: $57\\times 68 = 68 \\times 50 + 68 \\times 7 = 68 : 2 \\times 100 + 476 = 3400 + 476 = 3876$\n",
    "* Antra dalis: $57\\times 3 = 171$\n",
    "* Todėl $57 \\times 683 = 57\\times 680 + 57\\times 3 = 38760 + 171 = 38931$\n",
    "* Bet reikėjo: $2\\times 57 \\times 683 = 38931 \\times 2 = 77862$"
   ]
  },
  {
   "cell_type": "markdown",
   "metadata": {},
   "source": [
    "Tarpinis rezultatas 78862 užšifruojamas pagal [šią mnemoninę lentelę](https://en.wikipedia.org/wiki/Mnemonic_major_system):\n",
    "\n",
    "0 = s,z\n",
    "\n",
    "1 = t,d\n",
    "\n",
    "2 = n\n",
    "\n",
    "3 = m\n",
    "\n",
    "4 = r\n",
    "\n",
    "5 = l\n",
    "\n",
    "6 = s,t,z,sh,ch (kaip š), g\n",
    "\n",
    "7 = c,k\n",
    "\n",
    "8 = f,v\n",
    "\n",
    "9 = p,b\n",
    "\n",
    "Gaunasi žodžių junginys: ***cookie fission***. Jį pasidėti į atmintį  paprasčiau, nei atsiminti patį skaičių."
   ]
  },
  {
   "cell_type": "markdown",
   "metadata": {},
   "source": [
    "* Grįžtame prie pirmo dėmens: $57^2 = (50+7)^2 = 50^2 + 2\\times 50 \\times 7 + 7^2 = 2549+700 = 3249$\n",
    "* Pirmo ir vidurinio dėmenų suma: \n",
    "\n",
    "  $57^2$ milijonų + $2\\times 57\\times 683$ tūkstančių $=$\n",
    "\n",
    "  $3249$ milijonų + ***cookie fission*** tūkstančių $=$\n",
    "\n",
    "  $3249$ milijonų + ***cookie*** milijonų + ***fission*** tūkstančių $=$\n",
    "\n",
    "  $3249$ milijonų + $77$ milijonai ir ***fission*** tūkstančių = \n",
    "\n",
    "  $3326$ milijonai ir ***fission*** tūkstančių.\n",
    "    "
   ]
  },
  {
   "cell_type": "markdown",
   "metadata": {},
   "source": [
    "* Lieka šią sumą sudėti su trečiu dėmeniu, t.y. $683^2$. ***fission*** tūkstančių yra $862$ tūkstančiai. Matome, kad pridėję $683^2$ gausime daugiau, nei 1000 tūkstančių, todėl milijonų skyriuje turime 1 mintyje. Iš tiesų buvo ne $3326$, o $3327$ milijonai.\n",
    "* Tęsiame su $683^2$. Pagal taisyklę $a^2 = a^2 -b^2+b^2 = (a-b)(a+b)+b^2$ turime: $683^2 = 683^2 - 17^2 + 17^2 = 700 \\times 666 + 17^2 = 466200 + 289 = 466489$\n",
    "* Pasigirsta frazė: *Rev up if I need it (didinu apsukas, jei man reikia)*. Ji reiškia skaičiaus 489 pasidėjimą į atmintį.\n",
    "* 466 tūkstančiai ir ***fission*** tūkstančių bus $466+862$ tūkstančių. Tai bus $1328$ tūkstančių (vienas tūkstantis nukeliavo į milijonų skyrių).\n",
    "* Galiausiai, prisimenant, kad ***rev up*** reiškia $489$ vienetus, baigiamas rašyti rezultatas:\n",
    "  $$3327328489$$"
   ]
  },
  {
   "cell_type": "markdown",
   "metadata": {},
   "source": [
    "### Pabaiga\n",
    "\n",
    "Ar suprasti Benjamino skaičiavimą buvo sudėtinga?\n",
    "\n",
    "Iš tikrųjų, tai jis pasaulio rekordininkų pasivyti negalėtų.\n",
    "\n",
    "Dabartinis 10 aštuonženklių skaičių skirtingų porų dauginimo rekordas [priklauso ispanui](https://www.youtube.com/watch?v=e6JdvTyENKY), kuris tai padarė per 2 minutes 50 sekundžių :)"
   ]
  }
 ],
 "metadata": {
  "kernelspec": {
   "display_name": "Python 3",
   "language": "python",
   "name": "python3"
  },
  "language_info": {
   "codemirror_mode": {
    "name": "ipython",
    "version": 3
   },
   "file_extension": ".py",
   "mimetype": "text/x-python",
   "name": "python",
   "nbconvert_exporter": "python",
   "pygments_lexer": "ipython3",
   "version": "3.8.3"
  }
 },
 "nbformat": 4,
 "nbformat_minor": 4
}
