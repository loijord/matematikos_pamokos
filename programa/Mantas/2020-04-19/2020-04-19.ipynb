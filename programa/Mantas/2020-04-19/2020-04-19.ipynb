{
 "cells": [
  {
   "cell_type": "markdown",
   "metadata": {},
   "source": [
    "### Ką veikėme per užsiėmimą\n",
    "Pamoka neprailgo, nes aptarinėjome net keletą matematikos kategorijų. \n",
    "\n",
    "#### Uždavinukai\n",
    "Baigėme aptarti antrą uždavinių komplektą - Manto namų darbą. Mantas baigė spręsti likusius uždavinius ir pakomentavo sprendimus - kombinatoriniuose uždaviniuose jam sekasi puikiai, gal būt tai jo stiprioji pusė?\n",
    "\n",
    "#### Mokyklinė programa\n",
    "Trumpam pasitikrinome, kaip Mantas prisimena mokyklines sąvokas [iš duotų paveikslėlių](../../Simonas/2020-04-15/Application1.ipynb), kurias eina dabar. Įvardijo visas sąvokas, tad panašu, kad mokykliniame kurse jis neatsilieka.\n",
    "\n",
    "#### Tyrinėjimo reikalaujantys uždaviniai\n",
    "Tai uždaviniai, kuriuose reikia pastebėti įdomių, nestandartinių kabliukų, dažnai būna kelių pakopų. Neretai jie yra ir psichologinis iššūkis, reikalauja gilaus mąstymo, vaizduotės, užsispyrimo. Trumpą aprašymą apie tai, kokius uždavinius iš šios kategorijos esame darę su Mantu, surinkau šiame [trumpame pristatyme](../uždavinių%20sprendimo%20menas/artofproblemsolving.ipynb). Nors iš tiesų matematiško tyrinėjimo reikalaujančių uždavinių sprendimą drąsiai galima laikyti meno forma, apie kurią yra rašomos knygos, tokios kaip ***Polya. How to solve it*** arba ***R. Kašuba. Kaip spręsti, kai nežinai kaip***. Apie pastarąją ką tik pradėjau rengti [detalią apžvalgą](../../../medžiaga/Untitled.ipynb). Štai keletas autoriaus minčių iš šios knygutės:"
   ]
  },
  {
   "cell_type": "markdown",
   "metadata": {},
   "source": [
    "* Spręsti uždavinį ir ieškoti tiesos - tas pats\n",
    "* Galynėtis su uždaviniu visada pamokoma, įdomu ir prasminga, ypač, jei pavyksta rasti tiesą, kurią buvome prašome rasti\n",
    "* Iš pradžių klausia paprasto, akivaizdaus, skatina įsitraukti į veiksmą, susidomėti, paliesti mąstymo, vaizduotės, ambicijos stygas\n",
    "* Uždavinio sprendimas - tai lyg mokslo teorijos kūrimas: iš pradžių yra kaupiami faktai ir eksperimentiniai duomenys, toliau, remiantis tam tikromis idėjomis ar veiksmais, gaunami tam tikri tarpiniai rezultatai ir daromos išvados\n",
    "* Dažnai apie ką nors mes sakome, kad tai tokia smulkmena, kad net neverta kalbėti. Ją vos galima įžiūrėti. Tačiau į tai galima atsakyti: net ir mažytis kauburėlis alpinistui gali turėti lemiamos reikšmės. Jei ne tas kauburėlis, gali sustoti jo kelionė.\n",
    "* Sukurtoji teorija paprastai kelia naujus uždavinius, o gera teorija jų prikelia daugiau, negu reikia"
   ]
  },
  {
   "cell_type": "markdown",
   "metadata": {},
   "source": [
    "Mantas taip pat paminėjo, kad nespėjo namuose pastudijuoti [laipsnių dauginimo uždavinio](https://projecteuler.net/problem=122) atveju, kai laipsnis yra 23, tačiau vietoj to netinginiavo: matematikai su pertraukomis skyrė 2,5 val., iš kurių didelę laiko dalį lavinosi geometrijos įgūdžius su [Euclidea](https://www.euclidea.xyz). Užsiminiau, kad šis uždavinys yra būtent reikalaujantis ilgesnio tyrinėjimo, kad nėra aiškios strategijos, kaip reiktų atlikti dauginimus ir kad įmanoma remtis tik **euristiniu** (intuicija grįstu) samprotavimu. Mantui paklausus, ką reiškia ši sąvoka, trumpai pakomentavau, kad sprendžiant sudėtingesnius uždavinius, samprotavimas skirstomas į euristinį ir loginį. Čia pasidalinsiu ištrauka iš [šių paskaitų](https://klevas.mif.vu.lt/~rimasn/Matematinė%20analizė/analizes%20ivadas.pdf):"
   ]
  },
  {
   "cell_type": "markdown",
   "metadata": {},
   "source": [
    "*Samprotavimas matematikoje yra matematinių objektų savybių ir dėsningumų tyrimas. Toks tyrimas dažniausiai vyksta pasitelkiant spėjimą, vaizduotę ir intuiciją. Mintyse idealius matematinius objektus įmanoma įsivaizduoti tik apytikriai.\n",
    "Samprotavimo pagrindimui naudojamos loginio išvedimo taisyklės. Logika ne tik padeda išvengti klaidų, bet ir suteikia naujų efektyvių mąstymo priemonių.*\n",
    "\n",
    "*Preliminarus, tikėtinas ir nebūtinai loginio išvedimo taisyklių besilaikantis\n",
    "samprotavimas sprendžiant problemą vadinamas **euristiniu**. Toks samprotavimas neturi griežtų taisyklių, kuriomis vadovaujantis garantuojamas problemos sprendimas. Euristinis samprotavimas yra procesas, kuriuo, siekiant supratimo,\n",
    "vaizdumo ir paprastumo, išskiriamos ir nagrinėjamos esminės tiriamų objektų savybės. Toks samprotavimas negarantuoja, kad išskirtos savybės tikrai atspindi tiriamos problemos esmę ir duoda teisingą rezultatą.*\n",
    "\n",
    "*Dedukcinis arba **loginis** samprotavimas yra nuoseklus mąstymo procesas, kuriuo nuo prielaidų einama\n",
    "prie išvadų kiekviename žingsnyje taikant loginio išvedimo taisykles. Toks samprotavimas garantuoja, kad esant teisingoms prielaidoms išvados visada teisingos. Svarbiausia matematinio samprotavimo dalis yra pirmoji - euristinė, kai\n",
    "dar nežinoma, kuriuo keliu reikia pasukti. Loginis samprotavimas yra paskutinė problemos sprendimo dalis; ji padeda išvengti klaidų ir pagrindžia problemos sprendimą.*"
   ]
  },
  {
   "cell_type": "markdown",
   "metadata": {},
   "source": [
    "### Eksperimentas\n",
    "\n",
    "Likusį pusvalandį skyrėme pailiustruoti euristinio ir loginio mąstymo ryšį spręsdami uždavinį iš Kašubos knygelės:\n",
    "    \n",
    "**Kiek daugiausia iš eilės einančių natūraliųjų skaičių galima parašyti, kad jų skaitmenų suma nesidalintų iš 5?**\n",
    "\n",
    "***Simonas.*** Klausimui suprasti imame seką: **19**,20,21,22,**23** Skaičių 19 ir 23 skaitmenų sumos dalijasi iš 5, todėl šiame variante yra tik trys iš eilės einantys skaičiai. Ar gali būti daugiau?\n",
    "\n",
    "***Mantas.*** Gali, pavyzdžiui $24, 25, 26, 27$?\n",
    "\n",
    "***Simonas.*** Gerai. O ar gali būti dar daugiau?\n",
    "\n",
    "***Mantas.*** Nežinau.\n",
    "\n",
    "***Simonas.*** Duodu laiko pagalvoti. Kai kils minčių, iš karto sakyk.\n",
    "\n",
    "***Mantas.*** Kilo tokios mintys:\n",
    "\n",
    "* skaitmenų sumos eina iš eilės\n",
    "* tarp penkių iš eilės einančių skaičių bent vienas dalijasi iš 5\n",
    "\n",
    "***Simonas.*** Knygutėje irgi paminėta: pirmiausia į galvą prisistato mintis, kad tarp penkių iš eilės einančių skaičių bent vienas dalijasi iš 5. Tačiau su skaitmenų sumomis taip ne visada būna. Einant į kitą dešimtį gali įvykti perėjimai, kai skaitmenų suma keisis iš 10 į 2, iš 11 iš 3, iš 9 į 1 ir pan. Tad reikėtų pastebėti **smulkmeną:** dėsnis, kad tarp penkių iš eilės einančių skaičių bent vieno **skaitmenų suma** dalijasi iš 5 galioja tik tais atvejais, kai skaičiai yra vienoje dešimtyje.\n",
    "\n",
    "***Mantas.*** Dar matau, kad kiekvieną kartą eis 3 tinkami skaičiai, po to 4, po to vėl 3, vėl 4. Mano hipotezė, kad kartosis kas du.\n",
    "\n",
    "***Simonas.*** Man atrodo, kad jau nukrypai į neteisingą kelią, bet patikrinkime: **19**, 20, 21, 22, **23**, 24, 25, 26, 27, **28**, 29, 30, 31, **32**, 33, 34, 35, 36, **37**, 38, 39, 40, **41**, 42, 43, 44, 45, **46**, 47, 48, 49, **50**, 51, 52, 53, 54, **55**, 56, 57, 58, 59, 60.... Hipotezė sugriuvo. Tačiau tai, ką jau atradome, gali padėti pasiekti sprendimo finišą. Išdėliokime skaičius taip, kad tarp penkių iš eilės einančių skaičių vienoje dešimtyje blogas skaičius yra priekyje, o kitoje dešimtyje - gale: **5**, 6, 7, 8, 9, 10, 11, 12, 13, **14**. Gavome 8 skaičius. Tai yra daugiausia, ką galėjome gauti."
   ]
  },
  {
   "cell_type": "markdown",
   "metadata": {},
   "source": [
    "### Eksperimento rezultatai"
   ]
  },
  {
   "cell_type": "markdown",
   "metadata": {},
   "source": [
    "* Prielaidų, kurios buvo teisingos arba neteisingos, kėlimą galima laikyti euristiniu samprotavimu. \n",
    "* Šiuo atveju buvo svarbu nepamesti kelio dėl neteisingų prielaidų, t.y. nedaryti iš jų tolimesnių išvadų.\n",
    "* Prielaidoms patvirtinti reiktų daugiau pavyzdžių, kurie pasufleruotų tam tikrą logiką arba paneigtų prielaidą. \n",
    "(Prisiminkime, kai patikėjome, kad 1003 pirminis, nors paaiškėjo, kad jis dalijasi iš 17)\n",
    "* Nieko baisaus, kad intuicija samprotaujant dar nėra tokia gera, kad pavyktų nuoseklus sprendimas, \n",
    "tam reikia tiesiog daugiau susidūrimų su panašiais tyrinėjimais.\n",
    "* Sprendimą užbaigėme nuosekliu loginiu samprotavimu, apdraudžiančiu nuo klaidų.\n",
    "* Eksperimentas (arba jo autorius) skatina pamąstyti, ar tie patys pastebėjimai galios kitais atvejais, pavyzdžiui su skaičiais 6, 9, 11, 13. O gal prireiks naujų pastebėjimų, kurie praplės mūsų patirtį?"
   ]
  },
  {
   "cell_type": "markdown",
   "metadata": {},
   "source": [
    "### Užsiėmimo pabaiga\n",
    "\n",
    "Mantui liko nutarti, ko nori per kitus užsiėmimus. Jis pageidautų sugrįžti prie ruošimosi stojamajam į licėjų ir daugiau pagvildenti matematinių žaidimų temą."
   ]
  },
  {
   "cell_type": "markdown",
   "metadata": {},
   "source": [
    "### Likusios veiklos\n",
    "* [Laipsnių dauginimo uždavinys](https://projecteuler.net/problem=122) atveju $n^{23}$\n",
    "* Panagrinėti likusius tris matematinius žaidimus iš [laiminčiųjų ir pralaiminčiųjų pozicijų skyrelio](../matematiniai%20žaidimai/žaidimai.ipynb). Kiekvieną uždavinį laikau išspręstu, jei matosi laiminčių ir pralaiminčių pozicijų seka ir jos paaiškinimas.\n"
   ]
  },
  {
   "cell_type": "code",
   "execution_count": null,
   "metadata": {},
   "outputs": [],
   "source": []
  }
 ],
 "metadata": {
  "kernelspec": {
   "display_name": "Python 3",
   "language": "python",
   "name": "python3"
  },
  "language_info": {
   "codemirror_mode": {
    "name": "ipython",
    "version": 3
   },
   "file_extension": ".py",
   "mimetype": "text/x-python",
   "name": "python",
   "nbconvert_exporter": "python",
   "pygments_lexer": "ipython3",
   "version": "3.7.4"
  }
 },
 "nbformat": 4,
 "nbformat_minor": 2
}
