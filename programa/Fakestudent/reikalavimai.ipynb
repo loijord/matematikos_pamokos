{
 "cells": [
  {
   "cell_type": "code",
   "execution_count": 5,
   "metadata": {},
   "outputs": [
    {
     "data": {
      "text/markdown": [
       "\n",
       "### Algebra\n",
       "\n",
       "* **Elementariosios matematikos gebėjimai.** Tiesinės ir kvadratinės lygtys, nelygybės ir jų sistemos, daugianarių sudėtis ir daugyba, reiškinių prastinimai, elementarūs aritmetiniai veiksmai.\n",
       "* **Reiškinių sudarymas.** Gebėjimas pagal uždavinio sąlygą sudaryti nesudėtingus raidinius arba skaitinius reiškinius, lygtis, nelygybes arba jų sistemas, reikšmių kontroliavimas (stebėjimas, kaip pakinta vienas dydis kintant kitam). Sudarytų reiškinių interpretavimas. Greičio, kelio ir laiko sąryšiai.\n",
       "* **Progresijos.** Aritmetinės ir geometrinės progresijos savybių taikymas.\n",
       "* **Palūkanos ir procentai.** Raidinių arba skaitinių reiškinių sudarymas panaudojant procentus, sudėtinės palūkanos.\n",
       "* **Logaritmai.** Logaritmų tapatybių taikymas, logaritminės lygtys ir nelygybės.\n",
       "* **Laipsniai ir šaknys.** Laipsnių ir šaknų savybių taikymas.\n",
       "\n",
       "### Funkcijos\n",
       "\n",
       "* **Funkcijos.** Reikšmės radimas žinant argumentą ir argumento radimas žinant reikšmę, skaičiaus, kintamojo, reiškinio ar funkcijos įstatymas į įvairias išraiškas, funkcijų grafikų interpretavimas, apibrėžimo sritis, veiksmai su intervalais.\n",
       "* **Išvestinės.** Išvestinių savybės, išvestinių skaičiavimas, funkcijų minimumai ir maksimumai, liestinių lygtys, geometrinė išvestinės interpretacija.\n",
       "* **Integralai.** Integralo panaudojimas funkcijų ribojamam plotui skaičiuoti, nesudėtingų reiškinių integravimas.\n",
       "\n",
       "### Geometrija\n",
       "\n",
       "* **Geometrija.** Plokštumos figūrų savybės.\n",
       "* **Trigonometrija.** Kampų konvertavimas į radianus ir atvirkščiai. Trigometrinių funkcijų ir joms atvirkštinių reikšmių radimas, kai žinomas jų argumentas. Trigonometrinių tapatybių taikymas, kraštinių sąryšiai stačiajame trikampyje, Sinusų ir Kosinusų teoremos, atvirkštinės trigonometrinės funkcijos, trigonometrinės lygtys ir nelygybės.\n",
       "* **Vektoriai.** Vektorių sudėtis ir atimtis, vektorinė ir skaliarinė sandaugos, kolinearumas, statmenumas, vieno vektoriaus išreiškimas per kitus, vektoriaus modulis.\n",
       "* **Erdvės geometrija.** Erdvinių kūnų tūriai ir paviršiaus plotai, uždaviniai su keliomis plokštumomis.\n",
       "\n",
       "### Kombinatorika\n",
       "\n",
       "* **Tikimybių teorija.** Tiesiog tikimybės\n",
       "* **Statistika.** Imtis, moda, mediana, vidurkis, dispersija, dažnių lentelės.\n",
       "* **Kombinatorika.** Deriniai, kėliniai, gretiniai.\n"
      ],
      "text/plain": [
       "<IPython.core.display.Markdown object>"
      ]
     },
     "metadata": {},
     "output_type": "display_data"
    }
   ],
   "source": [
    "import os\n",
    "if os.path.basename(os.getcwd()) == 'Fakestudent':\n",
    "    os.chdir('../database')\n",
    "    \n",
    "display(Markdown(document_it(r'vbe\\clusters.txt', r'vbe\\branches.txt')))"
   ]
  },
  {
   "cell_type": "code",
   "execution_count": null,
   "metadata": {},
   "outputs": [],
   "source": []
  }
 ],
 "metadata": {
  "kernelspec": {
   "display_name": "Python 3",
   "language": "python",
   "name": "python3"
  },
  "language_info": {
   "codemirror_mode": {
    "name": "ipython",
    "version": 3
   },
   "file_extension": ".py",
   "mimetype": "text/x-python",
   "name": "python",
   "nbconvert_exporter": "python",
   "pygments_lexer": "ipython3",
   "version": "3.8.3"
  }
 },
 "nbformat": 4,
 "nbformat_minor": 4
}
