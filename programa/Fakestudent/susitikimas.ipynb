{
 "cells": [
  {
   "cell_type": "markdown",
   "metadata": {},
   "source": [
    "**Šiame faile pateikiamas pavyzdys, kaip galima pajungti uždavinių rodymą keturiais režimais. Metodai apibrėžti faile source_code.ipynb**"
   ]
  },
  {
   "cell_type": "code",
   "execution_count": 10,
   "metadata": {},
   "outputs": [],
   "source": [
    "def F(text):\n",
    "    return text.replace('![](', r'![](..\\\\database\\\\')\n",
    "import os\n",
    "if os.path.basename(os.getcwd()) == 'Fakestudent':\n",
    "    os.chdir('../database')\n",
    "\n",
    "problems = [('licejus/2017', '6'), ('licejus/2017', '7a'), ('licejus/2017', '7b'), ('simonas/proofs', '1a'), ('simonas/proofs', '1b'), ('simonas/tables', '8')]"
   ]
  },
  {
   "cell_type": "code",
   "execution_count": 11,
   "metadata": {},
   "outputs": [
    {
     "data": {
      "text/markdown": [
       "# Uždaviniai"
      ],
      "text/plain": [
       "<IPython.core.display.Markdown object>"
      ]
     },
     "metadata": {},
     "output_type": "display_data"
    },
    {
     "data": {
      "text/markdown": [
       "**Užduotis 6.**\n",
       "\n",
       "Žinoma, kad merginos sudarė daugiau nei 20%, bet mažiau nei 25% visų ekskursijos dalyvių skaičiaus. Raskite mažiausią galimą šios ekskursijos dalyvių skaičių [3tšk.]"
      ],
      "text/plain": [
       "<IPython.core.display.Markdown object>"
      ]
     },
     "metadata": {},
     "output_type": "display_data"
    },
    {
     "data": {
      "text/markdown": [
       "**Užduotis 7a.**\n",
       "\n",
       "Taškas $P$ yra stačiakampio $ABCD$ $(AB<BC)$ kraštinės $BC$ taškas, $AP$ - kampo $BAD$ pusiaukampinė. Žinoma, kad $PO$ yra statmena stačiakampio įstrižainei $AC$ ir taškas $O$ dalija šią įstrižainę pusiau. Apskaičiuokite kampo $CAD$ didumą [4tšk.]"
      ],
      "text/plain": [
       "<IPython.core.display.Markdown object>"
      ]
     },
     "metadata": {},
     "output_type": "display_data"
    },
    {
     "data": {
      "text/markdown": [
       "**Užduotis 7b.**\n",
       "\n",
       "Taškas $P$ yra stačiakampio $ABCD$ $(AB<BC)$ kraštinės $BC$ taškas, $AP$ - kampo $BAD$ pusiaukampinė. Žinoma, kad $PO$ yra statmena stačiakampio įstrižainei $AC$ ir taškas $O$ dalija šią įstrižainę pusiau. Užrašykite formulę, kuria remiantis būtų galima apskaičiuoti trikampio $APO$ plotą, kai žinomos stačiakampio kraštinės $AB = a$ ir $BC = b$ [2tšk.]"
      ],
      "text/plain": [
       "<IPython.core.display.Markdown object>"
      ]
     },
     "metadata": {},
     "output_type": "display_data"
    },
    {
     "data": {
      "text/markdown": [
       "**Užduotis 1a.**\n",
       "\n",
       "DEMONSTRACIJA. Stačiakampis padalintas į keturis stačiakampius atkarpomis, lygiagrečiomis jo kraštinėms, kaip pavaizduota. Viena iš atkarpų dalija stačiakampio kraštinę į atkarpas, kurių ilgiai yra $a$ ir $b$, o kita - į atkarpas, kurių ilgiai yra $c$ ir $d$. Remdamiesi geometrijos žiniomis įrodykite tapatybę $(a+b)(c+d)=ac+ad+bc+bd$ ![](..\\\\database\\\\simonas\\proof_distr_basic.PNG)"
      ],
      "text/plain": [
       "<IPython.core.display.Markdown object>"
      ]
     },
     "metadata": {},
     "output_type": "display_data"
    },
    {
     "data": {
      "text/markdown": [
       "**Užduotis 1b.**\n",
       "\n",
       "GEOMETRINIS UŽDAVINYS. Stačiakampis padalintas į keturis stačiakampius atkarpomis, lygiagrečiomis jo kraštinėms, kaip pavaizduota. Viena iš atkarpų dalija stačiakampio kraštinę į atkarpas, kurių ilgiai yra $a$ ir $b$, o kita - į atkarpas, kurių ilgiai yra $c$ ir $d$. Remdamiesi geometrijos žiniomis įrodykite tapatybę $(a+b)(c+d)=ac+ad+bc+bd$ ![](..\\\\database\\\\simonas\\proof_distr_basic.PNG)"
      ],
      "text/plain": [
       "<IPython.core.display.Markdown object>"
      ]
     },
     "metadata": {},
     "output_type": "display_data"
    },
    {
     "data": {
      "text/markdown": [
       "**Užduotis 8.**\n",
       "\n",
       "Išskleiskite: $(a+b)(a^2-ab+b^2)$"
      ],
      "text/plain": [
       "<IPython.core.display.Markdown object>"
      ]
     },
     "metadata": {},
     "output_type": "display_data"
    }
   ],
   "source": [
    "\n",
    "display(Markdown('# Uždaviniai'))\n",
    "for dir, id in problems: display(Markdown(F(show_problem(dir, id, show_solution=False)).replace('Užduotis', 'Užduotis '+id)))"
   ]
  },
  {
   "cell_type": "code",
   "execution_count": 12,
   "metadata": {},
   "outputs": [
    {
     "data": {
      "text/markdown": [
       "# Uždavinių dalys"
      ],
      "text/plain": [
       "<IPython.core.display.Markdown object>"
      ]
     },
     "metadata": {},
     "output_type": "display_data"
    },
    {
     "data": {
      "text/markdown": [
       "**Uždavinio dalis 1 iš 6, kurioje yra Lygčių ir nelygybių sudarymas.**\n",
       "\n",
       "Tarkime, kad ekskursijoje yra $9$ dalyviai, dalis jų merginos, dalis vaikinai. Raskite visus galimus variantus, kurią dalį ekskursijos dalyvių gali sudaryti merginos."
      ],
      "text/plain": [
       "<IPython.core.display.Markdown object>"
      ]
     },
     "metadata": {},
     "output_type": "display_data"
    },
    {
     "data": {
      "text/markdown": [
       "**Uždavinio dalis 2 iš 6, kurioje yra Procentai.**\n",
       "\n",
       "Duoti skaičiai: $1/9, 2/9, 3/9, 4/9, 5/9, 6/9, 7/9, 8/9$. Ar tarp jų yra reikšmė, esanti tarp $20\\%$ ir $25\\%$?"
      ],
      "text/plain": [
       "<IPython.core.display.Markdown object>"
      ]
     },
     "metadata": {},
     "output_type": "display_data"
    },
    {
     "data": {
      "text/markdown": [
       "**Uždavinio dalis 3 iš 6, kurioje yra Procentai.**\n",
       "\n",
       "Žinoma, kad sekoje $\\{1/9, 2/9, 3/9, 4/9, 5/9, 6/9, 7/9, 8/9\\}$ narys $2/9$ yra tarp $20\\%$ ir $25\\%$. Ar egzistuoja skaičius, turintis natūralųjį vardiklį, mažesnį už 9 ir esantis tarp $20\\%$ ir $25\\%$"
      ],
      "text/plain": [
       "<IPython.core.display.Markdown object>"
      ]
     },
     "metadata": {},
     "output_type": "display_data"
    },
    {
     "data": {
      "text/markdown": [
       "**Uždavinio dalis 1 iš 7a, kurioje yra Trikampių savybės.**\n",
       "\n",
       "Įrodykite, kad $\\triangle APO = \\triangle POC$ ![](..\\\\database\\\\licejus\\lic2017_7a.PNG)"
      ],
      "text/plain": [
       "<IPython.core.display.Markdown object>"
      ]
     },
     "metadata": {},
     "output_type": "display_data"
    },
    {
     "data": {
      "text/markdown": [
       "**Uždavinio dalis 2 iš 7a, kurioje yra Trikampių savybės.**\n",
       "\n",
       "Duota, kad $\\triangle APO = \\triangle POC$. Įrodykite, kad $\\angle PAO=\\angle PCO$ ![](..\\\\database\\\\licejus\\lic2017_7a.PNG)"
      ],
      "text/plain": [
       "<IPython.core.display.Markdown object>"
      ]
     },
     "metadata": {},
     "output_type": "display_data"
    },
    {
     "data": {
      "text/markdown": [
       "**Uždavinio dalis 3 iš 7a, kurioje yra Trikampių savybės.**\n",
       "\n",
       "Duota, kad $\\angle PAO=\\angle PCO$. Raskite šiuos kampus remdamiesi brėžiniu"
      ],
      "text/plain": [
       "<IPython.core.display.Markdown object>"
      ]
     },
     "metadata": {},
     "output_type": "display_data"
    },
    {
     "data": {
      "text/markdown": [
       "**Uždavinio dalis 4 iš 7a, kurioje yra Kampų rūšys.**\n",
       "\n",
       "Stačiakampio vienas iš kampų yra padalytas į tris kampus, iš kurių du lygūs $45^o$ ir $22.5$. Kam lygus trečiasis kampas?"
      ],
      "text/plain": [
       "<IPython.core.display.Markdown object>"
      ]
     },
     "metadata": {},
     "output_type": "display_data"
    },
    {
     "data": {
      "text/markdown": [
       "**Uždavinio dalis 1 iš 7b, kurioje yra Pitagoro teorema.**\n",
       "\n",
       "BRĖŽINYS: ![](..\\\\database\\\\licejus\\lic2017_7a.PNG) | **DUOTA:** <ul><li> $ABCD$ - stačiakampis </li><li>$$\\angle BAP=\\angle PAD$$ </li><li> $$PO\\perp AC$$ </li><li>$$AO = OC$$</li><li>$$AB=a$$</li><li>$$BC=b$$</ul> **RASTI:** <ul><li>$AP$, $AO$</li></ul> \n",
       " :---|:---"
      ],
      "text/plain": [
       "<IPython.core.display.Markdown object>"
      ]
     },
     "metadata": {},
     "output_type": "display_data"
    },
    {
     "data": {
      "text/markdown": [
       "**Uždavinio dalis 2 iš 7b, kurioje yra Pitagoro teorema.**\n",
       "\n",
       "BRĖŽINYS: ![](..\\\\database\\\\licejus\\lic2017_7a.PNG) | **DUOTA:** <ul><li> $\\angle AOP = 90^o$ </li><li>$$AP=a\\sqrt{2}$$</li><li>$$AO=\\frac{\\sqrt{a^2+b^2}}{2}$$</ul> **RASTI:** <ul><li>$$S_{\\triangle APO}$$</li></ul> \n",
       " :---|:---"
      ],
      "text/plain": [
       "<IPython.core.display.Markdown object>"
      ]
     },
     "metadata": {},
     "output_type": "display_data"
    },
    {
     "data": {
      "text/markdown": [
       "**Uždavinio dalis 1 iš 1a, kurioje yra Keturkampių savybės.**\n",
       "\n",
       "Remdamiesi brėžiniu raskite kiekvieno spalvoto stačiakampio plotą ir tada užrašykite jų bendrą plotą ![](..\\\\database\\\\simonas\\proof_distr_basic.PNG)"
      ],
      "text/plain": [
       "<IPython.core.display.Markdown object>"
      ]
     },
     "metadata": {},
     "output_type": "display_data"
    },
    {
     "data": {
      "text/markdown": [
       "**Uždavinio dalis 2 iš 1a, kurioje yra Keturkampių savybės.**\n",
       "\n",
       "Remdamiesi brėžiniu raskite stačiakampio plotą ![](..\\\\database\\\\simonas\\proof_distr_basic_step2.PNG)"
      ],
      "text/plain": [
       "<IPython.core.display.Markdown object>"
      ]
     },
     "metadata": {},
     "output_type": "display_data"
    },
    {
     "data": {
      "text/markdown": [
       "**Uždavinio dalis 1 iš 1b, kurioje yra Keturkampių savybės.**\n",
       "\n",
       "BRĖŽINYS: ![](..\\\\database\\\\simonas\\proof_distr.PNG) | **DUOTA:** <ul><li> $ABCD$ - kvadratas </li><li>$$EG||BC$$ </li><li> $$FH||AB$$</li><li> $$AE=a, EB=b, BF=c, FC=d$$</ul> **ĮRODYTI:** <ul><li>$EBFO$, $OFCG$, $OGDH$ ir $OHAE$ - stačiakampiai</li></ul> \n",
       " :---|:--- \n"
      ],
      "text/plain": [
       "<IPython.core.display.Markdown object>"
      ]
     },
     "metadata": {},
     "output_type": "display_data"
    },
    {
     "data": {
      "text/markdown": [
       "**Uždavinio dalis 2 iš 1b, kurioje yra Keturkampių savybės.**\n",
       "\n",
       "BRĖŽINYS: ![](..\\\\database\\\\simonas\\proof_distr.PNG) | **DUOTA:** <ul><li> $ABCD$ - kvadratas </li><li>$$EG||BC$$ </li><li> $$FH||AB$$</li><li> $$AE=a, EB=b, BF=c, FC=d$$</ul> **RASTI:** <ul><li>$$S_{EBFO}+S_{OFCG}+S_{OGDH}+S_{OHAE}$$</li></ul> \n",
       " :---|:--- \n"
      ],
      "text/plain": [
       "<IPython.core.display.Markdown object>"
      ]
     },
     "metadata": {},
     "output_type": "display_data"
    },
    {
     "data": {
      "text/markdown": [
       "**Uždavinio dalis 3 iš 1b, kurioje yra Keturkampių savybės.**\n",
       "\n",
       "BRĖŽINYS: ![](..\\\\database\\\\simonas\\proof_distr_step2.PNG) | **DUOTA:** <ul><li> $ABCD$ - kvadratas </li><li> $$AE=a, EB=b, BF=c, FC=d$$</ul> **RASTI:** <ul><li>$$S_{ABCD}$$</li></ul> \n",
       " :---|:--- \n"
      ],
      "text/plain": [
       "<IPython.core.display.Markdown object>"
      ]
     },
     "metadata": {},
     "output_type": "display_data"
    },
    {
     "data": {
      "text/markdown": [
       "**Užduotis 8.**\n",
       "\n",
       "Išskleiskite: $(a+b)(a^2-ab+b^2)$"
      ],
      "text/plain": [
       "<IPython.core.display.Markdown object>"
      ]
     },
     "metadata": {},
     "output_type": "display_data"
    }
   ],
   "source": [
    "display(Markdown('# Uždavinių dalys'))\n",
    "for dir, id in problems: \n",
    "    skills = check_skills(dir, id)\n",
    "    for which in range(1, len(skills)+1):\n",
    "        if len(skills)!=1: display(Markdown(F(show_case(dir, id, which=which, show_solution=False)).replace(', kurioje yra', f' iš {id}, kurioje yra')))\n",
    "        else: display(Markdown(show_problem(dir, id, show_solution=False).replace('Užduotis', 'Užduotis '+id)))"
   ]
  },
  {
   "cell_type": "code",
   "execution_count": 11,
   "metadata": {},
   "outputs": [
    {
     "data": {
      "text/markdown": [
       "# Uždavinių sprendimai"
      ],
      "text/plain": [
       "<IPython.core.display.Markdown object>"
      ]
     },
     "metadata": {},
     "output_type": "display_data"
    },
    {
     "data": {
      "text/markdown": [
       "**Užduotis 1a.**\n",
       "\n",
       "DEMONSTRACIJA. Stačiakampis padalintas į keturis stačiakampius atkarpomis, lygiagrečiomis jo kraštinėms, kaip pavaizduota. Viena iš atkarpų dalija stačiakampio kraštinę į atkarpas, kurių ilgiai yra $a$ ir $b$, o kita - į atkarpas, kurių ilgiai yra $c$ ir $d$. Remdamiesi geometrijos žiniomis įrodykite tapatybę $(a+b)(c+d)=ac+ad+bc+bd$ ![](..\\\\database\\\\simonas\\proof_distr_basic.PNG)\n",
       "\n",
       "**Sprendimas.**\n",
       "* Spalvotų stačiakampių plotai lygūs $bc$, $bd$, $ac$, $ad$. Juos sudėję gauname $ac+ad+bc+bd$\n",
       "* Viso stačiakampio plotas lygus jo kraštinių ilgių sandaugai: $(a+b)(c+d)$. Vadinasi $(a+b)(c+d)=ac+ad+bc+bd$"
      ],
      "text/plain": [
       "<IPython.core.display.Markdown object>"
      ]
     },
     "metadata": {},
     "output_type": "display_data"
    },
    {
     "data": {
      "text/markdown": [
       "**Užduotis 1b.**\n",
       "\n",
       "GEOMETRINIS UŽDAVINYS. Stačiakampis padalintas į keturis stačiakampius atkarpomis, lygiagrečiomis jo kraštinėms, kaip pavaizduota. Viena iš atkarpų dalija stačiakampio kraštinę į atkarpas, kurių ilgiai yra $a$ ir $b$, o kita - į atkarpas, kurių ilgiai yra $c$ ir $d$. Remdamiesi geometrijos žiniomis įrodykite tapatybę $(a+b)(c+d)=ac+ad+bc+bd$ ![](..\\\\database\\\\simonas\\proof_distr_basic.PNG)\n",
       "\n",
       "**Sprendimas.**\n",
       "* BRĖŽINYS: ![](..\\\\database\\\\simonas\\proof_distr.PNG) | **DUOTA:** <ul><li> $ABCD$ - kvadratas </li><li>$$EG||BC$$ </li><li> $$FH||AB$$</li><li> $$AE=a, EB=b, BF=c, FC=d$$</ul> **ĮRODYTI:** <ul><li>$$(a+b)(c+d)=ac+ad+bc+bd$$</li></ul> \n",
       " :---|:--- \n",
       "\n",
       "* Keturkampis $EBFO$ turi dvi poras lygiagrečių kraštinių, todėl jis lygiagretainis. $\\angle ABC = 90^o$, todėl šis lygiagretainis yra stačiakampis. Analogiškai $OFCG$, $OGDH$ ir $OHAE$ - stačiakampiai.\n",
       "* $S_{EBFO}+S_{OFCG}+S_{OGDH}+S_{OHAE}=bc+bd+ac+ad$\n",
       "* $S_{EBFO}+S_{OFCG}+S_{OGDH}+S_{OHAE} = S_{ABCD}=(a+b)(c+d)$. Vadinasi, $(a+b)(c+d)=ac+ad+bc+bd$"
      ],
      "text/plain": [
       "<IPython.core.display.Markdown object>"
      ]
     },
     "metadata": {},
     "output_type": "display_data"
    },
    {
     "data": {
      "text/markdown": [
       "**Užduotis 2.**\n",
       "\n",
       "Į kvadratą yra įbrėžtas kitas kvadratas iškerta jame keturis stačiuosius trikampius. Vieno iš trikampių statiniai lygūs $a$ ir $b$. Įrodykite, kad įbrėžto kvadrato kraštinės ilgis lygus $\\sqrt{a^2+b^2}$\n",
       "\n",
       "**Sprendimas.**\n",
       "* BRĖŽINYS: ![](..\\\\database\\\\simonas\\proof_pyth.PNG) | **DUOTA:** <ul><li> $ABCD$ ir $XYZT$ - kvadratai </li><li>$$AX=a$$ </li><li> $$AY=b$$</ul> **ĮRODYTI:** <ul><li>$XY=\\sqrt{a^2+b^2}$</li></ul> \n",
       " :---|:--- \n",
       "\n",
       "* $\\begin{cases}\\angle BXY + \\angle BYX = 180^o - \\angle XBY = 180^o-90^o=90^o \\\\ \\angle CYZ + \\angle BYX = 180^o - \\angle XYZ = 180^o-90^o=90^o\\end{cases}$. Iš čia $\\angle BXY = \\angle CYZ$\n",
       "* Dvi $\\triangle BXY$ ir $\\triangle CYZ$ kampų poros sutampa, todėl sutampa ir trečioji pora. Taip pat $XY=YZ$. Vadinasi $\\triangle BXY = \\triangle CYZ$. Analogiškai $\\triangle CYZ = \\triangle ZDT$ ir $\\triangle ZDT = \\triangle XAT$\n",
       "* $S_{\\triangle BXY} + S_{\\triangle CYZ} + S_{\\triangle CYZ} + S_{\\triangle ZDT} = 4S_{\\triangle BXY} = 4\\cdot \\frac{ab}{2} = 2ab$\n",
       "* $BX=YC=a$, todėl kvadrato ploto formulę turime $S_{ABCD}=(a+b)^2$\n",
       "* Tegu $c$ yra įbrėžto kvadrato kraštinė. Tuomet $S_{ABCD}=S_{\\triangle BXY} + S_{\\triangle CYZ} + S_{\\triangle CYZ} + S_{\\triangle ZDT}+S_{XYZT}=2ab+c^2$\n",
       "* Užrašome lygybę, kurioje $S_{ABCD}$ skaičiuojamas dviem skirtingais būdais ir iš jos surandame $c$ reikšmę: \n",
       " $\\boxed{2ab+c^2 = (a+b)^2} \\Rightarrow \\boxed{2ab+c^2 = a^2+2ab+b^2} \\Rightarrow \\boxed{c^2 = a^2+b^2} \\Rightarrow \\boxed{c= \\sqrt{a^2+b^2}}$"
      ],
      "text/plain": [
       "<IPython.core.display.Markdown object>"
      ]
     },
     "metadata": {},
     "output_type": "display_data"
    }
   ],
   "source": [
    "display(Markdown('# Uždavinių sprendimai'))\n",
    "for dir, id in problems: display(Markdown(F(show_problem(dir, id, show_solution=True)).replace('Užduotis', 'Užduotis '+id)))"
   ]
  },
  {
   "cell_type": "code",
   "execution_count": 13,
   "metadata": {},
   "outputs": [
    {
     "data": {
      "text/markdown": [
       "# Uždavinio dalių sprendimai"
      ],
      "text/plain": [
       "<IPython.core.display.Markdown object>"
      ]
     },
     "metadata": {},
     "output_type": "display_data"
    },
    {
     "data": {
      "text/markdown": [
       "**Uždavinio dalis 1 iš 6, kurioje yra Lygčių ir nelygybių sudarymas.**\n",
       "\n",
       "Tarkime, kad ekskursijoje yra $9$ dalyviai, dalis jų merginos, dalis vaikinai. Raskite visus galimus variantus, kurią dalį ekskursijos dalyvių gali sudaryti merginos.\n",
       "\n",
       "**Sprendimas.**\n",
       "\n",
       "$1/9, 2/9, 3/9, 4/9, 5/9, 6/9, 7/9, 8/9$"
      ],
      "text/plain": [
       "<IPython.core.display.Markdown object>"
      ]
     },
     "metadata": {},
     "output_type": "display_data"
    },
    {
     "data": {
      "text/markdown": [
       "**Uždavinio dalis 2 iš 6, kurioje yra Procentai.**\n",
       "\n",
       "Duoti skaičiai: $1/9, 2/9, 3/9, 4/9, 5/9, 6/9, 7/9, 8/9$. Ar tarp jų yra reikšmė, esanti tarp $20\\%$ ir $25\\%$?\n",
       "\n",
       "**Sprendimas.**\n",
       "\n",
       "Taip, yra: $2/9$. Apytikslė šios skaičiaus reikšmė: $2/9=0.2222 = 22.22\\%$"
      ],
      "text/plain": [
       "<IPython.core.display.Markdown object>"
      ]
     },
     "metadata": {},
     "output_type": "display_data"
    },
    {
     "data": {
      "text/markdown": [
       "**Uždavinio dalis 3 iš 6, kurioje yra Procentai.**\n",
       "\n",
       "Žinoma, kad sekoje $\\{1/9, 2/9, 3/9, 4/9, 5/9, 6/9, 7/9, 8/9\\}$ narys $2/9$ yra tarp $20\\%$ ir $25\\%$. Ar egzistuoja skaičius, turintis natūralųjį vardiklį, mažesnį už 9 ir esantis tarp $20\\%$ ir $25\\%$\n",
       "\n",
       "**Sprendimas.**\n",
       "\n",
       "Neegzistuoja. Jei norisi, galima parodyti, kokių sekų variantus perrinkome: \n",
       "\n",
       " $\\{1/2\\}$, \n",
       "\n",
       " $\\{1/3, 2/3\\}$, \n",
       "\n",
       " $\\{1/4, 2/4, 3/4\\}$, \n",
       "\n",
       " $\\{1/5, 2/5, 3/5, 4/5\\}$, \n",
       "\n",
       " $\\{1/6, 2/6, 3/6, 4/6, 5/6\\}$, \n",
       "\n",
       " $\\{1/7, 2/7, 3/7, 4/7, 5/7, 6/7\\}$, \n",
       "\n",
       " $\\{1/8, 2/8, 3/8, 4/8, 5/8, 6/8, 7/8\\}$"
      ],
      "text/plain": [
       "<IPython.core.display.Markdown object>"
      ]
     },
     "metadata": {},
     "output_type": "display_data"
    },
    {
     "data": {
      "text/markdown": [
       "**Uždavinio dalis 1 iš 7a, kurioje yra Trikampių savybės.**\n",
       "\n",
       "Įrodykite, kad $\\triangle APO = \\triangle POC$ ![](..\\\\database\\\\licejus\\lic2017_7a.PNG)\n",
       "\n",
       "**Sprendimas.**\n",
       "\n",
       "Taikome dviejų kraštinių ir kampo tarp jų lygumo požymį: \n",
       " bendra kraštinė $PO$, $AO=OC$ ir $\\angle AOP = POC = 90^o$"
      ],
      "text/plain": [
       "<IPython.core.display.Markdown object>"
      ]
     },
     "metadata": {},
     "output_type": "display_data"
    },
    {
     "data": {
      "text/markdown": [
       "**Uždavinio dalis 2 iš 7a, kurioje yra Trikampių savybės.**\n",
       "\n",
       "Duota, kad $\\triangle APO = \\triangle POC$. Įrodykite, kad $\\angle PAO=\\angle PCO$ ![](..\\\\database\\\\licejus\\lic2017_7a.PNG)\n",
       "\n",
       "**Sprendimas.**\n",
       "\n",
       "$\\triangle APC$ lygiašonis, todėl $\\angle PAO=\\angle PCO$"
      ],
      "text/plain": [
       "<IPython.core.display.Markdown object>"
      ]
     },
     "metadata": {},
     "output_type": "display_data"
    },
    {
     "data": {
      "text/markdown": [
       "**Uždavinio dalis 3 iš 7a, kurioje yra Trikampių savybės.**\n",
       "\n",
       "Duota, kad $\\angle PAO=\\angle PCO$. Raskite šiuos kampus remdamiesi brėžiniu\n",
       "\n",
       "**Sprendimas.**\n",
       "\n",
       "Turime $\\angle BAP=\\angle BAD/2=45^o$. Tegu $\\angle PAO = x$. Tada $\\angle BAP + \\angle PAC + \\angle ACB + \\angle CBA = 135^o + 2x = 180^o \\Rightarrow x=22.5^o$"
      ],
      "text/plain": [
       "<IPython.core.display.Markdown object>"
      ]
     },
     "metadata": {},
     "output_type": "display_data"
    },
    {
     "data": {
      "text/markdown": [
       "**Uždavinio dalis 4 iš 7a, kurioje yra Kampų rūšys.**\n",
       "\n",
       "Stačiakampio vienas iš kampų yra padalytas į tris kampus, iš kurių du lygūs $45^o$ ir $22.5$. Kam lygus trečiasis kampas?\n",
       "\n",
       "**Sprendimas.**\n",
       "\n",
       "$\\angle CAD = 90^o - 45^0 - 22.5^o = 22.5^o$"
      ],
      "text/plain": [
       "<IPython.core.display.Markdown object>"
      ]
     },
     "metadata": {},
     "output_type": "display_data"
    },
    {
     "data": {
      "text/markdown": [
       "**Uždavinio dalis 1 iš 7b, kurioje yra Pitagoro teorema.**\n",
       "\n",
       "BRĖŽINYS: ![](..\\\\database\\\\licejus\\lic2017_7a.PNG) | **DUOTA:** <ul><li> $ABCD$ - stačiakampis </li><li>$$\\angle BAP=\\angle PAD$$ </li><li> $$PO\\perp AC$$ </li><li>$$AO = OC$$</li><li>$$AB=a$$</li><li>$$BC=b$$</ul> **RASTI:** <ul><li>$AP$, $AO$</li></ul> \n",
       " :---|:---\n",
       "\n",
       "**Sprendimas.**\n",
       "\n",
       "* $\\triangle ABP$ kampai lygūs $90^o$, $45^o$ ir $180^o-90^0-45^o=45^o$. Todėl jis lygiašonis ir $AB=BP=a$. Pagal Pitagoro teoremą $AP=\\sqrt{a^2+a^2}=a\\sqrt{2}$ \n",
       "* Pagal Pitagoro teoremą $AO=\\frac{AC}{2}=\\frac{\\sqrt{a^2+b^2}}{2}$"
      ],
      "text/plain": [
       "<IPython.core.display.Markdown object>"
      ]
     },
     "metadata": {},
     "output_type": "display_data"
    },
    {
     "data": {
      "text/markdown": [
       "**Uždavinio dalis 2 iš 7b, kurioje yra Pitagoro teorema.**\n",
       "\n",
       "BRĖŽINYS: ![](..\\\\database\\\\licejus\\lic2017_7a.PNG) | **DUOTA:** <ul><li> $\\angle AOP = 90^o$ </li><li>$$AP=a\\sqrt{2}$$</li><li>$$AO=\\frac{\\sqrt{a^2+b^2}}{2}$$</ul> **RASTI:** <ul><li>$$S_{\\triangle APO}$$</li></ul> \n",
       " :---|:---\n",
       "\n",
       "**Sprendimas.**\n",
       "\n",
       "* Pagal Pitagoro teoremą $PO = \\sqrt{AP^2-AO^2} = \\sqrt{2a^2 - \\frac{a^2+b^2}{4}}=\\sqrt{\\frac{8a^2}{4} - \\frac{a^2+b^2}{4}} = \\sqrt{\\frac{7a^2-b^2}{4}}=\\frac{\\sqrt{7a^2-b^2}}{2}$\n",
       "* $S_{\\triangle APO}=\\frac{AO \\cdot PO}{2}=\\frac{\\sqrt{a^2+b^2}}{2}\\cdot \\frac{\\sqrt{7a^2-b^2}}{2} \\cdot \\frac{1}{2} = \\frac{\\sqrt{(a^2+b^2)(7a^2-b^2)}}{8}$"
      ],
      "text/plain": [
       "<IPython.core.display.Markdown object>"
      ]
     },
     "metadata": {},
     "output_type": "display_data"
    },
    {
     "data": {
      "text/markdown": [
       "**Uždavinio dalis 1 iš 1a, kurioje yra Keturkampių savybės.**\n",
       "\n",
       "Remdamiesi brėžiniu raskite kiekvieno spalvoto stačiakampio plotą ir tada užrašykite jų bendrą plotą ![](..\\\\database\\\\simonas\\proof_distr_basic.PNG)\n",
       "\n",
       "**Sprendimas.**\n",
       "\n",
       "Spalvotų stačiakampių plotai lygūs $bc$, $bd$, $ac$, $ad$. Juos sudėję gauname $ac+ad+bc+bd$"
      ],
      "text/plain": [
       "<IPython.core.display.Markdown object>"
      ]
     },
     "metadata": {},
     "output_type": "display_data"
    },
    {
     "data": {
      "text/markdown": [
       "**Uždavinio dalis 2 iš 1a, kurioje yra Keturkampių savybės.**\n",
       "\n",
       "Remdamiesi brėžiniu raskite stačiakampio plotą ![](..\\\\database\\\\simonas\\proof_distr_basic_step2.PNG)\n",
       "\n",
       "**Sprendimas.**\n",
       "\n",
       "$S_{ABCD}=(a+b)(c+d)$"
      ],
      "text/plain": [
       "<IPython.core.display.Markdown object>"
      ]
     },
     "metadata": {},
     "output_type": "display_data"
    },
    {
     "data": {
      "text/markdown": [
       "**Uždavinio dalis 1 iš 1b, kurioje yra Keturkampių savybės.**\n",
       "\n",
       "BRĖŽINYS: ![](..\\\\database\\\\simonas\\proof_distr.PNG) | **DUOTA:** <ul><li> $ABCD$ - kvadratas </li><li>$$EG||BC$$ </li><li> $$FH||AB$$</li><li> $$AE=a, EB=b, BF=c, FC=d$$</ul> **ĮRODYTI:** <ul><li>$EBFO$, $OFCG$, $OGDH$ ir $OHAE$ - stačiakampiai</li></ul> \n",
       " :---|:--- \n",
       "\n",
       "\n",
       "**Sprendimas.**\n",
       "\n",
       "Keturkampis $EBFO$ turi dvi poras lygiagrečių kraštinių, todėl jis lygiagretainis. $\\angle ABC = 90^o$, todėl šis lygiagretainis yra stačiakampis. Analogiškai $OFCG$, $OGDH$ ir $OHAE$ - stačiakampiai."
      ],
      "text/plain": [
       "<IPython.core.display.Markdown object>"
      ]
     },
     "metadata": {},
     "output_type": "display_data"
    },
    {
     "data": {
      "text/markdown": [
       "**Uždavinio dalis 2 iš 1b, kurioje yra Keturkampių savybės.**\n",
       "\n",
       "BRĖŽINYS: ![](..\\\\database\\\\simonas\\proof_distr.PNG) | **DUOTA:** <ul><li> $ABCD$ - kvadratas </li><li>$$EG||BC$$ </li><li> $$FH||AB$$</li><li> $$AE=a, EB=b, BF=c, FC=d$$</ul> **RASTI:** <ul><li>$$S_{EBFO}+S_{OFCG}+S_{OGDH}+S_{OHAE}$$</li></ul> \n",
       " :---|:--- \n",
       "\n",
       "\n",
       "**Sprendimas.**\n",
       "\n",
       "$S_{EBFO}+S_{OFCG}+S_{OGDH}+S_{OHAE}=bc+bd+ac+ad$"
      ],
      "text/plain": [
       "<IPython.core.display.Markdown object>"
      ]
     },
     "metadata": {},
     "output_type": "display_data"
    },
    {
     "data": {
      "text/markdown": [
       "**Uždavinio dalis 3 iš 1b, kurioje yra Keturkampių savybės.**\n",
       "\n",
       "BRĖŽINYS: ![](..\\\\database\\\\simonas\\proof_distr_step2.PNG) | **DUOTA:** <ul><li> $ABCD$ - kvadratas </li><li> $$AE=a, EB=b, BF=c, FC=d$$</ul> **RASTI:** <ul><li>$$S_{ABCD}$$</li></ul> \n",
       " :---|:--- \n",
       "\n",
       "\n",
       "**Sprendimas.**\n",
       "\n",
       "$S_{ABCD}=(a+b)(c+d)$"
      ],
      "text/plain": [
       "<IPython.core.display.Markdown object>"
      ]
     },
     "metadata": {},
     "output_type": "display_data"
    },
    {
     "data": {
      "text/markdown": [
       "**Užduotis 8.**\n",
       "\n",
       "Išskleiskite: $(a+b)(a^2-ab+b^2)$"
      ],
      "text/plain": [
       "<IPython.core.display.Markdown object>"
      ]
     },
     "metadata": {},
     "output_type": "display_data"
    }
   ],
   "source": [
    "display(Markdown('# Uždavinio dalių sprendimai'))\n",
    "for dir, id in problems: \n",
    "    skills = check_skills(dir, id)\n",
    "    for which in range(1, len(skills)+1):\n",
    "        if len(skills)!=1: display(Markdown(F(show_case(dir, id, which=which, show_solution=True)).replace(', kurioje yra', f' iš {id}, kurioje yra')))\n",
    "        else: display(Markdown(show_problem(dir, id, show_solution=False).replace('Užduotis', 'Užduotis '+id)))"
   ]
  },
  {
   "cell_type": "markdown",
   "metadata": {},
   "source": [
    "### Kiti metodai, skirti uždavinių peržiūroms"
   ]
  },
  {
   "cell_type": "code",
   "execution_count": 5,
   "metadata": {},
   "outputs": [
    {
     "data": {
      "text/markdown": [
       "\n",
       "### simonas/tables\n",
       "1\\. Išskleiskite: $(x-2)(x+2)$\n",
       "\n",
       "2\\. Išskleiskite: $(x+2)(x+2)$\n",
       "\n",
       "3\\. Išskleiskite: $(x-\\sqrt{3})(x+\\sqrt{3})$\n",
       "\n",
       "4\\. Išskleiskite: $(x-3)(x+3)$\n",
       "\n",
       "5\\. Išskleiskite: $(a-b)(a+b)$\n",
       "\n",
       "6\\. Išskleiskite: $(a-b)(a-b)$\n",
       "\n",
       "7\\. Išskleiskite: $(a-b)(a-b)$\n",
       "\n",
       "8\\. Išskleiskite: $(a+b)(a^2-ab+b^2)$\n",
       "\n",
       "9\\. Išskleiskite: $(a-b)(a^2+ab+b^2)$\n",
       "\n",
       "10\\. Išskleiskite: $(x-1)(x^3+x^2+x+1)$\n",
       "\n",
       "11\\. Išskleiskite: $(x^2-2x+2)(x^2+2x+2)$\n",
       "\n",
       "12\\. Išskleiskite: $(a^2+b^2+c^2-ab-bc-ca)(a+b+c)$\n",
       "\n",
       "13\\. Išskleiskite: $(\\sqrt{3}-\\sqrt{2})(\\sqrt{3}+\\sqrt{2})$\n",
       "\n"
      ],
      "text/plain": [
       "<IPython.core.display.Markdown object>"
      ]
     },
     "metadata": {},
     "output_type": "display_data"
    }
   ],
   "source": [
    "display(Markdown(make_some_bank('simonas/tables')))\n",
    "#check_skills('licejus/2017', '4b') #Nusistatome, kiek dalių turi uždavinys, ką joms reikia mokėti\n",
    "#display(Markdown(show_problem('simonas/proofs', '2', show_solution=False))) # Paprašome suflerio\n",
    "#display(Markdown(show_case('simonas/proofs', '2', which=6, show_solution=True))) # Pilnas sprendimas\n",
    "#display(Markdown(show_problem('licejus/2017', '6', show_solution=True))) # Pilnas sprendimas"
   ]
  },
  {
   "cell_type": "code",
   "execution_count": 3,
   "metadata": {},
   "outputs": [],
   "source": [
    "import json\n",
    "from IPython.display import display, Markdown\n",
    "import os\n",
    "from collections import defaultdict\n",
    "import matplotlib.pyplot as plt\n",
    "import matplotlib.colors as mlc\n",
    "import numpy as np\n",
    "from itertools import chain, compress\n",
    "from io import StringIO\n",
    "import pandas as pd\n",
    "import scipy.stats\n",
    "\n",
    "\n",
    "def read_json(file):\n",
    "    with open(file, encoding='utf-8') as fh:\n",
    "        data = json.loads(fh.read())\n",
    "    return data\n",
    "\n",
    "def document_it(clusters, branches):\n",
    "    clusters = read_json(clusters)\n",
    "    branches = read_json(branches)\n",
    "    headings = dict(zip([clusters[n][0] for n in clusters], clusters))\n",
    "    docstring = ''\n",
    "    for branch in branches:\n",
    "        if branch in headings:\n",
    "            docstring += f'\\n### {headings[branch]}\\n\\n'\n",
    "        docstring += f'* **{branch}.** {branches[branch]}\\n'\n",
    "    return docstring\n",
    "\n",
    "def make_some_bank(*files, extention='.txt', show_solution=False):\n",
    "    docstring = ''\n",
    "    for file in files:\n",
    "        heading = os.path.splitext(file)[0]\n",
    "        docstring += f'\\n### {heading}\\n'\n",
    "        bank = read_json(file + extention)\n",
    "        for užduotis in bank:\n",
    "            docstring += f\"{užduotis}\\\\. {bank[užduotis]['Sąlyga']}\"+'\\n\\n'\n",
    "            if show_solution:\n",
    "                docstring+=('\\n\\n**Sprendimas.**\\n' + '\\n'.join([f'* {n}' for n in bank[užduotis][\"Sprendimas\"]])+'\\n\\n')\n",
    "    return docstring\n",
    "\n",
    "def show_problem(complect, id, show_solution=True):\n",
    "    problem = read_json(f'{complect}.txt')[id]\n",
    "    step = '**Užduotis.**\\n\\n' + problem[\"Sąlyga\"]\n",
    "    if show_solution: step += ('\\n\\n**Sprendimas.**\\n' + '\\n'.join([f'* {n}' for n in problem[\"Sprendimas\"]]))\n",
    "    return step\n",
    "\n",
    "def show_case(complect, id, which=1, show_solution=True):\n",
    "    skills = read_json(f'{complect}.txt')[id][\"Gebėjimai\"][which-1]\n",
    "    step = '**Uždavinio dalis ' + f\"{which}, kurioje yra {skills['Gebėjimas']}\" + '.**\\n\\n' + skills['Atitikmuo']\n",
    "    if show_solution: step += ('\\n\\n**Sprendimas.**\\n\\n' + skills['Sprendimas'])\n",
    "    return step\n",
    "    \n",
    "def show_skill(skill, *files, extention='.txt'):\n",
    "    counter = 0\n",
    "    docstring = f'### Uždaviniai[@], kuriuose yra {skill}: \\n\\n'\n",
    "    for file in files:\n",
    "        heading = os.path.splitext(file)[0]\n",
    "        bank = read_json(file + extention)\n",
    "        for užduotis in bank:\n",
    "            for idx, gebėjimas in enumerate(bank[užduotis]['Gebėjimai']):\n",
    "                if gebėjimas['Gebėjimas'] == skill:\n",
    "                    counter +=1 \n",
    "                    if len(bank[užduotis]['Gebėjimai'])!=1:\n",
    "                        docstring += f\"**{heading}.{užduotis}->{idx+1}** {gebėjimas['Atitikmuo']}\\n\\n\"\n",
    "                    else: \n",
    "                        docstring += f\"**{heading}.{užduotis}->{idx+1}** {bank[užduotis]['Sąlyga']}\\n\\n\"\n",
    "                else: #expects to have just a list of skills without dict of descriptions - OUTDATED\n",
    "                    if gebėjimas == skill:\n",
    "                        counter +=1\n",
    "                        docstring += f\"**{heading}.{užduotis}->{idx+1}** {bank[užduotis]['Sąlyga']}\\n\\n\"\n",
    "    return docstring.replace('@', str(counter))\n",
    "\n",
    "def get_analysis(*files, extension='.txt'):\n",
    "    skills = defaultdict(list)\n",
    "    for file in files:\n",
    "        heading = os.path.splitext(file)[0]\n",
    "        bank = read_json(file + extension)\n",
    "        for užduotis in bank:\n",
    "            for idx, gebėjimas in enumerate(bank[užduotis]['Gebėjimai']):\n",
    "                if type(gebėjimas) is dict:\n",
    "                    skills[gebėjimas['Gebėjimas']].append(f\"{heading}.{užduotis}->{idx+1}\")\n",
    "                else:\n",
    "                    skills[gebėjimas].append(f\"{heading}.{užduotis}->{idx+1}\")\n",
    "    return skills\n",
    "\n",
    "def check(name, problem_id, extension='.txt'):\n",
    "    display(Markdown(show_problem(name, problem_id, show_solution=True)))\n",
    "    problem = read_json(name + extension)\n",
    "    for i in range(len(problem[problem_id]['Gebėjimai'])): \n",
    "        display(Markdown('-'*100))\n",
    "        display(Markdown(show_case(name, problem_id, which=i+1, show_solution=True)))\n",
    "\n",
    "def check_skills(name, problem_id, extension='.txt'):\n",
    "    problem = read_json(name + extension)\n",
    "    return [n['Gebėjimas'] for n in problem[problem_id]['Gebėjimai']]\n",
    "\n",
    "def get_distribution(cluster_file, *files):\n",
    "    analysis = get_analysis(*files)\n",
    "    branch_counts = defaultdict(int)\n",
    "    for branch in analysis:\n",
    "        branch_counts[branch] += len(analysis[branch])\n",
    "    clusters = read_json(cluster_file)\n",
    "    d = dict()\n",
    "    for cluster in clusters:\n",
    "        bc = dict()\n",
    "        for branch in clusters[cluster]:\n",
    "            bc[branch] = branch_counts[branch]\n",
    "            branch_counts.pop(branch)\n",
    "        d[cluster] = bc\n",
    "    if len(branch_counts):\n",
    "        print('WARNING! Some problems contain skills that are not in clusters:\\n', branch_counts)\n",
    "    return d\n",
    "\n",
    "class Skills:\n",
    "    kw = dict(bbox=dict(boxstyle=\"square, pad=0.3\", fc=\"w\", ec=\"k\", lw=0.72),\n",
    "          arrowprops=dict(arrowstyle=\"-\"), zorder=0, va=\"center\")\n",
    "    cmap = plt.get_cmap(\"jet\")\n",
    "    \n",
    "    def __init__(self, clusters_file, *files):\n",
    "        self.distribution = get_distribution(clusters_file, *files)\n",
    "        \n",
    "    def set_diagram(self):\n",
    "        self.inner_names = list(self.distribution.keys()) #clusters\n",
    "        self.outer_names = list(chain(*[list(n.keys()) for n in self.distribution.values()])) #branches of clusters\n",
    "        \n",
    "        self.outer_values = np.array(list(chain(*[list(n.values()) for n in self.distribution.values()]))) #sizes of branches in each cluster\n",
    "        self.inner_values = np.array([sum(n.values()) for n in self.distribution.values()]) #sizes of clusters\n",
    "        \n",
    "        self.inner_idx = np.flatnonzero(self.inner_values) #idx of nonzero inner values\n",
    "        self.outer_idx = np.flatnonzero(self.outer_values) #idx of nonzero outer values\n",
    "\n",
    "    def set_colors(self):\n",
    "        self.set_diagram()\n",
    "        marker_idx = np.cumsum([len(n) for n in self.distribution.values()])[:-1] #idx where to split flat data\n",
    "        outer_spectrum = np.linspace(0, 1, len(self.outer_values))\n",
    "        inner_spectrum = np.array([np.mean(n) for n in np.split(outer_spectrum, marker_idx)])        \n",
    "        self.inner_colors = self.cmap(inner_spectrum)\n",
    "        self.outer_colors = self.cmap(outer_spectrum)\n",
    "\n",
    "    def flatnonzero(self):\n",
    "        #remove zero pieces which is illegal\n",
    "        self.inner_names = np.array(self.inner_names)[self.inner_idx]\n",
    "        self.outer_names = np.array(self.outer_names)[self.outer_idx]\n",
    "        self.inner_values = self.inner_values[self.inner_idx]\n",
    "        self.outer_values = self.outer_values[self.outer_idx]\n",
    "        self.inner_colors = self.inner_colors[self.inner_idx]\n",
    "        self.outer_colors = self.outer_colors[self.outer_idx]\n",
    "                                  \n",
    "    def get_inner_pie(self):\n",
    "        wedges, text = plt.gca().pie(self.inner_values, labels = self.inner_names, labeldistance=0.5, \n",
    "                                     radius=0.4, colors=self.inner_colors, wedgeprops=dict(width=0.2, edgecolor='k', linewidth=5), \n",
    "                                     textprops=dict(fontsize=15, fontweight='bold'))\n",
    "        return wedges\n",
    "    \n",
    "    def add_ranges(self, intervals):\n",
    "        #add mid coloring that marks knoledge\n",
    "        for i in range(len(self.outer_values)):\n",
    "            none = np.empty_like(self.outer_colors)\n",
    "            none[:] = np.nan\n",
    "            none[:,3] = np.nan\n",
    "            none[i] = self.outer_colors[i]/2\n",
    "            none[i,3] = 1\n",
    "            plt.gca().pie(self.outer_values, radius=0.5+0.5*intervals[i][1], colors=none, \n",
    "                                wedgeprops=dict(width=0.5*(intervals[i][1] - intervals[i][0]), edgecolor='none'))\n",
    "        \n",
    "        \n",
    "    def add_mids(self, midvalues, width=0.01):\n",
    "        #add mid coloring that marks knoledge\n",
    "        for i in range(len(self.outer_values)):\n",
    "            #double line\n",
    "            none = np.empty_like(self.outer_colors)\n",
    "            none[:] = np.nan\n",
    "            none[:,3] = np.nan\n",
    "            none[i] = [0,0,0,1]\n",
    "            plt.gca().pie(self.outer_values, radius=0.5+0.5*midvalues[i]+2*width/2, colors=none, \n",
    "                                wedgeprops=dict(width=2*width, edgecolor='none'))\n",
    "            #mid line\n",
    "            none = np.empty_like(self.outer_colors)\n",
    "            none[:] = np.nan\n",
    "            none[:,3] = np.nan\n",
    "            none[i] = [1,0,1,1]\n",
    "            plt.gca().pie(self.outer_values, radius=0.5+0.5*midvalues[i]+width/2, colors=none, \n",
    "                                wedgeprops=dict(width=width, edgecolor='none'))\n",
    "            \n",
    "    def draw_rates(self, distribution=None, Q=0.7):\n",
    "        #take dict like self.distribution with values (a, t) where a=answered, t=total\n",
    "        #draw rates with 70% confidence\n",
    "        ranges, mids = [], []\n",
    "        for a, t in distribution.values():\n",
    "            p = a/t\n",
    "            q = 1-p\n",
    "            n = t\n",
    "            v1=2*(n*q+1)\n",
    "            v2=2*n*p\n",
    "            v3=2*(n*p+1)\n",
    "            v4=2*n*q\n",
    "            CL = 1/(1 + (scipy.stats.f.ppf((1+Q)/2, v1, v2)*(q + 1/n)/p)) # CL\n",
    "            CU = 1/(1+(q/(1/n+p)/scipy.stats.f.ppf((1+Q)/2, v3, v4))) # CU\n",
    "            if p==0: CL=0\n",
    "            if p==1: CU=1\n",
    "            ranges.append((CL, CU))\n",
    "            mids.append(p)\n",
    "        self.add_ranges(ranges)\n",
    "        self.add_mids(mids)\n",
    "        \n",
    "    def get_outer_pie(self):\n",
    "        wedges, text = plt.gca().pie(self.outer_values, radius=1, colors=self.outer_colors, \n",
    "                                wedgeprops=dict(width=0.5, edgecolor='k'))\n",
    "        return wedges\n",
    "                     \n",
    "    def add_labels(self, wedges):\n",
    "        for i, p in enumerate(wedges):\n",
    "            ang = (p.theta2 - p.theta1)/2. + p.theta1\n",
    "            y = np.sin(np.deg2rad(ang))\n",
    "            x = np.cos(np.deg2rad(ang))\n",
    "            horizontalalignment = {-1: \"right\", 1: \"left\"}[int(np.sign(x))]\n",
    "            connectionstyle = f\"angle, angleA=0, angleB={ang}\"\n",
    "            self.kw[\"arrowprops\"].update({\"connectionstyle\": connectionstyle})\n",
    "            plt.gca().annotate(self.outer_names[i], xy=(x, y), xytext=(1.35*np.sin(x), 1.4*y),\n",
    "                        horizontalalignment=horizontalalignment, fontsize=11, fontweight='bold', **self.kw)\n",
    "                                  \n",
    "    def plot(self, intervals=None):\n",
    "        #additional data adds a piece of knowledge\n",
    "        fig = plt.figure(figsize=(6, 6))\n",
    "        plt.gca().set(aspect=\"equal\")\n",
    "        self.set_diagram()\n",
    "        self.set_colors()\n",
    "        self.flatnonzero()\n",
    "        self.get_inner_pie()\n",
    "        wedges = self.get_outer_pie()\n",
    "        self.add_labels(wedges)\n",
    "        \n",
    "    \n",
    "def get_data(text):\n",
    "    df = pd.read_csv(StringIO(text), sep=\" \")\n",
    "    df.set_index(['author', 'topic','problem_id'], inplace=True)\n",
    "    df1 = df[df['part']==0]\n",
    "    df2 = df[df['part']!=0]\n",
    "    df3 = pd.concat([df1, df2]).sort_values(by=['part'])\n",
    "    df3 = df3[~df3.index.duplicated(keep='first')]\n",
    "    df3['solved'][df3['part']!=0] = None\n",
    "    df3 = df3.drop('part', 1)\n",
    "    df3['skills'] = [tuple([n['Gebėjimas'] for n in read_json(f'{x}/{y}.txt')[str(z)]['Gebėjimai']]) for x,y,z in df3.index]\n",
    "    df3['pts'] = [len(n) for n in df3['skills']]\n",
    "    df4 = df3.copy()\n",
    "    part = df3.loc[df3.index.repeat(df3['pts'])].groupby(['author', 'topic', 'problem_id']).cumcount() + 1\n",
    "    df4 = pd.DataFrame(part, columns=['part'])\n",
    "    df4['skill'] = list(chain(*df3['skills']))\n",
    "    df5 = df4.merge(df2, on=['author', 'topic', 'problem_id', 'part'], how='outer')\n",
    "    for n in df3[df3['solved']==True].index: \n",
    "        df5.loc[n, 'solved'] = True\n",
    "    return df3, df5\n",
    "\n",
    "def achievements(df5, df3, colors):\n",
    "    vals_big = np.array([n if n == n else -1 for n in df5['solved'].values.tolist()]).astype(int)\n",
    "    vals_small = np.array([n if n == n else -1 for n in df3['solved'].values.tolist()]).astype(int)\n",
    "    img = vals_big[:, None]\n",
    "    completed = df3['pts'].values\n",
    "    shape = img.shape\n",
    "\n",
    "    figure, ax = plt.subplots(figsize=(6,8))\n",
    "\n",
    "    #x.set_xlabel('Activity', fontsize=13)\n",
    "    #ax.set_yticklabels(list(df5['skill'].values), rotation='horizontal', fontsize=12, fontweight='bold', minor=False)\n",
    "    ax.set_yticks(np.arange(-0.5+0.5, img.shape[0]+0.5, 1)) #borders between edges\n",
    "    ax.set_yticklabels(list(df5['skill'].values), rotation='horizontal', fontsize=12, fontweight='bold')\n",
    "    ax.set_ylim(-0.5, img.shape[0]-0.5)\n",
    "    #ax.set_xticklabels(np.arange(1, img.shape[1] + 1, 1))\n",
    "\n",
    "    #ax.set_ylabel('States', fontsize=13)\n",
    "    ax.set_xticks(np.arange(0, 1, 1))\n",
    "    ax.get_xaxis().set_visible(False)\n",
    "    ax.set_xlim(-0.5, 0.5)\n",
    "    #ax.set_yticks(np.arange(-.5, img.shape[0], 1), minor=True)\n",
    "    #ax.set_yticklabels(states)\n",
    "\n",
    "    a=0.05\n",
    "    pal = {1: 'none', 0: 'red', -1: 'grey'}\n",
    "    for idx, clr in enumerate(colors):\n",
    "        if vals_big[idx]!=-1:\n",
    "            ax.add_patch(plt.Rectangle((-0.5, -0.5+idx), 1, 1, facecolor=clr, edgecolor = pal[vals_big[idx]], hatch=r'xxx', zorder=0))\n",
    "        else:\n",
    "            ax.add_patch(plt.Rectangle((-0.5, -0.5+idx), 1, 1, facecolor='none', edgecolor = pal[vals_big[idx]], hatch=r'xxx'))\n",
    "        \n",
    "    pallete = {1: 'limegreen', 0: 'crimson', -1: 'none'}\n",
    "    starts, sizes = np.cumsum(np.r_[0, df3['pts'].values[:-1]]), np.r_[df3['pts'].values]\n",
    "    for start, size, solved in zip(starts, sizes, vals_small):\n",
    "        ax.add_patch(plt.Rectangle((-0.5+a, start-0.5+a), 1-2*a, size-2*a, \n",
    "                                   facecolor='none', edgecolor = pallete[solved], zorder=1, lw=4, linestyle='--'))\n",
    "    \n",
    "    #ax.yaxis.set_label_position(\"right\")\n",
    "    #ax.yaxis.tick_right()\n",
    "\n",
    "    \n",
    "    ax.grid(which='minor', color='k')\n",
    "    ax.set_title('Pasiekimai', fontsize=15, fontweight='bold')\n",
    "    plt.gca().invert_yaxis()\n",
    "    #plt.gca().majorticks_off()\n",
    "    plt.show()"
   ]
  },
  {
   "cell_type": "code",
   "execution_count": null,
   "metadata": {},
   "outputs": [],
   "source": []
  }
 ],
 "metadata": {
  "kernelspec": {
   "display_name": "Python 3",
   "language": "python",
   "name": "python3"
  },
  "language_info": {
   "codemirror_mode": {
    "name": "ipython",
    "version": 3
   },
   "file_extension": ".py",
   "mimetype": "text/x-python",
   "name": "python",
   "nbconvert_exporter": "python",
   "pygments_lexer": "ipython3",
   "version": "3.8.3"
  }
 },
 "nbformat": 4,
 "nbformat_minor": 4
}
