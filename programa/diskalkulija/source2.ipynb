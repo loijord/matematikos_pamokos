{
 "cells": [
  {
   "cell_type": "markdown",
   "metadata": {},
   "source": [
    "### Šaltinis 2\n",
    "***Straipsnis paimtas iš Delfi 2011m.***\n",
    "\n",
    "Naujame tyrime mokslininkai išsiaiškino, kad dėl diskalkulijos (skaičiavimo įgūdžių sutrikimo) kenčia ne tik visuomenė ir ekonomika, bet ir patys individai, kurie dėl šių sutrikimų patiria daug nepatogumų ir nuostolių – labiau nei dėl raštingumo problemų, praneša „The Independent“. \n",
    "\n",
    "Šis sutrikimas, kuris pasireiškia vienam iš dvidešimties žmonių, sumažina pasitikėjimą savimi ir priverčia jaustis nepatogiai, pvz., skaičiuojant pirštais. Tačiau biologinis nesugebėjimas atskirti skaičius vis dar nepripažįstamas kaip medicininė problema, nors tai neabejotinai yra medicininis sutrikimas, teigia mokslininkai. \n",
    "\n",
    "Panašiai kaip disleksija yra mokymosi sutrikimas, dėl kurio sutrinka žodžių ir sakinių atpažinimas, diskalkulija yra mokymosi problema, kai nesugebama suvokti skaičių. Tačiau niekas šio sutrikimo nevertina rimtai, nors 5–7 proc. vaikų negali lengvai sudėti ir atimti skaičių, sako mokslininkai. Londono universiteto koledžo neuromokslų profesorius Brianas Butterworthas paragino išsamiau studijuoti šią problemą, kuri, jo vertinimu, gadina gyvenimą nemažam procentui žmonių, kurie nesugeba atlikti paprasčiausių aritmetinių užduočių ir ne visada supranta, kodėl ši problema persekioja juos nuo vaikystės. \n",
    "\n",
    "„Apskritai kalbant, žmonės šioje šalyje mano, kad raštingumas yra svarbesnis nei mokėjimas skaičiuoti. Pavyzdžiui, sakyti „Man nesiseka matematika“ yra normalu, o prisipažinti, kad nemoki taisyklingai rašyti ir tarti žodžių – gėda, – sako profesorius B. Butterworthas. – Tačiau diskalkulija taip pat apriboja žmogų, kaip ir disleksija ir yra sunki našta valstybei. Įvertinta, kad ši problema Jungtinei Karalystei atsieina 2,4 mlrd. svarų (apytikriai 9,6 mlrd. litų)“, – pridūrė jis. \n",
    "\n",
    "Ekspertai mano, kad diskalkulijos statusas kaip ne tokios reikšmingos problemos, lyginant su disleksija, trukdo geriau informuoti ir šviesti visuomenę. Nors manoma, kad diskalkulija yra biologinis sutrikimas, kuris gali būti paveldimas, taip pat manoma, kad, pakankamai anksti nustačius šį sutrikimą, jį galima palengvinti."
   ]
  }
 ],
 "metadata": {
  "kernelspec": {
   "display_name": "Python 3",
   "language": "python",
   "name": "python3"
  },
  "language_info": {
   "codemirror_mode": {
    "name": "ipython",
    "version": 3
   },
   "file_extension": ".py",
   "mimetype": "text/x-python",
   "name": "python",
   "nbconvert_exporter": "python",
   "pygments_lexer": "ipython3",
   "version": "3.8.3"
  }
 },
 "nbformat": 4,
 "nbformat_minor": 4
}
