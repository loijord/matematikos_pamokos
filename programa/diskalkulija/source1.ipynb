{
 "cells": [
  {
   "cell_type": "markdown",
   "metadata": {},
   "source": [
    "### Šaltinis 1\n",
    "***Straipsnis išverstas iš [https://www.additudemag.com](https://www.additudemag.com/screener-dyscalculia-symptoms-test-children/)***\n",
    "\n",
    "Diskalkulija yra mokymosi negalia, susilpninanti asmens pajėgumą suvokti kasdienines matematikos sąvokas, skaičių prasmę ir prisiminti formules. Ši negalia būna skirtinga - vienas vaikas negali suskaičiuoti iki 10, tuo tarpu kitas gali suskaičiuoti iki 100, bet negeba atlikti paprastų sudėties veiksmų.\n",
    "\n",
    "Diskalkulijos simptomai pastebimi klasėje ir už jos ribų. Jie daro įtaką bendravimui su draugais, tvarkaraščio laikymuisi ir net automobilio vairavimui. Į sunkumus matematikoje dažnai neatkreipiamas dėmesys, ypač, jei vaikas gerai mokosi kitus dalykus. Tačiau, jei ši užsislėpusi problema paliekama likimo valiai, ji gali lemti žemą savivertę, nerimą ir neišnaudotas gyvenimo galimybes.\n",
    "\n",
    "Pateiktas testas skirtas tik asmeniniam naudojimui ir leidžia patikrinti, ar vaikas turi diskalkulijos požymių. Jei rezultatai teigiami, jie turi būti aptarti su mokyklos personalu ar pediatru. Šis testas negali būti naudojamas kaip priemonė diagnozuoti sutrikimą ar pakeisti lavinimo specialistų darbą. Tik kvalifikuoti sveikatos ar švietimo specialistai gali nustatyti diagnozę. Į kiekvieną testo klausimą reikia atsakyti vienu iš penkių variantų: *labai dažnai, dažnai, kartais, retai, niekada*\n",
    "\n",
    "1\\. Ar tau reikia pagalbos norint suprasti lenteles ir diagramas? \n",
    "\n",
    "2\\. Ar tau sunku susigaudyti kainose, suskaičiuoti gražą, planuoti savo išlaidas?\n",
    "\n",
    "3\\. Ar tau sunku įsitraukti į žaidimus, kur reikia rinkti taškus ar žaisti žaidimą, kur reikia matematikos arba mąstymo?\n",
    "\n",
    "4\\. Ar dažnai tenka paklysti žinomose apylinkėse?\n",
    "\n",
    "5\\. Ar jaunystėje sunkiai sekdavosi skaičiuoti iš eilės?\n",
    "\n",
    "6\\. Ar sunku suprasti skirtumą tarp sudėties ir atimties? Ar $+$ susipainioja su $-$ sprendžiant uždavinius?\n",
    "\n",
    "7\\. Ar sunkiai sekasi su trupmenomis? Pvz. ar sunku suprasti, kad keturios ketvirtosios euro yra eura arba, kad pusė metų yra šeši mėnesiai?\n",
    "\n",
    "8\\. Ar sunkiai sekasi pasakyti laiką pagal sieninį laikrodį?\n",
    "\n",
    "9\\. Ar baigęs tris klases vis dar skaičiavai ant pirštų?\n",
    "\n",
    "10\\. Ar sunku suskirstyti daiktus pagal formą, dydį, spalvą?\n",
    "\n",
    "11\\. Ar pradedant daryti matematikos namų darbus nenatūraliai pablogėja nuotaika arba imi skųstis suprastėjusia savijauta?\n",
    "\n",
    "12\\. Ar lengva suprasti ryšį tarp užrašo 4 ir žodžio ***keturi?*** Pvz. ar sunku suprasti užrašą: už 4 kilometrų sukite į kairę?\n",
    "\n",
    "13\\. Ar tu painiodavai skaičių tvarką tada, kai tavo bendraklasiai jau mokėjo pasakyti skaičius iš eilės?\n",
    "\n",
    "14\\. Ar tau sunku suprasti, kaip susiję skaičiai su daiktais? Pavyzdžiui, kai reikia pasakyti, kiek sausainių liko?\n",
    "\n",
    "15\\. Ar sukelia sunkumų žodiniai uždaviniai arba uždaviniai su keliais žingsniais? Ar sunku paaiškinti savo sprendimo būdus?\n",
    "\n",
    "16\\. Ar tau sunku tvarkingai rašyti skaičius, kai rašai sprendimą?\n",
    "\n",
    "Testo rezultatus galima pasitikrinti [pagr. puslapyje](https://www.additudemag.com/screener-dyscalculia-symptoms-test-children/)"
   ]
  }
 ],
 "metadata": {
  "kernelspec": {
   "display_name": "Python 3",
   "language": "python",
   "name": "python3"
  },
  "language_info": {
   "codemirror_mode": {
    "name": "ipython",
    "version": 3
   },
   "file_extension": ".py",
   "mimetype": "text/x-python",
   "name": "python",
   "nbconvert_exporter": "python",
   "pygments_lexer": "ipython3",
   "version": "3.8.3"
  }
 },
 "nbformat": 4,
 "nbformat_minor": 4
}
