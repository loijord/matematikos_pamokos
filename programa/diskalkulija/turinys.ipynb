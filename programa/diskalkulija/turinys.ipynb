{
 "cells": [
  {
   "attachments": {},
   "cell_type": "markdown",
   "metadata": {},
   "source": [
    "* Pirmai pažinčiai su diskalkulija labai tinka [šis straipsnis](http://disleksija.labiblioteka.lt/2021/02/05/nesiseka-matematika-ar-man-skaiciu-disleksija-diskalkulijos-pozymiai-ir-5-patarimai-kaip-mokytis/) (pasirodė 2021m. vasario mėnesį)\n",
    "* Anglų kalba galima rasti daug apie [vaikų su spec. poreikiais matematinio ugdymo problemas ir galimybes](https://assets.publishing.service.gov.uk/government/uploads/system/uploads/attachment_data/file/926052/specific-learning-difficulties-spld-cst-report.pdf). Tačiau juos išsiversti - labai daug darbo\n",
    "* [Šaltinis 1](source1.ipynb). Nagrinėdamas kitus straipsnius supratau, kad diskalkulijos terminas pakankamai naujas. Gal būt todėl nėra standartizuotų matematikos užduočių skirtų diagnozuoti diskalkuliją. Vietoj jų remiamasi klausimynais, kurie nėra tokie patikimi. Tokio klausimyno pavyzdį rasite šaltinyje 1.\n",
    "* [Šaltinis 2](source2.ipynb). Lietuvių žiniasklaidoje apie diskalkuliją diskutuojama labai mažai. Šaltinyje 2 bus 2011m. straipsnis iš Delfi.\n",
    "* [Šaltinis 3](source3.ipynb). Nustebino, kad Lietuvoje yra privati įmonė BrainGym, dirbanti su šį sutrikimą turinčiais vaikais (šaltinis 3)\n",
    "\n",
    "Nuodugniam susipažinimui, kaip galima mokyti vaikus su spec. poreikiais įvairių matematikos temų, rekomenduoju susipažinti su docentės [Vaivos Grabauskienės skaidrėmis](https://drive.google.com/file/d/1_jg45SWXUamqpZ1T_g_hIJGtgLfK-oqP/view?usp=sharing). Jos atsidaro su PowerPoint programa.\n",
    "\n",
    "Pagal Vaivą norint mokyti vaikus su spec. poreikiais matematinių procedūrų galima naudoti VIZUALIŲ UŽUOMINŲ STRATEGIJĄ. Naudojamos skirtingos spalvos ir detalūs paaiškinimai. Ji paruošė tokius aritmetinių procedūrų aiškinimo pavyzdžius:\n",
    "\n",
    "||||\n",
    "|:---:|:---:|:---:|\n",
    "|![](stulpelis1.PNG)|![](stulpelis2.PNG)|![](stulpelis3.PNG)|\n",
    "\n",
    "### Apie Ąžuolą\n",
    "\n",
    "* 2020 metų pavasarį jis daugino skaičius stulpeliu, tačiau jo metodas buvo neteisingas. Ar nuo to laiko jis tikrai išmoko spręsti teisingai? Ąžuolo klaida: kai dauginame tarkim 365 su 644, tai negalima į šimtų skyrių įrašyti $3\\times 6$, į dešimčių - $6\\times 4$, į vienetų - $5\\times 4$ ir tikėtis, kad atsakymas bus teisingas.\n",
    "* Pasitikrinome, ar Ąžuolas pajėgia įsiminti 8 skaitmenis per 10 sekundžių. Pavyko iš antro karto. Vadinasi, Ąžuolo darbinė atmintis dirba visai gerai.\n",
    "* Įdomu, kad Valdorfo mokykloje besimokančiai devintokei Adelei taip pat sunkiai sekėsi matematika. Ji paminėjo, kad dviženklius skaičius daugina naudodama spalvas. Mano nuomone toks mokymosi metodas tinka tik specialiųjų poreikių moksleiviams, tačiau norint atitikti kitose mokyklose įprastus mokyklinės programus reikalavimus tokie metodai mokymosi procesą stabdo."
   ]
  },
  {
   "cell_type": "markdown",
   "metadata": {},
   "source": [
    "### Kita\n",
    "Matematinį ir bet kokį kitą loginį mąstymą galima skrosti įvairiais pjūviais:\n",
    "    \n",
    "* Galima tirti, kaip moksleivis geba atlikti procedūras ir kaip jas geba taikyti naujose situacijose.\n",
    "* Galima tirti, kaip moksleivis geba tyrinėti spręsdamas bet kokią problemą\n",
    "* Galima tirti, kurioje raidos stadijoje yra moksleivis\n",
    "* Galima tirti, kaip moksleivis moka tam tikrą mokyklinį turinį\n",
    "* ir pan.\n",
    "\n",
    "Apie kiekvieną iš šių žinių klasifikacijų galima daug pasakoti atskirose temose.\n",
    "\n",
    "Patraukliausia matematikos rūšimi man ir daugumai moksleivių atrodo tyrinėjimai: įvairių projektų darymas pamokose, kūrybinių užduotėlių sprendimas, žaidimai. Nors toks mokymasis daug kam atrodo patrauklus, jis turi ir vieną rimtą trūkumą: vystosi tik problemų sprendimo įgūdžiai, tačiau įgyjama per mažai mokyklinėse programose reikalaujamų turinio žinių.\n",
    "\n",
    "Geriausiais uždaviniais, kurie skatintų moksleivį įsitraukti į mokymosi procesą, laikau [Kengūros Konkurso Užduotis](www.kengura.lt/)."
   ]
  },
  {
   "cell_type": "code",
   "execution_count": null,
   "metadata": {},
   "outputs": [],
   "source": [
    "https://vidiniai.emokymai.vu.lt"
   ]
  }
 ],
 "metadata": {
  "kernelspec": {
   "display_name": "Python 3",
   "language": "python",
   "name": "python3"
  },
  "language_info": {
   "codemirror_mode": {
    "name": "ipython",
    "version": 3
   },
   "file_extension": ".py",
   "mimetype": "text/x-python",
   "name": "python",
   "nbconvert_exporter": "python",
   "pygments_lexer": "ipython3",
   "version": "3.8.3"
  }
 },
 "nbformat": 4,
 "nbformat_minor": 4
}
