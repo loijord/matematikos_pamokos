{
 "cells": [
  {
   "cell_type": "markdown",
   "metadata": {},
   "source": [
    "### Šaltinis 1\n",
    "***Straipsnis išverstas iš [https://www.additudemag.com](https://www.additudemag.com/screener-dyscalculia-symptoms-test-children/)***\n",
    "\n",
    "Diskalkulija yra mokymosi negalia, susilpninanti asmens pajėgumą suvokti kasdienines matematikos sąvokas, skaičių prasmę ir prisiminti formules. Ši negalia būna skirtinga - vienas vaikas negali suskaičiuoti iki 10, tuo tarpu kitas gali suskaičiuoti iki 100, bet negeba atlikti paprastų sudėties veiksmų.\n",
    "\n",
    "Diskalkulijos simptomai pastebimi klasėje ir už jos ribų. Jie daro įtaką bendravimui su draugais, tvarkaraščio laikymuisi ir net automobilio vairavimui. Į sunkumus matematikoje dažnai neatkreipiamas dėmesys, ypač, jei vaikas gerai mokosi kitus dalykus. Tačiau, jei ši užsislėpusi problema paliekama likimo valiai, ji gali lemti žemą savivertę, nerimą ir neišnaudotas gyvenimo galimybes.\n",
    "\n",
    "Pateiktas testas skirtas tik asmeniniam naudojimui ir leidžia patikrinti, ar vaikas turi diskalkulijos požymių. Jei rezultatai teigiami, jie turi būti aptarti su mokyklos personalu ar pediatru. Šis testas negali būti naudojamas kaip priemonė diagnozuoti sutrikimą ar pakeisti lavinimo specialistų darbą. Tik kvalifikuoti sveikatos ar švietimo specialistai gali nustatyti diagnozę. Į kiekvieną testo klausimą reikia atsakyti vienu iš penkių variantų: *labai dažnai, dažnai, kartais, retai, niekada*\n",
    "\n",
    "1\\. Ar tau reikia pagalbos norint suprasti lenteles ir diagramas? \n",
    "\n",
    "2\\. Ar tau sunku susigaudyti kainose, suskaičiuoti gražą, planuoti savo išlaidas?\n",
    "\n",
    "3\\. Ar tau sunku įsitraukti į žaidimus, kur reikia rinkti taškus ar žaisti žaidimą, kur reikia matematikos arba mąstymo?\n",
    "\n",
    "4\\. Ar dažnai tenka paklysti žinomose apylinkėse?\n",
    "\n",
    "5\\. Ar jaunystėje sunkiai sekdavosi skaičiuoti iš eilės?\n",
    "\n",
    "6\\. Ar sunku suprasti skirtumą tarp sudėties ir atimties? Ar $+$ susipainioja su $-$ sprendžiant uždavinius?\n",
    "\n",
    "7\\. Ar sunkiai sekasi su trupmenomis? Pvz. ar sunku suprasti, kad keturios ketvirtosios euro yra eura arba, kad pusė metų yra šeši mėnesiai?\n",
    "\n",
    "8\\. Ar sunkiai sekasi pasakyti laiką pagal sieninį laikrodį?\n",
    "\n",
    "9\\. Ar baigęs tris klases vis dar skaičiavai ant pirštų?\n",
    "\n",
    "10\\. Ar sunku suskirstyti daiktus pagal formą, dydį, spalvą?\n",
    "\n",
    "11\\. Ar pradedant daryti matematikos namų darbus nenatūraliai pablogėja nuotaika arba imi skųstis suprastėjusia savijauta?\n",
    "\n",
    "12\\. Ar lengva suprasti ryšį tarp užrašo 4 ir žodžio ***keturi?*** Pvz. ar sunku suprasti užrašą: už 4 kilometrų sukite į kairę?\n",
    "\n",
    "13\\. Ar tu painiodavai skaičių tvarką tada, kai tavo bendraklasiai jau mokėjo pasakyti skaičius iš eilės?\n",
    "\n",
    "14\\. Ar tau sunku suprasti, kaip susiję skaičiai su daiktais? Pavyzdžiui, kai reikia pasakyti, kiek sausainių liko?\n",
    "\n",
    "15\\. Ar sukelia sunkumų žodiniai uždaviniai arba uždaviniai su keliais žingsniais? Ar sunku paaiškinti savo sprendimo būdus?\n",
    "\n",
    "16\\. Ar tau sunku tvarkingai rašyti skaičius, kai rašai sprendimą?\n",
    "\n",
    "Testo rezultatus galima pasitikrinti [pagr. puslapyje](https://www.additudemag.com/screener-dyscalculia-symptoms-test-children/)"
   ]
  },
  {
   "cell_type": "markdown",
   "metadata": {},
   "source": [
    "### Šaltinis 2\n",
    "***Straipsnis paimtas iš Delfi 2011m.***\n",
    "\n",
    "Naujame tyrime mokslininkai išsiaiškino, kad dėl diskalkulijos (skaičiavimo įgūdžių sutrikimo) kenčia ne tik visuomenė ir ekonomika, bet ir patys individai, kurie dėl šių sutrikimų patiria daug nepatogumų ir nuostolių – labiau nei dėl raštingumo problemų, praneša „The Independent“. \n",
    "\n",
    "Šis sutrikimas, kuris pasireiškia vienam iš dvidešimties žmonių, sumažina pasitikėjimą savimi ir priverčia jaustis nepatogiai, pvz., skaičiuojant pirštais. Tačiau biologinis nesugebėjimas atskirti skaičius vis dar nepripažįstamas kaip medicininė problema, nors tai neabejotinai yra medicininis sutrikimas, teigia mokslininkai. \n",
    "\n",
    "Panašiai kaip disleksija yra mokymosi sutrikimas, dėl kurio sutrinka žodžių ir sakinių atpažinimas, diskalkulija yra mokymosi problema, kai nesugebama suvokti skaičių. Tačiau niekas šio sutrikimo nevertina rimtai, nors 5–7 proc. vaikų negali lengvai sudėti ir atimti skaičių, sako mokslininkai. Londono universiteto koledžo neuromokslų profesorius Brianas Butterworthas paragino išsamiau studijuoti šią problemą, kuri, jo vertinimu, gadina gyvenimą nemažam procentui žmonių, kurie nesugeba atlikti paprasčiausių aritmetinių užduočių ir ne visada supranta, kodėl ši problema persekioja juos nuo vaikystės. \n",
    "\n",
    "„Apskritai kalbant, žmonės šioje šalyje mano, kad raštingumas yra svarbesnis nei mokėjimas skaičiuoti. Pavyzdžiui, sakyti „Man nesiseka matematika“ yra normalu, o prisipažinti, kad nemoki taisyklingai rašyti ir tarti žodžių – gėda, – sako profesorius B. Butterworthas. – Tačiau diskalkulija taip pat apriboja žmogų, kaip ir disleksija ir yra sunki našta valstybei. Įvertinta, kad ši problema Jungtinei Karalystei atsieina 2,4 mlrd. svarų (apytikriai 9,6 mlrd. litų)“, – pridūrė jis. \n",
    "\n",
    "Ekspertai mano, kad diskalkulijos statusas kaip ne tokios reikšmingos problemos, lyginant su disleksija, trukdo geriau informuoti ir šviesti visuomenę. Nors manoma, kad diskalkulija yra biologinis sutrikimas, kuris gali būti paveldimas, taip pat manoma, kad, pakankamai anksti nustačius šį sutrikimą, jį galima palengvinti.\n"
   ]
  },
  {
   "cell_type": "markdown",
   "metadata": {},
   "source": [
    "### Šaltinis 3\n",
    "\n",
    "Lietuvoje su šį sutrikimą turinčiais vaikais dirba [BrainGym](https://www.braingym.lt/ltka-daryti-kai-jusu-vaikas-susiduria-su-sunkumais-matematikos-pamokoje/). Plačiau: [https://www.braingym.lt](https://www.braingym.lt)\n",
    "\n",
    "***Straipsnis paimtas iš BrainGym***\n",
    "\n",
    "Ką daryti, kai 2+2=5 arba kaip diskalkulija susijusi su darbine atmintimi?\n",
    "\n",
    "Kodėl kai kuriems vaikams itin sunkiai sekasi suprasti net pačius paprasčiausius matematinius veiksmus? Gali būti, jog vaikas kenčia nuo diskalkulijos – skaičavimo įgūdžių sutrikimo, susijusio su sunkumais išmokti ir suprasti matematiką. Jį turintys vaikai dažnai patiria sunkumų atliekant matematinius veiksmus net iki dešimties, o daugybos lentelė tampa didžiuliu iššūkiu.\n",
    "\n",
    "Kaip atpažinti šį sutrikimą? Mokiniai, turintys diskalkulijos sutrikimą, sunkiai atskiria ir supranta matematinius ženklus (pavyzdžiui, +,-), painioja skaičius, sunkiai suvokia aritmetines užduotis, dažnai perkelia skaitmenis (pavyzdžiui, 57 tampa 75). Nepaisant to, diskalkulija sukelia daug problemų ir už matematikos pamokos ribų – sunku suvokti laiką, atskirti kairę ir dešinę puses, suprasti sekas.\n",
    "\n",
    "Kodėl vaikams, turintiems diskalkuliją, taip sunku išmokti skaičius ir matematinius principus? Profesorė ir psichologė Tracy Alloway teigia, jog pagrindinė priežastis ir problema – darbinė atmintis. Tam, kad išspręstume matematinę užduotį (pavyzdžiui, 1+1), mes naudojame erdvinę darbinę atmintį. Darbinę atmintį galima įsivaizduoti tarsi didžiulę lentą, egzistuojančią mūsų smegenyse. Jei ji veikia puikiai, mes turime pakankamai vietos užrašyti visus uždaviniui išspręsti reikalingus skaičius.\n",
    "\n",
    "Darbinė atmintis veikia kartu su mūsų smegenyse esančiu „skaičiuotuvu“, vadinamu Intraparietal Sulcus (IPS). Smegenų tyrimai užfiksavo, jog stebint skaičiuojančių žmonių smegenų veiklą IPS yra aktyvus. Tuo tarpu skaičiuojant žmonėms, turintiems diskalkulsijos sutrikimą, smegenyse ši dalis lieka neaktyvi – tai lemia sunkumus matematikos srityje.\n",
    "\n",
    "Įrodyta, jog vaikai su diskalkulijos sutrikimu pasižymi labai silpna darbine atmintimi. Svarbu ir tai, jog ryšys tarp darbinės atminties ir matematinių gebėjimų priklauso nuo vaiko mažiaus bei matematinės užduoties pobūdžio. Ikimokykliniame amžiuje verbalinė darbinė atmintis užima svarbiausią vaidmenį ir gali tapti pagrindiniu diskalkulijos indikatoriumi – vaikui sunku įsiminti išgirstus matematikos pagrindus, skaičius bei taisykles.\n",
    "\n",
    "Stengiantis pagelbėti vaikui, turinčiam diskalkulsijos sutrikimą, svarbu suprasti, jog sunkumai susiję ne tik su skaičiais, bet ir su darbine atmintimi. Įmanoma, jog tokie mokiniai turi tik labai mažytę „lentą“ (erdvinę darbinę atmintį) – tai sukelia jiems sunkumų pritaikyti savo matematines žinias skaičiuojant.\n",
    "\n",
    " \n",
    "\n",
    "Registruokitės nemokamai konsultacijai Brain Gym centruose Vilniuje, Klaipėdoje ar Kaune ir sužinokite, kaip galite padėti vaikų rezultatams matematikos pamokose tapti geresniais.\n",
    "\n",
    "Registracija telefonu +370 (614) 27 246 arba el. paštu brain@braingym.lt"
   ]
  }
 ],
 "metadata": {
  "kernelspec": {
   "display_name": "Python 3",
   "language": "python",
   "name": "python3"
  },
  "language_info": {
   "codemirror_mode": {
    "name": "ipython",
    "version": 3
   },
   "file_extension": ".py",
   "mimetype": "text/x-python",
   "name": "python",
   "nbconvert_exporter": "python",
   "pygments_lexer": "ipython3",
   "version": "3.8.3"
  }
 },
 "nbformat": 4,
 "nbformat_minor": 4
}
