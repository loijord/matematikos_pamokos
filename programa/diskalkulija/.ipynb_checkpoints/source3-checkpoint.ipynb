{
 "cells": [
  {
   "cell_type": "markdown",
   "metadata": {},
   "source": [
    "### Šaltinis 3\n",
    "\n",
    "Lietuvoje su šį sutrikimą turinčiais vaikais dirba [BrainGym](https://www.braingym.lt/ltka-daryti-kai-jusu-vaikas-susiduria-su-sunkumais-matematikos-pamokoje/). Plačiau: [https://www.braingym.lt](https://www.braingym.lt)\n",
    "\n",
    "***Straipsnis paimtas iš BrainGym***\n",
    "\n",
    "Ką daryti, kai 2+2=5 arba kaip diskalkulija susijusi su darbine atmintimi?\n",
    "\n",
    "Kodėl kai kuriems vaikams itin sunkiai sekasi suprasti net pačius paprasčiausius matematinius veiksmus? Gali būti, jog vaikas kenčia nuo diskalkulijos – skaičavimo įgūdžių sutrikimo, susijusio su sunkumais išmokti ir suprasti matematiką. Jį turintys vaikai dažnai patiria sunkumų atliekant matematinius veiksmus net iki dešimties, o daugybos lentelė tampa didžiuliu iššūkiu.\n",
    "\n",
    "Kaip atpažinti šį sutrikimą? Mokiniai, turintys diskalkulijos sutrikimą, sunkiai atskiria ir supranta matematinius ženklus (pavyzdžiui, +,-), painioja skaičius, sunkiai suvokia aritmetines užduotis, dažnai perkelia skaitmenis (pavyzdžiui, 57 tampa 75). Nepaisant to, diskalkulija sukelia daug problemų ir už matematikos pamokos ribų – sunku suvokti laiką, atskirti kairę ir dešinę puses, suprasti sekas.\n",
    "\n",
    "Kodėl vaikams, turintiems diskalkuliją, taip sunku išmokti skaičius ir matematinius principus? Profesorė ir psichologė Tracy Alloway teigia, jog pagrindinė priežastis ir problema – darbinė atmintis. Tam, kad išspręstume matematinę užduotį (pavyzdžiui, 1+1), mes naudojame erdvinę darbinę atmintį. Darbinę atmintį galima įsivaizduoti tarsi didžiulę lentą, egzistuojančią mūsų smegenyse. Jei ji veikia puikiai, mes turime pakankamai vietos užrašyti visus uždaviniui išspręsti reikalingus skaičius.\n",
    "\n",
    "Darbinė atmintis veikia kartu su mūsų smegenyse esančiu „skaičiuotuvu“, vadinamu Intraparietal Sulcus (IPS). Smegenų tyrimai užfiksavo, jog stebint skaičiuojančių žmonių smegenų veiklą IPS yra aktyvus. Tuo tarpu skaičiuojant žmonėms, turintiems diskalkulsijos sutrikimą, smegenyse ši dalis lieka neaktyvi – tai lemia sunkumus matematikos srityje.\n",
    "\n",
    "Įrodyta, jog vaikai su diskalkulijos sutrikimu pasižymi labai silpna darbine atmintimi. Svarbu ir tai, jog ryšys tarp darbinės atminties ir matematinių gebėjimų priklauso nuo vaiko mažiaus bei matematinės užduoties pobūdžio. Ikimokykliniame amžiuje verbalinė darbinė atmintis užima svarbiausią vaidmenį ir gali tapti pagrindiniu diskalkulijos indikatoriumi – vaikui sunku įsiminti išgirstus matematikos pagrindus, skaičius bei taisykles.\n",
    "\n",
    "Stengiantis pagelbėti vaikui, turinčiam diskalkulsijos sutrikimą, svarbu suprasti, jog sunkumai susiję ne tik su skaičiais, bet ir su darbine atmintimi. Įmanoma, jog tokie mokiniai turi tik labai mažytę „lentą“ (erdvinę darbinę atmintį) – tai sukelia jiems sunkumų pritaikyti savo matematines žinias skaičiuojant.\n",
    "\n",
    " \n",
    "\n",
    "Registruokitės nemokamai konsultacijai Brain Gym centruose Vilniuje, Klaipėdoje ar Kaune ir sužinokite, kaip galite padėti vaikų rezultatams matematikos pamokose tapti geresniais.\n",
    "\n",
    "Registracija telefonu +370 (614) 27 246 arba el. paštu brain@braingym.lt"
   ]
  }
 ],
 "metadata": {
  "kernelspec": {
   "display_name": "Python 3",
   "language": "python",
   "name": "python3"
  },
  "language_info": {
   "codemirror_mode": {
    "name": "ipython",
    "version": 3
   },
   "file_extension": ".py",
   "mimetype": "text/x-python",
   "name": "python",
   "nbconvert_exporter": "python",
   "pygments_lexer": "ipython3",
   "version": "3.8.3"
  }
 },
 "nbformat": 4,
 "nbformat_minor": 4
}
