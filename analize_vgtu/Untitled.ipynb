{
 "cells": [
  {
   "cell_type": "markdown",
   "metadata": {},
   "source": [
    "### Egzamino užduotys\n",
    "\n",
    "1\\. Kokią funkciją vadiname atvirkštine?\n",
    "\n",
    "2\\. Kokie taškai vadinami trūkio taškais ir kokios jų rūšys? Pateikite pavyzdžių, pademonstruokite grafiškai.\n",
    "\n",
    "3\\. Kaip gauname kreivės liestinės lygtis taške?\n",
    "\n",
    "4\\. Apibrėžkite ir išsamiai paaiškinkite, kaip gaunamas dviejų kintamųjų funkcijos diferencialas.\n",
    "\n",
    "5\\. Apibrėžkite dviejų kintamųjų funkcijos dalines išvestines ir apskaičiuokite jas funkcijai $f(x,y)=e^{x^2+y^2}$\n",
    "\n",
    "6\\. Apskaičiuokite funkcijos išvestinę: $f(x) = \\frac{1}{2}tg^2 + \\ln \\cos x$\n",
    "\n",
    "7\\. Apskaičiuokite integralą: $\\displaystyle\\int\\text{ctg}^2x dx$\n",
    "\n",
    "8\\. Apskaičiuokite integralą: $\\displaystyle\\int_0^\\frac{\\pi}{4}\\frac{dx}{\\cos^2 x}$\n",
    "\n",
    "9\\. Raskite plotą figūros, apribotos kreive ir $Ox$ ašimi: $y=x(1-x)$\n",
    "\n",
    "10\\. Raskite funkcijos $f(x) = x^3-5x+3$ didėjimo ir mažėjimo intervalus. Ar funkcija turi stacionarių taškų? Kaip jie vadinasi?"
   ]
  },
  {
   "cell_type": "markdown",
   "metadata": {},
   "source": [
    "### Egzamino sprendimai\n",
    "1\\. Funkcijos $f(x)$ atvirkštine vadinama tokia funkcija $g(x)$, kad $f(g(x))=x$ <span style=\"color:red\"> (Kaip tai atrodo grafiškai?) </span>\n",
    "\n",
    "2\\. Trūkio taškas $𝑥_0$ yra funkcijos $𝑓$ trūkio taškas, jei šiame taške funkcija yra neapibrėžta <span style=\"color:red\">(kada gauname neapibrėžtas funkcijas?)</span> arba netolydi <span style=\"color:red\"> (kaip apibrėžiamas tolydumas?)</span> . Trūkio taškų rūšys ir pavyzdžiai pateikti lentelėje. Grafikai atsidaro paspaudus ant formulių.\n",
    "\n",
    "|I rūšies trūkio taškas|II rūšies trūkio taškas|Pašalinamasis trūkio taškas|\n",
    "|:---:|:---:|:---:|\n",
    "|[$\\displaystyle f(x)=\\begin{cases}x^2\\text{, }x\\ge 0\\\\x+1\\text{, }x<0\\end{cases}$](https://www.desmos.com/calculator/mkji95kyzp)|[$\\displaystyle f(x) = \\frac{1}{x}$](https://www.desmos.com/calculator/lwgzevllac)|[$\\displaystyle f(x)=\\begin{cases}sin(x)\\text{, }x<1\\\\2\\text{, }x=1\\\\ sin(x)\\text{, }x>1\\end{cases}$](https://www.desmos.com/calculator/eklnhkmczc)|\n",
    "\n",
    "3\\. Funkcijos $f$ liestinė taške $x=a$ yra užrašoma $y = f(a) + f'(a)\\cdot (x − a)$. Paaiškinsiu, kodėl.\n",
    "\n",
    "  * Įprastai bet kuri tiesė yra užrašoma kaip nuo parametrų $k$ ir $b$ priklausanti funkcija $y=kx+b$. Ieškosime, kokios yra tos $k$ ir $b$ reikšmės atveju, kai ši tiesė yra grafiko $f(x)$ liestinė taške $x=a$:"
   ]
  },
  {
   "cell_type": "code",
   "execution_count": 159,
   "metadata": {},
   "outputs": [
    {
     "data": {
      "image/png": "[encoded data removed]",
      "text/plain": [
       "<Figure size 720x216 with 1 Axes>"
      ]
     },
     "metadata": {
      "needs_background": "light"
     },
     "output_type": "display_data"
    }
   ],
   "source": [
    "tangent(func=sp.sin(t)/t, a=6.7, domain=(1,19))"
   ]
  },
  {
   "cell_type": "markdown",
   "metadata": {},
   "source": [
    "  * Parametro $k$ radimas: $k$ - krypties koeficientas, lygus $f'(a)$ <span style=\"color:red\"> (Iš kur čia atsirado išvestinė?) </span>\n",
    "  * Parametro $b$ radimas: $\\boxed{\\begin{cases} y=kx+b \\\\ y=f(a)\\text{, kai }x=a\\end{cases}}\\Rightarrow \\boxed{f(a)=ka+b} \\Rightarrow \\boxed{b=f(a)-ka = f(a)-f'(a)\\cdot a}$\n",
    "  * Į lygybę $y=kx+b$ įrašę gautas $k$ ir $b$ reikšmes, gausime galutinę liestinės lygtį."
   ]
  },
  {
   "cell_type": "markdown",
   "metadata": {},
   "source": [
    "### Papildomos nuorodos"
   ]
  },
  {
   "cell_type": "markdown",
   "metadata": {},
   "source": [
    "* [$\\displaystyle \\int \\text{ctg}^2 xdx$](https://www.youtube.com/watch?v=d9l_8zbUwQI); [$\\displaystyle\\int \\frac{dx}{\\sin^2 x}$](https://www.youtube.com/watch?v=knCK_hOTxJM)"
   ]
  },
  {
   "cell_type": "markdown",
   "metadata": {},
   "source": [
    "* Trūkio taškai paaiškinti [KTU paskaitose](http://www.tany.lt/stud/uploads/dokumentai/paskaitos/Matematika1/TEORIJA/8Paskaita.pdf)"
   ]
  },
  {
   "cell_type": "markdown",
   "metadata": {},
   "source": [
    "* Liestinės lygtį paaiškinau remiantis [lietuviška Vikipedija](https://lt.wikibooks.org/wiki/Matematika/Išvestinė), tai video nereiks"
   ]
  },
  {
   "cell_type": "markdown",
   "metadata": {},
   "source": [
    "* [Apie integralo ir ploto ryšį](https://www.youtube.com/watch?v=rfG8ce4nNh0) 3Blue1Brown kanale (šiandien pamėginsiu ir aš paanimuoti). Taip pat apie [išvestinės apibrėžimą](https://www.youtube.com/watch?v=9vKqVkMQHKk&t=500s). Paieškos pagal 3Blue1Brown atsitiktinės, galbūt yra aiškesnių variantų."
   ]
  },
  {
   "cell_type": "markdown",
   "metadata": {},
   "source": [
    "* Šiandien paieškosiu uždaviniu su sudėtinių funkcijų diferencijavimu ir kelių kintamųjų funkcijomis iš Paul's Lecture Notes."
   ]
  },
  {
   "cell_type": "markdown",
   "metadata": {},
   "source": [
    "### Programavimas\n",
    "\n",
    "Šis matematikos kursas buvo gera proga prisiminti, kaip atrodo pagrindinių aukštosios matematikos sąvokų aiškinimas vuzualiai. Norint jį padaryti dar efektyvesnį, tam tikrų procesų vaizdavimas gali būti kompiuterizuotas. Apačioje pasidedu kodą, kurį leidžiant buvo gaunami paveikslėliai ir animacijos."
   ]
  },
  {
   "cell_type": "code",
   "execution_count": 158,
   "metadata": {},
   "outputs": [],
   "source": [
    "import numpy as np\n",
    "import matplotlib.pyplot as plt\n",
    "import sympy as sp\n",
    "t = sp.symbols('x')\n",
    "\n",
    "def tangent(func, a, domain, step=0.01, figsize=(10,3)): \n",
    "    \"\"\"\n",
    "    Input: \n",
    "        func - simbolinės išraiškos funkcija\n",
    "        a - taškas, per kurį brėžiama liestinė\n",
    "        domain - intervalas, kuriame vaizduojame funkcijos dalį\n",
    "        step - vaizdavimo raiška (paprastai nepastebima)\n",
    "        figsize - paveikslėlio išmatavimai      \n",
    "    Output:\n",
    "        Paveikslėlis, kurio tikslas yra paaiškinti liestinės lygties sudarymą\n",
    "    \"\"\"\n",
    "    # sp.lambdify makes it callable\n",
    "    f = sp.lambdify(t, func)\n",
    "    f_derivative = sp.lambdify(t, sp.diff(func, t))\n",
    "    tangent = sp.lambdify(t, f(a) + f_derivative(a)*(t-a))\n",
    "    x = np.arange(*domain, step)\n",
    "    plt.figure(figsize=figsize)\n",
    "    ax, fig = plt.gca(), plt.gcf()\n",
    "    ax.plot(x, f(x), 'green', linewidth=3) #plot of function\n",
    "    xbox, ybox = ax.get_xlim(), ax.get_ylim()\n",
    "    ax.set_xlim(xbox)\n",
    "    ax.set_ylim(ybox)\n",
    "    ax.plot(x, tangent(x), 'blue')\n",
    "    top_motion = (ax.get_yticks()[-1] - ax.get_yticks()[-2])/2\n",
    "    ax.text(a, f(a) + top_motion, '$y = kx + b$', {'ha': 'center', 'va': 'center'},\n",
    "            rotation=180/np.pi * np.arctan(f_derivative(a) * figsize[1]/figsize[0] * (xbox[1] - xbox[0])/(ybox[1] - ybox[0])), \n",
    "            color='b', fontsize=16)\n",
    "    ax.text(domain[1], f(domain[1]) + top_motion, f'$f(x)={sp.latex(func)}$', {'ha': 'right', 'va': 'center'},\n",
    "            rotation=180/np.pi * np.arctan(f_derivative(domain[1]) * figsize[1]/figsize[0] * (xbox[1] - xbox[0])/(ybox[1] - ybox[0])), \n",
    "            color='g', fontsize=16)\n",
    "    ax.scatter(a, f(a), zorder=100, c='k', s=70)\n",
    "    ax.plot([a,a],[ybox[0],f(a)],'--',c='k')\n",
    "    ax.text(a, ybox[0], '$a$', {'ha': 'center', 'va': 'top'}, fontsize=20)\n",
    "    ax.plot([xbox[0],a],[f(a),f(a)],'--',c='k')\n",
    "    ax.text(xbox[0], f(a), '$f(a)$', {'ha': 'right', 'va': 'center'}, fontsize=20)\n",
    "    plt.title('Kaip gaunama liestinės lygtis?')\n",
    "    plt.show()"
   ]
  },
  {
   "cell_type": "code",
   "execution_count": 305,
   "metadata": {},
   "outputs": [
    {
     "name": "stdout",
     "output_type": "stream",
     "text": [
      "True 1\n"
     ]
    },
    {
     "data": {
      "image/png": "[encoded data removed]",
      "text/plain": [
       "<Figure size 720x216 with 1 Axes>"
      ]
     },
     "metadata": {
      "needs_background": "light"
     },
     "output_type": "display_data"
    }
   ],
   "source": [
    "from matplotlib.collections import LineCollection\n",
    "t = sp.symbols('x')\n",
    "\n",
    "def piecewise(func, domain, step=0.001, figsize=(10,3), extend_plot=True):\n",
    "    marker_idx = []\n",
    "    values = np.arange(*domain, step)\n",
    "    f = np.vectorize(sp.lambdify(t, func.subs(t, x)))\n",
    "    fx = f(values)\n",
    "    for piece in func.args:\n",
    "        cond = np.vectorize(sp.lambdify(t, piece[1].subs(t, x)))\n",
    "        marker_idx.append(np.flatnonzero(cond(values))[-1]) #indices of last points in subdomains\n",
    "    marker_idx = np.array(marker_idx[:-1])+1\n",
    "    xy_vals = np.transpose([values, fx])\n",
    "    line_segments = np.split(xy_vals, marker_idx)\n",
    "    \n",
    "    plt.figure(figsize=figsize)\n",
    "    ax = plt.gca()\n",
    "    ax.add_collection(LineCollection(line_segments, colors='b'))\n",
    "    \n",
    "    if extend_plot:\n",
    "        discontinuity_idx = np.transpose([marker_idx-1, marker_idx]).flatten()\n",
    "        discontinuity_line_segments = np.split(xy_vals[discontinuity_idx], 2)\n",
    "        ax.add_collection(LineCollection(discontinuity_line_segments, colors='lightgreen'))\n",
    "        \n",
    "    previous_discontinuity = None\n",
    "    for f,c in func.args[:-1]: \n",
    "        discontinuity = c.args[1]\n",
    "        cond = sp.lambdify(t, c.subs(t, x))\n",
    "        fpiece = sp.lambdify(t, f.subs(t, x))\n",
    "        #f = sp.lambdify(t, piece[0].subs(t, x))\n",
    "        if cond(discontinuity): \n",
    "            ax.scatter(discontinuity, fpiece(discontinuity), facecolors='b', edgecolors='b')\n",
    "        else:\n",
    "            ax.scatter(discontinuity, fpiece(discontinuity), facecolors='none', edgecolors='b')\n",
    "        if previous_discontinuity is not None:\n",
    "            if cond(previous_discontinuity): \n",
    "                ax.scatter(previous_discontinuity, fpiece(previous_discontinuity), facecolors='b', edgecolors='b')\n",
    "            else:\n",
    "                ax.scatter(previous_discontinuity, fpiece(previous_discontinuity), facecolors='none', edgecolors='b')\n",
    "        previous_discontinuity = discontinuity\n",
    "    f,c = func.args[-1]\n",
    "    cond = sp.lambdify(t, c.subs(t, x))\n",
    "    fpiece = sp.lambdify(t, f.subs(t, x))\n",
    "    #extra loop because last piece contains True which neglects a calculation of discontinuity. Use previous instead\n",
    "    if cond(previous_discontinuity):\n",
    "        print(cond(previous_discontinuity), previous_discontinuity)\n",
    "        ax.scatter(previous_discontinuity, fpiece(previous_discontinuity), facecolors='b', edgecolors='b')\n",
    "    else:\n",
    "        ax.scatter(previous_discontinuity, fpiece(previous_discontinuity), facecolors='none', edgecolors='b')\n",
    "    \n",
    "    cond = sp.lambdify(t, c.subs(t, x))\n",
    "    fpiece = sp.lambdify(t, f.subs(t, x))\n",
    "    \n",
    "    ax.set_xlim(*domain)\n",
    "    ax.set_ylim(np.min(fx), np.max(fx))\n",
    "    plt.show()\n",
    "\n",
    "\n",
    "piecewise(sp.Piecewise((-1, t < -1), (t+1, t <= 1), (2*t+3, True)), (-3, 3))"
   ]
  },
  {
   "cell_type": "code",
   "execution_count": 176,
   "metadata": {},
   "outputs": [
    {
     "data": {
      "text/plain": [
       "'\\\\begin{cases} -1 & \\\\text{for}\\\\: x < -1 \\\\\\\\x + 1 & \\\\text{for}\\\\: x \\\\leq 1 \\\\\\\\2 x + 3 & \\\\text{otherwise} \\\\end{cases}'"
      ]
     },
     "execution_count": 176,
     "metadata": {},
     "output_type": "execute_result"
    }
   ],
   "source": [
    "sp.latex(b.expand())"
   ]
  },
  {
   "cell_type": "code",
   "execution_count": 177,
   "metadata": {},
   "outputs": [
    {
     "data": {
      "text/latex": [
       "$\\displaystyle \\begin{cases} -1 & \\text{for}\\: x < -1 \\\\x + 1 & \\text{for}\\: x \\leq 1 \\\\2 x + 3 & \\text{otherwise} \\end{cases}$"
      ],
      "text/plain": [
       "Piecewise((-1, x < -1), (x + 1, x <= 1), (2*x + 3, True))"
      ]
     },
     "execution_count": 177,
     "metadata": {},
     "output_type": "execute_result"
    }
   ],
   "source": [
    "b.expand()"
   ]
  },
  {
   "cell_type": "code",
   "execution_count": 187,
   "metadata": {},
   "outputs": [
    {
     "data": {
      "text/latex": [
       "$\\displaystyle x \\leq 1$"
      ],
      "text/plain": [
       "x <= 1"
      ]
     },
     "execution_count": 187,
     "metadata": {},
     "output_type": "execute_result"
    }
   ],
   "source": [
    "b.args[1][1]"
   ]
  },
  {
   "cell_type": "code",
   "execution_count": null,
   "metadata": {},
   "outputs": [],
   "source": []
  }
 ],
 "metadata": {
  "kernelspec": {
   "display_name": "Python 3",
   "language": "python",
   "name": "python3"
  },
  "language_info": {
   "codemirror_mode": {
    "name": "ipython",
    "version": 3
   },
   "file_extension": ".py",
   "mimetype": "text/x-python",
   "name": "python",
   "nbconvert_exporter": "python",
   "pygments_lexer": "ipython3",
   "version": "3.8.3"
  }
 },
 "nbformat": 4,
 "nbformat_minor": 4
}
