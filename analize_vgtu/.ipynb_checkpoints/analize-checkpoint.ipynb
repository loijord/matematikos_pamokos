{
 "cells": [
  {
   "cell_type": "markdown",
   "metadata": {},
   "source": [
    "![](memprocesses.PNG)\n",
    "\n",
    "## Kaip spręsti\n",
    "### Atminties teorijos taikymas matematikos mokymesi\n",
    "\n",
    "Perkrova įvyksta, jei darbinėje atmintyje bandome saugoti per daug\n",
    "informacijos. Krūvio sumažinimas - rėmimasis tuo, ką jau mokame.\n",
    "\n",
    "* **Ar verta mokytis daugybos lentelę?**\n",
    "Mokant daugybos lentelę darbinės atminties krūvį galime sumažinti $43 × 7 = 280 + 21 = 301$, todėl informacijos apdorojimas\n",
    "greitesnis yra pakankamai mažos apimties, kad būtų galima mintinai gauti atsakymą. Tuo tarpu, jei užmirštume $3\\times 7 = 21$, tai galėtume pasakyti, kad \n",
    "$43 × 7 = 280 + 3\\times 7$, tačiau informacijos būtų per daug norint mintinai užbaigti procesą (reikėtų skaičiuotuvo, popieriaus). \n",
    "* **Kaip sumažinti žioplų klaidų savo sprendimuose?**\n",
    "Trumpalaikis sprendimas: sprendimą stengtis suskaidyti į atskiras dalis, į kiekvieną jų įtraukiant laiką rašymui ir pasitikrinimui. Ilgalaikis sprendimas: praktikuotis, kol sprendimas tampa savaiminiu procesu\n",
    "* **Kokiu būdu mokytis spręsti, norint kuo greičiau išmokti?**\n",
    "Iš pradžių patiriame išspręsto uždavinio efektą. T.y. nagrinėti išspręstą uždavinį yra produktyviau, nei spręsti pačiam. \n",
    "Po to patiriame kompetencijos pasikeitimo efektą - negalime sparčiai daryti progreso naujos informacijos įsisavinime, kai vien tik skaitom sprendimus, todėl spręsti pačiam tampa būtina.\n",
    "\n",
    "### Kas įeina į matematinį supratimą?\n",
    "* Objektų savybių pažinimas: vizuali ar dinamiškai vizuali informacija, gebėjimas atskirti objektų, taisyklių, situacijų, savybes, panašumus, skirtumus. Taip pat matematinių situacijų apibūdinimas naudojant vis platesnę kalbą.\n",
    "* Operacijų savybių pažinimas: procesų darymas, kol tai tampa atminties neapkraunančiu veiksmu. Jis reikalingas, kad informacija pereitų (gal būt kelis) kompresijos etapus, kurie reikalingi norint medžiagą suprasti pilnai ir pasitikėti.\n",
    "\n",
    "### Iš ko susideda sugebėjimas mąstyti matematiškai?\n",
    "* Faktinės žinios - daugybos lentelė, veiksmų rezultatai, mintinai žinomos sąvokos, taisyklės, formulės.\n",
    "* Sąvokinės žinios - gebėjimas operuoti sąvokomis, kurios yra atminties chunkai, susikompresavę iš pakartotinio procedūrų naudojimo. Pilnos žinios - gebėjimas operuoti sąvokomis naujose situacijose.\n",
    "* Procedūrinės žinios - vien gebėjimas taikyti procedūras, žingsnis po žingsnio.\n",
    "* Metakognityvinės žinios - bendras suvokimas apie mąstymo procesus bei apie sprendimų strateginį išdėliojimą\n",
    "\n",
    "### Kodėl nesigauna mokytis matematikos taip kaip kitų dalykų?\n",
    "Sudėtingas klausimas, bet vienas požiūrio taškas būtų, kad matematikos pamokose yra naudojami mokymo metodai, kai į smegeninę krauname kuo daugiau informacijos. Jie nesiskiria nuo kitų dalykų mokymo: laikoma, kad matematikos mokėjimas susideda iš:\n",
    "* įsiminimas\n",
    "* supratimas\n",
    "* taikymas\n",
    "* analizė\n",
    "* vertinimas\n",
    "* kūrimas\n",
    "\n",
    "Tai klaidingas mokyklų požiūris. Pagal šią [facebook diskusiją](https://www.facebook.com/rimas.norvaisa/posts/1964118053816795) tai būtų tarsi akiniai skirti žiūrėti į tolį. Bet norint mokytis matematiką reiktų akinių skaitymui. Turima mintyje, reiktų užtikrinti, kad įgyjame tiek faktines, tiek sąvokines, tiek procedūrines žinias."
   ]
  },
  {
   "cell_type": "markdown",
   "metadata": {},
   "source": [
    "### Kaip reikėtų žiūrėti į kiekvieną uždavinį\n",
    "Sprendžiant bet kurį uždavinį, taikome krūva taisyklių, kurias mokame arba nemokame. Taisykles, kurių nemokame, būtų gerai įtraukti į atskirą sąrašą ir skirti papildomą laiką su jomis praktikuotis. Pavyzdžiui, jei mums reiktų suprasti, kodėl $(a^n)^m$ lygu $a^{nm}$, tai dalį sprendimo suprastume, dalį ne. Vietas, kurių nesuprantame, reiktų žymėti raudona spalva ir joms skirti atskiro laiko įsisavinimui. Apačioje - pilnas aiškinimo pavyzdys su visais fragmentais.\n",
    "\n",
    "![](neuro_output.PNG)"
   ]
  },
  {
   "cell_type": "markdown",
   "metadata": {},
   "source": [
    "## Resursai\n",
    "* [Analizės vadovėlis su sprendimais](https://tutorial.math.lamar.edu)\n",
    "* [Mano bandymas apibendrinti ribų uždavinius](ribos.pdf)\n",
    "* Patarimai kaip mokytis matematiką ir kitus dalykus (reikia nuorodos?)\n",
    "* [grafikų vaizdavimas online](https://www.desmos.com/calculator)\n",
    "* [WolframAlpha skaičiuoklė](https://www.wolframalpha.com)"
   ]
  },
  {
   "cell_type": "markdown",
   "metadata": {},
   "source": [
    "## Kaip naudotis WolframAlpha skaičiuokle\n",
    "* [$\\frac{115.94 - 120}{12.277 / 4}$](https://www.wolframalpha.com/input/?i=%28115.94+-+120%29%2F%2812.277+%2F+4%29)\n",
    "* [$\\frac{(10 - 10.5)^2 + (7 - 10.5)^2 + (14 - 10.5)^2 + (12 - 10.5)^2 + (11 - 10.5)^2 + (9-10.5)^2}{5}$](https://www.wolframalpha.com/input/?i=%28%2810+-+10.5%29%5E2+%2B+%287+-+10.5%29%5E2+%2B+%2814+-+10.5%29%5E2+%2B+%2812+-+10.5%29%5E2+%2B+%2811+-+10.5%29%5E2+%2B+%289-10.5%29%5E2%29%2F5)\n",
    "* [$\\sqrt{6}$](https://www.wolframalpha.com/input/?i=6%5E0.5)\n",
    "* [$\\displaystyle\\int\\frac{2x}{x^2+1}\\mathrm{d}x$](https://www.wolframalpha.com/input/?i=integral+of+2x%2F%28x%5E2%2B1%29)\n",
    "* [$\\displaystyle\\lim_{x\\to 0} \\frac{1-\\cos x^2}{\\arcsin x^2}$](https://www.wolframalpha.com/input/?i=limit+of+%281-cos+x%5E2%29%2F%28arcsin+x%5E2%29+as+x->0)"
   ]
  },
  {
   "cell_type": "markdown",
   "metadata": {},
   "source": [
    "## Ką mokomės\n",
    "\n",
    "||||\n",
    "|:----:|:-----:|:------:|\n",
    "|![](sam1.PNG)|![](sam2.PNG)|![](sam3.PNG)|\n",
    "\n",
    "||||\n",
    "|:----:|:-----:|:------:|\n",
    "|![](int1.PNG)|![](int2.PNG)|![](int3.PNG)|"
   ]
  },
  {
   "cell_type": "markdown",
   "metadata": {},
   "source": [
    "## Užrašai\n",
    "Užrašuose yra 5 sąsiuvinio nuotraukos su Irmanto paskaitų sprendimais. Jos padės suprasti, kokias integravimo metodikas naudoja per paskaitas.\n",
    "\n",
    "||||||\n",
    "|:----:|:-----:|:------:|:-----:|:------:|\n",
    "|![](notes1.PNG)|![](notes2.PNG)|![](notes3.PNG)|![](notes4.PNG)|![](notes5.PNG)|"
   ]
  },
  {
   "cell_type": "markdown",
   "metadata": {},
   "source": [
    "## Šį susitikimą sprendžiame\n",
    "Irmantui: turėk atsidaręs tas pačias nuotraukas pas save, nes man netelpa atsakymai\n",
    "\n",
    "||||\n",
    "|:----:|:-----:|:------:|\n",
    "|![](ribos1.JPG)|![](ribos2.JPG)|![](ribos3.JPG)|"
   ]
  },
  {
   "cell_type": "markdown",
   "metadata": {},
   "source": [
    "### Taisyklės, kurių reikės\n",
    "\n",
    "* $\\sin(x) \\to x$, kai $x\\to 0$\n",
    "* $\\ln(1+x) \\to x$, kai $x\\to 0$ $\\Rightarrow 1+x \\to e^x$\n",
    "* $\\sin^2(x)+\\cos^2(x) = 1$\n",
    "* $\\frac{\\sin(x)}{\\cos(x)}=\\text{tg}(x)$\n",
    "* [Lopitalio taisyklė](https://en.wikipedia.org/wiki/L%27Hôpital%27s_rule)\n",
    "\n",
    "## Ribų tipai\n",
    "### Konjunkcijos\n",
    "* Konjunkcijos? Tai [ne dangaus kūnų](https://en.wikipedia.org/wiki/Conjunction_(astronomy)), o greičiau lygybės $ab=c$ kitų formų tarpusavio ryšys. \n",
    "* Tiksliau lygybių $\\boxed{(a-b)(a+b)=a^2-b^2}$, $\\boxed{(a-b)(a^2+ab+b^2)=a^3-b^3}$ ir $\\boxed{(a+b)(a^2-ab+b^2)=a^3+b^3}$\n",
    "* $(a+b)(a-b) = \\begin{array}{c||c|c} & a & b \\\\ \\hline a & a^2 & ab \\\\ \\hline -b & -ab & -b^2 \\end{array} = a^2-b^2$\n",
    "* $(a+b)(a^2-ab+b^2) = \\begin{array}{c||c|c} & a & b \\\\ \\hline a^2 & a^3 & a^2b \\\\ \\hline -ab & -a^2b & -ab^2 \\\\ \\hline b^2 & ab^2 & b^3 \\end{array} = a^3+b^3$\n",
    "* $(a-b)(a^2+ab+b^2) = \\begin{array}{c||c|c} & a & -b \\\\ \\hline a^2 & a^3 & -a^2b \\\\ \\hline ab & a^2b & -ab^2 \\\\ \\hline b^2 & ab^2 & -b^3 \\end{array} = a^3-b^3$"
   ]
  },
  {
   "cell_type": "markdown",
   "metadata": {},
   "source": [
    "**Pavyzdys 1.** Kai skaičiuoji $\\displaystyle\\lim_{n\\to+\\infty} \\left(\\sqrt[3]{n^3-1} - n\\right)\\cdot n$, tai paimk $\\displaystyle a-b=\\frac{a^3-b^3}{a^2+ab+b^2}$ ir įstatyk $\\begin{cases} a \\to \\sqrt[3]{n^3-1} \\\\ b \\to n\\end{cases}$"
   ]
  },
  {
   "cell_type": "markdown",
   "metadata": {},
   "source": [
    "Gausi \\displaystyle \\sqrt[3]{n^3-1}-n=\\frac{n^3-1-n^3}{\\sqrt[3]{(n^3-1)^2}+n\\sqrt[3]{n^3-1}+n^2}$. Po to vyks tigrų lenktynės."
   ]
  },
  {
   "cell_type": "markdown",
   "metadata": {},
   "source": [
    "**Pavyzdys 2.** Kai skaičiuoji $\\displaystyle\\lim_{n\\to+2} \\frac{\\sqrt{n} - \\sqrt{2}}{n-2}$, tai paimk $\\displaystyle a-b=\\frac{a^2-b^2}{a+b}$ ir įstatyk $\\begin{cases} a \\to \\sqrt{n} \\\\ b \\to \\sqrt{2}\\end{cases}$"
   ]
  },
  {
   "cell_type": "markdown",
   "metadata": {},
   "source": [
    "Gausi \\displaystyle \\frac{\\sqrt{n} - \\sqrt{2}}{n-2} = \\frac{(n - 2)/(\\sqrt{n} + \\sqrt{2})}{n-2} = \\frac{1}{\\sqrt{n} + \\sqrt{2}}$. "
   ]
  },
  {
   "cell_type": "markdown",
   "metadata": {},
   "source": [
    "## Tigrų lenktynės\n",
    "Lenktyniauja du tigrai. Galimos trys baigtys:\n",
    "    \n",
    "|Pirmas galingesnis >>>>>>>>>>>>>>>>| Antras galingesnis >>>>>>>>>>>>>>>>| Fotofinišas - reik žiūrėt kofus >>>>>>>>>>>>>>>>|\n",
    "|:---:|:---:|:---:|\n",
    "|$\\displaystyle\\lim_{x\\to+\\infty}\\frac{10n^4-7n+1}{4n^3-3n^2+10n-4}=\\frac{+\\infty}{1}$|$\\displaystyle\\lim_{n \\rightarrow \\infty} \\frac{\\sqrt[3]{n^{2}+2n-1}+\\sqrt{n}}{\\sqrt[4]{n^{3}+n^{2}+1}-\\sqrt{n-1}}=\\frac{1}{+\\infty}$|$\\displaystyle\\lim_{x\\to+\\infty}\\frac{8n^3+3n^2+5}{6-7n^2+10n^3} = \\frac{8}{10}$|\n",
    "\n",
    "Po to atsiranda papildomų momentų:\n",
    "* Jei nori patikrint, kodėl vienas ar kitas laimės, tai dalini abu iš didžiausio surasto laipsnio:\n",
    "  \n",
    "  $\\displaystyle\\lim_{x\\to+\\infty}\\frac{8n^3+3n^2+5}{6-7n^2+10n^3}=\\lim_{x\\to+\\infty}\\frac{8n^3/n^3+3n^2/n^3+5/n^3}{6/n^3-7n^2/n^3+10n^3/n^3} = \\lim_{x\\to+\\infty}\\frac{8+3/n+5/n^3}{6/n^3-7/n+10}=\\frac{8}{10}$\n",
    "* Remiantis panašiomis idėjomis, kai skaičiuoji ribą $\\displaystyle\\lim_{x\\to+\\infty}\\frac{8^n+3^n}{9^n-5^n}$ irgi gali panašiai surasti galingiausią narį ir iš jo padalinti likusius narius.\n",
    "* Jei nori įvertint šaknis, tai galima panašiai naikinti nykstamai mažus narius:\n",
    "$\\displaystyle\\lim_{x\\to+\\infty}\\sqrt{4x^3+x+1} = \\lim_{x\\to+\\infty}\\sqrt{4x^3} = \\lim_{x\\to+\\infty} 2x^{3/2}$"
   ]
  }
 ],
 "metadata": {
  "kernelspec": {
   "display_name": "Python 3",
   "language": "python",
   "name": "python3"
  },
  "language_info": {
   "codemirror_mode": {
    "name": "ipython",
    "version": 3
   },
   "file_extension": ".py",
   "mimetype": "text/x-python",
   "name": "python",
   "nbconvert_exporter": "python",
   "pygments_lexer": "ipython3",
   "version": "3.8.3"
  }
 },
 "nbformat": 4,
 "nbformat_minor": 4
}
