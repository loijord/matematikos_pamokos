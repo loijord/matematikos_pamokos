{
 "cells": [
  {
   "cell_type": "markdown",
   "metadata": {},
   "source": [
    "### Žodynėlis"
   ]
  },
  {
   "cell_type": "markdown",
   "metadata": {},
   "source": [
    "## 7 klasė, kampai\n",
    "\n",
    "* **Kampo kraštinės** - spinduliai, tarp kurių yra kampo vidinė dalis.\n",
    "* **Kampo viršūnė** - taškas, iš kurio išeina kampo kraštinės.\n",
    "* **Ištiestinis kampas** - kampas, kurio kraštinės sudaro tiesę.\n",
    "* **Statusis kampas** - kampas, lygus pusei ištiestinio kampo (dydžio).\n",
    "* **Smailusis kampas** - kampas, mažesnis už statųjį kampą.\n",
    "* **Bukasis kampas** - kampas, didesnis už statųjį, bet mažesnis už ištiestinį.\n",
    "* **Pusiaukampinė** - spindulys, išeinantis iš kampo viršūnės ir dalijantis kampą pusiau.\n",
    "* **Gretutiniai kampai** (du vienodą prasmę turintys apibrėžimai) - \n",
    "    * du kampai, kuriuose viena pora kraštinių sudaro ištiestinį kampą, o kita pora - bendra\n",
    "    * du kampai, sudaryti nubrėžus spindulį iš ištiestinio kampo viršūnės\n",
    "* **Kryžminiai kampai** (du vienodą prasmę turintys apibrėžimai)\n",
    "    * priešingieji(?) kampai, sudaryti iš susikertančių dviejų tiesių\n",
    "    * du kampai, sudaryti iš susikertančių dviejų tiesių, kurių kraštinės nėra sutampančios tarpusavyje\n",
    "* **Lygiagrečios tiesės** - dvi plokštumos tiesės lygiagrečios, jei jos nesikerta.\n",
    "* **Kirstinė** - tai tiesė, kertanti kitas dvi tieses\n",
    "* **Vidaus kampai** - tai kampai, esantys tarp dviejų lygiagrečių tiesių, kurių viena kraštinė sutampa su kirstine\n",
    "* **Priešiniai kampai** - tai vidaus kampai, esantys priešingose kirstinės pusėse (ir nesantys gretutiniai)\n",
    "* **Vienašaliai kampai** - tai vidaus kampai, esantys toje pačioje kirstinės pusėje.\n",
    "* **Atitinkamieji kampai** (neįtraukta į programą) - tai kampai, esantys toje pačioje kirstinės pusėje ir toje pačioje lygiagrečių tiesių pusėje."
   ]
  },
  {
   "cell_type": "code",
   "execution_count": null,
   "metadata": {},
   "outputs": [],
   "source": []
  }
 ],
 "metadata": {
  "kernelspec": {
   "display_name": "Python 3",
   "language": "python",
   "name": "python3"
  },
  "language_info": {
   "codemirror_mode": {
    "name": "ipython",
    "version": 3
   },
   "file_extension": ".py",
   "mimetype": "text/x-python",
   "name": "python",
   "nbconvert_exporter": "python",
   "pygments_lexer": "ipython3",
   "version": "3.7.4"
  }
 },
 "nbformat": 4,
 "nbformat_minor": 2
}
