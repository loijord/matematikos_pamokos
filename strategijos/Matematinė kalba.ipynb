{
 "cells": [
  {
   "cell_type": "markdown",
   "metadata": {},
   "source": [
    "Pagrindinis matematikos kalbos tikslas – maksimalus aiškumas, siekiant žodžiu ir teiginiu\n",
    "vienareikšmiškumo ir samprotavimų loginio pagristumo."
   ]
  },
  {
   "cell_type": "markdown",
   "metadata": {},
   "source": [
    "* Pagrindiniai matematikos objektai apibrežiami aksiomomis. Pvz. aibė.\n",
    "* Apie bet kuriuos du matematikos objektus visada galima pasakyti ar jie yra\n",
    "lygus ar ne. Pvz. integravimas yra procesas, kai parodoma, kad integralas lygus su tam tikru skaičiumi. Ši matematikos objektu lygybes ar nelygybes nustatymo galimybe yra vienas iš pagrindiniu matematikos\n",
    "objekto požymiu. Be kita ko, mineti pavyzdžiai rodo, kad didele matematines\n",
    "veiklos dalis yra bandymai nustatyti ar konkretus matematikos objektai yra lygus.\n",
    "* Kitas matematikos objektu požymis yra ju kvantifikavimo galimumas. Bendrineje kalboje kvantifikavimas yra tokia kalbos konstrukcija, kuri igalina išreikšti individu su nurodytais požymiais kieki. Paprastai\n",
    "kvantifikavimas išreiškiamas naudojant specialius žodelius, vadinamus kvantoriais\n",
    "(angl. quantifiers): kiekvienas, visi, kai kurie, daug, keletas, puse, du ir\n",
    "t.t.\n",
    "* Matematikos objektu savybiu deriniai sudaro tai, kas vadinama matematikos\n",
    "savoka. Pavyzdžiui, funkcijos tolydumo savybe apibrežia tolydžiosios funkcijos\n",
    "savoka. Jei matematikos objektas turi visas savokos apibudinime išvardintas savybes,\n",
    "tai sakysime, kad objektas atitinka savoka\n",
    "* Rinkinys objektu, turinciu savokos\n",
    "apibudinime išvardintas savybes, vadinamas savokos ekstensija - tai savokos\n",
    "apimtis. Savoka apibudinanciu savybiu derinys vadinamas savokos intensija - tai savokos turinys.\n",
    "* Matematikos savokai budinga tai, kad vienareikšmiškai galima pasakyti ar\n",
    "matematikos objektas atitinka savoka. Kasdieniniame gyvenime savoka paprastai\n",
    "nera vienareikšmiškai apibudinama. Pavyzdžiui, pilies savoka enciklopedijoje\n",
    "taip apibudinama: uždaras gynybiniu irenginiu bei gyvenamuju, ukinio, kulto\n",
    "ir kt. pastatu kompleksas. Gedimino pilis yra objektas atitinkantis pilies savoka.\n",
    "Taciau apie daugeli objektu Vilniuje ir jo apylinkese butu sunku vienareikšmiškai\n",
    "tvirtinti ar tai yra pilis, ar ne. Tuo labiau rinkinys: visos Vilniaus rajono pilys\n",
    "turincios raudona stoga, nera vienareikšmiškai apibrežtas\n",
    "* Kaip ir realiems daiktams, matematikos objektams yra suteikiami vardai. Taciau\n",
    "matematikoje vardas suteikiamas tik tokiam objektui, kuris yra vienintelis. Pavyzdžiui ribai suteikiamas skaičiaus vardas kai irodomas skaiciaus c su nurodyta savybe vienatis tais atvejais, kai bent vienas toks skaicius egzistuoja. Bendrineje kalboje tokios taisykles nesilaikoma; jei du žmones turi ta pati varda, tai iš to nedaroma išvada, kad tai yra tas pats žmogus. Taigi antrasis svarbus matematikos objektu požymis yra tai, kad jie yra vienareikšmiškai\n",
    "apibudinami savo savybemis, o matematikos objektu tyrimas yra ju\n",
    "savybiu tyrimas. Viena iš matematines veiklos krypciu yra matematikos objektu\n",
    "savybiu klasifikavimas.\n",
    "* Pavyzdžiui, matematikos objektai nesikeicia kintant laikui, jie nepriklauso nuo vietos\n",
    "erdveje ir nesaveikauja tarpusavyje\n",
    "* Kalbos požiuriu su matematikos objektais elgiamasi taip pat, kaip su fiziniais\n",
    "objektais. Pavyzdžiui, kalbos požiuriu fraze „skaicius 3 yra nelyginis skaicius”\n",
    "nesiskiria nuo frazes „Gedimino pilis yra murine pilis”. Tai rodo, kad apie matematikos\n",
    "objektus kalbama taip, lyg jie butu realus objektai. Be to, kaip ir realus\n",
    "objektai, matematikos objektai turi savybes.\n",
    "* Kasdieninei ar literatūrinei kalbai budingas daugiaprasmiškumas yra nepriimtinas matematikoje.\n",
    "  * du plius du yra keturi (objektas du plius du yra lygus objektui 4)\n",
    "  * du yra mažiau už keturis (savybė buvimo mažiau už 4)\n",
    "  * du yra pirminis skaicius (vienas objektas priklauso kitų rinkiniui)"
   ]
  },
  {
   "cell_type": "code",
   "execution_count": null,
   "metadata": {},
   "outputs": [],
   "source": []
  }
 ],
 "metadata": {
  "kernelspec": {
   "display_name": "Python 3",
   "language": "python",
   "name": "python3"
  },
  "language_info": {
   "codemirror_mode": {
    "name": "ipython",
    "version": 3
   },
   "file_extension": ".py",
   "mimetype": "text/x-python",
   "name": "python",
   "nbconvert_exporter": "python",
   "pygments_lexer": "ipython3",
   "version": "3.7.4"
  }
 },
 "nbformat": 4,
 "nbformat_minor": 2
}
