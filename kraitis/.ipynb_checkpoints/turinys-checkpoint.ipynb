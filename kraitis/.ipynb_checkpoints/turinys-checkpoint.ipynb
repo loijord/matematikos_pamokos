{
 "cells": [
  {
   "cell_type": "markdown",
   "metadata": {},
   "source": [
    "* [Sąvokų žodynėlis](sąvokų_žodynėlis.ipynb)\n",
    "\n",
    "* [Renesanso laikotarpio matematikos istorijos apžvalga](renaissance/santrauka.pdf)\n",
    "\n",
    "\n",
    "* [Pirmas Simono pristatymas](teorija_to_praktika/skaidruoles.pdf) tema ***Kaip matematikos mokymo teoriją įgyvendinti tikrovėje?***\n",
    "\n",
    "* [Antras Simono pristatymas](mindmaps/mindmaps.ipynb) tema ***Kaip palengvinti komunikavimą apie matematines sąvokas?***\n",
    "\n",
    "\n",
    "* Mokslo populiarinimo konkursas[](populiarinant.ipynb)"
   ]
  }
 ],
 "metadata": {
  "kernelspec": {
   "display_name": "Python 3",
   "language": "python",
   "name": "python3"
  },
  "language_info": {
   "codemirror_mode": {
    "name": "ipython",
    "version": 3
   },
   "file_extension": ".py",
   "mimetype": "text/x-python",
   "name": "python",
   "nbconvert_exporter": "python",
   "pygments_lexer": "ipython3",
   "version": "3.8.3"
  }
 },
 "nbformat": 4,
 "nbformat_minor": 4
}
