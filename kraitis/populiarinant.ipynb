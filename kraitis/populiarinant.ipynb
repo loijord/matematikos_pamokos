{
 "cells": [
  {
   "cell_type": "markdown",
   "metadata": {},
   "source": [
    "### Kodėl mokyklinė matematika tokia sudėtinga palyginus su kitais mokslais?\n",
    "\n",
    "Laiko, kada pirmąsyk suskaičiavau savo pirštus vardydamas skaičius iš eilės, neprisimenu. Būdamas penkerių metų darželyje galėdavau laisvai suskaičiuoti iki tūkstančio. Šio skaičiavimo tikslas - pratempti nuobodų pietų miegą. Jei išlaikai pastovų, į sekundžių ėjimą panašų ritmą, tai skaičiuojant iki tūkstančio praeina visai nemažai laiko - beveik 20 minučių. Atliekant tokius ilgus ir monotoniškus bandymus natūraliai kilo poreikis skaičiavimą suprastinti: kai suskaičiuodavau iki dvidešimties, turėdavau įsiminti naują dvidešimčių skaičių ir pradėti skaičiavimą iš naujo, kitaip nebūčiau įstengęs suspėti kartu su sekundėmis. O jeigu naudočiau per didelį įsiminimų kiekį, tai kuriuo nors momentu pamesčiau, kiek dvidešimčių suskaičiavau, todėl tekdavo mintyse paskelbti, kiek minučių jau spėjo praeiti. Taip po truputį tapau žmogumi, ne tik gebančiu atkartoti matematinius mąstymo procesus, bet ir savarankiškai išsamprotauti tvarką, kaip juos atliksiu.\n",
    "\n",
    "Gal būt jums pasirodys, kad taip elgiasi tik keisti vaikai. Negaliu su tuo nesutikti, nes ir mokykloje beveik kiekviena nauja mokyklinė matematikos sąvoka ar naujai išmoktas skaičiavimo būdas versdavo mane ieškoti vis naujų paaiškinimo būdų ar pasitaikymo pavyzdžių. Jeigu pamokoje pateikti sprendimo metodai atrodydavo per sudėtingi, į iškilusią problemą stengdavausi atrasti tokį požiūrio kampą, iš kurio žiūrint galima rasti paprastesnį sprendimą arba esamas sprendimas atrodo paprasčiau. Sugebėjimą įsiminti informaciją talpesnėmis atminties struktūromis D. Tall vadina žinių kompresija[1]. Jį turime kiekvienas iš mūsų nuo pat kūdikystės. Juk, jeigu jums prireiktų išmatuoti tam tikros atkarpos ilgį, šiandien vargu ar abejotumėte, kad matavimų rezultatai gali priklausyti nuo to, ar pradėtume matuoti tą atkarpą nuo pradžios, ar nuo pabaigos. Tačiau šio teiginio negalėtumėte suprasti vos sužinoję, kaip išmatuoti atkarpą, jeigu kruopščiai neatliktumėte kelių bandymų arba nepagalvotumėte, ką žinote apie ilgius. \n",
    "\n",
    "Daugumos pasaulio šalių šiandienės mokyklinės matematikos ugdymo sistemos susiklostė vykdant reformas, kurių pradžia siejama su XX a. šeštame - septintame dešimtmečiuose vykusiu ,,naująja matematika\" vadinamu judėjimu. Vienas iš naujosios matematikos atsiradimo faktorių buvo pokyčiai pedagogikoje, susiję su šveicarų psichologo J. Piaget darbais. Jis įžvelgė analogiją tarp skaičiaus sąvokos formavimosi mechanizmo vaiko sąmonėje ir matematinių struktūrų[2]. Pagal Piaget ,,prisirišimas prie patirties suteikimo besimokančiajam nėra pakankamas jam perprasti nagrinėjamą struktūrą. Jis turi būti aktyvus, pats transformuoti objektus ir atrasti struktūrą savo paties operacijose su objektais\" [3]. Man didelį įspūdį paliko Liping Ma knyga Knowing and Teaching Elementary Mathematics[4], kurioje paminėta, kad mokytojo gebėjimas transformuoti aritmetinį veiksmą į korektiškai tekstiniame uždavinyje apibūdintą situaciją lemia didelius matematikos pasiekimų skirtumus. Pavyzdžiui veiksmą 1¾ : ½ = 3½ galėtų atitikti uždavinys: \n",
    "\n",
    "Įveikęs 1¾ kilometro aš pamačiau užrašą ,,Sveikiname įveikus pusę distancijos“. Koks distancijos ilgis?\n",
    "\n",
    "Kaip konkrečiai pasireiškia mokyklinės matematikos supratimas? Galima sakyti, kad matematinė sąvoka yra suprasta, kai ji atpažįstama skirtinguose kontekstuose[5]. Pakankamai neseniai remiantis panašiomis idėjomis atlikti tyrimai ir Lietuvoje. V. Miežio tyrime[6] nustatyta, kad panašaus veiksmo 3:½ neapskaičiavo 7 iš 13 tirtų pradinių klasių mokytojų, o teisingos, veiksmą iliustruojančios istorijos nepateikė 10 iš 13 mokytojų. Mokytojai dažniau akcentavo procedūros taisyklingą atlikimą, siauresnį požiūrį į tą pačią problemą. Šiais metais pasirodė ir I. Kilienės tyrimas[7], kuriame buvo tiriama, kaip analogiški transformavimai atsispindi pirmos klasės vadovėlių uždavinių sąlygose apie natūraliųjų skaičių sudėtį ir atimtį. Nustatyta, tarp vienu veiksmu atliekamų uždavinių sąlygų iš 20 galimų transformavimo būdų dažniausiai pasitaikydavo tik apie 5 būdus, o kitų būdų pasitaikydavo mažai arba nebūdavo iš viso. Abu šie tyrimai siūlo kelti prielaidą, kad vaizdas apie aritmetinius veiksmus pradinėse klasėse pateikiamas skurdžiai. Tokiu atveju dalis atsakymo, kodėl matematika yra sudėtinga, turėtų būti susiję su mūsų mokyklinės programos kokybe. \n",
    "\n",
    "Nepaisant to, kad vėlesnių klasių matematika gerokai sudėtingesnė, ją lydi visi prieš tai jau apibūdinti matematinio mąstymo požymiai: skaičiavimas, matavimas, samprotavimas, problemų sprendimo įgūdžiai, procedūrų atlikimas, žinių kompresija, teiginių formulavimas, gebėjimas atlikti procedūras bei jas taikyti naujose situacijose. Dar sėdint mokyklos suole galvoti, kad programa gali būti prasta, nelabai tekdavo, tačiau bendraklasių negebėjimas atlikti paprasčiausias skaičiavimo procedūras, mokomas 6 - 8 klasėse, stebindavo. Dabar suprantu, kad didžioji dalis atsakymo slypi mąstymo būdų ir jų tarpusavio ryšių įvairovėje, kuri yra būtina norint manipuliuoti matematiniais objektais bei operacijomis. Tam, kad geriau susipažintumėte su šiomis mąstymo savybėmis nusprendžiau pateikti pavyzdį, kaip šiuolaikinėje mokyklinėje programoje yra nagrinėjamos skritulio savybės.\n",
    "\n",
    "Kaip ir kiekvienos kitos matematinės sąvokos, taip ir skritulio pažinimas pereina tam tikrus žinių kompresijos etapus. D. Tall[1] išskiria du pradinius būdus, kaip įgyjamos žinios: kategorizacija ir enkapsuliacija. \n",
    "Kategorizacija - tai metodas, būdingas objektų pažinimui. Jį mes taikome nuo kūdikystės. Kategorizuodami objektus iš pradžių mes asimiliuojame: nubrėžtai figūrai gebame priskirti pavadinimą ,,skritulys\", tačiau jis nebūtinai teisingas, nes skrituliu galime laikyti bet kokį apvalų daiktą. Vėliau akomoduojame[8], t.y. siauriname objektų, kuriuos suvokiame kaip skritulį, kategoriją. Akivaizdu, kad tiks tik objektai, turintys tokį apvalumą, kaip kad turi moneta, bet ne kitokį. Galime sakyti, kad matematiniuose apibrėžimuose atsispindi tiek iškategorizuotas supratimas, kiek tik įmanoma: apskritimas apibrėžiamas kaip sritis, kurios visi taškai vienodai nutolę nuo taško, vadinamu jo centru. Kiekvienas matematinis apibrėžimas turi būti vienareikšmiškas: turėti galimybę juo remiantis patikrinti, ar kuris nors objektas gali būti laikomas apskritimu, ar negali[9].\n",
    "\n",
    "Enkapsuliacija - tai metodas, kuomet atliekame operacijas tol, kol ši veikla tampa savaiminiu procesu ir galime pasitikėti, kad ją atlikti mokame. Pavyzdžiui tai galėtų būti skritulio ploto formulės taikymas sprendžiant uždavinius. Šiandien manęs nestebina, kodėl moksleiviai praėjus dviem metams nuo pamokų apie skritulio ploto skaičiavimą jo nemoka: jie žinojo, kaip skaičiuoti plotą, bet šiam būdui neatrado žinių struktūros, kuri po kurio laiko neišblėstų atmintyje. Kad taip nenutiktų, moksleiviams reikėtų daug dėmesio skirti ne tik mokymuisi enkapsuliacijos būdu, bet ir kategorizacijos būdu, t.y. taip pat mokėti taikyti ir skritulio apibrėžimą. Skritulio ploto formulės supratimas turėtų būti šių dviejų mąstymo metodų sąveikos rezultatas, o gero supratimo bruožas yra sugebėti paaiškinti ne tik kaip, bet ir kodėl. Vis dėlto šiuo atveju aiškinimas, kodėl skritulio ploto formulė yra būtent S=πr², pakryps netikėta linkme ir pareikalaus remtis kitomis probleminėmis situacijomis, kurias Harel[10] vadina individo intelektiniu poreikiu.\n",
    " \n",
    "![](plotas_skr.PNG)\n",
    "\n",
    "Pateiktoje iliustracijoje matyti, kad spindulio r skritulys yra dalijamas į tam tikrą dalių kiekį n. Šios dalys yra perdėliojamos ir aplink naują figūrą apibrėžiamas stačiakampis. Kuo n didesnis, tuo stačiakampio plotis bus artimesnis skritulio spinduliui r, o ilgis - apskritimo ilgio pusei πr. Kodėl r dauginamas iš π? Nuo žilos senovės taip buvo pavadintas nežinomas skaičius, lygus apskritimo ilgio ir skersmens santykiui, o tai lygu pusės šio ilgio ir pusės skersmens santykiui. Pasinaudodami stačiakampio ploto formule ir savybe, kad su norimai dideliu dalių kiekiu n kraštinių ilgiai bus norimai artimi r ir πr, gauname, kad plotas bus norimai artimas πr².\n",
    "\n",
    "Tokį skritulio ploto paaiškinimą galima laikyti matematiniu įrodymu. Jį nagrinėjant kyla intelektinis poreikis žinoti skaičiaus π apibrėžimą, žinoti, kad spindulio ilgis lygus pusei skersmens ilgio, taikyti idėjas, kuomet skaičių lygybė pakeičiama artėjimu (tai susiję su ribos sąvoka). Kai baigiau mokyklą ir pirmą kartą išvydau šį įrodymą, posūkis į ribos sąvoką man pasirodė visiškai netikėtas. Nesuvokiau ir kaip konkrečiai ploto formulėje naudojamas skaičius π susijęs su apskritimo ilgio ir skersmens santykiu. Ir tik pamatęs šį brėžinį supratau pagrindinę įrodymo idėją.\n",
    "\n",
    "Mano praktika rodo, kad toks intelektinio poreikio netikėtumo faktorius - gana dažnai lydintis reiškinys nagrinėjant matematinius įrodymus. Sudėtingesnių mokyklinių geometrijos teiginių, tokių, kaip Pitagoro ar Kosinusų teoremų, paaiškinimų ieškojimas neapsieina tiek be netikėtų geometrinių konstrukcijų, tiek be netikėtai iškilusio poreikio remtis pastebėjimais, kurių neįmanoma iš anksto prognozuoti. Didžioji dalis mokyklinėje matematikoje sutinkamų taisyklių paaiškinimai daug paprastesni, nereikalaujantys sudėtingesnių konstrukcijų, ar formuluočių. Tačiau nenuspėjamumas, ko jiems prireiks, visuomet išlieka.\n",
    "\n",
    "Viską apibendrinus, žinių įsiminimas talpesnėmis struktūromis (kompresija) - nelengvas iššūkis, su kuriuo žmogus susiduria visą gyvenimą. Matematikoje su šiuo iššūkiu susiduriame daugiau, nei kituose dalykuose, o mąstymo būdų įvairovė kiekvieno susidūrimo metu yra labai plati. Iš jų galima išskirti du pagrindinius metodus: kategorizaciją ir enkapsuliaciją. Mokymosi metu kompresija galima tik jiems sąveikaujant. Jei mokomasi matematikos, galioja dėsnis: kuo geriau žinome ne tik kaip išspręsti problemą, bet ir kodėl ji taip sprendžiama, tuo geresnės sąlygos kompresijai įvykti. Matematikos supratimo indikatorius - kompresijos etapų kiekis įvairiose temose. Norint palengvinti matematikos supratimą reikėtų, kad šis kiekis būtų kuo didesnis, o tai reikalauja rinktis tinkamus mokymosi metodus.\n",
    "\n",
    "\n",
    "### Literatūra\n",
    "\n",
    "[1] David Tall. How Humans Learn to Think Mathematically. Exploring the Three Worlds of Mathematics.\n",
    "\n",
    "[2] Rimas Norvaiša. Matematikos mokymas – laike įstrigęs pasaulis, 7psl. http://norvaisa.lt/wp-content/uploads/2012/07/laike-istriges-pasaulis.pdf\n",
    "\n",
    "[3] A Piagetian experiment with the concrete-inquiry instruction model for acquisition and transfer of hypothetic-deductive scientific reasoning, p. 4 https://lib.dr.iastate.edu/cgi/viewcontent.cgi?article=7917&context=rtd\n",
    "\n",
    "[4] Liping Ma. Knowing and Teaching Elementary Mathematics: Teachers' Understanding of Fundamental Mathematics in China and the United States\n",
    "\n",
    "[5] Rimas Norvaiša. Mokyklinės matematikos turinio gilinimas. Kaip tai įmanoma? http://norvaisa.lt/matematika/mokykline-matematika/mokyklines-matematikos-turinio-gilinimas-kaip-tai-imanoma/\n",
    "\n",
    "[6] Vytautas Miežys. Matematikos mokymas pradinėse klasėse: mokytojų žinių tyrimas (2017), 37psl.\n",
    "\n",
    "[7] Ieva Kilienė. On a classification of word problems from the first grade Lithuanian textbooks https://www.journals.vu.lt/LMR/article/view/22470/21844\n",
    "\n",
    "[8] David G. Myers Psichologija 2008, 199psl.\n",
    "\n",
    "[9] Rimas Norvaiša. Analizės pagrindai, 8psl. https://docplayer.lt/160776846-Analizės-pagrindai-rimas-norvaiša-12-2-variantas-2019-kovo-26-e-paštas.html\n",
    "\n",
    "[10] G. Harel, „Intellectual Need“, Vital Directions for Mathematics Education Research, K. R. Leatham, Sud. New York, NY: Springer New York, 2013, p. 119–151.\n"
   ]
  }
 ],
 "metadata": {
  "kernelspec": {
   "display_name": "Python 3",
   "language": "python",
   "name": "python3"
  },
  "language_info": {
   "codemirror_mode": {
    "name": "ipython",
    "version": 3
   },
   "file_extension": ".py",
   "mimetype": "text/x-python",
   "name": "python",
   "nbconvert_exporter": "python",
   "pygments_lexer": "ipython3",
   "version": "3.8.3"
  }
 },
 "nbformat": 4,
 "nbformat_minor": 4
}
