{
 "cells": [
  {
   "cell_type": "markdown",
   "metadata": {},
   "source": [
    "## Kaip spręsti\n",
    "### Atminties teorijos taikymas matematikos mokymesi\n",
    "\n",
    "Perkrova įvyksta, jei darbinėje atmintyje bandome saugoti per daug\n",
    "informacijos. Krūvio sumažinimas - rėmimasis tuo, ką jau mokame.\n",
    "\n",
    "* **Ar verta mokytis daugybos lentelę?**\n",
    "Mokant daugybos lentelę darbinės atminties krūvį galime sumažinti $43 × 7 = 280 + 21 = 301$, todėl informacijos apdorojimas\n",
    "greitesnis yra pakankamai mažos apimties, kad būtų galima mintinai gauti atsakymą. Tuo tarpu, jei užmirštume $3\\times 7 = 21$, tai galėtume pasakyti, kad \n",
    "$43 × 7 = 280 + 3\\times 7$, tačiau informacijos būtų per daug norint mintinai užbaigti procesą (reikėtų skaičiuotuvo, popieriaus). \n",
    "* **Kaip sumažinti žioplų klaidų savo sprendimuose?**\n",
    "Trumpalaikis sprendimas: sprendimą stengtis suskaidyti į atskiras dalis, į kiekvieną jų įtraukiant laiką rašymui ir pasitikrinimui. Ilgalaikis sprendimas: praktikuotis, kol sprendimas tampa savaiminiu procesu\n",
    "* **Kaip paspartinti mokymąsi spresti uždavinius?**\n",
    "Iš pradžių patiriame išspręsto uždavinio efektą. T.y. nagrinėti išspręstą uždavinį yra produktyviau, nei spręsti pačiam. \n",
    "Po to patiriame kompetencijos pasikeitimo efektą - negalime sparčiai daryti progreso naujos informacijos įsisavinime, todėl spręsti pačiam tampa būtina.\n",
    "\n",
    "### Kas įeina į matematinį supratimą?\n",
    "* Objektų savybių pažinimas: vizuali ar dinamiškai vizuali informacija, gebėjimas atskirti objektų, tokių kaip lentelės ar tiriamos situacijos, savybes, panašumus, skirtumus. Kalbos priemonių naudojimas, sąvokų naudojimas\n",
    "* Operacijų savybių pažinimas: procesų darymas, kol tai tampa atminties neapkraunančiu veiksmu. Jis reikalingas, kad informacija pereitų (gal būt kelis) kompresijos etapus, kurie reikalingi norint medžiagą suprasti pilnai ir pasitikėti.\n",
    "\n",
    "### Iš ko susideda sugebėjimas mąstyti matematiškai?\n",
    "* Faktinės žinios - daugybos lentelė, veiksmų rezultatai, formulės, sąvokų, taisyklių apibrėžimai.\n",
    "* Sąvokinės žinios - gebėjimas operuoti sąvokomis, kurios yra atminties chunkai, susikompresavę iš pakartotinio procedūrų naudojimo. Pilnos žinios - gebėjimas operuoti sąvokomis naujose situacijose.\n",
    "* Procedūrinės žinios - vien gebėjimas taikyti procedūras, žingsnis po žingsnio.\n",
    "* Metakognityvinės žinios - bendras suvokimas apie mąstymo procesus bei apie sprendimų strateginį išdėliojimą"
   ]
  },
  {
   "cell_type": "markdown",
   "metadata": {},
   "source": [
    "### Kaip reikėtų žiūrėti į kiekvieną uždavinį\n",
    "Dirbant su tam tikra tema, reikėtų atskirai užsirašyti taisykles, kurias reikėjo taikyti\n",
    "![](neuro_output.PNG)"
   ]
  },
  {
   "cell_type": "markdown",
   "metadata": {},
   "source": [
    "## Resursai\n",
    "* [Analizės vadovėlis su sprendimais](https://tutorial.math.lamar.edu)\n",
    "* [Mano bandymas apibendrinti ribų uždavinius](ribos.pdf)\n",
    "* Patarimai kaip mokytis matematiką ir kitus dalykus\n",
    "* [grafikų vaizdavimas online](https://www.desmos.com/calculator)\n",
    "* [Online skaičiuoklė](https://www.wolframalpha.com)"
   ]
  },
  {
   "cell_type": "markdown",
   "metadata": {},
   "source": [
    "## Kaip naudotis WolframAlpha skaičiuokle\n",
    "* [$\\frac{115.94 - 120}{12.277 / 4}$](https://www.wolframalpha.com/input/?i=%28115.94+-+120%29%2F%2812.277+%2F+4%29)\n",
    "* [$\\frac{(10 - 10.5)^2 + (7 - 10.5)^2 + (14 - 10.5)^2 + (12 - 10.5)^2 + (11 - 10.5)^2 + (9-10.5)^2}{5}$](https://www.wolframalpha.com/input/?i=%28%2810+-+10.5%29%5E2+%2B+%287+-+10.5%29%5E2+%2B+%2814+-+10.5%29%5E2+%2B+%2812+-+10.5%29%5E2+%2B+%2811+-+10.5%29%5E2+%2B+%289-10.5%29%5E2%29%2F5)\n",
    "* [$\\sqrt{6}$](https://www.wolframalpha.com/input/?i=6%5E0.5)"
   ]
  },
  {
   "cell_type": "markdown",
   "metadata": {},
   "source": [
    "## Ką mokomės\n",
    "\n",
    "![](sam1.PNG)\n",
    "\n",
    "![](sam2.PNG)\n",
    "\n",
    "![](sam3.PNG)"
   ]
  },
  {
   "cell_type": "markdown",
   "metadata": {},
   "source": [
    "### Taisyklės, kurių reikės\n",
    "\n",
    "* $\\sin(x) \\to x$, kai $x\\to 0$\n",
    "* $\\ln(1+x) \\to x$, kai $x\\to 0$ $\\Rightarrow 1+x \\to e^x$\n",
    "* $\\sin^2(x)+\\cos^2(x) = 1$\n",
    "* $\\frac{\\sin(x)}{\\cos(x)}=\\text{tg}(x)$\n",
    "* [Lopitalio taisyklė](https://en.wikipedia.org/wiki/L%27Hôpital%27s_rule)\n",
    "* Sujungimai? Šiokia tokia nuoroda bus [čia](https://github.com/loijord/matematikos_pamokos/blob/master/programa/Mantas/Projektas2/dauginimas.pdf)"
   ]
  },
  {
   "cell_type": "code",
   "execution_count": null,
   "metadata": {},
   "outputs": [],
   "source": []
  }
 ],
 "metadata": {
  "kernelspec": {
   "display_name": "Python 3",
   "language": "python",
   "name": "python3"
  },
  "language_info": {
   "codemirror_mode": {
    "name": "ipython",
    "version": 3
   },
   "file_extension": ".py",
   "mimetype": "text/x-python",
   "name": "python",
   "nbconvert_exporter": "python",
   "pygments_lexer": "ipython3",
   "version": "3.8.3"
  }
 },
 "nbformat": 4,
 "nbformat_minor": 4
}
