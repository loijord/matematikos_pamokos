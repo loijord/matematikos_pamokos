{
 "cells": [
  {
   "cell_type": "markdown",
   "metadata": {},
   "source": [
    "## Pradžia"
   ]
  },
  {
   "cell_type": "markdown",
   "metadata": {},
   "source": [
    "### Keletas komandų\n",
    "Apmokysiu Pitoną keletą komandų, kad būtų lengviau dirbti"
   ]
  },
  {
   "cell_type": "code",
   "execution_count": 52,
   "metadata": {},
   "outputs": [],
   "source": [
    "import numpy as np\n",
    "import matplotlib.pyplot as plt\n",
    "\n",
    "def std(x):\n",
    "    return np.std(x)\n",
    "\n",
    "def mean(x):\n",
    "    return np.mean(x)\n",
    "\n",
    "\n",
    "def brėžk_skirstinį(x):  \n",
    "    plt.figure(figsize = (20, 5))\n",
    "    n, bins, patches = plt.hist(x=x, bins='auto', color='#0504aa',\n",
    "                            alpha=0.7, rwidth=0.95)\n",
    "\n",
    "    plt.grid(axis='y', alpha=0.75)\n",
    "    plt.xlabel('Value')\n",
    "    plt.ylabel('Frequency')\n",
    "    plt.title(f'$X \\sim N({round(mean(x),3)}, {round(std(x),3)})$', fontsize=20) #\\mu= \\sigma=\n",
    "    maxfreq = n.max()\n",
    "    # Set a clean upper y-axis limit.\n",
    "    plt.ylim(ymax=np.ceil(maxfreq / 10) * 10 if maxfreq % 10 else maxfreq + 10)\n",
    "    plt.show()\n",
    "    \n",
    "def duok_skirstinį(size, miu, sigma, ints=True):\n",
    "    sk = sigma*np.random.randn(size) + miu\n",
    "    if ints:\n",
    "        return sk.astype(int)\n",
    "    else:\n",
    "        return sk"
   ]
  },
  {
   "cell_type": "markdown",
   "metadata": {},
   "source": [
    "Normaliojo skirstinio sugeneravimo pavyzdys:"
   ]
  },
  {
   "cell_type": "code",
   "execution_count": 39,
   "metadata": {},
   "outputs": [
    {
     "data": {
      "text/plain": [
       "array([170, 177, 153, 183, 164, 160, 175, 159, 168, 162, 173, 170, 169,\n",
       "       163, 179, 172, 197, 168, 173, 191])"
      ]
     },
     "execution_count": 39,
     "metadata": {},
     "output_type": "execute_result"
    }
   ],
   "source": [
    "seka = duok_skirstinį(size = 20, miu = 170, sigma = 10)\n",
    "seka"
   ]
  },
  {
   "cell_type": "markdown",
   "metadata": {},
   "source": [
    "Kaip skaičiuoti sekos vidurkį ir std:"
   ]
  },
  {
   "cell_type": "code",
   "execution_count": 45,
   "metadata": {},
   "outputs": [
    {
     "data": {
      "text/plain": [
       "(171.3, 10.368702908271603)"
      ]
     },
     "execution_count": 45,
     "metadata": {},
     "output_type": "execute_result"
    }
   ],
   "source": [
    "mean(seka), std(seka)"
   ]
  },
  {
   "cell_type": "markdown",
   "metadata": {},
   "source": [
    "Kaip gaminti sekas rankomis:"
   ]
  },
  {
   "cell_type": "code",
   "execution_count": null,
   "metadata": {},
   "outputs": [],
   "source": [
    "X1 = [1, 2, 3]\n",
    "X2 = [2, 3, 5]\n",
    "X3 = [2, 3, 5, 3]"
   ]
  },
  {
   "cell_type": "markdown",
   "metadata": {},
   "source": [
    "Netobulos histogramos pavyzdys:"
   ]
  },
  {
   "cell_type": "code",
   "execution_count": 57,
   "metadata": {},
   "outputs": [
    {
     "data": {
      "image/png": "[encoded data removed]",
      "text/plain": [
       "<Figure size 1440x360 with 1 Axes>"
      ]
     },
     "metadata": {
      "needs_background": "light"
     },
     "output_type": "display_data"
    }
   ],
   "source": [
    "brėžk_skirstinį(duok_skirstinį(size = 2000, miu = 170, sigma = 10))"
   ]
  },
  {
   "cell_type": "markdown",
   "metadata": {},
   "source": [
    "### std skaičiavimo hintai:"
   ]
  },
  {
   "cell_type": "code",
   "execution_count": 62,
   "metadata": {},
   "outputs": [],
   "source": [
    "def vidurkis(X):\n",
    "    return np.mean(X)\n",
    "\n",
    "def nuokrypiai_nuo_vidurkio(X):\n",
    "    return np.abs(X - np.mean(X))\n",
    "\n",
    "def nuokrypių_kvadratai(X):\n",
    "    return (X - np.mean(X))**2\n",
    "\n",
    "def nuokrypių_kvadratų_suma(X):\n",
    "    return np.sum((X - np.mean(X))**2)\n",
    "\n",
    "def dalinti(X):\n",
    "    return np.sum((X - np.mean(X))**2)/(len(X) - 1)\n",
    "\n",
    "def šaknis(X):\n",
    "    return np.sqrt(np.sum((X - np.mean(X))**2)/(len(X) - 1))"
   ]
  },
  {
   "cell_type": "code",
   "execution_count": 65,
   "metadata": {},
   "outputs": [
    {
     "data": {
      "text/plain": [
       "array([169, 169, 172, 169, 168, 169, 170, 170, 170, 170])"
      ]
     },
     "execution_count": 65,
     "metadata": {},
     "output_type": "execute_result"
    }
   ],
   "source": [
    "duok_skirstinį(size = 10, miu = 170, sigma = 1)"
   ]
  },
  {
   "cell_type": "markdown",
   "metadata": {},
   "source": [
    "### Lentelės, kuriomis remtis:\n",
    "\n",
    "[](lentele_za.PNG)\n",
    "[](lentele_stju.PNG)\n",
    "[](lentele_ksi.PNG)"
   ]
  },
  {
   "cell_type": "markdown",
   "metadata": {},
   "source": [
    "![](lentele_za.png)"
   ]
  },
  {
   "cell_type": "code",
   "execution_count": null,
   "metadata": {},
   "outputs": [],
   "source": []
  }
 ],
 "metadata": {
  "kernelspec": {
   "display_name": "Python 3",
   "language": "python",
   "name": "python3"
  },
  "language_info": {
   "codemirror_mode": {
    "name": "ipython",
    "version": 3
   },
   "file_extension": ".py",
   "mimetype": "text/x-python",
   "name": "python",
   "nbconvert_exporter": "python",
   "pygments_lexer": "ipython3",
   "version": "3.8.3"
  }
 },
 "nbformat": 4,
 "nbformat_minor": 4
}
