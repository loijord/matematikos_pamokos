{
 "cells": [
  {
   "cell_type": "markdown",
   "metadata": {},
   "source": [
    "### Lentelės, kuriomis remtis:\n",
    "\n",
    "[](lentele_za.PNG)\n",
    "[](lentele_stju.PNG)\n",
    "[](lentele_ksi.PNG)"
   ]
  },
  {
   "cell_type": "markdown",
   "metadata": {},
   "source": [
    "![](lentele_stju.PNG)\n",
    "![](lentele_za.PNG)\n",
    "![](lentele_ksi.PNG)"
   ]
  },
  {
   "cell_type": "markdown",
   "metadata": {},
   "source": [
    "## Absoliučiai visas skaičiavimas\n",
    "Kadangi skaičiuot su kalkuliatorium nesiseka, tai geriau naudot skaičiuokles, tokias kaip [WolframAlpha](www.wolframalpha.com/)\n",
    "* [$\\frac{115.94 - 120}{12.277 / 4}$](https://www.wolframalpha.com/input/?i=%28115.94+-+120%29%2F%2812.277+%2F+4%29)\n",
    "* [$\\frac{(10 - 10.5)^2 + (7 - 10.5)^2 + (14 - 10.5)^2 + (12 - 10.5)^2 + (11 - 10.5)^2 + (9-10.5)^2}{5}$](https://www.wolframalpha.com/input/?i=%28%2810+-+10.5%29%5E2+%2B+%287+-+10.5%29%5E2+%2B+%2814+-+10.5%29%5E2+%2B+%2812+-+10.5%29%5E2+%2B+%2811+-+10.5%29%5E2+%2B+%289-10.5%29%5E2%29%2F5)\n",
    "* [$\\sqrt{6}$](https://www.wolframalpha.com/input/?i=6%5E0.5)"
   ]
  },
  {
   "cell_type": "markdown",
   "metadata": {},
   "source": [
    "## Dispersijos skaičiavimas\n",
    "$S_1$ - šaknis iš patikslintos dispersijos. Patikslinta reiškia, kad kvadratų suma bus dalijama iš vienetu mažesnio.\n",
    "### S1 skaičiavimo hintai:\n",
    "* vidurkis\n",
    "* nuokrypiai nuo vidurkio\n",
    "* nuokrypių kvadratai\n",
    "* nuokrypių kvadratų suma\n",
    "* dalinti iš vienetu mažesnio imties dydžio\n",
    "* šaknis iš rezultato"
   ]
  },
  {
   "cell_type": "markdown",
   "metadata": {},
   "source": [
    "### Dispersijos skaičiavimo pavyzdžiai\n",
    "\n",
    "Pavyzdys 1. Duota imtis X = 4, 2, 5, 4, 6\n",
    "\n",
    "1. $\\frac{4 + 2 + 5 + 4 + 6}{5} = 4.2$\n",
    "2. $(4 - 4.2)^2 + (2 - 4.2)^2  + (5 - 4.2)^2  + (4 - 4.2)^2  + (6 - 4.2)^2 = 0.2^2+2.2^2+0.8^2+0.2^2+1.8^2 = 8.8$\n",
    "3. $\\frac{(4 - 4.2)^2 + (2 - 4.2)^2  + (5 - 4.2)^2  + (4 - 4.2)^2  + (6 - 4.2)^2}{4} = 2.2$ - Gavome **patikslintą** dispersiją\n",
    "4. Jei reikia rasti $S_1$, tai $S_1 = \\sqrt{2.2} \\approx 1.5$"
   ]
  },
  {
   "cell_type": "markdown",
   "metadata": {},
   "source": [
    "Pavyzdys 2. Duota imtis X = 4,4,4,4,4,4, 5,5,5,5,5,5,5,5,5,5, 6,6,6,6,6,6\n",
    "\n",
    "1. $\\frac{4 \\times 6 + 5 \\times 10 + 6 \\times 6}{22} = 110/22=5$\n",
    "2. $1^2 \\times 6 + 0^2 \\times 10 + 1^2 \\times 6 = 12$\n",
    "3. $12/21 = 0.571$\n",
    "4. Jei reikia rasti $S_1$, tai $S_1 = \\sqrt{0.571} \\approx 0.756$"
   ]
  },
  {
   "attachments": {},
   "cell_type": "markdown",
   "metadata": {},
   "source": [
    "## Hipotezė apie vidurkio lygybę skaičiui, kai dispersija nežinoma.\n",
    "**Kai tikriname hipotezes, reikia vengti išvadų kaip pavyzdžiui, nulinė hipotezė teisinga arba nulinė hipotezė priimama. Geriau formuluoti taip: nėra pagrindo atmesti nulinę hipotezę, arba imties duomenys neprieštarauja nulinei hipotezei, susilaikant nuo galutinio sprendimo.**\n",
    "\n",
    "**Hipotezės matematinis užrašymas:**\n",
    "\n",
    "$\\begin{cases} H_0: \\mu = a \\\\ H_1: \\mu \\neq a \\end{cases}$\n",
    "\n",
    "**Statistinio kriterijaus statistika:** $$T = \\frac{\\overline{X} - a}{S_1 / \\sqrt{n}}$$\n",
    "\n",
    "$\\overline{X}$ - imties vidurkis\n",
    "\n",
    "$a$ - vidurkis, nurodytas hipotezėje\n",
    "\n",
    "$S_1$ - imties patikslintas kvadratinis nuokrypis\n",
    "\n",
    "$n$ - imties dydis\n",
    "\n",
    "**Kritinės sritis W:** \n",
    "\n",
    "Kritinė sritis atrodo taip:\n",
    "\n",
    "![](intervalai_stju.png)\n",
    "\n",
    "Jos kraštai priklauso nuo alternatyvos rūšies:\n",
    "\n",
    "* Dvipusė alternatyva: $-t_{\\alpha/2}(n-1)$ ir $t_{\\alpha/2}(n-1)$\n",
    "\n",
    "* Vienpusė alternatyva: $-t_{\\alpha}(n-1)$ arba $t_{\\alpha}(n-1)$"
   ]
  },
  {
   "cell_type": "markdown",
   "metadata": {},
   "source": [
    "**Pavyzdys 1.** Patikrinus 16 atsitiktinai parinktų auditorijos studentų sistolinį\n",
    "kraujo spaudimą, gauti tokie rezultatai: $$X = [120, 115, 125, 110, 100, 120, 130, 110, 140, 125, 115, 100, 90, 120, 115, 120]$$ Esant reikšmingumo lygmeniui $\\alpha = 0.05$, patikrinkite hipotezę $\\begin{cases} H_0: \\mu = 120 \\\\ H_1: \\mu \\neq 120 \\end{cases}$"
   ]
  },
  {
   "cell_type": "markdown",
   "metadata": {},
   "source": [
    "**Sprendimas**\n",
    "\n",
    "$\\overline{X} = \\frac{120 + 115 + 125 + 110 + 100 + 120 + 130 + 110 + 140 + 125 + 115 + 10 + 90 + 120 + 115 + 120}{16} = 115.94$\n",
    "\n",
    "$a = 120$\n",
    "\n",
    "$S_1 = \\sqrt{150.73} = 12.277$\n",
    "\n",
    "$n = 16$\n",
    "\n",
    "1. Pagal duotą formulę $T = \\frac{\\overline{X} - a}{S_1 / \\sqrt{n}} = \\frac{115.94 - 120}{12.277 / 4}= \\boxed{- 1.32}$ \n",
    "2. $\\alpha/2 = 0.05/2 = 0.025$\n",
    "3. $t_{0.025}(15) = 2.131$  \n",
    "4. $W = (-\\infty, -2.131) \\bigcup (2.131, +\\infty)$\n",
    "5. $\\boxed{- 1.32}$ nepriklauso $W$, vadinasi hipotezė neatmetama (sistolinis kraujo spaudimas nesiskiria nuo normos)."
   ]
  },
  {
   "cell_type": "markdown",
   "metadata": {},
   "source": [
    "**Pavyzdys 2.** Duota imtis $X = [10, 7, 14, 12, 11, 9]$. Patikrinti hipotezę, kad įprastinis imties vidurkis būna 12, kai reikšmingumo lygmuo yra $\\alpha = 0.05$"
   ]
  },
  {
   "cell_type": "markdown",
   "metadata": {},
   "source": [
    "**Sprendimas**\n",
    "\n",
    "$\\overline{X} = \\frac{10 + 7 + 14 + 12 + 11 + 9}{6} = \\frac{63}{6} = 10.5$\n",
    "\n",
    "$a = 12$\n",
    "\n",
    "$S_1 = \\sqrt{\\frac{(10 - 10.5)^2 + (7 - 10.5)^2 + (14 - 10.5)^2 + (12 - 10.5)^2 + (11 - 10.5)^2 + (9-10.5)^2}{5}} = \\sqrt{\\frac{29.5}{5}} = \\sqrt{5.9} = 2.43$\n",
    "\n",
    "$n = 6$\n",
    "\n",
    "$\\sqrt{n} = \\sqrt{6} = 2.45$\n",
    "\n",
    "1. Pagal duotą formulę $T = \\frac{\\overline{X} - a}{S_1 / \\sqrt{n}} = \\frac{10.5 - 12}{2.43 / 2.45}= \\boxed{- 1.51}$ \n",
    "2. $\\alpha/2 = 0.05/2 = 0.025$\n",
    "3. $t_{0.025}(5) = 2.57$  \n",
    "4. $W = (-\\infty, -2.57) \\bigcup (2.57, +\\infty)$\n",
    "5. $\\boxed{- 1.51}$ nepriklauso $W$, vadinasi hipotezė neatmetama."
   ]
  },
  {
   "cell_type": "markdown",
   "metadata": {},
   "source": [
    "**Pavyzdys 3.** Dr. K.Kiškis pasiūlė meninę dietą \"graužiu ir liesėju\" (pertraukose tarp pagraužimų dainuojamos liaudies\n",
    "dainos). Jis teigia, kad ši dieta leidžia numesti vidutiniškai po 5 kg svorio per pirmąjį mėnesį. Dešimt savanorių\n",
    "išbandė naująją dietą. Per mėnesį jie numetė atitinkamai $[3, 2, 5, 6, 7, 4, 2, 3, 0, 6]$ kg svorio. Ar duomenys\n",
    "neprieštarauja iškeltai hipotezei? $\\alpha = 0.01$"
   ]
  },
  {
   "cell_type": "markdown",
   "metadata": {},
   "source": [
    "**Sprendimas**\n",
    "\n",
    "$\\overline{X} = \\frac{3+2+5+6+7+4+2+3+0+6}{10} = \\frac{38}{10} = 3.8$\n",
    "\n",
    "$a = 5$\n",
    "\n",
    "$S_1 = \\sqrt{\\frac{(3-3.8)^2 + (2-3.8)^2 + (5-3.8)^2 + (6-3.8)^2 + (7-3.8)^2 + (4-3.8)^2 + (2-3.8)^2 + (3-3.8)^2 + (0-3.8)^2 + (6-3.8)^2}{9}} = \\sqrt{\\frac{0.64 + 3.24 + 1.44 + 4.84 + 10.24 + 0.04 + 3.24 + 0.64 + 14.44 + 4.84}{9}} = \\sqrt{\\frac{43.6}{9}} = 2.201$\n",
    "\n",
    "$n = 10$\n",
    "\n",
    "$\\sqrt{n} = \\sqrt{10} = 3.162$\n",
    "\n",
    "0. Būtų gerai parašyti, kad tikrinama hipotezė $\\begin{cases} H_0: \\mu = 5 \\\\ H_1: \\mu < 5 \\end{cases}$\n",
    "1. Pagal duotą formulę $T = \\frac{\\overline{X} - a}{S_1 / \\sqrt{n}} = \\frac{3.8 - 5}{2.201 / 3.162}= \\boxed{-1.724}$ \n",
    "2. $\\alpha = 0.01$ (alternatyvi hipotezė vienpusė, pirmas kraštas)\n",
    "3. $t_{0.01}(9) = 2.821$  \n",
    "4. $W = (-\\infty, -2.821)$\n",
    "5. $\\boxed{-1.724}$ nepriklauso $W$, vadinasi duomenys neprieštarauja."
   ]
  },
  {
   "cell_type": "markdown",
   "metadata": {},
   "source": [
    "**Pavyzdys 4.** Statistikos profesorius keletą metų egzaminams naudoja\n",
    "tą patį 100 balų testą. Daugelio metų rezultatų vidurkis\n",
    "yra 78,3 balo. Šių metų 49 studentų testo rezultatų imties\n",
    "vidurkis yra 85 balai, standartinis nuokrypis 10 balų. Ar\n",
    "duomenys patvirtina hipotezę, kad užduotis „nutekėjo“?\n",
    "$\\alpha =0.05$"
   ]
  },
  {
   "cell_type": "markdown",
   "metadata": {},
   "source": [
    "**Sprendimas**\n",
    "\n",
    "$\\overline{X} = 85$\n",
    "\n",
    "$a = 78.3$\n",
    "\n",
    "$S_1 = 10$\n",
    "\n",
    "$n = 49$\n",
    "\n",
    "0. Būtų gerai parašyti, kad tikrinama hipotezė $\\begin{cases} H_0: \\mu = 78.3 \\\\ H_1: \\mu > 78.3 \\end{cases}$ (nulinė hipotezė bus kad užduotis nenutekėjo, kitaip nei klausia sąlygoje)\n",
    "1. Pagal duotą formulę $T = \\frac{\\overline{X} - a}{S_1 / \\sqrt{n}} = \\frac{85 - 78.3}{10 / \\sqrt{49}}= \\boxed{4.69}$ \n",
    "2. $\\alpha = 0.01$ (alternatyvi hipotezė vienpusė, antras kraštas)\n",
    "3. $t_{0.05}(48) = 1.667$  \n",
    "4. $W = (1.667, \\infty)$\n",
    "5. $\\boxed{4.69}$ priklauso $W$, nulinė hipotezė atmetama, vadinasi užduotis nutekėjo."
   ]
  },
  {
   "cell_type": "markdown",
   "metadata": {},
   "source": [
    "**Pavyzdys 5.**\n",
    "Duota hipotezė, kad žmogus savo gyvenimo kokybę vertina vidutiniškai. Taip pat duota jos alternatyva, kad respondentai savo gyvenimo kokybę vertina geriau arba blogiau, nei vidutiniškai. Patikrinkite ją vyrams, kai $\\alpha = 0.05$.\n",
    "\n",
    "Vyrų rezultatai: $[12, 13, 15, 11, 12, 14, 12, 15, 18, 15, 11, 13]$"
   ]
  },
  {
   "cell_type": "markdown",
   "metadata": {},
   "source": [
    "**Pavyzdys 6.**\n",
    "Kaip teigia ***Time Magazine***, vyrai knygų skaitymui skiria vidutiniškai po 23 minutes per dieną. Norint tuo įsitikinti, buvo išrinkta 25 vyrų imtis ir gauti tokie duomenys: $[35, 15, 15, 18, 24, 27, 19, 25, 20, 23, 27, 20, 19, 21, 25, 20, 27, 10, 21, 25, 20, 23, 28, 17]$. Ar šie duomenys neprieštarauja žurnalo teiginiui?"
   ]
  },
  {
   "cell_type": "markdown",
   "metadata": {},
   "source": [
    "**Pavyzdys 7.**\n",
    "Buvo matuojamas dviejų grupių fizinis pasiruošimas. Gauti duomenys: $X=[76, 71, 57, 49, 70, 69, 26, 65, 59]$ ir $Y=[81, 85, 52, 52, 70, 63, 33, 83]$. Nustatykite, ar abiejų grupių sportininkų fizinis pasiruošimas vienodas, jei žinoma, kad jis turi normalųjį skirstinį. $\\alpha=0.05.$"
   ]
  },
  {
   "cell_type": "markdown",
   "metadata": {},
   "source": [
    "**Pavyzdys 8.**\n",
    "Psichologas nori sužinoti, ar tikrai kasmet didėja studentų intelekto koeficientas, t.y., ar skiriasi dabartinių antrakursių intelekto koeficientas nuo ankstesnių. Prieš 10 metų antrakursių intelekto koeficientų vidurkis buvo $102$. Ištyrus $100$ antrakursių gauta $\\overline{X} = 105$, $s^2=23$. Tarkime, reikšmingumo lygmuo $\\alpha=0.05.$"
   ]
  },
  {
   "cell_type": "markdown",
   "metadata": {},
   "source": [
    "**Pavyzdys 9.** Švietimo ministerija nori žinoti, ar ištęstines studijas renkasi vis jaunesni žmonės. Prieš dešimtmetį vidutinis ištęstinių studijų studentų amžius buvo 35.6 metų. Atsitiktinai parinktų 20 studentų amžius: $[29, 38, 20, 24, 30, 32, 40, 34, 33, 32, 30, 28, 37, 35, 34, 39, 28, 40, 35, 32]$. Tarkime, reikšmingumo lygmuo $\\alpha=0.05.$ "
   ]
  },
  {
   "cell_type": "markdown",
   "metadata": {},
   "source": [
    "**Pavyzdys 10.** Norėdami optimizuoti batų gamybą batsiuviai apklausė 30-ies batų parduotuvių savininkus, kiek porų batų norės kiekviena parduotuvė per mėnesį. Paaiškėjo, kad per mėnesį parduotuvėms reikia $$[20, 40, 30, 38, 37, 42, 50, 42, 36, 37, 41, 47, 27, 42, 34, 22, 42, 32,40, 39, 44, 48, 40, 34, 35, 39, 45, 29, 40, 36]$$ batų porų. Ar gali batsiuviai tikėtis, kad viena parduotuvė vidutiniškai parduos ne mažiau kaip 40 batų porų per mėnesį? $\\alpha=0.05.$"
   ]
  },
  {
   "cell_type": "markdown",
   "metadata": {},
   "source": [
    "**Pavyzdys 11.** Švietimo ministerija nori žinoti, ar neakivaizdines studijas renkasi vis jaunesni žmonės. Prieš dešimtmetį vidutinis neakivaizdininkų amžius buvo 35,6 metų. Atsitiktinai parinktų 20 neakivaizdininkų amžius: \n",
    "\n",
    "$$[29,38,20,24,30,32,40,34,33,33,0,28,37,35,34,39,28,40,35,32]$$\n",
    "\n",
    "Reikšmingumo lygmuo 0.05. "
   ]
  },
  {
   "cell_type": "markdown",
   "metadata": {},
   "source": [
    "**Pavyzdys 12.** Pradėdami naujo bealkoholinio alaus gamybą, alaus daryklos savininkai nori žinoti jo poreikį. Apklausus 30 atsitiktinai parinktų prekybos tinklo „Trys paršeliai“ parduotuvių direktorių, paaiškėjo, kad per metus parduotuvėms reikia : $$[20,40,30,38,37,42,50,42,36,37,41,47,27,42,34,22,42,32,40,39,44,48,40,34,35,39,45,29,40,36]$$ tūkst. dekalitrų. Ar gali daryklos savininkas tikėtis, kad viena parduotuvė vidutiniškai sunaudos ne mažiau kaip 40 tūkst. dekalitrų naujojo produkto? (α=0,05)"
   ]
  },
  {
   "cell_type": "markdown",
   "metadata": {},
   "source": [
    "**Pavyzdys 13.** Psichologas nori patikrinti, ar nemiegota naktis stipriai sulėtina vairuotojų reakcijos greitį. Buvo atlikti 10 žmonių reakcijos matavimai (milisekundėmis) atitinkamai ryte po nemiegotos nakties ir išvakarėse:\n",
    "$$[(47, 44), (52, 45), (48, 43), (36, 29), (43, 37), (53, 46), (54, 51), (50, 47), (51, 45), (44, 38)]$$ Patikrinti hipotezę, kad po nakties reakcija reikšmingai sulėtėja. (α=0,01)"
   ]
  },
  {
   "cell_type": "markdown",
   "metadata": {},
   "source": [
    "**Pavyzdys 14.** Saulėtekyje ekonomikos fakultete yra liftas-ekspresas: nesvarbu, kokį mygtuką bespaustum, liftas be sustojimų kursuoja tik maršrutu : 1 aukštas – 7aukštas. Psichologas pirmą rugsėjo savaitę važinėja liftu-ekspresu ir stebi fuksų reakciją. Jo išankstine nuomone du trečdaliai fuksų apsimes, kad važiuoja į 7 aukštą, o vienas iš trijų fuksų parodys nerimo žymes(pradės blaškytis po kabiną, maigyti mygtukus, spardyti duris, keiktis). Ištyrus 130 studentų, nustatyta, kad 60 iš jų parodė nerimo žymes, o 70 buvo ramūs. Ar duomenys patvirtina psichologo nuomonę?"
   ]
  },
  {
   "cell_type": "markdown",
   "metadata": {},
   "source": [
    "**Pavyzdys 15.** Vienas dėstytojas reklamuoja tokią gripo profilaktiką: ryte išgerti imbiero arbatos ir užkąsti česnaku. Dalis dėstytojų išbandė šį metodą, dalis ne. Ar metodas tikrai padeda?\n",
    "\n",
    "![](uzdlent.PNG)"
   ]
  },
  {
   "cell_type": "markdown",
   "metadata": {},
   "source": [
    "**Netikslumai skaidrėse**\n",
    "\n",
    "1. $T = \\frac{3.8 - 5}{2.201 / 3.162} \\neq -0.172$\n",
    "2. Paskutinėje užduotyje klausia, ar duomenys patvirtina hipotezę, kad užduotis „nutekėjo“. Sprendime tikrina priešingą hipotezę ir gauna, kad ji atmetama. T.y. atmeta, kad užduotis nenutekėjo."
   ]
  },
  {
   "cell_type": "markdown",
   "metadata": {},
   "source": [
    "### Hipotezė apie dispersijos lygybę skaičiui, kai vidurkis nežinomas.\n",
    "**Hipotezės matematinis užrašymas:**\n",
    "\n",
    "$\\begin{cases} H_0: \\sigma^2 = a \\\\ H_1: \\sigma^2 \\neq a \\end{cases}$\n",
    "\n",
    "**Statistinio kriterijaus statistika:** $$T = \\frac{n-1}{a} S_1^2$$\n",
    "\n",
    "$a$ - $\\sigma^2$ reikšmė (dispersija), nurodyta hipotezėje\n",
    "\n",
    "$S_1$ - imties patikslintas kvadratinis nuokrypis\n",
    "\n",
    "$n$ - imties dydis\n",
    "\n",
    "**Kritinės srities W intervalo kraštai:** \n",
    "\n",
    "Kritinė sritis atrodo taip:\n",
    "\n",
    "![](intervalai_x.png)\n",
    "\n",
    "Jos kraštai priklauso nuo alternatyvos rūšies:\n",
    "\n",
    "Paprastoji hipotezė su dvipuse alternatyva: $X^2_{1 - \\alpha/2}(n-1)$ ir $X^2_{\\alpha/2}(n-1)$\n",
    "\n",
    "Paprastoji hipotezė su vienpuse alternatyva: $X^2_{1-\\alpha}(n-1)$ arba $X^2_{\\alpha}(n-1)$"
   ]
  },
  {
   "cell_type": "markdown",
   "metadata": {},
   "source": [
    "**Pavyzdys 1.** Firma, gaminanti svarstykles, teigia, kad svarstyklių parodymų paklaidų standartinis nuokrypis $\\sigma$ neviršija 3 gramų. Ištyrus 26 svarstykles buvo rasta, kad svarstyklių paklaidų empirinis standartinis nuokrypis lygus 4 gr. Ar galime teigti, kad firmos teiginys nepagrįstas? $\\alpha=0.05.$\n",
    "\n",
    "**Sprendimas**\n",
    "\n",
    "$a = \\sigma^2 = 9$\n",
    "\n",
    "$S_1 = 4$\n",
    "\n",
    "$n = 26$\n",
    "\n",
    "0. Būtų gerai parašyti, kad tikrinama hipotezė $\\begin{cases} H_0: \\sigma^2 = 9 \\\\ H_1: \\sigma^2 > 9 \\end{cases}$\n",
    "1. Pagal duotą formulę $T = \\frac{n-1}{a} \\times S_1^2 = \\frac{25}{9} \\times 4^2= \\boxed{44.44}$ \n",
    "2. $\\alpha = 0.05$ (alternatyvi hipotezė vienpusė, antras kraštas)\n",
    "3. $X^2_{0.05}(25) \\approx 37.65$  \n",
    "4. $W = (37.65, +\\infty)$\n",
    "5. $\\boxed{44.44}$ priklauso $W$. $H_0$ atmetama. Skirtumas tarp empirinės dispersijos ir\n",
    "hipotetinės dispersijos reikšmės negali būti paaiškintas imties atsitiktinumu."
   ]
  },
  {
   "cell_type": "markdown",
   "metadata": {},
   "source": [
    "**Pavyzdys 2.** Prieš pradėdamas nerimo ir baimės įveikos mokymus psichoterapeutas nori sudaryti moksleivių grupes iš populiacijos, kurios nerimastingumo lygio vidurkis būtų lygus 82 balai, o standartinis nuokrypis būtų lygus 6 balams. Vienos iš sudarytų grupių testo rezultatai yra: $$[85, 80, 91, 87, 73, 75, 84, 86, 67, 79, 92, 78, 81, 90]$$ (vidurkis lygus 82 balai). Ar galima manyti, kad ši grupė sudaryta iš populiacijos, kurios standartinis nuokrypis lygus 6 balams?"
   ]
  },
  {
   "cell_type": "code",
   "execution_count": 22,
   "metadata": {},
   "outputs": [
    {
     "name": "stdout",
     "output_type": "stream",
     "text": [
      "Object `nuomonę` not found.\n"
     ]
    }
   ],
   "source": [
    "**Pavyzdys 13.** Saulėtekyje ekonomikos fakultete yra liftas-ekspresas: nesvarbu, kokį mygtuką bespaustum, liftas be sustojimų kursuoja tik maršrutu : 1 aukštas – 7aukštas. Psichologas pirmą rugsėjo savaitę važinėja liftu-ekspresu ir stebi fuksų reakciją. Jo išankstine nuomone du trečdaliai fuksų apsimes, kad važiuoja į 7 aukštą, o vienas iš trijų fuksų parodys nerimo žymes(pradės blaškytis po kabiną, maigyti mygtukus, spardyti duris, keiktis). Ištyrus 130 studentų, nustatyta, kad 60 iš jų parodė nerimo žymes, o 70 buvo ramūs. Ar duomenys patvirtina psichologo nuomonę?"
   ]
  },
  {
   "cell_type": "code",
   "execution_count": 38,
   "metadata": {},
   "outputs": [
    {
     "data": {
      "text/plain": [
       "array([9.  , 2.25, 0.  , 2.25, 9.  ])"
      ]
     },
     "execution_count": 38,
     "metadata": {},
     "output_type": "execute_result"
    }
   ],
   "source": [
    "import matplotlib.pyplot as plt\n",
    "import numpy as np\n",
    "x = np.linspace(-3,3,5)\n",
    "x**2"
   ]
  },
  {
   "cell_type": "code",
   "execution_count": 39,
   "metadata": {},
   "outputs": [
    {
     "data": {
      "image/png": "[encoded data removed]",
      "text/plain": [
       "<Figure size 432x288 with 1 Axes>"
      ]
     },
     "metadata": {
      "needs_background": "light"
     },
     "output_type": "display_data"
    }
   ],
   "source": [
    "plt.scatter(x, x**2)\n",
    "plt.plot(x, x**2)\n",
    "plt.show()"
   ]
  },
  {
   "cell_type": "code",
   "execution_count": null,
   "metadata": {},
   "outputs": [],
   "source": []
  }
 ],
 "metadata": {
  "kernelspec": {
   "display_name": "Python 3",
   "language": "python",
   "name": "python3"
  },
  "language_info": {
   "codemirror_mode": {
    "name": "ipython",
    "version": 3
   },
   "file_extension": ".py",
   "mimetype": "text/x-python",
   "name": "python",
   "nbconvert_exporter": "python",
   "pygments_lexer": "ipython3",
   "version": "3.8.3"
  }
 },
 "nbformat": 4,
 "nbformat_minor": 4
}
