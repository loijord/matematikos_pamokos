{
 "cells": [
  {
   "cell_type": "markdown",
   "metadata": {},
   "source": [
    "## Kaip spręsti\n",
    "### Atminties teorijos taikymas matematikos mokymesi\n",
    "\n",
    "Perkrova įvyksta, jei darbinėje atmintyje bandome saugoti per daug\n",
    "informacijos. Krūvio sumažinimas - rėmimasis tuo, ką jau mokame.\n",
    "\n",
    "* **Ar verta mokytis daugybos lentelę?**\n",
    "Mokant daugybos lentelę darbinės atminties krūvį galime sumažinti $43 × 7 = 280 + 21 = 301$, todėl informacijos apdorojimas\n",
    "greitesnis yra pakankamai mažos apimties, kad būtų galima mintinai gauti atsakymą. Tuo tarpu, jei užmirštume $3\\times 7 = 21$, tai galėtume pasakyti, kad \n",
    "$43 × 7 = 280 + 3\\times 7$, tačiau informacijos būtų per daug norint mintinai užbaigti procesą (reikėtų skaičiuotuvo, popieriaus). \n",
    "* **Kaip sumažinti žioplų klaidų savo sprendimuose?**\n",
    "Trumpalaikis sprendimas: sprendimą stengtis suskaidyti į atskiras dalis, į kiekvieną jų įtraukiant laiką rašymui ir pasitikrinimui. Ilgalaikis sprendimas: praktikuotis, kol sprendimas tampa savaiminiu procesu\n",
    "* **Kaip paspartinti mokymąsi spresti uždavinius?**\n",
    "Iš pradžių patiriame išspręsto uždavinio efektą. T.y. nagrinėti išspręstą uždavinį yra produktyviau, nei spręsti pačiam. \n",
    "Po to patiriame kompetencijos pasikeitimo efektą - negalime sparčiai daryti progreso naujos informacijos įsisavinime, todėl spręsti pačiam tampa būtina.\n",
    "\n",
    "### Kas įeina į matematinį supratimą?\n",
    "* Objektų savybių pažinimas: vizuali ar dinamiškai vizuali informacija, gebėjimas atskirti objektų, tokių kaip lentelės ar tiriamos situacijos, savybes, panašumus, skirtumus. Kalbos priemonių naudojimas, sąvokų naudojimas\n",
    "* Operacijų savybių pažinimas: procesų darymas, kol tai tampa atminties neapkraunančiu veiksmu. Jis reikalingas, kad informacija pereitų (gal būt kelis) kompresijos etapus, kurie reikalingi norint medžiagą suprasti pilnai ir pasitikėti.\n",
    "\n",
    "### Iš ko susideda sugebėjimas mąstyti matematiškai?\n",
    "* Faktinės žinios - daugybos lentelė, veiksmų rezultatai, formulės, sąvokų, taisyklių apibrėžimai.\n",
    "* Sąvokinės žinios - gebėjimas operuoti sąvokomis, kurios yra atminties chunkai, susikompresavę iš pakartotinio procedūrų naudojimo. Pilnos žinios - gebėjimas operuoti sąvokomis naujose situacijose.\n",
    "* Procedūrinės žinios - vien gebėjimas taikyti procedūras, žingsnis po žingsnio.\n",
    "* Metakognityvinės žinios - bendras suvokimas apie mąstymo procesus bei apie sprendimų strateginį išdėliojimą\n",
    "\n",
    "### Mintino skaičiavimo lavinimas\n",
    "* [Nuoroda į žaidimą](https://miksike.lt) "
   ]
  },
  {
   "cell_type": "markdown",
   "metadata": {},
   "source": [
    "### Kas įeina į kursą\n",
    "\n",
    "* Apšilimas - dispersijos skaičiavimas\n",
    "* Hipotezė apie vidurkio lygybę skaičiui, kai dispersija nežinoma (5+7 uždaviniai)\n",
    "* Hipotezė apie dispersijos lygybę skaičiui, kai vidurkis nežinomas (1+1 uždavinys)\n",
    "* $\\chi^2$ suderinamumo kriterijus (4 uždaviniai)\n",
    "* $\\chi^2$ nepriklausomumo kriterijus (8 uždaviniai)\n",
    "* $\\chi^2$ homogeniškumo kriterijus (1 uždavinys)\n",
    "* Hipotezė apie dviejų dispersijų lygybę nepriklausomoms imtims (1 uždavinys)\n",
    "* Hipotezė apie dviejų dispersijų lygybę nepriklausomoms imtims (5 uždaviniai)\n",
    "* Hipotezė apie dviejų dispersijų lygybę priklausomoms imtims (3 uždaviniai)\n",
    "----------------------------------------\n",
    "* Pasikliautinieji intervalai (10 uždavinių), 3 potemės, bet labai lengvos.\n",
    "* Vilkoksono ženklų kriterijus priklausomoms imtims: mažų imčių atvejis + didelių imčių atvejis; \n",
    "* Mano-Vitnio-Vilkoksono rangų sumų kriterijus nepriklausomoms imtims: mažų imčių atvejis + didelių imčių atvejis.\n",
    "* ,,Specifiški SPSS testai:\" binominis testas; Hipotezė apie dviejų proporcijų lygybę\n",
    "* 4 pdf \n",
    "* 5 pdf \n",
    "* 7 pdf\n",
    "* Apsimokymas spręsti turėtus uždavinius su SPSS"
   ]
  },
  {
   "cell_type": "markdown",
   "metadata": {},
   "source": [
    "## Notes\n",
    "\n",
    "* Expected $\\approx$ hyphotetical\n",
    "* Observed $\\approx$ empirical\n",
    "* $\\mu_X \\approx \\overline{X}$\n",
    "* $\\sigma_X^2 \\approx S_X^2$\n",
    "* Why isn't statistics only a name of science but also a category of quantity?"
   ]
  },
  {
   "cell_type": "markdown",
   "metadata": {},
   "source": [
    "### Lentelės, kuriomis remtis:\n",
    "\n",
    "[](lentele_za.PNG)\n",
    "[](lentele_stju.PNG)\n",
    "[](lentele_ksi.PNG)\n",
    "[](lentele_fish.PNG)"
   ]
  },
  {
   "cell_type": "markdown",
   "metadata": {},
   "source": [
    "![](lentele_stju.PNG)\n",
    "![](lentele_za.PNG)\n",
    "![](lentele_ksi.PNG)\n",
    "![](lentele_fish.PNG)"
   ]
  },
  {
   "cell_type": "markdown",
   "metadata": {},
   "source": [
    "Reikėjo rasti 9 Fišerio skirstinio reikšmę septintoje eilutėje, bet jos nebuvo. Tai pavaizdavau, kaip atrodo reikšmės ir iš akies primečiau, kad $F(7, 9) = 3.68$."
   ]
  },
  {
   "cell_type": "code",
   "execution_count": 47,
   "metadata": {},
   "outputs": [
    {
     "data": {
      "image/png": "[encoded data removed]",
      "text/plain": [
       "<Figure size 432x288 with 1 Axes>"
      ]
     },
     "metadata": {
      "needs_background": "light"
     },
     "output_type": "display_data"
    }
   ],
   "source": [
    "import matplotlib.pyplot as plt\n",
    "X, Y = [1,2,3,4,5,6,8,10], [5.5914, 4.7374, 4.3468, 4.1203, 3.9715, 3.8660, 3.7257, 3.6365]\n",
    "plt.plot(X, Y)\n",
    "plt.scatter(X, Y)\n",
    "plt.scatter(9, 3.69, color='r')\n",
    "plt.plot([0,9], [3.68, 3.68], 'r--')\n",
    "plt.xlim(0.8,10.5)\n",
    "plt.show()"
   ]
  },
  {
   "cell_type": "markdown",
   "metadata": {},
   "source": [
    "## Absoliučiai visas skaičiavimas\n",
    "Kadangi skaičiuot su kalkuliatorium nesiseka, tai geriau naudot skaičiuokles, tokias kaip [WolframAlpha](www.wolframalpha.com/)\n",
    "* [$\\frac{115.94 - 120}{12.277 / 4}$](https://www.wolframalpha.com/input/?i=%28115.94+-+120%29%2F%2812.277+%2F+4%29)\n",
    "* [$\\frac{(10 - 10.5)^2 + (7 - 10.5)^2 + (14 - 10.5)^2 + (12 - 10.5)^2 + (11 - 10.5)^2 + (9-10.5)^2}{5}$](https://www.wolframalpha.com/input/?i=%28%2810+-+10.5%29%5E2+%2B+%287+-+10.5%29%5E2+%2B+%2814+-+10.5%29%5E2+%2B+%2812+-+10.5%29%5E2+%2B+%2811+-+10.5%29%5E2+%2B+%289-10.5%29%5E2%29%2F5)\n",
    "* [$\\sqrt{6}$](https://www.wolframalpha.com/input/?i=6%5E0.5)\n",
    "* vidurkio skaičiavimas: [mean {21.3, 38.4, 12.7, 41.6}](https://www.wolframalpha.com/input/?i=mean+%7B21.3%2C+38.4%2C+12.7%2C+41.6%7D)\n",
    "* dispersijos skaičiavimas: [variance {21.3, 38.4, 12.7, 41.6}](https://www.wolframalpha.com/input/?i=variance+%7B21.3%2C+38.4%2C+12.7%2C+41.6%7D)"
   ]
  },
  {
   "cell_type": "markdown",
   "metadata": {},
   "source": [
    "## Dispersijos skaičiavimas\n",
    "$S_1$ - šaknis iš patikslintos dispersijos. Patikslinta reiškia, kad kvadratų suma bus dalijama iš vienetu mažesnio.\n",
    "### S1 skaičiavimo hintai:\n",
    "* vidurkis\n",
    "* nuokrypiai nuo vidurkio\n",
    "* nuokrypių kvadratai\n",
    "* nuokrypių kvadratų suma\n",
    "* dalinti iš vienetu mažesnio imties dydžio\n",
    "* šaknis iš rezultato"
   ]
  },
  {
   "cell_type": "markdown",
   "metadata": {},
   "source": [
    "### Dispersijos skaičiavimo pavyzdžiai\n",
    "\n",
    "**Pavyzdys 1.** Duota imtis X = 4, 2, 5, 4, 6\n",
    "\n",
    "1. $\\frac{4 + 2 + 5 + 4 + 6}{5} = 4.2$\n",
    "2. $(4 - 4.2)^2 + (2 - 4.2)^2  + (5 - 4.2)^2  + (4 - 4.2)^2  + (6 - 4.2)^2 = 0.2^2+2.2^2+0.8^2+0.2^2+1.8^2 = 8.8$\n",
    "3. $\\frac{(4 - 4.2)^2 + (2 - 4.2)^2  + (5 - 4.2)^2  + (4 - 4.2)^2  + (6 - 4.2)^2}{4} = 2.2$ - Gavome **patikslintą** dispersiją\n",
    "4. Jei reikia rasti $S_1$, tai $S_1 = \\sqrt{2.2} \\approx 1.5$"
   ]
  },
  {
   "cell_type": "markdown",
   "metadata": {},
   "source": [
    "**Pavyzdys 2.** Duota imtis X = 4,4,4,4,4,4, 5,5,5,5,5,5,5,5,5,5, 6,6,6,6,6,6\n",
    "\n",
    "1. $\\frac{4 \\times 6 + 5 \\times 10 + 6 \\times 6}{22} = 110/22=5$\n",
    "2. $1^2 \\times 6 + 0^2 \\times 10 + 1^2 \\times 6 = 12$\n",
    "3. $12/21 = 0.571$\n",
    "4. Jei reikia rasti $S_1$, tai $S_1 = \\sqrt{0.571} \\approx 0.756$"
   ]
  },
  {
   "cell_type": "markdown",
   "metadata": {},
   "source": [
    "## Sumos žymėjimas \n",
    "\n",
    "Jis detaliai pristatytas [šioje nuorodoje](http://www.columbia.edu/itc/sipa/math/summation.html). Jo prireikia šiose formulėse:\n",
    "\n",
    "* $\\displaystyle\\sum_{i=1}^{n}x_{i}$\n",
    "* $\\displaystyle\\sum_{i=1}^{n}(x_{i} - m)^2$\n",
    "* $\\displaystyle\\sum_{i=1}^{I}\\sum_{i=1}^{J}\\frac{(O_{ij} - E_{ij})^2}{E_{ij}}$"
   ]
  },
  {
   "cell_type": "markdown",
   "metadata": {},
   "source": [
    "## Hipotezė apie vidurkio lygybę skaičiui, kai dispersija nežinoma.\n",
    "**Kai tikriname hipotezes, reikia vengti išvadų kaip pavyzdžiui, nulinė hipotezė teisinga arba nulinė hipotezė priimama. Geriau formuluoti taip: nėra pagrindo atmesti nulinę hipotezę, arba imties duomenys neprieštarauja nulinei hipotezei, susilaikant nuo galutinio sprendimo.**\n",
    "\n",
    "**Hipotezės matematinis užrašymas:** $\\begin{cases} H_0: \\mu = a \\\\ H_1: \\mu \\neq a \\end{cases}$\n",
    "\n",
    "**Statistinio kriterijaus statistika:** $\\displaystyle T = \\frac{\\overline{X} - a}{S_1 / \\sqrt{n}} \\Leftarrow\n",
    "\\begin{cases} \\overline{X} \\leftarrow \\text{imties vidurkis}\\\\ \n",
    "a \\leftarrow \\text{vidurkis, nurodytas hipotezėje}\\\\\n",
    "S_1 \\leftarrow \\text{šaknis iš patikslintos imties dispersijos}\\\\\n",
    "n \\leftarrow \\text{imties dydis} \\end{cases}$\n",
    "\n",
    "**Kritinė sritis W:** \n",
    "\n",
    "![](intervalai_stju.png)\n",
    "\n",
    "||Pirmas kraštas|Antras kraštas|\n",
    "|---|---|---|\n",
    "|Vienpusė alternatyva| $-t_{\\alpha}(n-1)$ | $t_{\\alpha}(n-1)$|\n",
    "|Dvipusė alternatyva| $-t_{\\alpha/2}(n-1)$ | $t_{\\alpha/2}(n-1)$|"
   ]
  },
  {
   "cell_type": "markdown",
   "metadata": {},
   "source": [
    "**Pavyzdys 1.** Patikrinus 16 atsitiktinai parinktų auditorijos studentų sistolinį\n",
    "kraujo spaudimą, gauti tokie rezultatai: $$X = [120, 115, 125, 110, 100, 120, 130, 110, 140, 125, 115, 100, 90, 120, 115, 120]$$ Esant reikšmingumo lygmeniui $\\alpha = 0.05$, patikrinkite hipotezę $\\begin{cases} H_0: \\mu = 120 \\\\ H_1: \\mu \\neq 120 \\end{cases}$"
   ]
  },
  {
   "cell_type": "markdown",
   "metadata": {},
   "source": [
    "**Sprendimas**\n",
    "\n",
    "$\\overline{X} = \\frac{120 + 115 + 125 + 110 + 100 + 120 + 130 + 110 + 140 + 125 + 115 + 10 + 90 + 120 + 115 + 120}{16} = 115.94$\n",
    "\n",
    "$a = 120$\n",
    "\n",
    "$S_1 = \\sqrt{150.73} = 12.277$\n",
    "\n",
    "$n = 16$\n",
    "\n",
    "1. Tikrinama hipotezė: $\\begin{cases} H_0: \\mu = 120 \\\\ H_1: \\mu \\neq 120 \\end{cases}$ (alternatyva dvipusė)\n",
    "2. $\\displaystyle T = \\frac{\\overline{X} - a}{S_1 / \\sqrt{n}} = \\frac{115.94 - 120}{12.277 / 4}= \\boxed{- 1.32}$ \n",
    "3. $\\alpha/2 = 0.05/2 = 0.025$; Kraštai: $-t_{0.025}(15) = -2.131$ ir $t_{0.025}(15) = 2.131$\n",
    "4. $W = (-\\infty, -2.131) \\bigcup (2.131, +\\infty)$\n",
    "5. $\\boxed{- 1.32}$ nepriklauso $W$, vadinasi hipotezė neatmetama (sistolinis kraujo spaudimas nesiskiria nuo normos)."
   ]
  },
  {
   "cell_type": "markdown",
   "metadata": {},
   "source": [
    "**Pavyzdys 2.** Duota imtis $X = [10, 7, 14, 12, 11, 9]$. Patikrinti hipotezę, kad įprastinis imties vidurkis būna 12, kai reikšmingumo lygmuo yra $\\alpha = 0.05$"
   ]
  },
  {
   "cell_type": "markdown",
   "metadata": {},
   "source": [
    "**Sprendimas**\n",
    "\n",
    "$\\overline{X} = \\frac{10 + 7 + 14 + 12 + 11 + 9}{6} = \\frac{63}{6} = 10.5$\n",
    "\n",
    "$a = 12$\n",
    "\n",
    "$S_1 = \\sqrt{\\frac{(10 - 10.5)^2 + (7 - 10.5)^2 + (14 - 10.5)^2 + (12 - 10.5)^2 + (11 - 10.5)^2 + (9-10.5)^2}{5}} = \\sqrt{\\frac{29.5}{5}} = \\sqrt{5.9} = 2.43$\n",
    "\n",
    "$n = 6$\n",
    "\n",
    "$\\sqrt{n} = \\sqrt{6} = 2.45$\n",
    "\n",
    "1. Tikrinama hipotezė: $\\begin{cases} H_0: \\mu = 12 \\\\ H_1: \\mu \\neq 12 \\end{cases}$ (alternatyva dvipusė)\n",
    "2. $\\displaystyle T = \\frac{\\overline{X} - a}{S_1 / \\sqrt{n}} = \\frac{10.5 - 12}{2.43 / 2.45} = \\boxed{- 1.51}$ \n",
    "3. $\\alpha/2 = 0.05/2 = 0.025$, Kraštai: $-t_{0.025}(5) = -2.57$ ir $t_{0.025}(5) = 2.57$  \n",
    "4. $W = (-\\infty, -2.57) \\bigcup (2.57, +\\infty)$\n",
    "5. $\\boxed{- 1.51}$ nepriklauso $W$, vadinasi hipotezė neatmetama."
   ]
  },
  {
   "cell_type": "markdown",
   "metadata": {},
   "source": [
    "**Pavyzdys 3.** Dr. K.Kiškis pasiūlė meninę dietą \"graužiu ir liesėju\" (pertraukose tarp pagraužimų dainuojamos liaudies\n",
    "dainos). Jis teigia, kad ši dieta leidžia numesti vidutiniškai po 5 kg svorio per pirmąjį mėnesį. Dešimt savanorių\n",
    "išbandė naująją dietą. Per mėnesį jie numetė atitinkamai $[3, 2, 5, 6, 7, 4, 2, 3, 0, 6]$ kg svorio. Ar duomenys\n",
    "neprieštarauja iškeltai hipotezei? $\\alpha = 0.01$"
   ]
  },
  {
   "cell_type": "markdown",
   "metadata": {},
   "source": [
    "**Sprendimas**\n",
    "\n",
    "$\\overline{X} = \\frac{3+2+5+6+7+4+2+3+0+6}{10} = \\frac{38}{10} = 3.8$\n",
    "\n",
    "$a = 5$\n",
    "\n",
    "$\\displaystyle S_1 = \\sqrt{\\frac{(3-3.8)^2 + (2-3.8)^2 + (5-3.8)^2 + (6-3.8)^2 + (7-3.8)^2 + (4-3.8)^2 + (2-3.8)^2 + (3-3.8)^2 + (0-3.8)^2 + (6-3.8)^2}{9}} = \\sqrt{\\frac{0.64 + 3.24 + 1.44 + 4.84 + 10.24 + 0.04 + 3.24 + 0.64 + 14.44 + 4.84}{9}} = \\sqrt{\\frac{43.6}{9}} = 2.2$\n",
    "\n",
    "$n = 10$\n",
    "\n",
    "$\\sqrt{n} = \\sqrt{10} = 3.16$\n",
    "\n",
    "1. Tikrinama hipotezė $\\begin{cases} H_0: \\mu = 5 \\\\ H_1: \\mu < 5 \\end{cases}$ (alternatyva vienpusė)\n",
    "2. $\\displaystyle T = \\frac{\\overline{X} - a}{S_1 / \\sqrt{n}} = \\frac{3.8 - 5}{2.2 / 3.16}= \\boxed{-1.72}$ \n",
    "3. $\\alpha = 0.01$, pirmas kraštas: $t_{0.01}(9) = 2.82$  \n",
    "4. $W = (-\\infty, -2.82)$\n",
    "5. $\\boxed{-1.72}$ nepriklauso $W$, vadinasi duomenys neprieštarauja."
   ]
  },
  {
   "cell_type": "markdown",
   "metadata": {},
   "source": [
    "**Pavyzdys 4.** Statistikos profesorius keletą metų egzaminams naudoja\n",
    "tą patį 100 balų testą. Daugelio metų rezultatų vidurkis\n",
    "yra 78,3 balo. Šių metų 49 studentų testo rezultatų imties\n",
    "vidurkis yra 85 balai, standartinis nuokrypis 10 balų. Ar\n",
    "duomenys patvirtina hipotezę, kad užduotis „nutekėjo“?\n",
    "$\\alpha =0.05$"
   ]
  },
  {
   "cell_type": "markdown",
   "metadata": {},
   "source": [
    "**Sprendimas**\n",
    "\n",
    "$\\overline{X} = 85$\n",
    "\n",
    "$a = 78.3$\n",
    "\n",
    "$S_1 = 10$\n",
    "\n",
    "$n = 49$\n",
    "\n",
    "* Tikrinama hipotezė $\\begin{cases} H_0: \\mu = 78.3 \\\\ H_1: \\mu > 78.3 \\end{cases}$ (nulinė hipotezė bus kad užduotis nenutekėjo, kitaip nei klausia sąlygoje)\n",
    "* Pagal duotą formulę $\\displaystyle T = \\frac{\\overline{X} - a}{S_1 / \\sqrt{n}} = \\frac{85 - 78.3}{10 / \\sqrt{49}}= \\boxed{4.69}$ \n",
    "* $\\alpha = 0.05$ (alternatyvi hipotezė vienpusė, antras kraštas)\n",
    "* $t_{0.05}(48) = 1.667$  \n",
    "* $W = (1.667, \\infty)$\n",
    "* $\\boxed{4.69}$ priklauso $W$, nulinė hipotezė atmetama, vadinasi užduotis nutekėjo."
   ]
  },
  {
   "cell_type": "markdown",
   "metadata": {},
   "source": [
    "**Pavyzdys 5.** Pedagogas tvirtina, kad vidutinis pavaduojančių mokytojų atlyginimas Pensilvanijos Alegenio apygardoje yra mažesnis nei 60$\\$$ per dieną. Sudaryta mokyklų imtis iš 8 atsitiktinių rajonų ir gauti atlyginimai doleriais per dieną: $[60, 56, 60, 55, 70, 55, 60, 55]$. Ar ji patvirtina pedagogo teiginį, kai $\\alpha = 0.1$?\n",
    "\n",
    "**Sprendimas.** \n",
    "\n",
    "$\\overline{X} = \\frac{60 + 56 + 60 + 55 + 70 + 55 + 60 + 55}{8} = 58.88$\n",
    "\n",
    "$a = 60$\n",
    "\n",
    "$\\displaystyle S_1 = \\sqrt{\\frac{(60-58.88)^2 + (56-58.88)^2 + (60-58.88)^2 + (55-58.88)^2 + (70-58.88)^2 + (55-58.88)^2 + (60-58.88)^2 + (55-58.88)^2}{7}}= \\sqrt{\\frac{1.25 + 8.29 + 1.25 + 15.05 + 123.65 + 15.05 + 1.25 + 15.05}{7}} = \\sqrt{25.84} = 5.08$\n",
    "\n",
    "$n = 8$; $\\sqrt{8} = 2.83$\n",
    "\n",
    "1. Tikrinama hipotezė $\\begin{cases} H_0: \\mu = 60 \\\\ H_1: \\mu < 60 \\end{cases}$ (alternatyva vienpusė)\n",
    "2. Pagal duotą formulę $\\displaystyle T = \\frac{\\overline{X} - a}{S_1 / \\sqrt{n}} = \\frac{58.88 - 60}{5.08 / 2.83} = \\boxed{-0.63}$ \n",
    "3. $\\alpha = 0.1$, kraštai: $-t_{0.05}(7) = -1.42$ ir $t_{0.05}(7) = 1.42$\n",
    "5. $W = (-\\infty, -1.42) \\bigcup (1.42, +\\infty)$\n",
    "5. $\\boxed{-0.63}$ nepriklauso $W$. Pedagogo teiginio negalima nei patvirtinti, nei paneigti."
   ]
  },
  {
   "cell_type": "markdown",
   "metadata": {},
   "source": [
    "**Pavyzdys 6.**\n",
    "Duota hipotezė, kad žmogus savo gyvenimo kokybę vertina vidutiniškai. Vidutiniu laikomas įvertis 12. Taip pat duota jos alternatyva, kad respondentai savo gyvenimo kokybę vertina geriau arba blogiau, nei vidutiniškai. Patikrinkite ją vyrams, kai $\\alpha = 0.05$.\n",
    "\n",
    "Vyrų rezultatai: $[12, 13, 15, 11, 12, 14, 12, 15, 18, 15, 11, 13]$"
   ]
  },
  {
   "cell_type": "markdown",
   "metadata": {},
   "source": [
    "**Pavyzdys 7.**\n",
    "Kaip teigia ***Time Magazine***, vyrai knygų skaitymui skiria vidutiniškai po 23 minutes per dieną. Norint tuo įsitikinti, buvo išrinkta 25 vyrų imtis ir gauti tokie duomenys: $[35, 15, 15, 18, 24, 27, 19, 25, 20, 23, 27, 20, 19, 21, 25, 20, 27, 10, 21, 25, 20, 23, 28, 17]$. Ar šie duomenys neprieštarauja žurnalo teiginiui? $\\alpha = 0.05$"
   ]
  },
  {
   "cell_type": "markdown",
   "metadata": {},
   "source": [
    "**Pavyzdys 8.**\n",
    "Psichologas nori sužinoti, ar tikrai kasmet didėja studentų intelekto koeficientas, t.y., ar skiriasi dabartinių antrakursių intelekto koeficientas nuo ankstesnių. Prieš 10 metų antrakursių intelekto koeficientų vidurkis buvo $102$. Ištyrus $100$ antrakursių gauta $\\overline{X} = 105$, $s^2=23$. Tarkime, reikšmingumo lygmuo $\\alpha=0.05.$"
   ]
  },
  {
   "cell_type": "markdown",
   "metadata": {},
   "source": [
    "**Pavyzdys 9.** Švietimo ministerija nori žinoti, ar ištęstines studijas renkasi vis jaunesni žmonės. Prieš dešimtmetį vidutinis ištęstinių studijų studentų amžius buvo 35.6 metų. Atsitiktinai parinktų 20 studentų amžius: $[29, 38, 20, 24, 30, 32, 40, 34, 33, 32, 30, 28, 37, 35, 34, 39, 28, 40, 35, 32]$. Tarkime, reikšmingumo lygmuo $\\alpha=0.05.$ "
   ]
  },
  {
   "cell_type": "markdown",
   "metadata": {},
   "source": [
    "**Pavyzdys 10.** Norėdami optimizuoti batų gamybą batsiuviai apklausė 30-ies batų parduotuvių savininkus, kiek porų batų norės kiekviena parduotuvė per mėnesį. Paaiškėjo, kad per mėnesį parduotuvėms reikia $$[20, 40, 30, 38, 37, 42, 50, 42, 36, 37, 41, 47, 27, 42, 34, 22, 42, 32,40, 39, 44, 48, 40, 34, 35, 39, 45, 29, 40, 36]$$ batų porų. Ar gali batsiuviai tikėtis, kad viena parduotuvė vidutiniškai parduos ne mažiau kaip 40 batų porų per mėnesį? $\\alpha=0.05.$"
   ]
  },
  {
   "cell_type": "markdown",
   "metadata": {},
   "source": [
    "**Pavyzdys 11.** Tyrėjas kelia hipotezę, kad vidutinis didžiausių JAV verslo įmonių pelnas yra didesnis nei 24 milijardai JAV dolerių. Atrinkta 50 bendrovių ir nustatytas jų pelnas (milijardais dolerių). Ar su $\\alpha = 0.05$ galime teigti, kad tyrėjo teiginiai pagrįsti?\n",
    "\n",
    "$X = [17, 122, 91, 44, 35, 61, 56, 46, 20, 32, 30, 28, 28, 20, 27, 29, 16, 16, 19, 15, 41, 38, 36, 15, 25, 31, 30, 19, 19, 19, 24, 16, 15, 15, 19, 25, 25, 18, 14, 15, 24, 23, 17, 17, 22, 22, 19, 20, 17, 20]$"
   ]
  },
  {
   "cell_type": "markdown",
   "metadata": {},
   "source": [
    "**Pavyzdys 12.** Pradėdami naujo bealkoholinio alaus gamybą, alaus daryklos savininkai nori žinoti jo poreikį. Apklausus 30 atsitiktinai parinktų prekybos tinklo „Trys paršeliai“ parduotuvių direktorių, paaiškėjo, kad per metus parduotuvėms reikia : $$[20,40,30,38,37,42,50,42,36,37,41,47,27,42,34,22,42,32,40,39,44,48,40,34,35,39,45,29,40,36]$$ tūkst. dekalitrų. Ar gali daryklos savininkas tikėtis, kad viena parduotuvė vidutiniškai sunaudos ne mažiau kaip 40 tūkst. dekalitrų naujojo produkto? (α=0,05)"
   ]
  },
  {
   "cell_type": "markdown",
   "metadata": {},
   "source": [
    "## Hipotezė apie dispersijos lygybę skaičiui, kai vidurkis nežinomas.\n",
    "**Hipotezės matematinis užrašymas:** $\\begin{cases} H_0: \\sigma^2 = a \\\\ H_1: \\sigma^2 \\neq a \\end{cases}$\n",
    "\n",
    "**Statistinio kriterijaus statistika:** $\\displaystyle T = \\frac{n-1}{a} S_1^2 \\Leftarrow \\begin{cases}\n",
    "a \\leftarrow \\text{dispersija }\\sigma^2\\text{, nurodyta hipotezėje} \\\\\n",
    "S_1 \\leftarrow \\text{imties standartinis nuokrypis} \\\\\n",
    "n \\leftarrow \\text{imties dydis} \\end{cases}$\n",
    "\n",
    "**Kritinė sritis W:** \n",
    "\n",
    "![](intervalai_x.png)\n",
    "\n",
    "||Pirmas kraštas|Antras kraštas|\n",
    "|---|---|---|\n",
    "|Vienpusė alternatyva| $X^2_{1 - \\alpha/2}(n-1)$ | $X^2_{\\alpha/2}(n-1)$|\n",
    "|Dvipusė alternatyva| $X_{1-\\alpha}(n-1)$ | $X^2_{\\alpha}(n-1)$|"
   ]
  },
  {
   "cell_type": "markdown",
   "metadata": {},
   "source": [
    "**Pavyzdys 1.** Firma, gaminanti svarstykles, teigia, kad svarstyklių parodymų paklaidų standartinis nuokrypis $\\sigma$ neviršija 3 gramų. Ištyrus 26 svarstykles buvo rasta, kad svarstyklių paklaidų empirinis standartinis nuokrypis lygus 4 gr. Ar galime teigti, kad firmos teiginys nepagrįstas? $\\alpha=0.05.$\n",
    "\n",
    "**Sprendimas**\n",
    "\n",
    "$a = \\sigma^2 = 9$\n",
    "\n",
    "$S_1 = 4$\n",
    "\n",
    "$n = 26$\n",
    "\n",
    "1. Tikrinama hipotezė $\\begin{cases} H_0: \\sigma^2 = 9 \\\\ H_1: \\sigma^2 > 9 \\end{cases}$ (alternatyva vienpusė)\n",
    "2. $\\displaystyle T = \\frac{n-1}{a} \\times S_1^2 = \\frac{25}{9} \\times 4^2 = \\boxed{44.44}$ \n",
    "3. $\\alpha = 0.05$, antras kraštas: $\\chi^2_{0.05}(25) \\approx 37.65$  \n",
    "4. $W = (37.65, +\\infty)$\n",
    "5. $\\boxed{44.44}$ priklauso $W$. $H_0$ atmetama. Skirtumas tarp empirinės dispersijos ir hipotetinės dispersijos reikšmės negali būti paaiškintas imties atsitiktinumu."
   ]
  },
  {
   "cell_type": "markdown",
   "metadata": {},
   "source": [
    "**Pavyzdys 2.** Prieš pradėdamas nerimo ir baimės įveikos mokymus psichoterapeutas nori sudaryti moksleivių grupes iš populiacijos, kurios nerimastingumo lygio vidurkis būtų lygus 82 balai, o standartinis nuokrypis būtų lygus 6 balams. Vienos iš sudarytų grupių testo rezultatai yra: $$[85, 80, 91, 87, 73, 75, 84, 86, 67, 79, 92, 78, 81, 90]$$ Duota, kad (85 + 80 + 91 + 87 + 73 + 75 + 84 + 86 + 67 + 79 + 92 + 78 + 81 + 90)/14 = 82. Ar galima manyti, kad ši grupė sudaryta iš populiacijos, kurios standartinis nuokrypis lygus 6 balams?"
   ]
  },
  {
   "cell_type": "markdown",
   "metadata": {},
   "source": [
    "**Sprendimas**\n",
    "\n",
    "$a = \\sigma^2 = 36$\n",
    "\n",
    "$S_1^2 = \\frac{(85-82)^2 + (80-82)^2 + (91-82)^2 + (87-82)^2 + (73-82)^2 + (75-82)^2 + (84-82)^2 + (86-82)^2 + (67-82)^2 + (79-82)^2 + (92-82)^2 + (78-82)^2 + (81-82)^2 + (90-82)^2}{13} = \\frac{9 + 4 + 81 + 25 + 81 + 49 + 4 + 16 + 225 + 9 + 100 + 16 + 1 + 64}{13}=684/13 \\approx 52.615$\n",
    "\n",
    "$n = 14$\n",
    "\n",
    "* Tikrinama hipotezė $\\begin{cases} H_0: \\sigma^2 = 36 \\\\ H_1: \\sigma^2 \\neq 36 \\end{cases}$\n",
    "* Pagal duotą formulę $\\displaystyle T = \\frac{n-1}{a} S_1^2 = \\frac{13}{36} \\times \\frac{684}{13} = \\boxed{19}$ \n",
    "* $1-\\alpha/2 = 0.975; \\alpha/2 = 0.025$ (alternatyvi hipotezė dvipusė)\n",
    "* $\\chi^2_{0.975}(13) \\approx 5.009, \\chi^2_{0.025}(13) \\approx 24.736$  \n",
    "* $W = (0, 5.009) \\bigcup (24.736, +\\infty)$\n",
    "* $\\boxed{19}$ nepriklauso $W$. $H_0$ neatmetama. Empirinė dispersija nuo hipotetinės dispersijos skiriasi statistiškai nereikšmingai."
   ]
  },
  {
   "cell_type": "markdown",
   "metadata": {},
   "source": [
    "## Hipotezė apie dviejų dispersijų lygybę nepriklausomoms imtims\n",
    "**Svarbu atkreipti dėmesį, kad imtys dažnai būna nevienodo dydžio, bet jos turi būti normalieji skirstiniai**\n",
    "\n",
    "$\\begin{cases}X\\text{ ir }Y\\leftarrow\\text{ tiriamos imtys}\\\\ \\sigma^2_X \\text{ ir } \\sigma^2_Y \\leftarrow\\text{ imčių dispersijos}\\\\ n\\text{ ir }m \\leftarrow\\text{ imčių dydžiai}\\end{cases}$\n",
    "\n",
    "**Hipotezės matematinis užrašymas:** $\\begin{cases} H_0: \\sigma^2_X = \\sigma^2_Y \\\\ H_1: \\sigma^2_X \\neq \\sigma^2_Y \\end{cases}$\n",
    "\n",
    "**Statistinio kriterijaus statistika ir kritinė sritis:**\n",
    "\n",
    "|Atvejis:----------|Statistika: ---------------------|Kritinė sritis: ---------------------|\n",
    "|---|---|---|\n",
    "|$\\sigma^2_X \\ge \\sigma^2_Y$| $\\displaystyle F = \\frac{\\sigma^2_X}{\\sigma^2_Y}$ | $\\displaystyle W=F_\\alpha(n−1,m−1);+\\infty)$|\n",
    "|$\\sigma^2_X < \\sigma^2_Y$| $\\displaystyle F = \\frac{\\sigma^2_Y}{\\sigma^2_X}$ | $\\displaystyle W=F_\\alpha(m−1,n−1);+\\infty)$|"
   ]
  },
  {
   "cell_type": "markdown",
   "metadata": {},
   "source": [
    "**Pavyzdys 1.** Laikydami, kad $\\alpha=0.05$, patikrinkite hipotezę, kad dviejų populiacijų dispersijos yra vienodos, naudodami pateiktų pavyzdžių duomenis. \n",
    "\n",
    "A imtis: $[63, 73, 80, 60, 86, 83, 70, 72, 82]$\n",
    "    \n",
    "B imtis: $[86, 93, 64, 82, 81, 75, 88, 63, 63]$\n"
   ]
  },
  {
   "cell_type": "markdown",
   "metadata": {},
   "source": [
    "## Hipotezė apie dviejų vidurkių lygybę nepriklausomoms imtims\n",
    "**Svarbu: šią hipotezę galima tikrinti tik tada, kai galioja ankstesnė hipotezė apie dviejų dispersijų lygybę**\n",
    "\n",
    "$\\begin{cases}X\\text{ ir }Y\\leftarrow\\text{ tiriamos imtys}\\\\ \\mu_X \\text{ ir } \\mu_Y \\leftarrow\\text{ imčių vidurkiai}\\end{cases}$\n",
    "\n",
    "**Hipotezės matematinis užrašymas:** $\\begin{cases} H_0: \\mu_X = \\mu_Y \\\\ H_1: \\mu_X \\neq \\mu_Y \\end{cases}$\n",
    "\n",
    "**Statistinio kriterijaus statistika:** $\\displaystyle T=\\frac{\\overline{X} - \\overline{Y}}{\\sqrt{(n-1)S_x^2+(m-1)S_y^2}}\\times \\sqrt{\\frac{mn(n+m-2)}{n+m}} \\Leftarrow \\begin{cases} \n",
    "\\overline{X}\\text{ ir }\\overline{Y} \\leftarrow \\text{imties vidurkiai}\\\\\n",
    "S_X\\text{ ir }S_Y \\leftarrow \\text{šaknis iš patikslintos imties dispersijos}\\\\\n",
    "n\\text{ ir }m \\leftarrow\\text{ imčių dydžiai} \\end{cases}$\n",
    "\n",
    "**Kritinė sritis:**\n",
    "![](intervalai_stju.png)\n",
    "\n",
    "||Pirmas kraštas ---|Antras kraštas ---|\n",
    "|:---|---|---|\n",
    "|**Vienpusė alternatyva** ($\\mu_X \\neq \\mu_Y$)| $-t_{\\alpha}(n+m-2)$ | $t_{\\alpha}(n+m-2)$|\n",
    "|**Dvipusė alternatyva** ($\\mu_X < \\mu_Y$ arba $\\mu_X > \\mu_Y$)| $-t_{\\alpha/2}(n+m-2)$ | $t_{\\alpha/2}(n+m-2)$|"
   ]
  },
  {
   "cell_type": "markdown",
   "metadata": {},
   "source": [
    "**Pavyzdys 1.** Ar tiriamo rajono jaunesnių ir vyresnių gyventojų bendroji gyvenimo kokybė skiriasi? $\\alpha = 0.05$. Darant tyrimą imtys suformuotos pagal dvi amžiaus grupes: \n",
    "* $X$ – iki 40 metų (1 amžiaus grupė) - $[15, 11, 15, 15, 11, 10, 8, 10]$\n",
    "* $Y$ – virš 40 metų (2 amžiaus grupė) - $[12, 13, 12, 14, 12, 18, 13, 13, 15, 11]$. \n",
    "\n",
    "**Sprendimas** \n",
    "\n",
    "$\\overline{X} = \\displaystyle\\frac{15 + 11 + 15 + 15 + 11 + 10 + 8 + 10}{8} = 11.88$\n",
    "\n",
    "$\\overline{Y} = \\displaystyle\\frac{12 + 13 + 12 + 14 + 12 + 18 + 13 + 13 + 15 + 11}{10} = 13.3$\n",
    "\n",
    "$\\sigma_X^2 = \\frac{(15-11.88)^2 + (11-11.88)^2 + (15-11.88)^2 + (15-11.88)^2 + (11-11.88)^2 + (10-11.88)^2 + (8-11.88)^2 + (10-11.88)^2}{7} = 7.55$\n",
    "\n",
    "$\\sigma_Y^2 = \\frac{(12-13.3)^2 + (13-13.3)^2 + (12-13.3)^2 + (14-13.3)^2 + (12-13.3)^2 + (18-13.3)^2 + (13-13.3)^2 + (13-13.3)^2 + (15-13.3)^2 + (11-13.3)^2}{9} = 4.01$\n",
    "\n",
    "Pirma patikriname hipotezę $\\begin{cases} H_0: \\sigma^2_X = \\sigma^2_Y \\\\ H_1: \\sigma^2_X \\neq \\sigma^2_Y \\end{cases}$, kad dispersijos lygios:\n",
    "\n",
    "* $\\sigma_X^2 > \\sigma_Y^2$, vadinasi $F = \\frac{\\sigma^2_X}{\\sigma^2_Y} = \\frac{7.55}{4.01} = \\boxed{1.88}$\n",
    "* $F_\\alpha(n-1, m-1) = F_{0.05}(7, 9) = 3.68$\n",
    "* $W = (3.68, +\\infty)$\n",
    "* $\\boxed{1.88}$ nepriklauso $W = (3.68, +\\infty)$\n",
    "\n",
    "Hipotezė neatmetama, populiacijų dispersijos statistiškai reikšmingai nesiskiria. Vadinasi, yra pagrindas tikrinti hipotezę $\\begin{cases} H_0: \\mu_X = \\mu_Y \\\\ H_1: \\mu_X \\neq \\mu_Y \\end{cases}$, kad vidurkiai lygūs. Papildoma pastaba: $S_X^2 = \\sigma_X^2$ ir $S_Y^2 = \\sigma_Y^2$.\n",
    "\n",
    "* $\\begin{cases} \n",
    "\\overline{X}= 11.88\\\\\n",
    "\\overline{Y}= 13.3\\\\\n",
    "S_X^2=7.55\\\\\n",
    "S_Y^2=4.01\\\\\n",
    "n=8\\\\\n",
    "m=10\\end{cases} \\Rightarrow \\displaystyle T=\\frac{\\overline{X} - \\overline{Y}}{\\sqrt{(n-1)S_X^2+(m-1)S_Y^2}}\\times \\sqrt{\\frac{mn(n+m-2)}{n+m}} = \\frac{11.88 - 13.3}{\\sqrt{(8-1)\\cdot 7.55+(10-1)\\cdot 4.01}}\\cdot \\sqrt{\\frac{8\\cdot 10\\cdot(8+10-2)}{8+10}} = \\boxed{-0.137}$\n",
    "* Alternatyva dvipusė, todėl kraštai bus $-t_{\\alpha/2}(n+m-2)=-t_{0.025}(16)=-2.14$ ir $t_{\\alpha/2}(n+m-2)=t_{0.025}(16)=2.14$.\n",
    "* $W=(-\\infty, -2.14) \\bigcup (2.14, +\\infty)$ \n",
    "* $\\boxed{-0.137}$ nepriklauso $W$, $H_0$ neatmetama, populiacijų vidurkiai nesiskiria\n",
    "\n",
    "*Papildoma pastaba: $T$ reikšmė pataikė beveik tiesiai į laisvos (ne klaidų) srities vidurį, tai gauname, kad vidurkiai kaip tik labai gerai sutampa*\n"
   ]
  },
  {
   "cell_type": "markdown",
   "metadata": {},
   "source": [
    "**Pavyzdys 2.** Tyrėjas nori sužinoti, ar vidutinis ilgiausių JAV upių ilgis yra didesnis už Europos. Ar šį teiginį galima atmesti? Duomenys pateikiami myliomis, $\\alpha = 0.01$. Laikykite, kad $\\sigma_1 = 450$ ir $\\sigma_2 = 474$.\n",
    "\n",
    "JAV upės (iš viso 36): $[729, 329, 450, 330, 329, 600, 1243, 525, 850, 532, 710, 300, 560, 332, 2315, 410, 800, 1310, 605, 926, 310, 375, 545, 470, 434, 360, 865, 1036, 447, 652, 360, 722, 430, 1979, 259, 425]$\n",
    "\n",
    "Europos upės (iš viso 32): $[481, 532, 1776, 1224, 1420, 877, 447, 824, 634, 565, 675, 724, 357, 1122, 634, 326, 580, 567, 932, 1124, 405, 454, 820, 505, 496, 230, 626, 210, 252, 600, 1575, 2290]$"
   ]
  },
  {
   "cell_type": "markdown",
   "metadata": {},
   "source": [
    "**Pavyzdys 3.** Patikrinkite teiginį, kad dviejų populiacijų vidurkiai yra vienodi remdamiesi pateiktais duomenimis, kai $\\alpha = 0.05$. Laikykite, kad dispersijos $\\sigma^2_A = 10.067$ ir $\\sigma^2_B = 7.067$.\n",
    "\n",
    "Pirma populiacija: $[10, 2, 15, 18, 13, 15, 16, 14, 18, 12, 15, 15, 14, 18, 16]$\n",
    "\n",
    "Antra populiacija: $[5, 8, 10, 9, 9, 11, 12, 16, 8, 8, 9, 10, 11, 7, 6]$"
   ]
  },
  {
   "cell_type": "markdown",
   "metadata": {},
   "source": [
    "**Pavyzdys 4.** Kolegija nori patikrinti, kada studentai geriau išmoksta anglų kalbą:  skaitydami XIX a. romaną ar žiūrėdami filmus. Daliai studentų buvo paskirta perskaityt vieną romaną, o kitiems – žiūrėti filmus. Tada buvo surengta viktorina. Testo rezultatai pateikti žemiau. Patikrinkite, ar galima daryti išvadą, kad skaitant knygas anglų kalbos išmokstama geriau nei žiūrint filmus ($\\alpha = 0.05$).\n",
    "\n",
    "Skaičiusiųjų knygą gauti balai: $[90, 80, 90, 75, 80, 90, 84]$\n",
    "\n",
    "Žiūrėjusiųjų filmus įvertinimai: $[85, 72, 80, 80, 70, 75, 80]$"
   ]
  },
  {
   "cell_type": "markdown",
   "metadata": {},
   "source": [
    "**Pavyzdys 5.**\n",
    "Buvo matuojamas dviejų grupių fizinis pasiruošimas. Gauti duomenys: $X=[76, 71, 57, 49, 70, 69, 26, 65, 59]$ ir $Y=[81, 85, 52, 52, 70, 63, 33, 83]$. Nustatykite, ar abiejų grupių sportininkų fizinis pasiruošimas vienodas, jei žinoma, kad jis turi normalųjį skirstinį. $\\alpha=0.05.$"
   ]
  },
  {
   "cell_type": "markdown",
   "metadata": {},
   "source": [
    "## Hipotezė, apie dviejų vidurkių lygybę priklausomoms imtims\n",
    "**Svarbu: abi imtys turi būti sudaromos iš tų pačių respondentų, tiriamų skirtingu metu. Imčių dydis dabar vienodas.**\n",
    "\n",
    "**Hipotezės matematinis užrašymas:** $\\begin{cases} H_0: \\mu_X = \\mu_Y \\\\ H_1: \\mu_X \\neq \\mu_y \\end{cases}$\n",
    "\n",
    "**Statistinio kriterijaus statistika:** $\\displaystyle T = \\frac{\\overline{Z}}{S_Z / \\sqrt{n}} \\Leftarrow\n",
    "\\begin{cases} \\overline{Z} \\leftarrow \\text{X ir Y imčių skirtumas}\\\\ \n",
    "S_Z \\leftarrow \\text{šaknis iš patikslintos imties $Z$ dispersijos}\\\\\n",
    "n \\leftarrow \\text{imties dydis} \\end{cases}$\n",
    "\n",
    "**Kritinė sritis W:** \n",
    "\n",
    "![](intervalai_stju.png)\n",
    "\n",
    "||Pirmas kraštas|Antras kraštas|\n",
    "|---|---|---|\n",
    "|Vienpusė alternatyva| $-t_{\\alpha}(n-1)$ | $t_{\\alpha}(n-1)$|\n",
    "|Dvipusė alternatyva| $-t_{\\alpha/2}(n-1)$ | $t_{\\alpha/2}(n-1)$|"
   ]
  },
  {
   "cell_type": "markdown",
   "metadata": {},
   "source": [
    "**Pavyzdys 1.** Tų pačių mokinių intelekto testas atliekamas 2 kartus (antrą kartą po dviejų metų). Tiriamas testų atlikimo laikas minutėmis:\n",
    "\n",
    "$X_{prieš}=[89, 80, 81, 82, 90, 88, 79, 76, 82, 83, 85, 77, 79, 93, 75]$\n",
    "\n",
    "$X_{po}=[64, 65, 66, 63, 75, 68, 62, 59, 66, 67, 65, 64, 62, 70, 55]$\n",
    "\n",
    "**Sprendimas:**\n",
    "\n",
    "$Z = [25, 15, 15, 19, 15, 20, 17, 17, 16, 16, 20, 13, 17, 23, 20]$\n",
    "\n",
    "$\\overline{Z} = \\frac{25+15+15+19+15+20+17+17+16+16+20+13+17+23+20}{15} = 17.87$\n",
    "\n",
    "${S_Z}^2 = \\frac{(25-17.9)^2+(15-17.9)^2+(15-17.9)^2+(19-17.9)^2+(15-17.9)^2+(20-17.9)^2+(17-17.9)^2+(17-17.9)^2+(16-17.9)^2+(16-17.9)^2+(20-17.9)^2+(13-17.9)^2+(17-17.9)^2+(23-17.9)^2+(20-17.9)^2}{14} = \\frac{50.84+8.24+8.24+1.28+8.24+4.54+0.76+0.76+3.5+3.5+4.54+23.72+0.76+26.32+4.54}{14} = 10.7$\n",
    "\n",
    "$S_Z=\\sqrt{10.7}=3.27$\n",
    "\n",
    "$\\sqrt{n}=\\sqrt{15} = 3.87$\n",
    "\n",
    "* Tikrinama hipotezė: $\\begin{cases} H_0: \\mu_X = \\mu_Y \\\\ H_1: \\mu_X \\neq \\mu_y \\end{cases}$\n",
    "* $\\begin{cases}\\overline{Z} = 17.87 \\\\ S_Z = 3.27\\\\ n=15\\end{cases} \\Rightarrow T=\\displaystyle \\frac{\\overline{Z}}{S_Z / \\sqrt{n}} \\Rightarrow T=\\displaystyle \\frac{17.87}{3.27 / 3.87} = \\boxed{21.15}$\n",
    "* Alternatyva dvipusė, intervalo kraštai: $-t_{\\alpha/2}(n-1)=-t_{0.025}(14)=-2.17$ ir $t_{\\alpha/2}(n-1)=t_{0.025}(14)=2.145$.\n",
    "* $W=(-\\infty, -2.145) \\bigcup (2.145, +\\infty)$ \n",
    "* $\\boxed{21.15}$ priklauso $W$, $H_0$ atmetama, testo atlikimo laikas pirmą kartą\n",
    "ir po dviejų metų reikšmingai skiriasi.\n",
    "    "
   ]
  },
  {
   "cell_type": "markdown",
   "metadata": {},
   "source": [
    "**Pavyzdys 2.** Ar pirmadieniais ir penktadieniais vienodai ilgai kalbama telefonu?  Abi dienas $(p, pt)$ slapta stebėti tie patys vienos firmos darbuotojai. Duomenys: $(20,32), (40,45), (15,11), (120, 110), (34,39), (27,24), (33,35),(40,36), (20,19), (10,15)$ min."
   ]
  },
  {
   "cell_type": "markdown",
   "metadata": {},
   "source": [
    "**Pavyzdys 3.** Psichologas nori patikrinti, ar nemiegota naktis stipriai sulėtina vairuotojų reakcijos greitį. Buvo atlikti 10 žmonių reakcijos matavimai (milisekundėmis) atitinkamai ryte po nemiegotos nakties ir išvakarėse:\n",
    "$$[(47, 44), (52, 45), (48, 43), (36, 29), (43, 37), (53, 46), (54, 51), (50, 47), (51, 45), (44, 38)]$$ Patikrinti hipotezę, kad po nakties reakcija reikšmingai sulėtėja. ($\\alpha=0,01$)"
   ]
  },
  {
   "cell_type": "markdown",
   "metadata": {},
   "source": [
    "### Pasikliautinieji intervalai\n",
    "**Pavyzdys 1.** Vertybinių popierių rinkos analitikas kiekvieną dieną nustato vertybinių popierių portfelio praeitos dienos kainų vidurkį. Per 2 savaites gauti duomenys: $[24, 22, 25, 23, 25, 27, 30, 24, 27, 23]$. Raskite dienos kainų $X \\sim N(\\mu, \\sigma^2)$ vidurkio $\\mu$ 90% pasikliautinąjį intervalą."
   ]
  },
  {
   "cell_type": "markdown",
   "metadata": {},
   "source": [
    "$\\displaystyle \\begin{cases} \\overline{X} \\leftarrow \\text{imties vidurkis}\\\\ \n",
    "\\sigma_X \\leftarrow \\text{šaknis iš patikslintos imties dispersijos}\\\\\n",
    "n \\leftarrow \\text{imties dydis}\\\\\n",
    "z_\\alpha \\leftarrow \\alpha \\text{ reikšmė iš lentelės pagal formulę} \\frac{1-Q}{2} \\text{surastam }\\alpha\\\\\n",
    "Q \\leftarrow \\text{garantija}\\end{cases}$"
   ]
  },
  {
   "cell_type": "markdown",
   "metadata": {},
   "source": [
    "**Pavyzdys 2.**\n",
    "Vertybinių popierių rinkos ekspertas kiekvieną dieną nustato dvidešimties iš anksto pasirinktų vertybinių popierių buvusį dienos kainų vidurkį. Per mėnesį gauti tokie duomenys: $$[24,30,25,23,25,27,30,24,27,23,26,23,25,24,26,24,26,22,24,24,28].$$ Raskite dienos kainų vidurkio 90% pasikliautinąjį intervalą"
   ]
  },
  {
   "cell_type": "markdown",
   "metadata": {},
   "source": [
    "**Pavyzdys 3.** Rasti atsitiktinio dydžio $X \\sim N(\\mu, 32)$ vidurkio pasikliautinąjį intervalą, jei $Q = 0.99$, $n = 16$, $\\overline{X} = 10.2$"
   ]
  },
  {
   "cell_type": "markdown",
   "metadata": {},
   "source": [
    "**Pavyzdys 4.** Vienas iš staklių išsiderinimo požymių yra gaminamų detalių skersmens pokyčiai. Leistinas svyravimų nuokrypis yra $\\sigma = 1$ mm. Išmatavus $31$ detalę, gauta $S_1 = 1.5$ mm. Rasti skersmens svyravimų dispersijos $95\\%$ pasikliautinąjį intervalą ir nuspręsti, ar staklės yra išsiderinusios. Skersmens pokytis $X \\sim N(\\mu, \\sigma^2)$, abu parametrai nežinomi."
   ]
  },
  {
   "cell_type": "markdown",
   "metadata": {},
   "source": [
    "**Pavyzdys 5.** Detalių ilgis matuojamas milimetrais turi normalųjį skirstinį $X \\sim N(\\mu, 0.0001)$. Kokio dydžio turėtų būti imtis, kad nežinomo detalės ilgio $\\mu$ 95% pasikliautinasis intervalas nebūtų ilgesnis už $0.003$ mm?"
   ]
  },
  {
   "cell_type": "markdown",
   "metadata": {},
   "source": [
    "**Pavyzdys 6.**\tIšmatuotas $49$ studentų cholesterino kraujyje kiekis. Gautas vidurkis lygus $310$. Koks yra cholesterino kraujyje kiekio $95\\%$ pasikliautinasis intervalas jeigu populiacijos dispersija lygi $25$?"
   ]
  },
  {
   "cell_type": "markdown",
   "metadata": {},
   "source": [
    "**Pavyzdys 7.** Naujo leidinio dešimtyje puslapių rasta atitinkamai $3, 0, 2, 1, 0, 4, 3, 2, 1, 2$ korektūros klaidos. Raskite vidutinio klaidų puslapyje skaičiaus 95% pasikliautinąjį intervalą."
   ]
  },
  {
   "cell_type": "markdown",
   "metadata": {},
   "source": [
    "### $\\chi^2$ suderinamumo kriterijus\n",
    "\n",
    "**Hipotezės matematinis užrašymas**\n",
    "$\\begin{cases} H_0: p_1 = a_1, p_2 = a_2, \\dots p_n = a_n\\\\ H_1: \\text{bent vienas } p_i \\text{ kitoks}\\end{cases}$\n",
    "\n",
    "**Statistinio kriterijaus statistika:**\n",
    "$\\chi^2 = \\displaystyle\\sum_{i=1}^{n}\\frac{(O_i - E_i)^2}{E_i} \\Leftarrow \\begin{cases} O_i \\leftarrow \\text{stebimi dažniai} \\\\ E_i \\leftarrow \\text{tikėtini dažniai} \\\\ n \\leftarrow \\text{imties dydis (dažnių suma)}\\end{cases}$\n",
    "\n",
    "* $p_i$ - tikimybės tarp 0 ir 1, susidedančios į 1\n",
    "* Kiekvieną $E_i$ gali reikėti apskaičiuoti pagal formulę $E_i = np_i$\n",
    "\n",
    "**Kritinė sritis W:** ![](intervalai_chi.png)\n"
   ]
  },
  {
   "cell_type": "markdown",
   "metadata": {},
   "source": [
    "**Pavyzdys 1.** 60 žiūrovų atsakė į klausimą, kokia televizija yra geriausia. Patikrinkite, ar visų kanalų reitingai vienodi.\n",
    "    \n",
    "| TV kanalas | LNK | LTV | TV3 | BTV | MTV | TV1 |\n",
    "|-----------|--------|------------|--------|------|-------|-------|\n",
    "| Stebimi dažniai  | 5     | 8         | 15     | 16   | 12    | 4     |\n",
    "| Tikrinami dažniai  | 10     | 10         | 10     | 10   | 10    | 10     |"
   ]
  },
  {
   "cell_type": "markdown",
   "metadata": {},
   "source": [
    "**Sprendimas**\n",
    "1. Tikrinama hipotezė: $\\begin{cases} H_0: p_1 = p_2 = p_3 = p_4 = p_5 = p_6 = \\frac{1}{6} \\\\ H_1: \\text{taip nėra}\\end{cases}$\n",
    "2. $\\chi^2 = \\displaystyle\\sum_{i=1}^{n}\\frac{(O_i - E_i)^2}{E_i} =\\frac{(5 - 10)^2}{10}+ \\frac{(8 - 10)^2}{10}+ \\frac{(15 - 10)^2}{10}+ \\frac{(16 - 10)^2}{10} + \\frac{(12 - 10)^2}{10} + \\frac{(4 - 10)^2}{10} = \\boxed{13}$\n",
    "3. $\\chi_{0.05}^2(5) = 11.07$\n",
    "4. $W = (11.07, +\\infty)$\n",
    "5. $\\boxed{13}$ priklauso $W$, hipotezė atmetama. Kanalai nėra vienodai populiarūs."
   ]
  },
  {
   "cell_type": "markdown",
   "metadata": {},
   "source": [
    "**Pavyzdys 2.**\n",
    "\n",
    "Laikydami, kad $\\alpha = 0.05$, patikrinkite hipotezę, kad iš visų butų, parduodamų Vilniaus mieste:\n",
    "* vieno kambario butai sudaro 1/7 rinkos dalį;\n",
    "* dviejų kambarių butai sudaro 3/7 rinkos dalį;\n",
    "* trijų kambarių butai sudaro 2/7 rinkos dalį;\n",
    "* keturių kambarių butai sudaro 1/7 rinkos dalį;\n",
    "\n",
    "Iš laikraštyje esančių 392 skelbimų apie buto pardavimą buvo rasti tokie skelbimai:\n",
    "\n",
    "| $x_i$ | 1 kambario | 2 kambarių | 3 kambarių | 4 kambarių|\n",
    "|-----------|--------|------------|--------|------|\n",
    "| $O_i$  | 45     | 176         | 100     | 71  |"
   ]
  },
  {
   "cell_type": "markdown",
   "metadata": {},
   "source": [
    "**Sprendimas**\n",
    "1. Tikrinama hipotezė: $\\begin{cases} H_0: p_1 = 1/7, p_2 = 3/7, p_3 = 2/7, p_1 = 1/7\\\\ H_1: \\text{bent vienas }p_i \\text{ kitoks}\\end{cases}$\n",
    "2. $\\begin{cases} E_1= 392 \\times 1/7 = 56 \\\\ E_2= 392 \\times 3/7 = 168\\\\ E_3= 392 \\times 2/7 = 112\\\\ E_4= 392 \\times 1/7 = 56 \\end{cases}; \\chi^2 = \\displaystyle\\sum_{i=1}^{n}\\frac{(O_i - E_i)^2}{E_i} =\\frac{(45 - 56)^2}{56}+ \\frac{(176 - 168)^2}{168}+ \\frac{(100 - 112)^2}{112}+ \\frac{(71 - 56)^2}{56} = \\boxed{7.845}$\n",
    "3. $\\chi_{0.05}^2(3) = 7.815$\n",
    "4. $W = (7.815, +\\infty)$\n",
    "5. $\\boxed{7.845}$ priklauso $W$, hipotezė atmetama."
   ]
  },
  {
   "cell_type": "markdown",
   "metadata": {},
   "source": [
    "**Pavyzdys 3.** Is there enough evidence to reject the claim that there is no preference in the selection\n",
    "of fruit soda flavors, using the data shown previously? Let $\\alpha = 0.05$. A sample of 100 people provided these data: \n",
    "\n",
    "|Cherry|Strawberry|Orange|Lime|Grape|\n",
    "|----|----|----|----|----|\n",
    "| 32 | 28 | 16 | 14 | 10 |"
   ]
  },
  {
   "cell_type": "markdown",
   "metadata": {},
   "source": [
    "**Pavyzdys 4.** Are these differences (observed frequencies from expected) significant (a preference exists), or are they due to chance?\n",
    "\n",
    "| Frequency | Cherry | Strawberry | Orange | Lime | Grape |\n",
    "|-----------|--------|------------|--------|------|-------|\n",
    "| Observed  | 32     | 28         | 16     | 14   | 10    |\n",
    "| Expected  | 20     | 20         | 20     | 20   | 20    |"
   ]
  },
  {
   "cell_type": "markdown",
   "metadata": {},
   "source": [
    "### $\\chi^2$ nepriklausomumo kriterijus\n",
    "\n",
    "**Hipotezės supaprastintas užrašymas**\n",
    "$\\begin{cases} H_0: \\text{Atsitiktiniai dydžiai X ir Y yra nepriklausomi}\\\\ H_1: \\text{Atsitiktiniai dydžiai X ir Y yra priklausomi}\\end{cases}$\n",
    "\n",
    "**Hipotezės matematinis užrašymas: $\\begin{cases} H_0: p_{ij}= p_i \\cdot p_j \\text{ su visais }i\\text{ ir }j\\\\ H_1: p_{ij}\\neq p_i \\cdot p_j \\text{ bent vienai porai }i\\text{ ir }j\\end{cases}$**\n",
    "\n",
    "**Statistinio kriterijaus statistika:**\n",
    "$\\chi^2 = \\displaystyle\\sum_{i=1}^{I}\\sum_{i=1}^{J}\\frac{(O_{ij} - E_{ij})^2}{E_{ij}} \\Leftarrow \\begin{cases} O_{ij} \\leftarrow \\text{stebimi dažniai} \\\\ E_{ij} \\leftarrow \\text{tikėtini dažniai} \\\\ n \\leftarrow \\text{imties dydis (dažnių suma)}\\end{cases}$\n",
    "\n",
    "* Jei yra sunkumų su žymėjimu: $\\displaystyle\\sum_{i=1}^{I}\\sum_{i=1}^{J}\\frac{(O_{ij} - E_{ij})^2}{E_{ij}}$ reiškia, kad reikės sumuoti kiekvieną $i$ eilutę ir $j$ stulpelį atitinkantį reiškinį $\\displaystyle \\frac{(O_{ij} - E_{ij})^2}{E_{ij}}$\n",
    "* Kiekvieną $E_{ij}$ gali reikėti apskaičiuoti pagal formulę $\\displaystyle E_{ij} = \\frac{n_i\\times n_j}{n} \\Leftarrow \\begin{cases} n_{i} \\leftarrow \\text{i eilutės suma} \\\\ n_{j} \\leftarrow \\text{j stulpelio suma} \\\\ n \\leftarrow \\text{visų langelių suma}\\end{cases}$\n",
    "* Lentelė yra matmenų $I \\times J$.\n",
    "* Jei lentelės matmenys yra $2\\times 2$, tai vietoj įprastos statistikos bus naudojama statistika su Jeitso pataisa: $\\chi^2_{\\text{Yates}} = \\displaystyle\\sum_{i=1}^{I}\\sum_{i=1}^{J}\\frac{\\left(|O_{ij} - E_{ij}|-0.5\\right)^2}{E_{ij}}$\n",
    "* $2 \\times 2$ lentelei $\\boxed{\\begin{array}{cc} a & b \\\\ c & d \\end{array}}$ galima naudoti ir kitokią formulę: $\\chi^2 = \\frac{(|ad-bc| - 0.5(a+b+c+d))^2(a+b+c+d)}{(a+b)(c+d)(b+d)(a+c)}$. Jos rezultatas bus toks pats kaip statistikos su Jeitso pataisa\n",
    "\n",
    "**Kritinė sritis W:** ![](intervalai_chi2.png)"
   ]
  },
  {
   "cell_type": "markdown",
   "metadata": {},
   "source": [
    "**Pavyzdys 1 (pakomentuotas plačiau).**\tBuvo atsitiktinai parinkta 400 studentų. Kiekvienas studentas vertino tik po vieną dėstytoją. $\\alpha = 0.05.$ Ar studentai dėstytojus vertina priklausomai nuo gautų pažymių?\n",
    "\n",
    "|Vertinimas\\Pažymys| 0-4               | 5-6 | 7-8 | 9  | 10 |\n",
    "|------------|-------------------|-----|-----|----|----|\n",
    "| Puikus  | 10                | 15  | 30  | 25 | 20 |\n",
    "| Vidutiniškas  | 30                | 40  | 60  | 25 | 25 |\n",
    "| Netikęs        | 40                | 45  | 10  | 10 | 15 |\n",
    "\n",
    "**Sprendimas.**\n",
    "\n",
    "$\\begin{cases} H_0: \\text{Studentų vertinimas nuo gautų pažymių nepriklauso}\\\\ H_1: \\text{Studentų vertinimas nuo gautų pažymių priklauso}\\end{cases}$\n",
    "\n",
    "Reikės skaičiuoti kiekvieną $E_{ij}$ pagal formulę $\\displaystyle E_{ij} = \\frac{n_i\\times n_j}{n} \\Leftarrow \\begin{cases} n_{i} \\leftarrow \\text{i eilutės suma} \\\\ n_{j} \\leftarrow \\text{j stulpelio suma} \\\\ n \\leftarrow \\text{visų langelių suma}\\end{cases}$. \n",
    "\n",
    "Daug skaičiavimų, bet juos galima sutrumpinti taip:\n",
    "\n",
    "|Stulpelių sumos|||||||\n",
    "|---|------------|-------------------|-----|-----|----|----|\n",
    "||80                | 100  | 100  | 60 | 60 |\n",
    "||80                | 100  | 100  | 60 | 60 |\n",
    "||80                | 100  | 100  | 60 | 60 |\n",
    "\n",
    "|Eilučių sumos|||||||\n",
    "|---|------------|-------------------|-----|-----|----|----|\n",
    "||100                | 100  | 100  | 100 | 100 |\n",
    "||180                | 180  | 180  | 180 | 180 |\n",
    "||120                | 120  | 120  | 120 | 120 |\n",
    "\n",
    "|Visų langelių suma||\n",
    "|---|--|\n",
    "||400|\n",
    "\n",
    "Dauginame sutapatintus langelius ir daliname iš 400. Rezultatas - $E_{ij}$ reikšmių lentelė:\n",
    "\n",
    "|$E_{ij}$ reikšmės|||||||\n",
    "|---|------------|-------------------|-----|-----|----|----|\n",
    "||20                | 25  | 25  | 15 | 15 |\n",
    "||36                | 45  | 45  | 27 | 27 |\n",
    "||24                | 30  | 30  | 18 | 18 |\n",
    "\n",
    "Prieš tai turėjome:\n",
    "\n",
    "|$O_{ij}$ reikšmės||||||\n",
    "|------------|-------------------|-----|-----|----|----|\n",
    "|| 10                | 15  | 30  | 25 | 20 |\n",
    "|| 30                | 40  | 60  | 25 | 25 |\n",
    "|| 40                | 45  | 10  | 10 | 15 |\n",
    "\n",
    "Iš turimų $E_{ij}$ reikšmių ir $O_{ij}$ reikšmių sudarysime naują lentelę, kurioje bus $\\displaystyle \\frac{(O_{ij} - E_{ij})^2}{E_{ij}}$ reikšmės:\n",
    "\n",
    "|Rezultatai||||||\n",
    "|------------|-------------------|-----|-----|----|----|\n",
    "|| 5  |  4  |  1  |  6.67|  1.67|\n",
    "|| 1  | 0.56|  5  |  0.15|  0.15|\n",
    "||10.67|  7.5| 13.33|  3.56|  0.5|\n",
    "\n",
    "Langelių suma $\\chi^2 = \\displaystyle\\sum_{i=1}^{I}\\sum_{i=1}^{J}\\frac{(O_{ij} - E_{ij})^2}{E_{ij}} = \\boxed{60.76}$\n",
    "\n",
    "* $(I-1)\\times (J-1) = 2 \\times 4 = 8$\n",
    "\n",
    "* $\\chi^2_{0.05}(8) = 15.51$\n",
    "\n",
    "* $W = (15.51, +\\infty)$ \n",
    "\n",
    "* $\\boxed{60.76}$ priklauso $W$, $H_0$ atmetama, todėl studento gautas pažymys turi įtakos dėstytojo įvertinimui."
   ]
  },
  {
   "cell_type": "markdown",
   "metadata": {},
   "source": [
    "**Pavyzdys 2 (plačiau žr. pavyzdį 1).**\n",
    "Ar yra ryšys tarp prekės A ir prekės B pirkimo? $\\alpha = 0.05.$ Atsitiktinai atrinktų 286 pirkėjų apklausos rezultatai:\n",
    "    \n",
    "|Perka A\\B| **Ne** | **Taip** |\n",
    "|------------|-------------------|-----|\n",
    "| **Ne**  | 84                | 32  |\n",
    "| **Taip** | 48                | 122  |\n"
   ]
  },
  {
   "cell_type": "markdown",
   "metadata": {},
   "source": [
    "**Sprendimas.** Lentelės matmenys yra $2\\times 2,$ todėl reikės naudoti $\\chi^2_{\\text{Yates}}$. Panašiai, kaip ankstesniame sprendime, tik dar labiau sutrumpintai:\n",
    "\n",
    "* Tikrinama hipotezė: $\\begin{cases} H_0: \\text{Prekės A nuo prekės B pirkimo nepriklauso}\\\\ H_1: \\text{Prekės A nuo prekės B pirkimo priklauso}\\end{cases}$\n",
    "* $O_{ij}$ reikšmės: $\\boxed{\\begin{array}{cc} 84 & 32 \\\\ 48 & 122 \\end{array}}$\n",
    "* $E_{ij}$ reikšmės: $\\displaystyle \\frac{\\text{Stulpelių sumos } \\times \\text{ Eilučių sumos}}{n} = \\frac{\\boxed{\\begin{array}{cc} 132 & 154 \\\\ 132 & 154 \\end{array}} \\times \\boxed{\\begin{array}{cc} 116 & 116 \\\\ 170 & 170 \\end{array}}}{286} = \\boxed{\\begin{array}{cc} 53.5 & 62.5 \\\\ 78.5 & 91.5 \\end{array}}$\n",
    "* $\\displaystyle\\frac{(|O_{ij} - E_{ij}|-0.5)^2}{E_{ij}}$ reikšmės: $\\boxed{\\begin{array}{cc} 16.77 & 14.37 \\\\ 11.44 & 9.81 \\end{array}}$\n",
    "* $\\chi^2_{\\text{Yates}} = 16.77 + 14.37 + 11.44 + 9.81 = \\boxed{52.39}$ (rezultatas be pataisos būtų $\\chi^2 = 54.15$)\n",
    "* $(I-1)\\times (J-1) = 1$\n",
    "* $\\chi^2_{0.05}(1) = 3.841$\n",
    "* $W = (3.841, +\\infty)$ \n",
    "* $\\boxed{52.39}$ priklauso $W$. $H_0$ atmetama. Tarp prekės A ir prekės B pirkimų yra statistiškai reikšmingas ryšys."
   ]
  },
  {
   "cell_type": "markdown",
   "metadata": {},
   "source": [
    "**Pavyzdys 3.** Buvo apklausti 105 mokiniai, kuriems užduotas klausimas – ar jiems patinka kūno kultūros pamokos. \n",
    "Ar jų atsakymai ir antsvorio turėjimas yra susiję kintamieji? $\\alpha = 0.05$. \n",
    "\n",
    "|           |   Neturi antsvorio |   Turi antsvorį |\n",
    "|:----------|-------------------:|----------------:|\n",
    "| Patinka   |                 36 |              14 |\n",
    "| Nepatinka |                 30 |              25 |"
   ]
  },
  {
   "cell_type": "markdown",
   "metadata": {},
   "source": [
    "**Sprendimas.** Lentelės matmenys yra $2\\times 2,$ todėl reikės naudoti $\\chi^2_{\\text{Yates}}$. Panašiai, kaip ankstesniame sprendime, tik dar labiau sutrumpintai:\n",
    "\n",
    "* Tikrinama hipotezė: $\\begin{cases} H_0: p_{11}=p_{1}\\cdot p_{1},\\quad p_{12}=p_{1}\\cdot p_{2},\\quad p_{21}=p_{2}\\cdot p_{1}\\quad\\text{ ir }\\quad p_{22}=p_{2}\\cdot p_{2}\\\\ H_1: p_{11}\\neq p_{1}\\cdot p_{1},\\quad p_{12}\\neq p_{1}\\cdot p_{2},\\quad p_{21}\\neq p_{2}\\cdot p_{1}\\quad\\text{ arba }\\quad p_{22}\\neq p_{2}\\cdot p_{2}\\end{cases}$\n",
    "\n",
    "Gali būti taip pat: $\\begin{cases} H_0: \\text{Atsakymai nepriklauso nuo anstvorio turėjimo}\\\\ H_1: \\text{Atsakymai priklauso nuo anstvorio turėjimo}\\end{cases}$\n",
    "* $O_{ij}$ reikšmės: $\\boxed{\\begin{array}{cc} 36 & 14 \\\\ 30 & 25 \\end{array}}$\n",
    "* $E_{ij}$ reikšmės: $\\displaystyle \\frac{\\text{Stulpelių sumos } \\times \\text{ Eilučių sumos}}{n} = \\frac{\\boxed{\\begin{array}{cc} 66 & 39 \\\\ 66 & 39 \\end{array}} \\times \\boxed{\\begin{array}{cc} 50 & 50 \\\\ 55 & 55 \\end{array}}}{105} = \\boxed{\\begin{array}{cc} 31.43 & 18.57 \\\\ 34.57 & 20.43 \\end{array}}$\n",
    "* $\\displaystyle\\frac{(|O_{ij} - E_{ij}|-0.5)^2}{E_{ij}}$ reikšmės: $\\boxed{\\begin{array}{cc} 0.53 & 0.89 \\\\ 0.48 & 0.81 \\end{array}}$\n",
    "* $\\chi^2_{\\text{Yates}} = 0.53 + 0.89 + 0.48 + 0.81 = \\boxed{2.71}$\n",
    "* $(I-1)\\times (J-1) = 1$\n",
    "* $\\chi^2_{0.05}(1) = 3.841$\n",
    "* $W = (3.841, +\\infty)$ \n",
    "* $\\boxed{2.71}$ nepriklauso $W$. $H_0$ neatmetama. Požiūris į kūno kultūros pamokas neturi įtakos anstsvoriui."
   ]
  },
  {
   "cell_type": "markdown",
   "metadata": {},
   "source": [
    "**Pavyzdys 4 (papildomas).** Įsitikinti, kad formulė $\\displaystyle\\chi^2 = \\frac{(|ad-bc| - 0.5(a+b+c+d))^2(a+b+c+d)}{(a+b)(c+d)(b+d)(a+c)}$ lentelėms $\\boxed{\\begin{array}{cc} a & b \\\\ c & d \\end{array}}$ yra teisinga.\n",
    "\n",
    "**Sprendimas**. Reikėtų įrodyti tapatybę $\\displaystyle\\sum_{i=1}^{I}\\sum_{i=1}^{J}\\frac{(O_{ij} - E_{ij})^2}{E_{ij}} = \\frac{(|ad-bc| - 0.5(a+b+c+d))^2(a+b+c+d)}{(a+b)(c+d)(b+d)(a+c)}$\n",
    "\n",
    "To nedarysime, bet vietoj to patikrinsime, ar trečio pavyzdžio rezultatas būtų toks pats, jei taikytume šią formulę. Turime:\n",
    "\n",
    "$\\begin{cases} a = 36 \\\\ b=14 \\\\c=30 \\\\ d=25 \\end{cases}\\Rightarrow\\displaystyle\\frac{(|ad-bc| - 0.5(a+b+c+d))^2(a+b+c+d)}{(a+b)(c+d)(b+d)(a+c)} = \\frac{(|36\\cdot 25-14\\cdot 30| - 0.5(36+14+30+25))^2(36+14+30+25)}{(36+14)(30+25)(14+25)(36+30)} = 2.71$\n",
    "\n",
    "Atsakymai sutapo. Hipotezė, kad formulė teisinga, neatmetama."
   ]
  },
  {
   "cell_type": "markdown",
   "metadata": {},
   "source": [
    "**Pavyzdys 5.** Saulėtekyje ekonomikos fakultete yra liftas-ekspresas: nesvarbu, kokį mygtuką bespaustum, liftas be sustojimų kursuoja tik maršrutu : 1 aukštas – 7aukštas. Psichologas pirmą rugsėjo savaitę važinėja liftu-ekspresu ir stebi fuksų reakciją. Jo išankstine nuomone du trečdaliai fuksų apsimes, kad važiuoja į 7 aukštą, o vienas iš trijų fuksų parodys nerimo žymes(pradės blaškytis po kabiną, maigyti mygtukus, spardyti duris, keiktis). Ištyrus 130 studentų, nustatyta, kad 60 iš jų parodė nerimo žymes, o 70 buvo ramūs. Ar duomenys patvirtina psichologo nuomonę?"
   ]
  },
  {
   "cell_type": "markdown",
   "metadata": {},
   "source": [
    "**Pavyzdys 6.** Vienas dėstytojas reklamuoja tokią gripo profilaktiką: ryte išgerti imbiero arbatos ir užkasti česnaku. Dalis dėstytojų išbandė šį metodą, dalis ne. Ar metodas tikrai padeda?\n",
    "\n",
    "![](uzdlent.PNG)"
   ]
  },
  {
   "cell_type": "markdown",
   "metadata": {},
   "source": [
    "**Pavyzdys 7.** Tyrėjai nustatė, kad nedideliuose slaugos namuose paskiepyti buvo 12 iš 34 slaugos namų gyventojų. Tuo tarpu dideliuose slaugos namuose buvo paskiepyta 17 iš 24 gyventojų. Patikrinkite hipotezę, kad nėra skirtumo tarp proporcijų, kai $\\alpha = 0.05$. Ar skiriasi skiepijimo procentas abiejuose globos namuose nuo 80%?"
   ]
  },
  {
   "cell_type": "markdown",
   "metadata": {},
   "source": [
    "**Pavyzdys 8.** Iš 50 vyrų imties 44 teigė, kad jie šiandien turi mažiau laisvalaikio nei prieš 10 metų. Iš 50 moterų imties 48 moterys teigė, kad jos turėjo mažiau laisvalaikio nei prieš 10 metų. Pasirinkę $\\alpha=0.1$ patikrinkite, ar skiriasi proporcijos abiejose grupėse."
   ]
  },
  {
   "cell_type": "markdown",
   "metadata": {},
   "source": [
    "### $\\chi^2$ homogeniškumo kriterijus\n",
    "Galima pastebėti, kad skaičiavimo eiga nesikeičia nuo anksčiau turėto nepriklausomumo kriterijaus, skiriasi tik hipotezės matematinis užrašymas.\n",
    "\n",
    "**Hipotezės matematinis užrašymas: $\\begin{cases} H_0:\\begin{cases} p_{11} =p_{21} = \\dots = p_{I1} \\\\ p_{12}=p_{22}= \\dots =p_{I2} \\vdots \\\\ p_{1J}=p_{2J}= \\dots =p_{IJ} \\end{cases}\\\\ H_1: p_{ij}\\neq p_{kj} \\text{ bent vienai porai }p_{ij}\\text{ ir }p_{kj}\\end{cases}$**\n",
    "\n",
    "**Hipotezės supaprastintas užrašymas: $\\begin{cases} H_0: \\text{Atsitiktinis dydis X turi vienodą skirstinį visose\n",
    "populiacijose}\\\\ H_1: \\text{Atsitiktinis dydis X turi nevienodą skirstinį visose\n",
    "populiacijose}\\end{cases}$**"
   ]
  },
  {
   "cell_type": "markdown",
   "metadata": {},
   "source": [
    "**Pavyzdys 1 (plačiau žr. pavyzdį 1 iš nepriklausomumo).**\n",
    "Tiriama, ar vyrai ir moterys vienodai vertina, jei jų darbdavys priimtų į darbą grįžusius iš įkalinimo vietų. Buvo apklausta 200 atsitiktinai parinktų vyrų ir 100 atsitiktinai parinktų moterų. $\\alpha = 0.05.$ Atsakymų variantai: teigiamai, neturiu nuomonės, neigiamai."
   ]
  },
  {
   "cell_type": "markdown",
   "metadata": {},
   "source": [
    "||Teigiamai | Neturiu nuomonės | Neigiamai |Iš viso:|\n",
    "|---|---|---|---|---|\n",
    "|Vyrai| 60 |70 |70 |200|\n",
    "|Moterys| 24| 31| 45| 100|\n",
    "|Iš viso:| 84 |101| 115| 300|"
   ]
  },
  {
   "cell_type": "markdown",
   "metadata": {},
   "source": [
    "* Tikrinama hipotezė: $\\begin{cases} H_0: p_{11} = p_{21}, p_{12} = p_{22}\\text{ ir }p_{13} = p_{23}\\\\ H_1: p_{11} \\neq p_{21}, p_{12} \\neq p_{22}\\text{ arba }p_{13} \\neq p_{23}\\end{cases}$. Gali būti taip pat $\\begin{cases} H_0: \\text{Vyrų vertinimas vienodas su moterų}\\\\ H_1: \\text{Vyrų vertinimas skiriasi nuo moterų}\\end{cases}$\n",
    "* $O_{ij}$ reikšmės: $\\boxed{\\begin{array}{ccc} 60 & 70 & 70\\\\ 24 & 31 & 45 \\end{array}}$\n",
    "* $E_{ij}$ reikšmės: $\\displaystyle \\frac{\\text{Stulpelių sumos } \\times \\text{ Eilučių sumos}}{n} = \\frac{\\boxed{\\begin{array}{ccc} 84 & 101 & 115 \\\\ 84 & 101 & 115 \\end{array}} \\times \\boxed{\\begin{array}{ccc} 200 & 200 & 200 \\\\ 100 & 100 & 100 \\end{array}}}{300} = \\boxed{\\begin{array}{ccc} 56&67.33&76.67 \\\\ 28&33.67&38.33 \\end{array}}$\n",
    "\n",
    "* $\\displaystyle\\frac{O_{ij} - E_{ij}}{E_{ij}}$ reikšmės: $\\boxed{\\begin{array}{ccc}  0.29 & 0.11 & 0.58 \\\\ 0.57 & 0.21 & 1.16 \\end{array}}$\n",
    "* $\\chi^2 = 0.29 + 0.11 + 0.58 + 0.57 + 0.21 + 1.16 = \\boxed{2.92}$\n",
    "* $(I-1)\\times (J-1) = 2$\n",
    "* $\\chi^2_{0.05}(2) = 5.991$\n",
    "* $W = (5.991, +\\infty)$ \n",
    "* $\\boxed{2.92}$ nepriklauso $W$. $H_0$ atmetama. Tarp vyrų ir moterų vertinimo statistiškai reikšmingo ryšio nėra."
   ]
  },
  {
   "cell_type": "markdown",
   "metadata": {},
   "source": [
    "### Skaičiavimai su kompu"
   ]
  },
  {
   "cell_type": "code",
   "execution_count": 22,
   "metadata": {},
   "outputs": [
    {
     "name": "stdout",
     "output_type": "stream",
     "text": [
      "|           |   Neturi antsvorio |   Turi antsvorį |\n",
      "|:----------|-------------------:|----------------:|\n",
      "| Patinka   |                 36 |              14 |\n",
      "| Nepatinka |                 30 |              25 |\n"
     ]
    }
   ],
   "source": [
    "X = np.array([[36, 14], [30, 25]])\n",
    "df = pd.DataFrame(X, index = ['Patinka', 'Nepatinka'], columns = ['Neturi antsvorio', 'Turi antsvorį'])\n",
    "print(df.to_markdown())"
   ]
  },
  {
   "cell_type": "code",
   "execution_count": 14,
   "metadata": {},
   "outputs": [
    {
     "name": "stdout",
     "output_type": "stream",
     "text": [
      "|    |    |     |     |     |\n",
      "|:---|---:|----:|----:|----:|\n",
      "|    | 60 |  70 |  70 | 200 |\n",
      "|    | 24 |  31 |  45 | 100 |\n",
      "|    | 84 | 101 | 115 | 300 |\n"
     ]
    }
   ],
   "source": [
    "X = np.array([[60, 70, 70, 200], [24, 31, 45, 100], [84, 101, 115, 300]])\n",
    "def draw_md(X):\n",
    "    df = pd.DataFrame(X, index = ['']*len(X), columns = ['']*len(X[0]))\n",
    "    print(df.to_markdown())\n",
    "\n",
    "draw_md(X)"
   ]
  },
  {
   "cell_type": "code",
   "execution_count": 37,
   "metadata": {},
   "outputs": [
    {
     "name": "stdout",
     "output_type": "stream",
     "text": [
      "multiplicand 1:\n",
      " [[86 39]\n",
      " [86 39]]\n",
      "multiplicand 2:\n",
      " [[70 70]\n",
      " [55 55]]\n",
      "size:\n",
      " 125\n",
      "result of m1*m2/size:\n",
      " [[48.16 21.84]\n",
      " [37.84 17.16]]\n",
      "Chi Square Test 1:\n",
      " [[1.28 2.81]\n",
      " [1.62 3.58]]\n",
      "sum= 9.29\n",
      "Chi Square Test 2 (Yates):\n",
      " [[1.12 2.47]\n",
      " [1.42 3.14]]\n",
      "sum= 8.15\n"
     ]
    }
   ],
   "source": [
    "import numpy as np\n",
    "\n",
    "O = X = np.array([[56, 14], \n",
    "                  [30, 25]])\n",
    "A = np.sum(O, axis=0)[None, :]\n",
    "B = np.sum(O, axis=1)[:, None]\n",
    "E = np.around((A * B) / np.sum(O), 2)\n",
    "T1 = np.around((O - E)**2 / E, 2)\n",
    "T2 = np.around((np.abs(O - E) - 0.5)**2/E, 2)\n",
    "\n",
    "print('multiplicand 1:\\n', np.broadcast_to(A, O.shape))\n",
    "print('multiplicand 2:\\n', np.broadcast_to(B, O.shape))\n",
    "print('size:\\n', np.around(np.sum(O),2))\n",
    "print('result of m1*m2/size:\\n', np.broadcast_to(E, O.shape))\n",
    "\n",
    "print('Chi Square Test 1:\\n', T1)\n",
    "print('sum=', np.around(np.sum(T1), 2))\n",
    "\n",
    "print('Chi Square Test 2 (Yates):\\n', T2)\n",
    "print('sum=', np.around(np.sum(T2), 2))"
   ]
  },
  {
   "cell_type": "code",
   "execution_count": 14,
   "metadata": {},
   "outputs": [
    {
     "data": {
      "text/plain": [
       "(2.5705818366147395, 5.991464547107979, 6.0410444761191515, 1.6448536269514722)"
      ]
     },
     "execution_count": 14,
     "metadata": {},
     "output_type": "execute_result"
    }
   ],
   "source": [
    "import scipy.stats\n",
    "alpha = 0.05\n",
    "scipy.stats.t.ppf(1-(alpha/2), 5)\n",
    "scipy.stats.chi2.ppf(1-alpha, 2)\n",
    "scipy.stats.f.ppf(1-alpha, 8, 4)\n",
    "scipy.stats.norm.ppf(1-alpha)"
   ]
  },
  {
   "cell_type": "code",
   "execution_count": 186,
   "metadata": {},
   "outputs": [
    {
     "data": {
      "text/markdown": [
       "* $\\overline{X} = \\frac{4 + 2 + 5 + 4 + 6}{5} = 4.2$\n",
       "* $S_{X}^2 = \\frac{(4 - 4.2)^2 + (2 - 4.2)^2 + (5 - 4.2)^2 + (4 - 4.2)^2 + (6 - 4.2)^2}{4} = \\frac{(-0.2)^2 + (-2.2)^2 + (0.8)^2 + (-0.2)^2 + (1.8)^2}{4} = \\frac{8.8}{4} = 2.2$"
      ],
      "text/plain": [
       "<IPython.core.display.Markdown object>"
      ]
     },
     "metadata": {},
     "output_type": "display_data"
    }
   ],
   "source": [
    "import numpy as np\n",
    "from IPython.display import display, Latex, Markdown\n",
    "\n",
    "def pr(x):\n",
    "    display(Markdown(x))\n",
    "    \n",
    "def vidurkis(name, X):\n",
    "    name = 'X'\n",
    "    A, B, C = ' + '.join(map(str, X)), len(X), np.around(np.sum(X), 2)\n",
    "    D = ' + '.join(f'({str(x)} - {np.around(np.sum(X), 1)})^2' for x in X)\n",
    "    E = ' + '.join(f'({x - C})^2' for x in X)\n",
    "    F = np.around(np.sum((X-C)**2), 2)\n",
    "    G = np.around(F/(B-1), 2)\n",
    "    return fr'''* $\\overline{{{name}}} = \\frac{{{A}}}{{{B}}} = {C}$'''\n",
    "    \n",
    "def dispersija(name, X):\n",
    "    name = 'X'\n",
    "    A, B, C = ' + '.join(map(str, X)), len(X), np.around(np.sum(X)/len(X), 2)\n",
    "    D = ' + '.join(f'({str(x)} - {np.around(np.sum(X)/len(X), 1)})^2' for x in X)\n",
    "    E = ' + '.join(f'({np.around(x - C, 2)})^2' for x in X)\n",
    "    F = np.around(np.sum((X-C)**2), 2)\n",
    "    G = np.around(F/(B-1), 2)\n",
    "    return fr'''* $\\overline{{{name}}} = \\frac{{{A}}}{{{B}}} = {C}$\n",
    "* $S_{{{name}}}^2 = \\frac{{{D}}}{{{B-1}}} = \\frac{{{E}}}{{{B-1}}} = \\frac{{{F}}}{{{B-1}}} = {G}$'''\n",
    "    \n",
    "d = dispersija('X', np.array([4, 2, 5, 4, 6]))\n",
    "pr(d)"
   ]
  },
  {
   "cell_type": "code",
   "execution_count": 183,
   "metadata": {},
   "outputs": [
    {
     "data": {
      "text/markdown": [
       "\n",
       "* $a = 120$\n",
       "* $n = 16$\n",
       "* $\\overline{X} = \\frac{120 + 115 + 125 + 110 + 100 + 120 + 130 + 110 + 140 + 125 + 115 + 100 + 90 + 120 + 115 + 120}{16} = 115.94$\n",
       "* $S_{X}^2 = \\frac{(120 - 115.9)^2 + (115 - 115.9)^2 + (125 - 115.9)^2 + (110 - 115.9)^2 + (100 - 115.9)^2 + (120 - 115.9)^2 + (130 - 115.9)^2 + (110 - 115.9)^2 + (140 - 115.9)^2 + (125 - 115.9)^2 + (115 - 115.9)^2 + (100 - 115.9)^2 + (90 - 115.9)^2 + (120 - 115.9)^2 + (115 - 115.9)^2 + (120 - 115.9)^2}{15} = \\frac{(4.06)^2 + (-0.94)^2 + (9.06)^2 + (-5.94)^2 + (-15.94)^2 + (4.06)^2 + (14.06)^2 + (-5.94)^2 + (24.06)^2 + (9.06)^2 + (-0.94)^2 + (-15.94)^2 + (-25.94)^2 + (4.06)^2 + (-0.94)^2 + (4.06)^2}{15} = \\frac{2260.94}{15} = 150.73$"
      ],
      "text/plain": [
       "<IPython.core.display.Markdown object>"
      ]
     },
     "metadata": {},
     "output_type": "display_data"
    }
   ],
   "source": [
    "X = np.array([120, 115, 125, 110, 100, 120, 130, 110, 140, 125, 115, 100, 90, 120, 115, 120])\n",
    "a = 120\n",
    "\n",
    "\n",
    "pr(fr'''\n",
    "* $a = {a}$\n",
    "* $n = {len(X)}$\n",
    "''' + \n",
    "dispersija('X', X))\n"
   ]
  },
  {
   "cell_type": "markdown",
   "metadata": {},
   "source": [
    "* $\\overline{X} = \\frac{4 + 2 + 5 + 4 + 6}{5} = 21$\n",
    "* $S_{X}^2 = \\frac{(4 - 21)^2 + (2 - 21)^2 + (5 - 21)^2 + (4 - 21)^2 + (6 - 21)^2}{4} = \\frac{(-17)^2 + (-19)^2 + (-16)^2 + (-17)^2 + (-15)^2}{4} = \\frac{1420}{4} = 355.0$"
   ]
  },
  {
   "cell_type": "code",
   "execution_count": 184,
   "metadata": {},
   "outputs": [
    {
     "data": {
      "text/markdown": [
       "\n",
       "    * $a = 5$\n",
       "    * $n = 10$\n",
       "    * $\\overline{X} = \\frac{3 + 2 + 5 + 6 + 7 + 4 + 2 + 3 + 0 + 6}{10} = 3.8$\n",
       "* $S_{X}^2 = \\frac{(3 - 3.8)^2 + (2 - 3.8)^2 + (5 - 3.8)^2 + (6 - 3.8)^2 + (7 - 3.8)^2 + (4 - 3.8)^2 + (2 - 3.8)^2 + (3 - 3.8)^2 + (0 - 3.8)^2 + (6 - 3.8)^2}{9} = \\frac{(-0.8)^2 + (-1.8)^2 + (1.2)^2 + (2.2)^2 + (3.2)^2 + (0.2)^2 + (-1.8)^2 + (-0.8)^2 + (-3.8)^2 + (2.2)^2}{9} = \\frac{43.6}{9} = 4.84$* $S_X = \\sqrt{4.84} = 2.2$\n",
       "    * $\\sqrt{n} = \\sqrt{10} = 3.16$\n",
       "    * Tikrinama hipotezė: $\\begin{cases} H_0: \\mu = 5 \\\\ H_1: \\mu < 5 \\end{cases}$ (alternatyva vienpusė iš kairės)\n",
       "    * $\\displaystyle T = \\frac{\\overline{X} - a}{S_X^2/\\sqrt{n}} = \\frac{3.8-5}{2.2/3.16} = \\boxed{-1.72}$\n",
       "* $-t_{0.01}(9) = -2.821$"
      ],
      "text/plain": [
       "<IPython.core.display.Markdown object>"
      ]
     },
     "metadata": {},
     "output_type": "display_data"
    }
   ],
   "source": [
    "import scipy.stats\n",
    "alpha = 0.01\n",
    "X = np.array([3, 2, 5, 6, 7, 4, 2, 3, 0, 6])\n",
    "a = 5\n",
    "alternative = 1\n",
    "\n",
    "def hip1(X, a, alpha, alternative=1):\n",
    "    S = np.around(np.sum((X-np.mean(X))**2)/(len(X)-1), 2)\n",
    "    s = round(S**0.5, 2)\n",
    "    sn = round(len(X)**0.5, 2)\n",
    "    d = {0: 'dvipusė', 1: 'vienpusė iš kairės', 2: 'vienpusė iš dešinės'}\n",
    "    e = {0: r'\\neq', 1: '<', 2: '>'}\n",
    "    f = {0: 1-alpha/2, 1: 1-alpha, 2: 1-alpha}\n",
    "    m = np.around(np.mean(X), 2)\n",
    "    case1 = fr'$-t_{{{round(1-f[alternative], 3)}}}({len(X)-1}) = {round(-scipy.stats.t.ppf(round(f[alternative],3), len(X)-1), 3)}$'\n",
    "    case2 = fr'$t_{{{round(1-f[alternative], 3)}}}({len(X)-1}) = {round(scipy.stats.t.ppf(round(f[alternative],3), len(X)-1), 3)}$'\n",
    "\n",
    "    if alternative==0:\n",
    "        case = f'* {case1}, {case2}'\n",
    "    elif alternative==1:\n",
    "        case = f'* {case1}'\n",
    "    else:\n",
    "        case= f'* {case2}'\n",
    "\n",
    "    return fr'''\n",
    "    * $a = {a}$\n",
    "    * $n = {len(X)}$\n",
    "    ''' +\\\n",
    "    dispersija('X', X) +\\\n",
    "    fr'''* $S_X = \\sqrt{{{S}}} = {round(S**0.5, 2)}$\n",
    "    * $\\sqrt{{{'n'}}} = \\sqrt{{{len(X)}}} = {round(len(X)**0.5, 2)}$\n",
    "    * Tikrinama hipotezė: $\\begin{{{'cases'}}} H_0: \\mu = {a} \\\\ H_1: \\mu {e[alternative]} {a} \\end{{{'cases'}}}$ (alternatyva {d[alternative]})\n",
    "    ''' + r'* $\\displaystyle T = \\frac{\\overline{X} - a}{S_X^2/\\sqrt{n}} = ' + \\\n",
    "    r'\\frac{' + f'{m}-{a}'+r'}{'+f'{s}/{sn}'+r'} = \\boxed{'+f'{round((m-a)/(s/sn), 2)}'+r'}$'''+f'\\n'+ case\n",
    "    #* $W = (1.667, \\infty)$\n",
    "    #* $\\boxed{4.69}$ priklauso $W$, nulinė hipotezė atmetama, vadinasi užduotis nutekėjo.)\n",
    "    \n",
    "pr(hip1(X, a, alpha))"
   ]
  },
  {
   "cell_type": "code",
   "execution_count": null,
   "metadata": {},
   "outputs": [],
   "source": [
    "1. Tikrinama hipotezė: $\\begin{{{'cases'}}} H_0: \\mu = {a} \\\\ H_1: \\mu \\neq {a} \\end{{{'cases'}}}$ (alternatyva dvipusė)\n",
    "2. $\\displaystyle T = \\frac{\\overline{X} - a}{S_1 / \\sqrt{n}} = \\frac{10.5 - 12}{2.43 / 2.45} = \\boxed{- 1.51}$ \n",
    "3. $\\alpha/2 = 0.05/2 = 0.025$, Kraštai: $-t_{0.025}(5) = -2.57$ ir $t_{0.025}(5) = 2.57$  \n",
    "4. $W = (-\\infty, -2.57) \\bigcup (2.57, +\\infty)$\n",
    "5. $\\boxed{- 1.51}$ nepriklauso $W$, vadinasi hipotezė neatmetama."
   ]
  }
 ],
 "metadata": {
  "kernelspec": {
   "display_name": "Python 3",
   "language": "python",
   "name": "python3"
  },
  "language_info": {
   "codemirror_mode": {
    "name": "ipython",
    "version": 3
   },
   "file_extension": ".py",
   "mimetype": "text/x-python",
   "name": "python",
   "nbconvert_exporter": "python",
   "pygments_lexer": "ipython3",
   "version": "3.8.3"
  }
 },
 "nbformat": 4,
 "nbformat_minor": 4
}
