{
 "cells": [
  {
   "cell_type": "markdown",
   "metadata": {},
   "source": [
    "### Lentelės, kuriomis remtis:\n",
    "\n",
    "[](lentele_za.PNG)\n",
    "[](lentele_stju.PNG)\n",
    "[](lentele_ksi.PNG)"
   ]
  },
  {
   "cell_type": "markdown",
   "metadata": {},
   "source": [
    "![](lentele_stju.PNG)\n",
    "![](lentele_za.PNG)\n",
    "![](lentele_ksi.PNG)"
   ]
  },
  {
   "cell_type": "markdown",
   "metadata": {},
   "source": [
    "## Absoliučiai visas skaičiavimas\n",
    "Kadangi skaičiuot su kalkuliatorium nesiseka, tai geriau naudot skaičiuokles, tokias kaip [WolframAlpha](www.wolframalpha.com/)\n",
    "* [$\\frac{115.94 - 120}{12.277 / 4}$](https://www.wolframalpha.com/input/?i=%28115.94+-+120%29%2F%2812.277+%2F+4%29)\n",
    "* [$\\frac{(10 - 10.5)^2 + (7 - 10.5)^2 + (14 - 10.5)^2 + (12 - 10.5)^2 + (11 - 10.5)^2 + (9-10.5)^2}{5}$](https://www.wolframalpha.com/input/?i=%28%2810+-+10.5%29%5E2+%2B+%287+-+10.5%29%5E2+%2B+%2814+-+10.5%29%5E2+%2B+%2812+-+10.5%29%5E2+%2B+%2811+-+10.5%29%5E2+%2B+%289-10.5%29%5E2%29%2F5)\n",
    "* [$\\sqrt{6}$](https://www.wolframalpha.com/input/?i=6%5E0.5)"
   ]
  },
  {
   "cell_type": "markdown",
   "metadata": {},
   "source": [
    "## Dispersijos skaičiavimas\n",
    "$S_1$ - šaknis iš patikslintos dispersijos. Patikslinta reiškia, kad kvadratų suma bus dalijama iš vienetu mažesnio.\n",
    "### S1 skaičiavimo hintai:\n",
    "* vidurkis\n",
    "* nuokrypiai nuo vidurkio\n",
    "* nuokrypių kvadratai\n",
    "* nuokrypių kvadratų suma\n",
    "* dalinti iš vienetu mažesnio imties dydžio\n",
    "* šaknis iš rezultato"
   ]
  },
  {
   "cell_type": "markdown",
   "metadata": {},
   "source": [
    "### Dispersijos skaičiavimo pavyzdžiai\n",
    "\n",
    "**Pavyzdys 1.** Duota imtis X = 4, 2, 5, 4, 6\n",
    "\n",
    "1. $\\frac{4 + 2 + 5 + 4 + 6}{5} = 4.2$\n",
    "2. $(4 - 4.2)^2 + (2 - 4.2)^2  + (5 - 4.2)^2  + (4 - 4.2)^2  + (6 - 4.2)^2 = 0.2^2+2.2^2+0.8^2+0.2^2+1.8^2 = 8.8$\n",
    "3. $\\frac{(4 - 4.2)^2 + (2 - 4.2)^2  + (5 - 4.2)^2  + (4 - 4.2)^2  + (6 - 4.2)^2}{4} = 2.2$ - Gavome **patikslintą** dispersiją\n",
    "4. Jei reikia rasti $S_1$, tai $S_1 = \\sqrt{2.2} \\approx 1.5$"
   ]
  },
  {
   "cell_type": "markdown",
   "metadata": {},
   "source": [
    "**Pavyzdys 2.** Duota imtis X = 4,4,4,4,4,4, 5,5,5,5,5,5,5,5,5,5, 6,6,6,6,6,6\n",
    "\n",
    "1. $\\frac{4 \\times 6 + 5 \\times 10 + 6 \\times 6}{22} = 110/22=5$\n",
    "2. $1^2 \\times 6 + 0^2 \\times 10 + 1^2 \\times 6 = 12$\n",
    "3. $12/21 = 0.571$\n",
    "4. Jei reikia rasti $S_1$, tai $S_1 = \\sqrt{0.571} \\approx 0.756$"
   ]
  },
  {
   "attachments": {},
   "cell_type": "markdown",
   "metadata": {},
   "source": [
    "## Hipotezė apie vidurkio lygybę skaičiui, kai dispersija nežinoma.\n",
    "**Kai tikriname hipotezes, reikia vengti išvadų kaip pavyzdžiui, nulinė hipotezė teisinga arba nulinė hipotezė priimama. Geriau formuluoti taip: nėra pagrindo atmesti nulinę hipotezę, arba imties duomenys neprieštarauja nulinei hipotezei, susilaikant nuo galutinio sprendimo.**\n",
    "\n",
    "**Hipotezės matematinis užrašymas:** $\\begin{cases} H_0: \\mu = a \\\\ H_1: \\mu \\neq a \\end{cases}$\n",
    "\n",
    "**Statistinio kriterijaus statistika:** $\\displaystyle T = \\frac{\\overline{X} - a}{S_1 / \\sqrt{n}} \\Leftarrow\n",
    "\\begin{cases} \\overline{X} \\leftarrow \\text{imties vidurkis}\\\\ \n",
    "a \\leftarrow \\text{vidurkis, nurodytas hipotezėje}\\\\\n",
    "S_1 \\leftarrow \\text{šaknis iš patikslintos imties dispersijos}\\\\\n",
    "n \\leftarrow \\text{imties dydis} \\end{cases}$\n",
    "\n",
    "**Kritinė sritis W:** \n",
    "\n",
    "![](intervalai_stju.png)\n",
    "\n",
    "||Pirmas kraštas|Antras kraštas|\n",
    "|---|---|---|\n",
    "|Vienpusė alternatyva| $-t_{\\alpha}(n-1)$ | $t_{\\alpha}(n-1)$|\n",
    "|Dvipusė alternatyva| $-t_{\\alpha/2}(n-1)$ | $t_{\\alpha/2}(n-1)$|"
   ]
  },
  {
   "cell_type": "markdown",
   "metadata": {},
   "source": [
    "**Pavyzdys 1.** Patikrinus 16 atsitiktinai parinktų auditorijos studentų sistolinį\n",
    "kraujo spaudimą, gauti tokie rezultatai: $$X = [120, 115, 125, 110, 100, 120, 130, 110, 140, 125, 115, 100, 90, 120, 115, 120]$$ Esant reikšmingumo lygmeniui $\\alpha = 0.05$, patikrinkite hipotezę $\\begin{cases} H_0: \\mu = 120 \\\\ H_1: \\mu \\neq 120 \\end{cases}$"
   ]
  },
  {
   "cell_type": "markdown",
   "metadata": {},
   "source": [
    "**Sprendimas**\n",
    "\n",
    "$\\overline{X} = \\frac{120 + 115 + 125 + 110 + 100 + 120 + 130 + 110 + 140 + 125 + 115 + 10 + 90 + 120 + 115 + 120}{16} = 115.94$\n",
    "\n",
    "$a = 120$\n",
    "\n",
    "$S_1 = \\sqrt{150.73} = 12.277$\n",
    "\n",
    "$n = 16$\n",
    "\n",
    "1. Tikrinama hipotezė: $\\begin{cases} H_0: \\mu = 120 \\\\ H_1: \\mu \\neq 120 \\end{cases}$ (alternatyva dvipusė)\n",
    "2. $\\displaystyle T = \\frac{\\overline{X} - a}{S_1 / \\sqrt{n}} = \\frac{115.94 - 120}{12.277 / 4}= \\boxed{- 1.32}$ \n",
    "3. $\\alpha/2 = 0.05/2 = 0.025$; Kraštai: $-t_{0.025}(15) = -2.131$ ir $t_{0.025}(15) = 2.131$\n",
    "4. $W = (-\\infty, -2.131) \\bigcup (2.131, +\\infty)$\n",
    "5. $\\boxed{- 1.32}$ nepriklauso $W$, vadinasi hipotezė neatmetama (sistolinis kraujo spaudimas nesiskiria nuo normos)."
   ]
  },
  {
   "cell_type": "markdown",
   "metadata": {},
   "source": [
    "**Pavyzdys 2.** Duota imtis $X = [10, 7, 14, 12, 11, 9]$. Patikrinti hipotezę, kad įprastinis imties vidurkis būna 12, kai reikšmingumo lygmuo yra $\\alpha = 0.05$"
   ]
  },
  {
   "cell_type": "markdown",
   "metadata": {},
   "source": [
    "**Sprendimas**\n",
    "\n",
    "$\\overline{X} = \\frac{10 + 7 + 14 + 12 + 11 + 9}{6} = \\frac{63}{6} = 10.5$\n",
    "\n",
    "$a = 12$\n",
    "\n",
    "$S_1 = \\sqrt{\\frac{(10 - 10.5)^2 + (7 - 10.5)^2 + (14 - 10.5)^2 + (12 - 10.5)^2 + (11 - 10.5)^2 + (9-10.5)^2}{5}} = \\sqrt{\\frac{29.5}{5}} = \\sqrt{5.9} = 2.43$\n",
    "\n",
    "$n = 6$\n",
    "\n",
    "$\\sqrt{n} = \\sqrt{6} = 2.45$\n",
    "\n",
    "1. Tikrinama hipotezė: $\\begin{cases} H_0: \\mu = 12 \\\\ H_1: \\mu \\neq 12 \\end{cases}$ (alternatyva dvipusė)\n",
    "2. $\\displaystyle T = \\frac{\\overline{X} - a}{S_1 / \\sqrt{n}} = \\frac{10.5 - 12}{2.43 / 2.45} = \\boxed{- 1.51}$ \n",
    "3. $\\alpha/2 = 0.05/2 = 0.025$, Kraštai: $-t_{0.025}(5) = -2.57$ ir $t_{0.025}(5) = 2.57$  \n",
    "4. $W = (-\\infty, -2.57) \\bigcup (2.57, +\\infty)$\n",
    "5. $\\boxed{- 1.51}$ nepriklauso $W$, vadinasi hipotezė neatmetama."
   ]
  },
  {
   "cell_type": "markdown",
   "metadata": {},
   "source": [
    "**Pavyzdys 3.** Dr. K.Kiškis pasiūlė meninę dietą \"graužiu ir liesėju\" (pertraukose tarp pagraužimų dainuojamos liaudies\n",
    "dainos). Jis teigia, kad ši dieta leidžia numesti vidutiniškai po 5 kg svorio per pirmąjį mėnesį. Dešimt savanorių\n",
    "išbandė naująją dietą. Per mėnesį jie numetė atitinkamai $[3, 2, 5, 6, 7, 4, 2, 3, 0, 6]$ kg svorio. Ar duomenys\n",
    "neprieštarauja iškeltai hipotezei? $\\alpha = 0.01$"
   ]
  },
  {
   "cell_type": "markdown",
   "metadata": {},
   "source": [
    "**Sprendimas**\n",
    "\n",
    "$\\overline{X} = \\frac{3+2+5+6+7+4+2+3+0+6}{10} = \\frac{38}{10} = 3.8$\n",
    "\n",
    "$a = 5$\n",
    "\n",
    "$\\displaystyle S_1 = \\sqrt{\\frac{(3-3.8)^2 + (2-3.8)^2 + (5-3.8)^2 + (6-3.8)^2 + (7-3.8)^2 + (4-3.8)^2 + (2-3.8)^2 + (3-3.8)^2 + (0-3.8)^2 + (6-3.8)^2}{9}} = \\sqrt{\\frac{0.64 + 3.24 + 1.44 + 4.84 + 10.24 + 0.04 + 3.24 + 0.64 + 14.44 + 4.84}{9}} = \\sqrt{\\frac{43.6}{9}} = 2.2$\n",
    "\n",
    "$n = 10$\n",
    "\n",
    "$\\sqrt{n} = \\sqrt{10} = 3.16$\n",
    "\n",
    "1. Tikrinama hipotezė $\\begin{cases} H_0: \\mu = 5 \\\\ H_1: \\mu < 5 \\end{cases}$ (alternatyva vienpusė)\n",
    "2. $\\displaystyle T = \\frac{\\overline{X} - a}{S_1 / \\sqrt{n}} = \\frac{3.8 - 5}{2.2 / 3.16}= \\boxed{-1.72}$ \n",
    "3. $\\alpha = 0.01$, pirmas kraštas: $t_{0.01}(9) = 2.82$  \n",
    "4. $W = (-\\infty, -2.82)$\n",
    "5. $\\boxed{-1.72}$ nepriklauso $W$, vadinasi duomenys neprieštarauja."
   ]
  },
  {
   "cell_type": "markdown",
   "metadata": {},
   "source": [
    "**Pavyzdys 4.** Statistikos profesorius keletą metų egzaminams naudoja\n",
    "tą patį 100 balų testą. Daugelio metų rezultatų vidurkis\n",
    "yra 78,3 balo. Šių metų 49 studentų testo rezultatų imties\n",
    "vidurkis yra 85 balai, standartinis nuokrypis 10 balų. Ar\n",
    "duomenys patvirtina hipotezę, kad užduotis „nutekėjo“?\n",
    "$\\alpha =0.05$"
   ]
  },
  {
   "cell_type": "markdown",
   "metadata": {},
   "source": [
    "**Sprendimas**\n",
    "\n",
    "$\\overline{X} = 85$\n",
    "\n",
    "$a = 78.3$\n",
    "\n",
    "$S_1 = 10$\n",
    "\n",
    "$n = 49$\n",
    "\n",
    "0. Būtų gerai parašyti, kad tikrinama hipotezė $\\begin{cases} H_0: \\mu = 78.3 \\\\ H_1: \\mu > 78.3 \\end{cases}$ (nulinė hipotezė bus kad užduotis nenutekėjo, kitaip nei klausia sąlygoje)\n",
    "1. Pagal duotą formulę $T = \\frac{\\overline{X} - a}{S_1 / \\sqrt{n}} = \\frac{85 - 78.3}{10 / \\sqrt{49}}= \\boxed{4.69}$ \n",
    "2. $\\alpha = 0.05$ (alternatyvi hipotezė vienpusė, antras kraštas)\n",
    "3. $t_{0.05}(48) = 1.667$  \n",
    "4. $W = (1.667, \\infty)$\n",
    "5. $\\boxed{4.69}$ priklauso $W$, nulinė hipotezė atmetama, vadinasi užduotis nutekėjo."
   ]
  },
  {
   "cell_type": "markdown",
   "metadata": {},
   "source": [
    "**Pavyzdys 5.** Pedagogas tvirtina, kad vidutinis pavaduojančių mokytojų atlyginimas Pensilvanijos Alegenio apygardoje yra mažesnis nei 60$\\$$ per dieną. Sudaryta mokyklų imtis iš 8 atsitiktinių rajonų ir gauti atlyginimai doleriais per dieną: $[60, 56, 60, 55, 70, 55, 60, 55]$. Ar ji patvirtina pedagogo teiginį, kai $\\alpha = 0.1$?\n",
    "\n",
    "**Sprendimas.** \n",
    "\n",
    "$\\overline{X} = \\frac{60 + 56 + 60 + 55 + 70 + 55 + 60 + 55}{8} = 58.88$\n",
    "\n",
    "$a = 60$\n",
    "\n",
    "$\\displaystyle S_1 = \\sqrt{\\frac{(60-58.88)^2 + (56-58.88)^2 + (60-58.88)^2 + (55-58.88)^2 + (70-58.88)^2 + (55-58.88)^2 + (60-58.88)^2 + (55-58.88)^2}{7}}= \\sqrt{\\frac{1.25 + 8.29 + 1.25 + 15.05 + 123.65 + 15.05 + 1.25 + 15.05}{7}} = \\sqrt{25.84} = 5.08$\n",
    "\n",
    "$n = 8$; $\\sqrt{8} = 2.83$\n",
    "\n",
    "1. Tikrinama hipotezė $\\begin{cases} H_0: \\mu = 60 \\\\ H_1: \\mu < 60 \\end{cases}$ (alternatyva vienpusė)\n",
    "2. Pagal duotą formulę $\\displaystyle T = \\frac{\\overline{X} - a}{S_1 / \\sqrt{n}} = \\frac{58.88 - 60}{5.08 / 2.83} = \\boxed{-0.63}$ \n",
    "3. $\\alpha = 0.1$, kraštai: $-t_{0.05}(7) = -1.42$ ir $t_{0.05}(7) = 1.42$\n",
    "5. $W = (-\\infty, -1.42) \\bigcup (1.42, +\\infty)$\n",
    "5. $\\boxed{-0.63}$ nepriklauso $W$. Pedagogo teiginio negalima nei patvirtinti, nei paneigti."
   ]
  },
  {
   "cell_type": "markdown",
   "metadata": {},
   "source": [
    "**Pavyzdys 6.**\n",
    "Duota hipotezė, kad žmogus savo gyvenimo kokybę vertina vidutiniškai. Vidutiniu laikomas įvertis 12. Taip pat duota jos alternatyva, kad respondentai savo gyvenimo kokybę vertina geriau arba blogiau, nei vidutiniškai. Patikrinkite ją vyrams, kai $\\alpha = 0.05$.\n",
    "\n",
    "Vyrų rezultatai: $[12, 13, 15, 11, 12, 14, 12, 15, 18, 15, 11, 13]$"
   ]
  },
  {
   "cell_type": "markdown",
   "metadata": {},
   "source": [
    "**Pavyzdys 7.**\n",
    "Kaip teigia ***Time Magazine***, vyrai knygų skaitymui skiria vidutiniškai po 23 minutes per dieną. Norint tuo įsitikinti, buvo išrinkta 25 vyrų imtis ir gauti tokie duomenys: $[35, 15, 15, 18, 24, 27, 19, 25, 20, 23, 27, 20, 19, 21, 25, 20, 27, 10, 21, 25, 20, 23, 28, 17]$. Ar šie duomenys neprieštarauja žurnalo teiginiui? $\\alpha = 0.05$"
   ]
  },
  {
   "cell_type": "markdown",
   "metadata": {},
   "source": [
    "**Pavyzdys 8.**\n",
    "Psichologas nori sužinoti, ar tikrai kasmet didėja studentų intelekto koeficientas, t.y., ar skiriasi dabartinių antrakursių intelekto koeficientas nuo ankstesnių. Prieš 10 metų antrakursių intelekto koeficientų vidurkis buvo $102$. Ištyrus $100$ antrakursių gauta $\\overline{X} = 105$, $s^2=23$. Tarkime, reikšmingumo lygmuo $\\alpha=0.05.$"
   ]
  },
  {
   "cell_type": "markdown",
   "metadata": {},
   "source": [
    "**Pavyzdys 9.** Švietimo ministerija nori žinoti, ar ištęstines studijas renkasi vis jaunesni žmonės. Prieš dešimtmetį vidutinis ištęstinių studijų studentų amžius buvo 35.6 metų. Atsitiktinai parinktų 20 studentų amžius: $[29, 38, 20, 24, 30, 32, 40, 34, 33, 32, 30, 28, 37, 35, 34, 39, 28, 40, 35, 32]$. Tarkime, reikšmingumo lygmuo $\\alpha=0.05.$ "
   ]
  },
  {
   "cell_type": "markdown",
   "metadata": {},
   "source": [
    "**Pavyzdys 10.** Norėdami optimizuoti batų gamybą batsiuviai apklausė 30-ies batų parduotuvių savininkus, kiek porų batų norės kiekviena parduotuvė per mėnesį. Paaiškėjo, kad per mėnesį parduotuvėms reikia $$[20, 40, 30, 38, 37, 42, 50, 42, 36, 37, 41, 47, 27, 42, 34, 22, 42, 32,40, 39, 44, 48, 40, 34, 35, 39, 45, 29, 40, 36]$$ batų porų. Ar gali batsiuviai tikėtis, kad viena parduotuvė vidutiniškai parduos ne mažiau kaip 40 batų porų per mėnesį? $\\alpha=0.05.$"
   ]
  },
  {
   "cell_type": "markdown",
   "metadata": {},
   "source": [
    "**Pavyzdys 11.** Tyrėjas kelia hipotezę, kad vidutinis didžiausių JAV verslo įmonių pelnas yra didesnis nei 24 milijardai JAV dolerių. Atrinkta 50 bendrovių ir nustatytas jų pelnas (milijardais dolerių). Ar su $\\alpha = 0.05$ galime teigti, kad tyrėjo teiginiai pagrįsti?\n",
    "\n",
    "$X = [17, 122, 91, 44, 35, 61, 56, 46, 20, 32, 30, 28, 28, 20, 27, 29, 16, 16, 19, 15, 41, 38, 36, 15, 25, 31, 30, 19, 19, 19, 24, 16, 15, 15, 19, 25, 25, 18, 14, 15, 24, 23, 17, 17, 22, 22, 19, 20, 17, 20]$"
   ]
  },
  {
   "cell_type": "markdown",
   "metadata": {},
   "source": [
    "**Pavyzdys 13.** Pradėdami naujo bealkoholinio alaus gamybą, alaus daryklos savininkai nori žinoti jo poreikį. Apklausus 30 atsitiktinai parinktų prekybos tinklo „Trys paršeliai“ parduotuvių direktorių, paaiškėjo, kad per metus parduotuvėms reikia : $$[20,40,30,38,37,42,50,42,36,37,41,47,27,42,34,22,42,32,40,39,44,48,40,34,35,39,45,29,40,36]$$ tūkst. dekalitrų. Ar gali daryklos savininkas tikėtis, kad viena parduotuvė vidutiniškai sunaudos ne mažiau kaip 40 tūkst. dekalitrų naujojo produkto? (α=0,05)"
   ]
  },
  {
   "cell_type": "markdown",
   "metadata": {},
   "source": [
    "### Hipotezė apie dispersijos lygybę skaičiui, kai vidurkis nežinomas.\n",
    "**Hipotezės matematinis užrašymas:** $\\begin{cases} H_0: \\sigma^2 = a \\\\ H_1: \\sigma^2 \\neq a \\end{cases}$\n",
    "\n",
    "**Statistinio kriterijaus statistika:** $\\displaystyle T = \\frac{n-1}{a} S_1^2 \\Leftarrow \\begin{cases}\n",
    "a \\leftarrow \\text{dispersija }\\sigma^2\\text{, nurodyta hipotezėje} \\\\\n",
    "S_1 \\leftarrow \\text{imties standartinis nuokrypis} \\\\\n",
    "n \\leftarrow \\text{imties dydis} \\end{cases}$\n",
    "\n",
    "**Kritinė sritis W:** \n",
    "\n",
    "![](intervalai_x.png)\n",
    "\n",
    "||Pirmas kraštas|Antras kraštas|\n",
    "|---|---|---|\n",
    "|Vienpusė alternatyva| $X^2_{1 - \\alpha/2}(n-1)$ | $X^2_{\\alpha/2}(n-1)$|\n",
    "|Dvipusė alternatyva| $X^2_{1-\\alpha}(n-1)$ | $X^2_{\\alpha}(n-1)$|"
   ]
  },
  {
   "cell_type": "markdown",
   "metadata": {},
   "source": [
    "**Pavyzdys 1.** Firma, gaminanti svarstykles, teigia, kad svarstyklių parodymų paklaidų standartinis nuokrypis $\\sigma$ neviršija 3 gramų. Ištyrus 26 svarstykles buvo rasta, kad svarstyklių paklaidų empirinis standartinis nuokrypis lygus 4 gr. Ar galime teigti, kad firmos teiginys nepagrįstas? $\\alpha=0.05.$\n",
    "\n",
    "**Sprendimas**\n",
    "\n",
    "$a = \\sigma^2 = 9$\n",
    "\n",
    "$S_1 = 4$\n",
    "\n",
    "$n = 26$\n",
    "\n",
    "1. Tikrinama hipotezė $\\begin{cases} H_0: \\sigma^2 = 9 \\\\ H_1: \\sigma^2 > 9 \\end{cases}$ (alternatyva vienpusė)\n",
    "2. $\\displaystyle T = \\frac{n-1}{a} \\times S_1^2 = \\frac{25}{9} \\times 4^2 = \\boxed{44.44}$ \n",
    "3. $\\alpha = 0.05$, antras kraštas: $\\chi^2_{0.05}(25) \\approx 37.65$  \n",
    "4. $W = (37.65, +\\infty)$\n",
    "5. $\\boxed{44.44}$ priklauso $W$. $H_0$ atmetama. Skirtumas tarp empirinės dispersijos ir hipotetinės dispersijos reikšmės negali būti paaiškintas imties atsitiktinumu."
   ]
  },
  {
   "cell_type": "markdown",
   "metadata": {},
   "source": [
    "**Pavyzdys 2.** Prieš pradėdamas nerimo ir baimės įveikos mokymus psichoterapeutas nori sudaryti moksleivių grupes iš populiacijos, kurios nerimastingumo lygio vidurkis būtų lygus 82 balai, o standartinis nuokrypis būtų lygus 6 balams. Vienos iš sudarytų grupių testo rezultatai yra: $$[85, 80, 91, 87, 73, 75, 84, 86, 67, 79, 92, 78, 81, 90]$$ Duota, kad (85 + 80 + 91 + 87 + 73 + 75 + 84 + 86 + 67 + 79 + 92 + 78 + 81 + 90)/14 = 82. Ar galima manyti, kad ši grupė sudaryta iš populiacijos, kurios standartinis nuokrypis lygus 6 balams?"
   ]
  },
  {
   "cell_type": "markdown",
   "metadata": {},
   "source": [
    "**Sprendimas**\n",
    "\n",
    "$a = \\sigma^2 = 36$\n",
    "\n",
    "$S_1^2 = \\frac{(85-82)^2 + (80-82)^2 + (91-82)^2 + (87-82)^2 + (73-82)^2 + (75-82)^2 + (84-82)^2 + (86-82)^2 + (67-82)^2 + (79-82)^2 + (92-82)^2 + (78-82)^2 + (81-82)^2 + (90-82)^2}{13} = \\frac{9 + 4 + 81 + 25 + 81 + 49 + 4 + 16 + 225 + 9 + 100 + 16 + 1 + 64}{13}=684/13 \\approx 52.615$\n",
    "\n",
    "$n = 14$\n",
    "\n",
    "0. Būtų gerai parašyti, kad tikrinama hipotezė $\\begin{cases} H_0: \\sigma^2 = 36 \\\\ H_1: \\sigma^2 \\neq 36 \\end{cases}$\n",
    "1. Pagal duotą formulę $T = \\frac{n-1}{a} S_1^2 = \\frac{13}{36} \\times \\frac{684}{13} = \\boxed{19}$ \n",
    "2. $1-\\alpha/2 = 0.975; \\alpha/2 = 0.025$ (alternatyvi hipotezė dvipusė)\n",
    "3. $\\chi^2_{0.95}(13) \\approx 5.009, \\chi^2_{0.05}(13) \\approx 24.736$  \n",
    "4. $W = (0, 5.009) \\bigcup (24.736, +\\infty)$\n",
    "5. $\\boxed{19}$ nepriklauso $W$. $H_0$ neatmetama. Empirinė dispersija nuo hipotetinės dispersijos skiriasi statistiškai nereikšmingai."
   ]
  },
  {
   "cell_type": "markdown",
   "metadata": {},
   "source": [
    "### Kiti uždaviniai"
   ]
  },
  {
   "cell_type": "markdown",
   "metadata": {},
   "source": [
    "**Pavyzdys 1.**\n",
    "Vertybinių popierių rinkos ekspertas kiekvieną dieną nustato dvidešimties iš anksto pasirinktų vertybinių popierių buvusį dienos kainų vidurkį. Per mėnesį gauti tokie duomenys: $$[24,30,25,23,25,27,30,24,27,23,26,23,25,24,26,24,26,22,24,24,28].$$ Raskite dienos kainų vidurkio 90% pasikliautinąjį intervalą"
   ]
  },
  {
   "cell_type": "markdown",
   "metadata": {},
   "source": [
    "**Pavyzdys 2.** Tyrėjas nori sužinoti, ar vidutinis ilgiausių JAV upių ilgis yra didesnis už Europos. Ar šį teiginį galima atmesti? Duomenys pateikiami myliomis, $\\alpha = 0.01$. Laikykite, kad $\\sigma_1 = 450$ ir $\\sigma_2 = 474$.\n",
    "\n",
    "JAV upės: $[729, 329, 450, 330, 329, 600, 1243, 525, 850, 532, 710, 300, 560, 332, 2315, 410, 800, 1310, 605, 926, 310, 375, 545, 470, 434, 360, 865, 1036, 447, 652, 360, 722, 430, 1979, 259, 425]$\n",
    "\n",
    "Europos upės: $[481, 532, 1776, 1224, 1420, 877, 447, 824, 634, 565, 675, 724, 357, 1122, 634, 326, 580, 567, 932, 1124, 405, 454, 820, 505, 496, 230, 626, 210, 252, 600, 1575, 2290]$"
   ]
  },
  {
   "cell_type": "markdown",
   "metadata": {},
   "source": [
    "**Pavyzdys 3.** Patikrinkite teiginį, kad dviejų populiacijų vidurkiai yra vienodi remdamiesi pateiktais duomenimis, kai $\\alpha = 0.05$. Laikykite, kad dispersijos $\\sigma^2_A = 10.067$ ir $\\sigma^2_B = 7.067$.\n",
    "\n",
    "Pirma populiacija: $[10, 2, 15, 18, 13, 15, 16, 14, 18, 12, 15, 15, 14, 18, 16]$\n",
    "\n",
    "Antra populiacija: $[5, 8, 10, 9, 9, 11, 12, 16, 8, 8, 9, 10, 11, 7, 6]$"
   ]
  },
  {
   "cell_type": "markdown",
   "metadata": {},
   "source": [
    "**Pavyzdys 4.** Ar pirmadieniais ir penktadieniais vienodai ilgai kalbama telefonu?  Abi dienas $(p, pt)$ slapta stebėti tie patys vienos firmos darbuotojai. Duomenys: $(20,32), (40,45), (15,11), (120, 110), (34,39), (27,24), (33,35),(40,36), (20,19), (10,15)$ min."
   ]
  },
  {
   "cell_type": "markdown",
   "metadata": {},
   "source": [
    "**Pavyzdys 5.** Psichologas nori patikrinti, ar nemiegota naktis stipriai sulėtina vairuotojų reakcijos greitį. Buvo atlikti 10 žmonių reakcijos matavimai (milisekundėmis) atitinkamai ryte po nemiegotos nakties ir išvakarėse:\n",
    "$$[(47, 44), (52, 45), (48, 43), (36, 29), (43, 37), (53, 46), (54, 51), (50, 47), (51, 45), (44, 38)]$$ Patikrinti hipotezę, kad po nakties reakcija reikšmingai sulėtėja. (α=0,01)"
   ]
  },
  {
   "cell_type": "markdown",
   "metadata": {},
   "source": [
    "**Pavyzdys 6.** Saulėtekyje ekonomikos fakultete yra liftas-ekspresas: nesvarbu, kokį mygtuką bespaustum, liftas be sustojimų kursuoja tik maršrutu : 1 aukštas – 7aukštas. Psichologas pirmą rugsėjo savaitę važinėja liftu-ekspresu ir stebi fuksų reakciją. Jo išankstine nuomone du trečdaliai fuksų apsimes, kad važiuoja į 7 aukštą, o vienas iš trijų fuksų parodys nerimo žymes(pradės blaškytis po kabiną, maigyti mygtukus, spardyti duris, keiktis). Ištyrus 130 studentų, nustatyta, kad 60 iš jų parodė nerimo žymes, o 70 buvo ramūs. Ar duomenys patvirtina psichologo nuomonę?"
   ]
  },
  {
   "cell_type": "markdown",
   "metadata": {},
   "source": [
    "**Pavyzdys 7.** Vienas dėstytojas reklamuoja tokią gripo profilaktiką: ryte išgerti imbiero arbatos ir užkasti česnaku. Dalis dėstytojų išbandė šį metodą, dalis ne. Ar metodas tikrai padeda?\n",
    "\n",
    "![](uzdlent.PNG)"
   ]
  },
  {
   "cell_type": "markdown",
   "metadata": {},
   "source": [
    "**Pavyzdys 8.** Tyrėjai nustatė, kad nedideliuose slaugos namuose paskiepyti buvo 12 iš 34 slaugos namų gyventojų. Tuo tarpu dideliuose slaugos namuose buvo paskiepyta 17 iš 24 gyventojų. Patikrinkite hipotezę, kad nėra skirtumo tarp proporcijų, kai $\\alpha = 0.05$. Ar skiriasi skiepijimo procentas abiejuose globos namuose nuo 80%?"
   ]
  },
  {
   "cell_type": "markdown",
   "metadata": {},
   "source": [
    "**Pavyzdys 9.** Iš 50 vyrų imties 44 teigė, kad jie šiandien turi mažiau laisvalaikio nei prieš 10 metų. Iš 50 moterų imties 48 moterys teigė, kad jos turėjo mažiau laisvalaikio nei prieš 10 metų. Pasirinkę $\\alpha=0.1$ patikrinkite, ar skiriasi proporcijos abiejose grupėse."
   ]
  },
  {
   "cell_type": "markdown",
   "metadata": {},
   "source": [
    "**Pavyzdys 10.** Laikydami, kad $\\alpha=0.05$, patikrinkite hipotezę, kad dviejų populiacijų dispersijos yra vienodos, naudodami pateiktų pavyzdžių duomenis. \n",
    "\n",
    "A imtis: $[63, 73, 80, 60, 86, 83, 70, 72, 82]$\n",
    "    \n",
    "B imtis: $[86, 93, 64, 82, 81, 75, 88, 63, 63]$\n"
   ]
  },
  {
   "cell_type": "markdown",
   "metadata": {},
   "source": [
    "**Pavyzdys 11.** Kolegija nori patikrinti, kada studentai geriau išmoksta anglų kalbą:  skaitydami XIX a. romaną ar žiūrėdami filmus. Daliai studentų buvo paskirta perskaityt vieną romaną, o kitiems – žiūrėti filmus. Tada buvo surengta viktorina. Testo rezultatai pateikti žemiau. Patikrinkite, ar galima daryti išvadą, kad skaitant knygas anglų kalbos išmokstama geriau nei žiūrint filmus ($\\alpha = 0.05$).\n",
    "\n",
    "Skaičiusiųjų knygą gauti balai: $[90, 80, 90, 75, 80, 90, 84]$\n",
    "\n",
    "Žiūrėjusiųjų filmus įvertinimai: $[85, 72, 80, 80, 70, 75, 80]$"
   ]
  },
  {
   "cell_type": "markdown",
   "metadata": {},
   "source": [
    "**Pavyzdys 12.**\n",
    "Buvo matuojamas dviejų grupių fizinis pasiruošimas. Gauti duomenys: $X=[76, 71, 57, 49, 70, 69, 26, 65, 59]$ ir $Y=[81, 85, 52, 52, 70, 63, 33, 83]$. Nustatykite, ar abiejų grupių sportininkų fizinis pasiruošimas vienodas, jei žinoma, kad jis turi normalųjį skirstinį. $\\alpha=0.05.$"
   ]
  },
  {
   "cell_type": "markdown",
   "metadata": {},
   "source": [
    "Apie chi kvadratą:\n",
    "    \n",
    "* Tai pagrindinis anketinių apklausų duomenų analizės įrankis.\n",
    "* Naudojamas tirti suderinimumo hipotezėms - koks yra skirstinys: normalusis, Puasono, binominis.\n",
    "* Naudojams tirti dviejų kintamųjų nepriklausomumui - ar vienoje populiacijoje stebimi du kintamieji yra nepriklausomi\n",
    "* vieno kintamojo homogeniškumui tikrinti - ar keliose populiacijose stebimas vienodas kintamasis"
   ]
  },
  {
   "cell_type": "markdown",
   "metadata": {},
   "source": [
    "### Pasikliautinieji intervalai\n",
    "**Pavyzdys 1.** Vertybinių popierių rinkos analitikas kiekvieną dieną nustato vertybinių popierių portfelio praeitos dienos kainų vidurkį. Per 2 savaites gauti duomenys: $[24, 22, 25, 23, 25, 27, 30, 24, 27, 23]$. Raskite dienos kainų $X \\sim N(\\mu, \\sigma^2)$ vidurkio $\\mu$ 90% pasikliautinąjį intervalą."
   ]
  },
  {
   "cell_type": "markdown",
   "metadata": {},
   "source": [
    "**Pavyzdys 2.** Rasti atsitiktinio dydžio $X \\sim N(\\mu, 32)$ vidurkio pasikliautinąjį intervalą, jei $Q = 0.99$, $n = 16$, $\\overline{X} = 10.2$"
   ]
  },
  {
   "cell_type": "markdown",
   "metadata": {},
   "source": [
    "**Pavyzdys 3.** Vienas iš staklių išsiderinimo požymių yra gaminamų detalių skersmens pokyčiai. Leistinas svyravimų nuokrypis yra $\\sigma = 1$ mm. Išmatavus $31$ detalę, gauta $S_1 = 1.5$ mm. Rasti skersmens svyravimų dispersijos $95\\%$ pasikliautinąjį intervalą ir nuspręsti, ar staklės yra išsiderinusios. Skersmens pokytis $X \\sim N(\\mu, \\sigma^2)$, abu parametrai nežinomi."
   ]
  },
  {
   "cell_type": "markdown",
   "metadata": {},
   "source": [
    "**Pavyzdys 4.** Detalių ilgis matuojamas milimetrais turi normalųjį skirstinį $X \\sim N(\\mu, 0.0001)$. Kokio dydžio turėtų būti imtis, kad nežinomo detalės ilgio $\\mu$ 95% pasikliautinasis intervalas nebūtų ilgesnis už $0.003$ mm?"
   ]
  },
  {
   "cell_type": "markdown",
   "metadata": {},
   "source": [
    "**Pavyzdys 5.**\tIšmatuotas $49$ studentų cholesterino kraujyje kiekis. Gautas vidurkis lygus $310$. Koks yra cholesterino kraujyje kiekio $95\\%$ pasikliautinasis intervalas jeigu populiacijos dispersija lygi $25$?"
   ]
  },
  {
   "cell_type": "markdown",
   "metadata": {},
   "source": [
    "**Pavyzdys 6.** Naujo leidinio dešimtyje puslapių rasta atitinkamai $3, 0, 2, 1, 0, 4, 3, 2, 1, 2$ korektūros klaidos. Raskite vidutinio klaidų puslapyje skaičiaus 95% pasikliautinąjį intervalą."
   ]
  },
  {
   "cell_type": "markdown",
   "metadata": {},
   "source": [
    "### $\\chi^2$ suderinamumo kriterijus\n",
    "\n",
    "**Hipotezės matematinis užrašymas**\n",
    "$\\begin{cases} H_0: p_1 = a_1, p_2 = a_2, \\dots p_n = a_n\\\\ H_1: \\text{bent vienas } a_i \\text{ kitoks}\\end{cases}$\n",
    "\n",
    "**Statistinio kriterijaus statistika:**\n",
    "$\\chi^2 = \\displaystyle\\sum_{i=1}^{n}\\frac{(O_i - E_i)^2}{E_i} \\Leftarrow \\begin{cases} O_i \\leftarrow \\text{stebimi dažniai} \\\\ E_i \\leftarrow \\text{tikėtini dažniai} \\\\ n \\leftarrow \\text{imties dydis (dažnių suma)}\\end{cases}$\n",
    "\n",
    "* $p_i$ - svoriai tarp 0 ir 1, susidedantys į 1\n",
    "* Kiekvieną $E_i$ gali reikėti apskaičiuoti pagal formulę $E_i = np_i$\n",
    "\n",
    "**Kritinė sritis W:** ![](intervalai_chi.png)\n"
   ]
  },
  {
   "cell_type": "markdown",
   "metadata": {},
   "source": [
    "**Pavyzdys 1.** 60 žiūrovų atsakė į klausimą, kokia televizija yra geriausia. Patikrinkite, ar visų kanalų reitingai vienodi.\n",
    "    \n",
    "| TV kanalas | LNK | LTV | TV3 | BTV | MTV | TV1 |\n",
    "|-----------|--------|------------|--------|------|-------|-------|\n",
    "| Stebimi dažniai  | 5     | 8         | 15     | 16   | 12    | 4     |\n",
    "| Tikrinami dažniai  | 10     | 10         | 10     | 10   | 10    | 10     |"
   ]
  },
  {
   "cell_type": "markdown",
   "metadata": {},
   "source": [
    "**Sprendimas**\n",
    "1. Tikrinama hipotezė: $\\begin{cases} H_0: p_1 = p_2 = p_3 = p_4 = p_5 = p_6 = \\frac{1}{6} \\\\ H_1: \\text{taip nėra}\\end{cases}$\n",
    "2. $\\chi^2 = \\displaystyle\\sum_{i=1}^{n}\\frac{(O_i - E_i)^2}{E_i} =\\frac{(5 - 10)^2}{10}+ \\frac{(8 - 10)^2}{10}+ \\frac{(15 - 10)^2}{10}+ \\frac{(16 - 10)^2}{10} + \\frac{(12 - 10)^2}{10} + \\frac{(4 - 10)^2}{10} = \\boxed{13}$\n",
    "3. $\\chi_{0.05}^2(5) = 11.07$\n",
    "4. $W = (11.07, +\\infty)$\n",
    "5. $\\boxed{13}$ priklauso $W$, hipotezė atmetama. Kanalai nėra vienodai populiarūs."
   ]
  },
  {
   "cell_type": "markdown",
   "metadata": {},
   "source": [
    "**Pavyzdys 2.**\n",
    "\n",
    "Laikydami, kad $\\alpha = 0.05$, patikrinkite hipotezę, kad iš visų butų, parduodamų Vilniaus mieste:\n",
    "* vieno kambario butai sudaro 1/7 rinkos dalį;\n",
    "* dviejų kambarių butai sudaro 3/7 rinkos dalį;\n",
    "* trijų kambarių butai sudaro 2/7 rinkos dalį;\n",
    "* keturių kambarių butai sudaro 1/7 rinkos dalį;\n",
    "\n",
    "Iš laikraštyje esančių 392 skelbimų apie buto pardavimą buvo rasti tokie skelbimai:\n",
    "\n",
    "| $x_i$ | 1 kambario | 2 kambarių | 3 kambarių | 4 kambarių|\n",
    "|-----------|--------|------------|--------|------|\n",
    "| $O_i$  | 45     | 176         | 100     | 71  |"
   ]
  },
  {
   "cell_type": "markdown",
   "metadata": {},
   "source": [
    "**Sprendimas**\n",
    "1. Tikrinama hipotezė: $\\begin{cases} H_0: p_1 = 1/7, p_2 = 3/7, p_3 = 2/7, p_1 = 1/7\\\\ H_1: \\text{bent vienas }p_i \\text{ kitoks}\\end{cases}$\n",
    "2. $\\begin{cases} E_1= 392 \\times 1/7 = 56 \\\\ E_2= 392 \\times 3/7 = 168\\\\ E_3= 392 \\times 2/7 = 112\\\\ E_4= 392 \\times 1/7 = 56 \\end{cases}; \\chi^2 = \\displaystyle\\sum_{i=1}^{n}\\frac{(O_i - E_i)^2}{E_i} =\\frac{(45 - 56)^2}{56}+ \\frac{(176 - 168)^2}{168}+ \\frac{(100 - 112)^2}{112}+ \\frac{(71 - 56)^2}{56} = \\boxed{7.845}$\n",
    "3. $\\chi_{0.05}^2(3) = 7.815$\n",
    "4. $W = (7.815, +\\infty)$\n",
    "5. $\\boxed{7.845}$ priklauso $W$, hipotezė atmetama."
   ]
  },
  {
   "cell_type": "markdown",
   "metadata": {},
   "source": [
    "**Pavyzdys 3.** Is there enough evidence to reject the claim that there is no preference in the selection\n",
    "of fruit soda flavors, using the data shown previously? Let $\\alpha = 0.05$. A sample of 100 people provided these data: \n",
    "\n",
    "|Cherry|Strawberry|Orange|Lime|Grape|\n",
    "|----|----|----|----|----|\n",
    "| 32 | 28 | 16 | 14 | 10 |"
   ]
  },
  {
   "cell_type": "markdown",
   "metadata": {},
   "source": [
    "**Pavyzdys 4.** Are these differences (observed frequencies from expected) significant (a preference exists), or are they due to chance?\n",
    "\n",
    "| Frequency | Cherry | Strawberry | Orange | Lime | Grape |\n",
    "|-----------|--------|------------|--------|------|-------|\n",
    "| Observed  | 32     | 28         | 16     | 14   | 10    |\n",
    "| Expected  | 20     | 20         | 20     | 20   | 20    |"
   ]
  },
  {
   "cell_type": "markdown",
   "metadata": {},
   "source": [
    "### $\\chi^2$ suderinamumo kriterijus\n",
    "\n",
    "**Hipotezės matematinis užrašymas**\n",
    "$\\begin{cases} H_0: \\text{Atsitiktiniai dydžiai X ir Y yra nepriklausomi}\\\\ H_1: \\text{Atsitiktiniai dydžiai X ir Y yra priklausomi}\\end{cases}$\n",
    "\n",
    "**Statistinio kriterijaus statistika:**\n",
    "$\\chi^2 = \\displaystyle\\sum_{i=1}^{I}\\sum_{i=1}^{J}\\frac{(O_{ij} - E_{ij})^2}{E_{ij}} \\Leftarrow \\begin{cases} O_{ij} \\leftarrow \\text{stebimi dažniai} \\\\ E_{ij} \\leftarrow \\text{tikėtini dažniai} \\\\ n \\leftarrow \\text{imties dydis (dažnių suma)}\\end{cases}$\n",
    "\n",
    "* $p_i$ - svoriai tarp 0 ir 1, susidedantys į 1\n",
    "* Kiekvieną $E_i$ gali reikėti apskaičiuoti pagal formulę $E_i = np_i$\n",
    "\n",
    "**Kritinė sritis W:** ![](intervalai_chi2.png)"
   ]
  },
  {
   "cell_type": "markdown",
   "metadata": {},
   "source": [
    "**Pavyzdys 3.**\tLecturers say that students evaluate them according to their grades. 350 students were randomly selected to verify this statement. Each student evaluated only one teacher. The data obtained is as follows.\n",
    "\n",
    "|Evaluation\\Grades| 0-4               | 5-6 | 7-8 | 9  | 10 |\n",
    "|------------|-------------------|-----|-----|----|----|\n",
    "| Excellent  | 10                | 15  | 30  | 25 | 20 |\n",
    "| Competent  | 30                | 40  | 60  | 25 | 25 |\n",
    "| Bad        | 40                | 45  | 10  | 10 | 15 |"
   ]
  },
  {
   "cell_type": "code",
   "execution_count": null,
   "metadata": {},
   "outputs": [],
   "source": []
  }
 ],
 "metadata": {
  "kernelspec": {
   "display_name": "Python 3",
   "language": "python",
   "name": "python3"
  },
  "language_info": {
   "codemirror_mode": {
    "name": "ipython",
    "version": 3
   },
   "file_extension": ".py",
   "mimetype": "text/x-python",
   "name": "python",
   "nbconvert_exporter": "python",
   "pygments_lexer": "ipython3",
   "version": "3.8.3"
  }
 },
 "nbformat": 4,
 "nbformat_minor": 4
}
