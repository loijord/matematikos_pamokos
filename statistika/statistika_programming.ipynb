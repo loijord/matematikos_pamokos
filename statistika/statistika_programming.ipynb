{
 "cells": [
  {
   "cell_type": "markdown",
   "metadata": {},
   "source": [
    "### Keletas komandų\n",
    "Apmokysiu Pitoną keletą komandų, kad būtų lengviau dirbti"
   ]
  },
  {
   "cell_type": "code",
   "execution_count": 3,
   "metadata": {},
   "outputs": [],
   "source": [
    "import numpy as np\n",
    "import matplotlib.pyplot as plt\n",
    "\n",
    "def std(x):\n",
    "    return np.std(x)\n",
    "\n",
    "def mean(x):\n",
    "    return np.mean(x)\n",
    "\n",
    "\n",
    "def brėžk_skirstinį(x):  \n",
    "    plt.figure(figsize = (20, 5))\n",
    "    n, bins, patches = plt.hist(x=x, bins='auto', color='#0504aa',\n",
    "                            alpha=0.7, rwidth=0.95)\n",
    "\n",
    "    plt.grid(axis='y', alpha=0.75)\n",
    "    plt.xlabel('Value')\n",
    "    plt.ylabel('Frequency')\n",
    "    plt.title(f'$X \\sim N({round(mean(x),3)}, {round(std(x),3)})$', fontsize=20) #\\mu= \\sigma=\n",
    "    maxfreq = n.max()\n",
    "    # Set a clean upper y-axis limit.\n",
    "    plt.ylim(ymax=np.ceil(maxfreq / 10) * 10 if maxfreq % 10 else maxfreq + 10)\n",
    "    plt.show()\n",
    "    \n",
    "def duok_skirstinį(size, miu, sigma, ints=True):\n",
    "    sk = sigma*np.random.randn(size) + miu\n",
    "    if ints:\n",
    "        return sk.astype(int)\n",
    "    else:\n",
    "        return sk"
   ]
  },
  {
   "cell_type": "code",
   "execution_count": 4,
   "metadata": {},
   "outputs": [
    {
     "data": {
      "image/png": "[encoded data removed]",
      "text/plain": [
       "<Figure size 1440x360 with 1 Axes>"
      ]
     },
     "metadata": {
      "needs_background": "light"
     },
     "output_type": "display_data"
    },
    {
     "data": {
      "text/plain": [
       "array([5, 5, 4, 3, 3])"
      ]
     },
     "execution_count": 4,
     "metadata": {},
     "output_type": "execute_result"
    }
   ],
   "source": [
    "seka = duok_skirstinį(size = 2000, miu = 170, sigma = 10)\n",
    "#mean(seka), std(seka)\n",
    "brėžk_skirstinį(seka)\n",
    "duok_skirstinį(size = 5, miu = 5, sigma = 2)"
   ]
  },
  {
   "cell_type": "code",
   "execution_count": 18,
   "metadata": {},
   "outputs": [],
   "source": [
    "def formulate_sqsum(X, mean):\n",
    "    return ' + '.join([f'({x}-{mean})^2' for x in X]) + '=' + ' + '.join([f'{round((x-mean)**2, 3)}' for x in X])\n",
    "   \n",
    "def formulate_sum(X):\n",
    "    return ' + '.join([f'({x})' for x in X])"
   ]
  },
  {
   "cell_type": "code",
   "execution_count": 19,
   "metadata": {},
   "outputs": [
    {
     "data": {
      "text/plain": [
       "'(3-3.8)^2 + (2-3.8)^2 + (5-3.8)^2 + (6-3.8)^2 + (7-3.8)^2 + (4-3.8)^2 + (2-3.8)^2 + (3-3.8)^2 + (0-3.8)^2 + (6-3.8)^2=0.64 + 3.24 + 1.44 + 4.84 + 10.24 + 0.04 + 3.24 + 0.64 + 14.44 + 4.84'"
      ]
     },
     "execution_count": 19,
     "metadata": {},
     "output_type": "execute_result"
    }
   ],
   "source": [
    "formulate_sqsum([3, 2, 5, 6, 7, 4, 2, 3, 0, 6], 3.8)"
   ]
  },
  {
   "cell_type": "code",
   "execution_count": 24,
   "metadata": {},
   "outputs": [
    {
     "data": {
      "text/plain": [
       "'(60-58.875)^2 + (56-58.875)^2 + (60-58.875)^2 + (55-58.875)^2 + (70-58.875)^2 + (55-58.875)^2 + (60-58.875)^2 + (55-58.875)^2=1.266 + 8.266 + 1.266 + 15.016 + 123.766 + 15.016 + 1.266 + 15.016'"
      ]
     },
     "execution_count": 24,
     "metadata": {},
     "output_type": "execute_result"
    }
   ],
   "source": [
    "formulate_sqsum([60, 56, 60, 55, 70, 55, 60, 55], 58.875)"
   ]
  },
  {
   "cell_type": "code",
   "execution_count": 21,
   "metadata": {},
   "outputs": [
    {
     "data": {
      "text/plain": [
       "82.0"
      ]
     },
     "execution_count": 21,
     "metadata": {},
     "output_type": "execute_result"
    }
   ],
   "source": [
    "np.mean([85, 80, 91, 87, 73, 75, 84, 86, 67, 79, 92, 78, 81, 90])"
   ]
  },
  {
   "cell_type": "code",
   "execution_count": null,
   "metadata": {},
   "outputs": [],
   "source": []
  }
 ],
 "metadata": {
  "kernelspec": {
   "display_name": "Python 3",
   "language": "python",
   "name": "python3"
  },
  "language_info": {
   "codemirror_mode": {
    "name": "ipython",
    "version": 3
   },
   "file_extension": ".py",
   "mimetype": "text/x-python",
   "name": "python",
   "nbconvert_exporter": "python",
   "pygments_lexer": "ipython3",
   "version": "3.8.3"
  }
 },
 "nbformat": 4,
 "nbformat_minor": 4
}
